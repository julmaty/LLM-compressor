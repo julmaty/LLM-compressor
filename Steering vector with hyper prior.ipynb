{
 "cells": [
  {
   "cell_type": "markdown",
   "metadata": {
    "id": "sN9tO2rbJQMu"
   },
   "source": [
    "# LLM-архиватор. Эксперименты hyper-prior для steering vector"
   ]
  },
  {
   "cell_type": "code",
   "execution_count": null,
   "metadata": {
    "id": "6JSO6I59QDzB"
   },
   "outputs": [],
   "source": [
    "import torch\n",
    "import numpy as np\n",
    "from transformers import AutoTokenizer, AutoModelForCausalLM\n",
    "from tqdm.notebook import tqdm\n",
    "import time\n",
    "import torch.optim as optim\n",
    "from torch.utils.data import Dataset, DataLoader\n",
    "import torch.nn as nn\n",
    "from sklearn.cluster import KMeans"
   ]
  },
  {
   "cell_type": "code",
   "execution_count": null,
   "metadata": {
    "id": "NVWTEW4oQaSw"
   },
   "outputs": [],
   "source": [
    "def clear_memory(var_names=None):\n",
    "    if var_names is None:\n",
    "        var_names = [\n",
    "            'model','tokenizer','enc','dec','logits','probs','inp','ctx',\n",
    "            'ids','recovered_ids','all_bits','all_original_ids'\n",
    "        ]\n",
    "    for var in var_names:\n",
    "        if var in globals():\n",
    "            del globals()[var]\n",
    "    gc.collect()\n",
    "    if torch.cuda.is_available():\n",
    "        torch.cuda.empty_cache()\n",
    "        torch.cuda.ipc_collect()"
   ]
  },
  {
   "cell_type": "markdown",
   "metadata": {
    "id": "_ikk0Q5gJeLU"
   },
   "source": [
    "## Общие и вспомогательные функции кодирования и декодирования"
   ]
  },
  {
   "cell_type": "code",
   "execution_count": null,
   "metadata": {
    "id": "huaRk10UQbP1"
   },
   "outputs": [],
   "source": [
    "def probs_to_cdf_int(prob, total=1 << 20):\n",
    "    cdf = np.cumsum(prob, dtype=np.float64)\n",
    "    cdf_int = np.floor(cdf * total).astype(np.int64)\n",
    "    cdf_int = np.maximum.accumulate(cdf_int)\n",
    "    cdf_int = np.concatenate(([0], cdf_int))\n",
    "    cdf_int[-1] = total\n",
    "    return cdf_int"
   ]
  },
  {
   "cell_type": "code",
   "execution_count": null,
   "metadata": {
    "id": "resdJwCkQe3Y"
   },
   "outputs": [],
   "source": [
    "class ArithmeticEncoder:\n",
    "    def __init__(self, precision=32):\n",
    "        self.precision = precision\n",
    "        self.half  = 1 << (precision - 1)\n",
    "        self.quarter = self.half >> 1\n",
    "        self.mask  = (1 << precision) - 1\n",
    "        self.low   = 0\n",
    "        self.high  = self.mask\n",
    "        self.pending = 0\n",
    "        self.out = []\n",
    "\n",
    "    def update(self, cdf_low, cdf_high, total):\n",
    "        rng = self.high - self.low + 1\n",
    "        self.high = self.low + (rng * cdf_high) // total - 1\n",
    "        self.low  = self.low + (rng * cdf_low)  // total\n",
    "\n",
    "        # renormalize\n",
    "        while True:\n",
    "            # E1: MSB equal\n",
    "            if self.high < self.half:\n",
    "                self._emit(0)\n",
    "            elif self.low >= self.half:\n",
    "                self._emit(1)\n",
    "                self.low  -= self.half\n",
    "                self.high -= self.half\n",
    "            # E3: underflow\n",
    "            elif self.low >= self.quarter and self.high < 3 * self.quarter:\n",
    "                self.pending += 1\n",
    "                self.low  -= self.quarter\n",
    "                self.high -= self.quarter\n",
    "            else:\n",
    "                break\n",
    "\n",
    "            # shift out\n",
    "            self.low   = (self.low   << 1) & self.mask\n",
    "            self.high  = ((self.high << 1) & self.mask) | 1\n",
    "\n",
    "    def _emit(self, bit):\n",
    "        self.out.append(bit)\n",
    "        for _ in range(self.pending):\n",
    "            self.out.append(1 - bit)\n",
    "        self.pending = 0\n",
    "\n",
    "    def finish(self):\n",
    "        self.pending += 1\n",
    "        if self.low < self.quarter:\n",
    "            self._emit(0)\n",
    "        else:\n",
    "            self._emit(1)\n",
    "        for _ in range(self.precision):\n",
    "            self.out.append((self.low >> (self.precision - 1)) & 1)\n",
    "            self.low = (self.low << 1) & self.mask"
   ]
  },
  {
   "cell_type": "code",
   "execution_count": null,
   "metadata": {
    "id": "yDZwoBL9QiXL"
   },
   "outputs": [],
   "source": [
    "class ArithmeticDecoder:\n",
    "    def __init__(self, bits, precision=32):\n",
    "        self.bits = bits\n",
    "        self.precision = precision\n",
    "        self.half  = 1 << (precision - 1)\n",
    "        self.quarter = self.half >> 1\n",
    "        self.mask  = (1 << precision) - 1\n",
    "\n",
    "        self.low   = 0\n",
    "        self.high  = self.mask\n",
    "        self.value = 0\n",
    "        self.idx   = 0\n",
    "        for _ in range(precision):\n",
    "            self.value = ((self.value << 1) & self.mask) | self._read()\n",
    "\n",
    "    def _read(self):\n",
    "        if self.idx < len(self.bits):\n",
    "            b = self.bits[self.idx]\n",
    "            self.idx += 1\n",
    "            return b\n",
    "        return 0\n",
    "\n",
    "    def decode(self, cdf_int, total):\n",
    "        # find symbol\n",
    "        rng = self.high - self.low + 1\n",
    "        scaled = ((self.value - self.low + 1) * total - 1) // rng\n",
    "        symbol = np.searchsorted(cdf_int, scaled, side='right') - 1\n",
    "\n",
    "        # narrow interval\n",
    "        c_lo, c_hi = cdf_int[symbol], cdf_int[symbol+1]\n",
    "        self.high = self.low + (rng * c_hi) // total - 1\n",
    "        self.low  = self.low + (rng * c_lo) // total\n",
    "\n",
    "        # renormalize\n",
    "        while True:\n",
    "            if self.high < self.half:\n",
    "                pass\n",
    "            elif self.low >= self.half:\n",
    "                self.value -= self.half\n",
    "                self.low   -= self.half\n",
    "                self.high  -= self.half\n",
    "            elif self.low >= self.quarter and self.high < 3 * self.quarter:\n",
    "                self.value -= self.quarter\n",
    "                self.low   -= self.quarter\n",
    "                self.high  -= self.quarter\n",
    "            else:\n",
    "                break\n",
    "\n",
    "            self.low   = (self.low   << 1) & self.mask\n",
    "            self.high  = ((self.high << 1) & self.mask) | 1\n",
    "            self.value = ((self.value << 1) & self.mask) | self._read()\n",
    "\n",
    "        return symbol"
   ]
  },
  {
   "cell_type": "code",
   "execution_count": null,
   "metadata": {
    "id": "R378eBFQQl8N"
   },
   "outputs": [],
   "source": [
    "device = torch.device('cuda' if torch.cuda.is_available() else 'cpu')"
   ]
  },
  {
   "cell_type": "code",
   "execution_count": null,
   "metadata": {
    "id": "VUZA5tU-QpK3"
   },
   "outputs": [],
   "source": [
    "def load_model(model_name: str):\n",
    "    tokenizer = AutoTokenizer.from_pretrained(model_name)\n",
    "    model = AutoModelForCausalLM.from_pretrained(model_name)\n",
    "\n",
    "    model.eval()\n",
    "    model.to(device)\n",
    "\n",
    "    return tokenizer, model"
   ]
  },
  {
   "cell_type": "code",
   "execution_count": null,
   "metadata": {
    "id": "F2LyAaHATR1U"
   },
   "outputs": [],
   "source": [
    "def get_data(size: int, tokenizer, path: str = 'enwik8') -> list[int]:\n",
    "    with open(path, 'rb') as f:\n",
    "        data = f.read(size)\n",
    "    text = data.decode('latin-1')\n",
    "    return data"
   ]
  },
  {
   "cell_type": "code",
   "execution_count": null,
   "metadata": {
    "id": "CArBwtzvRsM9"
   },
   "outputs": [],
   "source": [
    "class TextChunkDataset(Dataset):\n",
    "    def __init__(self, path, chunk_size, tokenizer, max_bytes=None):\n",
    "        raw = open(path, 'rb').read()\n",
    "        if max_bytes:\n",
    "            raw = raw[:max_bytes]\n",
    "        self.chunks = []\n",
    "        for i in range(0, len(raw), chunk_size):\n",
    "            text = raw[i:i+chunk_size].decode('latin-1', errors='ignore')\n",
    "            ids  = tokenizer.encode(text, add_special_tokens=False)\n",
    "            if len(ids) > 1:\n",
    "                self.chunks.append(ids)\n",
    "\n",
    "    def __len__(self):\n",
    "        return len(self.chunks)\n",
    "\n",
    "    def __getitem__(self, idx):\n",
    "        return torch.tensor(self.chunks[idx], dtype=torch.long)"
   ]
  },
  {
   "cell_type": "code",
   "execution_count": null,
   "metadata": {
    "id": "np7z1UDqRsYD"
   },
   "outputs": [],
   "source": [
    "def create_data_loader(\n",
    "    tokenizer,\n",
    "    chunk_size: int,\n",
    "    max_bytes: int\n",
    "):\n",
    "    dataset = TextChunkDataset('enwik8', chunk_size, tokenizer, max_bytes=max_bytes)\n",
    "    loader = DataLoader(dataset, batch_size=1, shuffle=True)\n",
    "    return dataset, loader"
   ]
  },
  {
   "cell_type": "markdown",
   "metadata": {
    "id": "psKb2RfHJkF4"
   },
   "source": [
    "## Обучение soft-prompt"
   ]
  },
  {
   "cell_type": "code",
   "execution_count": null,
   "metadata": {
    "id": "AH_uDx8XSSgS"
   },
   "outputs": [],
   "source": [
    "def create_soft_prompt(n_soft: int, model):\n",
    "    H = model.config.hidden_size\n",
    "    soft_prompt = nn.Parameter(torch.randn(n_soft, H, device=device))\n",
    "    return soft_prompt"
   ]
  },
  {
   "cell_type": "code",
   "execution_count": null,
   "metadata": {
    "id": "8zMQGnowRshs"
   },
   "outputs": [],
   "source": [
    "def train_soft_prompt(\n",
    "    loader,\n",
    "    model,\n",
    "    soft_prompt: torch.nn.Parameter,\n",
    "    optimizer,\n",
    "    epochs: int\n",
    "):\n",
    "    n_soft = soft_prompt.size(0)\n",
    "\n",
    "    for epoch in range(1, epochs + 1):\n",
    "        total_loss = 0.0\n",
    "        for batch in tqdm(loader, desc=f\"Epoch {epoch}\"):\n",
    "            ids = batch[0].to(device)\n",
    "            L = ids.size(0)\n",
    "            if L < 2:\n",
    "                continue\n",
    "\n",
    "            optimizer.zero_grad()\n",
    "\n",
    "            embeds = model.get_input_embeddings()(ids.unsqueeze(0))\n",
    "            sp     = soft_prompt.unsqueeze(0)\n",
    "            inp_e  = torch.cat([sp, embeds], dim=1)\n",
    "            attn   = torch.ones(inp_e.shape[:2], device=device)\n",
    "\n",
    "            labels = torch.full((1, n_soft + L), -100, dtype=torch.long, device=device)\n",
    "            labels[0, n_soft:] = ids\n",
    "\n",
    "            out  = model(inputs_embeds=inp_e, attention_mask=attn, labels=labels)\n",
    "            loss = out.loss\n",
    "            loss.backward()\n",
    "            optimizer.step()\n",
    "\n",
    "            total_loss += loss.item()\n",
    "\n",
    "        avg = total_loss / len(loader)\n",
    "        print(f\"Epoch {epoch} done — avg loss: {avg:.6f}\")"
   ]
  },
  {
   "cell_type": "markdown",
   "metadata": {
    "id": "Z9qlgvn0JraM"
   },
   "source": [
    "## Кодирование и декодирование с soft-prompt"
   ]
  },
  {
   "cell_type": "code",
   "execution_count": null,
   "metadata": {
    "id": "VVLcU2HWRspj"
   },
   "outputs": [],
   "source": [
    "def encode_with_soft_prompt(\n",
    "    dataset,\n",
    "    model,\n",
    "    soft_prompt: torch.nn.Parameter,\n",
    "    total: int = 1 << 30\n",
    "):\n",
    "    chunk_data = []\n",
    "    start_time = time.perf_counter()\n",
    "    max_pe = model.config.max_position_embeddings\n",
    "    n_soft = soft_prompt.shape[0]\n",
    "\n",
    "    for ids in tqdm(dataset, desc=\"Encoding chunks\"):\n",
    "        ids = ids.to(device)\n",
    "        enc = ArithmeticEncoder()\n",
    "        sp = soft_prompt.unsqueeze(0)\n",
    "\n",
    "        for i in tqdm(range(1, ids.size(0)), desc='  Tokens in chunk', leave=False):\n",
    "            hist = ids[max(0, i - (max_pe - n_soft)):i].unsqueeze(0)\n",
    "            embeds = model.get_input_embeddings()(hist)\n",
    "            inp_emb = torch.cat([sp, embeds], dim=1)\n",
    "            attn_mask = torch.ones(inp_emb.shape[:2], device=device)\n",
    "\n",
    "            with torch.no_grad():\n",
    "                out = model(inputs_embeds=inp_emb, attention_mask=attn_mask)\n",
    "            logits = out.logits[0, -1]\n",
    "            probs = torch.softmax(logits, dim=-1).cpu().numpy()\n",
    "\n",
    "            cdf = probs_to_cdf_int(probs, total)\n",
    "            token_id = ids[i].item()\n",
    "            enc.update(cdf[token_id], cdf[token_id + 1], total)\n",
    "\n",
    "        enc.finish()\n",
    "        chunk_data.append({\n",
    "            'ids': ids.cpu(),\n",
    "            'bits': enc.out\n",
    "        })\n",
    "\n",
    "    encoding_time = time.perf_counter() - start_time\n",
    "    print(f\"Encoding done in {encoding_time:.2f}s\")\n",
    "    return chunk_data"
   ]
  },
  {
   "cell_type": "code",
   "execution_count": null,
   "metadata": {
    "id": "tjd7qzBaRtc0"
   },
   "outputs": [],
   "source": [
    "def decode_with_soft_prompt(\n",
    "    chunk_data,\n",
    "    model,\n",
    "    soft_prompt: torch.nn.Parameter,\n",
    "    total: int = 1 << 30\n",
    "):\n",
    "    start_time = time.perf_counter()\n",
    "    all_rec = []\n",
    "    max_pe = model.config.max_position_embeddings\n",
    "    n_soft = soft_prompt.shape[0]\n",
    "    sp = soft_prompt.unsqueeze(0)\n",
    "\n",
    "    for entry in tqdm(chunk_data, desc=\"Decoding chunks\"):\n",
    "        ids  = entry['ids']\n",
    "        bits = entry['bits']\n",
    "        dec  = ArithmeticDecoder(bits)\n",
    "\n",
    "        rec = [ids[0].item() if hasattr(ids[0], 'item') else ids[0]]\n",
    "        for i in tqdm(range(1, len(ids)), desc='  Tokens in chunk', leave=False):\n",
    "            hist = rec[max(0, i - (max_pe - n_soft)):i]\n",
    "            input_ids = torch.tensor(hist, dtype=torch.long, device=device).unsqueeze(0)\n",
    "            embeds = model.get_input_embeddings()(input_ids)\n",
    "            inp_emb = torch.cat([sp, embeds], dim=1)\n",
    "            attn_mask = torch.ones(inp_emb.shape[:2], device=device)\n",
    "\n",
    "            with torch.no_grad():\n",
    "                out = model(inputs_embeds=inp_emb, attention_mask=attn_mask)\n",
    "            logits = out.logits[0, -1]\n",
    "            probs  = torch.softmax(logits, dim=-1).cpu().numpy()\n",
    "            cdf    = probs_to_cdf_int(probs, total)\n",
    "            rec.append(dec.decode(cdf, total))\n",
    "\n",
    "        all_rec.extend(rec)\n",
    "\n",
    "    decoding_time = time.perf_counter() - start_time\n",
    "    print(f\"Decoding done in {decoding_time:.2f}s\")\n",
    "    return all_rec"
   ]
  },
  {
   "cell_type": "markdown",
   "metadata": {
    "id": "_hMPfkQxJz2z"
   },
   "source": [
    "## Hyper prior"
   ]
  },
  {
   "cell_type": "markdown",
   "metadata": {
    "id": "hJzMvfcVJ6Ii"
   },
   "source": [
    "### Гауссов гипер‑приор"
   ]
  },
  {
   "cell_type": "code",
   "execution_count": null,
   "metadata": {
    "id": "pOlhLZT3dHWU"
   },
   "outputs": [],
   "source": [
    "def gaussian_hyper_prior(\n",
    "    sigma: float = 1.0,\n",
    "    c_min: float = -5.0,\n",
    "    c_max: float = 5.0,\n",
    "    n_bins: int = 256,\n",
    "    total_prior: int = 1 << 30\n",
    "):\n",
    "    delta = (c_max - c_min) / n_bins\n",
    "    # Центры бинов\n",
    "    bin_centers = np.linspace(c_min + delta/2, c_max - delta/2, n_bins)\n",
    "\n",
    "    # Вычисляем PMF гауссиана на центрах бинов\n",
    "    prior_pmf = np.exp(-0.5 * (bin_centers / sigma)**2) / (sigma * np.sqrt(2 * np.pi))\n",
    "    prior_pmf /= prior_pmf.sum()\n",
    "\n",
    "    # Интегрируем PMF в целочисленный CDF\n",
    "    cdf = np.floor(np.cumsum(prior_pmf) * total_prior).astype(np.int64)\n",
    "    prior_cdf_int = np.concatenate(([0], np.maximum.accumulate(cdf)))\n",
    "    prior_cdf_int[-1] = total_prior\n",
    "\n",
    "    return prior_cdf_int, delta, c_min, prior_pmf"
   ]
  },
  {
   "cell_type": "code",
   "execution_count": null,
   "metadata": {
    "id": "g4XltnuSc1TT"
   },
   "outputs": [],
   "source": [
    "def quantize_c(c_tensor, c_min):\n",
    "    arr = c_tensor.detach().cpu().numpy().flatten()\n",
    "    idx = np.clip(((arr - c_min)/delta).round().astype(int), 0, 255)\n",
    "    return idx\n",
    "\n",
    "def dequantize_c(idx, shape, c_min):\n",
    "    centers = (np.arange(256) + 0.5) * delta + c_min\n",
    "    return torch.tensor(centers[idx].reshape(shape), dtype=torch.float32, device=device)"
   ]
  },
  {
   "cell_type": "code",
   "execution_count": null,
   "metadata": {
    "id": "z9WiSRhSdiba"
   },
   "outputs": [],
   "source": [
    "def encode_soft_prompt(soft_prompt, prior_cdf_int, c_min, total_prior = 1 << 30):\n",
    "    # Квантизуем значения soft_prompt в индексы бинов\n",
    "    c_idx = quantize_c(soft_prompt, c_min)\n",
    "\n",
    "    enc = ArithmeticEncoder()\n",
    "    for s in c_idx:\n",
    "        lo = prior_cdf_int[s]\n",
    "        hi = prior_cdf_int[s + 1]\n",
    "        enc.update(lo, hi, total_prior)\n",
    "    enc.finish()\n",
    "\n",
    "    return enc.out"
   ]
  },
  {
   "cell_type": "code",
   "execution_count": null,
   "metadata": {
    "id": "E-qohK9ceKdP"
   },
   "outputs": [],
   "source": [
    "def decode_soft_prompt(\n",
    "    c_bits: bytes,\n",
    "    prior_cdf_int: np.ndarray,\n",
    "    shape: tuple[int, ...],\n",
    "    c_min,\n",
    "    total_prior: int = 1 << 30\n",
    "):\n",
    "    dec = ArithmeticDecoder(c_bits)\n",
    "    n_elem = int(np.prod(shape))\n",
    "    rec_idx = [dec.decode(prior_cdf_int, total_prior) for _ in range(n_elem)]\n",
    "    rec_idx = np.array(rec_idx, dtype=np.int64)\n",
    "    soft_prompt_rec = dequantize_c(rec_idx, shape, c_min)\n",
    "    return soft_prompt_rec"
   ]
  },
  {
   "cell_type": "code",
   "execution_count": null,
   "metadata": {
    "id": "SHnMQ2tMQwVZ"
   },
   "outputs": [],
   "source": [
    "def compare_sequences(orig, dec):\n",
    "    for k, (o, d) in enumerate(zip(orig, dec)):\n",
    "        if o != d:\n",
    "            print(f\"❌  Расхождение на позиции {k}: orig={o}  decoded={d}\")\n",
    "            return\n",
    "    if len(orig) != len(dec):\n",
    "        print(f\"❌  Длины списков отличаются: orig={len(orig)}  decoded={len(dec)}\")\n",
    "        return\n",
    "    print(\"✅  Совпадают полностью!\")"
   ]
  },
  {
   "cell_type": "code",
   "execution_count": null,
   "metadata": {
    "id": "fStdlkAHQ3Bh"
   },
   "outputs": [],
   "source": [
    "def compression_stats(data: bytes, enc_out: bytes):\n",
    "    original_bits = len(data) * 8\n",
    "    compressed_bits = len(enc_out)\n",
    "    ratio = compressed_bits / original_bits\n",
    "\n",
    "    print(f\"Исходный размер:   {original_bits} бит\")\n",
    "    print(f\"Размер после сжатия: {compressed_bits} бит\")\n",
    "    print(f\"Коэффициент сжатия: {ratio:.4f}\")"
   ]
  },
  {
   "cell_type": "code",
   "execution_count": null,
   "metadata": {
    "id": "OXzZdz6AmU-q"
   },
   "outputs": [],
   "source": [
    "def evaluate_steering_coding(\n",
    "    soft_prompt: torch.Tensor,\n",
    "    soft_prompt_rec: torch.Tensor,\n",
    "    prior_pmf: np.ndarray,\n",
    "    c_bits: bytes\n",
    "):\n",
    "    num_dims = soft_prompt.numel()\n",
    "    bits_used = len(c_bits)\n",
    "    bits_per_dim = bits_used / num_dims\n",
    "\n",
    "    pmf_pos = prior_pmf[prior_pmf > 0]\n",
    "    H_coord = -np.sum(pmf_pos * np.log2(pmf_pos))\n",
    "    H_total = H_coord * num_dims\n",
    "\n",
    "    rec = torch.as_tensor(soft_prompt_rec,\n",
    "                         device=soft_prompt.device,\n",
    "                         dtype=soft_prompt.dtype)\n",
    "    mse = torch.mean((soft_prompt - rec) ** 2).item()\n",
    "\n",
    "    original_bits = num_dims * 32\n",
    "    comp_ratio = bits_used / original_bits\n",
    "\n",
    "    print(f\"Число координат steering‑вектора: {num_dims}\")\n",
    "    print(f\"Битов использовано для кодирования: {bits_used}\")\n",
    "    print(f\"Битов на координату: {bits_per_dim:.4f}\")\n",
    "    print(f\"Теоретическая энтропия на координату: {H_coord:.4f} бит, всего ≈{H_total:.2f} бит\")\n",
    "    print(f\"MSE: {mse:.6e}\")\n",
    "    print(f\"Коэффициент компрессии steering‑вектора: {comp_ratio:.4f}\")"
   ]
  },
  {
   "cell_type": "code",
   "execution_count": null,
   "metadata": {
    "id": "TB-xOc8NQ39C"
   },
   "outputs": [],
   "source": [
    "def decode_text_from_ids(ids, tokenizer) -> str:\n",
    "    return tokenizer.decode(\n",
    "        ids,\n",
    "        clean_up_tokenization_spaces=False,\n",
    "        skip_special_tokens=False\n",
    "    )"
   ]
  },
  {
   "cell_type": "code",
   "execution_count": null,
   "metadata": {
    "id": "xhPWDpCkQ7bQ"
   },
   "outputs": [],
   "source": [
    "tokenizer, model = load_model('EleutherAI/pythia-70m')"
   ]
  },
  {
   "cell_type": "code",
   "execution_count": null,
   "metadata": {
    "id": "k4D6bmcaRAbf"
   },
   "outputs": [],
   "source": [
    "soft_prompt = create_soft_prompt(200, model)"
   ]
  },
  {
   "cell_type": "code",
   "execution_count": null,
   "metadata": {
    "id": "8EcvLNpzTTkK"
   },
   "outputs": [],
   "source": [
    "data = get_data(50000, tokenizer)"
   ]
  },
  {
   "cell_type": "code",
   "execution_count": null,
   "metadata": {
    "id": "tJsLAhUcRDdj"
   },
   "outputs": [],
   "source": [
    "dataset, loader = create_data_loader(tokenizer, chunk_size=2000, max_bytes=50000)"
   ]
  },
  {
   "cell_type": "code",
   "execution_count": null,
   "metadata": {
    "id": "ihgGfSEqSV0N"
   },
   "outputs": [],
   "source": [
    "model.train()\n",
    "optimizer = torch.optim.Adam([soft_prompt], lr=5e-4)"
   ]
  },
  {
   "cell_type": "code",
   "execution_count": null,
   "metadata": {
    "colab": {
     "base_uri": "https://localhost:8080/",
     "height": 1000,
     "referenced_widgets": [
      "22fd9bc578fa44ac852a6433fc3bad30",
      "6d44f1f54f0a462b8dafc418ef7dd5e3",
      "ee86535e8dc14657897abc5d738cebd5",
      "e5dcdbbb171e4ed5832832be2fadacf4",
      "8c3a6576cfa9481582b7e3400eaba6c5",
      "fce5fdfbe4b34389a651ea1e2b32da97",
      "cbc5434e6ce5435fbad0d3604890bd63",
      "38d9679027e24709b046708faae1ff07",
      "653f0e600d8247d0a1b58c7a4f8c6a74",
      "1ee96cf0a21d4b858e314e8173fc3e49",
      "8dca0faf2f5649a18826ea326ed1bbec",
      "eab52a9aa1f3483cbfc1069f9be627bf",
      "ad1fc22863df4aca930eccccad0c749f",
      "329e7ffe26bd4a1eb853cfb76115c131",
      "4a9fc996ddb648ab8b57ebbfd76b53bb",
      "1fc13347b6f04a2ab6cc917a0a21ca8a",
      "c1e329b46d2c49ffa5ff856260dffeb5",
      "3355157c88d945058150297d07514135",
      "0cecb1a1c20e409486843d0d55e32e01",
      "0a2f88fab8774bc1a3f834d7d7595f34",
      "1dbc7f78feda4bbda55523fa0ff1e514",
      "c793db359982490c95df0651cf4fcba8",
      "50193c4db74e443da6468ffbefd0be4e",
      "e9a15fa155a5486a924e9f057c55ee22",
      "c61cd3b0f65844b395b8ed17e8628d4b",
      "6175d9137ab54a4295ddba7f0c73ad57",
      "f583914fad1949e4868f3ce2a7584396",
      "6a95a341f1104324ba76bb8df8a11ccc",
      "dd331350384e45289b56e6c4cc715cff",
      "9f478cf0bcf8428886592b52c195888f",
      "1baf1a94a66341a09a854cb335facfa7",
      "66157fdd605747d9936e8149e548edf5",
      "0f4b2e983367452da3c029323ef0c779",
      "3bca2ad31f3b45f38afaf38efb5928c4",
      "9a67a3c7b83d4d6db7aee4e41d2c32e2",
      "fa17e9da1db24a0bbcd80d034bef3c01",
      "7e64f59e380e42148742cb9937b3ab8b",
      "9a805e9c15c2471a93e066d23ad1983f",
      "a57b39ccf68347bc9ac3b09da2160194",
      "3dea3db95bff43249beba2ae1a36947c",
      "93eded1f871d4807ad6c0a9967ec0ab8",
      "fb60f104e0f4454ca10c2e0a1ee3deff",
      "93277f3d95d143658f548a5947c544dc",
      "8ac69b12251941d7980002d5e5fb5af9",
      "0d838f877a9c4ea2ba96cb6328198268",
      "e5bb3127d78c4c04ab776b96d8591af2",
      "8beede3845d34aeeb716c99289c3d49d",
      "443b4a5c959347ffb3ccfd9f69b2aaf8",
      "2697fe4bfd8042fca126b6685d65d02c",
      "386a6fda41484900aac8facb58f3e466",
      "5144ed4ba9f44caeaba92c117872fc18",
      "06fee987386e4644a3660d2bc0eef161",
      "806de4612cb34940bff8292fcc0a832c",
      "9abf54664a8040a8854025dc6b14aa9a",
      "e4aa47eee6734118b22a661df67ed4f6",
      "f864690a99024730a7e033f1e62e6c1d",
      "b05e604bed7146d79e429a3a00272a36",
      "e2fe5150357842dbbec85f21551ba330",
      "e68c2b7fc925405a8ceca79856af55f6",
      "cf32ff53e24d4e4c9cc605186c26f8a8",
      "222492977c654f3c9083b33fa460e733",
      "d750d6054bec41a1988f45ec1de2c693",
      "f5d6bd0130a04ec78e560f23ecaf9181",
      "9c77fa37ac664578b910be58c09c2330",
      "56f713a151b0461983e4f9858014fbea",
      "5aa530e69c8f48a49687c9e2f4380b43",
      "a4663cebea384922b97e1a578543bee3",
      "7abf8d56d6f7472fbcf0216bd6c2456d",
      "8b4e51b87f6d4658a40a764860e445e8",
      "1cbaee0922934675a8165a6a1181dcea",
      "c24a02dcfd1e4d81aacdecaba137fbe1",
      "9b56edd606a14e71be5a5de514a04da2",
      "6f7c9f44ce9343be9a8549130502c07a",
      "b83f65446e8143d28d1af5e5b46a8d5c",
      "1987d31456004072821ee3e580edcbce",
      "6ab5843d92ec47208badf700fd6bcf17",
      "18f4cfbae0d0415789b145709ddc73a9",
      "8eadbc7e7587412193aa609af9f1ecf0",
      "f698308727804248a8b93cd08099bea0",
      "b2ba672e3ca44cd59bcffd7a1ffb7e8e",
      "3e22deaedc654c99ad4e7681d8fa3424",
      "a08c7cc178b7444d98613c975856f6ac",
      "4cf674c436af40f99ba688658a1cf236",
      "6cdd2f8cccb449a5a1d9d96fdc6cb39f",
      "8d34425c249b438ea86695ae7dc65e61",
      "66c8d138980e49d3b123ec57d74d37ae",
      "6a64632c67c14135af1c0e760e200758",
      "564d937b2ccb47939d62acb38c8624b9",
      "fe6ab2438b214c008744e4d6d9b2b0d6",
      "94c9b945607340499a1dbdff39b2c198",
      "f3b620a717694312b213e75c2cb80eb8",
      "bb7a5b1c14284fc2a9d7c5af81ea578c",
      "bcdd76cab1374b9a8381c74b43d253eb",
      "c8ff6ad4e35d44848d5c90ee6a63dc28",
      "d0aae153da96472f8847196d6fe655ac",
      "b48926d962b644c6a753918f4768f7d3",
      "485bc384996d4912a67221c90fc4ded3",
      "40712b84b44f4efa9c872b243682a01f",
      "df4b6824d4d045c2bc8b1a893755bc29",
      "5097f309468e4ffeafd4758c7e4f433b",
      "64cc5f79e277459d8f89e747f498c28d",
      "b42fc946b3964fb1bba54a1a211156e3",
      "ba9bf6b054e54307a7ca3fd26a63d17c",
      "0c4a246c9dac42dc8a3956a21ed0e9b4",
      "f7aea1739c044341a5deaf43a45e57e9",
      "f235e3c93ed64eb58309a032608bcd8b",
      "e88da6602471457a83ebe5992a3e3b93",
      "ba0377c45d804e7e84cdf4e57508ed75",
      "1cd1a1a104dc4f1f8ee3682b7ecf2003",
      "367f94eb89ec4be4b2d603281c7ce0e5",
      "2cb09310580e45bdac7d10d80e331090",
      "37daef0966a34d49ac210d6f80a310ef",
      "8f56b9de50cc469eb488b37fbf787941",
      "4c674a92ec6a4944badae31afca0c7cc",
      "123599a28197403195823c3a89383d2e",
      "80665abdd863489e91d34f263b49a0df",
      "3f6f777509b1447bac439d95c91fae00",
      "39fa248be83741f9ad1c824eb231addc",
      "3e586c86393a489392f1c54172231ea5",
      "2fccf44af9be404c9f0521711a9092f5",
      "c3bd6824bb224a588f7f45f17904e452",
      "a4888e4c11e143dc9646cd86693d3cc9",
      "a1c9627e35354e2bad41661858d1a084",
      "6a2124ee20b543058d81e11f060c1cb0",
      "55395c98e8f3438b8c4f21346a5bca12",
      "ba560f0e062c40378b67599680d3aca9",
      "f17e8b0d2f074159bba16adefc8239a9",
      "b5d7a3f615b44aadb8fadd49fbeba66f",
      "2ccd6bfb0cc14cd18854225ecb6bb11a",
      "b847175c04da4033b4cb543ccd053576",
      "33f0fd0048ef4f6a8c8bd0479c40e1c7",
      "141c3656e38342b7be5c77d863694688",
      "d6f092ca9a8f4f4ebb287b91b6d996db",
      "198c10b99ead4c91a68d74b0eeddae24",
      "00738a29cf044f0a9e260da868879e36",
      "21b133e2fdd94954979131f6835142e8",
      "d7cb7ed3c0e8451681a482995f226ea9",
      "182584769afd4d0f852638b3cd6f2091",
      "d3a3b13624364ab090608b60f73ceef0",
      "c674e3ca32274d279bfd9a15ecbb4ee1",
      "d801f654e349476f81dcaf38662263ca",
      "1cd61103837649ab98e71c88c52aa02e",
      "32d109cfe5284ee79f75c7aa88c1edd3",
      "fb227d844ba04853a175badab3a47ef3",
      "770921a93a2647a2a7372b65bb5a39f1",
      "4f7a4fbdc9bf44f4b215ddef2de3b3b6",
      "7a361eb241b14252850eff2cd22f12af",
      "a4406d16770648899f668a557d992683",
      "81f076d77d094ffbb11ecb5527909bcc",
      "a289ef6cb070414ea349e857d719309b",
      "f0ba02dc20554a0298a9168d1944f8ec",
      "14cd61ec250d42a3bcc74e4f19d1c0f8",
      "571fb8c0ddcb4dc5a8d3207babfd0465",
      "05e7c66191b14fa9a2beffbe2658c795",
      "8c129366620346d9b22c351be5713f30",
      "487b34514fd3484c9286daa4b665aa43",
      "59f1c8fb8bf04106ad1e14874b7b8151",
      "251e08a93d0346e9b875638fa9007407",
      "3a89376821bf42d698835f9a3888a09b",
      "4d70ea92d9894e72be5747cb1a4af2ff",
      "a906b4d7f44b458b91d8e49013bbe7c9",
      "c5c840b577bb43e7a1a9c2be25e3cf80",
      "c6f75a8ea95d4cfaba828428f3bd0d6f",
      "396cea8283fd4e42a252dfb70af8f6bd",
      "15a95e43b21749b9880d5516f647e79c",
      "028108b6791e42b39e7a618919026223",
      "dae7b5d32e8a4718893225f8d8ada852",
      "469ad77d98e041d3a5c6dcbec02d0390",
      "584bfbbc66bb413e800c1688125dc9e9",
      "cb8fbb16d02e4326adb49a850bfe6e4d",
      "5c7ca1b2ed9240c3840d5dd6fa2892e9",
      "117f47e498954eb7aa3aece6779feb5a",
      "a1cf2bedf2fd4df68805cd03d04cda07",
      "b3cc263d7fa242cc90f0d7908a0679f2",
      "bb084fbb2eb3407b8c10af1f0c8cf059",
      "e344c9e967084a81a68ac6bafcdc88b6",
      "9a54a8cc93ad48f8b9f8e779c51d701d",
      "dcf97ef257e14209b264a1539d31b929",
      "ded900ec04b9463590dc22a0954dfdb0",
      "6bbc33a836a34edea8cee941b8db0440",
      "3aea57aee726468690d72b61f959702b",
      "45a8a2e30fe44e13bdd66f29c36ad283",
      "0e5a0acec9d34ce7a41773a9190dd3c3",
      "000d34ebc0c94d678beec6c7993bcdda",
      "935b85d380c64aa39f37d7a8d667154b",
      "bd86cdb312d04b759bd8e74cf62974b6",
      "0fa1279664764a64b08a63d252606f7a",
      "6d22416238e4417c97e6b3c24320632d",
      "f5a59de51b2c4da6a3db7d763bc359e1",
      "6f738ec6ca2a433f8e82ec3f86708fdd",
      "5fa44223b99b4dc8adef4d94eafe3a50",
      "1edfe61942104ac0bfcba2ca54f7a39f",
      "39d82f2ca6ab4d52985f19a7dfceeba1",
      "c014b73219c84443bd081c25af476f52",
      "ebc50353172a4d4e83632dfdd0cd5816",
      "436d25344806449e9a1e4bbc14d5076e",
      "6f9385440b56457f90b27daea03ba2b5",
      "d03153cc73ef4df88a3a89bb7e140208",
      "6a4233de02fb4de0b432149e385263cf",
      "7f46d04b132e4f8b9cd6ef53c7641330",
      "a65e7782e726418aab6e7bdc5cb14b87",
      "ccfa023d9a954dd084a9025adc87b64b",
      "0a322283cbc64fe694e99744dde2e8d8",
      "b1e60263aa434e6e8752b42c6cfbb4e1",
      "c9ed95ec8ed74f91917704da037df767",
      "2c9dedf8a98c41a5bce11aa42b650b48",
      "3456cf4908394c60baef96cfb4f6297a",
      "92150c3c37c049d9a4d802d371a8c45f",
      "f8faa85c5e29473c9863e8a8646b5370",
      "7a326f08dd3a4fa392ad61471fd96f83",
      "b4abd34fc97c47cab635a8b635fcb597",
      "0ba2d527133244ee954a864ba28a9c74",
      "36cd8bf357e0445b9de63621ea7a56fa",
      "3dac506e1c5e4a9d98fca555816d2d2b",
      "91df3e624a7244c4b7f80df1af9fa215",
      "190341e4f7964b0abdbb5974e456614b",
      "6b6434b6f72b4547ac8a4cb6bd670442",
      "8f46a9e488564c8097b3553b768f1298",
      "8fb01841b7044f25b7cdda43a61fc3b0",
      "a6a13fb9edb64684b16733a08b6958bc",
      "0804ee76301b4c1bbfc2b5c0f0a73fa9",
      "ca3e148f89994ff588307ee068e9d0e8",
      "29c2d54fb549484ea46b0bede894eb44",
      "2ea3341ca17c4708a4a9ccd87e1e7260",
      "13d2af64553e4d8494578dc0c5fd3e73",
      "970bbe61f1d6460481175e6e7dd20bec",
      "39ffd8ddd3da4e58a90f8ef47a7637a7",
      "5f19ce2551774b57993787a52a9e30e3",
      "47250bf4efaa45ec97d4031223e3a596",
      "0ce1c332030a48bb9a08786d079912b2",
      "024cb10076b444eb911fe191144ca3c4",
      "e6a74696b26944a3bd14304d002be54e",
      "272397009c0c4e06bad863a5a0d49a3f",
      "2aa8ae76cf0d4163afa427a80eaab209",
      "f65b847d87e84bd796865687671ddc6e",
      "7a636110e1934075be8deb50cc3244b7",
      "49f5220914f948479b28dca14fe04854",
      "e69f1ebd35ba41659557fa4aed3fd91a",
      "9bb2d01548df4f2e93f064a10f0cce4a",
      "cce9d33f28bf478188b27a35ee435f96",
      "e24f13eb60464552be0cd544529d12a1",
      "2928ba6359f04198ac6b44ec792ee4d5",
      "d14a47aa4f8d45aab92ec868329cd3fd",
      "0fbfaaed944449cdbe89dc744ac0e9cc",
      "1cc94c830a5b4dab94f29473bd991399",
      "4302b37094e4444f8e7d091c76f55cfd",
      "e5287db9a75c43438e3b36e4b89ac471",
      "17dddafef17e4388a23b6ae347192a8a",
      "ee7d320797bf4d188f0a69fce358ae6a",
      "959297a25ffc41e48a0d243c3faaf329",
      "0ae3156f23144b3c81cf87739022d8e5",
      "759bc7daa0d043a5839bef95777d2bf3",
      "dcb1eb2bf9834ff28d0a07609988715a",
      "378438a1e0384cc6ad08b28b9fdc3efc",
      "afd3d72fde104036bfb878fe880422a4",
      "a1f0b0fec1214753a0c411ed616d7b66",
      "61a1cf7e854245d8b48a3c5dd63c3bde",
      "7c5460c1a9df4e3bbe2d4f19d7f38ecd",
      "9688ecb20dea41b784754ab485d38917",
      "28a9f3c02d274c0d909227c32560eb6c",
      "821f2ed62a7d482885e25ffa48dd6e6d",
      "55cd92f6e9ba480b94104159e2f2ae12",
      "cb24ed0a7c654cf6bf128a85298abf99",
      "d16483760d2442df87aa8eecf03995d5",
      "602aae4c4adf4aebaa66d6da32860e60",
      "7fb5897c92fb43d0af807200d67e6775",
      "31811b5101c6491ab2b58069faef9328",
      "4a0cafb9eb7043e6ab118e85a24ee958",
      "a58b3953ea5b40f79649f9acb0db1fb1",
      "1d792f23f6f44c149dce3598e9248264",
      "55e2b54e85294c2d80c4231ee942ef2c",
      "afd5d8c6318d4f9dae89b870f8e2ab90",
      "ce14b55a039543bfb3f577f94be871c7",
      "1d8cf410a26240fbb09b8d8a5d7ea693",
      "079ece7a77b347f197e5465b86b106c4",
      "68bf4d7f85d84646ad650241118289e7",
      "dcc53005d4c84f21b0f4dfac192f2ce7",
      "0bfa179cee114dd481c867425399239e",
      "492062dba93441afad55f209fa5b9860",
      "28053795d88f46e4bb49fc287f5a2eca",
      "b67bd1daef48405dba2c38564daffcbf",
      "4bc1b556e1f9410ea2f457d6f7a33656",
      "53faa3fc3850475ca8a68d61c48d26ad",
      "e736ce66a05445faa44e62555419a0a9",
      "0e1db151f9cb4787bbd6d412de46c8b1",
      "37baf1a742624e18a7ce84f899f8025d",
      "11ee0db0282b4888aca79b125231b96d",
      "eae10fc1a129469dbaf0fea3b723120f",
      "0d4890ac8aae42d5bf292f06ac6a7272",
      "bf75c5b47f3b4a95902f4088275877ac",
      "1620bc0283e5483f940425217ddccd40",
      "5839ae7a546241d394dd157e7105ef09",
      "8098fefaa78b4db18579b1b89d0244d2",
      "21c6319cc79047d2846fbb5dad9c5af4",
      "429dbd98909c40848dd48ab1f664f69e",
      "da5ab4abaa8c4c1eaccc2660be6e334a",
      "475802ddb11c4ffdbf6cf6b94d7a803e",
      "da2aee34738c43cda45bf74403a8b5ef",
      "7f34148cc7294bdb8ed43bbaf6380350",
      "7a61350d2b714c7ea099d49bffecf9d9",
      "5e85f17fbff949d5a02361b7a768b7f3",
      "7bbd16c6c1b445ec996a49f9e37d5419",
      "73e86fddad34416b97dca330d43343c5",
      "bcbb340db25a427995781dbccf48ac03",
      "cd8d6ffa7ba544c884dea23ca7302cc8",
      "13077c2820b94ba79717adf82b327703",
      "bf9e718ef3d247ab97a8807381c752c8",
      "715a7806366b4b6d90948b2c2ad7ab2f",
      "9a8e9cbab3e9445285fb5d9d99e78968",
      "89a2782d8e804118941e9b08920497b2",
      "c3c984ed482243bf8622ee4d6b3a2a52",
      "27069fe196804deb96faf0ad61a16af8",
      "dd199765d2da4dd6b13546ecfee956ab",
      "4e2877e0b8a441df992772d14704fb8b",
      "f2773cd6331a44faa5d83d7bbea41851",
      "a00d607b39df4ac087713445a25a4229",
      "387f78e819464cddb328496241504623",
      "7e5c1929e4e34f8fab84462ff9eb5dae",
      "2e2f1ae057cb4e4293e6084c4dae0506",
      "38bea641f0984848badc6b6cd14d60fa",
      "9628b5fc3808469ea996c432b8d475ca",
      "899d0e12c3fd4c8ba7cac173f6f4f69b",
      "962615b1159145bea74a7b1b6c99d878",
      "2374e0ad241e43ac9c887a507de28c93",
      "35d379db2f8943868948f3b42519608b",
      "a33cee57a29d4522892e8675dec7f41c",
      "f5bde75ffbcc4b45906307322f6af5c1",
      "6e9fb62a29bf4a848a4863b32878c4af",
      "9cd4e073ca5c482ab05e86f12b2f5758",
      "d5e24a516f5a447e9a50a8c4fa73cff3",
      "fdaba7db15ce4694bfe29077e44dbdac",
      "80cc2fedc592489a84e025064eecfc1a",
      "c5c754bb2cde47ac9efb52434c6db578",
      "543f17aed0d240d292f5131022d4430f",
      "303e731002204735a0dedfa1d6969187",
      "cd8bdf855d934424b5455b3d21b4d97c",
      "ba405b002a7f4f2ab20819ec95ad1f32",
      "e63291c4c70e4b82b614bc00cea94eb6",
      "679c6db9ea1640dd93e08ef2b8010413",
      "330e2631079e4f9db9252eae802e41e5",
      "028960fc300a47b1b6042c2efe24fdab",
      "cb114ec6de53438b82b766cd8bc30959",
      "9f4802838bdd4b16b049586974bb1282",
      "832b8058c8084538b1c949a2b043513c",
      "d7544aea8ca04b59ad1cb675190bcbca",
      "e783a2cf2e204f5e919db01b2cd9ac00",
      "248c7bbf56754d33b8989ff82b80498a",
      "97920382de134fb4aed24eb458142ecf",
      "10557f2b6ee046b58ca4a43492ef08e3",
      "3f1bf726ea004d609ff2cd6577f46649",
      "44dd895ef5094a3999145bfa00d70f11",
      "c58042cecc0540219be3e614bf7c27f2",
      "5bcb07dcb1494140905a79de690bfccc",
      "3f2dc6226ebc4b78a76facf99bf208e0",
      "b51f3650bb5f48fc932a78dc96c580f9",
      "9552b5d8eefa435aa4866560423464d8",
      "1c38e466b2524e2694f0b08976041ade",
      "9c175296fc2f4fa28dd39c848c3a3cfb",
      "6fc04b3a9e774752a45f2c89b3dc4ce0",
      "e37198f93ed14e5f9d2e7ef4cf5b2467",
      "be88e3bc108949ba867217332366b5a9",
      "c988ccdabb0f47249ff96546d56487f8",
      "734e1bc97f2e4d4ba6c1bb1591da5b82",
      "8bee2e1bd71c41c1a81ddf1207398a02",
      "29f4e654f68946e7a3a694036f980521",
      "af74825020124bedabe4b34a619f42e0",
      "985fe825d2a84d09a75b7be1569a2fc2",
      "fa8964d353b146eab7b4851b9cb1f179",
      "4133cf12043b4af780af7eac1a441210",
      "e02479cb58be4e5e9dc5d626e8305aab",
      "227a90f9b292492f97b3fa183515baaa",
      "3810a43d2ef7409498a1c920217d4008",
      "ccf0b4b215154347becad476b6cbb07b",
      "fadb2471637144f2b3e906cf0450737e",
      "82ad09f163db457e90a1b15f4bf0fd85",
      "b324d71225cf4077b9aad8c6799bbba3",
      "0401bd17c96a4ea4a0f5538e51088c6d",
      "7a300ec8eb1445198077e44f23c8ee03",
      "267d170a055248c9a93139992b6d5e2b",
      "75fa9205b8174078bc35b160c6cd171a",
      "abd8a64f30814ca789646fad0c9655b9",
      "c73989e9a74f4516b2aec9bc406b8059",
      "764f540df96643ea876a98a6496fc810",
      "1ca767d72285464d92bce83591a86eb6",
      "d3e745aa384c44848126dd53c79ba1aa",
      "7f6a143d1d6a47f0ad1a403ce9988934",
      "a891309e994749d88a5dd09fa2675ef3",
      "6bc7f3d523a2402c82f9ea9f6ca62639",
      "38f446b79fb0477ea692d314a94862bc",
      "0229233d173d461784446c2790c2a57d",
      "a8e6171d92f34243be5199fadbf69490",
      "baf00145b85c4d6c8e55213910aaa82e",
      "e49b1a2f30cf48d699bbe0f441f4bb42",
      "5fae730ac4424db3bc85420f4f1cbd58",
      "9b6fceb4aefd460c8cbdbdaee9d59789",
      "f1b994075a5c4bc6a3e02ddcdac01383",
      "8ba1ab74335640d58f4616cff4712dcc",
      "d78b67ca4f72422b9bc3d9ad1534753a",
      "25bb05af0b7d43a992c1bdbe99069929",
      "a6ffefa4af3c4391988246d98522ae80",
      "0c9a5cca6ed2410a9046f9dce51ace2e",
      "89d520f9130b41d387d44bb72ddff9a2",
      "f84af969f2b94b768a007d6bf6139816",
      "956e48f2b71b4ba3886394b438d133e8",
      "d9a5bd4d1c274af89bcc4875a4ec90ae",
      "22bf75e4b9cb4b748fd9a5ecf94eb949",
      "660e02962cfa465791cb8c526d458d52",
      "bebf3259756743abbd038c49af36383e",
      "352bd69e60094296abf7676750c2db87",
      "32a94c9038a14feab96fa067befe8757",
      "012141ebbfca41c080c05d0d528c7a52",
      "546b04600b134c6383b76b985f9d0d28",
      "71a4ae3a95ea4903aecb0431fc303c1e",
      "f78e6d0a5a0243a1ad97ac2113c4af38",
      "1b3cd1edb23b4c169b53c937068b74e8",
      "d95d12d5e070456f96eb582deb67a120",
      "c1b79f2ad5e94214ae83e1a4e99bfdd1",
      "86d58bfca9164ed28ba569270f6ae1d1",
      "86ff2c3d89034829990c7e6c891e1d6b",
      "167fd081dd394d599f7c3b3256f4675d",
      "a80baf6a338c4a229efad73a123697a2",
      "1d2ed163fa1345579a7a4e6c05020fde",
      "e01521e06a414b79b03a7afbbf2f1c35",
      "f3b5331169aa49b9a6c41cbc12d766f4",
      "5451290863824cc5bdcfa33c832d7a72",
      "fc3ddf1099344f939fae92ae684ba5af",
      "482dfc41c2ea4eabaed56c11c6f2bb45",
      "cfaa8f41b09443fb85943450284ae783",
      "2ac71e09fc934f58af5b6fa702dce5c3",
      "fdc09d734c8c43b6ace0a57b967ca643",
      "032eeea942e9487588d08a70d1df4b24",
      "aab5e30af3274239a4090f6bbee162bb",
      "b4f4df088fe949c2b88e7e2f2720013b",
      "2458758c3a3d4d45b629ef3622553589",
      "0e5a8348abc7483cb11cda80edd52818",
      "beb7a2e11a7f445c8cd87771b5486ac3",
      "4adb66d03ec2449f8870adc4b6f09a13",
      "8f7d139dc4e747fdace9398531525c77",
      "151cf2be5b7d4cd1877ac38e826e5190",
      "f35767338577400fa0c539d514455f8a",
      "520be6fa959242ffaf1b5ed9a5eea004",
      "61b7ab89803b4b5eba98433c4ac5c988",
      "2724a964a3dd4a7f9feb6f04869d1e95",
      "122b1f512fec4f18af6f977884c6687a",
      "0bd1bfe0d0ac4474bd77774e96c9d13e",
      "d1bae86dbfe141bba3438b553ace2570",
      "c83e7d4758bb4ca09fd867168f61db48",
      "3f38ec2dc76747f4a1b29470af4e3a2d",
      "91837eed64ab4cec9ca679031eb83c14",
      "8d1d5bfef7004b86b57b002a1b73e004",
      "cd4416fe0b564a3aa46a96770f1553cd",
      "347c1e82b4784fb5ad41b0766369fd3c",
      "6656afd4e0b742789e8e4d82e2c482bc",
      "dd6c2d98796249d79d2d08f36395b81a",
      "7f8426616abd43039df0374832894133",
      "bf40a781ec4d4b58b1527f7339911ba6",
      "4c3d4517e07043ce97d66d49bc7c050e",
      "b62e802b7f2b41e8a62212afa83de34d",
      "fc1d022eef3846b181c5eac00fb95d08",
      "b054bd77fba747ddb9f0da01ba0f4200",
      "be0b168809ff4f9b96ee2831d8c1a3a7",
      "a7af5b4b68c14595bd8c8cb79f54f115",
      "35d27c79bfd74fd6bce19a66792b0052",
      "f0d056dcca18400ba5d49700d378f51d",
      "3da9e198e50f45839a7b99d1a49a85e5",
      "d78ff70cfff645898c94a03d7a8fd4d2",
      "d25c73af4d564b769de793f118302f58",
      "02f7da9bcfeb40eea46729367e2d8de7",
      "cba3ff9e4fa04909bd747e87fdb8acc6",
      "ed48ece72dee4d3f97b1ab44fc56115b",
      "1de81e2fe5af45acbdde8d475e788c5d",
      "71d0cea894884642a15a51982f7cb184",
      "3f8f046ea67840e2b50de132fecf7185",
      "38fa57604b224a6486f077df716c728b",
      "2ae03b9b161e4b56aaa678d3eb79f337",
      "6f4e1e7f8cd246519b60c41149291622",
      "87826ac0411d421592965150b464eb1a",
      "ea473f165fa54b479e1bc5bf4fb8e9a9",
      "fa938dafa7a04f91aa4047ff65d431a4",
      "d7003bb17a8d4f968c27a91783b49fcb",
      "62319bb8342841f0866679bcc6156784",
      "290c42d972514274afc59e5f9df2230e",
      "8e7badb42f6b4f2fa3c2344db8760064",
      "e1fb62fb36ad459cb126b28bd72baefa",
      "cfe64c780db345dea97eac3f1248755c",
      "ca76823ce3b54cdba8a89a8d127a94f1",
      "9a9b63ec694e4fa1b1c1220aeaa8da88",
      "409f3568b0564b0f824ef48fdaf7a19d",
      "66baffaee3df4d0590c38c1b0e0a45db",
      "359656fbc964454a965fadb907b4ec64",
      "8564795a22e340a6a6190d47e0fc1563",
      "c493dfeded1047f495967de90c28277b",
      "00d0b3dca8c842b38035b58b93d4ea0a",
      "b22881fa81e046dfb3c4f23cc54b5a5c",
      "e0a1f063f9b149fd8f386e0072e86d37",
      "a5151c7eed2345f0b7e643f8b2403eb3",
      "361398446edf452885e914c0120f1aed",
      "9e1ffd17d563418eaf33007a4f12899f",
      "d3d9d37cedf34a71b73b2443c5db7221",
      "bd3e1dc5c4f54e8e8ff30d5afbd83d1d",
      "848213720155404898c43ffb16632db1",
      "fccdbff34c2b45e4b345e57c411b27e8",
      "2112958464ca4838b51917caa0e0bc30",
      "ab386a0b0d574822bbedcecb02a487b7",
      "af5420de84bf4ba9ad82e8dd2db0d236",
      "d513042e268247c190b1be7d17b12e2e",
      "681536ad1ebd466ca3ceb0f7dcafbe9a",
      "db6badd356504323a6fdee5cf8a19f16",
      "652353351eef4aadb2b99562da7798ef",
      "ed29dcd52f634c1298c9a0a0862db060",
      "5c9b9141ea7a479387dfbd0ab23f5b7c",
      "f76d034307e940c2a34f1054661ed19f",
      "fa20f1f1f777463c9565dc2d4c1bce15",
      "ba8fb18de45a46e7a7cb400c7dff8c68",
      "573263ef3aa0420498f596e1a9b85b02",
      "e44d818ef4d9440d942c3f798a2958e0",
      "f7f0e2977155438aae93d068b5861e02",
      "035e5fdad9674bbca75988f037830b0e",
      "25d8f0f0ab164193a28cb391fab38ea3",
      "234237b7e18e4bdc821e6f2c5303f3bc",
      "7d110131ce764ae8a2f4534cd7e83740",
      "8bd67bdb67ab4205af6cc57b23eaf41b",
      "e16fafc3c5d84e78a46730b084238e35",
      "2989c20ddc2b46699ca657ccaf5650d7",
      "5517ffd025ff404c9369ed2b72ab1bd4",
      "78b5306aad324c608333972e8aa8d796",
      "d0363fc6efd947b5800aa05b53433392",
      "87b5b0275d134742b20db2d31243d8bd",
      "af571026d02f4aa9b53d2d223c311b85",
      "c1a5d2c3074349c989a164d607f0d49c",
      "d4eb5cb6ac6545dd9d7f76498883f575",
      "b2334206dd094e79aa5563648c947acf",
      "149c35e821724eddb6767ca2627813dc",
      "230955d7baac475085b8eadd991272e3",
      "2db6c13ce4e8498ab8a35d6940061664",
      "e49600e6d7894ec5954ad27b676bd475",
      "dfcb229ef6944abc922dc497d81838d6",
      "1a9ee98c10774c35a9f3bdac9a583508",
      "c93e0fb9f0b34d3caaa11e0eaf897971",
      "fff7985a9277460c87d6a7247f63dac2",
      "ffabaedb126046fc8daab53520255138",
      "c81b60e7edc64bf8a09fff58a4c73afe",
      "13244d23101849d58d705fad202ef1d8",
      "16cc284b8fa647f0a4cf0eb337aafcd1",
      "7a216d89f4f9426e9dd0e89fe661a5b6",
      "bc006903bb0f45a1bbaaf455668e8e81",
      "83380d5a0b6c430891137cd61d78e20c",
      "1efa1a9f32b444989dd10b67ca7f3b20",
      "9cd9bc81652a46aea1a74f41410994ce",
      "9a349552feb346b8af7dc5d19e518c7f",
      "0e09291635f64a9ea23510d01a1422b6",
      "6ea1e55052c24126a3b90c6c19763092",
      "318b9a995ce9490885de59990a686653",
      "c45c0f01c6174b3da592374163989720",
      "8a4ca367106f45a8b9e034e920f11a6c",
      "ba226c996525453e9a16218444c86c0d",
      "c33668f200f6433cac2d59d8a69e301b",
      "5299099086de45159e5d9f14d5642efc",
      "fc850780d2d44d4c92eca43b16abd438",
      "362c5861890248d8ab56d365a382ef6e",
      "e63e083485cb48c7a42f840c8ac34e34",
      "c33ceae214b8452994454c2643f6ef5a",
      "c867cbf549344ddfaada51f2071105e2",
      "825dde144cdc44ee9db29d37ce82070d",
      "51ccab0c02214019819e10e724acad25",
      "c82e4024a6044b34b9b5ab072f12a1b1",
      "8cf7fb2c0bc440cba4cdf521a70fd188",
      "b0f9d94a61604f25b8e923e06167ba89",
      "eeb55796774c43c7bc39d64fb9738dd0",
      "65c58b67f856470cb9b0ca37bb3f8123",
      "40aa669c54fc467aa3d7f1926b9605df",
      "bbb41e9ea63141f1b6ae4d9661fe20f7",
      "aeb288abef764e8194b57d4430dcd75f",
      "1945c497bb63407d82d91c4bc604f9d3",
      "254505ee278d49a583e3bdf9a0eed502",
      "a0649d06162740afb949027de1c3f956",
      "bcbe526d2bc940cc87e6aab2231a0f55",
      "f2a75f08a05b4600bf10b2fc4e0a4536",
      "1f49ac366fc74b10a408a0cfacc1b6c8",
      "30b27da0d64d4b9b9017be93923b61d4",
      "4333103b298e47178de61acc87298dc2",
      "32e430eb6ba54d0b8676657879601728",
      "900e88b19d54479f811fdfd59f5bef37",
      "619919257b6f4c219bd84a206ee43f02",
      "ec6557a429d7447fb69d3f2187a03931",
      "32165b5dc3564b50bf33bb6c2fc05538",
      "ae20f28de02a468299119313f0e0a4b3",
      "64262f637fe543c4b0d9997a5cefc578",
      "94c9f0bc90a64c40a6d513d50c8183bd",
      "2261635fe8814c5cb5eaa34f02572297",
      "3bee027067b0454689cb167ca37d14be",
      "ca450bb95fc64d9598e7aa821b1e14eb",
      "ecb13d5b97b84392818b35f028c37b2c",
      "3ee234ddf82e428ca9083ca2c23267a0",
      "9d18758723f64c1594680e6b92a432cf",
      "6a161667546c484f930319f706d2216f",
      "18fa645defe4482b8d9fbdd930dc8165",
      "34c7f9390c7f432dbb663ed26b45277f",
      "3bdbb22923a24e538c9976eb43095909",
      "15b0dae454bf414a8a6ae6ccf5eda4eb",
      "10c4fba3519b4ee487754fc970540dfa",
      "95aae49617104557a2c060347d8e149b",
      "37a7bd197ef9402b947d0f278fdd9e0b",
      "7db3303ca2ae42148c80da17d24b4289",
      "cca1aafa06a241308113ef53e94fd40a",
      "a86147356fa94b0bbdaf007f576589ec",
      "fe8e511860f949f8bb49f9214654e3ce",
      "6366ad95ccd146e0aba74ff9e5c83e29",
      "2241782ecd2844ed8067f26848dc14dd",
      "a051dabc253e4e46a9c6f5c1f8c60a66",
      "f28d5c8ca8d548459b14e2056ba8baa5",
      "b302ba0fbd3649b4bc93ba4100d4cf86",
      "be7817c48d7c4621a356280ef7114cc0",
      "59e7a682235c4e92acea038322826ba7",
      "1d6779f716584fdf97afd1d63a6f1120",
      "7807af985dfa4865b4427d5bed19e3a8",
      "0b6c9337c6184a8abb077c1d153c23bf",
      "884d88c684814c39924dce302b483f48",
      "c5e444b222094e57bfdae0f46de3452d",
      "4553a58ca3d6427f90ac42e37e54acc0",
      "22d74c6d9b184d949b6895dbfff56fc9",
      "cf03ec03bc7e4f5d82c1561da2d4578e",
      "9d2a485d833447a291c5e48b5b6ad3b1",
      "0ea2d16843da4f4186bc091575e88eba",
      "c4e79baa20b0440c96f5b67600c45d4e",
      "19a7eaaa2cdc47e4a86ca4feef3e369e",
      "dee695f1338543c692312a2c6b35bcb6",
      "b8fdc028cf4146139bde723d5f6f4312",
      "883c5657627b49839f282040ff91cae9",
      "f56456ac6ac64694ad224280695a8ddc",
      "6f487de9e65945e69423dc60ba392335",
      "ceae5938035a46d88d26dabb0f8226ca",
      "da41b7b39ddb4f4f8e336d7a16861ea3",
      "ec6c911465c44c23964e9c0223578e19",
      "93224559120d4717bec0e096ac5a9f77",
      "ea4861a0913b43f28c959c5095f478a1",
      "0a078caf3b5e48b69ba45d0fe74d2f7a",
      "21b7d8fe8665443e92e632e3c9843c9e",
      "a748cab31d584990aa816f6549210a95",
      "3c011a19f35a46fdae0d2bc844091ab4",
      "788e7f3494ba48fc8533acca9f58225f",
      "acec305ffd7842618aafeb1fa85065ef",
      "2edc11fea4dc46e8a98fc42510400d62",
      "c46f44b8b7c04f7f94e82e6c5bd86d75",
      "d6523e9b89ca44ada7b6e90891489b7d",
      "60a6602faf754d6986e1348e69337756",
      "e544bd26e092477e9735abfe91a87c34",
      "c85a9a158e0f45d6a9506803400e573e",
      "1c4f08cc0fa244dd8fd88e0ccd274def",
      "ea1bf9ae94c848b4803afa6c394dafcc",
      "128b219590b24ffea0567e6da696b30e",
      "e2bb9453267d4ea6ae3e468749ce04a1",
      "3c0a976f7b58438986924296d805bf80",
      "fb381828fea5439f92f6a4bc4f50b243",
      "e82d25cff2ee4c3b923c8444b2d4dfce",
      "2f1df90df85e4fb78d7976a596614e2e",
      "f4e049e46f6b49f2aa4fd2531eaa7d4b",
      "8a72b97b4068469cb6cf5add672ec753",
      "e7b7479d58b14270b40b4b9046967a1b",
      "37d4850ee78f4631b52b94777c991c87",
      "af1448da749546a7af4998ce38c74d0e",
      "3b6514d9fb45482990e685b0ccad2597",
      "21a2a6d1872d4ff7a1e8dd97428c94a1",
      "382c76bba95b408c8eaf7ac61fc98dcf",
      "67d68aea8c4d44a69d5bf88e87d552c7",
      "78aa440b4e1c4dfabb9ae0e388f23831",
      "63aa2f7f113e4d799fc2307eb179c00c",
      "6354d1fd887d43b7b68e67382920d538",
      "37d9a37919c14a78a6a499a8e4ef06de",
      "4bcc5f1893074525bc0b99bead31db20",
      "fdcb546840294da6a7758f1e6635b8ea",
      "01d629fa5579416ea5dd78eb373f2b0b",
      "9ee31e79613c465a87ee8953d8dc965f",
      "e08558c786f64d94a3e5ea38919b7f55",
      "cf6b242ee16a48138a514a6108b95a17",
      "d92263ec706049288ff82a6961a5ec89",
      "26080b943b2b4fc58210da64ed966b41",
      "7ddadf061cf24b96967f1ad76a7cc847",
      "f24bd2b06d2440cab7273be6839a5147",
      "5ddf5d4f32034ac389a45152e1e24828",
      "df14e5318a51411586b06d57166b390b",
      "f5161ccf3d4444ce85833f97dbf31b7f",
      "d4c77be5033348aa882166e2261af67f",
      "829b1141f0b64c99be6a8c8a95091a28",
      "9fb79a014af849aeb503c4501faf8f9f",
      "185656dc569849c095494d9ddcb5e89c",
      "d4302e99063f41ab9cf23bf411591c40",
      "1b7de027db05490c8f1a15d5f32a2e58",
      "00dab44438a94c64b07a38fcb50d0793",
      "6eff0023c2624eb0af9f1cb823c735db",
      "ab326ea2c3074a73a76f780742466d92",
      "b7d175854c8340589a967521e8ad1a14",
      "bb5870abfb3f46cd8873e6ec1681e03b",
      "0a2ccebf946f4104b99ba457f52264b2",
      "1d4ea38c3b084dcfbd2d62200d9449a8",
      "82568eb68c5f4480a21d939092022519",
      "a9141dc24d6d42e7b53dceeaad3b0cf9",
      "af6eeadd693b4a2289c3c2e302a75d59",
      "5f506a65cef2484389f5b73f4d06142c",
      "b71ccc7b119545abb6154e852b48ca8e",
      "89344ed65e5a42cb8d71b7abd5c45e25",
      "02f9bd2a99df4fe59671ebae86bb65f8",
      "bafd983d99484a1191548e093a546069",
      "59cb2f73ce7f4ef5be0b9fb42b5c9fce",
      "994fbe31427c4006be2669b8b200aa6c",
      "9203a24a6d3f4b40a1fb77b3f3f53947",
      "edf0082a83bc4a2a9e8e90abd39ce530",
      "a1b7b1cbcb4d481a98e45436ec14ec7a",
      "03a8ef0aeb7c48758fd16a9a1ec8fa4d",
      "c55e8793bcb04fb9975870b051c68d76",
      "ff6edc8b7187446b94e20a6cea1b489e",
      "1fc956320ea847e58847dc6ce2fa2d46",
      "11b360e6b6ee42cb81218ad692964fe3",
      "d9f3ae3bbb6842be8d9ed91c1ef4e2e3",
      "397786192f3247b79a72939c3721bef8",
      "84303131033a4da1804c25fdb8d3422e",
      "a44f9ed798104c12a63b23d4cda2954e",
      "d62b7ff77f394af7902d192e9d043f71",
      "b1095e887f2e4a378ca2899d7e9e53da",
      "0e533d3939c7475abfc0f654a92156bc",
      "10b9ade0eb93470083ff9b5aad3d874b",
      "3deb7283c19e4eb192350a34dc493cd3",
      "9fe207f12c2b445881a584addcc09b09",
      "daf6996a54974a16884077b70d68be4d",
      "9365c695acce4d2d8b6da0cc48ef9aad",
      "1c0b2ea863e342018e11b5d4e354331c",
      "23f78b75c3234bb1a2432ccee3ca5382",
      "f092be57faf44971bc7c81fcfaca6442",
      "ab0b3d237e8b4470b5501a4c3c661c84",
      "ef4bea38e5574bcc98285639b7b215c0",
      "ae8b3d4959f7466394e9b91bc5469fe3",
      "3c0053085a8241bdae36d61093fcee3d",
      "b3cc747915ee440ebbcb86f03d8c53f2",
      "412bafc6494949968b7539f2087c2e69",
      "e0d77d1350cf4dc29e9b9cd283c52dc8",
      "a1554135d8df44c195969cb367af82e2",
      "23c707d3e6f7436ebd83c1a5e6cd18c7",
      "1bdfc069b38a4caf86a8fca8fa7c7273",
      "bd242bc5d92048d8ae2ddec93ccc2845",
      "09a2d6be93ac40da8faa1dda809879fe",
      "811dd139de2d4684aa28936684559750",
      "788c23c7c346468aa14f0c3beff1e0f3",
      "9de767ac32e841909ad91b43029c8d74",
      "f3fe86346cea4fa88d8c934fe0669793",
      "ab9cbdb7ddb5488d857a66c345346790",
      "45fa7f03a09b4efab22d031574ebade6",
      "e4dfdfbd2d3648d192198bd1d8a32e4e",
      "4e1dd894f80a41fcaeba5d9a357b7dd2",
      "e06babe1cad34cae9bb247e52d334dfd",
      "30e1c15946824ae780742b8b975286d8",
      "88bba41755b9474b91991c6ed5194c69",
      "fdae2decf7154400ac43b48fd5c8e6aa",
      "2a873c2831774f179ff2586f0eeeae2b",
      "b1bff450d15a472ab68697ce91073f0d",
      "b2cc02bd4b854bebaa4c4f189268701f",
      "268da312f4934be0b64cc08d329560fa",
      "839fbf78c30d418d9d350e346ff53d3f",
      "9eb549288bcc4aed802a38b0d1d31809",
      "044719221f754133a07905408f98554f",
      "eef6043e0a544d78999feb04ed58a2f1",
      "a9d7d46e7e884902b0f5e72da7d98810",
      "9e9c623654654ddbb97240d36a7941f5",
      "e4fd4de84f594a759246ef30ec7c7aa9",
      "c0d2fb610b1941d6a078afc7435a0b15",
      "ad302f1fd9e94b4dbb1e8da2b191cf69",
      "256c8b8b7f2c41c4882485926e86189d",
      "42df23e899674aed9e83cfe59706f77e",
      "1d0c7a0a27d3472b9e146ce69557dd27",
      "aadf3761598c43dea29394787a907ed3",
      "55fb803a16f84233a295410593a358d2",
      "1f91aa9201274baa90c053a2356a1ca5",
      "2d1974ce652342068a32abf3e1892c4a",
      "7a30ed0a564843759ddbb02d9527fdf6",
      "937baed43071447da195d058a0cd53b7",
      "85c2c3130a8640e697ca9ebeb646277f",
      "02d73507bb5f4139a93428f322b94a02",
      "b1e37f20bc2444dc85221803bbd924ab",
      "9334153380474c0eb16339a6888510b9",
      "e0b68be339e34af28d46ca677696e01b",
      "bf0daedfd07e4ae2bba313407d863e2d",
      "a27a91422d144e03b8e3ddd8b5d6ef64",
      "4891831fc22d445aa8eb5a1a7ac42b64",
      "05785dbfd67c4b079900b42c42998e26",
      "f68ff2d0e0bb4ed1ac56f8bcac9f939c",
      "e69b85a283834df2ad7dd5e67febaf42",
      "f86a00ea83ea4bcba3bd58d5f8780114",
      "830b1086777f424fa699965270a24101",
      "107edfc981e3417e8f3f8bc7af0e76a9",
      "708462fd0b0d42e0adfc40521439856d",
      "11d9b8eda8794e05b8b8b25221cd1ff4",
      "2974170b7112446eb81a1318a4011fb0",
      "a326a929f7e143cdb715bd2b76ad0635",
      "65432701314246cebbfe25fe9a595e00",
      "210da6f050ff400997557aa3b701fec7",
      "27b1a4e816a34e6a8a58da54ae176485",
      "4d19eef81b094f0d9e1edbf85d8f7828",
      "ceabfeabe9a54c92bf6a75833e2d48d4",
      "220ad52c361941c19668ce78c132d0ce",
      "e8d9ebb2bca64125aa63911f0939b83c",
      "7112111b9ccc4e2d86a2a823e3781efd",
      "b0c1dd9de82445b28bdf82c30c7ebb5e",
      "fa0074d9f2234e4b833547ff755719bc",
      "d4aac7d8fb774c72a9f8e67447acd511",
      "dae60a914f414256afc8f690faf0ac55",
      "4f8400185fe24a45ab6b80b2808d05d3",
      "80d728450b574faba54e90007fc37049",
      "57f91675084349e1b3cd1839f5eea5c3",
      "e9275dadc2724ba7a133bc2f7eae609d",
      "78a845a6f1814e20b4bc637693129e1e",
      "81d6edcf00f64e8099d0d44b3a284e5e",
      "23ece353da5145d0a8470e1fca21d572",
      "0a17964e6a7748a5b0b2bc7b4e6da127",
      "256963b56d764e05a0047a3cec756fd6",
      "ebb1660be67e4a34bf7491cf7bdd4ad8",
      "ee50b144653d4212b8b6923456962925",
      "63d86b87af7f4bff801fbe6c267c8878",
      "72f13b095c114a42b53106d436ad27fa",
      "8a1939402b664264a5949cba16365832",
      "c555e6d5f76549aba9c44b3f579313a2",
      "b8925124074145f298ba92b00f4461ae",
      "904150b2873e4e299e228a5cdf368158",
      "35c619e4f87d45b9a46331708d4a7311",
      "1752d35b67d04951a619eea685260859",
      "dfcffa8e64384d488b5c8b148bf50627",
      "4fde6e63bb8e45efa2a9b6c23f115b12",
      "8ebca2b84e7b471e8e4fbcbb842214fa",
      "ccd2d2fb6d6a4687bc7bfc4b9e0679b5",
      "f8ad7df1bce7440faadb0dc30ebce0fc",
      "5878a90cc0654568b3ec1f2cb9288883",
      "c969782da4e943d7a8f3fd6eaacc999d",
      "a17aa7e1467f4944b854d3747549045e",
      "8fe0bd3f63f5482b9422041cc597a4b7",
      "6bb6db69d1944a669a79d12d34db6b55",
      "d9a877cec7e544db822a9a51ddae1f27",
      "e7d38a318db24ee9aad2181e60b85608",
      "94449a03697147f98661e3fac4488045",
      "1a7eb29edf71474e838645c208333a62",
      "351c75bfa2c44247a99142f44d495a13",
      "47c8bebd6fe24787bbca84313148318e",
      "ceb05f59640d4e599662550097b2827e",
      "9dbd9a16c0d94f4d853059aa2824769f",
      "641869e1f7ee40cf88f27aeb19cef27b",
      "2bb2512286504b36af9b67ab72273d1c",
      "071ab35427df40129858d0e089b4ad22",
      "0501df52651641d7aab3ddf74da695dd",
      "a10c755cec224ecbb41f408797dd8938",
      "94491c5cbdfa427e8de41eb2e1383ad7",
      "29d186c00dbf46838aec13fcfe40eff5",
      "9db62256448c4ecb9f7feb1afe3b027a",
      "c2b2e23fc5cf4bc0b1d3434f4fbf960b",
      "8fff71b5ede04199aa26042d6efaab8d",
      "4953037ef6cb413d9a6e4c049698eed3",
      "742366096efe4dd492ef72eb5611463a",
      "8cc846c15dfd4b43a53c64f94d3ab733",
      "126c18ebbbe840e689b3b782a02b02e5",
      "e9d3e02216a5428fbd7607fb344d2697",
      "0342efe9400d4207b2f46b0e43e8fd60",
      "d779aecd8e3140249e7000b28040b191",
      "bb25c7f7b067460db63a74337a32885c",
      "f63761918fb04324b4c00ed34406f055",
      "6d73ea8d477045b38415536c1aa52db5",
      "56c4f45aca884c899fe271d14469d5ba",
      "1ba906080313452f80b61294bd2cd1a3",
      "1f9d6b02e8014c4a856c9f8b9312e50a",
      "8a1a184ceb6e460f95c519bee96f3b72",
      "398ac609144b4e9ab0a4f83400fa40ad",
      "0101b5409abd42859a43a7a19667eeb3",
      "88fca666062842258f79df63611cacd0",
      "39ea3ac4be5a466dbbe283c8f15547be",
      "3a82241a8a1844e69d32a257580b0dc5",
      "e62e547ac3444f72a4e5f0cd57e94c79",
      "5d1bdbd29f804640abe074e29101aab1",
      "ac1914005b2b4480bbc70436bba523ef",
      "545056ed3f90463d9ea8ae400d4bc87c",
      "968f093c7dbd4ade8d4ea3269d1468f0",
      "8693676d5103407399611dcef798dd3c",
      "934789ed6baa4926915daa1b9182f8a2",
      "76c695f52cc841ad9d2adf46a130ff2a",
      "66a2b14d791e4cf79641374f718cea2d",
      "1ed5176788f542b4bf82bc2d51f5b8f1",
      "8fb6901b4ad14e2892a92c756afb9bf1",
      "4f0ecd10eb2b4dd6b9b79e42f1df5297",
      "02d48e47bc8349b0999499a7d66be6cc",
      "c8e11519d0bf41a4a937fc721eb14476",
      "e7bc9bd97a684a30aa44e5ee396a3bc1",
      "22a2a54831594f589b9bf883f98a6b1e",
      "c1adba02ee3a4bbc901d7a8a8c65db74",
      "636299617003402e92fc4f3765ab6be1",
      "2c4ab85975b24a1cb84a0ca5aef7869c",
      "f2e10a4cfbe34854a0fdea3339c9ece2",
      "036217d6c69946d489ad30f90ccb0132",
      "2c0cd9a49dcf42699fb7435b49255abd",
      "a52721ad667c4a57b64d973f7dc24cea",
      "31681e6da17647cea7760587afcc2913",
      "beb33fdab204481a88b75eb8a181ac1e",
      "7c516e917c574142985bf78771f44e47",
      "bb1aa6cf08704d28aad6fb4f4e2f634a",
      "304b3212e1904e768b8ce3321e4c642a",
      "ce8845ec0e6641f396f4f835c44702e0",
      "d2bb958d2f8444b9a19f74bf09c85e09",
      "16a8bb1d26044b49a3515e9817e833ed",
      "e30fc12a0ea74b229c2b08cd7749f0e9",
      "95de554ecfa84a7e99012d8fecc76982",
      "a40649780f0846008b4a5a66401277eb",
      "3fb0e8c854c649beae9c1c7e50db7ece",
      "e50f18200eed47549233870b8e03a1c1",
      "262a22ff044a4ff681ac4ee10f0a1103",
      "aa5e02540a9d45718bb2d8e34d78a24b",
      "3d0647ead5414c348b8fd5ff235985a1",
      "23bcfeab55a54c5ca0c7beb864a98a2b",
      "9c0c12186f7a4d11bdbb94ef44338ef0",
      "7167643b60ec40f09958799de5064df7",
      "c86afc15a8364e8ea020daf72b59e150",
      "341a652408594c0482d1bd49eebaca64",
      "860866a24b4c4b91ad42e310296f1c0a",
      "2510ee3927fe4e9fa4be39d4c74e17ee",
      "44ad79b490774f7ba7a047c986dcd735",
      "6b1bce386cb44868ac196c35961deeb6",
      "0bfd21836cd649f1b14af5333c42a675",
      "0d6e8bef823f449da896eab55c449b23",
      "527880c8b4694a20bf7eafd8c6d66c07",
      "5437bb8526e74cce91c748f2d6612c75",
      "f7c21d5f3e154820b378a18d35cd9ce3",
      "08443ffdbf254aed8fc79ecee7a1c399",
      "8e369abfb7f040c5864b2429c3b29cca",
      "83da0b8c32ce46d18db6849f3a3d6f2f",
      "642fe50f6a0f426da564a52b9911e7ee",
      "4ac3c75ad45a4b10bfb79c57a0833dd7",
      "05a4027671a74c9584d338e9965a5e4f",
      "cad0b402b9e148e489d0a681c421ad99",
      "77a31af9adb24ef1ac6ee1e47f69ba8f",
      "fb60ae2397c349b09c7872c1739050ae",
      "dd2a54b8453a4ff8a737df2f43329bb5",
      "f9ec9a88ff3d4c728e0e0d4cc779f169",
      "c22d61068b9143acbbbbcfc2cd621cbe",
      "b5eb8f32cf3d427f9aa513e090e10354",
      "1864a70eef68411dac9cf4a2b61f607c",
      "695b518ae8694a32a95e4a843a0f8947",
      "3a456f0a69be405aaf7e994a575fecff",
      "62cdd467a28b44098df23ecacbfeaec3",
      "97304cc3b6074fd4979177833b1a47a1",
      "48c7593347934423b095f4e32f649ad5",
      "5f9893c657794c34ae7d4e46639ad280",
      "f65671c9fd6043358dde4799954f9f3f",
      "3245feac7df84c1699db38549ad74f6e",
      "3c696e38523946b192ec49f8d7600411",
      "9f61cd00e24844fbb58054d6b43ec8e0",
      "f21da0c4277040108ce6f72bd27ae9bb",
      "64050314f9544e4b9d488218a17c8190",
      "733dcd36e7b44162bcc4fc8ad5281cca",
      "a19e860813f64e2f8e5ad871a084153b",
      "ad47216536a245ffbac8eaf53e69ce3d",
      "9ee78eaa010843108a744853ff916dee",
      "e83709d18c824879abbd4ca7ea76f055",
      "894f1f43a0fc44988d39465f024bbdb6",
      "7776f738464e491ba484c494fbc09c28",
      "635994f39b6a41b4867a83de14e533f4",
      "fc991264810240acaa4678a332af6089",
      "6e7ea5e559b64aa48fa0d10b4b29efa4",
      "d7f68e8a0ad248e1b78ad5ee4002afe6",
      "734176c0006c4616a2522d29a4bcb0c7",
      "c05ab2a3a1da4f2e98aed9d4886d7272",
      "f25aa85ce2964252a5f8ac5de401aeb8",
      "31d4a4c6009e4d2b9d4c2f33206e9115",
      "6a2780a09a9b499ea8d9be90e07e9a0d",
      "790f8467e77a4f0d9bcb193ce1fea80c",
      "e4e5a5e4020f48c9bfc656513315cb61",
      "aeb27808387a440f9a06d1054159a95d",
      "022a413128b144b7b2c168708249e79f",
      "0520875185b6415e9c4319691708a60d",
      "be57d3347e7640d79e5019f5f5fe584a",
      "7c13cfaa5c49455dbf9ef9325b823234",
      "cc99c4312a034eca93d35602dd101904",
      "4fd1a00c087e42d890aec366412f87df",
      "631233a1b1264996902445d8ef6e3db8",
      "3aed71e0c3ba476d89b29f4a8322805b",
      "1f0491e8babe46178ea2b6e793cf7251",
      "0f55c522b2b04379827cb2e3557b3cd6",
      "83717a7197724b0b9f032d19cbdcf7fc",
      "0c9dcadb37a9419ab2e735f7f3c29747",
      "11d078ed3c7643ba800ade1620887497",
      "d0a4a79d16a8447e842540165685d561",
      "486cbb68ab824092bfa36afbed31dd12",
      "ea8b0fe442374efe8885ab3b9e7fee2e",
      "d1cab54a12b1448b9105b5a463fa001b",
      "3f1647b6a01a4091a77740d046f9d371",
      "08e7a9d17a964993856b79adb0e16764",
      "f58ad0fda13e45ad9eb05a1c2d2a6606",
      "ed5e901e8c9e4b08a59654d3236ef309",
      "618c2ca89bd34bc68ffc350767fdbf26",
      "ef4856d3cca742b382986a1e397c2b2e",
      "9403a3295a194f30bf1af967e5b1ae03",
      "d72415374b8c4ffebaa83e586684d21e",
      "c8390d0a00134f9489f16118ff60eff0",
      "3e6eb286dcef40be9395c420db41dfe1",
      "b285dbfc178a49cd8c6181223af3a5e3",
      "1a603561a838442a99e36f8d9b92fa25",
      "a187131e32a54cb9a959d9f3965d01d1",
      "79e7e687c8b74c5c981cee101336aa69",
      "64c7074146f34327aaeb299c1e567bf7",
      "06c68f2a0a704376b12e6e6ef6bfb523",
      "00f6d46fe0664814a90f27fb00152619",
      "5fbeb9f0e16d42fb98642ba6d0890c59",
      "15abdfe8a71d4d2cb0a33cfde8aa3ab2",
      "22ab334ef282412aa990c5f023f1c1fe",
      "326a65b48f1c4dab935a258c39561612",
      "ccdb5ff369184f1f9734762827c3ab13",
      "6ba2f733639746eda5e78ba4929ee41b",
      "b702b0bdf6ee4435b357a1ec1b8a08d9",
      "f13b80ba705047c4b4f2d940be12a014",
      "1c58c06f0825435681e0750323c05fc4",
      "24d726ae8b6348d084a7155deba69a21",
      "ad9d25d11bda426694f345c726400cbb",
      "1ef7da924caf4bc39f6660b3788d3b8a",
      "554d3aadcdd243f8ba5c7b991346bc00",
      "f49e00ba6008483faa4e81e7d9986cad",
      "524c35b44f554b5fb544cf96d13533ce",
      "79162544ca294c2b96a3244fe00413ab",
      "7ea19860b03446608332e656321522d1",
      "984d3bef5d134967b9044f589e40caf3",
      "0de05debb8924db9a38af1ffe4d3e3be",
      "1e2870c3839a45ccb376e3b9ba930504",
      "ce7ca848d0504747b8e45bf198e3921c",
      "fb7da69821f64e6682e95b62e0166b5a",
      "0b9859aa138f4fa48c44a91491dafdf7",
      "6e1c693e3bfc4e95b024b15cb9822fb5",
      "c84dcdfd347543a6be445afa7c321d00",
      "33066e6960d94cdc8e4f7501b38433ce",
      "4c33258823364709a4bb09f6f26bf9da",
      "477a3f562ee0479bb427feda5fb2c524",
      "83a85ec7e09b4b4993cbe1cbb5d80198",
      "2758da6d354a48b8ad1daa57385a5d24",
      "61256d38d4594551a61e4335277a4f23",
      "877ad5ba1b934e84b0e6549fcab177c3",
      "2862c218e12b40d782b9eb67fef9e7cd",
      "7c9465be7ee64ba29556ad0407114baa",
      "b4ab4372f6064c0a9cac156f69a52ead",
      "02e13da502a34e81a57e2744d4d90b0f",
      "264adc8c5f254c09923a73cb32ff3955",
      "ae15287b0ab54ac09a6cceda981168a5",
      "c1006e87d8e54a4c87e79284692cc18b",
      "fd7142ff2b3248a3aeeaf85e196df8a4",
      "162c9c8fd8cd4198aa18d6b1c220eaed",
      "29144f66628b4b79ba3817641f64d200",
      "94149328cd1e4116a2442a552feaeecf",
      "dd6204acceef44808b264d19f3501065",
      "0fb8575a90d9405b8ac6e68ccbabc4c1",
      "9e5771bf02684b179ddd2cde935ff2f6",
      "15ccf53f5d87433685f0b4e47f81dc58",
      "b1c859fb5a024f76b3837dbdf8fcc4a2",
      "6639c03b58374776ba0120e35d985db4",
      "76f3f4cdda1d40ef9a119bd3d0edbf9c",
      "37fc19b24d1c458894c5ff5df24b5be7",
      "73aff901bbc74fbca5da1283e2538dd4",
      "5047ea2fd0b64d33925de55397dd33ac",
      "d842e6feeceb4ccfa94fd65acf1ed18a",
      "240d01d7e5714433b6d6bf85123252c6",
      "6d5932ae7cce414f8123f05c91a28f60",
      "0213fd5580084b469676426acb8357f6",
      "46b051da809a4ae3b4342f80fec572e6",
      "74d1115d024c412aa80b521cae0b4f45",
      "c12e03f09081480b9af9bbea56c90c6a",
      "afdc51bbdf0c46ea882a23fa6e2c0c06",
      "9a1f8a3db01048aea31fe6ec45bf1091",
      "ba7972047a244db18d8c108ce1250028",
      "3a89ff3cdd934cb2848eef15640af24f",
      "38e64d68f82c424cb20ebe4323a0c697",
      "b6d3447c5ef748f9b2341a9949c9b15b",
      "f476cb53485e410e924f3c43268ffc30",
      "33035cf613074f6580c5d80ad96f83c0",
      "a220e2e889ab4f29987d75ee03e0d1ff",
      "62699865dcf6412ba385738cd5f1ac86",
      "ae0b28c7d8df44169c5f6ce67e6fb113",
      "e7d9cb82e1404208b96c6e7168156fad",
      "0d75abce91bb430e89652879d0e8dc21",
      "346c3672a36f496facf68a536586704b",
      "52f5b7d4812847f2b2d11cd269ff8a93",
      "b8b441aae91c487c8686f700dd397613",
      "0227e9435cf1465d9a57c1bddd02672b",
      "c14f6f9601d741efbee109baaa94a78d",
      "23bccf3305044f99bd1ee7099b9519a3",
      "01dc24c5b0d64e7f8f4784cb3eda0c7d",
      "e730e40169594717b9c7823112657c72",
      "2e544f8f3a13443a821373c26ebd3fc0",
      "c33d6dd9525846ecaec66e9e78b59af8",
      "b38e6f1b3b3b4238abdaba06fb9ffbd4",
      "b81c2a0c31ab436cb3f76cbc4336cb52",
      "91f1ef63eec940298f6abc112d21ff4b",
      "b3914c46cfd444ab971014d14691dda0",
      "1a1a716c3ac848189d845783bc876b4c",
      "538face9f0974d56b054664e3db73e16",
      "d3a6e13bc2d34cdc849813287c19759e",
      "ed375f6c57b1461e8f4f2aefb7c4c79e",
      "54be37ad9c2d4a6d9e4ebbcb23ae9094",
      "8e9eb288f29d4f11937f389802ea3326",
      "8f762f055adb4f1893066bea87576934",
      "afa0e7af8dd34d7c95c1317adc056342",
      "33a5653368654a5480f9300494636027",
      "654997a21e9546d096bfd9a7dc9cdf5e",
      "4cd5b1c610b14dbc8d4580d23a0bc7d5",
      "bc5a538b57504a3481aeb90bd7e6b40a",
      "5ccf0f8b124b49c5b7aec373dc1f1fb0",
      "a3c96329ceb9469a83252beaf966a0c2",
      "0ea85abc4c0f4890b905708e5f531e81",
      "d76c9ccf8908446b870a30da00ae19a5",
      "b552fc2b2c924184aeddc2d0fbbdc979",
      "40d79ca895874401b4647823a143702c",
      "9da6e6ce4545417eb9d0b3ea357cc3da",
      "878ccbb575d84581b6ca95676edd76d7",
      "5a925ca7501a4d8488abd11694333ef7",
      "11b5e9633c2347a9870f3d356a6c419f",
      "4c188fb324a640259a90b075673d35da",
      "c92407f5e1eb4364aa3df81db1c80dc1",
      "6ebe43c03b2b49b5816283cc1ea4efa0",
      "ac0033390845436fa73c1b2e65cdb229",
      "2d7a9f6edf0a42738ed0a283d95692a5",
      "169effcef8c44c6589d15a487c57665d",
      "335d402105c846899da201320eb2629f",
      "91c7c0b98cdf4139a6f057b074472d25",
      "f9c71741a8034779b26cb4b52719e017",
      "381ef7a945334f25bb382dd12a9e9fee",
      "a4e4b55a86c2407cac4c7b2bacffcb1f",
      "4bd947ca87f44ccfa233307880a50b86",
      "4cc9e1dd41894ac9944c54ddf359d33e",
      "9ee5c2d1bb9045c483f873dadae99492",
      "8a9b382c74f3477dac0f8d101c428cab",
      "bfbc6215d6e449ebaeb0d58c1b857c5e",
      "e0b958afee9243b4be21aea9deee5bac",
      "a6524b58f1b54ef28bb11ecd483c8244",
      "a5662af53d4b4ba9a94e0dcf75b35976",
      "78e1a26a9e6a42a1ad51bae744a30af9",
      "91b900ec30fb468cbc43d197bd76b0c5",
      "d02e84a78c87433ba05f222ceb5af95f",
      "375cc3810deb4af5b4fd7ac32bbd2e3f",
      "4078116a3a054a66890154563cce8442",
      "74427ec0d8704cd6ad4b342041223b35",
      "94b8e9dd71dc4c7fb646e691c911575b",
      "3251bbee77454a58b2e2d860f0b4c566",
      "276a1da836f945dfb740f989a6e7e99f",
      "194bff236aef4891a6a10e9412929648",
      "7bcccb73adc1409a88e1d8fc0ced7946",
      "75d367040ae945078417f1973c8796b2",
      "7695ddfe5efc46ffb892d2c5acf0677f",
      "8e194b6e63b14d0398539a9813c4f222",
      "8173c44d622e480b9a99ef4c4f81fa13",
      "39a5597925704724b4ee8ca54c868a79",
      "86ab8d83e77c405284449b1e15255175",
      "76defc90b9184c05a1f1f4cb26358f0b",
      "5fdfbf920634402a860fee8ac150429f",
      "0c8a3474134a4294a8b2d0ed6837a8d5",
      "d3dbb5816d044ebda460301fecd9c869",
      "e280cf72f6214807b08810d537daed06",
      "bf49fb60e7d34302a0c39b5561976a1c",
      "0776d284f3f54bd6b5d3cfb94cdaaad9",
      "3ca68524e20a4d779afc11667391656f",
      "e7c607e52f6748648544f0973aba2c32",
      "1c2bc370f85645d9afc16724868be13e",
      "ce6d8acc8ffe4a77bf5ae5d39afe0594",
      "dc3dc514eee94bc2ab68f7aa50ca49dd",
      "d39482420ae34808ba0303d810e4e6be",
      "71bc99c4ee7b4726b0f1e815dbdde9a2",
      "358db5831b174e54a143cf079a5bd0e0",
      "8d6b01c03bf14fb4b12c3c88ff0feb81",
      "bc15b079c28042cf81582ea8f8f27b6e",
      "6bed7cc71da34bab9f3b2aa2c22b6fc0",
      "abc04ddbd0f64b4981a5b42d7801024a",
      "92c2bda204114109818263aee55206d7",
      "b1103ef635434297a6658250e1b1481c",
      "79e2f166eef34bbf8bd5711d9bf6e420",
      "bf02f12df32142eaa743de19558a5716",
      "7fa04469b9c64763abb5b21c61e15732",
      "5169e63534bc4fa3b7dc13568ff75242",
      "398e2d51603a408cadffefc901c79fcc",
      "84c0914198654e22acb2e3b20b3de6a2",
      "b87a8f24528c4c9ab9ad7ff93e9f573a",
      "b73191518b6542729a984c63f0fbce33",
      "23226a6373614fdbba784f6cd8549129",
      "2844d889f84848b683d59ac296076dcd",
      "24e5c883e6404d2d9c03efba482a1c78",
      "5fa6afb0fe1b43e783d932c128b01fa9",
      "3a5f098476a342c794bc9835140b5f20",
      "5a307391ecc24dd6bf970a7a06b9192b",
      "4d7cd0bad45a43e3a7827e33ea03f57d",
      "be54bc8eba9a421ca26d34d40ac4d223",
      "753800e03d7149b199fb9fcb88bb92ad",
      "c8820a5123eb4514924df91bf9fea336",
      "c6a5968098224bec99980bcd77abd254",
      "07449a31861e4b7090b41f595b81377d",
      "7febe52844df4fdf98a4e721dc176222",
      "5634930e59b5442596d1110de1748293",
      "fa5d84411e0f41f884ec94979686a978",
      "9fac39d44a8b4615b368656f923ed7f8",
      "c95b167771144cab9944fe6b13db0f12",
      "dc524d0f6d194c0497131d9e77da25a2",
      "494d34cca0054c80bc1be30409814d18",
      "eadb7d7547a04d188689a8c26d5edcdb",
      "8c9d692e651448589055327e6b9e4494",
      "0813b2bd733a4321a6f407db375a898f",
      "05792080e0b049babe08ebea10d0a377",
      "b9304744b5f24b5f9aacd80d4d5670c6",
      "5788f94acb034be98b3f252a2f06db9d",
      "206c8509574b44048b5fec8b3a33cab5",
      "a8b57d27bbfd4d3e8497ccd55fc3c55a",
      "560ba7e40a214b5597e426fdb287ec5b",
      "7abe58598ec04a64bc339463019a1d88",
      "3585c1593e894a1ba6a4abbb4c054748",
      "1784cf520a79421bab2e2f4127b8b3f2",
      "30ad21dd3c044d73a2afa1a1705f6ae4",
      "bc08181922804ea89403339dbe726c95",
      "45490128e5a74d0393e415775409e7ef",
      "ae984014bf5841729abed0f5d540c8c8",
      "4d753df385b44a23b8673def01eb2cc6",
      "dc98ab5e5a454f13950818a683f778c6",
      "f7f1f861f9204c7b8805186d88587497",
      "48317fec44ec490b8eb0aeefb0a68ce8",
      "7fd9cecb3a16448f8f11606a3c2169e4",
      "34199d87c2744529982563dc8ab0ef4a",
      "0ebe7fde302a4134a213cfecb1ddc78a",
      "4dd54936408e47179cdf46828258c859",
      "d565934bc55f4e3d9d39908417636e11",
      "f7cd80b744de4ce887af6da5918934ec",
      "4113d5913d294eb5ba5794e08f25e7d8",
      "0d25e9e5fd05474584611da87fb387d8",
      "480336cd05704a6286c07471663ae60d",
      "88253e1585ad4cf89939aeb98f247f1a",
      "c74e621153bd42cdb2f3a081c4743541",
      "96e5466106094789a046ffc761396a74",
      "9f2430e2e0a143719ec0df1fe3887b51",
      "4de2c98e9582460d813efb23c47f925d",
      "65bcd8df07534c87aa0cfa9c7c0343f1",
      "4bc1e25d7f0e4fd19b3cd30fb443d7cd",
      "e67c5b9f5c5a44409c261c3b20a58102",
      "d33ff1898d8349aa83fe0e9ef3bed99a",
      "927ef05bd5b24e24b7162d9a745a614f",
      "3412f42eb73b4c34a18b748fef3d79b2",
      "8c3d6dfb9418435f8d101d7bdbe6d7f1",
      "a9f68b15a1ed4616b3cc69f0eb0e4cf8",
      "36e2bb27d12e47f7a2bd4480a1a0c421",
      "967539912f0e4f5cbf1caa0251e14ea5",
      "acdba7ae8af94cba9facea47f296b40c",
      "e9d16fbf2e5d4ceca8ea77ebb9475bf3",
      "e6a2c774346147d191950351cbd9b3bc",
      "bdd23e7a29fd4635a1cd08fd33d36ae9",
      "79d916c771094ccfb8719ea80f5fe9bc",
      "e28d0b70a63c4342ac20d2e31efaa4b5",
      "84c3aa87cf31468399023dadeae6790c",
      "1a58a27d87c24a788867bf5849cc79cc",
      "4410fce6e0d64c8cb533932fc57a05d4",
      "ffcf2bdd46db41c39ddb73604e3bb70e",
      "512204d033a14067b1fd47f30872f864",
      "5a30ad877fc34bf7b1bc48387084febc",
      "027ed6da82274774a3c3ec484ce5c08f",
      "301bef0ef88848c7921f2c81ede3240a",
      "ae5206c6cce8483da1e8e8a33124ef58",
      "ac8d3868fd344bdeb0fde17bec179aae",
      "1c8367687d30405bab66aeb58f2317bd",
      "873fca39b05a470f9f44b0f3ff827b0d",
      "332742c32dcb464d9644488f0102a623",
      "dca7cd53ae574bd0a231fd80248b41a3",
      "1276419e97ca4218a31ffec8570ad099",
      "77bf65247179481fbe925fd78afad10d",
      "c087ff428ca64dbfa174a54ce7bcf7a4",
      "5ca0a24cd1f841b98a489567a7c02e30",
      "753aee8524154196a3e3df92b74bdd26",
      "92f4155608c54db190794bcda89676c3",
      "8c51bab2c2f443b0b37abaeeaa2f8805",
      "a9bc554067c44bb3b81d6cfb74cfdc31",
      "807ecfc0a32948858356ed2a19dbdc2b",
      "e56f1432bfd346eb80887f101ffe07a3",
      "01eafe066ce8475597994a66d8ca0743",
      "efdf3bbf9bac40ee92aa1cca9c409236",
      "aa89e8c3f2e14895b2fdc69e1e8ec86e",
      "d0d0eb07db9848f5ad20d43d530b45d3",
      "a98e043c6f384d6085d459cb24dc3f75",
      "8ac05f7d5f744171b94908d5958e106e",
      "7f870ca452144b1fb990920e6a52ba28",
      "4d66c484f9e5483086b165fc26a74fa0",
      "283ecd34de1440f7963448498741e7a5",
      "94872bd332ee4f45a9a8b568dcab74b7",
      "8183660823f8496f9ce396c80297fb22",
      "6b606c7d9d2247dc849cd04e1d3c673b",
      "633af754950346209706b6f67de66b58",
      "628b6abcedfa46eb822011b3de77ac85",
      "1ada22c3f1764142a4375cebc276a6d2",
      "9a556222bb494d5391b4d7a52a8e2c91",
      "bde6465181e04ccaa308fd75ad63a2ee",
      "e379fa5e501f4177a457c8c591c04125",
      "0dcc11c741e7410492a9c0f6de3907c0",
      "af8e40a37a324e17a7ccf2689132b207",
      "207319259b134e369b59e7d4a3e973f0",
      "e4db6541c92b4bd796af670ef28b69f7",
      "45b82ad9f78c46caa1a615c0913e1bef",
      "9aae3340985f4a8c9db5e049ce6e80c0",
      "6d9e8e6cf6914fd2bccf7d1b6aa75c91",
      "5b27d970aa4742d2b982d3da68fa2905",
      "997c5d67a23c41b4a9407c0e460314c7",
      "709c5593d5c44d2fbda4bddbaecac45d",
      "56918f9b965f424d8a94c410056072a7",
      "459999bc2446404fa1cccec6bd2609d4",
      "5731d581e1ed49b5885b36bd75dad7bf",
      "c55df67d40bd4a8bb07b41f3d3ea2479",
      "6e9fa9c677694695b1ea15873fea19a3",
      "145ca7da51534f28b658406534e41034",
      "0bad9d27da9841b59b40435be611bb08",
      "b4f1c2ef750b4bf69104b60185a53717",
      "5023187ca6844378b7cf4dfe6cffef29",
      "e9cb9a9bb9884459bbca5bd7e17a4ba3",
      "6b6c699b599c45889a1117f18b297a0a",
      "072e2fad018348b1a926cd392b3b439f",
      "cf3af15becdb4402b36943cb1798b0ab",
      "e96444b6614d4a77bec7dadc6af52487",
      "9e40761a6eb64488b60ac5d4cd0b632e",
      "02b4fe48446843efa4d74ee09a462820",
      "97101612c2a745508d29768f7ceaa879",
      "6b95109a04104386a701ed6eea95c670",
      "561c915e5c2546f48f47cddca07bc380",
      "a0847e64f3dd4a8b939589cd19f956b4",
      "54827a1f985b49a680840d7c599235b1",
      "41b24ffa9fdc49af9f2950b3be8104e7",
      "a9bd5ddfca4f4ebe87ec0a1ae64173b1",
      "815372fda3884fc685e062052032b348",
      "bdc139dfe38944da84e768f54507e30b",
      "054cab81b69b413e810376ab0cb8b994",
      "35ff32d4efe3490ea35ae0e05cb58cf2",
      "ea37a5b9feb24ac2ac12e9bac1477376",
      "5212638f3fe8429fbe4f026064b2d9a0",
      "529b1a7f805341a3b2d2bcd9bc347552",
      "fd0e3e27760441908876ae5fd872a780",
      "96ee2ab696094fbea09b51d5eb133edd",
      "53944c70541e4fedb856067ee591e6c7",
      "8e9d5f21dcf349a69b508ab04206faea",
      "e86e9337aa8f44db8a9cfded46f31c40",
      "f698ee75df674cf383f5e49c3c70cf28",
      "0dc2c1393ec14e28ac0b5b2faa6f1acf",
      "ddd022e15bd14f00ab3741b71035d744",
      "98fe96741a034bc18b2f70dcdb38271b",
      "a6e2e68d32dc459abd3e586e9e896cf8",
      "e307c1e02f5e49b380e28259c86a9bac",
      "f671e049bcee420c85a3c77c1f941664",
      "b0d39aaeaca14843a234fe51a3300f3c",
      "cc75277934a64af595a1d18f4b348ced",
      "0a768ab060ca464dbecfad2aa4782ca5",
      "b7b8d2e9df5e43aa923ccbc6a015be39",
      "fbd883a6346849b59c55cc59b2e59289",
      "750daed6c1d14ccfba70751d3d3ce139",
      "7889fbd6468842f29bf72202025b0aa7",
      "ac0263954462461bafe5881f40903f94",
      "19939db2a0cd45e1af25b5ff812fb207",
      "1968c708cf2440faad4126ce9813c49a",
      "6845f5b28c554867a9837073715dc1c1",
      "af0ae9fabf724b848d54e23bc0747710",
      "06e533a2bd5d446d97b44c395fb98eb3",
      "b38fcfdef2364040951c18a9249fbb87",
      "c84b796191ea448a839a3c5880d29de0",
      "0844a8b82f9647cc86ec0a0120d20d99",
      "51db2b920f5e415fb3b02373b8090cd5",
      "ae980e5079bd46df823dcee1b048f260",
      "3ff8eb46b29a4bb38f1d05f2ca1dea2f",
      "33ef2ab9be534bd7b0e1666e92fbd473",
      "b881c5a9c4eb424fa091f0c13f89c1a2",
      "176203743762435dbc0cb04d5986ffce",
      "c39cce568d044b238691bf0cbadb8ab9",
      "10a46c85e87445c99ad47b63a0133576",
      "f577a674a13d43c38b8f34961077b7c7",
      "1d7df6233a1f437a91480bb9eff4000d",
      "0186d0a422d94036b661864bb7afa76a",
      "2deee28dbcf647dd86c6ea2827cc957b",
      "b5bbd1675ebf419a8a320df9532db3c2",
      "575bc5ce0966491abb00920a1ee0e175",
      "43c640b5c52b4d69ac5147e7dc373175",
      "bf3669844b4546e38e5e481b65a4d5e0",
      "7f2d46615c4c4b5ba3ef88e115a2e51e",
      "6180d27084ad49beaf58451a17633ec7",
      "ddf562438b404c02bc48c4913967ef37",
      "96cd2675618e4231afddb14e984d5623",
      "5cc902397bab42dd860267b4ff99dc5d",
      "36b003cd3f264abfbd122c3dea4d1d06",
      "5bc819a257294d9fb6db79b947f126e7",
      "d25ea762f8574d25ad028388dd9c70b0",
      "ec54868947274d879221f7c1367f7d9a",
      "a8bdc4a3d8114f06b9374a3ada15d141",
      "c9750e4e142c4a748425669dd0dab48a",
      "4f5a08b28a9c4941a43b60fd89499b21",
      "b6d275b7cdff4764acd7078963e3e64b",
      "b94cc7e116fe42d699eb357912c62df1",
      "988ba9756f5e45858c9ca82f0047da05",
      "2b08b6816e5842d491649b43cc283c71",
      "f87753e48f5940d0aa86c3090d7a40f5",
      "3e997b4ce6f34126bc36659574fc84ba",
      "bec95782dd3c494b911690b3fde996fb",
      "4fa1b9d15024449faf3ecd974e8e0ee9",
      "3f2f82adcf124f1e9249359604cece84",
      "9ce730b4e63a46ea8ca6c35aeaf701bb",
      "3d4dfc2abfe04781bd0c2d1a12d2a5c8",
      "d99ae87acb10425ba2480c247ce6f222",
      "3b3ce8e07f0543a89a36bc8693d67443",
      "7681e83a39854e84a463205ed82edede",
      "22bd067666e44946847f072ce6919873",
      "1592e0ae034a49bf8d0e3603b76b45dc",
      "7c45a229c14141d5b6c9bd2231f6af27",
      "919a09ccaad44e99b33e20ad4a26bcd2",
      "5ce81028f494451f9c5a959f03382a0e",
      "cb425de6e2904e06b9a705fe60b6417e",
      "2971cd1b552b42f5966993a3486e2ccc",
      "d3fc2abf151d4deab9c13f1b98af6e39",
      "71338c4112be473a9f563ba3cac9a766",
      "b77d24811d214df69811c9269a600c51",
      "fb7a0b9e0fd241a09f76dc61f32b0f21",
      "d083426a59bb4913b0837905162c4f59",
      "e72ac43a8dda4983ab12dd59b6e8e3e8",
      "f6ccb90c699447608bef928c1a66e5f0",
      "f31f1a6bdc2a463686729b65f05955fd",
      "28a50e1e813248a2b9868f3d6b7ca3af",
      "da55af697eed45c9b8eb5dc622a71dae",
      "1df79df5ab4a4a8da4be28e16c4a6ddb",
      "5efb3e5359b54416953491026aba816d",
      "427d44c1fe1142cfa2dffc4de641512c",
      "8cca9b6de4484efab2fe0366241e7cd9",
      "da13a4334642499b8d4cb724cb998b0e",
      "f103f18748b24c47ba7a5bfb10e3f1a7",
      "ceeb1b6e3118414d917c4fb695822ae1",
      "7e3971fea2594634845feaf97d3c027c",
      "068f8e3ecd9d4dd2bdf3d23796f92e91",
      "8edfe3cef90b4f0ebcc373c5342d3a2e",
      "ff1de0ee33954b44a90d26fc65b73b64",
      "1a57e98d157441e39861e61a24697dac",
      "d57f8be049eb48f2ba965d6a8d946095",
      "cf3c0a9c47504b91b1ab8232e268abbd",
      "2f4708c621c14914bb033e9669f06599",
      "80879b7f5385436fa816059a0339b43d",
      "52dba629c5f7475d880aed853afd110d",
      "92721ae7b0b7425cb889c73d9baf27cb",
      "81fe235f43734d97bd6395f83f284679",
      "7806fa4b8f9442ae8a1411446ecf0574",
      "bd0ba7b3c58f49a6a813926de981b2cc",
      "810852b96bd4428eb384b2a60445506d",
      "35e4e23ab19943cfa44e13c9995561e5",
      "f5d47d42a6644191ace827a7ac3f9e22",
      "0ef08b1f225742fe87fd22490f73d556",
      "f1e16817aaa04c3db57b24b52a5124f4",
      "04ad13e509994941bbfdfd803b6528ad",
      "ac867736393b47be885b17b7c42267ea",
      "2b27fc2100be4b39b2f65caae001239d",
      "5a4dfe92d89342c6bc6778d9f35286ad",
      "d4562c30691b43b7b7b0073da71628fc",
      "c41c520f3640405ebd28db03de27617c",
      "e8db6fe9b15c4d009dba8ad035c8681d",
      "8c0eed8467bc4c7c82727c7c5f097d45",
      "1cfec4585ef7494fa2f735a74d015e10",
      "4b7e8a84d77c4159b83c32f0d2c06c38",
      "4d3e1ff2ef9c4838a38112337472c565",
      "ae60c1ac597845e781c9faee27cc0f4b",
      "cdc5dbbe4b54462f84b7fd8dbea1d8fc",
      "a63db84f12ad4152be0f15517fe6592c",
      "c25895bbb9694f28b80a2e52425429ab",
      "ba254275833f4fb09d2228855639d917",
      "4765fa38dc3e4f40a19e4a8d8dfb3c23",
      "5711d97d775c47d0a9a2584b3afbd13d",
      "369d0aabf6bc44c2ae7e9e4785be2340",
      "f22fb5318c884e609872ce2e9f463cd8",
      "cb4b936029e3473a8516d57a4b36a910",
      "1a21d677e46c4db291d1325839cee235",
      "14bf615861c345d59580b311b0c5aba5",
      "1c038419c4394adf81dfb680bb6872ad",
      "393377458c59428d90d1683254244703",
      "b771a3fd0e4743a99fdc5b3afd80bc9f",
      "91646540439d46e08110deb7fd3c89c2",
      "f2c9647e0d5c441fb2c7f047d262df13",
      "2e70a913ce1d43ca9adf4485e0c864d9",
      "a61fbdd931c24c5c8e1f22e3c9b09819",
      "b3fa40cc0d3a493ab74d0ece740c6089",
      "e258bf6ee05440098e446629d00beac8",
      "a5fdba5c8c8a4fe1a1fe76d5835da417",
      "d51dc2165957471f8fc02ba938b4bad3",
      "f495875603294241aac7d1d724c361c7",
      "b1b45c2a06494614832015f298ff46c9",
      "8e24958c5b8c4aa39d46fab292f50667",
      "bf2c6ff830244aefaae818fd3fe6c879",
      "ca811ce98807469fa6a23313c64fe958",
      "91e52e91427d4465917ac09bc52f7e60",
      "f438b69d8f424799b3e2ceee694b7505",
      "c2ecc9da59d546b3a40203a39043332d",
      "0d2c280f602a4ccf8cdb2eaf928b9017",
      "44ddaaf06b7e42a2a96fae747050da5d",
      "bc622db369ea4835946f6eb004099f4e",
      "b4b3f0f11f144cf087dd2e8ddf6f46e2",
      "d06ebf4f241b4e2faeaec0f0365ad30c",
      "f417075eaa9c4d66b572e641b6538811",
      "a835c350da0c4ffa9f3b97b776481dd3",
      "5114a9c8e55f419796de1c0771d7d5e5",
      "984f13b7f9ae485fab4335ff180e04d3",
      "6d6abc20bed84da19ce1216a03852f77",
      "1db4de68634d44b9ba46a9517527acb4",
      "5a8a15adb1554a63b7af4d34f5fcb774",
      "f93bb87aa01f4d2ca2c5f1bbed4d7a54",
      "7e999350eb1a4d2eb6ee1246d69658d0",
      "7e8f94b3f71f438d84644118a03e964d",
      "c93ac9790cca4d71930e1b19333a9188",
      "cdc066526ad244d095a78e5f6ebedb36",
      "0fc32a8083de473c83cfaff0364154fc",
      "b7eb253c2d8940c185db232691887178",
      "bdf80cd2cb474a07814bdd46f79d9c0d",
      "d6fd6cb4910f43f89c4244decce56407",
      "87266e137d1f403c8e4e5c5b442d262a",
      "e1f57b69a389442d81b0119544040f29",
      "ddc08c9a758e48d99cf74d167e4e30e0",
      "bbf7b6c90778494da3cf033307c0e031",
      "c6d8b4d4e81d4885a7cf39491d685418",
      "5591d9fc9be54c67b5be03d746b09ffe",
      "76a881da076344a5b20caa5b49395863",
      "4fb76639c71540329fa8d50db8f24673",
      "0935160d43a6458db5bedfb8610b3e89",
      "a7930f18a2e74b4999dc11c472030c21",
      "7a351f90814148f79a32ff41bd92b2b2",
      "80e617ad223b4aa88ff2e78fedd4d598",
      "a04558967026468a9331d969919ee1b7",
      "fd8ff12a2111411aacab46acd5657ba5",
      "74c3458cddeb4baeb504fe8aacdc5f75",
      "b2ae05a1a68b498eabea7e26930fdfc6",
      "e7f2ef344c084b7f8508b75f1b6685de",
      "a57e271c3776479f96ce782d232c834d",
      "6e07af9c60b84c93a1afc8a1abe6dc99",
      "57e111022a67446589fd4d2a09114770",
      "2c5d960c2c9443db97c7327d2c619afb",
      "573b1ca08c5e45fca9f53f976d94dbcf",
      "68b87cdca7b04c05812f3e0958a3a3e3",
      "7c5dac88cdc4443092494acafeaf2e97",
      "bb38cfff6d39498db51e5630eab7269d",
      "afc79ab32af241d687bdef7d52783a25",
      "f243e6ef229242daa800651864a826f4",
      "195a92d370a54bd5a126f6e5949fa9e3",
      "18fcfbe522484345abee608630cf512f",
      "978d9fb0adfd43ffb324b79a481500eb",
      "73ede8c59659434cb2203595114a16f5",
      "280d39fe9d754b6283c8a00fb1ddb33b",
      "eaee8eab34e2488d98262db35283b800",
      "53a686d3822c4e0e83f33a467cbd49a8",
      "77876314ce5e4cd5a303777025c941e8",
      "4b8f7ea9b57a4630a453f27a98af99bd",
      "23e356db011a4b5ebd5f4d465c943ce6",
      "f016d0d7d1b649ebb7cabd5ec53bd7fa",
      "4f53969d6e4945d6ae79f53f4987655e",
      "8348ad0a74704a239beab4b4d69e475c",
      "d9af6f350864456ea5219b218c28fa52",
      "60fdb6198a2c4390a490b92b3c316764",
      "a4b05bfaa0624ba8a9f9cf257bc1f6b9",
      "dba7de0604d94ed88dc715af53480dc7",
      "4f9f775e9ef74789bf25bf7f776fc8bf",
      "0302901b907346e4ae1221ce19ed77b1",
      "faee237941a94be28a60e5a4746a123b",
      "bcfb872230704a598afd8d180d55153d",
      "ffae59310c584dc090498a727cc845cb",
      "dab08773b6c7443d9d0ea10397c1b7c3",
      "26cc06891a5d4fc1b24988bdde99e363",
      "64e6127fa4604bdc9b5df6e6303c779a",
      "4040281c1ff24bd49e1b9b67a4cf140b",
      "51795df2124a40d3a7d76bf101497d53",
      "2e130e6b3b814da881e5495c5c458929",
      "6b1397316e9a4f1ba9cc95fd3c72bb69",
      "1791e26b56054a609d1ce312ec9e2f81",
      "b993b209b7ec4df2b0d9cb154554397f",
      "a2f5859740e046bb8c0fb3bbee8adadc",
      "15d1ccd293324776b460fc048fb23109",
      "10e6f279151f455598a21fb960559429",
      "4e5988e0110443dab92f0b951503d2a0",
      "658f4bd14c7e46eb89dd2f942a7a723c",
      "7ade19b24e9b4bdf8cdec1b49b77f5b8",
      "c3ba4b677b964757924e8a6a6058adcc",
      "6bba411e2e6e4551a18a9413dafebd3e",
      "bb7f492ade8a4255bdfdb9a7770752ad",
      "001daad301db45359fc59de79f23ae9b",
      "da6555928c5d4966be48fc523274cb4e",
      "fda3d7a51698435694eb5b237928b59b",
      "1439258295c74d858d035e15c6377f10",
      "740c6a10d4c14d02bf7a1b2e59fe3882",
      "d7c8215560c343c895964184095a1180",
      "f17c712554574357a10f43b06d3ff194",
      "7e4cf2b616624953a00c2bbc793ab3e6",
      "d083e3269ae64844a122aea5876c0bfa",
      "00f0d30a50394a26bf20b9e9927dbfa8",
      "98097acd4923472cada424d358bece44",
      "e2ad6bfe2e9d499e9c0c678681cff6c0",
      "3f913588782741f48fbc20cb44c4075c",
      "9b84d0ed51924fe190333d007f4b8f89",
      "226a0fc68af543c8b5e3d4b1bad9d6e7",
      "ac7f70b7f69a4e1e96b2194a1b2c028e",
      "e29e767c4c174853b81593cda6417bef",
      "97797b552d284959958b5d48a176dd9b",
      "37d79945472f4bb38ea7397b398973a7",
      "e962d04e9561408a8bcf0e4215c24ccd",
      "b28ad2e6f4104daeb6abe8e837584bcb",
      "288e00c7096e4dc6897c69d7e8334ab6",
      "5eefac58e9fa40eaaf635f57d5cab50a",
      "8ced73d20f2d4fc191c97acb98e474c4",
      "4a6cb33a80f34626b36179fbc1b4d6f5",
      "9da0de283d3e4abd94b1fc8b2fcc1cc1",
      "54d7300ce62143aea3d42e42f8704b47",
      "86ed724b5f8c43f3a2bfe99436abc0be",
      "cafa17850915455c8159cc923d37d86f",
      "e78399fd79304bc9af98894142f392bb",
      "04741f20994b4c3eadba26f40209a5a4",
      "b932a133929d457b8d733ed980d48fb3",
      "910c668201904e85b7e7befb12d7079e",
      "670a1cf7aeab4039a9b385202e78c403",
      "fca780d70801428da4f7f4cea9157d6a",
      "6d71850b011c40a490000ac19dffa25c",
      "ca5fe2d292f748229ed0d29a1fcadc50",
      "72d056b168bd4a1eb414b4d67e8162c9",
      "ad6b22f6c47b47098512d99569bfaa54",
      "a2223c59cba64dd0a6ac98246b831dbf",
      "1ae6f1cb00ed4d41b98da651b7f9b5cd",
      "2245077d6be141f78b83f9f5637b214c",
      "cae230e3adcf4543af31f3ff6d4a6a3c",
      "c5780ce541ca4a56a327eb44861297c2",
      "5a89ee1934fe45639ac115bddead0169",
      "6680f3a55950420986dc661725b6cc71",
      "39be5300e75f4b57b311b2f69e4d751d",
      "544dad5ed23c4fba89cff8345ed222e9",
      "c4228b79d06345b79818b7b60b6724d3",
      "c21bb0a5b856483795fb220b90b9d365",
      "7333b831c5de43bb86394a9468dff8c8",
      "57e6bfd984e242f8b41a3304decc7ab9",
      "73c0fe8a8cd2466e9c8bb510b748fc27",
      "8c70ffa5aaa044b4be39f6e94ffefeae",
      "d5f77a2d6d2942ae8e600417f5b83c82",
      "6c06e1bb65ba4d6a84e54d89ab06ccac",
      "1ef7b712b82e4930b88fb3be1cdcfafc",
      "a9a37d531a9d4565a2ea3d729a081550",
      "f96208c137b240608b3ac29f3a9c61ae",
      "7322960b374045eaaf17ad3b8fbc44c7",
      "95913f0628414913badeb890197b1505",
      "7e07bb14841b442d93038857dc547754",
      "eb682d2934154c19ab8e16525f8de054",
      "ba0de7b4ab784685835683878af90b5f",
      "91000d7c71504d76a87094605931c0a7",
      "ce4d9081b77a4129a08b9d33ea06e511",
      "f5a4578d8af14fe6b2100ab664de3841",
      "c7128579ed23448bb05596117d111c6d",
      "a19f1bcc4e56433d883ef1f5a5c0248b",
      "7a831ee3d7ef4c39994976d9522d91a8",
      "f9b6890fcded4c4bbb7c22a92d6f0d9c",
      "9aa7fed7d1784687b4754c6703558a90",
      "d75f45fe3ab94640a8fc0795c2dbdec2",
      "d627853afc5f401ea8bd4f134e703bba",
      "2e2c4370542140d8a2117fa6dce6de23",
      "1d9fa9a63c934cc4a8c64d26b492b326",
      "a0ecc8aa668f43e5a0ce86892cf4d3b8",
      "434ab56e575848b8abc20fc59d45d583",
      "c9aca22bb74d4ea8bb82c001a09a44d9",
      "a93fe23e768b4dc9bb310793412abbaf",
      "2ae61371087a4628bc1f634f4daabd23",
      "e59e977dd21846aa9287ae5bc9454b3e",
      "163f6e73eb964fe991787415e31ed346",
      "8e6fd70c1f3d4e3ca646d9a37f9299f9",
      "a5d13846701b4473b902a401f85d1606",
      "c51d334da9f644b1a28887121e8752ca",
      "f9ea22fc429241d09525707c108d6071",
      "026c96072c9f4c07a00841dc6699cbb3",
      "a919ce364a354cda81d7ecd0d3d95de9",
      "f8464e133a424960ad6c01b2a32cf884",
      "a9b0e527d1664597b6952937cc040028",
      "13ef887da2ed423eabedaaaf81a29c23",
      "9f77ce6848674fe48ad14de58080450d",
      "c54f952869aa459b99ff59cf5f30fa93",
      "09fdbcdb3bdf4a179177ff7b4f25e912",
      "2a131ce9491c464998f30edbb697056e",
      "9ad0a0f1ed4645d68ad0ec77fddc97fc",
      "48f9ead81a6f4ed8a7766db3e6dfd15b",
      "6df640d9c87c4014a4938c056cc15cd3",
      "2bde872b79064bce86f2709ebd029e72",
      "a1bdc6ec1be742dcb3a457940610b147",
      "afb88c8393f2451e8ef3495eb7d60fa9",
      "d9fda5423f4d4aceaea6c9420ebde366",
      "4b6c5bc1fd9a4a7188a487335e2e936a",
      "29c32f46537e46fbab527342ceb72447",
      "3cc95014ef98485d8e01198a38f80c6c",
      "f8876bbd8a404b4588df04131087a38b",
      "a6211fee04674e3593eac4d7f018bff7",
      "322fa3ab64fd45e895a67a042a035477",
      "7ddadc5f32ad4f1289acbbfe9bf7aa26",
      "99b8bbf5139a402e9fb1c29e95cc6dcd",
      "94569784e3d84d2d9cad9c70c4bc8b5f",
      "5e998082496d4f838f9d8af6aa99ff12",
      "10f84b23b3b146cd871c28f7ae399534",
      "e41b48e8f28447539d4feb048ddf1a0a",
      "04bd88b9ce9c4b3d97dfbb1edf3706e9",
      "6ceedd12eabb4fecb21c0e3de8fa0f7b",
      "9fd7c43fa9314c0793dbf56f7f89de71",
      "33ae8a482324418ba917cc007c3a05fe",
      "df4a075cf0e045cdb7c7bd123946cda7",
      "dcee6dc420de4e9cba5b541c225aec8c",
      "c3d980f946a2410fa745b80e8d0ccd77",
      "79ec8e72d84e4e6eb709557b61d20ddf",
      "8021ddffe86b4d17b3a9202adef5218f",
      "302f3d15bc654b8c8c70931812ba7eec",
      "ef69308478fe4788bc1fd2ad0dbfb769",
      "013603b877d447a99fde1d45f002f3b7",
      "6ad69ff10bb54243bc9dde17650cd7db",
      "81cd39ffdef64733be2eff67e41afa8a",
      "629d5634f83c451dbe10bd951e64f329",
      "dcad354df7034826ad4a57aec2ae6c17",
      "6064951c1f6640f3896beb8323cbbfc7",
      "c6d1ed8d551940ffab3d19ad6d75353c",
      "3a1813bb9d75434da99861c6d2086361",
      "599319ff6de6449783a170e9b6d1114a",
      "ef11a95b146c4981bd9897ed048b60ab",
      "a46074bf88c24b7eaa009d624e883833",
      "14b463a43892409dae680095f0507889",
      "628fafafd36f40b691377b7938febeae",
      "3e1ddeb34a9e47eebf6a27451db80bab",
      "14e65b528f7f48258496ff8448be79b4",
      "a80067098d8f40efa5d0ac1dd57d6440",
      "6ac84f1b1a9744d18eaac8b42655ea05",
      "2b8f036b4c9944f884080b6eedde233f",
      "affa7babb8454fb1b2a99bc3bafbc49a",
      "17b1b7a054e6466a81a133ac2ee5ffe9",
      "172d21df815b45d3bd5ff79d89a477d1",
      "3aec33b64439403cb97f7c5814d6942f",
      "a799605d6ab241adb2da7fa33e07493c",
      "de74f09564fe47d0be978d7adc3242bb",
      "567ef55e02cb490288bb469fb8d8c27c",
      "35ea0ae626ee4f5392ed0156a7b30de0",
      "b2b3071b4ab740979df8bd5e2268f324",
      "07b548611c074628aba0186c5824023e",
      "365720dfc9884d6db545b7face611684",
      "6aecde55422d42049f6701c7e41d7989",
      "e7d556f5310749d0af0934c32aa7afd5",
      "ef552b648c3945c687bc09e8b6f1b13a",
      "0890a4bc52004189a3c42d998929b18d",
      "13924171053a4290bfab0d30b3537ba5",
      "6712957ce1b1405eac0a87f3646d8f51",
      "a69edc44810544e0b244f0e9e19f5438",
      "14920fe1c4e844a38be7e65d6a71eee5",
      "d0a0b6f9bf794a1289b9d4b684a2b119",
      "2aace69c04af468c8037ba8d070323e2",
      "ab79112da7b740598f8469bd36bc3a33",
      "e0495211da314443830aec04a8daf7f0",
      "4175356f8b2547edbe2acba4ff15c1fc",
      "5adcce8fdac049e4a49ac73d4385ee6e",
      "3d2591bc72a048e89c10879a7c09e08b",
      "517c2603aec243538999269851ef45c7",
      "064b9b38a12440b386ee6495e3355cae",
      "de9e51f1c0fa412fb310179ceac0e150",
      "cbd619ca1c994f5ba4c6ed2ddbecf8fc",
      "a5daee37d4b64fa6beabfd544345cf70",
      "66f9feb8a20a463b8c3d996ad852cf35",
      "3ea6152f383f4680af9f209777a056fa",
      "df5edee07458487b8a65d007f89be496",
      "eb43ce6281f342dcae9bc5be42b6b01c",
      "8d3e6e399d974bd2ad1b0360360a7f0f",
      "c424a7fb3767408d9d9e0208a894021d",
      "264a4c0a7060497eb83f3115ce660536",
      "0f397e4dab12462c91268b6c224c81d1",
      "01b99fe6fa6e498d879e69b5c7bd6164",
      "62a526317c6e4c418c5f26a38144c6a3",
      "846fee282cb7485f9a69504757361d4f",
      "daa235b94e1a4020a335a6fc159a36a1",
      "103ac4689b744af69f249adf87685e3d",
      "64819a6547634933b3f063f346eb4c54",
      "09aed7a8e46c4f439c13ee2e10984a7b",
      "0862eb7fdf024599876ca8ae7f41c2a0",
      "a7a9894d84e74d9683d83d2705ec9471",
      "a6bb09f1beb147c29276c472b273bf84",
      "fc0bb1532b96408fbc4824e728907294",
      "290905bde11042c486c835afaef3974f",
      "b110cb53ae83462f9269d4db95ba4418",
      "1eb4f65a8e884d9f9e9bc41ade871bb3",
      "53f6c1a6f57c4badb4b8f58e845ed14f",
      "a23064f7377b44eabb1902f46f0d8c5d",
      "d0db9ed92a2247c6b1d59daa4fbd5467",
      "4257cec515a342b5bd704d1ccf835be8",
      "a4e6c0e3cb1b400387b77689987a8f85",
      "510e1884231b43ff89955726390bf822",
      "cd684b6da0a94f81a49ee1571fea878d",
      "3d3792318994423398de59cfb672ac82",
      "00726d27102c445fb8718d6014fd4794",
      "c0abc42aaa0c422e9701dce448504125",
      "4fadcb15ff15436cae2c2414a178fe41",
      "4d78d82e0bd44b03acf49ac4fe524f36",
      "c8f7d0a032704315849452eb0a549cb0",
      "6301953c720147619b440aa4b969a030",
      "ed59176bd67e4b49a28b188fd5d30506",
      "f3d6c1c4233d46d0aab51ea6dd08539e",
      "a2fca6628076470f9fbd0e19cceaf979",
      "ef472b4d679d41a5a18b37ce7678bc96",
      "73a245fbc5dc4ed4a6cb89be25492c2e",
      "d83f6dfd134442eabcfe531811f2e0b9",
      "e67133c9dd3b4a5eb47d11f076ab0cb1",
      "b8c243c68d8d4f66ba99a1748d224f99",
      "f9aa2daa674241048331dc6db4ff4dce",
      "68d77d35d777475093dba39615d737e6",
      "60c97fc0aefd406aa46888b731ab3b48",
      "f213a56bc5ae426e9b11179d8b93cc44",
      "5794bdb41585405fadac5ac3613058e1",
      "93a4b590822949328c680fa38dfa2368",
      "33cd18e2bafd481cbe680a72c13c8603",
      "e84f256ffc834ccfb656f3d2cdcbb629",
      "642d6f8117c14725b4f8f9fb1b8f936f",
      "55ec7724f295477ca0b544df4b231e1b",
      "6f371c818fa448d58dd7529f3bdffd46",
      "f88bef26df8e4656b47bc61f20b1b2b2",
      "e92be5a34cae4ad19310172a48eb661a",
      "a2a4493093f34211894314afe84cd623",
      "ea5431fc4ffc4deebf755ea3c467a74f",
      "a4f2aeb5e034405db239882d4cc8070e",
      "6d208b0d1c744fd0ad7064e9dacf48ff",
      "24b95d3a95f845ad8a17b5c92f323a5d",
      "60056ad0ccaa4b3793267364481f1195",
      "74d11dc023dd413fbc1d96013d07727b",
      "44e9deae6edb4e3499d747ecc78e1309",
      "2549d992f3fc49af817dd50cc8570f05",
      "bb9ea46ad3af4fec8e7454795c348d6d",
      "5921098b7ea741b4974f1b3f5d8eb37a",
      "3469559d983b4f21b4101d7ce91ee50a",
      "d734e7b735954a3e81a538155857ef9a",
      "4db7075839e04ae99b761955f0299d54",
      "d92cb6b5600445109af9a9f845fd24c3",
      "f3c035b6a8e24284b8d174ed2399c5a1",
      "368297668d6349f29522f754bad76a60",
      "cf4652155b3344e3a2d96c5e31b6307b",
      "7f8cfbfc0c5b448180049527d6d3ce7a",
      "ef7ea69ead244a1ab44c30e6bb824020",
      "36f55f77741b465ab266b33b0ee9aad0",
      "d87e113e5f4f49dfa68a1be776923ca3",
      "47de14b0e7594131bc98cff5d73239c9",
      "996a97fe5b6c452cab8c5771e82e8cef",
      "4e8c1b02274f4a65a53c0c18df9ef03b",
      "cc3f876e3448444eb3cdaa894fe3b42f",
      "0171479d8f1f4bf3ac67c83c825857d2",
      "6e64692e9c184d1f80220a615a0bdc33",
      "c89fe20a12c64104a2278d9ad658b00a",
      "3d31162aba5b491d906e0f88816da4b5",
      "a93ca581c83941dd974fda434378dd61",
      "8b10cc0df16f4b5f9ee7094d2a1f4360",
      "191f8f05942647918d51cae91c9867f1",
      "875be62b5dbc45cdb478d23bedacee32",
      "c5b6ba8c983546319395bbae898cc3a0",
      "e4082b97d9f94f84907d7f19a8bccf39",
      "6f2665463b0f47c7a1f11b14d98c4148",
      "e6450de029bb48b28c16a5a6b39205db",
      "d91a5b1cf8c54bf4ad6e4664a7b6f9b3",
      "f497a5aba339459e926b51f819ab72b5",
      "96e367322fe9413d8a21dfcac94c26b6",
      "e8799ae1fbb44011b19b17036340b742",
      "55d72e07db1949909522efc264f7b5f2",
      "e593e41b5cd24248aaae823eeb539c5c",
      "19432f2323fc4fa0b191934dedc5825d",
      "13a694ee59e84d0c913fee7f22268fff",
      "579b3fae27da4b20b0f795c45513c249",
      "97c62728d7c34edab5eb598b8613f57b",
      "a7d82758b49040eea29cb4a5370af693",
      "28820f8d8e3f47389f05dd6223d42b7c",
      "97e63f7dd99b4dcfa9beceda6b4a608a",
      "94a2cbda3f074bf099e250cb29a3ee2c",
      "db21b493291042118eb9c9a71bff7621",
      "b88eb1caef4c4ae9820531f6ca0f7e4b",
      "2ae65910b29a478e9a4ff7390f59ffb0",
      "fe37a2a7e84b48a5a60dd6e8e752ec6d",
      "05bf4d06831749ce801a3883cb69dd5f",
      "db33cf8525374627abc28d00a270d853",
      "cc8832d607e34b71a4685107f8a8dfef",
      "7f8bf795225d45d3b8d39428bbae7a76",
      "161979319db8489a866737c8df87d4c9",
      "a8badc40ac5b404aa262e2fc0ba90548",
      "bad261a8eb9e4d36a686a6cd5142f2e5",
      "0e1465c99c2c42d6a63596efbeb6fe4a",
      "f1e1a99bb8ec4aaca039364d89852cb2",
      "88ef2c64c647424fb00258572d9051be",
      "efdf5906091442f3bec67ddc96e56419",
      "3270ee9558e94ec4846036c2b5ac6bd6",
      "01c93471b0af475eb9e239485ff4901d",
      "788a0bff836f4fe6a32d42c4ad2e85ca",
      "7569361c671b4a8f968d9dfef9f86e1e",
      "c77bc89d8e534b22b9b6447a3be04714",
      "b9e26e7d2be448cea2cf361a68b0946f",
      "bb518c2fb9a641adaf25514d3297ee3a",
      "59e5ac712c144dcf9bddd5234b5fb9ea",
      "ba5527fdb9a04184bd3f4b0880b55e68",
      "96261a2c51794b70b6e385fd304523eb",
      "a226e112298a4bcc9bfa3c93a213777f",
      "7c985af09b8f401ab871c5f6f25a47a5",
      "fc539c6ea90e4447aec32e6a066a9fca",
      "b3b58f3ecff144eeb9a07e7edaa85b05",
      "9abe4cc81c544c1d9c5d87420dae3311",
      "598f73666c664fdfa1a35df31183fb72",
      "98d8461edfd04dc695d727b0aaff3953",
      "041540bca8244260943d691906a89b7b",
      "194a56636184497ab21cb9893bea2e6d",
      "395aa3db083847fdbc1bc77f4c773b71",
      "f070522096c54834a01e78864cf54ead",
      "115d8610c63c4b6998781abba5df6a1a",
      "361dfd02d6204a8a96ac0a0156a48dc8",
      "c8bb6f58be884965a92c3f4e94a6a907",
      "62ed8453d2144ba5b60c2049c6f42447",
      "d1c1764ec2294328a9e7828c99a5729a",
      "505adf7e0891444e9e2339dd3a154694",
      "c7ce8c70e9534d0c970d117ada67c216",
      "17bd6792212d4f98b4e5fe888ffb10bc",
      "62d5ba5c5a4747f2bae038e6da524f63",
      "40dc5d0852e44748b93ca426de472e78",
      "8c38e899d99f4608b1a1235ba279c0a2",
      "53b4ca560c1445ffb237e0f7681167d7",
      "8f3184deb46e4311b7813d307da47e9d",
      "db8684e1f5be42988f46e8e1bee7ff2e",
      "011903d41f70453c9e7d9ddb4055b8d7",
      "cb90b342418a47ce8eafcbb57a9dd62b",
      "1ea18bd6fb1c443989d992bbf0982fbe",
      "19cf7455df7e42b78a2837a1f7f699a6",
      "f3ae6269a7974c15bae53b38cf13dffd",
      "18a1da8fd3974871aba46e778afbb4b6",
      "582798cac4a84b54a88cb91c1ad822fe",
      "51dc7fbf5ef04870a65eb5620cb0043b",
      "e7589a074bd24028871ec9892cf47891",
      "f027dcc977574d9d925fa51ad6478a11",
      "b00b87f39f8e4140958e851b531d8224",
      "eaf0d051b7b04f939db9d0c04a2d7f34",
      "bec305bff5174beea8ec02edac27b927",
      "0c48a14f89bd460d8a7e0c02781770ad",
      "d73593dd62e84a32908d9e4696597af3",
      "fb27e7c96ad749fb9b3c975cb7084e84",
      "02984c525df145cf87f26dd503271b38",
      "5d5b41b60aeb472f90b45c5b10ee3f1f",
      "3a2b83ef12df43f8ba075228371980ab",
      "b307e7b5d32c46748b9771f26b14b027",
      "2960646f20fc448faab6ad85ab8b4193",
      "fcff1aef815c4ea5ab572a3a1da7a5a5",
      "f02b838d8e7b4c1bbebe0e39f06e364f",
      "22a276f2773f4e608230e5488a6e9316",
      "dbb0f6e982454f61837d907fe4374c8f",
      "9a545dbced94423cb5e27eb927d28de8",
      "1c9a555d07084a80b5d3223e2feae58f",
      "99fc1342ce0946318254a574efaa7ed4",
      "9f27feed0f4b4b169d8c56b5b2fe5e39",
      "bdd881ac61344537966db6eb41108f81",
      "fa86ebb5c0bf42469b3ae080a476f1f9",
      "ec55c18a16c2446db05e42fea5ed65ff",
      "468104c55ee84255a9bfd3e9f4e3b2f7",
      "20b04b762db74595b90405f3b0c1fc39",
      "8a481d641f454693984db74f63c1bf8b",
      "e6de1c25d15e468a84dd08873d5769b8",
      "4caae8dfbc8944b497f512b92f128faf",
      "2bbeac6ced754be29e71f2892d283656",
      "2832103ba9054210b839aa19c92dc5d4",
      "25fe9d202d6541a689f1a1193932d06d",
      "cc8533a8474b44b4a6f12e7367452485",
      "5a835d43da1d4b1b9ad38a6a0652a455",
      "7dea456668f645ea8a2134880c957d6c",
      "bb83407560bd4011b6193c5245d4f171",
      "34cb45a9be054dc9908489a23a08c3ee",
      "a8b49cc85de64fd9a845941a89c38307",
      "edbd027c81544f2fa458231cc8254a54",
      "002240363bda4d1bad43417a5193ef95",
      "cc8f96cf1d6a4fc88388fb29e683745e",
      "d581871867d547249be4eb171c3c6582",
      "4215421d82d94850a2dc7452965c5d39",
      "cf44ee30ce494b5b895f823d9eb5462b",
      "8cf81e6e474f4e1cbb1000b800eab712",
      "c52269f3e9714e39af8eb9b8c2457050",
      "3d3140635fe14b498cd35885799e0985",
      "39d4afa24eab4dae9ca99d1215b38716",
      "e6286c0fd6d941559d6c8ed60aa4f1e9",
      "6144fdaca32a400d9c8984acdc49013b",
      "0e315bb4f05146b4b512e7aec5bb2a6f",
      "be5c8736340d4cce80b6b96eec41d8b2",
      "58023f1333a44a65b9228b14c522094c",
      "be259e323db44cfbb2126e01bd730956",
      "d2344304383647488ce379512b0bf4b7",
      "2b1162f573104c1cb4793368e79b86fe",
      "77580e06ea4741d78d308ec99ddbad14",
      "e87ee8b3d261414ba4f71dc3f523c14d",
      "603ef737a08544c78ae2a29c30fec022",
      "8ad1903c5a6e46aba28fdd3bccae9421",
      "e4f88538f338454d8628aed8becec8e8",
      "69d57c18aac9493186e3cd49f235a9a9",
      "12ec18f517ea4f3790f48ea1da213ca2",
      "b03be18d14a84b5794f081558f4bc728",
      "4b237de5005e4e67aa429103e808f0b6",
      "62c88fd51e3049a3800aeb9f521e69a9",
      "a6e2eb7a97064d86a1492e12a36cf127",
      "15c53cfb92394892b6a42ba8f8c5c01a",
      "bd446dc750c64235a5c3985831c2719f",
      "45b19b30a20b4dc7bd015e95ef0358c7",
      "cf98892b884148ebbe79d562a9f4df6c",
      "df10e3ae34be406d95c74c2e0e1510ba",
      "f1c0f6e32171417c8f09b95fce5ce72c",
      "66f8ff65c0be4df5a47107fd33d7003d",
      "1ee5a8d4e1864657a306c562b9baf609",
      "b0d3eeac32044d9e88c2dcca04695904",
      "ebf633cf30b74a8ba809b2a639897195",
      "fbcb89ab44f140fd8c365f6ac20b415f",
      "7c7e76d02fb7420c8e8bbaa828c7c05b",
      "a0ad3482473d4fe9a0396954a292edb4",
      "44d739aadeed41cc817417e40bb8cd0b",
      "187d56a6c3b241beb6987af7f6f03ad5",
      "c1d2f8ebf44045f5b6eb550be41d6932",
      "15c2a829a6fc42d8bc1c3422c86cf1ee",
      "86ebf71ad529460ebe559e8208879262",
      "493f86c3e71c4babafb5bb36a4f8abe5",
      "e24c83edfae34e49a1dd0a190355521a",
      "fed1658cc9454bc386f2b5735fc6ac59",
      "b987336ad4ff4e8f87f20332df7cb561",
      "be1480b4bf9c4ec5813bc3c099dfc08b",
      "a9662760c7884880ab82a1fb4e5e7a2d",
      "aa139507d6c640a9a4ee401b211d4852",
      "c57c46d8e9154ae59c2ed2b2deadb5d7",
      "12ed218e8a084fdc94b748de41f3255d",
      "96443c7702f04ad1828b1a2e44d42122",
      "e3f81bca86844ac6ad9e4483a4bae08f",
      "71943d23544148bc86001ef2355f6ba9",
      "3fd833e434dd4a63b08db537e92ef7c2",
      "21de54e2221c41bc950dc949fabba5a4",
      "14cd054287ca4631bfa06e5498a3aec0",
      "35d2e3d423a8489cbe873cb2125e2ab6",
      "8266e2dc8c8e4f3caca737c2a664db7a",
      "5c7ca9dca30c46db8bfc5ee8aa798544",
      "32ff1bdd45014e0eb6ed9618400196c7",
      "c76bba8fc3af4c28a15282c366065fcf",
      "2e10e7bbd67040c7967e4b9837653be8",
      "5c62dd3b533e4b6c9eaf6017ca395bef",
      "3a21e12a0c4246e5965a8f79b72f2d8a",
      "8562101058be4434a4fc279273cc5d93",
      "cb99854f2c964b4d8ab822d725503cb7",
      "c2640e7da9ba40bbab0324d7302b485d",
      "4e8dfdd1a92d4246b026cf2016a7e875",
      "ae684a2af301443a86ec9cf9ed6f664a",
      "47d40da6698540a890cd246f7115eaf7",
      "8280043672bf47db8bc1db31c2e197e5",
      "761e28eaf6814f8cb4b10f372da3249d",
      "cd3919b11f7a4516acfb5aabd21bcd61",
      "bdf10499e3fb4a0281bec6039e604178",
      "53756c3468d54b73b912c888a54408ef",
      "f7e81062f489427caae4c88fa52f6762",
      "295471f7fb1b4d8f80f26dda95121b92",
      "ee7d70d2d4fb4867a9525ce727e4837a",
      "360a57a71e3e4774bebe539446ef15a6",
      "8f56e28944204794b997619c42b79025",
      "fa9991e381cc465db0ba3d9fff956e39",
      "b8fc42ad4b594d4db0db2fb033715873",
      "0514cfd347b740c5bada04155bdf79f3",
      "e56540c3765f4df5b412e7807322d5a5",
      "f45baeadd9c84ff2a57e068d4bb2972b",
      "c59596e1a2f549a1ab029f6d62d5e046",
      "7f89f9c5b3f049739cd7c825d50dbcf7",
      "22ac2d9e1fb74143966b256c25ca65ed",
      "91380cf4b4fc43bc8800dfec23f6ec6a",
      "302c8bc208c7496faf0475d23c481849",
      "fd6564fbd6e741c88fef38ba230a7b0e",
      "89a82234f1d34e0e94c81f390b69b71b",
      "ee7aaa698af541ea8b57093ea3fa655f",
      "8af9f254c2f04533b33a5d7aa29e15f3",
      "8db3db1edd764e2091bbab82aafe6ef5",
      "d79d932eceff495c880833bfed6e79ca",
      "da2bc25963bb4be6a7495ded59b6e007",
      "5174ed6dee85435f9ec5eb3631c25307",
      "c0fde16b6d734c3ebf808bd9a622e133",
      "4f1994b2d8184774926c8fef43a88c06",
      "68f1439b1a8149bdafc5898b6265fac8",
      "ffa432bdfdca413aa278126730145258",
      "9eea43aaccf444f1914cc6db1e7e0766",
      "c64cd716980b42d28850068554ccb7c8",
      "353a530153de4309a2ea8748166850c6",
      "f5d5ebe7f1854454a07c4e43ff1a15ec",
      "7f3b86c038744e7f89c704d4f75c3449",
      "3e550dcca5024c959253fd5fb86cf9a7",
      "dca50d4fea1b4c6fa6f4988970b30608",
      "c13f5b1d0d5b4eb4ab943025e26f8a73",
      "6ea616d8774841569abd5a309f5c7e4c",
      "9297c1327e0a4a33bcf682cac95e047f",
      "ffd33da1106e4bed98da2799c2d45f91",
      "2db9d4c4e7504bb2a00000a991acf65f",
      "ad79fc7ffd204fe0803b1f766174027b",
      "991fbb6808a74b3ba7ee1b075dd41b44",
      "f97529c4fe2e459f951c33beb9e647ef",
      "2955d6ed18dd4201b463e0e50b875185",
      "700da92ad68a44a79f098734fec7cb21",
      "8b8116e901e24cf4b9f7db9c0ba44143",
      "e67fecacd87143839d5ca4b279710748",
      "b9d154a28b3849c2817c32ef95baad1f",
      "69bfd37c8e4d4ce7951fd9961bd4a5d7",
      "6254a90befbe424a93713d328382ed22",
      "0405f2789fa847de874aa7d52ed51320",
      "1ff26d39cdc2419fb3f7e15c9c461ccb",
      "263bdf5764144370abd5cf201601a8b7",
      "df44494960624fd082018dee655b3b76",
      "f1d4a4690584487189cac15657a61cff",
      "280a479be665443d836d8f025f0d571a",
      "59dd59c94aa64a36a06ca1c950c88422",
      "cc3839b928f5462f9eef2c4ca1cf6634",
      "0aa1f93e170e404593d2803b5dc13da1",
      "4a22a78923de4d2993ed2e4d793833e9",
      "d4323b24355c44a593b412a6ca3d2a47",
      "527a3b8b0f5441679b88e962d99e5262",
      "62cb7d733e1544459222ab8a9e0f5792",
      "c4823562a32f4920974d35d006409fcc",
      "7bdc9228952c4c3e876f7539c0692750",
      "7b32962de0154a4494ac09f67d9dbab1",
      "152c060f226a4356ab55f0f4e383a7a1",
      "c91d746be64f4f27bcbcc028611073a8",
      "85f8679da97c43189ec35a317f8d3a5b",
      "ce7adaf0d0d64640be67e9f7e4d62f8d",
      "030a09cb3d7c492183b5bba920b04ed5",
      "3a4fc4e69ed54ffd9c393e91208eaad5",
      "00d811188ec34d1b9b2315efc7641314",
      "e287d0c925974b9fa95ea03ee2f151e0",
      "027f82798cfe45dc8fc643744748ef3d",
      "a4e0aff083244c588f616a269feea922",
      "35396d4dcf804399887bf4241c16d501",
      "5e2eac5a329541bd9bfaa9daf4afa35d",
      "66f10229f35a4acdaf6bb0b2849b29ff",
      "5509f8aeab664c5d9a578a5dbeaf9278",
      "c1d6e15294f84a148156701e337cb60c",
      "620b8d86a4584e4a976483ec134e6a97",
      "3a40a3a30d774e958ff65d3e02d1cb5b",
      "fecd96c4618e47d29024513feaee87a2",
      "1f35feb289814516825b6887e377ca9a",
      "09fec6dce0ef46629cc0268389088e11",
      "ee7e9eea18e441b9a20e1cacd9fe85fc",
      "1f5eb5c5050645e186818d9ae5ecf654",
      "4c3acdd3938f4ec3ab27b92e1511f444",
      "4d95c3ce0319440e83ab0fada9fa9805",
      "4cf35ce1e08c4a1b9b10868e18be5f07",
      "6b0d8ff590214072968440007738ac1c",
      "c6d6251964dc4feeb2ddb494cf921839",
      "02e9606fa47349149124609bccc4a86a",
      "e73f100487e14b3b864db138a2c6ded4",
      "4c81fda7e4574b7f85f77d731de6d060",
      "78e6dd6d391d42488ef33bc3db15e8c1",
      "b0dea84ade9c412489787fbcfce3611c",
      "cfe16adcc78c44c58c9f86305a20eef4",
      "7958ea4b7d2c464d8868589c01762f73",
      "ed8a555bb1af4759b38158b8d775c1f1",
      "f2755b91bc29463cadefc552288d45d4",
      "311bd696e2da4643bac2f858136d8047",
      "347bf7f7a1454215a46ddedb7cffc642",
      "3fbbd8007e07414aaec8f1d15650e464",
      "1d8f9e9ffbbd4129af2b50fac7a11c87",
      "a9d14326d6454849909ee5af8747de98",
      "dd2a4887950c435eab32cd68dc2842d9",
      "b7adc88a24c34d7ca92e4a2972941b56",
      "72a375aeb1a9421a86374bcd79dda538",
      "5fe81d457b9e4bdc940626300ed81084",
      "51fdac0bc78342d1b85bda63ac29419f",
      "9c09d186f87d4bc3a579159c75354ac1",
      "f02edf2f169a434887d30fe41753469c",
      "c1beb4a6a8154d699dcf9f0ebfe61e9e",
      "ddcf3bac402a451db693b94ea22e0900",
      "d5a04b192ae34888acbea4de5d3da8d5",
      "d8cf3a59efdb4b44a9fc07dcc43cab58",
      "3633dc742ac644b3803ca08badf8f450",
      "d005834acfef478ab22421133048e0d2",
      "c788943195a6416bba847f609b2cebcb",
      "930c7c6b89e9432b8829f2fa2b1d4f9d",
      "0c16fc76b3f94fc194cff0d0efc55918",
      "1dce5e8d045b4e1a91459e1e5002e074",
      "499a8aa2c8d44f9fa6d72158b9ac6643",
      "d05d3e3e472341d3884b31a5a296bb75",
      "cf90aadd4d204c2e96d476e936666aae",
      "190812c584e744729d904dbfad27ae5c",
      "7a6614293eb34a56839007572ad112d6",
      "54335598ee5d4ed1b0bee0954f5f2ae0",
      "b7f95f6a415a4235878261601b4199cc",
      "91042525c83249c7bf7d9fd53a64625c",
      "2c980e5c189849de92460bf6f2cbacd4",
      "f3c388b2959d4929a2bd22b944fa8e53",
      "907993c9f40e473d9342ad518d5ae28f",
      "6c3a960d55e44b07b28c87d7147be612",
      "8ba3b721b7da4630817f855cb24a1203",
      "8554d1986cf84791a0c543e4eac86a87",
      "f3053c625ba240edb7b28d5a5f79a286",
      "87ac0c67b6e74b2882058a9cce9f04a6",
      "a2f50d5c8c1540728a384fa0a36c23f5",
      "0bdca8e1035140f6b3114ef0edd11762",
      "270802ceaf194d84aa30390d311cefea",
      "c0808f9f6bf6468985f95f0dc2912135",
      "a9fb928d8de7486c9520c7220cb8651b",
      "e6ecaee5b22a407da17c6f0a70164a00",
      "959387b87ded4f94b4da876830d70533",
      "942af0f49529496690735f5bd3b9b7a2",
      "26e9c415e99743e5a50583b795f3e871",
      "3158844814ff4db0a86353e0d4a48dd1",
      "cc1de0ad1b2a4f079378a8b53d8eb368",
      "4a8eb2cf393943c1a62a33b8cf96498a",
      "a82d792849cb4062bb383519f60d1378",
      "6e8abb5b74354720b7a252dfe9efd603",
      "359b15ff97db4ff0a75ca972a5d8bfd7",
      "54e2f7a41b9f4fca97708de5456abd9b",
      "51af25aa2c9343a3901358c8bd48a94d",
      "610cd8eb0e9440f6966e7f3c43586cef",
      "d61fc54fc199436886a5833b55e49924",
      "16bbe81c724d4966ac786aee8dff2623",
      "f3bbe2bea97449f2aa092f780a1f396a",
      "6b6500e0b3ac4147a04eed368ded2647",
      "47440286dca8424f80ca9774a3b3e95a",
      "308395024c7141dcb28312c7b2bc9544",
      "3c6b60e578c9447ab1ae216048535cef",
      "7d85da4539bb4f9aa3d7d723d6f22f47",
      "168d681cc68a4fdf9f8b7a14c4c7bf04",
      "274bab9977d24810860cb51b93a5f405",
      "7cb5f4f52d3043139d927174a76b64a2",
      "97c22de26bf249468f97b61bbcbb329e",
      "72f59f84e0dc4843a4db86087e8e515e",
      "da8f83da166341849f11a8ccfe741deb",
      "4b56ec76adda47dda66dc32c21d828a3",
      "dbb38d7f64704a9d8dc83e2221d714eb",
      "84d8549fa2e34c98a741c1d27c074f9e",
      "2eac0a677f37451d81ccfb7ad3237f55",
      "fb61d5ab48c3424f96e260c1c1ce473a",
      "6ed27a3a3dbc4a7eb6791dfeb039b0e7",
      "57b573989efc4f98b240eb4f3b4a3598",
      "b72e1be0925e48aa820791835e641807",
      "5bfcf053a718441bbf81ee7f8b7f5d16",
      "c22fd26fccc74899952cad7f6708bc86",
      "c6871e97ac6e4519bf1080a45124f0b4",
      "9487d2bee5dd49d49e605795216727ca",
      "096a0623d90a4c3d9c6dda33c79e2e45",
      "84a4c20b1f784226bf43e3af6372baf4",
      "79770126877b4a0fba76834d626b1f60",
      "08f664de48a6471bba47b8e13a64b0a9",
      "0b06c47c76f749fe9b2ec6b2b4c78cef",
      "af6e424b693f4a0fa42eafbd972b2299",
      "95f3c1480f0c495d9e142c4b269ef2d7",
      "06cba00d97a04e8ca131daa8bfa4dfc7",
      "c128a7bf32ce449982f014d7a3f40f29",
      "da99244efe6548e297bab49b66c51f5d",
      "d95321b64a4246ea8ce4c17bdf8dd7f4",
      "498e5cb8571f4dc9bcaef50490e75184",
      "1f415874c87444af89465c22cfdef41c",
      "459c6013cc6e4d8eb631b52963f0468a",
      "4dcdb597bbb24482bcb55adbad7667d7",
      "0d7d5bef971f408887802f62cadc675c",
      "04841eddfa5a41e6af8e3b6bd460037b",
      "92707435855e4bf78d3c45d4d5dd8d55",
      "49b03a2abca84ecca31e63b005a65ecd",
      "70726c410d984c7781b42a7393b03e1c",
      "f9937e4f51924591b5efa4757f3ebbeb",
      "f8030da22d204e4db0e51c52e088af81",
      "1b84990fd8184e1d9206211ad68f3c8c",
      "57959a4498974a38bec6f15b731160dc",
      "e62d0ad4449f4676973d1b28556b7c04",
      "2f1e5e2a5ec94596b7f49bc05969bf50",
      "47827596c50f4f0d8e2963da3a10f811",
      "baeb8e029a894f71a7ea408d93c1598b",
      "4d67f074393545929616ef05883a223e",
      "2d8a1596fd19475ab7c768fdf24f9c94",
      "0b86162976ad459ba056ccfbe43ba678",
      "7b507032fe1d4c3f8b44e6cce61098fe",
      "39c82ceea6584e71b0ab9dfb3bb64546",
      "5eb27c62cb22491c8ad3e7aaf9dd3c32",
      "86c6e8e8341d4165bd12c0a3e190030e",
      "0cf22ed0309048d4816df55fc009275a",
      "5612720f61f146949467544d8f29bac4",
      "78cd07109f3f47b7b7dd371fd4a26035",
      "40565aed69e14d0fa8e67a341782fd8c",
      "a95142ce500a4aa0939e1983b5e77fef",
      "edeb70427e9a4795ad285feccdf4c6ec",
      "d3063fc3e06c431fa7fc3de2b69ce209",
      "3469ca2300c4445f88d4f9ce9c20b414",
      "54ee055fe0864e45ba0f83ed76f27274",
      "ab4d5a7f49a143039fb87f3505564b1a",
      "f7a15e6a60084909932d389d96f3a021",
      "bfaa556aa3144dcbb6e5c0317894ac06",
      "6d419ffc602a4fdaa21ac805fd9b1acd",
      "ea07200fd6354ccc99f01ec9d8f5338f",
      "7a3e789bbf6347dba51edf81e714f89e",
      "287505e5ec144aeb9bf7305fb3e42632",
      "14cc55f02e064e19aefa07f5d0561ae6",
      "10730856b5ad45b3a98b285efb569822",
      "975c810aac6b4c48924e3f50786ce457",
      "dc0ce2e89d634638aaf593a362262b41",
      "4940c96f83df4b2fac9469a8a0148f86",
      "4127c097345d41c9b94d955d37fc5bdf",
      "b61abe77d11b4fb0b1aaf10ca8979f82",
      "48b67143695d4250a3a718769ed2023a",
      "243932946e1a451c8f24f8e1eb7869b3",
      "77349e5eff0f479aa33a97deb4c51745",
      "45fdd45672ac47978c2a93738141855a",
      "e4ec8b202d4345e7932712e88554347d",
      "8db7895266e146dd8f76b3ee3e2be20d",
      "159cfeba87014758b5ff0012e98ba8b2",
      "11f0ce62f7674c5582de3b301b6b5e0d",
      "8762f91afbf24f95b70fcaf838736988",
      "19be17de81574d0181594bfbb124e403",
      "4cf9a28cdf3e4b32ab137651d132fd79",
      "ce12ad6d1f214cbd980615bd80bf0498",
      "6e8650ec24a34688beca45392562010d",
      "7e186c0d81144c59bd8df20b40ea8503",
      "cfce192d552449ee99e02ec3533697f4",
      "bc91aadea61046309ba337a4bd2a8030",
      "a060a8ea570d4434ad4ecfd3ac8780ed",
      "c292a0581514457b91f3404897a918f2",
      "0c18a94934574661b6497c4639d46637",
      "1c35406031b84c908b4262bf19e793a5",
      "c6ebb0dc382a41d8a1e783d79db780f3",
      "4eb66ad9d2de478b8c85c3e6d746db53",
      "e00433a8715a45e8988866f1328693c2",
      "e854f7fa0254475482508b2a1d414013",
      "78a5b25e7f5f49a6b804db445e68fc55",
      "989c4c79b94e41fb944bcc992f2b1b09",
      "7a19de44122143ff89d16407d85de775",
      "65563c6185a84961835e5fbd58f09060",
      "44d8495f2ef64a478ec05f141c5b8ebe",
      "428ea4cc7ec64335931f94d9c11ef05f",
      "5f04f288ae6945ea83d025b1dcfdb305",
      "52ca3c74375a4c688969936aa77ae58f",
      "7c72199433d740f486ae11d2288ecea6",
      "7316b5c3a740479ca03f562fdcf90c7f",
      "61bbb911ef9740008d4f5ca3113466e8",
      "860093ceb2ec4e259d552e995c60dfc4",
      "5f9746e586c4424a8c54471398180a46",
      "6e5267bdb6f5456da8937af6e38dbbfc",
      "44ba8a92198b4b71bf4c1055a563e893",
      "f7c744f8089f4d2f811c74728234ce97",
      "1c87f26ddc1c48e89af8cc9cb982e033",
      "d8f0a8ab5be14be68db51d46c0bf1b96",
      "c9f590851f854178a463585dc7c3bc50",
      "af431d53f81f4162905ac872374847b7",
      "880d24a72a1340179803090e267aca35",
      "e116a5b376de48269736d5ee8d7cf055",
      "cdd6b9c159764ec1bd73d8c55422a39b",
      "acda241a839843a5bcba766ca628b113",
      "0cdd70834c764179b6aa705bb90b4a7f",
      "6531b20e7e6d4b8ba3f90a10a1e9b5df",
      "144e9c96a3974fd79dc071b33c9e5436",
      "5dbfe91fb3244c8d8cb75d76593684c3",
      "3c702957222545248a5fbaab44192b8d",
      "3795924f1a164d83a49e8e48ac77c717",
      "99106049c8094da9b64dd959fa0843d3",
      "29bb4c7db1294cb8ac401ea15caf7346",
      "a62224734a6b41258e4242cd9ccb0c32",
      "d3237c7a5d27459bb56c9a89bdead2cc",
      "cb783ebac60f47fca63a8a891f7c8548",
      "ffc74af1529045b896a66dbba0743e2f",
      "499a71ae522949cbae3f7cbe4463830e",
      "6e1359a7cb2c4573911caaf2c5a31399",
      "ce696bbd6b804734a498ab4702e1390f",
      "65dc9034e69d49a09019a85c4eae896c",
      "2c9db1e3af294de595fa590980081c1f",
      "1d31cfff581a4b8ab30f9653ad3fd946",
      "370d7794b00a46b285cc203c05133379",
      "ceaf8e79cbb3492a9641f65bdff111e1",
      "9a8287bd3c1f4349845730458ce98f5f",
      "02f45c5c66ac478fb66089172029c8fe",
      "010f5a01efeb4439bccc6d81f64ea28f",
      "da7431a5e8f040e8a072cc42e032dbb9",
      "40199355c7344234b5c71d857a41c5ba",
      "8b463e68b03a44f6b62dd7d4162df4f5",
      "104b8181d16d4cc9aa668937d4545cce",
      "e1365fc2380f415eaaa57a22d8232d9d",
      "3bf8d1cd64c74980865abef2c8f2697b",
      "f849edf73d6b4baeb9b1e7b3dcbe5f89",
      "8780d196d6a54934955bc4670720e8d5",
      "8c2bef53700443a388e7aab3d2275884",
      "34a152e3130242ceab5c7c37c5c72bac",
      "d77a79de6ad447fc930c77ab5841c0ed",
      "224feb545a2745db9a5852635942d052",
      "02c72c5b854443eb8f4cb020cf1ba71e",
      "772ba2c8011a49258ec36a2a5b38d1a9",
      "c5cd7a3d8808401b9606910a41aad244",
      "70395ef7061845d79ffd4779f30d026d",
      "1899e0a7148c44cda0e6b056c905f78d",
      "58fb542563fc45f2ac996d87c6d803b7",
      "615348e212d944538a48a8e83915f7c3",
      "251f2497e30542448ba8a0d10dd34d87",
      "580d5f14b18c471584a1f535274bb935",
      "1f5f2ad8b4ba4a84ad9fbd6c860e4528",
      "f24f3577e417443786f65140eb758e2d",
      "4f18c0da9b4845a6bc6f12911daef9e2",
      "14d5aa8db86b4e4ca1b66e8e6c77407f",
      "22528e7451194d0bbed4c44d3d8ee876",
      "58432721bcce48739addceeb014879c7",
      "9d2bcdfdc62143e98bd7e1f44e1a571b",
      "74193b2e6f764b04af0091e3efa27b5d",
      "4df7da346fa84823a44bf259969113b6",
      "b3fe3d6078314a4599824d60d33c862b",
      "f54704464acb4c2ba3392442656da54e",
      "90e7726cfc604684b051ef48da9a8bb0",
      "bb02a8740fc54d0b981c60ac3b25060f",
      "79e2074e93c04016839d986e019f7ab7",
      "d398383077764ea999fbd8b64915c169",
      "50cebf63ffe5404d97a94e6966951df5",
      "e72771c0acb84dfa8d27fed9f6a2df40",
      "3cc63bb35dc54c20941a6e39aac9d888",
      "41b8ff0827ec46b29a047d03ceb8e3d9",
      "ba4c12d7cd3b47f5b4e8bab1f7735249",
      "ab2ced0ecd00441e9f337cb3b42d5b82",
      "f75f31bc73ea42108ab409afeb0707ff",
      "1a16b98a8deb4ae28fdd5500d3bb58e1",
      "ba29e7ae276646efae7a52e332eed1ae",
      "c973ab06df3a4ef885e62c58b827e6b5",
      "084f1c31e9f84bf889189aeb1563f5cd",
      "d8dd5c49fe94472fb6c2c17fcc77da53",
      "f9bc76c0cf8642bb9839e2d74946b597",
      "99fac8a1edee480592e72b2de53ea50b",
      "ee00c2a693b744a9a028a2034cfb2b11",
      "d0ba0f702ef84bc08f22316e710c3b29",
      "1822cf23e1b045418343595df7e6db97",
      "74485edb380f494baf71423481f5321a",
      "2489246d40c24786a69d2d76d44075c6",
      "4acdb74faae44d76a3cb017127faf387",
      "70aedef7f8a24e8c8a7454921ca94234",
      "996410b6dbf945a6b4ee1c9226b07d28",
      "18d28b086cae4377b840f051c5b8d4f6",
      "f173dcf457554e0d8a123886d54639dd",
      "1213361c7f32477e850575aadf1794ca",
      "b0634ea7036f41b6a0497e28992993ef",
      "99708b084c1c4c4e8929d3a6e9f06393",
      "7b5e2d0e16f64d67a6000159db8d17bf",
      "c4aa56cc7b5b41aea816a33c6eb69f31",
      "e5d48bcccafa418f94367c54b182de2e",
      "e1f933fa33274eaebc483cb0f1e58656",
      "4ce0dcf3bf3a4ea184a57d45627b4a77",
      "bda20d18cfab4aef8586104ee856ed9d",
      "b99f7ddb52614747b18b8e532ce6dd5c",
      "8754c7be41524b888c9d967a9e2ab785",
      "3ca10f2deadf4846b57e5351583f6fe8",
      "3c3ab360c5fc4e8eb764cfbe25ee90b3",
      "113d0c313fe74cd88c714aa42e3652f1",
      "64f5786d03ff4c61b0ead4ec8543c50d",
      "8040ec8b7d16462bbf4b2f2d290f16f9",
      "f6adeb8972ac4547805fa12c0078ee41",
      "639cd11e44ea41df8057b9843281f824",
      "a6568952d21348c6be97449e90307153",
      "09cb9135dafc44e9887c3aa62d017b5f",
      "bc5b00f0b81d4d2a9e6d0d868f704eab",
      "7208b5af7cac45d8bcf50b298608ad00",
      "1e60e0a6e33a437e90b8d93097fec9c1",
      "ad7b7523574e4090ba5d8a9270a8ebc5",
      "857633798500403681fd2c049bab6f4a",
      "59252139ba894f7e9f8f21ce94a3937d",
      "f1fbe9997df642e788f871b3ad91d763",
      "c26ecd39bec1427997966f17b22d00cd",
      "730a11dade284a938ba6c3d9ff16f64f",
      "cbe8792864454fa9a1a93c65539be3da",
      "dac6eb63bd604481a7e611be9bb13078",
      "8cb88370591c4619ad5ade9f0c668b89",
      "2d324a4b55cd4e57b1ec517812a098e0",
      "e0059824849f4aa59aeb5c8b015be895",
      "321ad73d330c4f0087baf6973ef65b42",
      "7b88056223164b35a8b7802e1ac153ed",
      "b8d69d06925541eeb378462ef541ae36",
      "2d521c9934984601858d5f74b8b3d7ad",
      "244a58ecc1ae4ed78eb730872e2d1a67",
      "2a7645e167c64a49adfa6ce9ad141d67",
      "7acaf5ff9b8348edac71ae755730077d",
      "0d82abcdfdcc456bb95aabec1fdf3e6c",
      "dcfc3e4a197840f89e1dd58932654e8c",
      "3ded8c611f9f48029b215193945b2fc7",
      "ef85d9046e22472292aba7a66a2f2fed",
      "63a09c378d694dfaa47fbab415b82615",
      "6140e10f16a745eba7789b4641ba9365",
      "07155945fa21464987305093ca64bc09",
      "3f86e971d882455ea3e87904c022bd80",
      "fea0349084334f51aeb40dd2621a7d36",
      "36e1299ab6c1415abbd74ca6d0c44e53",
      "c310e330834944db940a97df9dab41a4",
      "4f957a455c24499e9f421243ed5000c0",
      "9a5b719fd9ea47bcbb66067c67173233",
      "e4f4ac4b0c3a4f49bb7de0578bea925c",
      "72eb8379fbb64c3e82ecaa72c8f9f3a0",
      "7c9ea5b39d1d4db086f7c945a580f43c",
      "da761fcf8d044ce69eae58e00ded324b",
      "076f2ad0aaf04283bde75c8c919d3f6d",
      "66f0c2e9cc534bad83b241bc6b948fb9",
      "1d2d237ce5474a6caf81eeb026b4d470",
      "b1c9847dde5e4b929e447453e679da2e",
      "8ff32517878c47acbc7f08841a768d66",
      "e3c086f101c14f81ab005c3013b09d5c",
      "51d2d210426c4934aabbdebd6449f4c2",
      "e9bb5d897b854217b756a0c1d7f8575e",
      "3071494c54564840b25de1e48af867ea",
      "860d44b5973e41abbb79c6433d45a142",
      "5a3064b8dbc640ef9f31488facd53096",
      "09f0fc0b04084951883fe8486e92fe25",
      "4a30b7d346d04080b934e899c3493816",
      "74e2892e77204c6d91050b7d0cc59b84",
      "60c3dcb054be4cf6bd28b9524d53a3d5",
      "625269cbacb64cb499603615911682f7",
      "a1a7ddbdb8ee42a6b75169ee4dbdb96f",
      "a2bf0f11931c486a9141b8fcc399f1d0",
      "eb4697187ffd4106a37a5c8f31ba93d8",
      "0a654faf97934047a7f42f8b25dce34d",
      "dd91cbe6d63744ec80031f93915064e2",
      "30d65ef2a6f44a87babb40baa4c6bc01",
      "bfe5a668a172432988eb1a4b20bd255d",
      "849e59ac1b7a4b9c98f2b43a4c329ac9",
      "d807018bec5a4bdca218b42c890d1ee1",
      "50e0e903de08400182fbf6d70f4ae0fd",
      "fb4edda368904feab82e8da56bad1a68",
      "48aba791b1424718a448eff950dcdf82",
      "3d79c21676fc4f3a873435b6d91ac740",
      "1f68e2832b4a48f98e1793c39df7cca4",
      "7e0e05818d3049dda9e5cc7a659c7ae3",
      "63ffde2a9741453fa30b8c3c1b97b951",
      "8cc23a2574784c94a8adcb48c8cfab14",
      "ebf51e252af646b181c8ab9eca299cd5",
      "d68c51917882415da9a06586ae814a8f",
      "1c8581a5cf3f41559141e5cc90d264e6",
      "8d1970d3d03d466c84b8ee4174d2e757",
      "80fa48f5c8924387b04faeadf693b513",
      "4a55c5228c6a4b069e619792d193ac11",
      "6dedd2ada4c145a8aec8d438d45e25d4",
      "4fac3e05676149349e4a48a5e0b63659",
      "a671ea4dc1da47479655e1cd036fb3cb",
      "3d44ad823cc74e22b0225fabcb800410",
      "c5146b290fe644d99d3bda2da2ec01cb",
      "fb5427399f734de78df4ccc3b81c5c53",
      "58fc6c4e961a43d0b452306aea41ee73",
      "b186a7751e7146628cdaf8a121cdc238",
      "f7f9b2d21b4a4336a96f79e817c9440d",
      "35ab414aaaae481abc004e30bc265248",
      "2a327f6d28384c26a122655ad536dd1c",
      "50bfd63a223c48f8a2186815e8e713ee",
      "d6f0fe2a0bc9448087ef596186a8c6d9",
      "11cbe75a0f314bbbb6c72dd657c2be1a",
      "e73442914ba746d69c9300e920c4b65a",
      "7b47732ceff6453e9f343b3fedc056b1",
      "041759ed6b9241f3a02525652bf28129",
      "d70dc9d4bf9a40fe84bbd1e4f5d77a17",
      "120205fd086e437293c788bfdb2870fb",
      "62e87cc071464bb4b05b29f5852c7e61",
      "99f733bf933440ab8064102097727bfc",
      "64f103b912fa487697a6dbf6922e0da5",
      "b6681a17e0e848fe895f06460a211ef2",
      "c79c81d5d413435390d0dc5983995df3",
      "9b0967ce131e4edfab2fc302f363d017",
      "0e46d289d9ee4803a20ee77996c71545",
      "b6a366ded14e46f1add639ed4a0b4827",
      "a15848dd261e4e5fb9ab25e9d2b89482",
      "44cb9cc224fe43c591fef7386e4e218a",
      "0ea84983881642a3af101949954e72ad",
      "1f77a52d3ce24178be0df426fc100b2a",
      "9ca8f2527c35470ebb56d5d1dd9b1c55",
      "b2b5f71d2fb048e0a00e381210e29f4d",
      "801a87afe079433fab566fe905d0c980",
      "6926a3377c1e49f48e43d85581284aae",
      "7bae924a010d44b68c4ce245c336538d",
      "4e090ea8650c428488b168bd81a32c46",
      "8c871aedfa1f4acdb3a55d6fdc291954",
      "56745e81ad3f4de293464a8600b52490",
      "3e30cbda190a474291229d098822eb4f",
      "523bae0491a045d0a29cd0b2e495e383",
      "77450b731cd74c44abeae5af33a93c3d",
      "968b10dcf2bc4d22a2177cd643e38084",
      "e0928174ee0745f2bd774de48f902f08",
      "cb609107efb9448daf65dfc22cdca4c1",
      "176fc3a8c67448118316fde36a90b74b",
      "93afbc39c6ab4128a3029e0eded5c71b",
      "7bfb09b37ee34ac0b1fb700c42767b73",
      "90b1a22607fc439db5779a9eb4c40d20",
      "19fa622cefbb4faebebdd96d733ab89f",
      "edb6c9646097418e805e20fefce70db9",
      "1443a091e16f4e23ad1bad2a278eabcf",
      "3458dfaa50cd42878556cb3ace3bd6d5",
      "1f9c7d151b8941c78a7c212e88d5dd2f",
      "776ed45f19df4d4fbabbaaf905edd229",
      "a599794f87d04a81acc80ba6238555e6",
      "72fbeb6e7739485ea91e86d1bef7a4e4",
      "d1a5d3e28dc3492aa78297950345b847",
      "3b15c56edd4a4b85b9abf32fca697e14",
      "56a2ee2d945541c2a4f8f47987b687d4",
      "6b93ed07fb9a4e33b465813bb612d35c",
      "191e1d5527174cf6aca7430a2a6074ad",
      "f8c23be52d5c4050aaccce533f2fd419",
      "5a69fc0ba795475bab8c7988f9db43d5",
      "9ea4d01575884a0a9b809e270f34c335",
      "429640c25ee948eaa5298cbac0531f7a",
      "6a9d5ba6c4e747c0a5283f9496dce8a7",
      "e537eb1e33564506b77756c919fb5c65",
      "2219406f1a20401caa05cb4d238a5fc1",
      "e2df95ce8cb14af9926654094c621d50",
      "77d05c5e1fe64127b1c84881ac14ef27",
      "f3348f0fe4e54065ae03c7e4f4e1c963",
      "bb8175ddbb0f414ba9770f11e2601d67",
      "fdd549a9b9b34aa8ae909e9ca8fe8f7f",
      "1b9bc4b36de54cad9816f1fb129d9520",
      "1170e372e34041b6b66c1841885b4fae",
      "481ecfc283bd4325bbc567127f68cf02",
      "b69c39d8aaca4dc48f7a4b60bb60739e",
      "3565af116b98472fa8cde5a5b42be35a",
      "60223c41da9e4222b7bcf54dc53fd547",
      "0e1f387bf2ca42d68901905a11a1ec6c",
      "947d5ef50023416a9bd2d0f88d260c63",
      "597b91be6526459a9a7ae9052d309373",
      "2d8a05edccb543afae3dfd57a5bc9257",
      "2de6c291d05d4b959bce4e4de2d67bfc",
      "5a4fd275477d4ddd90f33544ecc5f055",
      "8b88bb3711f746e7a75ab5c6cedf1242",
      "ce9ee17237834111bafeae810c3f5ffa",
      "e9191a27cd6840ad8dcf38e77c03e85d",
      "d4e4efbbcaeb4eacb781fa0c8aadfe05",
      "55b64ff0ac584c3e8823fadaf8a9b897",
      "eedab9fd140549aba13914dc58fad4a7",
      "d225e865f2fe4fe6af7e79f58a5b3107",
      "f5e17f2e06e94b92bd1ec2ccd96cfdb1",
      "f3833a0a57554a3199ac91eb8e9e02a4",
      "a4b3ce699ad74eac81b7a309301f4841",
      "0461a194ccd346e4b17abb41be6b7aca",
      "f84960e973e244d2ae4f92f0cb1a0d78",
      "0a3fa0d134f644218651eec465c3453b",
      "607cd7953abe4729959889888234813a",
      "b7a9e00ae2ad4bc88a14b0c0fea4b7c7",
      "689e9528640646d8bee2bcfc6b9523ff",
      "b599f34736e14600a5eff6a7c8deecae",
      "bcddf841a36a4e3ea06bd57b499a69a1",
      "a0a31d82ad964fae96034c805a7ef7b5",
      "48c7f76f7b1c42c9917d0a7c7bf0e027",
      "9e1c7317658c4453b92eac45f3c837f1",
      "c945aeb88c754ecc90e497780a1c3acb",
      "c67e97d39a7147e8870c768f51ed36f6",
      "ae4676951ebb4afd9e59257a9ebd0469",
      "5b89a600e83149f6b696260765d220d9",
      "cb3c4a0a53854a7fb6ddc39cf122f103",
      "ede789f06a454962a542600e485e5db2",
      "c5bc5b3f728e41efa01ee35dbda769a9",
      "c24547a1f86d4cb3850e8ec1a3da8c6b",
      "12c33079c1944179b7d71373a9af4d80",
      "3c3245fb371f4cce8efea407f1e5bfed",
      "3ce1c3c1f34c49c5acc95664590aaf21",
      "c14e8900880946508d02202532c2dc45",
      "709ca4421361408da6420bf66000acd6",
      "7ae49949e1144432a95a7cb6bbb2b40c",
      "db891174ca8b46c6ab4b05bea61e4a18",
      "28435c2b3fb74db89169078cf5c37aa4",
      "4419009981b9435b8d1bba87ca7975de",
      "03d0b80e90f5491d9e511e455df5116e",
      "e529983fc7ff4562950559901929921d",
      "0b4d265b2ae1476ab45974bbdbb94493",
      "4973262b453f4a458692fb220ee9a0dc",
      "d673ecaeadc74986913a3a6247bde1f3",
      "eb7f95fe8a314d8a9bca3266d4e2f029",
      "43e245eb773f48d5bf2fc0860129286a",
      "869e18c56a9242d79303950c7c4ea4a9",
      "099ce9df509b4157a936c515e0fe84a2",
      "29165e1ab698456f94f5f4d088b2ec83",
      "2af6e51f3eda4b64bc5337381253bf82",
      "6dca2192216e45df999d01204eec806b",
      "8370c8ba1b27483aabeb63bee47c4380",
      "717ea91d8d8844e6aa07337493426a1f",
      "62ce1bc0c8bf4256840eb3779c306eed",
      "e5bdcf9bec2c4602a350e6348511c0b7",
      "aaa1c58c885a470c9a0a547b5747bd63",
      "0fabf62d117149eeb400eccce1905d20",
      "47ce386dd7c24237b8ad154ef50bd89f",
      "531d4b73d95d4471b1afd629febadc1a",
      "b0cb978ffa5a4a66a1fd06d28804af89",
      "cfa9182f3b37453b8f458981fefbe688",
      "2e8ae2e22cd54b02898ef1eecdf8dac3",
      "4ca13cc4efc34dfeb6376f1c4a9f88f4",
      "4191e71d493d4db4904ed81fd5d70249",
      "ada03082743e4dc7a862833179b94084",
      "105bb6183582475c918bcd6ac7494629",
      "490f7f88e3464356bedc5de67f062e0f",
      "f1e243184e884424a0c36e6bdf8ebfd6",
      "36da6cd40bb5430bacf06d66b095fc46",
      "c852788337a4421aa5b76ce7e674577c",
      "332ae7098efd4396ab5e4b4862260237",
      "3b5aa570ca0c4d449c7bee6c2133a970",
      "9edab25e8f6341bd9d88e99d1299c911",
      "6e62e9ee049e4fdbac153de10ff585b9",
      "207ab83ae184412fa3a668963379f5e7",
      "bcda2b860e1340b4bcfe5fc613c6030a",
      "e1ca0f6462734772b37ef18e86cce5c3",
      "03703b3fda0b40d786ac9a77bdf7dc7e",
      "031e7e2268214f15a110d135d65fab48",
      "b8938610696d4c389d3814fa7c242c18",
      "1e6b5ed30eae455c813ade6a6a7448ca",
      "9540046e1aca4e18b802a0320d4fac03",
      "068c02d9254a4ebfb76ca1b90a21442b",
      "591899a8de6449ea9d9082069f3765a9",
      "4948ebf16d69436a8025c0ff5c0f1775",
      "257c2400903443df9d0ed50aa8066334",
      "ff01d617cbbb4a9083c138c77dac2083",
      "4ec0acd3c9ed423d891bf11b550f0098",
      "7cc875b6a6884bb393096fa42afe489c",
      "00332e5c56fc44ab83cad119d09af21d",
      "5159e9daad3147b88ae7df2bc1da594c",
      "63ea206037b54ecd9785210b39255df0",
      "b80bf243bcc144e49c3047d5a3614456",
      "550a0caf8e5242419be13e88968e3bbb",
      "808eae6cd22f49cf8afdd0663b06f41d",
      "65d27129966b487bb13b695a0305415d",
      "04f43d48f880479f8bf2fad949e47553",
      "4d3c979a499a4daead1d808f6073372a",
      "1f0ea63143424b938026af3ca984c913",
      "825690ee0c0f4d97848d104bc971390e",
      "d360a11c484d4c82a05bbae25ab62221",
      "aa0316a4af2f4ee1badcfea49ebcf08c",
      "0a60cd63f6dd4acb995bc272fcf314ca",
      "7385d57ad94e459a8ce1cbe29d899150",
      "b8c34100db4d49e6a7cfa106fd6de8ca",
      "92be88173bea4e339a33d09b3cc637a1",
      "aa55149db1c24e3da38ba40a001ccd34",
      "c50d6c24ad6341c791683a0991f74ba9",
      "69830b4f39cc4e6596b5cef5270d203d",
      "7d52454eacbd4d129fbd32df8ae3d124",
      "6019d8be3b914f8cb3bf41522fed8cf9",
      "59857dab6ce34308bd72247b971c4a9a",
      "4a33b8aadd77427c9295dd07acef8a6f",
      "bbc8b994e95843b6b04c5cf29f62443b",
      "9a1b5f8dd5ff4fb5a38749fc4afbb34b",
      "b5090360342047a1958b0cece485c5b9",
      "96d532f0c5e048ba8e62182467d5c5fd",
      "18f5b2dbcb9c44d38fd1a4ec4edfcfed",
      "154d5a492ea441d986d08b037b8ed115",
      "2281be7e203b4f3ba4a71831b687e214",
      "036a3c69788f4fafbb966985eb407c36",
      "0200eaa509344a759163f794dcc00a10",
      "9ab9c565a8bd41cb9e25e9fbf423d772",
      "26f6d2b871f24b30bacdd5b1ac546d68",
      "ded9d856137f4d799a80e923ba257966",
      "d00dcc4a01a14f5aa07cd1964ff7a219",
      "2954767dac584276a1447a5d9fc2f249",
      "87292ca16bbc49e083186f9941bf1134",
      "0756c9a82bc646cba6367ebc822fc458",
      "ca359f9442f947ca8cbdd833d0e36612",
      "8241af6665cb4413a55597918da00097",
      "60a0cc1dabb6416bbe4b4191590a76f7",
      "903f0a2b11bc4075803d1a173c47a365",
      "38b40ce3714e452dae9a07ac49a3dd9c",
      "20ab789e8a3b4498a45cabab9cff6d91",
      "303312ae94f2423d9c8ee221e6dc2a20",
      "f067d71dcf134697b2779bd9d5aa341f",
      "89c2f5b4a2844e2eb07bf9937416116c",
      "e403d837226f49a7bbca7833c3f5d8b9",
      "b0a037915adc4392848fa6afad0f4da9",
      "14f5af15126d485dac46eb332802099d",
      "a1c6dbab7b9c4090965c302219d44ad2",
      "e92fea8b003241bfbd242a6756acf92b",
      "a83cdca186084e118d4325e4aae1a56e",
      "f27bcf8ba7f246aa933faac2f38d3063",
      "decd40f6ef06417bbce68296acc393d0",
      "6ad1c8485144420b8f5264c8c6097ba1",
      "214d66d9cbf34f7db7f1f331315c925a",
      "01ee9de5e7094fb79b63feaed7c3ae87",
      "cb55d143e24f4dfdb7dbbade39c0b3f6",
      "1d529c8d426742e3af24ce6db00ad935",
      "1ffabaca59d84a708aa1c78a0e07f8cb",
      "d8d6603fad6d4c8cb2e47e89d7d5252a",
      "495011e9ab9e4dbd9ca4061f85dcc2c3",
      "0f187f40dabc4090aa9a84448a75e7f5",
      "4c44bc25b5c84d868938238b4a927719",
      "8688ac9efe594bb9ab5ae4f319667dea",
      "890c7055b9384f92b9e2aaf42e689be1",
      "1700892a6cb44e9eaae2246dc51a954f",
      "ef9fc0e672794da8b82daf5a8e2a2c48",
      "f839ce62e7f34bdd8fd46e615c582082",
      "d177f9c28e554d0a8e02955ee01cd729",
      "8b08db4a02f14797aaae3ceac8a98559",
      "3d14356ca310458d997f6523db6eeca1",
      "47625f9799fa4d8e97d9be963d261c9b",
      "faae8f734c3a4e76a2f0f39db4734033",
      "af0c11524dba4847b0af377c139cb807",
      "6abd074f581a44e28a5bcdad5ecbe347",
      "24d93dd1354e430d927ea0cba3c7612b",
      "d33f6f44c988455abc438109a655ae5f",
      "3f0e447193824839b683db0563187e8d",
      "b120beea0d444fa99df6d8b6824982b0",
      "9846a01d719742cbbe44a4bc45831484",
      "cb815898a3b24912986dc48f332a62a7",
      "cd517f2f383b47b592458ac67a046e05",
      "f02fade31d494b8d9aac59b45c9fa39f",
      "945646f797d14c868ef104ad1f407e72",
      "d7740aff1b1e48a798837764f00c9066",
      "110211b941a94ff0ae5661b3db4d2283",
      "ddecf025edcb45ce9689b53a8926e565",
      "5157e63c9e6946f0a7adfb75e7880b59",
      "f5ef4eed773d46279e502281bd719edc",
      "666f936298974512add6287daa781e44",
      "68db8d7c702e4416a07b4500aa245e61",
      "c163356d5ab3489eb8cac5c3cfde9ccb",
      "5dc5913626fd495fb158087050758347",
      "bb2fabb748dc4b3dafcb44488438bc4b",
      "0653b50bc1e140cf95176bc9ebaa641e",
      "c89089fe720b41679ca9c7653af86366",
      "cbde3b6efe5143ddbc83f08e55ea6091",
      "f8e771734be84fe28a77f1a8a5fc15d1",
      "b834e6323ced489ca568ffe825f4c937",
      "b8f1753aec464e0c8555ac34b55e0494",
      "2fccfcfcb17a4d82a688a1f96fc057b6",
      "a98b5ef9bdf54611aa8f680d191b1358",
      "3c3776b97fd34e86b1030724ef564def",
      "545aa982f18e48839e11a29b56476057",
      "cc7965dd862d4a57ac5bdbfc73368b52",
      "7afef8d4817d404183ba97641dea49ac",
      "e8dcf136068949e891b7c7b067941321",
      "4b6ab6ded6784b768623582639f37ad5",
      "d4346b9d3c0c4e60b16feedbe95248ee",
      "2258538a3c8f4720af060aec3e53db67",
      "c25ca3397ba748a881e9ba5679b31f60",
      "c256c7e4c5ac49a7a883dbd4376381b9",
      "fc9bb4057b064fe2bf224fe6d3fdd90d",
      "fbb8d7bd1e0b47f28b1cf5b8f54020a1",
      "bcb3c7fcefdb4e2e92bcc3e5394a7ca9",
      "d9960adca63c4602a0a96a7fba04b9b1",
      "324b7dc8168d47a3a4af3186ecf70c96",
      "097c8a7f9e0d4acbb7f77b4fdeb80bbe",
      "79aac3f30381487b8f32f04e2fdae6a1",
      "02e5676f803747778eccb5ef8174252e",
      "71c16cd907774540892ffcd5ab96383e",
      "8109640a8a664ca598cebb47dc872a6a",
      "6c2a48766d834c3691cd749feb4584c4",
      "db5489e4b2b343fe880a2f284410a070",
      "b72ae9a49140407585b2f9138b53eac9",
      "3278b16e9b27415aafbd310e1a9ac1f3",
      "8bc7c2624a38479aae2247de8b0166ce",
      "0ad9235a7872495aa924235b8b7af200",
      "c6e9cc87d76a4260948cfbf045e9711b",
      "b7c9a84c6d9b4ed79a37041ac716b449",
      "d8972d18f103452ba7ac3a624b0a3420",
      "ba5c16ce9c1742cba3f3b6777f7eb18b",
      "89e1038393784e94a7ed20f94b0ce72e",
      "177146a20d3448d88b182961e68ae7d9",
      "420885d1f5c64cd88cab297f77972633",
      "97e02cbb1b064c8c94f392d51a7190bf",
      "25a21dc80bc44183bb030060f9486bcb",
      "593b4480e23a4828ac4fd2a1d1229de2",
      "b708965979884d1e9ea82f403eb625ee",
      "aba652281b824d5ca71c30dcf0b70ee2",
      "c59b7458139f4f4aa883baa97093873c",
      "b9b54a23e7874297b338b952c54f5ca5",
      "6ea12fee810d4d39858e0be04916eb31",
      "9d2f262ff58049898b17f3e973edfb57",
      "ae01b3256bda47ce9c92cfdab8d511b7",
      "3edefa705ab74b249f53e849f549d016",
      "b624013c4fc249c88dd23e4b7efb3a72",
      "a4190bbbb036499c98e21d6868f39fea",
      "14f34a10b5bb4c7eb603898e41ab2ab8",
      "56e2335748f74012b1b8ebeea0b3ba80",
      "d9236b223bf047a19a7aca073aade163",
      "b0954649c283430486b9a27471158d77",
      "07904c77b93e405fad6b53b02babd02d",
      "30ed9e05836441128f41de0e731ff438",
      "89f577a206824b2e8f660ec2dd3c8c5b",
      "a3193d989c764f4298b230e70d01162f",
      "a632001383f64f5fb42d6c28cf9ff353",
      "1c3d2eddfdb242a89f87fbd581bd2bea",
      "af4e02afb08347cbad596a5755a32b38",
      "7023a70c1e634fd5a85da68f94e344ac",
      "ca3aad7d69604149a51c82079acf2829",
      "ba8f46a08d474af2b03cfcf65ba4bfa1",
      "f0140eb225b44e7b93a57b084daee739",
      "b923f1ffc71947559e95d4d9cb86d0b8",
      "a472efe2ce424f6aaaaf54c610d2f710",
      "c734bdfa0f024a7c87163be33258802e",
      "d3af7fd7cd24421783682bc18f86ea38",
      "4ad398a0a8a341a09846829929f63d61",
      "f8c19acefa434ddabaf935c653548247",
      "52e1c943e891477098ac22ec88db7d29",
      "3e56802d567d4f949e558142c6505d33",
      "a7df4ffadbf64860b14f72d4ca8930f4",
      "6b4f514e46c447d3a0d1312a8d7e9e40",
      "5ffd194370ac4e4b8b5d7cad7cfa7f25",
      "0a2446cb17ae46599e78ee2455dd157a",
      "5c8aae6c7104410bab348cefecf00145",
      "355949239ac04177a7648337fee85b3e",
      "64b14eb9a5364464b33a94bc834490cb",
      "5b57b6f6848f4db5a113aa57f781f6c7",
      "20b59936e9fb45f7b943a85a911d0d40",
      "daa48fbd863e475da8711adf9dbe21c9",
      "d7990da962e7424280d5b0b57e1ad0f8",
      "7f58c9ec77b141478bd56ef1dc4cbe63",
      "8e01fd9bcfed406b99c21b2cf1dc8928",
      "edf84749586e4a2d8a027bbaf3a39d4b",
      "dbbb53ba7464469aba6f518a4a595089",
      "d5c6b68d1d93491db777976291ec1267",
      "bf31458f196e443f8ba37f6d768e486b",
      "78578657bec24b4ba6d0f1058f3116fb",
      "4bd2990d433f48e283300013d47ff1a0",
      "c50737ad0d6b4b5a97a6e48a2d021f7c",
      "957913f6a70643d589d6acf34da41e84",
      "7b1f59a22d4f45059779285244336f3a",
      "21ef275012bd45c3815e1057fc65297c",
      "c7bfa57b12f34379b0c37927c5537a04",
      "e6f9473f87ec4dd7aeb2ee71e383e365",
      "de3ac104f51a4f7ba27b79a057295324",
      "82d2025ee6d94e4ea89f961818ca633c",
      "4dcdfe5805514ab781481aab477687aa",
      "17d6b30a97c349d88d12ff680b7b4477",
      "d0728d1c779646b387304d81a01914ce",
      "13a0447e6a4146a38b8bc968f1de03ac",
      "26744f0639f4483db5f9b9c706f28583",
      "b7637112c4b347f9996bd7d4aecb503f",
      "ed7bcdd76cb64a7baf80a88dc908efb7",
      "e6e53c8ba15b4f4ab8118852a87627eb",
      "b8fab8dc8a9a458aafad99a3c324a231",
      "8c4914a24e8c4cee95e432153bfb0e5e",
      "5c93be1abb2e4b4aae9fb01dc606a92b",
      "9ef7390cc1ee44a9bd233488e0b99d08",
      "6c92502256db4a5ebbce677a301786aa",
      "422107d3705043cd883f0b8de7bf904d",
      "8846a8509eea4216966ce071ab55c6ed",
      "c24d0212fae24ac6b41e4905cac39d84",
      "df83827f2348425a89f18bc5c75b559d",
      "cbc71ab0bfd240a4826e5cf96fd1c166",
      "7c0b7bb76a8041eca2f51102a948ae53",
      "6375f227b0df44fb8eb32a0a5ec3e2d0",
      "a197e120de984ab7be1f4d76728c079e",
      "1a88cbc4e0204a6baadf1db329f6ea51",
      "20d2354cbd7044168b603ec96fb54dc2",
      "1fb4f405ee1e4358980a577e36447461",
      "988a7c58da6c46b6ac1b1a74e2bb10c6",
      "2aefb54f653e47c1b4d5e61595a0e66a",
      "ebd2331f0d2641ca9130d71b89415f4d",
      "b30b13ffdf614f54825552135583685e",
      "3b784cca682942229cbf4461ca73cb07",
      "2eca4ebaf4324457aa323c38cb1a1ffa",
      "f65f7c102db94e2e9252cd2b977b7de3",
      "6c0b56b72eb7428eb1424f912fe4a6fd",
      "cb09ef1c8dc84b63b635ad1be9cdf034",
      "8dd12e1abe62452f99d53a699c183f92",
      "f12fe00320134d4980dccd69aa0f50ae",
      "d78feac45512494981970ab704c4dca0",
      "e07c4871b4e045e6857f7a3bb6e5e56a",
      "2adfef19212d46459c231c5bb36fd9c5",
      "3b41adc1a8264437bd5e8fbb8efcca13",
      "8429954f45874749ac91beae48ac6c77",
      "ae3235c73ad7468c8307886a090b9eae",
      "70a8c8d2bf3b447abf8866ee5f57091c",
      "75f4e91e1ea0433c8339bbd90bcb001e",
      "2f41ba0b94154d2ea6d46dc0362f7187",
      "de0aabc14415405b8263906b57df9ef2",
      "a6121685ea754f50858e9e346ede1f91",
      "e8b1aae4489d4c1995ed026549961d8f",
      "dd9dbf7a306b4f9da5ffd7b230bdfaed",
      "7f7958df65524894941833831b25a633",
      "0741a8d16ba342178e4ffb05b3b5ef27",
      "ebe300d5af88431899fa828c4c5416a5",
      "5433b944e0794481935d808b72e1a1e2",
      "a19af724fd94478a8fd8053201a12685",
      "2a2031bdd803412cbd4a33e068067ac7",
      "f80c716ec5184747a49fa139f3110f91",
      "bd26e7764b464cff97665dd06a4aa440",
      "f243468d968344b5903a782b5759dd76",
      "730db0df735b41db8c0bec37948f58c5",
      "d7aac46279974f8f9a3aacb0e4dfc927",
      "e27be5a74df24cffb67c316929927b70",
      "66bc757cf4b6443f85d5e2d0770142de",
      "b85ecd4b37b94a289b0056657cbd12a4",
      "6daa60bbb3f7461287323d28dc013b08",
      "9c4e95e557b844149e3b5247e0b3c095",
      "c2ee0b978acb45c2b194158d04840322",
      "40973442683a41f8b890673050ba6a96",
      "97ed47a4c597454c822a248baccc59eb",
      "6310b73572c34c7e963138688a513ac1",
      "1578ad756d4b4e379e21c6121fe31a3c",
      "31545fccb95a469d90edd72fd5412d85",
      "346b7d4cc63a4e92ba633383b9ddbccd",
      "fe47a42605764c54a0700022191cfe7c",
      "eac70d38838949968e2377b257633132",
      "e28312e12343473fa39a1873231d2517",
      "a3a21953e5c249b7b50508a9d9ed649c",
      "b68fb7899b194b28821b558ceb7b44e3",
      "7862448316af4b69b31615f6685074e5",
      "9cc9bfa340294f3184d9009f74179dd1",
      "30fd9b1a174b43e7b08735635343cafc",
      "922fc09d46b5498082956fa4fffe3087",
      "ef92c43db9bb469bb41cbec0087b2ec2",
      "3f62746257aa4d2895e45dca07070473",
      "06da37188e98493c8e81bfd1d2b33c69",
      "398ef869655249408d9b0377d5e9f700",
      "212de103726348cdab19837f98fb867a",
      "50b3261d09a44c2c8614cb5fa6964860",
      "b5d94bf5db3d495282c02f2c93865887",
      "e4734918efc74c1ea25c2eafd37f2206",
      "98a5092fa5ae4814b45bd302b75a22d9",
      "0027601c42294159a5895325fde33c33",
      "eaf8b447b28e4057891925c50a127b85",
      "122a9b0eae194d6d90c7b73570476c5c",
      "8391580076f64e7e9a61e6e0c83c4584",
      "fae7f41a3be34ab58be89e20a6584fe2",
      "bd31492ea2774f88a7f78b1a3707088c",
      "f853742a4e014062aed4887ae766fea9",
      "11a8b7300f1547f3a0d67de997518e75",
      "281387e5c07b4f01bc554e64e7064f11",
      "46b90b4c38db40638516b2fcda090f3c",
      "fa397b4c827443bc9fc89857bb9550b8",
      "6cb03ce9d8ea4f4a95565c2fca008e42",
      "854fd51c3201445e941d23e0be22ae91",
      "739c083942144f2ca3fb657dbfc59fd9",
      "04c3500f9e524fcaab8e7714195ac036",
      "295344937863492a8b6bcafbd1cde156",
      "57ac16d6ed6c42f0b4fba4bfdfb65bc2",
      "087ae55b1b1a4411a46f01f7239535bf",
      "f38c83ce92bf46da92e44c227337cbf1",
      "1f5589202cdf400792fa36af28e362e3",
      "a51f41d8870b4249850759eb2dddaa90",
      "bc26b663bd0a4f8799cd57ae6950261b",
      "c4f33a338ef34958868c109e6f112c24",
      "8d4081fae71d405a9a524cb908068053",
      "9734d0ef03584bc7952c5536088c272f",
      "12e1745ef96b4145a044a333d602b265",
      "cb01cf1a08b446fd964bd688ce9d6019",
      "b70d1d83b83f44f297b81088e1234ac1",
      "fcfa75d1f78d46b4bcc5b5d35337791c",
      "9102531dc5544f8e9e686b4b70611f02",
      "4c4a73d892fc4304b04f4e85fe53e225",
      "16588b71e2c04e33906ca5eee658552d",
      "fc8574ef521346aea87241e61444ea92",
      "0cf2333d827141da87491c4e50243998",
      "5d49f6c01ac14fe9a97a15f8f6d39766",
      "59cfabdd09b64609a8d5478b0c090efb",
      "db5204d4a02749c3932667700daa97e2",
      "5c1d0fb311d746109df2b6d4d89e3f18",
      "16fb98a194f54d5c98aa793495011499",
      "b85a1e9241014817963faa7217230c5d",
      "f26e481819274cd6b1cd7a961e9064d2",
      "583643c180fd4c1ba8101c53a89710b1",
      "6f66dbee2b3041c496cfb58b137e31a8",
      "b2ae4251e6e34860be78f76101d22acf",
      "6b8859f614164f51ab8eefa233a6f471",
      "556eebd7ef604a0e819573038e930838",
      "90ab5ad18a034753bf9d613b777580df",
      "7353ec6233f348a1b4acaf63fe169a8f",
      "8f079324afc843ec8b4df7e143b0d903",
      "871b9dd409b849c0873607721b4e5a5a",
      "05f55e7ecf5041f89717df711b17601d",
      "8822137b7e1e42a0910214bddd2293db",
      "f397fa6a3ac84d0696563eb1fa58acfb",
      "f8bc6d67f3364da695d5fa7b968bf259",
      "c884859979e340aab5cea48fc1b7b2e2",
      "dc424fa298eb4079b7fa98ce7acebdb6",
      "1d791ba1d4e14947aebd7f27bb6bb464",
      "80a21035eaac4d37afd6b6406e576531",
      "ff0959de7df74c54a912a0382919d571",
      "0bd5427f66ed4ec698295da68e4c1309",
      "71eea8021eb74cf28c12909e359ff073",
      "1ff10112aa3b42ad8e0d3c0758e4c9a9",
      "a6577bbece3f4a4a8157fbdc16cc4d99",
      "a0681a61dd54479998badd478ee4d8cd",
      "adcb27d8d0b8443fac4e02339ee19cdd",
      "8f1d84a5e1cf498db8a597ec478dade1",
      "45d4ff9cd950473494325c184acf148d",
      "0eaddca17ee8487fb65094efbc8e6f5e",
      "f8bbd2bb94914a9bb78c7e3c01e074c6",
      "58c0877b4c0f4b809f7e31ccf06da4e0",
      "af1f06bf4b3d448597987961cc09934c",
      "cf95ab56d4da4940a94b0c3464daec56",
      "b2375f4830874a6ab831323121f698b9",
      "dacdfaa7ea6c4b4099aec96780a76c72",
      "441a56c56adf406a8565457124a260b9",
      "a95fbc9e4b91426881f6b5532c21e089",
      "c9c9d5a99f20442c99f2d176f10cf2d9",
      "4d160586bd4a4a9a88fab36c2a259490",
      "ef2963deea3e42908ecad38e5041a000",
      "32ec963b018543b7bb72812c97cc0f78",
      "064ce7a19a1044b295ca41484c70fd9f",
      "1760e69ab30141be9d84d6838374e427",
      "e56cfdfbb45241caba4858262e42a383",
      "52f7b149d2044d9298a556733aeb81e1",
      "17b44bff51394623b9ff485030c428d9",
      "33eefe3c7f9c4565b9eae72a46768f1f",
      "28f54345f9254ce9bf70431a3b0ff581",
      "2df1e1832e8642e4b9a85a2864bfcbb6",
      "a2c877ff4f9b41aaa9d5ef73cc43c1c5",
      "09356f22c9144d46b4f914fdf51cbf1d",
      "8d98f8266a57453598c7e75b19b58203",
      "8333915fd67a41498e46b87e15a2e4c5",
      "377c365b19c9480a9801f2a085315966",
      "e2c7a7f64a384ed691e3d7d16c038bbd",
      "38e205b4b3b34368b090d75f01b259cb",
      "80ea6afebf1b40aaa3c60d1e0225f2a6",
      "cee2432ad9104ed88e6bb3981dea0c21",
      "a03ecf320bdb4060a991478532d6ab73",
      "3b121bde30e148698763c012ae209932",
      "92f1cd6a56864baa9eb7f57895aab3e9",
      "020abc1fbee44c1393c15c23482a3b2d",
      "6057237814e14aea81878131b8b656a6",
      "18218aff451a4d389d7c8670b2a8d938",
      "681a08ef57f94fd38dad2a70c8e4fdfa",
      "817835efc4274b2abb39b25bfbedffeb",
      "f76a5bb148594ee2a844efef53f38a22",
      "b5f99bfe1ea148b1a0194d471c824b84",
      "f71158a37cc74166acf1115830cb4352",
      "f90f1947c22243e5884ef13e41851cc6",
      "c142e318baf84899945123b01e2a9173",
      "ffe3ab82b762478c9fa4ef98eb41f2a4",
      "6bc13d1d2d7143ce983f0eb5738cb4f9",
      "cdcba00cf7e54e7ebac78ca6b2a243a0",
      "b0560e77ab704aaa9fbea3b44cce9076",
      "b69e3167f0e54d49976a801e37a1d798",
      "3af4108a512e43f3a222506ab721d7dc",
      "0072181c6d8b46f5a0112318535cef66",
      "c9963379cd7245f7895e867b5b1b378c",
      "4f499d7cc71649528cdf1fca858d2f79",
      "68a4a963692540df8677d9059cc4f33f",
      "e3ab21cc447946f29cf1d66bc378ce9d",
      "16ffdae5ad9544e58d88ffa6b280f736",
      "1f73bc412b1643318ace9924b58edcff",
      "2c02915fbd89424297d5beb124d877e8",
      "646e891764bd4f17b877b06d99144029",
      "207c4893a2c04c6ba6a9dc1a5b44e08c",
      "0003645c4a0942aea293e4d15305f61c",
      "81778b44e8b4438488dcc54770d0268a",
      "2ad8e23e7b27456d9e62dc8d7ccffce0",
      "b5162fcd98914c399716328af01059d8",
      "5210a006e5e045c6aceeafd7c956962a",
      "38e0e95523a14947a92146deafef7d53",
      "0f189457e6324f14bfb1af7518254e2f",
      "5fdda0f6f68e44cf87a217a9754cdcb6",
      "0d877641c9ca46dca2af1dc1ab8ae547",
      "a283f2aef6de41d4be8024665b3e5dbe",
      "b937af6f50f845e3828552239f86f679",
      "964adfa90ffe44118057f93333a2f725",
      "7a12b40d70b744048cb7e08941b475d5",
      "0e53c78ecce04b11b3ea32d0bcc8564a",
      "364503130f7c41e1ab700287070e4c4d",
      "30830c0d829341a2a0c007cada839a81",
      "64941212e690496fa194bde653635d34",
      "6ea4bec24b264bb7aad94db3e7c489ff",
      "9118b21ee5fe4de09ce099c18b10b69a",
      "9276a141807a4c3b81e39dc85ce19489",
      "41117d26c764473285d94d1707ef2c8b",
      "475e937775f546859a930eb022fad3df",
      "f63883ec917342e8b9df3e9f085ff1f3",
      "804abd1a9d3a46abba3424c276614d60",
      "96a276058fb14ffcb2e5be609dc7e077",
      "5f38e87d4bcd4596aaa4b2e8b458eb1d",
      "348b8933aa1d4b7c8626f7d87e07da37",
      "297c14db275e4d1b8f5470dde499d081",
      "4aa982d0c1b14d8f917b4a97e594f9de",
      "b6177616748640aeb1b409bdf4375276",
      "158560b1f3334810b557cc60dc9769e8",
      "50a712b5435f4e8d82a1027c0f1e280d",
      "646f774540754f9e86f7352ac932ae04",
      "d755bdcd934f4cc1a9bb69e6c3262698",
      "e75d7618f6744ec8b3839e0779c6476a",
      "d7fe6b1f56ee42f7a379d5cdd2412487",
      "bed19b90f7f6419e8fa955b0d40ab350",
      "f2988d73df724641b129adb31941022f",
      "a43e3433148c411f932c08434190c37e",
      "041480db3dc9407591922fe2e7fc3c93",
      "08faad69205842438de62c43839afaa5",
      "83c1630f408f470c881143d42ce59de0",
      "5f579326326149cab0bc7d377e5226e2",
      "54be24dc3ad8460b866bc6cc9077e9be",
      "cd7a131426d7486791c86c473b653d45",
      "b06bbfa706414bf1b93863c66527bade",
      "dd52bed3829f4a898117edc5799047b3",
      "808db6732c064d19ab1be651c49f9d15",
      "d34f7ec287b0402e84cfd09c23aa3690",
      "3d6b8917865c47a98f4cd44f7bc8409d",
      "3ec4a1eb97874961b20835283ad0b1e7",
      "93ccb9ae9b3e48718b55b8b445e2c68b",
      "afd5bdf582194510a4cf1b0c95f1bc17",
      "ea8ba897e5e044249f3a653ca4e3c791",
      "ed45995db71448ffb3a05dc2cbbb6a9e",
      "f2830e14863348cbb8e31d640479a156",
      "e3164c3a566f4ee09d46613d2b8e14ab",
      "460143cb268a41568ee3c68a738dfc1f",
      "7a1e9a88fd134b14b00599dbdc5c8749",
      "b7e4ca2ff6f841feb1a8b2c1172d49ab",
      "26532288dc2c44a285ecaa44cfd5cc23",
      "641c017af8144d0ca03206b2eb7b970e",
      "b7134d6eb8c14d3b84db88b6b1dc7600",
      "ea5e50268ba447e1801946988dbd077c",
      "698bf20d3e1548129445eba2e6e7a0c2",
      "aff2c90c055c4b97bd608d49f8f3ea84",
      "640757520d8c4497973df0a85c23ed97",
      "b41cba2088b54d94b38abce4996abf50",
      "e6e976fa511543d181fe5330b6d35c23",
      "738088a04b4f4a709ae6ce587caba0f1",
      "2887d8b3a9914fa39421302f6754cd22",
      "71fbb351f4054ec38fd53c95268137ab",
      "4506b984d1b64da6a3379a2ed76fd870",
      "45d311ee6625454b983e007fbdf9ec49",
      "9a8a1fe533994a6c8afab405d7a274f1",
      "19bbc01452e94b9483316a37aef06dcb",
      "adbfcb88724942ffba74f85c35ff524e",
      "f4cf01608b134148b2d8477e35300984",
      "e61733b97ec3473d8707de0296c4b905",
      "9562f1cffee340ca8e6f030a48ebcc77",
      "00bc300d1d8c4418aa78473b9890c0a3",
      "f530845b2ef84378bb6cc2cef486e8e3",
      "50a745f60f4241108f306c5ef456172a",
      "9f3a5940b7934809a3c8c69d6bbd56d9",
      "1ba3b359853a48169bfefbb7d17bdd61",
      "ffd4bbee311748818c4fdb808d3c72e9",
      "ba351abf1c6f4acd803d34d4f3c51ff7",
      "344fd822ca4748d6b1d5a4602d8bd57b",
      "af9cb62763dc435d96a5ebb6d234d2f1",
      "195918df48604372a34a84346bbddd0f",
      "d156d0ac07dc47789d058802969b70a1",
      "fc8683abbda34861b560a8b4415d5a89",
      "a95c321231a240eebb16969d7a18479c",
      "dc6a09248d554e1db62f35eda873fb83",
      "b0b42b24cd7a4153ba7d14630985b4fb",
      "fcabc2e791fe4da7899d4dd0908eaa5e",
      "9fb86f21d3ea42ce884399cac209d01a",
      "989d146cdf824289af81267ea782d148",
      "b5035a43ec43437193532185e13c9157",
      "661fc3ddf2274a83bbe389a1d2f9737d",
      "7d99b39643524b95acfed2a7377ca7b9",
      "807952154215488184613d622513b2cd",
      "59b3cde2e19c4a61a237ac335a7f66ec",
      "14d66b77a1b242f28dd6b88b0e6a98fa",
      "6162236c84b448ef91c217ea4ee8bb1e",
      "b515caef7e38477e891421cfe944ca20",
      "de09b45917a944bc84df577d12d887be",
      "0fe0ebd22914413c89c51575048510a5",
      "d079443d1165400aa92662199f3f619c",
      "c9263996f7dc444f8c8f6b3ce5cdc231",
      "80bcb8ecc1824859bc79a0c587b3ac89",
      "6622e233c10542e1ad339e81cb332dc3",
      "0507d8e8478b4633b46aefc7848da8d6",
      "27cf164642b449e183bfe9edbded3ae8",
      "8bfc40ee87ca44998b24ce77f84834b8",
      "43aed5fc4612483fb31b94d8f8aeb4d2",
      "0d27f7c37fa745f8adf7a0b0acc747d2",
      "d1b48a18799c4bc9a18bf9f2b144ee50",
      "e436f361857c493980f51b2cb4ec0a5a",
      "bed09017c7ac4bb3bc163c8d0c033f0d",
      "e9a59d3af7da42e0a7fe391cd58b5acb",
      "2d6d0279469c45c4ae603b252ef9823c",
      "69d972ed1b0d46cc85a371a3b37748f8",
      "ca1b282434634eff93ce8886a9030d47",
      "f05b0012e5c9460ea4a4f5788757b255",
      "9f4d2cbd84164c35a5c9bbc906fbbea1",
      "738bdc1c917f44e7a98b36d0eb004926",
      "0f973150ef17414c8ec45fd5dc2d7a92",
      "ee4dca5ea0fa4204b81943cb497d8bae",
      "62d26a88067b4c9cb80b63a9519da4c5",
      "6e168bda746f40eebd6fb2dafd68b0f0",
      "b4072ac742964b32b5396c853172ca99",
      "448cface066044d3816f18d34eb61b3b",
      "8cbaabd74c4f41c3a9b4c748333aee01",
      "8c1b86f9302944a3a12cbcf2585166a4",
      "b9619d1740f140ec88229e70c9fe92d9",
      "9719f2604fe54915b1eebb4b24cafa3c",
      "9703d5c2cff0474cac85edf4eafb65b2",
      "54879f96ca464cd39f1bddff60c58cc1",
      "1a4cc1014d1a4ea797ba0bc9bb8d4598",
      "36585ce7353549a487b64c232ce4de53",
      "a332fa2502f34b9a96076dd0403ccace",
      "bcf7331229eb45ad8b9211dfac18cb48",
      "8396407d0f8c4903bb5a8f2c765189b1",
      "81a6ae0e48834fd7bfee0e0fbbe63b08",
      "6b9149a5ccd940d59c82927f30775c42",
      "206b3c2755ba4bee8d8413cdd5a9d7d0",
      "ebfa9edb78a0451e936fde31e5ef967e",
      "28ed1b5e0ff4409096b4762491f3b28a",
      "b0f118c5aa2f4f37a8e144e7fece1531",
      "1c9f3ef0314d47fd992991c145fb5a32",
      "1d8425cf74f144b0ae00b74c4b715ec7",
      "3b273039f2324f3f9662db6910027766",
      "f15a19ffa4d54c608f74aacd4dc890cd",
      "0db3b4188bbc4d97a008525e470d74dd",
      "7b9ee1baa5d4475dbfaa53a28a30fac5",
      "3dd03b5b6e304a489bd9e12d0f4e417b",
      "ddcbbef20cbd47d9bfa4d30465297259",
      "786636d032194b66a06fe8f19dfec92c",
      "4a9069f3e6b74001b191269800a810d2",
      "8e62fa352a284eac9f04e70bcc5e3364",
      "b523bceabd70437db602bee7317df512",
      "0107fd8778604873b34ecf308882948e",
      "cb23457516ce499a9862c44fd14fb182",
      "0d458943c4dc4f3da1125676cffe4632",
      "9a591b8e03bf48a2a5315ce123bc22bd",
      "a2305c0747ad40f7b07e8bc1cf1c3fe1",
      "8fae65ed14d744ca8b394ad6547b1983",
      "f0351710097f48a783a5b8673d0648a4",
      "6fafb6b7196a46dc9ece368436a407b9",
      "e47473271593495fa9447a578a6537c3",
      "80db812d01b04d2797bd72e71953af67",
      "301fe342a5cd4dd5a1d3f9779cedd559",
      "0aa28b48842446f08651f81c6a01d892",
      "161207f2170741b984ebd822004d5dd8",
      "5456a26c2b6148a6babd086226a3a811",
      "8db669fbeafb4f3289ab67dcfab6d30d",
      "ae8e9b70c6054584b551d38e20d3c06d",
      "9870738305924ee69fa8f9a3c7279ae0",
      "3822d3e8693446d0abbcb37112b89250",
      "f9c790aee4ea459b96d99d180809ac28",
      "268e63712cba4e16ad39af509b6f3ea1",
      "399ed53f7698473f94b2f16201100b44",
      "ccdd085a589245768107932bb08acfe5",
      "7ec4b218c89e401dbcaced28097ae5b3",
      "43d866b0887044d6b4ce74da1a0acefe",
      "8f1d7ababcc445a7bcff3a2d4fccdfd5",
      "f52d3a9fa4704f57a914adfb3824a23e",
      "19c429f50d8b4b648a584fc65de9af9e",
      "600a0016cb384e3a8e2fe80c06c65ecb",
      "634bc11655fd4e6e85ed9a74cb70723d",
      "781213add60144ed9a3a4c95d4a450ac",
      "92a6172f8d67474287f42401e5ecf5b8",
      "7e72ae2e3f3142079480621af6a0d704",
      "1b31ea5f04cc48758aa280a631a48195",
      "f759353d5a4144e09513a1b8d3418016",
      "9cf79ba4f761499f88c4eb917fac4afd",
      "5b70192674674fa2aea214bfd7668d54",
      "89e2fae513aa499e881ff2d2880786b3",
      "412b030661534f729cb0f305433a22b8",
      "bf84c64e4edc4b7e9bd25adc4ea2fd8b",
      "08019c9588c844a3a86508694ec0fae3",
      "14d5f67bfaf649f181ff37444829afe9",
      "269e6e8b78124799b304338155ee22e2",
      "09c3811035e54831a2d56d75cb3d5142",
      "f12337836adb425d8789bbbfd1f43592",
      "99b2f13c93dc4c88bd1668af02df72cc",
      "caccb9a8edbf488e9d10349e4474d85b",
      "68cf9efda00045be90ef77693951b423",
      "116347d2c1f34241adff559974a907e4",
      "b23b6affb5134cb4b7fde9d9aecf781a",
      "747c80d79df347508b52cbcc68c31790",
      "facce749a2da4d7fa058bdc7dcd124b3",
      "d870faf8e78b4ed7bc054efb1d5fbea6",
      "6c41dd81136940f4a60df1aceccd0586",
      "56c2d8df8ff242f2ab10ab94859072be",
      "7286524734464b2fb9e7d2ccf9344ca0",
      "032d03f6a5e14e1190376f4f1464f5a9",
      "0033e1a0ddfd4318bc0c6eec47f6aa0a",
      "16f1563025454d83993885f9ee631c86",
      "3a96cf4570e244509ebbb45d3444cb78",
      "dca300b886c3460cb6c90c8ab1625091",
      "2b7ca58c669b4b77aa740177a69b1876",
      "95cb7825a01846c9ac618643cff2f670",
      "cc325a760759487f8a8c707a0fdb4b5e",
      "9f6a70901b0d4e4bb7a0a8b6ccfa5d79",
      "e3619b35d92842a3b0a797ecb16aee8b",
      "100365eb185a4b14a999129241736901",
      "202e2bd5f0ce4482bb4cac451e5203ad",
      "e116cbbe9150455badf372b1b096202e",
      "2c7ee32361bb41f481caa7f2ae64c4dd",
      "e898dfeb74c84884bbe8b63c2a92e6e3",
      "7cc5236213414f3ba4246b73e3a5d2b7",
      "32538c5def56481bb5cccd99f748ae15",
      "405fa087f017487ebdf65b12d867d620",
      "c1974f611c3f496ea509cf6c5bf8981d",
      "83b9f58b47dc4bb1bd2ba9fec137fdd5",
      "c60275479af848c1a700cdfc36447ccd",
      "5a8a4f83638640f0900bb6717de30bba",
      "a3cc4ef4f10e44c4b51b4a3eeb71357e",
      "a49c9cbb63204ceaa15603180a9d1229",
      "d839c771658c4922a0bfc248cd518792",
      "5597c12302014ae8b0dbe873b96c39b9",
      "8661d5a1e55b468f9f51bff87f9a4ae0",
      "2967449279ab4de48f66b81388153ab1",
      "c0e6af217fd0495291b968f2b3ddc23f",
      "59af689dc5a44c54bfcfeb9a041cec85",
      "0ed7d84583ce46a7a44b695a2a66c4c4",
      "315d4ea62b574ce99cdae414db1842c1",
      "7dcca4853dc44347be80a7b44de29665",
      "6d4251723f344b8184787b1753b8217e",
      "bf9d2d83a71d409bb07be020f3363cc4",
      "c88454a4ab2548bdab2b26299b9cc377",
      "c620e0045d0c4857aaf3f6893af894ad",
      "f3fde91bbdf345ceb2092de1c522cb87",
      "b16dae76bad24bd8ad73f7542ac7e013",
      "baf91d6f4eb94887bf8efaf63f7cca98",
      "9342492405274326a87a5563ec872fc5",
      "d830d33a73e0484bbd47a4c0dc3033a5",
      "96ebbad50d094a55be889a41432d3596",
      "ff6d9d5e1de24b908bbc67a663c90e30",
      "380f34b6a1894125894adecd6cdf9c1c",
      "e499e86d25fc4f08950aeb0a00b0a66f",
      "759fb5fae8ae428492a837f4e876daf5",
      "7a89afd3a74f4f80a10869c64223d3a4",
      "1f156848736e4174bddbb47afa1f9e2c",
      "430de5fbe0e54b8b83d8db4cea612580",
      "1200ee7eeacd411dbd6e8fd162d794ce",
      "48ef59d2e0e34bdbb8ec7c0afdef6230",
      "43dc8e21f45a437d879abab69c918e42",
      "811875a594124c97b326729ebf93b6b6",
      "11ad3ebddb444fb6a15428498bc7ebe3",
      "b9bdf83492b04ce6b81968adc7780ac1",
      "5ff9aac620904bcb924556d3504fba6d",
      "e8d520d69cc74113a4db669d0cfd280e",
      "931d8acfcf354e7d8fe9e8bbadbc1493",
      "6cad551d29de4af4bc137699e745fc81",
      "6f9bdf44fc014981b4e1e0810ad94435",
      "eabcd7ca0c9f4e40ac93c205f624fc3e",
      "e7f725fc199d4dceab14553351510cf5",
      "e28d2ed4fba5447fa3971391917c6ac0",
      "3127cd78818546648aa7d11728e67269",
      "32e2eed7c33e4a199730bcc936eda5a0",
      "e0c3da977025416091aa2e5b8d531121",
      "a18f28d4c6974325afad180efd99a667",
      "4113598e53e94bfea15fb7cd7071e291",
      "3899627598a24b339f4786def1e7a9f5",
      "8ea2a98fa435454fa6802c900b98c096",
      "72cde1f1fb6f433c9d7be5387e3cc8ed",
      "09cf0a87bf1f4a4a84c6a5c0470a935e",
      "60d5ebf8fe8a4c98ba979f5ba9e23722",
      "68b5aceb96d24490b8e1c9f1487ebfdb",
      "61b39014e79b4e7d96674b766c0d782e",
      "2bb3ed9c92464a73ad0c86e280f46f95",
      "16e20d961e76416ab85543d2d02a7444",
      "0265bde9ae564adb8e0e52e6a4c07676",
      "122108d8c3e042cd9c0801fa7651b4cc",
      "325cfb94628b4d929802889dce23f530",
      "bcf6fcc52ca64290b70484392b981dd2",
      "c9c1874f48f24f42b9c4d24bf3aca8b4",
      "676cf83e9fc342ffbb786363db9bae4d",
      "2a15525d8cca4a729bbc48cf5cd4a4a6",
      "13adf9a1b3a148f1a84ca4c663f298bf",
      "4c7970b34bad4e758187b2c71c1e36d3",
      "c3cf0b9398dd4e6dbdbb1bc83021dca7",
      "dd7784fec22d4f799ba394959f6f9113",
      "90354fe8366847ed8ee3896e08898f51",
      "0e44ade99cd0405f9acbc2494c1b57b4",
      "7223b5f0c6804bb9af155534d2de3e21",
      "06ea7ec3125d4a7fad29b9f65fe06bf2",
      "7093127891954e698382d5f387e0cdb2",
      "79609fda05b8438ebf273f9dcfc58f4e",
      "4564ad907bf046b48a499cf159c6a6b7",
      "fd2c16bd6e9542828fec61f245be4e24",
      "bade61eaf8da419c897bdb244994d6de",
      "73531905e9264362bc2d367612c93e54",
      "0f364630e9664903a8ab7e31055d6fe3",
      "3a219a05a1ed48bcac4fc2b66de9ad50",
      "f7341ed2657c47ae8e45aa6d357d44a2",
      "038db4e268d94cbcbf9b46c30ca861bd",
      "593cc7f9285c47bc866251bfe1d1aff7",
      "b5e5164fb94c4c53b37e6c62b9e96d6f",
      "50b50d7ea06d4f65808debf97d1c5cdd",
      "dfa1db83a43243f1b964504524ded25a",
      "828a760215f44af1bf7a37e4c1d90890",
      "b26acec25cbd4528a84e772f6d54b1df",
      "886450a77a834d62b767ce3a096ba4ab",
      "aff7064a687544748d6d60dcd996d386",
      "f02b6a7a68694857863c1c7407ab594f",
      "6d26f0591f3e47b28baf82aa6358970b",
      "c5db5537ebea4d7cbb6d2b897f26e31b",
      "3d691d1a6a0f426fbb392f6f48e1b3bb",
      "543f63e1cc1f4f7bbd107e7ce22603a8",
      "bfaabb8b18e34a19bafeb3633d547312",
      "fc85fef5631848308c46c5183f8af1d7",
      "4acdbc7f395b4ff0841fbcf43aa23497",
      "2cf4a23517ac4d889fee7e0b51ef7340",
      "dc73e5f2442f4b858e13ffa651a65e73",
      "5b9b1f65908a45a1ac7423489de22938",
      "77ede7d778654ca4a7398f2280a40f14",
      "46652b600a9e4908bdaa436ecfccd5d1",
      "d28ff9891c8a4af0921c755f6a428be5",
      "4248bbf1065349ee9d6b1461c8c1b898",
      "daf44c02cd35434eadb1aaba0d8f278c",
      "26dcceb9142443fb840ef1391494c99a",
      "efd4bfa804504053979a81491dc1e377",
      "7db840cf00ad429c9cdf29922b1a6519",
      "b7fdfed97e704e55a38a0e5ab417237d",
      "fb35aee4023d45a4ac9d17d546fa9a24",
      "d6b9d6e61e8e47adb4f7fce793d65b6c",
      "cff73ff05af74ca3adf78644d29b19e6",
      "65d7ba65b14940368a03e62e84be8483",
      "f26f5f2bada148079db69a5ce8d32ae0",
      "eff86e5577ec46f2b9d61299059cf336",
      "4db6fe3989404e2183cf4591c6d97f79",
      "8426c2de4dde42a084913a4f3a6f25ff",
      "8a87b5fe37d64b9ab0b898d18ef14553",
      "4660bfb11745477a869ca37686c746cb",
      "f3b4cc629a164f058e624b60f2db0c89",
      "7c4aff49bac2413196bb61ddbbeef8a6",
      "2cc62cf500414e1c96bb26f77784973c",
      "30f5f5f873d94004b5d25d281919c3c8",
      "165db33b28ec4c5abd616b33d6bc8436",
      "63467d44040046259dcf65bb72c02954",
      "973eb2685f0f46e4ba01dd0a52ee9e8d",
      "4453135b70444bd89b5122ef421149e6",
      "3724c4e68448417198fa42f50f3bcb4e",
      "0f88918e54e6412ca06c2da998548abc",
      "1ab269680fbf4d0e8279d67bba7d3e93",
      "b95e6eec28a843b9b43aff1d11169f55",
      "7340dee1ffae45bbb862988c4e6504b8",
      "15fbd3e6016d43348f7f37c401860c79",
      "2f27f48ddb774a71bc47fb4852014a19",
      "2046d1fb2c9b492d9ab88ebf8ad2fd90",
      "627d334ad7f54824a06c6d62c1ec5d9f",
      "7a371f7f74224e56816e74e5c1ba205d",
      "049eb2e48a8844269a25efd98f4db6ed",
      "8a113362711c41678f404f03a55ecf36",
      "98fac66feec74296acdf4830d4b48605",
      "5f204f70b30540c28115af329276cfb1",
      "6fd76811e79c4d1aa79b0becdf55ea26",
      "9ea89128ca814fa992067a7436efc514",
      "1f3e9cc809644af49d53adb22f76227d",
      "dbcc7f549c754397bc75bd6b83efa13e",
      "bc71223754a84c1eb435b925097f241e",
      "00517bca967746d299733593a32da586",
      "47cf87678fde494d9be7f968924a6ded",
      "295a1d751cfc4841a6a000bcbf9c6dfa",
      "4b3869615e144d998e9518998028b33f",
      "aee9aa971bab43e3942604039c981135",
      "db28f04dc6084033954fc595b9bd4b46",
      "c14b2236e89141c98c8d090ea9a6e6b3",
      "80be691050a0446292f35c94289b904d",
      "0e278c67efa44ae8beefe2fae07ff713",
      "925c8e6ab60a484998a2710122f04645",
      "82388590e7e44b638896002c6c201796",
      "c6bbc1b648134909b11a234fd32786db",
      "4fa1d67a6e7a42c98a5978e25e6413ec",
      "80013fd3c69c446ca05cf40612aba19d",
      "de54ef644d724a9ea4b485fa9c506a7e",
      "dcfb0db635a64909b4c3b1df52e25e77",
      "2f9816123e2f4d2ba530cf55f990ef54",
      "9c55f4b984804a6bb732ed113c18ed38",
      "a58e7fd7de204b91acb1bc7961f831bf",
      "9b542a55688c4dbaa0dd075eb8cccdb9",
      "0ddfcf5f3fef45b483038deaed7643c6",
      "ba488ea22c014f039edd3c110c9a443a",
      "7c6221397bb04fdaa0bb0ee39f580627",
      "843032526ca1455bbe3c8cad3414a689",
      "b12482e0c0c64de381bd57097242a886",
      "1c74abffd9f8498a9cc80666b88ba552",
      "f4f0f5862d7a4cfda9b09d3589c78560",
      "586147467e9a4cdeb6cbad700a02334f",
      "c9bf1af67eff414c91f3083a7859331d",
      "45684911a5f24b878794ce6a31f74a30",
      "cee9e214976e4310a9b06f3ea52b0515",
      "72a4b716086c42949900071b007591db",
      "f359d6b22e844f19931f6ee2bd29e220",
      "891ec2596e2e4ea9aed301a4ee47c494",
      "b9547ff25d6142428eaab0913c469298",
      "e86f6f2998ef400aa4109a445c972880",
      "54987f98a2b14138b8bcac80a3ec04d0",
      "f1bd0fd1b20e403dacbac81291dfe2ed",
      "519460a096564eb4a80623270d0ddb5d",
      "3b07318a5283468681a326ce4e2cfee5",
      "3265b389911d440dbd5fa8b110d2d8fc",
      "1719c42fdaf148259c8ff6b44a2e1393",
      "0e219325dbf84a41b8966788e20a4abd",
      "ea77c25f497a4af59a5a5d6f058cc8e2",
      "a77ffac2097944d1b918760e625db4a2",
      "cae7aec9344c49f892255985fd5ecaf2",
      "8842c8661bb0474c8f9a880faf2ccd3e",
      "b0a7ae5805314c01906c97ba5f707d38",
      "ad906baab96748d3aab99e21921e1652",
      "63983de36016474bac64a411c96eb684",
      "50f0c56f06c24129b2d0e339e678c24b",
      "51786530c3594176b81ca8dd53d24c1a",
      "9d215fa259cf47478cb19647a80da75f",
      "a4fe225702c241ba852da11934ab1af4",
      "e6233d853efd4a788492caf10f4715c6",
      "5346bf89221e4ba18cbb93780832a6c4",
      "92ec7031bd48497c92f5a23b723d7bd8",
      "a88314d0c0c04bddad5bdd08b75d2e35",
      "9c5d96292c3f400689c2d8270f1c040b",
      "a8ee54f1e75c4d49a08e589e77507ed7",
      "be358b95ce9549d7a41b37140e28dff9",
      "58bfcd46c60547508f8ce44fedd68c01",
      "f305b106f2d74172897d397d16f74d23",
      "fc8b0bad2d794ffda91da7e3a0c7e603",
      "8d2e5467a5e74410b1b440fb82bd81e5",
      "6bc9ad8ced674f96bbbd624d7704254c",
      "6e9c65795fc7452f87af252052879f77",
      "5b649801a96c4e73bd4c451b17f44afd",
      "7d6892dcd3354c388a9047ca13ad077f",
      "24ef3cd70c2b40f392305346d689235a",
      "0e9daab0776c4fcd9e8da47ad4929c69",
      "38d6964acf8e46b88c90018eda3f97ea",
      "3c26bbec64194e318348a8197424f0c5",
      "2524935068b146068db757cf16e91877",
      "f20eae3c0888496fb009ef5867d11e95",
      "7d94ae4b1c394a399ecd7d13950c4cb9",
      "cd8e64fca60748ada941bad0c1ee3369",
      "0a3ee52fd6744ec28affd1c8433aa4f5",
      "f1198679354b48cfb624263d01406a4c",
      "9dfb58bea48d47adbe1e892dce8ab7e8",
      "0c47936117d844538c8e8a926d35b628",
      "1938c3dcdd3b4d0fb0e253a17aa3aa42",
      "15c46ceb8069482dbe12db0175d26dbf",
      "231ba32786a146edaa6d6443c4e0993d",
      "5d40889bc61b4651899fba82f760bc16",
      "0ccc31b1e785478eac35550d1ea6ddd1",
      "d987dad4b5394a7da3496f2651eb45c8",
      "128c3e6f701a46a697f378a5b0f3ff5d",
      "9e65804351414f5586484e751ed060a3",
      "b5ecb977a3494788a249f49181f83e81",
      "486f1707af01410db4fe92e79a5383f4",
      "cfe2e128ba4f4e1c8f98681f7385e0dc",
      "6e1e8d1dcf2147a6b46ad1874078cb1d",
      "7cc465fcfd94475b902af01ffebc0471",
      "4ccca0ccf132414992c906c3d14aa0f8",
      "57eae5de5b7b40c5b537c56ce49452f7",
      "1bf99a0abc8f47379387ac1aa8113d52",
      "a9f2eb54e7ad415a991e833c0b6ff65e",
      "86652bc98f074cbba671dc11d18bead3",
      "1a610eca9be74e708e42f9b6709e8fb7",
      "7c33a96d21eb464bb5287e3587e4b123",
      "1233ea429d41450b9afee3320e5a38ea",
      "aa3f2d748ce64217abd1ce59ba2d72ae",
      "9e03f0cba93244a7b58ec88bdb5114b7",
      "8384b6d2ec844b20b015c06c3de09f2c",
      "ad6a67ac31674d9999cd65ebbae16fd2",
      "a77e3bef556344d28ca512897b4ebe6f",
      "ab7865e9973f4346ac5ca57995308a15",
      "daa8e40a2c3b470c8093e357dfd51c08",
      "8732d534be6d4f75a75634e33afa0da4",
      "f80ebfa1216f4cfc887e93a740998b26",
      "fe200df996f54eb1bcf5ad8ef37d98f2",
      "68c0886892de496f9630642f5c6f5401",
      "bd92150c12d849cc9b73dd571f3e9621",
      "60145d63e7a94b0aaef9a131b9c43f63",
      "16a4f59970bd455f96650b1d445983b0",
      "7aeb2436a5994239b790b8f550bf835b",
      "0f655039064d452697fa0bccfa7f6741",
      "63cad88918e54ce799f2c1920b36bea5",
      "3bebc1f234e44a2ca88342774e5e133a",
      "c8ded0c5504640e8931bdd805c703e51",
      "fbce663ea3c148e6b43177dfe727e751",
      "77e80e0e5cfb40ffb664d8cbbd5927d2",
      "c00444cf2eb042c6a4354eee0263796c",
      "a443b3fd4093442facd7fd09f5a892e3",
      "1e34fb4ade5549b086af4a611f7f97ea",
      "081725dd195b4ea29670df0f5b77bc45",
      "314153ed9882403493b578d2837e1ba5",
      "b3baf6686fe04b75993ae7c83636ad43",
      "1bda1055fa914b6981c0ce83bca02e34",
      "61540a7063a341c38df0404efa27928b",
      "5fed0a168e1e4052be036a63118c0095",
      "7482a36220dc4ffdbe0e05324ab9ddcd",
      "3306f0979d324286a2a6170886863825",
      "f25bb32dea104665a00b18a1df3c1136",
      "85967db1163b4d39932f289db61f2d2b",
      "5d00914116b94593a9c72373691c083e",
      "14692ef9fdf04d9da117c415e822073d",
      "cf810d8a68cd4c98b2a2b2f913acf9b4",
      "c5ff6c39b13a47268d26d6cad0b48069",
      "5cf5d0c293154c12b3d97b4fc935f75b",
      "21907b11109640c0b740fc9b8a37b611",
      "64ff35dd36724e56abe4ffb037e2e963",
      "6679121f8dff416eb0c4c5aba15879d4",
      "99f6635e334947be80fa263bb217341e",
      "e4e3eff776114b45941d09ec5bc9fa0a",
      "e2046222775e4078b0e3f13389f7dd3d",
      "73c89c7a3c2142dbbd6d19820e332a47",
      "5534d890d4a54f1d89b372e17ff1bc81",
      "35036a26ca4a4f7584b0d7bd31694a5f",
      "7e215f359fc448bbb9f1d0509154b0a4",
      "6dad3ea7490547ddbc85115f0eaef393",
      "805c5296608640069f72960bd392553a",
      "8cb28d5aee1c44cb9f2bd703c458b5b5",
      "29eefc5792fe4399bf2e23b8b65507ee",
      "10bb75428b1a44a28a484aacb9f302e7",
      "ed58e0e3c8944d2b9de14b2ddc3fb90f",
      "35ed17486dab4710a613c456cc228a98",
      "ea72fb7c19f14107b48e7a8c12b755b3",
      "51bd4de800614e258b6627a5b7782c7c",
      "5f3b9bbf81634bc3b443a2f398d3f82b",
      "46e918e4b47747ddac306043c1fdd516",
      "85f686e869264e6c8f1fd749b4a5e312",
      "6561a8865d3a4e2b8c7f65498d064f95",
      "7f772c38196f4a3fa5fcf31df6bbcfd4",
      "50e556cd3d294e61a165c81a315e1148",
      "b77ac5a1ff964e91a44028269199d48d",
      "eefd3439fc1842b584df534ac0cdb75f",
      "c6c1f44f638447d4876ea86115be2e8f",
      "febd74d71f6d449d9c45cc347b1b3c63",
      "77b2974eb3684f0490b536dda68c4327",
      "7aad20c1a94a498a91a2c5fcb622d63b",
      "a662501f93af41668cfe67895105f094",
      "13f1df5399fa4f409851a4e87b3efd8c",
      "9607b746c0dd40789b2851bd3e213071",
      "f740734f46094d4296efb757521cbd7f",
      "41ce0a5b5029407d83220e6468401117",
      "cd168b99b36f4c9c9e11bd89bb0c67dd",
      "3281f150a6df446ea4d4475558759edd",
      "0d4a3f3dea9b46c7a725be263808edc9",
      "95536168994244a0a36b13994c4fb9a6",
      "64393c9dd6624b088959425e8932c607",
      "2ef819b67e9b42dfbf72750794c844fe",
      "7755f7d7bede4f74b5a786270ac727d0",
      "69dcb59e08704eca873e91273bafedc2",
      "2b09adea79854ff8a288b371ab83da93",
      "9a6beb1e83674746a612cf2bd212e2b3",
      "d6cf11d5780b44018072db80c30fcc53",
      "d048c813ac54433ebec29013fb5900b3",
      "0309f0a199c148dc8625c4b64aa5d236",
      "65ccaa122dd445b4b1735e357e297ce2",
      "aa601e38b8194c8cb09eb379ea87d6f8",
      "79c66669c68a41f49cb49d69d0a2d0e1",
      "9da18f44782a4ac09a1bcdf5fbeea9d2",
      "98b3ea1263d741df9b7b83b18ee692a2",
      "c0a9b35a82bd490b9ea9bc711d8eb482",
      "5c41066ed8a74969b2cf0812232fe02a",
      "11ad8eadb426485bb997563301bee71f",
      "eff22079483a4eb2996e68d59a905068",
      "7578ce92d41b4209adca55babb78dca8",
      "e5b80da08e0d4612b4d631c387302592",
      "dd16324194434cd4be6966b282252c77",
      "1f5924e1e8174af4ba1b882054d9a704",
      "5487fb6acb3346fcabf03dc28ed6d506",
      "8c745abbe86746be99bd028da730b2de",
      "cb5df696d5df4232bea29f5f5ca29f0b",
      "17acf6b949c44369a0b6f1a473747db0",
      "a63478f84a60413cbc6ab1bfcce1d77e",
      "96ae5522011b4bfcb29e2f0a3e1c02b0",
      "e6b171651bd448649cf3bd383597d3d0",
      "43a245a2b00f415589d18a7c0bf32822",
      "1253ab444d094f799357af116f365711",
      "05c213446dea4f5d9766429b0f906723",
      "96812b32db114c15b87aebab606cc3e5",
      "3847388691184341bb7b839c0975a1ba",
      "3b91252e68254d49aad85a4fae1ac3bc",
      "2201c72fbe5d4056a4a501deb2d034cf",
      "59ceb4650604456f99e251b7f748e538",
      "3f8bf970654b45f1b66e87a34bc080c7",
      "bd20b192738f419a8b7e705b5a4d0100",
      "939b1606c06f4370b18981db0447210c",
      "69590246e94f4a3db5f4af824a30b682",
      "6c923782e43d4635b0690bc607f684da",
      "68119094f2ca4e778d5dbe43916e7095",
      "a050b88333414ae791d0012df50fb517",
      "5ccba758ca58414fbfd0af01c2cd8ee5",
      "dc5c20b6c1694777a79d8bfa9402e761",
      "4c54f95bef97449db0becbc62f7315a9",
      "f2b98649ce92486f81d5e85f35496d8e",
      "53084b2c15f04999bf09dccd93f85e41",
      "975ab235aefc46c1a88d97522c7124c0",
      "a0c2ab79fc2d4fbe9705f18b436afccf",
      "e481db4f233a4d41b61e0512e57cec0d",
      "893a3de04d2c48ffa1a7fb72568970be",
      "7aaa556d5ffd4c02b01735bc8bded825",
      "c87ffcdadaeb4934a29b7925049d7e7f",
      "a2d26179f09e41dc8ad0191f1d5d71ca",
      "d77ee3bcb3f04a489bf30f7d35263095",
      "a780dfcbf4b3438887667d67ad9a22ec",
      "49ddded56826457db0cd9d175cea1bd2",
      "f00a8e91ee954d298c6add1e7e7e270e",
      "756ad978aee14c6d867408ba998b3df4",
      "22896d0ea9184f208322b6bee67faa44",
      "fb414c7f57d14b259ce0739ffa379717",
      "a4882b49640442bb8dd20530414ee990",
      "afa696a5c3b14b56b3c76f7094eabbcc",
      "2b1c8a3cc7064dc09c253130daf78185",
      "93c236cb0b6d43779ab5a12157c33e7e",
      "9a6f7b50be2d46c28735295b38ca7ca4",
      "205282fae3ad4d43b0e566f88639937b",
      "0f8c2600e4494cad94483a838caf618f",
      "3ec6c18484b44454baef7040e7ed40d9",
      "b08446f80b6649b091104073b8ad3037",
      "479fd7cad4f34b63b35dbbe52191a8b8",
      "b5fd7451788a444aa4a1a667c272148d",
      "66c9d5e2c04f4c3181736b6e90682028",
      "bd029cd6f40b4d3b90b1ba461dea1806",
      "951f3d10869f465a90ca3deb9c16b7a2",
      "6efe54cf75aa4920a8028f427586b13f",
      "c79f5da6011344ed9bb5f622f6c56645",
      "72538c00d3d74bd38050af67def9d36d",
      "2f8d0ad201a54c21b0a84d5044da1feb",
      "7ff044d3b2c240e3a2d5e6459bc6a2a6",
      "5afd383a6c7b44829bf1a2324d3b9460",
      "2a87374f774943f290d6d148c167d61f",
      "bebc77af6e3f413a9afa5e001473abb0",
      "6246ee74d06f48f5a76dc1580659096e",
      "81dcbf15fd9343ecb8950b50f1d724ee",
      "510d2614cc254c869712c06f8e91eb5a",
      "b5ee52f3118545fc9273489278a82633",
      "2af6b4d8f1de468794f255baf70a521e",
      "225c274ca3334ef8852954ce3f1eb781",
      "1dde98880baf473cb85b5aee0d52cb95",
      "025094e125174692828a543f524f223b",
      "4172342b9a684d049ad10c27899a5182",
      "e1eca58116df4979b91ef93fa6126132",
      "294ee5a24cb14f29a1ad3051283daad3",
      "f43f101d3dd24136a67f0f53c69e280e",
      "7d259f6e1b17454f87a77ab85ebb95e0",
      "1e998998db5646ecbaaab032788ee9cc",
      "a2016860093a486d98ed0b9461570d50",
      "0fedcca5136345ea8c896eceeb68c4ae",
      "101011461e8a402a92013f0cdfdbff35",
      "ac9360d1ce494170838d1ddf7975c5b8",
      "e9f50b779fa1440799d09991b30ab036",
      "0c8466253ffe4891b9787fa56738895d",
      "09d8814b4f194f3687fb723264e58250",
      "986d52bc1c674ff09298ddd0de41e410",
      "eaa4802eeb024626aaba96ce3843da51",
      "5dcfd5d0806d48c7bb381118be50d132",
      "0f125368d07f4e0fa70b711d1e99faef",
      "ae29c7394d5d40288513b5b8b1a9fcf1",
      "9a68eb3bc8c04d279349815917f8e8de",
      "43f3eb029be84d34b2fa088de759f9c7",
      "b9c484ee75b84ffb98394bfbef7f48ec",
      "4a0ac1e7ac6a47c28a14bcc34b2c43ff",
      "57be1a45a4e84f218bc6a077078e2f13",
      "e6b5461e28a6437db0b9bdd1ef35df98",
      "996adb127f04475f9e4ccc7c3f25813f",
      "34a48721c6b04814b4688c0643f29805",
      "43094c29d0544ed18fcd0183ff51fce6",
      "d8b3017114ac4ac38d080112379739c9",
      "6e2387e6df5e4974ba7359c11e67554f",
      "ef533fe8d2484ce598bd69e7d6801899",
      "5438050189c54ce9875017cc45513c82",
      "bb473753fef945349d4ff29c1532ea92",
      "857474fa6cb54ec8badffb3b37ad9460",
      "202db66fa6df4519a7173acb39ec8a59",
      "d0584026238f4d3b987a584f5fbaf399",
      "3ef9fa440a844774ad19f9b50202217f",
      "c93d6b563f5c495995a32d2ec0c0e476",
      "0ef41c966f354e7d940b898027ee4a70",
      "58c1a310af764d45bb2357bb8953fac0",
      "cd49390e6f0b4f4389ad6724085d6771",
      "08a51291680f4ee19a8a6d252979d065",
      "f7b8f465ee7e43e8931e2fddabd93143",
      "c9e9588c4a7a4cef80659d84bd7faf66",
      "d7c197b4b9f842718fc6fe494e4ef556",
      "2efdf93ab6ff4c3ca742671422bc92e4",
      "ddbcc51364f14713ae60a116ed0a2f92",
      "85fd673a96e743009799887fb97e11ed",
      "21cf857adc3248589e9b67de57c90a06",
      "9a0867b9a64941a4b57fdbb11f11ac12",
      "212c3c37bb1e4a84ba13f1d64e889c5b",
      "7a9914da97964a3ab3b51bb5ca7a5185",
      "28a3be7cc8054e598db8346632203d33",
      "18b1637b28a54214bb2e755d5ca2840b",
      "11509a800d4947779e2c76ea5eb7e5fc",
      "2be35d2964e7416283858b6071bb9314",
      "4dde8dcc4c1f4288a032b33b8330fd98",
      "83dacc0374e945b08945113215aebbeb",
      "25376aaee23b43cd9d3aaa79c40d91d5",
      "20c99e555ca6460999613912a2098f8c",
      "77e5760e7d7849f999c8dc7ce78dbd0c",
      "3274dd16bd1847229ff2b42998c4a505",
      "59fa27388efa4226973a6db4e6d0e8ef",
      "4019f643c1b24e28a494e66d6f2e4a3e",
      "654ca289670f43bf86c0612e8fe5f080",
      "ec8ee042af9144efa5ddebc72460a92f",
      "ab74398fc8d94b05a699ff200e1ed127",
      "4ec9d5b25be04424818767c09b5fbde7",
      "681f5d1e0407481aa743f7f56abd0865",
      "ae524ca5e263407a874d27b2a1124766",
      "d33fb0b5e25847db8b4bc98596925650",
      "0e93d17aaa294c33bc5b5316c1813e3c",
      "ffb14d275c4148f6a2904477b782d564",
      "26e351f92e3e4b99adb5cb04b71051a4",
      "940c3bccb8044ba4b0825d5ce3dc762d",
      "87ec096ada514e5eb6788c8707c8ccdb",
      "72b5b3e67bc7481abc7a4211ee8b3a5c",
      "5a225692238143009987e8ddc7813c1d",
      "5cac9aaa6c4a4432ac5c72f006d41663",
      "44c693ed390a4671b9b50249a42fbf6c",
      "c3623ad6230b4bb7a5e20ba3cba77952",
      "dd7ad76b72ec413ca7f43e3cfef3b323",
      "30f23c012d59473aa2127d5d87bb90eb",
      "62050b08df6f4f3b8fcb7e4326021a49",
      "c9af8fa2510e452b9066f5ff5c044e42",
      "da7f0d6bec6749d8962130f1ad535637",
      "b517ccbd3ff647cc93a29433c0dc151d",
      "17877b53d6de4bc68fa99398d271fd89",
      "33995588fbe34425b48778c25ebd3317",
      "5fd475768e29455fba34d09bb68c3888",
      "fc0453c823ce4a54a8fa5316ed62dda3",
      "ff5cca7438164ee99a90dd7562fbf2e0",
      "a936a28064a74c35b786c45eb8175318",
      "4e44c87a2311409da2acc281ad0104f7",
      "5b00e98a6a8e4aa5baf2c704d3405196",
      "db5f278a707e43d6b9d7487f0fc2b860",
      "fbde177bfa8143f8bdf9832d281dd5e0",
      "c0ebf1bd65c340f1b67b0b4d20c5aa2b",
      "f551f6d254994f19814a2f882853b598",
      "e59c4420711447c3b0d53aa24cdfc586",
      "c781862fb07943119a170947b6e9912b",
      "63a50d47ba1e4f6194b62ee761d5e289",
      "0e9ecf36db3949bdb8b540a051421750",
      "f818294494a54448a46e7ad2d484eca0",
      "dd96d5245bf34463b425433ec78eb4c7",
      "ccf02b7244be483f99ae70a2997bcfff",
      "11bf5f8ed2a043fb9cabe2345adfe692",
      "c94168657722499bb24a6c4447699a2f",
      "53b3c80969a8419589eeacad29041225",
      "f5f7f2442a1f47589d1a87fba3c9728a",
      "b951510f087b46e6b4214a5f811a7506",
      "9bc36da57f2e47f697bf97d5b0f1b51a",
      "f93a02ffa0e04baebc42f615fa871ae2",
      "f4b9557fa08947a8b27aaa630c7cf89a",
      "b35ffb95b9314e4d9c0cbdb08baa97c6",
      "eddff104621d4079910890be2cf26153",
      "8c91399add894b9db051f54d02bcee45",
      "caea99f2df2d43c0a38d10f398b301fc",
      "3360ebdb54e34ec0810d0938914c3a8d",
      "6fed70ceb395421c86d9ca4a26508bd1",
      "83026a33bdee4c1181868064122e3916",
      "19a94fbfe34d4d0d8a8f95e86e2417e9",
      "aa796878d9ee43ffa2f76bd3326e1299",
      "649ee24716054dc5bac1d205dfec051d",
      "4b42642f94454d94aff46cc26c160d04",
      "1216c930678d43e78ee04c49a1de8d2c",
      "a0857068d31c412986ca7c821af0254f",
      "e4134310165e44018f821b7386d99798",
      "acf5aed5b89747f7b20446a682a3deca",
      "51bfc5743ee14e4c8d8fea5d11b2291a",
      "0b5ee7a554da47829972aac7879cba26",
      "46d98d5ea93d447c859bdaaa8dd63b56",
      "5e3d8b9b811e4867b0bdba1acbb3c3d5",
      "7a62911d4e0947188dff32890629f393",
      "d7cee5524850400dbf738ee7613e30e3",
      "a83d5cc423504ee3b1390dd4b5efac12",
      "ee39012b7f6444dfb9d1857f50a72a6d",
      "b04ccdf90e644015961993bbc5dc5569",
      "582e3d4728fc4b98a06d3bf27bb0d14f",
      "0675ee3455954725a1f009987ba2e603",
      "2d659d888326440cabfe674145de9e2a",
      "293674f85387486087ca05d73f8444f2",
      "42164576296b460f96a0e3905859be3b",
      "8a58fac655cc491397c518df0eab2a29",
      "7ba87e8491884029a55c5d39a6f4a6d9",
      "05f7424f495d4e349f7d0f9a0715bf77",
      "499d8f85bada4e6bb78a1589187a5585",
      "f469d310daf1409493f995a9fb81beaf",
      "02a797c433154665927a95b47adb8b21",
      "f65191c32e6d4bc4b800f8ce186aa791",
      "a456f54900e94bb7a5c6894b4ec99ff8",
      "38549285a69b4871b023fa35b7967e43",
      "1c32a989ff254462af9d84591275fb58",
      "cd9d4f20274a444fa47dc91b24a7dd88",
      "3a50ef5192244d6ab21b307880e99b29",
      "e840e8673c7246f2bb411c19f2eccdb6",
      "d01141d3c88447268ad9ab64745fda0b",
      "c67701a32b1845298b18b6eb9527d75f",
      "ebc8b6c4f97e4e4a94d9e1ceef09fdd2",
      "114f5cfa5e37420193bfdaaf323a9b74",
      "9c89080d52784e87ab1e8a35ea7a7177",
      "bfd690bcb0bf4e67b5a0c3e80055d7d6",
      "2a0e65f6b03542a0a280757beeb09b96",
      "8de5a5371ee2425a9a3b8aaa217d75a4",
      "8b6b6809822148afbb4af1cac752d0a0",
      "45fd7986a04247b7bd90c9c85c3f28d5",
      "2356e6f90d7b48aaa2a312eb9ebbd6b7",
      "1643b21bb77e4327ba3784103c4f64ab",
      "7aebfb469cab4400bd9964459dff80e8",
      "89f53e9d0b3c4a049cc7533975f93607",
      "5a2fcca6fccc4a1c9dd3f6b7dab85449",
      "e022ffe17a7f4c0f87c7534510754bce",
      "54a94892ef7f4fd9b9ffa4ac231b47b2",
      "df73ee7c8251490ea1aecb6e82b7b6c8",
      "4d9856ee824945e5b1b8d9647deadbfd",
      "41cbfc0f925d4b98b480becd70fb0e22",
      "b9cf3f8745bb4f1fa72f03c0c281477e",
      "6db377d1f25f468e9ce1cfb689cb845e",
      "2178ec9feeaa4c4e9776564a753d0a41",
      "34d211ed965a4c558a3bfd864163353d",
      "2f78186f43dd49a4a0acd10df42207a3",
      "e6fb0ea5ffbd43b8aac30a94568ef7f1",
      "a1acec35aa4943edb1fb6e8547c79eea",
      "298686eacb124d72b8757a9eb7df5473",
      "2077f947e8e842838461888985c617ea",
      "0e3476368ab7440787a69de4bd5628c4",
      "adc38ef8ed4e4b348bffbfe28f5a85ea",
      "dc9a55d5dd4845fdaab704be5c7af248",
      "2c6e7998d3034b29a63485ea4de089fe",
      "91fc4725ea754ee58860a133d0e72fa0",
      "87757b0b64164f68869c67de9e8420a5",
      "bb3711334bd74bb7b0a700e7eb0a0a95",
      "1473c79f7d8a433b875edfab17d9322e",
      "e94a15d07add4c20a912fdaf4a72ccc2",
      "a50f1ca17b3f4a6ebb80e0f47bb9337a",
      "07e0e69320f5435b9d18c116e921a670",
      "80cb141f2c6b48ce8d51e9d4ae2c3d3a",
      "150ebc89c19541d59261500caffa6f92",
      "18dabf81bd084878b8b26903084e5a5d",
      "81736fbc6dd14f5ababdaa5390365fb5",
      "3ed591b1ab7f45468788f6fe21b422c0",
      "852ad3f3706c40ecbe077c823958fbf2",
      "e59ffbf157ee4e7d87679884a9432d57",
      "fceaea84f01b4d18a482cbd2b7d91aa8",
      "952c764e389f488eb9094423a30b39f3",
      "a534549783a7413689b0ab2f5628f539",
      "398b214c346e48edb4916859c25e412f",
      "a2fa7eba53fa47ab9e860c58ecf1aab9",
      "adec9dc1e675450498025ccc9d67b8c5",
      "5cb1135f7a734b689544dfb4c9f1bac2",
      "8c37821365eb4d51b0d866af1a8e3736",
      "c800acb71eb84a69b9dccd288f0e46c7",
      "513bfeb00e1e49629d27a5b431da43f5",
      "de63ee8148ae4a6b915013f6cd8d3af3",
      "80845311d67847c6850ae29dd801445d",
      "fe5e1f49a557460ea746aa89f457e9d8",
      "57ff9eff31e44599aac07c590c237b62",
      "4866fd44a2834df0b20d8f113093695f",
      "69153911103e4ce396b777d3ae399f17",
      "66902a76419e4be4be95b2fe9c040734",
      "2768bf7493534a6894c64670d38c8c03",
      "422151f54faf488b873e32f02759a9fb",
      "b1ba940b2d4f46a2ba99844d02fa80c5",
      "2bf6f586e1de480ea07702b6ea079c41",
      "003c403eb4af4cd5b5b7f395746e409b",
      "709453ef913d40118b5b750dd588ec03",
      "0f0310a75c954e97abafa2f014dbdc0e",
      "470080c74e67444d9990cb5c75ccbb4b",
      "42cdccd4bc70475f945e4fd8bf27b530",
      "d87a170786fd45b182c56c0a29666fee",
      "61380cb4ebae4e63be2e5385183af500",
      "7df2ef3212694b4dac1647e894e0e49e",
      "b73b655535b04b3d9503e30965d2b392",
      "d243622ab2a24a48a64fda3610269259",
      "8a350979856d4244a2a2a61910b2a38a",
      "21b9a69ec09740dd85146ac5776510dc",
      "6717716b067c4dbd8a60d7cc99450301",
      "aa0f37266e3a4ed394d5b2dae8c02831",
      "1d58da2530bd4a9b8f9ad513c51e7a04",
      "6608181118194c4e915b6fdd69da88e3",
      "3b56036a0a9d45f398a3fa96087a8237",
      "be7c398ad783444b9cc753596f95e9c8",
      "cda7e45d9d584209ab41ae8d1d832f0b",
      "0dffe1f7d95f4979a6643ba4e5de0e83",
      "838128d5709f4da69a6f994a4b6f47e6",
      "209451fd97f84cebb636926e0ff1c7f1",
      "d54b427d4c76413ea7a8747f2271dc0a",
      "1e949e8e6c0542fdada0ea1d8060063d",
      "165beff68b9a4138b2134cda0d76bba5",
      "c6036a86d5134a1b9db23c252e38e2c4",
      "a1d9487e23494cd3b8995836edb275b5",
      "7afeca4641e74eb1a80ba60a3ecb3412",
      "6aed63c2ada144ac893ef1a4c27dc203",
      "e17c1b165b014cf396f501e39563f9ef",
      "56c3c249c8bf40149270c8cbca3e0ab8",
      "4cd8fc8a62ab4bf4bafa5ac7ba9388ab",
      "5935a140019f4b2385fc82e95a681bc3",
      "141ae92f740947d6968ba679dbb2af8f",
      "c1317a5218994ea9a007dad7281237d7",
      "932a464eb3e0477395ad1ad0963527af",
      "340f1a14cef6426bb32ca303edfdfc79",
      "cd79471c3e534126b6aa78124de7d5f3",
      "59072212948c4a7281e80a1be6fdceb3",
      "7fc1490da5ad434e98d6745cdbed7b88",
      "f3ea469f94eb40568d807faac81b5f3c",
      "1f2c40a7b60b40e799338cc491c0b818",
      "ef3e4c015e5344ebb66aedb50cd2cc3c",
      "2a7ad1d52e774983af6825feda98a804",
      "47535c66bde648e4b7ee44a18b9a82ce",
      "427f892e75a844e89ec4dd3c3efbb4ae",
      "38ae0167ddca40f8862e9a7487893a93",
      "f81a7c958be446129f2b60eeb4f72d72",
      "4c9bc4f5ca0e46ce8f6ea9dc3f213266",
      "c5adc81bab784e6d89771905439a77d7",
      "dccf0ecf4e2b49b6a581004207e5f069",
      "03695c456d0e4871a6556747ab2d3958",
      "62f9dd91c31c4b68a8bc88c530b47a11",
      "b14090301a0447c6b546fb81041a684c",
      "078663c883844b1baa00fc761d8d27fa",
      "a9467efdcff84c6291c274d2fe87bed1",
      "466402d94a98493e86a52316fce3c7c6",
      "dc0788342e7d40e7b91ecccdf3d0272f",
      "6484d0f938be4646905f011a1d9feee8",
      "f61e3f96cf7d4a5f829bb4c97820e586",
      "3bea60a46235411d891c4f7b327d0d96",
      "a8c4d4cdefd04191a17990205194de2f",
      "7fc2fc70b71f488bb9f8eba515833379",
      "abb910e04cd54d0fbf8200eb2fe10c32",
      "a49a1974bf2e47368fbffe05c022c7bf",
      "1b7b144a624f4853b1667c4d8d422116",
      "8104c76a308b47e9b6fc1b8fb04fb027",
      "ae7d4ae0faf8452e809c0a7b7e9c836c",
      "018e0c18ae814553b00a522b260a0067",
      "1ad13a525f90494788d0ce42a63dae9e",
      "6167c6802f4948e2862dd487fc83f2cf",
      "931c2652246a43c09d9a313466f99654",
      "7bd4e3d1c4dc4065b5a8db63fefa248d",
      "9cca0dca68c14680849b3e6d6f4c93f7",
      "efb12ec0ab944331bdf6291452038d48",
      "06ab35ff77d242c49447bab2f3c4870f",
      "d35800d503384fdf9b735a570a27b95d",
      "b43b5085950f433799b745852e065071",
      "250266337fee4fcc8afe51f4db777c3e",
      "1ce3ac18e6d84d34bc065884dfbab267",
      "39ec9262f82c44cfb4e0b98046602711",
      "d7af3f1c92c04e629f4511bb39fd0f78",
      "363b9543f9c04be9b17697155ecdf2c1",
      "83e95494c3e944fa987b3e3c65cfd594",
      "9ca5772e7c8548298ed079aa9092110c",
      "539223c70c9c43cb9f2b02a402ce9999",
      "b16bb936245c45029e5965b0f6cdba0f",
      "305a6810b02e4d85b5b70eed101e4923",
      "95cfc89caaea4a57a409781ab89c6fbc",
      "019ab210509e4f219e169e80d3a57e53",
      "77dc0576bd49424db8fdd84e23efcd2d",
      "9e0c935ad69f424a9fd4f7217b1d9e48",
      "33d5fe44fb7c44f1ba25a313f0cef2d3",
      "0203581dcc034571ac29d352ef3903a3",
      "fde5afe1096b48ea9a4eea32b426e755",
      "4e1c29ca3eff44c08bd2ce52318822c8",
      "dd462ce696f043efa555a5afeaa27496",
      "397920706e7b4c85a2b04f078876c31d",
      "ff9e66fc89614d82b5953f142211f06d",
      "a4f0cd7ac388491ab77f15841b37a80f",
      "3f954ac83f03452fa54c461ccd1d57bb",
      "a9ce6109f7e34feab1e525d8f2fafd67",
      "cb999b685337463e83bd4d73e5bb395a",
      "687efdc7a55347519b56a8ae5142d6f8",
      "6e424e0bd277421db79fe2d5582af96c",
      "92b3ce9e39434a08873726cbae115ccb",
      "9ad8dc9c95984cc6a290d9126249af8b",
      "9c0dac390af843498c24df4d2e2166dc",
      "6be17f36f8e34540a37e2cb7e13b5ea6",
      "ac1f390e2add4e30b0fa22e45bd05551",
      "11e80598e80d49e9b2117c41ebebbdb9",
      "fcc4256ed5ba41b7bb711414f35d6df9",
      "68ebacd1089c4696a1fc854dae678c85",
      "723af8503f774e08b474c926bb1df94d",
      "711a7195caaf458d9148fd1be35b7259",
      "d4616b54e9f74a80b4bfd942516e593b",
      "3205204c2b4748b890ea11ad66119d4b",
      "aef8e9581c424055a7663f3e315bfdf1",
      "654d4f2c7f7743f2b5d4ceddde013b3a",
      "09cf2615145e45f2adba03afa1c094a4",
      "c13e0238fb194c33b4c0bdf1d5620a92",
      "82073fabd80d4f1bad7ce59d9c866603",
      "b53d6d3c6398466e9ad22d9d46f8c385",
      "fdc22075a7294cca9fec71edfd975dc0",
      "b2ca296d2bfc4c748306d16a0aef288e",
      "f30e8f26bab145a99aaa165c39c64584",
      "9b76665715fc40609e043a71522c3b75",
      "119034ab87014e5a9fca47623abb9cfc",
      "d182c1fa8a40403aab48048e388527d0",
      "155c04c696c944d6afef547b79c0efc0",
      "f27123a2cae940428d9d523431180b83",
      "73a5b866a7d84994805ecf6d4d038350",
      "1e06c75e5f9d48d195c0fdb82e65b55a",
      "5271c711be224a3aad44f2783e2bd0b7",
      "0a32342185c046059a4a40c64d1cb0f7",
      "0b0d389a4a3643369244984e061b9668",
      "3fe7e944648f4fad8b17853bf94baec1",
      "cb78a2da5d8f450b864eb016df3080a2",
      "64371171c5394a1d8517a3f012a14790",
      "89857760a8524aeb9eccb0ac50bbcaff",
      "ccd1a2246bad4e09a3ba289877f2d990",
      "2d6973f031664ce5925cb9f5ea57b18d",
      "952cfe97924a40e4b09cd061c3c6851f",
      "9bd6501066d64545a57307d613089dd7",
      "0302c1c7015442109758ba7d0a967ce5",
      "302a0219cb714789a042f7fb99eeaa16",
      "b6c2df45c4b74027b1c12302dadb71e3",
      "e4545b8354bd434a87bb44c72e3ddc6b",
      "6330193e193f42b59a9e1cff04ab4f1f",
      "6e25776d6f8e48579abfd626676d8b43",
      "74bbb14631b3434b8c7059e64a514aac",
      "61dbb905097e42f69f3965da71311107",
      "ccc9d3f44c23418483cd62af3cf9ebf4",
      "90469dc9073e480eb7e230ddc72c0596",
      "67977d954cc04a4bac0847808ee98efa",
      "aeb9ff2ec81546808fc1d30c43f5b7d9",
      "7f0ad91b186b4d398a8a1fe7375c0b00",
      "5eedc66450c14d3186f0065f2ea66d8e",
      "a69fc040a4974e96a63adc0e74c972c9",
      "1563559852cb4b87b911465cc9dbd4d7",
      "d15b100288cb4522ae119043ed5503dd",
      "40d57b77cd074fd3b45f69c1a9900d4b",
      "f7f159e7ad914a468e013ec725416d7b",
      "7a96fd8981ad48ddbf9d8b42e2ce2152",
      "9e63141022b142238ab6634d62fd8e5c",
      "e3619f9078244d539ee3b26171454d91",
      "84fbb26dcf9241f48d4f98f934ce0e27",
      "5d053dd8d42248c4ac59da1d187ea85b",
      "6df2c28896c14261834828f173ccfd87",
      "c10424251d71466295a4452d491790de",
      "7d0f11c08d8841b5ab6a5f2327720d8e",
      "5f0766066bd241a28d116d834d081e85",
      "e6f4e5099af84ec094e9e4d3d7add1e8",
      "44fef79ff5ee4c5e8511815e3d5fe20e",
      "e0d2e54270654ebeb57613dfe8dec783",
      "deb6667e79184b93ab18fd3db7c31aa4",
      "60235555ab07409e923206d2b2d382ca",
      "5c24f947dfa94fdfaccde1bcebbf2d65",
      "5e4e4226b6c14c86ac0e68a2f66f1af1",
      "d7b7bf173f8a4833bc89e3c37eac1fe4",
      "475b2f9025ab49899300ccf9a1b6805f",
      "f50645d8587f44dca32b5c0d0c606f71",
      "2a0fbe67122f43f397dd08c02d52675c",
      "57c56c2b119c47e8920e7c8a288b9fde",
      "2742b160376c4303a660e97f91facb10",
      "b2f1e4d7d71f4788b6b591602f815672",
      "d1d9636918334165a36bd3ab471d4689",
      "9560b49347114312b08e56745ee59e4a",
      "81dfcf5489a24fd68fcf6ce320737e50",
      "ed2e099ad2ad445d8c46116bb2fd498e",
      "6cf28b54afcf4a359f3becf63501e5df",
      "096270fbc360416b98c11a94db7e0833",
      "37eb1d8798b64a1985a78aefd39032ce",
      "2d640a9ec9d34c5ba18e16e01f63dbad",
      "2a2ae7ab434d4d9ba25d7de3e694870d",
      "62d7a3420be6478aba06d4926135dce5",
      "387b0d4e809b49fcb51038fae1dfbc6c",
      "f39fa271b6554388be1d2e28ff1b804b",
      "26003180aaa6459aa4b79e1f54e02912",
      "644a2e71df204b49828efcb64d15da27",
      "fb45003601134bfeae326f731bca262a",
      "834fc5bd5837419eafdb74cd09269a6d",
      "1426a5632ac84ac6b35097ccba44314b",
      "8a4a4b569c5a462e83348df3fc689b88",
      "f5a70224ba2d42579e3d85ccdf6dd48f",
      "a3b27456a92e4406bf073eca1942aa73",
      "415137d6f4a24bd188fe856610ebc44f",
      "ba5ec8cf78e440858f5204c2a609ee39",
      "c59d070be89941d8ba9172879a165edb",
      "98327e090d81442abff6c9febb144fec",
      "281426b4318546c9b59fb007b705cb6e",
      "f699005619ec4196b1939f83f2b0e68c",
      "e81c35eefb9141cf8bbeb8df8b05d4ce",
      "6cc4a9bf915b4dec93f7fe1f6b180ca2",
      "f023592a6d21442ab972fc9ccd8050fe",
      "d35396ef0af84e5a9b4bc9577fa913bd",
      "14ccf8b7f588441c89d69606b343c9c6",
      "589b3c9de1b9464db4d19b99c581b8b1",
      "f4282fe3c424418b9caa0a29d0f45428",
      "0a82cbd33a2448eb99d51adb810b10d6",
      "75e0d79a0218490b90f2d733145bf62f",
      "81463eaf188e4e4eb7bb612630454180",
      "cd3a6338be034ce08f47868496b890c3",
      "bc430b95084a4123a886fad03480379f",
      "0165ed09c9cf4daf86d1e46810d25a66",
      "3ffa0ef5bc5b4666a35a3a61a1af6160",
      "9d924e8c517e4f7592d6046aaeda9b82",
      "b472372a6d6948e3967a782b9a13ce24",
      "6011e91489e840c0a3eff41b0950a4b3",
      "c2f9d2f674a74b6db7cd221981054f35",
      "59caa24b397541f68ff56b29b42697a5",
      "5fea71940cb14bf9b5817e36300a846d",
      "1150e907f07a4ceb9ce3cbcc287cdc12",
      "c5fd8f8c47d14e75b1c316dbd914ea27",
      "925556f09d464f05bcde3a1402b916db",
      "a51c3e078b074108b0db8f94208497e9",
      "2a8ba83378dc473db317e13c877eed89",
      "b6e9ebc111924e9286eb786aa21ef9fe",
      "374e2f9c469b48cb968b989b6ae981e3",
      "dfa16554f1f8468abd4189e6b186fdb1",
      "19ad1bdb274d4280a0eff54d4dd4f202",
      "b43bc8046c0d4468bd6fd461d5371ff0",
      "15c1aa8dded948c6addc17f606f03ba6",
      "53379373373f494db3f1bdec85299795",
      "5456fd8945c4425897bbd3d1f1ff0cb6",
      "3819d0547d3c42ab98aba33ab93c5295",
      "b9ec3f8c71b8405d823499cd89ec52ca",
      "578723a2e3c14543a7bd1efc00550437",
      "ff620ec7a79345d9944e19fd853df720",
      "e406191fff1d45e186f110a47a048423",
      "d373000072194966bcc67f50136e09eb",
      "a4761436d95c4b528a32d5ee498b4476",
      "7d4833e637d24460b48f94e7d2edf0cc",
      "a43d6963f63b44129a1f90a23b988923",
      "0a66662682a14ba6ac8de69d4d500712",
      "a817779bfed3425999ca274f6d98c3a1",
      "d16a6d987abe4d769fcb42c4105e5eee",
      "24380f2de3f24950a0a2855d7480484a",
      "e334ebc1cda64c9ab8273561024b1920",
      "77b0f8a1c222408fbc61945356f4e5d1",
      "63c42b73981045709c43b8f69dd11be7",
      "7ead61ebeba445f38de3543658f6f371",
      "ad374f0f2f48476b9ceb075e22784bec",
      "97b2271a9edd48758980eed564502829",
      "cd43b86f04774715b7cbfab639893c3b",
      "655f493f36504b8e8df62d23b6dfede1",
      "ccd8648ff86b47e2b96740490ca9ef46",
      "9d66f3e291334534bcc6d660a9067ba6",
      "93eac6e4e79641548de7ac4fe95a2d31",
      "0cf057e223114ea99ab3c86efc5bfe04",
      "35e8105d81f348fb84e2c7311c896187",
      "9824dd41350c4b069e2d83971f0159d8",
      "ac006d197f0341e8b17d77a67da2963d",
      "afe6c1cbc2f24d609d6bdfa24da6ba4b",
      "1a4bd99242b04151b962a43e6ffdb9ce",
      "767447df532b4722a0ccaf40b16df7d7",
      "e0183d77a957472c9b6c053a58be6e3f",
      "109188d22b9948adb4dc46697bbdb852",
      "1d5c3c3273b347dab920f1f033465274",
      "6a0e6a5b1cb744f0bc99e1f476582f7c",
      "06a562cb9f42448eb2b278ca02effe9a",
      "83811a6057d74f459789721bb9c7ff9e",
      "5fe0816c5f1843b8b95608e6814cd565",
      "f87bde2bfbb74f908ea1cf89ce9ab2b3",
      "3cb3e3a74fae4bb8b42cb19bbaafe624",
      "412b89c0f78f410ebc81d236350e02e2",
      "99f6f43bde1143389242c2bd23a7f9f7",
      "ac3a1ec2a5ff4fa39db3578b0ff59b89",
      "63d96c5bd18042cd8f136ad1d79285cf",
      "4abff91348d4469ca12a497dcaf6225d",
      "2710895f5ac14adfaf25df3f8e9a7bf2",
      "6513b8c63dbe4abc9f0b35b030dda192",
      "7aa8aa0260a14552bf26cca35eec0e53",
      "df7f2cf45cdc4888ae44671a2085cd73",
      "09ccebf53fc1489bbefffd5cbd666067",
      "701f4bf9d53a47ebb43ccbf39fcfcdd3",
      "5f2dc3a320fd457aa1a82b73254d8718",
      "135a49b8594444e988af8aa7df60eb89",
      "3f26ae7d65ab4ac0b2578a455dadf4a5",
      "71bf1e26b6004ca89bcfa163e1e63e5a",
      "fcbbef91ccba414da97a4946285cb27d",
      "f70f328c371641918b457804f98897ef",
      "b1369c8e44964149aedaedbb48d1e54f",
      "d23b685a8da34271b0bccc08e8fece2c",
      "0b8a5caca3cf4db3a60922da77d9f849",
      "acbc3a5601f8483d94ebdda1ed972365",
      "716bb9cf90ab48c99db29cac1db5c54c",
      "195dc5422b5b443190a725f6045ded92",
      "58bdbec25b654c61a33a8c6b3fd8d60d",
      "ffe9ab50b1214f8cb85d78304ef56c5c",
      "6c34e647e38e4c1880a0d99ea366cc97",
      "91593cf60faf4d8f87e2bd417f940a52",
      "3014932937ba419599d679529b8487c3",
      "091eb24061454960be9ed558c771c8e1",
      "4805f0ced5b849dd93a76cf13139bded",
      "c6b5b26dbd47448e91f6f6a297f9b87d",
      "7653c8d2a1d5419ca6fccf4a78eecbbf",
      "ca114a0fc10a44fd999ec69fb8fd763e",
      "1e6cfd42ce9943038413dc162f3ef034",
      "98f3acd330fb4a668b1c17f999168920",
      "12f183b7e141403ab4a425ed52c457c0",
      "c1acebc11e2148759d38fbb853608cf2",
      "d480c74966774918be866111a57d1f04",
      "120c6fb4b3214cf0bcf26d881e5265a8",
      "10a326302553454caa64c2df6efccdf6",
      "ef3f6a1838ae41fcb15ebbdedfcd9be6",
      "fa66ba1f443141799f5e8caf30de2dfe",
      "985210f745874badb3b230d134ec9004",
      "3b155e53e77f4c3fa721b87417b294f7",
      "70d643ddc0c54f6cbf31f1cbfd0c523f",
      "d1b77e331878484b8efa9c65de93737f",
      "c3d5e4ffd7424f5f8aaf1c95355985ca",
      "fb2997a3d5f946468dade8c7a19858e3",
      "beeb9ff58457406e823e05ad6421950f",
      "3fb9b80e2a6242ce91fc427c54b03c81",
      "74877c31f56b414e9e6126f58268cb15",
      "1d241533ff2e4cd1b179e9b3e5730a43",
      "2db7f0268564463099109a354a7965e4",
      "7c94b82ba9064aa7a46b7376bcbc06c7",
      "e139f5fcb56949849510e683d6c922b4",
      "7d866021057d498a8f3797721cae2232",
      "725b86d987e84d5d8e3633b0849165f7",
      "3dfdffd641a8472389c0366364adfff1",
      "f0ad69fdf88d42b3a9351bdf97fad3c1",
      "7c059e682ab34cb583138f8207c79a64",
      "ed57263e1a6247f2afeb5ab51fab53dc",
      "465d146493a3499bb7431afdb50d6846",
      "4f88be29a8a54f6482e0a63d73e97b70",
      "bb16fe4135a74ef697bc59f0dde8cec8",
      "6c37398a469d4d7aa6a993b98f716a9c",
      "034220754f0a44df8e24f8cbaf53df66",
      "4206cda6b72541d1af8fa85d0ad1897f",
      "7e2d6a88a5414157bf1d8635efdd296f",
      "c8c84ab73f384261b723cba091707a72",
      "f5d1fef5f47142deb39a57fcde6fee05",
      "a35b65fa706844da9683f82387cb3251",
      "220afd94fc2b4627b57406d922428780",
      "aa8c46fe2be2419e8dec5e9d033eacf1",
      "01b84bd97aee497d98d6b22504fcbdba",
      "c6a2e5fd14484a44aede0c77c053f074",
      "8e729382a8d94bc5a0c3d4b88c70606e",
      "619b366bebbe4719835d980b188a9e06",
      "53e79ac0db934802b1a2e92cff3c50e5",
      "b2d9ed7c5b874503876c941f95985e91",
      "e3ae1b1f6205499d9b5e49d7346e1efe",
      "4fa9d9847bad402fb9e3300e93c15f0c",
      "22d3168e2a8e4911b74fec549fa71e9c",
      "8a3d3964750b4067a2dc2a8836bce8ab",
      "83e3223a936a4aacae26b477b8c62c9c",
      "bee56d9a67bb48489b4beb950bf6b032",
      "a478dfcdda1c4afeaf3f43f3d6a2d2c4",
      "898265c101d8426ba3a04f98956f71e6",
      "f97fded6f87f4ccab8dae28a6baa4461",
      "83f085eeb7fb4725a08d3fe77d43a9dc",
      "6f3b0c7e296749d3b8725d1d7f6d2a8f",
      "e238617ce180412e8022876276ff9717",
      "6fe3c4d25cd74eb2bb12b95c7b0a5cd7",
      "f65953bfed2e42a78fc8ea7d47c0abdd",
      "3783d379d7264e82834eb03dff0eae4b",
      "a11c6525631941efbd0c7b3c4f2e11b1",
      "3e32b312a51e4e9eaa9ace07101b6318",
      "93036e4cdf5841088d039512641b081a",
      "6caa44f4f62b4344b95a061e5a9b7366",
      "8ddc193ab7b24b50b8036071fccbf3b4",
      "7baff4dfaf14457c886036b9a71ae8ec",
      "86efe4e179e2494bb652334dfb6be296",
      "c6e3a313f62b47c7a026122541ce04cc",
      "3f8aa694cdf346e8bcd6557ee770c95a",
      "afabbefa144d4ec4bc7ac1e8163a48c6",
      "7b5a0e8778f24b5ead4b72ace246b627",
      "d59c2dd5fec74881bfa94563d5917cf5",
      "89ebea8990334d47b24ee3f2fd15891a",
      "8d01c2e2a2c74a86af0c08b5060fa428",
      "4e91dec2b4b64a439fe61efa3f97773c",
      "343b0be114264f81b8b253bdd6b22e18",
      "cd34720083054237b9688a1de6d79c40",
      "317a63c4ae3149ecbeeba55aa80680dc",
      "c8beb399bfaf4bfa96fca89cc8464387",
      "777d56edc7c14315b98984e019d91f27",
      "ea8f1913a0424d4db1e6e56704a7d8ec",
      "e8e595853627448b9762cbacf4e6d3e5",
      "d77ba0968e9d4bd39b97b7ceee3b59e6",
      "e6081440c26443d4a049b643216ac0a7",
      "da895e500a444e4cbda0724d69099e6d",
      "849de13489d94997ad66644ecb5c0acd",
      "4afb878205da4635a9450b63e67505aa",
      "8ca1b6ce471442f3883923c11caa7f4c",
      "67bf832eefa9496b932a13a2ac7f7482",
      "0531a7155b4b4e1fa4f1eae6229fbbcc",
      "a86e0bf472404884995541d8abef4975",
      "0efb2e6be57249a89a91950ed1285f2d",
      "f7600bf187114f278b0e449e29fcf1a5",
      "60fc23fe84644fbea3de750910cb84ee",
      "8dc6656c290f47aca0be69bd8431e2cf",
      "a72901614c71436db102e2d27a417405",
      "dbcab5b2d68b4c3098c4ab1f2255133c",
      "f713a4c4aa6d4334893e94a0b837e9a2",
      "e62beb2cd69342e58915e3a1a6046117",
      "123fd3a895b04b14b3834f64cc4cc46d",
      "6daf9eb73b41438cab209c0485356e43",
      "ccd3af5665a644d187419103652d1102",
      "8105e08023b3475e95e14ec5b39946ca",
      "f853e6f2cf364213aa7bed744245ac39",
      "6f98687304ba4da2829e3c3cf6991aa9",
      "cf57aa9b3820466989e994ccbaf969d8",
      "d92a65bdd4984a35838b976a61535258",
      "218ac0af5a2f441ba5b1024748fa6913",
      "99079e7618264b14b8caf724057510bb",
      "908234b2d1be42b493cd4c44053f5402",
      "df1ba6940a464fce823e07fc1d4f8c18",
      "1075c365f793460ab3ab2bd1ff456e63",
      "99c6584070e647b6bad385eb4c13df48",
      "6e898e48e35345d2a7ce9daed27802c2",
      "4cea7621cbae486584c7b0674addeaa0",
      "5c21185ad440436cbee54c7a6795ac92",
      "a4d04f7dfc1046cdada0c38c32bfe4f4",
      "3774644f581d44c9a6ac14ae68be3bb5",
      "43b2fa23d49c4dfa995bd52783d1cf89",
      "042fe1b81575413f8aa7434e91213159",
      "631ac835d9da4992b59c563317344d58",
      "8baed12e48064ce8a90eda253d7aa5e7",
      "44bb037042f745eaad100828f8c710d7",
      "a6f331e960d04f1d8d3f050f7996f82a",
      "1711cbba9f8141b691f33f462f43ce12",
      "439fe66196ca41c297237e3ddbb2ff20",
      "feace55b5d9d4d23bc6f588679042c14",
      "6971e89e9dad42238e36c94c1fec2b0e",
      "de4c536ac02044fda01c1356315498de",
      "fde755a2a85647019eb60e41c491a178",
      "4aea3d8ba89a4fb8a334889bbef6ebd9",
      "7a898217e5c041f49eac8a8a4b89c2ee",
      "e14bbf6fa7174253999ffe43ba2bee3f",
      "14fc534a66aa47ecaf7a5e25c66c20e8",
      "a126e44b9e7c49a5827724bd2e344320",
      "66b07fd81f914322aff8a0f4b5448d96",
      "958bd921be7445ed9b391fb00ac4c17e",
      "bb5560da2a4a4e3d993ac55d6e352de1",
      "038ea74c44904d4abbf41934f8742f12",
      "fa458c59b7af47f4b0e737352d02b19a",
      "acb5514397f24aa29206ea433090d047",
      "58d74765f0e8436f916db6a418cfa6c6",
      "8610acfc4f1e4f8c947d470517cede3c",
      "0afbb6cf0fca4166911987c8f5009811",
      "3d614798c58d42fbb39a8f66cd8e703f",
      "682bcf5864454154823797ba94e51530",
      "0282e04c173949a28e9c5dde886b5f24",
      "b98c51cf4d2344e7ab4526b7b11a25d9",
      "08a5f23bbf5e4a7285b848533fdf02e4",
      "807d162534684f5b86fa3f1b85107848",
      "08ecdb77633a4e2daa5ee62e3ceaae5f",
      "f4a131b4bef34099940642ef23bbc943",
      "574930239be0414b8d8f5805154f17a5",
      "507c6e5969c9468081c739410159e084",
      "d1c62eda344a4ae990b1c4a1fb4b1931",
      "aabb0d8c713b4240824fafc01e562d02",
      "54f12bdf86be4da6a88fd21471f5a9bd",
      "4c45b280af5244e98bae20c933978938",
      "db01afc3bba84784ad31e3e8c8506afd",
      "a207f39957c14197a2e71b1fdc7d89f6",
      "7ace270274c8453bbebd0ef58215954d",
      "ba109a782c9b42f0824831150edc60c1",
      "ecb6d2d6cdaf4d7a9d206c7bd20576d2",
      "face940d6c824ca8a6e9664e2ced57d7",
      "13d290e291d141a28a7bea5b946ca8ab",
      "47b585c78f294eb082fd7f069d084cd5",
      "2837ffaaacee4d93885e6e5e4ac4a5f8",
      "b3a1973537084f90a9707a221743e56a",
      "96e51b774a294d7e87d2d7d14bbb9179",
      "4b2e56dbfb7a4ed5b2412b168e4a86c0",
      "a3298f1416af4406abc83cc99b7458a6",
      "7187f02e598f4a07a9c6bcb4fa0c77ed",
      "8920e4767f9e4b10879bfc11ec55732c",
      "3347558a405b4931a56a11018343cc81",
      "b2c68e43f34848eca61d5ce31f4f91d1",
      "abc419109031445cac1bff0e608b815d",
      "7440d111331e416c9f6c302e64a3f9a3",
      "f5223ef02cdc42bf8e3c2b317366a4c4",
      "908ae79a988a4f8ba034448a16789ad1",
      "0eb18fb746fd4e3f97200cae8391b722",
      "dd0a850c697c4ef7942d31681edf61a3",
      "f294ac021d5d4502bf06c56484870724",
      "ba73f2921afa4e8a87030156968db7ef",
      "4c66ac4b25e54bce96aa098753c5dbb8",
      "7d8aca3e6b2c4f97b3962e7fad6abd4b",
      "a561d51a1e234391b000b2ff04a78696",
      "f4db83d781964a819d36c07339befff1",
      "514d02f83fc64fc9809a86d7fe8765c3",
      "cac17cb3f33a41308169cbb4142b7892",
      "d16c924cd0144781ae9f77986422f3d3",
      "b00bdd34848f473ba408bac65774a47a",
      "82f81c733d224c97b2a7560d896c05f9",
      "743baedf85a04e549508f3e2c98267d6",
      "3d0a2a03e0ed43bb94bb4cc1f98c1018",
      "68a5f5aa1e1544ec8949a731a205effe",
      "6290f5104df54e7d80dce3cce4acfe86",
      "599bd0a79def47b18d4ad1831b72011a",
      "2715c0bbb84a469c990c2f8616236bb1",
      "ac1aa0d8780c4d60a986553a52f92dab",
      "9398449b27814b148725e857d2d152cb",
      "4bd76bbd58ea4e20839a661a6928a768",
      "d9b6d4ea926f4464a816bc71e04480d8",
      "c1744b9ac43a40cf83451a542e0cb039",
      "8a87736fb31e4120be12e184b98dcc89",
      "c6f32389d7194c08a648334b024b8644",
      "5378b8e05ef14f3da5ba44b56e6296af",
      "dbf9e0e7503c4c6484990420ce3fec6b",
      "776639e0cc47464db19c1df413385595",
      "244401595aea482da222bd191343485f",
      "f59f0e5c64ba4702b9d231a112f1f327",
      "74bf33c64f504c78a1c5cd5aba17ba60",
      "ccd9d360c8104ef191bb43662a7752d2",
      "5311e4b92d0647dfa76262753ae01208",
      "4b808919a85b421b8bff3131e2325ea5",
      "19f4f47da23244ec95ed1d84717d2985",
      "49c2cac29b694562abafcb79bcc5de0f",
      "6f5b41b35cd443cd9b3e0712525d0c0a",
      "5cafae934b784304894c6343496a9ac7",
      "4ad4757ec10c4de5aace400d8a43986d",
      "0a66e9fea55f4427979a02a8a1f78c42",
      "021884bd74df453293a89bfb3fa8fe5b",
      "8df245eaa14d4f0490adae01b99cc9ed",
      "a0ffa27bde3344bcb68629d621fbc736",
      "4962811cfcc04327b2cbbcf749550317",
      "be252c08e3c94584b36217cb66d82da6",
      "c1678fdbc2c345fc924079e95ef65742",
      "5b07f72cc6e74036859cd3ddb075e1dd",
      "74299315dcfa4a17b9b48b3de72bb96b",
      "e7b4009a01bc471bb88fca41e8b94b9d",
      "40ae7b3a4110461eb83b1f42bffd8ce5",
      "33cfa675624d4605aa02a56cefb8ecae",
      "a0b7e54b5c024cd181e7728f25d51ee7",
      "e7f911f1e8ea4a28bf796fdb941e8b54",
      "68012762ee5447a4b52eefbc398f0456",
      "d8db1c1ee16f4d3898621424b851d0f7",
      "4b544e482b8246bd8c51881ee63e7e84",
      "3f853dead8aa47e9ab57f0461ef6ea71",
      "6295950ea31949d0b6b3ccc4cf1c3037",
      "3e1c4d7f496346ef9d5b03c8bd5bad13",
      "6bdb2a2f7fa34f94a387804b395a38cd",
      "5b2d5981e17747db85bdb8cdf299acde",
      "ee3ec9597e4045fdbddc2b7277c5ce21",
      "b4df95b3f9844e4086e41034ed98bf64",
      "af15a64ad1d5436097cfe0ea1af1d805",
      "5df6d7a896384ae5b4480abada395c21",
      "bdde60dbe6db455880d35eec867c5c6e",
      "bc8e80e7cfa345eab039b712b152a388",
      "05d37aaf55d9440d9eaf71a7488a4b27",
      "9ed34f8a770c4803940682fd7809f6f8",
      "42195b716ecd464fb26a9a957ca91134",
      "05663331f4b446ddbc6ec5fd56278fc6",
      "ef3c8dc928e74be88921aa5bf9845478",
      "964098c8c02f4e9daf509994fbf501bc",
      "85da8f31daee4927af7181b86f985870",
      "86192b637d0844389129e3fe04aede2f",
      "522df4ff796f4e02818156770e62ccf8",
      "1f52be53b36d4ba187f5935f90162c0a",
      "158f4801b8454f9ebfdca744673391d0",
      "6965043be2bc4a9894bfafd875482318",
      "ccaf82f3936048b786af689a540ddc5e",
      "401c2bfbe72241dc8eed19aff2f47a34",
      "8af24be26da84d348a12c2efe2f8b133",
      "f0cf55a8dc414cee860d80c0df785f3c",
      "43b06ffdf55d41b7a13f7aeec576bfc7",
      "ea7cb60d788a411fbda3037e03310e84",
      "d3cb66282a4f445eadf3b3f827fd873e",
      "be5f441d0616498a83ebedf91a30ede7",
      "9223bca2a34343a985acb009b1e400ee",
      "e191578142114cf09cc675a956f7f619",
      "6925d05bf3bf46c292952dddd4a338cc",
      "6ddc84e800ab4ef99ceeab9b6c82091e",
      "b46d43e09fb44d9a9139e0b6412008f5",
      "5a1afc13790643928aaebe2f7947ceeb",
      "b02403a7017d43b398c0d713ebeb7c49",
      "4461bf6e14ab484cb5da43da405f296b",
      "025db3ec7f74409881f30092183545f1",
      "b293b433bf0e40a981612b4feee76c0e",
      "a3050307906b4fbda756105d3e6bdb98",
      "e06d9ebb0f2945cfa4449faede2a50f6",
      "3f43fec32cbf4b14a3ff32f51490d612",
      "a3729928025540cb840ffc8dd2aed89b",
      "cc3e7311b8d14fdf9224889642d97acb",
      "69ac564940cf4fea938effcd1c47bf5f",
      "6a7d2849bb584de78c0b0290f86b2484",
      "3a64210f999244688cb1e66ad9ba328b",
      "d7ad51cd45f84311aabd09ebef254978",
      "ac11a848367a4863b2db1cb840f0f3d8",
      "ba20c941f28246f9b0d28b5f46cba0bb",
      "b003df4b5fc24ae8ae5dc351573afc85",
      "02dc1b66abf1417884daa1caff6c6b66",
      "d3d103cbc6694f2dab0eb5e8bcae5d8b",
      "e12fab9c747d4352b2501247505755a6",
      "30732e12f7664d0b9eba43b514379257",
      "1271af74a072444c9a825dba2580d77f",
      "eb500fc12f054d71ae2d59c10aca0232",
      "a23e1966e49e47cc9195d05e3a9a6092",
      "e66c31aed9274fcd962b25ae35218d7c",
      "af76d6fb60844a9b8f27c8cf5533eb6a",
      "e56819737af64050acedc080923c6e70",
      "724cfe3a05894faf9ff66da6d58fffa1",
      "89ba9761fe154ca3a91c1be97b2a2fbc",
      "a60f786522b948d49f6e62616c57a4d6",
      "d30e0fd5cc334bb494f8cf7a310f6d69",
      "dc7909360caa4c0d9212c4f752a6936a",
      "a9bda6cdbf5c49ffae7748eda761ede0",
      "8789f46628f34435bcf85f7076ab1775",
      "c80788ab4fe1451ca1e95670bafc312a",
      "073df3f34c8f4931add09dc73eff3ff6",
      "fe269092bc194581a7d4974d8bfe93f6",
      "fc3039de83274fc5b570bfdb0a246e8b",
      "eed158c79b83442cbd741c7c32c27487",
      "e18c5884e44b48ffb8e116a3cf8a94f2",
      "b9f1971044ea41669342cf7dd8555632",
      "6e62b4197ff74596be4330f664138059",
      "da2f2cdac79a43fa92f0028f13505302",
      "4a6934a551124b0aaf03999852b9b25e",
      "fe4d7526a8ad4817ae13eb7c14d977da",
      "d6a4acd668c84e688df9e1dcbd3111a5",
      "1a9abf85908c49be98ae158f43a91cb1",
      "83230f04f9a04758b0654e6bfefea1f0",
      "4729ed359fea4cbeba5381aca0be9e9b",
      "256f65b3b728446abf28a2e44302e100",
      "d966fb7c362e409785136a3d415dff2c",
      "1b596d0131e543808dd5a8595bd4f844",
      "95897ac18f4041ccae63ac706cd4d746",
      "e47fb834742040c58342850dadc70b37",
      "17c8d54972ab4fca9120f8a0fd302827",
      "8ec8963280044b99877e84e3fc29d936",
      "841eac5d20324409b05fc8bc66213ce3",
      "5f25e7caf597477c8dc6cb9b33ecf552",
      "23c4bb4fe7834be19d4880bb29c44c3a",
      "4fd7c385b79e45638fb45f6566ad905f",
      "03359eea2587488d8570ad15842ad648",
      "95d31ffc8a624f37b2150af3fecded21",
      "ade7b251e2694f18a5c9dc121ea229fe",
      "f92a269d00d447bb9299529e66cdb20c",
      "e362db93af4c4a4cb036ce5deca42456",
      "5cda1549115e483c936f2eb6d10a8f9b",
      "547246dce3ee4235a17fc7a29ec8af14",
      "453c0ed6f87c41deb772c90f1f1b76f5",
      "3fc0ea2cf1e243f6a566f8c392f23b88",
      "36b9ba7affce48278549074408e8b24a",
      "40edb357c858473a97c309664bd282ac",
      "1affc622d69c490e9a0da8b4b3e889e2",
      "a4e6fd12a7004791ab6b5d72a7bcc9bd",
      "795beffb525b4b9cbdb57b83ace4d41b",
      "5d1f84d22e2b48bdb2e68af1f75c0b0b",
      "8d5d9d7a53f44d9682a104e40e7be671",
      "831b8b2596cc4c398f18067e9a25205a",
      "683bad238e1e49a2a322ad7ba629f558",
      "7288ed6777364885b7104d5a79eb1967",
      "0370c1b3f0314a469f6ebf8922e70636",
      "e87b584521574a62ad32a54dd32668f4",
      "d653cac4b9a34677b665daa2293084a5",
      "112993f0f71448de851d15a7d9b5d2e7",
      "28de46577b024dfbb6d3a403acf75aee",
      "9637b4e58d7e4dccbe292422d1b2cdf0",
      "7f7e2a8c3ddf4db88b4f52ce8462d53f",
      "89620e78c3d44e1896c2d8e73a846fe3",
      "cd49c889f44840f3be2391cd96e35bd9",
      "352dde5a718c4ec8a77d7cfecd28d81d",
      "26e5870d19c34ebab9c75db86903d1c2",
      "019f6eb1086940f4b20e76f3af8f47b5",
      "40cc6efd041c4c06a1b5dfec973763eb",
      "8e7fe81cabf24c8593083ecd1dfadd0d",
      "ce36428e37654a09bfd51c367637e54f",
      "f42715846e4e449a8d97b2f1db239cb0",
      "6d5416806e66496594212e5bf1627356",
      "db8f2f826bdf4d57b989463e60a18ac2",
      "f1563bdb0a3947adb82dbcd1d1fa0661",
      "42381cb35e3b44f7ba0a9089d95ee7a2",
      "526c1fc07e854c13b088f8637438bd92",
      "1ef28b76c82d429ab477287040e18f9f",
      "28280bad158b448d91070a71cc0f92e0",
      "cf575633542d4656ab1b36b04f872c22",
      "8758717e3a714839a8ee70101cf14cf5",
      "ff7fc8e715c94adfbfca1fea997550a1",
      "82424d9b4f5142f88c48cf3ea10f0fbe",
      "5053ce70edbf4e0392512ea971e4788c",
      "06cc1f65af1a4395862ef901677e363c",
      "d0f62845d323456496e077ad731b53c6",
      "484a02382a79423588ec0f19e512eb25",
      "6cc2f2af477443888c23bca5f3bd7028",
      "673ed7ee23c84b9893b9d470b9808ee8",
      "cc4f82e7591f4b7fb5ffd57c24947b4b",
      "3de5edda2b824e27b72dcbaeca0d807f",
      "a69b3663c7ef4da78e59df13504155e4",
      "f8fe54359a0946d4819e0c5b29bd18a0",
      "4bf72d5985024535b50c88d4aa2c1a78",
      "d82fecf218174e3da878b16c2faef441",
      "18661dc20c014f8ca793f417d645810e",
      "21f4804065474c92b06e7e5531a0c32b",
      "df7a0b0f7964473dbf61518a9ad16572",
      "b131d8c5486346eabbdbadf5170a652b",
      "d11c98ccb97a4152bb28bcc05bc818ff",
      "744c2692e3fe477ca47d9fc23cc2c2a9",
      "08f7580601c7442b97b17d11ef5c0444",
      "06c061c52a124249833e6ff36b520779",
      "877167323c36477eb4dbe0111642e701",
      "06fea047af0746dd9ec894b033553abf",
      "dfa0a8fb8bda42b588a191a220910ae7",
      "07bc3b9b76154226922e6902e305d4e9",
      "5869a9a7e0cb4d09adb82ffd05805515",
      "68d6da9cec1d4292887636e8eb03662a",
      "3a3199ea07d24b6db2f49c33b534eea5",
      "a8ff577c64114e7c8cf99e84bd566583",
      "651eb647b13b42e799d2170912006d61",
      "bc010e42014c4cdfa838591e2f540dea",
      "64b273ae01984631956db7788c55dea4",
      "ba4cf952a76045a2a2b8b2f6ebcfd073",
      "f8de58b792c148f998d1cb90fc807118",
      "906221df79db4da992b177ee28ea1923",
      "4f74210aa499446a83d9aeb6eb6adaa0",
      "05112d375e4f41789652019addcf83c5",
      "724808b4b5b1450d82f5138321a46f60",
      "835df2aff25149669b70e058fde812ef",
      "d47fdf0d57d54251836f0b1a80d78553",
      "b040361277614229b26616bfdffae153",
      "64cb28d4dae24600a52b379f887c8684",
      "47df8b81be61480c816458c119622db8",
      "9aa79bf561604c0cb30d9789ac79213e",
      "6eda745ce456456e97f5e030b0d77da9",
      "62333191c8864a7db25b4ef1785c9895",
      "5b1b8553481341eabc726133eb2bb46e",
      "5b4bad9d88a34bc28a477c4ae82b39db",
      "cc2c743c5ba84e65a5e6a1ad8432b25e",
      "09dfcdd4f87345288c4839718fa4dbb7",
      "77c9e41994fe4da597173dc85e38ad02",
      "22bc714d71554da68b138fab95ea90d8",
      "e1d843a342394fe3a6b5583b296b4177",
      "f0c8dc56549049b1bb3498ace3d328da",
      "680d620bdcbd4cf6bfa99888ca2b1d2b",
      "14f652a5eca24f99ac88fc6fdd6149ef",
      "b2fa8f28f6b746b3b65377ae80ceaf6d",
      "ac00fd079e6048cabc4e9aa5c55f80ce",
      "ebb48f04324e4f2fb26b914c3896507f",
      "40728a521a5a4890bf89e08aaf7fd566",
      "8b8cd32a1262471493c5c4fc1f569622",
      "4f535f2ac8884fbc9885045ae937dac4",
      "33e2273c612d443c898f10ce35b4a540",
      "606ab402b71340949b66a47a7699a50a",
      "7c3e39e575b34e7c8a82d3ba2861364d",
      "919f0036fe8e42b58178def97c8384e2",
      "4a923ab086374118aabe64ccb535ef57",
      "5abda9b32a0b4d10a8618f26ee9d0830",
      "9d2915eab8114f0fb7d929a8e7489aaa",
      "cc4058de307545e5a46921bbed24750d",
      "a64a7b986c4049fa9800b5e21dffac89",
      "1b3b83a9e6ca4d719e560af2e61caeff",
      "d5a2c65f6e1a4b05a9326c3fca06c832",
      "a1d1471cc0124c258f614dded4ce7e67",
      "a94a1d04c1c9425f84a563f64ca97f00",
      "fa593b5c0df44da5a1bfc8fe55a6ae4a",
      "ba98096172af44b289194fe74db0d87e",
      "897c79c785044afe91c0e79831513f9a",
      "12f99425990c4f348fff85b2e913e1c9",
      "b84158c74759424096204c72c8c4796f",
      "99f21bddea6741b8b5c8a2e69606856b",
      "e355fd8391a04d22a0d50b1ae0c201bc",
      "248cba20ccb646db99806af14d9f4278",
      "403b345e560a47c2966e19c5822bbeca",
      "48068d16dd5e4eac899e596d839c6bfc",
      "4efe07a37192493eaf8479ce10980d06",
      "0890e5df2abe4f4e8c09211e96054aa6",
      "7febc6c66d9f4ffe8477b67c269809e4",
      "e22f13046e144ec49383d63056290d68",
      "b746577737b840b992c0e8ef03584f51",
      "a8f52f189cf4485d9a2394476d598342",
      "cc200bcf6fe942ada5650010661b9843",
      "d2e235d6d0e0492eaffdb55d84999f24",
      "34a8f762663249e0ac3dcfaf50bfb5d2",
      "342e4592b212419f89f3a053bb16d0b7",
      "dff2bbcaa5a747e886d392309bd67895",
      "5a3072f315444ba4af291e737f1ec801",
      "09f0b4206ce94815afc14e77d86ea539",
      "d482f7fcf78e4fdea8381ccacc5f89f8",
      "118727caf6fc4703a8defba5b6b7f22b",
      "d019a713ce31434ebb37872ed7846d02",
      "b8259c4e2ca24fc7bacaa0e44dc8bced",
      "f2de5028b9314adaa99780694cf38c50",
      "ab20e1f89bc04e15be9f34c4dc396c81",
      "6867851481654f669fc1e319b2392958",
      "e08e8b3288534387bd3fd51771fa2ff4",
      "c72bc680dab14acfa8baffe132f96a86",
      "587b8de3a8b34a468e0b2bf09dd69285",
      "396bdf527d5d41a6a90ecd4477e748b7",
      "abfa5907d0034889bcd8f677e283966c",
      "9badedf5034948859efa581e958c2901",
      "710ab54121c04bb48c856e1f69eaec85",
      "6cf6d8049e334e3daff6d66edf896d78",
      "68321fd8c67a40f1af47a990f7b100e9",
      "fa0e8e48ac294019a53061107ab05355",
      "e8b6da6f16c34784bae4430d60a093bf",
      "32f53815791c45f0baca99fdec539fd3",
      "02b486a0b8814c33b245fd5758b27505",
      "ae498c85a81a4aeba904fe82e7fbf27d",
      "bc1a85537f9146fea5079ab83a41eafd",
      "4cb8a103af294ac99465a8e5a8f5b4a7",
      "3e04ddebd93f49039b79ec8a6dcd8f84",
      "83bd0ab8d8dc4d3caebceae3fcfe2976",
      "319d557d9efd46b18ff05ed45032f6ed",
      "1ffc609d69ff4fce9c517ed5a4f1acb6",
      "827a157a7c844db89ab974bb0eeb2df6",
      "0e5a06f55e5442d49dfa5c427ca05029",
      "c1fabe11a6f74153a5fc21b94c0d0b35",
      "3ea1f183c2e74d03a7f317bcb9504fc7",
      "fd133ecd70b34850ad71c7806d0d85ee",
      "403ff93e57114c7b9b42d2eb617b4abf",
      "8ac1378497124f0faa64e4434ec77022",
      "df627eda71ba4185bb77a38b56b3b100",
      "415c9b6ffa6d40328bd35a1385dd2ec4",
      "58d5b9037326475981cf4dd22dd438e7",
      "1633dad73bdd421c8897624684a36111",
      "51eb438a88f84698b20ae36c5ad541b9",
      "960fad6518fb4394bc259422ff06299b",
      "e6256ed0b910458eb68e491efab21615",
      "98a57144ee074b7cbbdd5926442da1ee",
      "171b088d01ec48fea6df5c6a8b9bcf98",
      "2472ae6dd3dc4ab3a2b1970bd67e7975",
      "f9021d35c6f340ceaba564553229e24d",
      "b27c6096230a4d20b680a9d9d01c29c0",
      "2e7167d2526143c2a8ee094adffa83ce",
      "8088d02a51324a588edc5526c898eea4",
      "8eece25f08a44e39867c299c3ded0a46",
      "09778a199b844c80b38e608495902f97",
      "667a2d8538664832af5333e06777d860",
      "64cc5e1a3e5944859290ed79fb22a5f7",
      "8ad77f1cb0cf4d36b0550ea5e947800a",
      "4ed9246d7e234787b09703125eb0864b",
      "fe9eface5f914765aee04a4415bfff48",
      "a1bc0830ebdf439c893464f98fc5437c",
      "e059657ea27f48f2a81c4ca76ebe4d66",
      "0911dbd857b94ed6909af76db72c0118",
      "f5e0a4c50a8c4b9cb8fff3d6221fa2e1",
      "40f3aeb655944efb8b8f203ee8b87cd7",
      "46a1d138c95e496a943d22d1f22e3258",
      "292de1afa5394f0b88d16be596dc9b2f",
      "ce9686c0f5bf40c8ad71178b707c14e5",
      "a4f15a819c924a65a9b68eddde2f00aa",
      "72eefc13980843ab9182561ee2d243fc",
      "04d2016b75a24f0797baf61f938ec5bb",
      "aa12eae79a1d4c4eb56a3921a48c49f7",
      "0afd5761baf1468280b847ce05e9edc3",
      "367efeb96932415db3981ff61fe7009c",
      "8bfaa35d0c0244cf8ffd0f21e4c3bdb3",
      "5eadbebb384f47cbbbe18c50a048de75",
      "bea902924e8042fb8bd0ebbfef094c7c",
      "400e678c7a294c979f70f769974e8b81",
      "d6f92bffc66d4f72998acb67b0a29869",
      "1cc78027986b4d0697acedb76eea68f3",
      "8c1fd41a5b3f4db09cb3d190373e4f00",
      "f88206df2d1047a198c3e15e174ea172",
      "f6e36404baab4be4a3dd3065a2087bf5",
      "d1799ea0f4e949a19199ac7da6a16be2",
      "872f050f04924356a4baa6a089e7ec87",
      "2a2cc59c361544c5b2e16d72c430431d",
      "f1aa34fc55364e21b069c1be7d6a21d6",
      "18c960b6666c465fa5c0ba47b4425f7b",
      "b9e601606d8b40ee9909f195c538dcd8",
      "5889ee25887444d0abe52fa2255dfbe1",
      "f5119593e1254ac3871b47cae9db8402",
      "57c80c99b2a7421d92c035a5fa7f0cef",
      "d5449530155f463783a64a3a3c36bda2",
      "ef54a80db3e54b7192353e1573e82474",
      "cb226c2fddba43e08409d7ff93da765b",
      "fe93a59af96247149f25bb25c12a2679",
      "3aff8534f8e348a4b0e1dda3a7357790",
      "4746f9e53a494bdd9fcfcdb8148c2ac6",
      "44f9c4b537b6499fb6806060b2a77d66",
      "320959a42a9e471ea906bbcb353c69b9",
      "dab65676cb7e4b14930f0de05da9ae9d",
      "f031d14e49fd44628cbd50888616d679",
      "53aa6056c34346f09d780b3fbff986fc",
      "c9c7b42f257e4ed094f2447b317071ca",
      "a7536a7f081f4da1b26fa9655f8cfeb0",
      "d40af831779942a8b544e12c238407c4",
      "46f4973f35f54608a04affb7bc22de09",
      "519710e215bd42a2b1e5aaf01cf51fc3",
      "c644e211ea9b4f99b6d9b87ccd4c291a",
      "707850714b17429fabd71958e3606c07",
      "fea5b0b42f8a49c5b034a149571f48c7",
      "c4a515f90cd3447a86a37dfab413e8fd",
      "5cdb5d195d5f46888e8b162e142012db",
      "4553556c7b0f4812b3f7d961b60a8b65",
      "f99eb10a0ecc47459824db6f16d63ab7",
      "d99e6d4f974241c3907b6155f270c910",
      "b59e77787802451fbc75a43e950a1a5d",
      "00f04a611c5f4e21b0c14d0aca0ee7cf",
      "17cec3313104438ca7393e887902e359",
      "3cc5a73273f64fecb6cc6f2029b558a7",
      "4ccc8e77784d40d08e5fb98e8136cbb3",
      "cd1a826919fe4a28b2897e9eb8db9dbe",
      "6fa69473435b4a72a4347a39d0d65516",
      "8c990c80a3024ddba2b3eabdc5a93e4c",
      "fa2345c80e8f434a8fda9514e4a9852b",
      "dc34026a75f34cb8a7c8c6f9b0991c04",
      "ed2b1cef87684f2fafc7fcc6fc94b140",
      "fa0033db6767491f9d9d482cf067f662",
      "1e15f9f19a43418290f3b5d09f74fb9e",
      "4b99ec989d664d9ca31696a5ba90d7e7",
      "2f2d4d22a89d477db126e3401a630f24",
      "10a2c889b7a844888561d863a957395c",
      "95df978eb5594a2db878e60539105c9a",
      "df1790a4598d4e1da460ae4be274fa05",
      "6ecb83cb5d9b4095aa60ee72523bb680",
      "0251a5ac4cf849baa46b311f30ddb42c",
      "401e3653bbf44318b28cfbbaaced2a3d",
      "9684c65fbd114102a6f41af158445731",
      "e5148e5670f840cdb746049a6c21b7e9",
      "43791108ce054195a0d8f5f8cabbda5c",
      "56f944ef71e142db91a6315034c480ef",
      "152b924e0f1141d797c2907612fa8287",
      "5a71089f99ab4fdf8264506cd9adeb63",
      "f8b176faf22b44a9a55ec1a646542aec",
      "8e2309b7dbe248728f7cbbac4f1e0a60",
      "3f33a3d626a84a609c946adc8b1df1ea",
      "c7736d115804473983ebbb7e59b72246",
      "c5b27b56b0b54b1483b0b43cd72aeb64",
      "ae00d9e8ec17444f8ee6a7cbf32ea76f",
      "8bb489b3db6f4b7e8172cd762686f8cb",
      "b84a2c1187e94f0383e56ae858f6ce70",
      "e3ae918e90274b2fb3f7c53761839f83",
      "eee08d529519472cbd6443092dde6f9e",
      "dc32963f31d4447f8d629ab33eba8cca",
      "ff2e5b532fae402aa64d892e1bc5fe4b",
      "7564e2705b4541c1b9e1db4a3262eb6d",
      "27058032f6324d228bed12a65293ab49",
      "9a0a497e062f4eaf8f888f54180b5d0e",
      "0abf7bad616f4a919bb65eba6c1d020b",
      "e579cc1ae7224c1fb6432bc951ae20bd",
      "bcd377b9e98444c79f3806e48c50d99d",
      "295bb9fa881d4e1dbf9afc268e05f11a",
      "5317d0bb2db940b78fe456f7bb462c80",
      "d17bb3f0e26a4d53a40eb151b12209ca",
      "42e7008833ff40a69a6f6a19a87c3d90",
      "14e34628b972456591062ef1f87b5892",
      "95dfb1018d784feb895744c7f6511344",
      "80d1bea2a40f41f288c834f5bb6ad025",
      "b779cb78349f4f98897a09d749cf7cdf",
      "988ec6b5c0c34bac993c006e3755d0fd",
      "236a85c4489744aca0aaf5ae7419b5b1",
      "260d499e5c874c92a1346223eddddf42",
      "e2aa0edb505f4bae96f3517b010bc38f",
      "709de963e7e84af791bc6d553d2c5141",
      "7bcb663d8f4141e0aead4901209c9b4a",
      "f2d975ee9b9b4781bc0ae44fac89577c",
      "cf5c76a4ad8c4452aaac0ba7c7f86f30",
      "6f0a8013a57d42499a35d78c9b2fbf8a",
      "d5ad6200abca4fa5a58414961793c7e1",
      "e21bc00d0dc844219e259b95ff865b22",
      "c6d6c544a0ac48e9bce0376b37c89c99",
      "dfae2f74ba1f4618bab1591d194ef244",
      "c5b97070252c48bc9b8d4fc47d1f5594",
      "518a7f71ad5e4b808d54f32fc6eaf965",
      "be182c34ce1d41cd95f7f823f163c303",
      "1fcced3b190a43b4a83230bdf0af2b58",
      "6cf325f29b2544809a41b5e04cfeb922",
      "99d182ee1a6d4cab88ec6c0eaa0df158",
      "a83570e13e1e477bb7f882eff800d9c5",
      "6d2c488572284002aa80f8f62b0eae2b",
      "555fc745092a477da62174c1260cc941",
      "6d43a05b889d43acb1f7e2a3f5f196b1",
      "5696498848884311a895dbacfc91608a",
      "866ef346a8ed407987dc604f3f024e9d",
      "bc78a8aa135a49c8a9f8d1a13378ae46",
      "406f825e8a244ac4bf782d70b70b611f",
      "a781a06576934b21a28aa2953e5e4245",
      "8e6e67c5d28b41419f3d132cb7acb4a3",
      "cd42e64502fa4aaf97c68c6d55ddfd74",
      "467368783cb04517ad7d2b385147bd86",
      "e0a6ed9e5caf4a16bfea5930958b85f0",
      "e70f1139e5cb450a91eab9f7f1a4fd65",
      "afcd4ec0bb5d4be8ae6847372d03a52e",
      "726c0f08090b4d0ebe23c415314edd9c",
      "1a3a71a1e6784b4f8bb7d223b24695dd",
      "d3702e5bccc04c00a8b7f973e779b1bb",
      "a48aaab10d6c4abe9dc48013a0387b1d",
      "13706506ee5a497c92dd2a932b328e7c",
      "8274c9b9a5f64659a38d63550a8f8557",
      "e6a9dadfda7d42c1bd03046fdc9b617f",
      "06f9d3ecf8774204b3b013f37727d332",
      "7b220921645b4223af4b30e1609d409a",
      "1780bd8219084194a82332b2612dfd43",
      "e54f2c68584849059080cef094c82e8d",
      "2724a69ba0df49b7a38052826ae38586",
      "1f0b89d5b1cc403e99df38dab7d87a49",
      "c985f99cbfbf4d65b578b642d4153715",
      "f33e00ead17e4402bc849ecf8c7c353e",
      "14e84d7d3dee4a3a8b68eecd8dc51766",
      "8a892ffec8e444a2b132dc433f3f8815",
      "f61667ba906641188cf6b6af4be254a1",
      "74129a516443434a9eb8f7743925604c",
      "dd70ecde9e544d3f9b09b87c566e1025",
      "a1388d2f721a4e179ef78c3a8045060f",
      "42c89bb097f04d52b92529d993826459",
      "6f539771b7bd467989bc6846e60c439a",
      "ea4bb3a723db49d3a9db86bcc96c6192",
      "38b67fb82ae84d46b99991ba18385788",
      "928bf95fb7fc4c59b4d60542fe318891",
      "80f68f8aa1144419bc1982443e04f6ae",
      "df9bca800a484586b803855266a95615",
      "17fb392a81154628926aa9db474813f9",
      "ede340d95eae42b4bbecce514ec88966",
      "6084e79196db46eda44c2ae3424cf55a",
      "993ea044efc54d84b835e01f1bb1a4aa",
      "2985aeaac5474d9799758f5120e9e26f",
      "c6c908debaa04e28816987bda2650d66",
      "2eef17e421634fb28c9e7a3740f8d6cf",
      "b25f16c5378f4dabb3659c688b79dd10",
      "dfc43637e5a04fc5a4dd87c0a1b0beae",
      "7051743d7a7b47b78171e693034bf925",
      "5cdc0a4d900542b1ac3c63260baa1b59",
      "5337fbe24dcc457b8cf0d830dd8bdb75",
      "3fc6ce3776fc4cc2a21808ec9a4850f8",
      "237308b1db2c4a77874ac8666d3d7ce4",
      "67f670a8ff14480380035549ebf3b700",
      "8b71c94e9abf458a8ee2ca35c3c3d98f",
      "2db3be0f109f4185a608802c2ebd02c8",
      "fcead5924d4a46e788172438e9a84ae3",
      "58254a402b9d408689f906eceef6c025",
      "c0686da5903948d3a7cd03fb959d10e7",
      "ae74fb359e064ecb9c703f0fa5d33f82",
      "730ab790a14942c3b852a4e96a45f2b6",
      "d3147a5cbdc343c2957b2c06d9a406c2",
      "9890862b782f4ed2b651745df9ee1f5d",
      "1a69808859084594ba7716264efea750",
      "5a8018caf82c4e77be42e43ea98ae48b",
      "7853b27789244f65827bba35e55faff5",
      "e48fa04d192548a3b60a72410b9f99c7",
      "21eb4aa1374c49b892f029ab06ab057d",
      "1ad51a591b664d63b4a39fd093b50b51",
      "b2bd3e93d3c044d98c630dcd0fb01ffa",
      "c7099d1f703e4700a7f784aa5c02a7ad",
      "d972506b7f0d45c7a5fede371edfb7f0",
      "c36663e4fea2432b9ca1eb4727748273",
      "3bbc8b49423c48e8892e80e15c2b9499",
      "b5a7e15e35614ea38fb417fdcfd907b3",
      "0287be295eec42d4807279f7e8a261db",
      "6608fd7010d94f0ea746a4f478f617aa",
      "04670737df66479cb1cf773ce65eac13",
      "08bb264b0f04490b96cd0d2943653f3b",
      "318770ea54f1403dae8a300c584741ab",
      "a013f1527e3e4343aa46dfb8ae9f498a",
      "119df54e1d5b4ecb8129f6e11f22bcbd",
      "af472e74d0c34449ac7722df47887723",
      "a9cea8db26e4441288bed4c6bfa8ad17",
      "c83e0333687d4c50a8682ec84281b598",
      "72e7b653688b436f96493340524024db",
      "c00617ba95d347a6b02e3d73748b4528",
      "e458c643ff724983abca083f5b6c37ab",
      "33929d23fc5c4625920aa3a0f74e4c6b",
      "cf33eebc415d466085ac433f8db164c3",
      "4bce5a000a2946e8b665547107bae8bf",
      "7747e4d493bc4ef18c09796f62e05e8d",
      "a0673dff39144c03a21cb0ec7766b637",
      "089e916329a74977be5fefd5d7cd7ba7",
      "91cf277db83a4016b1c3d6c8f86fb411",
      "31a8450be3c145f0b9d145f9d8b03473",
      "d9a36ce08e744e29909b36b92188b791",
      "b7dbc87860c34ec4b08f93041a474e6e",
      "a953ebf5b4494439816341eb5be4f47f",
      "c735d41ce538405ba6ea64049454be38",
      "88f08d5d852d44ab9ec606c784658ecd",
      "be0f8caf76804e74a4054aea9b73646d",
      "b3b4ffbae13b4c0385fb8b4d36407ac8",
      "4f18e0a645584abe99d6e207075e7bf7",
      "1ec0b4840d8f4893a02a46dc00221a3e",
      "062d354a32f2470ebdf3ff802dfe7072",
      "9c394ea2332440b390df945936e3fda9",
      "a75b281481b5408aa6fe7d79b53ec9a2",
      "4df558045d8c4b69bd2a947f39db1c9b",
      "3083ca2bf42943bb87a7f2c3e401d71b",
      "375e0ebc0b5f4d14a04e6d94c355a8b7",
      "aec7f9fbf2a74f22880a1b7376eeac40",
      "0aa69257a5434cc2a890d36a1d72af41",
      "b5b36de7a25e41af9bae15766a0c7aa0",
      "72ba1f7e1137473cad3dddda28d74547",
      "57310927646a4e23bbbb6024e041efdb",
      "a02e490057894bf8bb43b0f36d3cb5af",
      "ec7c18646a744754bcdfdcef189d196d",
      "b21b16d1907e4bd2a50dc2a326b9fbf4",
      "53c68dd6f0674aaca0d2003f36f2005e",
      "a7fcdd1f561b494b9083d17afbd19468",
      "a76736b568e3470e9672e075ff2c4a69",
      "30f5dee53e344443b503cd859c7ede7d",
      "2519ab5039e14cf295417a7acdb507d6",
      "b7da9f547bd34541a25ceb0d582c4207",
      "76a2f3b713a84fc296ea2e81520f1a9b",
      "ab29da10cecd4f319b8b89ee2f43548c",
      "4e38e60474604d8bb505c107ced9d7ee",
      "5c0dbb2abf034c6c9d9439941b29e967",
      "09d897341eef4e9e99d25e46aec7288c",
      "f88a7c8e0a5a4209aab4fc3f3af494a5",
      "0cf093ac3bc84433a1a16386b225669e",
      "70b4ffb0d2b24105bb37058823c5537b",
      "0b279f4723da44b0a2559cd043a79872",
      "297b1fdb8dd14b8483a2b1a7045fb557",
      "b03ed0ac13214681a24e65d4c4e791b4",
      "7cdf6641ebc14e738bd93a14a305b140",
      "4f5a0c0f1baa499d873936aec75b60df",
      "22177de4a0d14bac8d48261ec35e62d5",
      "9087c4a5206e46c8ab2d428913e84228",
      "0c6824e21078468bac8c3945bd694500",
      "524d28177c6942cea473cd207621feda",
      "07448bf825a94901aa201e084335e98f",
      "283239cdd7c149ca9ef13050ad16ac77",
      "bf5f4123903f457d8d82fa449496373e",
      "ff6b019f3afc43c6a1e50e48b1b3080b",
      "af4db0f1bee847afbb6134ff1b6b647d",
      "d92faa646201449498f7b105ee96f8e2",
      "1792ecbd435d4ba2b1581178c566d335",
      "d925b58044c04d7ea85c0d016dcd686d",
      "7aa2a644558f44d2a101dbd0bb12852a",
      "d2fc9c1b63b549efbf06331b606fa3e7",
      "1bd6aee976e046d099202c4fb6e0f3eb",
      "e887aa5d3ef9438d8be07f57b63e9063",
      "5d9a8c5562f542559450cccf82fb286e",
      "8e589ce7e62942bead138c2615ab56bf",
      "d9371668698f4a13ae11cc4cf84caff3",
      "dff1f988efb04ddba4b6f8f21240acf3",
      "3167e2a19c554a5c82d08920d8b9d726",
      "0fe464ad7f734349bcf4a362c9a59eca",
      "fd4d8963061c4815bad670ffd7ce7069",
      "d0890d78da0b41e7b11523376bd642e4",
      "787e0b2ee8654383b39113d3339a3210",
      "d94a359060ed4c7480fc0c7e2b3ccbe1",
      "666570ea3c0d4bcf879c65d8ef7e2111",
      "80432ec3ca254adba4948282b3ca0e8d",
      "d47ac9fb480a4d2c828139a78ed05609",
      "124ee7cdbefe4144a186813d798bf397",
      "13904584373d447ea42324fe165453b9",
      "c30a41c9dd5c467baa90583b3ee6ec99",
      "26f502d680094c02b39749f58e1347ad",
      "73963bb29e7e42fcbb5555640f8d02a2",
      "008e18ed51e145b987f69eb9fe08e241",
      "6f9e13f149454877986c1405c661fdfa",
      "64385f1d22424c05a90a8c8ba5ac2b99",
      "379b6e3ffd1c4d0fa4093f52ba6e4c0a",
      "7bb142110de44848b6dbb8cf1739d1b1",
      "2dea23f3f5b249e1a835a4f0387d7fff",
      "8fb988a92c4143a082ebee9fe063a647",
      "ae284e747c7d466981cfa4b62c0096f7",
      "d3739e2108204a56889c52032f5b0f27",
      "e8b2e1770cb047fe8c0dfbf51cbc5cb0",
      "d14a6b6e2df64e7791cb6efdef293f3f",
      "b357fe2aad9d469ebe2815e2bd847729",
      "06df24a3d0814cd2a08f80e3f9eebba7",
      "5d345067ac78459e9c085df57d69b1f4",
      "7f50e4ea1f8e4d6fb5dd230fd5c2f63d",
      "66ee176805cb40969d935930127d4099",
      "ae9858d79a734d0a9407d28269958cd4",
      "3b012e52a1bc462fbbfc67f4185d82e8",
      "005e5dbed5c44b9da39298f9b9714ad8",
      "681cdae40279402d99ed8a23c74da5ee",
      "19e0776d4ae6420b8645052a62af6c50",
      "dfd5b8b96c324ce2a5bea0a42eb794d0",
      "6083288514454b7cbaf1f91dc7e2c5a6",
      "af01a078f90146b7b210c5c938ef226a",
      "7f2dca35fc044410bec841baf66e8883",
      "1389a81ded0446a98be03d8105373140",
      "1c6008bb63b64980a667126117aa2872",
      "371157b7b19f446f81e0519a374efd25",
      "c4a2076a53fe42b39b662aec0c203160",
      "13dae3fc77fd491797a5ca67bed93516",
      "2e0df91bcc57422f9c22c7befe33a65e",
      "156c666669be423ea985fa1e524f62d6",
      "c6a03af5ae854a90910ff0355957a24f",
      "23c24fc6e49c4d50a569dc40f16b8929",
      "9aea972a9d9241a6834c9923fdb011d3",
      "f26b7f66cf2a4a3b92abace3acc41350",
      "7b618b37aeb34e289b04204206cf6004",
      "482fdd11577e4268b4e8e207d4932c13",
      "49670b49692f4b65be6b9a377b59742c",
      "8470f022cde34f4e817ff85191ff16be",
      "90581f66a23940d3b0494d0d6e13c804",
      "29753d9a99484a99bf2b9ef1c054c140",
      "a3249cf9e88a4a38b02db8bee515931f",
      "6fab279072964335a6622bcfcf236e9d",
      "3771367d93e546b29efe6f11aae421bc",
      "571919e413284863b8d90eb882b8b415",
      "08d172ffcc4b4cbf9c2f276ca844a140",
      "8377bc77439f4134aac1cd811c48af00",
      "ec57924b7e3745e798741a2952f24b77",
      "58c0c3cde39949a9b316cba02c5befec",
      "b2608651393d45fe9d9b5d8ef45fc8a6",
      "3b2f0963a4f54524a4c9a33363266aa9",
      "0597f0b963b9457a9efe74c98199b996",
      "5a309910affe45f4954a3d14982eabd4",
      "0934d3377d4f4936b7a420ac0ed1986b",
      "1b3cb56a0cfa40a5a26edd31b5e3ae8c",
      "ad290d1302d04979aeb93bac8353ade9",
      "0e5fb8f552ed420c962e0296f0dfe2f8",
      "305e6154f2814b08976369d37b91eb13",
      "e06d3dd795c6402db206de52e60abf63",
      "cbd75f9668174e84ab8f65b613a901df",
      "b624936a195c4717b0616262f7f5e9ce",
      "1087b5e9cb624cfdaa4bdc2000c0bfe5",
      "3507b86e34d44dbd87f2e8ef6bf1cdfe",
      "964b871eddb247c8984727c3018089a4",
      "3fa560781b2942e2882149801cd2b838",
      "bb9d8fc158c04785aae0f9a9be56a13a",
      "20b9d909e19c458e9a9d3ced81a5e074",
      "33be97fe595f412380ec5dc6366c4169",
      "f72721d8ffb44a0f897b2de4cfa1732d",
      "1256d2a8a3864b8fa928f72876a82203",
      "ddfcd50445ef48299c7666f0d33d53e6",
      "50eae6f982234ef699df420e7a1692ba",
      "e145d4bd44b0421cbf83ff5d04ab7ac7",
      "806f6471306f4e08979290ee8d77f08b",
      "5d8baabc3f7444c3b212c91fc4e01e11",
      "6d8d58a618e540c29fb9d15220dbed8c",
      "1fa1655f19f14cbeb03eceda7410f945",
      "8031643815404f54aef554fda4d39afa",
      "0f5e71d27840447593d3f1accf828428",
      "52200fd7c6df4754b0ce7472c2d6d63f",
      "fba1fb35513f49629b2a177144b2ac28",
      "25d1d8a2ff6c431ab71533bd0a83045e",
      "57a703c3f8ab4477868dc3768dc564b8",
      "32369716c87e457990441ff8de18eaea",
      "f426debb215e452da8c51a043000c22d",
      "6511121470064799926c6abda2718bc3",
      "809e7fab0d5248c2b310ce1046bfb244",
      "930ae7803c1d4abdb1c0fb8fe171d740",
      "fad63371a395459b84a761ec591b93d5",
      "595964f39dd04142ae2e85a022d2b1a6",
      "7160b309cf6f4c19be4a3be8e32400a5",
      "507e3fe8ad7d46ed9ed893249282d104",
      "3289825538ab4be6ba41d487742c4a06",
      "2d908d0fef4f45ec995c67d8694b6e4d",
      "753a8232317c4c038a49ee18ba5dcb34",
      "4decdd9f46d44b418a38def686bcd71a",
      "0c1d300e61444e1ca48b481cee5af604",
      "2c73b055b26e486fb787ce1bb268f32b",
      "48503058de5e4098872a2eb88ce949ef",
      "5199caebb78f49daab6dba7d93838a36",
      "9509c76488364f21a756db70a048e26b",
      "eb98d9f3b39d49349aae339dbd065569",
      "94b5bbc459434aa7aa577a210791d930",
      "70aad20f0f0e4336ac3d5bfa1559b62d",
      "3f5de9e99f1b46a3a0369d4c32fde9b5",
      "1761ba52a95b481280e7b9e765157025",
      "127e9e1db36847b3b821e9fcea6db4a7",
      "a1891113c183476abbba3a6066ed2c6f",
      "353339b36a3e4bc9867196fa62514b5c",
      "22a110bfa5a14d74b6c9e1a8d9d55b52",
      "507a4e59ac4341ceacfb989736b5aece",
      "21443813c5a14184bc71847e5fe19e5a",
      "d35008a2ad934c1185e50cabc0201b20",
      "80f8739e80554937be429f261d9b6891",
      "f7a4b72075b7487fa6082e8f048cdb85",
      "b9c47ec37e36402199f19286533ed442",
      "c687ec3a4cf845b39c8c5ee52103dc7d",
      "214a800b68174ccea37cd78615aa40ef",
      "fe63c82fb923440eb48f4150aac8b616",
      "603554aa01cb4b6880653ce31912da14",
      "8a56e59fb21d404dba092558c39a971e",
      "70b7f6db81064ec2bea88c9996453667",
      "eb2e8eef40494bcd876ea854e4247106",
      "4ed82520f0ee46ce9b1734c475600089",
      "42c25f49183d4d8798438b52713d49b8",
      "e1ea92de7bad4cfdbaafc4bb3472ea75",
      "0a0d0c2d432d480cb4217b2550a0de62",
      "f6d9546915dc451484fe7a2f837bdc94",
      "9998147666544ce0973a0f214cfe7dd3",
      "99ba4f5551e34852b64283ca54b56ab1",
      "5883de42585d416fbadb877565d6928f",
      "8e7b8a20f71b4cbc96bf95c106e867b3",
      "18a049a792764b659891aebfc8259b99",
      "538a9ae438c44018a14224db081a8797",
      "d0a5ce0061674745913b407796111199",
      "16e1b0dd03ff4bb38925e67400c76114",
      "e6839ea3a2cb419891da41ff921eb2b0",
      "b7f119c4df244e47b3c653ad2eb68f01",
      "ceb10808042541628f533fa1cb01422e",
      "3de68afb1d704e99885741a0bd85403e",
      "afee2fcece844db292842477ea130bc0",
      "ccc85da576dc409f8415291f4ac736ee",
      "6f8dc50823e140c184ffb95c6d5c9d2b",
      "9c035d4c115e42d4ba865831869885d7",
      "0d11a115e4224dbebd11e5276556f8c1",
      "bee9741a0aff479598b68475085e03e8",
      "48a756ccd9ca4ed7ae4d42ed40438577",
      "f640d326a8ca409ea1924ca43318784b",
      "c706b69a9bf14396b81344cd4a66671e",
      "5c368d2b0ad14bce96c1f0dc361be498",
      "d8834f9816034e459d9ebfc5716c09e7",
      "351507158a9d4d9a974b3373814a5188",
      "f5037a864b084b0fb02e610803ca5fee",
      "7e3f29a4f9de48d3b9f175a5f48c8571",
      "408fad914b9f474ab9d040f8fcb95e55",
      "86114c64df3541748bcd6a83826efc91",
      "e94d6a2d3f9a43a3a5ca65cbc7b67ddc",
      "bd9ee38a9d9946ed8fa7bd68f87947fd",
      "a60c4dd06a724280aef23fc96c8b37ee",
      "8506b61e79784a9aa8d476284f80f83e",
      "1b85a7ad194b44318424198deeedd5dc",
      "f31bd11c4c3b4e65ad8efb65faf602ab",
      "b99a79c18d1c4a978224cea4881f5596",
      "bef3002fe329454fafe54a86a468024f",
      "8b0f5acdcfe5486183d9b122dc8ff139",
      "1d5afa3ed648473e99383705ec09e334",
      "2dd7d2741acd4e64a6c4ff7f52539fdb",
      "ca5a58a32f954600b7b149c2257798b6",
      "2321821b77394cc1a210466b0f7ba7ff",
      "f73ed77dec9b46c1a05b54e4bfcb2ef0",
      "aeb017eb178140278e2e02a4dc7be414",
      "130b32a2be7d461abc952feb9d26f6f3",
      "b30e4331d70a48eaa7868e0c6255f93a",
      "bd6da876f15441859e58c321828dce9d",
      "51fd3fa3212c4f9aba72fe47ba96bbca",
      "8be3f19a4e4c43a59e7f4dfc4efcd7c2",
      "1b1ec5a5a5ec43beafab7c83b7bcb0a9",
      "d08485f7a9694750a48112525f60f8f6",
      "c32c144b20184689b347b89a83189b6e",
      "a956d36f5a354a64bfa2599a749fe57d",
      "f75485f020c748afa81bdc6c3fbcd3f6",
      "468ca720459d4dcf80750fa27ee1b1c0",
      "8bf1ad17ef1b4ecca568a851b9464177",
      "bd432a3027924fac8030ef23b18dd256",
      "b1429f77116248eca7363c8bac726107",
      "b336c5ae6d4d4af895154249a8605100",
      "c12703b5aa0f4c35a21f7189f54dba51",
      "2ce85e9111a445919b8aa3114aab0989",
      "71dc0ad55fab43ec964cb3933047d305",
      "a67dffc3262e43468ce4f0bd665eb6e0",
      "4679239ce0f54e04991eda9938102cb7",
      "ae8a8ea5523946ca87edfd4a1854fc7b",
      "a389199246c4409192603aa562062448",
      "cd7bb9ac73954a2bbbf553d569f1467d",
      "715ee473dcef4c358789533390e8ab2c",
      "bba43ba48cfd479bbd523f785502d147",
      "e58ee6918d8a4054a9b0b582c6ba37e1",
      "f57feb41633b481483e6068b42428fef",
      "c35afc6e15c14403b9e14f76460c6bee",
      "236374624f69454fab2f9923e9aec7c3",
      "55e2b58b614643d383d249d20cd3e527",
      "cb5c4086cc084ba2bed28f00664b90a2",
      "8435c169408d46b1b333c5c58da6c382",
      "bd5c0708c5b948e8848cb6fe091c227e",
      "99f2fae677864d3289a1b98e48b8935e",
      "49d33d85d05d478bad0c6386478de32b",
      "ad87c48a7e0a4899b796c7920e4c0b2c",
      "b91b897e5fc54888b2d3bfee8007b912",
      "b05d434ac96a4e3c96c38d6f499da192",
      "9e02fa2c12f7498c9d841a77c7a2746a",
      "ffb883da98c6450597b8389bb99257dc",
      "cefcef13a2ad40a5bf1bad4f197c454f",
      "5aade540ddee4f75a40cae98cc644108",
      "f2efba579e48458eb48013b9a66d8aa2",
      "33e33b9e649849679dbdbac0d9300655",
      "b3c5d1462fe5479baaf57508b97ee30a",
      "fe5e522159d64024a77af60872abfa3d",
      "0e16acf454a5499db797c30a3d8fe938",
      "b72c382085ef4aa2a1b2270fa4b85211",
      "842cd53ac2fe43d68f4819731abf662e",
      "36d80d02bf7741c48704c0c3b319772f",
      "05929c2b6f044431a6e02303e2e10106",
      "2617266f1bfd4bd1833f58d151eda71b",
      "ad54f1ec1499409e9ffa628ecc1636ef",
      "c40e715ada644aaca068e531d6b0a1a5",
      "20453f9d9c69460697e4a01090ca924b",
      "143f44bfbd944049ac20452473a0d6e6",
      "553b52511ba040bfbe09da60ba610018",
      "d6a42d69290542d2af9b8b019628023a",
      "ec503697072340e7a011396cdd6394a4",
      "c44eb8f9d9be4a5f808410ff5ea5f66b",
      "e706c757751547f88ae1f4d6c180839e",
      "e96908898c2f47b18acb85b2f63085c9",
      "30227b38f12042ceaf7ef7ff374d5337",
      "b843ee539a4e45c8ab0d98d850ba8676",
      "0aedb6d6632a47b2b696cc0d67e4fc5c",
      "e2c34c4e9a634d8585cf66bcc9b59047",
      "f7fa75ffc0a14b0aa836006951772f11",
      "a3fd8bdae0b04ffeb30bde422e4d5efc",
      "b51285591bd04c9e8927a1be9fe2fe73",
      "576cf88f92394c91ae9eeb752db50582",
      "f0a36adf11e14f2ba9c8c372acacd5f8",
      "a6a2dd31e666482d8a4ae02fa4873a26",
      "82f5aa123b5e42f19cad84b2e8c3e1f3",
      "ad6d52701cc746478476e529fb639f4c",
      "9f6f79b661694ffc9ac3c004693b248e",
      "1c78b13b97de4648bff088bf32802663",
      "22044ddff73f41a49517dd71b050ddfa",
      "02ebd94cb86647fea6fbd16aac09be56",
      "01077da56d0f4d938a234cf0ec184eb2",
      "4039288c2cc249fe9c9d128e173175da",
      "f00e38fc085f4e1f9687e63f1d76b736",
      "56ab88327ba841dda831fbcd9941b8f9",
      "6a4b12a78a7d4c959a94a4e5d085d85d",
      "253aaa2362be42c5a9c3de472178cc7a",
      "02f8dbc7d9064f9e83680170cc612c5b",
      "d2807c0a2dd943febda5b8e1bf0cb6f8",
      "0188e1dc50e04aa1bf702cfe412b16a9",
      "f18058fa3b024123b2fe0fa6c6ff7586",
      "6e07ded74ee24e61ba28ef62d8cb4ed7",
      "c4a87bd82e924248b626baa596af68c2",
      "35d74a8e679a49d5b5e722f99e56b637",
      "63526d5c63844f10adb3193b74fb096b",
      "cd0443328cc949089b8aacf4e60a5190",
      "3ead9bbc60f44d57ab79028a9a48f789",
      "de498dd974334e1899820e7d1c89d856",
      "53718ba1d4534b4c80e73e81e83b7cf9",
      "d9c32aff945d4262b4bba445a5d5d64a",
      "2df2e57e1b834f95a4ede29037f97dbd",
      "ab3ccc2b9ed145c89a72f33a500fd044",
      "c3e745cbca9041188fe46e064cf47dd9",
      "1ba7844be2f74ee2866d6b7a5c78ac6e",
      "b22a3cd1f22b4260b9b6cf5ae0750e97",
      "9c3f4ad99f1d4bba9bc9869619d2e644",
      "5fb8f6ad9d414106bab7ca76f6cd48fd",
      "754d10c22d4b492680bf6a4ba77152fc",
      "45806d166077491f87d52c554fe1ee43",
      "42c3e60676f243e686e8613e5f83f78d",
      "ad5b4bfe708841009fd957b17f67861c",
      "e174a57cc2544b92b00edb3cf2b45b64",
      "5bcfbe8127bf4edb99fff21d7d2d432a",
      "2db01f370b6b451290cece371db9d403",
      "c5fb5134eb8947debd0817a976d2c7f0",
      "cb237680c31d4b388d96dbaf0727eedf",
      "e6ad821ae7314dfb97f764e53b04b2d2",
      "24baf46dfe164b15a3a5492974e20185",
      "d96aa937846943b497006a403bfebc32",
      "e944fe338a9b48aab16964d2fc09f936",
      "b766825c58c844faad405575cc36f30b",
      "f0e90bc333474d67b382dd0df985cf74",
      "d72dcbf6de2d4d4896eff1baa9ec4734",
      "d7b889315aab4963b6abab16903a4aa9",
      "6ee6bed3ad9049cd80b1f3c82c034624",
      "28e8e032ff91470489c22c87bd8543f2",
      "25aec02559da4767b43d67997095fbdd",
      "02b3ceb18de34373b1654c2a576f6256",
      "da6166f2152c4c009cb70f4be1020b4f",
      "f6f14f2be156411481b769f892f72b3b",
      "892cc3174f694df8aa194ba9d520311d",
      "ccbb12325c5d4016b5f87e60586293c7",
      "af5e79ffaf1e493f85c28ea785a41fff",
      "580ac817ec934866bb91cff70128a8ae",
      "a3d225cbe2ed47a18bd527a6bbe1506f",
      "f63084743b6f4cb3a93dc1f50b0b556e",
      "cf2ff28db37843cfaee49f1104081d0a",
      "ae8465767e8d4708a3f1c5a5b13f7138",
      "8a46f353e4b04f9a9f9275404619765a",
      "89254d7c5da74a73bda2b4fc099084fa",
      "9296d655cf894b0c94ba4a31c33850eb",
      "442a0c0300f74198be9e75b83d97a422",
      "8045da4d5e894707b9863e7a44a6de13",
      "2b6a68e2745a41cda0d0885ea7cedb1a",
      "29bc5cefe4b64ea5ae33517810683344",
      "d377a125bfc140d5a3a9b771fc668a65",
      "c0901150e650486790f8b769d3a60dce",
      "314ad0ec28c64c5c87bbb17016d60596",
      "2bafe43593c54542aaa3f7c7dae907c3",
      "bc8b27b74aca4a259aae0deb03b944d5",
      "c59c3ffafa8c4f268ec02fa20e8860c3",
      "a69448c8c9bb41009a2bcb6d46e45d0d",
      "a5c40810bf63417eb7cd4fc18573320a",
      "f7186cbf43bf4c4898647a951c025c4d",
      "27be5b70382b4d97afad21dca7e6d284",
      "4c17e66336ee4ca882fa794df8a46bdb",
      "c4afdac4988e4ebf8921c1b52190c7ba",
      "e6c436b7552441ffa63525cacc3c5fd7",
      "dddf2e03c4c54e4994d27022427181a2",
      "629c600d27ec40d5a56375da026945c3",
      "f5c0f8a5691948f686553b03728b183e",
      "8754ffc142874281a7c104218f5561de",
      "30772fb7b010404bb6df533daf00e761",
      "9e91c3c9213b4471862c9c90716bd2cc",
      "6da55724d81942469c190914c60f370f",
      "1d11b4dc7ba243c2a90d257cdd1e6e36",
      "b3529e4a1cac491a9dc6c0fb884bc556",
      "d4fb7388d80c4f98a6332a1216db749f",
      "15e6fad84f65444f86935a30f1670910",
      "fff014ee146b4740a0f724aca226b9c7",
      "fae05d465ed9498482e05fac03eff617",
      "c08637bdbb494e8dbdd0dbee1a848658",
      "5f9373a8a4fe4b36b47c557121851112",
      "6e99041720674fc6bc78fb88bd5b9bb4",
      "e60f435f85ec4b6bbdce5ec262a7df23",
      "6b35e8fe95c54436a62fd4224c923435",
      "60c67e95207d48ec829ee118066f08b1",
      "cc1b9c160e4e44d1b36aac8fa19a86e2",
      "34b8c50760394f8c8562599e23b70f81",
      "5bc0c8ed6a7f436a856f8a8650737f91",
      "938aa4efe1fa40daa97c2f7ecc7f69ab",
      "b4e7917990814a0cabba9fcf3bc7b506",
      "35346b6f4b2944ada31e2136e74a1651",
      "d99fae3e593248f5a5dca63d3373f3d3",
      "4f0a1561307a4f86b3d11cdacaaf4e3c",
      "6ab774fc4f664433973f7306f9ebe6f5",
      "ec532b8a8f11482c9d39f54281c1730a",
      "fdd461ce58b2437595a4cc8b571ef1d7",
      "a0e5bd562e704e93b3d1c2abdb2bb6aa",
      "b14b752b3838468dbab0c6b2f48c0556",
      "6a88f2921ae2417c95fb17950acfd327",
      "0a6392a8736d4e72a377385e24f440d8",
      "b23af9ece63745e7bfd561e7b1387714",
      "edf9c09babc84fb1b2ffb704397d15dc",
      "6639967a2fe6472f91b81935b1cdbfba",
      "73fabbb1149844c18cf57ed8e03fbde4",
      "08ddca213079448692834b095f592d92",
      "9353244762394e2b84197bb7c3327426",
      "510f9883581e431cb39308a852cf0a8c",
      "ad43d92d8e594e46aa5dbdc1f4326c98",
      "cce8ccb4a0a04c6fb1f19c696c29bf08",
      "8aa8e6f20999474087eff295adbe1a62",
      "2a671c4397e34efdbf9278b6cff52b1b",
      "4f4b37480c154b19b95b613d5116faa7",
      "d207d44a32f048a8be427a671d50bc69"
     ]
    },
    "executionInfo": {
     "elapsed": 922399,
     "status": "ok",
     "timestamp": 1751487616739,
     "user": {
      "displayName": "Yulia Yorkshirelove",
      "userId": "10480095246692972307"
     },
     "user_tz": -180
    },
    "id": "MsIV9uTNScWO",
    "outputId": "0e7abad4-29dd-497c-a812-7bb283973fa5"
   },
   "outputs": [
    {
     "data": {
      "application/vnd.jupyter.widget-view+json": {
       "model_id": "22fd9bc578fa44ac852a6433fc3bad30",
       "version_major": 2,
       "version_minor": 0
      },
      "text/plain": [
       "Epoch 1:   0%|          | 0/25 [00:00<?, ?it/s]"
      ]
     },
     "metadata": {},
     "output_type": "display_data"
    },
    {
     "name": "stdout",
     "output_type": "stream",
     "text": [
      "Epoch 1 done — avg loss: 3.693652\n"
     ]
    },
    {
     "data": {
      "application/vnd.jupyter.widget-view+json": {
       "model_id": "eab52a9aa1f3483cbfc1069f9be627bf",
       "version_major": 2,
       "version_minor": 0
      },
      "text/plain": [
       "Epoch 2:   0%|          | 0/25 [00:00<?, ?it/s]"
      ]
     },
     "metadata": {},
     "output_type": "display_data"
    },
    {
     "name": "stdout",
     "output_type": "stream",
     "text": [
      "Epoch 2 done — avg loss: 3.675581\n"
     ]
    },
    {
     "data": {
      "application/vnd.jupyter.widget-view+json": {
       "model_id": "50193c4db74e443da6468ffbefd0be4e",
       "version_major": 2,
       "version_minor": 0
      },
      "text/plain": [
       "Epoch 3:   0%|          | 0/25 [00:00<?, ?it/s]"
      ]
     },
     "metadata": {},
     "output_type": "display_data"
    },
    {
     "name": "stdout",
     "output_type": "stream",
     "text": [
      "Epoch 3 done — avg loss: 3.660307\n"
     ]
    },
    {
     "data": {
      "application/vnd.jupyter.widget-view+json": {
       "model_id": "3bca2ad31f3b45f38afaf38efb5928c4",
       "version_major": 2,
       "version_minor": 0
      },
      "text/plain": [
       "Epoch 4:   0%|          | 0/25 [00:00<?, ?it/s]"
      ]
     },
     "metadata": {},
     "output_type": "display_data"
    },
    {
     "name": "stdout",
     "output_type": "stream",
     "text": [
      "Epoch 4 done — avg loss: 3.647577\n"
     ]
    },
    {
     "data": {
      "application/vnd.jupyter.widget-view+json": {
       "model_id": "0d838f877a9c4ea2ba96cb6328198268",
       "version_major": 2,
       "version_minor": 0
      },
      "text/plain": [
       "Epoch 5:   0%|          | 0/25 [00:00<?, ?it/s]"
      ]
     },
     "metadata": {},
     "output_type": "display_data"
    },
    {
     "name": "stdout",
     "output_type": "stream",
     "text": [
      "Epoch 5 done — avg loss: 3.636673\n"
     ]
    },
    {
     "data": {
      "application/vnd.jupyter.widget-view+json": {
       "model_id": "f864690a99024730a7e033f1e62e6c1d",
       "version_major": 2,
       "version_minor": 0
      },
      "text/plain": [
       "Epoch 6:   0%|          | 0/25 [00:00<?, ?it/s]"
      ]
     },
     "metadata": {},
     "output_type": "display_data"
    },
    {
     "name": "stdout",
     "output_type": "stream",
     "text": [
      "Epoch 6 done — avg loss: 3.626172\n"
     ]
    },
    {
     "data": {
      "application/vnd.jupyter.widget-view+json": {
       "model_id": "a4663cebea384922b97e1a578543bee3",
       "version_major": 2,
       "version_minor": 0
      },
      "text/plain": [
       "Epoch 7:   0%|          | 0/25 [00:00<?, ?it/s]"
      ]
     },
     "metadata": {},
     "output_type": "display_data"
    },
    {
     "name": "stdout",
     "output_type": "stream",
     "text": [
      "Epoch 7 done — avg loss: 3.616467\n"
     ]
    },
    {
     "data": {
      "application/vnd.jupyter.widget-view+json": {
       "model_id": "8eadbc7e7587412193aa609af9f1ecf0",
       "version_major": 2,
       "version_minor": 0
      },
      "text/plain": [
       "Epoch 8:   0%|          | 0/25 [00:00<?, ?it/s]"
      ]
     },
     "metadata": {},
     "output_type": "display_data"
    },
    {
     "name": "stdout",
     "output_type": "stream",
     "text": [
      "Epoch 8 done — avg loss: 3.608171\n"
     ]
    },
    {
     "data": {
      "application/vnd.jupyter.widget-view+json": {
       "model_id": "fe6ab2438b214c008744e4d6d9b2b0d6",
       "version_major": 2,
       "version_minor": 0
      },
      "text/plain": [
       "Epoch 9:   0%|          | 0/25 [00:00<?, ?it/s]"
      ]
     },
     "metadata": {},
     "output_type": "display_data"
    },
    {
     "name": "stdout",
     "output_type": "stream",
     "text": [
      "Epoch 9 done — avg loss: 3.600621\n"
     ]
    },
    {
     "data": {
      "application/vnd.jupyter.widget-view+json": {
       "model_id": "5097f309468e4ffeafd4758c7e4f433b",
       "version_major": 2,
       "version_minor": 0
      },
      "text/plain": [
       "Epoch 10:   0%|          | 0/25 [00:00<?, ?it/s]"
      ]
     },
     "metadata": {},
     "output_type": "display_data"
    },
    {
     "name": "stdout",
     "output_type": "stream",
     "text": [
      "Epoch 10 done — avg loss: 3.593225\n"
     ]
    },
    {
     "data": {
      "application/vnd.jupyter.widget-view+json": {
       "model_id": "2cb09310580e45bdac7d10d80e331090",
       "version_major": 2,
       "version_minor": 0
      },
      "text/plain": [
       "Epoch 11:   0%|          | 0/25 [00:00<?, ?it/s]"
      ]
     },
     "metadata": {},
     "output_type": "display_data"
    },
    {
     "name": "stdout",
     "output_type": "stream",
     "text": [
      "Epoch 11 done — avg loss: 3.585581\n"
     ]
    },
    {
     "data": {
      "application/vnd.jupyter.widget-view+json": {
       "model_id": "a4888e4c11e143dc9646cd86693d3cc9",
       "version_major": 2,
       "version_minor": 0
      },
      "text/plain": [
       "Epoch 12:   0%|          | 0/25 [00:00<?, ?it/s]"
      ]
     },
     "metadata": {},
     "output_type": "display_data"
    },
    {
     "name": "stdout",
     "output_type": "stream",
     "text": [
      "Epoch 12 done — avg loss: 3.578649\n"
     ]
    },
    {
     "data": {
      "application/vnd.jupyter.widget-view+json": {
       "model_id": "d6f092ca9a8f4f4ebb287b91b6d996db",
       "version_major": 2,
       "version_minor": 0
      },
      "text/plain": [
       "Epoch 13:   0%|          | 0/25 [00:00<?, ?it/s]"
      ]
     },
     "metadata": {},
     "output_type": "display_data"
    },
    {
     "name": "stdout",
     "output_type": "stream",
     "text": [
      "Epoch 13 done — avg loss: 3.572089\n"
     ]
    },
    {
     "data": {
      "application/vnd.jupyter.widget-view+json": {
       "model_id": "fb227d844ba04853a175badab3a47ef3",
       "version_major": 2,
       "version_minor": 0
      },
      "text/plain": [
       "Epoch 14:   0%|          | 0/25 [00:00<?, ?it/s]"
      ]
     },
     "metadata": {},
     "output_type": "display_data"
    },
    {
     "name": "stdout",
     "output_type": "stream",
     "text": [
      "Epoch 14 done — avg loss: 3.566238\n"
     ]
    },
    {
     "data": {
      "application/vnd.jupyter.widget-view+json": {
       "model_id": "8c129366620346d9b22c351be5713f30",
       "version_major": 2,
       "version_minor": 0
      },
      "text/plain": [
       "Epoch 15:   0%|          | 0/25 [00:00<?, ?it/s]"
      ]
     },
     "metadata": {},
     "output_type": "display_data"
    },
    {
     "name": "stdout",
     "output_type": "stream",
     "text": [
      "Epoch 15 done — avg loss: 3.560454\n"
     ]
    },
    {
     "data": {
      "application/vnd.jupyter.widget-view+json": {
       "model_id": "028108b6791e42b39e7a618919026223",
       "version_major": 2,
       "version_minor": 0
      },
      "text/plain": [
       "Epoch 16:   0%|          | 0/25 [00:00<?, ?it/s]"
      ]
     },
     "metadata": {},
     "output_type": "display_data"
    },
    {
     "name": "stdout",
     "output_type": "stream",
     "text": [
      "Epoch 16 done — avg loss: 3.555405\n"
     ]
    },
    {
     "data": {
      "application/vnd.jupyter.widget-view+json": {
       "model_id": "9a54a8cc93ad48f8b9f8e779c51d701d",
       "version_major": 2,
       "version_minor": 0
      },
      "text/plain": [
       "Epoch 17:   0%|          | 0/25 [00:00<?, ?it/s]"
      ]
     },
     "metadata": {},
     "output_type": "display_data"
    },
    {
     "name": "stdout",
     "output_type": "stream",
     "text": [
      "Epoch 17 done — avg loss: 3.550553\n"
     ]
    },
    {
     "data": {
      "application/vnd.jupyter.widget-view+json": {
       "model_id": "6d22416238e4417c97e6b3c24320632d",
       "version_major": 2,
       "version_minor": 0
      },
      "text/plain": [
       "Epoch 18:   0%|          | 0/25 [00:00<?, ?it/s]"
      ]
     },
     "metadata": {},
     "output_type": "display_data"
    },
    {
     "name": "stdout",
     "output_type": "stream",
     "text": [
      "Epoch 18 done — avg loss: 3.545758\n"
     ]
    },
    {
     "data": {
      "application/vnd.jupyter.widget-view+json": {
       "model_id": "6a4233de02fb4de0b432149e385263cf",
       "version_major": 2,
       "version_minor": 0
      },
      "text/plain": [
       "Epoch 19:   0%|          | 0/25 [00:00<?, ?it/s]"
      ]
     },
     "metadata": {},
     "output_type": "display_data"
    },
    {
     "name": "stdout",
     "output_type": "stream",
     "text": [
      "Epoch 19 done — avg loss: 3.541316\n"
     ]
    },
    {
     "data": {
      "application/vnd.jupyter.widget-view+json": {
       "model_id": "7a326f08dd3a4fa392ad61471fd96f83",
       "version_major": 2,
       "version_minor": 0
      },
      "text/plain": [
       "Epoch 20:   0%|          | 0/25 [00:00<?, ?it/s]"
      ]
     },
     "metadata": {},
     "output_type": "display_data"
    },
    {
     "name": "stdout",
     "output_type": "stream",
     "text": [
      "Epoch 20 done — avg loss: 3.537844\n"
     ]
    },
    {
     "data": {
      "application/vnd.jupyter.widget-view+json": {
       "model_id": "0804ee76301b4c1bbfc2b5c0f0a73fa9",
       "version_major": 2,
       "version_minor": 0
      },
      "text/plain": [
       "Epoch 21:   0%|          | 0/25 [00:00<?, ?it/s]"
      ]
     },
     "metadata": {},
     "output_type": "display_data"
    },
    {
     "name": "stdout",
     "output_type": "stream",
     "text": [
      "Epoch 21 done — avg loss: 3.533752\n"
     ]
    },
    {
     "data": {
      "application/vnd.jupyter.widget-view+json": {
       "model_id": "e6a74696b26944a3bd14304d002be54e",
       "version_major": 2,
       "version_minor": 0
      },
      "text/plain": [
       "Epoch 22:   0%|          | 0/25 [00:00<?, ?it/s]"
      ]
     },
     "metadata": {},
     "output_type": "display_data"
    },
    {
     "name": "stdout",
     "output_type": "stream",
     "text": [
      "Epoch 22 done — avg loss: 3.529655\n"
     ]
    },
    {
     "data": {
      "application/vnd.jupyter.widget-view+json": {
       "model_id": "d14a47aa4f8d45aab92ec868329cd3fd",
       "version_major": 2,
       "version_minor": 0
      },
      "text/plain": [
       "Epoch 23:   0%|          | 0/25 [00:00<?, ?it/s]"
      ]
     },
     "metadata": {},
     "output_type": "display_data"
    },
    {
     "name": "stdout",
     "output_type": "stream",
     "text": [
      "Epoch 23 done — avg loss: 3.525843\n"
     ]
    },
    {
     "data": {
      "application/vnd.jupyter.widget-view+json": {
       "model_id": "378438a1e0384cc6ad08b28b9fdc3efc",
       "version_major": 2,
       "version_minor": 0
      },
      "text/plain": [
       "Epoch 24:   0%|          | 0/25 [00:00<?, ?it/s]"
      ]
     },
     "metadata": {},
     "output_type": "display_data"
    },
    {
     "name": "stdout",
     "output_type": "stream",
     "text": [
      "Epoch 24 done — avg loss: 3.521992\n"
     ]
    },
    {
     "data": {
      "application/vnd.jupyter.widget-view+json": {
       "model_id": "602aae4c4adf4aebaa66d6da32860e60",
       "version_major": 2,
       "version_minor": 0
      },
      "text/plain": [
       "Epoch 25:   0%|          | 0/25 [00:00<?, ?it/s]"
      ]
     },
     "metadata": {},
     "output_type": "display_data"
    },
    {
     "name": "stdout",
     "output_type": "stream",
     "text": [
      "Epoch 25 done — avg loss: 3.518298\n"
     ]
    },
    {
     "data": {
      "application/vnd.jupyter.widget-view+json": {
       "model_id": "68bf4d7f85d84646ad650241118289e7",
       "version_major": 2,
       "version_minor": 0
      },
      "text/plain": [
       "Epoch 26:   0%|          | 0/25 [00:00<?, ?it/s]"
      ]
     },
     "metadata": {},
     "output_type": "display_data"
    },
    {
     "name": "stdout",
     "output_type": "stream",
     "text": [
      "Epoch 26 done — avg loss: 3.514679\n"
     ]
    },
    {
     "data": {
      "application/vnd.jupyter.widget-view+json": {
       "model_id": "11ee0db0282b4888aca79b125231b96d",
       "version_major": 2,
       "version_minor": 0
      },
      "text/plain": [
       "Epoch 27:   0%|          | 0/25 [00:00<?, ?it/s]"
      ]
     },
     "metadata": {},
     "output_type": "display_data"
    },
    {
     "name": "stdout",
     "output_type": "stream",
     "text": [
      "Epoch 27 done — avg loss: 3.511406\n"
     ]
    },
    {
     "data": {
      "application/vnd.jupyter.widget-view+json": {
       "model_id": "da2aee34738c43cda45bf74403a8b5ef",
       "version_major": 2,
       "version_minor": 0
      },
      "text/plain": [
       "Epoch 28:   0%|          | 0/25 [00:00<?, ?it/s]"
      ]
     },
     "metadata": {},
     "output_type": "display_data"
    },
    {
     "name": "stdout",
     "output_type": "stream",
     "text": [
      "Epoch 28 done — avg loss: 3.508053\n"
     ]
    },
    {
     "data": {
      "application/vnd.jupyter.widget-view+json": {
       "model_id": "9a8e9cbab3e9445285fb5d9d99e78968",
       "version_major": 2,
       "version_minor": 0
      },
      "text/plain": [
       "Epoch 29:   0%|          | 0/25 [00:00<?, ?it/s]"
      ]
     },
     "metadata": {},
     "output_type": "display_data"
    },
    {
     "name": "stdout",
     "output_type": "stream",
     "text": [
      "Epoch 29 done — avg loss: 3.504920\n"
     ]
    },
    {
     "data": {
      "application/vnd.jupyter.widget-view+json": {
       "model_id": "38bea641f0984848badc6b6cd14d60fa",
       "version_major": 2,
       "version_minor": 0
      },
      "text/plain": [
       "Epoch 30:   0%|          | 0/25 [00:00<?, ?it/s]"
      ]
     },
     "metadata": {},
     "output_type": "display_data"
    },
    {
     "name": "stdout",
     "output_type": "stream",
     "text": [
      "Epoch 30 done — avg loss: 3.501442\n"
     ]
    },
    {
     "data": {
      "application/vnd.jupyter.widget-view+json": {
       "model_id": "fdaba7db15ce4694bfe29077e44dbdac",
       "version_major": 2,
       "version_minor": 0
      },
      "text/plain": [
       "Epoch 31:   0%|          | 0/25 [00:00<?, ?it/s]"
      ]
     },
     "metadata": {},
     "output_type": "display_data"
    },
    {
     "name": "stdout",
     "output_type": "stream",
     "text": [
      "Epoch 31 done — avg loss: 3.498317\n"
     ]
    },
    {
     "data": {
      "application/vnd.jupyter.widget-view+json": {
       "model_id": "cb114ec6de53438b82b766cd8bc30959",
       "version_major": 2,
       "version_minor": 0
      },
      "text/plain": [
       "Epoch 32:   0%|          | 0/25 [00:00<?, ?it/s]"
      ]
     },
     "metadata": {},
     "output_type": "display_data"
    },
    {
     "name": "stdout",
     "output_type": "stream",
     "text": [
      "Epoch 32 done — avg loss: 3.495305\n"
     ]
    },
    {
     "data": {
      "application/vnd.jupyter.widget-view+json": {
       "model_id": "5bcb07dcb1494140905a79de690bfccc",
       "version_major": 2,
       "version_minor": 0
      },
      "text/plain": [
       "Epoch 33:   0%|          | 0/25 [00:00<?, ?it/s]"
      ]
     },
     "metadata": {},
     "output_type": "display_data"
    },
    {
     "name": "stdout",
     "output_type": "stream",
     "text": [
      "Epoch 33 done — avg loss: 3.492675\n"
     ]
    },
    {
     "data": {
      "application/vnd.jupyter.widget-view+json": {
       "model_id": "8bee2e1bd71c41c1a81ddf1207398a02",
       "version_major": 2,
       "version_minor": 0
      },
      "text/plain": [
       "Epoch 34:   0%|          | 0/25 [00:00<?, ?it/s]"
      ]
     },
     "metadata": {},
     "output_type": "display_data"
    },
    {
     "name": "stdout",
     "output_type": "stream",
     "text": [
      "Epoch 34 done — avg loss: 3.489895\n"
     ]
    },
    {
     "data": {
      "application/vnd.jupyter.widget-view+json": {
       "model_id": "82ad09f163db457e90a1b15f4bf0fd85",
       "version_major": 2,
       "version_minor": 0
      },
      "text/plain": [
       "Epoch 35:   0%|          | 0/25 [00:00<?, ?it/s]"
      ]
     },
     "metadata": {},
     "output_type": "display_data"
    },
    {
     "name": "stdout",
     "output_type": "stream",
     "text": [
      "Epoch 35 done — avg loss: 3.487203\n"
     ]
    },
    {
     "data": {
      "application/vnd.jupyter.widget-view+json": {
       "model_id": "7f6a143d1d6a47f0ad1a403ce9988934",
       "version_major": 2,
       "version_minor": 0
      },
      "text/plain": [
       "Epoch 36:   0%|          | 0/25 [00:00<?, ?it/s]"
      ]
     },
     "metadata": {},
     "output_type": "display_data"
    },
    {
     "name": "stdout",
     "output_type": "stream",
     "text": [
      "Epoch 36 done — avg loss: 3.484877\n"
     ]
    },
    {
     "data": {
      "application/vnd.jupyter.widget-view+json": {
       "model_id": "8ba1ab74335640d58f4616cff4712dcc",
       "version_major": 2,
       "version_minor": 0
      },
      "text/plain": [
       "Epoch 37:   0%|          | 0/25 [00:00<?, ?it/s]"
      ]
     },
     "metadata": {},
     "output_type": "display_data"
    },
    {
     "name": "stdout",
     "output_type": "stream",
     "text": [
      "Epoch 37 done — avg loss: 3.481955\n"
     ]
    },
    {
     "data": {
      "application/vnd.jupyter.widget-view+json": {
       "model_id": "bebf3259756743abbd038c49af36383e",
       "version_major": 2,
       "version_minor": 0
      },
      "text/plain": [
       "Epoch 38:   0%|          | 0/25 [00:00<?, ?it/s]"
      ]
     },
     "metadata": {},
     "output_type": "display_data"
    },
    {
     "name": "stdout",
     "output_type": "stream",
     "text": [
      "Epoch 38 done — avg loss: 3.479370\n"
     ]
    },
    {
     "data": {
      "application/vnd.jupyter.widget-view+json": {
       "model_id": "86ff2c3d89034829990c7e6c891e1d6b",
       "version_major": 2,
       "version_minor": 0
      },
      "text/plain": [
       "Epoch 39:   0%|          | 0/25 [00:00<?, ?it/s]"
      ]
     },
     "metadata": {},
     "output_type": "display_data"
    },
    {
     "name": "stdout",
     "output_type": "stream",
     "text": [
      "Epoch 39 done — avg loss: 3.477347\n"
     ]
    },
    {
     "data": {
      "application/vnd.jupyter.widget-view+json": {
       "model_id": "fdc09d734c8c43b6ace0a57b967ca643",
       "version_major": 2,
       "version_minor": 0
      },
      "text/plain": [
       "Epoch 40:   0%|          | 0/25 [00:00<?, ?it/s]"
      ]
     },
     "metadata": {},
     "output_type": "display_data"
    },
    {
     "name": "stdout",
     "output_type": "stream",
     "text": [
      "Epoch 40 done — avg loss: 3.474799\n"
     ]
    },
    {
     "data": {
      "application/vnd.jupyter.widget-view+json": {
       "model_id": "520be6fa959242ffaf1b5ed9a5eea004",
       "version_major": 2,
       "version_minor": 0
      },
      "text/plain": [
       "Epoch 41:   0%|          | 0/25 [00:00<?, ?it/s]"
      ]
     },
     "metadata": {},
     "output_type": "display_data"
    },
    {
     "name": "stdout",
     "output_type": "stream",
     "text": [
      "Epoch 41 done — avg loss: 3.472187\n"
     ]
    },
    {
     "data": {
      "application/vnd.jupyter.widget-view+json": {
       "model_id": "347c1e82b4784fb5ad41b0766369fd3c",
       "version_major": 2,
       "version_minor": 0
      },
      "text/plain": [
       "Epoch 42:   0%|          | 0/25 [00:00<?, ?it/s]"
      ]
     },
     "metadata": {},
     "output_type": "display_data"
    },
    {
     "name": "stdout",
     "output_type": "stream",
     "text": [
      "Epoch 42 done — avg loss: 3.470084\n"
     ]
    },
    {
     "data": {
      "application/vnd.jupyter.widget-view+json": {
       "model_id": "35d27c79bfd74fd6bce19a66792b0052",
       "version_major": 2,
       "version_minor": 0
      },
      "text/plain": [
       "Epoch 43:   0%|          | 0/25 [00:00<?, ?it/s]"
      ]
     },
     "metadata": {},
     "output_type": "display_data"
    },
    {
     "name": "stdout",
     "output_type": "stream",
     "text": [
      "Epoch 43 done — avg loss: 3.467807\n"
     ]
    },
    {
     "data": {
      "application/vnd.jupyter.widget-view+json": {
       "model_id": "38fa57604b224a6486f077df716c728b",
       "version_major": 2,
       "version_minor": 0
      },
      "text/plain": [
       "Epoch 44:   0%|          | 0/25 [00:00<?, ?it/s]"
      ]
     },
     "metadata": {},
     "output_type": "display_data"
    },
    {
     "name": "stdout",
     "output_type": "stream",
     "text": [
      "Epoch 44 done — avg loss: 3.465824\n"
     ]
    },
    {
     "data": {
      "application/vnd.jupyter.widget-view+json": {
       "model_id": "cfe64c780db345dea97eac3f1248755c",
       "version_major": 2,
       "version_minor": 0
      },
      "text/plain": [
       "Epoch 45:   0%|          | 0/25 [00:00<?, ?it/s]"
      ]
     },
     "metadata": {},
     "output_type": "display_data"
    },
    {
     "name": "stdout",
     "output_type": "stream",
     "text": [
      "Epoch 45 done — avg loss: 3.463538\n"
     ]
    },
    {
     "data": {
      "application/vnd.jupyter.widget-view+json": {
       "model_id": "a5151c7eed2345f0b7e643f8b2403eb3",
       "version_major": 2,
       "version_minor": 0
      },
      "text/plain": [
       "Epoch 46:   0%|          | 0/25 [00:00<?, ?it/s]"
      ]
     },
     "metadata": {},
     "output_type": "display_data"
    },
    {
     "name": "stdout",
     "output_type": "stream",
     "text": [
      "Epoch 46 done — avg loss: 3.461149\n"
     ]
    },
    {
     "data": {
      "application/vnd.jupyter.widget-view+json": {
       "model_id": "681536ad1ebd466ca3ceb0f7dcafbe9a",
       "version_major": 2,
       "version_minor": 0
      },
      "text/plain": [
       "Epoch 47:   0%|          | 0/25 [00:00<?, ?it/s]"
      ]
     },
     "metadata": {},
     "output_type": "display_data"
    },
    {
     "name": "stdout",
     "output_type": "stream",
     "text": [
      "Epoch 47 done — avg loss: 3.458775\n"
     ]
    },
    {
     "data": {
      "application/vnd.jupyter.widget-view+json": {
       "model_id": "035e5fdad9674bbca75988f037830b0e",
       "version_major": 2,
       "version_minor": 0
      },
      "text/plain": [
       "Epoch 48:   0%|          | 0/25 [00:00<?, ?it/s]"
      ]
     },
     "metadata": {},
     "output_type": "display_data"
    },
    {
     "name": "stdout",
     "output_type": "stream",
     "text": [
      "Epoch 48 done — avg loss: 3.456869\n"
     ]
    },
    {
     "data": {
      "application/vnd.jupyter.widget-view+json": {
       "model_id": "af571026d02f4aa9b53d2d223c311b85",
       "version_major": 2,
       "version_minor": 0
      },
      "text/plain": [
       "Epoch 49:   0%|          | 0/25 [00:00<?, ?it/s]"
      ]
     },
     "metadata": {},
     "output_type": "display_data"
    },
    {
     "name": "stdout",
     "output_type": "stream",
     "text": [
      "Epoch 49 done — avg loss: 3.454591\n"
     ]
    },
    {
     "data": {
      "application/vnd.jupyter.widget-view+json": {
       "model_id": "fff7985a9277460c87d6a7247f63dac2",
       "version_major": 2,
       "version_minor": 0
      },
      "text/plain": [
       "Epoch 50:   0%|          | 0/25 [00:00<?, ?it/s]"
      ]
     },
     "metadata": {},
     "output_type": "display_data"
    },
    {
     "name": "stdout",
     "output_type": "stream",
     "text": [
      "Epoch 50 done — avg loss: 3.452310\n"
     ]
    },
    {
     "data": {
      "application/vnd.jupyter.widget-view+json": {
       "model_id": "0e09291635f64a9ea23510d01a1422b6",
       "version_major": 2,
       "version_minor": 0
      },
      "text/plain": [
       "Epoch 51:   0%|          | 0/25 [00:00<?, ?it/s]"
      ]
     },
     "metadata": {},
     "output_type": "display_data"
    },
    {
     "name": "stdout",
     "output_type": "stream",
     "text": [
      "Epoch 51 done — avg loss: 3.450471\n"
     ]
    },
    {
     "data": {
      "application/vnd.jupyter.widget-view+json": {
       "model_id": "c33ceae214b8452994454c2643f6ef5a",
       "version_major": 2,
       "version_minor": 0
      },
      "text/plain": [
       "Epoch 52:   0%|          | 0/25 [00:00<?, ?it/s]"
      ]
     },
     "metadata": {},
     "output_type": "display_data"
    },
    {
     "name": "stdout",
     "output_type": "stream",
     "text": [
      "Epoch 52 done — avg loss: 3.448747\n"
     ]
    },
    {
     "data": {
      "application/vnd.jupyter.widget-view+json": {
       "model_id": "aeb288abef764e8194b57d4430dcd75f",
       "version_major": 2,
       "version_minor": 0
      },
      "text/plain": [
       "Epoch 53:   0%|          | 0/25 [00:00<?, ?it/s]"
      ]
     },
     "metadata": {},
     "output_type": "display_data"
    },
    {
     "name": "stdout",
     "output_type": "stream",
     "text": [
      "Epoch 53 done — avg loss: 3.446701\n"
     ]
    },
    {
     "data": {
      "application/vnd.jupyter.widget-view+json": {
       "model_id": "619919257b6f4c219bd84a206ee43f02",
       "version_major": 2,
       "version_minor": 0
      },
      "text/plain": [
       "Epoch 54:   0%|          | 0/25 [00:00<?, ?it/s]"
      ]
     },
     "metadata": {},
     "output_type": "display_data"
    },
    {
     "name": "stdout",
     "output_type": "stream",
     "text": [
      "Epoch 54 done — avg loss: 3.444454\n"
     ]
    },
    {
     "data": {
      "application/vnd.jupyter.widget-view+json": {
       "model_id": "9d18758723f64c1594680e6b92a432cf",
       "version_major": 2,
       "version_minor": 0
      },
      "text/plain": [
       "Epoch 55:   0%|          | 0/25 [00:00<?, ?it/s]"
      ]
     },
     "metadata": {},
     "output_type": "display_data"
    },
    {
     "name": "stdout",
     "output_type": "stream",
     "text": [
      "Epoch 55 done — avg loss: 3.442601\n"
     ]
    },
    {
     "data": {
      "application/vnd.jupyter.widget-view+json": {
       "model_id": "a86147356fa94b0bbdaf007f576589ec",
       "version_major": 2,
       "version_minor": 0
      },
      "text/plain": [
       "Epoch 56:   0%|          | 0/25 [00:00<?, ?it/s]"
      ]
     },
     "metadata": {},
     "output_type": "display_data"
    },
    {
     "name": "stdout",
     "output_type": "stream",
     "text": [
      "Epoch 56 done — avg loss: 3.440585\n"
     ]
    },
    {
     "data": {
      "application/vnd.jupyter.widget-view+json": {
       "model_id": "0b6c9337c6184a8abb077c1d153c23bf",
       "version_major": 2,
       "version_minor": 0
      },
      "text/plain": [
       "Epoch 57:   0%|          | 0/25 [00:00<?, ?it/s]"
      ]
     },
     "metadata": {},
     "output_type": "display_data"
    },
    {
     "name": "stdout",
     "output_type": "stream",
     "text": [
      "Epoch 57 done — avg loss: 3.438772\n"
     ]
    },
    {
     "data": {
      "application/vnd.jupyter.widget-view+json": {
       "model_id": "b8fdc028cf4146139bde723d5f6f4312",
       "version_major": 2,
       "version_minor": 0
      },
      "text/plain": [
       "Epoch 58:   0%|          | 0/25 [00:00<?, ?it/s]"
      ]
     },
     "metadata": {},
     "output_type": "display_data"
    },
    {
     "name": "stdout",
     "output_type": "stream",
     "text": [
      "Epoch 58 done — avg loss: 3.436869\n"
     ]
    },
    {
     "data": {
      "application/vnd.jupyter.widget-view+json": {
       "model_id": "a748cab31d584990aa816f6549210a95",
       "version_major": 2,
       "version_minor": 0
      },
      "text/plain": [
       "Epoch 59:   0%|          | 0/25 [00:00<?, ?it/s]"
      ]
     },
     "metadata": {},
     "output_type": "display_data"
    },
    {
     "name": "stdout",
     "output_type": "stream",
     "text": [
      "Epoch 59 done — avg loss: 3.434816\n"
     ]
    },
    {
     "data": {
      "application/vnd.jupyter.widget-view+json": {
       "model_id": "ea1bf9ae94c848b4803afa6c394dafcc",
       "version_major": 2,
       "version_minor": 0
      },
      "text/plain": [
       "Epoch 60:   0%|          | 0/25 [00:00<?, ?it/s]"
      ]
     },
     "metadata": {},
     "output_type": "display_data"
    },
    {
     "name": "stdout",
     "output_type": "stream",
     "text": [
      "Epoch 60 done — avg loss: 3.433291\n"
     ]
    },
    {
     "data": {
      "application/vnd.jupyter.widget-view+json": {
       "model_id": "af1448da749546a7af4998ce38c74d0e",
       "version_major": 2,
       "version_minor": 0
      },
      "text/plain": [
       "Epoch 61:   0%|          | 0/25 [00:00<?, ?it/s]"
      ]
     },
     "metadata": {},
     "output_type": "display_data"
    },
    {
     "name": "stdout",
     "output_type": "stream",
     "text": [
      "Epoch 61 done — avg loss: 3.431566\n"
     ]
    },
    {
     "data": {
      "application/vnd.jupyter.widget-view+json": {
       "model_id": "01d629fa5579416ea5dd78eb373f2b0b",
       "version_major": 2,
       "version_minor": 0
      },
      "text/plain": [
       "Epoch 62:   0%|          | 0/25 [00:00<?, ?it/s]"
      ]
     },
     "metadata": {},
     "output_type": "display_data"
    },
    {
     "name": "stdout",
     "output_type": "stream",
     "text": [
      "Epoch 62 done — avg loss: 3.429476\n"
     ]
    },
    {
     "data": {
      "application/vnd.jupyter.widget-view+json": {
       "model_id": "d4c77be5033348aa882166e2261af67f",
       "version_major": 2,
       "version_minor": 0
      },
      "text/plain": [
       "Epoch 63:   0%|          | 0/25 [00:00<?, ?it/s]"
      ]
     },
     "metadata": {},
     "output_type": "display_data"
    },
    {
     "name": "stdout",
     "output_type": "stream",
     "text": [
      "Epoch 63 done — avg loss: 3.428041\n"
     ]
    },
    {
     "data": {
      "application/vnd.jupyter.widget-view+json": {
       "model_id": "0a2ccebf946f4104b99ba457f52264b2",
       "version_major": 2,
       "version_minor": 0
      },
      "text/plain": [
       "Epoch 64:   0%|          | 0/25 [00:00<?, ?it/s]"
      ]
     },
     "metadata": {},
     "output_type": "display_data"
    },
    {
     "name": "stdout",
     "output_type": "stream",
     "text": [
      "Epoch 64 done — avg loss: 3.426273\n"
     ]
    },
    {
     "data": {
      "application/vnd.jupyter.widget-view+json": {
       "model_id": "994fbe31427c4006be2669b8b200aa6c",
       "version_major": 2,
       "version_minor": 0
      },
      "text/plain": [
       "Epoch 65:   0%|          | 0/25 [00:00<?, ?it/s]"
      ]
     },
     "metadata": {},
     "output_type": "display_data"
    },
    {
     "name": "stdout",
     "output_type": "stream",
     "text": [
      "Epoch 65 done — avg loss: 3.424507\n"
     ]
    },
    {
     "data": {
      "application/vnd.jupyter.widget-view+json": {
       "model_id": "84303131033a4da1804c25fdb8d3422e",
       "version_major": 2,
       "version_minor": 0
      },
      "text/plain": [
       "Epoch 66:   0%|          | 0/25 [00:00<?, ?it/s]"
      ]
     },
     "metadata": {},
     "output_type": "display_data"
    },
    {
     "name": "stdout",
     "output_type": "stream",
     "text": [
      "Epoch 66 done — avg loss: 3.423778\n"
     ]
    },
    {
     "data": {
      "application/vnd.jupyter.widget-view+json": {
       "model_id": "23f78b75c3234bb1a2432ccee3ca5382",
       "version_major": 2,
       "version_minor": 0
      },
      "text/plain": [
       "Epoch 67:   0%|          | 0/25 [00:00<?, ?it/s]"
      ]
     },
     "metadata": {},
     "output_type": "display_data"
    },
    {
     "name": "stdout",
     "output_type": "stream",
     "text": [
      "Epoch 67 done — avg loss: 3.420636\n"
     ]
    },
    {
     "data": {
      "application/vnd.jupyter.widget-view+json": {
       "model_id": "1bdfc069b38a4caf86a8fca8fa7c7273",
       "version_major": 2,
       "version_minor": 0
      },
      "text/plain": [
       "Epoch 68:   0%|          | 0/25 [00:00<?, ?it/s]"
      ]
     },
     "metadata": {},
     "output_type": "display_data"
    },
    {
     "name": "stdout",
     "output_type": "stream",
     "text": [
      "Epoch 68 done — avg loss: 3.418862\n"
     ]
    },
    {
     "data": {
      "application/vnd.jupyter.widget-view+json": {
       "model_id": "e06babe1cad34cae9bb247e52d334dfd",
       "version_major": 2,
       "version_minor": 0
      },
      "text/plain": [
       "Epoch 69:   0%|          | 0/25 [00:00<?, ?it/s]"
      ]
     },
     "metadata": {},
     "output_type": "display_data"
    },
    {
     "name": "stdout",
     "output_type": "stream",
     "text": [
      "Epoch 69 done — avg loss: 3.417074\n"
     ]
    },
    {
     "data": {
      "application/vnd.jupyter.widget-view+json": {
       "model_id": "eef6043e0a544d78999feb04ed58a2f1",
       "version_major": 2,
       "version_minor": 0
      },
      "text/plain": [
       "Epoch 70:   0%|          | 0/25 [00:00<?, ?it/s]"
      ]
     },
     "metadata": {},
     "output_type": "display_data"
    },
    {
     "name": "stdout",
     "output_type": "stream",
     "text": [
      "Epoch 70 done — avg loss: 3.415429\n"
     ]
    },
    {
     "data": {
      "application/vnd.jupyter.widget-view+json": {
       "model_id": "1f91aa9201274baa90c053a2356a1ca5",
       "version_major": 2,
       "version_minor": 0
      },
      "text/plain": [
       "Epoch 71:   0%|          | 0/25 [00:00<?, ?it/s]"
      ]
     },
     "metadata": {},
     "output_type": "display_data"
    },
    {
     "name": "stdout",
     "output_type": "stream",
     "text": [
      "Epoch 71 done — avg loss: 3.413767\n"
     ]
    },
    {
     "data": {
      "application/vnd.jupyter.widget-view+json": {
       "model_id": "4891831fc22d445aa8eb5a1a7ac42b64",
       "version_major": 2,
       "version_minor": 0
      },
      "text/plain": [
       "Epoch 72:   0%|          | 0/25 [00:00<?, ?it/s]"
      ]
     },
     "metadata": {},
     "output_type": "display_data"
    },
    {
     "name": "stdout",
     "output_type": "stream",
     "text": [
      "Epoch 72 done — avg loss: 3.412787\n"
     ]
    },
    {
     "data": {
      "application/vnd.jupyter.widget-view+json": {
       "model_id": "65432701314246cebbfe25fe9a595e00",
       "version_major": 2,
       "version_minor": 0
      },
      "text/plain": [
       "Epoch 73:   0%|          | 0/25 [00:00<?, ?it/s]"
      ]
     },
     "metadata": {},
     "output_type": "display_data"
    },
    {
     "name": "stdout",
     "output_type": "stream",
     "text": [
      "Epoch 73 done — avg loss: 3.410901\n"
     ]
    },
    {
     "data": {
      "application/vnd.jupyter.widget-view+json": {
       "model_id": "dae60a914f414256afc8f690faf0ac55",
       "version_major": 2,
       "version_minor": 0
      },
      "text/plain": [
       "Epoch 74:   0%|          | 0/25 [00:00<?, ?it/s]"
      ]
     },
     "metadata": {},
     "output_type": "display_data"
    },
    {
     "name": "stdout",
     "output_type": "stream",
     "text": [
      "Epoch 74 done — avg loss: 3.408868\n"
     ]
    },
    {
     "data": {
      "application/vnd.jupyter.widget-view+json": {
       "model_id": "ee50b144653d4212b8b6923456962925",
       "version_major": 2,
       "version_minor": 0
      },
      "text/plain": [
       "Epoch 75:   0%|          | 0/25 [00:00<?, ?it/s]"
      ]
     },
     "metadata": {},
     "output_type": "display_data"
    },
    {
     "name": "stdout",
     "output_type": "stream",
     "text": [
      "Epoch 75 done — avg loss: 3.407089\n"
     ]
    },
    {
     "data": {
      "application/vnd.jupyter.widget-view+json": {
       "model_id": "8ebca2b84e7b471e8e4fbcbb842214fa",
       "version_major": 2,
       "version_minor": 0
      },
      "text/plain": [
       "Epoch 76:   0%|          | 0/25 [00:00<?, ?it/s]"
      ]
     },
     "metadata": {},
     "output_type": "display_data"
    },
    {
     "name": "stdout",
     "output_type": "stream",
     "text": [
      "Epoch 76 done — avg loss: 3.405484\n"
     ]
    },
    {
     "data": {
      "application/vnd.jupyter.widget-view+json": {
       "model_id": "1a7eb29edf71474e838645c208333a62",
       "version_major": 2,
       "version_minor": 0
      },
      "text/plain": [
       "Epoch 77:   0%|          | 0/25 [00:00<?, ?it/s]"
      ]
     },
     "metadata": {},
     "output_type": "display_data"
    },
    {
     "name": "stdout",
     "output_type": "stream",
     "text": [
      "Epoch 77 done — avg loss: 3.403692\n"
     ]
    },
    {
     "data": {
      "application/vnd.jupyter.widget-view+json": {
       "model_id": "29d186c00dbf46838aec13fcfe40eff5",
       "version_major": 2,
       "version_minor": 0
      },
      "text/plain": [
       "Epoch 78:   0%|          | 0/25 [00:00<?, ?it/s]"
      ]
     },
     "metadata": {},
     "output_type": "display_data"
    },
    {
     "name": "stdout",
     "output_type": "stream",
     "text": [
      "Epoch 78 done — avg loss: 3.402369\n"
     ]
    },
    {
     "data": {
      "application/vnd.jupyter.widget-view+json": {
       "model_id": "bb25c7f7b067460db63a74337a32885c",
       "version_major": 2,
       "version_minor": 0
      },
      "text/plain": [
       "Epoch 79:   0%|          | 0/25 [00:00<?, ?it/s]"
      ]
     },
     "metadata": {},
     "output_type": "display_data"
    },
    {
     "name": "stdout",
     "output_type": "stream",
     "text": [
      "Epoch 79 done — avg loss: 3.400834\n"
     ]
    },
    {
     "data": {
      "application/vnd.jupyter.widget-view+json": {
       "model_id": "3a82241a8a1844e69d32a257580b0dc5",
       "version_major": 2,
       "version_minor": 0
      },
      "text/plain": [
       "Epoch 80:   0%|          | 0/25 [00:00<?, ?it/s]"
      ]
     },
     "metadata": {},
     "output_type": "display_data"
    },
    {
     "name": "stdout",
     "output_type": "stream",
     "text": [
      "Epoch 80 done — avg loss: 3.398832\n"
     ]
    },
    {
     "data": {
      "application/vnd.jupyter.widget-view+json": {
       "model_id": "8fb6901b4ad14e2892a92c756afb9bf1",
       "version_major": 2,
       "version_minor": 0
      },
      "text/plain": [
       "Epoch 81:   0%|          | 0/25 [00:00<?, ?it/s]"
      ]
     },
     "metadata": {},
     "output_type": "display_data"
    },
    {
     "name": "stdout",
     "output_type": "stream",
     "text": [
      "Epoch 81 done — avg loss: 3.396729\n"
     ]
    },
    {
     "data": {
      "application/vnd.jupyter.widget-view+json": {
       "model_id": "2c0cd9a49dcf42699fb7435b49255abd",
       "version_major": 2,
       "version_minor": 0
      },
      "text/plain": [
       "Epoch 82:   0%|          | 0/25 [00:00<?, ?it/s]"
      ]
     },
     "metadata": {},
     "output_type": "display_data"
    },
    {
     "name": "stdout",
     "output_type": "stream",
     "text": [
      "Epoch 82 done — avg loss: 3.394901\n"
     ]
    },
    {
     "data": {
      "application/vnd.jupyter.widget-view+json": {
       "model_id": "95de554ecfa84a7e99012d8fecc76982",
       "version_major": 2,
       "version_minor": 0
      },
      "text/plain": [
       "Epoch 83:   0%|          | 0/25 [00:00<?, ?it/s]"
      ]
     },
     "metadata": {},
     "output_type": "display_data"
    },
    {
     "name": "stdout",
     "output_type": "stream",
     "text": [
      "Epoch 83 done — avg loss: 3.393420\n"
     ]
    },
    {
     "data": {
      "application/vnd.jupyter.widget-view+json": {
       "model_id": "341a652408594c0482d1bd49eebaca64",
       "version_major": 2,
       "version_minor": 0
      },
      "text/plain": [
       "Epoch 84:   0%|          | 0/25 [00:00<?, ?it/s]"
      ]
     },
     "metadata": {},
     "output_type": "display_data"
    },
    {
     "name": "stdout",
     "output_type": "stream",
     "text": [
      "Epoch 84 done — avg loss: 3.391425\n"
     ]
    },
    {
     "data": {
      "application/vnd.jupyter.widget-view+json": {
       "model_id": "8e369abfb7f040c5864b2429c3b29cca",
       "version_major": 2,
       "version_minor": 0
      },
      "text/plain": [
       "Epoch 85:   0%|          | 0/25 [00:00<?, ?it/s]"
      ]
     },
     "metadata": {},
     "output_type": "display_data"
    },
    {
     "name": "stdout",
     "output_type": "stream",
     "text": [
      "Epoch 85 done — avg loss: 3.389699\n"
     ]
    },
    {
     "data": {
      "application/vnd.jupyter.widget-view+json": {
       "model_id": "b5eb8f32cf3d427f9aa513e090e10354",
       "version_major": 2,
       "version_minor": 0
      },
      "text/plain": [
       "Epoch 86:   0%|          | 0/25 [00:00<?, ?it/s]"
      ]
     },
     "metadata": {},
     "output_type": "display_data"
    },
    {
     "name": "stdout",
     "output_type": "stream",
     "text": [
      "Epoch 86 done — avg loss: 3.388184\n"
     ]
    },
    {
     "data": {
      "application/vnd.jupyter.widget-view+json": {
       "model_id": "9f61cd00e24844fbb58054d6b43ec8e0",
       "version_major": 2,
       "version_minor": 0
      },
      "text/plain": [
       "Epoch 87:   0%|          | 0/25 [00:00<?, ?it/s]"
      ]
     },
     "metadata": {},
     "output_type": "display_data"
    },
    {
     "name": "stdout",
     "output_type": "stream",
     "text": [
      "Epoch 87 done — avg loss: 3.386693\n"
     ]
    },
    {
     "data": {
      "application/vnd.jupyter.widget-view+json": {
       "model_id": "fc991264810240acaa4678a332af6089",
       "version_major": 2,
       "version_minor": 0
      },
      "text/plain": [
       "Epoch 88:   0%|          | 0/25 [00:00<?, ?it/s]"
      ]
     },
     "metadata": {},
     "output_type": "display_data"
    },
    {
     "name": "stdout",
     "output_type": "stream",
     "text": [
      "Epoch 88 done — avg loss: 3.385214\n"
     ]
    },
    {
     "data": {
      "application/vnd.jupyter.widget-view+json": {
       "model_id": "022a413128b144b7b2c168708249e79f",
       "version_major": 2,
       "version_minor": 0
      },
      "text/plain": [
       "Epoch 89:   0%|          | 0/25 [00:00<?, ?it/s]"
      ]
     },
     "metadata": {},
     "output_type": "display_data"
    },
    {
     "name": "stdout",
     "output_type": "stream",
     "text": [
      "Epoch 89 done — avg loss: 3.383528\n"
     ]
    },
    {
     "data": {
      "application/vnd.jupyter.widget-view+json": {
       "model_id": "0c9dcadb37a9419ab2e735f7f3c29747",
       "version_major": 2,
       "version_minor": 0
      },
      "text/plain": [
       "Epoch 90:   0%|          | 0/25 [00:00<?, ?it/s]"
      ]
     },
     "metadata": {},
     "output_type": "display_data"
    },
    {
     "name": "stdout",
     "output_type": "stream",
     "text": [
      "Epoch 90 done — avg loss: 3.381722\n"
     ]
    },
    {
     "data": {
      "application/vnd.jupyter.widget-view+json": {
       "model_id": "ef4856d3cca742b382986a1e397c2b2e",
       "version_major": 2,
       "version_minor": 0
      },
      "text/plain": [
       "Epoch 91:   0%|          | 0/25 [00:00<?, ?it/s]"
      ]
     },
     "metadata": {},
     "output_type": "display_data"
    },
    {
     "name": "stdout",
     "output_type": "stream",
     "text": [
      "Epoch 91 done — avg loss: 3.380155\n"
     ]
    },
    {
     "data": {
      "application/vnd.jupyter.widget-view+json": {
       "model_id": "00f6d46fe0664814a90f27fb00152619",
       "version_major": 2,
       "version_minor": 0
      },
      "text/plain": [
       "Epoch 92:   0%|          | 0/25 [00:00<?, ?it/s]"
      ]
     },
     "metadata": {},
     "output_type": "display_data"
    },
    {
     "name": "stdout",
     "output_type": "stream",
     "text": [
      "Epoch 92 done — avg loss: 3.378564\n"
     ]
    },
    {
     "data": {
      "application/vnd.jupyter.widget-view+json": {
       "model_id": "ad9d25d11bda426694f345c726400cbb",
       "version_major": 2,
       "version_minor": 0
      },
      "text/plain": [
       "Epoch 93:   0%|          | 0/25 [00:00<?, ?it/s]"
      ]
     },
     "metadata": {},
     "output_type": "display_data"
    },
    {
     "name": "stdout",
     "output_type": "stream",
     "text": [
      "Epoch 93 done — avg loss: 3.376769\n"
     ]
    },
    {
     "data": {
      "application/vnd.jupyter.widget-view+json": {
       "model_id": "fb7da69821f64e6682e95b62e0166b5a",
       "version_major": 2,
       "version_minor": 0
      },
      "text/plain": [
       "Epoch 94:   0%|          | 0/25 [00:00<?, ?it/s]"
      ]
     },
     "metadata": {},
     "output_type": "display_data"
    },
    {
     "name": "stdout",
     "output_type": "stream",
     "text": [
      "Epoch 94 done — avg loss: 3.374980\n"
     ]
    },
    {
     "data": {
      "application/vnd.jupyter.widget-view+json": {
       "model_id": "2862c218e12b40d782b9eb67fef9e7cd",
       "version_major": 2,
       "version_minor": 0
      },
      "text/plain": [
       "Epoch 95:   0%|          | 0/25 [00:00<?, ?it/s]"
      ]
     },
     "metadata": {},
     "output_type": "display_data"
    },
    {
     "name": "stdout",
     "output_type": "stream",
     "text": [
      "Epoch 95 done — avg loss: 3.372956\n"
     ]
    },
    {
     "data": {
      "application/vnd.jupyter.widget-view+json": {
       "model_id": "dd6204acceef44808b264d19f3501065",
       "version_major": 2,
       "version_minor": 0
      },
      "text/plain": [
       "Epoch 96:   0%|          | 0/25 [00:00<?, ?it/s]"
      ]
     },
     "metadata": {},
     "output_type": "display_data"
    },
    {
     "name": "stdout",
     "output_type": "stream",
     "text": [
      "Epoch 96 done — avg loss: 3.371865\n"
     ]
    },
    {
     "data": {
      "application/vnd.jupyter.widget-view+json": {
       "model_id": "240d01d7e5714433b6d6bf85123252c6",
       "version_major": 2,
       "version_minor": 0
      },
      "text/plain": [
       "Epoch 97:   0%|          | 0/25 [00:00<?, ?it/s]"
      ]
     },
     "metadata": {},
     "output_type": "display_data"
    },
    {
     "name": "stdout",
     "output_type": "stream",
     "text": [
      "Epoch 97 done — avg loss: 3.370243\n"
     ]
    },
    {
     "data": {
      "application/vnd.jupyter.widget-view+json": {
       "model_id": "b6d3447c5ef748f9b2341a9949c9b15b",
       "version_major": 2,
       "version_minor": 0
      },
      "text/plain": [
       "Epoch 98:   0%|          | 0/25 [00:00<?, ?it/s]"
      ]
     },
     "metadata": {},
     "output_type": "display_data"
    },
    {
     "name": "stdout",
     "output_type": "stream",
     "text": [
      "Epoch 98 done — avg loss: 3.368529\n"
     ]
    },
    {
     "data": {
      "application/vnd.jupyter.widget-view+json": {
       "model_id": "0227e9435cf1465d9a57c1bddd02672b",
       "version_major": 2,
       "version_minor": 0
      },
      "text/plain": [
       "Epoch 99:   0%|          | 0/25 [00:00<?, ?it/s]"
      ]
     },
     "metadata": {},
     "output_type": "display_data"
    },
    {
     "name": "stdout",
     "output_type": "stream",
     "text": [
      "Epoch 99 done — avg loss: 3.366865\n"
     ]
    },
    {
     "data": {
      "application/vnd.jupyter.widget-view+json": {
       "model_id": "1a1a716c3ac848189d845783bc876b4c",
       "version_major": 2,
       "version_minor": 0
      },
      "text/plain": [
       "Epoch 100:   0%|          | 0/25 [00:00<?, ?it/s]"
      ]
     },
     "metadata": {},
     "output_type": "display_data"
    },
    {
     "name": "stdout",
     "output_type": "stream",
     "text": [
      "Epoch 100 done — avg loss: 3.365307\n"
     ]
    },
    {
     "data": {
      "application/vnd.jupyter.widget-view+json": {
       "model_id": "bc5a538b57504a3481aeb90bd7e6b40a",
       "version_major": 2,
       "version_minor": 0
      },
      "text/plain": [
       "Epoch 101:   0%|          | 0/25 [00:00<?, ?it/s]"
      ]
     },
     "metadata": {},
     "output_type": "display_data"
    },
    {
     "name": "stdout",
     "output_type": "stream",
     "text": [
      "Epoch 101 done — avg loss: 3.364080\n"
     ]
    },
    {
     "data": {
      "application/vnd.jupyter.widget-view+json": {
       "model_id": "4c188fb324a640259a90b075673d35da",
       "version_major": 2,
       "version_minor": 0
      },
      "text/plain": [
       "Epoch 102:   0%|          | 0/25 [00:00<?, ?it/s]"
      ]
     },
     "metadata": {},
     "output_type": "display_data"
    },
    {
     "name": "stdout",
     "output_type": "stream",
     "text": [
      "Epoch 102 done — avg loss: 3.362075\n"
     ]
    },
    {
     "data": {
      "application/vnd.jupyter.widget-view+json": {
       "model_id": "4bd947ca87f44ccfa233307880a50b86",
       "version_major": 2,
       "version_minor": 0
      },
      "text/plain": [
       "Epoch 103:   0%|          | 0/25 [00:00<?, ?it/s]"
      ]
     },
     "metadata": {},
     "output_type": "display_data"
    },
    {
     "name": "stdout",
     "output_type": "stream",
     "text": [
      "Epoch 103 done — avg loss: 3.360646\n"
     ]
    },
    {
     "data": {
      "application/vnd.jupyter.widget-view+json": {
       "model_id": "375cc3810deb4af5b4fd7ac32bbd2e3f",
       "version_major": 2,
       "version_minor": 0
      },
      "text/plain": [
       "Epoch 104:   0%|          | 0/25 [00:00<?, ?it/s]"
      ]
     },
     "metadata": {},
     "output_type": "display_data"
    },
    {
     "name": "stdout",
     "output_type": "stream",
     "text": [
      "Epoch 104 done — avg loss: 3.359262\n"
     ]
    },
    {
     "data": {
      "application/vnd.jupyter.widget-view+json": {
       "model_id": "8173c44d622e480b9a99ef4c4f81fa13",
       "version_major": 2,
       "version_minor": 0
      },
      "text/plain": [
       "Epoch 105:   0%|          | 0/25 [00:00<?, ?it/s]"
      ]
     },
     "metadata": {},
     "output_type": "display_data"
    },
    {
     "name": "stdout",
     "output_type": "stream",
     "text": [
      "Epoch 105 done — avg loss: 3.357739\n"
     ]
    },
    {
     "data": {
      "application/vnd.jupyter.widget-view+json": {
       "model_id": "e7c607e52f6748648544f0973aba2c32",
       "version_major": 2,
       "version_minor": 0
      },
      "text/plain": [
       "Epoch 106:   0%|          | 0/25 [00:00<?, ?it/s]"
      ]
     },
     "metadata": {},
     "output_type": "display_data"
    },
    {
     "name": "stdout",
     "output_type": "stream",
     "text": [
      "Epoch 106 done — avg loss: 3.355792\n"
     ]
    },
    {
     "data": {
      "application/vnd.jupyter.widget-view+json": {
       "model_id": "92c2bda204114109818263aee55206d7",
       "version_major": 2,
       "version_minor": 0
      },
      "text/plain": [
       "Epoch 107:   0%|          | 0/25 [00:00<?, ?it/s]"
      ]
     },
     "metadata": {},
     "output_type": "display_data"
    },
    {
     "name": "stdout",
     "output_type": "stream",
     "text": [
      "Epoch 107 done — avg loss: 3.354659\n"
     ]
    },
    {
     "data": {
      "application/vnd.jupyter.widget-view+json": {
       "model_id": "2844d889f84848b683d59ac296076dcd",
       "version_major": 2,
       "version_minor": 0
      },
      "text/plain": [
       "Epoch 108:   0%|          | 0/25 [00:00<?, ?it/s]"
      ]
     },
     "metadata": {},
     "output_type": "display_data"
    },
    {
     "name": "stdout",
     "output_type": "stream",
     "text": [
      "Epoch 108 done — avg loss: 3.353034\n"
     ]
    },
    {
     "data": {
      "application/vnd.jupyter.widget-view+json": {
       "model_id": "7febe52844df4fdf98a4e721dc176222",
       "version_major": 2,
       "version_minor": 0
      },
      "text/plain": [
       "Epoch 109:   0%|          | 0/25 [00:00<?, ?it/s]"
      ]
     },
     "metadata": {},
     "output_type": "display_data"
    },
    {
     "name": "stdout",
     "output_type": "stream",
     "text": [
      "Epoch 109 done — avg loss: 3.351960\n"
     ]
    },
    {
     "data": {
      "application/vnd.jupyter.widget-view+json": {
       "model_id": "b9304744b5f24b5f9aacd80d4d5670c6",
       "version_major": 2,
       "version_minor": 0
      },
      "text/plain": [
       "Epoch 110:   0%|          | 0/25 [00:00<?, ?it/s]"
      ]
     },
     "metadata": {},
     "output_type": "display_data"
    },
    {
     "name": "stdout",
     "output_type": "stream",
     "text": [
      "Epoch 110 done — avg loss: 3.350020\n"
     ]
    },
    {
     "data": {
      "application/vnd.jupyter.widget-view+json": {
       "model_id": "ae984014bf5841729abed0f5d540c8c8",
       "version_major": 2,
       "version_minor": 0
      },
      "text/plain": [
       "Epoch 111:   0%|          | 0/25 [00:00<?, ?it/s]"
      ]
     },
     "metadata": {},
     "output_type": "display_data"
    },
    {
     "name": "stdout",
     "output_type": "stream",
     "text": [
      "Epoch 111 done — avg loss: 3.347830\n"
     ]
    },
    {
     "data": {
      "application/vnd.jupyter.widget-view+json": {
       "model_id": "4113d5913d294eb5ba5794e08f25e7d8",
       "version_major": 2,
       "version_minor": 0
      },
      "text/plain": [
       "Epoch 112:   0%|          | 0/25 [00:00<?, ?it/s]"
      ]
     },
     "metadata": {},
     "output_type": "display_data"
    },
    {
     "name": "stdout",
     "output_type": "stream",
     "text": [
      "Epoch 112 done — avg loss: 3.346131\n"
     ]
    },
    {
     "data": {
      "application/vnd.jupyter.widget-view+json": {
       "model_id": "d33ff1898d8349aa83fe0e9ef3bed99a",
       "version_major": 2,
       "version_minor": 0
      },
      "text/plain": [
       "Epoch 113:   0%|          | 0/25 [00:00<?, ?it/s]"
      ]
     },
     "metadata": {},
     "output_type": "display_data"
    },
    {
     "name": "stdout",
     "output_type": "stream",
     "text": [
      "Epoch 113 done — avg loss: 3.344614\n"
     ]
    },
    {
     "data": {
      "application/vnd.jupyter.widget-view+json": {
       "model_id": "79d916c771094ccfb8719ea80f5fe9bc",
       "version_major": 2,
       "version_minor": 0
      },
      "text/plain": [
       "Epoch 114:   0%|          | 0/25 [00:00<?, ?it/s]"
      ]
     },
     "metadata": {},
     "output_type": "display_data"
    },
    {
     "name": "stdout",
     "output_type": "stream",
     "text": [
      "Epoch 114 done — avg loss: 3.342842\n"
     ]
    },
    {
     "data": {
      "application/vnd.jupyter.widget-view+json": {
       "model_id": "ac8d3868fd344bdeb0fde17bec179aae",
       "version_major": 2,
       "version_minor": 0
      },
      "text/plain": [
       "Epoch 115:   0%|          | 0/25 [00:00<?, ?it/s]"
      ]
     },
     "metadata": {},
     "output_type": "display_data"
    },
    {
     "name": "stdout",
     "output_type": "stream",
     "text": [
      "Epoch 115 done — avg loss: 3.341271\n"
     ]
    },
    {
     "data": {
      "application/vnd.jupyter.widget-view+json": {
       "model_id": "8c51bab2c2f443b0b37abaeeaa2f8805",
       "version_major": 2,
       "version_minor": 0
      },
      "text/plain": [
       "Epoch 116:   0%|          | 0/25 [00:00<?, ?it/s]"
      ]
     },
     "metadata": {},
     "output_type": "display_data"
    },
    {
     "name": "stdout",
     "output_type": "stream",
     "text": [
      "Epoch 116 done — avg loss: 3.339862\n"
     ]
    },
    {
     "data": {
      "application/vnd.jupyter.widget-view+json": {
       "model_id": "4d66c484f9e5483086b165fc26a74fa0",
       "version_major": 2,
       "version_minor": 0
      },
      "text/plain": [
       "Epoch 117:   0%|          | 0/25 [00:00<?, ?it/s]"
      ]
     },
     "metadata": {},
     "output_type": "display_data"
    },
    {
     "name": "stdout",
     "output_type": "stream",
     "text": [
      "Epoch 117 done — avg loss: 3.338582\n"
     ]
    },
    {
     "data": {
      "application/vnd.jupyter.widget-view+json": {
       "model_id": "0dcc11c741e7410492a9c0f6de3907c0",
       "version_major": 2,
       "version_minor": 0
      },
      "text/plain": [
       "Epoch 118:   0%|          | 0/25 [00:00<?, ?it/s]"
      ]
     },
     "metadata": {},
     "output_type": "display_data"
    },
    {
     "name": "stdout",
     "output_type": "stream",
     "text": [
      "Epoch 118 done — avg loss: 3.336290\n"
     ]
    },
    {
     "data": {
      "application/vnd.jupyter.widget-view+json": {
       "model_id": "459999bc2446404fa1cccec6bd2609d4",
       "version_major": 2,
       "version_minor": 0
      },
      "text/plain": [
       "Epoch 119:   0%|          | 0/25 [00:00<?, ?it/s]"
      ]
     },
     "metadata": {},
     "output_type": "display_data"
    },
    {
     "name": "stdout",
     "output_type": "stream",
     "text": [
      "Epoch 119 done — avg loss: 3.335004\n"
     ]
    },
    {
     "data": {
      "application/vnd.jupyter.widget-view+json": {
       "model_id": "cf3af15becdb4402b36943cb1798b0ab",
       "version_major": 2,
       "version_minor": 0
      },
      "text/plain": [
       "Epoch 120:   0%|          | 0/25 [00:00<?, ?it/s]"
      ]
     },
     "metadata": {},
     "output_type": "display_data"
    },
    {
     "name": "stdout",
     "output_type": "stream",
     "text": [
      "Epoch 120 done — avg loss: 3.333518\n"
     ]
    },
    {
     "data": {
      "application/vnd.jupyter.widget-view+json": {
       "model_id": "815372fda3884fc685e062052032b348",
       "version_major": 2,
       "version_minor": 0
      },
      "text/plain": [
       "Epoch 121:   0%|          | 0/25 [00:00<?, ?it/s]"
      ]
     },
     "metadata": {},
     "output_type": "display_data"
    },
    {
     "name": "stdout",
     "output_type": "stream",
     "text": [
      "Epoch 121 done — avg loss: 3.333386\n"
     ]
    },
    {
     "data": {
      "application/vnd.jupyter.widget-view+json": {
       "model_id": "e86e9337aa8f44db8a9cfded46f31c40",
       "version_major": 2,
       "version_minor": 0
      },
      "text/plain": [
       "Epoch 122:   0%|          | 0/25 [00:00<?, ?it/s]"
      ]
     },
     "metadata": {},
     "output_type": "display_data"
    },
    {
     "name": "stdout",
     "output_type": "stream",
     "text": [
      "Epoch 122 done — avg loss: 3.331497\n"
     ]
    },
    {
     "data": {
      "application/vnd.jupyter.widget-view+json": {
       "model_id": "b7b8d2e9df5e43aa923ccbc6a015be39",
       "version_major": 2,
       "version_minor": 0
      },
      "text/plain": [
       "Epoch 123:   0%|          | 0/25 [00:00<?, ?it/s]"
      ]
     },
     "metadata": {},
     "output_type": "display_data"
    },
    {
     "name": "stdout",
     "output_type": "stream",
     "text": [
      "Epoch 123 done — avg loss: 3.329319\n"
     ]
    },
    {
     "data": {
      "application/vnd.jupyter.widget-view+json": {
       "model_id": "c84b796191ea448a839a3c5880d29de0",
       "version_major": 2,
       "version_minor": 0
      },
      "text/plain": [
       "Epoch 124:   0%|          | 0/25 [00:00<?, ?it/s]"
      ]
     },
     "metadata": {},
     "output_type": "display_data"
    },
    {
     "name": "stdout",
     "output_type": "stream",
     "text": [
      "Epoch 124 done — avg loss: 3.327484\n"
     ]
    },
    {
     "data": {
      "application/vnd.jupyter.widget-view+json": {
       "model_id": "1d7df6233a1f437a91480bb9eff4000d",
       "version_major": 2,
       "version_minor": 0
      },
      "text/plain": [
       "Epoch 125:   0%|          | 0/25 [00:00<?, ?it/s]"
      ]
     },
     "metadata": {},
     "output_type": "display_data"
    },
    {
     "name": "stdout",
     "output_type": "stream",
     "text": [
      "Epoch 125 done — avg loss: 3.325558\n"
     ]
    },
    {
     "data": {
      "application/vnd.jupyter.widget-view+json": {
       "model_id": "5cc902397bab42dd860267b4ff99dc5d",
       "version_major": 2,
       "version_minor": 0
      },
      "text/plain": [
       "Epoch 126:   0%|          | 0/25 [00:00<?, ?it/s]"
      ]
     },
     "metadata": {},
     "output_type": "display_data"
    },
    {
     "name": "stdout",
     "output_type": "stream",
     "text": [
      "Epoch 126 done — avg loss: 3.324797\n"
     ]
    },
    {
     "data": {
      "application/vnd.jupyter.widget-view+json": {
       "model_id": "2b08b6816e5842d491649b43cc283c71",
       "version_major": 2,
       "version_minor": 0
      },
      "text/plain": [
       "Epoch 127:   0%|          | 0/25 [00:00<?, ?it/s]"
      ]
     },
     "metadata": {},
     "output_type": "display_data"
    },
    {
     "name": "stdout",
     "output_type": "stream",
     "text": [
      "Epoch 127 done — avg loss: 3.323690\n"
     ]
    },
    {
     "data": {
      "application/vnd.jupyter.widget-view+json": {
       "model_id": "22bd067666e44946847f072ce6919873",
       "version_major": 2,
       "version_minor": 0
      },
      "text/plain": [
       "Epoch 128:   0%|          | 0/25 [00:00<?, ?it/s]"
      ]
     },
     "metadata": {},
     "output_type": "display_data"
    },
    {
     "name": "stdout",
     "output_type": "stream",
     "text": [
      "Epoch 128 done — avg loss: 3.322160\n"
     ]
    },
    {
     "data": {
      "application/vnd.jupyter.widget-view+json": {
       "model_id": "d083426a59bb4913b0837905162c4f59",
       "version_major": 2,
       "version_minor": 0
      },
      "text/plain": [
       "Epoch 129:   0%|          | 0/25 [00:00<?, ?it/s]"
      ]
     },
     "metadata": {},
     "output_type": "display_data"
    },
    {
     "name": "stdout",
     "output_type": "stream",
     "text": [
      "Epoch 129 done — avg loss: 3.320332\n"
     ]
    },
    {
     "data": {
      "application/vnd.jupyter.widget-view+json": {
       "model_id": "f103f18748b24c47ba7a5bfb10e3f1a7",
       "version_major": 2,
       "version_minor": 0
      },
      "text/plain": [
       "Epoch 130:   0%|          | 0/25 [00:00<?, ?it/s]"
      ]
     },
     "metadata": {},
     "output_type": "display_data"
    },
    {
     "name": "stdout",
     "output_type": "stream",
     "text": [
      "Epoch 130 done — avg loss: 3.317945\n"
     ]
    },
    {
     "data": {
      "application/vnd.jupyter.widget-view+json": {
       "model_id": "52dba629c5f7475d880aed853afd110d",
       "version_major": 2,
       "version_minor": 0
      },
      "text/plain": [
       "Epoch 131:   0%|          | 0/25 [00:00<?, ?it/s]"
      ]
     },
     "metadata": {},
     "output_type": "display_data"
    },
    {
     "name": "stdout",
     "output_type": "stream",
     "text": [
      "Epoch 131 done — avg loss: 3.316223\n"
     ]
    },
    {
     "data": {
      "application/vnd.jupyter.widget-view+json": {
       "model_id": "ac867736393b47be885b17b7c42267ea",
       "version_major": 2,
       "version_minor": 0
      },
      "text/plain": [
       "Epoch 132:   0%|          | 0/25 [00:00<?, ?it/s]"
      ]
     },
     "metadata": {},
     "output_type": "display_data"
    },
    {
     "name": "stdout",
     "output_type": "stream",
     "text": [
      "Epoch 132 done — avg loss: 3.314527\n"
     ]
    },
    {
     "data": {
      "application/vnd.jupyter.widget-view+json": {
       "model_id": "cdc5dbbe4b54462f84b7fd8dbea1d8fc",
       "version_major": 2,
       "version_minor": 0
      },
      "text/plain": [
       "Epoch 133:   0%|          | 0/25 [00:00<?, ?it/s]"
      ]
     },
     "metadata": {},
     "output_type": "display_data"
    },
    {
     "name": "stdout",
     "output_type": "stream",
     "text": [
      "Epoch 133 done — avg loss: 3.312892\n"
     ]
    },
    {
     "data": {
      "application/vnd.jupyter.widget-view+json": {
       "model_id": "1c038419c4394adf81dfb680bb6872ad",
       "version_major": 2,
       "version_minor": 0
      },
      "text/plain": [
       "Epoch 134:   0%|          | 0/25 [00:00<?, ?it/s]"
      ]
     },
     "metadata": {},
     "output_type": "display_data"
    },
    {
     "name": "stdout",
     "output_type": "stream",
     "text": [
      "Epoch 134 done — avg loss: 3.310907\n"
     ]
    },
    {
     "data": {
      "application/vnd.jupyter.widget-view+json": {
       "model_id": "f495875603294241aac7d1d724c361c7",
       "version_major": 2,
       "version_minor": 0
      },
      "text/plain": [
       "Epoch 135:   0%|          | 0/25 [00:00<?, ?it/s]"
      ]
     },
     "metadata": {},
     "output_type": "display_data"
    },
    {
     "name": "stdout",
     "output_type": "stream",
     "text": [
      "Epoch 135 done — avg loss: 3.310505\n"
     ]
    },
    {
     "data": {
      "application/vnd.jupyter.widget-view+json": {
       "model_id": "b4b3f0f11f144cf087dd2e8ddf6f46e2",
       "version_major": 2,
       "version_minor": 0
      },
      "text/plain": [
       "Epoch 136:   0%|          | 0/25 [00:00<?, ?it/s]"
      ]
     },
     "metadata": {},
     "output_type": "display_data"
    },
    {
     "name": "stdout",
     "output_type": "stream",
     "text": [
      "Epoch 136 done — avg loss: 3.309522\n"
     ]
    },
    {
     "data": {
      "application/vnd.jupyter.widget-view+json": {
       "model_id": "7e8f94b3f71f438d84644118a03e964d",
       "version_major": 2,
       "version_minor": 0
      },
      "text/plain": [
       "Epoch 137:   0%|          | 0/25 [00:00<?, ?it/s]"
      ]
     },
     "metadata": {},
     "output_type": "display_data"
    },
    {
     "name": "stdout",
     "output_type": "stream",
     "text": [
      "Epoch 137 done — avg loss: 3.307240\n"
     ]
    },
    {
     "data": {
      "application/vnd.jupyter.widget-view+json": {
       "model_id": "c6d8b4d4e81d4885a7cf39491d685418",
       "version_major": 2,
       "version_minor": 0
      },
      "text/plain": [
       "Epoch 138:   0%|          | 0/25 [00:00<?, ?it/s]"
      ]
     },
     "metadata": {},
     "output_type": "display_data"
    },
    {
     "name": "stdout",
     "output_type": "stream",
     "text": [
      "Epoch 138 done — avg loss: 3.305277\n"
     ]
    },
    {
     "data": {
      "application/vnd.jupyter.widget-view+json": {
       "model_id": "b2ae05a1a68b498eabea7e26930fdfc6",
       "version_major": 2,
       "version_minor": 0
      },
      "text/plain": [
       "Epoch 139:   0%|          | 0/25 [00:00<?, ?it/s]"
      ]
     },
     "metadata": {},
     "output_type": "display_data"
    },
    {
     "name": "stdout",
     "output_type": "stream",
     "text": [
      "Epoch 139 done — avg loss: 3.303973\n"
     ]
    },
    {
     "data": {
      "application/vnd.jupyter.widget-view+json": {
       "model_id": "f243e6ef229242daa800651864a826f4",
       "version_major": 2,
       "version_minor": 0
      },
      "text/plain": [
       "Epoch 140:   0%|          | 0/25 [00:00<?, ?it/s]"
      ]
     },
     "metadata": {},
     "output_type": "display_data"
    },
    {
     "name": "stdout",
     "output_type": "stream",
     "text": [
      "Epoch 140 done — avg loss: 3.302469\n"
     ]
    },
    {
     "data": {
      "application/vnd.jupyter.widget-view+json": {
       "model_id": "f016d0d7d1b649ebb7cabd5ec53bd7fa",
       "version_major": 2,
       "version_minor": 0
      },
      "text/plain": [
       "Epoch 141:   0%|          | 0/25 [00:00<?, ?it/s]"
      ]
     },
     "metadata": {},
     "output_type": "display_data"
    },
    {
     "name": "stdout",
     "output_type": "stream",
     "text": [
      "Epoch 141 done — avg loss: 3.301371\n"
     ]
    },
    {
     "data": {
      "application/vnd.jupyter.widget-view+json": {
       "model_id": "ffae59310c584dc090498a727cc845cb",
       "version_major": 2,
       "version_minor": 0
      },
      "text/plain": [
       "Epoch 142:   0%|          | 0/25 [00:00<?, ?it/s]"
      ]
     },
     "metadata": {},
     "output_type": "display_data"
    },
    {
     "name": "stdout",
     "output_type": "stream",
     "text": [
      "Epoch 142 done — avg loss: 3.300118\n"
     ]
    },
    {
     "data": {
      "application/vnd.jupyter.widget-view+json": {
       "model_id": "15d1ccd293324776b460fc048fb23109",
       "version_major": 2,
       "version_minor": 0
      },
      "text/plain": [
       "Epoch 143:   0%|          | 0/25 [00:00<?, ?it/s]"
      ]
     },
     "metadata": {},
     "output_type": "display_data"
    },
    {
     "name": "stdout",
     "output_type": "stream",
     "text": [
      "Epoch 143 done — avg loss: 3.298000\n"
     ]
    },
    {
     "data": {
      "application/vnd.jupyter.widget-view+json": {
       "model_id": "1439258295c74d858d035e15c6377f10",
       "version_major": 2,
       "version_minor": 0
      },
      "text/plain": [
       "Epoch 144:   0%|          | 0/25 [00:00<?, ?it/s]"
      ]
     },
     "metadata": {},
     "output_type": "display_data"
    },
    {
     "name": "stdout",
     "output_type": "stream",
     "text": [
      "Epoch 144 done — avg loss: 3.296122\n"
     ]
    },
    {
     "data": {
      "application/vnd.jupyter.widget-view+json": {
       "model_id": "226a0fc68af543c8b5e3d4b1bad9d6e7",
       "version_major": 2,
       "version_minor": 0
      },
      "text/plain": [
       "Epoch 145:   0%|          | 0/25 [00:00<?, ?it/s]"
      ]
     },
     "metadata": {},
     "output_type": "display_data"
    },
    {
     "name": "stdout",
     "output_type": "stream",
     "text": [
      "Epoch 145 done — avg loss: 3.294421\n"
     ]
    },
    {
     "data": {
      "application/vnd.jupyter.widget-view+json": {
       "model_id": "9da0de283d3e4abd94b1fc8b2fcc1cc1",
       "version_major": 2,
       "version_minor": 0
      },
      "text/plain": [
       "Epoch 146:   0%|          | 0/25 [00:00<?, ?it/s]"
      ]
     },
     "metadata": {},
     "output_type": "display_data"
    },
    {
     "name": "stdout",
     "output_type": "stream",
     "text": [
      "Epoch 146 done — avg loss: 3.293479\n"
     ]
    },
    {
     "data": {
      "application/vnd.jupyter.widget-view+json": {
       "model_id": "ca5fe2d292f748229ed0d29a1fcadc50",
       "version_major": 2,
       "version_minor": 0
      },
      "text/plain": [
       "Epoch 147:   0%|          | 0/25 [00:00<?, ?it/s]"
      ]
     },
     "metadata": {},
     "output_type": "display_data"
    },
    {
     "name": "stdout",
     "output_type": "stream",
     "text": [
      "Epoch 147 done — avg loss: 3.291662\n"
     ]
    },
    {
     "data": {
      "application/vnd.jupyter.widget-view+json": {
       "model_id": "544dad5ed23c4fba89cff8345ed222e9",
       "version_major": 2,
       "version_minor": 0
      },
      "text/plain": [
       "Epoch 148:   0%|          | 0/25 [00:00<?, ?it/s]"
      ]
     },
     "metadata": {},
     "output_type": "display_data"
    },
    {
     "name": "stdout",
     "output_type": "stream",
     "text": [
      "Epoch 148 done — avg loss: 3.290686\n"
     ]
    },
    {
     "data": {
      "application/vnd.jupyter.widget-view+json": {
       "model_id": "f96208c137b240608b3ac29f3a9c61ae",
       "version_major": 2,
       "version_minor": 0
      },
      "text/plain": [
       "Epoch 149:   0%|          | 0/25 [00:00<?, ?it/s]"
      ]
     },
     "metadata": {},
     "output_type": "display_data"
    },
    {
     "name": "stdout",
     "output_type": "stream",
     "text": [
      "Epoch 149 done — avg loss: 3.288853\n"
     ]
    },
    {
     "data": {
      "application/vnd.jupyter.widget-view+json": {
       "model_id": "7a831ee3d7ef4c39994976d9522d91a8",
       "version_major": 2,
       "version_minor": 0
      },
      "text/plain": [
       "Epoch 150:   0%|          | 0/25 [00:00<?, ?it/s]"
      ]
     },
     "metadata": {},
     "output_type": "display_data"
    },
    {
     "name": "stdout",
     "output_type": "stream",
     "text": [
      "Epoch 150 done — avg loss: 3.286949\n"
     ]
    },
    {
     "data": {
      "application/vnd.jupyter.widget-view+json": {
       "model_id": "2ae61371087a4628bc1f634f4daabd23",
       "version_major": 2,
       "version_minor": 0
      },
      "text/plain": [
       "Epoch 151:   0%|          | 0/25 [00:00<?, ?it/s]"
      ]
     },
     "metadata": {},
     "output_type": "display_data"
    },
    {
     "name": "stdout",
     "output_type": "stream",
     "text": [
      "Epoch 151 done — avg loss: 3.286348\n"
     ]
    },
    {
     "data": {
      "application/vnd.jupyter.widget-view+json": {
       "model_id": "13ef887da2ed423eabedaaaf81a29c23",
       "version_major": 2,
       "version_minor": 0
      },
      "text/plain": [
       "Epoch 152:   0%|          | 0/25 [00:00<?, ?it/s]"
      ]
     },
     "metadata": {},
     "output_type": "display_data"
    },
    {
     "name": "stdout",
     "output_type": "stream",
     "text": [
      "Epoch 152 done — avg loss: 3.284607\n"
     ]
    },
    {
     "data": {
      "application/vnd.jupyter.widget-view+json": {
       "model_id": "d9fda5423f4d4aceaea6c9420ebde366",
       "version_major": 2,
       "version_minor": 0
      },
      "text/plain": [
       "Epoch 153:   0%|          | 0/25 [00:00<?, ?it/s]"
      ]
     },
     "metadata": {},
     "output_type": "display_data"
    },
    {
     "name": "stdout",
     "output_type": "stream",
     "text": [
      "Epoch 153 done — avg loss: 3.283015\n"
     ]
    },
    {
     "data": {
      "application/vnd.jupyter.widget-view+json": {
       "model_id": "10f84b23b3b146cd871c28f7ae399534",
       "version_major": 2,
       "version_minor": 0
      },
      "text/plain": [
       "Epoch 154:   0%|          | 0/25 [00:00<?, ?it/s]"
      ]
     },
     "metadata": {},
     "output_type": "display_data"
    },
    {
     "name": "stdout",
     "output_type": "stream",
     "text": [
      "Epoch 154 done — avg loss: 3.281917\n"
     ]
    },
    {
     "data": {
      "application/vnd.jupyter.widget-view+json": {
       "model_id": "302f3d15bc654b8c8c70931812ba7eec",
       "version_major": 2,
       "version_minor": 0
      },
      "text/plain": [
       "Epoch 155:   0%|          | 0/25 [00:00<?, ?it/s]"
      ]
     },
     "metadata": {},
     "output_type": "display_data"
    },
    {
     "name": "stdout",
     "output_type": "stream",
     "text": [
      "Epoch 155 done — avg loss: 3.280672\n"
     ]
    },
    {
     "data": {
      "application/vnd.jupyter.widget-view+json": {
       "model_id": "ef11a95b146c4981bd9897ed048b60ab",
       "version_major": 2,
       "version_minor": 0
      },
      "text/plain": [
       "Epoch 156:   0%|          | 0/25 [00:00<?, ?it/s]"
      ]
     },
     "metadata": {},
     "output_type": "display_data"
    },
    {
     "name": "stdout",
     "output_type": "stream",
     "text": [
      "Epoch 156 done — avg loss: 3.278806\n"
     ]
    },
    {
     "data": {
      "application/vnd.jupyter.widget-view+json": {
       "model_id": "172d21df815b45d3bd5ff79d89a477d1",
       "version_major": 2,
       "version_minor": 0
      },
      "text/plain": [
       "Epoch 157:   0%|          | 0/25 [00:00<?, ?it/s]"
      ]
     },
     "metadata": {},
     "output_type": "display_data"
    },
    {
     "name": "stdout",
     "output_type": "stream",
     "text": [
      "Epoch 157 done — avg loss: 3.277473\n"
     ]
    },
    {
     "data": {
      "application/vnd.jupyter.widget-view+json": {
       "model_id": "ef552b648c3945c687bc09e8b6f1b13a",
       "version_major": 2,
       "version_minor": 0
      },
      "text/plain": [
       "Epoch 158:   0%|          | 0/25 [00:00<?, ?it/s]"
      ]
     },
     "metadata": {},
     "output_type": "display_data"
    },
    {
     "name": "stdout",
     "output_type": "stream",
     "text": [
      "Epoch 158 done — avg loss: 3.276681\n"
     ]
    },
    {
     "data": {
      "application/vnd.jupyter.widget-view+json": {
       "model_id": "5adcce8fdac049e4a49ac73d4385ee6e",
       "version_major": 2,
       "version_minor": 0
      },
      "text/plain": [
       "Epoch 159:   0%|          | 0/25 [00:00<?, ?it/s]"
      ]
     },
     "metadata": {},
     "output_type": "display_data"
    },
    {
     "name": "stdout",
     "output_type": "stream",
     "text": [
      "Epoch 159 done — avg loss: 3.275196\n"
     ]
    },
    {
     "data": {
      "application/vnd.jupyter.widget-view+json": {
       "model_id": "8d3e6e399d974bd2ad1b0360360a7f0f",
       "version_major": 2,
       "version_minor": 0
      },
      "text/plain": [
       "Epoch 160:   0%|          | 0/25 [00:00<?, ?it/s]"
      ]
     },
     "metadata": {},
     "output_type": "display_data"
    },
    {
     "name": "stdout",
     "output_type": "stream",
     "text": [
      "Epoch 160 done — avg loss: 3.272729\n"
     ]
    },
    {
     "data": {
      "application/vnd.jupyter.widget-view+json": {
       "model_id": "0862eb7fdf024599876ca8ae7f41c2a0",
       "version_major": 2,
       "version_minor": 0
      },
      "text/plain": [
       "Epoch 161:   0%|          | 0/25 [00:00<?, ?it/s]"
      ]
     },
     "metadata": {},
     "output_type": "display_data"
    },
    {
     "name": "stdout",
     "output_type": "stream",
     "text": [
      "Epoch 161 done — avg loss: 3.271802\n"
     ]
    },
    {
     "data": {
      "application/vnd.jupyter.widget-view+json": {
       "model_id": "a4e6c0e3cb1b400387b77689987a8f85",
       "version_major": 2,
       "version_minor": 0
      },
      "text/plain": [
       "Epoch 162:   0%|          | 0/25 [00:00<?, ?it/s]"
      ]
     },
     "metadata": {},
     "output_type": "display_data"
    },
    {
     "name": "stdout",
     "output_type": "stream",
     "text": [
      "Epoch 162 done — avg loss: 3.270238\n"
     ]
    },
    {
     "data": {
      "application/vnd.jupyter.widget-view+json": {
       "model_id": "f3d6c1c4233d46d0aab51ea6dd08539e",
       "version_major": 2,
       "version_minor": 0
      },
      "text/plain": [
       "Epoch 163:   0%|          | 0/25 [00:00<?, ?it/s]"
      ]
     },
     "metadata": {},
     "output_type": "display_data"
    },
    {
     "name": "stdout",
     "output_type": "stream",
     "text": [
      "Epoch 163 done — avg loss: 3.268510\n"
     ]
    },
    {
     "data": {
      "application/vnd.jupyter.widget-view+json": {
       "model_id": "5794bdb41585405fadac5ac3613058e1",
       "version_major": 2,
       "version_minor": 0
      },
      "text/plain": [
       "Epoch 164:   0%|          | 0/25 [00:00<?, ?it/s]"
      ]
     },
     "metadata": {},
     "output_type": "display_data"
    },
    {
     "name": "stdout",
     "output_type": "stream",
     "text": [
      "Epoch 164 done — avg loss: 3.268145\n"
     ]
    },
    {
     "data": {
      "application/vnd.jupyter.widget-view+json": {
       "model_id": "a4f2aeb5e034405db239882d4cc8070e",
       "version_major": 2,
       "version_minor": 0
      },
      "text/plain": [
       "Epoch 165:   0%|          | 0/25 [00:00<?, ?it/s]"
      ]
     },
     "metadata": {},
     "output_type": "display_data"
    },
    {
     "name": "stdout",
     "output_type": "stream",
     "text": [
      "Epoch 165 done — avg loss: 3.266743\n"
     ]
    },
    {
     "data": {
      "application/vnd.jupyter.widget-view+json": {
       "model_id": "4db7075839e04ae99b761955f0299d54",
       "version_major": 2,
       "version_minor": 0
      },
      "text/plain": [
       "Epoch 166:   0%|          | 0/25 [00:00<?, ?it/s]"
      ]
     },
     "metadata": {},
     "output_type": "display_data"
    },
    {
     "name": "stdout",
     "output_type": "stream",
     "text": [
      "Epoch 166 done — avg loss: 3.265305\n"
     ]
    },
    {
     "data": {
      "application/vnd.jupyter.widget-view+json": {
       "model_id": "4e8c1b02274f4a65a53c0c18df9ef03b",
       "version_major": 2,
       "version_minor": 0
      },
      "text/plain": [
       "Epoch 167:   0%|          | 0/25 [00:00<?, ?it/s]"
      ]
     },
     "metadata": {},
     "output_type": "display_data"
    },
    {
     "name": "stdout",
     "output_type": "stream",
     "text": [
      "Epoch 167 done — avg loss: 3.263272\n"
     ]
    },
    {
     "data": {
      "application/vnd.jupyter.widget-view+json": {
       "model_id": "e4082b97d9f94f84907d7f19a8bccf39",
       "version_major": 2,
       "version_minor": 0
      },
      "text/plain": [
       "Epoch 168:   0%|          | 0/25 [00:00<?, ?it/s]"
      ]
     },
     "metadata": {},
     "output_type": "display_data"
    },
    {
     "name": "stdout",
     "output_type": "stream",
     "text": [
      "Epoch 168 done — avg loss: 3.262216\n"
     ]
    },
    {
     "data": {
      "application/vnd.jupyter.widget-view+json": {
       "model_id": "579b3fae27da4b20b0f795c45513c249",
       "version_major": 2,
       "version_minor": 0
      },
      "text/plain": [
       "Epoch 169:   0%|          | 0/25 [00:00<?, ?it/s]"
      ]
     },
     "metadata": {},
     "output_type": "display_data"
    },
    {
     "name": "stdout",
     "output_type": "stream",
     "text": [
      "Epoch 169 done — avg loss: 3.261426\n"
     ]
    },
    {
     "data": {
      "application/vnd.jupyter.widget-view+json": {
       "model_id": "db33cf8525374627abc28d00a270d853",
       "version_major": 2,
       "version_minor": 0
      },
      "text/plain": [
       "Epoch 170:   0%|          | 0/25 [00:00<?, ?it/s]"
      ]
     },
     "metadata": {},
     "output_type": "display_data"
    },
    {
     "name": "stdout",
     "output_type": "stream",
     "text": [
      "Epoch 170 done — avg loss: 3.260080\n"
     ]
    },
    {
     "data": {
      "application/vnd.jupyter.widget-view+json": {
       "model_id": "01c93471b0af475eb9e239485ff4901d",
       "version_major": 2,
       "version_minor": 0
      },
      "text/plain": [
       "Epoch 171:   0%|          | 0/25 [00:00<?, ?it/s]"
      ]
     },
     "metadata": {},
     "output_type": "display_data"
    },
    {
     "name": "stdout",
     "output_type": "stream",
     "text": [
      "Epoch 171 done — avg loss: 3.258877\n"
     ]
    },
    {
     "data": {
      "application/vnd.jupyter.widget-view+json": {
       "model_id": "fc539c6ea90e4447aec32e6a066a9fca",
       "version_major": 2,
       "version_minor": 0
      },
      "text/plain": [
       "Epoch 172:   0%|          | 0/25 [00:00<?, ?it/s]"
      ]
     },
     "metadata": {},
     "output_type": "display_data"
    },
    {
     "name": "stdout",
     "output_type": "stream",
     "text": [
      "Epoch 172 done — avg loss: 3.257165\n"
     ]
    },
    {
     "data": {
      "application/vnd.jupyter.widget-view+json": {
       "model_id": "c8bb6f58be884965a92c3f4e94a6a907",
       "version_major": 2,
       "version_minor": 0
      },
      "text/plain": [
       "Epoch 173:   0%|          | 0/25 [00:00<?, ?it/s]"
      ]
     },
     "metadata": {},
     "output_type": "display_data"
    },
    {
     "name": "stdout",
     "output_type": "stream",
     "text": [
      "Epoch 173 done — avg loss: 3.254222\n"
     ]
    },
    {
     "data": {
      "application/vnd.jupyter.widget-view+json": {
       "model_id": "db8684e1f5be42988f46e8e1bee7ff2e",
       "version_major": 2,
       "version_minor": 0
      },
      "text/plain": [
       "Epoch 174:   0%|          | 0/25 [00:00<?, ?it/s]"
      ]
     },
     "metadata": {},
     "output_type": "display_data"
    },
    {
     "name": "stdout",
     "output_type": "stream",
     "text": [
      "Epoch 174 done — avg loss: 3.252955\n"
     ]
    },
    {
     "data": {
      "application/vnd.jupyter.widget-view+json": {
       "model_id": "b00b87f39f8e4140958e851b531d8224",
       "version_major": 2,
       "version_minor": 0
      },
      "text/plain": [
       "Epoch 175:   0%|          | 0/25 [00:00<?, ?it/s]"
      ]
     },
     "metadata": {},
     "output_type": "display_data"
    },
    {
     "name": "stdout",
     "output_type": "stream",
     "text": [
      "Epoch 175 done — avg loss: 3.251758\n"
     ]
    },
    {
     "data": {
      "application/vnd.jupyter.widget-view+json": {
       "model_id": "fcff1aef815c4ea5ab572a3a1da7a5a5",
       "version_major": 2,
       "version_minor": 0
      },
      "text/plain": [
       "Epoch 176:   0%|          | 0/25 [00:00<?, ?it/s]"
      ]
     },
     "metadata": {},
     "output_type": "display_data"
    },
    {
     "name": "stdout",
     "output_type": "stream",
     "text": [
      "Epoch 176 done — avg loss: 3.251232\n"
     ]
    },
    {
     "data": {
      "application/vnd.jupyter.widget-view+json": {
       "model_id": "468104c55ee84255a9bfd3e9f4e3b2f7",
       "version_major": 2,
       "version_minor": 0
      },
      "text/plain": [
       "Epoch 177:   0%|          | 0/25 [00:00<?, ?it/s]"
      ]
     },
     "metadata": {},
     "output_type": "display_data"
    },
    {
     "name": "stdout",
     "output_type": "stream",
     "text": [
      "Epoch 177 done — avg loss: 3.250094\n"
     ]
    },
    {
     "data": {
      "application/vnd.jupyter.widget-view+json": {
       "model_id": "bb83407560bd4011b6193c5245d4f171",
       "version_major": 2,
       "version_minor": 0
      },
      "text/plain": [
       "Epoch 178:   0%|          | 0/25 [00:00<?, ?it/s]"
      ]
     },
     "metadata": {},
     "output_type": "display_data"
    },
    {
     "name": "stdout",
     "output_type": "stream",
     "text": [
      "Epoch 178 done — avg loss: 3.249242\n"
     ]
    },
    {
     "data": {
      "application/vnd.jupyter.widget-view+json": {
       "model_id": "3d3140635fe14b498cd35885799e0985",
       "version_major": 2,
       "version_minor": 0
      },
      "text/plain": [
       "Epoch 179:   0%|          | 0/25 [00:00<?, ?it/s]"
      ]
     },
     "metadata": {},
     "output_type": "display_data"
    },
    {
     "name": "stdout",
     "output_type": "stream",
     "text": [
      "Epoch 179 done — avg loss: 3.247233\n"
     ]
    },
    {
     "data": {
      "application/vnd.jupyter.widget-view+json": {
       "model_id": "e87ee8b3d261414ba4f71dc3f523c14d",
       "version_major": 2,
       "version_minor": 0
      },
      "text/plain": [
       "Epoch 180:   0%|          | 0/25 [00:00<?, ?it/s]"
      ]
     },
     "metadata": {},
     "output_type": "display_data"
    },
    {
     "name": "stdout",
     "output_type": "stream",
     "text": [
      "Epoch 180 done — avg loss: 3.244890\n"
     ]
    },
    {
     "data": {
      "application/vnd.jupyter.widget-view+json": {
       "model_id": "bd446dc750c64235a5c3985831c2719f",
       "version_major": 2,
       "version_minor": 0
      },
      "text/plain": [
       "Epoch 181:   0%|          | 0/25 [00:00<?, ?it/s]"
      ]
     },
     "metadata": {},
     "output_type": "display_data"
    },
    {
     "name": "stdout",
     "output_type": "stream",
     "text": [
      "Epoch 181 done — avg loss: 3.244141\n"
     ]
    },
    {
     "data": {
      "application/vnd.jupyter.widget-view+json": {
       "model_id": "a0ad3482473d4fe9a0396954a292edb4",
       "version_major": 2,
       "version_minor": 0
      },
      "text/plain": [
       "Epoch 182:   0%|          | 0/25 [00:00<?, ?it/s]"
      ]
     },
     "metadata": {},
     "output_type": "display_data"
    },
    {
     "name": "stdout",
     "output_type": "stream",
     "text": [
      "Epoch 182 done — avg loss: 3.241951\n"
     ]
    },
    {
     "data": {
      "application/vnd.jupyter.widget-view+json": {
       "model_id": "a9662760c7884880ab82a1fb4e5e7a2d",
       "version_major": 2,
       "version_minor": 0
      },
      "text/plain": [
       "Epoch 183:   0%|          | 0/25 [00:00<?, ?it/s]"
      ]
     },
     "metadata": {},
     "output_type": "display_data"
    },
    {
     "name": "stdout",
     "output_type": "stream",
     "text": [
      "Epoch 183 done — avg loss: 3.240750\n"
     ]
    },
    {
     "data": {
      "application/vnd.jupyter.widget-view+json": {
       "model_id": "8266e2dc8c8e4f3caca737c2a664db7a",
       "version_major": 2,
       "version_minor": 0
      },
      "text/plain": [
       "Epoch 184:   0%|          | 0/25 [00:00<?, ?it/s]"
      ]
     },
     "metadata": {},
     "output_type": "display_data"
    },
    {
     "name": "stdout",
     "output_type": "stream",
     "text": [
      "Epoch 184 done — avg loss: 3.240867\n"
     ]
    },
    {
     "data": {
      "application/vnd.jupyter.widget-view+json": {
       "model_id": "ae684a2af301443a86ec9cf9ed6f664a",
       "version_major": 2,
       "version_minor": 0
      },
      "text/plain": [
       "Epoch 185:   0%|          | 0/25 [00:00<?, ?it/s]"
      ]
     },
     "metadata": {},
     "output_type": "display_data"
    },
    {
     "name": "stdout",
     "output_type": "stream",
     "text": [
      "Epoch 185 done — avg loss: 3.239376\n"
     ]
    },
    {
     "data": {
      "application/vnd.jupyter.widget-view+json": {
       "model_id": "8f56e28944204794b997619c42b79025",
       "version_major": 2,
       "version_minor": 0
      },
      "text/plain": [
       "Epoch 186:   0%|          | 0/25 [00:00<?, ?it/s]"
      ]
     },
     "metadata": {},
     "output_type": "display_data"
    },
    {
     "name": "stdout",
     "output_type": "stream",
     "text": [
      "Epoch 186 done — avg loss: 3.237365\n"
     ]
    },
    {
     "data": {
      "application/vnd.jupyter.widget-view+json": {
       "model_id": "fd6564fbd6e741c88fef38ba230a7b0e",
       "version_major": 2,
       "version_minor": 0
      },
      "text/plain": [
       "Epoch 187:   0%|          | 0/25 [00:00<?, ?it/s]"
      ]
     },
     "metadata": {},
     "output_type": "display_data"
    },
    {
     "name": "stdout",
     "output_type": "stream",
     "text": [
      "Epoch 187 done — avg loss: 3.234591\n"
     ]
    },
    {
     "data": {
      "application/vnd.jupyter.widget-view+json": {
       "model_id": "ffa432bdfdca413aa278126730145258",
       "version_major": 2,
       "version_minor": 0
      },
      "text/plain": [
       "Epoch 188:   0%|          | 0/25 [00:00<?, ?it/s]"
      ]
     },
     "metadata": {},
     "output_type": "display_data"
    },
    {
     "name": "stdout",
     "output_type": "stream",
     "text": [
      "Epoch 188 done — avg loss: 3.234068\n"
     ]
    },
    {
     "data": {
      "application/vnd.jupyter.widget-view+json": {
       "model_id": "ffd33da1106e4bed98da2799c2d45f91",
       "version_major": 2,
       "version_minor": 0
      },
      "text/plain": [
       "Epoch 189:   0%|          | 0/25 [00:00<?, ?it/s]"
      ]
     },
     "metadata": {},
     "output_type": "display_data"
    },
    {
     "name": "stdout",
     "output_type": "stream",
     "text": [
      "Epoch 189 done — avg loss: 3.232751\n"
     ]
    },
    {
     "data": {
      "application/vnd.jupyter.widget-view+json": {
       "model_id": "6254a90befbe424a93713d328382ed22",
       "version_major": 2,
       "version_minor": 0
      },
      "text/plain": [
       "Epoch 190:   0%|          | 0/25 [00:00<?, ?it/s]"
      ]
     },
     "metadata": {},
     "output_type": "display_data"
    },
    {
     "name": "stdout",
     "output_type": "stream",
     "text": [
      "Epoch 190 done — avg loss: 3.231233\n"
     ]
    },
    {
     "data": {
      "application/vnd.jupyter.widget-view+json": {
       "model_id": "d4323b24355c44a593b412a6ca3d2a47",
       "version_major": 2,
       "version_minor": 0
      },
      "text/plain": [
       "Epoch 191:   0%|          | 0/25 [00:00<?, ?it/s]"
      ]
     },
     "metadata": {},
     "output_type": "display_data"
    },
    {
     "name": "stdout",
     "output_type": "stream",
     "text": [
      "Epoch 191 done — avg loss: 3.230585\n"
     ]
    },
    {
     "data": {
      "application/vnd.jupyter.widget-view+json": {
       "model_id": "3a4fc4e69ed54ffd9c393e91208eaad5",
       "version_major": 2,
       "version_minor": 0
      },
      "text/plain": [
       "Epoch 192:   0%|          | 0/25 [00:00<?, ?it/s]"
      ]
     },
     "metadata": {},
     "output_type": "display_data"
    },
    {
     "name": "stdout",
     "output_type": "stream",
     "text": [
      "Epoch 192 done — avg loss: 3.228877\n"
     ]
    },
    {
     "data": {
      "application/vnd.jupyter.widget-view+json": {
       "model_id": "3a40a3a30d774e958ff65d3e02d1cb5b",
       "version_major": 2,
       "version_minor": 0
      },
      "text/plain": [
       "Epoch 193:   0%|          | 0/25 [00:00<?, ?it/s]"
      ]
     },
     "metadata": {},
     "output_type": "display_data"
    },
    {
     "name": "stdout",
     "output_type": "stream",
     "text": [
      "Epoch 193 done — avg loss: 3.226923\n"
     ]
    },
    {
     "data": {
      "application/vnd.jupyter.widget-view+json": {
       "model_id": "02e9606fa47349149124609bccc4a86a",
       "version_major": 2,
       "version_minor": 0
      },
      "text/plain": [
       "Epoch 194:   0%|          | 0/25 [00:00<?, ?it/s]"
      ]
     },
     "metadata": {},
     "output_type": "display_data"
    },
    {
     "name": "stdout",
     "output_type": "stream",
     "text": [
      "Epoch 194 done — avg loss: 3.226871\n"
     ]
    },
    {
     "data": {
      "application/vnd.jupyter.widget-view+json": {
       "model_id": "3fbbd8007e07414aaec8f1d15650e464",
       "version_major": 2,
       "version_minor": 0
      },
      "text/plain": [
       "Epoch 195:   0%|          | 0/25 [00:00<?, ?it/s]"
      ]
     },
     "metadata": {},
     "output_type": "display_data"
    },
    {
     "name": "stdout",
     "output_type": "stream",
     "text": [
      "Epoch 195 done — avg loss: 3.224417\n"
     ]
    },
    {
     "data": {
      "application/vnd.jupyter.widget-view+json": {
       "model_id": "ddcf3bac402a451db693b94ea22e0900",
       "version_major": 2,
       "version_minor": 0
      },
      "text/plain": [
       "Epoch 196:   0%|          | 0/25 [00:00<?, ?it/s]"
      ]
     },
     "metadata": {},
     "output_type": "display_data"
    },
    {
     "name": "stdout",
     "output_type": "stream",
     "text": [
      "Epoch 196 done — avg loss: 3.223636\n"
     ]
    },
    {
     "data": {
      "application/vnd.jupyter.widget-view+json": {
       "model_id": "cf90aadd4d204c2e96d476e936666aae",
       "version_major": 2,
       "version_minor": 0
      },
      "text/plain": [
       "Epoch 197:   0%|          | 0/25 [00:00<?, ?it/s]"
      ]
     },
     "metadata": {},
     "output_type": "display_data"
    },
    {
     "name": "stdout",
     "output_type": "stream",
     "text": [
      "Epoch 197 done — avg loss: 3.222392\n"
     ]
    },
    {
     "data": {
      "application/vnd.jupyter.widget-view+json": {
       "model_id": "8554d1986cf84791a0c543e4eac86a87",
       "version_major": 2,
       "version_minor": 0
      },
      "text/plain": [
       "Epoch 198:   0%|          | 0/25 [00:00<?, ?it/s]"
      ]
     },
     "metadata": {},
     "output_type": "display_data"
    },
    {
     "name": "stdout",
     "output_type": "stream",
     "text": [
      "Epoch 198 done — avg loss: 3.220699\n"
     ]
    },
    {
     "data": {
      "application/vnd.jupyter.widget-view+json": {
       "model_id": "26e9c415e99743e5a50583b795f3e871",
       "version_major": 2,
       "version_minor": 0
      },
      "text/plain": [
       "Epoch 199:   0%|          | 0/25 [00:00<?, ?it/s]"
      ]
     },
     "metadata": {},
     "output_type": "display_data"
    },
    {
     "name": "stdout",
     "output_type": "stream",
     "text": [
      "Epoch 199 done — avg loss: 3.218978\n"
     ]
    },
    {
     "data": {
      "application/vnd.jupyter.widget-view+json": {
       "model_id": "16bbe81c724d4966ac786aee8dff2623",
       "version_major": 2,
       "version_minor": 0
      },
      "text/plain": [
       "Epoch 200:   0%|          | 0/25 [00:00<?, ?it/s]"
      ]
     },
     "metadata": {},
     "output_type": "display_data"
    },
    {
     "name": "stdout",
     "output_type": "stream",
     "text": [
      "Epoch 200 done — avg loss: 3.218191\n"
     ]
    },
    {
     "data": {
      "application/vnd.jupyter.widget-view+json": {
       "model_id": "72f59f84e0dc4843a4db86087e8e515e",
       "version_major": 2,
       "version_minor": 0
      },
      "text/plain": [
       "Epoch 201:   0%|          | 0/25 [00:00<?, ?it/s]"
      ]
     },
     "metadata": {},
     "output_type": "display_data"
    },
    {
     "name": "stdout",
     "output_type": "stream",
     "text": [
      "Epoch 201 done — avg loss: 3.216771\n"
     ]
    },
    {
     "data": {
      "application/vnd.jupyter.widget-view+json": {
       "model_id": "c22fd26fccc74899952cad7f6708bc86",
       "version_major": 2,
       "version_minor": 0
      },
      "text/plain": [
       "Epoch 202:   0%|          | 0/25 [00:00<?, ?it/s]"
      ]
     },
     "metadata": {},
     "output_type": "display_data"
    },
    {
     "name": "stdout",
     "output_type": "stream",
     "text": [
      "Epoch 202 done — avg loss: 3.216052\n"
     ]
    },
    {
     "data": {
      "application/vnd.jupyter.widget-view+json": {
       "model_id": "c128a7bf32ce449982f014d7a3f40f29",
       "version_major": 2,
       "version_minor": 0
      },
      "text/plain": [
       "Epoch 203:   0%|          | 0/25 [00:00<?, ?it/s]"
      ]
     },
     "metadata": {},
     "output_type": "display_data"
    },
    {
     "name": "stdout",
     "output_type": "stream",
     "text": [
      "Epoch 203 done — avg loss: 3.214653\n"
     ]
    },
    {
     "data": {
      "application/vnd.jupyter.widget-view+json": {
       "model_id": "70726c410d984c7781b42a7393b03e1c",
       "version_major": 2,
       "version_minor": 0
      },
      "text/plain": [
       "Epoch 204:   0%|          | 0/25 [00:00<?, ?it/s]"
      ]
     },
     "metadata": {},
     "output_type": "display_data"
    },
    {
     "name": "stdout",
     "output_type": "stream",
     "text": [
      "Epoch 204 done — avg loss: 3.213053\n"
     ]
    },
    {
     "data": {
      "application/vnd.jupyter.widget-view+json": {
       "model_id": "0b86162976ad459ba056ccfbe43ba678",
       "version_major": 2,
       "version_minor": 0
      },
      "text/plain": [
       "Epoch 205:   0%|          | 0/25 [00:00<?, ?it/s]"
      ]
     },
     "metadata": {},
     "output_type": "display_data"
    },
    {
     "name": "stdout",
     "output_type": "stream",
     "text": [
      "Epoch 205 done — avg loss: 3.211704\n"
     ]
    },
    {
     "data": {
      "application/vnd.jupyter.widget-view+json": {
       "model_id": "d3063fc3e06c431fa7fc3de2b69ce209",
       "version_major": 2,
       "version_minor": 0
      },
      "text/plain": [
       "Epoch 206:   0%|          | 0/25 [00:00<?, ?it/s]"
      ]
     },
     "metadata": {},
     "output_type": "display_data"
    },
    {
     "name": "stdout",
     "output_type": "stream",
     "text": [
      "Epoch 206 done — avg loss: 3.211082\n"
     ]
    },
    {
     "data": {
      "application/vnd.jupyter.widget-view+json": {
       "model_id": "10730856b5ad45b3a98b285efb569822",
       "version_major": 2,
       "version_minor": 0
      },
      "text/plain": [
       "Epoch 207:   0%|          | 0/25 [00:00<?, ?it/s]"
      ]
     },
     "metadata": {},
     "output_type": "display_data"
    },
    {
     "name": "stdout",
     "output_type": "stream",
     "text": [
      "Epoch 207 done — avg loss: 3.210577\n"
     ]
    },
    {
     "data": {
      "application/vnd.jupyter.widget-view+json": {
       "model_id": "8db7895266e146dd8f76b3ee3e2be20d",
       "version_major": 2,
       "version_minor": 0
      },
      "text/plain": [
       "Epoch 208:   0%|          | 0/25 [00:00<?, ?it/s]"
      ]
     },
     "metadata": {},
     "output_type": "display_data"
    },
    {
     "name": "stdout",
     "output_type": "stream",
     "text": [
      "Epoch 208 done — avg loss: 3.208379\n"
     ]
    },
    {
     "data": {
      "application/vnd.jupyter.widget-view+json": {
       "model_id": "a060a8ea570d4434ad4ecfd3ac8780ed",
       "version_major": 2,
       "version_minor": 0
      },
      "text/plain": [
       "Epoch 209:   0%|          | 0/25 [00:00<?, ?it/s]"
      ]
     },
     "metadata": {},
     "output_type": "display_data"
    },
    {
     "name": "stdout",
     "output_type": "stream",
     "text": [
      "Epoch 209 done — avg loss: 3.207001\n"
     ]
    },
    {
     "data": {
      "application/vnd.jupyter.widget-view+json": {
       "model_id": "65563c6185a84961835e5fbd58f09060",
       "version_major": 2,
       "version_minor": 0
      },
      "text/plain": [
       "Epoch 210:   0%|          | 0/25 [00:00<?, ?it/s]"
      ]
     },
     "metadata": {},
     "output_type": "display_data"
    },
    {
     "name": "stdout",
     "output_type": "stream",
     "text": [
      "Epoch 210 done — avg loss: 3.205232\n"
     ]
    },
    {
     "data": {
      "application/vnd.jupyter.widget-view+json": {
       "model_id": "44ba8a92198b4b71bf4c1055a563e893",
       "version_major": 2,
       "version_minor": 0
      },
      "text/plain": [
       "Epoch 211:   0%|          | 0/25 [00:00<?, ?it/s]"
      ]
     },
     "metadata": {},
     "output_type": "display_data"
    },
    {
     "name": "stdout",
     "output_type": "stream",
     "text": [
      "Epoch 211 done — avg loss: 3.204080\n"
     ]
    },
    {
     "data": {
      "application/vnd.jupyter.widget-view+json": {
       "model_id": "6531b20e7e6d4b8ba3f90a10a1e9b5df",
       "version_major": 2,
       "version_minor": 0
      },
      "text/plain": [
       "Epoch 212:   0%|          | 0/25 [00:00<?, ?it/s]"
      ]
     },
     "metadata": {},
     "output_type": "display_data"
    },
    {
     "name": "stdout",
     "output_type": "stream",
     "text": [
      "Epoch 212 done — avg loss: 3.202512\n"
     ]
    },
    {
     "data": {
      "application/vnd.jupyter.widget-view+json": {
       "model_id": "499a71ae522949cbae3f7cbe4463830e",
       "version_major": 2,
       "version_minor": 0
      },
      "text/plain": [
       "Epoch 213:   0%|          | 0/25 [00:00<?, ?it/s]"
      ]
     },
     "metadata": {},
     "output_type": "display_data"
    },
    {
     "name": "stdout",
     "output_type": "stream",
     "text": [
      "Epoch 213 done — avg loss: 3.201634\n"
     ]
    },
    {
     "data": {
      "application/vnd.jupyter.widget-view+json": {
       "model_id": "da7431a5e8f040e8a072cc42e032dbb9",
       "version_major": 2,
       "version_minor": 0
      },
      "text/plain": [
       "Epoch 214:   0%|          | 0/25 [00:00<?, ?it/s]"
      ]
     },
     "metadata": {},
     "output_type": "display_data"
    },
    {
     "name": "stdout",
     "output_type": "stream",
     "text": [
      "Epoch 214 done — avg loss: 3.200115\n"
     ]
    },
    {
     "data": {
      "application/vnd.jupyter.widget-view+json": {
       "model_id": "224feb545a2745db9a5852635942d052",
       "version_major": 2,
       "version_minor": 0
      },
      "text/plain": [
       "Epoch 215:   0%|          | 0/25 [00:00<?, ?it/s]"
      ]
     },
     "metadata": {},
     "output_type": "display_data"
    },
    {
     "name": "stdout",
     "output_type": "stream",
     "text": [
      "Epoch 215 done — avg loss: 3.199042\n"
     ]
    },
    {
     "data": {
      "application/vnd.jupyter.widget-view+json": {
       "model_id": "f24f3577e417443786f65140eb758e2d",
       "version_major": 2,
       "version_minor": 0
      },
      "text/plain": [
       "Epoch 216:   0%|          | 0/25 [00:00<?, ?it/s]"
      ]
     },
     "metadata": {},
     "output_type": "display_data"
    },
    {
     "name": "stdout",
     "output_type": "stream",
     "text": [
      "Epoch 216 done — avg loss: 3.198260\n"
     ]
    },
    {
     "data": {
      "application/vnd.jupyter.widget-view+json": {
       "model_id": "bb02a8740fc54d0b981c60ac3b25060f",
       "version_major": 2,
       "version_minor": 0
      },
      "text/plain": [
       "Epoch 217:   0%|          | 0/25 [00:00<?, ?it/s]"
      ]
     },
     "metadata": {},
     "output_type": "display_data"
    },
    {
     "name": "stdout",
     "output_type": "stream",
     "text": [
      "Epoch 217 done — avg loss: 3.197846\n"
     ]
    },
    {
     "data": {
      "application/vnd.jupyter.widget-view+json": {
       "model_id": "ba29e7ae276646efae7a52e332eed1ae",
       "version_major": 2,
       "version_minor": 0
      },
      "text/plain": [
       "Epoch 218:   0%|          | 0/25 [00:00<?, ?it/s]"
      ]
     },
     "metadata": {},
     "output_type": "display_data"
    },
    {
     "name": "stdout",
     "output_type": "stream",
     "text": [
      "Epoch 218 done — avg loss: 3.196486\n"
     ]
    },
    {
     "data": {
      "application/vnd.jupyter.widget-view+json": {
       "model_id": "4acdb74faae44d76a3cb017127faf387",
       "version_major": 2,
       "version_minor": 0
      },
      "text/plain": [
       "Epoch 219:   0%|          | 0/25 [00:00<?, ?it/s]"
      ]
     },
     "metadata": {},
     "output_type": "display_data"
    },
    {
     "name": "stdout",
     "output_type": "stream",
     "text": [
      "Epoch 219 done — avg loss: 3.194683\n"
     ]
    },
    {
     "data": {
      "application/vnd.jupyter.widget-view+json": {
       "model_id": "e1f933fa33274eaebc483cb0f1e58656",
       "version_major": 2,
       "version_minor": 0
      },
      "text/plain": [
       "Epoch 220:   0%|          | 0/25 [00:00<?, ?it/s]"
      ]
     },
     "metadata": {},
     "output_type": "display_data"
    },
    {
     "name": "stdout",
     "output_type": "stream",
     "text": [
      "Epoch 220 done — avg loss: 3.194279\n"
     ]
    },
    {
     "data": {
      "application/vnd.jupyter.widget-view+json": {
       "model_id": "639cd11e44ea41df8057b9843281f824",
       "version_major": 2,
       "version_minor": 0
      },
      "text/plain": [
       "Epoch 221:   0%|          | 0/25 [00:00<?, ?it/s]"
      ]
     },
     "metadata": {},
     "output_type": "display_data"
    },
    {
     "name": "stdout",
     "output_type": "stream",
     "text": [
      "Epoch 221 done — avg loss: 3.191956\n"
     ]
    },
    {
     "data": {
      "application/vnd.jupyter.widget-view+json": {
       "model_id": "730a11dade284a938ba6c3d9ff16f64f",
       "version_major": 2,
       "version_minor": 0
      },
      "text/plain": [
       "Epoch 222:   0%|          | 0/25 [00:00<?, ?it/s]"
      ]
     },
     "metadata": {},
     "output_type": "display_data"
    },
    {
     "name": "stdout",
     "output_type": "stream",
     "text": [
      "Epoch 222 done — avg loss: 3.191493\n"
     ]
    },
    {
     "data": {
      "application/vnd.jupyter.widget-view+json": {
       "model_id": "2a7645e167c64a49adfa6ce9ad141d67",
       "version_major": 2,
       "version_minor": 0
      },
      "text/plain": [
       "Epoch 223:   0%|          | 0/25 [00:00<?, ?it/s]"
      ]
     },
     "metadata": {},
     "output_type": "display_data"
    },
    {
     "name": "stdout",
     "output_type": "stream",
     "text": [
      "Epoch 223 done — avg loss: 3.189563\n"
     ]
    },
    {
     "data": {
      "application/vnd.jupyter.widget-view+json": {
       "model_id": "36e1299ab6c1415abbd74ca6d0c44e53",
       "version_major": 2,
       "version_minor": 0
      },
      "text/plain": [
       "Epoch 224:   0%|          | 0/25 [00:00<?, ?it/s]"
      ]
     },
     "metadata": {},
     "output_type": "display_data"
    },
    {
     "name": "stdout",
     "output_type": "stream",
     "text": [
      "Epoch 224 done — avg loss: 3.187447\n"
     ]
    },
    {
     "data": {
      "application/vnd.jupyter.widget-view+json": {
       "model_id": "b1c9847dde5e4b929e447453e679da2e",
       "version_major": 2,
       "version_minor": 0
      },
      "text/plain": [
       "Epoch 225:   0%|          | 0/25 [00:00<?, ?it/s]"
      ]
     },
     "metadata": {},
     "output_type": "display_data"
    },
    {
     "name": "stdout",
     "output_type": "stream",
     "text": [
      "Epoch 225 done — avg loss: 3.186933\n"
     ]
    },
    {
     "data": {
      "application/vnd.jupyter.widget-view+json": {
       "model_id": "60c3dcb054be4cf6bd28b9524d53a3d5",
       "version_major": 2,
       "version_minor": 0
      },
      "text/plain": [
       "Epoch 226:   0%|          | 0/25 [00:00<?, ?it/s]"
      ]
     },
     "metadata": {},
     "output_type": "display_data"
    },
    {
     "name": "stdout",
     "output_type": "stream",
     "text": [
      "Epoch 226 done — avg loss: 3.184989\n"
     ]
    },
    {
     "data": {
      "application/vnd.jupyter.widget-view+json": {
       "model_id": "50e0e903de08400182fbf6d70f4ae0fd",
       "version_major": 2,
       "version_minor": 0
      },
      "text/plain": [
       "Epoch 227:   0%|          | 0/25 [00:00<?, ?it/s]"
      ]
     },
     "metadata": {},
     "output_type": "display_data"
    },
    {
     "name": "stdout",
     "output_type": "stream",
     "text": [
      "Epoch 227 done — avg loss: 3.185404\n"
     ]
    },
    {
     "data": {
      "application/vnd.jupyter.widget-view+json": {
       "model_id": "8d1970d3d03d466c84b8ee4174d2e757",
       "version_major": 2,
       "version_minor": 0
      },
      "text/plain": [
       "Epoch 228:   0%|          | 0/25 [00:00<?, ?it/s]"
      ]
     },
     "metadata": {},
     "output_type": "display_data"
    },
    {
     "name": "stdout",
     "output_type": "stream",
     "text": [
      "Epoch 228 done — avg loss: 3.184022\n"
     ]
    },
    {
     "data": {
      "application/vnd.jupyter.widget-view+json": {
       "model_id": "f7f9b2d21b4a4336a96f79e817c9440d",
       "version_major": 2,
       "version_minor": 0
      },
      "text/plain": [
       "Epoch 229:   0%|          | 0/25 [00:00<?, ?it/s]"
      ]
     },
     "metadata": {},
     "output_type": "display_data"
    },
    {
     "name": "stdout",
     "output_type": "stream",
     "text": [
      "Epoch 229 done — avg loss: 3.181758\n"
     ]
    },
    {
     "data": {
      "application/vnd.jupyter.widget-view+json": {
       "model_id": "62e87cc071464bb4b05b29f5852c7e61",
       "version_major": 2,
       "version_minor": 0
      },
      "text/plain": [
       "Epoch 230:   0%|          | 0/25 [00:00<?, ?it/s]"
      ]
     },
     "metadata": {},
     "output_type": "display_data"
    },
    {
     "name": "stdout",
     "output_type": "stream",
     "text": [
      "Epoch 230 done — avg loss: 3.180114\n"
     ]
    },
    {
     "data": {
      "application/vnd.jupyter.widget-view+json": {
       "model_id": "1f77a52d3ce24178be0df426fc100b2a",
       "version_major": 2,
       "version_minor": 0
      },
      "text/plain": [
       "Epoch 231:   0%|          | 0/25 [00:00<?, ?it/s]"
      ]
     },
     "metadata": {},
     "output_type": "display_data"
    },
    {
     "name": "stdout",
     "output_type": "stream",
     "text": [
      "Epoch 231 done — avg loss: 3.178874\n"
     ]
    },
    {
     "data": {
      "application/vnd.jupyter.widget-view+json": {
       "model_id": "77450b731cd74c44abeae5af33a93c3d",
       "version_major": 2,
       "version_minor": 0
      },
      "text/plain": [
       "Epoch 232:   0%|          | 0/25 [00:00<?, ?it/s]"
      ]
     },
     "metadata": {},
     "output_type": "display_data"
    },
    {
     "name": "stdout",
     "output_type": "stream",
     "text": [
      "Epoch 232 done — avg loss: 3.179100\n"
     ]
    },
    {
     "data": {
      "application/vnd.jupyter.widget-view+json": {
       "model_id": "3458dfaa50cd42878556cb3ace3bd6d5",
       "version_major": 2,
       "version_minor": 0
      },
      "text/plain": [
       "Epoch 233:   0%|          | 0/25 [00:00<?, ?it/s]"
      ]
     },
     "metadata": {},
     "output_type": "display_data"
    },
    {
     "name": "stdout",
     "output_type": "stream",
     "text": [
      "Epoch 233 done — avg loss: 3.177403\n"
     ]
    },
    {
     "data": {
      "application/vnd.jupyter.widget-view+json": {
       "model_id": "5a69fc0ba795475bab8c7988f9db43d5",
       "version_major": 2,
       "version_minor": 0
      },
      "text/plain": [
       "Epoch 234:   0%|          | 0/25 [00:00<?, ?it/s]"
      ]
     },
     "metadata": {},
     "output_type": "display_data"
    },
    {
     "name": "stdout",
     "output_type": "stream",
     "text": [
      "Epoch 234 done — avg loss: 3.175625\n"
     ]
    },
    {
     "data": {
      "application/vnd.jupyter.widget-view+json": {
       "model_id": "1b9bc4b36de54cad9816f1fb129d9520",
       "version_major": 2,
       "version_minor": 0
      },
      "text/plain": [
       "Epoch 235:   0%|          | 0/25 [00:00<?, ?it/s]"
      ]
     },
     "metadata": {},
     "output_type": "display_data"
    },
    {
     "name": "stdout",
     "output_type": "stream",
     "text": [
      "Epoch 235 done — avg loss: 3.174505\n"
     ]
    },
    {
     "data": {
      "application/vnd.jupyter.widget-view+json": {
       "model_id": "5a4fd275477d4ddd90f33544ecc5f055",
       "version_major": 2,
       "version_minor": 0
      },
      "text/plain": [
       "Epoch 236:   0%|          | 0/25 [00:00<?, ?it/s]"
      ]
     },
     "metadata": {},
     "output_type": "display_data"
    },
    {
     "name": "stdout",
     "output_type": "stream",
     "text": [
      "Epoch 236 done — avg loss: 3.173730\n"
     ]
    },
    {
     "data": {
      "application/vnd.jupyter.widget-view+json": {
       "model_id": "0461a194ccd346e4b17abb41be6b7aca",
       "version_major": 2,
       "version_minor": 0
      },
      "text/plain": [
       "Epoch 237:   0%|          | 0/25 [00:00<?, ?it/s]"
      ]
     },
     "metadata": {},
     "output_type": "display_data"
    },
    {
     "name": "stdout",
     "output_type": "stream",
     "text": [
      "Epoch 237 done — avg loss: 3.171811\n"
     ]
    },
    {
     "data": {
      "application/vnd.jupyter.widget-view+json": {
       "model_id": "c945aeb88c754ecc90e497780a1c3acb",
       "version_major": 2,
       "version_minor": 0
      },
      "text/plain": [
       "Epoch 238:   0%|          | 0/25 [00:00<?, ?it/s]"
      ]
     },
     "metadata": {},
     "output_type": "display_data"
    },
    {
     "name": "stdout",
     "output_type": "stream",
     "text": [
      "Epoch 238 done — avg loss: 3.170640\n"
     ]
    },
    {
     "data": {
      "application/vnd.jupyter.widget-view+json": {
       "model_id": "c14e8900880946508d02202532c2dc45",
       "version_major": 2,
       "version_minor": 0
      },
      "text/plain": [
       "Epoch 239:   0%|          | 0/25 [00:00<?, ?it/s]"
      ]
     },
     "metadata": {},
     "output_type": "display_data"
    },
    {
     "name": "stdout",
     "output_type": "stream",
     "text": [
      "Epoch 239 done — avg loss: 3.169783\n"
     ]
    },
    {
     "data": {
      "application/vnd.jupyter.widget-view+json": {
       "model_id": "eb7f95fe8a314d8a9bca3266d4e2f029",
       "version_major": 2,
       "version_minor": 0
      },
      "text/plain": [
       "Epoch 240:   0%|          | 0/25 [00:00<?, ?it/s]"
      ]
     },
     "metadata": {},
     "output_type": "display_data"
    },
    {
     "name": "stdout",
     "output_type": "stream",
     "text": [
      "Epoch 240 done — avg loss: 3.168790\n"
     ]
    },
    {
     "data": {
      "application/vnd.jupyter.widget-view+json": {
       "model_id": "aaa1c58c885a470c9a0a547b5747bd63",
       "version_major": 2,
       "version_minor": 0
      },
      "text/plain": [
       "Epoch 241:   0%|          | 0/25 [00:00<?, ?it/s]"
      ]
     },
     "metadata": {},
     "output_type": "display_data"
    },
    {
     "name": "stdout",
     "output_type": "stream",
     "text": [
      "Epoch 241 done — avg loss: 3.167675\n"
     ]
    },
    {
     "data": {
      "application/vnd.jupyter.widget-view+json": {
       "model_id": "490f7f88e3464356bedc5de67f062e0f",
       "version_major": 2,
       "version_minor": 0
      },
      "text/plain": [
       "Epoch 242:   0%|          | 0/25 [00:00<?, ?it/s]"
      ]
     },
     "metadata": {},
     "output_type": "display_data"
    },
    {
     "name": "stdout",
     "output_type": "stream",
     "text": [
      "Epoch 242 done — avg loss: 3.166713\n"
     ]
    },
    {
     "data": {
      "application/vnd.jupyter.widget-view+json": {
       "model_id": "03703b3fda0b40d786ac9a77bdf7dc7e",
       "version_major": 2,
       "version_minor": 0
      },
      "text/plain": [
       "Epoch 243:   0%|          | 0/25 [00:00<?, ?it/s]"
      ]
     },
     "metadata": {},
     "output_type": "display_data"
    },
    {
     "name": "stdout",
     "output_type": "stream",
     "text": [
      "Epoch 243 done — avg loss: 3.165542\n"
     ]
    },
    {
     "data": {
      "application/vnd.jupyter.widget-view+json": {
       "model_id": "7cc875b6a6884bb393096fa42afe489c",
       "version_major": 2,
       "version_minor": 0
      },
      "text/plain": [
       "Epoch 244:   0%|          | 0/25 [00:00<?, ?it/s]"
      ]
     },
     "metadata": {},
     "output_type": "display_data"
    },
    {
     "name": "stdout",
     "output_type": "stream",
     "text": [
      "Epoch 244 done — avg loss: 3.164082\n"
     ]
    },
    {
     "data": {
      "application/vnd.jupyter.widget-view+json": {
       "model_id": "825690ee0c0f4d97848d104bc971390e",
       "version_major": 2,
       "version_minor": 0
      },
      "text/plain": [
       "Epoch 245:   0%|          | 0/25 [00:00<?, ?it/s]"
      ]
     },
     "metadata": {},
     "output_type": "display_data"
    },
    {
     "name": "stdout",
     "output_type": "stream",
     "text": [
      "Epoch 245 done — avg loss: 3.164361\n"
     ]
    },
    {
     "data": {
      "application/vnd.jupyter.widget-view+json": {
       "model_id": "6019d8be3b914f8cb3bf41522fed8cf9",
       "version_major": 2,
       "version_minor": 0
      },
      "text/plain": [
       "Epoch 246:   0%|          | 0/25 [00:00<?, ?it/s]"
      ]
     },
     "metadata": {},
     "output_type": "display_data"
    },
    {
     "name": "stdout",
     "output_type": "stream",
     "text": [
      "Epoch 246 done — avg loss: 3.162274\n"
     ]
    },
    {
     "data": {
      "application/vnd.jupyter.widget-view+json": {
       "model_id": "0200eaa509344a759163f794dcc00a10",
       "version_major": 2,
       "version_minor": 0
      },
      "text/plain": [
       "Epoch 247:   0%|          | 0/25 [00:00<?, ?it/s]"
      ]
     },
     "metadata": {},
     "output_type": "display_data"
    },
    {
     "name": "stdout",
     "output_type": "stream",
     "text": [
      "Epoch 247 done — avg loss: 3.162273\n"
     ]
    },
    {
     "data": {
      "application/vnd.jupyter.widget-view+json": {
       "model_id": "903f0a2b11bc4075803d1a173c47a365",
       "version_major": 2,
       "version_minor": 0
      },
      "text/plain": [
       "Epoch 248:   0%|          | 0/25 [00:00<?, ?it/s]"
      ]
     },
     "metadata": {},
     "output_type": "display_data"
    },
    {
     "name": "stdout",
     "output_type": "stream",
     "text": [
      "Epoch 248 done — avg loss: 3.159853\n"
     ]
    },
    {
     "data": {
      "application/vnd.jupyter.widget-view+json": {
       "model_id": "a83cdca186084e118d4325e4aae1a56e",
       "version_major": 2,
       "version_minor": 0
      },
      "text/plain": [
       "Epoch 249:   0%|          | 0/25 [00:00<?, ?it/s]"
      ]
     },
     "metadata": {},
     "output_type": "display_data"
    },
    {
     "name": "stdout",
     "output_type": "stream",
     "text": [
      "Epoch 249 done — avg loss: 3.158975\n"
     ]
    },
    {
     "data": {
      "application/vnd.jupyter.widget-view+json": {
       "model_id": "0f187f40dabc4090aa9a84448a75e7f5",
       "version_major": 2,
       "version_minor": 0
      },
      "text/plain": [
       "Epoch 250:   0%|          | 0/25 [00:00<?, ?it/s]"
      ]
     },
     "metadata": {},
     "output_type": "display_data"
    },
    {
     "name": "stdout",
     "output_type": "stream",
     "text": [
      "Epoch 250 done — avg loss: 3.158053\n"
     ]
    },
    {
     "data": {
      "application/vnd.jupyter.widget-view+json": {
       "model_id": "faae8f734c3a4e76a2f0f39db4734033",
       "version_major": 2,
       "version_minor": 0
      },
      "text/plain": [
       "Epoch 251:   0%|          | 0/25 [00:00<?, ?it/s]"
      ]
     },
     "metadata": {},
     "output_type": "display_data"
    },
    {
     "name": "stdout",
     "output_type": "stream",
     "text": [
      "Epoch 251 done — avg loss: 3.155963\n"
     ]
    },
    {
     "data": {
      "application/vnd.jupyter.widget-view+json": {
       "model_id": "945646f797d14c868ef104ad1f407e72",
       "version_major": 2,
       "version_minor": 0
      },
      "text/plain": [
       "Epoch 252:   0%|          | 0/25 [00:00<?, ?it/s]"
      ]
     },
     "metadata": {},
     "output_type": "display_data"
    },
    {
     "name": "stdout",
     "output_type": "stream",
     "text": [
      "Epoch 252 done — avg loss: 3.154440\n"
     ]
    },
    {
     "data": {
      "application/vnd.jupyter.widget-view+json": {
       "model_id": "0653b50bc1e140cf95176bc9ebaa641e",
       "version_major": 2,
       "version_minor": 0
      },
      "text/plain": [
       "Epoch 253:   0%|          | 0/25 [00:00<?, ?it/s]"
      ]
     },
     "metadata": {},
     "output_type": "display_data"
    },
    {
     "name": "stdout",
     "output_type": "stream",
     "text": [
      "Epoch 253 done — avg loss: 3.153712\n"
     ]
    },
    {
     "data": {
      "application/vnd.jupyter.widget-view+json": {
       "model_id": "7afef8d4817d404183ba97641dea49ac",
       "version_major": 2,
       "version_minor": 0
      },
      "text/plain": [
       "Epoch 254:   0%|          | 0/25 [00:00<?, ?it/s]"
      ]
     },
     "metadata": {},
     "output_type": "display_data"
    },
    {
     "name": "stdout",
     "output_type": "stream",
     "text": [
      "Epoch 254 done — avg loss: 3.152906\n"
     ]
    },
    {
     "data": {
      "application/vnd.jupyter.widget-view+json": {
       "model_id": "324b7dc8168d47a3a4af3186ecf70c96",
       "version_major": 2,
       "version_minor": 0
      },
      "text/plain": [
       "Epoch 255:   0%|          | 0/25 [00:00<?, ?it/s]"
      ]
     },
     "metadata": {},
     "output_type": "display_data"
    },
    {
     "name": "stdout",
     "output_type": "stream",
     "text": [
      "Epoch 255 done — avg loss: 3.152566\n"
     ]
    },
    {
     "data": {
      "application/vnd.jupyter.widget-view+json": {
       "model_id": "0ad9235a7872495aa924235b8b7af200",
       "version_major": 2,
       "version_minor": 0
      },
      "text/plain": [
       "Epoch 256:   0%|          | 0/25 [00:00<?, ?it/s]"
      ]
     },
     "metadata": {},
     "output_type": "display_data"
    },
    {
     "name": "stdout",
     "output_type": "stream",
     "text": [
      "Epoch 256 done — avg loss: 3.150822\n"
     ]
    },
    {
     "data": {
      "application/vnd.jupyter.widget-view+json": {
       "model_id": "b708965979884d1e9ea82f403eb625ee",
       "version_major": 2,
       "version_minor": 0
      },
      "text/plain": [
       "Epoch 257:   0%|          | 0/25 [00:00<?, ?it/s]"
      ]
     },
     "metadata": {},
     "output_type": "display_data"
    },
    {
     "name": "stdout",
     "output_type": "stream",
     "text": [
      "Epoch 257 done — avg loss: 3.149507\n"
     ]
    },
    {
     "data": {
      "application/vnd.jupyter.widget-view+json": {
       "model_id": "56e2335748f74012b1b8ebeea0b3ba80",
       "version_major": 2,
       "version_minor": 0
      },
      "text/plain": [
       "Epoch 258:   0%|          | 0/25 [00:00<?, ?it/s]"
      ]
     },
     "metadata": {},
     "output_type": "display_data"
    },
    {
     "name": "stdout",
     "output_type": "stream",
     "text": [
      "Epoch 258 done — avg loss: 3.147690\n"
     ]
    },
    {
     "data": {
      "application/vnd.jupyter.widget-view+json": {
       "model_id": "ca3aad7d69604149a51c82079acf2829",
       "version_major": 2,
       "version_minor": 0
      },
      "text/plain": [
       "Epoch 259:   0%|          | 0/25 [00:00<?, ?it/s]"
      ]
     },
     "metadata": {},
     "output_type": "display_data"
    },
    {
     "name": "stdout",
     "output_type": "stream",
     "text": [
      "Epoch 259 done — avg loss: 3.147875\n"
     ]
    },
    {
     "data": {
      "application/vnd.jupyter.widget-view+json": {
       "model_id": "a7df4ffadbf64860b14f72d4ca8930f4",
       "version_major": 2,
       "version_minor": 0
      },
      "text/plain": [
       "Epoch 260:   0%|          | 0/25 [00:00<?, ?it/s]"
      ]
     },
     "metadata": {},
     "output_type": "display_data"
    },
    {
     "name": "stdout",
     "output_type": "stream",
     "text": [
      "Epoch 260 done — avg loss: 3.146569\n"
     ]
    },
    {
     "data": {
      "application/vnd.jupyter.widget-view+json": {
       "model_id": "7f58c9ec77b141478bd56ef1dc4cbe63",
       "version_major": 2,
       "version_minor": 0
      },
      "text/plain": [
       "Epoch 261:   0%|          | 0/25 [00:00<?, ?it/s]"
      ]
     },
     "metadata": {},
     "output_type": "display_data"
    },
    {
     "name": "stdout",
     "output_type": "stream",
     "text": [
      "Epoch 261 done — avg loss: 3.146470\n"
     ]
    },
    {
     "data": {
      "application/vnd.jupyter.widget-view+json": {
       "model_id": "21ef275012bd45c3815e1057fc65297c",
       "version_major": 2,
       "version_minor": 0
      },
      "text/plain": [
       "Epoch 262:   0%|          | 0/25 [00:00<?, ?it/s]"
      ]
     },
     "metadata": {},
     "output_type": "display_data"
    },
    {
     "name": "stdout",
     "output_type": "stream",
     "text": [
      "Epoch 262 done — avg loss: 3.145402\n"
     ]
    },
    {
     "data": {
      "application/vnd.jupyter.widget-view+json": {
       "model_id": "ed7bcdd76cb64a7baf80a88dc908efb7",
       "version_major": 2,
       "version_minor": 0
      },
      "text/plain": [
       "Epoch 263:   0%|          | 0/25 [00:00<?, ?it/s]"
      ]
     },
     "metadata": {},
     "output_type": "display_data"
    },
    {
     "name": "stdout",
     "output_type": "stream",
     "text": [
      "Epoch 263 done — avg loss: 3.143694\n"
     ]
    },
    {
     "data": {
      "application/vnd.jupyter.widget-view+json": {
       "model_id": "cbc71ab0bfd240a4826e5cf96fd1c166",
       "version_major": 2,
       "version_minor": 0
      },
      "text/plain": [
       "Epoch 264:   0%|          | 0/25 [00:00<?, ?it/s]"
      ]
     },
     "metadata": {},
     "output_type": "display_data"
    },
    {
     "name": "stdout",
     "output_type": "stream",
     "text": [
      "Epoch 264 done — avg loss: 3.142439\n"
     ]
    },
    {
     "data": {
      "application/vnd.jupyter.widget-view+json": {
       "model_id": "3b784cca682942229cbf4461ca73cb07",
       "version_major": 2,
       "version_minor": 0
      },
      "text/plain": [
       "Epoch 265:   0%|          | 0/25 [00:00<?, ?it/s]"
      ]
     },
     "metadata": {},
     "output_type": "display_data"
    },
    {
     "name": "stdout",
     "output_type": "stream",
     "text": [
      "Epoch 265 done — avg loss: 3.141530\n"
     ]
    },
    {
     "data": {
      "application/vnd.jupyter.widget-view+json": {
       "model_id": "8429954f45874749ac91beae48ac6c77",
       "version_major": 2,
       "version_minor": 0
      },
      "text/plain": [
       "Epoch 266:   0%|          | 0/25 [00:00<?, ?it/s]"
      ]
     },
     "metadata": {},
     "output_type": "display_data"
    },
    {
     "name": "stdout",
     "output_type": "stream",
     "text": [
      "Epoch 266 done — avg loss: 3.140762\n"
     ]
    },
    {
     "data": {
      "application/vnd.jupyter.widget-view+json": {
       "model_id": "ebe300d5af88431899fa828c4c5416a5",
       "version_major": 2,
       "version_minor": 0
      },
      "text/plain": [
       "Epoch 267:   0%|          | 0/25 [00:00<?, ?it/s]"
      ]
     },
     "metadata": {},
     "output_type": "display_data"
    },
    {
     "name": "stdout",
     "output_type": "stream",
     "text": [
      "Epoch 267 done — avg loss: 3.138325\n"
     ]
    },
    {
     "data": {
      "application/vnd.jupyter.widget-view+json": {
       "model_id": "b85ecd4b37b94a289b0056657cbd12a4",
       "version_major": 2,
       "version_minor": 0
      },
      "text/plain": [
       "Epoch 268:   0%|          | 0/25 [00:00<?, ?it/s]"
      ]
     },
     "metadata": {},
     "output_type": "display_data"
    },
    {
     "name": "stdout",
     "output_type": "stream",
     "text": [
      "Epoch 268 done — avg loss: 3.137315\n"
     ]
    },
    {
     "data": {
      "application/vnd.jupyter.widget-view+json": {
       "model_id": "eac70d38838949968e2377b257633132",
       "version_major": 2,
       "version_minor": 0
      },
      "text/plain": [
       "Epoch 269:   0%|          | 0/25 [00:00<?, ?it/s]"
      ]
     },
     "metadata": {},
     "output_type": "display_data"
    },
    {
     "name": "stdout",
     "output_type": "stream",
     "text": [
      "Epoch 269 done — avg loss: 3.136420\n"
     ]
    },
    {
     "data": {
      "application/vnd.jupyter.widget-view+json": {
       "model_id": "398ef869655249408d9b0377d5e9f700",
       "version_major": 2,
       "version_minor": 0
      },
      "text/plain": [
       "Epoch 270:   0%|          | 0/25 [00:00<?, ?it/s]"
      ]
     },
     "metadata": {},
     "output_type": "display_data"
    },
    {
     "name": "stdout",
     "output_type": "stream",
     "text": [
      "Epoch 270 done — avg loss: 3.135149\n"
     ]
    },
    {
     "data": {
      "application/vnd.jupyter.widget-view+json": {
       "model_id": "bd31492ea2774f88a7f78b1a3707088c",
       "version_major": 2,
       "version_minor": 0
      },
      "text/plain": [
       "Epoch 271:   0%|          | 0/25 [00:00<?, ?it/s]"
      ]
     },
     "metadata": {},
     "output_type": "display_data"
    },
    {
     "name": "stdout",
     "output_type": "stream",
     "text": [
      "Epoch 271 done — avg loss: 3.134078\n"
     ]
    },
    {
     "data": {
      "application/vnd.jupyter.widget-view+json": {
       "model_id": "57ac16d6ed6c42f0b4fba4bfdfb65bc2",
       "version_major": 2,
       "version_minor": 0
      },
      "text/plain": [
       "Epoch 272:   0%|          | 0/25 [00:00<?, ?it/s]"
      ]
     },
     "metadata": {},
     "output_type": "display_data"
    },
    {
     "name": "stdout",
     "output_type": "stream",
     "text": [
      "Epoch 272 done — avg loss: 3.132723\n"
     ]
    },
    {
     "data": {
      "application/vnd.jupyter.widget-view+json": {
       "model_id": "b70d1d83b83f44f297b81088e1234ac1",
       "version_major": 2,
       "version_minor": 0
      },
      "text/plain": [
       "Epoch 273:   0%|          | 0/25 [00:00<?, ?it/s]"
      ]
     },
     "metadata": {},
     "output_type": "display_data"
    },
    {
     "name": "stdout",
     "output_type": "stream",
     "text": [
      "Epoch 273 done — avg loss: 3.133143\n"
     ]
    },
    {
     "data": {
      "application/vnd.jupyter.widget-view+json": {
       "model_id": "16fb98a194f54d5c98aa793495011499",
       "version_major": 2,
       "version_minor": 0
      },
      "text/plain": [
       "Epoch 274:   0%|          | 0/25 [00:00<?, ?it/s]"
      ]
     },
     "metadata": {},
     "output_type": "display_data"
    },
    {
     "name": "stdout",
     "output_type": "stream",
     "text": [
      "Epoch 274 done — avg loss: 3.130770\n"
     ]
    },
    {
     "data": {
      "application/vnd.jupyter.widget-view+json": {
       "model_id": "871b9dd409b849c0873607721b4e5a5a",
       "version_major": 2,
       "version_minor": 0
      },
      "text/plain": [
       "Epoch 275:   0%|          | 0/25 [00:00<?, ?it/s]"
      ]
     },
     "metadata": {},
     "output_type": "display_data"
    },
    {
     "name": "stdout",
     "output_type": "stream",
     "text": [
      "Epoch 275 done — avg loss: 3.130916\n"
     ]
    },
    {
     "data": {
      "application/vnd.jupyter.widget-view+json": {
       "model_id": "71eea8021eb74cf28c12909e359ff073",
       "version_major": 2,
       "version_minor": 0
      },
      "text/plain": [
       "Epoch 276:   0%|          | 0/25 [00:00<?, ?it/s]"
      ]
     },
     "metadata": {},
     "output_type": "display_data"
    },
    {
     "name": "stdout",
     "output_type": "stream",
     "text": [
      "Epoch 276 done — avg loss: 3.129032\n"
     ]
    },
    {
     "data": {
      "application/vnd.jupyter.widget-view+json": {
       "model_id": "cf95ab56d4da4940a94b0c3464daec56",
       "version_major": 2,
       "version_minor": 0
      },
      "text/plain": [
       "Epoch 277:   0%|          | 0/25 [00:00<?, ?it/s]"
      ]
     },
     "metadata": {},
     "output_type": "display_data"
    },
    {
     "name": "stdout",
     "output_type": "stream",
     "text": [
      "Epoch 277 done — avg loss: 3.128281\n"
     ]
    },
    {
     "data": {
      "application/vnd.jupyter.widget-view+json": {
       "model_id": "e56cfdfbb45241caba4858262e42a383",
       "version_major": 2,
       "version_minor": 0
      },
      "text/plain": [
       "Epoch 278:   0%|          | 0/25 [00:00<?, ?it/s]"
      ]
     },
     "metadata": {},
     "output_type": "display_data"
    },
    {
     "name": "stdout",
     "output_type": "stream",
     "text": [
      "Epoch 278 done — avg loss: 3.126457\n"
     ]
    },
    {
     "data": {
      "application/vnd.jupyter.widget-view+json": {
       "model_id": "e2c7a7f64a384ed691e3d7d16c038bbd",
       "version_major": 2,
       "version_minor": 0
      },
      "text/plain": [
       "Epoch 279:   0%|          | 0/25 [00:00<?, ?it/s]"
      ]
     },
     "metadata": {},
     "output_type": "display_data"
    },
    {
     "name": "stdout",
     "output_type": "stream",
     "text": [
      "Epoch 279 done — avg loss: 3.124914\n"
     ]
    },
    {
     "data": {
      "application/vnd.jupyter.widget-view+json": {
       "model_id": "817835efc4274b2abb39b25bfbedffeb",
       "version_major": 2,
       "version_minor": 0
      },
      "text/plain": [
       "Epoch 280:   0%|          | 0/25 [00:00<?, ?it/s]"
      ]
     },
     "metadata": {},
     "output_type": "display_data"
    },
    {
     "name": "stdout",
     "output_type": "stream",
     "text": [
      "Epoch 280 done — avg loss: 3.123884\n"
     ]
    },
    {
     "data": {
      "application/vnd.jupyter.widget-view+json": {
       "model_id": "3af4108a512e43f3a222506ab721d7dc",
       "version_major": 2,
       "version_minor": 0
      },
      "text/plain": [
       "Epoch 281:   0%|          | 0/25 [00:00<?, ?it/s]"
      ]
     },
     "metadata": {},
     "output_type": "display_data"
    },
    {
     "name": "stdout",
     "output_type": "stream",
     "text": [
      "Epoch 281 done — avg loss: 3.122742\n"
     ]
    },
    {
     "data": {
      "application/vnd.jupyter.widget-view+json": {
       "model_id": "0003645c4a0942aea293e4d15305f61c",
       "version_major": 2,
       "version_minor": 0
      },
      "text/plain": [
       "Epoch 282:   0%|          | 0/25 [00:00<?, ?it/s]"
      ]
     },
     "metadata": {},
     "output_type": "display_data"
    },
    {
     "name": "stdout",
     "output_type": "stream",
     "text": [
      "Epoch 282 done — avg loss: 3.121199\n"
     ]
    },
    {
     "data": {
      "application/vnd.jupyter.widget-view+json": {
       "model_id": "964adfa90ffe44118057f93333a2f725",
       "version_major": 2,
       "version_minor": 0
      },
      "text/plain": [
       "Epoch 283:   0%|          | 0/25 [00:00<?, ?it/s]"
      ]
     },
     "metadata": {},
     "output_type": "display_data"
    },
    {
     "name": "stdout",
     "output_type": "stream",
     "text": [
      "Epoch 283 done — avg loss: 3.121171\n"
     ]
    },
    {
     "data": {
      "application/vnd.jupyter.widget-view+json": {
       "model_id": "f63883ec917342e8b9df3e9f085ff1f3",
       "version_major": 2,
       "version_minor": 0
      },
      "text/plain": [
       "Epoch 284:   0%|          | 0/25 [00:00<?, ?it/s]"
      ]
     },
     "metadata": {},
     "output_type": "display_data"
    },
    {
     "name": "stdout",
     "output_type": "stream",
     "text": [
      "Epoch 284 done — avg loss: 3.120151\n"
     ]
    },
    {
     "data": {
      "application/vnd.jupyter.widget-view+json": {
       "model_id": "d755bdcd934f4cc1a9bb69e6c3262698",
       "version_major": 2,
       "version_minor": 0
      },
      "text/plain": [
       "Epoch 285:   0%|          | 0/25 [00:00<?, ?it/s]"
      ]
     },
     "metadata": {},
     "output_type": "display_data"
    },
    {
     "name": "stdout",
     "output_type": "stream",
     "text": [
      "Epoch 285 done — avg loss: 3.119443\n"
     ]
    },
    {
     "data": {
      "application/vnd.jupyter.widget-view+json": {
       "model_id": "cd7a131426d7486791c86c473b653d45",
       "version_major": 2,
       "version_minor": 0
      },
      "text/plain": [
       "Epoch 286:   0%|          | 0/25 [00:00<?, ?it/s]"
      ]
     },
     "metadata": {},
     "output_type": "display_data"
    },
    {
     "name": "stdout",
     "output_type": "stream",
     "text": [
      "Epoch 286 done — avg loss: 3.118365\n"
     ]
    },
    {
     "data": {
      "application/vnd.jupyter.widget-view+json": {
       "model_id": "f2830e14863348cbb8e31d640479a156",
       "version_major": 2,
       "version_minor": 0
      },
      "text/plain": [
       "Epoch 287:   0%|          | 0/25 [00:00<?, ?it/s]"
      ]
     },
     "metadata": {},
     "output_type": "display_data"
    },
    {
     "name": "stdout",
     "output_type": "stream",
     "text": [
      "Epoch 287 done — avg loss: 3.118319\n"
     ]
    },
    {
     "data": {
      "application/vnd.jupyter.widget-view+json": {
       "model_id": "640757520d8c4497973df0a85c23ed97",
       "version_major": 2,
       "version_minor": 0
      },
      "text/plain": [
       "Epoch 288:   0%|          | 0/25 [00:00<?, ?it/s]"
      ]
     },
     "metadata": {},
     "output_type": "display_data"
    },
    {
     "name": "stdout",
     "output_type": "stream",
     "text": [
      "Epoch 288 done — avg loss: 3.116607\n"
     ]
    },
    {
     "data": {
      "application/vnd.jupyter.widget-view+json": {
       "model_id": "f4cf01608b134148b2d8477e35300984",
       "version_major": 2,
       "version_minor": 0
      },
      "text/plain": [
       "Epoch 289:   0%|          | 0/25 [00:00<?, ?it/s]"
      ]
     },
     "metadata": {},
     "output_type": "display_data"
    },
    {
     "name": "stdout",
     "output_type": "stream",
     "text": [
      "Epoch 289 done — avg loss: 3.114782\n"
     ]
    },
    {
     "data": {
      "application/vnd.jupyter.widget-view+json": {
       "model_id": "af9cb62763dc435d96a5ebb6d234d2f1",
       "version_major": 2,
       "version_minor": 0
      },
      "text/plain": [
       "Epoch 290:   0%|          | 0/25 [00:00<?, ?it/s]"
      ]
     },
     "metadata": {},
     "output_type": "display_data"
    },
    {
     "name": "stdout",
     "output_type": "stream",
     "text": [
      "Epoch 290 done — avg loss: 3.114625\n"
     ]
    },
    {
     "data": {
      "application/vnd.jupyter.widget-view+json": {
       "model_id": "661fc3ddf2274a83bbe389a1d2f9737d",
       "version_major": 2,
       "version_minor": 0
      },
      "text/plain": [
       "Epoch 291:   0%|          | 0/25 [00:00<?, ?it/s]"
      ]
     },
     "metadata": {},
     "output_type": "display_data"
    },
    {
     "name": "stdout",
     "output_type": "stream",
     "text": [
      "Epoch 291 done — avg loss: 3.112047\n"
     ]
    },
    {
     "data": {
      "application/vnd.jupyter.widget-view+json": {
       "model_id": "80bcb8ecc1824859bc79a0c587b3ac89",
       "version_major": 2,
       "version_minor": 0
      },
      "text/plain": [
       "Epoch 292:   0%|          | 0/25 [00:00<?, ?it/s]"
      ]
     },
     "metadata": {},
     "output_type": "display_data"
    },
    {
     "name": "stdout",
     "output_type": "stream",
     "text": [
      "Epoch 292 done — avg loss: 3.110865\n"
     ]
    },
    {
     "data": {
      "application/vnd.jupyter.widget-view+json": {
       "model_id": "2d6d0279469c45c4ae603b252ef9823c",
       "version_major": 2,
       "version_minor": 0
      },
      "text/plain": [
       "Epoch 293:   0%|          | 0/25 [00:00<?, ?it/s]"
      ]
     },
     "metadata": {},
     "output_type": "display_data"
    },
    {
     "name": "stdout",
     "output_type": "stream",
     "text": [
      "Epoch 293 done — avg loss: 3.110109\n"
     ]
    },
    {
     "data": {
      "application/vnd.jupyter.widget-view+json": {
       "model_id": "448cface066044d3816f18d34eb61b3b",
       "version_major": 2,
       "version_minor": 0
      },
      "text/plain": [
       "Epoch 294:   0%|          | 0/25 [00:00<?, ?it/s]"
      ]
     },
     "metadata": {},
     "output_type": "display_data"
    },
    {
     "name": "stdout",
     "output_type": "stream",
     "text": [
      "Epoch 294 done — avg loss: 3.109215\n"
     ]
    },
    {
     "data": {
      "application/vnd.jupyter.widget-view+json": {
       "model_id": "8396407d0f8c4903bb5a8f2c765189b1",
       "version_major": 2,
       "version_minor": 0
      },
      "text/plain": [
       "Epoch 295:   0%|          | 0/25 [00:00<?, ?it/s]"
      ]
     },
     "metadata": {},
     "output_type": "display_data"
    },
    {
     "name": "stdout",
     "output_type": "stream",
     "text": [
      "Epoch 295 done — avg loss: 3.108206\n"
     ]
    },
    {
     "data": {
      "application/vnd.jupyter.widget-view+json": {
       "model_id": "0db3b4188bbc4d97a008525e470d74dd",
       "version_major": 2,
       "version_minor": 0
      },
      "text/plain": [
       "Epoch 296:   0%|          | 0/25 [00:00<?, ?it/s]"
      ]
     },
     "metadata": {},
     "output_type": "display_data"
    },
    {
     "name": "stdout",
     "output_type": "stream",
     "text": [
      "Epoch 296 done — avg loss: 3.107061\n"
     ]
    },
    {
     "data": {
      "application/vnd.jupyter.widget-view+json": {
       "model_id": "9a591b8e03bf48a2a5315ce123bc22bd",
       "version_major": 2,
       "version_minor": 0
      },
      "text/plain": [
       "Epoch 297:   0%|          | 0/25 [00:00<?, ?it/s]"
      ]
     },
     "metadata": {},
     "output_type": "display_data"
    },
    {
     "name": "stdout",
     "output_type": "stream",
     "text": [
      "Epoch 297 done — avg loss: 3.106117\n"
     ]
    },
    {
     "data": {
      "application/vnd.jupyter.widget-view+json": {
       "model_id": "8db669fbeafb4f3289ab67dcfab6d30d",
       "version_major": 2,
       "version_minor": 0
      },
      "text/plain": [
       "Epoch 298:   0%|          | 0/25 [00:00<?, ?it/s]"
      ]
     },
     "metadata": {},
     "output_type": "display_data"
    },
    {
     "name": "stdout",
     "output_type": "stream",
     "text": [
      "Epoch 298 done — avg loss: 3.105906\n"
     ]
    },
    {
     "data": {
      "application/vnd.jupyter.widget-view+json": {
       "model_id": "f52d3a9fa4704f57a914adfb3824a23e",
       "version_major": 2,
       "version_minor": 0
      },
      "text/plain": [
       "Epoch 299:   0%|          | 0/25 [00:00<?, ?it/s]"
      ]
     },
     "metadata": {},
     "output_type": "display_data"
    },
    {
     "name": "stdout",
     "output_type": "stream",
     "text": [
      "Epoch 299 done — avg loss: 3.104165\n"
     ]
    },
    {
     "data": {
      "application/vnd.jupyter.widget-view+json": {
       "model_id": "89e2fae513aa499e881ff2d2880786b3",
       "version_major": 2,
       "version_minor": 0
      },
      "text/plain": [
       "Epoch 300:   0%|          | 0/25 [00:00<?, ?it/s]"
      ]
     },
     "metadata": {},
     "output_type": "display_data"
    },
    {
     "name": "stdout",
     "output_type": "stream",
     "text": [
      "Epoch 300 done — avg loss: 3.103870\n"
     ]
    },
    {
     "data": {
      "application/vnd.jupyter.widget-view+json": {
       "model_id": "116347d2c1f34241adff559974a907e4",
       "version_major": 2,
       "version_minor": 0
      },
      "text/plain": [
       "Epoch 301:   0%|          | 0/25 [00:00<?, ?it/s]"
      ]
     },
     "metadata": {},
     "output_type": "display_data"
    },
    {
     "name": "stdout",
     "output_type": "stream",
     "text": [
      "Epoch 301 done — avg loss: 3.102836\n"
     ]
    },
    {
     "data": {
      "application/vnd.jupyter.widget-view+json": {
       "model_id": "3a96cf4570e244509ebbb45d3444cb78",
       "version_major": 2,
       "version_minor": 0
      },
      "text/plain": [
       "Epoch 302:   0%|          | 0/25 [00:00<?, ?it/s]"
      ]
     },
     "metadata": {},
     "output_type": "display_data"
    },
    {
     "name": "stdout",
     "output_type": "stream",
     "text": [
      "Epoch 302 done — avg loss: 3.101994\n"
     ]
    },
    {
     "data": {
      "application/vnd.jupyter.widget-view+json": {
       "model_id": "e898dfeb74c84884bbe8b63c2a92e6e3",
       "version_major": 2,
       "version_minor": 0
      },
      "text/plain": [
       "Epoch 303:   0%|          | 0/25 [00:00<?, ?it/s]"
      ]
     },
     "metadata": {},
     "output_type": "display_data"
    },
    {
     "name": "stdout",
     "output_type": "stream",
     "text": [
      "Epoch 303 done — avg loss: 3.100185\n"
     ]
    },
    {
     "data": {
      "application/vnd.jupyter.widget-view+json": {
       "model_id": "5597c12302014ae8b0dbe873b96c39b9",
       "version_major": 2,
       "version_minor": 0
      },
      "text/plain": [
       "Epoch 304:   0%|          | 0/25 [00:00<?, ?it/s]"
      ]
     },
     "metadata": {},
     "output_type": "display_data"
    },
    {
     "name": "stdout",
     "output_type": "stream",
     "text": [
      "Epoch 304 done — avg loss: 3.098939\n"
     ]
    },
    {
     "data": {
      "application/vnd.jupyter.widget-view+json": {
       "model_id": "c620e0045d0c4857aaf3f6893af894ad",
       "version_major": 2,
       "version_minor": 0
      },
      "text/plain": [
       "Epoch 305:   0%|          | 0/25 [00:00<?, ?it/s]"
      ]
     },
     "metadata": {},
     "output_type": "display_data"
    },
    {
     "name": "stdout",
     "output_type": "stream",
     "text": [
      "Epoch 305 done — avg loss: 3.098334\n"
     ]
    },
    {
     "data": {
      "application/vnd.jupyter.widget-view+json": {
       "model_id": "7a89afd3a74f4f80a10869c64223d3a4",
       "version_major": 2,
       "version_minor": 0
      },
      "text/plain": [
       "Epoch 306:   0%|          | 0/25 [00:00<?, ?it/s]"
      ]
     },
     "metadata": {},
     "output_type": "display_data"
    },
    {
     "name": "stdout",
     "output_type": "stream",
     "text": [
      "Epoch 306 done — avg loss: 3.099134\n"
     ]
    },
    {
     "data": {
      "application/vnd.jupyter.widget-view+json": {
       "model_id": "931d8acfcf354e7d8fe9e8bbadbc1493",
       "version_major": 2,
       "version_minor": 0
      },
      "text/plain": [
       "Epoch 307:   0%|          | 0/25 [00:00<?, ?it/s]"
      ]
     },
     "metadata": {},
     "output_type": "display_data"
    },
    {
     "name": "stdout",
     "output_type": "stream",
     "text": [
      "Epoch 307 done — avg loss: 3.095844\n"
     ]
    },
    {
     "data": {
      "application/vnd.jupyter.widget-view+json": {
       "model_id": "3899627598a24b339f4786def1e7a9f5",
       "version_major": 2,
       "version_minor": 0
      },
      "text/plain": [
       "Epoch 308:   0%|          | 0/25 [00:00<?, ?it/s]"
      ]
     },
     "metadata": {},
     "output_type": "display_data"
    },
    {
     "name": "stdout",
     "output_type": "stream",
     "text": [
      "Epoch 308 done — avg loss: 3.094434\n"
     ]
    },
    {
     "data": {
      "application/vnd.jupyter.widget-view+json": {
       "model_id": "325cfb94628b4d929802889dce23f530",
       "version_major": 2,
       "version_minor": 0
      },
      "text/plain": [
       "Epoch 309:   0%|          | 0/25 [00:00<?, ?it/s]"
      ]
     },
     "metadata": {},
     "output_type": "display_data"
    },
    {
     "name": "stdout",
     "output_type": "stream",
     "text": [
      "Epoch 309 done — avg loss: 3.095932\n"
     ]
    },
    {
     "data": {
      "application/vnd.jupyter.widget-view+json": {
       "model_id": "7223b5f0c6804bb9af155534d2de3e21",
       "version_major": 2,
       "version_minor": 0
      },
      "text/plain": [
       "Epoch 310:   0%|          | 0/25 [00:00<?, ?it/s]"
      ]
     },
     "metadata": {},
     "output_type": "display_data"
    },
    {
     "name": "stdout",
     "output_type": "stream",
     "text": [
      "Epoch 310 done — avg loss: 3.094616\n"
     ]
    },
    {
     "data": {
      "application/vnd.jupyter.widget-view+json": {
       "model_id": "038db4e268d94cbcbf9b46c30ca861bd",
       "version_major": 2,
       "version_minor": 0
      },
      "text/plain": [
       "Epoch 311:   0%|          | 0/25 [00:00<?, ?it/s]"
      ]
     },
     "metadata": {},
     "output_type": "display_data"
    },
    {
     "name": "stdout",
     "output_type": "stream",
     "text": [
      "Epoch 311 done — avg loss: 3.092394\n"
     ]
    },
    {
     "data": {
      "application/vnd.jupyter.widget-view+json": {
       "model_id": "c5db5537ebea4d7cbb6d2b897f26e31b",
       "version_major": 2,
       "version_minor": 0
      },
      "text/plain": [
       "Epoch 312:   0%|          | 0/25 [00:00<?, ?it/s]"
      ]
     },
     "metadata": {},
     "output_type": "display_data"
    },
    {
     "name": "stdout",
     "output_type": "stream",
     "text": [
      "Epoch 312 done — avg loss: 3.090292\n"
     ]
    },
    {
     "data": {
      "application/vnd.jupyter.widget-view+json": {
       "model_id": "d28ff9891c8a4af0921c755f6a428be5",
       "version_major": 2,
       "version_minor": 0
      },
      "text/plain": [
       "Epoch 313:   0%|          | 0/25 [00:00<?, ?it/s]"
      ]
     },
     "metadata": {},
     "output_type": "display_data"
    },
    {
     "name": "stdout",
     "output_type": "stream",
     "text": [
      "Epoch 313 done — avg loss: 3.090090\n"
     ]
    },
    {
     "data": {
      "application/vnd.jupyter.widget-view+json": {
       "model_id": "f26f5f2bada148079db69a5ce8d32ae0",
       "version_major": 2,
       "version_minor": 0
      },
      "text/plain": [
       "Epoch 314:   0%|          | 0/25 [00:00<?, ?it/s]"
      ]
     },
     "metadata": {},
     "output_type": "display_data"
    },
    {
     "name": "stdout",
     "output_type": "stream",
     "text": [
      "Epoch 314 done — avg loss: 3.088835\n"
     ]
    },
    {
     "data": {
      "application/vnd.jupyter.widget-view+json": {
       "model_id": "63467d44040046259dcf65bb72c02954",
       "version_major": 2,
       "version_minor": 0
      },
      "text/plain": [
       "Epoch 315:   0%|          | 0/25 [00:00<?, ?it/s]"
      ]
     },
     "metadata": {},
     "output_type": "display_data"
    },
    {
     "name": "stdout",
     "output_type": "stream",
     "text": [
      "Epoch 315 done — avg loss: 3.087590\n"
     ]
    },
    {
     "data": {
      "application/vnd.jupyter.widget-view+json": {
       "model_id": "627d334ad7f54824a06c6d62c1ec5d9f",
       "version_major": 2,
       "version_minor": 0
      },
      "text/plain": [
       "Epoch 316:   0%|          | 0/25 [00:00<?, ?it/s]"
      ]
     },
     "metadata": {},
     "output_type": "display_data"
    },
    {
     "name": "stdout",
     "output_type": "stream",
     "text": [
      "Epoch 316 done — avg loss: 3.086711\n"
     ]
    },
    {
     "data": {
      "application/vnd.jupyter.widget-view+json": {
       "model_id": "00517bca967746d299733593a32da586",
       "version_major": 2,
       "version_minor": 0
      },
      "text/plain": [
       "Epoch 317:   0%|          | 0/25 [00:00<?, ?it/s]"
      ]
     },
     "metadata": {},
     "output_type": "display_data"
    },
    {
     "name": "stdout",
     "output_type": "stream",
     "text": [
      "Epoch 317 done — avg loss: 3.085617\n"
     ]
    },
    {
     "data": {
      "application/vnd.jupyter.widget-view+json": {
       "model_id": "c6bbc1b648134909b11a234fd32786db",
       "version_major": 2,
       "version_minor": 0
      },
      "text/plain": [
       "Epoch 318:   0%|          | 0/25 [00:00<?, ?it/s]"
      ]
     },
     "metadata": {},
     "output_type": "display_data"
    },
    {
     "name": "stdout",
     "output_type": "stream",
     "text": [
      "Epoch 318 done — avg loss: 3.084318\n"
     ]
    },
    {
     "data": {
      "application/vnd.jupyter.widget-view+json": {
       "model_id": "7c6221397bb04fdaa0bb0ee39f580627",
       "version_major": 2,
       "version_minor": 0
      },
      "text/plain": [
       "Epoch 319:   0%|          | 0/25 [00:00<?, ?it/s]"
      ]
     },
     "metadata": {},
     "output_type": "display_data"
    },
    {
     "name": "stdout",
     "output_type": "stream",
     "text": [
      "Epoch 319 done — avg loss: 3.084375\n"
     ]
    },
    {
     "data": {
      "application/vnd.jupyter.widget-view+json": {
       "model_id": "891ec2596e2e4ea9aed301a4ee47c494",
       "version_major": 2,
       "version_minor": 0
      },
      "text/plain": [
       "Epoch 320:   0%|          | 0/25 [00:00<?, ?it/s]"
      ]
     },
     "metadata": {},
     "output_type": "display_data"
    },
    {
     "name": "stdout",
     "output_type": "stream",
     "text": [
      "Epoch 320 done — avg loss: 3.082767\n"
     ]
    },
    {
     "data": {
      "application/vnd.jupyter.widget-view+json": {
       "model_id": "a77ffac2097944d1b918760e625db4a2",
       "version_major": 2,
       "version_minor": 0
      },
      "text/plain": [
       "Epoch 321:   0%|          | 0/25 [00:00<?, ?it/s]"
      ]
     },
     "metadata": {},
     "output_type": "display_data"
    },
    {
     "name": "stdout",
     "output_type": "stream",
     "text": [
      "Epoch 321 done — avg loss: 3.081607\n"
     ]
    },
    {
     "data": {
      "application/vnd.jupyter.widget-view+json": {
       "model_id": "5346bf89221e4ba18cbb93780832a6c4",
       "version_major": 2,
       "version_minor": 0
      },
      "text/plain": [
       "Epoch 322:   0%|          | 0/25 [00:00<?, ?it/s]"
      ]
     },
     "metadata": {},
     "output_type": "display_data"
    },
    {
     "name": "stdout",
     "output_type": "stream",
     "text": [
      "Epoch 322 done — avg loss: 3.081620\n"
     ]
    },
    {
     "data": {
      "application/vnd.jupyter.widget-view+json": {
       "model_id": "6e9c65795fc7452f87af252052879f77",
       "version_major": 2,
       "version_minor": 0
      },
      "text/plain": [
       "Epoch 323:   0%|          | 0/25 [00:00<?, ?it/s]"
      ]
     },
     "metadata": {},
     "output_type": "display_data"
    },
    {
     "name": "stdout",
     "output_type": "stream",
     "text": [
      "Epoch 323 done — avg loss: 3.080090\n"
     ]
    },
    {
     "data": {
      "application/vnd.jupyter.widget-view+json": {
       "model_id": "0a3ee52fd6744ec28affd1c8433aa4f5",
       "version_major": 2,
       "version_minor": 0
      },
      "text/plain": [
       "Epoch 324:   0%|          | 0/25 [00:00<?, ?it/s]"
      ]
     },
     "metadata": {},
     "output_type": "display_data"
    },
    {
     "name": "stdout",
     "output_type": "stream",
     "text": [
      "Epoch 324 done — avg loss: 3.078193\n"
     ]
    },
    {
     "data": {
      "application/vnd.jupyter.widget-view+json": {
       "model_id": "9e65804351414f5586484e751ed060a3",
       "version_major": 2,
       "version_minor": 0
      },
      "text/plain": [
       "Epoch 325:   0%|          | 0/25 [00:00<?, ?it/s]"
      ]
     },
     "metadata": {},
     "output_type": "display_data"
    },
    {
     "name": "stdout",
     "output_type": "stream",
     "text": [
      "Epoch 325 done — avg loss: 3.079246\n"
     ]
    },
    {
     "data": {
      "application/vnd.jupyter.widget-view+json": {
       "model_id": "1a610eca9be74e708e42f9b6709e8fb7",
       "version_major": 2,
       "version_minor": 0
      },
      "text/plain": [
       "Epoch 326:   0%|          | 0/25 [00:00<?, ?it/s]"
      ]
     },
     "metadata": {},
     "output_type": "display_data"
    },
    {
     "name": "stdout",
     "output_type": "stream",
     "text": [
      "Epoch 326 done — avg loss: 3.076215\n"
     ]
    },
    {
     "data": {
      "application/vnd.jupyter.widget-view+json": {
       "model_id": "f80ebfa1216f4cfc887e93a740998b26",
       "version_major": 2,
       "version_minor": 0
      },
      "text/plain": [
       "Epoch 327:   0%|          | 0/25 [00:00<?, ?it/s]"
      ]
     },
     "metadata": {},
     "output_type": "display_data"
    },
    {
     "name": "stdout",
     "output_type": "stream",
     "text": [
      "Epoch 327 done — avg loss: 3.074948\n"
     ]
    },
    {
     "data": {
      "application/vnd.jupyter.widget-view+json": {
       "model_id": "fbce663ea3c148e6b43177dfe727e751",
       "version_major": 2,
       "version_minor": 0
      },
      "text/plain": [
       "Epoch 328:   0%|          | 0/25 [00:00<?, ?it/s]"
      ]
     },
     "metadata": {},
     "output_type": "display_data"
    },
    {
     "name": "stdout",
     "output_type": "stream",
     "text": [
      "Epoch 328 done — avg loss: 3.073886\n"
     ]
    },
    {
     "data": {
      "application/vnd.jupyter.widget-view+json": {
       "model_id": "7482a36220dc4ffdbe0e05324ab9ddcd",
       "version_major": 2,
       "version_minor": 0
      },
      "text/plain": [
       "Epoch 329:   0%|          | 0/25 [00:00<?, ?it/s]"
      ]
     },
     "metadata": {},
     "output_type": "display_data"
    },
    {
     "name": "stdout",
     "output_type": "stream",
     "text": [
      "Epoch 329 done — avg loss: 3.072934\n"
     ]
    },
    {
     "data": {
      "application/vnd.jupyter.widget-view+json": {
       "model_id": "6679121f8dff416eb0c4c5aba15879d4",
       "version_major": 2,
       "version_minor": 0
      },
      "text/plain": [
       "Epoch 330:   0%|          | 0/25 [00:00<?, ?it/s]"
      ]
     },
     "metadata": {},
     "output_type": "display_data"
    },
    {
     "name": "stdout",
     "output_type": "stream",
     "text": [
      "Epoch 330 done — avg loss: 3.071100\n"
     ]
    },
    {
     "data": {
      "application/vnd.jupyter.widget-view+json": {
       "model_id": "29eefc5792fe4399bf2e23b8b65507ee",
       "version_major": 2,
       "version_minor": 0
      },
      "text/plain": [
       "Epoch 331:   0%|          | 0/25 [00:00<?, ?it/s]"
      ]
     },
     "metadata": {},
     "output_type": "display_data"
    },
    {
     "name": "stdout",
     "output_type": "stream",
     "text": [
      "Epoch 331 done — avg loss: 3.070559\n"
     ]
    },
    {
     "data": {
      "application/vnd.jupyter.widget-view+json": {
       "model_id": "50e556cd3d294e61a165c81a315e1148",
       "version_major": 2,
       "version_minor": 0
      },
      "text/plain": [
       "Epoch 332:   0%|          | 0/25 [00:00<?, ?it/s]"
      ]
     },
     "metadata": {},
     "output_type": "display_data"
    },
    {
     "name": "stdout",
     "output_type": "stream",
     "text": [
      "Epoch 332 done — avg loss: 3.069836\n"
     ]
    },
    {
     "data": {
      "application/vnd.jupyter.widget-view+json": {
       "model_id": "41ce0a5b5029407d83220e6468401117",
       "version_major": 2,
       "version_minor": 0
      },
      "text/plain": [
       "Epoch 333:   0%|          | 0/25 [00:00<?, ?it/s]"
      ]
     },
     "metadata": {},
     "output_type": "display_data"
    },
    {
     "name": "stdout",
     "output_type": "stream",
     "text": [
      "Epoch 333 done — avg loss: 3.068797\n"
     ]
    },
    {
     "data": {
      "application/vnd.jupyter.widget-view+json": {
       "model_id": "d6cf11d5780b44018072db80c30fcc53",
       "version_major": 2,
       "version_minor": 0
      },
      "text/plain": [
       "Epoch 334:   0%|          | 0/25 [00:00<?, ?it/s]"
      ]
     },
     "metadata": {},
     "output_type": "display_data"
    },
    {
     "name": "stdout",
     "output_type": "stream",
     "text": [
      "Epoch 334 done — avg loss: 3.069618\n"
     ]
    },
    {
     "data": {
      "application/vnd.jupyter.widget-view+json": {
       "model_id": "eff22079483a4eb2996e68d59a905068",
       "version_major": 2,
       "version_minor": 0
      },
      "text/plain": [
       "Epoch 335:   0%|          | 0/25 [00:00<?, ?it/s]"
      ]
     },
     "metadata": {},
     "output_type": "display_data"
    },
    {
     "name": "stdout",
     "output_type": "stream",
     "text": [
      "Epoch 335 done — avg loss: 3.067983\n"
     ]
    },
    {
     "data": {
      "application/vnd.jupyter.widget-view+json": {
       "model_id": "e6b171651bd448649cf3bd383597d3d0",
       "version_major": 2,
       "version_minor": 0
      },
      "text/plain": [
       "Epoch 336:   0%|          | 0/25 [00:00<?, ?it/s]"
      ]
     },
     "metadata": {},
     "output_type": "display_data"
    },
    {
     "name": "stdout",
     "output_type": "stream",
     "text": [
      "Epoch 336 done — avg loss: 3.066518\n"
     ]
    },
    {
     "data": {
      "application/vnd.jupyter.widget-view+json": {
       "model_id": "939b1606c06f4370b18981db0447210c",
       "version_major": 2,
       "version_minor": 0
      },
      "text/plain": [
       "Epoch 337:   0%|          | 0/25 [00:00<?, ?it/s]"
      ]
     },
     "metadata": {},
     "output_type": "display_data"
    },
    {
     "name": "stdout",
     "output_type": "stream",
     "text": [
      "Epoch 337 done — avg loss: 3.065103\n"
     ]
    },
    {
     "data": {
      "application/vnd.jupyter.widget-view+json": {
       "model_id": "a0c2ab79fc2d4fbe9705f18b436afccf",
       "version_major": 2,
       "version_minor": 0
      },
      "text/plain": [
       "Epoch 338:   0%|          | 0/25 [00:00<?, ?it/s]"
      ]
     },
     "metadata": {},
     "output_type": "display_data"
    },
    {
     "name": "stdout",
     "output_type": "stream",
     "text": [
      "Epoch 338 done — avg loss: 3.063516\n"
     ]
    },
    {
     "data": {
      "application/vnd.jupyter.widget-view+json": {
       "model_id": "22896d0ea9184f208322b6bee67faa44",
       "version_major": 2,
       "version_minor": 0
      },
      "text/plain": [
       "Epoch 339:   0%|          | 0/25 [00:00<?, ?it/s]"
      ]
     },
     "metadata": {},
     "output_type": "display_data"
    },
    {
     "name": "stdout",
     "output_type": "stream",
     "text": [
      "Epoch 339 done — avg loss: 3.062929\n"
     ]
    },
    {
     "data": {
      "application/vnd.jupyter.widget-view+json": {
       "model_id": "479fd7cad4f34b63b35dbbe52191a8b8",
       "version_major": 2,
       "version_minor": 0
      },
      "text/plain": [
       "Epoch 340:   0%|          | 0/25 [00:00<?, ?it/s]"
      ]
     },
     "metadata": {},
     "output_type": "display_data"
    },
    {
     "name": "stdout",
     "output_type": "stream",
     "text": [
      "Epoch 340 done — avg loss: 3.061534\n"
     ]
    },
    {
     "data": {
      "application/vnd.jupyter.widget-view+json": {
       "model_id": "2a87374f774943f290d6d148c167d61f",
       "version_major": 2,
       "version_minor": 0
      },
      "text/plain": [
       "Epoch 341:   0%|          | 0/25 [00:00<?, ?it/s]"
      ]
     },
     "metadata": {},
     "output_type": "display_data"
    },
    {
     "name": "stdout",
     "output_type": "stream",
     "text": [
      "Epoch 341 done — avg loss: 3.060007\n"
     ]
    },
    {
     "data": {
      "application/vnd.jupyter.widget-view+json": {
       "model_id": "e1eca58116df4979b91ef93fa6126132",
       "version_major": 2,
       "version_minor": 0
      },
      "text/plain": [
       "Epoch 342:   0%|          | 0/25 [00:00<?, ?it/s]"
      ]
     },
     "metadata": {},
     "output_type": "display_data"
    },
    {
     "name": "stdout",
     "output_type": "stream",
     "text": [
      "Epoch 342 done — avg loss: 3.059903\n"
     ]
    },
    {
     "data": {
      "application/vnd.jupyter.widget-view+json": {
       "model_id": "09d8814b4f194f3687fb723264e58250",
       "version_major": 2,
       "version_minor": 0
      },
      "text/plain": [
       "Epoch 343:   0%|          | 0/25 [00:00<?, ?it/s]"
      ]
     },
     "metadata": {},
     "output_type": "display_data"
    },
    {
     "name": "stdout",
     "output_type": "stream",
     "text": [
      "Epoch 343 done — avg loss: 3.057900\n"
     ]
    },
    {
     "data": {
      "application/vnd.jupyter.widget-view+json": {
       "model_id": "e6b5461e28a6437db0b9bdd1ef35df98",
       "version_major": 2,
       "version_minor": 0
      },
      "text/plain": [
       "Epoch 344:   0%|          | 0/25 [00:00<?, ?it/s]"
      ]
     },
     "metadata": {},
     "output_type": "display_data"
    },
    {
     "name": "stdout",
     "output_type": "stream",
     "text": [
      "Epoch 344 done — avg loss: 3.058041\n"
     ]
    },
    {
     "data": {
      "application/vnd.jupyter.widget-view+json": {
       "model_id": "d0584026238f4d3b987a584f5fbaf399",
       "version_major": 2,
       "version_minor": 0
      },
      "text/plain": [
       "Epoch 345:   0%|          | 0/25 [00:00<?, ?it/s]"
      ]
     },
     "metadata": {},
     "output_type": "display_data"
    },
    {
     "name": "stdout",
     "output_type": "stream",
     "text": [
      "Epoch 345 done — avg loss: 3.056245\n"
     ]
    },
    {
     "data": {
      "application/vnd.jupyter.widget-view+json": {
       "model_id": "ddbcc51364f14713ae60a116ed0a2f92",
       "version_major": 2,
       "version_minor": 0
      },
      "text/plain": [
       "Epoch 346:   0%|          | 0/25 [00:00<?, ?it/s]"
      ]
     },
     "metadata": {},
     "output_type": "display_data"
    },
    {
     "name": "stdout",
     "output_type": "stream",
     "text": [
      "Epoch 346 done — avg loss: 3.056698\n"
     ]
    },
    {
     "data": {
      "application/vnd.jupyter.widget-view+json": {
       "model_id": "83dacc0374e945b08945113215aebbeb",
       "version_major": 2,
       "version_minor": 0
      },
      "text/plain": [
       "Epoch 347:   0%|          | 0/25 [00:00<?, ?it/s]"
      ]
     },
     "metadata": {},
     "output_type": "display_data"
    },
    {
     "name": "stdout",
     "output_type": "stream",
     "text": [
      "Epoch 347 done — avg loss: 3.057082\n"
     ]
    },
    {
     "data": {
      "application/vnd.jupyter.widget-view+json": {
       "model_id": "681f5d1e0407481aa743f7f56abd0865",
       "version_major": 2,
       "version_minor": 0
      },
      "text/plain": [
       "Epoch 348:   0%|          | 0/25 [00:00<?, ?it/s]"
      ]
     },
     "metadata": {},
     "output_type": "display_data"
    },
    {
     "name": "stdout",
     "output_type": "stream",
     "text": [
      "Epoch 348 done — avg loss: 3.055061\n"
     ]
    },
    {
     "data": {
      "application/vnd.jupyter.widget-view+json": {
       "model_id": "44c693ed390a4671b9b50249a42fbf6c",
       "version_major": 2,
       "version_minor": 0
      },
      "text/plain": [
       "Epoch 349:   0%|          | 0/25 [00:00<?, ?it/s]"
      ]
     },
     "metadata": {},
     "output_type": "display_data"
    },
    {
     "name": "stdout",
     "output_type": "stream",
     "text": [
      "Epoch 349 done — avg loss: 3.053945\n"
     ]
    },
    {
     "data": {
      "application/vnd.jupyter.widget-view+json": {
       "model_id": "fc0453c823ce4a54a8fa5316ed62dda3",
       "version_major": 2,
       "version_minor": 0
      },
      "text/plain": [
       "Epoch 350:   0%|          | 0/25 [00:00<?, ?it/s]"
      ]
     },
     "metadata": {},
     "output_type": "display_data"
    },
    {
     "name": "stdout",
     "output_type": "stream",
     "text": [
      "Epoch 350 done — avg loss: 3.053597\n"
     ]
    },
    {
     "data": {
      "application/vnd.jupyter.widget-view+json": {
       "model_id": "63a50d47ba1e4f6194b62ee761d5e289",
       "version_major": 2,
       "version_minor": 0
      },
      "text/plain": [
       "Epoch 351:   0%|          | 0/25 [00:00<?, ?it/s]"
      ]
     },
     "metadata": {},
     "output_type": "display_data"
    },
    {
     "name": "stdout",
     "output_type": "stream",
     "text": [
      "Epoch 351 done — avg loss: 3.053439\n"
     ]
    },
    {
     "data": {
      "application/vnd.jupyter.widget-view+json": {
       "model_id": "f93a02ffa0e04baebc42f615fa871ae2",
       "version_major": 2,
       "version_minor": 0
      },
      "text/plain": [
       "Epoch 352:   0%|          | 0/25 [00:00<?, ?it/s]"
      ]
     },
     "metadata": {},
     "output_type": "display_data"
    },
    {
     "name": "stdout",
     "output_type": "stream",
     "text": [
      "Epoch 352 done — avg loss: 3.050826\n"
     ]
    },
    {
     "data": {
      "application/vnd.jupyter.widget-view+json": {
       "model_id": "649ee24716054dc5bac1d205dfec051d",
       "version_major": 2,
       "version_minor": 0
      },
      "text/plain": [
       "Epoch 353:   0%|          | 0/25 [00:00<?, ?it/s]"
      ]
     },
     "metadata": {},
     "output_type": "display_data"
    },
    {
     "name": "stdout",
     "output_type": "stream",
     "text": [
      "Epoch 353 done — avg loss: 3.049015\n"
     ]
    },
    {
     "data": {
      "application/vnd.jupyter.widget-view+json": {
       "model_id": "d7cee5524850400dbf738ee7613e30e3",
       "version_major": 2,
       "version_minor": 0
      },
      "text/plain": [
       "Epoch 354:   0%|          | 0/25 [00:00<?, ?it/s]"
      ]
     },
     "metadata": {},
     "output_type": "display_data"
    },
    {
     "name": "stdout",
     "output_type": "stream",
     "text": [
      "Epoch 354 done — avg loss: 3.050051\n"
     ]
    },
    {
     "data": {
      "application/vnd.jupyter.widget-view+json": {
       "model_id": "05f7424f495d4e349f7d0f9a0715bf77",
       "version_major": 2,
       "version_minor": 0
      },
      "text/plain": [
       "Epoch 355:   0%|          | 0/25 [00:00<?, ?it/s]"
      ]
     },
     "metadata": {},
     "output_type": "display_data"
    },
    {
     "name": "stdout",
     "output_type": "stream",
     "text": [
      "Epoch 355 done — avg loss: 3.048733\n"
     ]
    },
    {
     "data": {
      "application/vnd.jupyter.widget-view+json": {
       "model_id": "d01141d3c88447268ad9ab64745fda0b",
       "version_major": 2,
       "version_minor": 0
      },
      "text/plain": [
       "Epoch 356:   0%|          | 0/25 [00:00<?, ?it/s]"
      ]
     },
     "metadata": {},
     "output_type": "display_data"
    },
    {
     "name": "stdout",
     "output_type": "stream",
     "text": [
      "Epoch 356 done — avg loss: 3.046344\n"
     ]
    },
    {
     "data": {
      "application/vnd.jupyter.widget-view+json": {
       "model_id": "1643b21bb77e4327ba3784103c4f64ab",
       "version_major": 2,
       "version_minor": 0
      },
      "text/plain": [
       "Epoch 357:   0%|          | 0/25 [00:00<?, ?it/s]"
      ]
     },
     "metadata": {},
     "output_type": "display_data"
    },
    {
     "name": "stdout",
     "output_type": "stream",
     "text": [
      "Epoch 357 done — avg loss: 3.045013\n"
     ]
    },
    {
     "data": {
      "application/vnd.jupyter.widget-view+json": {
       "model_id": "2178ec9feeaa4c4e9776564a753d0a41",
       "version_major": 2,
       "version_minor": 0
      },
      "text/plain": [
       "Epoch 358:   0%|          | 0/25 [00:00<?, ?it/s]"
      ]
     },
     "metadata": {},
     "output_type": "display_data"
    },
    {
     "name": "stdout",
     "output_type": "stream",
     "text": [
      "Epoch 358 done — avg loss: 3.044529\n"
     ]
    },
    {
     "data": {
      "application/vnd.jupyter.widget-view+json": {
       "model_id": "91fc4725ea754ee58860a133d0e72fa0",
       "version_major": 2,
       "version_minor": 0
      },
      "text/plain": [
       "Epoch 359:   0%|          | 0/25 [00:00<?, ?it/s]"
      ]
     },
     "metadata": {},
     "output_type": "display_data"
    },
    {
     "name": "stdout",
     "output_type": "stream",
     "text": [
      "Epoch 359 done — avg loss: 3.043287\n"
     ]
    },
    {
     "data": {
      "application/vnd.jupyter.widget-view+json": {
       "model_id": "3ed591b1ab7f45468788f6fe21b422c0",
       "version_major": 2,
       "version_minor": 0
      },
      "text/plain": [
       "Epoch 360:   0%|          | 0/25 [00:00<?, ?it/s]"
      ]
     },
     "metadata": {},
     "output_type": "display_data"
    },
    {
     "name": "stdout",
     "output_type": "stream",
     "text": [
      "Epoch 360 done — avg loss: 3.042645\n"
     ]
    },
    {
     "data": {
      "application/vnd.jupyter.widget-view+json": {
       "model_id": "c800acb71eb84a69b9dccd288f0e46c7",
       "version_major": 2,
       "version_minor": 0
      },
      "text/plain": [
       "Epoch 361:   0%|          | 0/25 [00:00<?, ?it/s]"
      ]
     },
     "metadata": {},
     "output_type": "display_data"
    },
    {
     "name": "stdout",
     "output_type": "stream",
     "text": [
      "Epoch 361 done — avg loss: 3.042057\n"
     ]
    },
    {
     "data": {
      "application/vnd.jupyter.widget-view+json": {
       "model_id": "b1ba940b2d4f46a2ba99844d02fa80c5",
       "version_major": 2,
       "version_minor": 0
      },
      "text/plain": [
       "Epoch 362:   0%|          | 0/25 [00:00<?, ?it/s]"
      ]
     },
     "metadata": {},
     "output_type": "display_data"
    },
    {
     "name": "stdout",
     "output_type": "stream",
     "text": [
      "Epoch 362 done — avg loss: 3.040721\n"
     ]
    },
    {
     "data": {
      "application/vnd.jupyter.widget-view+json": {
       "model_id": "d243622ab2a24a48a64fda3610269259",
       "version_major": 2,
       "version_minor": 0
      },
      "text/plain": [
       "Epoch 363:   0%|          | 0/25 [00:00<?, ?it/s]"
      ]
     },
     "metadata": {},
     "output_type": "display_data"
    },
    {
     "name": "stdout",
     "output_type": "stream",
     "text": [
      "Epoch 363 done — avg loss: 3.039169\n"
     ]
    },
    {
     "data": {
      "application/vnd.jupyter.widget-view+json": {
       "model_id": "838128d5709f4da69a6f994a4b6f47e6",
       "version_major": 2,
       "version_minor": 0
      },
      "text/plain": [
       "Epoch 364:   0%|          | 0/25 [00:00<?, ?it/s]"
      ]
     },
     "metadata": {},
     "output_type": "display_data"
    },
    {
     "name": "stdout",
     "output_type": "stream",
     "text": [
      "Epoch 364 done — avg loss: 3.038100\n"
     ]
    },
    {
     "data": {
      "application/vnd.jupyter.widget-view+json": {
       "model_id": "4cd8fc8a62ab4bf4bafa5ac7ba9388ab",
       "version_major": 2,
       "version_minor": 0
      },
      "text/plain": [
       "Epoch 365:   0%|          | 0/25 [00:00<?, ?it/s]"
      ]
     },
     "metadata": {},
     "output_type": "display_data"
    },
    {
     "name": "stdout",
     "output_type": "stream",
     "text": [
      "Epoch 365 done — avg loss: 3.037913\n"
     ]
    },
    {
     "data": {
      "application/vnd.jupyter.widget-view+json": {
       "model_id": "ef3e4c015e5344ebb66aedb50cd2cc3c",
       "version_major": 2,
       "version_minor": 0
      },
      "text/plain": [
       "Epoch 366:   0%|          | 0/25 [00:00<?, ?it/s]"
      ]
     },
     "metadata": {},
     "output_type": "display_data"
    },
    {
     "name": "stdout",
     "output_type": "stream",
     "text": [
      "Epoch 366 done — avg loss: 3.036869\n"
     ]
    },
    {
     "data": {
      "application/vnd.jupyter.widget-view+json": {
       "model_id": "b14090301a0447c6b546fb81041a684c",
       "version_major": 2,
       "version_minor": 0
      },
      "text/plain": [
       "Epoch 367:   0%|          | 0/25 [00:00<?, ?it/s]"
      ]
     },
     "metadata": {},
     "output_type": "display_data"
    },
    {
     "name": "stdout",
     "output_type": "stream",
     "text": [
      "Epoch 367 done — avg loss: 3.036653\n"
     ]
    },
    {
     "data": {
      "application/vnd.jupyter.widget-view+json": {
       "model_id": "a49a1974bf2e47368fbffe05c022c7bf",
       "version_major": 2,
       "version_minor": 0
      },
      "text/plain": [
       "Epoch 368:   0%|          | 0/25 [00:00<?, ?it/s]"
      ]
     },
     "metadata": {},
     "output_type": "display_data"
    },
    {
     "name": "stdout",
     "output_type": "stream",
     "text": [
      "Epoch 368 done — avg loss: 3.033906\n"
     ]
    },
    {
     "data": {
      "application/vnd.jupyter.widget-view+json": {
       "model_id": "06ab35ff77d242c49447bab2f3c4870f",
       "version_major": 2,
       "version_minor": 0
      },
      "text/plain": [
       "Epoch 369:   0%|          | 0/25 [00:00<?, ?it/s]"
      ]
     },
     "metadata": {},
     "output_type": "display_data"
    },
    {
     "name": "stdout",
     "output_type": "stream",
     "text": [
      "Epoch 369 done — avg loss: 3.032659\n"
     ]
    },
    {
     "data": {
      "application/vnd.jupyter.widget-view+json": {
       "model_id": "b16bb936245c45029e5965b0f6cdba0f",
       "version_major": 2,
       "version_minor": 0
      },
      "text/plain": [
       "Epoch 370:   0%|          | 0/25 [00:00<?, ?it/s]"
      ]
     },
     "metadata": {},
     "output_type": "display_data"
    },
    {
     "name": "stdout",
     "output_type": "stream",
     "text": [
      "Epoch 370 done — avg loss: 3.032381\n"
     ]
    },
    {
     "data": {
      "application/vnd.jupyter.widget-view+json": {
       "model_id": "397920706e7b4c85a2b04f078876c31d",
       "version_major": 2,
       "version_minor": 0
      },
      "text/plain": [
       "Epoch 371:   0%|          | 0/25 [00:00<?, ?it/s]"
      ]
     },
     "metadata": {},
     "output_type": "display_data"
    },
    {
     "name": "stdout",
     "output_type": "stream",
     "text": [
      "Epoch 371 done — avg loss: 3.032084\n"
     ]
    },
    {
     "data": {
      "application/vnd.jupyter.widget-view+json": {
       "model_id": "6be17f36f8e34540a37e2cb7e13b5ea6",
       "version_major": 2,
       "version_minor": 0
      },
      "text/plain": [
       "Epoch 372:   0%|          | 0/25 [00:00<?, ?it/s]"
      ]
     },
     "metadata": {},
     "output_type": "display_data"
    },
    {
     "name": "stdout",
     "output_type": "stream",
     "text": [
      "Epoch 372 done — avg loss: 3.030650\n"
     ]
    },
    {
     "data": {
      "application/vnd.jupyter.widget-view+json": {
       "model_id": "09cf2615145e45f2adba03afa1c094a4",
       "version_major": 2,
       "version_minor": 0
      },
      "text/plain": [
       "Epoch 373:   0%|          | 0/25 [00:00<?, ?it/s]"
      ]
     },
     "metadata": {},
     "output_type": "display_data"
    },
    {
     "name": "stdout",
     "output_type": "stream",
     "text": [
      "Epoch 373 done — avg loss: 3.030624\n"
     ]
    },
    {
     "data": {
      "application/vnd.jupyter.widget-view+json": {
       "model_id": "f27123a2cae940428d9d523431180b83",
       "version_major": 2,
       "version_minor": 0
      },
      "text/plain": [
       "Epoch 374:   0%|          | 0/25 [00:00<?, ?it/s]"
      ]
     },
     "metadata": {},
     "output_type": "display_data"
    },
    {
     "name": "stdout",
     "output_type": "stream",
     "text": [
      "Epoch 374 done — avg loss: 3.028686\n"
     ]
    },
    {
     "data": {
      "application/vnd.jupyter.widget-view+json": {
       "model_id": "2d6973f031664ce5925cb9f5ea57b18d",
       "version_major": 2,
       "version_minor": 0
      },
      "text/plain": [
       "Epoch 375:   0%|          | 0/25 [00:00<?, ?it/s]"
      ]
     },
     "metadata": {},
     "output_type": "display_data"
    },
    {
     "name": "stdout",
     "output_type": "stream",
     "text": [
      "Epoch 375 done — avg loss: 3.026766\n"
     ]
    },
    {
     "data": {
      "application/vnd.jupyter.widget-view+json": {
       "model_id": "ccc9d3f44c23418483cd62af3cf9ebf4",
       "version_major": 2,
       "version_minor": 0
      },
      "text/plain": [
       "Epoch 376:   0%|          | 0/25 [00:00<?, ?it/s]"
      ]
     },
     "metadata": {},
     "output_type": "display_data"
    },
    {
     "name": "stdout",
     "output_type": "stream",
     "text": [
      "Epoch 376 done — avg loss: 3.025493\n"
     ]
    },
    {
     "data": {
      "application/vnd.jupyter.widget-view+json": {
       "model_id": "7a96fd8981ad48ddbf9d8b42e2ce2152",
       "version_major": 2,
       "version_minor": 0
      },
      "text/plain": [
       "Epoch 377:   0%|          | 0/25 [00:00<?, ?it/s]"
      ]
     },
     "metadata": {},
     "output_type": "display_data"
    },
    {
     "name": "stdout",
     "output_type": "stream",
     "text": [
      "Epoch 377 done — avg loss: 3.025203\n"
     ]
    },
    {
     "data": {
      "application/vnd.jupyter.widget-view+json": {
       "model_id": "e0d2e54270654ebeb57613dfe8dec783",
       "version_major": 2,
       "version_minor": 0
      },
      "text/plain": [
       "Epoch 378:   0%|          | 0/25 [00:00<?, ?it/s]"
      ]
     },
     "metadata": {},
     "output_type": "display_data"
    },
    {
     "name": "stdout",
     "output_type": "stream",
     "text": [
      "Epoch 378 done — avg loss: 3.023697\n"
     ]
    },
    {
     "data": {
      "application/vnd.jupyter.widget-view+json": {
       "model_id": "b2f1e4d7d71f4788b6b591602f815672",
       "version_major": 2,
       "version_minor": 0
      },
      "text/plain": [
       "Epoch 379:   0%|          | 0/25 [00:00<?, ?it/s]"
      ]
     },
     "metadata": {},
     "output_type": "display_data"
    },
    {
     "name": "stdout",
     "output_type": "stream",
     "text": [
      "Epoch 379 done — avg loss: 3.025916\n"
     ]
    },
    {
     "data": {
      "application/vnd.jupyter.widget-view+json": {
       "model_id": "387b0d4e809b49fcb51038fae1dfbc6c",
       "version_major": 2,
       "version_minor": 0
      },
      "text/plain": [
       "Epoch 380:   0%|          | 0/25 [00:00<?, ?it/s]"
      ]
     },
     "metadata": {},
     "output_type": "display_data"
    },
    {
     "name": "stdout",
     "output_type": "stream",
     "text": [
      "Epoch 380 done — avg loss: 3.023528\n"
     ]
    },
    {
     "data": {
      "application/vnd.jupyter.widget-view+json": {
       "model_id": "ba5ec8cf78e440858f5204c2a609ee39",
       "version_major": 2,
       "version_minor": 0
      },
      "text/plain": [
       "Epoch 381:   0%|          | 0/25 [00:00<?, ?it/s]"
      ]
     },
     "metadata": {},
     "output_type": "display_data"
    },
    {
     "name": "stdout",
     "output_type": "stream",
     "text": [
      "Epoch 381 done — avg loss: 3.021636\n"
     ]
    },
    {
     "data": {
      "application/vnd.jupyter.widget-view+json": {
       "model_id": "f4282fe3c424418b9caa0a29d0f45428",
       "version_major": 2,
       "version_minor": 0
      },
      "text/plain": [
       "Epoch 382:   0%|          | 0/25 [00:00<?, ?it/s]"
      ]
     },
     "metadata": {},
     "output_type": "display_data"
    },
    {
     "name": "stdout",
     "output_type": "stream",
     "text": [
      "Epoch 382 done — avg loss: 3.020565\n"
     ]
    },
    {
     "data": {
      "application/vnd.jupyter.widget-view+json": {
       "model_id": "c2f9d2f674a74b6db7cd221981054f35",
       "version_major": 2,
       "version_minor": 0
      },
      "text/plain": [
       "Epoch 383:   0%|          | 0/25 [00:00<?, ?it/s]"
      ]
     },
     "metadata": {},
     "output_type": "display_data"
    },
    {
     "name": "stdout",
     "output_type": "stream",
     "text": [
      "Epoch 383 done — avg loss: 3.019942\n"
     ]
    },
    {
     "data": {
      "application/vnd.jupyter.widget-view+json": {
       "model_id": "19ad1bdb274d4280a0eff54d4dd4f202",
       "version_major": 2,
       "version_minor": 0
      },
      "text/plain": [
       "Epoch 384:   0%|          | 0/25 [00:00<?, ?it/s]"
      ]
     },
     "metadata": {},
     "output_type": "display_data"
    },
    {
     "name": "stdout",
     "output_type": "stream",
     "text": [
      "Epoch 384 done — avg loss: 3.017922\n"
     ]
    },
    {
     "data": {
      "application/vnd.jupyter.widget-view+json": {
       "model_id": "a4761436d95c4b528a32d5ee498b4476",
       "version_major": 2,
       "version_minor": 0
      },
      "text/plain": [
       "Epoch 385:   0%|          | 0/25 [00:00<?, ?it/s]"
      ]
     },
     "metadata": {},
     "output_type": "display_data"
    },
    {
     "name": "stdout",
     "output_type": "stream",
     "text": [
      "Epoch 385 done — avg loss: 3.016302\n"
     ]
    },
    {
     "data": {
      "application/vnd.jupyter.widget-view+json": {
       "model_id": "ad374f0f2f48476b9ceb075e22784bec",
       "version_major": 2,
       "version_minor": 0
      },
      "text/plain": [
       "Epoch 386:   0%|          | 0/25 [00:00<?, ?it/s]"
      ]
     },
     "metadata": {},
     "output_type": "display_data"
    },
    {
     "name": "stdout",
     "output_type": "stream",
     "text": [
      "Epoch 386 done — avg loss: 3.015381\n"
     ]
    },
    {
     "data": {
      "application/vnd.jupyter.widget-view+json": {
       "model_id": "afe6c1cbc2f24d609d6bdfa24da6ba4b",
       "version_major": 2,
       "version_minor": 0
      },
      "text/plain": [
       "Epoch 387:   0%|          | 0/25 [00:00<?, ?it/s]"
      ]
     },
     "metadata": {},
     "output_type": "display_data"
    },
    {
     "name": "stdout",
     "output_type": "stream",
     "text": [
      "Epoch 387 done — avg loss: 3.015995\n"
     ]
    },
    {
     "data": {
      "application/vnd.jupyter.widget-view+json": {
       "model_id": "3cb3e3a74fae4bb8b42cb19bbaafe624",
       "version_major": 2,
       "version_minor": 0
      },
      "text/plain": [
       "Epoch 388:   0%|          | 0/25 [00:00<?, ?it/s]"
      ]
     },
     "metadata": {},
     "output_type": "display_data"
    },
    {
     "name": "stdout",
     "output_type": "stream",
     "text": [
      "Epoch 388 done — avg loss: 3.015092\n"
     ]
    },
    {
     "data": {
      "application/vnd.jupyter.widget-view+json": {
       "model_id": "701f4bf9d53a47ebb43ccbf39fcfcdd3",
       "version_major": 2,
       "version_minor": 0
      },
      "text/plain": [
       "Epoch 389:   0%|          | 0/25 [00:00<?, ?it/s]"
      ]
     },
     "metadata": {},
     "output_type": "display_data"
    },
    {
     "name": "stdout",
     "output_type": "stream",
     "text": [
      "Epoch 389 done — avg loss: 3.013414\n"
     ]
    },
    {
     "data": {
      "application/vnd.jupyter.widget-view+json": {
       "model_id": "716bb9cf90ab48c99db29cac1db5c54c",
       "version_major": 2,
       "version_minor": 0
      },
      "text/plain": [
       "Epoch 390:   0%|          | 0/25 [00:00<?, ?it/s]"
      ]
     },
     "metadata": {},
     "output_type": "display_data"
    },
    {
     "name": "stdout",
     "output_type": "stream",
     "text": [
      "Epoch 390 done — avg loss: 3.013638\n"
     ]
    },
    {
     "data": {
      "application/vnd.jupyter.widget-view+json": {
       "model_id": "ca114a0fc10a44fd999ec69fb8fd763e",
       "version_major": 2,
       "version_minor": 0
      },
      "text/plain": [
       "Epoch 391:   0%|          | 0/25 [00:00<?, ?it/s]"
      ]
     },
     "metadata": {},
     "output_type": "display_data"
    },
    {
     "name": "stdout",
     "output_type": "stream",
     "text": [
      "Epoch 391 done — avg loss: 3.012868\n"
     ]
    },
    {
     "data": {
      "application/vnd.jupyter.widget-view+json": {
       "model_id": "3b155e53e77f4c3fa721b87417b294f7",
       "version_major": 2,
       "version_minor": 0
      },
      "text/plain": [
       "Epoch 392:   0%|          | 0/25 [00:00<?, ?it/s]"
      ]
     },
     "metadata": {},
     "output_type": "display_data"
    },
    {
     "name": "stdout",
     "output_type": "stream",
     "text": [
      "Epoch 392 done — avg loss: 3.011133\n"
     ]
    },
    {
     "data": {
      "application/vnd.jupyter.widget-view+json": {
       "model_id": "e139f5fcb56949849510e683d6c922b4",
       "version_major": 2,
       "version_minor": 0
      },
      "text/plain": [
       "Epoch 393:   0%|          | 0/25 [00:00<?, ?it/s]"
      ]
     },
     "metadata": {},
     "output_type": "display_data"
    },
    {
     "name": "stdout",
     "output_type": "stream",
     "text": [
      "Epoch 393 done — avg loss: 3.010311\n"
     ]
    },
    {
     "data": {
      "application/vnd.jupyter.widget-view+json": {
       "model_id": "034220754f0a44df8e24f8cbaf53df66",
       "version_major": 2,
       "version_minor": 0
      },
      "text/plain": [
       "Epoch 394:   0%|          | 0/25 [00:00<?, ?it/s]"
      ]
     },
     "metadata": {},
     "output_type": "display_data"
    },
    {
     "name": "stdout",
     "output_type": "stream",
     "text": [
      "Epoch 394 done — avg loss: 3.009044\n"
     ]
    },
    {
     "data": {
      "application/vnd.jupyter.widget-view+json": {
       "model_id": "619b366bebbe4719835d980b188a9e06",
       "version_major": 2,
       "version_minor": 0
      },
      "text/plain": [
       "Epoch 395:   0%|          | 0/25 [00:00<?, ?it/s]"
      ]
     },
     "metadata": {},
     "output_type": "display_data"
    },
    {
     "name": "stdout",
     "output_type": "stream",
     "text": [
      "Epoch 395 done — avg loss: 3.008477\n"
     ]
    },
    {
     "data": {
      "application/vnd.jupyter.widget-view+json": {
       "model_id": "f97fded6f87f4ccab8dae28a6baa4461",
       "version_major": 2,
       "version_minor": 0
      },
      "text/plain": [
       "Epoch 396:   0%|          | 0/25 [00:00<?, ?it/s]"
      ]
     },
     "metadata": {},
     "output_type": "display_data"
    },
    {
     "name": "stdout",
     "output_type": "stream",
     "text": [
      "Epoch 396 done — avg loss: 3.007105\n"
     ]
    },
    {
     "data": {
      "application/vnd.jupyter.widget-view+json": {
       "model_id": "8ddc193ab7b24b50b8036071fccbf3b4",
       "version_major": 2,
       "version_minor": 0
      },
      "text/plain": [
       "Epoch 397:   0%|          | 0/25 [00:00<?, ?it/s]"
      ]
     },
     "metadata": {},
     "output_type": "display_data"
    },
    {
     "name": "stdout",
     "output_type": "stream",
     "text": [
      "Epoch 397 done — avg loss: 3.004692\n"
     ]
    },
    {
     "data": {
      "application/vnd.jupyter.widget-view+json": {
       "model_id": "343b0be114264f81b8b253bdd6b22e18",
       "version_major": 2,
       "version_minor": 0
      },
      "text/plain": [
       "Epoch 398:   0%|          | 0/25 [00:00<?, ?it/s]"
      ]
     },
     "metadata": {},
     "output_type": "display_data"
    },
    {
     "name": "stdout",
     "output_type": "stream",
     "text": [
      "Epoch 398 done — avg loss: 3.004145\n"
     ]
    },
    {
     "data": {
      "application/vnd.jupyter.widget-view+json": {
       "model_id": "4afb878205da4635a9450b63e67505aa",
       "version_major": 2,
       "version_minor": 0
      },
      "text/plain": [
       "Epoch 399:   0%|          | 0/25 [00:00<?, ?it/s]"
      ]
     },
     "metadata": {},
     "output_type": "display_data"
    },
    {
     "name": "stdout",
     "output_type": "stream",
     "text": [
      "Epoch 399 done — avg loss: 3.003318\n"
     ]
    },
    {
     "data": {
      "application/vnd.jupyter.widget-view+json": {
       "model_id": "f713a4c4aa6d4334893e94a0b837e9a2",
       "version_major": 2,
       "version_minor": 0
      },
      "text/plain": [
       "Epoch 400:   0%|          | 0/25 [00:00<?, ?it/s]"
      ]
     },
     "metadata": {},
     "output_type": "display_data"
    },
    {
     "name": "stdout",
     "output_type": "stream",
     "text": [
      "Epoch 400 done — avg loss: 3.001543\n"
     ]
    },
    {
     "data": {
      "application/vnd.jupyter.widget-view+json": {
       "model_id": "99079e7618264b14b8caf724057510bb",
       "version_major": 2,
       "version_minor": 0
      },
      "text/plain": [
       "Epoch 401:   0%|          | 0/25 [00:00<?, ?it/s]"
      ]
     },
     "metadata": {},
     "output_type": "display_data"
    },
    {
     "name": "stdout",
     "output_type": "stream",
     "text": [
      "Epoch 401 done — avg loss: 3.001249\n"
     ]
    },
    {
     "data": {
      "application/vnd.jupyter.widget-view+json": {
       "model_id": "042fe1b81575413f8aa7434e91213159",
       "version_major": 2,
       "version_minor": 0
      },
      "text/plain": [
       "Epoch 402:   0%|          | 0/25 [00:00<?, ?it/s]"
      ]
     },
     "metadata": {},
     "output_type": "display_data"
    },
    {
     "name": "stdout",
     "output_type": "stream",
     "text": [
      "Epoch 402 done — avg loss: 3.001141\n"
     ]
    },
    {
     "data": {
      "application/vnd.jupyter.widget-view+json": {
       "model_id": "4aea3d8ba89a4fb8a334889bbef6ebd9",
       "version_major": 2,
       "version_minor": 0
      },
      "text/plain": [
       "Epoch 403:   0%|          | 0/25 [00:00<?, ?it/s]"
      ]
     },
     "metadata": {},
     "output_type": "display_data"
    },
    {
     "name": "stdout",
     "output_type": "stream",
     "text": [
      "Epoch 403 done — avg loss: 2.999878\n"
     ]
    },
    {
     "data": {
      "application/vnd.jupyter.widget-view+json": {
       "model_id": "58d74765f0e8436f916db6a418cfa6c6",
       "version_major": 2,
       "version_minor": 0
      },
      "text/plain": [
       "Epoch 404:   0%|          | 0/25 [00:00<?, ?it/s]"
      ]
     },
     "metadata": {},
     "output_type": "display_data"
    },
    {
     "name": "stdout",
     "output_type": "stream",
     "text": [
      "Epoch 404 done — avg loss: 2.998121\n"
     ]
    },
    {
     "data": {
      "application/vnd.jupyter.widget-view+json": {
       "model_id": "574930239be0414b8d8f5805154f17a5",
       "version_major": 2,
       "version_minor": 0
      },
      "text/plain": [
       "Epoch 405:   0%|          | 0/25 [00:00<?, ?it/s]"
      ]
     },
     "metadata": {},
     "output_type": "display_data"
    },
    {
     "name": "stdout",
     "output_type": "stream",
     "text": [
      "Epoch 405 done — avg loss: 2.997531\n"
     ]
    },
    {
     "data": {
      "application/vnd.jupyter.widget-view+json": {
       "model_id": "face940d6c824ca8a6e9664e2ced57d7",
       "version_major": 2,
       "version_minor": 0
      },
      "text/plain": [
       "Epoch 406:   0%|          | 0/25 [00:00<?, ?it/s]"
      ]
     },
     "metadata": {},
     "output_type": "display_data"
    },
    {
     "name": "stdout",
     "output_type": "stream",
     "text": [
      "Epoch 406 done — avg loss: 2.995746\n"
     ]
    },
    {
     "data": {
      "application/vnd.jupyter.widget-view+json": {
       "model_id": "b2c68e43f34848eca61d5ce31f4f91d1",
       "version_major": 2,
       "version_minor": 0
      },
      "text/plain": [
       "Epoch 407:   0%|          | 0/25 [00:00<?, ?it/s]"
      ]
     },
     "metadata": {},
     "output_type": "display_data"
    },
    {
     "name": "stdout",
     "output_type": "stream",
     "text": [
      "Epoch 407 done — avg loss: 2.996130\n"
     ]
    },
    {
     "data": {
      "application/vnd.jupyter.widget-view+json": {
       "model_id": "a561d51a1e234391b000b2ff04a78696",
       "version_major": 2,
       "version_minor": 0
      },
      "text/plain": [
       "Epoch 408:   0%|          | 0/25 [00:00<?, ?it/s]"
      ]
     },
     "metadata": {},
     "output_type": "display_data"
    },
    {
     "name": "stdout",
     "output_type": "stream",
     "text": [
      "Epoch 408 done — avg loss: 2.994785\n"
     ]
    },
    {
     "data": {
      "application/vnd.jupyter.widget-view+json": {
       "model_id": "599bd0a79def47b18d4ad1831b72011a",
       "version_major": 2,
       "version_minor": 0
      },
      "text/plain": [
       "Epoch 409:   0%|          | 0/25 [00:00<?, ?it/s]"
      ]
     },
     "metadata": {},
     "output_type": "display_data"
    },
    {
     "name": "stdout",
     "output_type": "stream",
     "text": [
      "Epoch 409 done — avg loss: 2.994798\n"
     ]
    },
    {
     "data": {
      "application/vnd.jupyter.widget-view+json": {
       "model_id": "776639e0cc47464db19c1df413385595",
       "version_major": 2,
       "version_minor": 0
      },
      "text/plain": [
       "Epoch 410:   0%|          | 0/25 [00:00<?, ?it/s]"
      ]
     },
     "metadata": {},
     "output_type": "display_data"
    },
    {
     "name": "stdout",
     "output_type": "stream",
     "text": [
      "Epoch 410 done — avg loss: 2.994671\n"
     ]
    },
    {
     "data": {
      "application/vnd.jupyter.widget-view+json": {
       "model_id": "4ad4757ec10c4de5aace400d8a43986d",
       "version_major": 2,
       "version_minor": 0
      },
      "text/plain": [
       "Epoch 411:   0%|          | 0/25 [00:00<?, ?it/s]"
      ]
     },
     "metadata": {},
     "output_type": "display_data"
    },
    {
     "name": "stdout",
     "output_type": "stream",
     "text": [
      "Epoch 411 done — avg loss: 2.992710\n"
     ]
    },
    {
     "data": {
      "application/vnd.jupyter.widget-view+json": {
       "model_id": "40ae7b3a4110461eb83b1f42bffd8ce5",
       "version_major": 2,
       "version_minor": 0
      },
      "text/plain": [
       "Epoch 412:   0%|          | 0/25 [00:00<?, ?it/s]"
      ]
     },
     "metadata": {},
     "output_type": "display_data"
    },
    {
     "name": "stdout",
     "output_type": "stream",
     "text": [
      "Epoch 412 done — avg loss: 2.991804\n"
     ]
    },
    {
     "data": {
      "application/vnd.jupyter.widget-view+json": {
       "model_id": "5b2d5981e17747db85bdb8cdf299acde",
       "version_major": 2,
       "version_minor": 0
      },
      "text/plain": [
       "Epoch 413:   0%|          | 0/25 [00:00<?, ?it/s]"
      ]
     },
     "metadata": {},
     "output_type": "display_data"
    },
    {
     "name": "stdout",
     "output_type": "stream",
     "text": [
      "Epoch 413 done — avg loss: 2.990801\n"
     ]
    },
    {
     "data": {
      "application/vnd.jupyter.widget-view+json": {
       "model_id": "ef3c8dc928e74be88921aa5bf9845478",
       "version_major": 2,
       "version_minor": 0
      },
      "text/plain": [
       "Epoch 414:   0%|          | 0/25 [00:00<?, ?it/s]"
      ]
     },
     "metadata": {},
     "output_type": "display_data"
    },
    {
     "name": "stdout",
     "output_type": "stream",
     "text": [
      "Epoch 414 done — avg loss: 2.989463\n"
     ]
    },
    {
     "data": {
      "application/vnd.jupyter.widget-view+json": {
       "model_id": "f0cf55a8dc414cee860d80c0df785f3c",
       "version_major": 2,
       "version_minor": 0
      },
      "text/plain": [
       "Epoch 415:   0%|          | 0/25 [00:00<?, ?it/s]"
      ]
     },
     "metadata": {},
     "output_type": "display_data"
    },
    {
     "name": "stdout",
     "output_type": "stream",
     "text": [
      "Epoch 415 done — avg loss: 2.988646\n"
     ]
    },
    {
     "data": {
      "application/vnd.jupyter.widget-view+json": {
       "model_id": "b02403a7017d43b398c0d713ebeb7c49",
       "version_major": 2,
       "version_minor": 0
      },
      "text/plain": [
       "Epoch 416:   0%|          | 0/25 [00:00<?, ?it/s]"
      ]
     },
     "metadata": {},
     "output_type": "display_data"
    },
    {
     "name": "stdout",
     "output_type": "stream",
     "text": [
      "Epoch 416 done — avg loss: 2.986492\n"
     ]
    },
    {
     "data": {
      "application/vnd.jupyter.widget-view+json": {
       "model_id": "3a64210f999244688cb1e66ad9ba328b",
       "version_major": 2,
       "version_minor": 0
      },
      "text/plain": [
       "Epoch 417:   0%|          | 0/25 [00:00<?, ?it/s]"
      ]
     },
     "metadata": {},
     "output_type": "display_data"
    },
    {
     "name": "stdout",
     "output_type": "stream",
     "text": [
      "Epoch 417 done — avg loss: 2.986524\n"
     ]
    },
    {
     "data": {
      "application/vnd.jupyter.widget-view+json": {
       "model_id": "a23e1966e49e47cc9195d05e3a9a6092",
       "version_major": 2,
       "version_minor": 0
      },
      "text/plain": [
       "Epoch 418:   0%|          | 0/25 [00:00<?, ?it/s]"
      ]
     },
     "metadata": {},
     "output_type": "display_data"
    },
    {
     "name": "stdout",
     "output_type": "stream",
     "text": [
      "Epoch 418 done — avg loss: 2.985741\n"
     ]
    },
    {
     "data": {
      "application/vnd.jupyter.widget-view+json": {
       "model_id": "c80788ab4fe1451ca1e95670bafc312a",
       "version_major": 2,
       "version_minor": 0
      },
      "text/plain": [
       "Epoch 419:   0%|          | 0/25 [00:00<?, ?it/s]"
      ]
     },
     "metadata": {},
     "output_type": "display_data"
    },
    {
     "name": "stdout",
     "output_type": "stream",
     "text": [
      "Epoch 419 done — avg loss: 2.985920\n"
     ]
    },
    {
     "data": {
      "application/vnd.jupyter.widget-view+json": {
       "model_id": "d6a4acd668c84e688df9e1dcbd3111a5",
       "version_major": 2,
       "version_minor": 0
      },
      "text/plain": [
       "Epoch 420:   0%|          | 0/25 [00:00<?, ?it/s]"
      ]
     },
     "metadata": {},
     "output_type": "display_data"
    },
    {
     "name": "stdout",
     "output_type": "stream",
     "text": [
      "Epoch 420 done — avg loss: 2.984196\n"
     ]
    },
    {
     "data": {
      "application/vnd.jupyter.widget-view+json": {
       "model_id": "841eac5d20324409b05fc8bc66213ce3",
       "version_major": 2,
       "version_minor": 0
      },
      "text/plain": [
       "Epoch 421:   0%|          | 0/25 [00:00<?, ?it/s]"
      ]
     },
     "metadata": {},
     "output_type": "display_data"
    },
    {
     "name": "stdout",
     "output_type": "stream",
     "text": [
      "Epoch 421 done — avg loss: 2.982931\n"
     ]
    },
    {
     "data": {
      "application/vnd.jupyter.widget-view+json": {
       "model_id": "453c0ed6f87c41deb772c90f1f1b76f5",
       "version_major": 2,
       "version_minor": 0
      },
      "text/plain": [
       "Epoch 422:   0%|          | 0/25 [00:00<?, ?it/s]"
      ]
     },
     "metadata": {},
     "output_type": "display_data"
    },
    {
     "name": "stdout",
     "output_type": "stream",
     "text": [
      "Epoch 422 done — avg loss: 2.981708\n"
     ]
    },
    {
     "data": {
      "application/vnd.jupyter.widget-view+json": {
       "model_id": "7288ed6777364885b7104d5a79eb1967",
       "version_major": 2,
       "version_minor": 0
      },
      "text/plain": [
       "Epoch 423:   0%|          | 0/25 [00:00<?, ?it/s]"
      ]
     },
     "metadata": {},
     "output_type": "display_data"
    },
    {
     "name": "stdout",
     "output_type": "stream",
     "text": [
      "Epoch 423 done — avg loss: 2.979137\n"
     ]
    },
    {
     "data": {
      "application/vnd.jupyter.widget-view+json": {
       "model_id": "26e5870d19c34ebab9c75db86903d1c2",
       "version_major": 2,
       "version_minor": 0
      },
      "text/plain": [
       "Epoch 424:   0%|          | 0/25 [00:00<?, ?it/s]"
      ]
     },
     "metadata": {},
     "output_type": "display_data"
    },
    {
     "name": "stdout",
     "output_type": "stream",
     "text": [
      "Epoch 424 done — avg loss: 2.981726\n"
     ]
    },
    {
     "data": {
      "application/vnd.jupyter.widget-view+json": {
       "model_id": "1ef28b76c82d429ab477287040e18f9f",
       "version_major": 2,
       "version_minor": 0
      },
      "text/plain": [
       "Epoch 425:   0%|          | 0/25 [00:00<?, ?it/s]"
      ]
     },
     "metadata": {},
     "output_type": "display_data"
    },
    {
     "name": "stdout",
     "output_type": "stream",
     "text": [
      "Epoch 425 done — avg loss: 2.979602\n"
     ]
    },
    {
     "data": {
      "application/vnd.jupyter.widget-view+json": {
       "model_id": "673ed7ee23c84b9893b9d470b9808ee8",
       "version_major": 2,
       "version_minor": 0
      },
      "text/plain": [
       "Epoch 426:   0%|          | 0/25 [00:00<?, ?it/s]"
      ]
     },
     "metadata": {},
     "output_type": "display_data"
    },
    {
     "name": "stdout",
     "output_type": "stream",
     "text": [
      "Epoch 426 done — avg loss: 2.977224\n"
     ]
    },
    {
     "data": {
      "application/vnd.jupyter.widget-view+json": {
       "model_id": "d11c98ccb97a4152bb28bcc05bc818ff",
       "version_major": 2,
       "version_minor": 0
      },
      "text/plain": [
       "Epoch 427:   0%|          | 0/25 [00:00<?, ?it/s]"
      ]
     },
     "metadata": {},
     "output_type": "display_data"
    },
    {
     "name": "stdout",
     "output_type": "stream",
     "text": [
      "Epoch 427 done — avg loss: 2.978064\n"
     ]
    },
    {
     "data": {
      "application/vnd.jupyter.widget-view+json": {
       "model_id": "a8ff577c64114e7c8cf99e84bd566583",
       "version_major": 2,
       "version_minor": 0
      },
      "text/plain": [
       "Epoch 428:   0%|          | 0/25 [00:00<?, ?it/s]"
      ]
     },
     "metadata": {},
     "output_type": "display_data"
    },
    {
     "name": "stdout",
     "output_type": "stream",
     "text": [
      "Epoch 428 done — avg loss: 2.977395\n"
     ]
    },
    {
     "data": {
      "application/vnd.jupyter.widget-view+json": {
       "model_id": "d47fdf0d57d54251836f0b1a80d78553",
       "version_major": 2,
       "version_minor": 0
      },
      "text/plain": [
       "Epoch 429:   0%|          | 0/25 [00:00<?, ?it/s]"
      ]
     },
     "metadata": {},
     "output_type": "display_data"
    },
    {
     "name": "stdout",
     "output_type": "stream",
     "text": [
      "Epoch 429 done — avg loss: 2.975866\n"
     ]
    },
    {
     "data": {
      "application/vnd.jupyter.widget-view+json": {
       "model_id": "77c9e41994fe4da597173dc85e38ad02",
       "version_major": 2,
       "version_minor": 0
      },
      "text/plain": [
       "Epoch 430:   0%|          | 0/25 [00:00<?, ?it/s]"
      ]
     },
     "metadata": {},
     "output_type": "display_data"
    },
    {
     "name": "stdout",
     "output_type": "stream",
     "text": [
      "Epoch 430 done — avg loss: 2.976061\n"
     ]
    },
    {
     "data": {
      "application/vnd.jupyter.widget-view+json": {
       "model_id": "4f535f2ac8884fbc9885045ae937dac4",
       "version_major": 2,
       "version_minor": 0
      },
      "text/plain": [
       "Epoch 431:   0%|          | 0/25 [00:00<?, ?it/s]"
      ]
     },
     "metadata": {},
     "output_type": "display_data"
    },
    {
     "name": "stdout",
     "output_type": "stream",
     "text": [
      "Epoch 431 done — avg loss: 2.974226\n"
     ]
    },
    {
     "data": {
      "application/vnd.jupyter.widget-view+json": {
       "model_id": "d5a2c65f6e1a4b05a9326c3fca06c832",
       "version_major": 2,
       "version_minor": 0
      },
      "text/plain": [
       "Epoch 432:   0%|          | 0/25 [00:00<?, ?it/s]"
      ]
     },
     "metadata": {},
     "output_type": "display_data"
    },
    {
     "name": "stdout",
     "output_type": "stream",
     "text": [
      "Epoch 432 done — avg loss: 2.973056\n"
     ]
    },
    {
     "data": {
      "application/vnd.jupyter.widget-view+json": {
       "model_id": "403b345e560a47c2966e19c5822bbeca",
       "version_major": 2,
       "version_minor": 0
      },
      "text/plain": [
       "Epoch 433:   0%|          | 0/25 [00:00<?, ?it/s]"
      ]
     },
     "metadata": {},
     "output_type": "display_data"
    },
    {
     "name": "stdout",
     "output_type": "stream",
     "text": [
      "Epoch 433 done — avg loss: 2.972140\n"
     ]
    },
    {
     "data": {
      "application/vnd.jupyter.widget-view+json": {
       "model_id": "342e4592b212419f89f3a053bb16d0b7",
       "version_major": 2,
       "version_minor": 0
      },
      "text/plain": [
       "Epoch 434:   0%|          | 0/25 [00:00<?, ?it/s]"
      ]
     },
     "metadata": {},
     "output_type": "display_data"
    },
    {
     "name": "stdout",
     "output_type": "stream",
     "text": [
      "Epoch 434 done — avg loss: 2.971436\n"
     ]
    },
    {
     "data": {
      "application/vnd.jupyter.widget-view+json": {
       "model_id": "e08e8b3288534387bd3fd51771fa2ff4",
       "version_major": 2,
       "version_minor": 0
      },
      "text/plain": [
       "Epoch 435:   0%|          | 0/25 [00:00<?, ?it/s]"
      ]
     },
     "metadata": {},
     "output_type": "display_data"
    },
    {
     "name": "stdout",
     "output_type": "stream",
     "text": [
      "Epoch 435 done — avg loss: 2.970470\n"
     ]
    },
    {
     "data": {
      "application/vnd.jupyter.widget-view+json": {
       "model_id": "32f53815791c45f0baca99fdec539fd3",
       "version_major": 2,
       "version_minor": 0
      },
      "text/plain": [
       "Epoch 436:   0%|          | 0/25 [00:00<?, ?it/s]"
      ]
     },
     "metadata": {},
     "output_type": "display_data"
    },
    {
     "name": "stdout",
     "output_type": "stream",
     "text": [
      "Epoch 436 done — avg loss: 2.968459\n"
     ]
    },
    {
     "data": {
      "application/vnd.jupyter.widget-view+json": {
       "model_id": "c1fabe11a6f74153a5fc21b94c0d0b35",
       "version_major": 2,
       "version_minor": 0
      },
      "text/plain": [
       "Epoch 437:   0%|          | 0/25 [00:00<?, ?it/s]"
      ]
     },
     "metadata": {},
     "output_type": "display_data"
    },
    {
     "name": "stdout",
     "output_type": "stream",
     "text": [
      "Epoch 437 done — avg loss: 2.967846\n"
     ]
    },
    {
     "data": {
      "application/vnd.jupyter.widget-view+json": {
       "model_id": "e6256ed0b910458eb68e491efab21615",
       "version_major": 2,
       "version_minor": 0
      },
      "text/plain": [
       "Epoch 438:   0%|          | 0/25 [00:00<?, ?it/s]"
      ]
     },
     "metadata": {},
     "output_type": "display_data"
    },
    {
     "name": "stdout",
     "output_type": "stream",
     "text": [
      "Epoch 438 done — avg loss: 2.967596\n"
     ]
    },
    {
     "data": {
      "application/vnd.jupyter.widget-view+json": {
       "model_id": "64cc5e1a3e5944859290ed79fb22a5f7",
       "version_major": 2,
       "version_minor": 0
      },
      "text/plain": [
       "Epoch 439:   0%|          | 0/25 [00:00<?, ?it/s]"
      ]
     },
     "metadata": {},
     "output_type": "display_data"
    },
    {
     "name": "stdout",
     "output_type": "stream",
     "text": [
      "Epoch 439 done — avg loss: 2.966372\n"
     ]
    },
    {
     "data": {
      "application/vnd.jupyter.widget-view+json": {
       "model_id": "ce9686c0f5bf40c8ad71178b707c14e5",
       "version_major": 2,
       "version_minor": 0
      },
      "text/plain": [
       "Epoch 440:   0%|          | 0/25 [00:00<?, ?it/s]"
      ]
     },
     "metadata": {},
     "output_type": "display_data"
    },
    {
     "name": "stdout",
     "output_type": "stream",
     "text": [
      "Epoch 440 done — avg loss: 2.964950\n"
     ]
    },
    {
     "data": {
      "application/vnd.jupyter.widget-view+json": {
       "model_id": "d6f92bffc66d4f72998acb67b0a29869",
       "version_major": 2,
       "version_minor": 0
      },
      "text/plain": [
       "Epoch 441:   0%|          | 0/25 [00:00<?, ?it/s]"
      ]
     },
     "metadata": {},
     "output_type": "display_data"
    },
    {
     "name": "stdout",
     "output_type": "stream",
     "text": [
      "Epoch 441 done — avg loss: 2.964116\n"
     ]
    },
    {
     "data": {
      "application/vnd.jupyter.widget-view+json": {
       "model_id": "5889ee25887444d0abe52fa2255dfbe1",
       "version_major": 2,
       "version_minor": 0
      },
      "text/plain": [
       "Epoch 442:   0%|          | 0/25 [00:00<?, ?it/s]"
      ]
     },
     "metadata": {},
     "output_type": "display_data"
    },
    {
     "name": "stdout",
     "output_type": "stream",
     "text": [
      "Epoch 442 done — avg loss: 2.963380\n"
     ]
    },
    {
     "data": {
      "application/vnd.jupyter.widget-view+json": {
       "model_id": "dab65676cb7e4b14930f0de05da9ae9d",
       "version_major": 2,
       "version_minor": 0
      },
      "text/plain": [
       "Epoch 443:   0%|          | 0/25 [00:00<?, ?it/s]"
      ]
     },
     "metadata": {},
     "output_type": "display_data"
    },
    {
     "name": "stdout",
     "output_type": "stream",
     "text": [
      "Epoch 443 done — avg loss: 2.961863\n"
     ]
    },
    {
     "data": {
      "application/vnd.jupyter.widget-view+json": {
       "model_id": "c4a515f90cd3447a86a37dfab413e8fd",
       "version_major": 2,
       "version_minor": 0
      },
      "text/plain": [
       "Epoch 444:   0%|          | 0/25 [00:00<?, ?it/s]"
      ]
     },
     "metadata": {},
     "output_type": "display_data"
    },
    {
     "name": "stdout",
     "output_type": "stream",
     "text": [
      "Epoch 444 done — avg loss: 2.961416\n"
     ]
    },
    {
     "data": {
      "application/vnd.jupyter.widget-view+json": {
       "model_id": "6fa69473435b4a72a4347a39d0d65516",
       "version_major": 2,
       "version_minor": 0
      },
      "text/plain": [
       "Epoch 445:   0%|          | 0/25 [00:00<?, ?it/s]"
      ]
     },
     "metadata": {},
     "output_type": "display_data"
    },
    {
     "name": "stdout",
     "output_type": "stream",
     "text": [
      "Epoch 445 done — avg loss: 2.960876\n"
     ]
    },
    {
     "data": {
      "application/vnd.jupyter.widget-view+json": {
       "model_id": "df1790a4598d4e1da460ae4be274fa05",
       "version_major": 2,
       "version_minor": 0
      },
      "text/plain": [
       "Epoch 446:   0%|          | 0/25 [00:00<?, ?it/s]"
      ]
     },
     "metadata": {},
     "output_type": "display_data"
    },
    {
     "name": "stdout",
     "output_type": "stream",
     "text": [
      "Epoch 446 done — avg loss: 2.958964\n"
     ]
    },
    {
     "data": {
      "application/vnd.jupyter.widget-view+json": {
       "model_id": "8e2309b7dbe248728f7cbbac4f1e0a60",
       "version_major": 2,
       "version_minor": 0
      },
      "text/plain": [
       "Epoch 447:   0%|          | 0/25 [00:00<?, ?it/s]"
      ]
     },
     "metadata": {},
     "output_type": "display_data"
    },
    {
     "name": "stdout",
     "output_type": "stream",
     "text": [
      "Epoch 447 done — avg loss: 2.958525\n"
     ]
    },
    {
     "data": {
      "application/vnd.jupyter.widget-view+json": {
       "model_id": "7564e2705b4541c1b9e1db4a3262eb6d",
       "version_major": 2,
       "version_minor": 0
      },
      "text/plain": [
       "Epoch 448:   0%|          | 0/25 [00:00<?, ?it/s]"
      ]
     },
     "metadata": {},
     "output_type": "display_data"
    },
    {
     "name": "stdout",
     "output_type": "stream",
     "text": [
      "Epoch 448 done — avg loss: 2.957123\n"
     ]
    },
    {
     "data": {
      "application/vnd.jupyter.widget-view+json": {
       "model_id": "95dfb1018d784feb895744c7f6511344",
       "version_major": 2,
       "version_minor": 0
      },
      "text/plain": [
       "Epoch 449:   0%|          | 0/25 [00:00<?, ?it/s]"
      ]
     },
     "metadata": {},
     "output_type": "display_data"
    },
    {
     "name": "stdout",
     "output_type": "stream",
     "text": [
      "Epoch 449 done — avg loss: 2.955923\n"
     ]
    },
    {
     "data": {
      "application/vnd.jupyter.widget-view+json": {
       "model_id": "6f0a8013a57d42499a35d78c9b2fbf8a",
       "version_major": 2,
       "version_minor": 0
      },
      "text/plain": [
       "Epoch 450:   0%|          | 0/25 [00:00<?, ?it/s]"
      ]
     },
     "metadata": {},
     "output_type": "display_data"
    },
    {
     "name": "stdout",
     "output_type": "stream",
     "text": [
      "Epoch 450 done — avg loss: 2.955519\n"
     ]
    },
    {
     "data": {
      "application/vnd.jupyter.widget-view+json": {
       "model_id": "a83570e13e1e477bb7f882eff800d9c5",
       "version_major": 2,
       "version_minor": 0
      },
      "text/plain": [
       "Epoch 451:   0%|          | 0/25 [00:00<?, ?it/s]"
      ]
     },
     "metadata": {},
     "output_type": "display_data"
    },
    {
     "name": "stdout",
     "output_type": "stream",
     "text": [
      "Epoch 451 done — avg loss: 2.956601\n"
     ]
    },
    {
     "data": {
      "application/vnd.jupyter.widget-view+json": {
       "model_id": "467368783cb04517ad7d2b385147bd86",
       "version_major": 2,
       "version_minor": 0
      },
      "text/plain": [
       "Epoch 452:   0%|          | 0/25 [00:00<?, ?it/s]"
      ]
     },
     "metadata": {},
     "output_type": "display_data"
    },
    {
     "name": "stdout",
     "output_type": "stream",
     "text": [
      "Epoch 452 done — avg loss: 2.956008\n"
     ]
    },
    {
     "data": {
      "application/vnd.jupyter.widget-view+json": {
       "model_id": "06f9d3ecf8774204b3b013f37727d332",
       "version_major": 2,
       "version_minor": 0
      },
      "text/plain": [
       "Epoch 453:   0%|          | 0/25 [00:00<?, ?it/s]"
      ]
     },
     "metadata": {},
     "output_type": "display_data"
    },
    {
     "name": "stdout",
     "output_type": "stream",
     "text": [
      "Epoch 453 done — avg loss: 2.952592\n"
     ]
    },
    {
     "data": {
      "application/vnd.jupyter.widget-view+json": {
       "model_id": "74129a516443434a9eb8f7743925604c",
       "version_major": 2,
       "version_minor": 0
      },
      "text/plain": [
       "Epoch 454:   0%|          | 0/25 [00:00<?, ?it/s]"
      ]
     },
     "metadata": {},
     "output_type": "display_data"
    },
    {
     "name": "stdout",
     "output_type": "stream",
     "text": [
      "Epoch 454 done — avg loss: 2.951438\n"
     ]
    },
    {
     "data": {
      "application/vnd.jupyter.widget-view+json": {
       "model_id": "ede340d95eae42b4bbecce514ec88966",
       "version_major": 2,
       "version_minor": 0
      },
      "text/plain": [
       "Epoch 455:   0%|          | 0/25 [00:00<?, ?it/s]"
      ]
     },
     "metadata": {},
     "output_type": "display_data"
    },
    {
     "name": "stdout",
     "output_type": "stream",
     "text": [
      "Epoch 455 done — avg loss: 2.952272\n"
     ]
    },
    {
     "data": {
      "application/vnd.jupyter.widget-view+json": {
       "model_id": "3fc6ce3776fc4cc2a21808ec9a4850f8",
       "version_major": 2,
       "version_minor": 0
      },
      "text/plain": [
       "Epoch 456:   0%|          | 0/25 [00:00<?, ?it/s]"
      ]
     },
     "metadata": {},
     "output_type": "display_data"
    },
    {
     "name": "stdout",
     "output_type": "stream",
     "text": [
      "Epoch 456 done — avg loss: 2.949980\n"
     ]
    },
    {
     "data": {
      "application/vnd.jupyter.widget-view+json": {
       "model_id": "9890862b782f4ed2b651745df9ee1f5d",
       "version_major": 2,
       "version_minor": 0
      },
      "text/plain": [
       "Epoch 457:   0%|          | 0/25 [00:00<?, ?it/s]"
      ]
     },
     "metadata": {},
     "output_type": "display_data"
    },
    {
     "name": "stdout",
     "output_type": "stream",
     "text": [
      "Epoch 457 done — avg loss: 2.951015\n"
     ]
    },
    {
     "data": {
      "application/vnd.jupyter.widget-view+json": {
       "model_id": "3bbc8b49423c48e8892e80e15c2b9499",
       "version_major": 2,
       "version_minor": 0
      },
      "text/plain": [
       "Epoch 458:   0%|          | 0/25 [00:00<?, ?it/s]"
      ]
     },
     "metadata": {},
     "output_type": "display_data"
    },
    {
     "name": "stdout",
     "output_type": "stream",
     "text": [
      "Epoch 458 done — avg loss: 2.948065\n"
     ]
    },
    {
     "data": {
      "application/vnd.jupyter.widget-view+json": {
       "model_id": "c83e0333687d4c50a8682ec84281b598",
       "version_major": 2,
       "version_minor": 0
      },
      "text/plain": [
       "Epoch 459:   0%|          | 0/25 [00:00<?, ?it/s]"
      ]
     },
     "metadata": {},
     "output_type": "display_data"
    },
    {
     "name": "stdout",
     "output_type": "stream",
     "text": [
      "Epoch 459 done — avg loss: 2.946991\n"
     ]
    },
    {
     "data": {
      "application/vnd.jupyter.widget-view+json": {
       "model_id": "31a8450be3c145f0b9d145f9d8b03473",
       "version_major": 2,
       "version_minor": 0
      },
      "text/plain": [
       "Epoch 460:   0%|          | 0/25 [00:00<?, ?it/s]"
      ]
     },
     "metadata": {},
     "output_type": "display_data"
    },
    {
     "name": "stdout",
     "output_type": "stream",
     "text": [
      "Epoch 460 done — avg loss: 2.946025\n"
     ]
    },
    {
     "data": {
      "application/vnd.jupyter.widget-view+json": {
       "model_id": "9c394ea2332440b390df945936e3fda9",
       "version_major": 2,
       "version_minor": 0
      },
      "text/plain": [
       "Epoch 461:   0%|          | 0/25 [00:00<?, ?it/s]"
      ]
     },
     "metadata": {},
     "output_type": "display_data"
    },
    {
     "name": "stdout",
     "output_type": "stream",
     "text": [
      "Epoch 461 done — avg loss: 2.946045\n"
     ]
    },
    {
     "data": {
      "application/vnd.jupyter.widget-view+json": {
       "model_id": "ec7c18646a744754bcdfdcef189d196d",
       "version_major": 2,
       "version_minor": 0
      },
      "text/plain": [
       "Epoch 462:   0%|          | 0/25 [00:00<?, ?it/s]"
      ]
     },
     "metadata": {},
     "output_type": "display_data"
    },
    {
     "name": "stdout",
     "output_type": "stream",
     "text": [
      "Epoch 462 done — avg loss: 2.945195\n"
     ]
    },
    {
     "data": {
      "application/vnd.jupyter.widget-view+json": {
       "model_id": "5c0dbb2abf034c6c9d9439941b29e967",
       "version_major": 2,
       "version_minor": 0
      },
      "text/plain": [
       "Epoch 463:   0%|          | 0/25 [00:00<?, ?it/s]"
      ]
     },
     "metadata": {},
     "output_type": "display_data"
    },
    {
     "name": "stdout",
     "output_type": "stream",
     "text": [
      "Epoch 463 done — avg loss: 2.944613\n"
     ]
    },
    {
     "data": {
      "application/vnd.jupyter.widget-view+json": {
       "model_id": "9087c4a5206e46c8ab2d428913e84228",
       "version_major": 2,
       "version_minor": 0
      },
      "text/plain": [
       "Epoch 464:   0%|          | 0/25 [00:00<?, ?it/s]"
      ]
     },
     "metadata": {},
     "output_type": "display_data"
    },
    {
     "name": "stdout",
     "output_type": "stream",
     "text": [
      "Epoch 464 done — avg loss: 2.943611\n"
     ]
    },
    {
     "data": {
      "application/vnd.jupyter.widget-view+json": {
       "model_id": "7aa2a644558f44d2a101dbd0bb12852a",
       "version_major": 2,
       "version_minor": 0
      },
      "text/plain": [
       "Epoch 465:   0%|          | 0/25 [00:00<?, ?it/s]"
      ]
     },
     "metadata": {},
     "output_type": "display_data"
    },
    {
     "name": "stdout",
     "output_type": "stream",
     "text": [
      "Epoch 465 done — avg loss: 2.942070\n"
     ]
    },
    {
     "data": {
      "application/vnd.jupyter.widget-view+json": {
       "model_id": "d0890d78da0b41e7b11523376bd642e4",
       "version_major": 2,
       "version_minor": 0
      },
      "text/plain": [
       "Epoch 466:   0%|          | 0/25 [00:00<?, ?it/s]"
      ]
     },
     "metadata": {},
     "output_type": "display_data"
    },
    {
     "name": "stdout",
     "output_type": "stream",
     "text": [
      "Epoch 466 done — avg loss: 2.941164\n"
     ]
    },
    {
     "data": {
      "application/vnd.jupyter.widget-view+json": {
       "model_id": "008e18ed51e145b987f69eb9fe08e241",
       "version_major": 2,
       "version_minor": 0
      },
      "text/plain": [
       "Epoch 467:   0%|          | 0/25 [00:00<?, ?it/s]"
      ]
     },
     "metadata": {},
     "output_type": "display_data"
    },
    {
     "name": "stdout",
     "output_type": "stream",
     "text": [
      "Epoch 467 done — avg loss: 2.941734\n"
     ]
    },
    {
     "data": {
      "application/vnd.jupyter.widget-view+json": {
       "model_id": "b357fe2aad9d469ebe2815e2bd847729",
       "version_major": 2,
       "version_minor": 0
      },
      "text/plain": [
       "Epoch 468:   0%|          | 0/25 [00:00<?, ?it/s]"
      ]
     },
     "metadata": {},
     "output_type": "display_data"
    },
    {
     "name": "stdout",
     "output_type": "stream",
     "text": [
      "Epoch 468 done — avg loss: 2.940049\n"
     ]
    },
    {
     "data": {
      "application/vnd.jupyter.widget-view+json": {
       "model_id": "6083288514454b7cbaf1f91dc7e2c5a6",
       "version_major": 2,
       "version_minor": 0
      },
      "text/plain": [
       "Epoch 469:   0%|          | 0/25 [00:00<?, ?it/s]"
      ]
     },
     "metadata": {},
     "output_type": "display_data"
    },
    {
     "name": "stdout",
     "output_type": "stream",
     "text": [
      "Epoch 469 done — avg loss: 2.940057\n"
     ]
    },
    {
     "data": {
      "application/vnd.jupyter.widget-view+json": {
       "model_id": "23c24fc6e49c4d50a569dc40f16b8929",
       "version_major": 2,
       "version_minor": 0
      },
      "text/plain": [
       "Epoch 470:   0%|          | 0/25 [00:00<?, ?it/s]"
      ]
     },
     "metadata": {},
     "output_type": "display_data"
    },
    {
     "name": "stdout",
     "output_type": "stream",
     "text": [
      "Epoch 470 done — avg loss: 2.937075\n"
     ]
    },
    {
     "data": {
      "application/vnd.jupyter.widget-view+json": {
       "model_id": "3771367d93e546b29efe6f11aae421bc",
       "version_major": 2,
       "version_minor": 0
      },
      "text/plain": [
       "Epoch 471:   0%|          | 0/25 [00:00<?, ?it/s]"
      ]
     },
     "metadata": {},
     "output_type": "display_data"
    },
    {
     "name": "stdout",
     "output_type": "stream",
     "text": [
      "Epoch 471 done — avg loss: 2.936307\n"
     ]
    },
    {
     "data": {
      "application/vnd.jupyter.widget-view+json": {
       "model_id": "1b3cb56a0cfa40a5a26edd31b5e3ae8c",
       "version_major": 2,
       "version_minor": 0
      },
      "text/plain": [
       "Epoch 472:   0%|          | 0/25 [00:00<?, ?it/s]"
      ]
     },
     "metadata": {},
     "output_type": "display_data"
    },
    {
     "name": "stdout",
     "output_type": "stream",
     "text": [
      "Epoch 472 done — avg loss: 2.934924\n"
     ]
    },
    {
     "data": {
      "application/vnd.jupyter.widget-view+json": {
       "model_id": "bb9d8fc158c04785aae0f9a9be56a13a",
       "version_major": 2,
       "version_minor": 0
      },
      "text/plain": [
       "Epoch 473:   0%|          | 0/25 [00:00<?, ?it/s]"
      ]
     },
     "metadata": {},
     "output_type": "display_data"
    },
    {
     "name": "stdout",
     "output_type": "stream",
     "text": [
      "Epoch 473 done — avg loss: 2.934136\n"
     ]
    },
    {
     "data": {
      "application/vnd.jupyter.widget-view+json": {
       "model_id": "1fa1655f19f14cbeb03eceda7410f945",
       "version_major": 2,
       "version_minor": 0
      },
      "text/plain": [
       "Epoch 474:   0%|          | 0/25 [00:00<?, ?it/s]"
      ]
     },
     "metadata": {},
     "output_type": "display_data"
    },
    {
     "name": "stdout",
     "output_type": "stream",
     "text": [
      "Epoch 474 done — avg loss: 2.934199\n"
     ]
    },
    {
     "data": {
      "application/vnd.jupyter.widget-view+json": {
       "model_id": "930ae7803c1d4abdb1c0fb8fe171d740",
       "version_major": 2,
       "version_minor": 0
      },
      "text/plain": [
       "Epoch 475:   0%|          | 0/25 [00:00<?, ?it/s]"
      ]
     },
     "metadata": {},
     "output_type": "display_data"
    },
    {
     "name": "stdout",
     "output_type": "stream",
     "text": [
      "Epoch 475 done — avg loss: 2.935337\n"
     ]
    },
    {
     "data": {
      "application/vnd.jupyter.widget-view+json": {
       "model_id": "48503058de5e4098872a2eb88ce949ef",
       "version_major": 2,
       "version_minor": 0
      },
      "text/plain": [
       "Epoch 476:   0%|          | 0/25 [00:00<?, ?it/s]"
      ]
     },
     "metadata": {},
     "output_type": "display_data"
    },
    {
     "name": "stdout",
     "output_type": "stream",
     "text": [
      "Epoch 476 done — avg loss: 2.933042\n"
     ]
    },
    {
     "data": {
      "application/vnd.jupyter.widget-view+json": {
       "model_id": "22a110bfa5a14d74b6c9e1a8d9d55b52",
       "version_major": 2,
       "version_minor": 0
      },
      "text/plain": [
       "Epoch 477:   0%|          | 0/25 [00:00<?, ?it/s]"
      ]
     },
     "metadata": {},
     "output_type": "display_data"
    },
    {
     "name": "stdout",
     "output_type": "stream",
     "text": [
      "Epoch 477 done — avg loss: 2.930455\n"
     ]
    },
    {
     "data": {
      "application/vnd.jupyter.widget-view+json": {
       "model_id": "8a56e59fb21d404dba092558c39a971e",
       "version_major": 2,
       "version_minor": 0
      },
      "text/plain": [
       "Epoch 478:   0%|          | 0/25 [00:00<?, ?it/s]"
      ]
     },
     "metadata": {},
     "output_type": "display_data"
    },
    {
     "name": "stdout",
     "output_type": "stream",
     "text": [
      "Epoch 478 done — avg loss: 2.931174\n"
     ]
    },
    {
     "data": {
      "application/vnd.jupyter.widget-view+json": {
       "model_id": "8e7b8a20f71b4cbc96bf95c106e867b3",
       "version_major": 2,
       "version_minor": 0
      },
      "text/plain": [
       "Epoch 479:   0%|          | 0/25 [00:00<?, ?it/s]"
      ]
     },
     "metadata": {},
     "output_type": "display_data"
    },
    {
     "name": "stdout",
     "output_type": "stream",
     "text": [
      "Epoch 479 done — avg loss: 2.929778\n"
     ]
    },
    {
     "data": {
      "application/vnd.jupyter.widget-view+json": {
       "model_id": "6f8dc50823e140c184ffb95c6d5c9d2b",
       "version_major": 2,
       "version_minor": 0
      },
      "text/plain": [
       "Epoch 480:   0%|          | 0/25 [00:00<?, ?it/s]"
      ]
     },
     "metadata": {},
     "output_type": "display_data"
    },
    {
     "name": "stdout",
     "output_type": "stream",
     "text": [
      "Epoch 480 done — avg loss: 2.928766\n"
     ]
    },
    {
     "data": {
      "application/vnd.jupyter.widget-view+json": {
       "model_id": "7e3f29a4f9de48d3b9f175a5f48c8571",
       "version_major": 2,
       "version_minor": 0
      },
      "text/plain": [
       "Epoch 481:   0%|          | 0/25 [00:00<?, ?it/s]"
      ]
     },
     "metadata": {},
     "output_type": "display_data"
    },
    {
     "name": "stdout",
     "output_type": "stream",
     "text": [
      "Epoch 481 done — avg loss: 2.927927\n"
     ]
    },
    {
     "data": {
      "application/vnd.jupyter.widget-view+json": {
       "model_id": "8b0f5acdcfe5486183d9b122dc8ff139",
       "version_major": 2,
       "version_minor": 0
      },
      "text/plain": [
       "Epoch 482:   0%|          | 0/25 [00:00<?, ?it/s]"
      ]
     },
     "metadata": {},
     "output_type": "display_data"
    },
    {
     "name": "stdout",
     "output_type": "stream",
     "text": [
      "Epoch 482 done — avg loss: 2.927082\n"
     ]
    },
    {
     "data": {
      "application/vnd.jupyter.widget-view+json": {
       "model_id": "8be3f19a4e4c43a59e7f4dfc4efcd7c2",
       "version_major": 2,
       "version_minor": 0
      },
      "text/plain": [
       "Epoch 483:   0%|          | 0/25 [00:00<?, ?it/s]"
      ]
     },
     "metadata": {},
     "output_type": "display_data"
    },
    {
     "name": "stdout",
     "output_type": "stream",
     "text": [
      "Epoch 483 done — avg loss: 2.925908\n"
     ]
    },
    {
     "data": {
      "application/vnd.jupyter.widget-view+json": {
       "model_id": "c12703b5aa0f4c35a21f7189f54dba51",
       "version_major": 2,
       "version_minor": 0
      },
      "text/plain": [
       "Epoch 484:   0%|          | 0/25 [00:00<?, ?it/s]"
      ]
     },
     "metadata": {},
     "output_type": "display_data"
    },
    {
     "name": "stdout",
     "output_type": "stream",
     "text": [
      "Epoch 484 done — avg loss: 2.924613\n"
     ]
    },
    {
     "data": {
      "application/vnd.jupyter.widget-view+json": {
       "model_id": "f57feb41633b481483e6068b42428fef",
       "version_major": 2,
       "version_minor": 0
      },
      "text/plain": [
       "Epoch 485:   0%|          | 0/25 [00:00<?, ?it/s]"
      ]
     },
     "metadata": {},
     "output_type": "display_data"
    },
    {
     "name": "stdout",
     "output_type": "stream",
     "text": [
      "Epoch 485 done — avg loss: 2.923252\n"
     ]
    },
    {
     "data": {
      "application/vnd.jupyter.widget-view+json": {
       "model_id": "b05d434ac96a4e3c96c38d6f499da192",
       "version_major": 2,
       "version_minor": 0
      },
      "text/plain": [
       "Epoch 486:   0%|          | 0/25 [00:00<?, ?it/s]"
      ]
     },
     "metadata": {},
     "output_type": "display_data"
    },
    {
     "name": "stdout",
     "output_type": "stream",
     "text": [
      "Epoch 486 done — avg loss: 2.925737\n"
     ]
    },
    {
     "data": {
      "application/vnd.jupyter.widget-view+json": {
       "model_id": "842cd53ac2fe43d68f4819731abf662e",
       "version_major": 2,
       "version_minor": 0
      },
      "text/plain": [
       "Epoch 487:   0%|          | 0/25 [00:00<?, ?it/s]"
      ]
     },
     "metadata": {},
     "output_type": "display_data"
    },
    {
     "name": "stdout",
     "output_type": "stream",
     "text": [
      "Epoch 487 done — avg loss: 2.922734\n"
     ]
    },
    {
     "data": {
      "application/vnd.jupyter.widget-view+json": {
       "model_id": "c44eb8f9d9be4a5f808410ff5ea5f66b",
       "version_major": 2,
       "version_minor": 0
      },
      "text/plain": [
       "Epoch 488:   0%|          | 0/25 [00:00<?, ?it/s]"
      ]
     },
     "metadata": {},
     "output_type": "display_data"
    },
    {
     "name": "stdout",
     "output_type": "stream",
     "text": [
      "Epoch 488 done — avg loss: 2.920813\n"
     ]
    },
    {
     "data": {
      "application/vnd.jupyter.widget-view+json": {
       "model_id": "f0a36adf11e14f2ba9c8c372acacd5f8",
       "version_major": 2,
       "version_minor": 0
      },
      "text/plain": [
       "Epoch 489:   0%|          | 0/25 [00:00<?, ?it/s]"
      ]
     },
     "metadata": {},
     "output_type": "display_data"
    },
    {
     "name": "stdout",
     "output_type": "stream",
     "text": [
      "Epoch 489 done — avg loss: 2.919658\n"
     ]
    },
    {
     "data": {
      "application/vnd.jupyter.widget-view+json": {
       "model_id": "56ab88327ba841dda831fbcd9941b8f9",
       "version_major": 2,
       "version_minor": 0
      },
      "text/plain": [
       "Epoch 490:   0%|          | 0/25 [00:00<?, ?it/s]"
      ]
     },
     "metadata": {},
     "output_type": "display_data"
    },
    {
     "name": "stdout",
     "output_type": "stream",
     "text": [
      "Epoch 490 done — avg loss: 2.919120\n"
     ]
    },
    {
     "data": {
      "application/vnd.jupyter.widget-view+json": {
       "model_id": "cd0443328cc949089b8aacf4e60a5190",
       "version_major": 2,
       "version_minor": 0
      },
      "text/plain": [
       "Epoch 491:   0%|          | 0/25 [00:00<?, ?it/s]"
      ]
     },
     "metadata": {},
     "output_type": "display_data"
    },
    {
     "name": "stdout",
     "output_type": "stream",
     "text": [
      "Epoch 491 done — avg loss: 2.919062\n"
     ]
    },
    {
     "data": {
      "application/vnd.jupyter.widget-view+json": {
       "model_id": "5fb8f6ad9d414106bab7ca76f6cd48fd",
       "version_major": 2,
       "version_minor": 0
      },
      "text/plain": [
       "Epoch 492:   0%|          | 0/25 [00:00<?, ?it/s]"
      ]
     },
     "metadata": {},
     "output_type": "display_data"
    },
    {
     "name": "stdout",
     "output_type": "stream",
     "text": [
      "Epoch 492 done — avg loss: 2.917912\n"
     ]
    },
    {
     "data": {
      "application/vnd.jupyter.widget-view+json": {
       "model_id": "24baf46dfe164b15a3a5492974e20185",
       "version_major": 2,
       "version_minor": 0
      },
      "text/plain": [
       "Epoch 493:   0%|          | 0/25 [00:00<?, ?it/s]"
      ]
     },
     "metadata": {},
     "output_type": "display_data"
    },
    {
     "name": "stdout",
     "output_type": "stream",
     "text": [
      "Epoch 493 done — avg loss: 2.917642\n"
     ]
    },
    {
     "data": {
      "application/vnd.jupyter.widget-view+json": {
       "model_id": "da6166f2152c4c009cb70f4be1020b4f",
       "version_major": 2,
       "version_minor": 0
      },
      "text/plain": [
       "Epoch 494:   0%|          | 0/25 [00:00<?, ?it/s]"
      ]
     },
     "metadata": {},
     "output_type": "display_data"
    },
    {
     "name": "stdout",
     "output_type": "stream",
     "text": [
      "Epoch 494 done — avg loss: 2.916630\n"
     ]
    },
    {
     "data": {
      "application/vnd.jupyter.widget-view+json": {
       "model_id": "89254d7c5da74a73bda2b4fc099084fa",
       "version_major": 2,
       "version_minor": 0
      },
      "text/plain": [
       "Epoch 495:   0%|          | 0/25 [00:00<?, ?it/s]"
      ]
     },
     "metadata": {},
     "output_type": "display_data"
    },
    {
     "name": "stdout",
     "output_type": "stream",
     "text": [
      "Epoch 495 done — avg loss: 2.916281\n"
     ]
    },
    {
     "data": {
      "application/vnd.jupyter.widget-view+json": {
       "model_id": "c59c3ffafa8c4f268ec02fa20e8860c3",
       "version_major": 2,
       "version_minor": 0
      },
      "text/plain": [
       "Epoch 496:   0%|          | 0/25 [00:00<?, ?it/s]"
      ]
     },
     "metadata": {},
     "output_type": "display_data"
    },
    {
     "name": "stdout",
     "output_type": "stream",
     "text": [
      "Epoch 496 done — avg loss: 2.916157\n"
     ]
    },
    {
     "data": {
      "application/vnd.jupyter.widget-view+json": {
       "model_id": "8754ffc142874281a7c104218f5561de",
       "version_major": 2,
       "version_minor": 0
      },
      "text/plain": [
       "Epoch 497:   0%|          | 0/25 [00:00<?, ?it/s]"
      ]
     },
     "metadata": {},
     "output_type": "display_data"
    },
    {
     "name": "stdout",
     "output_type": "stream",
     "text": [
      "Epoch 497 done — avg loss: 2.913621\n"
     ]
    },
    {
     "data": {
      "application/vnd.jupyter.widget-view+json": {
       "model_id": "5f9373a8a4fe4b36b47c557121851112",
       "version_major": 2,
       "version_minor": 0
      },
      "text/plain": [
       "Epoch 498:   0%|          | 0/25 [00:00<?, ?it/s]"
      ]
     },
     "metadata": {},
     "output_type": "display_data"
    },
    {
     "name": "stdout",
     "output_type": "stream",
     "text": [
      "Epoch 498 done — avg loss: 2.914423\n"
     ]
    },
    {
     "data": {
      "application/vnd.jupyter.widget-view+json": {
       "model_id": "d99fae3e593248f5a5dca63d3373f3d3",
       "version_major": 2,
       "version_minor": 0
      },
      "text/plain": [
       "Epoch 499:   0%|          | 0/25 [00:00<?, ?it/s]"
      ]
     },
     "metadata": {},
     "output_type": "display_data"
    },
    {
     "name": "stdout",
     "output_type": "stream",
     "text": [
      "Epoch 499 done — avg loss: 2.913058\n"
     ]
    },
    {
     "data": {
      "application/vnd.jupyter.widget-view+json": {
       "model_id": "6639967a2fe6472f91b81935b1cdbfba",
       "version_major": 2,
       "version_minor": 0
      },
      "text/plain": [
       "Epoch 500:   0%|          | 0/25 [00:00<?, ?it/s]"
      ]
     },
     "metadata": {},
     "output_type": "display_data"
    },
    {
     "name": "stdout",
     "output_type": "stream",
     "text": [
      "Epoch 500 done — avg loss: 2.911371\n"
     ]
    }
   ],
   "source": [
    "train_soft_prompt(loader, model, soft_prompt, optimizer, 500)"
   ]
  },
  {
   "cell_type": "code",
   "execution_count": null,
   "metadata": {
    "id": "Km8nvB3idtdO"
   },
   "outputs": [],
   "source": [
    "prior_cdf_int, delta, c_min, prior_pmf = gaussian_hyper_prior(sigma=1.0, c_min=-5.0, c_max=5.0, n_bins=256)"
   ]
  },
  {
   "cell_type": "code",
   "execution_count": null,
   "metadata": {
    "id": "LUMMUeiddvMV"
   },
   "outputs": [],
   "source": [
    "c_bits = encode_soft_prompt(soft_prompt, prior_cdf_int, c_min)"
   ]
  },
  {
   "cell_type": "code",
   "execution_count": null,
   "metadata": {
    "id": "w6a3A6HP5grK"
   },
   "outputs": [],
   "source": [
    "soft_prompt_rec = decode_soft_prompt(c_bits, prior_cdf_int, soft_prompt.shape, c_min)"
   ]
  },
  {
   "cell_type": "code",
   "execution_count": null,
   "metadata": {
    "id": "Lv2iHwmoSgP1"
   },
   "outputs": [],
   "source": [
    "model.eval();"
   ]
  },
  {
   "cell_type": "code",
   "execution_count": null,
   "metadata": {
    "colab": {
     "base_uri": "https://localhost:8080/",
     "height": 66,
     "referenced_widgets": [
      "5bf91560b5e649dba78efca9a6bf1008",
      "359b152887f640d9b05271dc838762bb",
      "c38e5e8e9ad64fcf939355e566288af4",
      "0cb4be5e530b447785a174584f0a05ac",
      "34b563996ac448cf88dbc47dc3d32644",
      "7129113009904c1f93bddef667e8cd29",
      "aec6c9302a48493ca906116d5637c352",
      "510711b068cb45cf8defe0299ca70fdf",
      "f165fad416a14b219996a414b1faa91c",
      "f3d8a407443d411ea8f06ab24ec72694",
      "73aaa278700541d38ef7b8bcce13cee0",
      "ae48ad0919134117bbe74735c56c5153",
      "b8fbcdedf2ce4468b87b4acf2b710f88",
      "75b0b53effa540ddbf527c383c5e042f",
      "4fa8ac33d5284f05ba4259fb0346c0bf",
      "19703f647a5e403ab14cef918b43c350",
      "3286895d09eb46d38e217d8930b92ed0",
      "597a85890ed94f1da75f95330fb83cab",
      "69da34f7fb014756a1478c93ac91cd96",
      "1aa95a34728d4935869575c466477340",
      "5c0f06c8f5f5401baef5ec755eaaf552",
      "43f1f95c5f3b4476ac3b09dd8c0ad824",
      "5ffd0f292e0e44a5b1a8d9ec9672d9aa",
      "4a331c2ac8d9499e85f3ea489226fbb9",
      "8a6688b860ac41c2862c36f4cb40b997",
      "a24fd68ad14441e68d726e8f79f8e45b",
      "6da62239b78e480f88a132ddaf2fb401",
      "abd14244d3774af2a337cdf56bae7c93",
      "71fe07f6820447a38caa6916af871f5f",
      "87a5bf3a19d245fd8cc493733e18f17a",
      "c9737b81ca0c4cb49e12461ae6860ab7",
      "2e5b837bf2ae4be885e0bcc9e3aa3f05",
      "7b104f85e5f54609a4799e840a51d92c",
      "35d50c6222554a90a5e46a21439a05c8",
      "e809222fcd754b1db54ff3320cb7a8e4",
      "f92ca35ef31742fd800893666c9c41b7",
      "8ca42519e2b446a694e2e69b3a38139a",
      "bae1147da3c34cdaaf86f7b66426cd81",
      "9733c3d863c5459ba7dd2e46804d4ee1",
      "a206369d471642ce8c6e3439c9978aff",
      "32b80528e11146fead2a0b4a18699a8c",
      "0022c94069844695ae33122790422121",
      "4fd9c9afd4534e148d4db53b01665088",
      "3a60918ccff54e62a2f393ecacf80aee",
      "27719fc009d1410bb0599cda7b73aa8c",
      "b6c3911bb1d34ce8931b3ff6e980e209",
      "20dfc94841fa43f38581b68443ba4df9",
      "a55497a2a3ba4510bb20d6d6cbb656e8",
      "4e6089b7e7b4479fac11f11b2efc360d",
      "35f843ab82004c8eb593fe32cd5a239e",
      "8224749f019e4de09bbc7a1559f91f20",
      "f549ecf098f345348ea44bbd22fb954c",
      "59705793a5b84e18857d15d2adc201fb",
      "8d717d5ec0914d3db55c5f91cd8261eb",
      "9a90f3bd39124db59d599c4788bb5cab",
      "653f5cd333374345975f908b61b824ce",
      "ca2e59a31f684855a900aa56cbf93e55",
      "39f0a3fb189f43c2abfecafc12e3532b",
      "4bd0c21276014298b5d5e656b8f4a193",
      "93539578d94e457f891b7f3a92de2464",
      "6eee00385c2f4bc39cab312ff6093323",
      "daeabac587774477abe976f024632652",
      "f137b65fb0214ed7879cb2ebf1a626f3",
      "3e1fa4dc5f8b4cc682abd53196c81518",
      "681eb3c2bc9348f287d41bdce50eea19",
      "7143bc5361c04d17962eca0f31e69f66",
      "fcee28910ee145f4a277d64dd7899962",
      "70d34dd683dc43d8b57d29d596711c18",
      "a0b5d7e045234eff8b9a47008ae277dc",
      "de051064f29742a9b2e05154f2020bd8",
      "fa00cecea2324a7bbd872351d611a9ed",
      "f6f79183ac6f44d68c2c17fd139ff861",
      "4f430e9001d84132bb22e85f6143dfa9",
      "85284efb798644bfa8dc45d36fae92bc",
      "124c7d8cd73e4e7c81b80faec93604fc",
      "9d264044128c46409906c7f0ca28c1f3",
      "04fe2cb322d14f92b4a02b52557db871",
      "17354c2847d24f6587f0d77a98dcc797",
      "4ff424686d824530819bc3afdece7131",
      "a746975386944e76bf1f0973d9254290",
      "07c5ac9dd1174104a972fbb3b9c06409",
      "7ee84e0a380041d3b3886fdc8a2535c0",
      "060d06ddbd4e4bedb5110c8f7271b419",
      "6f306e6cd4524b1f8bebbabafdf12cc3",
      "4ec804390e5a4f6c93090b7906e6acb6",
      "dd81a49559a54136a57fd71c04c15bfa",
      "d267088e8b7249a4b9d39ad07ce0ebb1",
      "1c2790083ef441cabbe846f3301dee01",
      "00fef5504de940df98d5bf949291f93d",
      "cbc92bc7405e4597945676104651378f",
      "a5f4278ab8f442a8a3f576960dca611e",
      "1b698592064642bca694d97debe2635c",
      "5a3a39cfc8124341b7828668ef5e80a9",
      "d3def5f3f9f8496b8f10d2c2d108235d",
      "58a2e5ea7f4946a0808cd03dff08def2",
      "e0bb1d11b24b4e64947c0564863245aa",
      "ec5aa26e6d764f5eb696058deabbbb4f",
      "b827893dc02e4dd3aed5856cb4c572f1",
      "3978654296cb46159e614700f3a088e5",
      "2813411876ae4d3aa37a8f7c9abafac4",
      "07186858c80348f8a24663993f25788c",
      "d0f2c4c8b100452d83dcf8c8bbc19486",
      "009f1a38849a4a17ab103c0bf582142a",
      "45e1fbf4380845afa75650f7391e15f7",
      "50a7ef47c83f4f118ea80726f01815ca",
      "195da7927426420a88fb6372ef829bfa",
      "9f80b28ba7054f3e96b99cbf92e0e980",
      "99ee96df1e6d4b979d7dd5857ef53c60",
      "494f0849d3b14c39bf0dd44aef696221",
      "56d43faa97e84d1fa763c202fbf4b48e",
      "d3a7ec4ca93b45ac8c0269d48f4f6307",
      "c73c7225be5a485b880ddbc78f8a8358",
      "9456b78f34204b5788e5844d9e7886b3",
      "db6a02e50ea844148e899fcf442b637f",
      "f081bd4e40b24d9cb29e274a5c30b111",
      "cbb81ccf83d740bf8db33a9e13c13d72",
      "733884d33134405f8f80e7ee6fd22570",
      "482e699918d74e23bb6ffc9ff728604f",
      "2bef770c87084b599f0a17010f94341c",
      "3568bfa16ca74776bc7fda78614d0be7",
      "0c2d1889cf984046becb81956b829da5",
      "821dc6e69d154a8c833c3cba9e12a288",
      "5cd31894688f4327be594ff087226275",
      "58918a5bdee3436db39980fa51a98ae3",
      "b30b2f1d54c04a299f087a27db793e69",
      "0c172c6238b44c27aa5fffa967ae7832",
      "b0ec606a3e6f4f0bb7eac148fbc62574",
      "b77cc2fff64b48499deb844ddd7fd297",
      "ec2141e01be54a208168d1b7e0e9ead3",
      "81605cabbc6348f28704b0ca224c83bf",
      "e041b4a393d04c20b59de87e26a4a0c9",
      "71c34e1a7a294293853ad0b48653007c",
      "a3dd2b4025804f1c8452c208e22431fd",
      "8de6f59bbd28429c9cb52090b8ac6f99",
      "aace01199e9b4413bfd3a9cf0a995a10",
      "efd9ff3a98414c9baef4ad5cbb9f7411",
      "63ba94176c0d42518e57a884bfb44720",
      "6921eb2b484d4162b59d188461d32444",
      "d481298ed6b1448cb0d69df233189eb6",
      "e41751c522704311baa86bda27a8a0ec",
      "8fe19c1f2f1e4ed3bc265c5b0c65c3a8",
      "67a58feee6a44888b116fb4824d874a6",
      "2d966e1201694ecf90223cc04dddb80d",
      "20f86cde810340399076cb57b20acf37",
      "a30946dc3c044ef1ab21c13f26a730b9",
      "b887772e84de4450bf67db2e69111228",
      "0e689d16080e4c378b514bb196e56e2c",
      "6881bb7f2f3f42869a163bd46fa64b29",
      "5156fc787a5044ac8b95e9e8cf98de82",
      "f0843a4a589a4ea0be225447adb10938",
      "53e659be92ca43e7842f618a720acc20",
      "62c5b56bfef34d79bddb7026333d025c",
      "875944816a2b4b329dab21d6ce8aa75c",
      "22fe5bd123e8457a89c0b4dd953db15c",
      "782c8b7e5fdf4b549d68be5c5896858e",
      "061862ae6c0c475ea9e1c6c49f1223ba",
      "05bfa72bdd094b0eb4cbfa62c26e3bd8",
      "fa297313f7964bf8b0699ed3cf98e18d",
      "63fe8963b65e44c596f3b00cb1b55332",
      "5a50c318418247b1af8ceef7fa378aad",
      "89d513bcc6fa435ba78f5242708f4aa1",
      "99f34fae8d224f5e9c9ce51b99087fa8",
      "1275de073ad74516b0a2861296654ebb",
      "e0fcd339ed2743ff871ad801cca84836",
      "d1d9b5a6baff4327b2acc2d3edf056d6",
      "fa80e87c0fb449dab61d9381fe56be8d",
      "94cd73243b744efc9d03272553de680b",
      "4d213c6f128040f5ae762a12919b6954",
      "578771df88044614a4425d318f675d3f",
      "ea453c12278f4cebb26f6bea1e11175a",
      "8e6adf5c4d414c26874140ab63720006",
      "c9f0238871d94254b827ea47f5344b8d",
      "771c5df8c9ee44e5b86c1145a90a35da",
      "c0ed86e0f7934b36b643544810572f51",
      "1d1e1b05ee8641ec86e2c6a047528dad",
      "eb05e7f03bc64ff2b9f36ac4c9511d75",
      "95ed3271fa814f0bbc7313d27624c835",
      "9b2970bc57b0481e834473249624f692",
      "1d54a32eaf1b408ead7e888bee9297a4",
      "e4499e069bda47a99d0570965e65eb6b",
      "c3d9fda4ba9b4291a89b2349a553830c",
      "0af20d9f4c9e4c788341db934189b3f6",
      "2eaa29b8591049c09fa0399065cb8867",
      "930a7627c40f4ba2893b7574db0d9633",
      "3545afb753cf4c9fa61a62670b76062c",
      "ac7666a5a6454b08871f49e2385451fa",
      "b847b9e067a545978fc7e02956ae5c60",
      "5510357a76554c3b907752a8ffffaefe",
      "bbf3274da413416784d1c18dfb4256a1",
      "bb752a4b03d44a3da612d19c1b560dc8",
      "bbbc8deb2ca7402b9667c0bf8e72865b",
      "bcc1da36716745e882cfc4628a7a4fd5",
      "702d2c02b2bf43ffa0e62ce3c1e1414b",
      "a8c9595da1a24f73be8ac340b2914677",
      "c6b4fa78b3e245edabcdc77f08ee0a3a",
      "c503f3b489e846efac92d32905426b2a",
      "b7ce60e3933d4edca77641bfdbf930c9",
      "9ed7aaadbf434beebd4dfa69b17a485d",
      "b2f141c7c3164bc1a15a8bf9f1186f6a",
      "69fb1650264f453f888896c7dc9718b0",
      "0882502ce88449f886d4b13eae236da5",
      "72cb2558a560490eb153eb1246806080",
      "77c6252b930d439a8913de4fe34e9d59",
      "025a168a4f4949a1bc665d9aafd68c07",
      "a484f7b6524e4e98a51753394998e600",
      "95982978f5f549f58f96c6491c353b25",
      "0bc8d45ddd224171b21c0f978a1053a3",
      "974a9b0bee26452595d4911d6f51d4fb",
      "7b2d17b31588463eb12b08c6f2088696",
      "d4a298f14ab14daba47b92748c812b06",
      "b37e65366f4c4127ae46d15fef68b275",
      "f3e5e22a7bdf4813af8f90396f0d4ca5",
      "cea459cec65c488cb68de5062f05c300",
      "399fdf15b8ab4eb2b281965748662d50",
      "e5008ffe94e04d51a8932fd7bb8b7b36",
      "5a31b1a0f4ee44b682d74a107c804b32",
      "a68f9369556547989aa5b29112d6c41b",
      "7183ea333c1a4202affdc5f0b6a3719d",
      "aaff56e29dd142d48fc7dd850ebb006d",
      "bd81e24de1de4dfa938a0cc849b065cc",
      "8ceebe60be6946b89f3869498a5603cb",
      "2cc8226060b44542aa3afcb7097301e1",
      "c7d23f127d144aa7b4c5775305defbd0",
      "d12a05c700f64c03b6c528cfafb806fb",
      "e7530af4f7484cd08d74e6eaade779cb",
      "139a01b8867e4f599e5cc373c937cf82",
      "722b403c3e424a51b5b94baede93e44f",
      "49900583a30a42cb84c1b7f61c22fb7f",
      "fd40e2df3fa24766a8470bd51bd24138",
      "41810a5f4c61486c948f905174fb2c71",
      "9aa78e5a998d48d0b05f75ee7d1f7d3f",
      "6850528b5be34061aea7bfba8b136f6f",
      "0a53922b46404b0a83f1cee62da52d2f",
      "bee99cda9bce40cbbaeb9497ee0b0de5",
      "3548007c545d43119b3192641569d66c",
      "b2acb2593de14cea806a82d0a0863e70",
      "8fa7814761704f3b85f79ccab4293e3c",
      "c4bd6ae78ab04f74b3f91f5445803cb8",
      "2abedf84c0d84dc09c735933a12e8fc7",
      "8c492ba85a644e1d9bd9ad59ab0251b0",
      "091f030e340a4f90944633d9dce392bd",
      "706cf24aa01943aa8bb863a6d149fc41",
      "00e5c201f11d4c3596928d12d714456c",
      "17e6751de6094b50968c87ced78bd841",
      "ba0412b5ed3a447597c21aea545e9723",
      "289435b015a7440aa2afcfa1063c3b36",
      "7a05c9b7080b46eaa3ee24c43e20b5bd",
      "44740a15ca534bb79d29d5a64e88c6b8",
      "c8d1a7960f4d48b8837b3216bb6f1866",
      "3b4dde6d84d040b2a8c515e843316968",
      "d7ca8e335f6f4cb88a708edcef862c7b",
      "18a01b0cb78e4dcda13d2f4cd8d32129",
      "cedc173b6f8d44a290ef5ee1e650cb79",
      "18a006a3f8bf48c8a23378c0d7d47879",
      "7bffeb7656af497cae3217b9d19c3b1a",
      "2b6303e00a664717980fc71188c16567",
      "402fc99b329743daa02ac1f8002498e1",
      "20e64dc8aadc42bbab5883a0ded86326",
      "df68283d380447d5a6fc3690a5e0e06d",
      "421993d2081f4a818acb69ffc44e7f76",
      "509aa6c395d847fe8b64bb65c4d3f2c7",
      "a6974086f308404bbd7eb0f16b64b3cd",
      "6c524b3969754d70b122785b794d8471",
      "4b00bdb2866549dd8117245691b8f1a4",
      "f9484cc196024ce5b02342b61ca0d362",
      "5cabe58af968407cb7097d9bbfc1bbaa",
      "3516128c24d74088b49e8c0031c7f351",
      "150c360a10a04d50b1ddac21c2c1999a",
      "20a824ae944f43ddb580b4482f6379a0",
      "a8340e39dca7429499f6b9824172b3a6",
      "a2611eae508546b6809a59a026ea224d",
      "35f845bedc764a78bcfb8ac787520ce3",
      "57e2d467ad5540a1a6b234076cf96583",
      "27d091f4a0844678a8cddfc78966542b",
      "2940c53d66b449508153319c1415d54b",
      "bdfd9b29650943c0bff1a7daed4213e6",
      "bf580ed785fc476b8a135ea18f49d98f",
      "9a7320e73fcc40349da94f8ce91a44d4",
      "31a4990535cd4624a015baef9b70c37e",
      "ed1fe87d346f4ef395e376bb84e74c2b",
      "5b85822045b5497d819e4cbaf9b997be",
      "bd04bb96d8e04bf6b3a82faae918962d",
      "9ffc8260e34a4b518ba36c4520d96b81",
      "075a5c5d1b284efdb5d20b0c68334913",
      "4f9f089bc20b4c6481eda68e4d4062a1",
      "8c6ce2204f4d4e56b9d54178cbb325f3"
     ]
    },
    "executionInfo": {
     "elapsed": 200238,
     "status": "ok",
     "timestamp": 1751487819732,
     "user": {
      "displayName": "Yulia Yorkshirelove",
      "userId": "10480095246692972307"
     },
     "user_tz": -180
    },
    "id": "FIMKWs4dSjti",
    "outputId": "d7d35a57-3b49-4cfb-aad3-939242a2ad57"
   },
   "outputs": [
    {
     "data": {
      "application/vnd.jupyter.widget-view+json": {
       "model_id": "5bf91560b5e649dba78efca9a6bf1008",
       "version_major": 2,
       "version_minor": 0
      },
      "text/plain": [
       "Encoding chunks:   0%|          | 0/25 [00:00<?, ?it/s]"
      ]
     },
     "metadata": {},
     "output_type": "display_data"
    },
    {
     "data": {
      "application/vnd.jupyter.widget-view+json": {
       "model_id": "ae48ad0919134117bbe74735c56c5153",
       "version_major": 2,
       "version_minor": 0
      },
      "text/plain": [
       "  Tokens in chunk:   0%|          | 0/668 [00:00<?, ?it/s]"
      ]
     },
     "metadata": {},
     "output_type": "display_data"
    },
    {
     "data": {
      "application/vnd.jupyter.widget-view+json": {
       "model_id": "5ffd0f292e0e44a5b1a8d9ec9672d9aa",
       "version_major": 2,
       "version_minor": 0
      },
      "text/plain": [
       "  Tokens in chunk:   0%|          | 0/732 [00:00<?, ?it/s]"
      ]
     },
     "metadata": {},
     "output_type": "display_data"
    },
    {
     "data": {
      "application/vnd.jupyter.widget-view+json": {
       "model_id": "35d50c6222554a90a5e46a21439a05c8",
       "version_major": 2,
       "version_minor": 0
      },
      "text/plain": [
       "  Tokens in chunk:   0%|          | 0/572 [00:00<?, ?it/s]"
      ]
     },
     "metadata": {},
     "output_type": "display_data"
    },
    {
     "data": {
      "application/vnd.jupyter.widget-view+json": {
       "model_id": "27719fc009d1410bb0599cda7b73aa8c",
       "version_major": 2,
       "version_minor": 0
      },
      "text/plain": [
       "  Tokens in chunk:   0%|          | 0/589 [00:00<?, ?it/s]"
      ]
     },
     "metadata": {},
     "output_type": "display_data"
    },
    {
     "data": {
      "application/vnd.jupyter.widget-view+json": {
       "model_id": "653f5cd333374345975f908b61b824ce",
       "version_major": 2,
       "version_minor": 0
      },
      "text/plain": [
       "  Tokens in chunk:   0%|          | 0/577 [00:00<?, ?it/s]"
      ]
     },
     "metadata": {},
     "output_type": "display_data"
    },
    {
     "data": {
      "application/vnd.jupyter.widget-view+json": {
       "model_id": "fcee28910ee145f4a277d64dd7899962",
       "version_major": 2,
       "version_minor": 0
      },
      "text/plain": [
       "  Tokens in chunk:   0%|          | 0/546 [00:00<?, ?it/s]"
      ]
     },
     "metadata": {},
     "output_type": "display_data"
    },
    {
     "data": {
      "application/vnd.jupyter.widget-view+json": {
       "model_id": "17354c2847d24f6587f0d77a98dcc797",
       "version_major": 2,
       "version_minor": 0
      },
      "text/plain": [
       "  Tokens in chunk:   0%|          | 0/453 [00:00<?, ?it/s]"
      ]
     },
     "metadata": {},
     "output_type": "display_data"
    },
    {
     "data": {
      "application/vnd.jupyter.widget-view+json": {
       "model_id": "00fef5504de940df98d5bf949291f93d",
       "version_major": 2,
       "version_minor": 0
      },
      "text/plain": [
       "  Tokens in chunk:   0%|          | 0/505 [00:00<?, ?it/s]"
      ]
     },
     "metadata": {},
     "output_type": "display_data"
    },
    {
     "data": {
      "application/vnd.jupyter.widget-view+json": {
       "model_id": "2813411876ae4d3aa37a8f7c9abafac4",
       "version_major": 2,
       "version_minor": 0
      },
      "text/plain": [
       "  Tokens in chunk:   0%|          | 0/453 [00:00<?, ?it/s]"
      ]
     },
     "metadata": {},
     "output_type": "display_data"
    },
    {
     "data": {
      "application/vnd.jupyter.widget-view+json": {
       "model_id": "d3a7ec4ca93b45ac8c0269d48f4f6307",
       "version_major": 2,
       "version_minor": 0
      },
      "text/plain": [
       "  Tokens in chunk:   0%|          | 0/568 [00:00<?, ?it/s]"
      ]
     },
     "metadata": {},
     "output_type": "display_data"
    },
    {
     "data": {
      "application/vnd.jupyter.widget-view+json": {
       "model_id": "821dc6e69d154a8c833c3cba9e12a288",
       "version_major": 2,
       "version_minor": 0
      },
      "text/plain": [
       "  Tokens in chunk:   0%|          | 0/500 [00:00<?, ?it/s]"
      ]
     },
     "metadata": {},
     "output_type": "display_data"
    },
    {
     "data": {
      "application/vnd.jupyter.widget-view+json": {
       "model_id": "a3dd2b4025804f1c8452c208e22431fd",
       "version_major": 2,
       "version_minor": 0
      },
      "text/plain": [
       "  Tokens in chunk:   0%|          | 0/511 [00:00<?, ?it/s]"
      ]
     },
     "metadata": {},
     "output_type": "display_data"
    },
    {
     "data": {
      "application/vnd.jupyter.widget-view+json": {
       "model_id": "20f86cde810340399076cb57b20acf37",
       "version_major": 2,
       "version_minor": 0
      },
      "text/plain": [
       "  Tokens in chunk:   0%|          | 0/487 [00:00<?, ?it/s]"
      ]
     },
     "metadata": {},
     "output_type": "display_data"
    },
    {
     "data": {
      "application/vnd.jupyter.widget-view+json": {
       "model_id": "782c8b7e5fdf4b549d68be5c5896858e",
       "version_major": 2,
       "version_minor": 0
      },
      "text/plain": [
       "  Tokens in chunk:   0%|          | 0/456 [00:00<?, ?it/s]"
      ]
     },
     "metadata": {},
     "output_type": "display_data"
    },
    {
     "data": {
      "application/vnd.jupyter.widget-view+json": {
       "model_id": "fa80e87c0fb449dab61d9381fe56be8d",
       "version_major": 2,
       "version_minor": 0
      },
      "text/plain": [
       "  Tokens in chunk:   0%|          | 0/465 [00:00<?, ?it/s]"
      ]
     },
     "metadata": {},
     "output_type": "display_data"
    },
    {
     "data": {
      "application/vnd.jupyter.widget-view+json": {
       "model_id": "95ed3271fa814f0bbc7313d27624c835",
       "version_major": 2,
       "version_minor": 0
      },
      "text/plain": [
       "  Tokens in chunk:   0%|          | 0/514 [00:00<?, ?it/s]"
      ]
     },
     "metadata": {},
     "output_type": "display_data"
    },
    {
     "data": {
      "application/vnd.jupyter.widget-view+json": {
       "model_id": "5510357a76554c3b907752a8ffffaefe",
       "version_major": 2,
       "version_minor": 0
      },
      "text/plain": [
       "  Tokens in chunk:   0%|          | 0/426 [00:00<?, ?it/s]"
      ]
     },
     "metadata": {},
     "output_type": "display_data"
    },
    {
     "data": {
      "application/vnd.jupyter.widget-view+json": {
       "model_id": "b2f141c7c3164bc1a15a8bf9f1186f6a",
       "version_major": 2,
       "version_minor": 0
      },
      "text/plain": [
       "  Tokens in chunk:   0%|          | 0/537 [00:00<?, ?it/s]"
      ]
     },
     "metadata": {},
     "output_type": "display_data"
    },
    {
     "data": {
      "application/vnd.jupyter.widget-view+json": {
       "model_id": "d4a298f14ab14daba47b92748c812b06",
       "version_major": 2,
       "version_minor": 0
      },
      "text/plain": [
       "  Tokens in chunk:   0%|          | 0/494 [00:00<?, ?it/s]"
      ]
     },
     "metadata": {},
     "output_type": "display_data"
    },
    {
     "data": {
      "application/vnd.jupyter.widget-view+json": {
       "model_id": "8ceebe60be6946b89f3869498a5603cb",
       "version_major": 2,
       "version_minor": 0
      },
      "text/plain": [
       "  Tokens in chunk:   0%|          | 0/600 [00:00<?, ?it/s]"
      ]
     },
     "metadata": {},
     "output_type": "display_data"
    },
    {
     "data": {
      "application/vnd.jupyter.widget-view+json": {
       "model_id": "6850528b5be34061aea7bfba8b136f6f",
       "version_major": 2,
       "version_minor": 0
      },
      "text/plain": [
       "  Tokens in chunk:   0%|          | 0/473 [00:00<?, ?it/s]"
      ]
     },
     "metadata": {},
     "output_type": "display_data"
    },
    {
     "data": {
      "application/vnd.jupyter.widget-view+json": {
       "model_id": "00e5c201f11d4c3596928d12d714456c",
       "version_major": 2,
       "version_minor": 0
      },
      "text/plain": [
       "  Tokens in chunk:   0%|          | 0/494 [00:00<?, ?it/s]"
      ]
     },
     "metadata": {},
     "output_type": "display_data"
    },
    {
     "data": {
      "application/vnd.jupyter.widget-view+json": {
       "model_id": "18a006a3f8bf48c8a23378c0d7d47879",
       "version_major": 2,
       "version_minor": 0
      },
      "text/plain": [
       "  Tokens in chunk:   0%|          | 0/495 [00:00<?, ?it/s]"
      ]
     },
     "metadata": {},
     "output_type": "display_data"
    },
    {
     "data": {
      "application/vnd.jupyter.widget-view+json": {
       "model_id": "f9484cc196024ce5b02342b61ca0d362",
       "version_major": 2,
       "version_minor": 0
      },
      "text/plain": [
       "  Tokens in chunk:   0%|          | 0/442 [00:00<?, ?it/s]"
      ]
     },
     "metadata": {},
     "output_type": "display_data"
    },
    {
     "data": {
      "application/vnd.jupyter.widget-view+json": {
       "model_id": "bdfd9b29650943c0bff1a7daed4213e6",
       "version_major": 2,
       "version_minor": 0
      },
      "text/plain": [
       "  Tokens in chunk:   0%|          | 0/452 [00:00<?, ?it/s]"
      ]
     },
     "metadata": {},
     "output_type": "display_data"
    },
    {
     "name": "stdout",
     "output_type": "stream",
     "text": [
      "Encoding done in 200.25s\n"
     ]
    }
   ],
   "source": [
    "chunk_data = encode_with_soft_prompt(\n",
    "    dataset, model, soft_prompt_rec)"
   ]
  },
  {
   "cell_type": "code",
   "execution_count": null,
   "metadata": {
    "colab": {
     "base_uri": "https://localhost:8080/",
     "height": 66,
     "referenced_widgets": [
      "aa29e11f2053432eb0122b890ad10d8d",
      "26c93d916eb14623b9c83bb01679fc94",
      "2ea5eb323b3c40708e378f092f34bb30",
      "363c545bbd834ad48a127ad6c70bc643",
      "f1acdc5980ef4330b801cabae7a1ed92",
      "852426cf385a4d25bc80641b13c4c2ff",
      "cccb1a67bd2647768459216a9168a8d8",
      "aaf8ace6ff2d4604bf9e228ebe94b155",
      "647cd641719640209821252e457b7e28",
      "894672cedfb94b33a95d352f3a7e6f8a",
      "8849fc69dbcd4dcfab7c611fe1755572",
      "d45b10b9e05443ac85ce77ee50450b7a",
      "32e26049f15e43cfb9e7afdec937df01",
      "33897bcc05604042a3a28934d9b870d8",
      "0827be8cfc714f45882aa0cddb4d21ce",
      "412079c4c1e945af8fa775394a77f174",
      "18cb37b787734f53832212ae7e73cc88",
      "95bd2e498298473a95484e5ed0f0059a",
      "9dc3583232cc4a18ad96ab881d8f4dfa",
      "6e29af14496044598e0085e0497bb706",
      "6e03d245b9e54cbd859c11275bfeaaa1",
      "1cf0aee153bd42fb959b7ceba4d44b65",
      "4fdf63dfbad740bf9cf486144a9339a3",
      "51f20d8542d748268c2158fa419970b0",
      "38856fee9afb4e8f86c73af8323283af",
      "5c8cfdea2e424b33afec4015c0ee0a64",
      "798eb391ff124e64a8575b0920055fd7",
      "4ba4caffe54c4cbfab354561a887c84a",
      "d2896a0d1e114e989aba406a2c819557",
      "a417eaadbd0e409289ab3d1303f9ef35",
      "f5b1df131cf74d4f987cbdf0e921e522",
      "f7ab9b2809ba4a7c82541b71103e9483",
      "47499b5a60964df981c882ecb696e636",
      "14d228034f884a5ab30dc946a367f3ff",
      "4ef8090f9dcc41c0a444aa1bfffca248",
      "a3bc29959bad45e0a2c3fdf150c06f1a",
      "c60dd211185a41888d02a7425d5257a6",
      "549e562820494f7495850802a866db06",
      "d350c06c694b41cc836c439a65546736",
      "af96eedb183745df93a93a07a5cc3023",
      "d834f12e7fb34f168aeccc06ac766091",
      "67e9f42843b0455f8b9f9a5cdd6fc3c1",
      "e6ffe88ed8c84f0497c65623dff2421c",
      "2c7b29b84c06488aae5309d8d48cbd61",
      "6415eeca83d044b0bfa4e66a6c0349f5",
      "5b37a8db923b45f9bd3dbb3a6511426f",
      "9a79ccc480954cc3b934192b2e3ebfc9",
      "0b0b57d5370d4c7e9e5dfc6813a9f890",
      "7e4f53a91a78451681017235bf08489c",
      "f9f5e5f9bdf044af90f5d6aacf4ff229",
      "4c7fc5d5637a444895fd03aad0ae7905",
      "31103fee5bb742ce9df0a324ada3c59f",
      "878e1be0ef66452dbc20eebec18f8809",
      "09ad086efddd409c87aafc64ecf52c7b",
      "88f49c1625724339a0c8fd0343cc8662",
      "8e7e10c76cf54a128cfaef86118a490e",
      "51a6d61f7bd743278e24542c5824e52e",
      "8af53f66a98b4f338d2182eb810f264c",
      "55e36a11c2f2439fa636563fd89cc2c6",
      "1cdc53f8d4704d5d8899eb49cdddba66",
      "8215d53a52e34c3ca73b153be7a766fc",
      "b28f92402d634cd1a173615d523651c1",
      "865c7c96beae4184a0d839cd11a228bc",
      "cec24f740b22499ca30f9aca92ce9384",
      "660a4b367c7d426a9c4fe1f7e818d8a7",
      "22bd1e75cccf4f4e972a08329125433b",
      "0cb0b763d8cb48d6bf576a446a30032f",
      "f205f1384949448ea6f821e66ee33eea",
      "c28b0e5b135a43a6a413c5302528caba",
      "80aeaeb4cbd9419d899971366a56c0d1",
      "c2a2cadb00124235bfc9128aba1452a4",
      "dd5cca277abd445ca030e6611d05a3b6",
      "9cb17d1a0835429988cf53d397380da2",
      "a835b83cbee44fec86a324beba008da5",
      "ea6da547e291485ab569539a00c740b8",
      "9709d4e35d0c481bba202f8f0ac9b85b",
      "385544a111af46c8afd68d7c1e87f057",
      "e5ee8ba300974a6eac44e0d5d4ff5ce2",
      "f79b37e404df413a87b177f35adb6f5a",
      "3ff6d4d28a764690bf849a459741446e",
      "0cff36d4ada447c0910c479da710369c",
      "ba31b45d24014da99ef3dee6846d495a",
      "3f844e134472404380fa2d5e7176ffa0",
      "529d7350dcc5495b825e55cfeb841308",
      "36a9ca238acf4afd91267f9d5a8754a3",
      "29919850478f495b86c3a42f8089660f",
      "ede85fbfb4514a7a84b809c3be3a475d",
      "48f98b0b957946ecbfb9dbcbe17fb776",
      "827fdd655bb34c5cb9507daf0f1af04c",
      "cf322c36245c4ddcb72be8306dd5b33e",
      "300d43378f1343ccbfcb49894dc4aa3c",
      "99236e91624a42d9a9ee6a05149cc7a0",
      "b8fe0438498c4511ab6fd54fdbf63e25",
      "854e65ddc792453b88bf35ec9370f667",
      "215d9b20ad6e4eb8900338bfa4c33b3f",
      "68bf04ab02244c79b9819f95ebcd02a4",
      "52704c61adc8400fba0cea4a646ac38d",
      "97186f895d424275bc5e7457e1a31479",
      "00612b0ae02d4e1aba9962b2e9fb91c6",
      "d6cc85e9e5dd4086a3980f1e8c0549a0",
      "3d2fb03c7f804bd3b8c484056f7b0f7a",
      "12ac8d1b171141a7872241b2d7845127",
      "c3916936b3f548fabf37bd260701f639",
      "aa3ef662fc75418c96d7240d68462f69",
      "4b7979946e924ff890f00b25d9134950",
      "a511a269ed9f42e99f5b53376ebf4077",
      "7ee601e30a024f58a3447dc71e152574",
      "87b47d64f72f46dfb1f4d4c506a81ad5",
      "007abf7565144a79824e132245223672",
      "844e789963124613a94e38728dc24e14",
      "fd8721d49d0046269b03c7daf5a4c661",
      "6f1f5bcf43044492bdf45284d4785611",
      "51e3fda6a55746fdb0c233b6e5b19f01",
      "c79a9c9cc3e94aaf85cb8c74978844fb",
      "abf43bdbb4034bd6b5ff3f9cdd7bba31",
      "6a898fc40ec545da915ba88600c23ce7",
      "46cf3869d8cb41e7b3ccda70c5f604e8",
      "835430735c3044998376c1b5bbd57f04",
      "236b619de4114ad58aa1f0e86573e200",
      "b59d975d80cc4e24bb22ebf46bbead44",
      "c4fa0d51eb1c4a01b5ac4c474a36f761",
      "2d8ffedaa6944030b9d49a26519e303d",
      "521ca8becf154fe8ad02353dce4e4223",
      "b6949fc9fb9e458b9767c5d920b4d275",
      "579ef617576a4de8853d44a3b2d55056",
      "60cf99b4ec6e4f368326f89a2ffe3c5d",
      "dc271b76394b42e58c43b62aa1035d6e",
      "2551647aa78645dd95652cdb18b87183",
      "9e75db75d56d4c9490e3e49b8b14fa43",
      "51e9a008ba324281a895a65bfcdaff6f",
      "9e938ebda4ec41cfacb474b7b71f7869",
      "a22ea82a0eae456382e51552943ba232",
      "1f149a04f17542459c550c28d43f1a55",
      "4d766339a1624779b8efc1e694eb70c7",
      "dc624527bda24b00bd6c2a912e672f99",
      "3e30636cb79548ad887a9856cd8eba26",
      "8c30fb5c40094a1db52366d62010868e",
      "4d52942f157340d58ded8a7710d06dd9",
      "14534bf094e0444aa4b06823b50f857d",
      "b9fddf489174413aab8a1a7290a9b528",
      "9b2f1dfeff9d424b9341914e4ae8b243",
      "af77d7ee943b4fadaa6cd28826e0b28b",
      "635caff471bc42dbaba309e76e1e6b42",
      "9956d3bf7eaf4e26af5be1c3c7adb033",
      "6e1c3691976b45b39789b5e055d55a33",
      "16a55cb8cea8446faae88e736397a939",
      "6f743dd31cc743819beaff7de7a078fb",
      "66e81c6d634c42f8921816f02adb4a09",
      "0560b77b1eec4fcebf59512fb0ba5b91",
      "12486fa498b14a218a36cfe074304b0e",
      "176eeda97f1b462dbc0ba1fd7bd3db9d",
      "c83d9dfa7e2f47a59a8fd508a48f4c3c",
      "812df5389048497a8590a75139f47bf0",
      "97cbd5f8e125434e8040cf4d5f543d36",
      "1d8093e9fcf14f039050e22d100bbf0e",
      "c72b6db88767467e93977611d0ec1c88",
      "2a53744a9b9243b4b64c8315ed9cfaea",
      "32cfd68edd2949288ece45a5d33f1150",
      "1897fe9b7bed47458ac6c97555ad84f8",
      "157ba9c7047946e2bdb777ebb299b0b7",
      "3a8ec4a5bdf041248edf6f02ff8b984b",
      "7d9e910cdda14d15bbec88f652c448cd",
      "92c5321998574f6498f2c080c1b27ce2",
      "3e042ba21d6a4ae396b0e7967496565a",
      "abf565b30fde4606a1de531979480f32",
      "bf745c7d56124b74830611581e5a0af2",
      "e49c14cd5c2847968ddf8828d4b47540",
      "9edbc54da5494f27b4faf5e0dab3757f",
      "4209f11ccf964b30bb084e8efb335bd6",
      "907f401bc2864d15838673fe4d8776ec",
      "f9d3c6db96b146eca6a859d5107ef6c2",
      "b9d78e8c8ac64703997b4139ebe4194c",
      "32e0b249d7b243c7b65e2d457d404a1c",
      "7d4aeb2fc7b3421c918d22bf9fd17d83",
      "2bb0dd76f166480c97777f43fddb4618",
      "89f5b33cb9594e60a530af31b3b91500",
      "73502875734343dfabebc6338c81a627",
      "e4fdd8134f2340a186373a62774182e4",
      "92dc7335d83246cd8accbbfad7d2b596",
      "79e071e5b6484643abc79248aefc6b79",
      "6dc3e4feff664bc7a3316b9702432381",
      "1ec4220bc10643129449d2478292923a",
      "d3b15cc4ec3a46ec9b227af1fffa8a2f",
      "b7d8b352022c4abfb3559669b5d4347a",
      "9c4236f1e716472394c42d2dd3e0bb84",
      "3e75d8190887459087ec422464177e68",
      "c1f205f98a6a411ea5b839724b21b0d6",
      "d958527cfaa9440e86475a780664e41d",
      "76a88a611876484cb426c3cbf4f6cfa4",
      "95ec72574e4c43b7887e9c5e84ac34ba",
      "f341c4e85eb649069bd9ec205ea30adf",
      "413f6e146e7047c08d0a6606f4adcb6d",
      "bcb07fb68d754913a210f34d50ccc193",
      "51ba8a77d50948b2b4a566e90f27e662",
      "e9f2b6ce902d4ea6baaf2e9c38014858",
      "be22595d27b947db9a1a1c0f7b3a0e94",
      "9b55e1406e24438ea23e190a222a03f8",
      "16b31554bff24c3c99bc0ebbea28faf4",
      "f47a2231abe24c939e67ff9a6f0f6479",
      "042d195bf4c94c75902dbcf92d52c4d0",
      "09c4044914ca47fb918d830a7d0eac89",
      "7cbafbc7f94a44e9920282af770b3b10",
      "ea8e73f5a7d0447398a1e2dda29ebce2",
      "44552fad081c45c3b2ff6906f63cbbac",
      "0c23788e90a84e43b18147fcc7c2abbc",
      "15294f154af942e7b84fedeee3745c62",
      "4a8ee5f55d6a4fc5af5fce1eddc4381d",
      "88b5bbc1492d4a669e443d96662e1edf",
      "facd42c452d143cd9f6cc8287b682a86",
      "05c52f6e791941d9817e08f26ddb8e87",
      "e902519ff91f4c2b8e86a9ade15fd318",
      "68350acf6cf84ddaaa1d3b6e67dc38af",
      "169ce6c019b3496e8a1905d505ef4bb3",
      "dd7e6daf9742485eb3a18866a635ec82",
      "05914baa78fb479881c10d01586af6ac",
      "5cccf4db3c264e208d3d5d8c9189d18f",
      "8c493f87494546c4b7baed144294a28b",
      "cecf64f3ecc7420897f468d0c1b0a309",
      "6cef22f65c304c998bb6f8546af475ac",
      "e9eb3c5afb6c47b4939d2ef03140fa14",
      "259e56f0b5ae463c9b3ec2edf99f26b2",
      "f063c8d51cd0415db0ddd9107953fd09",
      "9e2a81deb6a141b3b5b9c34ed1c0bf78",
      "1a4efa04f6b442daa4e57b577af8d923",
      "37cfbb5020a84b9c89d88c3ccaf5b36b",
      "802383a5892441c3847dc94b2038724d",
      "cf0ce2774f1340be92a4aa1d1f5e108b",
      "d3536b21e071468581649016f5cf1d57",
      "a6225602f0a64c34ad21b0be857a9411",
      "a4fe94884e6c4bf1b1d1d632fefa2817",
      "270dec6d6203438c8349f78f6c2df634",
      "901fa2b30f8448fa939cf166e566f3e4",
      "460914b93aee4fc8bf6eadb033c42df2",
      "043fb70762e744df8744b3415aa6a118",
      "e370e9b0ad844e21a89af66ce81e3a8f",
      "84f81342d9c34d72b3b8e7cdaf13efdd",
      "6426798a145540d682044307a099873f",
      "68c4f64f06ed44c282799bb4c156b522",
      "7de46e8bda034039a71eb1f2b36eea0f",
      "383f841fe87c461989ab5621b46dae6a",
      "aeb5356075f54b368cefea879759bfb5",
      "aab4a29cf12b49b89f224a15b28964da",
      "718799ad93e34f9abb2aed59a9fc7365",
      "fa7bb34283144666aa1d17a15a601867",
      "409379d79a1f46a9b438b7cd168d066f",
      "4b94e4b91ed4494da39a26baac574e00",
      "c8a68c93f1ed4f98b7814249b73af40a",
      "ae2fda2129864ff7b85d52fa9cc63a25",
      "a87a75790c2b445c8635cbe06fcbf2a7",
      "534fefdb0c2b434cbb6d22ef4f3a17b5",
      "f50a40cbcd5342bd8b986e1c8dd5f4d3",
      "5a509b10e8ec4825969a8d08848367d2",
      "12db860e25e344fba226c93968aa0bc5",
      "e9cf9f287f914201a1a8978eb63bb33e",
      "4777ad7cefe74a18a1bf6c649b7aaa96",
      "74c8fea9b37a4291a1173fd6f1f2f0be",
      "0212e11dccec4a43ad0eb107b2383d41",
      "befa32e0eb3344889645569a672a51fc",
      "5734b4aca2204db39c1f249d69bf1283",
      "63a806f386d14b02a917e451381117b6",
      "4b235587fb11470cac6beb63ce3ffb51",
      "b323d74411a84a8cb99b0492ce60a280",
      "0f60ee02768d4f908299e8cb9d565c52",
      "0c47856e29344acfa0e8d9eb0816c87f",
      "dedcb0fc52274a50b781a273c08a7e77",
      "bc9d1798bbe146bfa0acb36d169be20a",
      "7275eee2d733463fae1ab5010db2dbef",
      "5d4a6dc0c5a541ecab56aa696b3176c8",
      "b795cd2f6a494a78813184df296a3751",
      "5fedc8ba5703446ca80d6c4097e9fd88",
      "0ce370e4c2084277ab7d2587f8ce48bb",
      "633fd13547fc4acd87237dc85d5cd542",
      "b2e1d415279c4a8aa47f9863d70a4d0e",
      "ddb489394d9440a9bc3dbefd768bf50f",
      "bd16322ab53c42e8973636f7af2100f0",
      "5e9785b21dd24c26b0a2497a100c307b",
      "8e3d46aa19834c50a089321133dd675b",
      "16a4ccb22f1c4220ae8d52a40dce78be",
      "e80db246279e43f5929c0f7bdca2a017",
      "f20d154c00204d96a6e0afb77c664db5",
      "9d7e03adad6749cdae91ddb434284ab5",
      "6f9281b7f64c4b9f841f1612c1e8a85a",
      "525a4c899ee24d33988e7a97dbb2dffe",
      "aa47511acaa54d5a8f24e9f1fb5a9f1f",
      "d2a3f8645fdc4fcdb7774bbf3d88645a",
      "1dce772689324bc297963de8db8383ee"
     ]
    },
    "executionInfo": {
     "elapsed": 203107,
     "status": "ok",
     "timestamp": 1751488022842,
     "user": {
      "displayName": "Yulia Yorkshirelove",
      "userId": "10480095246692972307"
     },
     "user_tz": -180
    },
    "id": "D_AQ8E-sSkbF",
    "outputId": "769dbee2-591a-4371-af98-87820fb542f7"
   },
   "outputs": [
    {
     "data": {
      "application/vnd.jupyter.widget-view+json": {
       "model_id": "aa29e11f2053432eb0122b890ad10d8d",
       "version_major": 2,
       "version_minor": 0
      },
      "text/plain": [
       "Decoding chunks:   0%|          | 0/25 [00:00<?, ?it/s]"
      ]
     },
     "metadata": {},
     "output_type": "display_data"
    },
    {
     "data": {
      "application/vnd.jupyter.widget-view+json": {
       "model_id": "d45b10b9e05443ac85ce77ee50450b7a",
       "version_major": 2,
       "version_minor": 0
      },
      "text/plain": [
       "  Tokens in chunk:   0%|          | 0/668 [00:00<?, ?it/s]"
      ]
     },
     "metadata": {},
     "output_type": "display_data"
    },
    {
     "data": {
      "application/vnd.jupyter.widget-view+json": {
       "model_id": "4fdf63dfbad740bf9cf486144a9339a3",
       "version_major": 2,
       "version_minor": 0
      },
      "text/plain": [
       "  Tokens in chunk:   0%|          | 0/732 [00:00<?, ?it/s]"
      ]
     },
     "metadata": {},
     "output_type": "display_data"
    },
    {
     "data": {
      "application/vnd.jupyter.widget-view+json": {
       "model_id": "14d228034f884a5ab30dc946a367f3ff",
       "version_major": 2,
       "version_minor": 0
      },
      "text/plain": [
       "  Tokens in chunk:   0%|          | 0/572 [00:00<?, ?it/s]"
      ]
     },
     "metadata": {},
     "output_type": "display_data"
    },
    {
     "data": {
      "application/vnd.jupyter.widget-view+json": {
       "model_id": "6415eeca83d044b0bfa4e66a6c0349f5",
       "version_major": 2,
       "version_minor": 0
      },
      "text/plain": [
       "  Tokens in chunk:   0%|          | 0/589 [00:00<?, ?it/s]"
      ]
     },
     "metadata": {},
     "output_type": "display_data"
    },
    {
     "data": {
      "application/vnd.jupyter.widget-view+json": {
       "model_id": "8e7e10c76cf54a128cfaef86118a490e",
       "version_major": 2,
       "version_minor": 0
      },
      "text/plain": [
       "  Tokens in chunk:   0%|          | 0/577 [00:00<?, ?it/s]"
      ]
     },
     "metadata": {},
     "output_type": "display_data"
    },
    {
     "data": {
      "application/vnd.jupyter.widget-view+json": {
       "model_id": "0cb0b763d8cb48d6bf576a446a30032f",
       "version_major": 2,
       "version_minor": 0
      },
      "text/plain": [
       "  Tokens in chunk:   0%|          | 0/546 [00:00<?, ?it/s]"
      ]
     },
     "metadata": {},
     "output_type": "display_data"
    },
    {
     "data": {
      "application/vnd.jupyter.widget-view+json": {
       "model_id": "e5ee8ba300974a6eac44e0d5d4ff5ce2",
       "version_major": 2,
       "version_minor": 0
      },
      "text/plain": [
       "  Tokens in chunk:   0%|          | 0/453 [00:00<?, ?it/s]"
      ]
     },
     "metadata": {},
     "output_type": "display_data"
    },
    {
     "data": {
      "application/vnd.jupyter.widget-view+json": {
       "model_id": "827fdd655bb34c5cb9507daf0f1af04c",
       "version_major": 2,
       "version_minor": 0
      },
      "text/plain": [
       "  Tokens in chunk:   0%|          | 0/505 [00:00<?, ?it/s]"
      ]
     },
     "metadata": {},
     "output_type": "display_data"
    },
    {
     "data": {
      "application/vnd.jupyter.widget-view+json": {
       "model_id": "d6cc85e9e5dd4086a3980f1e8c0549a0",
       "version_major": 2,
       "version_minor": 0
      },
      "text/plain": [
       "  Tokens in chunk:   0%|          | 0/453 [00:00<?, ?it/s]"
      ]
     },
     "metadata": {},
     "output_type": "display_data"
    },
    {
     "data": {
      "application/vnd.jupyter.widget-view+json": {
       "model_id": "fd8721d49d0046269b03c7daf5a4c661",
       "version_major": 2,
       "version_minor": 0
      },
      "text/plain": [
       "  Tokens in chunk:   0%|          | 0/568 [00:00<?, ?it/s]"
      ]
     },
     "metadata": {},
     "output_type": "display_data"
    },
    {
     "data": {
      "application/vnd.jupyter.widget-view+json": {
       "model_id": "2d8ffedaa6944030b9d49a26519e303d",
       "version_major": 2,
       "version_minor": 0
      },
      "text/plain": [
       "  Tokens in chunk:   0%|          | 0/500 [00:00<?, ?it/s]"
      ]
     },
     "metadata": {},
     "output_type": "display_data"
    },
    {
     "data": {
      "application/vnd.jupyter.widget-view+json": {
       "model_id": "1f149a04f17542459c550c28d43f1a55",
       "version_major": 2,
       "version_minor": 0
      },
      "text/plain": [
       "  Tokens in chunk:   0%|          | 0/511 [00:00<?, ?it/s]"
      ]
     },
     "metadata": {},
     "output_type": "display_data"
    },
    {
     "data": {
      "application/vnd.jupyter.widget-view+json": {
       "model_id": "9956d3bf7eaf4e26af5be1c3c7adb033",
       "version_major": 2,
       "version_minor": 0
      },
      "text/plain": [
       "  Tokens in chunk:   0%|          | 0/487 [00:00<?, ?it/s]"
      ]
     },
     "metadata": {},
     "output_type": "display_data"
    },
    {
     "data": {
      "application/vnd.jupyter.widget-view+json": {
       "model_id": "1d8093e9fcf14f039050e22d100bbf0e",
       "version_major": 2,
       "version_minor": 0
      },
      "text/plain": [
       "  Tokens in chunk:   0%|          | 0/456 [00:00<?, ?it/s]"
      ]
     },
     "metadata": {},
     "output_type": "display_data"
    },
    {
     "data": {
      "application/vnd.jupyter.widget-view+json": {
       "model_id": "bf745c7d56124b74830611581e5a0af2",
       "version_major": 2,
       "version_minor": 0
      },
      "text/plain": [
       "  Tokens in chunk:   0%|          | 0/465 [00:00<?, ?it/s]"
      ]
     },
     "metadata": {},
     "output_type": "display_data"
    },
    {
     "data": {
      "application/vnd.jupyter.widget-view+json": {
       "model_id": "73502875734343dfabebc6338c81a627",
       "version_major": 2,
       "version_minor": 0
      },
      "text/plain": [
       "  Tokens in chunk:   0%|          | 0/514 [00:00<?, ?it/s]"
      ]
     },
     "metadata": {},
     "output_type": "display_data"
    },
    {
     "data": {
      "application/vnd.jupyter.widget-view+json": {
       "model_id": "d958527cfaa9440e86475a780664e41d",
       "version_major": 2,
       "version_minor": 0
      },
      "text/plain": [
       "  Tokens in chunk:   0%|          | 0/426 [00:00<?, ?it/s]"
      ]
     },
     "metadata": {},
     "output_type": "display_data"
    },
    {
     "data": {
      "application/vnd.jupyter.widget-view+json": {
       "model_id": "f47a2231abe24c939e67ff9a6f0f6479",
       "version_major": 2,
       "version_minor": 0
      },
      "text/plain": [
       "  Tokens in chunk:   0%|          | 0/537 [00:00<?, ?it/s]"
      ]
     },
     "metadata": {},
     "output_type": "display_data"
    },
    {
     "data": {
      "application/vnd.jupyter.widget-view+json": {
       "model_id": "05c52f6e791941d9817e08f26ddb8e87",
       "version_major": 2,
       "version_minor": 0
      },
      "text/plain": [
       "  Tokens in chunk:   0%|          | 0/494 [00:00<?, ?it/s]"
      ]
     },
     "metadata": {},
     "output_type": "display_data"
    },
    {
     "data": {
      "application/vnd.jupyter.widget-view+json": {
       "model_id": "259e56f0b5ae463c9b3ec2edf99f26b2",
       "version_major": 2,
       "version_minor": 0
      },
      "text/plain": [
       "  Tokens in chunk:   0%|          | 0/600 [00:00<?, ?it/s]"
      ]
     },
     "metadata": {},
     "output_type": "display_data"
    },
    {
     "data": {
      "application/vnd.jupyter.widget-view+json": {
       "model_id": "901fa2b30f8448fa939cf166e566f3e4",
       "version_major": 2,
       "version_minor": 0
      },
      "text/plain": [
       "  Tokens in chunk:   0%|          | 0/473 [00:00<?, ?it/s]"
      ]
     },
     "metadata": {},
     "output_type": "display_data"
    },
    {
     "data": {
      "application/vnd.jupyter.widget-view+json": {
       "model_id": "718799ad93e34f9abb2aed59a9fc7365",
       "version_major": 2,
       "version_minor": 0
      },
      "text/plain": [
       "  Tokens in chunk:   0%|          | 0/494 [00:00<?, ?it/s]"
      ]
     },
     "metadata": {},
     "output_type": "display_data"
    },
    {
     "data": {
      "application/vnd.jupyter.widget-view+json": {
       "model_id": "e9cf9f287f914201a1a8978eb63bb33e",
       "version_major": 2,
       "version_minor": 0
      },
      "text/plain": [
       "  Tokens in chunk:   0%|          | 0/495 [00:00<?, ?it/s]"
      ]
     },
     "metadata": {},
     "output_type": "display_data"
    },
    {
     "data": {
      "application/vnd.jupyter.widget-view+json": {
       "model_id": "dedcb0fc52274a50b781a273c08a7e77",
       "version_major": 2,
       "version_minor": 0
      },
      "text/plain": [
       "  Tokens in chunk:   0%|          | 0/442 [00:00<?, ?it/s]"
      ]
     },
     "metadata": {},
     "output_type": "display_data"
    },
    {
     "data": {
      "application/vnd.jupyter.widget-view+json": {
       "model_id": "5e9785b21dd24c26b0a2497a100c307b",
       "version_major": 2,
       "version_minor": 0
      },
      "text/plain": [
       "  Tokens in chunk:   0%|          | 0/452 [00:00<?, ?it/s]"
      ]
     },
     "metadata": {},
     "output_type": "display_data"
    },
    {
     "name": "stdout",
     "output_type": "stream",
     "text": [
      "Decoding done in 203.10s\n"
     ]
    }
   ],
   "source": [
    "all_rec = decode_with_soft_prompt(\n",
    "    chunk_data, model, soft_prompt_rec)"
   ]
  },
  {
   "cell_type": "code",
   "execution_count": null,
   "metadata": {
    "id": "2I8269KSTGdl"
   },
   "outputs": [],
   "source": [
    "orig_ids = sum((entry['ids'].tolist() for entry in chunk_data), [])\n",
    "encoded_output = sum([entry['bits'] for entry in chunk_data], [])"
   ]
  },
  {
   "cell_type": "code",
   "execution_count": null,
   "metadata": {
    "colab": {
     "base_uri": "https://localhost:8080/"
    },
    "executionInfo": {
     "elapsed": 15,
     "status": "ok",
     "timestamp": 1751488022888,
     "user": {
      "displayName": "Yulia Yorkshirelove",
      "userId": "10480095246692972307"
     },
     "user_tz": -180
    },
    "id": "BNFyPR6cSnyq",
    "outputId": "9d512b50-df2e-4f54-847f-d665582dc75a"
   },
   "outputs": [
    {
     "name": "stdout",
     "output_type": "stream",
     "text": [
      "✅  Совпадают полностью!\n"
     ]
    }
   ],
   "source": [
    "compare_sequences(orig_ids, all_rec)"
   ]
  },
  {
   "cell_type": "code",
   "execution_count": null,
   "metadata": {
    "colab": {
     "base_uri": "https://localhost:8080/"
    },
    "executionInfo": {
     "elapsed": 7,
     "status": "ok",
     "timestamp": 1751488022888,
     "user": {
      "displayName": "Yulia Yorkshirelove",
      "userId": "10480095246692972307"
     },
     "user_tz": -180
    },
    "id": "tS4JsUq_S_7U",
    "outputId": "3d3291cf-63d3-4b35-c618-64d60d948918"
   },
   "outputs": [
    {
     "name": "stdout",
     "output_type": "stream",
     "text": [
      "Исходный размер:   400000 бит\n",
      "Размер после сжатия: 54190 бит\n",
      "Коэффициент сжатия: 0.1355\n"
     ]
    }
   ],
   "source": [
    "compression_stats(data, encoded_output)"
   ]
  },
  {
   "cell_type": "code",
   "execution_count": null,
   "metadata": {
    "colab": {
     "base_uri": "https://localhost:8080/"
    },
    "executionInfo": {
     "elapsed": 64,
     "status": "ok",
     "timestamp": 1751488022950,
     "user": {
      "displayName": "Yulia Yorkshirelove",
      "userId": "10480095246692972307"
     },
     "user_tz": -180
    },
    "id": "iRjL4q8OmDCM",
    "outputId": "b5ff17a6-aede-4b2c-d35c-825fa269deb2"
   },
   "outputs": [
    {
     "name": "stdout",
     "output_type": "stream",
     "text": [
      "Число координат steering‑вектора: 102400\n",
      "Битов использовано для кодирования: 690257\n",
      "Битов на координату: 6.7408\n",
      "Теоретическая энтропия на координату: 6.7252 бит, всего ≈688655.97 бит\n",
      "MSE: 5.098574e-04\n",
      "Коэффициент компрессии steering‑вектора: 0.2106\n"
     ]
    }
   ],
   "source": [
    "evaluate_steering_coding(soft_prompt, soft_prompt_rec, prior_pmf, c_bits)"
   ]
  },
  {
   "cell_type": "markdown",
   "metadata": {
    "id": "xloihtoUKC-D"
   },
   "source": [
    "### Эмпирический гипер‑приор"
   ]
  },
  {
   "cell_type": "code",
   "execution_count": null,
   "metadata": {
    "id": "312wG8Zscipu"
   },
   "outputs": [],
   "source": [
    "def empirical_hyper_prior(soft_prompt, bins: int = 256, total_prior: int = 1 << 30,\n",
    "                          lo_pct: float = 1.0, hi_pct: float = 99.0):\n",
    "    # Выгружаем значения в numpy и распрямляем\n",
    "    vals = soft_prompt.detach().cpu().numpy().flatten()\n",
    "\n",
    "    # Берём 1–99-й перцентиль\n",
    "    vmin, vmax = np.percentile(vals, [lo_pct, hi_pct])\n",
    "\n",
    "    # Считаем гистограмму и нормируем в PMF\n",
    "    hist, _ = np.histogram(vals, bins=bins, range=(vmin, vmax))\n",
    "    prior_pmf = hist.astype(float)\n",
    "    prior_pmf /= prior_pmf.sum()\n",
    "\n",
    "    # Интегрируем PMF в CDF и масштабируем\n",
    "    cdf = np.floor(np.cumsum(prior_pmf) * total_prior).astype(np.int64)\n",
    "    # Добавляем 0 в начало и обеспечиваем неубывающую функцию\n",
    "    prior_cdf_int = np.concatenate(([0], np.maximum.accumulate(cdf)))\n",
    "    # Гарантируем, что последний элемент равен total_prior\n",
    "    prior_cdf_int[-1] = total_prior\n",
    "\n",
    "    # Ширина одного бина\n",
    "    delta = (vmax - vmin) / bins\n",
    "\n",
    "    return prior_cdf_int, delta, vmin, prior_pmf"
   ]
  },
  {
   "cell_type": "code",
   "execution_count": null,
   "metadata": {
    "id": "AzDUd-EEnQfk"
   },
   "outputs": [],
   "source": [
    "prior_cdf_int, delta, c_min, prior_pmf = empirical_hyper_prior(soft_prompt)"
   ]
  },
  {
   "cell_type": "code",
   "execution_count": null,
   "metadata": {
    "id": "fZoGXsmOncM3"
   },
   "outputs": [],
   "source": [
    "c_bits = encode_soft_prompt(soft_prompt, prior_cdf_int, c_min)"
   ]
  },
  {
   "cell_type": "code",
   "execution_count": null,
   "metadata": {
    "id": "Ma7no1DBni25"
   },
   "outputs": [],
   "source": [
    "soft_prompt_rec = decode_soft_prompt(c_bits, prior_cdf_int, soft_prompt.shape, c_min)"
   ]
  },
  {
   "cell_type": "code",
   "execution_count": null,
   "metadata": {
    "colab": {
     "base_uri": "https://localhost:8080/"
    },
    "executionInfo": {
     "elapsed": 6,
     "status": "ok",
     "timestamp": 1751488234297,
     "user": {
      "displayName": "Yulia Yorkshirelove",
      "userId": "10480095246692972307"
     },
     "user_tz": -180
    },
    "id": "oR3OqzCHnpVi",
    "outputId": "6d29fcc6-a90a-4e66-d06f-2b3f8e507543"
   },
   "outputs": [
    {
     "name": "stdout",
     "output_type": "stream",
     "text": [
      "Число координат steering‑вектора: 102400\n",
      "Битов использовано для кодирования: 795086\n",
      "Битов на координату: 7.7645\n",
      "Теоретическая энтропия на координату: 7.6999 бит, всего ≈788474.58 бит\n",
      "MSE: 4.301889e-03\n",
      "Коэффициент компрессии steering‑вектора: 0.2426\n"
     ]
    }
   ],
   "source": [
    "evaluate_steering_coding(soft_prompt, soft_prompt_rec, prior_pmf, c_bits)"
   ]
  },
  {
   "cell_type": "code",
   "execution_count": null,
   "metadata": {
    "colab": {
     "base_uri": "https://localhost:8080/",
     "height": 66,
     "referenced_widgets": [
      "2808c541f69f4b4d88875431e2b4b4a1",
      "d212d120c1644ac5af530949d55de231",
      "5922384733634d65a19abae77232628c",
      "d80103554bbb493e8e7e59a95157f9a8",
      "268a87c8e37f41bc833a56054f25d76b",
      "356cc15719924cb3a3ab4939b7214790",
      "1c097f01844a44878ece3ade57939023",
      "38d5672a28934ea8a3a54c8702dcb79c",
      "0b0439d09e40404bb8c7ff8170ac9aa7",
      "152c52e5239a402f948caf7a3b3d9213",
      "70b3aff60e664e86b0c95df8cb24910a",
      "d41a095debc24e1a9509e840ecb8befe",
      "4ca6d9f9f2114a708c783867cee1cc9b",
      "88635f24505148c39fe5622779a5ed29",
      "319afd9a0de547c4a2ac59dec3e80df2",
      "961a5147ad6444f1ad27cfbbaa4dbab2",
      "a1b8a589da07412fa64c89ab6fbd48f0",
      "df285d8dc12141b5bf1f9fa7b54fd0b3",
      "6d549c493939403a80909acaba1ecf84",
      "a38d5d58e9c64f6f8aaae2e56da8da15",
      "429a1ad586e949778d82fbab06676ea9",
      "6f017eeaf4dc496d955f0612347e5288",
      "d6cca82f819e49a184e7d53790a1ae66",
      "ac0c4c4e6cc143f9b294bdf09f00d009",
      "682c363bd5184c6b86a9c3d9364e42f8",
      "105ffbdf2ac944bca4fcb6e7e28661e8",
      "2e8fa6ad527644ac875201514f585e5a",
      "f5ea70c5287b4e19ad7d2bbca3a7df44",
      "7c1849bd3f57434aba7ec39db77a0647",
      "faba389524364ee9a0196378066d4884",
      "ccf6b3a86df64378be6265d327faf56e",
      "97618553a25643699dab39233cce8ea7",
      "47b3de0b1b384954be4385c01e7ace95",
      "047ab0c8d8194a3d9be3d85232e813f7",
      "3b53f7c93c3f4dbf9ba87d602a6711b6",
      "c9965d939ffc4c8b9a88c803f6982066",
      "4cad6d48b1d941caaa6baefc341a1e96",
      "f6198ac1c0d04f6c8c0f3699b421c575",
      "067b536911914e3184fabfdf38261375",
      "af62abf684064bd6985ca24540122e89",
      "b5b8b646f2104c8eab62d1b93e415eb7",
      "01a3e6129f1d45ddab20d022066b6e69",
      "e52df071d019421dbb6aceb34382c8db",
      "e2b5d785db6144cbb2f159c6f5d4f55f",
      "aa91edecf7b044c4add4be27906f4490",
      "bb132c04b19a43009e11425cddae587f",
      "53d21eef4a87409fbe511783c393e405",
      "a280a23e1c854fe69b3fa2a4da69272a",
      "73c068d0ecc8489d9831f529778a96dc",
      "1cff5261e10442c0bc5803161b4f752f",
      "42ca1394dc8d4228a52d4e53597ecf23",
      "dbee37afc83943579256a2fee5235602",
      "96123cac568c4522913727306f82d416",
      "d2810c306e00404b8162b840fa59e78d",
      "cd3701fe9d6346b7aa37e7268fa9f552",
      "36d84338847044198b85803dae4c8f60",
      "bfee57cf2dfe46f1868fac6a0c8b752d",
      "a9d9ed1c070d4baeb565afd7aae3abad",
      "6a8c539f033148ce9ea741b61d0ffda8",
      "f31862be6bcb4439952f027456b6be81",
      "ece1ad6661e84c7c8585358b5aecf771",
      "e8b05e6b22204483ba171c5143d4df6d",
      "12e7bb6e499a4722a205a11b6179f2f7",
      "ba92d3d9118f44079f02727ab4343c1a",
      "968962f2bb6c435f96aefc286013a3b0",
      "65bda7f608f34d3384e4a43aeb934fa4",
      "1d189378bc3f4c2eabce47d0eccc894a",
      "022a7e445b2c43afbe78680a7790beab",
      "7c980887e9b54b66ae4fc7d531295d19",
      "a97d2e51336343c4a3fafbdd4280ee17",
      "03e3776cd8c24312a1b62fd53def448a",
      "eb409eb8ddbc445c89af251920174a02",
      "fd5b4b03d5ca441db6e45655f1c20be2",
      "ea3e7da3b46e48a58fba0d6861ae93a3",
      "b0e475dae21d452580c797eaf4c12c19",
      "404da12e9faf450eb06b5edeb85dcb6c",
      "d5a93ab2316449dca6ed5fdba73610bf",
      "30029e08375b423595c0cb00c1b9356d",
      "572424c93a2a4bcd932f1a8c88941fb5",
      "31255103c1a145c4ac4ddb0cab99d94d",
      "1e5580d927014022b35cdbeb5fc7fbec",
      "0c001510706b4ba185371a29f21b01b1",
      "9b4d066e434740dd8a63500011da84a4",
      "ba8d5a3cb1a245c08240a9d6745cd647",
      "c39e640531634ece8205d9867fa4ed4b",
      "91bd80bbf7524460afe0489bed35121e",
      "84a2f3384bd148a486c5ae4093ea9a38",
      "04aa5d4c5868477ca8a0752ac33ca500",
      "87f18feff4ff43c99bf474afa2ae4e41",
      "c40b3c47e42a4468aaf3e2aed6e42f4c",
      "7e8010b569ac4d58b91138ed80a9cd7b",
      "6af9e0f7bb5447abaf63a822a971c9b0",
      "94c5c5e17e5d402196f1cd65bff2ff93",
      "3e8119cd9fc445c5b567146146f8befc",
      "c48b13222adf425bad5aa032bdd91967",
      "9967bc87b8c04899a74690618d37e7ec",
      "814db4d1319a4559820f7cb013f2bddc",
      "707bf1fcd5324a608704074df59197fd",
      "cabe4a80a4c94fa6907f4090ceb4c33f",
      "697608353e994c25b578958a12338b63",
      "ca91c913355841fe97bbe84b4e58fd0d",
      "f06ff02898894f12941068923720e2d9",
      "abeb1807df2b493d8a0c824a0296af3e",
      "447131ff199845558e36bf5bd141d303",
      "8441480165ef4a6d8029882349a9b95b",
      "497754489dbe44c78798393ae82e1787",
      "ac0cde369a314d35b1b91df4c0150ee8",
      "b452a3dee7df46a490d55ce125727d06",
      "afa1ea5e3ee5422abcbf98ae6ef9aa4b",
      "fd4d55c3b9de4b3e95ec0fce8c0d9db8",
      "a914f6b96315428d87bdaf865db696f9",
      "841167ac32694086a9496484d63d0a7c",
      "e72dd977a1174e07a8e4b130113cd7a6",
      "b43447849f5d4695afe766b6161d9b3e",
      "c771d41b998741d0a3c801ce382ebc13",
      "e6012c801f12423e982915969c0709be",
      "a154c346c3134a9fb67a25b68aee1dde",
      "acd137d8a70942ca9c5537487a1280ed",
      "9ab0bd930ab3439186e9912af6647764",
      "7e6ae6dcb7c94ffe8d2f777c8ec33638",
      "70dd7adc733340349345001b41de202b",
      "a398515c577a432183b9e6aa2f0e0588",
      "32998d9e93f44ec0bdf0c23d32cebc8c",
      "59150b6b67e14502b81c6b29701f3744",
      "c78bba97f2544858879f31480605b88d",
      "9b546dd867bf4c34a46690f15e929eac",
      "043d91828bae40a4aa58d8a54f7fabb5",
      "e90492f64f94415e9a43165fd161ff7b",
      "4d1b1d5e4b66476cb0b4b1ab7fcfcbe4",
      "036ad8b83197425e91f95de296a76f0d",
      "447764fc1a6e4b7685d054a625db1e20",
      "3efd196a9b5d44f7874cbf1a8f474db4",
      "8ca98b855c4849efbf4e35e5eff9b489",
      "a90099f866674787bf316f9efb4e1a11",
      "9a0861632c16408386e4f9e16f15d1af",
      "d96d6d9ed76f45c7aa21975d70979ad8",
      "aaad7426e81842f2a58334e7711ccdab",
      "903a64f9a69d4b629e20ec11abdf1f50",
      "bd0705dfc95348e993bd1abf69b13c51",
      "b575ced81f674398a7a921ac5b89b68b",
      "57e3aeba30624f67945bf1656c28adf6",
      "fc3dc03ecd794c5994da8d9bee0a06f8",
      "e8409b46b73246b4aa4c9e0bfeb00c59",
      "618ea87aebcf4ad08759faae15b8d73d",
      "f94faf4378d2485c80f4f59071ddbadf",
      "2cfd442e842346b4a7ea49c312ed17e4",
      "d723427c25624c56a572e8d1a0b95572",
      "08d03c4fd56e4bd081d0f64f7ba84c39",
      "2b385f9c8d6a407f9f74ca436958ba83",
      "658923309917419582c46eff83fb9f5b",
      "6a8e180cbbfd45d4a44bc027ee3e0e78",
      "04a4158798aa408c90f393e44a9c355f",
      "13f403069e7e41df8543b247695e29f1",
      "33d085dee1df431ba3be727e37e71c9f",
      "0cfd9977e14d404d8eb760d611c03c66",
      "005925becac34f8dbd49f2fbe1bf074c",
      "9aad6bd34c4c43a78c3c4aa479ce699d",
      "df39545ff0b3411ab7fdaac03022e30c",
      "df4f907c16804f729731aec7a2eacd42",
      "9261fd2530034329a3749cb81a0ed0fb",
      "d4b4ac4c08584ae99e2f6d958d037712",
      "a5bec1b3a9b54ab29060b56117ef7e4e",
      "1ab1d45deb8b45eda9111ff31731fcbb",
      "145596fd7a66475ca51946748d059079",
      "abeb13a910fc4a879675d3fcf2f3f1a9",
      "aad3db36d9854bb6a2f1010182cd28ee",
      "1bdf44fefd3245369100e0fffd3d03da",
      "846db1b1c0dd4d53b7e24b90e9858d71",
      "936f1fe51037419f92a780f34240abcb",
      "875099db10c4433d9ce745f532c2ae1e",
      "b2d99e1cebf941509e055a03d9098efc",
      "91b6fee5445e44158ba048925e37509f",
      "aa604df158ec45c4aefe23e29fddf934",
      "cf4705177b37463ab26f6a3981c0d7cb",
      "90cd5ca47be6426896f43ff7a26a1c0b",
      "da6a27f2b4a247fcb7b46173ba1bb6cb",
      "097d14657c9349e59f0691dc39f96fbb",
      "f043808c97f14091b9cffa7476e4768c",
      "1f7df52d19734c8398770edf72343a02",
      "26d02ac559f24c2fa039c94bbee4fb8d",
      "c5cf2c02224249f1bc9e5faaa171bed1",
      "b0e01e89b64b4bf5a07a70f6b3d0bc1e",
      "8a2f9d6a61894263a17b52ba861c548f",
      "acca51da2f0c4f9988fefa04ba1f68cf",
      "e28a12439c4345b8b1323b3a85a255ce",
      "288a3bf5cd834ec19bc46502423d9dc2",
      "45eba399756941f2a3719e483bf8c398",
      "9cc774a51218409dbac6bdd5d8972db9",
      "cffe60547ea94ede86affbabdd8f7a12",
      "4f4ee2a44cb84f5682e4b94c47c65691",
      "c7edc001d6ef473c8bc73ecaa5cbbc66",
      "5bffea0a0ef842f8b3a7362b1f20ed18",
      "43b91be3351546eab6d21c673125c277",
      "a1ea7e0eb3f34a75b6481c76ad364bd1",
      "906eba219701463e8f02ff41729d4832",
      "11b93bb3fd10450796996a80774b9abb",
      "c57453632fb64dc583858a7a28a48970",
      "e78cb500b46b434e87fa4b355eed3b58",
      "ef3fb82b55a74f65b6c350d999c5a506",
      "9e1c707ba7a94acc8104a084470e6885",
      "9450680e18a04409ba6c8c3adeb837d5",
      "833be26f063f4f1b9be872d41b34ede1",
      "3503956e9e4f4a029ad3f21a409ce03b",
      "92bb8d844f5847f0a15eec41b022ed7b",
      "4433f7c36c904ea88c27d646da8931d8",
      "487d09f1d80b4d77aa3c8e59d7fd4ed4",
      "af3291752bfd48f9bbdaa082babb0838",
      "545961d41fcb44e5b57c0f3051cbcb4f",
      "0a484683c88f456287e7b633a7c5dd69",
      "211d1a69b5404ef58ab3191799d2a07f",
      "5b4bede84f194e8a85fb1aeb9c9e65a4",
      "d59d1415b4c349b19185a732ea59d0d6",
      "268434b31c73497aa902739d07e49718",
      "79ee9c4fef344bd29f2ea384a94aa10a",
      "2f7242014eeb4bbfb6988da37b242341",
      "5f68ce3850df4fdcbaff24eaac496ecc",
      "c1a696fabb874d40a89b4a9c345d3870",
      "4f43639a758443468d2a2736b2eea07c",
      "77f37e332c354f70985c7d1e8934a287",
      "9853b3752f3b4f2dbd78ccb9c74b1f51",
      "3ccbe428863041a8902f0ffce8cf3516",
      "00f8d4a2ea604e32804bc89ab864c124",
      "cc241c7900a24e8cb8552e25ac029e3f",
      "ae814b9e3f17433ba49b5e6195041a33",
      "699e62ae3231464ebf49c936b28b8d1b",
      "3fc89f8668324cbca293d1f55cbd7056",
      "9add63730ffe48f3af394e9892b4d620",
      "66f6bca428344f1eb46e843f287c9903",
      "9bb5076205f743648868dfa3dce6645a",
      "a37e0d56d72f4cc09481ed1b61cb7839",
      "12776a92fa0145bdb7f2550133d59c75",
      "cd5af4976aa44ecc8e9d6c04a12381cc",
      "810b2e357baa4f4281b7673ee6689c39",
      "cda66e3ba2de4ab7882dadb2d0c3f5f5",
      "6ae76419393d48c59dbffb4e618d7e9e",
      "42816306eef9466f82a62092e5ff3e8c",
      "5c6846fbf61d45e68435c99fceed9fda",
      "a0184f4219aa4b0ea6c3851b7fb6b51f",
      "49a011f34cfa45048535f1573f0c3b6c",
      "abbd1061e2774111838cbe6aaa2e8a12",
      "d9815ce603c94660a4c1a7240085643f",
      "939142460d244ed39211db250d2b5a4e",
      "a2270a5ab6e8463c852784a9c3c75119",
      "c3665fc13980400b8abf8eaa3a917cc0",
      "aae7a84027e04b2c808ac2170a6540ba",
      "27d177791a674d7293f5141b08b92bd4",
      "e6ee7f97dedd44049fd43bfff5a942cd",
      "75972b2157744255aed7e48524c06ade",
      "9f3f84f7a7484d309bc906943e36ffd9",
      "34fccb6025f5490c9eb84d69d70e8f12",
      "18871b243a6b4acfb352578c1a6175ef",
      "1270324c4cf94f438d5818a59b189882",
      "c2df638e6d2644038ac3a155db58a7e9",
      "d725b290a0294bd4bd5b86fbb619be76",
      "405bdc750bd248218c2462b02e5505eb",
      "18de73bd44054ce49610fc2fcfb3780e",
      "16a41c2deb2a4c108f3884ba2f0c1b94",
      "b54167695ebc4ec28e04013e3fba8c28",
      "e647ae9cc9614b178a63e6ab8ff3bc8e",
      "3cbd9132b0174ba1b7b864b774b967cd",
      "a4aa4046bf7b4d65b018465321a5c5f9",
      "f6abfd7675104714b788b3e828135a76",
      "767aa3c7c1cd41cc8266fcf5750dbdc8",
      "600945b7c6984a94840c32982c212435",
      "00b714501c574688959395378c50194c",
      "85d2a84abf12437ba11144988be84a87",
      "5296f8b5ffba405789218564766d0155",
      "6a60d9e35e864a1781f6aac095ff205d",
      "9c4841d3f54c46ac8ebca5a654c59c88",
      "5ade7b98795342c68eeef80f4d5d9c93",
      "7006b90639f84acd9e721d1a9df5a054",
      "5520822ac2c942b8a218f088faea73ba",
      "53ae85dff0be47c39325cac2f2378f21",
      "280434b6e48e45548afc73adc733acaa",
      "63d4d9049ef243238465b43f11727d21",
      "97b62919690f42f392b54538858b3cf0",
      "4a7aedea7b644792a709ca22770217fc",
      "4081b5af95834a418c34fcffffdd4ffb",
      "8cee4507f6e44a5db46fccd9fd12a693",
      "48cf6a4e65b84eeb8cdc041fe4c9c8c7",
      "388565c178fa4fef9b7c78e066b3a870",
      "1f55372402504674b039c6fece6e6a97",
      "2d104dddf3054325bfe377034bbfc622",
      "07653d6c64314874992699295c795757",
      "187ec9946fce47c5b5c6956997367dfb",
      "41e38a3bc0bf481fbb4262e2f858f345"
     ]
    },
    "executionInfo": {
     "elapsed": 198200,
     "status": "ok",
     "timestamp": 1751488436129,
     "user": {
      "displayName": "Yulia Yorkshirelove",
      "userId": "10480095246692972307"
     },
     "user_tz": -180
    },
    "id": "t2IezDLt8a_8",
    "outputId": "eb4eb67c-8caf-49e1-aa3d-39f574a3414b"
   },
   "outputs": [
    {
     "data": {
      "application/vnd.jupyter.widget-view+json": {
       "model_id": "2808c541f69f4b4d88875431e2b4b4a1",
       "version_major": 2,
       "version_minor": 0
      },
      "text/plain": [
       "Encoding chunks:   0%|          | 0/25 [00:00<?, ?it/s]"
      ]
     },
     "metadata": {},
     "output_type": "display_data"
    },
    {
     "data": {
      "application/vnd.jupyter.widget-view+json": {
       "model_id": "d41a095debc24e1a9509e840ecb8befe",
       "version_major": 2,
       "version_minor": 0
      },
      "text/plain": [
       "  Tokens in chunk:   0%|          | 0/668 [00:00<?, ?it/s]"
      ]
     },
     "metadata": {},
     "output_type": "display_data"
    },
    {
     "data": {
      "application/vnd.jupyter.widget-view+json": {
       "model_id": "d6cca82f819e49a184e7d53790a1ae66",
       "version_major": 2,
       "version_minor": 0
      },
      "text/plain": [
       "  Tokens in chunk:   0%|          | 0/732 [00:00<?, ?it/s]"
      ]
     },
     "metadata": {},
     "output_type": "display_data"
    },
    {
     "data": {
      "application/vnd.jupyter.widget-view+json": {
       "model_id": "047ab0c8d8194a3d9be3d85232e813f7",
       "version_major": 2,
       "version_minor": 0
      },
      "text/plain": [
       "  Tokens in chunk:   0%|          | 0/572 [00:00<?, ?it/s]"
      ]
     },
     "metadata": {},
     "output_type": "display_data"
    },
    {
     "data": {
      "application/vnd.jupyter.widget-view+json": {
       "model_id": "aa91edecf7b044c4add4be27906f4490",
       "version_major": 2,
       "version_minor": 0
      },
      "text/plain": [
       "  Tokens in chunk:   0%|          | 0/589 [00:00<?, ?it/s]"
      ]
     },
     "metadata": {},
     "output_type": "display_data"
    },
    {
     "data": {
      "application/vnd.jupyter.widget-view+json": {
       "model_id": "36d84338847044198b85803dae4c8f60",
       "version_major": 2,
       "version_minor": 0
      },
      "text/plain": [
       "  Tokens in chunk:   0%|          | 0/577 [00:00<?, ?it/s]"
      ]
     },
     "metadata": {},
     "output_type": "display_data"
    },
    {
     "data": {
      "application/vnd.jupyter.widget-view+json": {
       "model_id": "1d189378bc3f4c2eabce47d0eccc894a",
       "version_major": 2,
       "version_minor": 0
      },
      "text/plain": [
       "  Tokens in chunk:   0%|          | 0/546 [00:00<?, ?it/s]"
      ]
     },
     "metadata": {},
     "output_type": "display_data"
    },
    {
     "data": {
      "application/vnd.jupyter.widget-view+json": {
       "model_id": "30029e08375b423595c0cb00c1b9356d",
       "version_major": 2,
       "version_minor": 0
      },
      "text/plain": [
       "  Tokens in chunk:   0%|          | 0/453 [00:00<?, ?it/s]"
      ]
     },
     "metadata": {},
     "output_type": "display_data"
    },
    {
     "data": {
      "application/vnd.jupyter.widget-view+json": {
       "model_id": "87f18feff4ff43c99bf474afa2ae4e41",
       "version_major": 2,
       "version_minor": 0
      },
      "text/plain": [
       "  Tokens in chunk:   0%|          | 0/505 [00:00<?, ?it/s]"
      ]
     },
     "metadata": {},
     "output_type": "display_data"
    },
    {
     "data": {
      "application/vnd.jupyter.widget-view+json": {
       "model_id": "697608353e994c25b578958a12338b63",
       "version_major": 2,
       "version_minor": 0
      },
      "text/plain": [
       "  Tokens in chunk:   0%|          | 0/453 [00:00<?, ?it/s]"
      ]
     },
     "metadata": {},
     "output_type": "display_data"
    },
    {
     "data": {
      "application/vnd.jupyter.widget-view+json": {
       "model_id": "a914f6b96315428d87bdaf865db696f9",
       "version_major": 2,
       "version_minor": 0
      },
      "text/plain": [
       "  Tokens in chunk:   0%|          | 0/568 [00:00<?, ?it/s]"
      ]
     },
     "metadata": {},
     "output_type": "display_data"
    },
    {
     "data": {
      "application/vnd.jupyter.widget-view+json": {
       "model_id": "a398515c577a432183b9e6aa2f0e0588",
       "version_major": 2,
       "version_minor": 0
      },
      "text/plain": [
       "  Tokens in chunk:   0%|          | 0/500 [00:00<?, ?it/s]"
      ]
     },
     "metadata": {},
     "output_type": "display_data"
    },
    {
     "data": {
      "application/vnd.jupyter.widget-view+json": {
       "model_id": "8ca98b855c4849efbf4e35e5eff9b489",
       "version_major": 2,
       "version_minor": 0
      },
      "text/plain": [
       "  Tokens in chunk:   0%|          | 0/511 [00:00<?, ?it/s]"
      ]
     },
     "metadata": {},
     "output_type": "display_data"
    },
    {
     "data": {
      "application/vnd.jupyter.widget-view+json": {
       "model_id": "618ea87aebcf4ad08759faae15b8d73d",
       "version_major": 2,
       "version_minor": 0
      },
      "text/plain": [
       "  Tokens in chunk:   0%|          | 0/487 [00:00<?, ?it/s]"
      ]
     },
     "metadata": {},
     "output_type": "display_data"
    },
    {
     "data": {
      "application/vnd.jupyter.widget-view+json": {
       "model_id": "0cfd9977e14d404d8eb760d611c03c66",
       "version_major": 2,
       "version_minor": 0
      },
      "text/plain": [
       "  Tokens in chunk:   0%|          | 0/456 [00:00<?, ?it/s]"
      ]
     },
     "metadata": {},
     "output_type": "display_data"
    },
    {
     "data": {
      "application/vnd.jupyter.widget-view+json": {
       "model_id": "aad3db36d9854bb6a2f1010182cd28ee",
       "version_major": 2,
       "version_minor": 0
      },
      "text/plain": [
       "  Tokens in chunk:   0%|          | 0/465 [00:00<?, ?it/s]"
      ]
     },
     "metadata": {},
     "output_type": "display_data"
    },
    {
     "data": {
      "application/vnd.jupyter.widget-view+json": {
       "model_id": "097d14657c9349e59f0691dc39f96fbb",
       "version_major": 2,
       "version_minor": 0
      },
      "text/plain": [
       "  Tokens in chunk:   0%|          | 0/514 [00:00<?, ?it/s]"
      ]
     },
     "metadata": {},
     "output_type": "display_data"
    },
    {
     "data": {
      "application/vnd.jupyter.widget-view+json": {
       "model_id": "9cc774a51218409dbac6bdd5d8972db9",
       "version_major": 2,
       "version_minor": 0
      },
      "text/plain": [
       "  Tokens in chunk:   0%|          | 0/426 [00:00<?, ?it/s]"
      ]
     },
     "metadata": {},
     "output_type": "display_data"
    },
    {
     "data": {
      "application/vnd.jupyter.widget-view+json": {
       "model_id": "ef3fb82b55a74f65b6c350d999c5a506",
       "version_major": 2,
       "version_minor": 0
      },
      "text/plain": [
       "  Tokens in chunk:   0%|          | 0/537 [00:00<?, ?it/s]"
      ]
     },
     "metadata": {},
     "output_type": "display_data"
    },
    {
     "data": {
      "application/vnd.jupyter.widget-view+json": {
       "model_id": "211d1a69b5404ef58ab3191799d2a07f",
       "version_major": 2,
       "version_minor": 0
      },
      "text/plain": [
       "  Tokens in chunk:   0%|          | 0/494 [00:00<?, ?it/s]"
      ]
     },
     "metadata": {},
     "output_type": "display_data"
    },
    {
     "data": {
      "application/vnd.jupyter.widget-view+json": {
       "model_id": "3ccbe428863041a8902f0ffce8cf3516",
       "version_major": 2,
       "version_minor": 0
      },
      "text/plain": [
       "  Tokens in chunk:   0%|          | 0/600 [00:00<?, ?it/s]"
      ]
     },
     "metadata": {},
     "output_type": "display_data"
    },
    {
     "data": {
      "application/vnd.jupyter.widget-view+json": {
       "model_id": "cd5af4976aa44ecc8e9d6c04a12381cc",
       "version_major": 2,
       "version_minor": 0
      },
      "text/plain": [
       "  Tokens in chunk:   0%|          | 0/473 [00:00<?, ?it/s]"
      ]
     },
     "metadata": {},
     "output_type": "display_data"
    },
    {
     "data": {
      "application/vnd.jupyter.widget-view+json": {
       "model_id": "a2270a5ab6e8463c852784a9c3c75119",
       "version_major": 2,
       "version_minor": 0
      },
      "text/plain": [
       "  Tokens in chunk:   0%|          | 0/494 [00:00<?, ?it/s]"
      ]
     },
     "metadata": {},
     "output_type": "display_data"
    },
    {
     "data": {
      "application/vnd.jupyter.widget-view+json": {
       "model_id": "d725b290a0294bd4bd5b86fbb619be76",
       "version_major": 2,
       "version_minor": 0
      },
      "text/plain": [
       "  Tokens in chunk:   0%|          | 0/495 [00:00<?, ?it/s]"
      ]
     },
     "metadata": {},
     "output_type": "display_data"
    },
    {
     "data": {
      "application/vnd.jupyter.widget-view+json": {
       "model_id": "00b714501c574688959395378c50194c",
       "version_major": 2,
       "version_minor": 0
      },
      "text/plain": [
       "  Tokens in chunk:   0%|          | 0/442 [00:00<?, ?it/s]"
      ]
     },
     "metadata": {},
     "output_type": "display_data"
    },
    {
     "data": {
      "application/vnd.jupyter.widget-view+json": {
       "model_id": "97b62919690f42f392b54538858b3cf0",
       "version_major": 2,
       "version_minor": 0
      },
      "text/plain": [
       "  Tokens in chunk:   0%|          | 0/452 [00:00<?, ?it/s]"
      ]
     },
     "metadata": {},
     "output_type": "display_data"
    },
    {
     "name": "stdout",
     "output_type": "stream",
     "text": [
      "Encoding done in 198.17s\n"
     ]
    }
   ],
   "source": [
    "chunk_data = encode_with_soft_prompt(\n",
    "    dataset, model, soft_prompt_rec)"
   ]
  },
  {
   "cell_type": "code",
   "execution_count": null,
   "metadata": {
    "colab": {
     "base_uri": "https://localhost:8080/",
     "height": 66,
     "referenced_widgets": [
      "f83785d139e24fbe8b5b9def7c5ac58d",
      "0858a8467b8744bb8b20fa969ad4db63",
      "48267dfbf3644c3c891bead731a4f01b",
      "abaaaab232874745ba096a865bad31f4",
      "48f6827bf9524cd0a984eeb61165aded",
      "d81dcf10ae204736a4cbb9aaca7ff051",
      "3c69fbebcc9a42a283771c2b802d33dd",
      "1c7ee0d0c077448c951e74f33a4d92be",
      "f25d8794d5034472ab5ceaebc0f6a479",
      "2696935f7d5e4303a5fbc324e704f706",
      "35e97f23a36e4252ae9ac9e6c083ddab",
      "30c46d405a524dfe883478cf4234f6ef",
      "2b308b74f6cf491f97ddc278f1aa5982",
      "9cdc1f18b0344865aab9866d2ea38547",
      "968791b1917640f5bb9bde01e633eab1",
      "f493d4abd6b943ecba3ca5116a17a3f3",
      "6e9bf9ac83ae4bfa9f575f3460faaddf",
      "94d0186de1d740229551a485c5d1b4c2",
      "90b82c57cdc0450fa2b528d2184e7a6c",
      "1d9fe97dbfa142aa81f0c4b554893ed0",
      "8442e2d39eda4d998c86c01b3b5ca19a",
      "ee25e980bdad4d45b99ae15635960ac6",
      "6464968d62ab4f1bae425590d44e740a",
      "dfb99f1f8b304f55a23317389724f87c",
      "9c072d2346e047f9bb7b986c07d9ecce",
      "42d3557c732d4383bc39d376d51bf02b",
      "45d9abf96a654bf7b9b7a9cb50bda9f0",
      "d5972e7dbb2641dfbc568f0d6e41f876",
      "91a3431e6d53442598993cfa45b22b83",
      "65c6eb7fe9cc40ac966819a7d8d945df",
      "bc0be5ef2bf7407a9f29150d1b7427ed",
      "8a0e1e1bf2f4492b9eb7d9199bc92b30",
      "4221d1f76ac84d6ea4cbee6feca442f1",
      "e42f744e28794b67bea6daedce4be9ab",
      "a3bfeb1004624be38575ec0960bf21fa",
      "4f4f525c80e6482197ab7f436bf2697a",
      "bef5da2e9db041cabc038f225088313d",
      "8244350cfecf4748ac933e9897abfe8d",
      "79b7316ed5b84caaa39368bd38efca43",
      "6c9f728177f348b6848f4cd7e47131df",
      "9a503709a1324d2c850b6766f0b7e7f6",
      "d2261a7780ba447aaa10098aa1ca573f",
      "0e37588624c04685a3773ed932d6138b",
      "9243158cef1345e2935fe42d2ce2616b",
      "3c2e10a79ec84b9093c843dd8b14f6e3",
      "6e0f188f094b4d46ae6de5b761c9b4f9",
      "b0b6e15621b34d55a18c98b96954bf0d",
      "be09f1ef01194783a05be5c39c9de066",
      "567c7e5c67424e84aa60978e40d0958b",
      "5b7ef7c3458d4138a5b340a3111099c9",
      "25b97acd1c3e405da8d9c76e90bce7e4",
      "4df0305e075d43bfbb7a2de4533310a1",
      "93dbc2c056474cfd98da0a059d1b9736",
      "93ba7bb7e4d441b5b608aba4411b8af2",
      "672b399ac0dc425c8b7dc7ac8871a948",
      "7962378bb0c44410bcebb6d4f479444e",
      "21358e814c5d4fd4ae14a8eabf06e451",
      "b5f955ca59ed4f4d88a991a05ff99389",
      "e1c8ffe56671486d94f78f5aa8ee5932",
      "410b2ecf71c444e992d4c903b1f87960",
      "b1fce393f82340a29a25b7f93a5fb257",
      "1205f9e8f87240c4b292bae95d809f78",
      "87d1c88b289b43bb8d2a019d110c6410",
      "0d63ec61248f4f6b96d0e1b63ac7e2e1",
      "723c0f1665414be8afa24eedc2fe0ac0",
      "d94a5be310dc44ecb16ff54b182b94a2",
      "1e7d44038b794cd098877b857a3edce6",
      "b9c316a3b943447397766fa0e67cf163",
      "28992761241f4d5fa7f8ad902dd8d721",
      "cb90f4f30ba5422f8cefaf404597e900",
      "b55c30359115470cb902a4f8457ad6ed",
      "b830a5a6a7134cff8e275ec1602f61ac",
      "c8c820c60336423fb22b474d42d9db33",
      "e81ede98cece4f4987f36140b625afa4",
      "eb49e39885834c2bb4bb7eea4e4504bc",
      "eb9dcac4007f41d7bc66b7037dfa31cf",
      "7107b72136704334b669ac8cda040a76",
      "eba0a73370bc45efad609e0a27a7a137",
      "769879c33d87422883edd183baf22b27",
      "cd0a918caa0348f080d9f273973cca8b",
      "23290302ec594eadab784310bfd33a99",
      "bb6cad37f03b43d888abab89cce8b4b1",
      "b9fb5ff3665f482aaebd681117bac43c",
      "33d25153662d4a94a11c7605de5c12ec",
      "e30bf76641a647e9b808c044ba3c7f6f",
      "106c84f9eebb4662a197b6d7936af7c4",
      "dde047b0ad8d49539103b086acd57c35",
      "f445459524714b15b5c002e22383f36e",
      "a8f7422459e847f597ff7f34140efcfd",
      "7e8a32c28b8143d39d504813c9670ebd",
      "72bad712bd35448e8233571e37d1ad88",
      "9275ee1d64bc4c91a2d8335f6746cebc",
      "cbc72fec6fe74cb7a943ded768d39b19",
      "2f397ef3192e42b7a690e48c83f3868b",
      "3039c23f7bf54d18a5268cbaa4efe26b",
      "af2a1f89bc354f5e9bad97e3af643c03",
      "9256563335cd4bd89ba1cc2103e43be0",
      "2a62a3b708fd40e89709cf39e51913c9",
      "be7c1ba87e044745a303c62301f256a0",
      "38737c6b0e8742e799d67b5da33617dd",
      "3cb3ff0b13a742c08edcd083780f4d25",
      "3732c02de3394c1b8740f986cab2378f",
      "6ab3227fde1b4af28be1f4455c325478",
      "15e5cb0a7daf4db09764a856945e9f00",
      "f196f4cf51144cffabd857abd52bda9d",
      "4f78c4a42593482aa5f45374d4d71d0a",
      "b3263ea850644dcfbb5e5e087ea6718f",
      "f538cfc3f57843a6983c5f2a70b8d7a8",
      "8439be0249ea4414a5a13ac300a92ec7",
      "4af462bc0c7b4dc68606dcd65c978f56",
      "1ea0b525a87349a68e6c2aed2f93abd9",
      "9e0085d81c554e44afdbe6229144a145",
      "bf1a80bc975c464fab9ee614eeb6c38f",
      "381645a1b7934696b21caaac1ca6ca9e",
      "4a8f413bb2e04d8a9ca14fe6ff88a7b0",
      "4b2923d47455490f866609271dd35d09",
      "e480d69354394eb780605a1ea948ddc0",
      "33fd06177cd948b28d0a25ef9e27ee39",
      "a683816d372d40a388c72b8b1fd33dee",
      "5a4757a0ae75464991e1f6e406358ee7",
      "da1835028e1e4f5090b80b350aa1a09f",
      "7c23d2730c0140999f2b3c36e67bb041",
      "b9dbea3ebad746b4a6fd778b73675089",
      "443a35e6861041a29c9dab3600ace629",
      "6d3f5af1092d4a1c9b471048d082bc27",
      "26da28598f834ba7b565c235b3707336",
      "c4f6b408e86743b69257abb92e02e89c",
      "a798130ec5aa4c4d8996909528ad9cc1",
      "2dfe81bd7195486f9b8e2bcf81c5d8ab",
      "ba133a3fb82d4d8499c299a2fa78b9c9",
      "6e09ad79897c49ca9f9cfbd20f791173",
      "3f866d2459d54bf59ba4ee343ac423fb",
      "ed22d456f1804fb1b0ae363f7eb124c8",
      "a2adf5e6ddff46a0a18237e7596186df",
      "8387b26f13984a5b9e284ec418287418",
      "05a63337880e462cb3566fa7053411aa",
      "8844d9483aeb47cd9cb55258ecaf49db",
      "0086fa93ea4c48549a15084aa24b5d80",
      "515b6b14e95a4a95a70efa60269c5141",
      "534dacf4dbeb4e47a50fbe7317603492",
      "4f298cbdf899417184b6d4708eb19d8a",
      "04e8aa0a5d6d48458419a5e292472502",
      "a3166598c8db4a7a93990790e1b7e386",
      "1f48c8d893a84053b164b911596b74e7",
      "42b7d375ec1d45fca3e81dc99b87c5c0",
      "5ac7b0aea10849d599e9f0ffc69e46c3",
      "a9b94c0a671d4645afff063d1f38bb7a",
      "fc240d04c1f348d5bc1d02f4cd26da72",
      "4772c52f526c4689bb99e54310c84c7e",
      "90f23a3615e64ccb98954d7c7fbf3422",
      "a3ed2061dd5b4f83abd050fd991655a2",
      "77235701dcf143cc98a378bd37fdd5b0",
      "71ab3e487dab44e0a9cf8129ac181073",
      "c550c122f2934c84aeec60bc8ddf2d79",
      "5b54e73d468e439d8b80853a96780f4d",
      "3ea12ec8c73d4900ac87c1ff43fa3334",
      "3842906e1d0243ddb3ba80f55c9a6f15",
      "5e5de8e8b1764f5296eaf35835156ce0",
      "8d49a75654504dd9ba110f8beb312ebb",
      "86f5ed89fa0e4b448381327d0399fa10",
      "bed1f746e3164dab95c3b1298271ec3d",
      "bcb85e66620045d0b4cc04767c12bb61",
      "d15d6e891087447fa2786c78dcb5db17",
      "42a8d29dd4c64ca4bb3b06a8f60d9886",
      "2c91267ad6c6491d8ddd1fccf5373026",
      "6f3b799168454253a0f2159b92f8074c",
      "9f3d58a302bb4e7c8d76f223e0e82134",
      "a7713ba3948b47cf9ce3351f46a9ed97",
      "145721e168f846628ae21e3b6ab35f50",
      "410580b08338447088339cdadaaa351d",
      "4d8942af26bd495f86007c2b50878fc2",
      "21873c8c81e641f3bf641931b8a30bf7",
      "ef988d34679d4c4b95a4cb704ed7a78a",
      "60232b03c0a04b05956cbcab626800e7",
      "e4f4aec66b764a3c9453258264c6467b",
      "d4affa361214477099bcbf19a81b68a5",
      "0d50bf7efe5345f8947c1b8556f126fe",
      "ae5770a80eb04f17b27fc0c2eeef2f44",
      "1d6df3f11345404a84fb55fdcbab06cb",
      "cd2303c7a83a4aed98c2bab32543e6f9",
      "1572ce5ad5de48279f65ae264cf64b31",
      "d9a37acd5ac249b280288af536f2d041",
      "450e4e58fc2a4c45acd434059f7510bf",
      "9a60aa2fd05a4028880e1713d912d6ce",
      "0048f00882de446dbf9f5f4b14b413f0",
      "e89b16dc3f2240abb90b3f07820dd499",
      "17cd35317501434b89c6e5f1b230da99",
      "f43dca7f5c984d3f99a878d0bf66d0cd",
      "0ebfb04891c34b9f8b6569f9288026fc",
      "4c419a4b882341b6bf54bd80e38868f4",
      "6e6e831d8b3e42fda41c9cc23f02af7a",
      "930f495825544385b4bf435ca02f1267",
      "dd8fd4b380544d1784f85fde1d9cdce2",
      "3c0c9cd74f6044109122527a5492958a",
      "91d9651ed1074d2ea2d62e172d3b7d00",
      "588e7211a874432293b899f68b0a81f5",
      "734eacbec4bb4b4394b55b7088e305e9",
      "fa8554bf59ab42c2858b42be274d42bd",
      "0878d08ba034496db527983072a1aab1",
      "75cb290052e747d5ac53b033c45a99a9",
      "540ec510b0d34bee94828744f0870b37",
      "4026548f21624438a74c894b5777241b",
      "bfc735cfb17742d8bb0fbf93cf2f307d",
      "76cc8e56c7a3493a94eb61b34eb358c4",
      "8ae9d226ba2041cd9276773bab05affc",
      "ab8486196330440bb790e9c37344608e",
      "0dd52b5c82f74d32a98368ad612fdff8",
      "344013205fd24daead4c5e4939bb07ad",
      "dcde20656d4b42a387931754af6e4af9",
      "9fa41ac66ece4f4f9e76d50f0483f076",
      "086726baf9d842c3bf11ab5626305a16",
      "86656ca98b62464ab8dc4d4e089a012c",
      "65d38bff567e4e449048eded707579b0",
      "6e95779c99b949dea5d523f997abc11a",
      "b6941ee925064eed96c59b274fd4c7c7",
      "59d4f4805af94159935eaee0167a2b94",
      "07c0fa9decf4418fae4d6b6432aada95",
      "1d8f87aec61f47fcb0d152445e11016d",
      "424ba414c4f5472da631f781ae9a0d52",
      "277e5217fb90438e8f5b1212138304d3",
      "c616513b0da44da79775d193139b2654",
      "ffe42cf2d89b4c088773dca6f4db538d",
      "bcdd78e717a54d0cabbaa7d4f853f902",
      "0d83ef7e20274b34a1589f5c70112bce",
      "4b55f9473c834e23b546c87f218a26d3",
      "7010c42edc024ab6a6f3b3a56e0b7eb3",
      "ec87f6750af142e5a0474d3115d11420",
      "f93b8a3cbd55494d827b5b7e5faf7376",
      "aa1eb4a38a004dbe9b2da8f66e7b7fea",
      "5f7862d016434a8cbd7fe811e371da46",
      "bdfffe2b68f04db5adc6f3323ac7e429",
      "9dd41a9fee0042cc802d4e9a4e4d8e91",
      "e99aca410d924cf7b3374bb79e34ea1b",
      "57e909ba81bd4457a12961b0a4d77be3",
      "6d4c48fb4d144edabc644f339a67a3b3",
      "3a0031c930174b0a8aed5c4808ca1db8",
      "f20e11a62b8c43c583e5c3360040c03e",
      "65d812d0bf1048ac958fa3a095ca7da1",
      "c33cdbb24a5143a1a904074f03f9251a",
      "f8b6c9f588ef42abba932ce017ea949c",
      "6e611ac78c084dd6a5c8d1e120ecfae8",
      "8423f5d1196a489abe2abc95d0f62528",
      "63963b3a80994a80b914e4785e64c25d",
      "9ab93dad199c4a64aab117de4083aec5",
      "685a6517428d40ba837773796ee385b2",
      "a0d461df09b94a85aa41462ab5342a57",
      "a81186537d52432ca98b9497fd98fc6c",
      "9d752a31d1534f2dbf2499bfe090de3e",
      "0c6151476f884a7dac5609c45c45a05a",
      "7ec15680c69a489482ebae0304f77796",
      "45fd49b0747b411482db42a45f5480ac",
      "d63bb9b239b3402584b31a2edc9b4acf",
      "35bd4b832bba454fb06a5cabe2592ef0",
      "f58b48f81e5b4e72b0f3467a7b18a72f",
      "79087b06a2074cda94206c4a7b7906d9",
      "cc77644cdcdf413d8666a05dc96b8b60",
      "92e1836748fd49929dc7f81c841eed18",
      "42012f7d00c64e64af8c1a9cab50cf4a",
      "4e2921004d5041deb9449a3e5506913b",
      "6ddda53e929e4442bdcb93834c512d9a",
      "b448e77f06e44dd6a65df1f0d3972212",
      "5396c79dc6964faaba44284057a82d2d",
      "d7b9fc664cf947af88d41aa3b3824cfc",
      "b6bd0daed6614c0e95b0402549257cb1",
      "523bd62fbd0049b29e85a30ec7acfbeb",
      "1408fa6aeef34b61a0c41108f343c6dd",
      "e1507d61d71648a497d2c052b90b19e1",
      "e206bc9bae474e0fbec6b2a519214ba9",
      "e48206a56d95492684441b0e712e17b4",
      "2e932dccd20148d3882607f3c6129479",
      "451887a4a14e46a5a90b344cb420460f",
      "62b2d9e76f0d4a328ff7472787f60ce0",
      "8a1e4e5ebe1a447c914f96114683d70c",
      "1ebfad2ea6df482d8ee72e5a67cad896",
      "83617e4f8f0d423888eac56619ffb73b",
      "5e90c29b2dd240208b8c80b13e609718",
      "6f77e77cec524926aa67637a08fc0910",
      "0a75dedcb08049ecbc80a29b0f09e47c",
      "7a1d087a04de4849bda5aeb2b713a2a6",
      "5c8d26cda56f4f0cb7587b662dfe80aa",
      "23978d704d194dceac54c08afd65e818",
      "31851d4b6f08487e9961e54fc7d6d28f",
      "f7b1d1f815cb4c18a9fa1f04256c3610",
      "1d1fe9fbb46248b2a144463755c246ae",
      "8019521d266a41efbef93c0a70f6850a",
      "2f87e4ac593242f5a26ab9293a73af01"
     ]
    },
    "executionInfo": {
     "elapsed": 204239,
     "status": "ok",
     "timestamp": 1751488640372,
     "user": {
      "displayName": "Yulia Yorkshirelove",
      "userId": "10480095246692972307"
     },
     "user_tz": -180
    },
    "id": "PiCF6j_u8egL",
    "outputId": "15351ae6-e208-4a93-e0b2-7b4daff285c5"
   },
   "outputs": [
    {
     "data": {
      "application/vnd.jupyter.widget-view+json": {
       "model_id": "f83785d139e24fbe8b5b9def7c5ac58d",
       "version_major": 2,
       "version_minor": 0
      },
      "text/plain": [
       "Decoding chunks:   0%|          | 0/25 [00:00<?, ?it/s]"
      ]
     },
     "metadata": {},
     "output_type": "display_data"
    },
    {
     "data": {
      "application/vnd.jupyter.widget-view+json": {
       "model_id": "30c46d405a524dfe883478cf4234f6ef",
       "version_major": 2,
       "version_minor": 0
      },
      "text/plain": [
       "  Tokens in chunk:   0%|          | 0/668 [00:00<?, ?it/s]"
      ]
     },
     "metadata": {},
     "output_type": "display_data"
    },
    {
     "data": {
      "application/vnd.jupyter.widget-view+json": {
       "model_id": "6464968d62ab4f1bae425590d44e740a",
       "version_major": 2,
       "version_minor": 0
      },
      "text/plain": [
       "  Tokens in chunk:   0%|          | 0/732 [00:00<?, ?it/s]"
      ]
     },
     "metadata": {},
     "output_type": "display_data"
    },
    {
     "data": {
      "application/vnd.jupyter.widget-view+json": {
       "model_id": "e42f744e28794b67bea6daedce4be9ab",
       "version_major": 2,
       "version_minor": 0
      },
      "text/plain": [
       "  Tokens in chunk:   0%|          | 0/572 [00:00<?, ?it/s]"
      ]
     },
     "metadata": {},
     "output_type": "display_data"
    },
    {
     "data": {
      "application/vnd.jupyter.widget-view+json": {
       "model_id": "3c2e10a79ec84b9093c843dd8b14f6e3",
       "version_major": 2,
       "version_minor": 0
      },
      "text/plain": [
       "  Tokens in chunk:   0%|          | 0/589 [00:00<?, ?it/s]"
      ]
     },
     "metadata": {},
     "output_type": "display_data"
    },
    {
     "data": {
      "application/vnd.jupyter.widget-view+json": {
       "model_id": "7962378bb0c44410bcebb6d4f479444e",
       "version_major": 2,
       "version_minor": 0
      },
      "text/plain": [
       "  Tokens in chunk:   0%|          | 0/577 [00:00<?, ?it/s]"
      ]
     },
     "metadata": {},
     "output_type": "display_data"
    },
    {
     "data": {
      "application/vnd.jupyter.widget-view+json": {
       "model_id": "1e7d44038b794cd098877b857a3edce6",
       "version_major": 2,
       "version_minor": 0
      },
      "text/plain": [
       "  Tokens in chunk:   0%|          | 0/546 [00:00<?, ?it/s]"
      ]
     },
     "metadata": {},
     "output_type": "display_data"
    },
    {
     "data": {
      "application/vnd.jupyter.widget-view+json": {
       "model_id": "eba0a73370bc45efad609e0a27a7a137",
       "version_major": 2,
       "version_minor": 0
      },
      "text/plain": [
       "  Tokens in chunk:   0%|          | 0/453 [00:00<?, ?it/s]"
      ]
     },
     "metadata": {},
     "output_type": "display_data"
    },
    {
     "data": {
      "application/vnd.jupyter.widget-view+json": {
       "model_id": "a8f7422459e847f597ff7f34140efcfd",
       "version_major": 2,
       "version_minor": 0
      },
      "text/plain": [
       "  Tokens in chunk:   0%|          | 0/505 [00:00<?, ?it/s]"
      ]
     },
     "metadata": {},
     "output_type": "display_data"
    },
    {
     "data": {
      "application/vnd.jupyter.widget-view+json": {
       "model_id": "38737c6b0e8742e799d67b5da33617dd",
       "version_major": 2,
       "version_minor": 0
      },
      "text/plain": [
       "  Tokens in chunk:   0%|          | 0/453 [00:00<?, ?it/s]"
      ]
     },
     "metadata": {},
     "output_type": "display_data"
    },
    {
     "data": {
      "application/vnd.jupyter.widget-view+json": {
       "model_id": "1ea0b525a87349a68e6c2aed2f93abd9",
       "version_major": 2,
       "version_minor": 0
      },
      "text/plain": [
       "  Tokens in chunk:   0%|          | 0/568 [00:00<?, ?it/s]"
      ]
     },
     "metadata": {},
     "output_type": "display_data"
    },
    {
     "data": {
      "application/vnd.jupyter.widget-view+json": {
       "model_id": "7c23d2730c0140999f2b3c36e67bb041",
       "version_major": 2,
       "version_minor": 0
      },
      "text/plain": [
       "  Tokens in chunk:   0%|          | 0/500 [00:00<?, ?it/s]"
      ]
     },
     "metadata": {},
     "output_type": "display_data"
    },
    {
     "data": {
      "application/vnd.jupyter.widget-view+json": {
       "model_id": "ed22d456f1804fb1b0ae363f7eb124c8",
       "version_major": 2,
       "version_minor": 0
      },
      "text/plain": [
       "  Tokens in chunk:   0%|          | 0/511 [00:00<?, ?it/s]"
      ]
     },
     "metadata": {},
     "output_type": "display_data"
    },
    {
     "data": {
      "application/vnd.jupyter.widget-view+json": {
       "model_id": "1f48c8d893a84053b164b911596b74e7",
       "version_major": 2,
       "version_minor": 0
      },
      "text/plain": [
       "  Tokens in chunk:   0%|          | 0/487 [00:00<?, ?it/s]"
      ]
     },
     "metadata": {},
     "output_type": "display_data"
    },
    {
     "data": {
      "application/vnd.jupyter.widget-view+json": {
       "model_id": "5b54e73d468e439d8b80853a96780f4d",
       "version_major": 2,
       "version_minor": 0
      },
      "text/plain": [
       "  Tokens in chunk:   0%|          | 0/456 [00:00<?, ?it/s]"
      ]
     },
     "metadata": {},
     "output_type": "display_data"
    },
    {
     "data": {
      "application/vnd.jupyter.widget-view+json": {
       "model_id": "6f3b799168454253a0f2159b92f8074c",
       "version_major": 2,
       "version_minor": 0
      },
      "text/plain": [
       "  Tokens in chunk:   0%|          | 0/465 [00:00<?, ?it/s]"
      ]
     },
     "metadata": {},
     "output_type": "display_data"
    },
    {
     "data": {
      "application/vnd.jupyter.widget-view+json": {
       "model_id": "0d50bf7efe5345f8947c1b8556f126fe",
       "version_major": 2,
       "version_minor": 0
      },
      "text/plain": [
       "  Tokens in chunk:   0%|          | 0/514 [00:00<?, ?it/s]"
      ]
     },
     "metadata": {},
     "output_type": "display_data"
    },
    {
     "data": {
      "application/vnd.jupyter.widget-view+json": {
       "model_id": "f43dca7f5c984d3f99a878d0bf66d0cd",
       "version_major": 2,
       "version_minor": 0
      },
      "text/plain": [
       "  Tokens in chunk:   0%|          | 0/426 [00:00<?, ?it/s]"
      ]
     },
     "metadata": {},
     "output_type": "display_data"
    },
    {
     "data": {
      "application/vnd.jupyter.widget-view+json": {
       "model_id": "0878d08ba034496db527983072a1aab1",
       "version_major": 2,
       "version_minor": 0
      },
      "text/plain": [
       "  Tokens in chunk:   0%|          | 0/537 [00:00<?, ?it/s]"
      ]
     },
     "metadata": {},
     "output_type": "display_data"
    },
    {
     "data": {
      "application/vnd.jupyter.widget-view+json": {
       "model_id": "9fa41ac66ece4f4f9e76d50f0483f076",
       "version_major": 2,
       "version_minor": 0
      },
      "text/plain": [
       "  Tokens in chunk:   0%|          | 0/494 [00:00<?, ?it/s]"
      ]
     },
     "metadata": {},
     "output_type": "display_data"
    },
    {
     "data": {
      "application/vnd.jupyter.widget-view+json": {
       "model_id": "c616513b0da44da79775d193139b2654",
       "version_major": 2,
       "version_minor": 0
      },
      "text/plain": [
       "  Tokens in chunk:   0%|          | 0/600 [00:00<?, ?it/s]"
      ]
     },
     "metadata": {},
     "output_type": "display_data"
    },
    {
     "data": {
      "application/vnd.jupyter.widget-view+json": {
       "model_id": "9dd41a9fee0042cc802d4e9a4e4d8e91",
       "version_major": 2,
       "version_minor": 0
      },
      "text/plain": [
       "  Tokens in chunk:   0%|          | 0/473 [00:00<?, ?it/s]"
      ]
     },
     "metadata": {},
     "output_type": "display_data"
    },
    {
     "data": {
      "application/vnd.jupyter.widget-view+json": {
       "model_id": "63963b3a80994a80b914e4785e64c25d",
       "version_major": 2,
       "version_minor": 0
      },
      "text/plain": [
       "  Tokens in chunk:   0%|          | 0/494 [00:00<?, ?it/s]"
      ]
     },
     "metadata": {},
     "output_type": "display_data"
    },
    {
     "data": {
      "application/vnd.jupyter.widget-view+json": {
       "model_id": "f58b48f81e5b4e72b0f3467a7b18a72f",
       "version_major": 2,
       "version_minor": 0
      },
      "text/plain": [
       "  Tokens in chunk:   0%|          | 0/495 [00:00<?, ?it/s]"
      ]
     },
     "metadata": {},
     "output_type": "display_data"
    },
    {
     "data": {
      "application/vnd.jupyter.widget-view+json": {
       "model_id": "523bd62fbd0049b29e85a30ec7acfbeb",
       "version_major": 2,
       "version_minor": 0
      },
      "text/plain": [
       "  Tokens in chunk:   0%|          | 0/442 [00:00<?, ?it/s]"
      ]
     },
     "metadata": {},
     "output_type": "display_data"
    },
    {
     "data": {
      "application/vnd.jupyter.widget-view+json": {
       "model_id": "5e90c29b2dd240208b8c80b13e609718",
       "version_major": 2,
       "version_minor": 0
      },
      "text/plain": [
       "  Tokens in chunk:   0%|          | 0/452 [00:00<?, ?it/s]"
      ]
     },
     "metadata": {},
     "output_type": "display_data"
    },
    {
     "name": "stdout",
     "output_type": "stream",
     "text": [
      "Decoding done in 204.26s\n"
     ]
    }
   ],
   "source": [
    "all_rec = decode_with_soft_prompt(\n",
    "    chunk_data, model, soft_prompt_rec)"
   ]
  },
  {
   "cell_type": "code",
   "execution_count": null,
   "metadata": {
    "id": "VSxO9k209G9p"
   },
   "outputs": [],
   "source": [
    "orig_ids = sum((entry['ids'].tolist() for entry in chunk_data), [])\n",
    "encoded_output = sum([entry['bits'] for entry in chunk_data], [])"
   ]
  },
  {
   "cell_type": "code",
   "execution_count": null,
   "metadata": {
    "colab": {
     "base_uri": "https://localhost:8080/"
    },
    "executionInfo": {
     "elapsed": 6,
     "status": "ok",
     "timestamp": 1751488640390,
     "user": {
      "displayName": "Yulia Yorkshirelove",
      "userId": "10480095246692972307"
     },
     "user_tz": -180
    },
    "id": "Kyy1i4C18go-",
    "outputId": "be75064a-86a8-4295-d6f2-41961a3105c3"
   },
   "outputs": [
    {
     "name": "stdout",
     "output_type": "stream",
     "text": [
      "✅  Совпадают полностью!\n"
     ]
    }
   ],
   "source": [
    "compare_sequences(orig_ids, all_rec)"
   ]
  },
  {
   "cell_type": "code",
   "execution_count": null,
   "metadata": {
    "colab": {
     "base_uri": "https://localhost:8080/"
    },
    "executionInfo": {
     "elapsed": 17,
     "status": "ok",
     "timestamp": 1751488640409,
     "user": {
      "displayName": "Yulia Yorkshirelove",
      "userId": "10480095246692972307"
     },
     "user_tz": -180
    },
    "id": "E-RqavLA8hLS",
    "outputId": "f228b90d-fd0a-4400-e0cc-2d7207f42d22"
   },
   "outputs": [
    {
     "name": "stdout",
     "output_type": "stream",
     "text": [
      "Исходный размер:   400000 бит\n",
      "Размер после сжатия: 54687 бит\n",
      "Коэффициент сжатия: 0.1367\n"
     ]
    }
   ],
   "source": [
    "compression_stats(data, encoded_output)"
   ]
  },
  {
   "cell_type": "markdown",
   "metadata": {
    "id": "guib66IKKJ52"
   },
   "source": [
    "### Lloyd–Max (1D k‑means) гипер‑приор"
   ]
  },
  {
   "cell_type": "code",
   "execution_count": null,
   "metadata": {
    "id": "buWSD4R3BQJn"
   },
   "outputs": [],
   "source": [
    "def lloyd_max_hyper_prior(soft_prompt,\n",
    "                          bins: int = 256,\n",
    "                          total_prior: int = 1 << 30,\n",
    "                          sample_size: int = 100_000,\n",
    "                          random_state: int = 0):\n",
    "    vals = soft_prompt.detach().cpu().numpy().flatten()\n",
    "    N    = len(vals)\n",
    "\n",
    "    # Берём подвыборку для кластеризации\n",
    "    if N > sample_size:\n",
    "        idx_sample = np.random.choice(N, sample_size, replace=False)\n",
    "        sample = vals[idx_sample].reshape(-1, 1)\n",
    "    else:\n",
    "        sample = vals.reshape(-1, 1)\n",
    "\n",
    "    # KMeans → Lloyd‑Max центроиды\n",
    "    kmeans = KMeans(n_clusters=bins, random_state=random_state).fit(sample)\n",
    "    centroids = np.sort(kmeans.cluster_centers_.flatten())\n",
    "\n",
    "    # Квантуем все значения в ближайший центроид\n",
    "    diff = np.abs(vals[:, None] - centroids[None, :])\n",
    "    idx  = np.argmin(diff, axis=1)\n",
    "\n",
    "    # Собираем гистограмму попаданий → PMF\n",
    "    hist = np.bincount(idx, minlength=bins).astype(float)\n",
    "    prior_pmf = hist / hist.sum()\n",
    "\n",
    "    # CDF → целочисленный для арифметического кода\n",
    "    cdf = np.floor(np.cumsum(prior_pmf) * total_prior).astype(np.int64)\n",
    "    prior_cdf_int = np.concatenate(([0], np.maximum.accumulate(cdf)))\n",
    "    prior_cdf_int[-1] = total_prior\n",
    "\n",
    "    return prior_cdf_int, centroids, prior_pmf"
   ]
  },
  {
   "cell_type": "code",
   "execution_count": null,
   "metadata": {
    "id": "KHRD5oh6BTwy"
   },
   "outputs": [],
   "source": [
    "def quantize_c_lm(c_tensor, centroids):\n",
    "    arr = c_tensor.detach().cpu().numpy().flatten()\n",
    "    idx = np.argmin(np.abs(arr[:, None] - centroids[None, :]), axis=1)\n",
    "    return idx\n",
    "\n",
    "def dequantize_c_lm(idx, centroids, shape):\n",
    "    vals = centroids[idx]\n",
    "    return torch.tensor(vals.reshape(shape), dtype=torch.float32, device=device)"
   ]
  },
  {
   "cell_type": "code",
   "execution_count": null,
   "metadata": {
    "id": "Cgc2aWa6B2PB"
   },
   "outputs": [],
   "source": [
    "def encode_soft_prompt_lm(\n",
    "    soft_prompt: torch.Tensor,\n",
    "    prior_cdf_int: np.ndarray,\n",
    "    centroids: np.ndarray,\n",
    "    total_prior: int = 1 << 30\n",
    ") -> list[int]:\n",
    "    arr = soft_prompt.detach().cpu().numpy().flatten()\n",
    "    c_idx = np.argmin(np.abs(arr[:, None] - centroids[None, :]), axis=1)\n",
    "\n",
    "    enc = ArithmeticEncoder()\n",
    "    for s in c_idx:\n",
    "        lo, hi = prior_cdf_int[s], prior_cdf_int[s+1]\n",
    "        enc.update(lo, hi, total_prior)\n",
    "    enc.finish()\n",
    "\n",
    "    return enc.out"
   ]
  },
  {
   "cell_type": "code",
   "execution_count": null,
   "metadata": {
    "id": "1Rqaiex_B2WJ"
   },
   "outputs": [],
   "source": [
    "def decode_soft_prompt_lm(\n",
    "    c_bits: list[int],\n",
    "    prior_cdf_int: np.ndarray,\n",
    "    centroids: np.ndarray,\n",
    "    shape: tuple[int, ...],\n",
    "    total_prior: int = 1 << 30,\n",
    "    device: torch.device = torch.device('cpu')\n",
    ") -> torch.Tensor:\n",
    "    # 1) запустим арифметический декодер\n",
    "    dec = ArithmeticDecoder(c_bits)\n",
    "\n",
    "    # 2) сколько всего координат нужно восстановить\n",
    "    n_elem = int(np.prod(shape))\n",
    "\n",
    "    # 3) декодируем последовательность индексов\n",
    "    rec_idx = [dec.decode(prior_cdf_int, total_prior) for _ in range(n_elem)]\n",
    "    rec_idx = np.array(rec_idx, dtype=np.int64)\n",
    "\n",
    "    # 4) деквантование: заменяем каждый индекс на значение центроида\n",
    "    vals = centroids[rec_idx]           # shape (n_elem,)\n",
    "    vals = vals.reshape(shape)          # восстанавливаем форму\n",
    "    return torch.tensor(vals, device=device, dtype=torch.float32)"
   ]
  },
  {
   "cell_type": "code",
   "execution_count": null,
   "metadata": {
    "id": "adbZ5uK5Brjl"
   },
   "outputs": [],
   "source": [
    "prior_cdf_int, centroids, prior_pmf = lloyd_max_hyper_prior(soft_prompt)"
   ]
  },
  {
   "cell_type": "code",
   "execution_count": null,
   "metadata": {
    "id": "O7JbIt7-CEkk"
   },
   "outputs": [],
   "source": [
    "c_bits = encode_soft_prompt_lm(soft_prompt, prior_cdf_int, centroids)"
   ]
  },
  {
   "cell_type": "code",
   "execution_count": null,
   "metadata": {
    "id": "sgKvC--ACMTu"
   },
   "outputs": [],
   "source": [
    "soft_prompt_rec = decode_soft_prompt_lm(\n",
    "    c_bits,\n",
    "    prior_cdf_int,\n",
    "    centroids,\n",
    "    tuple(soft_prompt.shape)\n",
    ")"
   ]
  },
  {
   "cell_type": "code",
   "execution_count": null,
   "metadata": {
    "colab": {
     "base_uri": "https://localhost:8080/"
    },
    "executionInfo": {
     "elapsed": 13,
     "status": "ok",
     "timestamp": 1751489144204,
     "user": {
      "displayName": "Yulia Yorkshirelove",
      "userId": "10480095246692972307"
     },
     "user_tz": -180
    },
    "id": "NwmfBEEyCQDW",
    "outputId": "43fa5e42-e268-4325-d711-6a2dca5ef691"
   },
   "outputs": [
    {
     "name": "stdout",
     "output_type": "stream",
     "text": [
      "Число координат steering‑вектора: 102400\n",
      "Битов использовано для кодирования: 788823\n",
      "Битов на координату: 7.7033\n",
      "Теоретическая энтропия на координату: 7.7030 бит, всего ≈788789.24 бит\n",
      "MSE: 4.142708e-05\n",
      "Коэффициент компрессии steering‑вектора: 0.2407\n"
     ]
    }
   ],
   "source": [
    "evaluate_steering_coding(soft_prompt, soft_prompt_rec, prior_pmf, c_bits)"
   ]
  },
  {
   "cell_type": "code",
   "execution_count": null,
   "metadata": {
    "id": "X8Ypm-LCCvZI"
   },
   "outputs": [],
   "source": [
    "soft_prompt_rec = soft_prompt_rec.to(device)"
   ]
  },
  {
   "cell_type": "code",
   "execution_count": null,
   "metadata": {
    "colab": {
     "base_uri": "https://localhost:8080/",
     "height": 66,
     "referenced_widgets": [
      "99109c24756740229682c22ff5001a04",
      "11f363596718427898024ae677c6594e",
      "516ef6f0a4774fe585eeac6bd7a03c4d",
      "3a0f768dbccf4438aa7017a240992cc8",
      "005649400b2d4320b20f2d33c8ccf51f",
      "d7cc42f28c1a41c2b3744d5045d5e146",
      "6a54cf8e113648f2aa3d21f15eb4a0da",
      "6f38f61152be4be2a7058d5cc4b0f8b2",
      "a6b0cde1f34a41f7b7cd9841950c1806",
      "12957a2f82ea47aab6d5846d4a16b4a6",
      "5f9c260aa91742a5ada1191e89c07c95",
      "454bd661206e419cbebd1939fa005fe7",
      "781f6e27a1ef4217a0b83cfa86a99614",
      "e8cb4940a3c643eebe8ea96b78d85db3",
      "cbc3a99e3b7f466fb31d0d7cfa7d0b7c",
      "d784a3e1e1fe458fa492e6e1914a290b",
      "473b879b518d43b780827bc025265461",
      "6d36c601740347a0bdb02d367c581d05",
      "901d4f54a5a94333acba6d13aaf42035",
      "04e9528e4f814e5ab059e1b8ab8e389d",
      "5a242c0b1edf47b8b579b47d94a801cc",
      "812bd4bc2c67431fb800756e4a73a01b",
      "acfaf3175e44483e9037a57a1a9308ab",
      "337b23ee3afb44d3a7a17657ce218eca",
      "38e50d6e0e534179a49093f4990cdd7f",
      "e908bf80b51a407f9d68dabc013d0cc6",
      "535da50bd1af49fca7c85eeff387a9d8",
      "b1346a2b97944ac2ad4b91867c6dd48b",
      "f4da533bf45846e99aab74cb7a3d0352",
      "cb2dff31f0a344de819b3c6165b487c4",
      "5ae124cc76374d8ab17d737e7c3583e4",
      "7ad47f0afc624a979cc97296b6d13078",
      "f627fabbf8c14a4cb40ebcb3f9e7b360",
      "7eeec23f80fc44c687d1588ea432f167",
      "5155f4334f784a29a414b7ce6144167d",
      "06f8ffbba6114edcb9ac5130393d2411",
      "03293dd389984937802cfacb8c91ec10",
      "655ef3d85012411fac69304919e0d6ef",
      "d957e5f694fd459492ec21e74024e1d3",
      "9cd20bcf1dc4483e8ffab2d187ba8e69",
      "abe8bcafbb5f4b359cdd6d65bad9dd1d",
      "83efa9d71abf4667a979e3937dc52286",
      "0ea73008907d4af7a919c4adcdd2fc55",
      "ba7a9c02e02e443abf9df284d2a76f12",
      "1745812cae0642dcacbf2500686b5703",
      "74c065b93aea4478a6047b8053be6609",
      "990785818402403cb8ec34de20a8dfd0",
      "01748ccab4d843b89da15ce672fc122f",
      "72fd96de0956403380ca724b8fd444e4",
      "21133cd4c539455fb79a51b2b68d0c8a",
      "2d2979bc0a494462bf409368b04cf75c",
      "5eb3622c2cc14f7d9243dc96b47d48ba",
      "1aef08de2b81455a8bae417156443666",
      "d9234140e1304be1a6297d33c3234e18",
      "c037ea8905aa47d194c33196409781a5",
      "db0653fdc45c4884a564a781a127eabf",
      "58b3ec6f4b684de68d5c01989f89abb2",
      "993fd8de70c94a2096e3812beb3a0865",
      "91794239d7c04635b9bdf5fc2012b561",
      "8adbc8185d5b4a49a57d4a690d89ef9d",
      "1d626aa9bbc1428db199ff7d377e0f2e",
      "c1b666d03ece446da6b97e6552b8bb2f",
      "f1511413bda649cab32ddf4a3d1195e5",
      "65ef4c16c3ed4e038c91e9286634e7fe",
      "721e606c925c423d816742ba2a16a2a5",
      "8d0d4820fc5d450a9ed41243d60d316c",
      "bcfa23e11abb42e4bcf43d3bb1dc820f",
      "bdf025dcc08742a6b1d47d8a28eb8181",
      "ec1bc699437f4c9ab64e45a211d57894",
      "21b54c77c4094c19879ad05b9c40f10d",
      "46eef5579df74b6691f3dfcad184dd03",
      "6439036db0e74267baafed563b6d2816",
      "7938c4d364904b05b508740b4c130fe5",
      "ceb12e24d26d40bf8ec7527eb5e04606",
      "5b826b5a761e4af6b8842c5fc3d1be74",
      "59fc792eb445469b825cb5aaeebcf66a",
      "3cfb2101477f4543b9a2410e31c01d3d",
      "81556bc3691841fe99380baf73ed7c50",
      "892b33f09a4f4ef793bec51d35237915",
      "e4746ed6d7c34dd3a02dc6382a5bb9c7",
      "a54aee47991540b4992b67753dd6d4a0",
      "ccc89c307e514ecfaba37dec36eb6169",
      "11b9a7c08ab04d6f910da6c2ef001047",
      "443e8c4e143748da94cf7a60a0cf63a5",
      "18f1048295b4420a81bfc0475aff8626",
      "9c3dd6e239bd441c9cf454e23e42241a",
      "c12610aa97cb4a0db397c0fb052824a9",
      "a4429d70552849f0baa95033145375ff",
      "2e45ba1839fe4a189348f22aac66749e",
      "8d59d3d9aaa04c5c8c0e7a7e2a3b46f9",
      "f175e844e39e4699a94d6eff1895954f",
      "cbb6773c3b0044c09a478336b2c17cbd",
      "600b8add76994629a2582744d1c9ebd8",
      "c972a98abe9c43419f8c7a570990cd12",
      "52d6fa9eb2f040708b21d9f578a0d555",
      "0bb243daa85a422ba4c24dcce3c5e1f0",
      "a26dceb53d2d4960bdd411c2e533bd77",
      "f527dcfbe7f141afa8709a48844f54a4",
      "63e6384e63d3470c8d12a78d33b463f4",
      "223b64dc477e4bdf9ab3741f7914e4e2",
      "c8b9ac9fa0534a16809d2022a8218dea",
      "35e5895ad56d4d5182246d88eae8d665",
      "91e0b626b00b4b8e8017cb999912dc54",
      "8554c7ee7d9246d9a8075d3036f9625b",
      "d00d4da8b12f4a74abc65407b3032f28",
      "679cca17aa9f48adbd7bad02686e5a3e",
      "48344e19310a4ff684078c7fb39b9fd3",
      "25a10efb1e7c4b16870d3584de5c5a57",
      "648306b7f91940b4b8dbe65dc6ca2090",
      "4e33a63f278544458034ba15ca0b07ce",
      "9fcc2e41ccf1480499c2851fc122f5dd",
      "50298635792a495f8fdba3b1280219ec",
      "500015d2e88d40058072dc8c65c7d3eb",
      "c8a7472a4f09486eac340f6dd8eaf320",
      "ba6c554eb35e43cd82850ac70a5e3774",
      "e9639d652a454180b2a7d018f744c3eb",
      "e5c8b43afd3b429d931e7f81b1821a31",
      "87bbf021aaac45d1a5ec351f69c7d373",
      "a0d95edc722a4f4299adb54f66bbeb83",
      "5ee2e4f607354d76a630dac13222e5ea",
      "1ebd440b07134127835e9170960238ab",
      "b8314289e120424ab802aa1383f254f9",
      "7c021dbaa1894f039a9027d2d1aa066b",
      "33fa82f71e20450e8cecc504cf5ef8aa",
      "40e79983ea2640178c4317bc52ee796e",
      "f44fe89673104f05a71696e6334af01d",
      "4c45f39be0b14df0837c6cc1e18f0f34",
      "2a9c6df72d914b0f97e2380697da2f23",
      "583a835b9ba9402baf235e0f9cfd37af",
      "2a6a23ba69f4454d9988d95cb6ab3a0d",
      "69148f8ac9ff45308646b6187b20161b",
      "3aab21a21eb64a02afc6288275e65240",
      "1e2eaf9d75f74852ade26c501b88f135",
      "c26e68a0c9714a098ac5f38bade47658",
      "c90ff923f94e4465aa08c2e39847ce96",
      "67021708ce224ee4a4edd31c7ca56bbb",
      "3cb45248e3d04c309faa5387c5a69484",
      "236468ff703b4f16a69b08ea184b5f12",
      "d76c952884e148208b56ab3b9e093adf",
      "e02dc5346da040dc8db0531397ed6904",
      "2e8942afb4be4ef99c62596d12b7376d",
      "db1c8194d57c475b9e8db8e1e7d1ee60",
      "553ce12758a042229866c25a0c257cff",
      "20daa1b735e548f9b43e2042ff6514ce",
      "ba43caaf930b439c84da59491b280525",
      "9830fdd330a94863a0c768196c7dc250",
      "b4d03241c35f43038c9ec68bed24c25d",
      "df91906ea62247c096bae8f984e0b378",
      "2ec62ccab6b547b8a45093a0cd66f129",
      "ade1de6460d44d08948ea52c56bc5fd1",
      "3b67d78af7c24f7fb2cd42751524a48e",
      "a6fa3f914a4446198825531672afe2e9",
      "f8a8f446a0904334a3c4a542d5033363",
      "0ccd1293606442f79dbc8a0671682bf2",
      "e22572ef19dd45bdbf75a8e9515e1b5c",
      "9e37feaede464ed694efeda03d5956c5",
      "07b8ef76ce474bf98c6bc372325452e1",
      "dc2a76d92e304be29c64ccb0110ca3ed",
      "e6b7cf5125c84977aff1297128cd4af8",
      "025331c4502742858d05d0e9a8ddba38",
      "8fd8a2256a034354a9ed4cee19dd0a3b",
      "03ff676196e8479880804bc942ab656a",
      "e0a7448c493f4d15845b54eb5c1a8af5",
      "8d87099f37f44fffaa1df46206968f67",
      "6249360fb87e447e96aeb51fae99a572",
      "135f51db6339421baf34b83e4cdaef62",
      "5ac393f9d2fa4b5b83c9178d2586e309",
      "fd70b736336e47158a1acdf4730f9033",
      "64ef0e699a4342da8d4c724232d3eb61",
      "22b6a0f7b6e246a1a43a5bb87dbca716",
      "5ab35330b92945b9a38f655830a35037",
      "f4789927eaa44ab5815e086877c4fa4a",
      "ab372024333f484289cb3e6e8d62ef97",
      "23df3bfdfa154839ae7965eee6ceb24c",
      "29d1b3f6b1b1422ebcf2d3747ff6222d",
      "b79c6681814947d3b7ef64652b494487",
      "d96a2852c21d4fd399a5f0e8989f4d32",
      "8c9377ff773445b1a8763160ab2fec6e",
      "833dfa650dc84913a13151355c884c0c",
      "0b70da73188e4c5dacff8924b93bbebb",
      "fbc9567c652a45e393f4b7db69bed5fb",
      "fb99d94379d44e11907b7180c1a0cda9",
      "9f98d5ae16224d02ad0e792f63a5a3c7",
      "5d8cebcbe33a4a168b6ea1af31a4feca",
      "38df2ccef90a4a7eb250622bd2bbeb5e",
      "2619ffe1623e4edd8f44432596c46a7a",
      "7882e1f5c467486c81f9e064b31c1693",
      "5f71a4d95b7d43d1b52119512ba377ee",
      "45c9724526c94528b747bd818b90a289",
      "79e350ef270b4465ab41892234e6d52f",
      "121afbff02bb4564896c2b67c30d69c9",
      "b8a3779bce84434a9a4b7098221ae423",
      "e54e096b6f8d433a804a2df794de847f",
      "9b93e74d12464d2485711fc89abb7c4a",
      "56c460aac2ff4ba69205aae7ce6750dc",
      "8bd6e07f0bc74858ba4304e8f05e2496",
      "486432b5766143ce98bc69cdd631c6a2",
      "d19064d596fa46829bf61048ed80cd1e",
      "9055b9a26e1c40f2a4c469d28487c808",
      "3acb0c8b22764a9291449cc2bf6384e6",
      "14aad66e5750473c801baf8723779845",
      "64f7e55bdc6d42c999d36ba505a9e61e",
      "35f5a259886f4ae08d1b9aa37d5d6c09",
      "ceb3dc39333747c187332251f58a8f2d",
      "7ecabe17f8444becb5c1c8cecb93946b",
      "458d34bc5f0c4e549fc9e7b2c82dab93",
      "c167fb4566fa48fea704443628ffd22e",
      "21670d308ac94fd292797adc03ee7265",
      "b1dfa09513cf4af1914a043ae09b952d",
      "38286cf53cdd4b2fa907dec7723ae76e",
      "8c8bd535c6e04645bd14236569c6f969",
      "bdb19b2729f34217ab1c9371fd354dec",
      "4f2eea6316ac448cac8dbb7b13743a50",
      "20ae79242f2f4b0d8be4b53e941dc02a",
      "0cf29e3d7679482dbf3f5d6b2a089248",
      "e8a76b3be0df4a10876d6f1c525b7b53",
      "99e84256a3464dd6a5f4263fc8f90b56",
      "819e340553d740728f9f5c76d76be043",
      "5a05d380bc8a44399f9ff78b47356b1e",
      "a89150eda7ac4501b4a0902c8695b870",
      "b11e5d25979843efb27c57dcf82ed811",
      "16f87230a6c644618648dcb10c994767",
      "4214e4e93a7b46c5b3028d8304dba0f2",
      "5cbf3977e2d34a688532055c1faaaf46",
      "90796a2c70c54db38b3d292b0e24060f",
      "d45b168223c34271a2452b69e96c09e0",
      "9dd92c18d6eb4925b4589495fc5e6b34",
      "5f0916f278a442ab9441805f363f918b",
      "ac59a436102c4fabaa8e7b45ca5f7957",
      "c1a8d953366544f293d2883ebb962670",
      "8827dd19eb4d4400b602a241a9e73425",
      "ed04ce507579411a80510855cc7275e1",
      "7cfa4b2cd77947daac1d2b4d28547bc3",
      "54ddbbd059d745eab2a4c922e7f88863",
      "989439c22bbc4973a3b5cdfed1a6e759",
      "099db20a928e4b3b8676dca2c714bc3d",
      "ada6850860954a5abbcdafb2eb869c06",
      "954d59e273284317b1bf89a9edc5b929",
      "c9f76195525247e7aec6b4312c5179ec",
      "05678669aa584f9d88d26bfd1e931cc2",
      "dc1350bacb154f62ab892bb7fe651e3e",
      "2f28ad55e664486faa39716c6db61b7e",
      "fd71b6272efe4a29b721d0671f767d46",
      "c7a3615f85e841e0983d9fab6b760929",
      "d68fe8b4c4654495848eac68dff8a75a",
      "ecf6a51b37cf478ea969f9ec58fee832",
      "c56c9f8e4a6343f1aa81778dce66e7a5",
      "a472d5da21e04a5196a865c3eef1a6db",
      "557af6e868fd4fc2aa806a3e0ef96e3d",
      "8ac876270e3b4102a6b5ecce620e6cdc",
      "c4558c5d9d7f4051963f0af6ed592f34",
      "9768d4b2dc244465926238ac0d355ef8",
      "7539d662df9349c8af06d0d728216a4a",
      "bbc30e3adef849daa7dcf4dbf5511aa8",
      "b514e9745ea04a0c8fe7b7d019710a90",
      "6e3534e73da34ed6a98bae37480f2393",
      "47597b4190124e468b87f2ec46782f41",
      "0c249cd507b940dcb8a0706a88f76afc",
      "7b40402b03b54e1fa5400926d9449552",
      "de34fb5625304c2b9e5005df75e7755a",
      "cf4472167afd42b1a56c1bf8f57d0e4f",
      "740b9f5d4e2547988b040174534ebe9c",
      "00a015caf6694baebb4678bc34d30467",
      "4fc49e37308347fca716b0baedb5bd67",
      "b054f9e2462e402592e27a60fed754cc",
      "7d297a5bc81b45ae81144768d2456644",
      "589643ef68074657b8ab5cd8bb39971d",
      "97775339fca64bbbb07839d39a37327f",
      "7e395f537e974693842b65447048b3bb",
      "ecddaab34e994daa9e45b649faca396d",
      "14b75f7e78ba470eabf52d2e67722d4b",
      "cd58f298ae2e4761ad2571419d8ed632",
      "21c3b9108c8f47bba7771217277c86fd",
      "a45033c5f6e74d9ebc63a0010c7a0931",
      "5cb544f9a4db4c75a79ab7df64f6f6e3",
      "d0ade41291d246db91540bf26be44705",
      "09040f2e40264b928fb61f6e8fade8f3",
      "37dd4e8e788c4586bf369fa06797c2bf",
      "86892f66f4dc4a38a29b5d5cf1af5588",
      "a60d03c3df464d6195e26986379418f2",
      "2e528710c3444b4a9ad78b67f432a0fd",
      "086376824bd34e06b8125f6a1e58d1b0",
      "81bbcd5f00bc4e1fb7b886493c1fdc47",
      "d7ac8e57aba241f4b091ef867c38216d",
      "766fe1b8d76540d89fc16d8e76fb08c5",
      "ca3c5182d2354b1d86806ea935ec369a"
     ]
    },
    "executionInfo": {
     "elapsed": 202840,
     "status": "ok",
     "timestamp": 1751489353881,
     "user": {
      "displayName": "Yulia Yorkshirelove",
      "userId": "10480095246692972307"
     },
     "user_tz": -180
    },
    "id": "4ONUyn8pCV4K",
    "outputId": "7d23df70-d9c6-4724-c34e-30cc2a73a0ad"
   },
   "outputs": [
    {
     "data": {
      "application/vnd.jupyter.widget-view+json": {
       "model_id": "99109c24756740229682c22ff5001a04",
       "version_major": 2,
       "version_minor": 0
      },
      "text/plain": [
       "Encoding chunks:   0%|          | 0/25 [00:00<?, ?it/s]"
      ]
     },
     "metadata": {},
     "output_type": "display_data"
    },
    {
     "data": {
      "application/vnd.jupyter.widget-view+json": {
       "model_id": "454bd661206e419cbebd1939fa005fe7",
       "version_major": 2,
       "version_minor": 0
      },
      "text/plain": [
       "  Tokens in chunk:   0%|          | 0/668 [00:00<?, ?it/s]"
      ]
     },
     "metadata": {},
     "output_type": "display_data"
    },
    {
     "data": {
      "application/vnd.jupyter.widget-view+json": {
       "model_id": "acfaf3175e44483e9037a57a1a9308ab",
       "version_major": 2,
       "version_minor": 0
      },
      "text/plain": [
       "  Tokens in chunk:   0%|          | 0/732 [00:00<?, ?it/s]"
      ]
     },
     "metadata": {},
     "output_type": "display_data"
    },
    {
     "data": {
      "application/vnd.jupyter.widget-view+json": {
       "model_id": "7eeec23f80fc44c687d1588ea432f167",
       "version_major": 2,
       "version_minor": 0
      },
      "text/plain": [
       "  Tokens in chunk:   0%|          | 0/572 [00:00<?, ?it/s]"
      ]
     },
     "metadata": {},
     "output_type": "display_data"
    },
    {
     "data": {
      "application/vnd.jupyter.widget-view+json": {
       "model_id": "1745812cae0642dcacbf2500686b5703",
       "version_major": 2,
       "version_minor": 0
      },
      "text/plain": [
       "  Tokens in chunk:   0%|          | 0/589 [00:00<?, ?it/s]"
      ]
     },
     "metadata": {},
     "output_type": "display_data"
    },
    {
     "data": {
      "application/vnd.jupyter.widget-view+json": {
       "model_id": "db0653fdc45c4884a564a781a127eabf",
       "version_major": 2,
       "version_minor": 0
      },
      "text/plain": [
       "  Tokens in chunk:   0%|          | 0/577 [00:00<?, ?it/s]"
      ]
     },
     "metadata": {},
     "output_type": "display_data"
    },
    {
     "data": {
      "application/vnd.jupyter.widget-view+json": {
       "model_id": "bcfa23e11abb42e4bcf43d3bb1dc820f",
       "version_major": 2,
       "version_minor": 0
      },
      "text/plain": [
       "  Tokens in chunk:   0%|          | 0/546 [00:00<?, ?it/s]"
      ]
     },
     "metadata": {},
     "output_type": "display_data"
    },
    {
     "data": {
      "application/vnd.jupyter.widget-view+json": {
       "model_id": "81556bc3691841fe99380baf73ed7c50",
       "version_major": 2,
       "version_minor": 0
      },
      "text/plain": [
       "  Tokens in chunk:   0%|          | 0/453 [00:00<?, ?it/s]"
      ]
     },
     "metadata": {},
     "output_type": "display_data"
    },
    {
     "data": {
      "application/vnd.jupyter.widget-view+json": {
       "model_id": "2e45ba1839fe4a189348f22aac66749e",
       "version_major": 2,
       "version_minor": 0
      },
      "text/plain": [
       "  Tokens in chunk:   0%|          | 0/505 [00:00<?, ?it/s]"
      ]
     },
     "metadata": {},
     "output_type": "display_data"
    },
    {
     "data": {
      "application/vnd.jupyter.widget-view+json": {
       "model_id": "223b64dc477e4bdf9ab3741f7914e4e2",
       "version_major": 2,
       "version_minor": 0
      },
      "text/plain": [
       "  Tokens in chunk:   0%|          | 0/453 [00:00<?, ?it/s]"
      ]
     },
     "metadata": {},
     "output_type": "display_data"
    },
    {
     "data": {
      "application/vnd.jupyter.widget-view+json": {
       "model_id": "9fcc2e41ccf1480499c2851fc122f5dd",
       "version_major": 2,
       "version_minor": 0
      },
      "text/plain": [
       "  Tokens in chunk:   0%|          | 0/568 [00:00<?, ?it/s]"
      ]
     },
     "metadata": {},
     "output_type": "display_data"
    },
    {
     "data": {
      "application/vnd.jupyter.widget-view+json": {
       "model_id": "b8314289e120424ab802aa1383f254f9",
       "version_major": 2,
       "version_minor": 0
      },
      "text/plain": [
       "  Tokens in chunk:   0%|          | 0/500 [00:00<?, ?it/s]"
      ]
     },
     "metadata": {},
     "output_type": "display_data"
    },
    {
     "data": {
      "application/vnd.jupyter.widget-view+json": {
       "model_id": "1e2eaf9d75f74852ade26c501b88f135",
       "version_major": 2,
       "version_minor": 0
      },
      "text/plain": [
       "  Tokens in chunk:   0%|          | 0/511 [00:00<?, ?it/s]"
      ]
     },
     "metadata": {},
     "output_type": "display_data"
    },
    {
     "data": {
      "application/vnd.jupyter.widget-view+json": {
       "model_id": "20daa1b735e548f9b43e2042ff6514ce",
       "version_major": 2,
       "version_minor": 0
      },
      "text/plain": [
       "  Tokens in chunk:   0%|          | 0/487 [00:00<?, ?it/s]"
      ]
     },
     "metadata": {},
     "output_type": "display_data"
    },
    {
     "data": {
      "application/vnd.jupyter.widget-view+json": {
       "model_id": "e22572ef19dd45bdbf75a8e9515e1b5c",
       "version_major": 2,
       "version_minor": 0
      },
      "text/plain": [
       "  Tokens in chunk:   0%|          | 0/456 [00:00<?, ?it/s]"
      ]
     },
     "metadata": {},
     "output_type": "display_data"
    },
    {
     "data": {
      "application/vnd.jupyter.widget-view+json": {
       "model_id": "135f51db6339421baf34b83e4cdaef62",
       "version_major": 2,
       "version_minor": 0
      },
      "text/plain": [
       "  Tokens in chunk:   0%|          | 0/465 [00:00<?, ?it/s]"
      ]
     },
     "metadata": {},
     "output_type": "display_data"
    },
    {
     "data": {
      "application/vnd.jupyter.widget-view+json": {
       "model_id": "d96a2852c21d4fd399a5f0e8989f4d32",
       "version_major": 2,
       "version_minor": 0
      },
      "text/plain": [
       "  Tokens in chunk:   0%|          | 0/514 [00:00<?, ?it/s]"
      ]
     },
     "metadata": {},
     "output_type": "display_data"
    },
    {
     "data": {
      "application/vnd.jupyter.widget-view+json": {
       "model_id": "5f71a4d95b7d43d1b52119512ba377ee",
       "version_major": 2,
       "version_minor": 0
      },
      "text/plain": [
       "  Tokens in chunk:   0%|          | 0/426 [00:00<?, ?it/s]"
      ]
     },
     "metadata": {},
     "output_type": "display_data"
    },
    {
     "data": {
      "application/vnd.jupyter.widget-view+json": {
       "model_id": "9055b9a26e1c40f2a4c469d28487c808",
       "version_major": 2,
       "version_minor": 0
      },
      "text/plain": [
       "  Tokens in chunk:   0%|          | 0/537 [00:00<?, ?it/s]"
      ]
     },
     "metadata": {},
     "output_type": "display_data"
    },
    {
     "data": {
      "application/vnd.jupyter.widget-view+json": {
       "model_id": "38286cf53cdd4b2fa907dec7723ae76e",
       "version_major": 2,
       "version_minor": 0
      },
      "text/plain": [
       "  Tokens in chunk:   0%|          | 0/494 [00:00<?, ?it/s]"
      ]
     },
     "metadata": {},
     "output_type": "display_data"
    },
    {
     "data": {
      "application/vnd.jupyter.widget-view+json": {
       "model_id": "b11e5d25979843efb27c57dcf82ed811",
       "version_major": 2,
       "version_minor": 0
      },
      "text/plain": [
       "  Tokens in chunk:   0%|          | 0/600 [00:00<?, ?it/s]"
      ]
     },
     "metadata": {},
     "output_type": "display_data"
    },
    {
     "data": {
      "application/vnd.jupyter.widget-view+json": {
       "model_id": "ed04ce507579411a80510855cc7275e1",
       "version_major": 2,
       "version_minor": 0
      },
      "text/plain": [
       "  Tokens in chunk:   0%|          | 0/473 [00:00<?, ?it/s]"
      ]
     },
     "metadata": {},
     "output_type": "display_data"
    },
    {
     "data": {
      "application/vnd.jupyter.widget-view+json": {
       "model_id": "fd71b6272efe4a29b721d0671f767d46",
       "version_major": 2,
       "version_minor": 0
      },
      "text/plain": [
       "  Tokens in chunk:   0%|          | 0/494 [00:00<?, ?it/s]"
      ]
     },
     "metadata": {},
     "output_type": "display_data"
    },
    {
     "data": {
      "application/vnd.jupyter.widget-view+json": {
       "model_id": "bbc30e3adef849daa7dcf4dbf5511aa8",
       "version_major": 2,
       "version_minor": 0
      },
      "text/plain": [
       "  Tokens in chunk:   0%|          | 0/495 [00:00<?, ?it/s]"
      ]
     },
     "metadata": {},
     "output_type": "display_data"
    },
    {
     "data": {
      "application/vnd.jupyter.widget-view+json": {
       "model_id": "b054f9e2462e402592e27a60fed754cc",
       "version_major": 2,
       "version_minor": 0
      },
      "text/plain": [
       "  Tokens in chunk:   0%|          | 0/442 [00:00<?, ?it/s]"
      ]
     },
     "metadata": {},
     "output_type": "display_data"
    },
    {
     "data": {
      "application/vnd.jupyter.widget-view+json": {
       "model_id": "d0ade41291d246db91540bf26be44705",
       "version_major": 2,
       "version_minor": 0
      },
      "text/plain": [
       "  Tokens in chunk:   0%|          | 0/452 [00:00<?, ?it/s]"
      ]
     },
     "metadata": {},
     "output_type": "display_data"
    },
    {
     "name": "stdout",
     "output_type": "stream",
     "text": [
      "Encoding done in 202.83s\n"
     ]
    }
   ],
   "source": [
    "chunk_data = encode_with_soft_prompt(\n",
    "    dataset, model, soft_prompt_rec)"
   ]
  },
  {
   "cell_type": "code",
   "execution_count": null,
   "metadata": {
    "colab": {
     "base_uri": "https://localhost:8080/",
     "height": 66,
     "referenced_widgets": [
      "97fe5d2415ee43caa5823650489108cb",
      "a8343aa895694c01bd3ebd8b358fe6ad",
      "f4fe209d73b443cfa8b1ada271c936e9",
      "e51167f7704b4273b53483ddf4acd105",
      "7ba6aab822944c4084eec303da75206b",
      "f9de0b987b12414089220d9b9d8e30f4",
      "7306fbdda9da4b57aa42a79855f52cc0",
      "5dcab39b0ee04bda872d4da60e094605",
      "b2463315d3e643959924a05290de89b4",
      "98e23365ac934168949362f084b63ec2",
      "998d823911434e92909023b546d64ed9",
      "9795c37bd1394c24820ea1c5400b2a8a",
      "aad2fb2f8c5a4b299cba5943ce6f0cd8",
      "3a6edafa897e41cd852386b916dc98dd",
      "f8d6968854494811aab0946db9d5436d",
      "0cd2d298e437492494e00fd7ba622196",
      "771eab5a5cc047d0b7d52c2b1ea45b33",
      "bceef290d23c402ab5d09e0e6d71f317",
      "2bc92fc1511946a3918285310ad470a1",
      "bf6e60c89b104ece8cae5283c5753e02",
      "ab33a0eb560748298b0ad56577a65946",
      "2e480e1050e74608a030bf84acdd5037",
      "bf84355f827d4de5b3d27920e69651a1",
      "e4b8f9bc6e5f48f3aa769979f6b40346",
      "e6242434c8654f70b195d26103cfef69",
      "2edb815e2c0f423aa147ac99ab364add",
      "3b4e0eb01a83442e8cad2bc25b737958",
      "1765b15406844ed0aee3723fd40e8ce2",
      "ba99194d65f541dcb7b2513ba1d96df0",
      "3e832d769cdc48be94dc110d853f16de",
      "f77d45305614432d8bfde189b7e4e6f2",
      "f595ad7b16de4eff8a7f1ff9771734e2",
      "bbab5d6fc1f64d539c0af224e24d3c1f",
      "51cf8b81d15f48e7bc8f3e4c4b30ad2b",
      "9def2131e1674221b9c997b1143fb0bf",
      "90491b9329674520bd2f884292fa80bb",
      "e24a7a3406884a1cb42015b5ffc82829",
      "d0fc9cd4ff34476191ffea579bd5da0f",
      "ac3e7f5958dc49d5b64b3d0adedc1bad",
      "504993f94a664bd3ae3e88f3bf38a689",
      "e76c0d65f5fa4e939e77fd6e885c4fa9",
      "32d481041922472daef4abc50bd714a1",
      "fa380d50ac67420bab9c1406c9b44186",
      "d2dbd2ff083d4f85b9acf555438b5ced",
      "398810a6130e438e8eb79904bb20bc3c",
      "80c3c059387245508168734841a7582a",
      "4d34386f36c14406afcd421df78c7b58",
      "a88e8d047b7e4549960dead0b6411bf2",
      "49f5ff4e3285424aa2e75eddbbe2fc14",
      "1cfc61d5ef7c44a8b6f89cbf5459ede9",
      "6d3acbbca11a40a18baa3574ec76ced4",
      "2fdeff6e94f4417d93cb284c445f4d38",
      "24ae34f3174747dfb6af6e93e75de804",
      "df4e191613a34a6988e46a1f69db5c55",
      "0fd3c9e02d1a4b0fa6865298e352316f",
      "33d92579aaab4f8e81679552d4dc8391",
      "51d183811e374a7cae2dfc8824c610c9",
      "bc3691b536724bf0ad11b3580f5d4cef",
      "1c2a921ba4a64ec69ea47d77c828f1bd",
      "cb5e96ceea9d4f0480007c775a77c846",
      "f13064601e2c438caea570a8f43271e6",
      "cd127a029cb3439e9e1f265093036390",
      "f31a84de56a2416d96dca6d899370ddd",
      "0462ef25b6f8454e8455f239d1405b39",
      "6098caae87fc45dcb054b99df5e293af",
      "0f958ada08a448c09c948a9c5962b91b",
      "1d3dfcf878fd424a94df96b59dde78e7",
      "1c6de7518ddc460fab18625c026d9cbd",
      "bba093e631c84411b9f13a4e5b2226f9",
      "597df879c21a4e5094d0aaa1758b09a8",
      "164275d59ede48b8b86a2a8919cea185",
      "6d731b47d854445bbdf3e4ed701b69fa",
      "c31d777328514c47831990a9a6fd60f1",
      "d5d7658d054f49d198eb7792a1f0bed0",
      "2ae7acf8705146a19852275b422e50d8",
      "aeabcdff6ecb451186eaeea2ddaf79fa",
      "fb33bc04bfad46e99d70cc11b242f7ae",
      "f49d1cfdb7f8404e880771c3a7d57aec",
      "6a495150e4024041b5e92a1edeb08ee4",
      "9bdd28a793a149378723c4505e0d3764",
      "d9039e67d8bb455ea27693bb720f7e9d",
      "bd24bd68ea3342908abb9d35f826dff2",
      "a3572c1462ee4694814126d965d9f608",
      "3e0293d49a804d3eb1f9fb905edaec12",
      "2e1ff6e3ab9c45879466b84136dd01df",
      "22d13f4ca61243f88bad81167019ae0a",
      "8b5e4e832e174afeb9fae80bc8596a22",
      "e3ca3b5a62f94c4b9603361979512a44",
      "e49781e723ec4ca5985ce57856f1e94f",
      "493701dcaef34120a2ef3d8190ef01b7",
      "61b2e685c0394beb9224258a2bfe56d7",
      "71252c08ac8b478fa9e5e05bbc8d20ef",
      "92389022b8d246998e9f0fef496ab54d",
      "0ca5e47346c743adab40f2b623f116b4",
      "c89d3ab365f945f99033f25bc4f8b589",
      "f19fd7bea45b4fe0b0324c780344f63d",
      "7810a54ee8ae4d02a2a32acd91001ca9",
      "63a630220091403da6faee95e1fb17dc",
      "83904c7967064e8fbe504ca908dd8330",
      "8967abc5f8084d2da00f6fff14151a17",
      "49362587b0564df1bf5cabc5f0193124",
      "0fe39f36c9934069949efdf02e87166d",
      "6d9e96b40a1c47898d14a07288c96286",
      "4e908f9a849c4a149ba1a141d1f7a117",
      "94d8dfe1093a433e9ed568bd5c5ea597",
      "ece7febed8e349d1a9aa1b4ed452b43d",
      "0f7e1d0e29f54e05b7a74643fb2d27c2",
      "c7466dcd4e0f45409224727208130ce4",
      "2555362c0c434a5cad8b75011231fadc",
      "44cfc299fb334b3f968002da801de299",
      "7d6a0a8dcd464ff69d43fef308c7a728",
      "5ca4590f2b8f45dcaf0218e83a88e526",
      "338b3d740a91448cabcdd70f166da842",
      "3aed73d6ed8e44ffad1e59e8565fabaf",
      "17bd69dc34e14478afd58a76ce345623",
      "6c37f2f0b963436994a4381d3358b764",
      "7070156c6c1b46d798d01534e4dbf9f5",
      "df8c63d95f6449d78cd9154d7b73368a",
      "277f127e9db84af09412a6db24ca681c",
      "84115ffccb7f400f9d5573b03d315707",
      "0c3206016de74660aac9036d8d540ca2",
      "04b8317fbb61458897dc9ec5935e2340",
      "7d936d35967441b480f3f44a049a588b",
      "c22545e93e5b4a4c98d68d9b34aa5d62",
      "70785dcc9a1148efb84193f1bf3ed0c3",
      "cb0d5ddc054c49e48a3741740bae6b87",
      "ec6fdbf480ff477bb4a130550ff6cf0d",
      "80273472b6274c3586eb3d6034744220",
      "e5cf804422bc40d1b5dfaf6fe5ecfe0f",
      "1f027e7abbec44d1a3785108d2bf7d10",
      "03aa7a374df743adabfd2c4972437c3c",
      "a4f4b180b19e4d87b42597b3e5582eda",
      "82253385084c4889af014a7a0fcad527",
      "b249b0f3792a4a92820bdc8634425869",
      "411c9aea7f2743d8871ead629c5819dc",
      "a84f05a836564a2790cfbebf0e8b1c1d",
      "27933d60551f4249b06c1457f711764f",
      "1f12fb600b2f42e580c945989b73940e",
      "3a2e46e570ad49278bf2b81bd9a2a2fa",
      "19ae9ae14b474a1da66f65ee311128dd",
      "4548f25f49a8413d884bc30ab4c19c92",
      "0857993ff1e344268c6448fbd4e2d5cd",
      "7117cf37d79a4033b4d553442c9e2791",
      "f04d48a8d2514ef282770f5c2fbac2ea",
      "5b211aeff0f14f969b6b2a562e67f6a4",
      "e078d7336a224f49ba2176001544d821",
      "d4564de9962442699dc2d1bb60429cb3",
      "475c201d50914b48b0f3a60236a646cf",
      "9ef3c7df48a34a15912f04884de4c9e0",
      "a66e03c374b84599b9685ca39237e3ed",
      "d173e6fd37a44eaaaea4acc7ee4759fb",
      "5fcc074701934163adb10664ada1fafd",
      "46d0c8865da44c5bb3add22d51473a98",
      "3225a78b09b34f34b929659a4eaa344f",
      "5ed8cefd882c4c95b1c68a99ecb0d5e4",
      "4893a730bcc44a938c14d681c1c0dddb",
      "23dd0acb0b164f2ba80181dbe6dda8a8",
      "ef49f8a1b25f4614b1682a49777ee234",
      "0b63e709dcac462fb0ba27427fa68b5f",
      "6f2e9fd2d4f4408a8fbda94fb24b8d15",
      "6f469c1d72744bb99827a5a25e594370",
      "7c9d5c9dbabe4d738db6bf0b3e7f1117",
      "c1ea43c222a34ac19e350fdb948b9370",
      "05cd6b1fb5934ad7ac8a0041c60002fe",
      "08a072dae4454cb7856c8b75e21a3f9e",
      "798d674c018c45b481e61cf433a9e36f",
      "b18335c5049b4ff584d569db94f2ab38",
      "f64a2fc9285c41e3b746869fb87cbbcc",
      "20527e6f538f4d29adb5739376be7cb7",
      "7561826ef6cf4f7ebb37b72100d54c1b",
      "a54e36dd5ec1405a9d503c48da030597",
      "6bf451ee1922491db847821e241be806",
      "70657335da12469398b809d72f787704",
      "70acc597a74044e6a3e916e49905fa6c",
      "f1116e20c42a4b558ea093101fcd08ab",
      "0bda7406f766478a89a07db5184fe5dc",
      "ed4d9dbe11dc4ce5bc74697019b1dd9a",
      "f1825213c8fa4ab7b9b0eba4d0fe699c",
      "cfaa49d632264917a49826c30a38c540",
      "a1f0bda3e22046c3baa5255f81e297e2",
      "4882d0abef8741e68364e60aae78305f",
      "b1f04155249b406f81c1952c3852858d",
      "576f08ed803f4b499dfcc24e5f5e4295",
      "0646369f757a4a2db4e3e8d7d1462b32",
      "b2e0886fe2464baa975f0566270e8e5d",
      "96d2d6de824d45458d921598b5b1e952",
      "cdca4b12d80e4a8b8dcad9ff13d0fc21",
      "855221875654456db421547c0e877b13",
      "3c7bc749dfad4b9ab700d4c9fbfdcd6e",
      "9dc773d22c9c4b20a0de99705e7740eb",
      "4de94f2ea8ae45fcaa5a141bfcc161fe",
      "2b03d6f78a2f465b8fd68c77bbadf50d",
      "4870125c5483443da4f990138653d025",
      "8fe271b79f4d420fb4bc05a2765969c0",
      "a8dfbd0edb6c4bf3828f87f673acafe7",
      "ba59be2f3f2a483486abbc80949fc42b",
      "ae6ebf845e80431686410672ca4a2811",
      "7ae82386cf574fc89226d3cdabd4edc4",
      "a86f7448ea2e4891bbcb658081381c53",
      "caa698af1fbe404096f7af03ed8fa557",
      "78077f9d28054fc78b83625b5fc2266d",
      "8dd7c46efc4043e8a5e2ad0b86d74d53",
      "c04121b0eedf48f899cba8040ce2e590",
      "ca79239e5f6640918557e95946986584",
      "8b5b85cbd81a438ea5803b3e25b0f8d3",
      "70e56a9566d9495a9d136a24a1133fe6",
      "d987ae4e39e24b5f86cbe37bc337b9cf",
      "57fed0b844004d7dbea833d0b0a24b1d",
      "83d0d44fbd584bdb98ba90bd69eea4ae",
      "7f5aafb3a1c3456e9f1384aa9c740e8e",
      "b8babb3dd73b43adb2560ced700b5c92",
      "2731546c3cdf4ca39d36a0c2428d5e86",
      "84409c6f97134a3eab37773a8860161d",
      "75cbdc3ca0464841bfb6cdba3b7fbab2",
      "9c8a94f2caaf46f29a04b625ced34261",
      "60f0bc3070f64801b916b1b9af80996e",
      "a414bd6c055644bda26dec53036e70ca",
      "43aee09005da40ddbc3851a2df2a9a0c",
      "49ce10f7a5664e8d847fd05be9a192c6",
      "7fed730c39774fc4986f8be92380758a",
      "0e5d810248c24262b756990240d11315",
      "94263d1fcffd450683303b69581b8517",
      "49e0b69b05bc4a9fbd5c8f0534b56dec",
      "7218b0fa828b4413b42641c0a9203149",
      "24534e6a6a9d4468ad4bb7e74fe7da8a",
      "407b09c1618b4ff1988f19de2de1609a",
      "90ce7ff3af7f424eb53dc3dbac142480",
      "528f5ae2103d4108881918bfc9c53795",
      "21108d40420044cca950ae1c8ee78d5d",
      "745502c87c4b4271965033182d57c46a",
      "6936897f445e49a587d2b00aa184010d",
      "8b7f3481b7a14ea0947c0ba2ca13ba9f",
      "fc2901cfba114b7892a1d63fae620bcc",
      "7e63be882d3d4355b5940ae033852b20",
      "04ea21f65f6945aca46f4ff58d0cf0a2",
      "bb68d31edb0045c8a8dac215fc914eff",
      "b58ae92d610d43229fb50cbf05a3f0ab",
      "84035b2d28a34943bfe50942d88fe6d1",
      "0488f6626aea4fbaba6f32114822b6a7",
      "aa9616c6ff534ddba3d6da33926d3230",
      "1b4325151b41428e95edaaee69402d54",
      "e5e41bc6fcb24aae952fea4654d1a438",
      "e96b07b8b6834ffe800067cabd642abd",
      "f41fb6739ec4492ba0c7842c07f63f49",
      "bf64242b52da4efeb8fce3c829d1d768",
      "88ca2f5c22944d21a9172a49b222184c",
      "bcb959342b5c4bd994e71e312bda3fbb",
      "157c0d17eb984a22bf0e4fa87dcd1d4f",
      "68ded974794f4326ad42a91a7d90c107",
      "a34666420e434e63bf3b260215702301",
      "343bb2c33a524b07ad79bdf1f354a9a5",
      "f541306916c04e68aa2d26221bf32482",
      "b04eb6919d874954a40f2821818089c7",
      "d9cb1c0953bd457a86d3328b020ec7e4",
      "38e8a7461c034ec397dc8294a2a3ee56",
      "d0943edb4364461e9e5ce7102786f3bd",
      "219530526c6446ada1bb6c63d900d604",
      "db0fcaece6b44687b00dc45cb1aee418",
      "f6e66336c4814348bbda2bb5c65a8b9e",
      "bd6f0a7046cb4055b262fab7c7120288",
      "15228a38ac32488eb7964e56331d685f",
      "22fc78934ea04a17aebd2bab3288f08e",
      "d38115c7f42242bb9f528cc2e83d4b31",
      "ffde87ca822248679026fcdd4c63cd60",
      "87727afc6c624cc784f75e5623712787",
      "515c1d45da344ad09af2f6d3ae95f735",
      "a5f7a1f33f3b41a49505777f8cd46ca3",
      "e81324444d254a049e55cb21ebf39ab4",
      "ff33303d58ac4757bdfcc2afe3a88fac",
      "e0b3239c59a04c9b8c51e51587a88ada",
      "0626591f4fd34a99b5442db18418a5e8",
      "ac88ed96e046492b9eee34df476be1d8",
      "313989c7479342d0963ea95c6e8e730d",
      "ed2a649be41045659987bb271a99e51a",
      "68b043afd2b84878b795024f0a70db25",
      "4bbdb28ec5dc4265ae268a4b3a5d96aa",
      "72561b1b18264917acefad88d11d7186",
      "c2bda31a01cd46cca8e55c16bd83514f",
      "ac2ccf450e28473d85d9862589fd22cb",
      "79e4279f50ac4a1cb9e7903d05b08b41",
      "0a700302f0514acfba55d058085c2969",
      "ca10f5e7df8340bcb6ccdbf13ab18977",
      "0170a5d01f294cff955b3318aca11174",
      "9e463cc267d34510b2b4b0acadc25927",
      "aceb9d96315947c09351f89f244e9ded",
      "1f92bcdb66bb42fb85894057b19abdf1"
     ]
    },
    "executionInfo": {
     "elapsed": 202131,
     "status": "ok",
     "timestamp": 1751489556013,
     "user": {
      "displayName": "Yulia Yorkshirelove",
      "userId": "10480095246692972307"
     },
     "user_tz": -180
    },
    "id": "_gYjzHrTCjq0",
    "outputId": "1a04b6c0-ee83-4d74-e898-8c971aa837be"
   },
   "outputs": [
    {
     "data": {
      "application/vnd.jupyter.widget-view+json": {
       "model_id": "97fe5d2415ee43caa5823650489108cb",
       "version_major": 2,
       "version_minor": 0
      },
      "text/plain": [
       "Decoding chunks:   0%|          | 0/25 [00:00<?, ?it/s]"
      ]
     },
     "metadata": {},
     "output_type": "display_data"
    },
    {
     "data": {
      "application/vnd.jupyter.widget-view+json": {
       "model_id": "9795c37bd1394c24820ea1c5400b2a8a",
       "version_major": 2,
       "version_minor": 0
      },
      "text/plain": [
       "  Tokens in chunk:   0%|          | 0/668 [00:00<?, ?it/s]"
      ]
     },
     "metadata": {},
     "output_type": "display_data"
    },
    {
     "data": {
      "application/vnd.jupyter.widget-view+json": {
       "model_id": "bf84355f827d4de5b3d27920e69651a1",
       "version_major": 2,
       "version_minor": 0
      },
      "text/plain": [
       "  Tokens in chunk:   0%|          | 0/732 [00:00<?, ?it/s]"
      ]
     },
     "metadata": {},
     "output_type": "display_data"
    },
    {
     "data": {
      "application/vnd.jupyter.widget-view+json": {
       "model_id": "51cf8b81d15f48e7bc8f3e4c4b30ad2b",
       "version_major": 2,
       "version_minor": 0
      },
      "text/plain": [
       "  Tokens in chunk:   0%|          | 0/572 [00:00<?, ?it/s]"
      ]
     },
     "metadata": {},
     "output_type": "display_data"
    },
    {
     "data": {
      "application/vnd.jupyter.widget-view+json": {
       "model_id": "398810a6130e438e8eb79904bb20bc3c",
       "version_major": 2,
       "version_minor": 0
      },
      "text/plain": [
       "  Tokens in chunk:   0%|          | 0/589 [00:00<?, ?it/s]"
      ]
     },
     "metadata": {},
     "output_type": "display_data"
    },
    {
     "data": {
      "application/vnd.jupyter.widget-view+json": {
       "model_id": "33d92579aaab4f8e81679552d4dc8391",
       "version_major": 2,
       "version_minor": 0
      },
      "text/plain": [
       "  Tokens in chunk:   0%|          | 0/577 [00:00<?, ?it/s]"
      ]
     },
     "metadata": {},
     "output_type": "display_data"
    },
    {
     "data": {
      "application/vnd.jupyter.widget-view+json": {
       "model_id": "1d3dfcf878fd424a94df96b59dde78e7",
       "version_major": 2,
       "version_minor": 0
      },
      "text/plain": [
       "  Tokens in chunk:   0%|          | 0/546 [00:00<?, ?it/s]"
      ]
     },
     "metadata": {},
     "output_type": "display_data"
    },
    {
     "data": {
      "application/vnd.jupyter.widget-view+json": {
       "model_id": "f49d1cfdb7f8404e880771c3a7d57aec",
       "version_major": 2,
       "version_minor": 0
      },
      "text/plain": [
       "  Tokens in chunk:   0%|          | 0/453 [00:00<?, ?it/s]"
      ]
     },
     "metadata": {},
     "output_type": "display_data"
    },
    {
     "data": {
      "application/vnd.jupyter.widget-view+json": {
       "model_id": "e49781e723ec4ca5985ce57856f1e94f",
       "version_major": 2,
       "version_minor": 0
      },
      "text/plain": [
       "  Tokens in chunk:   0%|          | 0/505 [00:00<?, ?it/s]"
      ]
     },
     "metadata": {},
     "output_type": "display_data"
    },
    {
     "data": {
      "application/vnd.jupyter.widget-view+json": {
       "model_id": "8967abc5f8084d2da00f6fff14151a17",
       "version_major": 2,
       "version_minor": 0
      },
      "text/plain": [
       "  Tokens in chunk:   0%|          | 0/453 [00:00<?, ?it/s]"
      ]
     },
     "metadata": {},
     "output_type": "display_data"
    },
    {
     "data": {
      "application/vnd.jupyter.widget-view+json": {
       "model_id": "7d6a0a8dcd464ff69d43fef308c7a728",
       "version_major": 2,
       "version_minor": 0
      },
      "text/plain": [
       "  Tokens in chunk:   0%|          | 0/568 [00:00<?, ?it/s]"
      ]
     },
     "metadata": {},
     "output_type": "display_data"
    },
    {
     "data": {
      "application/vnd.jupyter.widget-view+json": {
       "model_id": "04b8317fbb61458897dc9ec5935e2340",
       "version_major": 2,
       "version_minor": 0
      },
      "text/plain": [
       "  Tokens in chunk:   0%|          | 0/500 [00:00<?, ?it/s]"
      ]
     },
     "metadata": {},
     "output_type": "display_data"
    },
    {
     "data": {
      "application/vnd.jupyter.widget-view+json": {
       "model_id": "82253385084c4889af014a7a0fcad527",
       "version_major": 2,
       "version_minor": 0
      },
      "text/plain": [
       "  Tokens in chunk:   0%|          | 0/511 [00:00<?, ?it/s]"
      ]
     },
     "metadata": {},
     "output_type": "display_data"
    },
    {
     "data": {
      "application/vnd.jupyter.widget-view+json": {
       "model_id": "f04d48a8d2514ef282770f5c2fbac2ea",
       "version_major": 2,
       "version_minor": 0
      },
      "text/plain": [
       "  Tokens in chunk:   0%|          | 0/487 [00:00<?, ?it/s]"
      ]
     },
     "metadata": {},
     "output_type": "display_data"
    },
    {
     "data": {
      "application/vnd.jupyter.widget-view+json": {
       "model_id": "5ed8cefd882c4c95b1c68a99ecb0d5e4",
       "version_major": 2,
       "version_minor": 0
      },
      "text/plain": [
       "  Tokens in chunk:   0%|          | 0/456 [00:00<?, ?it/s]"
      ]
     },
     "metadata": {},
     "output_type": "display_data"
    },
    {
     "data": {
      "application/vnd.jupyter.widget-view+json": {
       "model_id": "798d674c018c45b481e61cf433a9e36f",
       "version_major": 2,
       "version_minor": 0
      },
      "text/plain": [
       "  Tokens in chunk:   0%|          | 0/465 [00:00<?, ?it/s]"
      ]
     },
     "metadata": {},
     "output_type": "display_data"
    },
    {
     "data": {
      "application/vnd.jupyter.widget-view+json": {
       "model_id": "ed4d9dbe11dc4ce5bc74697019b1dd9a",
       "version_major": 2,
       "version_minor": 0
      },
      "text/plain": [
       "  Tokens in chunk:   0%|          | 0/514 [00:00<?, ?it/s]"
      ]
     },
     "metadata": {},
     "output_type": "display_data"
    },
    {
     "data": {
      "application/vnd.jupyter.widget-view+json": {
       "model_id": "855221875654456db421547c0e877b13",
       "version_major": 2,
       "version_minor": 0
      },
      "text/plain": [
       "  Tokens in chunk:   0%|          | 0/426 [00:00<?, ?it/s]"
      ]
     },
     "metadata": {},
     "output_type": "display_data"
    },
    {
     "data": {
      "application/vnd.jupyter.widget-view+json": {
       "model_id": "a86f7448ea2e4891bbcb658081381c53",
       "version_major": 2,
       "version_minor": 0
      },
      "text/plain": [
       "  Tokens in chunk:   0%|          | 0/537 [00:00<?, ?it/s]"
      ]
     },
     "metadata": {},
     "output_type": "display_data"
    },
    {
     "data": {
      "application/vnd.jupyter.widget-view+json": {
       "model_id": "7f5aafb3a1c3456e9f1384aa9c740e8e",
       "version_major": 2,
       "version_minor": 0
      },
      "text/plain": [
       "  Tokens in chunk:   0%|          | 0/494 [00:00<?, ?it/s]"
      ]
     },
     "metadata": {},
     "output_type": "display_data"
    },
    {
     "data": {
      "application/vnd.jupyter.widget-view+json": {
       "model_id": "0e5d810248c24262b756990240d11315",
       "version_major": 2,
       "version_minor": 0
      },
      "text/plain": [
       "  Tokens in chunk:   0%|          | 0/600 [00:00<?, ?it/s]"
      ]
     },
     "metadata": {},
     "output_type": "display_data"
    },
    {
     "data": {
      "application/vnd.jupyter.widget-view+json": {
       "model_id": "8b7f3481b7a14ea0947c0ba2ca13ba9f",
       "version_major": 2,
       "version_minor": 0
      },
      "text/plain": [
       "  Tokens in chunk:   0%|          | 0/473 [00:00<?, ?it/s]"
      ]
     },
     "metadata": {},
     "output_type": "display_data"
    },
    {
     "data": {
      "application/vnd.jupyter.widget-view+json": {
       "model_id": "e96b07b8b6834ffe800067cabd642abd",
       "version_major": 2,
       "version_minor": 0
      },
      "text/plain": [
       "  Tokens in chunk:   0%|          | 0/494 [00:00<?, ?it/s]"
      ]
     },
     "metadata": {},
     "output_type": "display_data"
    },
    {
     "data": {
      "application/vnd.jupyter.widget-view+json": {
       "model_id": "d9cb1c0953bd457a86d3328b020ec7e4",
       "version_major": 2,
       "version_minor": 0
      },
      "text/plain": [
       "  Tokens in chunk:   0%|          | 0/495 [00:00<?, ?it/s]"
      ]
     },
     "metadata": {},
     "output_type": "display_data"
    },
    {
     "data": {
      "application/vnd.jupyter.widget-view+json": {
       "model_id": "87727afc6c624cc784f75e5623712787",
       "version_major": 2,
       "version_minor": 0
      },
      "text/plain": [
       "  Tokens in chunk:   0%|          | 0/442 [00:00<?, ?it/s]"
      ]
     },
     "metadata": {},
     "output_type": "display_data"
    },
    {
     "data": {
      "application/vnd.jupyter.widget-view+json": {
       "model_id": "4bbdb28ec5dc4265ae268a4b3a5d96aa",
       "version_major": 2,
       "version_minor": 0
      },
      "text/plain": [
       "  Tokens in chunk:   0%|          | 0/452 [00:00<?, ?it/s]"
      ]
     },
     "metadata": {},
     "output_type": "display_data"
    },
    {
     "name": "stdout",
     "output_type": "stream",
     "text": [
      "Decoding done in 202.14s\n"
     ]
    }
   ],
   "source": [
    "all_rec = decode_with_soft_prompt(\n",
    "    chunk_data, model, soft_prompt_rec)"
   ]
  },
  {
   "cell_type": "code",
   "execution_count": null,
   "metadata": {
    "id": "Q5wg1OAXEIa7"
   },
   "outputs": [],
   "source": [
    "orig_ids = sum((entry['ids'].tolist() for entry in chunk_data), [])\n",
    "encoded_output = sum([entry['bits'] for entry in chunk_data], [])"
   ]
  },
  {
   "cell_type": "code",
   "execution_count": null,
   "metadata": {
    "colab": {
     "base_uri": "https://localhost:8080/"
    },
    "executionInfo": {
     "elapsed": 4,
     "status": "ok",
     "timestamp": 1751489556063,
     "user": {
      "displayName": "Yulia Yorkshirelove",
      "userId": "10480095246692972307"
     },
     "user_tz": -180
    },
    "id": "PSNGHzKYELiX",
    "outputId": "3423be54-a88e-4d4f-d6d4-bdb518572d18"
   },
   "outputs": [
    {
     "name": "stdout",
     "output_type": "stream",
     "text": [
      "✅  Совпадают полностью!\n"
     ]
    }
   ],
   "source": [
    "compare_sequences(orig_ids, all_rec)"
   ]
  },
  {
   "cell_type": "code",
   "execution_count": null,
   "metadata": {
    "colab": {
     "base_uri": "https://localhost:8080/"
    },
    "executionInfo": {
     "elapsed": 3,
     "status": "ok",
     "timestamp": 1751489556067,
     "user": {
      "displayName": "Yulia Yorkshirelove",
      "userId": "10480095246692972307"
     },
     "user_tz": -180
    },
    "id": "o_v-usO0EM4F",
    "outputId": "9a9381d0-c569-4afc-9d64-0f272fb6d959"
   },
   "outputs": [
    {
     "name": "stdout",
     "output_type": "stream",
     "text": [
      "Исходный размер:   400000 бит\n",
      "Размер после сжатия: 54156 бит\n",
      "Коэффициент сжатия: 0.1354\n"
     ]
    }
   ],
   "source": [
    "compression_stats(data, encoded_output)"
   ]
  }
 ],
 "metadata": {
  "accelerator": "GPU",
  "colab": {
   "authorship_tag": "ABX9TyPJBbKcvSvnrPPUFr7DHoCs",
   "gpuType": "T4",
   "provenance": []
  },
  "kernelspec": {
   "display_name": "Python 3",
   "name": "python3"
  },
  "language_info": {
   "name": "python"
  }
 },
 "nbformat": 4,
 "nbformat_minor": 0
}
