{
 "cells": [
  {
   "cell_type": "markdown",
   "metadata": {
    "id": "zoWCpzs3NKB1"
   },
   "source": [
    "# LLM-архиватор"
   ]
  },
  {
   "cell_type": "code",
   "execution_count": null,
   "metadata": {
    "id": "edzLZq3P2AQR"
   },
   "outputs": [],
   "source": [
    "import torch\n",
    "import numpy as np\n",
    "from transformers import AutoTokenizer, AutoModelForCausalLM, BitsAndBytesConfig\n",
    "from tqdm.notebook import tqdm\n",
    "import time\n",
    "import gc"
   ]
  },
  {
   "cell_type": "code",
   "execution_count": null,
   "metadata": {
    "id": "02pGiUrwNjC4"
   },
   "outputs": [],
   "source": [
    "def clear_memory(var_names=None):\n",
    "    if var_names is None:\n",
    "        var_names = [\n",
    "            'model','tokenizer','enc','dec','logits','probs','inp','ctx',\n",
    "            'ids','recovered_ids','all_bits','all_original_ids'\n",
    "        ]\n",
    "    for var in var_names:\n",
    "        if var in globals():\n",
    "            del globals()[var]\n",
    "    gc.collect()\n",
    "    if torch.cuda.is_available():\n",
    "        torch.cuda.empty_cache()\n",
    "        torch.cuda.ipc_collect()"
   ]
  },
  {
   "cell_type": "markdown",
   "metadata": {
    "id": "p9b6vcBzIty_"
   },
   "source": [
    "## Общие и вспомогательные функции кодирования и декодирования"
   ]
  },
  {
   "cell_type": "code",
   "execution_count": null,
   "metadata": {
    "id": "Yzg6O6Yy4DU5"
   },
   "outputs": [],
   "source": [
    "def probs_to_cdf_int(prob, total=1 << 20):\n",
    "    cdf = np.cumsum(prob, dtype=np.float64)\n",
    "    cdf_int = np.floor(cdf * total).astype(np.int64)\n",
    "    cdf_int = np.maximum.accumulate(cdf_int)\n",
    "    cdf_int = np.concatenate(([0], cdf_int))\n",
    "    cdf_int[-1] = total\n",
    "    return cdf_int"
   ]
  },
  {
   "cell_type": "code",
   "execution_count": null,
   "metadata": {
    "id": "t6gbLcKy4DfB"
   },
   "outputs": [],
   "source": [
    "class ArithmeticEncoder:\n",
    "    def __init__(self, precision=32):\n",
    "        self.precision = precision\n",
    "        self.half  = 1 << (precision - 1)\n",
    "        self.quarter = self.half >> 1\n",
    "        self.mask  = (1 << precision) - 1\n",
    "        self.low   = 0\n",
    "        self.high  = self.mask\n",
    "        self.pending = 0\n",
    "        self.out = []\n",
    "\n",
    "    def update(self, cdf_low, cdf_high, total):\n",
    "        # subdivide interval\n",
    "        rng = self.high - self.low + 1\n",
    "        self.high = self.low + (rng * cdf_high) // total - 1\n",
    "        self.low  = self.low + (rng * cdf_low)  // total\n",
    "\n",
    "        # renormalize\n",
    "        while True:\n",
    "            # E1: MSB equal\n",
    "            if self.high < self.half:\n",
    "                self._emit(0)\n",
    "            elif self.low >= self.half:\n",
    "                self._emit(1)\n",
    "                self.low  -= self.half\n",
    "                self.high -= self.half\n",
    "            # E3: underflow\n",
    "            elif self.low >= self.quarter and self.high < 3 * self.quarter:\n",
    "                self.pending += 1\n",
    "                self.low  -= self.quarter\n",
    "                self.high -= self.quarter\n",
    "            else:\n",
    "                break\n",
    "\n",
    "            # shift out\n",
    "            self.low   = (self.low   << 1) & self.mask\n",
    "            self.high  = ((self.high << 1) & self.mask) | 1\n",
    "\n",
    "    def _emit(self, bit):\n",
    "        self.out.append(bit)\n",
    "        for _ in range(self.pending):\n",
    "            self.out.append(1 - bit)\n",
    "        self.pending = 0\n",
    "\n",
    "    def finish(self):\n",
    "        self.pending += 1\n",
    "        if self.low < self.quarter:\n",
    "            self._emit(0)\n",
    "        else:\n",
    "            self._emit(1)\n",
    "        for _ in range(self.precision):\n",
    "            self.out.append((self.low >> (self.precision - 1)) & 1)\n",
    "            self.low = (self.low << 1) & self.mask"
   ]
  },
  {
   "cell_type": "code",
   "execution_count": null,
   "metadata": {
    "id": "821Tp0cD4Smx"
   },
   "outputs": [],
   "source": [
    "class ArithmeticDecoder:\n",
    "    def __init__(self, bits, precision=32):\n",
    "        self.bits = bits\n",
    "        self.precision = precision\n",
    "        self.half  = 1 << (precision - 1)\n",
    "        self.quarter = self.half >> 1\n",
    "        self.mask  = (1 << precision) - 1\n",
    "\n",
    "        self.low   = 0\n",
    "        self.high  = self.mask\n",
    "        self.value = 0\n",
    "        self.idx   = 0\n",
    "        for _ in range(precision):\n",
    "            self.value = ((self.value << 1) & self.mask) | self._read()\n",
    "\n",
    "    def _read(self):\n",
    "        if self.idx < len(self.bits):\n",
    "            b = self.bits[self.idx]\n",
    "            self.idx += 1\n",
    "            return b\n",
    "        return 0\n",
    "\n",
    "    def decode(self, cdf_int, total):\n",
    "        # find symbol\n",
    "        rng = self.high - self.low + 1\n",
    "        scaled = ((self.value - self.low + 1) * total - 1) // rng\n",
    "        symbol = np.searchsorted(cdf_int, scaled, side='right') - 1\n",
    "\n",
    "        # narrow interval\n",
    "        c_lo, c_hi = cdf_int[symbol], cdf_int[symbol+1]\n",
    "        self.high = self.low + (rng * c_hi) // total - 1\n",
    "        self.low  = self.low + (rng * c_lo) // total\n",
    "\n",
    "        # renormalize\n",
    "        while True:\n",
    "            if self.high < self.half:\n",
    "                pass\n",
    "            elif self.low >= self.half:\n",
    "                self.value -= self.half\n",
    "                self.low   -= self.half\n",
    "                self.high  -= self.half\n",
    "            elif self.low >= self.quarter and self.high < 3 * self.quarter:\n",
    "                self.value -= self.quarter\n",
    "                self.low   -= self.quarter\n",
    "                self.high  -= self.quarter\n",
    "            else:\n",
    "                break\n",
    "\n",
    "            self.low   = (self.low   << 1) & self.mask\n",
    "            self.high  = ((self.high << 1) & self.mask) | 1\n",
    "            self.value = ((self.value << 1) & self.mask) | self._read()\n",
    "\n",
    "        return symbol"
   ]
  },
  {
   "cell_type": "code",
   "execution_count": null,
   "metadata": {
    "id": "s7RSYIZ65Ud9"
   },
   "outputs": [],
   "source": [
    "device = torch.device('cuda' if torch.cuda.is_available() else 'cpu')"
   ]
  },
  {
   "cell_type": "code",
   "execution_count": null,
   "metadata": {
    "id": "R3Kelcu64UO_"
   },
   "outputs": [],
   "source": [
    "def load_model(model_name: str):\n",
    "    tokenizer = AutoTokenizer.from_pretrained(model_name)\n",
    "    model = AutoModelForCausalLM.from_pretrained(model_name)\n",
    "\n",
    "    model.eval()\n",
    "    model.to(device)\n",
    "\n",
    "    return tokenizer, model"
   ]
  },
  {
   "cell_type": "code",
   "execution_count": null,
   "metadata": {
    "id": "V8M-8Ju86Wk1"
   },
   "outputs": [],
   "source": [
    "def get_ids(size: int, tokenizer, path: str = 'enwik8') -> list[int]:\n",
    "    with open(path, 'rb') as f:\n",
    "        data = f.read(size)\n",
    "    text = data.decode('latin-1')\n",
    "    ids = tokenizer.encode(text, add_special_tokens=False)\n",
    "    return data, ids"
   ]
  },
  {
   "cell_type": "code",
   "execution_count": null,
   "metadata": {
    "id": "QJQ8Km438ADB"
   },
   "outputs": [],
   "source": [
    "def encode_ids(ids, model, total: int = 1 << 30):\n",
    "    start_time = time.perf_counter()\n",
    "    enc = ArithmeticEncoder()\n",
    "    max_len = model.config.max_position_embeddings\n",
    "\n",
    "    for i in tqdm(range(1, len(ids)), desc=\"Encoding\", unit=\"tok\"):\n",
    "        # Prepare context window\n",
    "        ctx = ids[max(0, i - max_len + 1):i]\n",
    "        inp = torch.tensor([ctx], device=device)\n",
    "\n",
    "        # Get probability distribution for next token\n",
    "        with torch.no_grad():\n",
    "            logits = model(inp).logits[0, -1]\n",
    "            probs = torch.softmax(logits, dim=-1).cpu().numpy()\n",
    "\n",
    "        # Convert to CDF and update encoder\n",
    "        cdf = probs_to_cdf_int(probs, total)\n",
    "        token_id = ids[i]\n",
    "        enc.update(cdf[token_id], cdf[token_id + 1], total)\n",
    "\n",
    "    enc.finish()\n",
    "    encoding_time = time.perf_counter() - start_time\n",
    "    print(f\"Total encoding time: {encoding_time:.2f} seconds\")\n",
    "\n",
    "    return enc.out"
   ]
  },
  {
   "cell_type": "code",
   "execution_count": null,
   "metadata": {
    "id": "qejzncQu_Sjk"
   },
   "outputs": [],
   "source": [
    "def decode_ids(enc_out, ids, model, total: int = 1 << 30):\n",
    "    start_time = time.perf_counter()\n",
    "    dec = ArithmeticDecoder(enc_out)\n",
    "    recovered = [ids[0]]\n",
    "    max_len = model.config.max_position_embeddings\n",
    "\n",
    "    for i in tqdm(range(1, len(ids)), desc=\"Decoding\", unit=\"tok\"):\n",
    "        # Собираем контекст из оригинальных ID (как в encode)\n",
    "        ctx = ids[max(0, i - max_len + 1):i]\n",
    "        inp = torch.tensor([ctx], device=device)\n",
    "\n",
    "        # Получаем предсказание распределения для следующего токена\n",
    "        with torch.no_grad():\n",
    "            logits = model(inp).logits[0, -1]\n",
    "            probs = torch.softmax(logits, dim=-1).cpu().numpy()\n",
    "\n",
    "        # Преобразуем в CDF и декодируем следующий токен\n",
    "        cdf = probs_to_cdf_int(probs, total)\n",
    "        recovered.append(dec.decode(cdf, total))\n",
    "\n",
    "    decoding_time = time.perf_counter() - start_time\n",
    "    print(f\"Total decoding time: {decoding_time:.2f} seconds\")\n",
    "\n",
    "    return recovered"
   ]
  },
  {
   "cell_type": "markdown",
   "metadata": {
    "id": "f-9ibhR-I2Ut"
   },
   "source": [
    "## Подсчет статистики и проверки корректности декодирования"
   ]
  },
  {
   "cell_type": "code",
   "execution_count": null,
   "metadata": {
    "id": "HtCXEXkbB-7V"
   },
   "outputs": [],
   "source": [
    "def compare_sequences(orig, dec):\n",
    "    for k, (o, d) in enumerate(zip(orig, dec)):\n",
    "        if o != d:\n",
    "            print(f\"Расхождение на позиции {k}: orig={o}  decoded={d}\")\n",
    "            return\n",
    "    if len(orig) != len(dec):\n",
    "        print(f\"Длины списков отличаются: orig={len(orig)}  decoded={len(dec)}\")\n",
    "        return\n",
    "    print(\"Совпадают полностью!\")"
   ]
  },
  {
   "cell_type": "code",
   "execution_count": null,
   "metadata": {
    "id": "YMyoR_lpHzaq"
   },
   "outputs": [],
   "source": [
    "def compression_stats(data: bytes, enc_out: bytes):\n",
    "    original_bits = len(data) * 8\n",
    "    compressed_bits = len(enc_out)\n",
    "    ratio = compressed_bits / original_bits\n",
    "\n",
    "    print(f\"Исходный размер:   {original_bits} бит\")\n",
    "    print(f\"Размер после сжатия: {compressed_bits} бит\")\n",
    "    print(f\"Коэффициент сжатия: {ratio:.4f}\")"
   ]
  },
  {
   "cell_type": "code",
   "execution_count": null,
   "metadata": {
    "id": "acDm5RuMMmrS"
   },
   "outputs": [],
   "source": [
    "def decode_text_from_ids(ids, tokenizer) -> str:\n",
    "    return tokenizer.decode(\n",
    "        ids,\n",
    "        clean_up_tokenization_spaces=False,\n",
    "        skip_special_tokens=False\n",
    "    )"
   ]
  },
  {
   "cell_type": "markdown",
   "metadata": {
    "id": "Si7ge4iHOxrv"
   },
   "source": [
    "## EleutherAI/pythia-70m"
   ]
  },
  {
   "cell_type": "code",
   "execution_count": null,
   "metadata": {
    "colab": {
     "base_uri": "https://localhost:8080/",
     "height": 301,
     "referenced_widgets": [
      "4b4415f2eb7b4749b30490bf04ad8053",
      "37bdccf3bb414f1a9d9d96972c9b78f5",
      "8f968cda4d4f4ac7ab26eb0c0becd436",
      "b632f12964c842c2b7ff45345b25a84c",
      "e235e13bd37141c9b34f62d1e1f08fca",
      "79da1be347954c84952db52858691181",
      "756b26b5a4bf43b9aea3deb865a7246c",
      "8da9421eddc54d8b9405070645889ac5",
      "45cb778aaf974f3f9ee7a1376d581afa",
      "822b7d600d1947c0ae26089c3356e109",
      "7c031b9f0799402084516988d0282faa",
      "f1b77d977d05452c858e165afcfaf85a",
      "1849c83433364fe88d231ac06695a8e5",
      "25116587d4f7435fa56f1fcc4612e8a4",
      "0c4e3380361240f6b9240726bdef47c1",
      "feae5849b446431fb31a34c9bd6dab32",
      "abe537a9bcf947d6b22002d3cd7b7d3d",
      "b92332efacb94baba643c2bea924dd1a",
      "14cc944856ed42d68880fae14a18c5e6",
      "b3c29d709756442ca4417e3e2d120e92",
      "9648eee800d942849060bc30ea6af3c3",
      "b9b6af6060034bc0adcbd9d71b9b144a",
      "6312fa3ada564198b95cb0baa094dc62",
      "2140de37a0ac4cb18acd96591ead6697",
      "5a46eb473bc443458480ae21e897a88d",
      "8804472d4e1745a69c4e80aca4e7f2b3",
      "9ab3cb5061324c22a109911753ee0408",
      "cbb7430312de4efd96c62621fbffcaf0",
      "82d986f52bb9469eb260ab8ce499aa0a",
      "04790926f0044a329206479cefcfdf85",
      "337d48f4c8e14e4b8f2491899c10c131",
      "831656bda4b64387bbe84bc9f9f3f7d1",
      "bf85a0aa98c84187b78a4e276b3f86fc",
      "38600f7cf4d64b8fbb443e38e44a3bcd",
      "22ac6446a446471a8d06905159053220",
      "19ba91527c924d9e99c948fe769c46cd",
      "27dd2a44b6cd4bff954569c508373441",
      "8754e16a54454c8f83bb85fe535655ab",
      "c6541fff1ad942deb1fcbf47220af168",
      "47d5d79dd3824316a220c9d88084b277",
      "dc7a112aa3b5423bbba76725669b8fdb",
      "947f949c5442455b9e18b42c0c08852e",
      "7fdf4a7f347145c48a6b7fcaba47f4dd",
      "e1af3a24855d4392be3c7f30b168038c",
      "b964075c829f4053a1bd1075ea931486",
      "9cb21b1b5270434aae0d0fa3dfaef64a",
      "5640bc3c0d4344b9831f71be4a40c9d1",
      "df3b37c408774f30a1bb488dbf106fe5",
      "910a27d9a5414237bc0e06e744b3e812",
      "aacbfba512d647a796494f42fa2cbccf",
      "01e7e97cf27e49d3ba5d9e298d5af653",
      "f18e185220424e008ef28313bc85b2a7",
      "827c4180d65f4262a4c06760c595f5f3",
      "765c02e085124584a32a29c65bd45aaf",
      "4ef06b093ff3411fa413bb3985519200"
     ]
    },
    "executionInfo": {
     "elapsed": 16387,
     "status": "ok",
     "timestamp": 1751472224137,
     "user": {
      "displayName": "Yulia Yorkshirelove",
      "userId": "10480095246692972307"
     },
     "user_tz": -180
    },
    "id": "A0x9PiC35GeN",
    "outputId": "a727db99-c009-4558-df06-0edf49aa40b7"
   },
   "outputs": [
    {
     "name": "stderr",
     "output_type": "stream",
     "text": [
      "/usr/local/lib/python3.11/dist-packages/huggingface_hub/utils/_auth.py:94: UserWarning: \n",
      "The secret `HF_TOKEN` does not exist in your Colab secrets.\n",
      "To authenticate with the Hugging Face Hub, create a token in your settings tab (https://huggingface.co/settings/tokens), set it as secret in your Google Colab and restart your session.\n",
      "You will be able to reuse this secret in all of your notebooks.\n",
      "Please note that authentication is recommended but still optional to access public models or datasets.\n",
      "  warnings.warn(\n"
     ]
    },
    {
     "data": {
      "application/vnd.jupyter.widget-view+json": {
       "model_id": "4b4415f2eb7b4749b30490bf04ad8053",
       "version_major": 2,
       "version_minor": 0
      },
      "text/plain": [
       "tokenizer_config.json:   0%|          | 0.00/396 [00:00<?, ?B/s]"
      ]
     },
     "metadata": {},
     "output_type": "display_data"
    },
    {
     "data": {
      "application/vnd.jupyter.widget-view+json": {
       "model_id": "f1b77d977d05452c858e165afcfaf85a",
       "version_major": 2,
       "version_minor": 0
      },
      "text/plain": [
       "tokenizer.json: 0.00B [00:00, ?B/s]"
      ]
     },
     "metadata": {},
     "output_type": "display_data"
    },
    {
     "data": {
      "application/vnd.jupyter.widget-view+json": {
       "model_id": "6312fa3ada564198b95cb0baa094dc62",
       "version_major": 2,
       "version_minor": 0
      },
      "text/plain": [
       "special_tokens_map.json:   0%|          | 0.00/99.0 [00:00<?, ?B/s]"
      ]
     },
     "metadata": {},
     "output_type": "display_data"
    },
    {
     "data": {
      "application/vnd.jupyter.widget-view+json": {
       "model_id": "38600f7cf4d64b8fbb443e38e44a3bcd",
       "version_major": 2,
       "version_minor": 0
      },
      "text/plain": [
       "config.json:   0%|          | 0.00/567 [00:00<?, ?B/s]"
      ]
     },
     "metadata": {},
     "output_type": "display_data"
    },
    {
     "data": {
      "application/vnd.jupyter.widget-view+json": {
       "model_id": "b964075c829f4053a1bd1075ea931486",
       "version_major": 2,
       "version_minor": 0
      },
      "text/plain": [
       "model.safetensors:   0%|          | 0.00/166M [00:00<?, ?B/s]"
      ]
     },
     "metadata": {},
     "output_type": "display_data"
    }
   ],
   "source": [
    "tokenizer, model = load_model('EleutherAI/pythia-70m')"
   ]
  },
  {
   "cell_type": "code",
   "execution_count": null,
   "metadata": {
    "id": "s3zWGT5Z7j4C"
   },
   "outputs": [],
   "source": [
    "data, ids = get_ids(50000, tokenizer)"
   ]
  },
  {
   "cell_type": "code",
   "execution_count": null,
   "metadata": {
    "colab": {
     "base_uri": "https://localhost:8080/",
     "height": 66,
     "referenced_widgets": [
      "c37071c3142d48a69243e9d6ff6e8b8b",
      "9ed831d2f3ce470d91c63914ea072a49",
      "fa8424a3415444798aac84c42a392e8a",
      "0d62b8b22cd24158addda41cb12bdd25",
      "f34bf398ff3b4749ba9b1f78d35aa5d2",
      "71c582801c3a47f7bf3963f90085ec73",
      "ed8af7e0266441d8acde161526e0f660",
      "01d63da6108846cbbeda02433d7bfb88",
      "594277b68187453b91cc0a8f1fd108df",
      "61a2c5d970b842f88c277a261c1a8626",
      "dac2b58f67634dff9836c67702f65deb"
     ]
    },
    "executionInfo": {
     "elapsed": 733695,
     "status": "ok",
     "timestamp": 1751445289561,
     "user": {
      "displayName": "Yulia Yorkshirelove",
      "userId": "10480095246692972307"
     },
     "user_tz": -180
    },
    "id": "XNHqE8Nt-d9H",
    "outputId": "c9d14ccf-6508-431a-a7ea-73b518c8be02"
   },
   "outputs": [
    {
     "data": {
      "application/vnd.jupyter.widget-view+json": {
       "model_id": "c37071c3142d48a69243e9d6ff6e8b8b",
       "version_major": 2,
       "version_minor": 0
      },
      "text/plain": [
       "Encoding:   0%|          | 0/13004 [00:00<?, ?tok/s]"
      ]
     },
     "metadata": {},
     "output_type": "display_data"
    },
    {
     "name": "stdout",
     "output_type": "stream",
     "text": [
      "Total encoding time: 733.66 seconds\n"
     ]
    }
   ],
   "source": [
    "encoded_output = encode_ids(ids, model)"
   ]
  },
  {
   "cell_type": "code",
   "execution_count": null,
   "metadata": {
    "colab": {
     "base_uri": "https://localhost:8080/",
     "height": 66,
     "referenced_widgets": [
      "80ec3e5dec5e4310a0642c4593feadf1",
      "cfa2366e67ab4f4db61ab43802a8dd69",
      "b0ceadf8b511475883f2af18b302afc3",
      "6d5a3e64848141959ad90edbecaca7bf",
      "f316b19187ee416bb8b1bdf41e9cdfab",
      "20f6505f9c224ff992ecb6cd10cb9dee",
      "910bab7394384244a95ac52170814e90",
      "ec635af48dc847aebbd874f7f9c28626",
      "252f423de70a4131b45e177ad6a98350",
      "f180850c45ca403a9adb698148a9e9ca",
      "a1b2e1622f7841b8bfa1a795eebf845a"
     ]
    },
    "executionInfo": {
     "elapsed": 731640,
     "status": "ok",
     "timestamp": 1751446311457,
     "user": {
      "displayName": "Yulia Yorkshirelove",
      "userId": "10480095246692972307"
     },
     "user_tz": -180
    },
    "id": "mvxUj-4XA4qC",
    "outputId": "10120daa-634a-4fd4-9bf0-1ffc86f84481"
   },
   "outputs": [
    {
     "data": {
      "application/vnd.jupyter.widget-view+json": {
       "model_id": "80ec3e5dec5e4310a0642c4593feadf1",
       "version_major": 2,
       "version_minor": 0
      },
      "text/plain": [
       "Decoding:   0%|          | 0/13004 [00:00<?, ?tok/s]"
      ]
     },
     "metadata": {},
     "output_type": "display_data"
    },
    {
     "name": "stdout",
     "output_type": "stream",
     "text": [
      "Total decoding time: 731.65 seconds\n"
     ]
    }
   ],
   "source": [
    "recovered_ids = decode_ids(encoded_output, ids, model)"
   ]
  },
  {
   "cell_type": "code",
   "execution_count": null,
   "metadata": {
    "colab": {
     "base_uri": "https://localhost:8080/"
    },
    "executionInfo": {
     "elapsed": 15,
     "status": "ok",
     "timestamp": 1751446311473,
     "user": {
      "displayName": "Yulia Yorkshirelove",
      "userId": "10480095246692972307"
     },
     "user_tz": -180
    },
    "id": "ZvdkgIpsCI6R",
    "outputId": "ffaab2ce-e221-4d8f-9f69-e9d062c625d9"
   },
   "outputs": [
    {
     "name": "stdout",
     "output_type": "stream",
     "text": [
      "Совпадают полностью!\n"
     ]
    }
   ],
   "source": [
    "compare_sequences(ids, recovered_ids)"
   ]
  },
  {
   "cell_type": "code",
   "execution_count": null,
   "metadata": {
    "colab": {
     "base_uri": "https://localhost:8080/"
    },
    "executionInfo": {
     "elapsed": 49,
     "status": "ok",
     "timestamp": 1751446311523,
     "user": {
      "displayName": "Yulia Yorkshirelove",
      "userId": "10480095246692972307"
     },
     "user_tz": -180
    },
    "id": "2NoNqZvRH34T",
    "outputId": "24ed7bf0-052a-4598-be0b-8968f8e5720c"
   },
   "outputs": [
    {
     "name": "stdout",
     "output_type": "stream",
     "text": [
      "Исходный размер:   400000 бит\n",
      "Размер после сжатия: 60471 бит\n",
      "Коэффициент сжатия: 0.1512\n"
     ]
    }
   ],
   "source": [
    "compression_stats(data, encoded_output)"
   ]
  },
  {
   "cell_type": "markdown",
   "metadata": {
    "id": "qE6gFQezOz30"
   },
   "source": [
    "### Разбиваем на чанки"
   ]
  },
  {
   "cell_type": "code",
   "execution_count": null,
   "metadata": {
    "id": "_LdUuTmOOKoi"
   },
   "outputs": [],
   "source": [
    "def get_data(size: int, tokenizer, path: str = 'enwik8') -> list[int]:\n",
    "    with open(path, 'rb') as f:\n",
    "        data = f.read(size)\n",
    "    text = data.decode('latin-1')\n",
    "    return data"
   ]
  },
  {
   "cell_type": "code",
   "execution_count": null,
   "metadata": {
    "id": "aXBsmonBIHfr"
   },
   "outputs": [],
   "source": [
    "def encode_chunks(data: bytes, tokenizer, model, chunk_size: int = 2000, total: int = 1 << 30):\n",
    "    chunk_data = []\n",
    "    start_time = time.perf_counter()\n",
    "\n",
    "    for start in tqdm(range(0, len(data), chunk_size), desc='Encoding chunks'):\n",
    "        chunk = data[start:start + chunk_size]\n",
    "        text  = chunk.decode('latin-1')\n",
    "        ids   = tokenizer.encode(text, add_special_tokens=False)\n",
    "\n",
    "        enc = ArithmeticEncoder()\n",
    "        max_len = model.config.max_position_embeddings\n",
    "        for i in tqdm(range(1, len(ids)), desc='  Tokens in chunk', leave=False):\n",
    "            ctx = ids[max(0, i - max_len + 1):i]\n",
    "            inp = torch.tensor([ctx], device=device)\n",
    "            with torch.no_grad():\n",
    "                logits = model(inp).logits[0, -1]\n",
    "                probs  = torch.softmax(logits, dim=-1).cpu().numpy()\n",
    "            cdf = probs_to_cdf_int(probs, total)\n",
    "            token_id = ids[i]\n",
    "            enc.update(cdf[token_id], cdf[token_id + 1], total)\n",
    "\n",
    "        enc.finish()\n",
    "        chunk_data.append({'ids': ids, 'bits': enc.out})\n",
    "\n",
    "    encoding_time = time.perf_counter() - start_time\n",
    "    print(f\"Total encoding time: {encoding_time:.2f} seconds\")\n",
    "\n",
    "    return chunk_data"
   ]
  },
  {
   "cell_type": "code",
   "execution_count": null,
   "metadata": {
    "id": "AUKFr7TrJe65"
   },
   "outputs": [],
   "source": [
    "def decode_chunks(chunk_data, model, total: int = 1 << 30):\n",
    "    start_time = time.perf_counter()\n",
    "    all_recovered_ids = []\n",
    "\n",
    "    for entry in tqdm(chunk_data, desc='Decoding chunks'):\n",
    "        ids  = entry['ids']\n",
    "        bits = entry['bits']\n",
    "        dec  = ArithmeticDecoder(bits)\n",
    "\n",
    "        # Восстанавливаем токены для текущего чанка\n",
    "        rec = [ids[0]]\n",
    "        max_len = model.config.max_position_embeddings\n",
    "        for i in tqdm(range(1, len(ids)), desc='  Tokens in chunk', leave=False):\n",
    "            ctx = rec[max(0, i - max_len + 1):i]\n",
    "            inp = torch.tensor([ctx], device=device)\n",
    "            with torch.no_grad():\n",
    "                logits = model(inp).logits[0, -1]\n",
    "                probs  = torch.softmax(logits, dim=-1).cpu().numpy()\n",
    "            cdf = probs_to_cdf_int(probs, total)\n",
    "            rec.append(dec.decode(cdf, total))\n",
    "\n",
    "        all_recovered_ids.extend(rec)\n",
    "\n",
    "    decoding_time = time.perf_counter() - start_time\n",
    "    print(f\"Total decoding time: {decoding_time:.2f} seconds\")\n",
    "\n",
    "    return all_recovered_ids"
   ]
  },
  {
   "cell_type": "code",
   "execution_count": null,
   "metadata": {
    "id": "Ll1QPlM8OQGE"
   },
   "outputs": [],
   "source": [
    "data = get_data(50000, tokenizer)"
   ]
  },
  {
   "cell_type": "code",
   "execution_count": null,
   "metadata": {
    "colab": {
     "base_uri": "https://localhost:8080/",
     "height": 66,
     "referenced_widgets": [
      "8f6b4942ddfe4360aa4b3e2340a21622",
      "490ffa689e9a483aa3571ffadcb36cd9",
      "f6195fee96e1484284494cef3d26d96b",
      "a3c04443f199472bae967cf3096b4827",
      "524b29218ee84a9c9ad6efbc1c4547af",
      "b30ab74894644ad79504138df0fba5fe",
      "201aec7d7b544f5ab7f57b8e4146201e",
      "3a6805defb8443b0a46685074ee56238",
      "2d098ba0409645f89b1f7d12e806fb13",
      "77817a689c674aa598060357714c493b",
      "45078ec016d04fd98b4300894c885183",
      "a706a1d06ec04910a00951bb18c5b5a2",
      "2812a7c0fa9045719805043631e472f2",
      "db46054f32ad4cfb9e68559a8a8070b5",
      "261bc8e0fd274dbf90088b035570fd33",
      "17107bd2782f43bf910d58c37163691e",
      "241d858779164653918a2e8cff93cf8f",
      "13136dfd3c3c4480a1e5604ad4fc7783",
      "d744242786b94ffc8db999dda9b99399",
      "6157d8f0a43b4e908aa54dc04ce85ecf",
      "0dfcd78c65d945009f69bbc520c300b0",
      "5525deba36464c6bad721a5d831313a7",
      "159bc23889d24129a48182d9df9637b8",
      "04b6a51f56ba4bc7ba9c1c8d1310ccfa",
      "8c62598d36344fd7b67e67771d97d91f",
      "4a8d1702be76488d854df7840f41081b",
      "9228fbb923064a1b8e9c8ced9b4a1ab1",
      "2e525f7115574e7998b37479241532c6",
      "943f49c17dd54c74b3fabfb78a5a0160",
      "618636a449874b428725a1ca03fa071d",
      "199958d6006942048d41d4bf81d009e1",
      "b51d64b2102846ff981e03665cf98dfd",
      "90bcfb2f72624449a46c6369bedf1c4f",
      "92239622eabd4d74a49c2add24acb47d",
      "e99b5978ad4c4fbcb738f9f4fc25b122",
      "7778570c0e65415696e39a3134b9566f",
      "35276a30f93b4347abbb573d23e7fd51",
      "b788d7bdace8443ba45adcd800c0cf67",
      "7e1bfbd7608a42329c12110361f9cb42",
      "d43b5ae2a7aa40239dcee8ad1aee8cdb",
      "cdac5f29bc344422995668a14508a6d4",
      "21ba63b8df9946178aae1b9d80ce29a5",
      "d710e80b63a6420ab9cdba6c948fbc63",
      "d38aac8bbe114cdd9688ebab3475c690",
      "585db334654f4767b271386470baf3ec",
      "df5203ed6cc94be7a062ce1f00792255",
      "d28edc36f999487a89ce8cc4b21244f7",
      "7439d9fbb1e0429ab5938ce4df871feb",
      "a1e81e3dfad04da0ae8fac7f0db964dc",
      "10f49047ed97470098f6a3a0eda446d5",
      "69678d78775b42b69270ea22c3d146e5",
      "afa687ae659a465db1ca731fc08c4f4f",
      "3c9adad173464a468f903693a0cad698",
      "0929d21ef7ef4aaca3386de13ac4b9ff",
      "a06073232cd746799e6297b09e686bf0",
      "6c68253cc2e2440a819a65cb4b4331d7",
      "ebbca882df46404a8277ff6d0a1c7920",
      "10199d7c00be4f79be22fbd157440b5a",
      "abfc018efca04ec0b88d0fdce7fccc0a",
      "f7f7453cd5e34c5bb863498e1f51fa97",
      "0cd724424c1644f9bd31d9fe5cc8271c",
      "351f730e39084e42b7dc897e26f7ef59",
      "138a7606791b48ba8a94d17a89f4d02b",
      "9cc87ceb144f474dba513b50e6ed209d",
      "bd3efb16db80458eb2b4303279f2acfe",
      "2c2481a5782b45c081924a601249209b",
      "3fd76b289ae049eeb2da58eb095f6369",
      "7e806068e2dc426abea99c5d2651f9df",
      "2ca71d31edcd4b3389fce17a5766a6b3",
      "39546851dc8e47cfa9b2893967673203",
      "f463b31e0900479fbae7a01c6db2afeb",
      "bca22c59bdbf41d8b503ff633e03184f",
      "9479616558984df4a746aaefc5b41ff5",
      "5c3d5122ef44411399439e332ed18c51",
      "8a6139702a6d4a9c8c7d5370614abdd3",
      "3635cb4dd945489a8fed06873757fc0b",
      "d28b9b38e6ba4c63bf287f146298f247",
      "2d6697f558584009b1553b5736c00e68",
      "7ef9b18a45af4ba38a29d2fc26bb80b0",
      "91855efb45584e33bc3bea783b27cb84",
      "f9d458df233944cf82129aaf61ee0094",
      "5e3196ea4b3a422eaae1908cfe60d9c7",
      "27eab74a769b425e9d32f7db7ee97d4e",
      "d89faf07b81c45b18872371260f96526",
      "5fff66a0cd3440d6b74d4811f6cfae4c",
      "2da204bc5f4f426c8afef51f366b64fd",
      "403572a070b948cb939ee5c2910ce7aa",
      "99dee759b2224622b1b5c9cb32d7b20e",
      "eb082b80fd1c4dfe8522741b8e481c3d",
      "e6b7bbb53e7d4a64bf1a55618ff4485d",
      "3194d0730c854f689a6ca6d887460f70",
      "b59caa7b330f4e05ac86d4179f61a998",
      "cb73d7b57320405c996ea3e02322ad96",
      "c8e867e9b8524593aedf24f5e67a1d97",
      "49328092938a4588aa03ff0e55380552",
      "97dce1f23cf8431f94d29cfdd4399aa7",
      "87db4b7c6bed415a97f217b6097c58bd",
      "7fb69b0f4b81451484d416b6609d1df9",
      "d1ef472863e84e68873c80d0cf621a14",
      "7487a070feb54825a544e69103702b0b",
      "6abd9ec101c7491a9181f0e2b1bcdcdd",
      "bbcc6c77feab4571bd3eb169d6ce999a",
      "1c8cb09849ae490bbadc3e88bdba6a3d",
      "780a6c0acd844f09a95d10c5e3d0819b",
      "e8cc77fc1746471e9a7f464bdc516507",
      "088b3523c24447fd8ce2e040d549c869",
      "720c4ce12867424cb63abbf818061856",
      "19b5de3605fb4895be8cf0fde7ae75b4",
      "984c183c97444484a463b711550bf0c8",
      "9b01163436984e709911f9eb1f465fe2",
      "a3da96ff0d814e1c871e8020bd302fda",
      "e5f03a3d11b04a8883e999ee9751ee21",
      "20f4079f1fbb447a902918b53962f17e",
      "bb1c74342070406db379e60031fae190",
      "a0b1332967e74fa6be1cfec493317741",
      "c2583eb3044e4d4db81c3041e6504c64",
      "990dc60da899431890aa4a6de3c4be9c",
      "897b549571d941578f9befc6a660657f",
      "7cda8e33d27d484fa6a05635135ded8f",
      "aeef0829cae047fb820e2897310d1204",
      "771d8d3031044e2aad6f6b09e43e5a1b",
      "f62d5a50b97e43f9beca44a515fa3e6a",
      "ac264a224ce9495a8f783ce9fccceb93",
      "ed752a4e3d074a1ab44daf2a9e1d04ab",
      "03afbea9c684425c9ec938cc3d1a2e7c",
      "fc59612d65f1484299bc3d2d9437e73e",
      "2526157a1b0547a9b5cb5158884d01ba",
      "684f04c2479f464ab9b632de082fefc4",
      "df0763b0a9bb445e8e7ca06753e744da",
      "46bcc4efcb2e4c94a6f93dd2f2684f22",
      "9fdadeea86d44c199b4db2ef790a5259",
      "ac725060011d4a1ba7c115ed4b56e099",
      "13b6b70a007f4412aaab1523106c1cbe",
      "640a973a455149a5ac8aa657340cdec8",
      "9855542232c0497292e0caee2d58fd1b",
      "ef2344fa5a9c40b5ae296054ff467786",
      "ecb751d468064f48bfbe2e1e370b7718",
      "b008367bd0d541239673ce833200b5e5",
      "6b89487b99c54a6185e1a52907db932b",
      "6b5db2a6164b4f8081a0fc9f0e524954",
      "f882a090dc204dd2a5b477b09850a69c",
      "26a04260ee0747358870b5657e62c87c",
      "9321330e060f451db7832323875b2ff1",
      "ab202f33008d4dc2a3563bc9fec66eb9",
      "4f012cb284bb4772be3ec8c5db2a7d84",
      "6c948e1c957245f486f8b26dd651df44",
      "73ab6a2803434a1bbe7b5e3d8db2cd67",
      "ce64e8e45be14507876ad972e98e7440",
      "b3703fd9c64f4323aec714a1d9998029",
      "15220f5403364eaa889afbb37ca57f55",
      "239c319dc98249a287e3ade7a8699063",
      "f62fc46c8c8f42c4b94f931c43654b4b",
      "469e5bf0817b40479b19c1b5998d29d8",
      "160eefb60ce547cea8b2b2eebfe6bee9",
      "8d0bb6f82f0a4f279c58e8b79f623f82",
      "a240b047d7284264974279d327d82e47",
      "b5f634025f5d46909135a21dfdb0f6b0",
      "7d1967ab06bf468896e9303f59a1fc63",
      "083fb29b49b14084a922dd79e8ff0a6a",
      "cc6a00cc0b3f47fdbd9c83c0569bfa97",
      "71c81ed2a6b443febe2f4cb0b87eb801",
      "77be350dca9f4896aa093f9e46b2d417",
      "1ef9582ea37b4b5ba9580aa3fb3f5bd5",
      "9ee47ae224b14581a64cca965955cebc",
      "da10328328774611becd597db511ce4d",
      "f3715224abee44e29cca9fc7e5de27e1",
      "7b93b24463554713b1f50569432c4eed",
      "403242294c014deb93fd28f8f1d5312b",
      "7f915f1166f649c79c46a5fd977e4b23",
      "4eb72369039a427db9aac56c68836e85",
      "79385d5c49e84789b681c90ee5d2262e",
      "1b15dc0211bd429b8ca7a0b03ffed3b1",
      "e22acf7c5f35433c83e923d643d9658c",
      "a950084477774d72ae9d341e08e0901e",
      "c92ad101ec95499296feb0eeabfe1f04",
      "046a6a4cee994e43a2d42e3137e9a392",
      "001e0bb920474da9a72c9b6191127d61",
      "17a970e1a8f24df1b5500fb803bdd400",
      "f90067f876444cf594c350068d3865ad",
      "af20046d7e204d74a4f31e68f9697aed",
      "f45fcff965ab4a1bb3f2e09e7a96c248",
      "3c9197a0e14846f4a6c60f2f4c1c8b63",
      "de3b62b07f4e471181f01795c7377344",
      "0128ad65047241d6a1d3f518cd7b2cdd",
      "de9c3430bcf44862999e714c217ca18f",
      "bf8baffd334146a499cebce114e71265",
      "d28b3441230742c2a005213f0c1cbded",
      "aaca9668258e46efba35a5163f9fd0f1",
      "b82723940f454fbbb94765554d3676ad",
      "c5e4169c022f4f5fad6e05c3a222f53f",
      "e82f46330fd845b0b930c6cc2e09b117",
      "8bbe697dc00e4ce4846f423dbdc77ccd",
      "e5a6e58bb42941b18ce6dda8300bcc65",
      "e46ab4baefb544e494ec2d326e742d42",
      "2aa842ace2ac48c9bec86005682764e5",
      "d731a54a30e14a02911ed2c8fe48460c",
      "d2500394bf644a35842c8d6e4d213f16",
      "9aa3d7a254404da2a2241dda41539017",
      "6076f7d6b21240cc8e2932877271c2a1",
      "59db26a3fefd44efbde63dfac2995568",
      "0c6c8695c47d4ce59e8b698a0d2b4e6e",
      "6d0638e0606e43ef9801e7b10317ea8d",
      "e47a829e07794d328cd6f5e4a6c727c6",
      "1f79766027d84651aafc8331f5af8772",
      "212903ca70964627b57368982d5c2ce4",
      "b8aa180747264548b21708992408baa0",
      "491222a5425c4d489735c60af7c35616",
      "09e0a31fb8fe4785be87b201249a6d35",
      "fd9fe35c7f9048a4935bfb07e862d488",
      "c58086296502451f942e37ee327548cb",
      "a1928e7ddcfc4b469fef05adf006f2c1",
      "7b3cbd6273d547d5aa53a77e284c14dc",
      "9e5d862d18f941e59748432aa8e67718",
      "710d2fca3a76437a8a6ec4f22552baa8",
      "409a95566142457aa4b9635dd102d6dc",
      "875acbe8e5a74823896fabea633ecc10",
      "44eaf5f51c95456486735984990ec446",
      "fea98ee264914fa7a0ed6fb11e5df2bc",
      "4c94bb6fac5244ec84bfbc0060405a52",
      "1f4fcce56f3e4278a086d62f8a5f2e6c",
      "9d202b3670444748a33cf51fcedb0d5b",
      "4601581550444085b80619ead4124a60",
      "7f366d052a92446a9c6262994cab4b55",
      "611fa0806056462a900afc3f5160c241",
      "3bfa8f15837d40ac86570abbc3894b4b",
      "3449e5fcba0447ca9368d98ff9aa922f",
      "32ad8202f2f642f0a2f6c74692035b42",
      "6d5b386624934fe9b092e3ec5b850baf",
      "411ff314ab194ddba09537a207c1b9bb",
      "21b0ef27121b4d60b7114b35453cde4d",
      "34893bcba765481a9a45d96eefe9d08f",
      "0de6c2a19e604606a8dd4a31c0794c04",
      "aa0a614504b4474da26c96b15ff03479",
      "7d3d1af619df455bb09d126a365840f5",
      "434e202c927a46b887f88808fafa32a8",
      "b286597b28964862b00a2d8b2dc2d594",
      "00581080a28043f3a4135c09b0230c5c",
      "a4261f6e5f7f4ae2953776fac9fd108b",
      "d148ebbd350a4f01ad7caefe876db1af",
      "57c08b92efc2467a86c8a3269c252fb8",
      "3720b49f888f45c99753a6d0dbca0712",
      "fe31e14ef85e46968e99da5b6331cba4",
      "a8bb4101939f42f5ad696c4d58d59fbe",
      "985b74617ca6444d8024846f37ee78d2",
      "3b29e536b2f7479ebfefef58311ff17b",
      "34f305a0a81841a39442f0cc03e7d183",
      "af11106edf244e57b7fe7ce16a645c61",
      "6fd9b6ff0e77406a8676bd827f06358e",
      "2c5d0118bd364e38953a595e5759d69f",
      "baa4c3b40c1948fa86bc1abb976ae6c9",
      "feec4a09ddce43a38ae32043698b9296",
      "0804194cb0b3496abc690235ab493115",
      "dcca417a9e214bb1b9599752ff63cdba",
      "ed6616a000c94532a1f18f4e01e5eecd",
      "1c5d75f8c05f45528672663428ca4630",
      "dc05b997e53141f08be288552e734ce2",
      "a5222b42ccbc49d39d1bd2e13919de9e",
      "efad2aeadd4d42d0b1ec7dc8cb0f6f3b",
      "1b9d4cdb91294358a7ef11868f06e852",
      "86d91ef6d3b844349d023c9ac22a34fe",
      "7516cc88d1804cff92542c0e74f548a8",
      "03c7ecb4919c464e9c2597eae3594c7e",
      "8abaa930d3884085817cbd04bba6e28d",
      "f366b5bc30474da6a50ffdde1c5a1dab",
      "563cb8c04c704150bcf80dd0a0f3c02d",
      "6edb5b1bfe3b4270ba6adbe10f91fe39",
      "320e5b8378a24271afe08504e15a46f7",
      "9c14a0f5670344abb098e83c82707555",
      "63c77c8e89cc49e69623dc1cd3c6178e",
      "4a2a0e5895324fbf9ea916e470c1bad3",
      "1706cbc717a94207978b179708bc0004",
      "85fe9a81efa84129b5ad1823047e7130",
      "759b71e4cca84e9c9e96106585565004",
      "900b71429bdf4fc49b4f3f62f1fb18d8",
      "a7968a8f3acc41b39d0b7694648b2047",
      "f50396cc127e4e2d937b7b43ec09976d",
      "d3216a6bc40e40c48b27a0a70666e392",
      "bde67855277d4f0e88ec077a0b383571",
      "c6bf0b8f161b4a6183779e76a9cb790e",
      "0ec3d147ca644252a307bb3190518c9a",
      "d611ba8e35044e2183db53bb5113bcb4",
      "e1aff2c367c746b5b2290ed4be28b960",
      "d79ef19b2d254967a32d90c9727483aa",
      "9bb340dd059f43cba85b9d58ef736f09",
      "a4c97b15bbac420bbeb7c08a810e1dab",
      "87aa36fb62634681a79e8c0b50e6d229"
     ]
    },
    "executionInfo": {
     "elapsed": 138175,
     "status": "ok",
     "timestamp": 1751472391588,
     "user": {
      "displayName": "Yulia Yorkshirelove",
      "userId": "10480095246692972307"
     },
     "user_tz": -180
    },
    "id": "nTT8wO8bJTjy",
    "outputId": "c8468151-67c4-456e-ea00-9da72b6ae740"
   },
   "outputs": [
    {
     "data": {
      "application/vnd.jupyter.widget-view+json": {
       "model_id": "8f6b4942ddfe4360aa4b3e2340a21622",
       "version_major": 2,
       "version_minor": 0
      },
      "text/plain": [
       "Encoding chunks:   0%|          | 0/25 [00:00<?, ?it/s]"
      ]
     },
     "metadata": {},
     "output_type": "display_data"
    },
    {
     "data": {
      "application/vnd.jupyter.widget-view+json": {
       "model_id": "a706a1d06ec04910a00951bb18c5b5a2",
       "version_major": 2,
       "version_minor": 0
      },
      "text/plain": [
       "  Tokens in chunk:   0%|          | 0/668 [00:00<?, ?it/s]"
      ]
     },
     "metadata": {},
     "output_type": "display_data"
    },
    {
     "data": {
      "application/vnd.jupyter.widget-view+json": {
       "model_id": "159bc23889d24129a48182d9df9637b8",
       "version_major": 2,
       "version_minor": 0
      },
      "text/plain": [
       "  Tokens in chunk:   0%|          | 0/732 [00:00<?, ?it/s]"
      ]
     },
     "metadata": {},
     "output_type": "display_data"
    },
    {
     "data": {
      "application/vnd.jupyter.widget-view+json": {
       "model_id": "92239622eabd4d74a49c2add24acb47d",
       "version_major": 2,
       "version_minor": 0
      },
      "text/plain": [
       "  Tokens in chunk:   0%|          | 0/572 [00:00<?, ?it/s]"
      ]
     },
     "metadata": {},
     "output_type": "display_data"
    },
    {
     "data": {
      "application/vnd.jupyter.widget-view+json": {
       "model_id": "585db334654f4767b271386470baf3ec",
       "version_major": 2,
       "version_minor": 0
      },
      "text/plain": [
       "  Tokens in chunk:   0%|          | 0/589 [00:00<?, ?it/s]"
      ]
     },
     "metadata": {},
     "output_type": "display_data"
    },
    {
     "data": {
      "application/vnd.jupyter.widget-view+json": {
       "model_id": "6c68253cc2e2440a819a65cb4b4331d7",
       "version_major": 2,
       "version_minor": 0
      },
      "text/plain": [
       "  Tokens in chunk:   0%|          | 0/577 [00:00<?, ?it/s]"
      ]
     },
     "metadata": {},
     "output_type": "display_data"
    },
    {
     "data": {
      "application/vnd.jupyter.widget-view+json": {
       "model_id": "3fd76b289ae049eeb2da58eb095f6369",
       "version_major": 2,
       "version_minor": 0
      },
      "text/plain": [
       "  Tokens in chunk:   0%|          | 0/546 [00:00<?, ?it/s]"
      ]
     },
     "metadata": {},
     "output_type": "display_data"
    },
    {
     "data": {
      "application/vnd.jupyter.widget-view+json": {
       "model_id": "2d6697f558584009b1553b5736c00e68",
       "version_major": 2,
       "version_minor": 0
      },
      "text/plain": [
       "  Tokens in chunk:   0%|          | 0/453 [00:00<?, ?it/s]"
      ]
     },
     "metadata": {},
     "output_type": "display_data"
    },
    {
     "data": {
      "application/vnd.jupyter.widget-view+json": {
       "model_id": "eb082b80fd1c4dfe8522741b8e481c3d",
       "version_major": 2,
       "version_minor": 0
      },
      "text/plain": [
       "  Tokens in chunk:   0%|          | 0/505 [00:00<?, ?it/s]"
      ]
     },
     "metadata": {},
     "output_type": "display_data"
    },
    {
     "data": {
      "application/vnd.jupyter.widget-view+json": {
       "model_id": "7487a070feb54825a544e69103702b0b",
       "version_major": 2,
       "version_minor": 0
      },
      "text/plain": [
       "  Tokens in chunk:   0%|          | 0/453 [00:00<?, ?it/s]"
      ]
     },
     "metadata": {},
     "output_type": "display_data"
    },
    {
     "data": {
      "application/vnd.jupyter.widget-view+json": {
       "model_id": "a3da96ff0d814e1c871e8020bd302fda",
       "version_major": 2,
       "version_minor": 0
      },
      "text/plain": [
       "  Tokens in chunk:   0%|          | 0/568 [00:00<?, ?it/s]"
      ]
     },
     "metadata": {},
     "output_type": "display_data"
    },
    {
     "data": {
      "application/vnd.jupyter.widget-view+json": {
       "model_id": "f62d5a50b97e43f9beca44a515fa3e6a",
       "version_major": 2,
       "version_minor": 0
      },
      "text/plain": [
       "  Tokens in chunk:   0%|          | 0/500 [00:00<?, ?it/s]"
      ]
     },
     "metadata": {},
     "output_type": "display_data"
    },
    {
     "data": {
      "application/vnd.jupyter.widget-view+json": {
       "model_id": "13b6b70a007f4412aaab1523106c1cbe",
       "version_major": 2,
       "version_minor": 0
      },
      "text/plain": [
       "  Tokens in chunk:   0%|          | 0/511 [00:00<?, ?it/s]"
      ]
     },
     "metadata": {},
     "output_type": "display_data"
    },
    {
     "data": {
      "application/vnd.jupyter.widget-view+json": {
       "model_id": "ab202f33008d4dc2a3563bc9fec66eb9",
       "version_major": 2,
       "version_minor": 0
      },
      "text/plain": [
       "  Tokens in chunk:   0%|          | 0/487 [00:00<?, ?it/s]"
      ]
     },
     "metadata": {},
     "output_type": "display_data"
    },
    {
     "data": {
      "application/vnd.jupyter.widget-view+json": {
       "model_id": "8d0bb6f82f0a4f279c58e8b79f623f82",
       "version_major": 2,
       "version_minor": 0
      },
      "text/plain": [
       "  Tokens in chunk:   0%|          | 0/456 [00:00<?, ?it/s]"
      ]
     },
     "metadata": {},
     "output_type": "display_data"
    },
    {
     "data": {
      "application/vnd.jupyter.widget-view+json": {
       "model_id": "f3715224abee44e29cca9fc7e5de27e1",
       "version_major": 2,
       "version_minor": 0
      },
      "text/plain": [
       "  Tokens in chunk:   0%|          | 0/465 [00:00<?, ?it/s]"
      ]
     },
     "metadata": {},
     "output_type": "display_data"
    },
    {
     "data": {
      "application/vnd.jupyter.widget-view+json": {
       "model_id": "001e0bb920474da9a72c9b6191127d61",
       "version_major": 2,
       "version_minor": 0
      },
      "text/plain": [
       "  Tokens in chunk:   0%|          | 0/514 [00:00<?, ?it/s]"
      ]
     },
     "metadata": {},
     "output_type": "display_data"
    },
    {
     "data": {
      "application/vnd.jupyter.widget-view+json": {
       "model_id": "aaca9668258e46efba35a5163f9fd0f1",
       "version_major": 2,
       "version_minor": 0
      },
      "text/plain": [
       "  Tokens in chunk:   0%|          | 0/426 [00:00<?, ?it/s]"
      ]
     },
     "metadata": {},
     "output_type": "display_data"
    },
    {
     "data": {
      "application/vnd.jupyter.widget-view+json": {
       "model_id": "6076f7d6b21240cc8e2932877271c2a1",
       "version_major": 2,
       "version_minor": 0
      },
      "text/plain": [
       "  Tokens in chunk:   0%|          | 0/537 [00:00<?, ?it/s]"
      ]
     },
     "metadata": {},
     "output_type": "display_data"
    },
    {
     "data": {
      "application/vnd.jupyter.widget-view+json": {
       "model_id": "c58086296502451f942e37ee327548cb",
       "version_major": 2,
       "version_minor": 0
      },
      "text/plain": [
       "  Tokens in chunk:   0%|          | 0/494 [00:00<?, ?it/s]"
      ]
     },
     "metadata": {},
     "output_type": "display_data"
    },
    {
     "data": {
      "application/vnd.jupyter.widget-view+json": {
       "model_id": "9d202b3670444748a33cf51fcedb0d5b",
       "version_major": 2,
       "version_minor": 0
      },
      "text/plain": [
       "  Tokens in chunk:   0%|          | 0/600 [00:00<?, ?it/s]"
      ]
     },
     "metadata": {},
     "output_type": "display_data"
    },
    {
     "data": {
      "application/vnd.jupyter.widget-view+json": {
       "model_id": "0de6c2a19e604606a8dd4a31c0794c04",
       "version_major": 2,
       "version_minor": 0
      },
      "text/plain": [
       "  Tokens in chunk:   0%|          | 0/473 [00:00<?, ?it/s]"
      ]
     },
     "metadata": {},
     "output_type": "display_data"
    },
    {
     "data": {
      "application/vnd.jupyter.widget-view+json": {
       "model_id": "a8bb4101939f42f5ad696c4d58d59fbe",
       "version_major": 2,
       "version_minor": 0
      },
      "text/plain": [
       "  Tokens in chunk:   0%|          | 0/494 [00:00<?, ?it/s]"
      ]
     },
     "metadata": {},
     "output_type": "display_data"
    },
    {
     "data": {
      "application/vnd.jupyter.widget-view+json": {
       "model_id": "ed6616a000c94532a1f18f4e01e5eecd",
       "version_major": 2,
       "version_minor": 0
      },
      "text/plain": [
       "  Tokens in chunk:   0%|          | 0/495 [00:00<?, ?it/s]"
      ]
     },
     "metadata": {},
     "output_type": "display_data"
    },
    {
     "data": {
      "application/vnd.jupyter.widget-view+json": {
       "model_id": "563cb8c04c704150bcf80dd0a0f3c02d",
       "version_major": 2,
       "version_minor": 0
      },
      "text/plain": [
       "  Tokens in chunk:   0%|          | 0/442 [00:00<?, ?it/s]"
      ]
     },
     "metadata": {},
     "output_type": "display_data"
    },
    {
     "data": {
      "application/vnd.jupyter.widget-view+json": {
       "model_id": "f50396cc127e4e2d937b7b43ec09976d",
       "version_major": 2,
       "version_minor": 0
      },
      "text/plain": [
       "  Tokens in chunk:   0%|          | 0/452 [00:00<?, ?it/s]"
      ]
     },
     "metadata": {},
     "output_type": "display_data"
    },
    {
     "name": "stdout",
     "output_type": "stream",
     "text": [
      "Total encoding time: 138.17 seconds\n"
     ]
    }
   ],
   "source": [
    "chunk_data = encode_chunks(data, tokenizer, model)"
   ]
  },
  {
   "cell_type": "code",
   "execution_count": null,
   "metadata": {
    "colab": {
     "base_uri": "https://localhost:8080/",
     "height": 66,
     "referenced_widgets": [
      "e8db58ba87814d08ab4f24b9f5e0fd59",
      "f755c5448dcd4d48b464f682d9083e92",
      "b5388368b6614ceeba6ef742519d837b",
      "9244b9e47b4348dfbedc41303a21be3b",
      "78c3a0fe75bb43859a1a9064259ec9f2",
      "4a508c30b7b54790b7f540d18d9009d7",
      "84ed1823905941de950e9d8d5e9fb8ee",
      "fdc094050395421e94cc8af97bf8651c",
      "9cbc8e8d07074d048203f389245eb23c",
      "a64d2b4450954591ae506ecaaa7011f5",
      "4d031701d4f84d09b5da74033adee499",
      "0f7a6878938e4d1e9a22ce6636af968b",
      "dbbe6497a1244acc9bd17759c7e4bcad",
      "68b71d0302b54ccbb0a704f3ebda4467",
      "4a34b78358184db0b8923c8d343bd150",
      "3894695739b04934bdd8641fdf45c2bd",
      "d64ff83ba73c45c6afe1b509217ad110",
      "427ba95a9a24497898fd1726e52e37a8",
      "964e614ce25d41cdb5ee18d7c3beec1c",
      "90548ed5e9ba4b9eb0d53748002cd346",
      "c846b716378b4b6a8a8d7e0fe226e199",
      "806f1113de5d4dfb93173a29581db854",
      "6962d0df098b4c7d8503dd1d907eb904",
      "a38c7f084a094382882ae21aa2886595",
      "c28e2497f4cc40e38664ff4a183a0d40",
      "6ef03db6073b4d169435640ebcd5c6ee",
      "283c776ce2a94e558df5ad5b4b571353",
      "ffde9c0de97a418d91dd8438c90847d5",
      "3a7f2aa9ed4c412e82159e2986092e76",
      "f9520d56b81447d6a7257f3278c0518a",
      "92a043f070c34c558d9b64d7fb47bc0b",
      "7616d8e606434770bc3dd42c0e06e23e",
      "240ff249d64d4402bf8781d533747618",
      "b3ad0c105a624da0a054d7865c7bfbe6",
      "a2dedd7da5914e61af01e0bd26e98c28",
      "0c794f1efcb744bd981baa4620716da1",
      "40cf25dde3304f53a9c931b79294f0b6",
      "978bc7cd52444afb9ec8813731ffd760",
      "f7bd46788c2646438b365bab68b08455",
      "acf8ebcee6d040b2b0b7ffbb4d19a5e9",
      "e1cb572961d941a0b94c2c1337f0595b",
      "eb0577c0342948eab5c525b3657a7382",
      "8c165a4a4ab44dc29867679e5016f8c7",
      "34a847efc49f4714968b560420f43165",
      "433f8946f2e748acaf637239ab86dae0",
      "6a15fa3917744b55a868d9954dd14087",
      "5a7c1a3824f449e99180dcaa9b509e7b",
      "0e70ebe16f7a47309d0ae0514c951821",
      "839a8797a68b4d1aa12dda4e1fe91d30",
      "4ddbf7224eef40a78465dd0477c0bf6c",
      "0dc393659537485cad7cb92af1e30764",
      "17a1355647de4b23acc699d9ab0ee0b9",
      "40e8b702653a4cda884c157b55330ccc",
      "d13368b74bd242bcb2cf4fc720ae2c04",
      "83dda1c5e9974a1ea4d34bc55adaa4b0",
      "a75d427372a74f6994bda29584677784",
      "8574ddb482d34e99a014de52ccff321f",
      "7e2d84f00ce34590ad5cc76166e5a2af",
      "a3261784858c4dfa86d92807c3c2728f",
      "db28a2c7e6584d9cafa56a95e0a8e8f6",
      "15a607127f8648b4b4e6db1d6f7ae83b",
      "8c75965887584da7970c5390c90dab6c",
      "6e3bc2a820d6452b8a568673863fdfd7",
      "adff6d7a37da409ebfbbc89c87ae2cb8",
      "5ad7541e6a0a439aa0766af4ec5502da",
      "717985e55ab6426ebf825dd2a60e0a7f",
      "93cf836f41cd4d4599898f84cd860364",
      "1f988384b87d4496af0b101fcd063ec1",
      "4a824cce72784bc0a10cd48c1f7a90ec",
      "129a4885e30548fe9640a941e9675af7",
      "a19730a311c5480f9aae0302f1c9a71d",
      "ab37349fea994ec392ad934795bebe3d",
      "6e490fa930a345db927a917617749a0b",
      "37e240ee2a4d4d9aba29f3c99bd70ce8",
      "c235d70dee0f4a2eae653244638e5bfc",
      "4a52432d76ad45e1a7c2c1870fca318b",
      "822047c8eceb4360b9a26c7ac1b2441a",
      "58cfed319f544059b4788193b4be25a4",
      "6857eac1e27e4426a62c9469a053154f",
      "d5323f5be2834270a3632fc43a505af0",
      "63b77ec5ce74451fba0bd2dff9186ed7",
      "6c22367d2b064e45ab9b4ff0c44b8c7f",
      "d6cb4a4bee704471acab81d6d3ce14f0",
      "94f32118c20244f199842e291d9b25f5",
      "9842fb605383469da659632c1bc84ff2",
      "a4f1845d24c34c2ca2867984dc8e9a0c",
      "def558c50d4f4ca2a3964785103faf62",
      "7d2327d1ff584eb584a6c68829573d55",
      "9f69fa1c5e614a8d9cf928d8e833978e",
      "386069820f994c34a4d5969930c5809a",
      "ece5bc11f3014e1dacba6a50ffc7e485",
      "49c73fe6c4ac4581a855b32a2558e538",
      "44030027030f4ac2af445871128e8ddb",
      "2a0f3a7aca0e48f7a11e4650973dc12b",
      "f47d6e3975464d5c92fbc17cc12f4547",
      "84a55a6bc95c469bb416dd6361eb48b0",
      "e0c50044e95a4972825f7d50b1452210",
      "662608e5c45f422f93cbc897fc5ad0db",
      "f88878357b81442a9adb3e556a792e87",
      "30df59eee4b54caea54c372cc375bc57",
      "860e7e0f7db74e279eeee61ee623c56e",
      "e7c1525cf744447d8f3d2ca41c30d567",
      "a0112e476a364c5c904f351b00d3535d",
      "0166bac6e2d44c9e8d1cee20494b7fab",
      "3419b5c7367447fba13bcefc413b8bd9",
      "6486699a919c4a1d98cb38c8336598bd",
      "8a2ff082ec4b47e2a5edebb1c7f48dd9",
      "8225367bbef344219cc248e3ab196c33",
      "b212ba97e7f549508495f35092bba010",
      "5b287aa72df14e75a97fcfab37ee31e5",
      "0d5c55dc851f4292bf1a981b25b2c11d",
      "110f2558ef2945a1b7a718601e061494",
      "4185eb9bd0914bb484d568c8ba9895df",
      "1243f6337c124b4a8eba4c028f0b8dd0",
      "6468edd78aaa4ad49a38f9d2dbf53108",
      "9290f666e6234532978e88589d6e1596",
      "5e699043a1bb4a15b253a1e2bde20a43",
      "455584c0d27f44a086386bc194b86fa9",
      "9a23f90841624fb8bcc6183fe0994ed6",
      "9d6a599a24314f02a5f766e8b738a556",
      "cbd5b3b62cb2469b8aafac5191e514ad",
      "f5bb3066af2547b6aac5a63b7e72073f",
      "27746e00f249470aa2e028bb40106972",
      "98ef27468eaa4d8abdca044e849c3695",
      "8c9effeec0b941a79704253f04be9382",
      "dde91b7cc21e4c55a8b877ae9d515041",
      "15669b15cbbf4c78a1894c14a5570582",
      "7f3c83a17997497f8fc7a23c187f2119",
      "784bdcfcc20a4d2d9c7a5be915bcc9be",
      "f2c75887a3e64ead83be1209ed96620c",
      "4104f7ed4b8b4d5b8128b39cad98b44c",
      "d4cacaf7e342482ca3a95e1af12e91b9",
      "68164b4e042a473f935136f64901fdff",
      "c6f6431774f040bebf32705115141bc8",
      "589c7c430f444e4f94ce9dd084743ea5",
      "c83f8aa9efdf4a7cb7c7615b5a9892c7",
      "0a597895584741aea6a192da24b47dec",
      "089177f1d769466f82017f86abaa613d",
      "695e773868a94ec1addc9fb7bc091e53",
      "3cda2fb5dce148fba3ff127e6ccc22d6",
      "dc348eacd64049529381e84eacaa21f7",
      "aa0ed8d0ab43403d8d79b9c4ef09c270",
      "979422ee6cd84c81aa995348e9c91111",
      "a68351dd4cd34c73aea1237139fabfc8",
      "2d0877252bd54b5b8add210a5dcd3e7a",
      "cacb189ce3d546808373902be85f0533",
      "9f67c4479e6b446fbdc16703ed9e723c",
      "bc14101010924e85b6fd568e8962c838",
      "d83b33e983e846b78842f62716819b55",
      "a6d14c5749cc41db8b23691743e8304b",
      "f6d8c2edda1147159c9f67ca20b8cbc5",
      "f7a84ff0e3d848f38e16dc796381724b",
      "704f66ec418b472c8d0608e8ae5ac88c",
      "4474259e2c08474eb9cbf825d2c10607",
      "a127e0be6b524b54860d66e90e965e71",
      "78bb6a14c0d04a049c2401bbcb68c55f",
      "0bdd1fbf9d2f4ec28dd83867074b1e82",
      "46badb4254004717b7c9c639fb57b5fa",
      "3158e68a9d724336adc98194ff1583b1",
      "40262cd3746e42749ba5cdb88ad82bec",
      "053ee193a42548388f4ea63420521b7d",
      "6cea7dd4cc7a47d8ba371fb6f32cacd1",
      "19b204c912e447ac83ce76e937435fcd",
      "bac4d2385b2a469b98e13a2830fc3616",
      "0281ff13c1d94c0d8887490721445366",
      "ae1e4be4fbe64f0bbb07fbd42e508a68",
      "98ff5080c34340a89b0f40141af667b2",
      "3c519fd0f35f4961a814fdae15194360",
      "3462172f6dcd4ba5ad0fa97e10d66b72",
      "72b7d0b0ec524487ba72bea313cd55a7",
      "96cf54c4a7e14c6d896e70e38efc8497",
      "30356c4e0b2c435faeda4cab825c33f6",
      "b67a6d9431274f9abd4d215cd3e83895",
      "e413a72685e7487487355c8d735d54ab",
      "47303a3724344e10af79e0c8300bb57b",
      "010bac92696a474ca2107fbd82021e50",
      "2ae280c59e0e4051a84944033101e38b",
      "ec10430a89e04301bd557c609893e4b5",
      "6943d3efa3384cbfa9de2492c0abeb4c",
      "a5bbcd0b479c4cf08da2514283f08c78",
      "af4b73310972452499d6c91f2d1368be",
      "9f918774cf264a8aa5ca2a7825633b5f",
      "5f8f5af543f34e3caa18b091a5f6ab3d",
      "96d9d93dddc8418498f283bc8d951ef2",
      "6b87b92761ca45579326175b1b95c574",
      "ad5df1a05db144c8b546e72562c35d4a",
      "c454a877b0c2407d9c96ebcb09d58217",
      "cd179f2ec5544b48bbb381281de0c8d5",
      "04079713071b440ab9387705c88ca7f7",
      "cffb929c3c994338b77c726659f3c5ef",
      "700708000240421aab5bd9f4dd5361d1",
      "bc1bb88219c84002830c4e35da8d89a1",
      "8faa7b566a3c4d3093cd8c078868473c",
      "0c123c34a7f148a2b64c06ad20a0b81b",
      "03803f78abfd42e08fbef6e267105783",
      "e1949b3dcff1472982fe28d871d5d310",
      "1416f467d16a40b88c0cd5199f1a96cc",
      "f5e4851456c34e63a3c1ec437ceb394c",
      "0a0952d0221a496786ff41c60c4fbdcd",
      "f36829b63ef6469ba6fc98ff15168c03",
      "cb856f2294fc4f0cb1a70a06d82d159d",
      "8e2b58e9a9e3475097d3e70af512dede",
      "f328fc2cdce444448ae512716ecac666",
      "12798f0ae65542998f521e95a7e343e6",
      "e37afc53f8164ac19aa2c1561a5b2f24",
      "78d5296c53554af0977d5d09b3100b3b",
      "55a5b00839134534a9f903fc660ae288",
      "04f527059575415d8b0ab0b63b723efd",
      "9124ffb63cbf4dd297866b7a3035be27",
      "44b151596b30429cb2d38621a6683e29",
      "72cc6048c3c14f21be175df0df6f646b",
      "dd4f092c67c84819ab8665c1fa8fbaa8",
      "f19e0e9ddae043978e8ca73b873fe0ce",
      "54b6e9aae00f403896e2111a51de103f",
      "4eb6ec8bac94436999dff64612e13f53",
      "950198fe3d4c4fef83eec3a80d9b3a66",
      "504a3569c7f144e5a48723ad885f421e",
      "e08f98b611b14e49a86c5ef35d548aa9",
      "a0f90ef7d06148ca9a3217410dafa53c",
      "100f8a6d613b4c9e89b3739e4c85a5c6",
      "c43f9e6f382b4789bca1dd67d8a9fd82",
      "5347afe0bf6f4660b04cc1427bf30f85",
      "fca5769823a9405da0cf64572e1bbdd5",
      "ff8e4e0e381a4e42a7c5bfe64d73b199",
      "4c76cf485f2f41ada4b1f9887dbd25ab",
      "bbd5164ddc834ceba0efec9fe83f331c",
      "8b2d62d03b6d4a46958c2076b73346e9",
      "b5e2528a390847e3b14741f260965017",
      "9cc59400f35d412ba634fb1e3a2e3232",
      "d8ab1896de084320a700753dff907a5e",
      "56b8cce335ef435383290cf97737b651",
      "841fbd5c5d14498d997f66519edc3301",
      "d0acf2666b92446d8061cb6718eb5755",
      "0933ad18a67145a49a423185a7d70d53",
      "d731699e5b12413aa9ef17835b20efca",
      "7c830a5531c34edb8dce87ec1f4c09d9",
      "5dd11a5ff367484b87aa25a3b123ad13",
      "5d038e662bad49f6aa90df5759d4516a",
      "355ae0fb4aa348cfaf751e1512ba4aee",
      "b30576e153af4d6f85cefdd5b63d53c2",
      "5bfd6a9448034f42a13a34e0f036848d",
      "ac51d40e69b5496881b9ed0c1f730a1e",
      "845609f6f6a94c09b1cf6fdb8153547b",
      "c0ccfd3c1906461bb6ffe7900bf78935",
      "45d1eca8dad941e9897156f9a9ccec69",
      "2ff392b61cf547a3b43fcae99d8869dc",
      "6daa030bc30d48f09e960019ab68c3a5",
      "7e71d9258b7641e18593f0affcf64b62",
      "ff9ad3b92e8446e1aa4e827bf6e64827",
      "e7734479c57241179edea70e1deabaa1",
      "3e19f2185ecd440abab1768c40428821",
      "a1b4097161ce4097abd53d2bcee97d40",
      "fa36727a3ea149e28f79cf8120c71a6e",
      "818a474685844f05aab7c1117cbb0278",
      "979c400794024ce0a113dd4edefadebb",
      "81fc89fe3d4e44c2889de879b24d5e67",
      "c5ab612b44d94a368efe5eccffc10ff5",
      "6268bb771fe9498f9147e652260e5453",
      "1fa5ae05290f45c3a65b3f94625d53ce",
      "7cbf307c2bcc4ea292bcdc27721cea62",
      "1342cfc56831407abf4645c32be522fe",
      "2d3cf0828ba448f397139a274c61fd17",
      "5ea66334985040918735ea3c04ae3226",
      "bc24067801444223ad2336458a9b3315",
      "4ea102d4571747f6bbc374fdf87a43fa",
      "9f6fb0761aed43f6abcc1a680f715de2",
      "9a8d287f49d14409b385f0044a69944d",
      "a7560537ce8c456cb03486a98530c55a",
      "25b5a65f73854313b5f208a8adcf8595",
      "b8b498f1fa384f6d90a92e0baa4239f7",
      "4a7237f927c94ae09de17dec1d49fd79",
      "2609f7c270ea4001b656277419ba3c92",
      "b88eff5d290c4bddbc2d9e1e27bf061a",
      "cf0b1cc1c7264c8daaebdf5a854ed761",
      "f986ca94d3714e629fe34f890856b3f3",
      "7b57d7ed8d774c94bb50d9ce5e0eefcf",
      "74e7f6383a4a4a45b05185e9c512c400",
      "6e7a98d9098340918c531bf176ab46cd",
      "ae1cf55a199245c9af4552bd81c585bd",
      "4b1ea13bafda4dde9bac03541dd08130",
      "d457cf0df4d944e69b9a7c1c95d4289d",
      "4250d657091b4af0ad87816ae3488367",
      "599764675c63481caf3bace0573220b6",
      "9a33d968d6484f29be1402bdf3c276fa",
      "865253004aa04487b4d40010bd440d44",
      "a9d33cc8fd8a4ddaac82b15746241d42"
     ]
    },
    "executionInfo": {
     "elapsed": 152373,
     "status": "ok",
     "timestamp": 1751472543984,
     "user": {
      "displayName": "Yulia Yorkshirelove",
      "userId": "10480095246692972307"
     },
     "user_tz": -180
    },
    "id": "gx2iNoaDKUPL",
    "outputId": "f6a561f5-b47b-417a-d224-8e76988cf70f"
   },
   "outputs": [
    {
     "data": {
      "application/vnd.jupyter.widget-view+json": {
       "model_id": "e8db58ba87814d08ab4f24b9f5e0fd59",
       "version_major": 2,
       "version_minor": 0
      },
      "text/plain": [
       "Decoding chunks:   0%|          | 0/25 [00:00<?, ?it/s]"
      ]
     },
     "metadata": {},
     "output_type": "display_data"
    },
    {
     "data": {
      "application/vnd.jupyter.widget-view+json": {
       "model_id": "0f7a6878938e4d1e9a22ce6636af968b",
       "version_major": 2,
       "version_minor": 0
      },
      "text/plain": [
       "  Tokens in chunk:   0%|          | 0/668 [00:00<?, ?it/s]"
      ]
     },
     "metadata": {},
     "output_type": "display_data"
    },
    {
     "data": {
      "application/vnd.jupyter.widget-view+json": {
       "model_id": "6962d0df098b4c7d8503dd1d907eb904",
       "version_major": 2,
       "version_minor": 0
      },
      "text/plain": [
       "  Tokens in chunk:   0%|          | 0/732 [00:00<?, ?it/s]"
      ]
     },
     "metadata": {},
     "output_type": "display_data"
    },
    {
     "data": {
      "application/vnd.jupyter.widget-view+json": {
       "model_id": "b3ad0c105a624da0a054d7865c7bfbe6",
       "version_major": 2,
       "version_minor": 0
      },
      "text/plain": [
       "  Tokens in chunk:   0%|          | 0/572 [00:00<?, ?it/s]"
      ]
     },
     "metadata": {},
     "output_type": "display_data"
    },
    {
     "data": {
      "application/vnd.jupyter.widget-view+json": {
       "model_id": "433f8946f2e748acaf637239ab86dae0",
       "version_major": 2,
       "version_minor": 0
      },
      "text/plain": [
       "  Tokens in chunk:   0%|          | 0/589 [00:00<?, ?it/s]"
      ]
     },
     "metadata": {},
     "output_type": "display_data"
    },
    {
     "data": {
      "application/vnd.jupyter.widget-view+json": {
       "model_id": "a75d427372a74f6994bda29584677784",
       "version_major": 2,
       "version_minor": 0
      },
      "text/plain": [
       "  Tokens in chunk:   0%|          | 0/577 [00:00<?, ?it/s]"
      ]
     },
     "metadata": {},
     "output_type": "display_data"
    },
    {
     "data": {
      "application/vnd.jupyter.widget-view+json": {
       "model_id": "93cf836f41cd4d4599898f84cd860364",
       "version_major": 2,
       "version_minor": 0
      },
      "text/plain": [
       "  Tokens in chunk:   0%|          | 0/546 [00:00<?, ?it/s]"
      ]
     },
     "metadata": {},
     "output_type": "display_data"
    },
    {
     "data": {
      "application/vnd.jupyter.widget-view+json": {
       "model_id": "58cfed319f544059b4788193b4be25a4",
       "version_major": 2,
       "version_minor": 0
      },
      "text/plain": [
       "  Tokens in chunk:   0%|          | 0/453 [00:00<?, ?it/s]"
      ]
     },
     "metadata": {},
     "output_type": "display_data"
    },
    {
     "data": {
      "application/vnd.jupyter.widget-view+json": {
       "model_id": "9f69fa1c5e614a8d9cf928d8e833978e",
       "version_major": 2,
       "version_minor": 0
      },
      "text/plain": [
       "  Tokens in chunk:   0%|          | 0/505 [00:00<?, ?it/s]"
      ]
     },
     "metadata": {},
     "output_type": "display_data"
    },
    {
     "data": {
      "application/vnd.jupyter.widget-view+json": {
       "model_id": "30df59eee4b54caea54c372cc375bc57",
       "version_major": 2,
       "version_minor": 0
      },
      "text/plain": [
       "  Tokens in chunk:   0%|          | 0/453 [00:00<?, ?it/s]"
      ]
     },
     "metadata": {},
     "output_type": "display_data"
    },
    {
     "data": {
      "application/vnd.jupyter.widget-view+json": {
       "model_id": "0d5c55dc851f4292bf1a981b25b2c11d",
       "version_major": 2,
       "version_minor": 0
      },
      "text/plain": [
       "  Tokens in chunk:   0%|          | 0/568 [00:00<?, ?it/s]"
      ]
     },
     "metadata": {},
     "output_type": "display_data"
    },
    {
     "data": {
      "application/vnd.jupyter.widget-view+json": {
       "model_id": "f5bb3066af2547b6aac5a63b7e72073f",
       "version_major": 2,
       "version_minor": 0
      },
      "text/plain": [
       "  Tokens in chunk:   0%|          | 0/500 [00:00<?, ?it/s]"
      ]
     },
     "metadata": {},
     "output_type": "display_data"
    },
    {
     "data": {
      "application/vnd.jupyter.widget-view+json": {
       "model_id": "68164b4e042a473f935136f64901fdff",
       "version_major": 2,
       "version_minor": 0
      },
      "text/plain": [
       "  Tokens in chunk:   0%|          | 0/511 [00:00<?, ?it/s]"
      ]
     },
     "metadata": {},
     "output_type": "display_data"
    },
    {
     "data": {
      "application/vnd.jupyter.widget-view+json": {
       "model_id": "a68351dd4cd34c73aea1237139fabfc8",
       "version_major": 2,
       "version_minor": 0
      },
      "text/plain": [
       "  Tokens in chunk:   0%|          | 0/487 [00:00<?, ?it/s]"
      ]
     },
     "metadata": {},
     "output_type": "display_data"
    },
    {
     "data": {
      "application/vnd.jupyter.widget-view+json": {
       "model_id": "a127e0be6b524b54860d66e90e965e71",
       "version_major": 2,
       "version_minor": 0
      },
      "text/plain": [
       "  Tokens in chunk:   0%|          | 0/456 [00:00<?, ?it/s]"
      ]
     },
     "metadata": {},
     "output_type": "display_data"
    },
    {
     "data": {
      "application/vnd.jupyter.widget-view+json": {
       "model_id": "ae1e4be4fbe64f0bbb07fbd42e508a68",
       "version_major": 2,
       "version_minor": 0
      },
      "text/plain": [
       "  Tokens in chunk:   0%|          | 0/465 [00:00<?, ?it/s]"
      ]
     },
     "metadata": {},
     "output_type": "display_data"
    },
    {
     "data": {
      "application/vnd.jupyter.widget-view+json": {
       "model_id": "2ae280c59e0e4051a84944033101e38b",
       "version_major": 2,
       "version_minor": 0
      },
      "text/plain": [
       "  Tokens in chunk:   0%|          | 0/514 [00:00<?, ?it/s]"
      ]
     },
     "metadata": {},
     "output_type": "display_data"
    },
    {
     "data": {
      "application/vnd.jupyter.widget-view+json": {
       "model_id": "cd179f2ec5544b48bbb381281de0c8d5",
       "version_major": 2,
       "version_minor": 0
      },
      "text/plain": [
       "  Tokens in chunk:   0%|          | 0/426 [00:00<?, ?it/s]"
      ]
     },
     "metadata": {},
     "output_type": "display_data"
    },
    {
     "data": {
      "application/vnd.jupyter.widget-view+json": {
       "model_id": "0a0952d0221a496786ff41c60c4fbdcd",
       "version_major": 2,
       "version_minor": 0
      },
      "text/plain": [
       "  Tokens in chunk:   0%|          | 0/537 [00:00<?, ?it/s]"
      ]
     },
     "metadata": {},
     "output_type": "display_data"
    },
    {
     "data": {
      "application/vnd.jupyter.widget-view+json": {
       "model_id": "44b151596b30429cb2d38621a6683e29",
       "version_major": 2,
       "version_minor": 0
      },
      "text/plain": [
       "  Tokens in chunk:   0%|          | 0/494 [00:00<?, ?it/s]"
      ]
     },
     "metadata": {},
     "output_type": "display_data"
    },
    {
     "data": {
      "application/vnd.jupyter.widget-view+json": {
       "model_id": "c43f9e6f382b4789bca1dd67d8a9fd82",
       "version_major": 2,
       "version_minor": 0
      },
      "text/plain": [
       "  Tokens in chunk:   0%|          | 0/600 [00:00<?, ?it/s]"
      ]
     },
     "metadata": {},
     "output_type": "display_data"
    },
    {
     "data": {
      "application/vnd.jupyter.widget-view+json": {
       "model_id": "841fbd5c5d14498d997f66519edc3301",
       "version_major": 2,
       "version_minor": 0
      },
      "text/plain": [
       "  Tokens in chunk:   0%|          | 0/473 [00:00<?, ?it/s]"
      ]
     },
     "metadata": {},
     "output_type": "display_data"
    },
    {
     "data": {
      "application/vnd.jupyter.widget-view+json": {
       "model_id": "845609f6f6a94c09b1cf6fdb8153547b",
       "version_major": 2,
       "version_minor": 0
      },
      "text/plain": [
       "  Tokens in chunk:   0%|          | 0/494 [00:00<?, ?it/s]"
      ]
     },
     "metadata": {},
     "output_type": "display_data"
    },
    {
     "data": {
      "application/vnd.jupyter.widget-view+json": {
       "model_id": "818a474685844f05aab7c1117cbb0278",
       "version_major": 2,
       "version_minor": 0
      },
      "text/plain": [
       "  Tokens in chunk:   0%|          | 0/495 [00:00<?, ?it/s]"
      ]
     },
     "metadata": {},
     "output_type": "display_data"
    },
    {
     "data": {
      "application/vnd.jupyter.widget-view+json": {
       "model_id": "4ea102d4571747f6bbc374fdf87a43fa",
       "version_major": 2,
       "version_minor": 0
      },
      "text/plain": [
       "  Tokens in chunk:   0%|          | 0/442 [00:00<?, ?it/s]"
      ]
     },
     "metadata": {},
     "output_type": "display_data"
    },
    {
     "data": {
      "application/vnd.jupyter.widget-view+json": {
       "model_id": "7b57d7ed8d774c94bb50d9ce5e0eefcf",
       "version_major": 2,
       "version_minor": 0
      },
      "text/plain": [
       "  Tokens in chunk:   0%|          | 0/452 [00:00<?, ?it/s]"
      ]
     },
     "metadata": {},
     "output_type": "display_data"
    },
    {
     "name": "stdout",
     "output_type": "stream",
     "text": [
      "Total decoding time: 152.33 seconds\n"
     ]
    }
   ],
   "source": [
    "recovered_ids = decode_chunks(chunk_data, model)"
   ]
  },
  {
   "cell_type": "code",
   "execution_count": null,
   "metadata": {
    "id": "m6VFZS4HK3-6"
   },
   "outputs": [],
   "source": [
    "orig_ids = sum([entry['ids'] for entry in chunk_data], [])\n",
    "encoded_output = sum([entry['bits'] for entry in chunk_data], [])"
   ]
  },
  {
   "cell_type": "code",
   "execution_count": null,
   "metadata": {
    "colab": {
     "base_uri": "https://localhost:8080/"
    },
    "executionInfo": {
     "elapsed": 4,
     "status": "ok",
     "timestamp": 1751472544007,
     "user": {
      "displayName": "Yulia Yorkshirelove",
      "userId": "10480095246692972307"
     },
     "user_tz": -180
    },
    "id": "UYfgjfpQKsfi",
    "outputId": "cd546e1b-2aa4-406e-8fe3-a42f5945c39a"
   },
   "outputs": [
    {
     "name": "stdout",
     "output_type": "stream",
     "text": [
      "Совпадают полностью!\n"
     ]
    }
   ],
   "source": [
    "compare_sequences(orig_ids, recovered_ids)"
   ]
  },
  {
   "cell_type": "code",
   "execution_count": null,
   "metadata": {
    "colab": {
     "base_uri": "https://localhost:8080/"
    },
    "executionInfo": {
     "elapsed": 14,
     "status": "ok",
     "timestamp": 1751472544021,
     "user": {
      "displayName": "Yulia Yorkshirelove",
      "userId": "10480095246692972307"
     },
     "user_tz": -180
    },
    "id": "QF95fr92LuSp",
    "outputId": "ebd823ae-79af-460e-ff6a-24994fcedfdb"
   },
   "outputs": [
    {
     "name": "stdout",
     "output_type": "stream",
     "text": [
      "Исходный размер:   400000 бит\n",
      "Размер после сжатия: 66303 бит\n",
      "Коэффициент сжатия: 0.1658\n"
     ]
    }
   ],
   "source": [
    "compression_stats(data, encoded_output)"
   ]
  },
  {
   "cell_type": "code",
   "execution_count": null,
   "metadata": {
    "id": "_lQZFDZPMWR_"
   },
   "outputs": [],
   "source": [
    "recovered_text = decode_text_from_ids(recovered_ids, tokenizer)"
   ]
  },
  {
   "cell_type": "markdown",
   "metadata": {
    "id": "iTOPXuR-PNAx"
   },
   "source": [
    "## EleutherAI/pythia-160m"
   ]
  },
  {
   "cell_type": "code",
   "execution_count": null,
   "metadata": {
    "id": "JtQpa3P7PNAy"
   },
   "outputs": [],
   "source": [
    "clear_memory()"
   ]
  },
  {
   "cell_type": "code",
   "execution_count": null,
   "metadata": {
    "colab": {
     "base_uri": "https://localhost:8080/",
     "height": 177,
     "referenced_widgets": [
      "21a6820762d444648d6fc2c504202f78",
      "ace262822665419490ae2f810c993415",
      "78e8cbd5f5a94de39b957f69f40c8bda",
      "6b6adf18a022404ebab51cb8d0769bd1",
      "0cb924c733544810a7fe5a3e8ff0748f",
      "171389ab3f0a46518e6ec4c3f572e703",
      "71981b181db04509a12b9f65e36fff7b",
      "f27fbad0c20040ef91d8a442ed6c2326",
      "886ecbfdd6a741fc8296e101f05731f1",
      "fe079f20516f4bd9a006f9a61797e269",
      "535a9d26e60c4696a15203ef1a9ef0e5",
      "60d04b3891d5446faffd7d6942223eb6",
      "4b0f983b6f6a491c82d48c862194f01a",
      "a58dc41e09a446f08610a88fc848a81c",
      "802cefe83a4c42bc87735f4bcf26b0c5",
      "31ec6d31c7564c379d47eb2fc5553ea4",
      "4d9e09d2ed674f97aa8351f0ed686203",
      "3bf68618413c4b5db612e330908efe1b",
      "ca9fdbeac3a44e348a4f9cbe80efb324",
      "43d8212950ef4d85bd6400e2693a0906",
      "85ecf0af549546609ffb68578e495294",
      "fab645bcb61c452cbffae66e9fb7f553",
      "b8a544b49ce2470ca556ea10b1ea0ee3",
      "8429e972a7bb4311900decda53813438",
      "effea75f353040cfbaf1a75ea4cc1661",
      "a0f1045af8fb49b8b7b8eeb830bc1603",
      "33be566b89204dd08f3266903325dbd2",
      "f10b9b585fc94129b58be1e1b24348b8",
      "7a566a3d463643b18072e4b3b4e1f633",
      "2f45ba6b1af2407abf9d44222d143343",
      "9fe7ec0d96124fdda7c398ba1481ff54",
      "b15f68f751eb4165a19d60d51a357b4e",
      "775fb09cf0eb43639390e504ab7ec3c9",
      "479340549c6544d58587b41fb49436c4",
      "76a62c53ded24d559771cb97cd8c40e1",
      "4db0038d52f744d587c4f9b5f4e2acd6",
      "bbfbcef46ec84dcf862758a4a05bc367",
      "28e55a20bbbf46c58c965ac483a65859",
      "472577216ef04ff28a21b3238204026b",
      "7116732b0c584cf7a75b2c4b988f9684",
      "19cfe0a5fc334262809d97a28d8159af",
      "99d61973c6e340ff98339fcea9d22440",
      "5c9de9b0605b470682687a671cc05fc7",
      "7ebbff199b6d4c558e2605f634688e5b",
      "013a7cca51bf4669b83d04b627518af4",
      "451c27350f694be9b9a473c783f940c7",
      "1329cf401e524c59aa85f52d3ca807a3",
      "d96c292aef634a9894a08ee6f3bc398b",
      "23d3bdb793dd4576848f25e94a7ac056",
      "d8940a1a7c494efc9265cbe67da580b4",
      "4cc0638724d04f47a6d71e7d8fb1023a",
      "32684135352b47c78605a62d5f0a393c",
      "f042d6a83bcd4ed29f7f660133c752cd",
      "fd4b062734844a608ce13d1c2172a27c",
      "c165c8a1f6df4ca18f87b588c4adc9e2"
     ]
    },
    "executionInfo": {
     "elapsed": 8829,
     "status": "ok",
     "timestamp": 1751448007435,
     "user": {
      "displayName": "Yulia Yorkshirelove",
      "userId": "10480095246692972307"
     },
     "user_tz": -180
    },
    "id": "roOHzbn2PNAy",
    "outputId": "c12aaf02-f3ea-4785-c073-ef17dc73ff92"
   },
   "outputs": [
    {
     "data": {
      "application/vnd.jupyter.widget-view+json": {
       "model_id": "21a6820762d444648d6fc2c504202f78",
       "version_major": 2,
       "version_minor": 0
      },
      "text/plain": [
       "tokenizer_config.json:   0%|          | 0.00/396 [00:00<?, ?B/s]"
      ]
     },
     "metadata": {},
     "output_type": "display_data"
    },
    {
     "data": {
      "application/vnd.jupyter.widget-view+json": {
       "model_id": "60d04b3891d5446faffd7d6942223eb6",
       "version_major": 2,
       "version_minor": 0
      },
      "text/plain": [
       "tokenizer.json: 0.00B [00:00, ?B/s]"
      ]
     },
     "metadata": {},
     "output_type": "display_data"
    },
    {
     "data": {
      "application/vnd.jupyter.widget-view+json": {
       "model_id": "b8a544b49ce2470ca556ea10b1ea0ee3",
       "version_major": 2,
       "version_minor": 0
      },
      "text/plain": [
       "special_tokens_map.json:   0%|          | 0.00/99.0 [00:00<?, ?B/s]"
      ]
     },
     "metadata": {},
     "output_type": "display_data"
    },
    {
     "data": {
      "application/vnd.jupyter.widget-view+json": {
       "model_id": "479340549c6544d58587b41fb49436c4",
       "version_major": 2,
       "version_minor": 0
      },
      "text/plain": [
       "config.json:   0%|          | 0.00/569 [00:00<?, ?B/s]"
      ]
     },
     "metadata": {},
     "output_type": "display_data"
    },
    {
     "data": {
      "application/vnd.jupyter.widget-view+json": {
       "model_id": "013a7cca51bf4669b83d04b627518af4",
       "version_major": 2,
       "version_minor": 0
      },
      "text/plain": [
       "model.safetensors:   0%|          | 0.00/375M [00:00<?, ?B/s]"
      ]
     },
     "metadata": {},
     "output_type": "display_data"
    }
   ],
   "source": [
    "tokenizer, model = load_model('EleutherAI/pythia-160m')"
   ]
  },
  {
   "cell_type": "code",
   "execution_count": null,
   "metadata": {
    "id": "kKAJU0K5PNAy"
   },
   "outputs": [],
   "source": [
    "data = get_data(50000, tokenizer)"
   ]
  },
  {
   "cell_type": "code",
   "execution_count": null,
   "metadata": {
    "colab": {
     "base_uri": "https://localhost:8080/",
     "height": 66,
     "referenced_widgets": [
      "02bf00650f82419cba811373d1c6b7d5",
      "397e936e98624f8e8e9e336422a14a1e",
      "f2703fd8ef0b4d10967a7b0205aabd58",
      "6240e46a89e340b4be276235598e61d4",
      "feef9f0c7acf4eec9f79164a7a7cb939",
      "009ecd8f904e4715b76d35599e54c3c8",
      "45243084d82b46efb7c62632426b57d1",
      "f36d52b451b14c5382562a47d460b9a7",
      "302c8b0a113743d28a266a63480d6cc9",
      "7659300cb8a244b3ab548005260603e8",
      "9f3225ba87614e968d0a18d93e5947a6",
      "b63836bf78f44ae6a88d14fe5df784af",
      "8da5a54b2ff143cba4cb151599afc78e",
      "187d48d895834ac486ab5c1ec6bc8900",
      "212958e02f244e6197e0ddfb2ba90964",
      "618ddce1f07f4292ad5e303f4c3c972f",
      "fb9cbe0a40e141d7b45f65e6ff59145b",
      "3702d0ff859940889902ad05695673ea",
      "e7659a5ae652434eaf5a77f6a8f58ea7",
      "52da71d31c004284bcb0e3d5bb15aa8a",
      "41b61dfd58a04d14b51fb11dd51130ab",
      "dbd12ddee27b44339a4a958ea948f730",
      "deb512a616674bbfaaa345a70b161d72",
      "efb6b546a05d4e07bab78a9e5378bea6",
      "453e8856517445e69bed1a5893cbb852",
      "26c6718f1ca6465b82d0e76f74f12a81",
      "f9f0b08e559149c6b0a256b2b263dd2e",
      "ff511090ad5f45f8abf78fedf2facb23",
      "7834d07a1dde416b805640469a44886a",
      "65626bed1a964f87856430263c8a8244",
      "b26939bab8ee4043ac06892adb6039a9",
      "54c2058b310d4dc6b2f1c39f82d7cf48",
      "6d7302e59c5a48839a3b3ab2d077b948",
      "cb56b566c5c04fce8572f7ca7f8d3cfc",
      "2c984249eacb45cf9941d9002fc5d851",
      "8376e96d52ea45328a24c299020e97f2",
      "bb8ba21daf1c44ad9d82bc31e3126aec",
      "650eb9c42d66488da0d772a26d8ee203",
      "5176a5fd7ac9440d83daa814db5cd627",
      "5e1c43485edc4eecaa94e1f65115cb4b",
      "fe5e292dee9944d186429639ba4ca551",
      "8425a618a7314859acabfb8d8e42dddc",
      "825fdf45f74946538f51a370307f61ce",
      "c73c25309f8c410c9355b7f331f71c34",
      "1890090a0a9b4a339838dc357c2dbad8",
      "5bab5b16fa0f49a18adc19d534fea0f4",
      "a266137e87bb4b82b4e1e6f751954f1d",
      "c25bde8de4184e599d72f91e9bf1fb59",
      "a7b315310d59475197149866991e7a43",
      "b6b6ef43997d4a0884f0950a101ab597",
      "3ada3312d8834c3fafff7e87b75d64a0",
      "16b221747caa4fbdae51313ce11c3799",
      "85e792de5ef144b192aa9e057013b34f",
      "b9433bc832754d00b38d4d9bc2b7c682",
      "735bc8abbad8491985482836191f65ae",
      "8edea6aa172440a1b831dedde6b6d111",
      "9c964e25ce00402eb28d7de10f797278",
      "7f7d6820e61046c199f55d49a6d92383",
      "9d1b711c17f445bba44f33512c7e7c40",
      "e9ff546592cb4c85aa27ee7267cd71a0",
      "617779c3f5614d4784822f1773bc82dd",
      "5c85a37e3e274594a33799bc5261642a",
      "c306e22936b54ffebc1f7b64505860b3",
      "3dc3fca6a8624729911cea33207e7188",
      "8889d288817747fab975d3218a3be01d",
      "1b4a8fd97e1344999c7ce228cb2a44ab",
      "3b416ba7e8f741528e86e4202feed75c",
      "90a685c4b6724967a63129d7b3087fac",
      "9254940ffbc44d82b9fdabad77ee43ab",
      "1712da8228b5444ea3a09e0600cb8861",
      "1a0ddb4b7fe243d5b12200573343f467",
      "2923f918ca2a444d959f12a1a56f7f1c",
      "275bea23d4a74b6f9e56559710875c02",
      "5829ae76acb544f1a5915381f6e7121f",
      "ef0812542189440ca38c8be80b70295f",
      "a46fc7bb5e5d47e791a9e74da2895be0",
      "80d1465d72844e6b998a6b75845cd752",
      "fe8bdf29e8c44cdca6350539ed868a13",
      "2a095180956d45389e6797d9fd2bb5c7",
      "0e74ce925e2f4eb8a1ca5897c6fc7288",
      "6efc89b0ff2c4341a424585c2147bb9b",
      "e395f5c031354b849a3a433afa3cbb36",
      "b35b7d3de54d41b38d8237833b5ef189",
      "7933ffeab362413aaf881f0fc36068e9",
      "e5c3f8d8cb304afdaa6bec23e898dc5a",
      "eac8f24f8e254c6fa72cc251292213af",
      "c76a6599c6764015a5d835e2ebab53bc",
      "5a46f49d225d4ea58bd10ca43011871a",
      "8b9c35c08f474e498885c55bb92e0934",
      "00a062dec03b4e63bace1b1ab2fb098a",
      "a0d76242a47d468b8ed7e34a0a188cd9",
      "1632fbbc60f04e7887d5d2cac8cd4987",
      "85fb857eaaee46ea98f6fc8e12b42e3c",
      "a78ccb3283ea40169e59932ab86d5a89",
      "da4d12c038d14779836beda566a9109c",
      "24a2ff264abd4fbd840dd4a34253be51",
      "7391bef442144bb5aed21413ab4ea40e",
      "d04bf12d7e28486b8c9822ec581acabe",
      "fe653949176c45c8962c57b23df9d7f0",
      "65700ecd09534bb18cf502f40ae20add",
      "3696b65fb5ea409d9bc576d68bdc68ce",
      "8aaf10ffc0e8432d9a98da8e2e0c0f01",
      "877f60a9e6ad446094e8c9f0ea2a11fe",
      "31fd0e1c7d4a45a399800acc96a00c6a",
      "08cc944c6d824fe8bd404489db861136",
      "e5d117f1bf654162b602cedd7b7628ec",
      "d9753c06b9a04f04b5a15b8b214168cd",
      "d329ef122e6646ed9bb035ce8b6bfe70",
      "a5734e79cd9f475fba1c4ef2fc44b2dd",
      "b53a80b0b2eb4451a3b89ca4e86dd56e",
      "9cb347f49794425398c625a95e0003bb",
      "537ac72a372f465ea28fc87c49d242d1",
      "996c9919e85f4cf8995c62ea7eb6605a",
      "aede90681ec844c69a3f71b5431751cf",
      "fa9f7fe64885407db6f6410ed4e738c6",
      "1aeaf9f1c77841e4b65a8f7a51e95c28",
      "d1393c36c3aa409fb87fcd7f399ea4f6",
      "72e8a400cf374941ae204c4a23534f36",
      "2dcbca8829e04442bc93568da577fadc",
      "c1a6d960426a47b4a1bf7b4ec45bd62c",
      "63037db7b6314a87a02a8fa320a51a0b",
      "8620ac3c9a404168b4de4584ba852e47",
      "858ae219a77a4003bb7325304b8a108c",
      "8b9021cbc2fc4bcfaf56531c61fdde28",
      "b0782e7fa3894efda6c52f1720d39b19",
      "e9a9a64d962344faa4efda9c0a8741f5",
      "219687fa7dce4c9c9d68aacdf0f5d728",
      "96e500163df34fe485b1649eeef1bb19",
      "b08fd5f7b241472b9ca459a7e7be1770",
      "2573a81fd83d4d83b89f3ecae5bd0ddd",
      "62b5853a4a2e4372ba8229bd843a866b",
      "f61f61a0f99a4f6a9d978479087525b6",
      "ed2a931699c6475eac4c77e1e4b49028",
      "53d12622decd4f2b93af78b8e1cca625",
      "e75ce0103f354ba2902ad602f13c28ff",
      "c12b2201556a4382bb34b876c9b940c9",
      "99a98f61ba0744eb86e170b1a4380578",
      "d36cbd53dac245c284da6494644b16ae",
      "9c82019d288c4fd58cd558a937f0b7c7",
      "06d17403a40c4a1987c935e05c8cea0e",
      "eeda723a3cf74bda87e2510a63d7c09a",
      "f445a395c0d84fe2a177649c553443da",
      "3c438d721b824277a69e602a0945cb84",
      "351fabe42495474ebe0c22acdaeefb34",
      "35d0e24c24d44df7b542cb7b6a43e476",
      "860e256447854e4e95a271850856ea7f",
      "bdc788ec399c43a6b6baf233933e9ea1",
      "53064be96c5f48eb927fef12c676b9c2",
      "f726e26f2e8c4d18ae59c7b972867be1",
      "aa178854c5c5442d8f1831fee09775e6",
      "9063d0a4c48f44a6bed9033580e98c83",
      "7d80a6b6238f42959b7a379928e40a9e",
      "ba64f5dd58ef4d02ab42fe6aa040aa25",
      "b07e5dd53364475bb88e09a4d94dfda1",
      "f3026cb979b042f5af3f4648f69b9d9e",
      "f9a2d174dcd24bee84b2abd97a6d2b92",
      "c3face78f5154d2b9f9ac9e69fbd55d2",
      "e75ce6915dc442d6a2af3d6af0ccb33d",
      "0a359911deb54c8e951b43725de75351",
      "57db621a4d5f4961afe02a0e8cd1b04a",
      "75396920fee14abea2921f9baabcc4f1",
      "579c5839e5dc437d9fc26dd0fa866b69",
      "e46d961552304f02aeedfa41f7c0b6d9",
      "6a8aa2b4a4184b118708bf5a9fa3c0ef",
      "cee891d1790f4151aaf2440562753696",
      "06b9d4b76cc246868b4f60c882d73276",
      "6ec5bf2adef947578a0d1106b9d72b4e",
      "bbbd5031dfb04f74aef84afc0c9dbbb1",
      "c75d923d7cdf42f8b4132948f136f25d",
      "1b985d3349b347b9997a5eadb145af2b",
      "66a2458a4eaf4d89bd9239eccebf0c4a",
      "cccaef44a3684cc7aef8aacc6582a664",
      "3050e29c7bd64beebfcfabe423670d3c",
      "43d8bddba2014d25a28e3b792179b931",
      "26f85fc5126a4e95a8374b8f5e80e388",
      "413f792e1e734a28a8825f2853d7d9b0",
      "3e06c06df9d040e3bf3755dbd9ca4261",
      "ada12e80bd1d4b32895a48b559f969ca",
      "1b52ff8de34f47368b08c87a4ed64e89",
      "8db9eea8ee7f4bcd81868f00e4c2bc27",
      "e6c6e908017e4e25a3bf815abcc4d9f2",
      "500ba14e1f7b47699a6b41a511c43bd4",
      "7e93b049e2b040778443a2e18e6ab15b",
      "34fbc80f04f54507a0e9da219d057f97",
      "b15d8f0ae0c047ee9d84fcac9853f8fa",
      "5578464277854cadbc6f134237c7784b",
      "596835b1fe7d44d6864ae02522c14d14",
      "90d175a9786b497a8ccbdc05bfcb0801",
      "25005a1aa3a74b698c827a3993d6a05d",
      "30cf9a8e07254a82968fa2221f7844e1",
      "e334dc5ba6594946ab0adcd375bc4642",
      "e731ecb788a3499788717d00622322cd",
      "410140b0bd6d48e7a6a1961b9061c126",
      "69e5267ac1844ffe91e309f3216a77f0",
      "b5813d9fa3a2467588c09fe5e5c25ca3",
      "c2a6f5b2c4fb4e13869ce33b77b91df8",
      "ae012a08e4ae475483c64127e1cd2e9b",
      "e0ac2295050a4fc781dd1a1e201f138e",
      "7a75b309b77a447f89e39dab4172ae3f",
      "9967f9593fd441c0b0352540c895cd77",
      "eecd71576acb4bf7a457de01ee385444",
      "24ee7dd060a44f79894cb6cc0ca20a96",
      "e7bc19e18b14476398fd9705aba7c93d",
      "e944941d11dc4e5da58d87ba13494c44",
      "daaad2c922dd443090553a378c3c71e8",
      "35741779dffc452084b5766b4801e89b",
      "98a3ee295a61460090639eea5d56a710",
      "aac646bd67d44e449d9c3716976ec80c",
      "d0313fcd8a024a3783852a5a6fe4998b",
      "b0290eda18314a49adbe2831839c4315",
      "e85722555193465a9bd050fe837663b2",
      "96f52e009bea41218856c3cb6fea4a51",
      "1ff234577b8a442ea0d31c99359b101d",
      "ae9d8c8514a1486d9e7dbcd450edc6b7",
      "1021d793d88e4085816dff16723dcfa8",
      "a9df5968b51d4c1b8e8466838d148886",
      "8b77659fa5c14f73ac74585418385bd0",
      "99f74a9978984972a3fbc5c966d62ee5",
      "f443a629a79b4537aea02fd3ad14bac7",
      "ff74284e3dc242edb219b6687064eb63",
      "87bd377a61ed442180287df9990d815c",
      "02b04fccc26f4490885b7625b6c1691d",
      "7e18dcc2a307432cb989c502997748e2",
      "ea3f052566ac45f4913daba169e8cf54",
      "ab0f1d6f87f94b9199eec6bd9c69bb2f",
      "273149e4523b42a4ba56face2c00d3f9",
      "2712239bd93f4e1badfe91ab024e98b9",
      "bfe177611f534e918fa1c961e715e3c3",
      "f1f43b66731442be9f9580d160f480be",
      "2b3bf2aefb384021977698715e8efb19",
      "299d3cc4fdb44448964d8c39e0c378cf",
      "52fa258009a04c47abbb66a2f10231fe",
      "7fc4b6c2ccb1484ca3b05601726f6be9",
      "33eb610019ab408ab3e51e78343144ac",
      "5b9376bc887d4881b5e774b0e93d0a81",
      "492f1ddd5074402f9c4a8a51b2b93540",
      "031f2404f594443a923eb052c2b78a9e",
      "92712752b1a549abb9fbf3398a34f99e",
      "ce083df071514f6191974a37aca9efdc",
      "dc1dfa399e124b4e87743714c91000f2",
      "dc66a12f9e2a46c89c7dbedf93400185",
      "dfe04e1f43e7498a8ef9bf5a566e5fe7",
      "084b932917114a298f46b1633f028e6f",
      "56f71532e1874227b9fd0fdfed5fddb5",
      "23a9efda72bd46198208e928615e1e0f",
      "376c0326d6df408b8750e9b83eb8f648",
      "b1b3f5fc236b437eae55597455e082f6",
      "0d4d7094bd0f4cb9b3728bb73e615d49",
      "c65bb3be2d1d45a98d9e3362c091cbcb",
      "28da844c19e14153a2c60dcbae6d089c",
      "b727aeac7c844d789b500891d1ca8e07",
      "95a107cb4f4f4b95ae8e4a412700b80f",
      "ba37ebdbe39e4ecd97c3f14976cf3328",
      "fd16f08f055b481f81821042fa0cdf24",
      "c5f6bed7eac0463b80ef3d78ef9fc0d5",
      "ca2eb789c10c42218c1cfe122234b96a",
      "051f846901214c13b18b584b3790d8b4",
      "68caec27bcd7400e8d0c317ef592dc16",
      "cab8868f20fe45f0b1a7e96e8fd48000",
      "329d13debc3443ec8b7b3dee43febe84",
      "986eb74e4e0d41a7b8a6c1eba713c249",
      "3db5a3386ff84abe91a4400ee6eb77c5",
      "fca62b95f88a44338c54a327c690adfe",
      "283a7944b1e442d589517ee68bc13af3",
      "39069d6eea4f4ecba3b62749b6c52fdb",
      "a173b79702be42efae194ab0380a36c4",
      "11b3caed555b415386179a0f28617bec",
      "2a3206200a054be9b62125f02df4e213",
      "d7fbc4d2bbb94960896bdf677f27eaa8",
      "5cb63ae6aa934d519344fac303abf15a",
      "014aef5f3a74442b82ee0cd732fea4c2",
      "94c4ba153f48443e860820814fde8735",
      "1dc0e06f222d40038e318730c965c3c5",
      "95076015b4bc434286dcf42a47f0eb55",
      "7ebd66335da844808d0bb709d393188c",
      "04723fb7a9314212ac6f7f1f58a1454b",
      "f52ba936e1bd48718ed60d306deb014d",
      "105534bd200640f58a62324a8f116c89",
      "9b686cf5f9384f57b65181c5d1fae2cc",
      "c18a5dcbb11b4f25a8cf863cf4eb9d18",
      "4f6740ae5d414809aeb5f1787e7658c5",
      "cb8cf9888a4b4333afb5f8d88704c841",
      "f0f8a5721c5a427ab081eda6c7ef793c",
      "91269dffc92d41b68150fa188f31c4d0",
      "761e9c667ad94a908fe785e770f38155",
      "e9ebededad95450ba3ed3b0343449254"
     ]
    },
    "executionInfo": {
     "elapsed": 335476,
     "status": "ok",
     "timestamp": 1751448344403,
     "user": {
      "displayName": "Yulia Yorkshirelove",
      "userId": "10480095246692972307"
     },
     "user_tz": -180
    },
    "id": "Js7naCLlPNAy",
    "outputId": "2fd6427e-e453-43b6-d260-fee9a379a63a"
   },
   "outputs": [
    {
     "data": {
      "application/vnd.jupyter.widget-view+json": {
       "model_id": "02bf00650f82419cba811373d1c6b7d5",
       "version_major": 2,
       "version_minor": 0
      },
      "text/plain": [
       "Encoding chunks:   0%|          | 0/25 [00:00<?, ?it/s]"
      ]
     },
     "metadata": {},
     "output_type": "display_data"
    },
    {
     "data": {
      "application/vnd.jupyter.widget-view+json": {
       "model_id": "b63836bf78f44ae6a88d14fe5df784af",
       "version_major": 2,
       "version_minor": 0
      },
      "text/plain": [
       "  Tokens in chunk:   0%|          | 0/668 [00:00<?, ?it/s]"
      ]
     },
     "metadata": {},
     "output_type": "display_data"
    },
    {
     "data": {
      "application/vnd.jupyter.widget-view+json": {
       "model_id": "deb512a616674bbfaaa345a70b161d72",
       "version_major": 2,
       "version_minor": 0
      },
      "text/plain": [
       "  Tokens in chunk:   0%|          | 0/732 [00:00<?, ?it/s]"
      ]
     },
     "metadata": {},
     "output_type": "display_data"
    },
    {
     "data": {
      "application/vnd.jupyter.widget-view+json": {
       "model_id": "cb56b566c5c04fce8572f7ca7f8d3cfc",
       "version_major": 2,
       "version_minor": 0
      },
      "text/plain": [
       "  Tokens in chunk:   0%|          | 0/572 [00:00<?, ?it/s]"
      ]
     },
     "metadata": {},
     "output_type": "display_data"
    },
    {
     "data": {
      "application/vnd.jupyter.widget-view+json": {
       "model_id": "1890090a0a9b4a339838dc357c2dbad8",
       "version_major": 2,
       "version_minor": 0
      },
      "text/plain": [
       "  Tokens in chunk:   0%|          | 0/589 [00:00<?, ?it/s]"
      ]
     },
     "metadata": {},
     "output_type": "display_data"
    },
    {
     "data": {
      "application/vnd.jupyter.widget-view+json": {
       "model_id": "8edea6aa172440a1b831dedde6b6d111",
       "version_major": 2,
       "version_minor": 0
      },
      "text/plain": [
       "  Tokens in chunk:   0%|          | 0/577 [00:00<?, ?it/s]"
      ]
     },
     "metadata": {},
     "output_type": "display_data"
    },
    {
     "data": {
      "application/vnd.jupyter.widget-view+json": {
       "model_id": "3b416ba7e8f741528e86e4202feed75c",
       "version_major": 2,
       "version_minor": 0
      },
      "text/plain": [
       "  Tokens in chunk:   0%|          | 0/546 [00:00<?, ?it/s]"
      ]
     },
     "metadata": {},
     "output_type": "display_data"
    },
    {
     "data": {
      "application/vnd.jupyter.widget-view+json": {
       "model_id": "fe8bdf29e8c44cdca6350539ed868a13",
       "version_major": 2,
       "version_minor": 0
      },
      "text/plain": [
       "  Tokens in chunk:   0%|          | 0/453 [00:00<?, ?it/s]"
      ]
     },
     "metadata": {},
     "output_type": "display_data"
    },
    {
     "data": {
      "application/vnd.jupyter.widget-view+json": {
       "model_id": "8b9c35c08f474e498885c55bb92e0934",
       "version_major": 2,
       "version_minor": 0
      },
      "text/plain": [
       "  Tokens in chunk:   0%|          | 0/505 [00:00<?, ?it/s]"
      ]
     },
     "metadata": {},
     "output_type": "display_data"
    },
    {
     "data": {
      "application/vnd.jupyter.widget-view+json": {
       "model_id": "65700ecd09534bb18cf502f40ae20add",
       "version_major": 2,
       "version_minor": 0
      },
      "text/plain": [
       "  Tokens in chunk:   0%|          | 0/453 [00:00<?, ?it/s]"
      ]
     },
     "metadata": {},
     "output_type": "display_data"
    },
    {
     "data": {
      "application/vnd.jupyter.widget-view+json": {
       "model_id": "9cb347f49794425398c625a95e0003bb",
       "version_major": 2,
       "version_minor": 0
      },
      "text/plain": [
       "  Tokens in chunk:   0%|          | 0/568 [00:00<?, ?it/s]"
      ]
     },
     "metadata": {},
     "output_type": "display_data"
    },
    {
     "data": {
      "application/vnd.jupyter.widget-view+json": {
       "model_id": "8620ac3c9a404168b4de4584ba852e47",
       "version_major": 2,
       "version_minor": 0
      },
      "text/plain": [
       "  Tokens in chunk:   0%|          | 0/500 [00:00<?, ?it/s]"
      ]
     },
     "metadata": {},
     "output_type": "display_data"
    },
    {
     "data": {
      "application/vnd.jupyter.widget-view+json": {
       "model_id": "ed2a931699c6475eac4c77e1e4b49028",
       "version_major": 2,
       "version_minor": 0
      },
      "text/plain": [
       "  Tokens in chunk:   0%|          | 0/511 [00:00<?, ?it/s]"
      ]
     },
     "metadata": {},
     "output_type": "display_data"
    },
    {
     "data": {
      "application/vnd.jupyter.widget-view+json": {
       "model_id": "351fabe42495474ebe0c22acdaeefb34",
       "version_major": 2,
       "version_minor": 0
      },
      "text/plain": [
       "  Tokens in chunk:   0%|          | 0/487 [00:00<?, ?it/s]"
      ]
     },
     "metadata": {},
     "output_type": "display_data"
    },
    {
     "data": {
      "application/vnd.jupyter.widget-view+json": {
       "model_id": "f3026cb979b042f5af3f4648f69b9d9e",
       "version_major": 2,
       "version_minor": 0
      },
      "text/plain": [
       "  Tokens in chunk:   0%|          | 0/456 [00:00<?, ?it/s]"
      ]
     },
     "metadata": {},
     "output_type": "display_data"
    },
    {
     "data": {
      "application/vnd.jupyter.widget-view+json": {
       "model_id": "06b9d4b76cc246868b4f60c882d73276",
       "version_major": 2,
       "version_minor": 0
      },
      "text/plain": [
       "  Tokens in chunk:   0%|          | 0/465 [00:00<?, ?it/s]"
      ]
     },
     "metadata": {},
     "output_type": "display_data"
    },
    {
     "data": {
      "application/vnd.jupyter.widget-view+json": {
       "model_id": "3e06c06df9d040e3bf3755dbd9ca4261",
       "version_major": 2,
       "version_minor": 0
      },
      "text/plain": [
       "  Tokens in chunk:   0%|          | 0/514 [00:00<?, ?it/s]"
      ]
     },
     "metadata": {},
     "output_type": "display_data"
    },
    {
     "data": {
      "application/vnd.jupyter.widget-view+json": {
       "model_id": "90d175a9786b497a8ccbdc05bfcb0801",
       "version_major": 2,
       "version_minor": 0
      },
      "text/plain": [
       "  Tokens in chunk:   0%|          | 0/426 [00:00<?, ?it/s]"
      ]
     },
     "metadata": {},
     "output_type": "display_data"
    },
    {
     "data": {
      "application/vnd.jupyter.widget-view+json": {
       "model_id": "7a75b309b77a447f89e39dab4172ae3f",
       "version_major": 2,
       "version_minor": 0
      },
      "text/plain": [
       "  Tokens in chunk:   0%|          | 0/537 [00:00<?, ?it/s]"
      ]
     },
     "metadata": {},
     "output_type": "display_data"
    },
    {
     "data": {
      "application/vnd.jupyter.widget-view+json": {
       "model_id": "b0290eda18314a49adbe2831839c4315",
       "version_major": 2,
       "version_minor": 0
      },
      "text/plain": [
       "  Tokens in chunk:   0%|          | 0/494 [00:00<?, ?it/s]"
      ]
     },
     "metadata": {},
     "output_type": "display_data"
    },
    {
     "data": {
      "application/vnd.jupyter.widget-view+json": {
       "model_id": "87bd377a61ed442180287df9990d815c",
       "version_major": 2,
       "version_minor": 0
      },
      "text/plain": [
       "  Tokens in chunk:   0%|          | 0/600 [00:00<?, ?it/s]"
      ]
     },
     "metadata": {},
     "output_type": "display_data"
    },
    {
     "data": {
      "application/vnd.jupyter.widget-view+json": {
       "model_id": "52fa258009a04c47abbb66a2f10231fe",
       "version_major": 2,
       "version_minor": 0
      },
      "text/plain": [
       "  Tokens in chunk:   0%|          | 0/473 [00:00<?, ?it/s]"
      ]
     },
     "metadata": {},
     "output_type": "display_data"
    },
    {
     "data": {
      "application/vnd.jupyter.widget-view+json": {
       "model_id": "084b932917114a298f46b1633f028e6f",
       "version_major": 2,
       "version_minor": 0
      },
      "text/plain": [
       "  Tokens in chunk:   0%|          | 0/494 [00:00<?, ?it/s]"
      ]
     },
     "metadata": {},
     "output_type": "display_data"
    },
    {
     "data": {
      "application/vnd.jupyter.widget-view+json": {
       "model_id": "fd16f08f055b481f81821042fa0cdf24",
       "version_major": 2,
       "version_minor": 0
      },
      "text/plain": [
       "  Tokens in chunk:   0%|          | 0/495 [00:00<?, ?it/s]"
      ]
     },
     "metadata": {},
     "output_type": "display_data"
    },
    {
     "data": {
      "application/vnd.jupyter.widget-view+json": {
       "model_id": "39069d6eea4f4ecba3b62749b6c52fdb",
       "version_major": 2,
       "version_minor": 0
      },
      "text/plain": [
       "  Tokens in chunk:   0%|          | 0/442 [00:00<?, ?it/s]"
      ]
     },
     "metadata": {},
     "output_type": "display_data"
    },
    {
     "data": {
      "application/vnd.jupyter.widget-view+json": {
       "model_id": "04723fb7a9314212ac6f7f1f58a1454b",
       "version_major": 2,
       "version_minor": 0
      },
      "text/plain": [
       "  Tokens in chunk:   0%|          | 0/452 [00:00<?, ?it/s]"
      ]
     },
     "metadata": {},
     "output_type": "display_data"
    },
    {
     "name": "stdout",
     "output_type": "stream",
     "text": [
      "Total encoding time: 335.48 seconds\n"
     ]
    }
   ],
   "source": [
    "chunk_data = encode_chunks(data, tokenizer, model)"
   ]
  },
  {
   "cell_type": "code",
   "execution_count": null,
   "metadata": {
    "colab": {
     "base_uri": "https://localhost:8080/",
     "height": 66,
     "referenced_widgets": [
      "c46b76b8c8f5452d8850ee9e345c4e9e",
      "3e85d091725b403190e523fa769ca796",
      "f7e1616a181b41869c9b494a0b8e9efb",
      "ff55690dfc7a4f5ab48b49acc894d4a0",
      "5905a263605347469737c795e1c70758",
      "e64e4024bd43415f8694d92a6a7bb24a",
      "cfc2ee311c824059a7ea0cf4713e2596",
      "c46011b669304aea9122189adf700503",
      "7283a4cd4d0840748fce11ebf6d70ee9",
      "cf11b3d4ccd849499a4e660ea35bab30",
      "7b8e93c5af5b45aca6130a12b71e5ed8",
      "b5db302b6bfb44bb94326aa466cf97cd",
      "676ad5fa00aa41a8810daff27bd61c0f",
      "f6a39bd7e1564d8ea686354ed1de2756",
      "65f10a369769410da6aef41d17230669",
      "ce7e23fdcab247c5bf679c4734b3922a",
      "68a9ade1dbc64a4a8aab8bb8e7417967",
      "6aeb1a062e34409e992a3d206bf70a80",
      "617bd799a4844ea88e1ae55d1091bf62",
      "3a99bd7386e54ce6b4834689757f1dd0",
      "556593f5afd746f2bbf185f580014ce5",
      "026bc3ce1e054520a59bb6848988d72d",
      "a7d6f1b57019464295363a0967f0ad44",
      "b85551aa226848128d9909df1b15803f",
      "492a94822bf74c93b31153d88279a572",
      "d7535f6bb39a47b8be52052c24f60593",
      "34bfe513036b42dda314ea3a2095b424",
      "2ec53fe1a7a74b9f9b33e628b04512d4",
      "119f2c86d7ca4deebf264bc6f030d9dc",
      "9285e591d3754186859c7ef2738697d3",
      "853a717e13504d7a9c40b3f59d1184ee",
      "7e2916d195ff4850b7240f012dfcc402",
      "3b07588551654a2d803c07aeaf343323",
      "eb857dd9d84b47d19c825167ab092d55",
      "ff57da7e2856437bbb505eaa56f45e62",
      "959d355d6809415587f24a3563381d8e",
      "cb02ff2f52354f11987f89c9b7b45e59",
      "b92199ec3e5e44b4a78d567283361a13",
      "5922701c9295488c8142d47b28ad8039",
      "dc3dcefa889b4d3a84258940de6b3d48",
      "6559dbcd8b124781abf91e346e68f007",
      "92bbd63c511d4dc7b9cc754792e83669",
      "c673b5a84e824941b27af0192bf2fe16",
      "56576d5ca0ad4d30ae1d6b20977e9b5b",
      "165fbade2d124c4982dd5645c54f9e71",
      "3ac24b6cc1954f198e1a025b775321c3",
      "d71f76edeab54d5eb12821933a89e26e",
      "61bf9e2c01fe4c68ba688f57887548e8",
      "e0c10a1d3c5e461cad0e316308669897",
      "5a63b1c6495c41f2b01c85e9249a9e68",
      "14627c482dc34049825186c68bec026d",
      "de320142abd74153905c8483d7536ed8",
      "1cded8e12090428fa9c40bdfdc84f5e2",
      "3fc030732d86497e97ce63d43161a121",
      "3253cbd05c3848dc95142f951843a7c3",
      "c73834076f1845c0971609d047bc3b8a",
      "f35881a1085346018132b7f1a818be47",
      "a2a01a5f8add435894f6d570f9d0090d",
      "750be90c286644dbb68bf7095a454375",
      "0afa813fc54b4bf8971ecf8d6fe3f106",
      "03f64e44750e4e77ba6f8010682d2690",
      "2a14ae62f3e643c3967ad938a8f5a71f",
      "4816d2d90e054e839bc69a50c53dac76",
      "38e4dcbefc464c0cbc2e9cf501870da4",
      "46f295c6981a45528a66dcf26e9d4f61",
      "08e269f099704ecfa2b937141859a127",
      "4b7b894cbef049d4a769ac41e3a76202",
      "3f0802dbb3bb405faa627e2596027f95",
      "1e11e789eece4f80a4599774e4359117",
      "6893ceb578664d118324c08504efaee2",
      "0f5bbc04a52f4e328690b010e498add5",
      "ad49384e60d54a0093b44434c76037f3",
      "59cf2ed25d6043c6a0a9223e1f6b12f4",
      "0db65a6f37c442238637f68efc1a8cdd",
      "8c7a2ee3945d41f5ae299de023ae4077",
      "f1f579829f1e40d5acb1fead41a423c9",
      "8bf99f45ba324dcbb58eabef789bb4e6",
      "c9d048fba3f74895b12c89f51bba7d9c",
      "bab51eba0f76418392c7720a02248cb3",
      "e3e7c2a0262f4a628323f0d495e26958",
      "b4cbbb7cad2e472bbb34b0851df3f4a2",
      "f5eb0c5387ff44aa865ea573e38582b4",
      "c3427f239dfc46a7a7b8fe16176c513a",
      "0bd769ae46ac4325840afe2c5363adcf",
      "3495c73bead1449a8fc177b04eff0201",
      "3678601b412740a4bc1403eedee80fe8",
      "7d8fdd7ee31b4b3f9bc23d6609915b1e",
      "63d40cb675de4edc9ec1a9231f9987e0",
      "d176805503c84f989e071098c30fe587",
      "4707f81a57f44816b910aeadc0e74e33",
      "10d8b7098a4f413dbca93c127dd5a7ca",
      "eb5f7464ac8a422dadb9623e28ad51d9",
      "9131bbdc9bae4df6977668bd09437d8d",
      "9b4fca241004475da2adbb191c9bd3d5",
      "8ef4a28d418f4fe69fd0f6a497a28d79",
      "7c381c01dd514a39b6f852765bb58f81",
      "81cc682f7c9a48178c21ac7f3b11fe7e",
      "1ff3afc7c71c4b6d8e38d4a508617691",
      "da56bf3b705a44e1b12890fd218a4b7b",
      "0f9da4488b2048b6a67ffc3735267eae",
      "fec99a29328840bb97e8d59d21178b47",
      "3df848bb51474022af54fbb20a1f4666",
      "a8dca2cad8774c2c843f8d7d4fa74fe1",
      "ea68f9b5bfd9476bac51fdaebd464c55",
      "6fc0905acd844ce19cdd82a08ffde3b1",
      "78f5f7cf68f54587a121042f8513e9fd",
      "ea0f6925cce94a90b505172a2ed3b2d7",
      "c0c9f28e0e664bedacb22a5bcc8747e7",
      "27f8accfeab4472d889af86d491897e0",
      "9ff8e5275f2e48d5b0958f6008dbe0a0",
      "b148a2dfa81f486cb4d2403e58a7be3d",
      "0a27c6bc8c5041a5a04b52f0be3e125a",
      "c23b6beb01934a66b900d3b620430488",
      "a6bf564e78854a3481e8e9af5b1c58d2",
      "c69141ff5df5457bba83afc84bbbbf88",
      "a374418141a5435b80e6e191865d5f75",
      "d0f640bc03a7410ab18ee2040c1b3a05",
      "9ed64ea315514338a3d953aae2218ff8",
      "6675b40b543c4064a38fc9a18b8d1685",
      "0a9b460318de4540a712201b1953297d",
      "bf5ce3cedeb047ffa00354a609900de4",
      "d3d23045542f4cb39cd113ac0a40be96",
      "6a495ee44d5e4fa69be9b71b5bfdeb14",
      "f7c8daeeb7844c3e84365322540c4d18",
      "99d328716e7a46dfa14e7cb241c7f119",
      "6aab58938d964b75bbabe3da61d05789",
      "1ad4246f338443f4ab6e3c423d2fdf31",
      "a2e986153ab944fc8351a19e46b43fa9",
      "6d325210e4ea4bcca9e86f1197e046f8",
      "13d31ef57c904bb7b103da47ff559b52",
      "cf8b55b191fe4424b6f29be08dc098a7",
      "5d9a0cfeed154f578bf6b46590ff7f93",
      "9381749e2da14e4689172ca9eb1645e1",
      "6e39ac5601bf4543bddad853434b473f",
      "f161f5b47afd4bd0933615c7957c6f34",
      "a837d77af0ae43ebaeedd4ae0e64bebb",
      "d90bba4732ce4841a686efff3a2f0556",
      "77998b9196d44b4f830f56b4c11abb36",
      "447c2cfdd17c40318c7eabf496e4a468",
      "ff94c2f61bb040c58da4f644767838a0",
      "fbce2256dd094c528e1507a9113c012f",
      "26be6168bdc44742bf3df925d3b81faa",
      "a5e8f1a2c2794fbbbf86ba51a14433ab",
      "d9b0e5e19d1e4bdbb68c0ab8ac7f120c",
      "2a4b5b3b7467436d8a1ce61889de04bb",
      "5f13a277a97449d591b1052df95becc1",
      "372aeea77667489e9ed9eaf2998265d9",
      "1ff27665809548298047a20d84b506b0",
      "2a890853957c434397259962794f69c1",
      "d9e6effb48be4987b144253e9d72f766",
      "27fa459f5b50427095a688a727657d93",
      "b32b9de739ca4c819490137c10d2c4fc",
      "7bda2698bc77429697f52e9f1935b757",
      "31671f9e6f7d45388fe651f9c12ab836",
      "a945d8cdc3d647e88f629eead5d8633e",
      "87a92475936b460baf9bf10a3c422add",
      "a23607da57524c2fbefd81d175f85fdb",
      "f3136958a6fc4e99b6ca6b13a4085fe3",
      "d0e9de1df5024efbb3d3b2314606adf4",
      "283d3beeac1a4438879c91a36d147a7c",
      "f3d94d7ddd114d97b3b456c6c998a9c8",
      "57ea1a5146ff47099d7f600f8fc1ec36",
      "72af9e44950a46d7a5c55433e65fb6af",
      "08c2893891fb4aaa8e0e4674fb78de09",
      "b6af2e28864945ed9007af11c3cbba58",
      "46515fac13cc43d3ba39af78fa911d57",
      "b89252a665ce4d0387b1670c1913ed8f",
      "a24c7a8fd9f448a69d1df052603ad785",
      "1d8f352b3bbd4344857b68da99a09afe",
      "994b247f978348789df147b1e6615fac",
      "42aa0b0dbb3147bda644f559c157e3e7",
      "64aa95133cf84651bad0858b21dd1c7f",
      "a372c54616d34c75a6637afeaa41ce8a",
      "d2f85a6fb5574c75bcf26099e0520d34",
      "17c459c52ee24498b06e2265254442e5",
      "742aa34252a54636b596d97e16dda251",
      "bb15c274895c4b4db09732b55dfa25c2",
      "75bd4ef4d43f4442861af3787ccd34e1",
      "9710c1c05b89406cbd7a7849607627db",
      "0124d9e42c5a4d2594358c573c5bd69e",
      "3121ce51dfe7445db2fa6b0feb055e4a",
      "bc1813b974364c318fd80139bb6483e9",
      "bb9f5eb83e0f49309e52db56e5a24a03",
      "c94dba3cee5b42cc90147574759218df",
      "4e2db0dc17c24b87bb3141ddf7de3b8a",
      "5494d7ffd9e14f78a61140aec9f865ec",
      "aa9b108f22d342cbbfb0ed1806044652",
      "050580746c274048a7c9c5d3db827064",
      "c95d272e3a984e23b50ac2ed5eaac3f6",
      "8f21acfc60554005b4efdc8c51ff5f24",
      "18b89b215a984fd7b0b7cb5ba3c9c341",
      "d952a24418324f3ba3754489426afa3d",
      "7305bfe808d14ae4b4cedf480a866d91",
      "c952a650f68c4e58aa194090a83b578f",
      "30173f966a8b4d3c8621cd8bd3e839fe",
      "58c07c91b8b945e5b82cd0ae98ef8eae",
      "45fbb2643b454bf9b5b7183419c1eeee",
      "c020c723e4cf4defb22be5cf70609032",
      "e44fead54d6b496fb98c959ccb659fc3",
      "ed5a109958404a2cacfa4abd39a35ab0",
      "daee7cce38b145b6a70b88e0c8663b5f",
      "d3819783ca6c40efbaa232da4be9fb81",
      "a96588f726d640259e509eb9f9153bbf",
      "de2db9f1aa53405a9907c642370cad90",
      "d73d89c4bbae451b974ab85e035dd936",
      "5480e6ed0b14414ab1e8b454ecd0d1e0",
      "b414d9b5923e4119a9be3d33c88d14ba",
      "5018057499eb44bcb86ca8622aebaad2",
      "6176be356fe74f2ebe4db432d24c0e26",
      "584e887fea2c4598838302bce95e1f68",
      "5aac41ac7788421781d5f6a5dbbc193b",
      "db8956aadf8145eea6ef0ab7a88155ab",
      "5c79fb56b17e45778f9cc213b5691e33",
      "1db2e3a691874a86a1ec85dbc035d05e",
      "ac74625072694d24b87fd2dd1390c9ce",
      "d1a55e2daea349a99feb0c3f6e4bdcc2",
      "4bda3b02536f4b7897f54d676e49f6a3",
      "eea79e69a2b14ef3b76c78b0e341cebd",
      "816b49dc541841e9805cadf406309c24",
      "75ed5c23233440eea852edad81aaeb00",
      "118fb1bdc10a4fb6b45dae70fc4f1c6d",
      "36f179403ebd4ec897abc9248c1d349f",
      "41bcd9a17d4045af82f92185b6eb843b",
      "53d432ed556c494a940737473c0e47c6",
      "f61cf8169d644879b30ac0abebda9899",
      "2b1e0adb19e64beaa1d34d01be219eb3",
      "45c7a3bc14fa435baef52b67c7799ddb",
      "39596d6a5c8f4773a6846d73b6dadb93",
      "2371b244fd344199b408b2258fd44601",
      "15634f2ab05a417a9e317c39795b1e18",
      "b6c3e3dd3c3d4d6094091fe2af93e5fc",
      "7485f6576ac34ef5851b62e5265bbfdb",
      "5514a6ee505149c2b6f15f83fc2ad749",
      "27368a3cb6734a21b97a7250c7cba27e",
      "94c8b7e594b045c5841c9d2049ef26e7",
      "c7ddd710d4d94ed8973e5fec56bc2f03",
      "a7a945063f0c426bb6c04ab0b2c59977",
      "3fb40c4cd2e949c49df4c2464826fbe9",
      "7aad3b2302924e01824ffc40e8044009",
      "df8acf2fe1944fb5be8771f5ad8b070a",
      "5d3b5563ee704dd8b0621ed1bbf6b3fb",
      "abc0611764cf4e8798a57571166cd87c",
      "f46e21066000499baae2be2b07cb9af2",
      "f7b590a0ea1944eab1698f5d83ebea0b",
      "b218551548d7433491e4a3856f0d380e",
      "ba888c16e91f4dc18aa1f39e0a06a0f2",
      "a35112c20ae1466986f91bf317f2bba6",
      "457e4f1924564e4c921d1bb4cf4caf86",
      "1e9443eb062b4e4cac1a5ab03aa74f3f",
      "d09b24ee0a2a47d5bab1dd47541365be",
      "471c29ef8118416999f620de7abdf6bc",
      "da6e32cd635648d1ba07744bff14a2ea",
      "bb4e8cd9d47a4c678a7a9e65b91f1996",
      "06315bf7ea594c459145961aae9d76bf",
      "90c726e06af34af7bfc848e118de6b51",
      "a2349979f80249d0a9d56917f1c5a6fb",
      "99db9efe0f2943d1ab9b0dd4747f412c",
      "8a59f6360228496cbfd91cab1a119cb5",
      "48e83221a28349c5ac9fd4fd9fefd6b4",
      "4a0e1d9f67164aebb332086a845b423c",
      "c58f3217a828447b8374229a2371c32a",
      "6758451950cc4a7cbc0dcb678b7e1d35",
      "cea79149f77543c3a5b853bc922be0cc",
      "45d52a2174ce4126868c4cde4afbb40e",
      "522d1828197241b49956b958f5a5b854",
      "09f7df47f1584de08e751826ba461c28",
      "e8d0f83defdc45d2ad17a643265d2bc7",
      "d29182e976c146b19384323c7ac918bf",
      "b30103b128ee4223aa5ad578563216e6",
      "05190322f483499fb08325aa6ef3b467",
      "4634b6f3415c4cd99cd974e4e4fab96a",
      "1a38ba542eb84bd89fb5e94d83c8677a",
      "dedca6cdce1340c7844c22aed8f067cf",
      "113ad208c3d845da8cdca1eed6dff037",
      "6f0a274177774419b8aacbaa2aeb7999",
      "7e2f662c8c72409dba4e978002c278a5",
      "639702aaa65a4b59bca3d0fa94bf13c2",
      "e85c6ac85b23426b9e62cd6e5fceaadb",
      "f322fd5ea5054007882e121f3cbcc716",
      "aba1efafc85e46f38282ade0aa8134f9",
      "cb35818987e64fe1833f2357b8a6537c",
      "be95a45092cb49ddb0049c1f83a8d4fc",
      "4967e00ed6cc46cab30b64dfe94ffcfb",
      "a7d534796e814d0394c02a2374170b4c",
      "9f731d013ae242f2849f38b0fda35681",
      "f33a74db6afb4b58921c17fa628d74ba"
     ]
    },
    "executionInfo": {
     "elapsed": 339624,
     "status": "ok",
     "timestamp": 1751448684029,
     "user": {
      "displayName": "Yulia Yorkshirelove",
      "userId": "10480095246692972307"
     },
     "user_tz": -180
    },
    "id": "Q34z_2aXPNAz",
    "outputId": "a45a0d12-b1ad-4141-f919-985afa606d8c"
   },
   "outputs": [
    {
     "data": {
      "application/vnd.jupyter.widget-view+json": {
       "model_id": "c46b76b8c8f5452d8850ee9e345c4e9e",
       "version_major": 2,
       "version_minor": 0
      },
      "text/plain": [
       "Decoding chunks:   0%|          | 0/25 [00:00<?, ?it/s]"
      ]
     },
     "metadata": {},
     "output_type": "display_data"
    },
    {
     "data": {
      "application/vnd.jupyter.widget-view+json": {
       "model_id": "b5db302b6bfb44bb94326aa466cf97cd",
       "version_major": 2,
       "version_minor": 0
      },
      "text/plain": [
       "  Tokens in chunk:   0%|          | 0/668 [00:00<?, ?it/s]"
      ]
     },
     "metadata": {},
     "output_type": "display_data"
    },
    {
     "data": {
      "application/vnd.jupyter.widget-view+json": {
       "model_id": "a7d6f1b57019464295363a0967f0ad44",
       "version_major": 2,
       "version_minor": 0
      },
      "text/plain": [
       "  Tokens in chunk:   0%|          | 0/732 [00:00<?, ?it/s]"
      ]
     },
     "metadata": {},
     "output_type": "display_data"
    },
    {
     "data": {
      "application/vnd.jupyter.widget-view+json": {
       "model_id": "eb857dd9d84b47d19c825167ab092d55",
       "version_major": 2,
       "version_minor": 0
      },
      "text/plain": [
       "  Tokens in chunk:   0%|          | 0/572 [00:00<?, ?it/s]"
      ]
     },
     "metadata": {},
     "output_type": "display_data"
    },
    {
     "data": {
      "application/vnd.jupyter.widget-view+json": {
       "model_id": "165fbade2d124c4982dd5645c54f9e71",
       "version_major": 2,
       "version_minor": 0
      },
      "text/plain": [
       "  Tokens in chunk:   0%|          | 0/589 [00:00<?, ?it/s]"
      ]
     },
     "metadata": {},
     "output_type": "display_data"
    },
    {
     "data": {
      "application/vnd.jupyter.widget-view+json": {
       "model_id": "c73834076f1845c0971609d047bc3b8a",
       "version_major": 2,
       "version_minor": 0
      },
      "text/plain": [
       "  Tokens in chunk:   0%|          | 0/577 [00:00<?, ?it/s]"
      ]
     },
     "metadata": {},
     "output_type": "display_data"
    },
    {
     "data": {
      "application/vnd.jupyter.widget-view+json": {
       "model_id": "4b7b894cbef049d4a769ac41e3a76202",
       "version_major": 2,
       "version_minor": 0
      },
      "text/plain": [
       "  Tokens in chunk:   0%|          | 0/546 [00:00<?, ?it/s]"
      ]
     },
     "metadata": {},
     "output_type": "display_data"
    },
    {
     "data": {
      "application/vnd.jupyter.widget-view+json": {
       "model_id": "c9d048fba3f74895b12c89f51bba7d9c",
       "version_major": 2,
       "version_minor": 0
      },
      "text/plain": [
       "  Tokens in chunk:   0%|          | 0/453 [00:00<?, ?it/s]"
      ]
     },
     "metadata": {},
     "output_type": "display_data"
    },
    {
     "data": {
      "application/vnd.jupyter.widget-view+json": {
       "model_id": "d176805503c84f989e071098c30fe587",
       "version_major": 2,
       "version_minor": 0
      },
      "text/plain": [
       "  Tokens in chunk:   0%|          | 0/505 [00:00<?, ?it/s]"
      ]
     },
     "metadata": {},
     "output_type": "display_data"
    },
    {
     "data": {
      "application/vnd.jupyter.widget-view+json": {
       "model_id": "0f9da4488b2048b6a67ffc3735267eae",
       "version_major": 2,
       "version_minor": 0
      },
      "text/plain": [
       "  Tokens in chunk:   0%|          | 0/453 [00:00<?, ?it/s]"
      ]
     },
     "metadata": {},
     "output_type": "display_data"
    },
    {
     "data": {
      "application/vnd.jupyter.widget-view+json": {
       "model_id": "b148a2dfa81f486cb4d2403e58a7be3d",
       "version_major": 2,
       "version_minor": 0
      },
      "text/plain": [
       "  Tokens in chunk:   0%|          | 0/568 [00:00<?, ?it/s]"
      ]
     },
     "metadata": {},
     "output_type": "display_data"
    },
    {
     "data": {
      "application/vnd.jupyter.widget-view+json": {
       "model_id": "d3d23045542f4cb39cd113ac0a40be96",
       "version_major": 2,
       "version_minor": 0
      },
      "text/plain": [
       "  Tokens in chunk:   0%|          | 0/500 [00:00<?, ?it/s]"
      ]
     },
     "metadata": {},
     "output_type": "display_data"
    },
    {
     "data": {
      "application/vnd.jupyter.widget-view+json": {
       "model_id": "9381749e2da14e4689172ca9eb1645e1",
       "version_major": 2,
       "version_minor": 0
      },
      "text/plain": [
       "  Tokens in chunk:   0%|          | 0/511 [00:00<?, ?it/s]"
      ]
     },
     "metadata": {},
     "output_type": "display_data"
    },
    {
     "data": {
      "application/vnd.jupyter.widget-view+json": {
       "model_id": "d9b0e5e19d1e4bdbb68c0ab8ac7f120c",
       "version_major": 2,
       "version_minor": 0
      },
      "text/plain": [
       "  Tokens in chunk:   0%|          | 0/487 [00:00<?, ?it/s]"
      ]
     },
     "metadata": {},
     "output_type": "display_data"
    },
    {
     "data": {
      "application/vnd.jupyter.widget-view+json": {
       "model_id": "a945d8cdc3d647e88f629eead5d8633e",
       "version_major": 2,
       "version_minor": 0
      },
      "text/plain": [
       "  Tokens in chunk:   0%|          | 0/456 [00:00<?, ?it/s]"
      ]
     },
     "metadata": {},
     "output_type": "display_data"
    },
    {
     "data": {
      "application/vnd.jupyter.widget-view+json": {
       "model_id": "46515fac13cc43d3ba39af78fa911d57",
       "version_major": 2,
       "version_minor": 0
      },
      "text/plain": [
       "  Tokens in chunk:   0%|          | 0/465 [00:00<?, ?it/s]"
      ]
     },
     "metadata": {},
     "output_type": "display_data"
    },
    {
     "data": {
      "application/vnd.jupyter.widget-view+json": {
       "model_id": "bb15c274895c4b4db09732b55dfa25c2",
       "version_major": 2,
       "version_minor": 0
      },
      "text/plain": [
       "  Tokens in chunk:   0%|          | 0/514 [00:00<?, ?it/s]"
      ]
     },
     "metadata": {},
     "output_type": "display_data"
    },
    {
     "data": {
      "application/vnd.jupyter.widget-view+json": {
       "model_id": "050580746c274048a7c9c5d3db827064",
       "version_major": 2,
       "version_minor": 0
      },
      "text/plain": [
       "  Tokens in chunk:   0%|          | 0/426 [00:00<?, ?it/s]"
      ]
     },
     "metadata": {},
     "output_type": "display_data"
    },
    {
     "data": {
      "application/vnd.jupyter.widget-view+json": {
       "model_id": "e44fead54d6b496fb98c959ccb659fc3",
       "version_major": 2,
       "version_minor": 0
      },
      "text/plain": [
       "  Tokens in chunk:   0%|          | 0/537 [00:00<?, ?it/s]"
      ]
     },
     "metadata": {},
     "output_type": "display_data"
    },
    {
     "data": {
      "application/vnd.jupyter.widget-view+json": {
       "model_id": "584e887fea2c4598838302bce95e1f68",
       "version_major": 2,
       "version_minor": 0
      },
      "text/plain": [
       "  Tokens in chunk:   0%|          | 0/494 [00:00<?, ?it/s]"
      ]
     },
     "metadata": {},
     "output_type": "display_data"
    },
    {
     "data": {
      "application/vnd.jupyter.widget-view+json": {
       "model_id": "118fb1bdc10a4fb6b45dae70fc4f1c6d",
       "version_major": 2,
       "version_minor": 0
      },
      "text/plain": [
       "  Tokens in chunk:   0%|          | 0/600 [00:00<?, ?it/s]"
      ]
     },
     "metadata": {},
     "output_type": "display_data"
    },
    {
     "data": {
      "application/vnd.jupyter.widget-view+json": {
       "model_id": "7485f6576ac34ef5851b62e5265bbfdb",
       "version_major": 2,
       "version_minor": 0
      },
      "text/plain": [
       "  Tokens in chunk:   0%|          | 0/473 [00:00<?, ?it/s]"
      ]
     },
     "metadata": {},
     "output_type": "display_data"
    },
    {
     "data": {
      "application/vnd.jupyter.widget-view+json": {
       "model_id": "f46e21066000499baae2be2b07cb9af2",
       "version_major": 2,
       "version_minor": 0
      },
      "text/plain": [
       "  Tokens in chunk:   0%|          | 0/494 [00:00<?, ?it/s]"
      ]
     },
     "metadata": {},
     "output_type": "display_data"
    },
    {
     "data": {
      "application/vnd.jupyter.widget-view+json": {
       "model_id": "06315bf7ea594c459145961aae9d76bf",
       "version_major": 2,
       "version_minor": 0
      },
      "text/plain": [
       "  Tokens in chunk:   0%|          | 0/495 [00:00<?, ?it/s]"
      ]
     },
     "metadata": {},
     "output_type": "display_data"
    },
    {
     "data": {
      "application/vnd.jupyter.widget-view+json": {
       "model_id": "522d1828197241b49956b958f5a5b854",
       "version_major": 2,
       "version_minor": 0
      },
      "text/plain": [
       "  Tokens in chunk:   0%|          | 0/442 [00:00<?, ?it/s]"
      ]
     },
     "metadata": {},
     "output_type": "display_data"
    },
    {
     "data": {
      "application/vnd.jupyter.widget-view+json": {
       "model_id": "7e2f662c8c72409dba4e978002c278a5",
       "version_major": 2,
       "version_minor": 0
      },
      "text/plain": [
       "  Tokens in chunk:   0%|          | 0/452 [00:00<?, ?it/s]"
      ]
     },
     "metadata": {},
     "output_type": "display_data"
    },
    {
     "name": "stdout",
     "output_type": "stream",
     "text": [
      "Total decoding time: 339.62 seconds\n"
     ]
    }
   ],
   "source": [
    "recovered_ids = decode_chunks(chunk_data, model)"
   ]
  },
  {
   "cell_type": "code",
   "execution_count": null,
   "metadata": {
    "id": "DcOIziVSPNAz"
   },
   "outputs": [],
   "source": [
    "orig_ids = sum([entry['ids'] for entry in chunk_data], [])\n",
    "encoded_output = sum([entry['bits'] for entry in chunk_data], [])"
   ]
  },
  {
   "cell_type": "code",
   "execution_count": null,
   "metadata": {
    "colab": {
     "base_uri": "https://localhost:8080/"
    },
    "executionInfo": {
     "elapsed": 8,
     "status": "ok",
     "timestamp": 1751448684096,
     "user": {
      "displayName": "Yulia Yorkshirelove",
      "userId": "10480095246692972307"
     },
     "user_tz": -180
    },
    "id": "2izCnHqrPNAz",
    "outputId": "3c5f5a03-7e52-4fee-fc16-5102b08447f6"
   },
   "outputs": [
    {
     "name": "stdout",
     "output_type": "stream",
     "text": [
      "Совпадают полностью!\n"
     ]
    }
   ],
   "source": [
    "compare_sequences(orig_ids, recovered_ids)"
   ]
  },
  {
   "cell_type": "code",
   "execution_count": null,
   "metadata": {
    "colab": {
     "base_uri": "https://localhost:8080/"
    },
    "executionInfo": {
     "elapsed": 4,
     "status": "ok",
     "timestamp": 1751448684096,
     "user": {
      "displayName": "Yulia Yorkshirelove",
      "userId": "10480095246692972307"
     },
     "user_tz": -180
    },
    "id": "5zdGuE-LPNAz",
    "outputId": "f0741046-a0df-4e38-8e8e-231eb35ae4f1"
   },
   "outputs": [
    {
     "name": "stdout",
     "output_type": "stream",
     "text": [
      "Исходный размер:   400000 бит\n",
      "Размер после сжатия: 57478 бит\n",
      "Коэффициент сжатия: 0.1437\n"
     ]
    }
   ],
   "source": [
    "compression_stats(data, encoded_output)"
   ]
  },
  {
   "cell_type": "markdown",
   "metadata": {
    "id": "rLOQfZZOOoAR"
   },
   "source": [
    "## GPT2"
   ]
  },
  {
   "cell_type": "code",
   "execution_count": null,
   "metadata": {
    "id": "kuVIIOuPNW11"
   },
   "outputs": [],
   "source": [
    "clear_memory()"
   ]
  },
  {
   "cell_type": "code",
   "execution_count": null,
   "metadata": {
    "colab": {
     "base_uri": "https://localhost:8080/",
     "height": 241,
     "referenced_widgets": [
      "387ae79df74a47b0a70e1136d614988f",
      "3f9938bb58bb46388e75bb3edcfa1155",
      "eb5492c955a646738c1b979973b45aa6",
      "317819c3a5cf474bac46d792ae95d4ca",
      "8836e0ca224f472b92af7748c7f8bf36",
      "cfeb3125b2b94041bb3ac6b9bea42bfb",
      "1602339b10704992a7d022364db19e24",
      "3015842f810d42bf89a965324f9334db",
      "d3b31a9157384ddb98e954147a1efa49",
      "8379b7c92c6f4b44897edb7149e8b6e4",
      "45b04234cfe9442b802629c10759532b",
      "fc009ab314054fbd927c8d6951d66c67",
      "35e5c5551b2c49d5a47a9aecb847d572",
      "8adbc9e4241142ddb58ce3b8e7916b00",
      "4eabcf61d0ab4ede9cea75a8ca6c4242",
      "41a952716d2e476d81cdf6e40bb29060",
      "66be70512d424c1daf00378d7c115833",
      "66c7472349844bf989d6c2622fa95187",
      "04bffde46437419e974a889d24e48df9",
      "7773c6b1be504113aecdec34f6ab903a",
      "ffcb87e5581046a4b5334a24d77a6c57",
      "867fda0d1b284fedacc15e01da09a149",
      "7116b0f330ea4e439a3a2c8325e32c89",
      "7edfc7f2019b4c9c96f235f24fa7ee99",
      "a0f5b32e873547f09887dfc5e1003fce",
      "209c1f06c7754b889aaeb0e12faa774e",
      "61b614614fb849bf809ecd879ff0f433",
      "feba6b70a5e24e57a6e7e12a828068b4",
      "5fd63a21af0343b98604b3d489cc0c97",
      "ce81607e375e4bba842c46ba3153821c",
      "1515bb0a492744529b7de8567cb4b77d",
      "1f141188230b4d64a782756b33212502",
      "7bc92a7f214d463ab33ad3045fd29f6a",
      "e0e33ac1aff041449a20ab313c10df5f",
      "369ea681a8114b35821c66e2013ab24b",
      "22a4164c57fe46ee93040062557689cc",
      "62ce4bdacb5848c2b2831c6d5cbf23ec",
      "9578724c6d544eff8914f6ffd4735ced",
      "dddc5fc0d1ca4fcf9b5735feb8cc85b8",
      "1c9092cf54b64941907e1677402ecce5",
      "140250ba8bf44492a7a0d25d23978c28",
      "cd860304d6eb4e53bc50ca96d6de0f3f",
      "d69c4c956ec244e3aa1d29e45f0a4613",
      "6d7971868d854ee0a496e993ad0d5463",
      "b6c1f2aba0504dd4aed857ef2adb0b4f",
      "49a56699fc4d44f190d27a513350ab60",
      "005e321c8fe04047b93cbc3f3f33f2d1",
      "54abeb5095e84fc69ac343846e940a17",
      "eff1f374995745a59667f42bf67920db",
      "932334af78cd4ef0ab64466595c1fd84",
      "6a8a3c2d62e946c387a46ba30ee848b6",
      "207cb3c03cec436699e7e57042a9a5bf",
      "4743c34a11c542f5b8939db7861f37a0",
      "9949538c331e4db185b3f0fab20b3e39",
      "0c29a55963a6483c8057723abdfda93d",
      "5ca7d73677ee4c17a0be23369ebe6542",
      "a2ecc44b9dde45809a7aea03982c461a",
      "1e5cf8b031b24eb6ac1678c166beba0f",
      "80565ba1546c46e29bbe7e888b43e3f9",
      "ef67183f2237411190676983e5b951c4",
      "b7f8d8b643204bbf850b17c8609db231",
      "721e9cd258a34fd380e77a340836e0c3",
      "0733214033264e508007c0f15b5a3bf0",
      "f3f9e064d77f46c2bb2b40124008eefd",
      "6487e9391f4c44a39620f8bfd934e7d9",
      "e355891b60ae4852a0e93cc1b5843ca9",
      "daef57b976dc43078ee8d9e7e920c44f",
      "acc38549d5e2485daf9aae08ebfab801",
      "3413a06e4c7c48bc872dc4e6c4853aa4",
      "a9bbd506114f4a93b603c93fdd48156b",
      "9ecca385419f468192f0c1cac816d391",
      "3e7698c1daf84d209b4e6f347831af64",
      "adbcac0a6c664fa6ba08749b45d15e13",
      "dec7d1b0fde94c8a9e95327e397267b4",
      "943a524f5d1f4bdba75d8ee22acddf3a",
      "ee11eff85a8845c79638ca1ea20512bc",
      "e1c4ac2f9885401ead3f0d2a2ce16d40"
     ]
    },
    "executionInfo": {
     "elapsed": 13875,
     "status": "ok",
     "timestamp": 1751448906479,
     "user": {
      "displayName": "Yulia Yorkshirelove",
      "userId": "10480095246692972307"
     },
     "user_tz": -180
    },
    "id": "cCsQKW-lNuEc",
    "outputId": "46f834c5-6b01-42f7-c65c-07afe8ee17c7"
   },
   "outputs": [
    {
     "data": {
      "application/vnd.jupyter.widget-view+json": {
       "model_id": "387ae79df74a47b0a70e1136d614988f",
       "version_major": 2,
       "version_minor": 0
      },
      "text/plain": [
       "tokenizer_config.json:   0%|          | 0.00/26.0 [00:00<?, ?B/s]"
      ]
     },
     "metadata": {},
     "output_type": "display_data"
    },
    {
     "data": {
      "application/vnd.jupyter.widget-view+json": {
       "model_id": "fc009ab314054fbd927c8d6951d66c67",
       "version_major": 2,
       "version_minor": 0
      },
      "text/plain": [
       "config.json:   0%|          | 0.00/665 [00:00<?, ?B/s]"
      ]
     },
     "metadata": {},
     "output_type": "display_data"
    },
    {
     "data": {
      "application/vnd.jupyter.widget-view+json": {
       "model_id": "7116b0f330ea4e439a3a2c8325e32c89",
       "version_major": 2,
       "version_minor": 0
      },
      "text/plain": [
       "vocab.json:   0%|          | 0.00/1.04M [00:00<?, ?B/s]"
      ]
     },
     "metadata": {},
     "output_type": "display_data"
    },
    {
     "data": {
      "application/vnd.jupyter.widget-view+json": {
       "model_id": "e0e33ac1aff041449a20ab313c10df5f",
       "version_major": 2,
       "version_minor": 0
      },
      "text/plain": [
       "merges.txt:   0%|          | 0.00/456k [00:00<?, ?B/s]"
      ]
     },
     "metadata": {},
     "output_type": "display_data"
    },
    {
     "data": {
      "application/vnd.jupyter.widget-view+json": {
       "model_id": "b6c1f2aba0504dd4aed857ef2adb0b4f",
       "version_major": 2,
       "version_minor": 0
      },
      "text/plain": [
       "tokenizer.json:   0%|          | 0.00/1.36M [00:00<?, ?B/s]"
      ]
     },
     "metadata": {},
     "output_type": "display_data"
    },
    {
     "data": {
      "application/vnd.jupyter.widget-view+json": {
       "model_id": "5ca7d73677ee4c17a0be23369ebe6542",
       "version_major": 2,
       "version_minor": 0
      },
      "text/plain": [
       "model.safetensors:   0%|          | 0.00/548M [00:00<?, ?B/s]"
      ]
     },
     "metadata": {},
     "output_type": "display_data"
    },
    {
     "data": {
      "application/vnd.jupyter.widget-view+json": {
       "model_id": "daef57b976dc43078ee8d9e7e920c44f",
       "version_major": 2,
       "version_minor": 0
      },
      "text/plain": [
       "generation_config.json:   0%|          | 0.00/124 [00:00<?, ?B/s]"
      ]
     },
     "metadata": {},
     "output_type": "display_data"
    }
   ],
   "source": [
    "tokenizer, model = load_model('gpt2')"
   ]
  },
  {
   "cell_type": "code",
   "execution_count": null,
   "metadata": {
    "id": "b9Rpx2j_N3iT"
   },
   "outputs": [],
   "source": [
    "data = get_data(50000, tokenizer)"
   ]
  },
  {
   "cell_type": "code",
   "execution_count": null,
   "metadata": {
    "colab": {
     "base_uri": "https://localhost:8080/",
     "height": 66,
     "referenced_widgets": [
      "6279130b46204a9ba9048c918bc67a84",
      "7bd2b4c252a44d0ea20fa2d2929ed00e",
      "e9e6d5fcdae048f399878cb571eabe36",
      "9c1eaa2526a84389ace7272f36e3036d",
      "df775ee706a749f2b6f4c47862c310d1",
      "fe6eb1a549b54e528eaa31ae00f5a71e",
      "d711b0af2cd844c5b1417a3383ceff90",
      "22da2bebe0a8477f9f8555b7739bd4cf",
      "03868c13e1c94c28a5cc557daaa62955",
      "f15d0caf3ce2401eae214cdb2cdb01dd",
      "f580f5dc655b4cb686380e4bee3860e6",
      "2b10bccba2b14df9b62ee8a7c9417c42",
      "840eca0fb7c74569997f4f80e5a3920f",
      "c3dcc020ab33496693f69a26396af049",
      "53fe90a1f74a41c6a80d87b9d9c90e34",
      "67e9f267d90642f9a752150ca2ed5a19",
      "22235f554f744981afd44296b83aed1e",
      "6a22588e312b42f88255af399efc6aa5",
      "9a0c1c2f10464b07b68cc9efa57fd9b5",
      "7435a33485fb4c37a62ef0dd64cc8336",
      "15885511960844c6b6cc51be6f2b2b71",
      "7445b54c4e5444d2b9dcb315ccd2b5df",
      "95939f9c8e624d2288e53fff66a35145",
      "caf3e5ff4674415987c45e29adb6fb35",
      "21d8cc876bd44699b9c9d3b6d5eaf412",
      "2d6fe96d13d646a590567e83b84461ed",
      "e52b908d6f094b6c87fe8ca2f2183c12",
      "6412b513a6d64e3fa2ee21e4c14426ab",
      "e34aaee1f94049168a5db9ebec31fbbb",
      "1af54eee6fa34439972db87e278bfae6",
      "e393b08371f245768ecdc0a29d1cac53",
      "9a895991b15749a8b17e375f34dafddf",
      "f9707ec61d584abaa8c98887b4a67309",
      "4e29d851f79e4d10b5765a6add3bd104",
      "e64b66cb3c9b4f63b30656ef8117b121",
      "f77729f2be87423da767b95c3757daec",
      "9e0492fc8d2340c9aecdb032eb688013",
      "a766705b0a0040768fb12fd96799c84c",
      "d69989dca51e417e87d94d87f2aac4a0",
      "dd5e43e6c78a41b0abe2a72a18918a8f",
      "b635516b1db34c9cba349450bd93dd0d",
      "b2497847724d43da9432a93075457634",
      "024cf835b7644773bf9e546d879d3183",
      "51d6a5d39e6f40b9b77f06a39e87610a",
      "ede82e4f230e4ca88b0909454542e82f",
      "80df0fb1e4ea4cb696b35d67956bd7d6",
      "ccf25deb98b24888811de67cb3e7e45b",
      "40ef5a3063a34adcbf5e71b32d7cca83",
      "04f4ea5dd8f2421eb8bc5fc2b5d7ddbc",
      "44e761eb7d3148fdaffd372bb4d824b6",
      "f3270b2f0d8948f2905711a371c2507f",
      "e24495a2699545cb9f9805b29d935e15",
      "ff51763691e348da89aa1b2b53d4c98d",
      "5abf8e409b2b40ca9a65e030709e175c",
      "b0a0bcedc13b493785a06b229767aab0",
      "1e91b26b532947739ba9c9e06137d1ce",
      "a39548b918c540aa9f145730d41b98a4",
      "c81994fcbaf44b729f7faea03be570fe",
      "490abfe1bfd34595806b4422735fc76a",
      "8b61119c12ab40a08dd19eec165654ef",
      "30344a46467043e1a55949c5961f61ac",
      "ca196e1d174e43b8964f85488ed27af1",
      "0a4781a0ca8f477795a1d548af443321",
      "866d54f474f94d79baa669d054e2903f",
      "982a34116537475684057d5f292f110e",
      "003590c594de4b6084f6e6c7928f953c",
      "a74bbc50e09449a296c2e8b502c4451a",
      "dfa3b20f09f546d39c1b55a363a7f04c",
      "4500a538358447f28857eeeda62dfa22",
      "e0ea1660ce264dccb49c0950d9b9ad55",
      "42461f818b0546e78749f4bb0e03a02c",
      "22660b8efadf404995a7b8bda5dfb0a0",
      "b76e29c25b2145cda8f134d72819438a",
      "9888211e9bbb427cad812f52ba27ec9f",
      "9073fb8f69784068b3515d913f812df0",
      "2c8acf56aa274943a78393fec2ad63f5",
      "f954d7be80d64304890e359a5a004b9f",
      "93e261a4afcf4dcb880bd81097a672b3",
      "ff67ca2319ec41f6a13bf9859ac4e9cd",
      "8f4e7da8967844cea160dfe56c5b20f3",
      "003072cf3529433f871f8b4ab65db838",
      "24dcd88385e04e609e0f89a8f142f4a6",
      "d6ee5d0200a6467dab6949509789d3d7",
      "91f67e334236460597a0198a21cdd7de",
      "aa115242b5494e3b93d326b5d78a24b5",
      "da182dae54024749b1de4f1355922491",
      "1e40adba566e43b7b3f046db99be86e5",
      "34602100756c4034ba04ae11eb7ff791",
      "eedc8907a1e84ba6b12292dea19d1790",
      "7c6888be43fc47628b6fa35536ab5c75",
      "c4aae345d411448f801d312c21a1bde5",
      "4c78ebe7cb3a40d88148561382a33bce",
      "8c7e4034d26b4edaa49aadac562b3c2d",
      "af3311af12f941af9439ad3c46183c82",
      "4f5ecb83ac2648e388b7f7ca9f4e4138",
      "336a60f7e7e14c2ab03bf3fe8bfaea5d",
      "c676697319e74718875cd5442db4f831",
      "7dc1a9d74b4d4e0a9e5d044824b3d98f",
      "13bbc05a9ee34d3ab3636703b907d7f2",
      "e1d8b6e793e24a2d8eb97fcaa02297ea",
      "01a4ee24242f41e991e80cc5ac850ed9",
      "8131ae2c98f14dc2b9b72a3d0429ed4c",
      "7f260a0d538749b083eec6d790856aa2",
      "522934520ed44a52b1d1047d00f14d89",
      "19ab43ee202948618ae805ddc17740b6",
      "c5d0cae004c049dd9dafab87b2531652",
      "f6d515a037cc4c8ca6d1d85010095b21",
      "db368773695c4011b76297f499d537e0",
      "0c221d645b3843ef88b60ebbbc772d04",
      "1737f149bb9d4d01a44a7e28fe12e10e",
      "4d30ebc5133a434c8dd526a8f67ed70a",
      "53a7f0ee46bb4aa487c06e48e1fc891f",
      "472094b39fb34791a3949c2eed43fd6b",
      "06416a7d78464f4cac8d438fb479d323",
      "135e1bfc242b4aed9ed3e34a20f8ac25",
      "b277a469b3ac404e8b09d276e01387a6",
      "6902bfb90b944799b27969e437ce13f5",
      "38c298654b5f4027834ffe37265ab6e9",
      "97c7bf52afb74e258bca4913cb32cd33",
      "aad6a6f625a64cc79f375ac2694e2f4d",
      "48c7f0068839455fa0aba6b41bc3dbaf",
      "764f90e46f5f496a8acbd4795450cf83",
      "834ad1cca3964c598bf505c032c5601d",
      "e2a0b2ac57da4143a94aa3f4764c5733",
      "b235b853868f4498bc0480f3371f8908",
      "768a5a7eb74845468c49968276fe6469",
      "d9ceb9b6561c4c8197743e5fd547cbc6",
      "520ec50f02954b1783147bac3afd3bfe",
      "065da9eec9314ffeb60334aa2e335add",
      "6615941b71e04f67a22080c0545d3c1f",
      "c8569982c28944f98149107a5c73cec6",
      "a0d63ffb869f4cdcb1b6a69b37fd77cc",
      "4d812880d5ff4f868667291732c2695b",
      "e1a3a69a45274ca38f4cc2ccd8414d7e",
      "e7331767be604f5f9d6485755cfb588b",
      "4b0b5cd11300462abefa89b1950ad676",
      "110d5db7ef4e411dac5b194457345b78",
      "ee163ad845a94e8b827c562bf30f1892",
      "a9ff5b901ae9468cbeb39adcf9edd0dc",
      "184da247039b4efc91bb3f90ce55e7c4",
      "f0b4d08ecdb3402ab175c64ed1bdf913",
      "348152652054473b9f49f75f17892ea6",
      "49e0331120c14b439aa3305a6ca9b98b",
      "096326bd72844e6d80b35f06d5e874f6",
      "9a665c65cf9649d5a912264fe0267041",
      "07593ba7922c402e832fd9687129dc56",
      "5783874da190449fa026c0ae5706bdd7",
      "e3b8bab9c1f34d5288442d76206052c2",
      "785b7a18a03e4b01b1f5c5ab74f44c34",
      "97a7fe0a183c4ce98d6301734790ba3d",
      "268e0f8ec87744b7b797e38c2e80fa68",
      "f98c611d3f084529831da2bf4044a525",
      "ad11a912cad048adb79dd4154353404c",
      "def1f2521db344c39e7e40707afeaaf6",
      "9823b49f532241fdb0b2e35e670b6fc6",
      "85f1b734f3ac463897f1d656bfc112c5",
      "3dcb48f23d604d93a00d947c63291744",
      "de355298f44a408584e706ce856c6a8a",
      "256c9e8017c94d7e9f27267d1be4d354",
      "432dbc070f4a4deda0e017599836e677",
      "4ce04d013722416e8dc4682491c68bc6",
      "22dddf7598fc470990a3d686363a1574",
      "52d36ed0df914c579e9272bf115e33d3",
      "ee4b04161bbe4d4d8f0dc2e4c96e7713",
      "e2aea6604dcf49b5aad057095bdc999b",
      "0a43f65040d74f04ab70bdf4629619f9",
      "27aa04a62ae945f8b73e56710ddcdfab",
      "9be6322afe4e4404bd2a01a94123fc0c",
      "deaeca0d633842a98211564fd290abfa",
      "e49b408860144579899c55fb8e69d830",
      "e628465b470e424ba34093a7f98b14ca",
      "c44b61b272c94b0aa42f34fa11e7ef2d",
      "52e5236bb4094752bf393ef21c25d589",
      "f998a0da97104c45bffeb949ec33d540",
      "18989633bce84504be9510a133e87ae4",
      "e8bb81ff1e844f8daa75303f5577c061",
      "b5964351994246a69def28a6d2b405d1",
      "ab7432c1716049278c5108deec5675d9",
      "f8c632fde0164295909c079f31caf8d5",
      "1a9ca7da112347bdabc76c3b645cc0a1",
      "7792f1c3137643d3bbf106c2c6b44a61",
      "0dc778ba8df44fb6ba34dec0f19086c6",
      "0c525c1da75140d293788b635bfdaf13",
      "0028dfbf91cd4a6896cec7cc5c041568",
      "1b9ba48caf3b47ebb047842f4f66c648",
      "77e91da7f39d48a597819f3107987a5a",
      "fa028d213be24643b772bf588c7a86df",
      "f878322b618b40549380c6015febb893",
      "f6c83ceaf3774d25b4359ed0234d274d",
      "1ed7e63ce1db475e8736c1a709976438",
      "d78ee97d540b4a70b379d0e5a81048f0",
      "af880dbaf1944cf59c15804b229a0983",
      "0d231bf5011c4dd4a9996d8766aad87a",
      "80713607a9a74ca891f5f56089803a1d",
      "660c7dafcec441adb4fb75e4323a3708",
      "d9aae4c424324730a5eaedaf9d1d8970",
      "cfec797b08c6437892c0a52f3ecdd912",
      "b0d8c52bf91f40dfa7eda0844665c14b",
      "063360fec3e94ad9a915c7979830f4a7",
      "0f055b3e5a2846a8bb81b0dabe396b24",
      "896657c9f5314b0382753ea64f235866",
      "98f28c4221ca401eb334b297a7336d23",
      "b84c1011f48f492185b519512896b38e",
      "2fde6e2461fd4a3393607a3d0df8ff6b",
      "c713352e421d4bcebea05b21b57accd3",
      "0650511de55b491aadc08da9f7ce386a",
      "c37abe4a2ffe4e9fbda1721b0690b90c",
      "90507fed05b64141910d221ee3328e5c",
      "dfa7b08090374de883424ed53601023b",
      "0eac6cc0ac1c4f74956bf974f1512e37",
      "3c8145b7b243453584ae954b94bd007d",
      "6a5aef5ebe0c4de7a7fe6cdd5312921d",
      "48dacfaa1dd44edaa4ff023048c2e7b9",
      "a97582373a184575814964a7300bf0e3",
      "280740a8c0974694ab5b0f029b2ff856",
      "b975c2bc3f364bb38e0d832d96a544d3",
      "d8c2a580805a4d5a8e60b64506c4466a",
      "db0a85d18d0c4921b767581decc97d2a",
      "12f9bad36ba5475780ca89e26ddd7f02",
      "58f849d1b74d4ff997578291b7cc9753",
      "82cd5976317843079a702ab35e2573bb",
      "d01cad66a64e4b5fb5eef67ab5812a38",
      "3d2a7206458f48198d5e7029e069ed6f",
      "16e87c778719459a87ef9538bd19843b",
      "c4bfd3c3d0c541d79ce9968f1347ffff",
      "e3bfcaf8775f419c9d9506f3bd8b3436",
      "ca072a8aa18b419885fee160ba199272",
      "27c05abc2bc54528aa913bfcb54ec3c4",
      "78fd287ae65a463f9ed05cf7bd293632",
      "bf375f9d5f844cd69767888cc55671f0",
      "330b451af72b45bb99ff91ea41278562",
      "00401501bec1468d9fd94b376eaaa8b2",
      "e8bd70b548524859a2328c175998a2bb",
      "3afb7a50f3d14b8eb8dd43ba3b876f6c",
      "1072e91a3bc649bfaa4075e2b8996c23",
      "ccd4ec44418c46bca4af64b44cc55053",
      "254570b39e6547c2b5c15311ec476faa",
      "79fccb121071463c86e955c7cf9fd0e0",
      "c55b5d4c8eba4554a9eea9104247dedb",
      "aba3322057634b919db09833f1f05e65",
      "8e16e99a92524b9c9e07c19ca6d8740a",
      "d9fd838590284f0b8b92ed1db9e48c85",
      "aafe8befed42439fa13c461c5109f067",
      "5d5ed50bca62416c839ea34ac492cfe8",
      "2b6554f18d1e4a94a8869ecbe7828b44",
      "05b773602f1f4a32bb856468cc4e0fb3",
      "caf341a11ec84679acfcd237256a4bbb",
      "1ea58d67b4a84f61a5edbe057d9cc9ac",
      "0ac6b5a1c2154c528a8f716b5bcce014",
      "e2506239e90c4c1daa4432d63ca9b3f9",
      "3f0350c815f24073968c1365b4deae92",
      "67b54f8424094220a42cad1e81b01c30",
      "84d72a179be84d29a98894047e7e641b",
      "56abaacfad954efb95629680e6d5cc5b",
      "0ab4c67cd53b47a6aa2ebaca9a036816",
      "49bb68343e93422b96c07bc0edea4ab5",
      "9e6fd9ba0cef4ba8a0cc9ece5319b74d",
      "42173f196a56470ca0b68e1ccbd1efdb",
      "8caa93bdac0646ddb4586384a8dd8c56",
      "a824c396f1e74f858c201a04c088bb6e",
      "0c97ed0bae304fe994ab0d077e2e154f",
      "a07ac219e3a249be8c7ae0b68fa048b9",
      "e8cd332b6ed3439fbb2d519a49eaebc3",
      "d1a729f974554f8e9ac2946582c0e8a4",
      "47e6e26561674f648308c45c3860e601",
      "8e50092c77de40fe83715725d142941d",
      "2a53a9ba894e45c3bed2e20560d24ead",
      "842c4ca68a6c4fc2a67b16f79003e0d6",
      "d1a5910e0b7f4d6f9445dd85d185e4f3",
      "7d109418f29740ab96db76fc8437eafc",
      "5cfba32192c841beb7b8fdc29efd5019",
      "66764deb62e14bcba33b1df23c77b113",
      "137de0767c8a4085bea82a0ab30d08d8",
      "41e98bd2966740d68e7208613dd4679f",
      "e9334bfd627741238b0f4fcb7e3bf8d2",
      "92cc4d2d50224e6cabf35de22ee659cb",
      "1bf8abd38b5446f2bd46028fb791b4e5",
      "49cb875733d2424dbc5b4629529863c0",
      "4db224a657514fdb93be560713d4f931",
      "5cb8d3ea0f1d455784153d43462b871b",
      "88034287e1db41c98ba8fe40d98cd226",
      "a65b56b8a43e480881c715e33b64dc72",
      "6c9bd85233b24ef2af20142f44efc9d1",
      "693e47cc77a44186998853a2e5553948",
      "b72920ae0e084d93bc63c6899763a840",
      "c64f4ee5a9904d63abb43b718d6028b1"
     ]
    },
    "executionInfo": {
     "elapsed": 379854,
     "status": "ok",
     "timestamp": 1751449286341,
     "user": {
      "displayName": "Yulia Yorkshirelove",
      "userId": "10480095246692972307"
     },
     "user_tz": -180
    },
    "id": "WEQI4kvtOXz5",
    "outputId": "60f22448-4833-4f7b-96bc-a81e8bf3b6ea"
   },
   "outputs": [
    {
     "data": {
      "application/vnd.jupyter.widget-view+json": {
       "model_id": "6279130b46204a9ba9048c918bc67a84",
       "version_major": 2,
       "version_minor": 0
      },
      "text/plain": [
       "Encoding chunks:   0%|          | 0/25 [00:00<?, ?it/s]"
      ]
     },
     "metadata": {},
     "output_type": "display_data"
    },
    {
     "data": {
      "application/vnd.jupyter.widget-view+json": {
       "model_id": "2b10bccba2b14df9b62ee8a7c9417c42",
       "version_major": 2,
       "version_minor": 0
      },
      "text/plain": [
       "  Tokens in chunk:   0%|          | 0/896 [00:00<?, ?it/s]"
      ]
     },
     "metadata": {},
     "output_type": "display_data"
    },
    {
     "data": {
      "application/vnd.jupyter.widget-view+json": {
       "model_id": "95939f9c8e624d2288e53fff66a35145",
       "version_major": 2,
       "version_minor": 0
      },
      "text/plain": [
       "  Tokens in chunk:   0%|          | 0/984 [00:00<?, ?it/s]"
      ]
     },
     "metadata": {},
     "output_type": "display_data"
    },
    {
     "data": {
      "application/vnd.jupyter.widget-view+json": {
       "model_id": "4e29d851f79e4d10b5765a6add3bd104",
       "version_major": 2,
       "version_minor": 0
      },
      "text/plain": [
       "  Tokens in chunk:   0%|          | 0/607 [00:00<?, ?it/s]"
      ]
     },
     "metadata": {},
     "output_type": "display_data"
    },
    {
     "data": {
      "application/vnd.jupyter.widget-view+json": {
       "model_id": "ede82e4f230e4ca88b0909454542e82f",
       "version_major": 2,
       "version_minor": 0
      },
      "text/plain": [
       "  Tokens in chunk:   0%|          | 0/597 [00:00<?, ?it/s]"
      ]
     },
     "metadata": {},
     "output_type": "display_data"
    },
    {
     "data": {
      "application/vnd.jupyter.widget-view+json": {
       "model_id": "1e91b26b532947739ba9c9e06137d1ce",
       "version_major": 2,
       "version_minor": 0
      },
      "text/plain": [
       "  Tokens in chunk:   0%|          | 0/595 [00:00<?, ?it/s]"
      ]
     },
     "metadata": {},
     "output_type": "display_data"
    },
    {
     "data": {
      "application/vnd.jupyter.widget-view+json": {
       "model_id": "a74bbc50e09449a296c2e8b502c4451a",
       "version_major": 2,
       "version_minor": 0
      },
      "text/plain": [
       "  Tokens in chunk:   0%|          | 0/561 [00:00<?, ?it/s]"
      ]
     },
     "metadata": {},
     "output_type": "display_data"
    },
    {
     "data": {
      "application/vnd.jupyter.widget-view+json": {
       "model_id": "93e261a4afcf4dcb880bd81097a672b3",
       "version_major": 2,
       "version_minor": 0
      },
      "text/plain": [
       "  Tokens in chunk:   0%|          | 0/459 [00:00<?, ?it/s]"
      ]
     },
     "metadata": {},
     "output_type": "display_data"
    },
    {
     "data": {
      "application/vnd.jupyter.widget-view+json": {
       "model_id": "eedc8907a1e84ba6b12292dea19d1790",
       "version_major": 2,
       "version_minor": 0
      },
      "text/plain": [
       "  Tokens in chunk:   0%|          | 0/509 [00:00<?, ?it/s]"
      ]
     },
     "metadata": {},
     "output_type": "display_data"
    },
    {
     "data": {
      "application/vnd.jupyter.widget-view+json": {
       "model_id": "e1d8b6e793e24a2d8eb97fcaa02297ea",
       "version_major": 2,
       "version_minor": 0
      },
      "text/plain": [
       "  Tokens in chunk:   0%|          | 0/454 [00:00<?, ?it/s]"
      ]
     },
     "metadata": {},
     "output_type": "display_data"
    },
    {
     "data": {
      "application/vnd.jupyter.widget-view+json": {
       "model_id": "4d30ebc5133a434c8dd526a8f67ed70a",
       "version_major": 2,
       "version_minor": 0
      },
      "text/plain": [
       "  Tokens in chunk:   0%|          | 0/563 [00:00<?, ?it/s]"
      ]
     },
     "metadata": {},
     "output_type": "display_data"
    },
    {
     "data": {
      "application/vnd.jupyter.widget-view+json": {
       "model_id": "764f90e46f5f496a8acbd4795450cf83",
       "version_major": 2,
       "version_minor": 0
      },
      "text/plain": [
       "  Tokens in chunk:   0%|          | 0/498 [00:00<?, ?it/s]"
      ]
     },
     "metadata": {},
     "output_type": "display_data"
    },
    {
     "data": {
      "application/vnd.jupyter.widget-view+json": {
       "model_id": "4d812880d5ff4f868667291732c2695b",
       "version_major": 2,
       "version_minor": 0
      },
      "text/plain": [
       "  Tokens in chunk:   0%|          | 0/510 [00:00<?, ?it/s]"
      ]
     },
     "metadata": {},
     "output_type": "display_data"
    },
    {
     "data": {
      "application/vnd.jupyter.widget-view+json": {
       "model_id": "096326bd72844e6d80b35f06d5e874f6",
       "version_major": 2,
       "version_minor": 0
      },
      "text/plain": [
       "  Tokens in chunk:   0%|          | 0/502 [00:00<?, ?it/s]"
      ]
     },
     "metadata": {},
     "output_type": "display_data"
    },
    {
     "data": {
      "application/vnd.jupyter.widget-view+json": {
       "model_id": "9823b49f532241fdb0b2e35e670b6fc6",
       "version_major": 2,
       "version_minor": 0
      },
      "text/plain": [
       "  Tokens in chunk:   0%|          | 0/416 [00:00<?, ?it/s]"
      ]
     },
     "metadata": {},
     "output_type": "display_data"
    },
    {
     "data": {
      "application/vnd.jupyter.widget-view+json": {
       "model_id": "0a43f65040d74f04ab70bdf4629619f9",
       "version_major": 2,
       "version_minor": 0
      },
      "text/plain": [
       "  Tokens in chunk:   0%|          | 0/456 [00:00<?, ?it/s]"
      ]
     },
     "metadata": {},
     "output_type": "display_data"
    },
    {
     "data": {
      "application/vnd.jupyter.widget-view+json": {
       "model_id": "b5964351994246a69def28a6d2b405d1",
       "version_major": 2,
       "version_minor": 0
      },
      "text/plain": [
       "  Tokens in chunk:   0%|          | 0/497 [00:00<?, ?it/s]"
      ]
     },
     "metadata": {},
     "output_type": "display_data"
    },
    {
     "data": {
      "application/vnd.jupyter.widget-view+json": {
       "model_id": "f878322b618b40549380c6015febb893",
       "version_major": 2,
       "version_minor": 0
      },
      "text/plain": [
       "  Tokens in chunk:   0%|          | 0/420 [00:00<?, ?it/s]"
      ]
     },
     "metadata": {},
     "output_type": "display_data"
    },
    {
     "data": {
      "application/vnd.jupyter.widget-view+json": {
       "model_id": "063360fec3e94ad9a915c7979830f4a7",
       "version_major": 2,
       "version_minor": 0
      },
      "text/plain": [
       "  Tokens in chunk:   0%|          | 0/521 [00:00<?, ?it/s]"
      ]
     },
     "metadata": {},
     "output_type": "display_data"
    },
    {
     "data": {
      "application/vnd.jupyter.widget-view+json": {
       "model_id": "0eac6cc0ac1c4f74956bf974f1512e37",
       "version_major": 2,
       "version_minor": 0
      },
      "text/plain": [
       "  Tokens in chunk:   0%|          | 0/486 [00:00<?, ?it/s]"
      ]
     },
     "metadata": {},
     "output_type": "display_data"
    },
    {
     "data": {
      "application/vnd.jupyter.widget-view+json": {
       "model_id": "82cd5976317843079a702ab35e2573bb",
       "version_major": 2,
       "version_minor": 0
      },
      "text/plain": [
       "  Tokens in chunk:   0%|          | 0/610 [00:00<?, ?it/s]"
      ]
     },
     "metadata": {},
     "output_type": "display_data"
    },
    {
     "data": {
      "application/vnd.jupyter.widget-view+json": {
       "model_id": "00401501bec1468d9fd94b376eaaa8b2",
       "version_major": 2,
       "version_minor": 0
      },
      "text/plain": [
       "  Tokens in chunk:   0%|          | 0/460 [00:00<?, ?it/s]"
      ]
     },
     "metadata": {},
     "output_type": "display_data"
    },
    {
     "data": {
      "application/vnd.jupyter.widget-view+json": {
       "model_id": "aafe8befed42439fa13c461c5109f067",
       "version_major": 2,
       "version_minor": 0
      },
      "text/plain": [
       "  Tokens in chunk:   0%|          | 0/500 [00:00<?, ?it/s]"
      ]
     },
     "metadata": {},
     "output_type": "display_data"
    },
    {
     "data": {
      "application/vnd.jupyter.widget-view+json": {
       "model_id": "56abaacfad954efb95629680e6d5cc5b",
       "version_major": 2,
       "version_minor": 0
      },
      "text/plain": [
       "  Tokens in chunk:   0%|          | 0/491 [00:00<?, ?it/s]"
      ]
     },
     "metadata": {},
     "output_type": "display_data"
    },
    {
     "data": {
      "application/vnd.jupyter.widget-view+json": {
       "model_id": "47e6e26561674f648308c45c3860e601",
       "version_major": 2,
       "version_minor": 0
      },
      "text/plain": [
       "  Tokens in chunk:   0%|          | 0/434 [00:00<?, ?it/s]"
      ]
     },
     "metadata": {},
     "output_type": "display_data"
    },
    {
     "data": {
      "application/vnd.jupyter.widget-view+json": {
       "model_id": "92cc4d2d50224e6cabf35de22ee659cb",
       "version_major": 2,
       "version_minor": 0
      },
      "text/plain": [
       "  Tokens in chunk:   0%|          | 0/461 [00:00<?, ?it/s]"
      ]
     },
     "metadata": {},
     "output_type": "display_data"
    },
    {
     "name": "stdout",
     "output_type": "stream",
     "text": [
      "Total encoding time: 379.86 seconds\n"
     ]
    }
   ],
   "source": [
    "chunk_data = encode_chunks(data, tokenizer, model)"
   ]
  },
  {
   "cell_type": "code",
   "execution_count": null,
   "metadata": {
    "colab": {
     "base_uri": "https://localhost:8080/",
     "height": 66,
     "referenced_widgets": [
      "a98ae649a3bd4bb7906149ea16ac90bf",
      "f2ae7ab593414dd49c27bb0b2703e4e5",
      "c419958721e14256950256f45a176090",
      "0616505267c34a278602c9c395d15f80",
      "7ce000783b7c4cf78c36068a6dc1b3a1",
      "c8f398ce7fa24fcf99bc58ba00d237c9",
      "1cfb2921ef9f408ca0521ca4b038b723",
      "7dcac96573504253b2a7aed0a907910c",
      "2313e71ef2914a07814aa0c0d2cce2c5",
      "7113a1981f674899b618b1d88a75389b",
      "e34669d257844adea9340cb8e5b8e50d",
      "f4db2f3203b64cd38a56c1326e8ef76d",
      "c5105d99aac54e92be0ebe60801291da",
      "cc078e4568ae449eaefdb0c6d9f0c1ca",
      "4c85d705b12e4460a443a78ff333a2a7",
      "f8e0eea7c2fa4edfbe07ed728c393705",
      "a0f0719b90b14ab89e9ba6aab626892c",
      "80f1255175eb44fa85531cf07b534f60",
      "dd53d74f00184621bdc3c26ffb9f48c3",
      "5140ad2d38ff4b33942f8f527f8d1f17",
      "44020346fd4b48fb914d3fc0a8049d7b",
      "7d2f32381b2c432bb4310484ac2557ac",
      "7a60071027114cf8a930a7ba7dbfe144",
      "466591cee20640eea43a7a754e8ec8e5",
      "982c8d057555445194ba5844a6e6cd66",
      "e7b5910bca9f47689273f1e8590d997e",
      "96321842bb7b4654bedc679086cde019",
      "1171ea21b63f4f87ba879a2a1fdcf8ca",
      "df4394deab4a42489cbb7d7a4df857d7",
      "d0313f695feb46ef9c26a693dc159bbf",
      "0bf4a439b1b9417da23f40e4bd30a399",
      "160db3ab44f141cc85d2acc16354f8df",
      "6e0fa8226a5d4a66b750ad0af2b69069",
      "196d93025c2b447ba06a5952cb1b0d90",
      "be79d1b51dd645efa37e8316e686c69f",
      "92f9a1db327249c39a1deb07b7e79a76",
      "8a9fa27fc1d04c9fb65eaf7272f94afe",
      "cb77f9f721f940c1ac1a147082092eef",
      "15d7e7afc42c401b95879fc3ef14d2dc",
      "d97d0e1c9d6040b38b2cbb313afc02d0",
      "b06e4510c7134ba49d8b924af49d14e8",
      "b7d331dead4e4167b4253646abf4f5f0",
      "8cc60562533442c2a317974680c5e6d3",
      "0df2934d7dea4603acfead0c2cfd9763",
      "3ab0de14f895474a9049bde708d96ede",
      "4c8d071d13fb4c689976c92b7fcfb376",
      "17a39ca2f9614c39b3bb90a151bca97f",
      "754d2f9d321a4ee19f56aff667be20c9",
      "7adb0f0fbf4b4a34b155f2700cdbc78b",
      "3a5a8d7f1522428aa1e4cc044075b5e4",
      "5fd19e76b8714d5d99ab95f8c090003c",
      "13ce7ad0258b4f0ba2495faa9a4b3644",
      "11dfd2359dde4482934196d9a1e6cc14",
      "829578ed707d4c83bbff0fd2101bf691",
      "8f91a7919a0146ef9cfc9d33cbc0ab86",
      "d6cd7987d5254966875288739962830c",
      "9bd702a5a45f4963ab72afb45bacdeb9",
      "dec078976f934c5896296b30b64946e7",
      "84fdff34c67e42ac9e240787a1e355b0",
      "530c01635de342fc9dc0a0ad5f8fb4cc",
      "c21539958eb74c55ba94ca087d378247",
      "80ff84a1394843498cb3a5b85c419624",
      "2e3f4f7cfbb74066a2e6edae90aa9d0c",
      "896c4be677154d63be1bc1b270fea687",
      "689c2d57c4294a0e9bf5d6351b20965b",
      "f61f8e0c432c4cf6aee3240b432ba2be",
      "12acefdeb140434ab20c7a94583d1b2d",
      "96a607f862bf4d6292ac7f557ebd93d7",
      "da9c26b144824c13a7f174a2161ff4ba",
      "e01d81ed950a44dab182ba2111bcf960",
      "96a1925100174e8ba284e9e67de7e787",
      "476b6305129140f18dd14d9004bfa820",
      "933480327686452e8c5ac84f3932273e",
      "7803793fc55c4a6d860c5cac0d14135d",
      "4d03405a38cb436bb618de6a6f7a0983",
      "49074fae46f84157add1f1e43caab340",
      "907c3f1ad94e471ead9fb407f3a1222b",
      "184d05247c194415898ac7fa3bf99e20",
      "73b6097445244670a3580046c494657d",
      "f77727756dce4b8a82dcb767f1d494eb",
      "4c8cf7bb900a4512b22d207019ae8d3c",
      "0b7bd6faf0f441f1b1d28f53c5e27416",
      "d0fd4e59afe04a1d901908f5cf259d51",
      "5822bb7002cf4fe7a5f1b6be38c5c8b3",
      "45f0e3ff7bed4195bc1ea6e87440eb41",
      "303adf20a45d4b57b1fb20bdf081c9a3",
      "32f4b76eef6849699f811f92f739990a",
      "a668e3d658314abbb998385ddd971af2",
      "c6a853bd097640bdb80d113d222ec3eb",
      "33c5b7a787a94e59960f9f8144ef09e1",
      "bd6559c346424507b2baac0a720f3a16",
      "86c830fc43e8473bad6e410a73b38aa5",
      "826661d536b747b382890de1547fab40",
      "1d1c3118e2ac442a973cfe00f5eab818",
      "56887facd54f49d58dfebf866bae7460",
      "7f2f5c71ba6a4adea68805b09f139f74",
      "6d1d59e62fd044e0b1dc034e52eefd07",
      "0b307eb52ea14dddb254218ec2570c3f",
      "e73802f2fba743da9aa0d99947cee31c",
      "463b903595df45d3b96fd736a5e88767",
      "44d8cf6bb7134155ae39364506c297f9",
      "d9e2c2fbab444a85be08a0ed823b5131",
      "05f9fcaf73b94d69b9f29f82e17818f7",
      "97fc931e89ad4ee68c0ddab606f06444",
      "b1a678fb82b843ca8a9ed8ba4e7d987a",
      "7580fd7fa26e40abb50e16463e7968b2",
      "7e2f8e6a33c4476e9d61b66597003fba",
      "9a950633ce8b49bc867df0d98805e4f8",
      "ffdf124ad65c4aa5be45487de332ecf4",
      "37090cbe529442c0b694a07325e106b3",
      "b6ffd51e4d4540ca95dcd85333f8df9f",
      "9854f23b78a7405c8e5904c58df2749c",
      "2439f6a4e617432f9cb59c3490be349b",
      "b94e761f3b0a4ac6bb459817480a2fac",
      "219820fd3ce443b49da46b1709cbb958",
      "6da6d75ffdd74ec1a14c78ff484cb5b9",
      "7eec60c057f0452fa34e9293f80af1a2",
      "a43ff8c2f9414104b08678cce389a3bc",
      "e0e49fd34dc5431d82e9bb0bc8f2c71b",
      "58d58bdd44074b2d9aca3928622232da",
      "5fcfc2d98b674361a64419ac38eabccb",
      "6dd5b5e1376e432f82335f4468454c7d",
      "8482142d6fb340bcbd18a1f8047e33cc",
      "a990d12c0a9a476da3a83616b6e65982",
      "fcd465ef476140698d1928a182e07f4e",
      "bde86d9a4f1f43119969f1e9de0082e4",
      "fb5670bd0fe34b46bcd2227bfc40914b",
      "1e2242ea078247479951a7f65b65bb44",
      "c03f73c0e6c047d78e36678c3616d51c",
      "064bfb8baf4a46f78b027866f590995a",
      "50a53075f72e46b09525076f3d1ba23b",
      "4addf01af0c947c1accc50a5322fa323",
      "04e16d561576485586c4ee6ca7b2e706",
      "84c3c8c40a0d4b5291a44028fdee1a1c",
      "1ae5045ba8f94298836af836a1e8ad00",
      "8236a57b54c0416e8bd43df834ab40c5",
      "fd8c8297c455472290a416f40d24f651",
      "63058f7a05084ffb8610af5fa9a078c2",
      "76644b0a7a534e9f86a5a63b416ac5fb",
      "645ea3a6c3344c41adb2e03660853946",
      "4be1cac30b4745afabec6f0bc6b96c7d",
      "293c76d6db774e8da2cca736b083f8cf",
      "4b5d88267c0c4e3bb251c15abe88798a",
      "b97b120207534a19a6c456df2e4f7ad7",
      "82cab012aa51429db5470b999d28f67a",
      "3d97cc9134a44cf48571094a272d0ecb",
      "d52f4647d01743178f77290449528eae",
      "7547f27b447d430893900ffde8b91755",
      "2db826a7f0be47f9ad7f19a9d9da957e",
      "32869f67171a42aea3fa13500d7252f7",
      "d788645c0765419198b8b78e27e19e26",
      "bd09b8ee213341388a365ebca44410d8",
      "72837847438e4296a9b68c88fbc6bad4",
      "adad107d15494d7182c573ca0f163fdb",
      "99bd10212e5b4a1181803f86d2e2af83",
      "9700c76df2fc4e46bb492079554e05b3",
      "12abff97e88b4596b4b0a09edf209408",
      "21219905f91a449199924c46c6d30ee2",
      "481f7c7a4b4c43379f9e30251444f5c3",
      "561f0007b6ff4eb4aab42886d4946ce9",
      "1f19a05e7a694970a4a89941c0dbfe48",
      "2a8f5f36f4724b3fac4e77677b3faecb",
      "beae8fd4c66d40f4ab9f01704850f32e",
      "fe8048dda32d4da19b89a719c3e38439",
      "575dcb7607e845e4a0f81bae0b286701",
      "4175d4755212480ab765b0ba68b40980",
      "ef030a6836b948ca930d4bcfab09e6c1",
      "72eb6c9d3f5b4a0795c31c3dc41971ca",
      "13abfd4b20124caf8ce1a60a787d7622",
      "758c2fc4aea5402fa344d52312b4a014",
      "bc24bc89f66f4ff3a84212af6dd31fdc",
      "926a1c2958d147c4b31f5393341e8ac9",
      "454ec773649b4feaa9381ecf786d161f",
      "32d9abb0bf5544bab3c235ef508523ad",
      "b4aa5599159e46fcbd5e7d810bcff335",
      "3d95e27e3f2845fca4ada2bcc5157023",
      "df9bce2ad6234475b634f64a4cf76d82",
      "5a16c65654ba4399b5df9c08cb328389",
      "4ce855fd43b84a6cb81a09ec05520664",
      "11808220f87541d4bc0b8d0b18f35120",
      "c8c964f2c76f4e38a4b95aca683735d7",
      "3de0146b571b45df8b2b5609467968f8",
      "3f3be549545445428bb6acfcb7ba8586",
      "3bdf9ce7a78447cca74419963f299840",
      "584160bd8593400c86677009886ef97f",
      "85de1d21ced149acb337f516efbd2966",
      "e9326571cabe4933988e6af6c9a93443",
      "a64f19412ec54503bc590e6429c898b7",
      "33a32b5647094c2590e3b40d2e5eebdf",
      "2072d82667d54247bf8bd68797deb698",
      "8231909b3bae441f93fd9fd90b8eb0aa",
      "f6270a79fe6b4e3bbcc9ba710be4e406",
      "0da29f9f2bda4e4d9df78104816a5677",
      "a80770c673544a188f63693cdb956c81",
      "7ffb4ea6ae8f45309d6565dce6c61f78",
      "4a58ddbc13094c05b6e0252f32d7863c",
      "eb083d45c67841da98f889db8093107f",
      "1a0b34db514f4d5f919d2d3a8ca22a9c",
      "e40fc1ce446847f9a7b98c6abf07d973",
      "ae0a8676f5794cbe9e4cef25385cd5a8",
      "b63aa0718e1b41bcbd2e36fb57ac8632",
      "59754e2db1754d2a88f1030fe41f41f8",
      "c1b46bf7eff04fe080416a2cfe37b8bc",
      "358aed499e0849f2b2c0fdcc35eb7abf",
      "893510695a2c4c7684bc175c8315ecb4",
      "40403968396e44f18df4ab957562e87d",
      "5490a3c69e854b7284297f5d3c989649",
      "7c51f4260549456ebe15d3b96e5fc165",
      "bfa927ef0dc54c469853056469d95e4f",
      "a912aca1309a4eb3a3935ebce3be9448",
      "e1567619f4f5483a9cf1f4c4cb0ec4ab",
      "301900a390a740cb9e9967cf8bed6786",
      "b4e15e838fb5495da75ba859a3f69334",
      "55d6e0d452ba429da1c20c2667668965",
      "bc1281aeb032492bb321a815b6ae4812",
      "7865fc2e5d7543e2b361ea8ada9af6cd",
      "806e4aac1624478c8e93d1dbfb41c421",
      "82b2cadbb159429f9d6a55ceb080a82e",
      "db63f2dd73044d6e98f540b1700255e9",
      "570203196c224e78929c579e54cc02cd",
      "4093a893cd4d465885869690732575a9",
      "adf21b7544b2487cbb19899491c2b205",
      "dab37bc9aca341fc8a1cf8fbbb4483d4",
      "da9f4d2225d4439ab9208e8ce8ebd238",
      "ae7929fd704e49b88a9b664e0b020ba7",
      "01d2021fb2bc4d9381de18400393e7ff",
      "6b05c43735ce4827bb84c1dd569d43ba",
      "ef4cad8b1f4048fb93391ad7dba22bcc",
      "ade0db0f1ab543c5afc784e9cd97d828",
      "6f372c9895d14c19badee35c8cb74f04",
      "69eada9441a24df292a01a3c3e9e6e4c",
      "7fea116d1703422982ec6dff214d6953",
      "5b66f81a506a41b9bb4f25dfdd0a5ecf",
      "54bc69f02a864d3aa575f9f522be88b6",
      "7865ab1c7dc34d0b8fc2aafdd95e937b",
      "9cd5338b1e014eedad4c9659d37696fc",
      "47ac96a5b8094674a8232cecd9e059c1",
      "8d5bb03217da48678054cbd826309439",
      "3ea1d92060dc4877bf20ccbdbf2421fb",
      "e0332054ddc841a2a5449c708444e263",
      "75c89e1c7ae54131af66d60b6eecd7a1",
      "41e4616950914bd5a9a1be24ecbd84b9",
      "a8ed6f71b6824d26850e9a3b13f72dda",
      "57b9f010afa84d5982db6fea5d1ebe5a",
      "a5cbc4dd1b694840b5ac4475052f9ccb",
      "fb5076539bbd460095fe120400ff8bcf",
      "a8bf9e6afe8b455d97d29d42a2632054",
      "f24217d14350425bbc8694527211a760",
      "f03e8a77bab841faa6042d9209cfbfeb",
      "17adf37f511b4122a357f73c570ff5bf",
      "af72524e35e84576b8e3af5242fa2ecd",
      "b961c16deef1447090a95413009d27fc",
      "a92efbc326284eb283bc1e01ac9919e7",
      "662e5433819945e7b654c20fa8bdf100",
      "5039823bc7b34748b646c536b04a0e64",
      "e2bf72ef88f44cac99564e389f6f66c9",
      "5fbcff8552244ef2b26ff4da285cb86f",
      "b18bc0d22a404e74ba5e7b2b5cace273",
      "1bf3ef97123e4469934b80d86a957ff2",
      "ca34bd0e901e4379bfda14a3da5a661c",
      "9957e110014540b6bcd3ee61f73dbcd5",
      "b6b1a6ae95a24edda2a8f3f08f215543",
      "b6a3458f021542f19ae9d49b00cad0c9",
      "a755f854603148ccae5315013c60e325",
      "5bfb64c2d5454758bed6bee5c6c5d720",
      "72473f55692542698a5e86078c1053c0",
      "d89fd9c3b19c40eba243112a21b527b6",
      "981b2448fff5401c856daeef39ab0056",
      "0a08c8096e0d4322adc4a740a2f4d87b",
      "567a21de833d4b8c842531e3b0608df6",
      "81907a556c7a4c95a5a45a739f0fd2de",
      "a7847f5118ee448eb4953d532a3875b6",
      "84ff7fcb92dc49408469865fbfa0062d",
      "cc1f7297fc774af98c12a67a5c626072",
      "4893324bcc6b480da334eb78a6149cf5",
      "5dcc2e76c7c34e709b8bf4fe17bc68e3",
      "7ceef458e3024bc39021a6ef5e2e737c",
      "f3d16b12bbf64891a319d7109fe7a733",
      "802a439e0fda45c987136c17b00d009a",
      "a0b10554511d43f785f3ce46647eb501",
      "4607a3ccebb242cc96f0de4ce903a426",
      "71a079ae20f248fab630bede2a6808cf",
      "501058d9e3704a86a61003d083e28d8c",
      "f20c6ba738c84d6bbf53ae8e5182f0c6",
      "1cf4c64c0e384a31b35912033b029154",
      "92c9278c0e524ccfbea957ccb1c3d49c"
     ]
    },
    "executionInfo": {
     "elapsed": 380150,
     "status": "ok",
     "timestamp": 1751449666492,
     "user": {
      "displayName": "Yulia Yorkshirelove",
      "userId": "10480095246692972307"
     },
     "user_tz": -180
    },
    "id": "fO9leRPdOX8q",
    "outputId": "56d2d471-ba40-49f8-a8ef-a6c707beb884"
   },
   "outputs": [
    {
     "data": {
      "application/vnd.jupyter.widget-view+json": {
       "model_id": "a98ae649a3bd4bb7906149ea16ac90bf",
       "version_major": 2,
       "version_minor": 0
      },
      "text/plain": [
       "Decoding chunks:   0%|          | 0/25 [00:00<?, ?it/s]"
      ]
     },
     "metadata": {},
     "output_type": "display_data"
    },
    {
     "data": {
      "application/vnd.jupyter.widget-view+json": {
       "model_id": "f4db2f3203b64cd38a56c1326e8ef76d",
       "version_major": 2,
       "version_minor": 0
      },
      "text/plain": [
       "  Tokens in chunk:   0%|          | 0/896 [00:00<?, ?it/s]"
      ]
     },
     "metadata": {},
     "output_type": "display_data"
    },
    {
     "data": {
      "application/vnd.jupyter.widget-view+json": {
       "model_id": "7a60071027114cf8a930a7ba7dbfe144",
       "version_major": 2,
       "version_minor": 0
      },
      "text/plain": [
       "  Tokens in chunk:   0%|          | 0/984 [00:00<?, ?it/s]"
      ]
     },
     "metadata": {},
     "output_type": "display_data"
    },
    {
     "data": {
      "application/vnd.jupyter.widget-view+json": {
       "model_id": "196d93025c2b447ba06a5952cb1b0d90",
       "version_major": 2,
       "version_minor": 0
      },
      "text/plain": [
       "  Tokens in chunk:   0%|          | 0/607 [00:00<?, ?it/s]"
      ]
     },
     "metadata": {},
     "output_type": "display_data"
    },
    {
     "data": {
      "application/vnd.jupyter.widget-view+json": {
       "model_id": "3ab0de14f895474a9049bde708d96ede",
       "version_major": 2,
       "version_minor": 0
      },
      "text/plain": [
       "  Tokens in chunk:   0%|          | 0/597 [00:00<?, ?it/s]"
      ]
     },
     "metadata": {},
     "output_type": "display_data"
    },
    {
     "data": {
      "application/vnd.jupyter.widget-view+json": {
       "model_id": "d6cd7987d5254966875288739962830c",
       "version_major": 2,
       "version_minor": 0
      },
      "text/plain": [
       "  Tokens in chunk:   0%|          | 0/595 [00:00<?, ?it/s]"
      ]
     },
     "metadata": {},
     "output_type": "display_data"
    },
    {
     "data": {
      "application/vnd.jupyter.widget-view+json": {
       "model_id": "12acefdeb140434ab20c7a94583d1b2d",
       "version_major": 2,
       "version_minor": 0
      },
      "text/plain": [
       "  Tokens in chunk:   0%|          | 0/561 [00:00<?, ?it/s]"
      ]
     },
     "metadata": {},
     "output_type": "display_data"
    },
    {
     "data": {
      "application/vnd.jupyter.widget-view+json": {
       "model_id": "184d05247c194415898ac7fa3bf99e20",
       "version_major": 2,
       "version_minor": 0
      },
      "text/plain": [
       "  Tokens in chunk:   0%|          | 0/459 [00:00<?, ?it/s]"
      ]
     },
     "metadata": {},
     "output_type": "display_data"
    },
    {
     "data": {
      "application/vnd.jupyter.widget-view+json": {
       "model_id": "c6a853bd097640bdb80d113d222ec3eb",
       "version_major": 2,
       "version_minor": 0
      },
      "text/plain": [
       "  Tokens in chunk:   0%|          | 0/509 [00:00<?, ?it/s]"
      ]
     },
     "metadata": {},
     "output_type": "display_data"
    },
    {
     "data": {
      "application/vnd.jupyter.widget-view+json": {
       "model_id": "463b903595df45d3b96fd736a5e88767",
       "version_major": 2,
       "version_minor": 0
      },
      "text/plain": [
       "  Tokens in chunk:   0%|          | 0/454 [00:00<?, ?it/s]"
      ]
     },
     "metadata": {},
     "output_type": "display_data"
    },
    {
     "data": {
      "application/vnd.jupyter.widget-view+json": {
       "model_id": "b6ffd51e4d4540ca95dcd85333f8df9f",
       "version_major": 2,
       "version_minor": 0
      },
      "text/plain": [
       "  Tokens in chunk:   0%|          | 0/563 [00:00<?, ?it/s]"
      ]
     },
     "metadata": {},
     "output_type": "display_data"
    },
    {
     "data": {
      "application/vnd.jupyter.widget-view+json": {
       "model_id": "6dd5b5e1376e432f82335f4468454c7d",
       "version_major": 2,
       "version_minor": 0
      },
      "text/plain": [
       "  Tokens in chunk:   0%|          | 0/498 [00:00<?, ?it/s]"
      ]
     },
     "metadata": {},
     "output_type": "display_data"
    },
    {
     "data": {
      "application/vnd.jupyter.widget-view+json": {
       "model_id": "04e16d561576485586c4ee6ca7b2e706",
       "version_major": 2,
       "version_minor": 0
      },
      "text/plain": [
       "  Tokens in chunk:   0%|          | 0/510 [00:00<?, ?it/s]"
      ]
     },
     "metadata": {},
     "output_type": "display_data"
    },
    {
     "data": {
      "application/vnd.jupyter.widget-view+json": {
       "model_id": "b97b120207534a19a6c456df2e4f7ad7",
       "version_major": 2,
       "version_minor": 0
      },
      "text/plain": [
       "  Tokens in chunk:   0%|          | 0/502 [00:00<?, ?it/s]"
      ]
     },
     "metadata": {},
     "output_type": "display_data"
    },
    {
     "data": {
      "application/vnd.jupyter.widget-view+json": {
       "model_id": "99bd10212e5b4a1181803f86d2e2af83",
       "version_major": 2,
       "version_minor": 0
      },
      "text/plain": [
       "  Tokens in chunk:   0%|          | 0/416 [00:00<?, ?it/s]"
      ]
     },
     "metadata": {},
     "output_type": "display_data"
    },
    {
     "data": {
      "application/vnd.jupyter.widget-view+json": {
       "model_id": "4175d4755212480ab765b0ba68b40980",
       "version_major": 2,
       "version_minor": 0
      },
      "text/plain": [
       "  Tokens in chunk:   0%|          | 0/456 [00:00<?, ?it/s]"
      ]
     },
     "metadata": {},
     "output_type": "display_data"
    },
    {
     "data": {
      "application/vnd.jupyter.widget-view+json": {
       "model_id": "df9bce2ad6234475b634f64a4cf76d82",
       "version_major": 2,
       "version_minor": 0
      },
      "text/plain": [
       "  Tokens in chunk:   0%|          | 0/497 [00:00<?, ?it/s]"
      ]
     },
     "metadata": {},
     "output_type": "display_data"
    },
    {
     "data": {
      "application/vnd.jupyter.widget-view+json": {
       "model_id": "a64f19412ec54503bc590e6429c898b7",
       "version_major": 2,
       "version_minor": 0
      },
      "text/plain": [
       "  Tokens in chunk:   0%|          | 0/420 [00:00<?, ?it/s]"
      ]
     },
     "metadata": {},
     "output_type": "display_data"
    },
    {
     "data": {
      "application/vnd.jupyter.widget-view+json": {
       "model_id": "e40fc1ce446847f9a7b98c6abf07d973",
       "version_major": 2,
       "version_minor": 0
      },
      "text/plain": [
       "  Tokens in chunk:   0%|          | 0/521 [00:00<?, ?it/s]"
      ]
     },
     "metadata": {},
     "output_type": "display_data"
    },
    {
     "data": {
      "application/vnd.jupyter.widget-view+json": {
       "model_id": "a912aca1309a4eb3a3935ebce3be9448",
       "version_major": 2,
       "version_minor": 0
      },
      "text/plain": [
       "  Tokens in chunk:   0%|          | 0/486 [00:00<?, ?it/s]"
      ]
     },
     "metadata": {},
     "output_type": "display_data"
    },
    {
     "data": {
      "application/vnd.jupyter.widget-view+json": {
       "model_id": "4093a893cd4d465885869690732575a9",
       "version_major": 2,
       "version_minor": 0
      },
      "text/plain": [
       "  Tokens in chunk:   0%|          | 0/610 [00:00<?, ?it/s]"
      ]
     },
     "metadata": {},
     "output_type": "display_data"
    },
    {
     "data": {
      "application/vnd.jupyter.widget-view+json": {
       "model_id": "7fea116d1703422982ec6dff214d6953",
       "version_major": 2,
       "version_minor": 0
      },
      "text/plain": [
       "  Tokens in chunk:   0%|          | 0/460 [00:00<?, ?it/s]"
      ]
     },
     "metadata": {},
     "output_type": "display_data"
    },
    {
     "data": {
      "application/vnd.jupyter.widget-view+json": {
       "model_id": "a8ed6f71b6824d26850e9a3b13f72dda",
       "version_major": 2,
       "version_minor": 0
      },
      "text/plain": [
       "  Tokens in chunk:   0%|          | 0/500 [00:00<?, ?it/s]"
      ]
     },
     "metadata": {},
     "output_type": "display_data"
    },
    {
     "data": {
      "application/vnd.jupyter.widget-view+json": {
       "model_id": "662e5433819945e7b654c20fa8bdf100",
       "version_major": 2,
       "version_minor": 0
      },
      "text/plain": [
       "  Tokens in chunk:   0%|          | 0/491 [00:00<?, ?it/s]"
      ]
     },
     "metadata": {},
     "output_type": "display_data"
    },
    {
     "data": {
      "application/vnd.jupyter.widget-view+json": {
       "model_id": "5bfb64c2d5454758bed6bee5c6c5d720",
       "version_major": 2,
       "version_minor": 0
      },
      "text/plain": [
       "  Tokens in chunk:   0%|          | 0/434 [00:00<?, ?it/s]"
      ]
     },
     "metadata": {},
     "output_type": "display_data"
    },
    {
     "data": {
      "application/vnd.jupyter.widget-view+json": {
       "model_id": "5dcc2e76c7c34e709b8bf4fe17bc68e3",
       "version_major": 2,
       "version_minor": 0
      },
      "text/plain": [
       "  Tokens in chunk:   0%|          | 0/461 [00:00<?, ?it/s]"
      ]
     },
     "metadata": {},
     "output_type": "display_data"
    },
    {
     "name": "stdout",
     "output_type": "stream",
     "text": [
      "Total decoding time: 380.13 seconds\n"
     ]
    }
   ],
   "source": [
    "recovered_ids = decode_chunks(chunk_data, model)"
   ]
  },
  {
   "cell_type": "code",
   "execution_count": null,
   "metadata": {
    "id": "B3goCCirOcqv"
   },
   "outputs": [],
   "source": [
    "orig_ids = sum([entry['ids'] for entry in chunk_data], [])\n",
    "encoded_output = sum([entry['bits'] for entry in chunk_data], [])"
   ]
  },
  {
   "cell_type": "code",
   "execution_count": null,
   "metadata": {
    "colab": {
     "base_uri": "https://localhost:8080/"
    },
    "executionInfo": {
     "elapsed": 18,
     "status": "ok",
     "timestamp": 1751449666570,
     "user": {
      "displayName": "Yulia Yorkshirelove",
      "userId": "10480095246692972307"
     },
     "user_tz": -180
    },
    "id": "IoHkDozqOfn_",
    "outputId": "c940dd6c-93ce-43a8-9850-b892b83d1732"
   },
   "outputs": [
    {
     "name": "stdout",
     "output_type": "stream",
     "text": [
      "Расхождение на позиции 6434: orig=30109  decoded=29994\n"
     ]
    }
   ],
   "source": [
    "compare_sequences(orig_ids, recovered_ids)"
   ]
  },
  {
   "cell_type": "code",
   "execution_count": null,
   "metadata": {
    "colab": {
     "base_uri": "https://localhost:8080/"
    },
    "executionInfo": {
     "elapsed": 16,
     "status": "ok",
     "timestamp": 1751449666590,
     "user": {
      "displayName": "Yulia Yorkshirelove",
      "userId": "10480095246692972307"
     },
     "user_tz": -180
    },
    "id": "3C4jlxzvOfvg",
    "outputId": "f7504ff8-f2db-458a-85be-3476cbe7028f"
   },
   "outputs": [
    {
     "name": "stdout",
     "output_type": "stream",
     "text": [
      "Исходный размер:   400000 бит\n",
      "Размер после сжатия: 61388 бит\n",
      "Коэффициент сжатия: 0.1535\n"
     ]
    }
   ],
   "source": [
    "compression_stats(data, encoded_output)"
   ]
  },
  {
   "cell_type": "markdown",
   "metadata": {
    "id": "tQfsR4XSWWq4"
   },
   "source": [
    "## Open_llama_7b"
   ]
  },
  {
   "cell_type": "code",
   "execution_count": null,
   "metadata": {
    "colab": {
     "base_uri": "https://localhost:8080/"
    },
    "executionInfo": {
     "elapsed": 12207,
     "status": "ok",
     "timestamp": 1751472703739,
     "user": {
      "displayName": "Yulia Yorkshirelove",
      "userId": "10480095246692972307"
     },
     "user_tz": -180
    },
    "id": "u788-p19YGvc",
    "outputId": "e82bc8c1-0d43-46e0-d409-e18621cd582f"
   },
   "outputs": [
    {
     "name": "stdout",
     "output_type": "stream",
     "text": [
      "Requirement already satisfied: bitsandbytes in /usr/local/lib/python3.11/dist-packages (0.46.0)\n",
      "Requirement already satisfied: torch<3,>=2.2 in /usr/local/lib/python3.11/dist-packages (from bitsandbytes) (2.6.0+cu124)\n",
      "Requirement already satisfied: numpy>=1.17 in /usr/local/lib/python3.11/dist-packages (from bitsandbytes) (2.0.2)\n",
      "Requirement already satisfied: filelock in /usr/local/lib/python3.11/dist-packages (from torch<3,>=2.2->bitsandbytes) (3.18.0)\n",
      "Requirement already satisfied: typing-extensions>=4.10.0 in /usr/local/lib/python3.11/dist-packages (from torch<3,>=2.2->bitsandbytes) (4.14.0)\n",
      "Requirement already satisfied: networkx in /usr/local/lib/python3.11/dist-packages (from torch<3,>=2.2->bitsandbytes) (3.5)\n",
      "Requirement already satisfied: jinja2 in /usr/local/lib/python3.11/dist-packages (from torch<3,>=2.2->bitsandbytes) (3.1.6)\n",
      "Requirement already satisfied: fsspec in /usr/local/lib/python3.11/dist-packages (from torch<3,>=2.2->bitsandbytes) (2025.3.2)\n",
      "Requirement already satisfied: nvidia-cuda-nvrtc-cu12==12.4.127 in /usr/local/lib/python3.11/dist-packages (from torch<3,>=2.2->bitsandbytes) (12.4.127)\n",
      "Requirement already satisfied: nvidia-cuda-runtime-cu12==12.4.127 in /usr/local/lib/python3.11/dist-packages (from torch<3,>=2.2->bitsandbytes) (12.4.127)\n",
      "Requirement already satisfied: nvidia-cuda-cupti-cu12==12.4.127 in /usr/local/lib/python3.11/dist-packages (from torch<3,>=2.2->bitsandbytes) (12.4.127)\n",
      "Requirement already satisfied: nvidia-cudnn-cu12==9.1.0.70 in /usr/local/lib/python3.11/dist-packages (from torch<3,>=2.2->bitsandbytes) (9.1.0.70)\n",
      "Requirement already satisfied: nvidia-cublas-cu12==12.4.5.8 in /usr/local/lib/python3.11/dist-packages (from torch<3,>=2.2->bitsandbytes) (12.4.5.8)\n",
      "Requirement already satisfied: nvidia-cufft-cu12==11.2.1.3 in /usr/local/lib/python3.11/dist-packages (from torch<3,>=2.2->bitsandbytes) (11.2.1.3)\n",
      "Requirement already satisfied: nvidia-curand-cu12==10.3.5.147 in /usr/local/lib/python3.11/dist-packages (from torch<3,>=2.2->bitsandbytes) (10.3.5.147)\n",
      "Requirement already satisfied: nvidia-cusolver-cu12==11.6.1.9 in /usr/local/lib/python3.11/dist-packages (from torch<3,>=2.2->bitsandbytes) (11.6.1.9)\n",
      "Requirement already satisfied: nvidia-cusparse-cu12==12.3.1.170 in /usr/local/lib/python3.11/dist-packages (from torch<3,>=2.2->bitsandbytes) (12.3.1.170)\n",
      "Requirement already satisfied: nvidia-cusparselt-cu12==0.6.2 in /usr/local/lib/python3.11/dist-packages (from torch<3,>=2.2->bitsandbytes) (0.6.2)\n",
      "Requirement already satisfied: nvidia-nccl-cu12==2.21.5 in /usr/local/lib/python3.11/dist-packages (from torch<3,>=2.2->bitsandbytes) (2.21.5)\n",
      "Requirement already satisfied: nvidia-nvtx-cu12==12.4.127 in /usr/local/lib/python3.11/dist-packages (from torch<3,>=2.2->bitsandbytes) (12.4.127)\n",
      "Requirement already satisfied: nvidia-nvjitlink-cu12==12.4.127 in /usr/local/lib/python3.11/dist-packages (from torch<3,>=2.2->bitsandbytes) (12.4.127)\n",
      "Requirement already satisfied: triton==3.2.0 in /usr/local/lib/python3.11/dist-packages (from torch<3,>=2.2->bitsandbytes) (3.2.0)\n",
      "Requirement already satisfied: sympy==1.13.1 in /usr/local/lib/python3.11/dist-packages (from torch<3,>=2.2->bitsandbytes) (1.13.1)\n",
      "Requirement already satisfied: mpmath<1.4,>=1.1.0 in /usr/local/lib/python3.11/dist-packages (from sympy==1.13.1->torch<3,>=2.2->bitsandbytes) (1.3.0)\n",
      "Requirement already satisfied: MarkupSafe>=2.0 in /usr/local/lib/python3.11/dist-packages (from jinja2->torch<3,>=2.2->bitsandbytes) (3.0.2)\n"
     ]
    }
   ],
   "source": [
    "!pip install -U bitsandbytes"
   ]
  },
  {
   "cell_type": "code",
   "execution_count": null,
   "metadata": {
    "id": "xxuBdBAaWZay"
   },
   "outputs": [],
   "source": [
    "def load_quantized_model(model_name: str,\n",
    "                         load_in_8bit: bool = True,\n",
    "                         llm_int8_enable_fp32_cpu_offload: bool = True):\n",
    "    # Конфиг для 8‑битной загрузки\n",
    "    bnb_config = BitsAndBytesConfig(\n",
    "        load_in_8bit=load_in_8bit,\n",
    "        llm_int8_enable_fp32_cpu_offload=llm_int8_enable_fp32_cpu_offload,\n",
    "    )\n",
    "\n",
    "    tokenizer = AutoTokenizer.from_pretrained(model_name, use_fast=False)\n",
    "\n",
    "    model = AutoModelForCausalLM.from_pretrained(\n",
    "        model_name,\n",
    "        quantization_config=bnb_config,\n",
    "        device_map=\"auto\",           # авто‑распределение слоёв\n",
    "        torch_dtype=torch.float16,   # половинная точность для оставшихся параметров\n",
    "        low_cpu_mem_usage=True,      # минимальное потребление CPU‑памяти\n",
    "    )\n",
    "    model.eval()\n",
    "    return tokenizer, model"
   ]
  },
  {
   "cell_type": "code",
   "execution_count": null,
   "metadata": {
    "id": "amjQWxeAX_fl"
   },
   "outputs": [],
   "source": [
    "clear_memory()"
   ]
  },
  {
   "cell_type": "code",
   "execution_count": null,
   "metadata": {
    "colab": {
     "base_uri": "https://localhost:8080/",
     "height": 49,
     "referenced_widgets": [
      "cbde78844f6f4477b0aa30b02f637ad9",
      "243227baffb345d9a67df9e97982a017",
      "61cbb9c0b820423e934ad5cfab0ee14d",
      "3e3e00884bd442e6bded680fa50e504f",
      "b622158fd3484c6cbfd1c6a0822108b1",
      "7bae5fde1f0b434c84cddad10f66b0ed",
      "a7c77d272185494ab542e7e9b4307d2f",
      "2264122c376640a0b074785eb8fdfd85",
      "ad14e1f29d6e46f185a9fbdde181f27f",
      "261a75cd90e2489aa6951a6d373e30d7",
      "18e22d9b02454d939abc371ff9704502"
     ]
    },
    "executionInfo": {
     "elapsed": 72205,
     "status": "ok",
     "timestamp": 1751452287953,
     "user": {
      "displayName": "Yulia Yorkshirelove",
      "userId": "10480095246692972307"
     },
     "user_tz": -180
    },
    "id": "nszL20sPX6FK",
    "outputId": "2823bc77-0d80-45bf-bec2-235bc3e5b739"
   },
   "outputs": [
    {
     "data": {
      "application/vnd.jupyter.widget-view+json": {
       "model_id": "cbde78844f6f4477b0aa30b02f637ad9",
       "version_major": 2,
       "version_minor": 0
      },
      "text/plain": [
       "Loading checkpoint shards:   0%|          | 0/2 [00:00<?, ?it/s]"
      ]
     },
     "metadata": {},
     "output_type": "display_data"
    }
   ],
   "source": [
    "tokenizer, model = load_quantized_model(\"openlm-research/open_llama_7b\")"
   ]
  },
  {
   "cell_type": "code",
   "execution_count": null,
   "metadata": {
    "id": "2KfQvTlpZx5b"
   },
   "outputs": [],
   "source": [
    "data = get_data(50000, tokenizer)"
   ]
  },
  {
   "cell_type": "code",
   "execution_count": null,
   "metadata": {
    "colab": {
     "base_uri": "https://localhost:8080/",
     "height": 66,
     "referenced_widgets": [
      "f16c1340ba204fc39974cb03f3878f17",
      "fdf72208a08d4d40a8ac49b7bc0ded80",
      "a68cfbdc01c74f7394ef3d96ccac342c",
      "078281e23021494289255d5adc8ea4cd",
      "80b2ea02aa2d49dd94336b562c9d8f07",
      "0ee8f4a48a9943ea816094acbc4c772c",
      "6adba265b514406389287a0d2fe628bd",
      "8bc0f997fe6c497fb20efed838b15992",
      "bd123c8c392e4f8f84cfb0eaefb1ed0f",
      "3d6c68b8c73549ed8f4a3d5e6e00b935",
      "4eb2fb0c8134400fa8ba7db6643c01a7",
      "e29ef4ed4d80436dad93d4b4df0592b4",
      "6dc4fef468ad40fc8e38f05dd937a5fa",
      "263323d7bfdb4f4ca8aa961f3d19b6ff",
      "33297ff7b41b4d01a58511735daffc44",
      "9b92972000594b72afcaf1a5b68e30b7",
      "770e5aaf2009418c9a2afcc069477460",
      "d5d0e2c7a5bd4f85b1ec75aeb1adfdcb",
      "941636536f1d4c6aaeb055a64dfb867a",
      "7fd3df2e8e984a2ca316ca057710f012",
      "437be7e0b6fe4ba0a55adcba8d901d1b",
      "1132b3179b674b88b10e1aa6c2827467",
      "f355cb3631cb4a9f92b84e664bed44b1",
      "3513c75df5fb4302b32dbec5e3d94052",
      "9001cb06346a4557a212704f7777926c",
      "1a69f05188e14929a81c11196deb24e7",
      "fe763dab71714f869d68aeeb7d65953b",
      "233ac6904bd84da5ab42d6beaef3350e",
      "060fd7c06e8049f18f52549ce0726ed9",
      "5973ea072a0e49918cb96ca9cfec7e75",
      "6bba0ca582824a8ba19abcc39fe4fec4",
      "180b8c34208a47449d67bc3bda8774ad",
      "2e6fef6b9a4e400ebced3f9d1160e62b",
      "5907024714ed45ffb444b0252e55c7b0",
      "890de9b0cd09459f9da268c7bb45fad2",
      "944d17a0a3184901b5133de1843afa76",
      "e7b020d0559e4b17b1d14cbd2646d9d3",
      "efe05a025f6f4117ae84643d24c925e5",
      "5a78f56c838542c5a1bc717c8970d4a7",
      "7b28aabf456a40479101762b0a39952d",
      "7f47cac22eb94ff5ab8d2748ae4abaee",
      "d2723c4b0cd14ce793ab5d9abc8e1f09",
      "dd32579dee774cba8b44b037e86f9f98",
      "42825b59733440c6aaee51e66fa7eb75",
      "54418e213e924562865bb614300947a1",
      "4f04a3fdc61947e7b5903976dc2cf576",
      "cf8ea3ef64794a98baeb1639ada68d1d",
      "7b19a8971b5d4b88a018e45dea9f686c",
      "a9ce7eae330d45edabefd540570151ae",
      "ee5b7cf08456460995b4580c4bcb64da",
      "9ab012d898c444208417fbebd33692e5",
      "515538b953f640f7a646541e8308af81",
      "f0f9aef3d5e242fc943b434249a6ee6b",
      "7aafac9f95b24e019bb5c3731423bc66",
      "9deb86bedd2e43c2b9ba0ace5fde43ab",
      "deb21b130a4c4a4da1c42c9701a669c0",
      "13eed91c752543de9a95673bc0c3a5d3",
      "4dcff5c294b64ba8996ddccdf487f986",
      "87ae66834c224cbb837c6ab976e3da7e",
      "26a67c5c28a643d89cf7631e2dd1dfcb",
      "3cc52570d2e54808be69c31d96ab8e59",
      "1c82e40ade2a4c53a995cb9dd28c46ff",
      "4ebe55b4be9948a9892d25d99acbd129",
      "f8901fffd2604408880d3296d2f43012",
      "6daf8677402f4e4287585c81eb0025fd",
      "fa2a352fb99e4d13bc3e2c2ea50310ba",
      "cd8a81586dca4828abc20359e57c0e93",
      "0356fef6713d4ea696c1a60dbbedebeb",
      "0c8188d03d10469ebb9499d695f044e5",
      "49403f8391134b9d997a24d55e5067e6",
      "8a90860547b64b418e9c049dc38fe22b",
      "d86506ab40814eeeb338b7362d9d4bca",
      "26de6ffad2b043caa9db096bda11fe5b",
      "fadf145360cd40f79e7078497ff7102c",
      "6641f079566e42fbbbe654851d4edfa6",
      "537804fd5e614b57910eb38835130d13",
      "d94b3d01b38b4e7eaef9cba665166d81",
      "79f5e6b5e80a4b4082a97545fcfcdd89",
      "e38a71f936de47e2afe7a082313ef54a",
      "c6ab0103dbca4087ae6626be81d6ac6a",
      "d05dabe001394f1086ce31016b817f46",
      "136382571c7f4fb392853c86c5301701",
      "6be20e9f1fd94b01ba698fd638baa035",
      "e28ffb50f1d7455886f85aee45644e32",
      "3d4512ebc80c45be8ed8c5fc3bd6f65b",
      "d87341bab2b645ca93f1f7750dd69447",
      "cfc1a787711f4604a1c476dbbc8b4533",
      "22716466990c4e53bd5eab22e94302ee",
      "e9f11ed43a764167be439c5bfed8588d",
      "2d6da5ebadcf447da1c5b0491104445b",
      "ae2eedd52651433bab990081ff095a89",
      "6658cfe3168845619c4b7319a0567a23",
      "24645a9595c64adb89e18f5127632071",
      "7a4f553362374fb9a2e87d7ed6ac3c03",
      "9d90d6cfc9b74b8087767d422300eafb",
      "2b52901702954334a01280ca4931ba71",
      "8caed873962e43ac8e5a50ace14427ce",
      "7554c4aba563427c926c035269fab037",
      "812ba7e6cff644bf8827e92c12f888c4",
      "4ad8739a3050477a949415daa18abdf1",
      "300bcfea5013487a99a4e3d68537fd3c",
      "51b6abd8bceb4d509dfc6260eec924fc",
      "0009ac88d06348e68166617ad2437c76",
      "bf7b9bd813844a47a8c2266dff284bd9",
      "e66078cad40f4f2db209854bd1dc76b8",
      "06458de4b8c04c089c73b68f9cc14355",
      "62eea66256934425bf9cc2c5b72d6ccd",
      "9adb813105864fc6b4d42426e652a7f7",
      "e6efd857390f4cdc878a584f71e7b3bf",
      "612e3fe6e4c54519b444241f8ac674f1",
      "444c7b94f5344b849cd15b146b8d1469",
      "5e7ecee44749456088d998e2d286d175",
      "f793761a4af247b1a524435bc00c3202",
      "b7aae61a0c7f441ebcaa1b657c9ceb1a",
      "f7f68bb48a8e4f11ac2847f46426102f",
      "afb79e7b136b42009d59ddc11184ed73",
      "5708a8301f2b4488853b1a523afd96c4",
      "5102c48c847f4f4ca1d5e685b64b0091",
      "f7a2c5f3b6c741028276f87f997d7bbd",
      "06667d57c01140198c99cd9d35880a36",
      "62a9a55d1211418fb00d22ba209125d4",
      "6e8ea38dae95446c8d42edd907cab48d",
      "75f87cef1da2459b8177b0b226d918a2",
      "b7dbddea9d1c475282e3624da32b2357",
      "1e2d4dd1599b46b2a72b22b1004cbbf4",
      "126bceb7c7e04353a1b209f9df1651a1",
      "049357fcf72f4620ad40c95a773c0d21",
      "b1a1d8e82b854065ad458000ceac3215",
      "284e9e61ed6b49ee97617e68d35c32ff",
      "a2c618423ae84d47b1ff81f3693e529f",
      "005a1a8f3ac144799c9e73824e617368",
      "1aed3803ac534ffd89c2206328db89ba",
      "3dc7447e2b8a4cf7b34a7402b9393c06",
      "7117cdbb82a146f8ba0601812d8fd106",
      "8a1eaa7f32f242038b048bd3016c3a11",
      "cd6a5e06d61341fc9370d55f0583384b",
      "3405d096f361401c944df506d19e31f8",
      "13a8d7de24754578b7344ece2169dbf3",
      "71b50c727fcf4c9f9d803fb4728201fd",
      "42179653006049aeaaf7307ba08179d9",
      "c830343dce7545e88a24b94c17444f59",
      "c9692a59242e49f4b0c98b7dae243994",
      "c119bb32f214453f81eafccb5cbe42b7",
      "f5a69b277dfb4536bf119e3536357ba9",
      "ebc901f57d3d4848b1474d59640a3851",
      "f5c739988c944e62925e0205cd8cf7de",
      "c1340e37c5cf49f09dbaf531dc3d3b56",
      "0255888080af4e59b83970f8f2e73f83",
      "7c9e45b8807b4d96b7f04e82f8ba078e",
      "35f6d558561c4b4c94edab67f0e3acae",
      "8ff5d92d345142f5a5d35a51d8657173",
      "c389ad7fe88641e4b0900bc44f5a6b2c",
      "c737723b8fe94baeb0edc748b774dd25",
      "39ffb7181c23439b9b8bf66b6d69e745",
      "18ebd89a1608488093130ffa07e12c36",
      "e9a5be9476904986b7e47739393da7b6",
      "00ed72a3fea741c6b82435a4856cb597",
      "020f679c366f4760b037f68c8ad6a82b",
      "089e2371f9fb418a942e363177e602bc",
      "ddcdf977cc9145999120630fb610db4c",
      "254dfdfb2ace46e19044799788e4c158",
      "91aad29774cc47039701e6ff64f1facc",
      "d14f594dd68a4d318818b662f64f49dd",
      "350378d6144749b59a36bc8dbfdf2741",
      "2ae4b8bba6034a2b8dc4af4976e944d3",
      "fa57db24dc5549fdb08eed107496c360",
      "861d3dbfd5824fe8bcefbda2e28d11de",
      "f3ed57456c4a4b62ac8393e9b97c3277",
      "f483489667fe4d4ab3ef4f6af7c7362f",
      "4b2388b412264ca29c691138c5153358",
      "0d24ac836ef2447a91d851fba354fbb9",
      "1fcafa4d2e9b4670809edae9286ef9bc",
      "5666af5139894027bd736ca4decfc89f",
      "7c02bc67164e4648b132f637c9cb61ba",
      "0ad73f05726f4191b75d368c5d51bd1c",
      "83b8f39f450143e7848705112123c4ae",
      "00f6c4de7e764bb8bca8e8f4f570e4e8",
      "dd0f70625c4f434caf779fc80b760968",
      "07319c2133f649a3ae9e11ec84e8c146",
      "53733eb2f3e04bf3aeb8e4e0960af225",
      "5d6215849ef3491ebd2b69210a3c2001",
      "5485a1eb50bf4f46b83e6d8399e78889",
      "3658124de5024abf823da3d1425c7bdf",
      "022ede38ecb94d939b76f7e5f4d3da97",
      "34e13ff63b0546b28b8492dac05b644d",
      "5beede0051874647a399e0dd7cdaff64",
      "f5f8305eb70e4e1c999af59095410581",
      "5345aa6d901445cb97b17a86cf96d815",
      "e399caf4b5ed4d809e07515401c7da93",
      "634fcf559a134dc581537cc6682826b7",
      "3c9d432166ec4e4a873b86b2400ffd72",
      "549884e1ec2e46c88b4f216ee35d1d43",
      "c3951713259d4a548bc8a5b6bdef11b5",
      "ae20f52da8e846b8b791d2f13c76ef8c",
      "138da2a624544b9caf5a5cc0b529708e",
      "1220c03e6cde4b00b77e854efb3eac12",
      "ef2ec69b05d5422d80877d60dd82d13b",
      "fbd123f73c0b48fb861399498a76031c",
      "106639c266684008ba65ccc3c991b3c9",
      "00bba2d4674d400daa0214f7c108c16c",
      "1415d183fa834402a4ee05b5840d11a0",
      "988bb584b42a4bc79109a0e44f3fb717",
      "6c09321a4959410897f442f6fca723ff",
      "3085ceab4ebc4223ab513cca6e642877",
      "8226ec7be56248bdabea6aa610fc99d4",
      "a1212ac4995c4c40a74d56e9cae4e49c",
      "1aefb8f950e74537bfdd1f72facd452b",
      "9aaddc9822a045e3a3b56379b3204a27",
      "36fa171698344686ae48b1c96eac31b4",
      "0ae3b2e182474ce6897c29d717e86a9f",
      "4737a4e9a2734b7a921deed981cb4f6e",
      "c46ac8ced5524aebab546387cc6d06eb",
      "6f115467da3f40fc816a382e1694302e",
      "c5b8066416ab49bbb2207913fd7fbe91",
      "5256a966f9564b55b2aa480091f91ff5",
      "2b85c31d97a545bba468c32e23d55347",
      "d12c6879b3d3413b80fa08dd5193196d",
      "137a88b1f21c4f1b80b7df69b5042fc4",
      "8e773412149d443f88dbdd9c9c13a519",
      "b6b1cc6fb80c43ea989af3c839d7864c",
      "d7a0ec2b94574e10a56054bbbaf10a5c",
      "b3f02d9d2766465787c7cdc8ddb1dcd8",
      "17a89a655d454394b10bee061ee99bfc",
      "79e40c963ce54ecd8bef528e38c0ed84",
      "2dabb4f5318c42059b93104cab8e0bd4",
      "871af9ef5ccc42f7b8e80a3b0ada16d4",
      "8b73162785c44e619e392210639c5381",
      "0fdb555df86a4ef580151def1bb58f9c",
      "ce09e25435534f6684ae25ee2a4fa62f",
      "e0e151238d8b4baaa0a934c47646bd39",
      "fd66e363af854660936c3ebf7263bfa0",
      "7e73ca2b0ee14703a1b29530876d7fce",
      "184773018b854f50953542ad16c22569",
      "16eec2ed5fff48a68df6d7826d5d1335",
      "c0c0195abca74823b22f9dd03e7cae77",
      "fc8102eef8ed40eb8559e004c08d1c96",
      "336b7f0f4c5f4647903619be08f3a005",
      "3a4928ee90234296a224b436ac3315e2",
      "bca3c533be71446580af0ffa6e38eca4",
      "94f646f39cda4a61ab699063b3aeb920",
      "53d86af5cea843fabff577b63ddf458d",
      "a35fe1d88cf6421c85ec60bbe7a26256",
      "6317b27cd08346e4ba64fc02fd8c6d86",
      "88f9f396992e403ca90d6f68e8855a41",
      "33f2226787b94ed4a4be900c4b28303c",
      "d1c2aaf2be73408aa606133ba02908f3",
      "97bdcd14d5684ffca0de25759fda8451",
      "f025027aff284788a5e3aa260586d54d",
      "4e3caa60de8a40f0afb7f299147d114e",
      "9a224be1605942f1900b9d73b753bebe",
      "d244891741d04faab41d0fa09be8a9ce",
      "7e3113e4c64d4c63a18500feff5054e6",
      "1aeec09b14b84f63859d2cc0f53e860e",
      "3ced68322b44478ca546a46dab957aa9",
      "75f0ed711d0741cc9e416d5ac72024cd",
      "b339d361422045769cc1db58e285b50c",
      "908b460389384018b76a5e9558092eae",
      "69572e9de41d423cbd1dfee5d1748399",
      "d358a159b2124eff88cbfe7a80c37ea7",
      "aff58b5026c342a5ac33047f60182522",
      "22f3ff28b23143faaac0defd48af2916",
      "17b5b036fab14f618d0ad6722e7e246f",
      "5263306aa85b4485a7a5a301fc83bede",
      "368000c21e444772921ad92d33cccba1",
      "8454367571c3459496a8d36b8affb229",
      "0063e81736d04e47b387b2f77a64864a",
      "4817a2e1072c49adbe46509cdd357ee1",
      "7b9bbcd622764ecb82fe3092f973abe0",
      "221c376d802c4e4f8110bd94896673ac",
      "6abde387edb846dba98caa3c5506e8e7",
      "de00ed881e9c4e4ca7a3d4e6ac877ee0",
      "a54491f1234544b0ae860a4204a25b22",
      "dbce45bbf3c74c5f9ef860a81f6b0811",
      "75c67787b43c490fbd11bf471f4e3ee6",
      "c870f4e96abb4333876a97271c5b18dd",
      "9077a565564d4ec8a93c0a78320d2e9f",
      "383aa71466f0428f93c7604895d497d2",
      "85d90b01a0834765843ed3c07d09924b",
      "008ebf8c0e4b499083a66d60165058e9",
      "3d82e31b4c6b431491dc8980bb2270e1",
      "1a48b1d131b94fc0a26fe0f92b93caf2",
      "e6836ada41b74168b82a98f02b8e1597",
      "5702276a9cf04f9c974654536f67d4e0",
      "924505d5c13c4f5d8f6ba3277cf87a8a",
      "871796094c3e4e6898f41c3e15155a91",
      "ed6bc047550840ee96a888c984709804"
     ]
    },
    "executionInfo": {
     "elapsed": 3971327,
     "status": "ok",
     "timestamp": 1751457105462,
     "user": {
      "displayName": "Yulia Yorkshirelove",
      "userId": "10480095246692972307"
     },
     "user_tz": -180
    },
    "id": "vUvPiOemZ8q8",
    "outputId": "0cbe93d8-a0b1-4bf9-a74e-86b9133b4f64"
   },
   "outputs": [
    {
     "data": {
      "application/vnd.jupyter.widget-view+json": {
       "model_id": "f16c1340ba204fc39974cb03f3878f17",
       "version_major": 2,
       "version_minor": 0
      },
      "text/plain": [
       "Encoding chunks:   0%|          | 0/25 [00:00<?, ?it/s]"
      ]
     },
     "metadata": {},
     "output_type": "display_data"
    },
    {
     "data": {
      "application/vnd.jupyter.widget-view+json": {
       "model_id": "e29ef4ed4d80436dad93d4b4df0592b4",
       "version_major": 2,
       "version_minor": 0
      },
      "text/plain": [
       "  Tokens in chunk:   0%|          | 0/677 [00:00<?, ?it/s]"
      ]
     },
     "metadata": {},
     "output_type": "display_data"
    },
    {
     "data": {
      "application/vnd.jupyter.widget-view+json": {
       "model_id": "f355cb3631cb4a9f92b84e664bed44b1",
       "version_major": 2,
       "version_minor": 0
      },
      "text/plain": [
       "  Tokens in chunk:   0%|          | 0/771 [00:00<?, ?it/s]"
      ]
     },
     "metadata": {},
     "output_type": "display_data"
    },
    {
     "data": {
      "application/vnd.jupyter.widget-view+json": {
       "model_id": "5907024714ed45ffb444b0252e55c7b0",
       "version_major": 2,
       "version_minor": 0
      },
      "text/plain": [
       "  Tokens in chunk:   0%|          | 0/629 [00:00<?, ?it/s]"
      ]
     },
     "metadata": {},
     "output_type": "display_data"
    },
    {
     "data": {
      "application/vnd.jupyter.widget-view+json": {
       "model_id": "54418e213e924562865bb614300947a1",
       "version_major": 2,
       "version_minor": 0
      },
      "text/plain": [
       "  Tokens in chunk:   0%|          | 0/647 [00:00<?, ?it/s]"
      ]
     },
     "metadata": {},
     "output_type": "display_data"
    },
    {
     "data": {
      "application/vnd.jupyter.widget-view+json": {
       "model_id": "deb21b130a4c4a4da1c42c9701a669c0",
       "version_major": 2,
       "version_minor": 0
      },
      "text/plain": [
       "  Tokens in chunk:   0%|          | 0/627 [00:00<?, ?it/s]"
      ]
     },
     "metadata": {},
     "output_type": "display_data"
    },
    {
     "data": {
      "application/vnd.jupyter.widget-view+json": {
       "model_id": "cd8a81586dca4828abc20359e57c0e93",
       "version_major": 2,
       "version_minor": 0
      },
      "text/plain": [
       "  Tokens in chunk:   0%|          | 0/598 [00:00<?, ?it/s]"
      ]
     },
     "metadata": {},
     "output_type": "display_data"
    },
    {
     "data": {
      "application/vnd.jupyter.widget-view+json": {
       "model_id": "79f5e6b5e80a4b4082a97545fcfcdd89",
       "version_major": 2,
       "version_minor": 0
      },
      "text/plain": [
       "  Tokens in chunk:   0%|          | 0/472 [00:00<?, ?it/s]"
      ]
     },
     "metadata": {},
     "output_type": "display_data"
    },
    {
     "data": {
      "application/vnd.jupyter.widget-view+json": {
       "model_id": "e9f11ed43a764167be439c5bfed8588d",
       "version_major": 2,
       "version_minor": 0
      },
      "text/plain": [
       "  Tokens in chunk:   0%|          | 0/548 [00:00<?, ?it/s]"
      ]
     },
     "metadata": {},
     "output_type": "display_data"
    },
    {
     "data": {
      "application/vnd.jupyter.widget-view+json": {
       "model_id": "4ad8739a3050477a949415daa18abdf1",
       "version_major": 2,
       "version_minor": 0
      },
      "text/plain": [
       "  Tokens in chunk:   0%|          | 0/506 [00:00<?, ?it/s]"
      ]
     },
     "metadata": {},
     "output_type": "display_data"
    },
    {
     "data": {
      "application/vnd.jupyter.widget-view+json": {
       "model_id": "444c7b94f5344b849cd15b146b8d1469",
       "version_major": 2,
       "version_minor": 0
      },
      "text/plain": [
       "  Tokens in chunk:   0%|          | 0/620 [00:00<?, ?it/s]"
      ]
     },
     "metadata": {},
     "output_type": "display_data"
    },
    {
     "data": {
      "application/vnd.jupyter.widget-view+json": {
       "model_id": "6e8ea38dae95446c8d42edd907cab48d",
       "version_major": 2,
       "version_minor": 0
      },
      "text/plain": [
       "  Tokens in chunk:   0%|          | 0/536 [00:00<?, ?it/s]"
      ]
     },
     "metadata": {},
     "output_type": "display_data"
    },
    {
     "data": {
      "application/vnd.jupyter.widget-view+json": {
       "model_id": "3dc7447e2b8a4cf7b34a7402b9393c06",
       "version_major": 2,
       "version_minor": 0
      },
      "text/plain": [
       "  Tokens in chunk:   0%|          | 0/570 [00:00<?, ?it/s]"
      ]
     },
     "metadata": {},
     "output_type": "display_data"
    },
    {
     "data": {
      "application/vnd.jupyter.widget-view+json": {
       "model_id": "f5a69b277dfb4536bf119e3536357ba9",
       "version_major": 2,
       "version_minor": 0
      },
      "text/plain": [
       "  Tokens in chunk:   0%|          | 0/574 [00:00<?, ?it/s]"
      ]
     },
     "metadata": {},
     "output_type": "display_data"
    },
    {
     "data": {
      "application/vnd.jupyter.widget-view+json": {
       "model_id": "18ebd89a1608488093130ffa07e12c36",
       "version_major": 2,
       "version_minor": 0
      },
      "text/plain": [
       "  Tokens in chunk:   0%|          | 0/465 [00:00<?, ?it/s]"
      ]
     },
     "metadata": {},
     "output_type": "display_data"
    },
    {
     "data": {
      "application/vnd.jupyter.widget-view+json": {
       "model_id": "fa57db24dc5549fdb08eed107496c360",
       "version_major": 2,
       "version_minor": 0
      },
      "text/plain": [
       "  Tokens in chunk:   0%|          | 0/507 [00:00<?, ?it/s]"
      ]
     },
     "metadata": {},
     "output_type": "display_data"
    },
    {
     "data": {
      "application/vnd.jupyter.widget-view+json": {
       "model_id": "00f6c4de7e764bb8bca8e8f4f570e4e8",
       "version_major": 2,
       "version_minor": 0
      },
      "text/plain": [
       "  Tokens in chunk:   0%|          | 0/561 [00:00<?, ?it/s]"
      ]
     },
     "metadata": {},
     "output_type": "display_data"
    },
    {
     "data": {
      "application/vnd.jupyter.widget-view+json": {
       "model_id": "5345aa6d901445cb97b17a86cf96d815",
       "version_major": 2,
       "version_minor": 0
      },
      "text/plain": [
       "  Tokens in chunk:   0%|          | 0/441 [00:00<?, ?it/s]"
      ]
     },
     "metadata": {},
     "output_type": "display_data"
    },
    {
     "data": {
      "application/vnd.jupyter.widget-view+json": {
       "model_id": "106639c266684008ba65ccc3c991b3c9",
       "version_major": 2,
       "version_minor": 0
      },
      "text/plain": [
       "  Tokens in chunk:   0%|          | 0/566 [00:00<?, ?it/s]"
      ]
     },
     "metadata": {},
     "output_type": "display_data"
    },
    {
     "data": {
      "application/vnd.jupyter.widget-view+json": {
       "model_id": "0ae3b2e182474ce6897c29d717e86a9f",
       "version_major": 2,
       "version_minor": 0
      },
      "text/plain": [
       "  Tokens in chunk:   0%|          | 0/517 [00:00<?, ?it/s]"
      ]
     },
     "metadata": {},
     "output_type": "display_data"
    },
    {
     "data": {
      "application/vnd.jupyter.widget-view+json": {
       "model_id": "d7a0ec2b94574e10a56054bbbaf10a5c",
       "version_major": 2,
       "version_minor": 0
      },
      "text/plain": [
       "  Tokens in chunk:   0%|          | 0/654 [00:00<?, ?it/s]"
      ]
     },
     "metadata": {},
     "output_type": "display_data"
    },
    {
     "data": {
      "application/vnd.jupyter.widget-view+json": {
       "model_id": "7e73ca2b0ee14703a1b29530876d7fce",
       "version_major": 2,
       "version_minor": 0
      },
      "text/plain": [
       "  Tokens in chunk:   0%|          | 0/491 [00:00<?, ?it/s]"
      ]
     },
     "metadata": {},
     "output_type": "display_data"
    },
    {
     "data": {
      "application/vnd.jupyter.widget-view+json": {
       "model_id": "6317b27cd08346e4ba64fc02fd8c6d86",
       "version_major": 2,
       "version_minor": 0
      },
      "text/plain": [
       "  Tokens in chunk:   0%|          | 0/519 [00:00<?, ?it/s]"
      ]
     },
     "metadata": {},
     "output_type": "display_data"
    },
    {
     "data": {
      "application/vnd.jupyter.widget-view+json": {
       "model_id": "3ced68322b44478ca546a46dab957aa9",
       "version_major": 2,
       "version_minor": 0
      },
      "text/plain": [
       "  Tokens in chunk:   0%|          | 0/513 [00:00<?, ?it/s]"
      ]
     },
     "metadata": {},
     "output_type": "display_data"
    },
    {
     "data": {
      "application/vnd.jupyter.widget-view+json": {
       "model_id": "8454367571c3459496a8d36b8affb229",
       "version_major": 2,
       "version_minor": 0
      },
      "text/plain": [
       "  Tokens in chunk:   0%|          | 0/461 [00:00<?, ?it/s]"
      ]
     },
     "metadata": {},
     "output_type": "display_data"
    },
    {
     "data": {
      "application/vnd.jupyter.widget-view+json": {
       "model_id": "9077a565564d4ec8a93c0a78320d2e9f",
       "version_major": 2,
       "version_minor": 0
      },
      "text/plain": [
       "  Tokens in chunk:   0%|          | 0/468 [00:00<?, ?it/s]"
      ]
     },
     "metadata": {},
     "output_type": "display_data"
    },
    {
     "name": "stdout",
     "output_type": "stream",
     "text": [
      "Total encoding time: 3971.34 seconds\n"
     ]
    }
   ],
   "source": [
    "chunk_data = encode_chunks(data, tokenizer, model)"
   ]
  },
  {
   "cell_type": "code",
   "execution_count": null,
   "metadata": {
    "colab": {
     "base_uri": "https://localhost:8080/",
     "height": 66,
     "referenced_widgets": [
      "65cc528d1c674d3cb98e5bde55356b77",
      "8513072fdde94b30804fd4f2f6a59954",
      "7dcb21f5da6e46498d048fb0da332c9e",
      "208a6756dba24437bdede56c5166bccd",
      "186148b2ec854b39a43ce0fb0aeb1159",
      "5cc79944f28b41ba9c5f3dc3ae0c1f6e",
      "9dc27fe696b34b0b91e7950cd00ce020",
      "6051dff2355b4edcaae7a2bc2eddd4d3",
      "52ee2443561e48f9ae20be930f04f267",
      "810464cb695343dd95ee89fda95a307a",
      "6a79f3ad09484ed182e6227777df3b07",
      "4c8cd92767984732b9e9accce36a5e0c",
      "4105e67c28064b918c2b1fa090dbdde1",
      "470a67ef11c74489a64bf0f588248e18",
      "48ed25018f5e4fb091a48c2aa3d0b139",
      "dc4b317fa4494adca010db5c8786a997",
      "f69a6f98e99c423e81feab1095bd2222",
      "4e6607995fb14c8fb078e31607bf57f4",
      "8ac905e4e8fd49cfbe5761ecd6f20e84",
      "048f0543cfd74506b26fd04642c0782c",
      "1ec1e47f8d1f48c58e33146d9b1591b2",
      "dfaf8263ce464d7fbf41a50abd5164e9",
      "c223649d3979410ca7200fa32723df4d",
      "74c569a9c67c4c358b18c5ad46a2e835",
      "d5bc368be6704f8f9cdc02bd68679570",
      "86768a6b75de43cbbb5e0c773bf72723",
      "bf5f890e9be3440e98ac49d0e46f0577",
      "5be5ab706fa84520a0cba9e2f28d7c58",
      "7a58f840c3c34bd3a6d42b5e0e831054",
      "acf962bbd24d4082b97fe3bfc0a291e7",
      "c5726044f1d749b7ae6ce9f789009b18",
      "9bdf85d2ff364612b00c49e6b8bdac74",
      "4c09b269e1bb49249ddce257d0f18828",
      "3b211dd40299408aae4d48ce26a330e5",
      "9caf0abb16c94e558b48f97c773eeb0b",
      "9cf6858656334f33833b125045f03fed",
      "14d7a50a6e024a568521572a4127dfa5",
      "2554da7997b341db893eefd4db1db584",
      "fb1e39f3e1834b1faf5dd676e6435919",
      "307bc910dbb54cf99bdfe1863f3f8287",
      "4e4e8de7425b4821bd9a5cfb0725996d",
      "6826a5c9bd334973a4d37d0b60073c91",
      "473f1f22f04648109ad2f9ba1a50f14d",
      "a2fd43c77f7d423cac663f322a229f1d",
      "6d9ee9baf9d343c78924c6de9124331c",
      "61f42e56b1074bc19680e2e030295285",
      "4bbb6a4518d847d89f8d979fd83a489b",
      "9502d1cf3386479c8547b41844a1d8fd",
      "c4da3862da88432ca63182e9577c4e19",
      "aeb4002f39c046148fee5ce99d87280b",
      "e04d1eafeb0048f49a67d63d501bbba0",
      "0f2a00aaab7441a78a4a9203c0e789cf",
      "86d2452a630a43c6a5fd033232e8d825",
      "5c6f322c5f344a198c0f00d9f0cdf9ee",
      "06cf4aadf00c4d9884395a1f5d724707",
      "e75185af2e1a492f963273982b8a3e9f",
      "e284fcd89ca1492ea6f1c4d670f83ba8",
      "5955a5b07faf40a5a5060d1cc1fbaf71",
      "bd78fae9dedc424a9ccdf97b40f3a90b",
      "5fdf0265f9b64131a5585f8d5093186d",
      "2edf29a5fe1e483da88bbd58f8a49d8b",
      "ec87165557744f3ab2203dc9959abf10",
      "368d47bbf8c44c9295518c18d4c0beef",
      "17d5a05304db4e0f8289548472888436",
      "4d121db496824852b478aa2e273cf420",
      "3b3b3653c6194b7389d8c55eabd8cba7",
      "f694ac5b10ab445c8ef9b34d001b1a1c",
      "ba8a6b725b8640da99abf43ab3b64783",
      "f59b327d03db4f7994fe5636fb7daabe",
      "79ec8e8e6c1d421ea9ef6184fc412f65",
      "53c96e0dd4124b3fa84f68cfa59e9d37",
      "bdecd758abb44544b05ce525fd6946f5",
      "d842f6a4f2544ae7a2db67ea98232ccf",
      "31d6227e7f3f47d9bdb489a1787eaaf8",
      "0cdef000d5e54be7957b194b6d7d5321",
      "34b10a3577c24839b34055f897ba01a7",
      "59cf29f52a6142b499f329d0ae62552a",
      "3c86a929287e42909275efc73a570940",
      "308337b6de7d4ad78dade9500a40cb61",
      "739b3521c48d491387d2f4dc6c666c61",
      "112174564c784102b081cf3e7a44ac9e",
      "d3fb0553561a4392a932dbe043ef66c9",
      "5ee4946258ee415692bcfd82bc516446",
      "4f9858391ed6433184defe4e955c253b",
      "e7a7c21c945049d092e8d44e6ea97fee",
      "437dd94b713249658743f8e690712e59",
      "07920de51d854c9b86c979c754a9f2ed",
      "735ac2330cd34463ab2f7f014d96a88c",
      "008756cbbfd34df2bc18e77009f5faef",
      "00758f9de0c7402ba2f0e8bd1cebceff",
      "e8dffdc804df4b889d08ed7be92a6390",
      "35e5960004f0431ea843e44c259fa2da",
      "8dcbf2fbc64d427790274dd8226afee4",
      "ff7918e676ee49ea8e626ae93518bffe",
      "aff603bdf9bc484aa47d64e1d88bfb35",
      "c758a8cdf7974dcc8eedd9138cf376a2",
      "32ea19354b2c4e1fb6e998389155f086",
      "532bb9b48ae04945aecf82513a9d59b4",
      "cb3b780fadbf4814b7e136990a7231be",
      "96087f0db7c94e588349d05ac3ee1b25",
      "e46137e322f243eeadeea1d269f55ad7",
      "50c7e970f0394b48b531d4f67fc98547",
      "c17739a8c690420d9c0865859777915e",
      "bbfc9498f7864ed39f93e89dcab69411",
      "b0b39afaafa74c9ab98244c07c6c695d",
      "88a91574453f4ab1bcbfea73af2d6816",
      "109426141c7546d4bcd60c6dac72959c",
      "45a4031d0b9d436b89e5d6ecc3ed3e94",
      "1c32cae68a9f432492d4821335592e52",
      "6897b897dca34a43a8f148f63bdf63a3",
      "be3a3e7199cb4f5a948baf7fe2bfafdb",
      "cf2ef30e345b4bcd965e2118e7a406fe",
      "b37de154571447208f6ca336a03ba48f",
      "5ffb72ce8f8b40db9b3579c37337d9d8",
      "e8c9dcbbf065458fa8335cbd28fe84aa",
      "58177511f9c04cf3a309fb2fb20606fa",
      "8fb527c79be64c1492678a1269ab9c33",
      "b9c0188778b64b63b61d7bff5bba6c50",
      "dbdc4b02d77e4691b9e68a6a1cc9168f",
      "843dae5203bf43298696c73035a69865",
      "e225dcb21ae34c20a754183a7cda4cc1",
      "b846133bc0354675a5942d749f5f2570",
      "d26232ec7ad249cfa3e6615451a7a52f",
      "6a79a090943c4d9a94c67c194decc6c7",
      "baa6701333a148c6b6818f466844810d",
      "d2e36fec1e79445194572fb51d851d79",
      "76d54d97829143aeb34e3f6f5bd80cf1",
      "eddf14298e884c1bb379371eea324237",
      "4557c0746fa14b7ba95b063b5dc79a04",
      "fd15b96beb9c4f82aef9b2fde0955cf4",
      "823f457754a44eb0b9a115dfdaa80b3f",
      "e23d28c763594138b1cdf8d821e95fca",
      "19e757648af14836b58aadd584cbbcf7",
      "f37c9feaa2404d0ea20ad1010da9e3bf",
      "7cd848301a894c93ad9177dc9ac4be63",
      "2a3d82c11b744b9e815aa0155eb51abc",
      "2d7a0de41c9249e58a5d94cc5a98152f",
      "3b302563485842c3b36800f94aa9f8df",
      "cc6375778d5e42cea30870da4b33a21b",
      "554e9209e77542c3af0706bc2646a14c",
      "b42ff14dab454e8fbdb1204b61da3ca9",
      "54557aa4f7e24543a49b1dbe5e712169",
      "8fee1373675246e4bba011a14930cdf3",
      "a27f9b6f0f2b49c1927287c11a0d61d7",
      "f046d72873044f4eb1b920deb1ae5056",
      "a9b7ced7165546669f6b795a19642050",
      "09bb67bd7c7746688c3f62ebeda255dd",
      "f846526bf9bd45b38a3d7e28b12bc8ec",
      "ba80ea234d1c4c92bb6d50de67eb6076",
      "2356af3e462a4de0b303d45eadc2621c",
      "3e1f74635e8648a3a80e7618a0f751f3",
      "5ffdd9a82b85467285c171fcc3922059",
      "d6b997ded4a94d05bbe0b9ca58be9b8f",
      "1b49430465144679a0eed1d1e4fddc8c",
      "bdcbe622c7174d57ac68b8940032e297",
      "e39cafd8821644389e5e56ab45b1dd2f",
      "b2babc4e7dae4e98bef5478ce6ede8db",
      "4a5cb9a8071b4d79afa507f3e0568809",
      "e2cef34fe4d047539447a8c7c48d459d",
      "5d3d84f7566749748beb9864d5cc5e99",
      "817a89a378bc4637a0cf3e1fc258ee5b",
      "b388b5df4df74277aace95a916cca5c3",
      "bc16b888685a4921b283653f53124eee",
      "bc57cb3675f748bcb8cf4e8a4f29656e",
      "6bc6f1782ca44e92b9cb4765b44cfb66",
      "5ef35e62f9b24a6bbfd8de14ce4be996",
      "70b16a8d18d8414099817e2aac3f5ac3",
      "bd4fe72436d44e51816554cbbc5affed",
      "fe79ffde55b94e61ad6415855c68ddc1",
      "8a26d7e9e0e34d94981ad26fe64618cb",
      "9d2516ef2a5a42fea4ccea92fb39348e",
      "b2e32f7b955a4d02926bd97a963edcf4",
      "4a3087558a004e13ad1b6ea1f344c0a1",
      "998b87c9577846329b31ed176bca5f2e",
      "fd5f9e178ed54ccb83678262ce0051dc",
      "f07b941493ef4ce887b6909e13dae3de",
      "60dbe1da40474a20ae26cd3c3c454648",
      "b075f9d99c794182992078893f34cdd8",
      "6127545e929c4b208ab4c7e37aedaf05",
      "3c890e1ca95641cbbd022aed59c55973",
      "252ada4e19e34acb952eb4d0c463e6aa",
      "6605c399106a459185be7cd4f9bda7e5",
      "eb1f3d66800a4ea1a1fd2b2efe871236",
      "f8cf96f82056438a8516d8d181c2c6ef",
      "f5d011b3e6ac4d55a17cf8cba629b2b7",
      "e3d3878590af431988b2f49aea9f3df0",
      "b77344078d864eb49c656ddd8cdf74c0",
      "ae79d22b19f0452eae574fb1943574b9",
      "4ca19392d3cc451aaf3aa0ecf11e1f7d",
      "4c0da373d75948be9abc91d39317f698",
      "f65df07a0d57466c849a5e4076901121",
      "a005185d787b44418a3fc35a935f6b05",
      "27a683973d3d40038cb7f5f9d0d6f11c",
      "7bd6df7dded8435ab0e8e7ccb5bc7f00",
      "d703ccba622043b9a30f5b1fbaf27e63",
      "84c15441a7ef485c82d67f81bd860d07",
      "10a55dd92dbb4588bcaeba7b6479ff1a",
      "de32ce1976384d58b0e09c5fa067d6b7",
      "53fe54e581e34a7694a57df015228624",
      "4f4144a68724463ca71b47ba4e7625f8",
      "c43b9779f33a4466bfc43caf86cd7298",
      "7b790ab4281d4d948794240f29c57db3",
      "cee40a48fec04f1195f1324c1f5aff32",
      "bdeb12ef51904a50b3afff2eb5f7fb9d",
      "f0807e1c088e4cef9e2cd863f97214cb",
      "7f3111dc9796448bb919d3082a93ae50",
      "91080c6342f44fb891f42dd09f965579",
      "7743d16710d6415281139c8a82455fa7",
      "55f8baf6838d4ad2b262e8007f14b8eb",
      "a2ae827fa53947e192a981abe03d2a2c",
      "bd880239970941338682ee60e514c0e3",
      "7dee8fef64dd4f609d68a059fd0219d2",
      "9036dd9e1ed0432f9707c38f7c34b42b",
      "422c02525bb443c1bf0ca5e262b23286",
      "93ded3188e7e474dad1720a54fc579f4",
      "b4806867c34d4823b1307b6d4f5d8a63",
      "2e805e438c4b446081708326b8cfeb0f",
      "fafad5bc9a8e46588662e0023290149d",
      "eb6e0a5e4ac645ea841d23fd3c13d419",
      "04658242b184493b8ca2b15fa05fa296",
      "f04c9ca7e80342dc840e7ef859b2ba58",
      "99900d41b6d14555a2e81c7cae24a5d8",
      "4f7f7bb73e224b798f571946b172ec9e",
      "6bc9a0dabc6a4a769f87c15b19fc594b",
      "3251dd624633444abd5504f287979d1a",
      "e28aacd8a0694304a63f5027200b441d",
      "3ddb8a4d05644133b43c4e1d49c6ad7e",
      "a079edcae1e94406af5e587c5f60e60a",
      "a8a0a77d8674490e95e3e338705984b0",
      "e9abcc27c8a44175b887ebfa17ffa049",
      "c9588279c4db4dcaae35c17cef7cf04f",
      "791c9a4d8db844eab442bce5e32230d2",
      "df041415a6494855aa2078c241de9f01",
      "b0b97d2084dd41629796d571a7e99e37",
      "f214bdd51f4744e1bf013be67b4c0ae1",
      "c8a7bd3ec5ba4b70ad9e8e57d71fd778",
      "dd7a659e1ab04ad1946391d0ed73190a",
      "f05b23e7e82549ada12d72381839e884",
      "4a005c75d7bc4af8b62d1a1dce265180",
      "625b0c6518844c18852a0dfa32135d57",
      "0fbc31838d064aa4bcb1416681c00338",
      "ab964bb4136c47008ad528ad7754051c",
      "4c5b5c9c992c4650838ca6d293038130",
      "4aff38fdf9f7409186979c8734bb7564",
      "be90942ab1b247fdb87bc4314bc7bd9d",
      "d5e1fe7f9b4746e5b756fea03f0c298d",
      "6a1345251adb40b0a9dedbf17eb92bf4",
      "a0c5590476e546599a350b214f693c93",
      "2c76309447b34e7f928c2fcbd03917d9",
      "000bfcbfd22b49d388011302ed69cc31",
      "915e651f537648f8ac770744fc783ea0",
      "bc9ce708de944cc79a320c218a1ada8d",
      "f46b8ab913364fc58c63697582241dc2",
      "315f7b574f6449afb88b8daca77a40c4",
      "4e21e3c7ec394c81b0eeef8528a715df",
      "1e294296af4e42cbbee409ecade11ab1",
      "f643822d9c354b18b90700e517ddced5",
      "a7255452a88a46768c74256ea07caedc",
      "6043d8e4dd8d41df9f292a10f7d599dc",
      "4cacf1e361cf4bbfae3265e7c74b3099",
      "1f39ddc1a751438491e5c6732217d305",
      "c915a4da3622438f807ee6f94db3c517",
      "d08c106c1d0c491fbc48a6ea65feade6",
      "ecca94c3f7734647aceea7747adbbfc7",
      "6384cba9b1a74fb8aba41ddf08fffd9d",
      "f9bcd20397d0465f8107c435dde8a822",
      "c35380a3e1e44c05bbb106729771c61f",
      "0397f12dc3724bbba2f48c9d9452a885",
      "746c3e74bbf7441c8e8157b6dda34e92",
      "e357433e5e7047e8b7b00a8c63b5a081",
      "60c3939646df42abb630abb2e35a21ae",
      "5dd3173287824771ad3e997e37ed8f6f",
      "bedced991e664baa95cf01edb25bb971",
      "c2e58e9aed5b4eb18c7b88ae1927be0e",
      "461f4c7f6de94bb598a68d7fed1e6e8c",
      "9b03b27aec3d4d19838b9a1e846c5821",
      "e9284e38f7c74013be973cc002a3cda9",
      "84d0bb55b04c4695a316f2cdf6b9fe6b",
      "79a1edfed9e045068696e793b2d846b0",
      "5602375663484b9785cd4ba17d745aa9",
      "a20a400183fd4e73a7b4e7338bb1d44c",
      "6a3e388cbec443328556a9c9ba5f3070",
      "e1d993f19a2b47e1b0612461899e0302",
      "03a0f1fda5d8423aab4070d931a16ace",
      "0daf246aabd5432287311acd40656288",
      "73203549882d405a8717b18beb2ec984"
     ]
    },
    "executionInfo": {
     "elapsed": 3957593,
     "status": "ok",
     "timestamp": 1751461063058,
     "user": {
      "displayName": "Yulia Yorkshirelove",
      "userId": "10480095246692972307"
     },
     "user_tz": -180
    },
    "id": "Jbl2DazSZ8yp",
    "outputId": "9bf38a4e-9108-4614-bfc8-e78bb8df4ee9"
   },
   "outputs": [
    {
     "data": {
      "application/vnd.jupyter.widget-view+json": {
       "model_id": "65cc528d1c674d3cb98e5bde55356b77",
       "version_major": 2,
       "version_minor": 0
      },
      "text/plain": [
       "Decoding chunks:   0%|          | 0/25 [00:00<?, ?it/s]"
      ]
     },
     "metadata": {},
     "output_type": "display_data"
    },
    {
     "data": {
      "application/vnd.jupyter.widget-view+json": {
       "model_id": "4c8cd92767984732b9e9accce36a5e0c",
       "version_major": 2,
       "version_minor": 0
      },
      "text/plain": [
       "  Tokens in chunk:   0%|          | 0/677 [00:00<?, ?it/s]"
      ]
     },
     "metadata": {},
     "output_type": "display_data"
    },
    {
     "data": {
      "application/vnd.jupyter.widget-view+json": {
       "model_id": "c223649d3979410ca7200fa32723df4d",
       "version_major": 2,
       "version_minor": 0
      },
      "text/plain": [
       "  Tokens in chunk:   0%|          | 0/771 [00:00<?, ?it/s]"
      ]
     },
     "metadata": {},
     "output_type": "display_data"
    },
    {
     "data": {
      "application/vnd.jupyter.widget-view+json": {
       "model_id": "3b211dd40299408aae4d48ce26a330e5",
       "version_major": 2,
       "version_minor": 0
      },
      "text/plain": [
       "  Tokens in chunk:   0%|          | 0/629 [00:00<?, ?it/s]"
      ]
     },
     "metadata": {},
     "output_type": "display_data"
    },
    {
     "data": {
      "application/vnd.jupyter.widget-view+json": {
       "model_id": "6d9ee9baf9d343c78924c6de9124331c",
       "version_major": 2,
       "version_minor": 0
      },
      "text/plain": [
       "  Tokens in chunk:   0%|          | 0/647 [00:00<?, ?it/s]"
      ]
     },
     "metadata": {},
     "output_type": "display_data"
    },
    {
     "data": {
      "application/vnd.jupyter.widget-view+json": {
       "model_id": "e75185af2e1a492f963273982b8a3e9f",
       "version_major": 2,
       "version_minor": 0
      },
      "text/plain": [
       "  Tokens in chunk:   0%|          | 0/627 [00:00<?, ?it/s]"
      ]
     },
     "metadata": {},
     "output_type": "display_data"
    },
    {
     "data": {
      "application/vnd.jupyter.widget-view+json": {
       "model_id": "f694ac5b10ab445c8ef9b34d001b1a1c",
       "version_major": 2,
       "version_minor": 0
      },
      "text/plain": [
       "  Tokens in chunk:   0%|          | 0/598 [00:00<?, ?it/s]"
      ]
     },
     "metadata": {},
     "output_type": "display_data"
    },
    {
     "data": {
      "application/vnd.jupyter.widget-view+json": {
       "model_id": "3c86a929287e42909275efc73a570940",
       "version_major": 2,
       "version_minor": 0
      },
      "text/plain": [
       "  Tokens in chunk:   0%|          | 0/472 [00:00<?, ?it/s]"
      ]
     },
     "metadata": {},
     "output_type": "display_data"
    },
    {
     "data": {
      "application/vnd.jupyter.widget-view+json": {
       "model_id": "008756cbbfd34df2bc18e77009f5faef",
       "version_major": 2,
       "version_minor": 0
      },
      "text/plain": [
       "  Tokens in chunk:   0%|          | 0/548 [00:00<?, ?it/s]"
      ]
     },
     "metadata": {},
     "output_type": "display_data"
    },
    {
     "data": {
      "application/vnd.jupyter.widget-view+json": {
       "model_id": "96087f0db7c94e588349d05ac3ee1b25",
       "version_major": 2,
       "version_minor": 0
      },
      "text/plain": [
       "  Tokens in chunk:   0%|          | 0/506 [00:00<?, ?it/s]"
      ]
     },
     "metadata": {},
     "output_type": "display_data"
    },
    {
     "data": {
      "application/vnd.jupyter.widget-view+json": {
       "model_id": "be3a3e7199cb4f5a948baf7fe2bfafdb",
       "version_major": 2,
       "version_minor": 0
      },
      "text/plain": [
       "  Tokens in chunk:   0%|          | 0/620 [00:00<?, ?it/s]"
      ]
     },
     "metadata": {},
     "output_type": "display_data"
    },
    {
     "data": {
      "application/vnd.jupyter.widget-view+json": {
       "model_id": "b846133bc0354675a5942d749f5f2570",
       "version_major": 2,
       "version_minor": 0
      },
      "text/plain": [
       "  Tokens in chunk:   0%|          | 0/536 [00:00<?, ?it/s]"
      ]
     },
     "metadata": {},
     "output_type": "display_data"
    },
    {
     "data": {
      "application/vnd.jupyter.widget-view+json": {
       "model_id": "19e757648af14836b58aadd584cbbcf7",
       "version_major": 2,
       "version_minor": 0
      },
      "text/plain": [
       "  Tokens in chunk:   0%|          | 0/570 [00:00<?, ?it/s]"
      ]
     },
     "metadata": {},
     "output_type": "display_data"
    },
    {
     "data": {
      "application/vnd.jupyter.widget-view+json": {
       "model_id": "a27f9b6f0f2b49c1927287c11a0d61d7",
       "version_major": 2,
       "version_minor": 0
      },
      "text/plain": [
       "  Tokens in chunk:   0%|          | 0/574 [00:00<?, ?it/s]"
      ]
     },
     "metadata": {},
     "output_type": "display_data"
    },
    {
     "data": {
      "application/vnd.jupyter.widget-view+json": {
       "model_id": "bdcbe622c7174d57ac68b8940032e297",
       "version_major": 2,
       "version_minor": 0
      },
      "text/plain": [
       "  Tokens in chunk:   0%|          | 0/465 [00:00<?, ?it/s]"
      ]
     },
     "metadata": {},
     "output_type": "display_data"
    },
    {
     "data": {
      "application/vnd.jupyter.widget-view+json": {
       "model_id": "5ef35e62f9b24a6bbfd8de14ce4be996",
       "version_major": 2,
       "version_minor": 0
      },
      "text/plain": [
       "  Tokens in chunk:   0%|          | 0/507 [00:00<?, ?it/s]"
      ]
     },
     "metadata": {},
     "output_type": "display_data"
    },
    {
     "data": {
      "application/vnd.jupyter.widget-view+json": {
       "model_id": "60dbe1da40474a20ae26cd3c3c454648",
       "version_major": 2,
       "version_minor": 0
      },
      "text/plain": [
       "  Tokens in chunk:   0%|          | 0/561 [00:00<?, ?it/s]"
      ]
     },
     "metadata": {},
     "output_type": "display_data"
    },
    {
     "data": {
      "application/vnd.jupyter.widget-view+json": {
       "model_id": "ae79d22b19f0452eae574fb1943574b9",
       "version_major": 2,
       "version_minor": 0
      },
      "text/plain": [
       "  Tokens in chunk:   0%|          | 0/441 [00:00<?, ?it/s]"
      ]
     },
     "metadata": {},
     "output_type": "display_data"
    },
    {
     "data": {
      "application/vnd.jupyter.widget-view+json": {
       "model_id": "53fe54e581e34a7694a57df015228624",
       "version_major": 2,
       "version_minor": 0
      },
      "text/plain": [
       "  Tokens in chunk:   0%|          | 0/566 [00:00<?, ?it/s]"
      ]
     },
     "metadata": {},
     "output_type": "display_data"
    },
    {
     "data": {
      "application/vnd.jupyter.widget-view+json": {
       "model_id": "a2ae827fa53947e192a981abe03d2a2c",
       "version_major": 2,
       "version_minor": 0
      },
      "text/plain": [
       "  Tokens in chunk:   0%|          | 0/517 [00:00<?, ?it/s]"
      ]
     },
     "metadata": {},
     "output_type": "display_data"
    },
    {
     "data": {
      "application/vnd.jupyter.widget-view+json": {
       "model_id": "f04c9ca7e80342dc840e7ef859b2ba58",
       "version_major": 2,
       "version_minor": 0
      },
      "text/plain": [
       "  Tokens in chunk:   0%|          | 0/654 [00:00<?, ?it/s]"
      ]
     },
     "metadata": {},
     "output_type": "display_data"
    },
    {
     "data": {
      "application/vnd.jupyter.widget-view+json": {
       "model_id": "791c9a4d8db844eab442bce5e32230d2",
       "version_major": 2,
       "version_minor": 0
      },
      "text/plain": [
       "  Tokens in chunk:   0%|          | 0/491 [00:00<?, ?it/s]"
      ]
     },
     "metadata": {},
     "output_type": "display_data"
    },
    {
     "data": {
      "application/vnd.jupyter.widget-view+json": {
       "model_id": "4c5b5c9c992c4650838ca6d293038130",
       "version_major": 2,
       "version_minor": 0
      },
      "text/plain": [
       "  Tokens in chunk:   0%|          | 0/519 [00:00<?, ?it/s]"
      ]
     },
     "metadata": {},
     "output_type": "display_data"
    },
    {
     "data": {
      "application/vnd.jupyter.widget-view+json": {
       "model_id": "315f7b574f6449afb88b8daca77a40c4",
       "version_major": 2,
       "version_minor": 0
      },
      "text/plain": [
       "  Tokens in chunk:   0%|          | 0/513 [00:00<?, ?it/s]"
      ]
     },
     "metadata": {},
     "output_type": "display_data"
    },
    {
     "data": {
      "application/vnd.jupyter.widget-view+json": {
       "model_id": "6384cba9b1a74fb8aba41ddf08fffd9d",
       "version_major": 2,
       "version_minor": 0
      },
      "text/plain": [
       "  Tokens in chunk:   0%|          | 0/461 [00:00<?, ?it/s]"
      ]
     },
     "metadata": {},
     "output_type": "display_data"
    },
    {
     "data": {
      "application/vnd.jupyter.widget-view+json": {
       "model_id": "9b03b27aec3d4d19838b9a1e846c5821",
       "version_major": 2,
       "version_minor": 0
      },
      "text/plain": [
       "  Tokens in chunk:   0%|          | 0/468 [00:00<?, ?it/s]"
      ]
     },
     "metadata": {},
     "output_type": "display_data"
    },
    {
     "name": "stdout",
     "output_type": "stream",
     "text": [
      "Total decoding time: 3957.65 seconds\n"
     ]
    }
   ],
   "source": [
    "recovered_ids = decode_chunks(chunk_data, model)"
   ]
  },
  {
   "cell_type": "code",
   "execution_count": null,
   "metadata": {
    "id": "_g9Tono4Z84t"
   },
   "outputs": [],
   "source": [
    "orig_ids = sum([entry['ids'] for entry in chunk_data], [])\n",
    "encoded_output = sum([entry['bits'] for entry in chunk_data], [])"
   ]
  },
  {
   "cell_type": "code",
   "execution_count": null,
   "metadata": {
    "colab": {
     "base_uri": "https://localhost:8080/"
    },
    "executionInfo": {
     "elapsed": 9,
     "status": "ok",
     "timestamp": 1751461063074,
     "user": {
      "displayName": "Yulia Yorkshirelove",
      "userId": "10480095246692972307"
     },
     "user_tz": -180
    },
    "id": "Y0721voPZ8_b",
    "outputId": "175158b0-2b54-40be-ca2a-97f811fa6351"
   },
   "outputs": [
    {
     "name": "stdout",
     "output_type": "stream",
     "text": [
      "Расхождение на позиции 12000: orig=31705  decoded=31699\n"
     ]
    }
   ],
   "source": [
    "compare_sequences(orig_ids, recovered_ids)"
   ]
  },
  {
   "cell_type": "code",
   "execution_count": null,
   "metadata": {
    "colab": {
     "base_uri": "https://localhost:8080/"
    },
    "executionInfo": {
     "elapsed": 6,
     "status": "ok",
     "timestamp": 1751461063081,
     "user": {
      "displayName": "Yulia Yorkshirelove",
      "userId": "10480095246692972307"
     },
     "user_tz": -180
    },
    "id": "beTSyuL9aKh2",
    "outputId": "d9a3354d-83d7-4bb4-e86a-220d2c62a85f"
   },
   "outputs": [
    {
     "name": "stdout",
     "output_type": "stream",
     "text": [
      "Исходный размер:   400000 бит\n",
      "Размер после сжатия: 36262 бит\n",
      "Коэффициент сжатия: 0.0907\n"
     ]
    }
   ],
   "source": [
    "compression_stats(data, encoded_output)"
   ]
  },
  {
   "cell_type": "markdown",
   "metadata": {
    "id": "sCMAMagLasa7"
   },
   "source": [
    "## Open_llama_3b"
   ]
  },
  {
   "cell_type": "code",
   "execution_count": null,
   "metadata": {
    "id": "5hiSMIGCasa7"
   },
   "outputs": [],
   "source": [
    "clear_memory()"
   ]
  },
  {
   "cell_type": "code",
   "execution_count": null,
   "metadata": {
    "colab": {
     "base_uri": "https://localhost:8080/",
     "height": 255,
     "referenced_widgets": [
      "9fed459134e0491a8ab4369ee5fd59aa",
      "f738b03554654764a969b6c032c7617b",
      "3763d86e9599467babb1b87eac5c276a",
      "9e433deac92a478a8436755f52580551",
      "c992223a823e484b82fd2ec2fee4ac75",
      "19a1e98b9a13473eab6fd61e000fdcbf",
      "c9da26cac6f74ca189b30df0d2ef2f6b",
      "5c99162ca3bf48feb60847cf4a1ee0e2",
      "57112957c822468b9fa303d6591d2c77",
      "5b7cb55a0ae144c4bfcec758079aa51c",
      "14ee135c373d4c83aeb4c47dd658db57",
      "f16b58c8169b48c5acbbc77b9997b599",
      "018105e8ca2e44c98c30c4bf4e9a776f",
      "d5f8484775b5497cb49b38a6c276bd6f",
      "59a4c6f904584e308d0ce26190f1629b",
      "d78e968b9e3f4c039790a8932d108e16",
      "f50b62a5bbf24d39ac0c16b0a120be83",
      "a5074cf06fdd4fcfadb7c5444769f680",
      "f1bdaf7ce0894e5c9be14f24b55f6e81",
      "a548c440211d4ca2b36da8df08455621",
      "6b26471ca16c4149bb097322fc5ebb2f",
      "749921028ffe463d8948a004700f96a3",
      "dc4b8ef55a9c43458cae6164151aeba9",
      "c39d75258ab249fab130ded3d16ccd95",
      "9327865224e044cf9441f77dd77ed9d0",
      "25452943b7fd4005a41f51539074b468",
      "3314710edd1741d78c0b0927da1f2f0c",
      "7d766a8e7961445e9eaf5df355e618f5",
      "99e14fa5f0c84051bfeb0a2de13486f8",
      "7590f9315b7648d9b0d559c716f9d539",
      "629a15da16b2484a809c19f4b0d54674",
      "a12047bbb6a541a99af37ee426fc9aec",
      "c96c8df80ac047ef8410ac68b349b871"
     ]
    },
    "executionInfo": {
     "elapsed": 120148,
     "status": "ok",
     "timestamp": 1751472902104,
     "user": {
      "displayName": "Yulia Yorkshirelove",
      "userId": "10480095246692972307"
     },
     "user_tz": -180
    },
    "id": "105p9okVasa7",
    "outputId": "fefee2c1-ea3d-4a57-b0c5-ae8aabceb2bd"
   },
   "outputs": [
    {
     "name": "stderr",
     "output_type": "stream",
     "text": [
      "/usr/local/lib/python3.11/dist-packages/huggingface_hub/utils/_auth.py:94: UserWarning: \n",
      "The secret `HF_TOKEN` does not exist in your Colab secrets.\n",
      "To authenticate with the Hugging Face Hub, create a token in your settings tab (https://huggingface.co/settings/tokens), set it as secret in your Google Colab and restart your session.\n",
      "You will be able to reuse this secret in all of your notebooks.\n",
      "Please note that authentication is recommended but still optional to access public models or datasets.\n",
      "  warnings.warn(\n",
      "You are using the default legacy behaviour of the <class 'transformers.models.llama.tokenization_llama.LlamaTokenizer'>. This is expected, and simply means that the `legacy` (previous) behavior will be used so nothing changes for you. If you want to use the new behaviour, set `legacy=False`. This should only be set if you understand what it means, and thoroughly read the reason why this was added as explained in https://github.com/huggingface/transformers/pull/24565 - if you loaded a llama tokenizer from a GGUF file you can ignore this message\n"
     ]
    },
    {
     "data": {
      "application/vnd.jupyter.widget-view+json": {
       "model_id": "9fed459134e0491a8ab4369ee5fd59aa",
       "version_major": 2,
       "version_minor": 0
      },
      "text/plain": [
       "pytorch_model.bin:   0%|          | 0.00/6.85G [00:00<?, ?B/s]"
      ]
     },
     "metadata": {},
     "output_type": "display_data"
    },
    {
     "data": {
      "application/vnd.jupyter.widget-view+json": {
       "model_id": "f16b58c8169b48c5acbbc77b9997b599",
       "version_major": 2,
       "version_minor": 0
      },
      "text/plain": [
       "model.safetensors:   0%|          | 0.00/6.85G [00:00<?, ?B/s]"
      ]
     },
     "metadata": {},
     "output_type": "display_data"
    },
    {
     "data": {
      "application/vnd.jupyter.widget-view+json": {
       "model_id": "dc4b8ef55a9c43458cae6164151aeba9",
       "version_major": 2,
       "version_minor": 0
      },
      "text/plain": [
       "generation_config.json:   0%|          | 0.00/137 [00:00<?, ?B/s]"
      ]
     },
     "metadata": {},
     "output_type": "display_data"
    }
   ],
   "source": [
    "tokenizer, model = load_quantized_model(\"openlm-research/open_llama_3b\")"
   ]
  },
  {
   "cell_type": "code",
   "execution_count": null,
   "metadata": {
    "id": "7Ho8KY1Tasa7"
   },
   "outputs": [],
   "source": [
    "data = get_data(50000, tokenizer)"
   ]
  },
  {
   "cell_type": "code",
   "execution_count": null,
   "metadata": {
    "colab": {
     "base_uri": "https://localhost:8080/",
     "height": 66,
     "referenced_widgets": [
      "4b0583cbe4b24034845a83429c2f2b31",
      "a895e037560a404a8c98c686bef9355c",
      "290e6e668b3c464dbe3947be410c86b5",
      "f0f06b9fb74a450ba451332a9af555b9",
      "8e4639f99d454b338461762fb212adc2",
      "27fda351e5e24e8a940d2ec6254839ee",
      "de9fc443fdfe47189dc39806b1895cbc",
      "e217c1e2e8ed4c3e82382bb0ae34e1ed",
      "856b5032b04b4d9d94872c64042b314c",
      "c85fd0b2ecb248b6b6f225f481dab758",
      "4ec3d3ccc0d74063b84f2a3592cced01",
      "c25da493273a4971affcc2577fd48c24",
      "f456f712473147a196ec89f0d811d6a0",
      "7657778af811412191946a431e8b0ad5",
      "3354e55e9a9b484aa70d4386a0dd5f71",
      "81a42d74dcb44d11bade3705a0be187d",
      "34f3f038a76a454482ba0dec63b9153f",
      "a37428f50b944d12bdf45db8e4524acf",
      "4d4b7ba9f168434bb3749c47683fb19f",
      "953bcce580ec4adaba2d48c9d9915731",
      "1b7ce499def94767908acd4a8299d732",
      "1a675c1535974de3af71eb8b31a04c0f",
      "9f403aa2cda74bf4901d9119ab06c85a",
      "6c8b48bc0ce54918a6aca624f7a37468",
      "41db587966574435ad478b7aa98a2458",
      "1d13fdc695754a98bfe0eaf37c2d17ad",
      "77c99b219fd74a19975cd805d201809d",
      "cab954299fd8462f94e43186c5206504",
      "32b1feae81d2492a97799b2d2a78df49",
      "6cbf66a7d444448f84c8ea49d64b93be",
      "d5665d44eeb54c41a4fe08dbbafc7143",
      "67152aab5e754704b9383c9ce4447ef2",
      "80c3250f06aa4b77b0c91b6f65bdc53c",
      "20b7b20283294836acfb5a98c0919aa3",
      "ab90a494976d4bb89387da5a7a371f76",
      "c1e59f3c2a6542cbaee102a22cbcfc66",
      "148584d06dea4ce798759b92c49b8006",
      "868b99913ae9438c819f366184d0ea22",
      "287af8cfbdb24037a0e9a00c1b3eaf44",
      "25fe2c58f57d439aa1ada1801e81bcc3",
      "efd517c470cf49008fec8cc3535978be",
      "b844f1c1d5274d2d9abe715b97f939e9",
      "32441c172daa4552b743131fdba18924",
      "b317de4e1ea048d1bf90f1045668c931",
      "f737f2960217429cbfe4b72c308576d5",
      "8d56b3667ce6420fa978c7828e113ee9",
      "63d7e5a2843942eb85ea1fef274a242f",
      "777b0703fbf64a76a90269cef3956f91",
      "57910aefd53a44f7ab2e548a75c49bff",
      "ce9e7dd884d6457fb57a0e452d158d60",
      "214e21f01afb493aaa62904a4cfd2858",
      "e40e0159c92d45238d1f5be7eb26536b",
      "9d594f6d2f9441c88c8310d4adc713fd",
      "4b13cf7af230409da54a52fb3befa976",
      "14922334df954a628b3133fef7f72314",
      "c07148422f6e45d3bd8027a79e3401b4",
      "d61d577342b347b2ae84219d3919e0f0",
      "b340e5ae6a1c4ea3889aa112cd4aff46",
      "609a578ebf504b4db5d8f9fb22205a44",
      "dd3b2a0856b449339226e9ba491e45c5",
      "a5dcb2067b75496bbb48ad30ee1fa93e",
      "4c330ba91df9487f8767c57fe03614c2",
      "c75418db66724f72b9cf784c99827d2e",
      "f82e521ef362474a93367cc053586437",
      "491b2043912f4f61921637905848ed01",
      "01314c48a4ea426cbe82199677ec1de5",
      "fcfbd40f374b4da2b0be05ba2af25458",
      "d4718bb359924f57be6dacc79b59dcf7",
      "d4f4a4e5d31441ab973a6d2e1c28b5c8",
      "9cedb34b786c45f181567743216f8c6f",
      "e1540c0b1e654ae7aae92ba8c55e1343",
      "4b4f06dfe73b45f9bb51dd0ab51afb25",
      "670ccaa5bd564f3b944c7f4d87a6c3da",
      "b0e20ceae77644e0a26eb09c0954e3c4",
      "fa6ecfbd14ab4e2caa26604e6d5f4776",
      "129b00a819c74c6ba920f91bd060ff39",
      "e9d2f37f56fb4eedafeecca434a612b9",
      "a658a51248b645e298c65dc2fc3b2221",
      "d41f2a3f02df4f32b4270b8d72f8549a",
      "ecaf3c10331c4e4e8a3d56bc75cba1ef",
      "a3f6a856dc554fbdbd9108886b5b220a",
      "3fe26644bd6243a781e3eebbe3beb8dd",
      "cd1e86fd97dd4f75b4fa3eac83e51ade",
      "a9b484bdcf5045649be176ee470ec3b2",
      "09cc4229940a432aa1c24e3aa7e3e9e1",
      "0ec79747b0a84ffc8d0196914c202707",
      "c9685832b2c94105ab39ae0b94cd5356",
      "56796b8e71f948ce8558498ab0545f82",
      "734e374ae484400e8e81272580dc7469",
      "e5ffabe4759248f9ac8bdc99d96bda6f",
      "50b4b605e924474d9809616b80de6453",
      "f79063096dee4aeeb2e3cee950983d4a",
      "3bc7dc65f0cf4f9ebe9a59ac872ddf15",
      "3c795db072ae4d6dab22d171e8898032",
      "356813b30f1a4370adddbc88a6fe71d2",
      "9f460445ff184f97b2b31f38c6385d68",
      "9e41d2c865124f50ba5399288506a376",
      "32a220ca682b4d7887639e129e1533ed",
      "a4907059c3de45b7a48ea8c73fafbf9a",
      "4ef6c70aa2a745a7a8ac5fc9141a3576",
      "48f4002a0d314caba0e0fa91944c01f6",
      "46d0a58afeec4901a395547b725a07ac",
      "0577f9681c2e464bb14afe1f98b3f02d",
      "285b5fae36ad46359a41ba5c3830dca5",
      "3f856780d8bd4afa8fd426d12489bf2a",
      "da9fbfa4be5541c8a130d2d9e557eeb2",
      "6f7c3be145df4614b2d8df5344823559",
      "0e4759d6b0624ccaae8162a4411bff45",
      "ffa4bc6e43f6443a9542dcd57f518d09",
      "63bec70c1e124058a2f2ef079fef9745",
      "b4bd90e49e6540edae50fc71da77bd63",
      "d0e2beffa972449399dc4908e9a9e5da",
      "fa7b01311b8d4a739f6aaf636f8b29e1",
      "d35b1e04a7314860a649ba95fb14099f",
      "4f4dcaa8e8114752a7da9f5ed4ac15af",
      "548d18261cbf41aa84fbfaaab98ab4bc",
      "53a2d719e28d44f1aeb9eb6a7d16946a",
      "ee188060b011496a81242abbfd1b85c1",
      "7f7ff3d49ce946a5aea90a143d887472",
      "f786203881d0401695d52b4fc237c9ce",
      "41af2dd39acd437380daed8ad62f5c12",
      "cd971001bae94f8490c643efbeffbc02",
      "aaa54c26254b462c987c289ca70b187e",
      "2026d91c156f41358337968331a780d6",
      "1bf9fa80457741f791e488569915d693",
      "9b041f1f1432441eac9f4082856ed0f0",
      "1ee5da34e41d49f0bc66fd7a99e0e011",
      "33861ba6173c405db4632044a9c1b449",
      "64dd6c9880ca4234b0bf00ce9660cc5a",
      "6d336cc8714b472f8e8c8b3239ab6a46",
      "4f1725a77fc645d9ba626ed11d4cf923",
      "287b6ab0fc11496d83729cb81b896280",
      "798db53b5a594f4c8f455b7572fa7f7a",
      "8e637d6be0b348cb994fe4900ca82b9c",
      "0a458a20abf3441fb261fdc823864037",
      "e90d43b2a6b548fc8b73553db6416da0",
      "0429a08d5fbe4f3c8258953307bc1097",
      "16ac26d5a5a54bee8668be895d0d4cc7",
      "83efbcdd49304a8ea05c8d6074cf5595",
      "eaec57bfcb5141f693813a7d433bbcd4",
      "7a0a04cc5c7c4005a8a154078ae501d1",
      "976a5ecec70f4a60986edb532b7409a2",
      "728eb95b281047c9867d67bd9e5102ca",
      "6fd51f2abdef48d58dac701143aca02c",
      "305cba35c55a4f2e8fbb5304e5f52a8e",
      "6c260610d9a24a1e985f309f5a86aea0",
      "febbb6220f864d5ab5da6d8de7f61a35",
      "193584ec09364f17b662790df4421579",
      "d41f0f7c24d540b8991bb6b1a7f52263",
      "6302ccf6c1e2424a9c14fc6c7e88f670",
      "1354bea46dfc4a6db711c1f6c84b281d",
      "90dbd9c9766845b1a73cdc32d47db476",
      "c865e2e9f1874a9c9278a26042fddfd7",
      "b75b796c803746cc846f224e4f449c35",
      "70e8dfa4c1cf4abdbf5454a6f4afa624",
      "346c5e25871e4bdab2aae23aaf75931e",
      "69012813d57741678c2558c3b955bf6d",
      "2d4aee0a60df472fa16119d5a764a2b1",
      "70722100c4944573a65004de719502b8",
      "c058b64a38eb4b7083f0be8eb9184ae8",
      "48c889a6fe8b42099290192e46eae841",
      "3403e8b055884f1b92c1be94fb464dbf",
      "a49cf9cfd3f14f7e9b3bce0f1576c103",
      "7ff769c829eb401ca1936fec52bcc037",
      "83e93771408948e7a5a9db896d169be7",
      "d13b1eb3131c4dcebc9acb73f4ee9913",
      "328352c5de1a44a79d23296c7211a512",
      "deb19b9632ba4821a4c60a77ba18ce28",
      "78b4da3da1db434eb3b42a94c5cdeef2",
      "f95ee8b13b4f4e20b66889c7f16f1246",
      "59ad1b07d44f4f5db835417eb82a2825",
      "0eba08a453c845a5893ba157a6778a8e",
      "990168dfa77b4da9a684e185a36f02e2",
      "59457d6267984add923c2165c68254d2",
      "9f5629876a2b473aad68db5f09126fb2",
      "6c4925e2e44340dcb4d9e078b40106b8",
      "ad08908f10ba4c1190d1b51f4e2abe2e",
      "743a840f097c499ba95fa1880958193e",
      "6cca7877c09944d8898fb201fe92ed8a",
      "a4552b739dad4cca8f54df7bcf98205f",
      "4c155c5a9b2041e4be164c345b5a39d7",
      "6bed183c2a0f463eaabacc54dcde3ba1",
      "e4051a5c06644901bb603f1f341e7a2a",
      "9606777b36474b02946b26a0071efc11",
      "f77f4cc0db434d8b944dc784286bd1f7",
      "4291ddef11b04f61b38677692b7c83bc",
      "e82cf3ae772741fab4d07154682b7463",
      "5ae2e550edff4ad6a048e56a1d452329",
      "c70f7221dda74502bfd02d28f49d097c",
      "7b58a145fe90497abc5442fe612223ef",
      "cc30e89c1ae64168acff8ac95c984b77",
      "b9555e5351ea4dbea835e2caa8ac5f2f",
      "1432bc6d46904a40b8a03d768ec422da",
      "fb8e7592222d4916bf7f0d98a2a1a8f0",
      "2cbace3491ec40d4bbcb50714f1b08b2",
      "f540531c19de4eba9dd6384ace0c8b2a",
      "6194cc0984a346e4a7a2a455ae207d13",
      "4b16d4d11f5d46fea9bac19c3185d84f",
      "4f326fd012e241878893d0315b088055",
      "5e0fdc74f2414a5381d767453a7c6603",
      "0e459a32ed894576aac0f3d040e64f39",
      "5d42de0ed57f41bc87c18b18af74d35d",
      "66b81a359c12458ea9eb33998c25d682",
      "b6e67f9236a5482e99eb098d61e34a44",
      "c5244660c67e491aa3f1b99212b43589",
      "871ed260aeaa40b1ba93b405e9fbcdb5",
      "77202fac7e184798a79ed31380e89fbe",
      "18d789b6cbe94944a2f3f81947bb0469",
      "ebe81cc3ed974cd79263df7a1f8158b3",
      "f044adb434f641028e42ac0c691814b3",
      "a33e972fcbc044f3ad173da512b1d3ec",
      "0a8912aacc464e7789772505aaf78225",
      "9e3253d58084408ea3152a8e09379db3",
      "81ae7e1a9a0a4f2ca2dcf0b67f13795e",
      "eec15c377d9343f3a9ebb4a7c30a4be0",
      "271f5acca7f04d768ab279398085c652",
      "1fde244364a043edbd32d94f95693cd1",
      "b4747308c5394053b3a15b27a535d956",
      "ba02a9161a8048c4a78e13d348e0d9fa",
      "11095d4b535c40a0b24f0d91ab2611ab",
      "b05ecb0d73c0419ca781a46c069b1a09",
      "785dc9ddf72c47cf895139b93ac70b9b",
      "afe4502bca574aa48f11a2d9cb953cd1",
      "ce5879add94c4097bfdf6b3a52dd4a8a",
      "f80b57afeb674418aff131585d430c88",
      "50a36d36b9034755bb240b9495fa7a1a",
      "87a18bd320bd470697ff43e8c127e194",
      "61b49d5cfc424e07ae2b0d1a0ebfcf10",
      "77a610ace1c1491dae3faad76295c3ca",
      "66763ebbc43f4c60a549105a1483fd28",
      "a47ce4dea4db4b4da71c87300d28cc57",
      "dbb9da68230f494594359694e13e4ec8",
      "430e4c6503464f7e86b554074799a00e",
      "3ba68914e4b34b0381c8cc7bd12711ad",
      "f8d7c33c80be4292a288ece6acf5744a",
      "e25493b5593944d89195906d2683ae7c",
      "91307a067ee442d2a37371e411763d65",
      "20d9f5d10d89488297ce1cebba76a077",
      "7ee8990cff3547d78948e19f5c7a36c4",
      "21d9c4015e73494ea8ffddcc43b5b087",
      "a56aad1137e343deb4036629df9e18ae",
      "6c686206a47448319657f3fe830acf3a",
      "957197000400431f99d9f2f7bd4fa9f5",
      "4ba2d3716ea844ffade6f20410b7242f",
      "da8a069a9cf84e1780b5123b925e9619",
      "cc4222d9f55647a19012dc9d9e23b5cd",
      "e8861fd849d146e29f64de52e0fb1021",
      "e2a6671b58904ca6a431600f14a7f1da",
      "9329ef6bc98842e5aa807aeff72c8c53",
      "00926dc30cce4a1ebabd5af3ce8cb92b",
      "c905c9caa8cf4fddbc0fdc3de5400231",
      "62408014c34844f3ac911f9a4a7f5cf4",
      "f76efdff22a64ba685dd3f7ee3512850",
      "c299feea79064ea6abdaa9c4f941dba4",
      "7cda3ef48aaa4dd5ba284b842ee47e3c",
      "c53bb0d59dbd45fca474ced2ea2f65fe",
      "69fa2250843d4e3b9511e418418cf896",
      "9a1d246aab5546e5a146f2a58653de43",
      "425115b4f3404873b6172320cbd1b105",
      "a9eebcf334c94538a91357fdc117b0e1",
      "c9a0fef744c04abea1a78d9999e895ac",
      "e4783d4134754e8da14d3e032035dede",
      "fdfb5eea42d5420aa9fbcc3a8e776f01",
      "e4ff754e55e44f3f80801a6318d7dd8e",
      "78981ad634a44edeb0c90bd647208b9e",
      "785b6a5eeac747c0aba5d3e1af02ff7a",
      "fdea5c0b34894457bc7ae19381d61856",
      "5643d4aadbe448f29eeafca35be0914f",
      "1e178fdc82ed4a92bb241256a1f5ef3c",
      "41d6ef0639d44b2680a1129c82387c14",
      "65b858f7bb1e44e1b383801a62be8de9",
      "889b7100a84d4a6b9fbb209d4ba1127f",
      "738e2cf2dede4bd0a4b5420125170724",
      "5ed479b8403a4a2b9f6e32e71e1d94e9",
      "dbe526ef824149c083d4ce310efd0622",
      "23b8dd43b5234333b2679b7222826e4d",
      "3aa813838a0a4ecab848b05529812825",
      "94de8563656f41809aabb692230a43ad",
      "ba0eb7afcf9841019fcae9dc662d44a6",
      "009155469c3842e0a07b0f799424d99b",
      "41bc9e8632df40a5a05101429fc733c7",
      "11b7a5cee16241ffa3c9ff62d669838c",
      "a37c03f7f0c84ce2bdda96cbd1ec78b4",
      "f503f161d2424735b221ff00b95e649b",
      "083227bccb12454390c088a8c2e88bba",
      "45dc0ac8b3ad4db7b1e3d5b4057a9489"
     ]
    },
    "executionInfo": {
     "elapsed": 3297450,
     "status": "ok",
     "timestamp": 1751476219436,
     "user": {
      "displayName": "Yulia Yorkshirelove",
      "userId": "10480095246692972307"
     },
     "user_tz": -180
    },
    "id": "yIC-9AUsasa8",
    "outputId": "daf82334-627e-4608-9dad-6dd8692145e9"
   },
   "outputs": [
    {
     "data": {
      "application/vnd.jupyter.widget-view+json": {
       "model_id": "4b0583cbe4b24034845a83429c2f2b31",
       "version_major": 2,
       "version_minor": 0
      },
      "text/plain": [
       "Encoding chunks:   0%|          | 0/25 [00:00<?, ?it/s]"
      ]
     },
     "metadata": {},
     "output_type": "display_data"
    },
    {
     "data": {
      "application/vnd.jupyter.widget-view+json": {
       "model_id": "c25da493273a4971affcc2577fd48c24",
       "version_major": 2,
       "version_minor": 0
      },
      "text/plain": [
       "  Tokens in chunk:   0%|          | 0/677 [00:00<?, ?it/s]"
      ]
     },
     "metadata": {},
     "output_type": "display_data"
    },
    {
     "data": {
      "application/vnd.jupyter.widget-view+json": {
       "model_id": "9f403aa2cda74bf4901d9119ab06c85a",
       "version_major": 2,
       "version_minor": 0
      },
      "text/plain": [
       "  Tokens in chunk:   0%|          | 0/771 [00:00<?, ?it/s]"
      ]
     },
     "metadata": {},
     "output_type": "display_data"
    },
    {
     "data": {
      "application/vnd.jupyter.widget-view+json": {
       "model_id": "20b7b20283294836acfb5a98c0919aa3",
       "version_major": 2,
       "version_minor": 0
      },
      "text/plain": [
       "  Tokens in chunk:   0%|          | 0/629 [00:00<?, ?it/s]"
      ]
     },
     "metadata": {},
     "output_type": "display_data"
    },
    {
     "data": {
      "application/vnd.jupyter.widget-view+json": {
       "model_id": "f737f2960217429cbfe4b72c308576d5",
       "version_major": 2,
       "version_minor": 0
      },
      "text/plain": [
       "  Tokens in chunk:   0%|          | 0/647 [00:00<?, ?it/s]"
      ]
     },
     "metadata": {},
     "output_type": "display_data"
    },
    {
     "data": {
      "application/vnd.jupyter.widget-view+json": {
       "model_id": "c07148422f6e45d3bd8027a79e3401b4",
       "version_major": 2,
       "version_minor": 0
      },
      "text/plain": [
       "  Tokens in chunk:   0%|          | 0/627 [00:00<?, ?it/s]"
      ]
     },
     "metadata": {},
     "output_type": "display_data"
    },
    {
     "data": {
      "application/vnd.jupyter.widget-view+json": {
       "model_id": "fcfbd40f374b4da2b0be05ba2af25458",
       "version_major": 2,
       "version_minor": 0
      },
      "text/plain": [
       "  Tokens in chunk:   0%|          | 0/598 [00:00<?, ?it/s]"
      ]
     },
     "metadata": {},
     "output_type": "display_data"
    },
    {
     "data": {
      "application/vnd.jupyter.widget-view+json": {
       "model_id": "a658a51248b645e298c65dc2fc3b2221",
       "version_major": 2,
       "version_minor": 0
      },
      "text/plain": [
       "  Tokens in chunk:   0%|          | 0/472 [00:00<?, ?it/s]"
      ]
     },
     "metadata": {},
     "output_type": "display_data"
    },
    {
     "data": {
      "application/vnd.jupyter.widget-view+json": {
       "model_id": "734e374ae484400e8e81272580dc7469",
       "version_major": 2,
       "version_minor": 0
      },
      "text/plain": [
       "  Tokens in chunk:   0%|          | 0/548 [00:00<?, ?it/s]"
      ]
     },
     "metadata": {},
     "output_type": "display_data"
    },
    {
     "data": {
      "application/vnd.jupyter.widget-view+json": {
       "model_id": "4ef6c70aa2a745a7a8ac5fc9141a3576",
       "version_major": 2,
       "version_minor": 0
      },
      "text/plain": [
       "  Tokens in chunk:   0%|          | 0/506 [00:00<?, ?it/s]"
      ]
     },
     "metadata": {},
     "output_type": "display_data"
    },
    {
     "data": {
      "application/vnd.jupyter.widget-view+json": {
       "model_id": "b4bd90e49e6540edae50fc71da77bd63",
       "version_major": 2,
       "version_minor": 0
      },
      "text/plain": [
       "  Tokens in chunk:   0%|          | 0/620 [00:00<?, ?it/s]"
      ]
     },
     "metadata": {},
     "output_type": "display_data"
    },
    {
     "data": {
      "application/vnd.jupyter.widget-view+json": {
       "model_id": "cd971001bae94f8490c643efbeffbc02",
       "version_major": 2,
       "version_minor": 0
      },
      "text/plain": [
       "  Tokens in chunk:   0%|          | 0/536 [00:00<?, ?it/s]"
      ]
     },
     "metadata": {},
     "output_type": "display_data"
    },
    {
     "data": {
      "application/vnd.jupyter.widget-view+json": {
       "model_id": "798db53b5a594f4c8f455b7572fa7f7a",
       "version_major": 2,
       "version_minor": 0
      },
      "text/plain": [
       "  Tokens in chunk:   0%|          | 0/570 [00:00<?, ?it/s]"
      ]
     },
     "metadata": {},
     "output_type": "display_data"
    },
    {
     "data": {
      "application/vnd.jupyter.widget-view+json": {
       "model_id": "6fd51f2abdef48d58dac701143aca02c",
       "version_major": 2,
       "version_minor": 0
      },
      "text/plain": [
       "  Tokens in chunk:   0%|          | 0/574 [00:00<?, ?it/s]"
      ]
     },
     "metadata": {},
     "output_type": "display_data"
    },
    {
     "data": {
      "application/vnd.jupyter.widget-view+json": {
       "model_id": "70e8dfa4c1cf4abdbf5454a6f4afa624",
       "version_major": 2,
       "version_minor": 0
      },
      "text/plain": [
       "  Tokens in chunk:   0%|          | 0/465 [00:00<?, ?it/s]"
      ]
     },
     "metadata": {},
     "output_type": "display_data"
    },
    {
     "data": {
      "application/vnd.jupyter.widget-view+json": {
       "model_id": "d13b1eb3131c4dcebc9acb73f4ee9913",
       "version_major": 2,
       "version_minor": 0
      },
      "text/plain": [
       "  Tokens in chunk:   0%|          | 0/507 [00:00<?, ?it/s]"
      ]
     },
     "metadata": {},
     "output_type": "display_data"
    },
    {
     "data": {
      "application/vnd.jupyter.widget-view+json": {
       "model_id": "ad08908f10ba4c1190d1b51f4e2abe2e",
       "version_major": 2,
       "version_minor": 0
      },
      "text/plain": [
       "  Tokens in chunk:   0%|          | 0/561 [00:00<?, ?it/s]"
      ]
     },
     "metadata": {},
     "output_type": "display_data"
    },
    {
     "data": {
      "application/vnd.jupyter.widget-view+json": {
       "model_id": "5ae2e550edff4ad6a048e56a1d452329",
       "version_major": 2,
       "version_minor": 0
      },
      "text/plain": [
       "  Tokens in chunk:   0%|          | 0/441 [00:00<?, ?it/s]"
      ]
     },
     "metadata": {},
     "output_type": "display_data"
    },
    {
     "data": {
      "application/vnd.jupyter.widget-view+json": {
       "model_id": "4f326fd012e241878893d0315b088055",
       "version_major": 2,
       "version_minor": 0
      },
      "text/plain": [
       "  Tokens in chunk:   0%|          | 0/566 [00:00<?, ?it/s]"
      ]
     },
     "metadata": {},
     "output_type": "display_data"
    },
    {
     "data": {
      "application/vnd.jupyter.widget-view+json": {
       "model_id": "f044adb434f641028e42ac0c691814b3",
       "version_major": 2,
       "version_minor": 0
      },
      "text/plain": [
       "  Tokens in chunk:   0%|          | 0/517 [00:00<?, ?it/s]"
      ]
     },
     "metadata": {},
     "output_type": "display_data"
    },
    {
     "data": {
      "application/vnd.jupyter.widget-view+json": {
       "model_id": "b05ecb0d73c0419ca781a46c069b1a09",
       "version_major": 2,
       "version_minor": 0
      },
      "text/plain": [
       "  Tokens in chunk:   0%|          | 0/654 [00:00<?, ?it/s]"
      ]
     },
     "metadata": {},
     "output_type": "display_data"
    },
    {
     "data": {
      "application/vnd.jupyter.widget-view+json": {
       "model_id": "dbb9da68230f494594359694e13e4ec8",
       "version_major": 2,
       "version_minor": 0
      },
      "text/plain": [
       "  Tokens in chunk:   0%|          | 0/491 [00:00<?, ?it/s]"
      ]
     },
     "metadata": {},
     "output_type": "display_data"
    },
    {
     "data": {
      "application/vnd.jupyter.widget-view+json": {
       "model_id": "957197000400431f99d9f2f7bd4fa9f5",
       "version_major": 2,
       "version_minor": 0
      },
      "text/plain": [
       "  Tokens in chunk:   0%|          | 0/519 [00:00<?, ?it/s]"
      ]
     },
     "metadata": {},
     "output_type": "display_data"
    },
    {
     "data": {
      "application/vnd.jupyter.widget-view+json": {
       "model_id": "c299feea79064ea6abdaa9c4f941dba4",
       "version_major": 2,
       "version_minor": 0
      },
      "text/plain": [
       "  Tokens in chunk:   0%|          | 0/513 [00:00<?, ?it/s]"
      ]
     },
     "metadata": {},
     "output_type": "display_data"
    },
    {
     "data": {
      "application/vnd.jupyter.widget-view+json": {
       "model_id": "78981ad634a44edeb0c90bd647208b9e",
       "version_major": 2,
       "version_minor": 0
      },
      "text/plain": [
       "  Tokens in chunk:   0%|          | 0/461 [00:00<?, ?it/s]"
      ]
     },
     "metadata": {},
     "output_type": "display_data"
    },
    {
     "data": {
      "application/vnd.jupyter.widget-view+json": {
       "model_id": "23b8dd43b5234333b2679b7222826e4d",
       "version_major": 2,
       "version_minor": 0
      },
      "text/plain": [
       "  Tokens in chunk:   0%|          | 0/468 [00:00<?, ?it/s]"
      ]
     },
     "metadata": {},
     "output_type": "display_data"
    },
    {
     "name": "stdout",
     "output_type": "stream",
     "text": [
      "Total encoding time: 3297.45 seconds\n"
     ]
    }
   ],
   "source": [
    "chunk_data = encode_chunks(data, tokenizer, model)"
   ]
  },
  {
   "cell_type": "code",
   "execution_count": null,
   "metadata": {
    "colab": {
     "base_uri": "https://localhost:8080/",
     "height": 66,
     "referenced_widgets": [
      "50faba2d9f2144198b9e202940760ad7",
      "821abb596ae042cc8dd17cc65e31ddee",
      "5bc691adc5a94ada9082fc1380f2cefa",
      "d16508be3c154b3f81093c83b5446ef4",
      "2b265692242f4c69845ea4449bf88bf5",
      "13abb4d1b96d4c4d9ab0023961521953",
      "00cd7993251a4954a3a40aa62f6d59c6",
      "8c3e651c56bf4b00b099a4cf3f0b3b5f",
      "376f50a844f642fdb2426ec62bf59307",
      "de2a95417bcb4d598f3b489e497ac0de",
      "f6d14be7b052480faf29b2f9704d28d8",
      "68409cb50c7d4c219999dfc787b7f903",
      "78ef352e7d4d474bba44afbdef5eb2c0",
      "911c9cd555b74619b2dee1cd3933fb7c",
      "e19e7fe25e414baaa45f6ed18616e49f",
      "6dc9b0830bb4433aa7f4968b0b5b108e",
      "8e6edfbc9ae64b67b2cf5c1b1ba85446",
      "0b5a5721fa1f428197f5fca0e2f28b08",
      "38a26b4084894794af6775d82cbf853d",
      "1d3543f9e0d74f69a111bbc2f72cd680",
      "2f3fed0806da4d94979e243303281efa",
      "e4d97857128141a5a9434903ec284e53",
      "69a2d01762e74c00bf8cbedcc633c92c",
      "a141b2b8d040495784440c86eea8e6e6",
      "888ba335f5e84999aa045f5908403ae1",
      "5c163dcecb7a4911b92c1d4e8048f625",
      "787e004acfde4d6e944cc440e6ce58d6",
      "bab32862b9e44fd88923bccb255ef1b9",
      "d9d5520a145b44dca676217733b58340",
      "af653ffd6323482fb6dbedb2a5688316",
      "ce84e7d110634f90a5de32acb44ce34e",
      "aa4485a977f44dabab2bdef2876bdddb",
      "cb37821e015c4212bd4c08f7e2ad4805",
      "b8a33b90e30b49d2be406f6379c1b04d",
      "8acb00af0efc43d99fd53a26e053105d",
      "c93e0bd198d9487694a51715ba26fe4b",
      "6b01fc0ae62a4da6868dc8040d4821c0",
      "5604e3de98244766886c69fdcba44e47",
      "f02cc6e6489941099841d8ad664e60f3",
      "dddf08f183194c48b5abee45d43698b8",
      "e4e2c44317d84e97a22e53fbcd084793",
      "c98a6ff3186a4633a70f8591c8add48e",
      "221c63a473c74be0a08c37abcc16e047",
      "2b9eb3a7606e4b42a3d290af7a32fa24",
      "92740bd6ae4840f68a02befe10425576",
      "b21dd3edb3104a94985e98b7cc8705ce",
      "848131fb495d41fc8bb6be70f326e89d",
      "8627d549324949269f67221de0aecfb2",
      "f410e6a306de445e931a9f8d71623392",
      "eb8c7d23c0e64eac91aeb4c6ce56eecc",
      "4c7ebb4b8ae540289357a4a1c9a304df",
      "830a17bdbcfb4593948f278020b1a4d7",
      "ab9fedc8f69a4f9da584b86eff63cc8e",
      "672b7453992647088e629d88117dc057",
      "6f6e44a2bbc34a03b5ed81960e612f4c",
      "65eaf9345f0b40ff9c376e3b7773e21e",
      "d62911dda6db48cfad20da422b9f3dce",
      "9873b7486a2347888fc19804e443eafd",
      "b8a6a47ad2a8479fa52710efa8999e5d",
      "8cac0a323ee141019f2cc6001764051e",
      "27682f75f180472ca11357fa2f0288c8",
      "97d2ac6c0e66452fa00d9c4933ac0b0b",
      "915a15776a3d4614afb115e4ff18b217",
      "73b9031f8a3b48d4a05da69036140de5",
      "c2e59d3338d240839925aa15517e4a28",
      "2c5161c2b6ad41fa97a3631d4aa4a8cd",
      "fdf37dc0dae74af6b408228bce2e6bab",
      "13d9b58ea8324da580b73c7d5a48888e",
      "b8039309182f411cb2bbe7fde60cde06",
      "ce1361302c4d4df4879dcd4e687ff793",
      "9e4f036176dd4021a88bc2c25aada854",
      "40b8abe342a84d4ea4d6f3a5ddddfb58",
      "f9864445a8e24d09a58ad8521189f407",
      "96a747aac5bc4ea09357cd4269ab620d",
      "878e5910ab8e4315a9f57f31d7ffbd71",
      "6532dbb450fe400ba53df72a49d869fa",
      "4f5e26e02a014e0992e1ce4e7becdbd9",
      "10cadd65a7c948138362861762e28643",
      "c00e6360f3f448a0ab226460c3bf1924",
      "9dfcb58273854b95891cdd0f512eefd9",
      "7c09345dfd4e43798c5e38af91343f59",
      "aaeb6ad3d2434e80adf7b85ec8725185",
      "d0ecb8a31f534caf98b21fed0941c390",
      "59d411e2fe5e4d9e9e6fbe8e56be3c9a",
      "05863eb5c8524efdb4bb3581b45d14eb",
      "2da276be8cd9475a85a530b7f2ad034d",
      "c4466510e371428d9ecd9b41ad01057e",
      "b0d0892a1b894a719b47dada23ca3cfa",
      "20035ab3abce4a13a88d9910058d9ea5",
      "477823825a5c42d0a14b541f636aa885",
      "983b1093d2064cacb30cca63e2a715dc",
      "f72638b53fbc4e7c951dfb8440edab56",
      "378da12d1a9c46809d7ff9c84a6cfece",
      "7c726b98b43c47a392ebd62b3ebefe54",
      "72131873a30d4a40b73355c2c31b6987",
      "79fb33c6c67b433a93343c9398a643bd",
      "9b675f5a3cdb4ae7a9ddf3a6cdf92e3e",
      "aa507684083b4d2c9b8d66583eb9ea03",
      "8f79ce0587674079a5c824f1ffc29dc4",
      "6735cd5dc79340cbae14909e32f577dd",
      "720ece2f7ec04a9d8af2b549817ade15",
      "8b4d3eb987c247de941e34c34c0b45ac",
      "58d89ed7a30a4045b3478a08089d3ba3",
      "082de80253cc4266b11dbe0844b40639",
      "6d8bbb81485b43ceba1f8f6244157b93",
      "edc6c86692a04955911444018464c94a",
      "b09dfb50c74b4b1189b30a5f1f9833dc",
      "41a4dee6ddb04902a33cbd57180678a9",
      "79adf3fcefd34f5e8af6eac906c1dcef",
      "18b4163db2144a6297eb1dd9b82bdf02",
      "97bc81b40dd14d40a3bfb8d064b8cab0",
      "b4723554cced47cbaab506564996886e",
      "14de5d0020f34e5caf4ec978c4ad64bb",
      "72ff3de167d745eba5a956a352c8993e",
      "6eb3eb239c914820b786bc8f65644ccc",
      "b3dd570b8d81435193af644ec8470293",
      "867ec37b9f9e4b4bad01c0c68e8b4b8d",
      "f6c2f66d353f408ba4d8cc76272c1cad",
      "55fcc27ef80a41ff9915f5c53ef709c0",
      "5a432113b3824c1a9127ebed1f7c0203",
      "bf59f766819946f49b04da8888a7e4d3",
      "55e94997b4df4f23a83db69476ca2727",
      "07d585642e4e45d9a5a3138b0bf2440f",
      "05a9eefc8c9d438bac34582f94a04b28",
      "d84120905e8247d99798f2a702cc7633",
      "3d22012ea3da4d6ba07f4fa5ef6d0ecc",
      "a33efd429fe444ac8a5fb814e5012743",
      "d4decfa9c6b2421e8b0c2948f78afb20",
      "83fa027431184a4f8ba4de183787ade0",
      "0d2cd397bc624b80a59f1071ce940076",
      "9ae90892b8c8449c98294138a24df9cf",
      "de868316d3f74fdbb553d36fa2f37559",
      "19436f630cca4e9d8f405535a4a871ba",
      "737433fb7d7346fda9c390bd0aca633a",
      "1d564f137f9a4d2ea59c25f8f955da4f",
      "31770bd8a530421cb004d42e3ee6a6be",
      "62c14dfc781141468d7291f6bde01bc5",
      "43786adefdfc4338b04132f60546a051",
      "73e0af9fddbb49f7836f73a6c72904ef",
      "be6f8adae32a4e3fb77d613683d37cb1",
      "3d9f62ec6ab243a1b2a80ee0df448919",
      "83452d232e404cddb40e17db90c4f296",
      "09f47717f2a5447aa4d11bdee7f5253b",
      "64449a1ecd1f4d27835be590907a2183",
      "769caf4009ad4f9c86d8b2acfdeb6716",
      "7ec7f879d11d4c999babefaa40680b55",
      "4e9b5c50015a4a109a0bb6d8aa7d0cbe",
      "b1ec2bd5ade4497589eb4129b4af8759",
      "e5bd9735e58a4229b1819dd057712cf5",
      "7a390118e86b4484a89df8557ecc7c16",
      "1a736f9dadb24fb4acae085231822d5e",
      "b1ef0f7279844232be34822d55316968",
      "6e87c5c67ffe41bc9e1292267f43192e",
      "794c96471aad452180c68e118c3ba52c",
      "737b27041395439bb58032c23b56f024",
      "a2cf75ff4c7c4aa2b8cb086c33a3479b",
      "8f7e6bf468b94b48b4c4d0656c173c99",
      "96d519f0caa54eeaa3fa861a75b828c6",
      "53f030edfa274fd0ab25a45820654b38",
      "e5164bf1b8af4c33a6e59c3d4c29d84b",
      "fcf4f49298d94bef8f5f46d2e18bf059",
      "2963f31d9ec145ec89aaf73bfcb878fe",
      "23d0fc418e6547cb933a9ba6bc32506a",
      "3c14aab936524e859a54343e9a89a3f2",
      "6da95492d0db43d98ff589ac303e7d03",
      "fc7fb44b14104fe3b766efdc78ad90ee",
      "d690228ad9254f0283ee6a0f0b7e0164",
      "56edf68da04544e7afb3db2e8f888bde",
      "9c9e2f7fac12474aa08750d91e0e0c26",
      "e19555fd83b2429fa7f7be5c202aa9c7",
      "e3f1252816674a48a8f28af62ef5c42b",
      "bc24c1df615345b7abb73a970b6fa2ac",
      "e2040c7073ea41ae8523b23d99ef9e27",
      "5f5b3fb52fe54d45bd1e84230c333ceb",
      "465e84263c63403fa73b897b72dea34b",
      "0bde70b4214e45e7af142c8e27b3565d",
      "816ecd7a147644d7a74a02f9e0cd8883",
      "e16c19a0484249678598345990ef84c9",
      "f8c11e58432045699d39ea6a4f5f6311",
      "04f62d1c6fdf468e9e1bdbbac0962075",
      "dbefa04444ef449fba0e5ea482cad8ec",
      "278eeb3bd7b541c5be7d523cade89867",
      "b541be1f40784cb492133df5141288e9",
      "6289e049e116444eb0b52d28c5c72b62",
      "f8735fef744b47178918defd83149c0b",
      "f6717ce92b9444c684b25a237d1c1722",
      "3c151055847a4ce29d8e9ed198ebea5a",
      "c385e577a0904d1abe13e34689bba5f5",
      "b180607e552d4e7683c889212a6983d9",
      "7c29e27d10b14897a3f48c4896be0db7",
      "142be2a2027b41d09cf0e2eef0d7d90a",
      "4b499c8c87b5490889dbb662e5f2f5a0",
      "8160a6d54b3b4adc8808a539449adc1e",
      "b4e4aa9fbfd047e1be2b787153e7ed4e",
      "d6d80616dfc54dafbd3245bcf9e1e1de",
      "d98df50dc07740d8a75619c12003de4f",
      "8dfc4e2ad1fb4ef5baa0972ef146bb26",
      "64882ec94e00425098bf2d8d55d0dd51",
      "9128fc85e98b49128586a6a6b5f38c23",
      "f243d4cb627647539003044b18bbf331",
      "6285501e732a495eb2c646291d8eae2e",
      "143ea480252441c7af9c036277ae1c9e",
      "89f3535709bf4ce3a704c3a43d7a7712",
      "9d1082af7bd946e2851236546d785d8b",
      "e1fdf713d1aa4e00a92789d3525d46eb",
      "6cb05b8e36de4e54a4bafca5614fd2f3",
      "8deb9a179a3849c7b906e3b18d461cce",
      "d6d77fa1dab9423c9eca1ac25c2aea6e",
      "3844dd1b8c7b429383ea49e12f51879e",
      "f1d97b33483c4ff7bade309313fb4778",
      "b4c78dfb750845329c03bf2c1b5220a6",
      "69c9bdcb0731485483a900d228f138c4",
      "e8f557999a4d42e8b6f5dbb1f6435485",
      "da6286672f1b475ea98ce4ba13e94566",
      "3a88eb7c9b3b4b4795a09159bb4fe046",
      "e5edd3dc80c9482caec804a01dc8f45a",
      "177684586d8f4a9a8f20bf0c7fc0a173",
      "e0ec15e362d34f50b242a2a493138c9f",
      "76c84b6af2554f498aa0543cb12bb20a",
      "8bf2373ed0e14c9ca73d5c45390ae38c",
      "02774470f621441984e7109e11f3758e",
      "967b6b8ac09a4cb2a670be178389d54a",
      "7e95622dfcc24273b8bca834b819ae30",
      "c0e470a0549d4143a9bb06450e2fc41f",
      "70cb66bcf2d94d66b4bfa02fe43b222a",
      "9ed99a5e910b439995ad0ba0da6c6b9e",
      "eca9233b34504a80ac427aadb0300cb4",
      "49bf8074ec56495ea55fcb660b990d80",
      "414d2b624c0f44349e98e48e4f29f0ea",
      "0ed4e76f3cd34f42b2bd2570ccb20bed",
      "add02fca56414fdcbbad42683a015d9e",
      "5e01a387c4b64ed8a80c4d6527a71b21",
      "0181bb35091a4eba924dedd01df11ada",
      "80afca40399d4e218ca015941fe808ce",
      "51a2f6ebd37d480da05ba8a5204bc4ba",
      "29ae6afca9ff427d8ced2bc13f80c25b",
      "392b9aaa795f4c6696eae1353afe1895",
      "a576e798ff054faa89aab65c2bf6e40e",
      "d83e0fd20d5a435db4267e6aeaefc4d9",
      "524b3d5afe254d979539baf162f520f5",
      "1eb120aec2e64959b497f750520b3721",
      "21b261fcae644fe59de84b3f79629002",
      "3f4e518220ff4002bec6f48f71c6da30",
      "5fb32e683cef4e1fa39e16398a141b90",
      "5ea4e17c91624282b797f276c2a4a693",
      "5465c004ef144b178e2e942a291cd30a",
      "a5077e568fc64a34a5ac0096925e598f",
      "b7c312ed476e4306b2bd99492cc54bed",
      "92137d3a98604ee5ae5771ddae222e81",
      "af327cfda1944b06896f929452b42812",
      "9c5bd9c9d351497ba5e8f8d14f29ae20",
      "7cb3a3cbe9e549a382d51a9108e10090",
      "4e3c498bade2484eb7f9d0b92c5a2c15",
      "07e166b6723d4b988c0f738694f746ca",
      "38eca80dee8d43609d13fd884199b63a",
      "ab003fbf066940948659f3a1a3be0c07",
      "9921155ff9da4716b1b5c4d3b4c50435",
      "97db4a56f43b4781b0b6621098f98bed",
      "151f16b6d8df4f21a1a369ea4f411b62",
      "e5805ddbb7aa4d21aec1afd6e885fa92",
      "b745c822de4f4eebbf3b427ef8bf1f5a",
      "04a1ad74a22345a9810bc7049dee3c5b",
      "5385c6d89b8d463ea63fc3c7e2e56676",
      "13c4d85e7a5a4d368959dc0898a2fd44",
      "14c1769050d748cab223fb0f0880ad9d",
      "0a3d5a00c7da48cf8cb5a6451551f7be",
      "a5f0519a85824ef1ab46935fea3669b0",
      "30e28f7cb2cf4a379cef0327ed28a589",
      "d03e36265dd84b5da851cae4b0e80b12",
      "26104977672c430d8fd2dcb811a847b5",
      "a7c2c2beea7c4be3aa50b2d94648ec52",
      "12e634692326406e8d82f540e69607c3",
      "fd52779e7908404a91e788ab085e57a7",
      "16af7c37b9d046ea9435fc6b9a404584",
      "fc5e3bf8402c4f6b98480ef7785f3c2c",
      "cb91deb385b24ebe92f88efd5f444ed1",
      "29873898b8c047f79c1ba34e0c32439a",
      "f13b76d2597740e9b1b52edaf19eb3cd",
      "6e6506ab97e34827b4201eff0a34c3b5",
      "2906906882ca4bc7830411dc22037e1d",
      "a562d9c641894750866f7989d10f86da",
      "fa9c3665615d4abab255b4d613614138",
      "63d4be3cd610476abd26a7478cc5fec1",
      "3a1c3102e91d4632bf799f501d6c6909",
      "60643b681f0047258ebd183c8c5b8421",
      "b8c847eaff914cbdb92686a1c7d2c980"
     ]
    },
    "executionInfo": {
     "elapsed": 3263583,
     "status": "ok",
     "timestamp": 1751479483007,
     "user": {
      "displayName": "Yulia Yorkshirelove",
      "userId": "10480095246692972307"
     },
     "user_tz": -180
    },
    "id": "eKr6CaNoasa8",
    "outputId": "defa8426-9da2-4a9a-edcd-662173dc179d"
   },
   "outputs": [
    {
     "data": {
      "application/vnd.jupyter.widget-view+json": {
       "model_id": "50faba2d9f2144198b9e202940760ad7",
       "version_major": 2,
       "version_minor": 0
      },
      "text/plain": [
       "Decoding chunks:   0%|          | 0/25 [00:00<?, ?it/s]"
      ]
     },
     "metadata": {},
     "output_type": "display_data"
    },
    {
     "data": {
      "application/vnd.jupyter.widget-view+json": {
       "model_id": "68409cb50c7d4c219999dfc787b7f903",
       "version_major": 2,
       "version_minor": 0
      },
      "text/plain": [
       "  Tokens in chunk:   0%|          | 0/677 [00:00<?, ?it/s]"
      ]
     },
     "metadata": {},
     "output_type": "display_data"
    },
    {
     "data": {
      "application/vnd.jupyter.widget-view+json": {
       "model_id": "69a2d01762e74c00bf8cbedcc633c92c",
       "version_major": 2,
       "version_minor": 0
      },
      "text/plain": [
       "  Tokens in chunk:   0%|          | 0/771 [00:00<?, ?it/s]"
      ]
     },
     "metadata": {},
     "output_type": "display_data"
    },
    {
     "data": {
      "application/vnd.jupyter.widget-view+json": {
       "model_id": "b8a33b90e30b49d2be406f6379c1b04d",
       "version_major": 2,
       "version_minor": 0
      },
      "text/plain": [
       "  Tokens in chunk:   0%|          | 0/629 [00:00<?, ?it/s]"
      ]
     },
     "metadata": {},
     "output_type": "display_data"
    },
    {
     "data": {
      "application/vnd.jupyter.widget-view+json": {
       "model_id": "92740bd6ae4840f68a02befe10425576",
       "version_major": 2,
       "version_minor": 0
      },
      "text/plain": [
       "  Tokens in chunk:   0%|          | 0/647 [00:00<?, ?it/s]"
      ]
     },
     "metadata": {},
     "output_type": "display_data"
    },
    {
     "data": {
      "application/vnd.jupyter.widget-view+json": {
       "model_id": "65eaf9345f0b40ff9c376e3b7773e21e",
       "version_major": 2,
       "version_minor": 0
      },
      "text/plain": [
       "  Tokens in chunk:   0%|          | 0/627 [00:00<?, ?it/s]"
      ]
     },
     "metadata": {},
     "output_type": "display_data"
    },
    {
     "data": {
      "application/vnd.jupyter.widget-view+json": {
       "model_id": "fdf37dc0dae74af6b408228bce2e6bab",
       "version_major": 2,
       "version_minor": 0
      },
      "text/plain": [
       "  Tokens in chunk:   0%|          | 0/598 [00:00<?, ?it/s]"
      ]
     },
     "metadata": {},
     "output_type": "display_data"
    },
    {
     "data": {
      "application/vnd.jupyter.widget-view+json": {
       "model_id": "10cadd65a7c948138362861762e28643",
       "version_major": 2,
       "version_minor": 0
      },
      "text/plain": [
       "  Tokens in chunk:   0%|          | 0/472 [00:00<?, ?it/s]"
      ]
     },
     "metadata": {},
     "output_type": "display_data"
    },
    {
     "data": {
      "application/vnd.jupyter.widget-view+json": {
       "model_id": "20035ab3abce4a13a88d9910058d9ea5",
       "version_major": 2,
       "version_minor": 0
      },
      "text/plain": [
       "  Tokens in chunk:   0%|          | 0/548 [00:00<?, ?it/s]"
      ]
     },
     "metadata": {},
     "output_type": "display_data"
    },
    {
     "data": {
      "application/vnd.jupyter.widget-view+json": {
       "model_id": "6735cd5dc79340cbae14909e32f577dd",
       "version_major": 2,
       "version_minor": 0
      },
      "text/plain": [
       "  Tokens in chunk:   0%|          | 0/506 [00:00<?, ?it/s]"
      ]
     },
     "metadata": {},
     "output_type": "display_data"
    },
    {
     "data": {
      "application/vnd.jupyter.widget-view+json": {
       "model_id": "97bc81b40dd14d40a3bfb8d064b8cab0",
       "version_major": 2,
       "version_minor": 0
      },
      "text/plain": [
       "  Tokens in chunk:   0%|          | 0/620 [00:00<?, ?it/s]"
      ]
     },
     "metadata": {},
     "output_type": "display_data"
    },
    {
     "data": {
      "application/vnd.jupyter.widget-view+json": {
       "model_id": "55e94997b4df4f23a83db69476ca2727",
       "version_major": 2,
       "version_minor": 0
      },
      "text/plain": [
       "  Tokens in chunk:   0%|          | 0/536 [00:00<?, ?it/s]"
      ]
     },
     "metadata": {},
     "output_type": "display_data"
    },
    {
     "data": {
      "application/vnd.jupyter.widget-view+json": {
       "model_id": "19436f630cca4e9d8f405535a4a871ba",
       "version_major": 2,
       "version_minor": 0
      },
      "text/plain": [
       "  Tokens in chunk:   0%|          | 0/570 [00:00<?, ?it/s]"
      ]
     },
     "metadata": {},
     "output_type": "display_data"
    },
    {
     "data": {
      "application/vnd.jupyter.widget-view+json": {
       "model_id": "64449a1ecd1f4d27835be590907a2183",
       "version_major": 2,
       "version_minor": 0
      },
      "text/plain": [
       "  Tokens in chunk:   0%|          | 0/574 [00:00<?, ?it/s]"
      ]
     },
     "metadata": {},
     "output_type": "display_data"
    },
    {
     "data": {
      "application/vnd.jupyter.widget-view+json": {
       "model_id": "737b27041395439bb58032c23b56f024",
       "version_major": 2,
       "version_minor": 0
      },
      "text/plain": [
       "  Tokens in chunk:   0%|          | 0/465 [00:00<?, ?it/s]"
      ]
     },
     "metadata": {},
     "output_type": "display_data"
    },
    {
     "data": {
      "application/vnd.jupyter.widget-view+json": {
       "model_id": "fc7fb44b14104fe3b766efdc78ad90ee",
       "version_major": 2,
       "version_minor": 0
      },
      "text/plain": [
       "  Tokens in chunk:   0%|          | 0/507 [00:00<?, ?it/s]"
      ]
     },
     "metadata": {},
     "output_type": "display_data"
    },
    {
     "data": {
      "application/vnd.jupyter.widget-view+json": {
       "model_id": "816ecd7a147644d7a74a02f9e0cd8883",
       "version_major": 2,
       "version_minor": 0
      },
      "text/plain": [
       "  Tokens in chunk:   0%|          | 0/561 [00:00<?, ?it/s]"
      ]
     },
     "metadata": {},
     "output_type": "display_data"
    },
    {
     "data": {
      "application/vnd.jupyter.widget-view+json": {
       "model_id": "c385e577a0904d1abe13e34689bba5f5",
       "version_major": 2,
       "version_minor": 0
      },
      "text/plain": [
       "  Tokens in chunk:   0%|          | 0/441 [00:00<?, ?it/s]"
      ]
     },
     "metadata": {},
     "output_type": "display_data"
    },
    {
     "data": {
      "application/vnd.jupyter.widget-view+json": {
       "model_id": "9128fc85e98b49128586a6a6b5f38c23",
       "version_major": 2,
       "version_minor": 0
      },
      "text/plain": [
       "  Tokens in chunk:   0%|          | 0/566 [00:00<?, ?it/s]"
      ]
     },
     "metadata": {},
     "output_type": "display_data"
    },
    {
     "data": {
      "application/vnd.jupyter.widget-view+json": {
       "model_id": "f1d97b33483c4ff7bade309313fb4778",
       "version_major": 2,
       "version_minor": 0
      },
      "text/plain": [
       "  Tokens in chunk:   0%|          | 0/517 [00:00<?, ?it/s]"
      ]
     },
     "metadata": {},
     "output_type": "display_data"
    },
    {
     "data": {
      "application/vnd.jupyter.widget-view+json": {
       "model_id": "02774470f621441984e7109e11f3758e",
       "version_major": 2,
       "version_minor": 0
      },
      "text/plain": [
       "  Tokens in chunk:   0%|          | 0/654 [00:00<?, ?it/s]"
      ]
     },
     "metadata": {},
     "output_type": "display_data"
    },
    {
     "data": {
      "application/vnd.jupyter.widget-view+json": {
       "model_id": "5e01a387c4b64ed8a80c4d6527a71b21",
       "version_major": 2,
       "version_minor": 0
      },
      "text/plain": [
       "  Tokens in chunk:   0%|          | 0/491 [00:00<?, ?it/s]"
      ]
     },
     "metadata": {},
     "output_type": "display_data"
    },
    {
     "data": {
      "application/vnd.jupyter.widget-view+json": {
       "model_id": "3f4e518220ff4002bec6f48f71c6da30",
       "version_major": 2,
       "version_minor": 0
      },
      "text/plain": [
       "  Tokens in chunk:   0%|          | 0/519 [00:00<?, ?it/s]"
      ]
     },
     "metadata": {},
     "output_type": "display_data"
    },
    {
     "data": {
      "application/vnd.jupyter.widget-view+json": {
       "model_id": "07e166b6723d4b988c0f738694f746ca",
       "version_major": 2,
       "version_minor": 0
      },
      "text/plain": [
       "  Tokens in chunk:   0%|          | 0/513 [00:00<?, ?it/s]"
      ]
     },
     "metadata": {},
     "output_type": "display_data"
    },
    {
     "data": {
      "application/vnd.jupyter.widget-view+json": {
       "model_id": "14c1769050d748cab223fb0f0880ad9d",
       "version_major": 2,
       "version_minor": 0
      },
      "text/plain": [
       "  Tokens in chunk:   0%|          | 0/461 [00:00<?, ?it/s]"
      ]
     },
     "metadata": {},
     "output_type": "display_data"
    },
    {
     "data": {
      "application/vnd.jupyter.widget-view+json": {
       "model_id": "cb91deb385b24ebe92f88efd5f444ed1",
       "version_major": 2,
       "version_minor": 0
      },
      "text/plain": [
       "  Tokens in chunk:   0%|          | 0/468 [00:00<?, ?it/s]"
      ]
     },
     "metadata": {},
     "output_type": "display_data"
    },
    {
     "name": "stdout",
     "output_type": "stream",
     "text": [
      "Total decoding time: 3263.61 seconds\n"
     ]
    }
   ],
   "source": [
    "recovered_ids = decode_chunks(chunk_data, model)"
   ]
  },
  {
   "cell_type": "code",
   "execution_count": null,
   "metadata": {
    "id": "i8vLIPa9asa8"
   },
   "outputs": [],
   "source": [
    "orig_ids = sum([entry['ids'] for entry in chunk_data], [])\n",
    "encoded_output = sum([entry['bits'] for entry in chunk_data], [])"
   ]
  },
  {
   "cell_type": "code",
   "execution_count": null,
   "metadata": {
    "colab": {
     "base_uri": "https://localhost:8080/"
    },
    "executionInfo": {
     "elapsed": 30,
     "status": "ok",
     "timestamp": 1751479483065,
     "user": {
      "displayName": "Yulia Yorkshirelove",
      "userId": "10480095246692972307"
     },
     "user_tz": -180
    },
    "id": "kots-VKmasa8",
    "outputId": "05f73c5b-2a32-4249-eaae-a486e50a469c"
   },
   "outputs": [
    {
     "name": "stdout",
     "output_type": "stream",
     "text": [
      "Совпадают полностью!\n"
     ]
    }
   ],
   "source": [
    "compare_sequences(orig_ids, recovered_ids)"
   ]
  },
  {
   "cell_type": "code",
   "execution_count": null,
   "metadata": {
    "colab": {
     "base_uri": "https://localhost:8080/"
    },
    "executionInfo": {
     "elapsed": 22,
     "status": "ok",
     "timestamp": 1751479483066,
     "user": {
      "displayName": "Yulia Yorkshirelove",
      "userId": "10480095246692972307"
     },
     "user_tz": -180
    },
    "id": "-rV_GJVHasa8",
    "outputId": "ec59db90-9aec-4307-cad4-0427a1e6fcad"
   },
   "outputs": [
    {
     "name": "stdout",
     "output_type": "stream",
     "text": [
      "Исходный размер:   400000 бит\n",
      "Размер после сжатия: 38099 бит\n",
      "Коэффициент сжатия: 0.0952\n"
     ]
    }
   ],
   "source": [
    "compression_stats(data, encoded_output)"
   ]
  }
 ],
 "metadata": {
  "accelerator": "GPU",
  "colab": {
   "authorship_tag": "ABX9TyON21fkODRaHhgJaHaIZSBU",
   "gpuType": "T4",
   "provenance": []
  },
  "kernelspec": {
   "display_name": "Python 3",
   "name": "python3"
  },
  "language_info": {
   "name": "python"
  }
 },
 "nbformat": 4,
 "nbformat_minor": 0
}
