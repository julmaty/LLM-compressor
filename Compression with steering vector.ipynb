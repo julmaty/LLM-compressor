{
 "cells": [
  {
   "cell_type": "markdown",
   "metadata": {
    "id": "f3cQkRXGKsrf"
   },
   "source": [
    "# LLM-архиватор. Эксперименты со steering vector"
   ]
  },
  {
   "cell_type": "code",
   "execution_count": null,
   "metadata": {
    "id": "8ZjzZ5hHbr53"
   },
   "outputs": [],
   "source": [
    "import torch\n",
    "import numpy as np\n",
    "from transformers import AutoTokenizer, AutoModelForCausalLM\n",
    "from tqdm.notebook import tqdm\n",
    "import time\n",
    "import torch.optim as optim\n",
    "from torch.utils.data import Dataset, DataLoader\n",
    "import torch.nn as nn\n",
    "import gc"
   ]
  },
  {
   "cell_type": "code",
   "execution_count": null,
   "metadata": {
    "id": "VSPgGj2leK-A"
   },
   "outputs": [],
   "source": [
    "def clear_memory(var_names=None):\n",
    "    if var_names is None:\n",
    "        var_names = [\n",
    "            'model','tokenizer','enc','dec','logits','probs','inp','ctx',\n",
    "            'ids','recovered_ids','all_bits','all_original_ids'\n",
    "        ]\n",
    "    for var in var_names:\n",
    "        if var in globals():\n",
    "            del globals()[var]\n",
    "    gc.collect()\n",
    "    if torch.cuda.is_available():\n",
    "        torch.cuda.empty_cache()\n",
    "        torch.cuda.ipc_collect()"
   ]
  },
  {
   "cell_type": "markdown",
   "metadata": {
    "id": "hloK00OjKwZF"
   },
   "source": [
    "## Общие и вспомогательные функции кодирования и декодирования"
   ]
  },
  {
   "cell_type": "code",
   "execution_count": null,
   "metadata": {
    "id": "wRLV4GPlb4dt"
   },
   "outputs": [],
   "source": [
    "def probs_to_cdf_int(prob, total=1 << 20):\n",
    "    cdf = np.cumsum(prob, dtype=np.float64)\n",
    "    cdf_int = np.floor(cdf * total).astype(np.int64)\n",
    "    cdf_int = np.maximum.accumulate(cdf_int)\n",
    "    cdf_int = np.concatenate(([0], cdf_int))\n",
    "    cdf_int[-1] = total\n",
    "    return cdf_int"
   ]
  },
  {
   "cell_type": "code",
   "execution_count": null,
   "metadata": {
    "id": "0oa7Rjpnb5aa"
   },
   "outputs": [],
   "source": [
    "class ArithmeticEncoder:\n",
    "    def __init__(self, precision=32):\n",
    "        self.precision = precision\n",
    "        self.half  = 1 << (precision - 1)\n",
    "        self.quarter = self.half >> 1\n",
    "        self.mask  = (1 << precision) - 1\n",
    "        self.low   = 0\n",
    "        self.high  = self.mask\n",
    "        self.pending = 0\n",
    "        self.out = []\n",
    "\n",
    "    def update(self, cdf_low, cdf_high, total):\n",
    "        # subdivide interval\n",
    "        rng = self.high - self.low + 1\n",
    "        self.high = self.low + (rng * cdf_high) // total - 1\n",
    "        self.low  = self.low + (rng * cdf_low)  // total\n",
    "\n",
    "        # renormalize\n",
    "        while True:\n",
    "            # E1: MSB equal\n",
    "            if self.high < self.half:\n",
    "                self._emit(0)\n",
    "            elif self.low >= self.half:\n",
    "                self._emit(1)\n",
    "                self.low  -= self.half\n",
    "                self.high -= self.half\n",
    "            # E3: underflow\n",
    "            elif self.low >= self.quarter and self.high < 3 * self.quarter:\n",
    "                self.pending += 1\n",
    "                self.low  -= self.quarter\n",
    "                self.high -= self.quarter\n",
    "            else:\n",
    "                break\n",
    "\n",
    "            # shift out\n",
    "            self.low   = (self.low   << 1) & self.mask\n",
    "            self.high  = ((self.high << 1) & self.mask) | 1\n",
    "\n",
    "    def _emit(self, bit):\n",
    "        self.out.append(bit)\n",
    "        for _ in range(self.pending):\n",
    "            self.out.append(1 - bit)\n",
    "        self.pending = 0\n",
    "\n",
    "    def finish(self):\n",
    "        self.pending += 1\n",
    "        if self.low < self.quarter:\n",
    "            self._emit(0)\n",
    "        else:\n",
    "            self._emit(1)\n",
    "        for _ in range(self.precision):\n",
    "            self.out.append((self.low >> (self.precision - 1)) & 1)\n",
    "            self.low = (self.low << 1) & self.mask"
   ]
  },
  {
   "cell_type": "code",
   "execution_count": null,
   "metadata": {
    "id": "EufLXqo9b9dj"
   },
   "outputs": [],
   "source": [
    "class ArithmeticDecoder:\n",
    "    def __init__(self, bits, precision=32):\n",
    "        self.bits = bits\n",
    "        self.precision = precision\n",
    "        self.half  = 1 << (precision - 1)\n",
    "        self.quarter = self.half >> 1\n",
    "        self.mask  = (1 << precision) - 1\n",
    "\n",
    "        self.low   = 0\n",
    "        self.high  = self.mask\n",
    "        self.value = 0\n",
    "        self.idx   = 0\n",
    "        for _ in range(precision):\n",
    "            self.value = ((self.value << 1) & self.mask) | self._read()\n",
    "\n",
    "    def _read(self):\n",
    "        if self.idx < len(self.bits):\n",
    "            b = self.bits[self.idx]\n",
    "            self.idx += 1\n",
    "            return b\n",
    "        return 0\n",
    "\n",
    "    def decode(self, cdf_int, total):\n",
    "        # find symbol\n",
    "        rng = self.high - self.low + 1\n",
    "        scaled = ((self.value - self.low + 1) * total - 1) // rng\n",
    "        symbol = np.searchsorted(cdf_int, scaled, side='right') - 1\n",
    "\n",
    "        # narrow interval\n",
    "        c_lo, c_hi = cdf_int[symbol], cdf_int[symbol+1]\n",
    "        self.high = self.low + (rng * c_hi) // total - 1\n",
    "        self.low  = self.low + (rng * c_lo) // total\n",
    "\n",
    "        # renormalize\n",
    "        while True:\n",
    "            if self.high < self.half:\n",
    "                pass\n",
    "            elif self.low >= self.half:\n",
    "                self.value -= self.half\n",
    "                self.low   -= self.half\n",
    "                self.high  -= self.half\n",
    "            elif self.low >= self.quarter and self.high < 3 * self.quarter:\n",
    "                self.value -= self.quarter\n",
    "                self.low   -= self.quarter\n",
    "                self.high  -= self.quarter\n",
    "            else:\n",
    "                break\n",
    "\n",
    "            self.low   = (self.low   << 1) & self.mask\n",
    "            self.high  = ((self.high << 1) & self.mask) | 1\n",
    "            self.value = ((self.value << 1) & self.mask) | self._read()\n",
    "\n",
    "        return symbol"
   ]
  },
  {
   "cell_type": "code",
   "execution_count": null,
   "metadata": {
    "id": "TUudWRamrx82"
   },
   "outputs": [],
   "source": [
    "device = torch.device('cuda' if torch.cuda.is_available() else 'cpu')"
   ]
  },
  {
   "cell_type": "code",
   "execution_count": null,
   "metadata": {
    "id": "iEMlo2OleRb_"
   },
   "outputs": [],
   "source": [
    "def load_model(model_name: str):\n",
    "    tokenizer = AutoTokenizer.from_pretrained(model_name)\n",
    "    model = AutoModelForCausalLM.from_pretrained(model_name)\n",
    "\n",
    "    model.eval()\n",
    "    model.to(device)\n",
    "\n",
    "    return tokenizer, model"
   ]
  },
  {
   "cell_type": "code",
   "execution_count": null,
   "metadata": {
    "id": "UzJ5-ZDAeTYt"
   },
   "outputs": [],
   "source": [
    "def get_data(size: int, tokenizer, path: str = 'enwik8') -> list[int]:\n",
    "    with open(path, 'rb') as f:\n",
    "        data = f.read(size)\n",
    "    text = data.decode('latin-1')\n",
    "    return data"
   ]
  },
  {
   "cell_type": "code",
   "execution_count": null,
   "metadata": {
    "id": "Qru7gr-efBci"
   },
   "outputs": [],
   "source": [
    "def text_to_ids(text: str, tokenizer) -> list[int]:\n",
    "    return tokenizer.encode(text, add_special_tokens=False)"
   ]
  },
  {
   "cell_type": "markdown",
   "metadata": {
    "id": "387jLtPvLK-Z"
   },
   "source": [
    "## Кодирование и декодирование со steering vector."
   ]
  },
  {
   "cell_type": "code",
   "execution_count": null,
   "metadata": {
    "id": "Nxl9Jno8g_6H"
   },
   "outputs": [],
   "source": [
    "def encode_chunks_with_steering(\n",
    "    data: bytes,\n",
    "    steering_ids: list[int],\n",
    "    tokenizer,\n",
    "    model,\n",
    "    chunk_size: int = 2000,\n",
    "    total: int = 1 << 30\n",
    "):\n",
    "    chunk_data = []\n",
    "    start_time = time.perf_counter()\n",
    "    max_pe = model.config.max_position_embeddings\n",
    "    steering_len = len(steering_ids)\n",
    "\n",
    "    for start in tqdm(range(0, len(data), chunk_size), desc='Encoding chunks'):\n",
    "        chunk = data[start:start + chunk_size]\n",
    "        text  = chunk.decode('latin-1')\n",
    "        ids   = tokenizer.encode(text, add_special_tokens=False)\n",
    "\n",
    "        enc = ArithmeticEncoder()\n",
    "        for i in tqdm(range(1, len(ids)), desc='  Tokens in chunk', leave=False):\n",
    "            history = ids[max(0, i - (max_pe - steering_len)):i]\n",
    "            ctx_ids = steering_ids + history\n",
    "            inp = torch.tensor([ctx_ids], device=device)\n",
    "\n",
    "            with torch.no_grad():\n",
    "                logits = model(inp).logits[0, -1]\n",
    "                probs  = torch.softmax(logits, dim=-1).cpu().numpy()\n",
    "\n",
    "            cdf = probs_to_cdf_int(probs, total)\n",
    "            token_id = ids[i]\n",
    "            enc.update(cdf[token_id], cdf[token_id + 1], total)\n",
    "\n",
    "        enc.finish()\n",
    "        chunk_data.append({'ids': ids, 'bits': enc.out})\n",
    "\n",
    "    encoding_time = time.perf_counter() - start_time\n",
    "    print(f\"Total encoding time: {encoding_time:.2f} seconds\")\n",
    "    return chunk_data"
   ]
  },
  {
   "cell_type": "code",
   "execution_count": null,
   "metadata": {
    "id": "e_-1YLGShKCb"
   },
   "outputs": [],
   "source": [
    "def decode_chunks_with_steering(\n",
    "    chunk_data,\n",
    "    steering_ids: list[int],\n",
    "    model,\n",
    "    total: int = 1 << 30\n",
    "):\n",
    "    start_time = time.perf_counter()\n",
    "    all_recovered_ids = []\n",
    "\n",
    "    max_pe = model.config.max_position_embeddings\n",
    "    steering_len = len(steering_ids)\n",
    "\n",
    "    for entry in tqdm(chunk_data, desc='Decoding chunks'):\n",
    "        ids  = entry['ids']\n",
    "        bits = entry['bits']\n",
    "        dec  = ArithmeticDecoder(bits)\n",
    "\n",
    "        rec = [ids[0]]\n",
    "        for i in tqdm(range(1, len(ids)), desc='  Tokens in chunk', leave=False):\n",
    "            history = ids[max(0, i - (max_pe - steering_len)):i]\n",
    "            ctx_ids = steering_ids + history\n",
    "            inp = torch.tensor([ctx_ids], device=device)\n",
    "\n",
    "            with torch.no_grad():\n",
    "                logits = model(inp).logits[0, -1]\n",
    "                probs  = torch.softmax(logits, dim=-1).cpu().numpy()\n",
    "\n",
    "            cdf = probs_to_cdf_int(probs, total)\n",
    "            rec.append(dec.decode(cdf, total))\n",
    "\n",
    "        all_recovered_ids.extend(rec)\n",
    "\n",
    "    decoding_time = time.perf_counter() - start_time\n",
    "    print(f\"Total decoding time: {decoding_time:.2f} seconds\")\n",
    "    return all_recovered_ids"
   ]
  },
  {
   "cell_type": "code",
   "execution_count": null,
   "metadata": {
    "id": "KIfBKhOEnCx5"
   },
   "outputs": [],
   "source": [
    "def compare_sequences(orig, dec):\n",
    "    for k, (o, d) in enumerate(zip(orig, dec)):\n",
    "        if o != d:\n",
    "            print(f\"❌  Расхождение на позиции {k}: orig={o}  decoded={d}\")\n",
    "            return\n",
    "    if len(orig) != len(dec):\n",
    "        print(f\"❌  Длины списков отличаются: orig={len(orig)}  decoded={len(dec)}\")\n",
    "        return\n",
    "    print(\"✅  Совпадают полностью!\")"
   ]
  },
  {
   "cell_type": "code",
   "execution_count": null,
   "metadata": {
    "id": "KtHMlA4-nHBh"
   },
   "outputs": [],
   "source": [
    "def compression_stats(data: bytes, enc_out: bytes):\n",
    "    original_bits = len(data) * 8\n",
    "    compressed_bits = len(enc_out)\n",
    "    ratio = compressed_bits / original_bits\n",
    "\n",
    "    print(f\"Исходный размер:   {original_bits} бит\")\n",
    "    print(f\"Размер после сжатия: {compressed_bits} бит\")\n",
    "    print(f\"Коэффициент сжатия: {ratio:.4f}\")"
   ]
  },
  {
   "cell_type": "code",
   "execution_count": null,
   "metadata": {
    "id": "lqBmGzrfnHxl"
   },
   "outputs": [],
   "source": [
    "def decode_text_from_ids(ids, tokenizer) -> str:\n",
    "    return tokenizer.decode(\n",
    "        ids,\n",
    "        clean_up_tokenization_spaces=False,\n",
    "        skip_special_tokens=False\n",
    "    )"
   ]
  },
  {
   "cell_type": "markdown",
   "metadata": {
    "id": "JgxlkmijLfG9"
   },
   "source": [
    "## Фиксированная строка как steering vector"
   ]
  },
  {
   "cell_type": "code",
   "execution_count": null,
   "metadata": {
    "id": "s6kVm5OarlGe"
   },
   "outputs": [],
   "source": [
    "tokenizer, model = load_model('EleutherAI/pythia-70m')"
   ]
  },
  {
   "cell_type": "code",
   "execution_count": null,
   "metadata": {
    "id": "bA2cBNxIlYJ1"
   },
   "outputs": [],
   "source": [
    "data = get_data(50000, tokenizer)"
   ]
  },
  {
   "cell_type": "code",
   "execution_count": null,
   "metadata": {
    "id": "WmXhAKg7fEb7"
   },
   "outputs": [],
   "source": [
    "steering_ids = text_to_ids(\"This is Wikipedia html\", tokenizer)"
   ]
  },
  {
   "cell_type": "code",
   "execution_count": null,
   "metadata": {
    "colab": {
     "base_uri": "https://localhost:8080/",
     "height": 66,
     "referenced_widgets": [
      "a1f045c4c853466b9ac5511673ef12c7",
      "102a2e060c67486d87b71e083a8ce15c",
      "47d423f34adb49b09b1ed19aabde5880",
      "3cf0ab7574304d5997678178ae263b97",
      "4e0f860881aa408ea09a7db59eea1d69",
      "2ca8b63f411e47c08835e2faa5e03031",
      "74a5b90643c74bc2b45ca120433ded73",
      "dc8804977cbd46b6bf849a95d941837f",
      "96082934286a43aba581cb4d7d4a0be3",
      "054e60e245d44930b29092f7102dc69b",
      "0505e246114d4d72a580c92186a2e028",
      "cdc09447629e47b0baa45a74e3c434d8",
      "32e65d6bf7a142a3a63019f44644ba22",
      "5477bc98d34b4629985c24ec26a2a0d9",
      "a035cc4dcd3b4ab28c2c6011c1d57836",
      "d65e1db62025443ba35b73636f11c133",
      "d352e4c99b8445a59d73c33f97cd857c",
      "ab4c4470ad53443585ddcd69392d1613",
      "e31697c906444b26bdb5965e2a0b4b8d",
      "b5c00d5b29014b53999957d87029ecab",
      "fd5136ee01c24eb3832d80570ebc7c70",
      "43e5507fd3ab449ba2eda9066aec4509",
      "d6ad0cce7e474fd1adf5ba1fa4f4d842",
      "9ac4239fffd44468be75ea96a816c835",
      "049394777b4746b7b2afd43811109d75",
      "246d4ad9a2f0468fbdb2499936ecf563",
      "aee9f7b3e4f54f32a261c426e5c1746a",
      "a404fc0a67c94120bed4529d9b43a59d",
      "09d1e8408ca442ddb202c6803ecdc528",
      "6e1431adb50c47cebcaef2eed0568886",
      "c741ec2b18d847a085e104193d3ef581",
      "77f5c27f7fcc4970b1cc07c9449b407a",
      "8c8fbfdbdd7c44c78e5e71159c61095d",
      "cf2bfa0d1aef4926a670d1ca08b884ba",
      "4d58899994404744ac5cc8cba7d7e293",
      "1e6df62449b64ffd929350af2c8d7839",
      "9eeeea964fa441f38f0a5e0ec005022b",
      "97307b0e47284a4eb0f9e32fb9147bba",
      "f6390218a2f9449a8bc547b4d9eb015c",
      "16be80427f44414a97c1de8f9cd9a440",
      "97a5483a5e4744359c388d6b80640fc6",
      "8370c889582b438f9d2b42a10e7386c2",
      "2938fca8ca6743beb53d62e7c7a6b5a6",
      "b7115e904f0645ed9445a437088e700a",
      "eaecb35a53c740bda3adf8d25423a295",
      "3b396f893d7643879c6018cc5a0d9b9f",
      "7a7e8af3077d4399b7bfb752e0c04baa",
      "364514117723463387e70b82b24834c6",
      "1aebbaf66c804675b9a6934ed66a1fd8",
      "20d72bfb4bff44d4a2859d62246ecf37",
      "60e5d82c93b447d48c0def183f453cd8",
      "92d38f6c2fa642df87d968a0deb7e7e4",
      "c1c0cf035f384d0e88d0aad1a76914ce",
      "09a49eccb508413e9794a579e93215cc",
      "8b7cfa2da6e74a6bb501b25bbff4fd30",
      "991f7c8df2044778a079226023387836",
      "6b952da7362e4a66820a2c64a7bac7ba",
      "3bdf26addadb4c8bae7ec9c66b113675",
      "cd0de2477c594ce4a96b029d9a08843d",
      "85e0ccd73e5141188edeac0a7a6d9214",
      "b55e7dec4ca444119fac7ada4441328d",
      "bbce1242a06449bd90f57a8c528720f4",
      "6256b52d9f0b4a1cbec6fc4386d271e1",
      "59ed1c28fc4848ea808e0b928a4f2d95",
      "8b9dfff9f2bc48188b8cfc32e42c45ce",
      "bf66fb67030448d79a5d2e00021f61cf",
      "583a176837344713a9c691600d11818f",
      "fd9898442c5c4e0c8e6963ea425ffa47",
      "6075d24303d14dc1b6b7a23169a315ae",
      "c42658759df545858630802f8b2fecdd",
      "3620d2bffe5e4d4d98215b9f18b48b84",
      "6391a2572657412bbe4cbeb2dc7d8c4b",
      "f2a5b9c5695c43129c6908ae732ead14",
      "aa98f9150b3c47379aa3659b2379d0d5",
      "0be45dfab0724a579897b179a0a93a59",
      "c02abef0045f42339bfdf125aa2045f9",
      "e0dac4d2120c4a7fab30baf6fbcaf025",
      "03e12c3daea64e4e96164a83bc7fba1a",
      "febf6c6fae89470597c595bfd7f5a255",
      "8edca0acfced4d68aa6f825ca58c0318",
      "1bac2ad922ad437a8d5bf6b0ff167e76",
      "ccc94c58de234c2ab2f143f0652c4d49",
      "f7b4e90036a44b2fafb965beee1c2e60",
      "54c4ff6427d44901a428574629f24073",
      "8a7032defae74fa5b277fe713f8b6cb7",
      "c4f3a84b61c849d6b789eca51015cdc0",
      "62388dcafb0742da8b9dfdd553e53dba",
      "39adcf41b7ca4fb6bda1fe4dec7ee7d5",
      "9ab14725147d4fba8ba93693e37b927e",
      "7107b3eeec6b4e0e9815d4cc447aa95d",
      "697e6962882042c38b2a1b0682f0f412",
      "5f99276f4f054afcbb4960e93de39398",
      "e76863552e804746b6e71b29802d1505",
      "a00d9dc482c44bd49e397196b8d82b4a",
      "abd2a1aee2fd45aca4b8183cbc40e258",
      "0740b4c7ca6a4c588aa304af85381a14",
      "a12e593d1a594aadab2493f7e2d380f0",
      "cee5039865d448f5b9347887c2cb9185",
      "60d7a000f83a43b7968e7fced7e0fe3c",
      "f26b982e9774451bbe69278e90611779",
      "e22b21418aae40c1822cb07f7917389b",
      "df59be9dad264358918f376ef3740de9",
      "17ce8959cf8541d3aa12d8187fc9caaa",
      "28673a7391c340439f8ae80ffba1577c",
      "2cb68bba889d4e5b9fc2ab29f362bc66",
      "784d773e0534433c81167de135aaf095",
      "6dfde1f92e2c46648e2e441d78cd0dfe",
      "c4486ba0cd2a49e8ac16dcbe43171583",
      "143df3bdcd3e4d3abe1dac8c8c9a0ab1",
      "78502309e0c2430da962674d72ee387c",
      "73bd84f1f4bd47daaa9e08598e74c236",
      "2efdf668edb1449ab0df57d98fd94c88",
      "8b5ff31e6f934c4abc10bc9d2e82f023",
      "4b27e0552af941a3b3f69a02e2026934",
      "4884910a51534b688639278d27244f45",
      "2d224fc43655460d846e5a3a7dc761f6",
      "5576c973c12a4d6986645a39a6e0a5e4",
      "c1cd170d1c3c42d0848ffd9ba3874866",
      "1eb29a7c994441da9650036c571e969c",
      "d668f1af7c5941088e5a3505c83a49ff",
      "f68ed23d158340e0bd043c9f91e5b0f0",
      "7189c25488e04739920f40776897ac87",
      "1b7d614fe10f4deab49ed72d3fd637a5",
      "8287a45a53074a259dedc4d60767aa7e",
      "67d468f841304a77b0f7d356825a1473",
      "b11dd59cb04a486b95bbcdff285ef1f3",
      "6324550bff4543c494f4510eaa46397f",
      "c6de5f1b277a4ad183bbedc4c9d6ead1",
      "e4107f19ce6c45b2b60d4d7ab545cc6e",
      "c8e3cf1fae604bf49be8a1de69ba0544",
      "8416acbfd6ff4c40b4874b18f3abcd9e",
      "e89588317446478e835d7d9fca312f44",
      "6f2ab2dcb18b4c09b18372f7528994c7",
      "55e0da751d3e4f44b4a7d05e21868d5a",
      "89b5ad0c01ba44059d24f8548e164196",
      "e71c564f682245ff9c3c52cfdab8e293",
      "b52eb1daac0d4448b4d929165718fba8",
      "199994f41bf844678c4d8751eb544fe1",
      "dda7d688e7354faabb0bce380f4e91ec",
      "27ab0745cb8d499991e13b1731e84643",
      "1b7f089d8bcb447f87d1f805b9742511",
      "550681eeb4624dcca8b8c23c78b3f250",
      "f15a2e99b36b4f55a7f67d910a5afaaf",
      "067001025d1c45d4b270dd3cb0c55246",
      "b5d684eafe28453bbcdb2dce63c88845",
      "338cda01a51d4476b4787fa89670de2a",
      "75999669b1344e8fae933e60635a51c1",
      "6b9dbed0e529423e86aedbbc107909c3",
      "db246c5cac254d8ea2ee360f56e40d46",
      "fd15b4bbb15e49f087c9a11b2cf83749",
      "dea803f7f8d6400b80b1aa55c00dd89b",
      "cf5ec21fd6474fda8799ff93a739caeb",
      "3d8261435634444fa84cf054b85375ff",
      "b3cce627b0114f70a7de682fa19cb0cb",
      "3e49a195d7f14767bcdbcd37970f3820",
      "fc179c356f3942eb9eecd7d668727404",
      "f44e61e41070477cabfd98abcfb8a955",
      "104ed1a1918d47fb86eb6d92bcf91e5e",
      "5d77bbdf2f3c4c32b4f5c8a7d36090e8",
      "3b7d5c1c1efa4cfab84a98e9c7c35b6a",
      "95d852c1991f475485c022f174a59247",
      "4053dd11014241d2bfd4c17aec63defc",
      "aeb153ab5d854a0ebcccd5571a2b5458",
      "dc3a611c0fd84fc6a4b688c93af65c88",
      "18814a749aa248f59ab0f4e4478d0914",
      "77248840edb449f3bed440558063fa16",
      "50dda38b4fe141df9857ade8a86ba93a",
      "9f3cbee8615442b6a8a3e3ffd9cb86db",
      "df01f392cf6f434386d30a1062527475",
      "7798bd8c8c444bffbde4c339f2ffb5fe",
      "77afabd78c56414da53e0a3177a0b176",
      "888f2d7c916946a88d4e89a390c727d3",
      "0007f59ddbaf472dbe465b440135004e",
      "352d0eb056da41ba8eea208beff42e23",
      "1096d4ebe0f04103a240a4873836c0fc",
      "b83017145dc24594a6993071838b2801",
      "ca050a530f1b45e8906a87216790385b",
      "5361bfb2b9d84407a0fc561e5400ee05",
      "702ff10fc86d43559df153221465d32a",
      "76ecfc4ff1ed40dcb712ea5cdfce8bff",
      "75cd6cbc3f1749fcbae5e485d52e926e",
      "fdd27ff584de4b2fb93255a1d60c1cec",
      "61a0ff3aceb24c26bd17f495589e54c2",
      "2e868039b011404491911e40e26fc5e0",
      "285974ec337440c8a560a123238f3b2e",
      "ed6ff812d9d241ac8c48559de822f544",
      "2dd060a6c60b4566b68a190fc77b5e7a",
      "d95b5a030e2b47c0be591062c3c4d3cf",
      "64564811e43242d08ed9501872127bda",
      "d21c96746c3c4b63b27deaa3c5a9139c",
      "3ead2326dc964d968473580736a94211",
      "148481e65b594dc884f151d27305331a",
      "e03464478e904ac1b1367c116bd7a1ae",
      "563cbb4eb7124a5fb1b79516a8d18960",
      "7ee2fc2e594d432c8bda5416872be93a",
      "912a4294444446a5ab6d6ad42cc143c8",
      "bccd2d64f6f74f48825cfe781c02d6c1",
      "bd9908e383604591a9ce34fc75cb7c1e",
      "367a67187d2e46b89d86efe5a87422f0",
      "8820d0ab387e40f4832b76cffd710619",
      "4d89bcb1c4434da990acfb1e3be373bb",
      "7c3a45ab7e2e43aba7550c7f65b8472f",
      "d1dfa417c38943dbb6527be8ae37a392",
      "e690b734ea564d2eb939ae748d422f16",
      "47b1011bf0f54622b660274c5f623602",
      "5a1f0fb2ef924b2a981a0d77a6251312",
      "653a600ffa834808b49d54c45db084b5",
      "2b9a73b250b9413fb3f6df8358244a97",
      "d49926d7f92c43eba8297e4d286a80bb",
      "0fffb46e4ea94ac7a682d329029239ab",
      "0267dd9525ef426298912c85521a66fe",
      "0d4ade7609b64544a701e290aa1cafec",
      "557a6d71a1c947619db6dde7509669cf",
      "b58626efef8c4b1882854372cb6c89c8",
      "19be5756c8614d83914250647ba97b7c",
      "85591440ece848ae8a6e4bce2a242411",
      "837f1d1288824dd0ba6a06e2fa68be42",
      "6fd8cbb0809b427fbfc5782fd722667d",
      "1a52f550732244a4aa517985cff0b2ad",
      "aa1840f5bed4456a88db67ae1f6325ac",
      "0f9114380fd34bd5abd318619150f0fc",
      "186c1757bc7044bfa725af755985427e",
      "17ef4191408741c197f8ac34eb678e66",
      "f54884c1c8d1465e94fd8eab44288400",
      "fce0ab19e53d415c8ca3e01a8d29810b",
      "3bb19efb900943abadb4d3d77b8ef1c9",
      "401e611b298147c1a7dba895af72584b",
      "2000e44d50a641b48863b05e81f05a11",
      "6c69e54e4e064b9d9c3bb12542ead526",
      "139defe3389e49d28a068e370ea1a72c",
      "fb6f81ff3b934125ae6327aaee4532e3",
      "8b5d4cce0a524a65a6e9688a83a7fa19",
      "a3193684f9874987b6464babc2594cd5",
      "a2366992963e425f9c3566de60594915",
      "4378b63c315d4106964f3507dbda555b",
      "14b0796f03274fd3a6b18b869ca92397",
      "f6a8112917c74cb49c28bb81e71d383a",
      "fde29d07c1f044688338b06b27c384ec",
      "cce8252d718f49cc861586d628b5ad2d",
      "683baac51f334dbc94c63520fe502165",
      "334a0327901444ea96750face98f303a",
      "4633f89c1c23405a857d0e8a94b94fd7",
      "40fac5caac034043b5162e939ea167c3",
      "cf7d50ad9b2c47228cc67794de1508ee",
      "6542dc59a18b4b17831752785becdcb6",
      "50826a2cdae347a88419584981465fcb",
      "d2e26f99cfc444749b8e973d28a55bdb",
      "60dbce2c6dfc4706953678e5a5236bf9",
      "c277419f2e36485b8a2e61e3efb392c8",
      "4e2543324e6241819c72f0122576b111",
      "31f27f4b281d4bb4b4d7af2d2b192ebd",
      "0b5569f81cc440b094d05afe8776f6a6",
      "67c66ce702234e029892f6e3fc55ad5c",
      "6fb77dbbead24ddab053397e40b26342",
      "a5159bd3838245fcb661eb367e396cc1",
      "c39ed928045b47459458cc4228f043c4",
      "b69f1f88dff7483bb0418510871f2075",
      "322f4be121f54c3887e1dfee76d8c098",
      "9dbc52780a604fc1b9adc5ffe6172915",
      "9bdbbcf3a61f49abaedf0bddda24b89a",
      "5650e00690b04f1e93227e36487252e1",
      "7ef6cd0c047b4ce28ca78d0f541a859f",
      "1714858df5a94ce0b151d5e7a69a6b15",
      "6425ddc764114ff1951fa91e4152715c",
      "79939d16454b43f78def59320ec9ff56",
      "39928efc25a6496e8530eabeefca5206",
      "db9829bcd9b14f71b8fc8ccbafe3044f",
      "e80ba8a7cc824d768ed21aebd37e9b30",
      "9dd57a7ccd1b461b8d1f245c332a7c5b",
      "c1702a1297ff40e19a8193adb8f55e50",
      "448d5baae27f4430b7ccc35f1a139f99",
      "1cf363ce59994dfea4affb3deb7a99a3",
      "681d4022ee7149998e7511d13d2faff4",
      "604400f3a3a842038b1689fbe9b5a82e",
      "a6da02384da24d7ea9754f0f5435a248",
      "d5ba4ac786644d8a8eda4cd6be9b2297",
      "05fff6d91f6a44b7a7d0a7c509ab8420",
      "2f2df8bbc95944abbfb3a16bcf6e975b",
      "3aa7e2ead5a04046b1c40a6e4fe0a341",
      "6a276273ea9748a1b7c21e231c07238d",
      "4e8ee5fbd1644ae1806d2bdeaa1d96ec",
      "bab903fbf5d54cadaad82243e63da509",
      "f61ca3b6d320429bbeca5fbdd67552ef",
      "55d268e3d9e646758a6d103226f97534",
      "60525069c8c9408388679b2718945135",
      "c33820767fa24f88859302ae19a7e90d"
     ]
    },
    "executionInfo": {
     "elapsed": 162766,
     "status": "ok",
     "timestamp": 1751482552310,
     "user": {
      "displayName": "Yulia Yorkshirelove",
      "userId": "10480095246692972307"
     },
     "user_tz": -180
    },
    "id": "0arbBlS7gxdc",
    "outputId": "91257346-48f2-41f9-edee-796b6f9a9704"
   },
   "outputs": [
    {
     "data": {
      "application/vnd.jupyter.widget-view+json": {
       "model_id": "a1f045c4c853466b9ac5511673ef12c7",
       "version_major": 2,
       "version_minor": 0
      },
      "text/plain": [
       "Encoding chunks:   0%|          | 0/25 [00:00<?, ?it/s]"
      ]
     },
     "metadata": {},
     "output_type": "display_data"
    },
    {
     "data": {
      "application/vnd.jupyter.widget-view+json": {
       "model_id": "cdc09447629e47b0baa45a74e3c434d8",
       "version_major": 2,
       "version_minor": 0
      },
      "text/plain": [
       "  Tokens in chunk:   0%|          | 0/668 [00:00<?, ?it/s]"
      ]
     },
     "metadata": {},
     "output_type": "display_data"
    },
    {
     "data": {
      "application/vnd.jupyter.widget-view+json": {
       "model_id": "d6ad0cce7e474fd1adf5ba1fa4f4d842",
       "version_major": 2,
       "version_minor": 0
      },
      "text/plain": [
       "  Tokens in chunk:   0%|          | 0/732 [00:00<?, ?it/s]"
      ]
     },
     "metadata": {},
     "output_type": "display_data"
    },
    {
     "data": {
      "application/vnd.jupyter.widget-view+json": {
       "model_id": "cf2bfa0d1aef4926a670d1ca08b884ba",
       "version_major": 2,
       "version_minor": 0
      },
      "text/plain": [
       "  Tokens in chunk:   0%|          | 0/572 [00:00<?, ?it/s]"
      ]
     },
     "metadata": {},
     "output_type": "display_data"
    },
    {
     "data": {
      "application/vnd.jupyter.widget-view+json": {
       "model_id": "eaecb35a53c740bda3adf8d25423a295",
       "version_major": 2,
       "version_minor": 0
      },
      "text/plain": [
       "  Tokens in chunk:   0%|          | 0/589 [00:00<?, ?it/s]"
      ]
     },
     "metadata": {},
     "output_type": "display_data"
    },
    {
     "data": {
      "application/vnd.jupyter.widget-view+json": {
       "model_id": "991f7c8df2044778a079226023387836",
       "version_major": 2,
       "version_minor": 0
      },
      "text/plain": [
       "  Tokens in chunk:   0%|          | 0/577 [00:00<?, ?it/s]"
      ]
     },
     "metadata": {},
     "output_type": "display_data"
    },
    {
     "data": {
      "application/vnd.jupyter.widget-view+json": {
       "model_id": "583a176837344713a9c691600d11818f",
       "version_major": 2,
       "version_minor": 0
      },
      "text/plain": [
       "  Tokens in chunk:   0%|          | 0/546 [00:00<?, ?it/s]"
      ]
     },
     "metadata": {},
     "output_type": "display_data"
    },
    {
     "data": {
      "application/vnd.jupyter.widget-view+json": {
       "model_id": "03e12c3daea64e4e96164a83bc7fba1a",
       "version_major": 2,
       "version_minor": 0
      },
      "text/plain": [
       "  Tokens in chunk:   0%|          | 0/453 [00:00<?, ?it/s]"
      ]
     },
     "metadata": {},
     "output_type": "display_data"
    },
    {
     "data": {
      "application/vnd.jupyter.widget-view+json": {
       "model_id": "9ab14725147d4fba8ba93693e37b927e",
       "version_major": 2,
       "version_minor": 0
      },
      "text/plain": [
       "  Tokens in chunk:   0%|          | 0/505 [00:00<?, ?it/s]"
      ]
     },
     "metadata": {},
     "output_type": "display_data"
    },
    {
     "data": {
      "application/vnd.jupyter.widget-view+json": {
       "model_id": "f26b982e9774451bbe69278e90611779",
       "version_major": 2,
       "version_minor": 0
      },
      "text/plain": [
       "  Tokens in chunk:   0%|          | 0/453 [00:00<?, ?it/s]"
      ]
     },
     "metadata": {},
     "output_type": "display_data"
    },
    {
     "data": {
      "application/vnd.jupyter.widget-view+json": {
       "model_id": "73bd84f1f4bd47daaa9e08598e74c236",
       "version_major": 2,
       "version_minor": 0
      },
      "text/plain": [
       "  Tokens in chunk:   0%|          | 0/568 [00:00<?, ?it/s]"
      ]
     },
     "metadata": {},
     "output_type": "display_data"
    },
    {
     "data": {
      "application/vnd.jupyter.widget-view+json": {
       "model_id": "7189c25488e04739920f40776897ac87",
       "version_major": 2,
       "version_minor": 0
      },
      "text/plain": [
       "  Tokens in chunk:   0%|          | 0/500 [00:00<?, ?it/s]"
      ]
     },
     "metadata": {},
     "output_type": "display_data"
    },
    {
     "data": {
      "application/vnd.jupyter.widget-view+json": {
       "model_id": "6f2ab2dcb18b4c09b18372f7528994c7",
       "version_major": 2,
       "version_minor": 0
      },
      "text/plain": [
       "  Tokens in chunk:   0%|          | 0/511 [00:00<?, ?it/s]"
      ]
     },
     "metadata": {},
     "output_type": "display_data"
    },
    {
     "data": {
      "application/vnd.jupyter.widget-view+json": {
       "model_id": "067001025d1c45d4b270dd3cb0c55246",
       "version_major": 2,
       "version_minor": 0
      },
      "text/plain": [
       "  Tokens in chunk:   0%|          | 0/487 [00:00<?, ?it/s]"
      ]
     },
     "metadata": {},
     "output_type": "display_data"
    },
    {
     "data": {
      "application/vnd.jupyter.widget-view+json": {
       "model_id": "3e49a195d7f14767bcdbcd37970f3820",
       "version_major": 2,
       "version_minor": 0
      },
      "text/plain": [
       "  Tokens in chunk:   0%|          | 0/456 [00:00<?, ?it/s]"
      ]
     },
     "metadata": {},
     "output_type": "display_data"
    },
    {
     "data": {
      "application/vnd.jupyter.widget-view+json": {
       "model_id": "77248840edb449f3bed440558063fa16",
       "version_major": 2,
       "version_minor": 0
      },
      "text/plain": [
       "  Tokens in chunk:   0%|          | 0/465 [00:00<?, ?it/s]"
      ]
     },
     "metadata": {},
     "output_type": "display_data"
    },
    {
     "data": {
      "application/vnd.jupyter.widget-view+json": {
       "model_id": "ca050a530f1b45e8906a87216790385b",
       "version_major": 2,
       "version_minor": 0
      },
      "text/plain": [
       "  Tokens in chunk:   0%|          | 0/514 [00:00<?, ?it/s]"
      ]
     },
     "metadata": {},
     "output_type": "display_data"
    },
    {
     "data": {
      "application/vnd.jupyter.widget-view+json": {
       "model_id": "d95b5a030e2b47c0be591062c3c4d3cf",
       "version_major": 2,
       "version_minor": 0
      },
      "text/plain": [
       "  Tokens in chunk:   0%|          | 0/426 [00:00<?, ?it/s]"
      ]
     },
     "metadata": {},
     "output_type": "display_data"
    },
    {
     "data": {
      "application/vnd.jupyter.widget-view+json": {
       "model_id": "367a67187d2e46b89d86efe5a87422f0",
       "version_major": 2,
       "version_minor": 0
      },
      "text/plain": [
       "  Tokens in chunk:   0%|          | 0/537 [00:00<?, ?it/s]"
      ]
     },
     "metadata": {},
     "output_type": "display_data"
    },
    {
     "data": {
      "application/vnd.jupyter.widget-view+json": {
       "model_id": "0fffb46e4ea94ac7a682d329029239ab",
       "version_major": 2,
       "version_minor": 0
      },
      "text/plain": [
       "  Tokens in chunk:   0%|          | 0/494 [00:00<?, ?it/s]"
      ]
     },
     "metadata": {},
     "output_type": "display_data"
    },
    {
     "data": {
      "application/vnd.jupyter.widget-view+json": {
       "model_id": "0f9114380fd34bd5abd318619150f0fc",
       "version_major": 2,
       "version_minor": 0
      },
      "text/plain": [
       "  Tokens in chunk:   0%|          | 0/600 [00:00<?, ?it/s]"
      ]
     },
     "metadata": {},
     "output_type": "display_data"
    },
    {
     "data": {
      "application/vnd.jupyter.widget-view+json": {
       "model_id": "8b5d4cce0a524a65a6e9688a83a7fa19",
       "version_major": 2,
       "version_minor": 0
      },
      "text/plain": [
       "  Tokens in chunk:   0%|          | 0/473 [00:00<?, ?it/s]"
      ]
     },
     "metadata": {},
     "output_type": "display_data"
    },
    {
     "data": {
      "application/vnd.jupyter.widget-view+json": {
       "model_id": "40fac5caac034043b5162e939ea167c3",
       "version_major": 2,
       "version_minor": 0
      },
      "text/plain": [
       "  Tokens in chunk:   0%|          | 0/494 [00:00<?, ?it/s]"
      ]
     },
     "metadata": {},
     "output_type": "display_data"
    },
    {
     "data": {
      "application/vnd.jupyter.widget-view+json": {
       "model_id": "6fb77dbbead24ddab053397e40b26342",
       "version_major": 2,
       "version_minor": 0
      },
      "text/plain": [
       "  Tokens in chunk:   0%|          | 0/495 [00:00<?, ?it/s]"
      ]
     },
     "metadata": {},
     "output_type": "display_data"
    },
    {
     "data": {
      "application/vnd.jupyter.widget-view+json": {
       "model_id": "79939d16454b43f78def59320ec9ff56",
       "version_major": 2,
       "version_minor": 0
      },
      "text/plain": [
       "  Tokens in chunk:   0%|          | 0/442 [00:00<?, ?it/s]"
      ]
     },
     "metadata": {},
     "output_type": "display_data"
    },
    {
     "data": {
      "application/vnd.jupyter.widget-view+json": {
       "model_id": "d5ba4ac786644d8a8eda4cd6be9b2297",
       "version_major": 2,
       "version_minor": 0
      },
      "text/plain": [
       "  Tokens in chunk:   0%|          | 0/452 [00:00<?, ?it/s]"
      ]
     },
     "metadata": {},
     "output_type": "display_data"
    },
    {
     "name": "stdout",
     "output_type": "stream",
     "text": [
      "Total encoding time: 162.76 seconds\n"
     ]
    }
   ],
   "source": [
    "chunk_data = encode_chunks_with_steering(\n",
    "    data, steering_ids, tokenizer, model)"
   ]
  },
  {
   "cell_type": "code",
   "execution_count": null,
   "metadata": {
    "colab": {
     "base_uri": "https://localhost:8080/",
     "height": 66,
     "referenced_widgets": [
      "2df85336754741048d56fb04fa04c06b",
      "ab53a57a824941529e9684af6ff1bdf3",
      "6cb30b6bd370428a9c2afe517579629b",
      "c45fce50134747118d7867b9d5a5d2ff",
      "ee371a9188d349ac90723fcd47aeb374",
      "a46b1ac55cc84c1198e4fd26762f682d",
      "1d5deb04d5304d7992ee1e8a003602a9",
      "0b04784e43754f47b005dee0c8f322cb",
      "0c41d1273486424b859cab480e48b9b0",
      "df3306a9a6ba4ab0a9742a7186f44b8d",
      "6d9ed38644ee42bcbcb62daa1357bcde",
      "abc1e42ff5ac4e6fa1d6ccd44b9b51eb",
      "4d0db56b4a1e4f69b1b7fad87ceaa1c0",
      "92fd72b4273b4b77bb57ac62da22e214",
      "32d195a49590460a8d32e1b01f84d318",
      "b3ab22a6649041cd998dfeb45ab8d506",
      "f25050039ab14478ba6dffda99a32b2d",
      "6e914db05ce44408bf49d3b06b17d5d2",
      "9510fa16672c426ea6764fccae9f140b",
      "7813bac307a84cabbe9684a3f033933f",
      "fc03f41d99aa4401b8601a1ce7448eb0",
      "fd22f44d32fe41139b83f2bc60d1a841",
      "91f28e26cb42479f9fee9224c6eb688b",
      "73fe917bc41042528e501a70b5ec11d7",
      "6d9faf1ee8ff4bc3b2a7f1692200f1e2",
      "8533c347afab46dd8dc3fb787d4b76d7",
      "eddb7eaf783d482aa1a7eec52fc51420",
      "f6acfbf43a8e45c5afb4d1316e514dcd",
      "516bcd7279f34d9497fec675e9e81086",
      "1aea801a3084474e9eb89e243f9f3bb2",
      "fe1a27ef9315461880bd1280a29f6f30",
      "54e6b8c2df6149a3ac1a98bf78153a3c",
      "9307cd3e316c4b678dd8513cacac6021",
      "64db6d37799946f1821adb50200f44f4",
      "3c5bb0229a084eca9334d195f987d00b",
      "907398a384ef4b6ea0e794c7318759fc",
      "45ffb04a1dc44078ae890076e46382c3",
      "af85c85c9bcc43bb87fcb7f4a5612b11",
      "4fe8ec66866e498ab91c3252d32bdf4a",
      "3a7040142ca64692bf0a2aa887bef9fe",
      "807ed14bcd3e4d9d9be029f8b8357a5f",
      "936f47d521f44c1aa5aa6de63455d728",
      "28c38ce7e41b41f88408299264683117",
      "e4c489f2d6a54cd0bfda4247b52b220d",
      "c06c0996d6d943f69d3dc6569d4258d7",
      "46524c5337ce4b3387f4c42433ba20d6",
      "19b37c0d611d4b6b984fa0ab73674e86",
      "810e4bd542464ebda37ce4fb83b2f7fa",
      "e5a8378c6c114c5ba9aa576dcaa6620c",
      "f13275a694274fbba2358c7d56172701",
      "7000ef0710da44359d46bc086cd3931e",
      "0a5578b338b44f8dbe3508dc7d91c321",
      "b7280028ca7a4313809eb638c4879af5",
      "993148b34d754d16ac43ea7181f31785",
      "da5d57e5f86a4d15aeaeb7df86bc71c3",
      "5f369ad886c54798bcd5232079757b6a",
      "3bf31de25a754ec5a9dc6bfc7516de43",
      "faa26f8286934355829ef7c62006cd76",
      "5941dd8ae4b147a78b9c7d93b2043662",
      "fdb61eaf6668483bb74ee434310acc0e",
      "e62f760a760446dbaee43b6232288bdd",
      "8a8aa9f9904b48f494a40cac0ee1e8f6",
      "610f7128aa7043b3b12abcefd8526004",
      "a8ad45a7b46a450289c0554e16891b44",
      "0a5d2140559c4a5a9a698dcaf293e88b",
      "205989c8ae7540fba1cd7fcbd47ea91c",
      "c62ba01a3a844110b4843e1d8c94ab67",
      "0d97a738caad4b47842354779c8c52e5",
      "3e934e54b5134c6784b9303d45602d02",
      "1ee22438097f49f99aa55933431bc0fd",
      "a4252ec5f16b47f0ad7007a9d04427b5",
      "c7ce2391d5b94d4eacf75a447ef84c13",
      "f4153fe99c064260ab4f5d97671a83a4",
      "500c92bc9c2144248a4d9f95144ba4a5",
      "81dc53712706445986775c401aa16672",
      "5c56b2d30eea477f814bc2adf51963ca",
      "1fdd6ea29c4e48c1a919d69b469a9508",
      "4769ca569a0248d0a724ce668fccd2b8",
      "1f8a99a767e547fbb8031a678e5e483b",
      "351a4e6161104f1fbc1b14a9671d242e",
      "826578512f134d7ebd1510569970ec6b",
      "0dd2f319a8bd461eb7d2f02be7e5932a",
      "cc92a17167934e3cbc55ccc4265796a6",
      "4c729fa411204bd6b02f1d6e43b7fdc5",
      "13a9c66b17f84caa8f61dae2523abf9d",
      "c6d07ecd58ef41999c3d0e73daadc7be",
      "e3f70b1fe95b4e73baa75f29cf4989e7",
      "a2e42648b8af439886a2c9b6fc25c563",
      "7410437a436b4bb59e8de0319f50691e",
      "19ef323aeb7a4d2ea107a101207a0d10",
      "a337f88c700b4f8aa73228599eb30762",
      "6d7099d288764916b928d4f3e5c1cbaa",
      "1b3f506c408341a9807ca700f16880c9",
      "b5501dc5e6614809b8b30c7257e65481",
      "44b29bb1afe2475cad99e7cf821aa7b3",
      "cea15441a7a9408aadb74ee1c3443995",
      "2931ecc420ff4f40ac33a426278a7785",
      "c54cdf182ee946a683bf7abea2208b07",
      "ca901ee60cfd460090c81f5ceb0e4352",
      "7a1df5a6fb22411081dbd779e85a8389",
      "977cec04e7574b9da08847f4215a1529",
      "56155c55ed7f4dfca58f533f143943ba",
      "199c99ff664b4a8b93cdb1f2c59f4f93",
      "f0ecf86c6f494e6d9c50d27ea357a3b8",
      "f0e30729799c4ed486797b777a937910",
      "48674b4faa724b29bcca59533462ebd1",
      "aec5fb3181b94767af589ef237998721",
      "7da1b25fac2442eeb61b9aad5773eef0",
      "70281ef00a714a8193e04db946f5f22a",
      "572727700d3c418a8fe15d99a46bd1f5",
      "fbb6383b51e74836a1e359ce1ad3ab16",
      "a7194d534e3b4bb4bbf1a90e07d43bc3",
      "f12dbd651a074608a7fbb1c080ee5379",
      "9262246335ba402a9fb49f6e0e0441ac",
      "4aa9a9111d5342d18f168a26525bf171",
      "5c72faad9a4a4544a22437be3706e80f",
      "6004d61432eb4661acfa7535ba36cc81",
      "5c301ca51eec4fd2af8dd435b0e6e7bc",
      "94a155f26f5242bfb9c125e0d2a0e730",
      "5ac4cfed7ee34f638aa26fd87d9afe70",
      "b273dcb7783c4ebab0a5041acc78870f",
      "8dd75684666148218698ffef169c5007",
      "aafc82731e9c489d9c251987c826253c",
      "7cb0e9778963431fbfbea8abf2346da6",
      "150cbb0345b44c30ae8b2e082dba710b",
      "17354c551bb34c05b78fe9f6763d47b7",
      "2e43afebc1bb4da994d1985dafda2c4f",
      "c0e30093ee93466096f57432ad57b00d",
      "536faf51aa074f28b6f35c9634c48584",
      "f80d2964627346d689fcb116d0a8504a",
      "e319a90b47b54647a7afc55bedee4443",
      "91030a9f1c2d453eb5037e38e0a6e806",
      "ac160acb0c3742c892bc1bb28121f8d3",
      "97def7c44c674eee879863995b1b4e65",
      "5544651e38bd4cd3b8ef2ed2f45ea46a",
      "55bf0058d64f4c8c8a012d66b6be65e2",
      "a2cf13c7b0a14e4fa6a244087abd1d7c",
      "330a61cb2d0d4edbae94821d22fb0144",
      "fb1834c3cac54b36996223bdff7ef0dc",
      "8e65a7b8945e4b55b79b4a4cb8c9e405",
      "e9e9632e89a6404b842bd819bfd0fe65",
      "5e077d7d081a4945886ad91c3a93d030",
      "5dabaf869e514133b42b6321a6651270",
      "518dceb0f3904fcd8e17e02c8b736b35",
      "a0b7c31151cc42c9b5191917285ecb0b",
      "9fb4bf8457a54e35acf96d40759bca9c",
      "cd1d2e0b3ad446c998c823b29bf75492",
      "c9355a22249844dfbaef57bdbc903c8d",
      "6d875e2591514fbcae42c82f9146656d",
      "8140afc57ef444f194908352716238ab",
      "df936c6e776d4ed69b5b3b9db68e596b",
      "12e385147b5342c68e579a35c6cd1be4",
      "82f09bbcc43b45c3913efbefde8422de",
      "04ece83530a045ff87434284baab151e",
      "f403e93303a84701a81d89c3896c3fd4",
      "f820c98000bb4003b90cef6f7810f415",
      "c42625a53b804ad9938a7eb00279e482",
      "7df7efd7aafc4223af8ed811a0ca288e",
      "ea164841d5d14d2fae89124a2bb9f832",
      "e2000a38aabd4f52bbaabd8444a286c2",
      "5ab4c84889a44603a115d925b35ece54",
      "b4d31358dccc4bc7a6d96fc165477956",
      "b8157f95f24e4672a9298ae7da17d342",
      "730c27f6dedf4b69a7ba9e057b1cbe3b",
      "7ede259902b44e5bb125a7b6755d9c78",
      "4207b98d8631427ea7189fb213f6037d",
      "0787cd72027e461c8696ce0aa841d243",
      "acb0ea06fcc74987922b15163c9261b7",
      "8686fffd2b8643dba16093ec43560c19",
      "d2bc5c09446040648e201a247433b412",
      "d5313f045214439d8de0712f60b419e4",
      "df44dfd3385343899c1ad4fe3fdc4d8c",
      "2ea0a63ce0d844fd890fbcf34d2b43ac",
      "00c2d7f57da04e9092977eeb55ff6188",
      "b7ea6ec1417c412386cb0ff435414a24",
      "4a82f4814a1546a6bb96d751d638033b",
      "fc0c6f3ccf694843a65835961513463d",
      "587285c20ff141a6aac8f7126a4d2c10",
      "49b4579ba9634408b78a62a0a31e360a",
      "2517e4172cf6481282238a60b4983909",
      "0485d27de87a46fcbf3ea5577f4b19c3",
      "3c55fa0978194404bd2a2362112ba4f8",
      "cbfcc8d82d4a4624aab9fd048030f1fb",
      "e7a917bff8b04117a7196f1619b91f39",
      "d24cfd768ee54e1494901a4391dee104",
      "89af607d81884cea84c2d1eb3046a655",
      "31efdfc16474455ba32f5baa9094487a",
      "a074c8509f1b4d95a6ffd8c058bac264",
      "131975fa77f2418787cfb9eb0a55f97c",
      "d76c9b82ef664f17b27c1f3dd4c07461",
      "4fe9515f9e41473487cfd06219d91ceb",
      "0a061ecbdd4e44b4a37ca1c2f8691bbe",
      "9ef316eaee8046d1857d3e2a3987f618",
      "0ac3629ef2d04b88a1f2f87454bfcf01",
      "537c3a05a80d4a4ab27a7db8eed6cfd6",
      "d8ebf4bd9af44fe59312d10231614d77",
      "090a3fe7dee94aa79f2e3c3ebafb79a3",
      "4e232413a08a4a318adbf7305d55dbdc",
      "34af89c165024c09b43ab8f3ea6cde4e",
      "e23894fe15e7459abf7915007863a8d8",
      "5ec4c31842ac460c9af5219e0d1f159a",
      "2c3f5ac7ba0246878d8fa530106cc531",
      "d38c4a018dc64586969b488387348c18",
      "a415643ad20b4cb9a70cb66a57cc4fae",
      "457d2ee0b8b94df8ab2f7fd57d015da2",
      "accb124a595f41da8dd1feabfc9ed859",
      "a8eea76f3cb5461aa31c01ad889f915d",
      "4f35c9b0f57d4eecacb150b5b2428eac",
      "14901aeb37c642928c52695fd71b0ae0",
      "3c60ea325fef47ffb4782a90a8c87651",
      "c49f76c1aade48109fd2b866371906af",
      "f493d154f14145d9935fdf83f078001b",
      "5761781c0b3a4e06a17f4ef8b4a7206a",
      "ba8ff8c0903644419842834a05d8e0c8",
      "2e6c9439991c4e7a8525ceaf965a397e",
      "ddce0e00059a4af2983ce94cfe22b6d2",
      "275ca9f198004dee81b79136a26638d4",
      "e5bf25d9478148348032a37cdafcc67e",
      "0d0ae3efe2f54910ad908c3da6102407",
      "077955c393654cb8b29486bd6777f478",
      "d346595418dc4197be7f0157e4386ab7",
      "264c821cd517468183c69cecadd30917",
      "2ab69f9ee0af425cba3b760be59e3916",
      "6cc1757cc36146aa9fd39569ed991d7f",
      "49c9be2f2cae46038182dac0ad585f51",
      "1fb048378a5e465dac638263ec4fec50",
      "d07eff8a34e94d45ae1dce87efa2de70",
      "ceec04f9fd2344f290b1afcb8f14e56a",
      "56caf4a84c15497eb3f9fde99b5947ae",
      "d7a81b592b12445487fd4222e7060c1a",
      "9046c7010aa74abeb3fc05cd1c926edc",
      "03acc4003b4149e4bbb189140b6d76af",
      "ada9c3d0a5b840d28acea1a6579afdcf",
      "abb622905a6b4c159db910105816fcd3",
      "19632d2278234b74b93f569ab72f6bcf",
      "76b4eb5c49244e329cf80e181f1ebd7a",
      "e4d7cf1cf82841a3b117fda0762015c9",
      "470f7c76b6904bbc8bfe344a2a4a5b36",
      "0a556bc4a3254ae491d62ad0715ed937",
      "061de731a50045a7a4b51dee2e686959",
      "3b1746ad06144728911f8b79cb830532",
      "bf4f907ce5f34edc9924162e14bb49ed",
      "ad7f39f8df8542fea6f02b97555e3905",
      "73e8152942e648bea90b7ccdcfd9ed57",
      "1d7af16cd11f4e8fa44e31092966a4ae",
      "b6beda7fa88549e58e70ec6c65e67991",
      "491ca695531f4338af7f2992dbe09dda",
      "8f0d9c9794dc4a3bb345072fb2ce6fcb",
      "2f4e98b9eda14a6ca85678ab6f545f38",
      "4ed4e3946c2d4d5688fc9aa99de287bc",
      "9e80cc176d1c4df995817a53f7365f43",
      "91311bd9209142e0bd2550c408a7213d",
      "7fb8dbac05854d1d8eac3164ff2657ce",
      "c35203f6cf314980bbea764eaa245b8c",
      "cdb71a1f902c4928a623f5c1f58b517e",
      "9e3724432c284ca6a6b96030f62cd26f",
      "d7a9424cdc4744778a773e523a331914",
      "854fdd785d404bab86290134f011532a",
      "7cad1ff30f2d49bdb2771aeb72d6e1dc",
      "308983fd5ce5422ebed8c298b4233e42",
      "799cf7db04ce4ee4b925020271c6160a",
      "284c0d10fcd449059960087d38048635",
      "7933e0dc0c734ba7b4eb0f7d196d341a",
      "962ef71f0e744cac9e7ebe0ba0d8736a",
      "e9a4784dc82e4a0a8601a8d5f40a0dde",
      "4d6b6946308d4cec9b9a121f9587a8df",
      "6184952484684dab98a12707dea851e5",
      "707ad01651f6412091f0bf6e1d1d88a0",
      "e7dcaaf052bb4a9fa9b9e569a36800ea",
      "da04774c2c46427fac9f119163b4a191",
      "866dcaef6c254979a77c7d85a8ea16d1",
      "e092fa12e36f43eb85f14d846561ee89",
      "f42dd2c7c16b45e58f8acbf047e983c8",
      "ec1511acde1d43f284553aae415af71a",
      "08bda2d62941485cbab1d382950d2c81",
      "715f03315dfc4367b315b5899e64d5b0",
      "3a0bdd7c2ae54aef9c1a918ddc8c7a70",
      "7606273ee6e94c3e802c4452f1efc980",
      "0ff2cff1ada945cc934c59b695555abd",
      "1cecf442e6934a6f9d8dfa70d4dfafd6",
      "9ea0e753841e4a1d87d7ad6c6bba9fcf",
      "b608d41bcc3a41eea41452b56f079a8f",
      "b56d12d6a3884d2688331fd6c3c86d9b",
      "006a9e3384374ac4a7d4b79676c185ac",
      "7c837a9c05434633bdbde39d4ce605b6",
      "92f65de7fa824f7ca9f8201dfad5b36b"
     ]
    },
    "executionInfo": {
     "elapsed": 146348,
     "status": "ok",
     "timestamp": 1751482698688,
     "user": {
      "displayName": "Yulia Yorkshirelove",
      "userId": "10480095246692972307"
     },
     "user_tz": -180
    },
    "id": "e4NwH5GPh0Ar",
    "outputId": "a566b7af-355a-4502-db47-d19f6f66447e"
   },
   "outputs": [
    {
     "data": {
      "application/vnd.jupyter.widget-view+json": {
       "model_id": "2df85336754741048d56fb04fa04c06b",
       "version_major": 2,
       "version_minor": 0
      },
      "text/plain": [
       "Decoding chunks:   0%|          | 0/25 [00:00<?, ?it/s]"
      ]
     },
     "metadata": {},
     "output_type": "display_data"
    },
    {
     "data": {
      "application/vnd.jupyter.widget-view+json": {
       "model_id": "abc1e42ff5ac4e6fa1d6ccd44b9b51eb",
       "version_major": 2,
       "version_minor": 0
      },
      "text/plain": [
       "  Tokens in chunk:   0%|          | 0/668 [00:00<?, ?it/s]"
      ]
     },
     "metadata": {},
     "output_type": "display_data"
    },
    {
     "data": {
      "application/vnd.jupyter.widget-view+json": {
       "model_id": "91f28e26cb42479f9fee9224c6eb688b",
       "version_major": 2,
       "version_minor": 0
      },
      "text/plain": [
       "  Tokens in chunk:   0%|          | 0/732 [00:00<?, ?it/s]"
      ]
     },
     "metadata": {},
     "output_type": "display_data"
    },
    {
     "data": {
      "application/vnd.jupyter.widget-view+json": {
       "model_id": "64db6d37799946f1821adb50200f44f4",
       "version_major": 2,
       "version_minor": 0
      },
      "text/plain": [
       "  Tokens in chunk:   0%|          | 0/572 [00:00<?, ?it/s]"
      ]
     },
     "metadata": {},
     "output_type": "display_data"
    },
    {
     "data": {
      "application/vnd.jupyter.widget-view+json": {
       "model_id": "c06c0996d6d943f69d3dc6569d4258d7",
       "version_major": 2,
       "version_minor": 0
      },
      "text/plain": [
       "  Tokens in chunk:   0%|          | 0/589 [00:00<?, ?it/s]"
      ]
     },
     "metadata": {},
     "output_type": "display_data"
    },
    {
     "data": {
      "application/vnd.jupyter.widget-view+json": {
       "model_id": "5f369ad886c54798bcd5232079757b6a",
       "version_major": 2,
       "version_minor": 0
      },
      "text/plain": [
       "  Tokens in chunk:   0%|          | 0/577 [00:00<?, ?it/s]"
      ]
     },
     "metadata": {},
     "output_type": "display_data"
    },
    {
     "data": {
      "application/vnd.jupyter.widget-view+json": {
       "model_id": "c62ba01a3a844110b4843e1d8c94ab67",
       "version_major": 2,
       "version_minor": 0
      },
      "text/plain": [
       "  Tokens in chunk:   0%|          | 0/546 [00:00<?, ?it/s]"
      ]
     },
     "metadata": {},
     "output_type": "display_data"
    },
    {
     "data": {
      "application/vnd.jupyter.widget-view+json": {
       "model_id": "4769ca569a0248d0a724ce668fccd2b8",
       "version_major": 2,
       "version_minor": 0
      },
      "text/plain": [
       "  Tokens in chunk:   0%|          | 0/453 [00:00<?, ?it/s]"
      ]
     },
     "metadata": {},
     "output_type": "display_data"
    },
    {
     "data": {
      "application/vnd.jupyter.widget-view+json": {
       "model_id": "7410437a436b4bb59e8de0319f50691e",
       "version_major": 2,
       "version_minor": 0
      },
      "text/plain": [
       "  Tokens in chunk:   0%|          | 0/505 [00:00<?, ?it/s]"
      ]
     },
     "metadata": {},
     "output_type": "display_data"
    },
    {
     "data": {
      "application/vnd.jupyter.widget-view+json": {
       "model_id": "7a1df5a6fb22411081dbd779e85a8389",
       "version_major": 2,
       "version_minor": 0
      },
      "text/plain": [
       "  Tokens in chunk:   0%|          | 0/453 [00:00<?, ?it/s]"
      ]
     },
     "metadata": {},
     "output_type": "display_data"
    },
    {
     "data": {
      "application/vnd.jupyter.widget-view+json": {
       "model_id": "fbb6383b51e74836a1e359ce1ad3ab16",
       "version_major": 2,
       "version_minor": 0
      },
      "text/plain": [
       "  Tokens in chunk:   0%|          | 0/568 [00:00<?, ?it/s]"
      ]
     },
     "metadata": {},
     "output_type": "display_data"
    },
    {
     "data": {
      "application/vnd.jupyter.widget-view+json": {
       "model_id": "8dd75684666148218698ffef169c5007",
       "version_major": 2,
       "version_minor": 0
      },
      "text/plain": [
       "  Tokens in chunk:   0%|          | 0/500 [00:00<?, ?it/s]"
      ]
     },
     "metadata": {},
     "output_type": "display_data"
    },
    {
     "data": {
      "application/vnd.jupyter.widget-view+json": {
       "model_id": "ac160acb0c3742c892bc1bb28121f8d3",
       "version_major": 2,
       "version_minor": 0
      },
      "text/plain": [
       "  Tokens in chunk:   0%|          | 0/511 [00:00<?, ?it/s]"
      ]
     },
     "metadata": {},
     "output_type": "display_data"
    },
    {
     "data": {
      "application/vnd.jupyter.widget-view+json": {
       "model_id": "518dceb0f3904fcd8e17e02c8b736b35",
       "version_major": 2,
       "version_minor": 0
      },
      "text/plain": [
       "  Tokens in chunk:   0%|          | 0/487 [00:00<?, ?it/s]"
      ]
     },
     "metadata": {},
     "output_type": "display_data"
    },
    {
     "data": {
      "application/vnd.jupyter.widget-view+json": {
       "model_id": "f403e93303a84701a81d89c3896c3fd4",
       "version_major": 2,
       "version_minor": 0
      },
      "text/plain": [
       "  Tokens in chunk:   0%|          | 0/456 [00:00<?, ?it/s]"
      ]
     },
     "metadata": {},
     "output_type": "display_data"
    },
    {
     "data": {
      "application/vnd.jupyter.widget-view+json": {
       "model_id": "4207b98d8631427ea7189fb213f6037d",
       "version_major": 2,
       "version_minor": 0
      },
      "text/plain": [
       "  Tokens in chunk:   0%|          | 0/465 [00:00<?, ?it/s]"
      ]
     },
     "metadata": {},
     "output_type": "display_data"
    },
    {
     "data": {
      "application/vnd.jupyter.widget-view+json": {
       "model_id": "fc0c6f3ccf694843a65835961513463d",
       "version_major": 2,
       "version_minor": 0
      },
      "text/plain": [
       "  Tokens in chunk:   0%|          | 0/514 [00:00<?, ?it/s]"
      ]
     },
     "metadata": {},
     "output_type": "display_data"
    },
    {
     "data": {
      "application/vnd.jupyter.widget-view+json": {
       "model_id": "a074c8509f1b4d95a6ffd8c058bac264",
       "version_major": 2,
       "version_minor": 0
      },
      "text/plain": [
       "  Tokens in chunk:   0%|          | 0/426 [00:00<?, ?it/s]"
      ]
     },
     "metadata": {},
     "output_type": "display_data"
    },
    {
     "data": {
      "application/vnd.jupyter.widget-view+json": {
       "model_id": "34af89c165024c09b43ab8f3ea6cde4e",
       "version_major": 2,
       "version_minor": 0
      },
      "text/plain": [
       "  Tokens in chunk:   0%|          | 0/537 [00:00<?, ?it/s]"
      ]
     },
     "metadata": {},
     "output_type": "display_data"
    },
    {
     "data": {
      "application/vnd.jupyter.widget-view+json": {
       "model_id": "3c60ea325fef47ffb4782a90a8c87651",
       "version_major": 2,
       "version_minor": 0
      },
      "text/plain": [
       "  Tokens in chunk:   0%|          | 0/494 [00:00<?, ?it/s]"
      ]
     },
     "metadata": {},
     "output_type": "display_data"
    },
    {
     "data": {
      "application/vnd.jupyter.widget-view+json": {
       "model_id": "d346595418dc4197be7f0157e4386ab7",
       "version_major": 2,
       "version_minor": 0
      },
      "text/plain": [
       "  Tokens in chunk:   0%|          | 0/600 [00:00<?, ?it/s]"
      ]
     },
     "metadata": {},
     "output_type": "display_data"
    },
    {
     "data": {
      "application/vnd.jupyter.widget-view+json": {
       "model_id": "03acc4003b4149e4bbb189140b6d76af",
       "version_major": 2,
       "version_minor": 0
      },
      "text/plain": [
       "  Tokens in chunk:   0%|          | 0/473 [00:00<?, ?it/s]"
      ]
     },
     "metadata": {},
     "output_type": "display_data"
    },
    {
     "data": {
      "application/vnd.jupyter.widget-view+json": {
       "model_id": "ad7f39f8df8542fea6f02b97555e3905",
       "version_major": 2,
       "version_minor": 0
      },
      "text/plain": [
       "  Tokens in chunk:   0%|          | 0/494 [00:00<?, ?it/s]"
      ]
     },
     "metadata": {},
     "output_type": "display_data"
    },
    {
     "data": {
      "application/vnd.jupyter.widget-view+json": {
       "model_id": "c35203f6cf314980bbea764eaa245b8c",
       "version_major": 2,
       "version_minor": 0
      },
      "text/plain": [
       "  Tokens in chunk:   0%|          | 0/495 [00:00<?, ?it/s]"
      ]
     },
     "metadata": {},
     "output_type": "display_data"
    },
    {
     "data": {
      "application/vnd.jupyter.widget-view+json": {
       "model_id": "e9a4784dc82e4a0a8601a8d5f40a0dde",
       "version_major": 2,
       "version_minor": 0
      },
      "text/plain": [
       "  Tokens in chunk:   0%|          | 0/442 [00:00<?, ?it/s]"
      ]
     },
     "metadata": {},
     "output_type": "display_data"
    },
    {
     "data": {
      "application/vnd.jupyter.widget-view+json": {
       "model_id": "715f03315dfc4367b315b5899e64d5b0",
       "version_major": 2,
       "version_minor": 0
      },
      "text/plain": [
       "  Tokens in chunk:   0%|          | 0/452 [00:00<?, ?it/s]"
      ]
     },
     "metadata": {},
     "output_type": "display_data"
    },
    {
     "name": "stdout",
     "output_type": "stream",
     "text": [
      "Total decoding time: 146.35 seconds\n"
     ]
    }
   ],
   "source": [
    "recovered_ids = decode_chunks_with_steering(\n",
    "    chunk_data, steering_ids, model)"
   ]
  },
  {
   "cell_type": "code",
   "execution_count": null,
   "metadata": {
    "id": "x-gSDKeflclH"
   },
   "outputs": [],
   "source": [
    "orig_ids = sum([entry['ids'] for entry in chunk_data], [])\n",
    "encoded_output = sum([entry['bits'] for entry in chunk_data], [])"
   ]
  },
  {
   "cell_type": "code",
   "execution_count": null,
   "metadata": {
    "colab": {
     "base_uri": "https://localhost:8080/"
    },
    "executionInfo": {
     "elapsed": 5,
     "status": "ok",
     "timestamp": 1751482698735,
     "user": {
      "displayName": "Yulia Yorkshirelove",
      "userId": "10480095246692972307"
     },
     "user_tz": -180
    },
    "id": "c7R9DeR-n2Bq",
    "outputId": "d2c72072-0568-4d35-acd2-c231bf60e7ce"
   },
   "outputs": [
    {
     "name": "stdout",
     "output_type": "stream",
     "text": [
      "✅  Совпадают полностью!\n"
     ]
    }
   ],
   "source": [
    "compare_sequences(orig_ids, recovered_ids)"
   ]
  },
  {
   "cell_type": "code",
   "execution_count": null,
   "metadata": {
    "colab": {
     "base_uri": "https://localhost:8080/"
    },
    "executionInfo": {
     "elapsed": 15,
     "status": "ok",
     "timestamp": 1751482698751,
     "user": {
      "displayName": "Yulia Yorkshirelove",
      "userId": "10480095246692972307"
     },
     "user_tz": -180
    },
    "id": "S_vueMfOn3V7",
    "outputId": "6946de69-cadc-4191-8cc6-683693eafe87"
   },
   "outputs": [
    {
     "name": "stdout",
     "output_type": "stream",
     "text": [
      "Исходный размер:   400000 бит\n",
      "Размер после сжатия: 66406 бит\n",
      "Коэффициент сжатия: 0.1660\n"
     ]
    }
   ],
   "source": [
    "compression_stats(data, encoded_output)"
   ]
  },
  {
   "cell_type": "code",
   "execution_count": null,
   "metadata": {
    "id": "y0eohcT1pOSY"
   },
   "outputs": [],
   "source": [
    "recovered_text = decode_text_from_ids(recovered_ids, tokenizer)"
   ]
  },
  {
   "cell_type": "markdown",
   "metadata": {
    "id": "34PaT157Loe7"
   },
   "source": [
    "## Статический soft‑prompt"
   ]
  },
  {
   "cell_type": "code",
   "execution_count": null,
   "metadata": {
    "id": "a1uLrdB7rRbW"
   },
   "outputs": [],
   "source": [
    "def create_soft_prompt(n_soft: int, model):\n",
    "    H = model.config.hidden_size\n",
    "    soft_prompt = nn.Parameter(torch.randn(n_soft, H, device=device))\n",
    "    return soft_prompt"
   ]
  },
  {
   "cell_type": "code",
   "execution_count": null,
   "metadata": {
    "id": "j6e6GuU9r2ZQ"
   },
   "outputs": [],
   "source": [
    "def encode_chunks_with_soft_prompt_and_embeddings(\n",
    "    data: bytes,\n",
    "    tokenizer,\n",
    "    model,\n",
    "    soft_prompt: torch.nn.Parameter,\n",
    "    total: int = 1 << 30,\n",
    "    chunk_size: int = 2000\n",
    "):\n",
    "    chunk_data = []\n",
    "    start_time = time.perf_counter()\n",
    "    max_pe = model.config.max_position_embeddings\n",
    "    n_soft = soft_prompt.shape[0]\n",
    "\n",
    "    sp = soft_prompt.unsqueeze(0)\n",
    "\n",
    "    for start in tqdm(range(0, len(data), chunk_size), desc='Encoding chunks'):\n",
    "        chunk = data[start:start + chunk_size]\n",
    "        text  = chunk.decode('latin-1')\n",
    "        ids   = tokenizer.encode(text, add_special_tokens=False)\n",
    "\n",
    "        enc = ArithmeticEncoder()\n",
    "        for i in tqdm(range(1, len(ids)), desc='  Tokens in chunk', leave=False):\n",
    "            history = ids[max(0, i - (max_pe - n_soft)):i]\n",
    "            input_ids = torch.tensor([history], device=device)\n",
    "            input_embeds = model.get_input_embeddings()(input_ids)\n",
    "            inputs_embeds = torch.cat([sp, input_embeds], dim=1)\n",
    "            attention_mask = torch.ones(inputs_embeds.shape[:2], device=device)\n",
    "\n",
    "            with torch.no_grad():\n",
    "                out = model(inputs_embeds=inputs_embeds, attention_mask=attention_mask)\n",
    "            step_logits = out.logits[0, -1]\n",
    "            probs = torch.softmax(step_logits, dim=-1).cpu().numpy()\n",
    "            cdf = probs_to_cdf_int(probs, total)\n",
    "            token_id = ids[i]\n",
    "            enc.update(cdf[token_id], cdf[token_id + 1], total)\n",
    "\n",
    "        enc.finish()\n",
    "        chunk_data.append({'ids': ids, 'bits': enc.out})\n",
    "\n",
    "    encoding_time = time.perf_counter() - start_time\n",
    "    print(f\"Total encoding time: {encoding_time:.2f} seconds\")\n",
    "    return chunk_data\n"
   ]
  },
  {
   "cell_type": "code",
   "execution_count": null,
   "metadata": {
    "id": "rMArAoUL915y"
   },
   "outputs": [],
   "source": [
    "def decode_with_soft_prompt(\n",
    "    chunk_data,\n",
    "    model,\n",
    "    soft_prompt: torch.nn.Parameter,\n",
    "    total: int = 1 << 30\n",
    "):\n",
    "    start_time = time.perf_counter()\n",
    "    all_rec = []\n",
    "    max_pe = model.config.max_position_embeddings\n",
    "    n_soft = soft_prompt.shape[0]\n",
    "    sp = soft_prompt.unsqueeze(0)\n",
    "\n",
    "    for entry in tqdm(chunk_data, desc=\"Decoding chunks\"):\n",
    "        ids  = entry['ids']\n",
    "        bits = entry['bits']\n",
    "        dec  = ArithmeticDecoder(bits)\n",
    "\n",
    "        rec = [ids[0].item() if hasattr(ids[0], 'item') else ids[0]]\n",
    "        for i in tqdm(range(1, len(ids)), desc='  Tokens in chunk', leave=False):\n",
    "            hist = rec[max(0, i - (max_pe - n_soft)):i]\n",
    "            input_ids = torch.tensor(hist, dtype=torch.long, device=device).unsqueeze(0)\n",
    "            embeds = model.get_input_embeddings()(input_ids)\n",
    "            inp_emb = torch.cat([sp, embeds], dim=1)\n",
    "            attn_mask = torch.ones(inp_emb.shape[:2], device=device)\n",
    "\n",
    "            with torch.no_grad():\n",
    "                out = model(inputs_embeds=inp_emb, attention_mask=attn_mask)\n",
    "            logits = out.logits[0, -1]\n",
    "            probs  = torch.softmax(logits, dim=-1).cpu().numpy()\n",
    "            cdf    = probs_to_cdf_int(probs, total)\n",
    "            rec.append(dec.decode(cdf, total))\n",
    "\n",
    "        all_rec.extend(rec)\n",
    "\n",
    "    decoding_time = time.perf_counter() - start_time\n",
    "    print(f\"Decoding done in {decoding_time:.2f}s\")\n",
    "    return all_rec"
   ]
  },
  {
   "cell_type": "code",
   "execution_count": null,
   "metadata": {
    "id": "xYFDO__trWzp"
   },
   "outputs": [],
   "source": [
    "soft_prompt = create_soft_prompt(200, model)"
   ]
  },
  {
   "cell_type": "code",
   "execution_count": null,
   "metadata": {
    "colab": {
     "base_uri": "https://localhost:8080/",
     "height": 66,
     "referenced_widgets": [
      "a7d67e8c1e2c425e8a2eb8699d2833e7",
      "a5dcc1a02f8042889d4a1c96036e4f08",
      "f446095091d9466396b791d7280ccd85",
      "6684d4e656d04a27b4f49222c02e0868",
      "045791dac81e435590df50fd54322ab5",
      "cd8401147d104a63aae650ae94efc88e",
      "bcc59c816c7f4bbabdfa4cb2963adaa6",
      "8c6bfac522ae42639c28e11d27b699fb",
      "f119834d1b614fb38800e698b2d7faf9",
      "1983bb67fd614d108c1ba657b59db343",
      "04a3a8f745ca438e983e0c3b1846e627",
      "578750923e214dbc980f8701df7ad3e0",
      "f3574af4118046a296ec041a21ebe24f",
      "ad690e56a6c24050812a21ee7bdeccc7",
      "7926e86459064b68923ab0e7a95ed2f4",
      "3402ed35458c489981e9725ba8901ff6",
      "5f76bbd762e44ed88a8da2508a04ddb2",
      "d04b103a179141bfb2d5f141c1b049e0",
      "d6536a9d22b647aeb78e1a542e02b30e",
      "507f92f8c9174ddd972685f070633cf5",
      "c034a2b9ca74403e98b3c6469e64a7d4",
      "2c904d40928747c9aa71642cd3a968d1",
      "f0d682f8cd434fd385c3b0b597c09697",
      "6777a214c4c44664859b6fdffae66263",
      "b477a6de1c8045c6a26ef66e20d7e159",
      "71003c37b8534c2d9a0a5498fabbf2e2",
      "11f8cd2cac5641db8e38c2d19343cd88",
      "c56d4dde2bf84af1a97fe551e5f75503",
      "90e4fc103aad4a3b84152299fd8b2064",
      "cc1090906720427a83a8ef36fa0bf052",
      "d33fb91781434bbc8fc4679b5afbd593",
      "660286d92c3c46f7bbd8bed145d8f64e",
      "0d785cd9706f41978a394d8020d1e27e",
      "41c0c45b65c64335a6b6b48c916cad3f",
      "8c4d8e70b34b40bdbc43a9ecb114f4eb",
      "db7e863b49ff4947af91b0933712bd18",
      "09c8e5838f604ef9b7b0e627f1f79c42",
      "1b6ed9be9d8e40938f6cb06385f6e1a1",
      "b63b1171dbda44658ab81453bd7e0b81",
      "f37eb54a92304766b1cae22c7d84fd70",
      "3279b047189e4de18dbab835df37c199",
      "4dff1881304849b2a13ed7a3b287fa80",
      "ce8fa0aacbfe490389e70680a6915594",
      "b808e7e883324aefb6ccbb210645064c",
      "3a7ee136e7e24f1d8188983d1cd51a93",
      "016b89d88edd40c486b90821e6cd3311",
      "4fe44620346440819c72b243beadbdea",
      "f9ff6e4e84734451b3d98009649b61e4",
      "5c83f060812241f188e24ccdc4ded84b",
      "f1caa19aa5814a66be225ff795921300",
      "1a426e7cf8ad49d5958f3a9e852274d4",
      "2da8f9a2b3a0495b9c7d6961360ce939",
      "376313ac8dc9431ab11f75de5fc4edf3",
      "a8b9ea162c1a40499160ecbac0738be8",
      "c191d93e39114979b306d4562bda3161",
      "767c2c8cfa83457483e03dbdd0839f8d",
      "39a396810b684948b814680642040bcd",
      "a77484b344b04587bc99961238b10491",
      "bbebbe208f674a109cf9a8b9a2536262",
      "e6801cc6695b4d4ca630250faca60239",
      "a60e040799cb4bea8f2b7802c811bd8e",
      "e6e992a9a4dc43b798950a5779ac4f13",
      "a57a9890a0f84d7eab718f256fdd0789",
      "b52338dd41134eed8240653040154135",
      "457fa18ff5a141b1bb39a516c5384f6b",
      "f87eb473a19442249d5e79d5c3a3ecbf",
      "e80eda0e2bae4eab80a39b2ed9a94b6b",
      "12c9eee8d7ae4d52b747380e484c7c22",
      "82b39e6f505b4d9db834796b9849732d",
      "6f0a7c2d480743389f99a10d260ee0a8",
      "e44c85fd25784bc68adbc3763bde0555",
      "a0b6f529a7ea48fcb534fc7fb7c10956",
      "5bcaf26e24344131ae8c81ff90ce2159",
      "e660dceae01e4dd69b9094aa534db009",
      "d896d345731249a1babd5fecee73799b",
      "93b64997a81b447b82b441d31cca10f9",
      "9e22426f4c47460da5a20ac338f37b5a",
      "507a4241af5e48338d380bb11501def9",
      "9b719c1c08854eef9cee2d56d49f10ae",
      "07d0f3aef97f45708e2dc3ac6253c717",
      "a6dcdc1ae6d442ff9b8fbd0daea29ed5",
      "7bfb4582386e483c895fd3214a421ec4",
      "3a83c10292da47c590950ca31b5e08b6",
      "fdbbc75797ce4ebaa4595124fe3f0751",
      "d92ba4810ce941c9aa9452b693eb828e",
      "72055f42fe8648699fd2250c6a31c901",
      "cbabeacb05eb4c57ac5bf07b7045bddd",
      "b4e145fe82214a4bbc8d499a7b96dbdd",
      "36fd0a8fcf384385bac75cdab075643d",
      "9db4e06259db4e9abc246cdf69af5731",
      "45fc6cfcc6d94879925d9b4049e0b19d",
      "0b061551751648ecbc249ddd6828fcd0",
      "1ff206b41cd54ad49eec4e4ae3acd2da",
      "49d10f28c63a445786b9d389643dfba5",
      "c234e7cd2b024a898a36914ac7473a6c",
      "e2d53145696548cc8f75a1379390f085",
      "cab28d151d3b4a70a09b1d8323b623ed",
      "6a7d5621f60a440b991a12dbfad86448",
      "ca0b9f85a76246c9b65a6b83911dd020",
      "d53c669ec1b243cd87b5f268822e9b39",
      "d5835a29feb449118190893119ddd54b",
      "93320c5de5524bc8993bd84bb743e2ab",
      "366789b98d8943f2a990e3e2f11b2933",
      "30f6dd7c3c734123a4ba96eb053e322a",
      "8b7e49c92770432bbb0f1e5f47ba601e",
      "0b5cf616dca04d5e9c157446abc66fa2",
      "570cc3f9daaf41988b2dca1665382e9b",
      "2e72b026bdc04218ad81f54a48dbc6b0",
      "6bdcb0eb0086436594fc3bf59cae5a38",
      "6e1c78238c004052a8550d3583761a57",
      "201995f4457149f5bdb787a87f4885c7",
      "6edfdce322b84a5eb2a02ec18ab28447",
      "0fe2dafa66ac488cb741b7e9a47f64ea",
      "48d1c3263dbf44209e7bae6a7b0e4e50",
      "a57bd3b9019c4c34aab2f909244679b5",
      "6e27ed9787cc4911a9aac5e4c7e04b3f",
      "3d3723a395af4c539f75552502105295",
      "251e35661be540d586324d69ffba61fb",
      "086a53af1e58449ebd4c7dffb2744127",
      "9bc0f28bc3b141c0a0ab13de2ae153e2",
      "455d9e68622f4a4ab36228925ec953d3",
      "c01c69a66df3442cb8a5b39076e174df",
      "e34966e66fb4411095288c23468d3b01",
      "45c1a7a91b4a4185a641415265547ef7",
      "58ab9b8fa0ab47fd9daed6de8beebeb0",
      "cd11bfeced684c2fb7fa8d7dbf62ec19",
      "84593bcbecd54fbdae7ea127fcde3fc6",
      "dddb6ce039c8479f90ac30dc67db4779",
      "fbd00d6fd8d04409b9156a23f44d9fcf",
      "e32217632dc54ab5abc190cb34ae09b3",
      "5fd51cc2114d44999911bbad78c16942",
      "59126f9c999a4af18bddc9f47a1be3e8",
      "92381882a5cc403fad4aacc220b912eb",
      "69f0c8dd80894bd6b145a641692067af",
      "be919e157fc3413daa62dd0885ec220f",
      "31d010b1ca7d498d9003ff3583e4163e",
      "49d7565601894c0eb020fb3f685244f4",
      "80634384fb9441b2a83689979cdf2187",
      "2468e92c869c4717aba1e548e7ba9d67",
      "7d96e3603a7f42ff9cec15d726e1c3ce",
      "86d50d2c2959489a9e312c0c067613ff",
      "dd1e3aa5c9704cf0b73a752f1c71c9b4",
      "01c99ddf7e9145028d8f2a3a50d88ac5",
      "34508a48aaca43c9a9cfab71ffc0f91a",
      "4c4953145a9e45d6becd7e37f2014f2e",
      "1ee89fd9c28a445ea3443aa18cebdcf2",
      "a59d5ed68d874f5ea694f3841822b0e7",
      "c9d9867832674e5187dc9aee5cfd9319",
      "8a7f5dd5f404496b9b2bdb31c1540c3f",
      "652559b971614676966e9ad3ae8aa17a",
      "ff1f82df46fc4e2f804442ddeef6b8f7",
      "82cc72181ac74c1484670d0656ee4643",
      "d3139c21379b4d2db8ce79541137df7d",
      "89c3f6f17ddd4c18a2fda0c6388fd908",
      "603c0d6b9354449aa7a017a3feeb1af6",
      "f42abe29ff09472d84b7a599a0ba7ded",
      "fdb69a02ebda491cbbdbe73c95551944",
      "58ac5a20fc8f4239943a9884af21be2a",
      "ce9f4ad05eca4c85815a0ed4d7117cd1",
      "316fe4532d5c458cbe4aab4db8728728",
      "46b0e6d06f664f509362e6547e681113",
      "7ea876f523eb42cfb0e23b04b5c73b67",
      "961f8c7bdff54ed4b27e41f8a2008e50",
      "664961d7c4024f0293e1a7649d0b6fc2",
      "7418a2ea22154d619ff0efa50dc482f2",
      "53cc7a5b9ed44547aab5e660075bf1c4",
      "09177e10b0654b8bbf3d993e5e38a913",
      "02ec2d96aa2949638f50574268c8c9d0",
      "9131350119e44847ae4c6913fd7bfce5",
      "bebdce0a865b42d0bf59d30458368c3e",
      "06b39497c221427580f451810b694991",
      "cd0d55bf1aa549a68e889ba3140d89f4",
      "99afeba8974b4de49da8a87e435dab0e",
      "3f92d7a449ef49c681bea4ba752c99dc",
      "a0af4a12724e4fd2b0c023b18a63d057",
      "92978652ff3e4a6aa82a30658e6c8fc5",
      "4aef5db70e984e0cb340c817ccd52ac9",
      "00fb1de8ba8446c688b83b870cc4f292",
      "1e167e5c89ec4c42a9697f4c7ed7873d",
      "fcae36d5ba564924abc5382d6e10b9c7",
      "f747554eb031419e8cf082b03953aa29",
      "14ff99fb5e3b4768913f958913f06f7f",
      "c4c292475abf4e5ab50eec107af418a0",
      "d4cbd107517944f197ce1a0e7c036e51",
      "3a60549bafb0487cba275843f0d41d43",
      "bbe0b7db21ef40cea689ad9f5a86a7b8",
      "2bdf08f490c845d6acc19c5f7f6b83b3",
      "bbc57116393f494ea9a2438bc855afc6",
      "96c635c96a4a4201b5ebe448cf62e334",
      "6722f0a462d442968a08921dc2b1297a",
      "645a0777f35a43b1b7b7b7f96e7eb852",
      "3f71fc18b24e4740a3356bba77f4394b",
      "96a944d1bda242d6b59eb7d40cd2daab",
      "3ea3a0097c2d45ea8aa9b996b920e0ba",
      "f3a0853e1f3649d7b9ea2e342ebd2fad",
      "7b3a323930ee4d92a3530f764d510f3f",
      "bbca1174ef304793b108593e20658a23",
      "7f4627c81d4b472ea44ccef2c114a90b",
      "195c862745304e1e98b8a7a943c0f7bb",
      "3aedbc4ba7da4d5988ab97502b5b1799",
      "4624307e223c4c25bbfe78abfcbb946e",
      "5d5cfd045f2e4fcd9664697f0c9a5152",
      "8b376b99b30746d58c2cec2d97b1ff63",
      "5fff13e1e3e946eb8af0815250f0ece6",
      "48d36da10e754b628883310feefeb4ae",
      "e61cbd3f770a4c8a9da6060ea520e76e",
      "ceef5636ca204810b5c4437c61560fc0",
      "a3f35d4e274d4ad4a88e617f18797914",
      "ed840131e68e461ba2d3767f1f8bc849",
      "734452a1adcf402bbecd7ef37605678b",
      "879b83ccb49c4be9bd29ea7cdec15869",
      "813a38d7bd26499ea5cf881c0ba8dc1b",
      "be0db6429609473ab970e599126cb80d",
      "028d3015b17e46da9e060ef710997fdc",
      "ebaa7118d3784c67ade2aae15b397201",
      "9fd402b06b2540b0b1bbad0014c9f36e",
      "bad201636d5e4d01ac4f2fa15e934e24",
      "d7ec2db9da2a44f691c2540227e549e4",
      "c1e000c5f3d441aeba12d871944cfec9",
      "b1967f88f756488798a07c76d23b658e",
      "b4220fd21d1a4593b194f98419364496",
      "40187134051c4a46938ee8b1e5e5e03d",
      "ca168cd43e004209bfe6bbac7fc95e04",
      "6ec24ff6ba0248cf965b781c326a2e82",
      "3a96d824538b4e338d74f422aed340b0",
      "e5dc8401941d4e9d896bdb2635951b07",
      "20e0198e77504d2780bcd4c54be7e62f",
      "80ac526760cc4a11b6770597bb5818cb",
      "44b98293a6e74f4888596542baaa61f6",
      "598e811741a748e58a0b6e302ed658f8",
      "2cb41478b6d746a08023e8d0262b6bb7",
      "3b3eb11fec2d4d44a802f9a1a54da3ef",
      "ebe9a86d953848f7bc56191c37e04173",
      "fe8ecb467b4d41c2ab14af82ab5eb4b7",
      "14fade13923c4e6b9df13f75522d944c",
      "afcfc132afeb4695b104fd1bd056fd17",
      "fbcf1f96b0a048e6b0f154d9787723ba",
      "3d7aecad66504f05ac5d37f980730bd3",
      "fa59e56c5a3940f8954325090fc00f26",
      "5d467ce1618049afa29e46b49dcc10d5",
      "1cb77b6647dc4598aa818e0bb89e0c85",
      "b3a32116811d407080d816929ae45135",
      "46b4993075654171a74a12ce2f8f1a4a",
      "337b950c825946ad867094ec1ac6d2da",
      "383fa13fec904921b0812fc99baec5a2",
      "bd8d0d904ce44a8bafcd75fe90df103b",
      "94931aafd99f40f2a3f97ab3cb033364",
      "9ace29599d8a46e898985cf9f5847925",
      "61e34e5e63614d1aa1900d36fecaa8d1",
      "54fc0463a8c0477e9f865fcec9835848",
      "87de39ca5b3a4819a63c52b387722c15",
      "7200eeca81fb4a00881bcc94b5503a50",
      "050ab6f742304ed6984edb000e1a505d",
      "590ba6749ad94462a77bc90af62c0b27",
      "e97a1fcca28c4b4da9ed447bdf762325",
      "4f636260b4de4391940c0f41b3a31f1e",
      "f28c9ce3bdd9404286b72f9f9a8bd264",
      "f0852bc669494aa8a6b59e48350474b7",
      "2bb4121ff0ad4bd78491455f06048673",
      "b98c641773b74a29a5d04be0dacb9148",
      "ca5a4f7c6e044e7aaf9a57310c86812b",
      "484bec2f05dc438f97e7b8a0dd282a6a",
      "94f0961a804449968f77ff3edccef067",
      "549dff3fb95a477ca68e8037146ca587",
      "805921704bb449f0bc9af3589d315b9c",
      "b3edc01842e2460e97e6d3f28552a16a",
      "4e87fee72eae4f9c813884edfdb7ccea",
      "3be4c39722be4e1888b334883153245d",
      "eed5f5107f164c5194694bc6135d9a14",
      "280c0d80ce894e59a87abf79c475aafe",
      "933dcf32516b465d97b1818dfd9f7a8e",
      "e29c6075e48a492e8b160c2c0873cd79",
      "1c71c72cd7e24c278796cd5a7f3b3a9b",
      "4b8bb1d8b0a64dc69a7cbad0220ae58b",
      "66022d22749e491f82032e8b775e5051",
      "f43c35fe508c443ab519212191ea3f99",
      "985bc021be5641c7b7c73e3f968eaa1a",
      "3527d5dd81c44339a75dc1219fc458ec",
      "f9a87a1fd7cf4092b01f886ce48d93ae",
      "051e4c058d564d428a5c4f9f768ea5eb",
      "a127ad31c3c94a56b6f598ffeec3ed61",
      "a7a61548143c4797a430f621c7ab4638",
      "2868422b16344dad83ea1b8a66d56521",
      "6fe2541257e04cb483afa1b7bdad3a94",
      "f6ade022eff641ca899b54d980201456",
      "d77e8e02f3c74ec1b4c47a6512c126b5"
     ]
    },
    "executionInfo": {
     "elapsed": 197468,
     "status": "ok",
     "timestamp": 1751483302274,
     "user": {
      "displayName": "Yulia Yorkshirelove",
      "userId": "10480095246692972307"
     },
     "user_tz": -180
    },
    "id": "V4pQygxdxRgy",
    "outputId": "33a968c6-9eda-44ff-e54a-d06d43821293"
   },
   "outputs": [
    {
     "data": {
      "application/vnd.jupyter.widget-view+json": {
       "model_id": "a7d67e8c1e2c425e8a2eb8699d2833e7",
       "version_major": 2,
       "version_minor": 0
      },
      "text/plain": [
       "Encoding chunks:   0%|          | 0/25 [00:00<?, ?it/s]"
      ]
     },
     "metadata": {},
     "output_type": "display_data"
    },
    {
     "data": {
      "application/vnd.jupyter.widget-view+json": {
       "model_id": "578750923e214dbc980f8701df7ad3e0",
       "version_major": 2,
       "version_minor": 0
      },
      "text/plain": [
       "  Tokens in chunk:   0%|          | 0/668 [00:00<?, ?it/s]"
      ]
     },
     "metadata": {},
     "output_type": "display_data"
    },
    {
     "data": {
      "application/vnd.jupyter.widget-view+json": {
       "model_id": "f0d682f8cd434fd385c3b0b597c09697",
       "version_major": 2,
       "version_minor": 0
      },
      "text/plain": [
       "  Tokens in chunk:   0%|          | 0/732 [00:00<?, ?it/s]"
      ]
     },
     "metadata": {},
     "output_type": "display_data"
    },
    {
     "data": {
      "application/vnd.jupyter.widget-view+json": {
       "model_id": "41c0c45b65c64335a6b6b48c916cad3f",
       "version_major": 2,
       "version_minor": 0
      },
      "text/plain": [
       "  Tokens in chunk:   0%|          | 0/572 [00:00<?, ?it/s]"
      ]
     },
     "metadata": {},
     "output_type": "display_data"
    },
    {
     "data": {
      "application/vnd.jupyter.widget-view+json": {
       "model_id": "3a7ee136e7e24f1d8188983d1cd51a93",
       "version_major": 2,
       "version_minor": 0
      },
      "text/plain": [
       "  Tokens in chunk:   0%|          | 0/589 [00:00<?, ?it/s]"
      ]
     },
     "metadata": {},
     "output_type": "display_data"
    },
    {
     "data": {
      "application/vnd.jupyter.widget-view+json": {
       "model_id": "767c2c8cfa83457483e03dbdd0839f8d",
       "version_major": 2,
       "version_minor": 0
      },
      "text/plain": [
       "  Tokens in chunk:   0%|          | 0/577 [00:00<?, ?it/s]"
      ]
     },
     "metadata": {},
     "output_type": "display_data"
    },
    {
     "data": {
      "application/vnd.jupyter.widget-view+json": {
       "model_id": "e80eda0e2bae4eab80a39b2ed9a94b6b",
       "version_major": 2,
       "version_minor": 0
      },
      "text/plain": [
       "  Tokens in chunk:   0%|          | 0/546 [00:00<?, ?it/s]"
      ]
     },
     "metadata": {},
     "output_type": "display_data"
    },
    {
     "data": {
      "application/vnd.jupyter.widget-view+json": {
       "model_id": "507a4241af5e48338d380bb11501def9",
       "version_major": 2,
       "version_minor": 0
      },
      "text/plain": [
       "  Tokens in chunk:   0%|          | 0/453 [00:00<?, ?it/s]"
      ]
     },
     "metadata": {},
     "output_type": "display_data"
    },
    {
     "data": {
      "application/vnd.jupyter.widget-view+json": {
       "model_id": "36fd0a8fcf384385bac75cdab075643d",
       "version_major": 2,
       "version_minor": 0
      },
      "text/plain": [
       "  Tokens in chunk:   0%|          | 0/505 [00:00<?, ?it/s]"
      ]
     },
     "metadata": {},
     "output_type": "display_data"
    },
    {
     "data": {
      "application/vnd.jupyter.widget-view+json": {
       "model_id": "d53c669ec1b243cd87b5f268822e9b39",
       "version_major": 2,
       "version_minor": 0
      },
      "text/plain": [
       "  Tokens in chunk:   0%|          | 0/453 [00:00<?, ?it/s]"
      ]
     },
     "metadata": {},
     "output_type": "display_data"
    },
    {
     "data": {
      "application/vnd.jupyter.widget-view+json": {
       "model_id": "201995f4457149f5bdb787a87f4885c7",
       "version_major": 2,
       "version_minor": 0
      },
      "text/plain": [
       "  Tokens in chunk:   0%|          | 0/568 [00:00<?, ?it/s]"
      ]
     },
     "metadata": {},
     "output_type": "display_data"
    },
    {
     "data": {
      "application/vnd.jupyter.widget-view+json": {
       "model_id": "c01c69a66df3442cb8a5b39076e174df",
       "version_major": 2,
       "version_minor": 0
      },
      "text/plain": [
       "  Tokens in chunk:   0%|          | 0/500 [00:00<?, ?it/s]"
      ]
     },
     "metadata": {},
     "output_type": "display_data"
    },
    {
     "data": {
      "application/vnd.jupyter.widget-view+json": {
       "model_id": "92381882a5cc403fad4aacc220b912eb",
       "version_major": 2,
       "version_minor": 0
      },
      "text/plain": [
       "  Tokens in chunk:   0%|          | 0/511 [00:00<?, ?it/s]"
      ]
     },
     "metadata": {},
     "output_type": "display_data"
    },
    {
     "data": {
      "application/vnd.jupyter.widget-view+json": {
       "model_id": "34508a48aaca43c9a9cfab71ffc0f91a",
       "version_major": 2,
       "version_minor": 0
      },
      "text/plain": [
       "  Tokens in chunk:   0%|          | 0/487 [00:00<?, ?it/s]"
      ]
     },
     "metadata": {},
     "output_type": "display_data"
    },
    {
     "data": {
      "application/vnd.jupyter.widget-view+json": {
       "model_id": "603c0d6b9354449aa7a017a3feeb1af6",
       "version_major": 2,
       "version_minor": 0
      },
      "text/plain": [
       "  Tokens in chunk:   0%|          | 0/456 [00:00<?, ?it/s]"
      ]
     },
     "metadata": {},
     "output_type": "display_data"
    },
    {
     "data": {
      "application/vnd.jupyter.widget-view+json": {
       "model_id": "53cc7a5b9ed44547aab5e660075bf1c4",
       "version_major": 2,
       "version_minor": 0
      },
      "text/plain": [
       "  Tokens in chunk:   0%|          | 0/465 [00:00<?, ?it/s]"
      ]
     },
     "metadata": {},
     "output_type": "display_data"
    },
    {
     "data": {
      "application/vnd.jupyter.widget-view+json": {
       "model_id": "4aef5db70e984e0cb340c817ccd52ac9",
       "version_major": 2,
       "version_minor": 0
      },
      "text/plain": [
       "  Tokens in chunk:   0%|          | 0/514 [00:00<?, ?it/s]"
      ]
     },
     "metadata": {},
     "output_type": "display_data"
    },
    {
     "data": {
      "application/vnd.jupyter.widget-view+json": {
       "model_id": "bbc57116393f494ea9a2438bc855afc6",
       "version_major": 2,
       "version_minor": 0
      },
      "text/plain": [
       "  Tokens in chunk:   0%|          | 0/426 [00:00<?, ?it/s]"
      ]
     },
     "metadata": {},
     "output_type": "display_data"
    },
    {
     "data": {
      "application/vnd.jupyter.widget-view+json": {
       "model_id": "195c862745304e1e98b8a7a943c0f7bb",
       "version_major": 2,
       "version_minor": 0
      },
      "text/plain": [
       "  Tokens in chunk:   0%|          | 0/537 [00:00<?, ?it/s]"
      ]
     },
     "metadata": {},
     "output_type": "display_data"
    },
    {
     "data": {
      "application/vnd.jupyter.widget-view+json": {
       "model_id": "734452a1adcf402bbecd7ef37605678b",
       "version_major": 2,
       "version_minor": 0
      },
      "text/plain": [
       "  Tokens in chunk:   0%|          | 0/494 [00:00<?, ?it/s]"
      ]
     },
     "metadata": {},
     "output_type": "display_data"
    },
    {
     "data": {
      "application/vnd.jupyter.widget-view+json": {
       "model_id": "b4220fd21d1a4593b194f98419364496",
       "version_major": 2,
       "version_minor": 0
      },
      "text/plain": [
       "  Tokens in chunk:   0%|          | 0/600 [00:00<?, ?it/s]"
      ]
     },
     "metadata": {},
     "output_type": "display_data"
    },
    {
     "data": {
      "application/vnd.jupyter.widget-view+json": {
       "model_id": "3b3eb11fec2d4d44a802f9a1a54da3ef",
       "version_major": 2,
       "version_minor": 0
      },
      "text/plain": [
       "  Tokens in chunk:   0%|          | 0/473 [00:00<?, ?it/s]"
      ]
     },
     "metadata": {},
     "output_type": "display_data"
    },
    {
     "data": {
      "application/vnd.jupyter.widget-view+json": {
       "model_id": "46b4993075654171a74a12ce2f8f1a4a",
       "version_major": 2,
       "version_minor": 0
      },
      "text/plain": [
       "  Tokens in chunk:   0%|          | 0/494 [00:00<?, ?it/s]"
      ]
     },
     "metadata": {},
     "output_type": "display_data"
    },
    {
     "data": {
      "application/vnd.jupyter.widget-view+json": {
       "model_id": "590ba6749ad94462a77bc90af62c0b27",
       "version_major": 2,
       "version_minor": 0
      },
      "text/plain": [
       "  Tokens in chunk:   0%|          | 0/495 [00:00<?, ?it/s]"
      ]
     },
     "metadata": {},
     "output_type": "display_data"
    },
    {
     "data": {
      "application/vnd.jupyter.widget-view+json": {
       "model_id": "805921704bb449f0bc9af3589d315b9c",
       "version_major": 2,
       "version_minor": 0
      },
      "text/plain": [
       "  Tokens in chunk:   0%|          | 0/442 [00:00<?, ?it/s]"
      ]
     },
     "metadata": {},
     "output_type": "display_data"
    },
    {
     "data": {
      "application/vnd.jupyter.widget-view+json": {
       "model_id": "f43c35fe508c443ab519212191ea3f99",
       "version_major": 2,
       "version_minor": 0
      },
      "text/plain": [
       "  Tokens in chunk:   0%|          | 0/452 [00:00<?, ?it/s]"
      ]
     },
     "metadata": {},
     "output_type": "display_data"
    },
    {
     "name": "stdout",
     "output_type": "stream",
     "text": [
      "Total encoding time: 197.45 seconds\n"
     ]
    }
   ],
   "source": [
    "chunk_data = encode_chunks_with_soft_prompt_and_embeddings(\n",
    "    data, tokenizer, model, soft_prompt)"
   ]
  },
  {
   "cell_type": "code",
   "execution_count": null,
   "metadata": {
    "colab": {
     "base_uri": "https://localhost:8080/",
     "height": 66,
     "referenced_widgets": [
      "8c16a20ed5024df18972ed10a555ecfa",
      "8a1a3e8a000d4c1eafe30f546b4f8984",
      "10ac9a3b21a64aeeb01d2423be6e68ec",
      "b5068a005eb74e6b95ef651b38f48f76",
      "ac4e7638320c4359834d81e25c908d11",
      "c7081161b2014270a331e1d2c338ceff",
      "5bdfb465be3444379fdf2703f8461d36",
      "93a3be3d85564632a6d6018b1ea4acf5",
      "6aeda66689c349219675cf0d40c12689",
      "34b44cd23a344e9ab902ce4d1c99c8e6",
      "da078ca21a6f4ee08db0bb41f905cae6",
      "915d5a23aba643b9af0724a8ce35fbab",
      "6e3415cc75524bb98050df5549ebcddf",
      "aa56ac4e68674c3ead1b25b10f1c052d",
      "ef08d2474bf748ee825d2895415bfd7d",
      "8351bca9b43e482bbff34497ea703a57",
      "529e46cb9cbc4827b600e8ae8c178ccb",
      "abf669cbbbb24230b7c9618274fcac4f",
      "5a600f30772f424396ce30aed6ff26a4",
      "1149fdd72bde484fb8b58cd995faa6d7",
      "87cd603e3f8b4cc49f7c8952451d4003",
      "9d76e9ed1459499abc165e4f7fa9c80d",
      "712355d7931945d2b4824e68f4f76757",
      "fb08500f4a0c4b7f8ce02e6c806244c7",
      "de0cf86ea863432b8fe9d44376ce9d9d",
      "8bef8f6425ca421fb962ac9e374548c0",
      "c98f47d8a94e4172a1aa908296f63d57",
      "2f0b6860e1c54ed0a1fd3564b005ed50",
      "01213b0dd4ce4c8a8ba0a1ef5812df91",
      "2de7c1c2fd83489596c8f5d8a798453e",
      "82011204d06c4e6385046864f48ff556",
      "57ea5a9370844082bdcbdf124a199ef2",
      "62d3fd9563e24fa087c6fcead3aff32e",
      "6d84699ec22949bfa68ae53ae63d0531",
      "d29fcfe90e66408a995fad35883e932b",
      "9dcaf5dd0cb348bbade9e7e8d1840148",
      "d811731e2dd14debaf8c042acb7b0ba4",
      "43a56a80c55444fab78da1877dd66412",
      "90b637451f1d4affad989d6c340c0edb",
      "1b8e51e3fb2646689b0875017421af81",
      "06a3c94a628742d790e7c0aa5e9ebcca",
      "120db52100334ef88a02619bd0c2b47a",
      "c05f0e76f09e48689cd8538a50ac1f9e",
      "d9173527f18f463dad78e97408aa6b01",
      "00965c18be7e4b44b58a3d3111bb7932",
      "b4a22c1556f04127948f0d8c6c1a8a12",
      "74f1e5d643c1436384475b37430570f1",
      "eb966b4904de4575bd36b157732a35d8",
      "97728b50274f4478b276d1ff1a451418",
      "5b8ec22464ba4587b76a2da79513648e",
      "10688e078df3405aba68f919ce40c81b",
      "0a6a16f1168142209f0e037d3ed553b3",
      "d23872bc272d4ad381ad911e1c2f6ea7",
      "b0d7a8b1843641bb954b85292c38dfba",
      "10d86b36e1644f609eea32f2176d6204",
      "6ec9e1ab1a8244c1b5d3352502d78058",
      "1d6430669fbf457abc3a2b1759cc9bde",
      "187afec584454581804963f13ac6a3e5",
      "61d2b6177d2c4e20a803f7856363b14f",
      "e9af9e22e7f94fefa5c6112d5e415e17",
      "08de8ca61a2e465ca8c7340d4d57124b",
      "85af13ec5df34789ade46aab16513dc1",
      "bc14063dc75a4b23abf58ed0dd43b663",
      "a466185e288b4cef8ce771dee17359c4",
      "e9bd30f66d104d17baa05d94604b882c",
      "55038ae8b53f4e89873449693bb225dc",
      "f50a8c0c2f614200a696e504b8668bc0",
      "896f6c2a3200468bb54fb87596c0a4df",
      "2246cdaa3bf3454fa7941b1a5d0460ff",
      "512dcc31aa9642ed95e44adc82008b20",
      "5371b021de5a47fba2fbebc899193676",
      "90a2475ed7084566bd0bd946115049f4",
      "d4d1b5b8ed2943099d72ab9aa998d4c3",
      "dc075935363e49c9933f319ce8862fb2",
      "a11634d45b0940d79105f3ee61dce271",
      "fc3de96ac76f4d278fec82298c5c9f16",
      "e44d0fc1c23d43b18598248d2d9f04c1",
      "791948448c224c73be45b5e084f6e7ac",
      "e6e8f41419484eae81b1a40a08644b9a",
      "a74ecef96dcd4fa4bcd316dc25c75434",
      "e44efe9a5391422cbfd149f489fc1eff",
      "849d6457fa1e4df59fb51bdefea7f9de",
      "9ac6026555644a349f93b7206b694a8f",
      "c620070bfbbd4559bcbd84109aec9165",
      "1ea245cdd348436aa265671c778c4978",
      "44cd272b1d964e599fa31c8941baa922",
      "770af5ad1e7548499d3940199a6146c3",
      "503f4128c70f49cebc52fac51eb79a9f",
      "d26b192f7b4046f1ab06d6b92ed3a49f",
      "22063ce7b4b44625ba4d3f19eccca96f",
      "3e8fa548e0c545af8b131bcf5354e6c3",
      "438d4b8b50d24dafab29f9546da7e15b",
      "9f626bb7d31d4fa69bced979380938f8",
      "0fbd9e7f5d024a82bc2d2bd030f4159e",
      "4782557583b04f2cac56c4dfd91425d7",
      "9ab326a5ad194698accb6c04b57313e4",
      "8327a3dc51414a48a0352cdb6d19f3c6",
      "25e72cacc6594888b0e5dba52b0715fd",
      "07bdc64daf654e269eba1e0d85914d41",
      "f1799fc3875d4d208f89b3309ea9b678",
      "c706dafa56d14e61917466b28bd1355d",
      "056f8c2e58014df48e9593ce40ff9d79",
      "325acd6421154fe8a7fdd00e0fbec28c",
      "a758b5d153064bc3ac91cf785473036f",
      "22cab3fd38e54f3096697bbadf269c04",
      "1ca10fe7bf9f42108a92dd7c868f2ffc",
      "cff5be3820584acaa69750097a4e6e9f",
      "ef5200fa978047e3b3d6526ec40dbb48",
      "33ee4d88acfe45a583ad6c25c1be84d1",
      "512a3cea1b71492fa6bda94029b2ad3f",
      "e7bf577d778f471b828b3e421e27bd66",
      "f74b0c1f68c74b94898807fccc657230",
      "3425f48f6bcd4350a5d893a414be0495",
      "49849fe109fd45629d94ca06880bb971",
      "99b1c5da371c496ca3a81ba572fc46ba",
      "a52729aa007a40c689b1423cbaf5d99a",
      "3b8b00c26e374ae989bb7ab2b12e36f6",
      "9c5a0259bce2431c91cf8479d7ca20e6",
      "97b061c19a9a4fe48772583107f0cc17",
      "173f294f750e43ca9db1e707b6f361b7",
      "a36efe965f604f9d88bd2f26a247054d",
      "63477d65cf4548189092a103ff21f677",
      "b2b97b3843584207bab8a7512fafdce7",
      "a9c7965759bf432d8bcabf56a3c21de2",
      "f3d0f3ffad5642f8b4707a5aa21ca122",
      "fe942fcc8f904f78bb00d86a962d5a09",
      "4d7c32ad7e654e81a81b0da55dbdf892",
      "4dec0d22dae44768b7f5dd7f81acd023",
      "3174967246884ed086c5807382c2adff",
      "736a266f3eef4800b419b59e9d6daf75",
      "ad883298679b49699462736e27d7b934",
      "6800f2acdf39420ba54e8acb46ecd50d",
      "f7d138692b414c0fa3c00cb8eee56bc2",
      "398f4e388cd24d0284cba5a2ec435c7b",
      "0839dfb6f0b14fba8388a105b4e58b6d",
      "fd2ec4d367164b6e8196cced2c9db071",
      "b843842f4ff8486d8c45b40ce20db195",
      "79724b4b5f6347fc9990e8c6d6095c36",
      "14155a70c67a4165b1ab52c67fa87e79",
      "caecfa872c0142d186a9a6c18bf195ce",
      "28d6ef9649b8446fb9a1e3c2f9813b64",
      "100168827e554822926f4cb0959ad770",
      "a257492cb89b4fccb2342169a84d2e3f",
      "456df00f15ad4ae3859efd9269299fd2",
      "8d95b4f984d24c3180d2cd25c6acf901",
      "b1e49d0e2f1d42b5bb2b26fdf72afc48",
      "5fedaa946f96495ab2eb2106f28d0dcb",
      "e0af96535a9e481d92cc8e6bf0736ba2",
      "70262315a6e64f62b5dc3e9e271e5e94",
      "e21a285f6f8c44a69a2863c024894add",
      "549b5d90b15740109de01f75cc7acd20",
      "b2b6ed5cd07f4df985d600e0344e5351",
      "bcb09cb409fa43cdae61fbbc674f77a6",
      "d344958b11c241798d1cff3aa7ea0d52",
      "f05328d4a55c41b6b318ab90f9f46979",
      "2770519b40764869b3fb104ca88c8019",
      "9dd2fdcb02fb41168ed285aade4b8d0d",
      "e0d0dc27432740998f83e2c78234931d",
      "af72e14ef3d04aa685ccb2d5a8edb8f7",
      "8816e882779b4b84b649c4426f406ecb",
      "cc18ca69278640a096b7342be3a7c325",
      "eb3a4d2e29774dae912bd45845f3694e",
      "522e9eb2a77c48feb9831b93789619b5",
      "8551ec74b8ef486392152928bc13c6d6",
      "80d2227028a442ed9130b73916dc7b06",
      "bf271dec053342648ad018c55f4e3c45",
      "f90e4e58e7084b1ca812fa1dc28d5289",
      "f2093f9947ef41c29e5d3e5aaa0365c0",
      "549918a472de483690c64c7fca1533a0",
      "471a1834de6b4af4b50c88743823614d",
      "f7a984bf4cc94ac7941958b38c4729d1",
      "fc536de6257f4c038662c3dbf8b42b30",
      "ac7dda7ea6084ecbb777969dd034bb99",
      "9b565a50e4484a2184cd4da1de4d0ecb",
      "21de2c160c2e43048b3916f755eb82a8",
      "42de310d417f415db85996da7752e082",
      "22a073a4338c4f209b16096738bab368",
      "13809546782d4b208c09947faf1d2bbd",
      "e757b974ba734f0a810130de1b1435de",
      "3de86a5942434a8eb2fa172158551682",
      "b53ffa95ab0048e8bdaa135c6a909e8a",
      "929d12b34db348058c9ddb3a56e0da17",
      "f35b6481bd0f4692bccd868a08168f55",
      "4f717c41fb1c4fe09c4578f47fd246f4",
      "febdac76af914ad7bfc91f9e2405d316",
      "90c4c72ebccf4b91b7fb2a16caabcd91",
      "8d6be09fde1a4dca8ce20f661a3b0985",
      "b8904b052a2844f18ab0c398a8c25c3d",
      "274cf26e963f4969a188980b2e3a156e",
      "c9eaeabd6e7f4e07b41e6c10059276b4",
      "24057c0cc8494d87a7a0648d0087b8d6",
      "44bce3a366b54e64b9139c3cdc2aa67e",
      "e8fc1d3c65ac4c158898a1ae9f4197d1",
      "6e2be3da849744f4b8d4eddacb8cd0ab",
      "8356bb0e14ff439f8858880d40f3b2ba",
      "cb0fc7ab7a4e4e60964af01b58a78dc4",
      "a0fc27a5145e4d8fb1551b10866f9df9",
      "ac21b036cc224e67b06de717465c74a5",
      "58a938bedc9d43d0a03acda1b0a63107",
      "65f6b412e550475696cbe35694d3e663",
      "a65953c4aa5f4268a3d0e62d9e221753",
      "ea2ae1d8345049d0a0d2455401ad0285",
      "5f27cc607a5b4bfdb9176662e2f9fc11",
      "46b0948e526941f8a1c672352ce28d14",
      "00242e4074d84010bc985b92bd980f08",
      "ae76e8ee7ddd4ca88956b4f3d5fa01f2",
      "3181254f18154efebe1184ee42027386",
      "4e39468c95e04ab69d467aa6fc874ee3",
      "bc22352ae5054fd99e9110618df2639f",
      "c198bd51a5b44f3bb3aabb7867bdba43",
      "c594e6fc5b374e22a5afdfc1884a4906",
      "79da05353a3045f8ba0f278cfe041c04",
      "0617d7f5526a432288dc60e9fab39589",
      "f97c2fe8084a4ff9bf86c02ab1dc8783",
      "b961449d33424712b9e26e2ca4910f73",
      "ada1f6d44c5446aea45cfed8e3e84a97",
      "0e17615a07d64d2c951136ece5110d6d",
      "40da040ae31c4768ba78af0ef7a461fd",
      "209e4128a68e4d1b96071590a255156c",
      "62f188ced3034a94bfa06479a0521744",
      "bdcc8912ef104d8195732177398a9f1d",
      "987aa7a5d69b49d2ade59c3125f539a3",
      "eba9d079c5ad47598fb979cce156ba34",
      "c0dc2df05ef146d6ae32bf1c657624b9",
      "3061318a78df41228b3c644061a4133a",
      "d00fd9be4e7f45019e16eddf5f0fd65d",
      "426d9beab289419991a4fcdf7ec0fe5b",
      "99e975ce468e44ca9ab646c84b80d808",
      "4626b5abc3ee458c880a15f6ed506b37",
      "eea4dbf2f62f4d2fa68f52b20e8b83fd",
      "613428ca3a4d4a2e92445fcf05f262b0",
      "221a626fb8884d05a4969ae308e23e15",
      "97cbce8248e4408fa4088ac1e1767afc",
      "70ae582694b4450181d2883b5a5fd1d4",
      "83aebc9da6bf4a71aa82694e3cc84943",
      "9a6fb90ac7054881951faef3993e3f1d",
      "8a3c79ae75ce4d78ab4bfe3d840b3bc1",
      "7999b99c5b584a50bc3ee7ed8458c861",
      "3ec48cfc4f66431c97a7975e6df73a3e",
      "81c3ae2605b145989112993953327de7",
      "2277fe1063bb4cc9b02452219e8c451a",
      "8b116f1299574f4e940d497d9f2c1ab1",
      "f53df3a94e3d41229576c0d91f5d2a33",
      "653a4153e710401ab1d4c505fcda74aa",
      "08e86f97d5d14b9f8615438da6bc22ee",
      "7cf1526ea00c456b892a37f09f9239ad",
      "53cb997b7b2a41ccac333ae38afcc3db",
      "412259d595824742903771d70337c750",
      "91fd177f32184d1c8d033c1b1f25fe4e",
      "fd09f97e3be040688225025434e851c3",
      "15c1d4cbe7894d8484503faf24f409ba",
      "1c0384b30f0f4d5e9dee3d39afa14dc0",
      "7d7be07f407a4726a45a699508af3a81",
      "be553ee6a209461e99680c2e2177f7b3",
      "fb0b27b57694457fb1c90b8ceb6a9da5",
      "4211ff5ceb61481cb8b366d78bd92667",
      "95ed7b5647404165bd69734fb6705f6e",
      "6ae01e03f4304179a93dfa16ccd07150",
      "8d527711505d4c919d28288eb731fe65",
      "2518632776f746cea90aa5b91b56808f",
      "de05d012888042cb8f7f493a5150cdb8",
      "7f4ba5b664c441bd9de606b264631991",
      "576ba37ba77c4059840987557467c12c",
      "ec23bcc6b794486e8f865e4e94ae3e27",
      "1b7249f033c943e5bf036176a76faecb",
      "5779ebdcd5bb4d48be804e497a6ce581",
      "858ba00e5c77455ba12442d3ba543eda",
      "f014f64b3c5b41c49de7dbcbda8856a0",
      "fc773da60d824719a6ddb2e72783d417",
      "ae753265074b49fd9e9a09d4db0b3d29",
      "0c16ab30acce41729edfadcdc663854f",
      "ae7c6069c11940d4a7efb64403a8e42a",
      "780fa74353b3453484ed319e560c8ee4",
      "a1db6814a0524d1bbdd95064d822b05b",
      "3737917d7ac242c48f957c7b53c13420",
      "085c72a37a664bf9a45960e5e808e3e5",
      "511cd8175f3b4a68b35ac5406217a434",
      "96cecce234864a68a7a528196788fe86",
      "d1826dc93a464630834f0aef27fb59c6",
      "6700020ab9824f44b539f100f91f86bf",
      "d5c5ece531cb4c83a5978d455ed414f3",
      "1119b0ab5d7e432484bbf9f6283f65d3",
      "2055b057d07349409887f96eafac7d49",
      "283e52de82554f9db31e6c19a1a8a9d2",
      "f3abe2a1a28e420bac4178406c3133f0",
      "4a4394a386494631a094cca7a384c1d7"
     ]
    },
    "executionInfo": {
     "elapsed": 195351,
     "status": "ok",
     "timestamp": 1751483497627,
     "user": {
      "displayName": "Yulia Yorkshirelove",
      "userId": "10480095246692972307"
     },
     "user_tz": -180
    },
    "id": "WuWn_eVAyOC1",
    "outputId": "a091b31c-7a47-4cbc-bd86-45ea0913d523"
   },
   "outputs": [
    {
     "data": {
      "application/vnd.jupyter.widget-view+json": {
       "model_id": "8c16a20ed5024df18972ed10a555ecfa",
       "version_major": 2,
       "version_minor": 0
      },
      "text/plain": [
       "Decoding chunks:   0%|          | 0/25 [00:00<?, ?it/s]"
      ]
     },
     "metadata": {},
     "output_type": "display_data"
    },
    {
     "data": {
      "application/vnd.jupyter.widget-view+json": {
       "model_id": "915d5a23aba643b9af0724a8ce35fbab",
       "version_major": 2,
       "version_minor": 0
      },
      "text/plain": [
       "  Tokens in chunk:   0%|          | 0/668 [00:00<?, ?it/s]"
      ]
     },
     "metadata": {},
     "output_type": "display_data"
    },
    {
     "data": {
      "application/vnd.jupyter.widget-view+json": {
       "model_id": "712355d7931945d2b4824e68f4f76757",
       "version_major": 2,
       "version_minor": 0
      },
      "text/plain": [
       "  Tokens in chunk:   0%|          | 0/732 [00:00<?, ?it/s]"
      ]
     },
     "metadata": {},
     "output_type": "display_data"
    },
    {
     "data": {
      "application/vnd.jupyter.widget-view+json": {
       "model_id": "6d84699ec22949bfa68ae53ae63d0531",
       "version_major": 2,
       "version_minor": 0
      },
      "text/plain": [
       "  Tokens in chunk:   0%|          | 0/572 [00:00<?, ?it/s]"
      ]
     },
     "metadata": {},
     "output_type": "display_data"
    },
    {
     "data": {
      "application/vnd.jupyter.widget-view+json": {
       "model_id": "00965c18be7e4b44b58a3d3111bb7932",
       "version_major": 2,
       "version_minor": 0
      },
      "text/plain": [
       "  Tokens in chunk:   0%|          | 0/589 [00:00<?, ?it/s]"
      ]
     },
     "metadata": {},
     "output_type": "display_data"
    },
    {
     "data": {
      "application/vnd.jupyter.widget-view+json": {
       "model_id": "6ec9e1ab1a8244c1b5d3352502d78058",
       "version_major": 2,
       "version_minor": 0
      },
      "text/plain": [
       "  Tokens in chunk:   0%|          | 0/577 [00:00<?, ?it/s]"
      ]
     },
     "metadata": {},
     "output_type": "display_data"
    },
    {
     "data": {
      "application/vnd.jupyter.widget-view+json": {
       "model_id": "f50a8c0c2f614200a696e504b8668bc0",
       "version_major": 2,
       "version_minor": 0
      },
      "text/plain": [
       "  Tokens in chunk:   0%|          | 0/546 [00:00<?, ?it/s]"
      ]
     },
     "metadata": {},
     "output_type": "display_data"
    },
    {
     "data": {
      "application/vnd.jupyter.widget-view+json": {
       "model_id": "791948448c224c73be45b5e084f6e7ac",
       "version_major": 2,
       "version_minor": 0
      },
      "text/plain": [
       "  Tokens in chunk:   0%|          | 0/453 [00:00<?, ?it/s]"
      ]
     },
     "metadata": {},
     "output_type": "display_data"
    },
    {
     "data": {
      "application/vnd.jupyter.widget-view+json": {
       "model_id": "d26b192f7b4046f1ab06d6b92ed3a49f",
       "version_major": 2,
       "version_minor": 0
      },
      "text/plain": [
       "  Tokens in chunk:   0%|          | 0/505 [00:00<?, ?it/s]"
      ]
     },
     "metadata": {},
     "output_type": "display_data"
    },
    {
     "data": {
      "application/vnd.jupyter.widget-view+json": {
       "model_id": "f1799fc3875d4d208f89b3309ea9b678",
       "version_major": 2,
       "version_minor": 0
      },
      "text/plain": [
       "  Tokens in chunk:   0%|          | 0/453 [00:00<?, ?it/s]"
      ]
     },
     "metadata": {},
     "output_type": "display_data"
    },
    {
     "data": {
      "application/vnd.jupyter.widget-view+json": {
       "model_id": "e7bf577d778f471b828b3e421e27bd66",
       "version_major": 2,
       "version_minor": 0
      },
      "text/plain": [
       "  Tokens in chunk:   0%|          | 0/568 [00:00<?, ?it/s]"
      ]
     },
     "metadata": {},
     "output_type": "display_data"
    },
    {
     "data": {
      "application/vnd.jupyter.widget-view+json": {
       "model_id": "63477d65cf4548189092a103ff21f677",
       "version_major": 2,
       "version_minor": 0
      },
      "text/plain": [
       "  Tokens in chunk:   0%|          | 0/500 [00:00<?, ?it/s]"
      ]
     },
     "metadata": {},
     "output_type": "display_data"
    },
    {
     "data": {
      "application/vnd.jupyter.widget-view+json": {
       "model_id": "f7d138692b414c0fa3c00cb8eee56bc2",
       "version_major": 2,
       "version_minor": 0
      },
      "text/plain": [
       "  Tokens in chunk:   0%|          | 0/511 [00:00<?, ?it/s]"
      ]
     },
     "metadata": {},
     "output_type": "display_data"
    },
    {
     "data": {
      "application/vnd.jupyter.widget-view+json": {
       "model_id": "456df00f15ad4ae3859efd9269299fd2",
       "version_major": 2,
       "version_minor": 0
      },
      "text/plain": [
       "  Tokens in chunk:   0%|          | 0/487 [00:00<?, ?it/s]"
      ]
     },
     "metadata": {},
     "output_type": "display_data"
    },
    {
     "data": {
      "application/vnd.jupyter.widget-view+json": {
       "model_id": "f05328d4a55c41b6b318ab90f9f46979",
       "version_major": 2,
       "version_minor": 0
      },
      "text/plain": [
       "  Tokens in chunk:   0%|          | 0/456 [00:00<?, ?it/s]"
      ]
     },
     "metadata": {},
     "output_type": "display_data"
    },
    {
     "data": {
      "application/vnd.jupyter.widget-view+json": {
       "model_id": "bf271dec053342648ad018c55f4e3c45",
       "version_major": 2,
       "version_minor": 0
      },
      "text/plain": [
       "  Tokens in chunk:   0%|          | 0/465 [00:00<?, ?it/s]"
      ]
     },
     "metadata": {},
     "output_type": "display_data"
    },
    {
     "data": {
      "application/vnd.jupyter.widget-view+json": {
       "model_id": "22a073a4338c4f209b16096738bab368",
       "version_major": 2,
       "version_minor": 0
      },
      "text/plain": [
       "  Tokens in chunk:   0%|          | 0/514 [00:00<?, ?it/s]"
      ]
     },
     "metadata": {},
     "output_type": "display_data"
    },
    {
     "data": {
      "application/vnd.jupyter.widget-view+json": {
       "model_id": "b8904b052a2844f18ab0c398a8c25c3d",
       "version_major": 2,
       "version_minor": 0
      },
      "text/plain": [
       "  Tokens in chunk:   0%|          | 0/426 [00:00<?, ?it/s]"
      ]
     },
     "metadata": {},
     "output_type": "display_data"
    },
    {
     "data": {
      "application/vnd.jupyter.widget-view+json": {
       "model_id": "58a938bedc9d43d0a03acda1b0a63107",
       "version_major": 2,
       "version_minor": 0
      },
      "text/plain": [
       "  Tokens in chunk:   0%|          | 0/537 [00:00<?, ?it/s]"
      ]
     },
     "metadata": {},
     "output_type": "display_data"
    },
    {
     "data": {
      "application/vnd.jupyter.widget-view+json": {
       "model_id": "c198bd51a5b44f3bb3aabb7867bdba43",
       "version_major": 2,
       "version_minor": 0
      },
      "text/plain": [
       "  Tokens in chunk:   0%|          | 0/494 [00:00<?, ?it/s]"
      ]
     },
     "metadata": {},
     "output_type": "display_data"
    },
    {
     "data": {
      "application/vnd.jupyter.widget-view+json": {
       "model_id": "bdcc8912ef104d8195732177398a9f1d",
       "version_major": 2,
       "version_minor": 0
      },
      "text/plain": [
       "  Tokens in chunk:   0%|          | 0/600 [00:00<?, ?it/s]"
      ]
     },
     "metadata": {},
     "output_type": "display_data"
    },
    {
     "data": {
      "application/vnd.jupyter.widget-view+json": {
       "model_id": "221a626fb8884d05a4969ae308e23e15",
       "version_major": 2,
       "version_minor": 0
      },
      "text/plain": [
       "  Tokens in chunk:   0%|          | 0/473 [00:00<?, ?it/s]"
      ]
     },
     "metadata": {},
     "output_type": "display_data"
    },
    {
     "data": {
      "application/vnd.jupyter.widget-view+json": {
       "model_id": "f53df3a94e3d41229576c0d91f5d2a33",
       "version_major": 2,
       "version_minor": 0
      },
      "text/plain": [
       "  Tokens in chunk:   0%|          | 0/494 [00:00<?, ?it/s]"
      ]
     },
     "metadata": {},
     "output_type": "display_data"
    },
    {
     "data": {
      "application/vnd.jupyter.widget-view+json": {
       "model_id": "be553ee6a209461e99680c2e2177f7b3",
       "version_major": 2,
       "version_minor": 0
      },
      "text/plain": [
       "  Tokens in chunk:   0%|          | 0/495 [00:00<?, ?it/s]"
      ]
     },
     "metadata": {},
     "output_type": "display_data"
    },
    {
     "data": {
      "application/vnd.jupyter.widget-view+json": {
       "model_id": "1b7249f033c943e5bf036176a76faecb",
       "version_major": 2,
       "version_minor": 0
      },
      "text/plain": [
       "  Tokens in chunk:   0%|          | 0/442 [00:00<?, ?it/s]"
      ]
     },
     "metadata": {},
     "output_type": "display_data"
    },
    {
     "data": {
      "application/vnd.jupyter.widget-view+json": {
       "model_id": "085c72a37a664bf9a45960e5e808e3e5",
       "version_major": 2,
       "version_minor": 0
      },
      "text/plain": [
       "  Tokens in chunk:   0%|          | 0/452 [00:00<?, ?it/s]"
      ]
     },
     "metadata": {},
     "output_type": "display_data"
    },
    {
     "name": "stdout",
     "output_type": "stream",
     "text": [
      "Decoding done in 195.32s\n"
     ]
    }
   ],
   "source": [
    "all_recovered_ids = decode_with_soft_prompt(\n",
    "    chunk_data, model, soft_prompt)"
   ]
  },
  {
   "cell_type": "code",
   "execution_count": null,
   "metadata": {
    "id": "84mlAvVABbUi"
   },
   "outputs": [],
   "source": [
    "orig_ids = sum([entry['ids'] for entry in chunk_data], [])\n",
    "encoded_output = sum([entry['bits'] for entry in chunk_data], [])"
   ]
  },
  {
   "cell_type": "code",
   "execution_count": null,
   "metadata": {
    "colab": {
     "base_uri": "https://localhost:8080/"
    },
    "executionInfo": {
     "elapsed": 95,
     "status": "ok",
     "timestamp": 1751483497746,
     "user": {
      "displayName": "Yulia Yorkshirelove",
      "userId": "10480095246692972307"
     },
     "user_tz": -180
    },
    "id": "TVLiqihjBb0p",
    "outputId": "d51b657c-6b41-47e0-a9dd-2331f4332f61"
   },
   "outputs": [
    {
     "name": "stdout",
     "output_type": "stream",
     "text": [
      "✅  Совпадают полностью!\n"
     ]
    }
   ],
   "source": [
    "compare_sequences(orig_ids, recovered_ids)"
   ]
  },
  {
   "cell_type": "code",
   "execution_count": null,
   "metadata": {
    "colab": {
     "base_uri": "https://localhost:8080/"
    },
    "executionInfo": {
     "elapsed": 60,
     "status": "ok",
     "timestamp": 1751483497750,
     "user": {
      "displayName": "Yulia Yorkshirelove",
      "userId": "10480095246692972307"
     },
     "user_tz": -180
    },
    "id": "c2y5-FUPBh5l",
    "outputId": "3ba769d8-dff2-489e-f7b6-70f8271fccdf"
   },
   "outputs": [
    {
     "name": "stdout",
     "output_type": "stream",
     "text": [
      "Исходный размер:   400000 бит\n",
      "Размер после сжатия: 68138 бит\n",
      "Коэффициент сжатия: 0.1703\n"
     ]
    }
   ],
   "source": [
    "compression_stats(data, encoded_output)"
   ]
  },
  {
   "cell_type": "markdown",
   "metadata": {
    "id": "bqSIGYG4LuZg"
   },
   "source": [
    "## Обучаемый soft‑prompt"
   ]
  },
  {
   "cell_type": "code",
   "execution_count": null,
   "metadata": {
    "id": "sIXVrk_qsFag"
   },
   "outputs": [],
   "source": [
    "class TextChunkDataset(Dataset):\n",
    "    def __init__(self, path, chunk_size, tokenizer, max_bytes=None):\n",
    "        raw = open(path, 'rb').read()\n",
    "        if max_bytes:\n",
    "            raw = raw[:max_bytes]\n",
    "        self.chunks = []\n",
    "        for i in range(0, len(raw), chunk_size):\n",
    "            text = raw[i:i+chunk_size].decode('latin-1', errors='ignore')\n",
    "            ids  = tokenizer.encode(text, add_special_tokens=False)\n",
    "            if len(ids) > 1:\n",
    "                self.chunks.append(ids)\n",
    "\n",
    "    def __len__(self):\n",
    "        return len(self.chunks)\n",
    "\n",
    "    def __getitem__(self, idx):\n",
    "        return torch.tensor(self.chunks[idx], dtype=torch.long)"
   ]
  },
  {
   "cell_type": "code",
   "execution_count": null,
   "metadata": {
    "id": "NMEf-g7IsZQP"
   },
   "outputs": [],
   "source": [
    "def create_data_loader(\n",
    "    tokenizer,\n",
    "    chunk_size: int,\n",
    "    max_bytes: int\n",
    "):\n",
    "    dataset = TextChunkDataset('enwik8', chunk_size, tokenizer, max_bytes=max_bytes)\n",
    "    loader = DataLoader(dataset, batch_size=1, shuffle=True)\n",
    "    return dataset, loader"
   ]
  },
  {
   "cell_type": "code",
   "execution_count": null,
   "metadata": {
    "id": "tSzItgXnCgK-"
   },
   "outputs": [],
   "source": [
    "def train_soft_prompt(\n",
    "    loader,\n",
    "    model,\n",
    "    soft_prompt: torch.nn.Parameter,\n",
    "    optimizer,\n",
    "    epochs: int\n",
    "):\n",
    "    n_soft = soft_prompt.size(0)\n",
    "\n",
    "    for epoch in range(1, epochs + 1):\n",
    "        total_loss = 0.0\n",
    "        for batch in tqdm(loader, desc=f\"Epoch {epoch}\"):\n",
    "            ids = batch[0].to(device)\n",
    "            L = ids.size(0)\n",
    "            if L < 2:\n",
    "                continue\n",
    "\n",
    "            optimizer.zero_grad()\n",
    "\n",
    "            embeds = model.get_input_embeddings()(ids.unsqueeze(0))\n",
    "            sp     = soft_prompt.unsqueeze(0)\n",
    "            inp_e  = torch.cat([sp, embeds], dim=1)\n",
    "            attn   = torch.ones(inp_e.shape[:2], device=device)\n",
    "\n",
    "            labels = torch.full((1, n_soft + L), -100, dtype=torch.long, device=device)\n",
    "            labels[0, n_soft:] = ids\n",
    "\n",
    "            out  = model(inputs_embeds=inp_e, attention_mask=attn, labels=labels)\n",
    "            loss = out.loss\n",
    "            loss.backward()\n",
    "            optimizer.step()\n",
    "\n",
    "            total_loss += loss.item()\n",
    "\n",
    "        avg = total_loss / len(loader)\n",
    "        print(f\"Epoch {epoch} done — avg loss: {avg:.6f}\")"
   ]
  },
  {
   "cell_type": "code",
   "execution_count": null,
   "metadata": {
    "id": "Mlj5dbs4xxyX"
   },
   "outputs": [],
   "source": [
    "def encode_with_soft_prompt(\n",
    "    dataset,\n",
    "    model,\n",
    "    soft_prompt: torch.nn.Parameter,\n",
    "    total: int = 1 << 30\n",
    "):\n",
    "    chunk_data = []\n",
    "    start_time = time.perf_counter()\n",
    "    max_pe = model.config.max_position_embeddings\n",
    "    n_soft = soft_prompt.shape[0]\n",
    "\n",
    "    for ids in tqdm(dataset, desc=\"Encoding chunks\"):\n",
    "        ids = ids.to(device)\n",
    "        enc = ArithmeticEncoder()\n",
    "        sp = soft_prompt.unsqueeze(0)\n",
    "\n",
    "        for i in tqdm(range(1, ids.size(0)), desc='  Tokens in chunk', leave=False):\n",
    "            hist = ids[max(0, i - (max_pe - n_soft)):i].unsqueeze(0)\n",
    "            embeds = model.get_input_embeddings()(hist)\n",
    "            inp_emb = torch.cat([sp, embeds], dim=1)\n",
    "            attn_mask = torch.ones(inp_emb.shape[:2], device=device)\n",
    "\n",
    "            with torch.no_grad():\n",
    "                out = model(inputs_embeds=inp_emb, attention_mask=attn_mask)\n",
    "            logits = out.logits[0, -1]\n",
    "            probs = torch.softmax(logits, dim=-1).cpu().numpy()\n",
    "\n",
    "            cdf = probs_to_cdf_int(probs, total)\n",
    "            token_id = ids[i].item()\n",
    "            enc.update(cdf[token_id], cdf[token_id + 1], total)\n",
    "\n",
    "        enc.finish()\n",
    "        chunk_data.append({\n",
    "            'ids': ids.cpu(),\n",
    "            'bits': enc.out\n",
    "        })\n",
    "\n",
    "    encoding_time = time.perf_counter() - start_time\n",
    "    print(f\"Encoding done in {encoding_time:.2f}s\")\n",
    "    return chunk_data"
   ]
  },
  {
   "cell_type": "markdown",
   "metadata": {
    "id": "5eJnxk2gL6dV"
   },
   "source": [
    "### 500 эпох обучения"
   ]
  },
  {
   "cell_type": "code",
   "execution_count": null,
   "metadata": {
    "id": "xWIkrbxIABoy"
   },
   "outputs": [],
   "source": [
    "soft_prompt = create_soft_prompt(200, model)"
   ]
  },
  {
   "cell_type": "code",
   "execution_count": null,
   "metadata": {
    "id": "6R-JyPsxshQ3"
   },
   "outputs": [],
   "source": [
    "dataset, loader = create_data_loader(tokenizer, chunk_size=2000, max_bytes=50000)"
   ]
  },
  {
   "cell_type": "code",
   "execution_count": null,
   "metadata": {
    "id": "3Dl8WKZ1CI2w"
   },
   "outputs": [],
   "source": [
    "model.train()\n",
    "optimizer = torch.optim.Adam([soft_prompt], lr=5e-4)"
   ]
  },
  {
   "cell_type": "code",
   "execution_count": null,
   "metadata": {
    "colab": {
     "base_uri": "https://localhost:8080/",
     "height": 1000,
     "referenced_widgets": [
      "47723d52b56a4a97ba2ebf270652d1bb",
      "cf0bc616d1364211be856418bdd13033",
      "22a55e4c68c54a45ab311e8a577997ce",
      "e08b8373ae1d42e4baf86c6ed869b373",
      "c4f914f15f654b918411dc2af7d52eae",
      "f9211191b697475eae2d4e19f35e34c8",
      "0c5ad33e82bb4c5d82227c1284668bd4",
      "d245ff83c1df47c88831bd307b624650",
      "2abd5a2d7e404f5596f02b12a4d32b78",
      "c9bd4da60395469792f1b07e5618737f",
      "965c66305ef14639ade00b46b3c98b69",
      "6c29b8eeb1a54241ac716bd5a7ba2998",
      "54bb9b37d97548aa8362a7441d318aca",
      "28903f8d7e8e4b35bf05066c7aceb7c7",
      "87a28c330dd54d949d036c9680f680e2",
      "7effb3cfc031478cb8af6d2206ef37ab",
      "bf772483733e437ea2102a2c6612f382",
      "01a6f72ab5854087aef9f7d667b5c424",
      "c37698cdb68c43d19e38c150b15cca83",
      "bd0b4b81357e4968991d005b597f19a7",
      "edbbfa40fbc74f4a9af7a2f3a0a3dbb3",
      "e45784a56091483d88abff8f303b73c1",
      "ce5dca60849d4a04a55cd990506055f7",
      "00000bb60004431cb0471374d535f469",
      "6f01e9288db040df8ab9a3eb7d9e59ae",
      "c72fc709b8b54d1c8cf254059d450566",
      "fe1e4767ab114d9e9fc254a8c229eb4b",
      "6055a500bb02402ab4191343466c230f",
      "48328f1ac2ff4e0095975f0afb2246a0",
      "54eace569ec14dd1a7d55181125118e6",
      "7f9650f680424084a2438aba7e665991",
      "41aa4a14c3cf4169829e75f11807e187",
      "8afe2e37faa14a22ad86455393ccbf12",
      "7747ec41f9b740ae9a36281589d8de1e",
      "11ee74818c05443da5d587dd13b0ab81",
      "ed6e6476656a4915ac5d293431aef776",
      "2d66d87bf5364f7ab7b4234ab4faaaa5",
      "cf955d15213c43aeb9df793aca449a87",
      "be80f89ee8404fb28c4e3c64ae985b1c",
      "4d77c85e9b0641c5a448dc0fc8c536cf",
      "f7d11682bede4126af9827379fd2f047",
      "3750abfc86934a2c9240cca0572a04f8",
      "74186ab00ba64bbca75bf22a3c25b7e2",
      "f38984fe65e34213941d99e22bd1c9bc",
      "0836f705bb714e259254607b3b96826c",
      "172a06743da1433080c4838643aff438",
      "65e702f15922474fb3818e7c1f03a55c",
      "83f1b1e4b0d4439a9337b532d1c94185",
      "eac11665a4b04aa08a36abe4873df909",
      "db2f38f5682d4361ad6f7dd103c93f86",
      "a947d80ee7d44854bb7dec209f615639",
      "c76b7be49e624f2d9eb0a88a7848b696",
      "9b42720781a84a22a986d0d9c94868f1",
      "80234d6772be41baaff69957a31c0f7f",
      "71d00b32b2714213a85defd34cbaaf75",
      "ec6cab28ac3f44778d5215e928909d03",
      "b3d51147210d4e8bb199a254697b1170",
      "f2e25dd077ae4ef3a07d93f5233320c4",
      "6a4437b6efa94079ab3145fbcedd204a",
      "0fe0078b3281464cbc253b50cf117336",
      "74bb4c9fb98848959671f4e494858250",
      "936f552856c04ccaa1188fdc21d62a27",
      "ceb6974b3a4f4e938be2d418e8eea937",
      "b0b7a60b59154fb6b042ffbc5d4dcbd7",
      "98477974803d46b084f1528626668a31",
      "c3c5a8b8396c444e83264f31eb9ed4ea",
      "e4187d4795924c83bebc7675a5d3a514",
      "f41758c0bb3c4cb1afcd8749cc34c911",
      "1e4e5d055707485ebd4171595966c9f1",
      "fac1391733d747c9a24155986f4828c7",
      "1843d8a1d7fe4f669ab2a50d80c6214f",
      "3af00785a7954a0dbc9b35f886ab2961",
      "598ed8d2ed6c46a6bbed009ab5e347be",
      "4f6367aa3cc24ac0b27e15b164c23712",
      "d87aa4e17e3f43feb0c78d0fc3890b20",
      "b65e8b7c0b404650be8843f5227b093a",
      "46e31f2fbd0f4dac9e86392924ba91ff",
      "2c9507d4a3c0477abda8ed2ef31dacfe",
      "ee08db46c8bf4b41a15540fe26486055",
      "67ae586f53a744dbbf2bfeca90fe8137",
      "8788509025b24142bfae36bc04344540",
      "518af42608bd4b9081dcc0c23599abb6",
      "565e68ee52974222a3b76dc253c32597",
      "1eedd9d8ff454dca86078b6f6ae46001",
      "b88ab3697a664449a339d8587313719f",
      "af213cc7624542fab9d9529a7bf55471",
      "195290258e364ee2b151f5288e75b1e4",
      "063e24a669794124848f9a00676362d1",
      "b2cb48c483164560bf6ffcb1fe7d0f55",
      "95d83cfed92543a1b8bcb6a4d4393561",
      "80ba09fca9c0434c8bca2c3294c31f5e",
      "494d1d76ab1a48f29e3d93c1f62e0970",
      "4a2ee63c48b44da899fe518528b9027f",
      "110541f5eda64dbaac1fbdec18c62c5f",
      "2b0d2ea61f6b4a9a84e0d7a25207471d",
      "310c725939e24643ba9b680e67912dca",
      "4d104e4259f74bafa0c4ab0279a9625a",
      "6ebf61846fa64d69a0b3b2eed8916a1e",
      "815c721952b34ba886d436389323925a",
      "b971b4ee84184841836259254cba3540",
      "a084a385fe0545dba435376454351c48",
      "d6d63232184849f7808fab49fa7099b4",
      "64dcb11e14a04727bab8ffd3d603f762",
      "eec72eb95ace4e77b7a2675ae2f5f0df",
      "6b278ef37dfc465e93b0c3eecd042c1c",
      "fb48a3d37fa94982b60a382150ef70de",
      "4991a8152dec49e18ff8aaa6a0a2dbb4",
      "6050e41ce00c4297927b69c305e58930",
      "865c637963fe43709e327939250207dc",
      "e9927042ffec4a2fb75ecf782e5dee9f",
      "c9d6b61c38fe4f5c8f6d558cdafcfea6",
      "5438714b46b24231b3bb04cfdad55450",
      "787c085507f2428c8e016f4919aeca99",
      "b208e186a01842f9a34ba4de69cb353f",
      "7677cd0f25d042b49cde4e0f7e12de6a",
      "680021d8f35e484bb169a6fbaa04203b",
      "689c7dd1a73c4d27bfa40c14970022f0",
      "536963612f934661bcc17177ae4ad1d7",
      "38ed562f8426409c8a56d49ec4140dd6",
      "98326c62a52f459291f3b69a246a89c3",
      "cebc1c183e814404bd8c03df64215e57",
      "498b6f3784e2471893131310d871f35b",
      "55e090cdda0046729913d139aa7e4e4a",
      "90c0fee9da0c48e4bebabbf4b3e9c196",
      "8172ad31b63144309482bbaf015313ea",
      "445a3d07230d44dd8dc6391854a71b6a",
      "b6f8bd17bd1843d49dc32c9bdd9a6d62",
      "589fbe09dd444946bce2d1f8f544932b",
      "eaa4e3a1ab694703b94bb83040a7fc5b",
      "df9357dc38ea4fc5a49da4cd38a45a18",
      "82c25b333dd249c6a06a471eb36dc858",
      "3806bb2c20f54724b49290b6607f36b2",
      "e5993745aa114daea0de6b794a434b2d",
      "39d72f834cf14ab0b05ddd071c0f9fe5",
      "b5a5340d3a2d4414b3639bec1bcebf92",
      "de0e6aec89f54592a34b4a6b78d44dd8",
      "c57861ff47a94e73aa2d2c3fdb32fc94",
      "d513a23e230741ddbb3ed90bca3d90eb",
      "00f07c62389444449e309dbacc2fde80",
      "5beb9bd79d46455898258bb97c7b37a6",
      "59fab01d60374c718b5c526345dc7d88",
      "efe42a2e5dd543ddacc0335f3ca4fb74",
      "62663392889b44438783e6e541d1c129",
      "f885552fb15246fea6480dfc3879a879",
      "7461207c6d734a13acfec2a025fc2112",
      "f68007453b4d4aafba23896abc0ddc31",
      "44fcb03b08764d5ca10dfdf22614ba8e",
      "169cdd1879ea4afca57daa4c24597881",
      "24b1fadc08c74afa8ed7bff502dc1893",
      "e3916f590c0a4da89663364ec482d80d",
      "570ed9e70e7b4b5ca112382381a638bb",
      "74cc1cf8a53b45cbad060de40f7ec67f",
      "2a384be9fb4e44d7a0c7076b81cfc6c1",
      "58f07650240c45d5bd6b496d2dbfc8da",
      "5d59b2c27d584af4b35c0ae613c554e5",
      "b29e872a961b4b97962b11b01f50793d",
      "8f2e338b9dc54c96bd97559475cf6574",
      "1b9a0afcfc3242a6a3bf6e13635baaa2",
      "ca3dc19ac4c042909b15ad0abaa04bc0",
      "2e9ce81e8be54f93a57db0c3dfa261ce",
      "a9aa1e3becec4a4db2a91135b4d957d2",
      "06a71e391ca1464d9bde0f79a199f3a4",
      "554e2dbb0f8b497791556c8bbc99c10c",
      "f98a221e54f44d05bcb8b0eac33ee982",
      "f3d3ce15148c42678c64fefede3c379c",
      "7f9bdef89e854d6fa619622eac188d48",
      "d9db728330da476688bb9a1375487af1",
      "160520ad7182411fbe4178623886aaeb",
      "1a4d8d33c26647eeb83164176767f57f",
      "792ad086ab6742bd90e27e0ac1de801f",
      "6846b396eff54c68ac15ee277fc20257",
      "80bc28243792401eb645e30a4a71d791",
      "f53ed3b3520442458a8e53d9d57c7bda",
      "3ed15fc1a3d447ff8e1d8caa9c217b51",
      "c94cae41ef33498385c2be2e91973442",
      "ea595700cb61435da0ab4b0a03819282",
      "28857d8e460c428896021218a555b1c2",
      "620e1c9e64144baa9c04e99e5369b436",
      "46a6f0bc77b44df1bb33a00851ce68b6",
      "a6090c8cd1314f67ad89c63ee6ced097",
      "3e64722c40544a888387b5b3f8475446",
      "9fbd6785050541f7a8993470bec63753",
      "2b885d2b6fb6418cb6ca0ef23c4e9d15",
      "73205dbc1a2e4b6d905be2749d0b9796",
      "4d1e6771289a42d7a6759b77efa64be7",
      "d6c685f6279c4ffba64d1feba5b1f4c7",
      "5fd743fcd61e47df9c00656b177c2bfe",
      "c20bd3a72fde4c03ac7e4911314e72b5",
      "d0700e879a124f61a8b5c821b98db7c8",
      "3e9193ed94ec42aaab0d23b217b9773e",
      "909832ea7f004d3987940fbd4aa6e221",
      "67366c64f725419c97acadf3ac54ff15",
      "17caac6c9d414d2cb917334cc9b01870",
      "e8803d31b12d4ae1bb279f584c17806b",
      "86dbbf35b7724ac2a7e116966d5bb5e5",
      "2c703f8069cd452baf269422cb9166da",
      "611fd05b0d644119bcbe62df326f2a54",
      "ff8ccb89737843dbb6708d46f63ac20e",
      "84bd2a662f5b461ca18ea76804a600cf",
      "24c4abcf4bf445d79b7a992c4a8fb06b",
      "f68243e136b347d1a9371e482b551e34",
      "8a707fd72e5e4386b23343f93bdc4fc3",
      "72987fa9e5344bbb962bc7fca90dc25f",
      "4f7e811359bf41738bedd99d52e0b86b",
      "fa4ef1ced67e4daf88be95e5412347e2",
      "6ecb8b4484f446e7a8d1567d1d2c0edb",
      "55fd3eed685f4ff4902699dc31d35557",
      "3920e831ed104516a92c04220b757ee5",
      "24611178ecdf4d93be4334d3af3de88f",
      "50fabc8a5bf64642ba015d58b21a3efd",
      "91d890fe590443a68548922ace3f891f",
      "4339fcfcc653455a924a95dcde39f986",
      "7e1a0cb640c046cfae65eb56c3bcd245",
      "59f0258b5b0d426fabff4bd83698c942",
      "89a890d45e2e4fa280fa08bb113c7e39",
      "3ecb476f31574b52b7bb98cd02ef22fa",
      "d0f5312594154454a0195145b3ac8052",
      "70decf2f73ca45f98071e4c5b766201c",
      "834f48b3f5a9434897b9a32c4af5e97e",
      "2d8e35cd28ba486a8215ff1e24546c8d",
      "5dd7435d6d3a460a9936a518a3c74ab6",
      "c3cd05e73bd14c2a81f5b25ce2d69ff2",
      "1a211bccde564b9f91edf0a16b09fd59",
      "232b122e3bdf4b039a1f00b971743db6",
      "b380845db82044bd82c552696aff87b8",
      "967a97a25d7d450a943f7e7725bd2cae",
      "8438561e9d9f4ea582dac2400db9d58b",
      "1d717f909d374b7f92fc6e964c3bce3a",
      "085e442624e7411ea57e4635a99d2baf",
      "c9aa9cf5a4b8479ba0c3f0d981d148e7",
      "d7415c0a9db54d718ba2fa82d4c1e84d",
      "6f5007ec38cc41f7a675880d74f2f225",
      "aff4df6408474aeca011e0133b88fceb",
      "5221e5447c6b41e5a79671ad7013767c",
      "1cb5caebd27043d5a40923c15e292a06",
      "db65661804a545cb9ed42c360cfe5cee",
      "b4a9523ee8e94803a4576680751a33c3",
      "4aa6be5683d04cd3b9dedf77016887d2",
      "5138fe7e60174995abe54be43f58fcd9",
      "a4b74a550e6c46ef9cf8a25645772d98",
      "764a76ff05034cdab2bbcd7196607890",
      "0a4c641676c041fea308e7770f552451",
      "72dcce8291894835bb69d5fed590a2d7",
      "7c8c2d8a86794dd58b92a73f9b0e3449",
      "cc09ca037c474cdcb3bec155ccb80c03",
      "69b6efd38be34c4bbba13258a07182f6",
      "6e5131307f714e6697bff1e059398a94",
      "ce0ef180f4ae488293cf1ab70f1e40ee",
      "911d0db8b865406e9cceca54a5224534",
      "4bd696f217304fd699fe2d6e5dc8c981",
      "8f8b7917463f4897b995d4cef14a9749",
      "c77dbf2c92144d999efd819aafd1b14a",
      "8bbab06d17b446d4b0fe28e4cd6b367e",
      "3b973361817a4800b2565f95b1f70405",
      "0b79fcbfe54643659b422ab0368af936",
      "18a690d22f6b4fecbd663c762d8ed0f9",
      "3ec373f1065e40968be423f2631c8251",
      "e900e228e2e648d2ae8e05685040df64",
      "13c4cbfaed3a425ebac4a845da5089d8",
      "25e6dc4c0b6244c9ba0647de37595d50",
      "def8dba84c0e429488b831bc38d8d205",
      "d7dc93a41bd44ca0b9734204bc576a01",
      "16c23588a0f74300bae53af4c9e6e787",
      "88c2b284dccc410389be4cc7703d1370",
      "bf4e778fdd924726b7bf73a3d18d2ae3",
      "11a0c1199bfb4a9389d5f5bcfb7a02a6",
      "8bfe31b129b143cea892b46579a7b47c",
      "1896f7adca00467e989fda722616887b",
      "7cd3ede18c754f9a81b0b94659d21c15",
      "44978af250674635be9d57c1338b7fe7",
      "0bff3460020c4500a35d25fb2ab929b5",
      "57c22da278764f6da6e9b1ce521c3827",
      "09792f24742241af9fbdb5b3e8a4c7ac",
      "7ddf172928494da89824f1fa4244129e",
      "5fc14fe93b174989b7a59b32fced1f34",
      "21c131c2162e466a98b6f92c4f49da18",
      "c5e8f56c4437494f98b39308027a51f2",
      "ac06e8fd4263427e9b0f8f434a27ee72",
      "794172ac5df840eebb0625f8cd078170",
      "b58f5911d3bb4d8fb66f29525d6126b6",
      "bb904334e99940efa8aeb59a72f52087",
      "3f67f1d00aab4277976f8fe4de7591f9",
      "70fd6e1f3a3f44bbaf34997d1e8252e5",
      "4b78994df2064f62959ad7a8cb2f82ca",
      "b3644754a36e49d2aa8aeaff069e1db9",
      "316e180a1e33476e93353e4a3e54ed84",
      "9e2011b7a8a24a3ca34c1b65c69edd97",
      "fd6096cded7a4b798606916bfe50038b",
      "bc1af061af8d497e84208bfe3f18494a",
      "6ad4f4d9fb934675a2963b93dcd2d93e",
      "8c185f3a59614a25b163db3bc934ea83",
      "86b6e200b5c14387aa93d2189742975c",
      "17619d48796d4baa9a214153cb55dd30",
      "3369de17d5a546e4a3f191238021b600",
      "1a0daee973544095a2838f0bbaac8fe4",
      "a682f679efce4ab3bf80caaaf90073ac",
      "7ea57fd2a8744ecc8b2e7c55ad9a061c",
      "2aa6c5089c2949a681ee5a025f954cf6",
      "b2a83fdab7a74e77b3b02565742adc97",
      "743f50325076421bbfb210b448dfa960",
      "2f5d4f4a34bf4c60a82afe49eeca0796",
      "84dc687824ba496da35b7241ddd84c4a",
      "61aa5710bbb747eabfa194786b1fc247",
      "785b2457b3094be88d3e0da2d11e6ba4",
      "094d01755eed498dae21fac774906436",
      "fe737d42c12d47db8e835326035ea9ec",
      "92da5be4110e4ecabb8f9c1e0b65f5b6",
      "bdd133f298b540d48a2188479e616a84",
      "8e80396d92064c9f9c210db8cc39baf8",
      "ce28b9b2d8c047599073047ecc744c76",
      "d5f06786fd5347a4a2413b981034299d",
      "796664066a534e0389a98bae8c5a0b68",
      "f947ea3e062244b19dcfcb998031e0cf",
      "f743368e3d3c42788b95e3d0899a8d24",
      "799882bec886461789d06b64d379d110",
      "e55808a64bab49fdadf98f485de16363",
      "11e42d4f52184d9886754f0f6c94e74d",
      "3fede9a8bde74364b44b349da661b6ac",
      "aa712364754f498a88941bdd1af35ef1",
      "3a793c26f5894e79be039128b9aff715",
      "ea70e103e93049208a2c09814ada17e3",
      "8fc83fe07c69414180e3c43996b20a4b",
      "58b25d72830f496f8b94f27376023ca4",
      "09c1ca51ba9e45a2a7cac32ba0af56c8",
      "9bc8dbeeae0947dcbcc36c16d31e0fcb",
      "3db78eabef2d4edc8780a8f4dec60f83",
      "ddddfed7af3942a08b1c47df8bbf219b",
      "889d26f6daad4105b08602b51ccddbb8",
      "e3767fc940594cefbb6385c302254fe2",
      "5ecf80a455f944a79fd827e54fea7ad1",
      "26ee4a4632bc4eb69cb1b76d6d620ec4",
      "e62763fe33794a66a9e222ec9cc3cb8d",
      "842fa999ae0e4cd3a6b2995dda53fd05",
      "4231a3f95fa9445ba80ec0ac5a7d0e8e",
      "ae08760d653c41e1b8853181e1c05457",
      "fe1ae4e4f2654cbea7972e23e4df1e7d",
      "28fe31cf4553428a9b13810a11f5d6a5",
      "0b4c331de61048779781d994d46cf5ea",
      "527c68eacbf14e13a7e3f2fa9d36a605",
      "e7615aafc4fc4b879ffd3874d011d4e8",
      "1626ee1e36d84d70878ec94ca39dd97c",
      "afb3d3a1274a4017a84d56ed165da5ae",
      "12f681bb890a4e3ba4d23afea9d4c174",
      "64774a19fceb47e28a1c94e7036dd902",
      "de3b29139b6d4dbeaf474879bd0c4c7e",
      "18dfff1d8cee4b16a2626524d785aff4",
      "e309d626975e4126890141233971830d",
      "1073ed00d9104caea64deecb0bd02ce3",
      "013fa8b05448450f92f760435b8a399a",
      "d68c64d525384f36a3f18195db517374",
      "d8a92dd2062d459e8ef00b29902254d7",
      "d5c055eefd7440cf8c6be0253bec2cb9",
      "da1cba79684b49f7aa94dc7cdbe1c330",
      "b938914c8c2e40c4a98239c4667bd8a5",
      "7f7971ae1ab24eaaa7421aef612062ad",
      "75eafa67ab0e4c57af2686c9830c26cb",
      "e28dfb98b85d49ac8878e17f7c8d0a6a",
      "3e34c18280194453b3aa2fbc3a694da4",
      "2c81a216ed69497ca66d76ff813c97a0",
      "13b9bc9d2c0f45cf9343ff401b7196fa",
      "82354732099e4bbd81fad13aa36d3c5b",
      "e3ca2cb20c0d433bb1b0e116c68be2f6",
      "5bcd417c528a499089285430309a8942",
      "1a89fc66daa54989be7983c3509f4492",
      "3f518bab76e54c0e81d1003b48118935",
      "cd4821ae83ba40bb8fa6704dd97bc559",
      "c543ccef889e43db823a73afbf2671e7",
      "44909ca4da014a9694349a35c7972541",
      "d2730131bcf245f88a972172ba567edf",
      "0bfb18df96cb407abaaf458b52e81c1a",
      "79795533df6540ae8f15e5f6b068b8ee",
      "0b52d3fee8ec4b70a0c8f556a8f4540d",
      "b2a5fac97d44405ab1cf6b7feeed5ecd",
      "d45ed33f3ca44ecba2731397be392572",
      "af150230e0b4455295c4d19106ab07d0",
      "44862fd158ad49eb8ba7c11ceb658880",
      "b90795c63b9c41ebbdaa78958e6523cd",
      "e935bf9f8025419da11da1ec638d8dba",
      "b4ae96500d77439ea859103597c2b8d5",
      "15d2b78eab614a84921b4de4a4b23aae",
      "87ead51b4ba44e0cbe1cb0e38db76bae",
      "2e1717759fb9428b9e4a7e4616067fea",
      "bc820bd9179c4ea687f288fa09a5ca27",
      "67c5bfb2d16e44189f277b182e23d19a",
      "af7df46eec734c93bf9e051c5d7ca844",
      "ebb06dcf7737420dbd93821622a11b8f",
      "9ee00c6511a7467ebb565cbd7756a134",
      "291e3db9c561472e956928419e92d71c",
      "7c7f09a63ea84ae3b05032158f71f608",
      "ceb5f90db31945d4aa28392bb66f64b7",
      "8a6aa9f38e22495e8e08cc02051ace9c",
      "8cf45248ee654c018cd020fd1af082ae",
      "795308840f8a47039b1b80128df708a0",
      "a5cec632d2474b39b68cd5fa6e7d88a1",
      "f59ecea5b78b4970886a6742eb536940",
      "ffcdc0801e1a450087422c7a705f01cd",
      "8240d4d37cd34eb0904b647fda419d84",
      "4faabc36f1844ca3b1cfa4c099f1cae4",
      "6911969ed8e7455c9ad87d797b5020ec",
      "33df17573a1d42bfab0b436dc90b5669",
      "ee1ebdc8a854446ca80c89913b109942",
      "313b2be3094e450dbe791e1e6d912b7e",
      "c28e2dbc0f8143298ed7a553721003bc",
      "15458682405b4e9f92bec111b2794b3a",
      "1483057929fb44019b894bde0a7c9138",
      "47ce652a519840e0be3c7d2da428ae67",
      "4605acf00da34cd59a2a39d09566656e",
      "2f410ac661704ebea6f0ba14e4d1da8a",
      "d88e6cdf5ecc49d6aeea293e07e469c8",
      "38820d571eae4425b0853c67b2e694f0",
      "49fcf999579d4a0fb2197559f895b739",
      "a6b574dea6004dd190530754bcd3d440",
      "4e82c5fd81154fbc8cdf5331f8676f06",
      "19edf1fe59cc4198ba90e91ebb91effd",
      "eb486c710a144fd6b092366279f88a7a",
      "269d49e8462847e79d3fe59561970f73",
      "81747653147d4946a2f03098d46ade1d",
      "2073a2cc6f8a42cfb13a4124e9089c65",
      "a6cd9db2f58745ed9da3ee4c2b3ccbee",
      "320f5d1416c6456ea3db29f8b512f793",
      "37e930aaa38e43c2b04f4dd3ad410178",
      "60d9ba54aebd40b8828664c36d4d2c81",
      "1365ffef6f5e49e1b0c7463c0e4adc3f",
      "fd0c8762c6b54daa83a158580b35e757",
      "bed01eef3d2644d9844260fc597566e4",
      "4e8e4e24bbad4919815f5e4a3bf4ea50",
      "4fd274331c0843bd83c697057b872f4b",
      "f962e4eef6104604b9f1de0d17b43fe5",
      "a495ab0d11024278a5df4e3d33bb6f33",
      "58724fa90b5f454e96979a0ac7fdf69e",
      "53ab82af81d641c7b337d20741cd658e",
      "64dd1c21f87741f89be82bd0722beaae",
      "470cf80eb50b401eae71072c7c07d35d",
      "33a16085d74d411fbcaf9afd284b0685",
      "e3f2a3dbd2f24bd2b22f83bd0140c992",
      "016f7dded66d4fba901d66195c88ed3d",
      "8226a80079814d7ea279d4663163315c",
      "d2403b501c22423d809b0091389d790a",
      "4743c9d03ae447aea5f3596bf2c16e96",
      "4ec964bb916f4f6ebbc7c080e3c9b2c7",
      "a1ed614c47b24982b92d2e0b6d2da9c3",
      "4844ed405e1e4709aabcc2b0e5d90bf2",
      "08253e57f178498997c9776b1c115441",
      "3f69460de6da401da6cee35b98f4dc1c",
      "5408c1780aa1443d9c3ad9d78a3bd28d",
      "f3beb523727b40168a486c7e7dd29eb4",
      "3deee0496b5f4b25a5bf4796ff73c8d1",
      "2cca1c542a844778aeb131b842eccf27",
      "668ef8773dd24a4aa1471b3b1cefd431",
      "fc09ed195f58437c86f9d9887053bff9",
      "8c794b6b96414636895972bff7a78bd0",
      "958e61f915f54f1e9d4fb982a646b68a",
      "a9f0617f69774a618557124b8bb46e01",
      "6f262585136d43a89dff3d10a805e36e",
      "fe4f0b7afd114f8291dd2dfe42e30a4b",
      "531f538b72214a68849e610e47a9991c",
      "beb7b474712a4c08a21e3844848bef8f",
      "33b00dcc481f4bc19706aab502b6a7ba",
      "e2b57584f51b4df5b1cc71fe5e93b8ab",
      "26e24b62664f44088ee9ecd7b024cef3",
      "0389b71cbdc44e6a81afbab9d011a7bd",
      "22f12b4b50804f83a2d000cb5e101a27",
      "390b3bf34f694acf970138e51594f5ae",
      "b43bc2a4151e40478d13163fd94de0fc",
      "190db768d6bd444bb319c689a30c8a87",
      "991ad184415647769ee0dcd774bdd925",
      "3a38620234ff498da3e5e1e888c1e3ed",
      "f8ee6dce47d1423ebf1692a57aefda11",
      "18a24477ef81485caa43f07b862405a2",
      "07240fba8e8741488404586772ea909b",
      "ab0d6da144574732b5ebd1e60ca3c811",
      "8b34fdb998a1428182aba0e922d68aaf",
      "56ba7824c20e4983b38796adf905ec61",
      "1699c440df9f49b5b8611a94fa80860e",
      "8048238233c74327bb375278b86f1674",
      "39f16301f41946bd9327c4a77f776674",
      "30604af32900450eb9190940cf6cb325",
      "82cfe1cd36e540618b23d399f31c4730",
      "2e1fe86ed5ff4824a38c8f3489831ef9",
      "5a2f321777b4495e8307086e59a353a8",
      "3ebbdf279847451f9ade158b29d5a9f2",
      "7e1dc77d683b4d61a2f358bdf6a191e3",
      "7d8fe03a9b3343f18bdcdfff97d662ac",
      "46aee5d47c8c44ddbfb00eec2d10b112",
      "be715961b27749efb763ac6f67f9c38a",
      "f1288c5c81ea4449a37c1aa52fd4bdfc",
      "480bf959d1f64158a22c4cc1f487f66e",
      "cfcbd4f66b844a2c98e37c6f40a473b7",
      "f5ac574c9ed04d21b028cc0b32d0d7df",
      "7d46e8c025db499a905021035a6c4cd0",
      "1061782cb27f41f1b63bc84b526513af",
      "4782d43eb6c94a22a0add68811f94e3e",
      "39d55a89d36149a6894db3547eef0722",
      "65aacfcbcabd446eb163224857ae73e9",
      "ede45747b48647b8bbefcba58bc16c81",
      "33aaf6e0eecf4bd6835673dc0474af99",
      "a5d697c228f648fc930a43a795eb35ea",
      "09b801d01f664a4b971a6548a291126a",
      "6a3da8e047a14c84b32fd5bfc09c5e1f",
      "44f0a87b3f554ff28160ddd9bf40f548",
      "0b3724e72a194b8faa28eb78339bbf9b",
      "4cbd1d45cb7c4720817b93641824e95f",
      "286551f6b29848709c53eac91c7ae737",
      "36388350dafd478f94ea2218c2dc1a09",
      "20dd74cf8ddd48459bebec6f34911916",
      "406beefc37ee4f7386714beadaa64600",
      "45610dbeca4341369cf6e217d14698ae",
      "bc85f2d2238848bebda68a61368ca4fa",
      "4fe70410b5ee48d3b121df91f74461d1",
      "4838a671f73041208b48fd886d78858c",
      "932b6e665264467a8128fe6982589334",
      "3ded7e54f12a4c679a7e5e4f73d09fb5",
      "c1c172931bdc49c6bbaaebaa1f708c18",
      "63474e3cf51144ee992c3d59e379c906",
      "d2a12f1f3d354ff0963213b4e3eb82ee",
      "3881701b4fe9408ea0032a8f7e6cbd8b",
      "00b9cd6217a54494804acc2cbde87fef",
      "70cdf113ddbf4d21b146426a2163bcc9",
      "c915a99a8fd24b559bb0daf27f44fca5",
      "da6ac506b8e34247b42214ad716efe39",
      "df6ca5b030f8460eac8cfd55cbc5c515",
      "f90703a34adb496fbeaa40bc58f0e5ea",
      "c9a5ecf2c8374652a994c5d850bb1466",
      "c5fc855727624d5985fc460ddad54e16",
      "b68c24e5a8f24e26b00d060318c03e97",
      "cd8cad2ad74341a0b4cc30df390fc79b",
      "83e1088ed8ae493b9fdfe3b92e5a50a5",
      "d8f39abdb87846a586cc9c5a337c8598",
      "c2f876a76a3a434eaa3fd94cf56c75e8",
      "ac86077cf7e14b728b5c7c4bf2e32d03",
      "039cab7c765d49e29946bd5d60b598d0",
      "36336763adf74b6dba0edf76b4fc0f20",
      "f2484066bdac44568d2b587992496f65",
      "2c6ebfd4fce94e89b2446d3986cce6a5",
      "5886ba16f02f4efab2a0ffe0af3016f6",
      "cff3520c752c434992a839b7b4747aa7",
      "771049b4a0a8408f989141e4f3e3fc38",
      "959a187d021b4d6b92436f4f33d9aea0",
      "85fbce3b9c6249bda94dabf098b48803",
      "aa494709b8d3459aa85638b27a98a360",
      "9d3b0b0d4c6d41459f1e4cd95b61ca63",
      "8d76031f132f4bf8bdd87feb593c81c6",
      "1de1129ed2824b2993c6d0361ee3db46",
      "b8ac4c13b6d647daba5fe21c50a95af0",
      "3532ffe01f8a4b8c8a15c12f436f6a9d",
      "7f0a5dac402a4dc186bf61e156b5989d",
      "77a2da076fb9410aa0da9655f6f7504b",
      "e8b5e4af425d4a999724c50011d2f1ca",
      "19a990ec4843456ea8e4e86dab858ceb",
      "402fef9be5fa4337ba9c8e98896752bb",
      "19e7f91602e148cf8f4070dfff13c730",
      "e997e2ba26254ddcb1a49aeb329f1d54",
      "97276838c43f44b485779d8676a40a08",
      "0817ad5216c74b3cb205c7b78d880ed5",
      "a2f57b8d7c614b948e57b917f3a651dc",
      "caaacacaa7b4433a8f8df0484885b909",
      "f9e22d15cfb5450e803a4558cb7c6dd3",
      "2deb86d399bd43f1ae290ad849c36a5c",
      "dff79e4f2e0d46c18d1a06380c382496",
      "b391c226b5544662836509117b55ef74",
      "ca6b051ba0aa4d88a04d791919943ccd",
      "95e652d258c549409f73bd02765b9922",
      "9013d7dffbb64f43a688fcf1334bcec8",
      "3d431a1853be41c39af7bae7fec55285",
      "eb4d0a70e10f48cda6d322998b7e4925",
      "cf706ee5486545959b0bf67f8565d982",
      "76206b4e00004a49baba6dfb5fabe7dd",
      "a4089de2b74044a6a0e30df7a3c86ef8",
      "96675f779bf84355ac923d7ba8b079e2",
      "721be0896ba14e50b4322ab1e1203772",
      "f5409cc0afb9497cb8d70a87ad9d653a",
      "5f52d0f694974f54a5f6f07047613f19",
      "71477f8e1ee04ee58d2e9dde8d15f049",
      "580a951172e6433eb518af7492532659",
      "7b19433562a04eeba68beddc95755a5e",
      "6429e5a064984ab6b600bf99a412d906",
      "8fe7707e4b8741bb99638da55b8cff9a",
      "48216e40c24c4799988cb222441e7316",
      "9057fdb0a7da4681b4ea6259d93e8f8b",
      "2d4d2669d7be4fcb9a4bef87da9cecd5",
      "947c67c32c8e4ccba76a37ac9305d4d4",
      "b597affad5b546b98660960d9c36a0bc",
      "1d291ed1cd5b4cf896b1dcc29ad768c5",
      "4532368bce824827b98582295e83cb52",
      "265b85b99bd6493f8debfd524aac69b1",
      "b6ed42110e3e4180881c36de7a2ffee1",
      "60de84cd40444a4eb69b5c149c332683",
      "d70c7bf1be56491e949892a2f16c3c8e",
      "a563ef28fc814d96b9375db47b975f53",
      "251628f44abd416b89fa307cb4ed5ffd",
      "6abc7bf4d27b408796d06c76d9d8774b",
      "86596f46c44640609240a8c6ee4e0352",
      "fcfae66e256d46f4a324ed5b187f9298",
      "2a82e4b19fb44fd89c12054612d4fc18",
      "365a282d980640f3870ef8fbc091412a",
      "729e67d2db18422d925c974ebe0d876c",
      "c262dbf65aa943f9be7ee1042a65fc97",
      "157e32bd4915424ebf0b63f27e2efcef",
      "be2a0792815c4acc83d4c05ddf99dddf",
      "5a35e6d7e82442189067d511ddc8af66",
      "d75ce22f9e984c1b8f3f901d65326cb7",
      "dabaf1a5f7ae4ba080221f00304fb13d",
      "6caa8d8c6d3049e8860ef8a5accacdd3",
      "146a787cd53c44a5b49eed10fca59339",
      "27570be88fd64b32924e3fcb366b5809",
      "42c6c38c86384389abb2546a41392d5f",
      "e43695bae0ca46a5b0532fd66dfdda51",
      "6324e33e952b42f6afbc7203efa4f4e9",
      "92c5ac0d74044978bd5993e365597968",
      "7819ab6f23de4e64b368c0bd14448689",
      "3e6957a37a894419b31f3641d15c87ec",
      "fe39c3b81d334f4d9f648d1052d96196",
      "ae3c2ddea7d14200b4aba41d96fe1e96",
      "fee3165e0b28484787e79edc3dffb6ae",
      "61c5a549faf54b4caa75bd2519bcae5a",
      "f935fe7de65b468d92ca288f85f1ec62",
      "5296ad89fb33488583e0bfa31ea27678",
      "9b20154e653c4b169dc31475dddabd65",
      "52a054897251416399404d7ce7c7dc2b",
      "d8da764a3bae4244a1019a3a0f0cd47c",
      "f17e0b65a3f7404cb156605dc7eab350",
      "70f9c38e74e04e80b6f3690e25eaf2c5",
      "edbb32ea35ac455793e4f757b4d35923",
      "f681764fce7e40a0bb3e86dab24fc74a",
      "5d23b1c8477b490ead2bacdba580a6d5",
      "76890d68023b4906be5a64a94f823c24",
      "b8300868bf71447994e946794384e788",
      "4f90ef2dd5454473bf44511fc3193cce",
      "4dd07b420ecc46309e9337fa0988c2ad",
      "09f614dd133a42cca35bed6820c2df44",
      "3805cad3baf64420a06b3e6954f760dc",
      "a3b495007f5541f28f007eca241ddaad",
      "5562d50acc1f4da4ad24b40499749b92",
      "f7ebb9f7d21f43c5996f483cf0265a5a",
      "9edc6670ab114a32bdfb562817cf034b",
      "8b62ed1ac09b419d910bbe85bbbfb275",
      "a7bcc29e0bba4a85a0e3e7ac61e00d7d",
      "5ed741dfc5524b14a32b2ca79544bf1a",
      "7e8ee68ded2f4c4a9aa47eb1fd34ed28",
      "05f9b90e2a2149dc91f05c064eacc821",
      "eda6fa10544c41c1ab2ff9feb38eb58e",
      "ffc1d9a8343541adb4af41101245d8de",
      "55fe1345cdff48d8a69176b41a97090b",
      "8c787f6e41be486992a7feacaca79ca0",
      "8eea776354a54ab0b95ea3f7b39d8a60",
      "5400dbf647214c86bcd07670c48fb383",
      "2dfff8e1b2e9406ebf0445df446dd973",
      "9d994845019b4d85a9790ae62c29d8f5",
      "5feef6f597da49e7ad6cef3e07940d59",
      "90efb22715ff4d8e9fa449e0f773b6f9",
      "a95de023b7984b73bf41c031429bb565",
      "889b6bd0f9ae4f6babfa8abf4f807ce9",
      "badb78e229344781abf59b4fd7c54e2a",
      "c95543fc3c234165a7a0508130068bac",
      "990e66d353e1474f94fe8a8f6de73fdb",
      "8fe1754d554c44b2aa0552ddd799c0fa",
      "0ad9aec90efb46c4814fc33f8ab0a318",
      "d6530b7a27d44648b23b14961f7d99eb",
      "5eca5fe094a945eaae8116572b40b88c",
      "a8fbb66acd9440c99ccf15d842125631",
      "2ce531f2ce094a5f89a37eb16751f84d",
      "43272aa558624a2b972fe2b3b9a7cb4d",
      "dd139f79cba848969ae3f553ebcbcd51",
      "585812ac1adc4415b13b679757edcbc8",
      "fb0aa018566e44c8a9984a754651ae40",
      "45f6d595643b4902abc8987936d85c44",
      "b5fb92074f6f47ac825436dc27cb1a6f",
      "72fbcdac9a7c4b5b97ac1ec9b7159ad6",
      "cea2158000a34de2adc851f996457b0e",
      "1312b1f820ff40cead6920f271ca4d97",
      "23b337c188d74610a8b2a8f572b4955a",
      "cf2a01767dff4814be002d15a5875b17",
      "60432a9b55544e68bb5e2c68c2e31819",
      "884422bfdd344399aefae48cbee7b974",
      "83691337f358497b8b0299e54f47f26a",
      "0f6efcda03284c118434013813067e97",
      "96fcf94f6dea438d92948282daf1bd7d",
      "3c525ee9805045229815a9236b1bb09b",
      "3984d8161fe14fb5b40d5278497c70ba",
      "3bb205aaaf9b400bac12da626567d949",
      "739921c8f8a04d828165c62e07943a4f",
      "84a5243a5efb4cb2b5f59bd43f0c54c0",
      "54cdb669063143638783ec2a008091ba",
      "ad76eee46bdd449d8b1a0897c1dc683b",
      "f0bba79e69e04bf68eb4d09179fc8abe",
      "2f9e909dd791470883137f8dab0f037c",
      "56d628a7f11f4e9b863bc35416bba471",
      "4f67dbf587f44fcbb03bccd224230aee",
      "ce78f95cd08247f1a6cd64ce5c389d32",
      "ca9a7003b4194d39b72c685fc7d1d249",
      "e0785af67f9344fe9787b18f80585629",
      "b929b2f85d6b4e358e7477a5398a9e4b",
      "e7507946145848728228560561ebfbbf",
      "61321b2ae2c14f2a9845d4fa9bf29a4a",
      "a4b71c95d2e5465098049c9a916d5025",
      "1f872b3825b74c45996e347f683ac8e4",
      "c6843600bc8a4f57a1865743c6e1db6e",
      "ad38f50aa3c84e85be7aa104df536501",
      "c9a9ecb1894b44da9ff497149975ae93",
      "f2d74d6b637243a0809b0f1fa8c861f7",
      "a19d69631fd64c189c64589fc0adc78d",
      "cbbce8cf5c094716b0149d89fe763f43",
      "14bd2aca6cbd475ebd94af29aa800663",
      "ee8da85c082946b3aea8096a74d62a91",
      "7dec1477ebb1423cbb85f88b9a3e278e",
      "1dd22eb2b3514fc7bcad9d2e4a7aaa5f",
      "caf401990996440f8ffca5973c78e7aa",
      "f667bcda2c4843dcbdfcf6a8290188cf",
      "d69ce5a744444d58bc8980383a5401f1",
      "a5aefde95ef6471e97937a37ac9487dc",
      "ae3a3f1c18b749b4a13ded6ceda6552a",
      "5923db9d828e46adbe10f4bb7b345bbc",
      "ac7776c06ca44ebe999634a8b592e8e8",
      "690d1c22a8394418a20f995fd8adea5f",
      "74c250c2ced6429c81436a242bf52051",
      "033e0f934f8342edbd57c0d8e26d60eb",
      "7efed1318dee4b1c8d200daf18ee05a1",
      "106aebbad8ff4edc80368bc670fd7feb",
      "427161d83cb940419b4694bfcfa9f45b",
      "277eb3e615fd43249e86736f8a90987d",
      "dfad33f8b66e4b30bcea34b2c63cc067",
      "8b25ed707f0e4d91b29ec751bfda587e",
      "f84b743a947b4c429ee28356c4c10758",
      "9b060743ed8549d08d389508c5709507",
      "29cf16657fb94d9ba8016a5e9a2c9155",
      "8bb46fdbeecb4f07b3461638509e8d21",
      "41a4b26b11ea4dae8e9f4f7b5769ab5e",
      "6677dd7efb0d498281466f6f24a1a8c3",
      "80dd794e8d394c8eb46f271c6aeb6741",
      "f3deb2e85156453eb92cee69a6bf3c6a",
      "1b23c81297d04198a6a81de4b0994f62",
      "fb32031f04114bbfb32525153a876915",
      "138debff74d54f478f1ae3fbc6d08bdc",
      "07140de613f349c7ab119bacdf185d7c",
      "afa01c5929f54faa924c73911ad2de4d",
      "f6d4497a7c324566b7fb8a222a7f69b5",
      "8b7fb5363ee04f0fb9151316cd412ebf",
      "881dc41598d64170be5c0e9f1be48ec3",
      "d08c7599aec24b22ab7882e2fc15034b",
      "b81b1456322745d585bb5debb1a23057",
      "6511dd66236c42de829c85d845528e4e",
      "1e4081ad84f440b1a272145e7501f454",
      "34d6524eadc04a9992de5f94f074b5df",
      "ac76e2d1481a482881233edee0ed7fe9",
      "52bb473f312b44e888af8f52937df577",
      "f5e3a535ff7c4baaa7d7b0897cd8aec5",
      "87212514dc81434ea9413aa4d84e8981",
      "3e2a3bcda9af4c06aa9e70a1c4c2fb11",
      "caa8daa7f9b6415ca37f8780e2da0ba7",
      "d2dcd0af505c4e0c8f14245f157e3ff8",
      "d00438a776e24948959df108afc585f9",
      "fb649c5be0414289bff8e7ecc35fe792",
      "388f6fd41f32400eb74facfd7240a3a8",
      "80ec90354f6f4d4993e111921f54914e",
      "0d843b8681e844c79c2e8c1c310f03a3",
      "f9154772db9340c59694b18496dee98d",
      "9cb183230c4340188d5c49e49951af28",
      "e7cc45feac5b434b8af263d678939e40",
      "d51bd27211e24107a9cd937dbf72722c",
      "5e580ffa2a954f4e9cdb2364955fd53f",
      "4986b0548f5c4502b17baf2cf4b91f9a",
      "68e118d88b8c4fbfa55593d1ebb4e80a",
      "f31f0213574147168b0b28e6144180c1",
      "779de9ebad8b458fb7ee150692c2c0d2",
      "cafb67fd3100429c8b359de94f7b2a89",
      "58a0d292b74a47488d8cdca5bbbb3d7f",
      "6a9fd7a57ee84341a15aa000a51a85d5",
      "ef90a3d80a654997bf530bbd8408f51f",
      "a7586016f57d408c86cb22c466885c74",
      "9890c61db3c549d1ad078d8ccd0399a0",
      "63da68e1b794412e8d1fd487d97a34c8",
      "9c9868caa89b49678b843bfebb5ea8d8",
      "0d5621b50dcd4273924cb166d7073d00",
      "92c3db24594a46eeb5360a66ed298833",
      "8b6ade781ef7497b8198f63d1e12c655",
      "556caf7d6cba454e99fd0e66c3817608",
      "b7a05e1c539142c2bd7b70eb147b96be",
      "bad7fe1b684e448fb1c14c570fef5a77",
      "9045e972542c45d1956e68d437f1206b",
      "0c25982180044cf18cfda768680bb7a5",
      "b447d0b466e3402ab8f2ec700f927603",
      "c2bba40f7213477bb63d3451a434dac3",
      "41a4ee6f5c474425a4734e12d5c1fc9f",
      "e114647296b2449b8e9750028a933136",
      "f738eef0cbe34a0bb62de1faa0576553",
      "2c019d45f88c4fc3871d7534a7e28555",
      "59626893fd9440418a847385b08aaad3",
      "fb4b458741d040be97191252a6c2ecce",
      "8521f96922b54e77a3cb15964346f7c3",
      "3a4d9602fbc84bc9a895966334455629",
      "c35d6a146ec549379bf4365c44fdde35",
      "6d9bc1ca70c04cb79daee0fc5fe577ff",
      "2e7e7732540346e9804e7500fba2c40a",
      "1b118d3e82c1418b92064dc53fc428aa",
      "f143b60588604ef2b2c3c43d09636c62",
      "f7b0435efac940eda5af5478f48ee8a6",
      "0125eb83fe1d4cedbc9608667db98986",
      "7ba359f5884a4b67bbbf95a3ead901c8",
      "e10f05b41ad4452a8e5a66abb83a326a",
      "90a30a62f402460e88e86a8bebb4cafa",
      "2ce383b310884184a31ed207cbacd8a4",
      "eff6ad0d02bb4466b26d11c352c5e0b6",
      "5d6b5ba21c4843a89a95540d21dba25e",
      "dc90aefefbc647e88b9df07e97ccb530",
      "348da7978cb34736b0edef3e4ad82fdd",
      "90987d790fe8470c96f18499595fb671",
      "82ce0ade24e941c49e4fe0ff93114519",
      "d4108ba550af409c919c738031f5ef2f",
      "43ef7c6db9d345de8e964ddb4adabcf3",
      "20c8eb228c104260ba38a2d2e886ec2e",
      "ed607a72620a4467a3215dffef8b8cab",
      "032c8e530f8b4054b0d8b94b6e820f32",
      "dc66ac199a5442f7b17d5b57b530ef40",
      "99f01528b90e4dacb09a25455d4dbf56",
      "60a4a776dff84c84b18a71d0d8871e1d",
      "9abf8e9e17ab4f0f9317d16004b05847",
      "7e28650c5252434c8de40ad45a0aef00",
      "12002364178e44c6a621c9d1df8f1008",
      "8e47bc77c32841179cfd9475b7c3ad3d",
      "2d3bd2dce4f647cfb72febf619221632",
      "606f8feea84e4c8ea9e51f2c9e68d2f4",
      "07c62683c1a6456db0a01e6f6e1539e2",
      "0ef848574d4441f9aa5f3f8744217a80",
      "5ee3f14425194eb49a9b37adb2e55b8c",
      "b54d19fb7f504c0bbca833817602a7c3",
      "9278a7eea25547a7a78cd6d0764378b0",
      "3ea0216d36a84d8faa765415cbde3580",
      "a7c02799d333449e81b296052aa902a5",
      "41b5f905e2494002a4be9c360fef0151",
      "48affcffb3b845d88a96beab3a6cf8fc",
      "6669189a80bc4fb98fd07a153cfa2bc7",
      "644298206591469f9e47228f806103d8",
      "38f9aa82a3844b7395c31935da783b9e",
      "bec1737a94bb4034abe9750936f984d6",
      "c3dc4dc5a61648598b35729e99409c53",
      "b29c8c54e38046fcae3970b91913dc1a",
      "948d8d581d7e4002b073adaf37ee4503",
      "8af426b5f2664b12935b5a2615d56700",
      "302330030d854df4bc4fc52a0f9ffe55",
      "a72bdbb5d6ca4d04b154c0ba8655daf4",
      "33658da53c2f42d38e5d6070a0b1bb6b",
      "6a599be5634a47e4a89d90d7205679be",
      "139787de9b994e549562c29ed6c1317a",
      "207ccf99ffe54af1bd1623e2ce5c709f",
      "b1eb4d4267104e4d9e75d744816e3ce6",
      "c79d41b0ef8c480da2c75607ab1e022f",
      "b01f724418b94840bcc21e28fc1dbbb8",
      "65f3fe05493440e3b51c0e05ad115792",
      "a53ef4852d80443184e7ba2c3b325df0",
      "f90d0cd05fd74acf9befba4ec3df0680",
      "1e2f701213544d95aecd88e837f05e1e",
      "bb254194c110449d8b0c35bd5d8fb086",
      "093b4d5c98a2442bac0ac32b937d6273",
      "bf1cc2ce787b45a688e6384b583035b3",
      "3faf66023d8a4f72a8322cbb9938f58e",
      "1efb2a27e5cc40ec8af9d01722bd0bea",
      "1a97e7d0b8224c548c0384d5bc069804",
      "7c97f1d5ebde40628e398bcb34c2d404",
      "7c17e9de2b684772a5460bd6ab2f49f0",
      "8c99d10f24b24c23bd7a384c76900469",
      "ba02684e846346c09c90b909d81f1680",
      "083ddccd9cbd46d9bd875a3976825794",
      "dca6a8ce3cc1461a900a32a5a34b999c",
      "5777187b0ec94fc493f8162e9980fb85",
      "95b8eb68d8e34e2385bf69c5edc97b35",
      "710dd078c5494cdd95366b0a3522cf05",
      "4015c272b3e74de09434d9b460605287",
      "cd5f4c04cf5843daae6935d91dd83575",
      "c9b2db6304e448eea6e03e990dfd32c7",
      "500efe6da7964e80a78abd3aa4bd70b4",
      "518a4361c97e4e2394c7dd2560f145ef",
      "1841dc46e2c744af9db161b724dbbfae",
      "46f965f3c566453bbdfc3569c9415011",
      "53a662007d6343d09c134f80b63c699e",
      "9ad1c3ca0aef419f8bbe3814d2e727f0",
      "708939369c454ca4b71405b6f54b5b73",
      "51d015f9b2ff417385296be28e724516",
      "b05109c139c144d68f7c703047f98a88",
      "21f619c300004935a3c6cbaa7c4815d0",
      "afa727edaf5d46e58d13c9e4813c78e5",
      "8320069ae1d44a7786126e2b38310a09",
      "d7143cbd71c042e8ae9b4ec169a1d96d",
      "26a4b58136cf4735ae88f1c54ebb8d22",
      "b06a06e81fdd4f14a6b3d7e279ec1293",
      "312cfcf546bf4f289c3cd3695b00b06a",
      "a119d5e6e503408a95cbfc335c4b45f5",
      "2164da7f0813447d93bc12e83d7c4157",
      "d666eb5614f84cf3a9fd94bda07d20e6",
      "61829126917e4b50ad8c40dbfed716bb",
      "a3f075ee620148c29ea0e665dd4fd8b8",
      "cbcfc5f56b7e446cb46c1a29312889b0",
      "ac712eb875fe493fa538af8ed216360a",
      "263e3e382a204c4bb3d279315919a44e",
      "c177de126e844bcca8ea68b9fa818a8a",
      "c1b56119b77c4019b243cb53dd955b4a",
      "81699fe42a244ae1b16700edb24c0536",
      "14592ca4d7404b4eaf86dcf1e5b9dc0e",
      "cde9a2accefd4ac1a10f66b6d46a0067",
      "fb64668a94094051a393ecd7ad36823a",
      "4fd31160851f4c0ba8abb8b5bb3c2e49",
      "95a04b95ab5a4522885d7f320eb92983",
      "2633652d68b54e77ae66070fcb0e005d",
      "3762f08a17ca4a6faff97809e0879d5d",
      "c6c1ed2fefc94098ad93d832e040b8e1",
      "33e63d47042d4f5e9eaa6af885effa80",
      "e8a7ca585a6c46cb8cadf7a7919fb6dd",
      "08e68171256d444c83be12d547a57fa1",
      "a2f0306631b444ebb216f10cba6235ba",
      "30469199de5c4f479cc3362fd810a6ea",
      "328940c201dd4286b03eea9e1d5ff5fc",
      "94c4631d63194a1abbc2052eb4899a69",
      "9055f2d7210d477bbc8db2f2a7a4c0d6",
      "300c6b9e6fe64bdf911c37f1e40a039e",
      "e27c6543332745309ce74ab2db09e124",
      "db32b6345cc643a3a51e60f3a8461a43",
      "7e50e263c3964b548e4a3f77c34cb88f",
      "d083d1da193f41cdbf88cb76333511c9",
      "ef4f5d927a6e466b9f5711d210974d07",
      "48392f3ef26945fbbec6adde7cd2e48c",
      "b8df548d18714ca2a59077819c031f2c",
      "6464e252a13b4813847461174f8f5d11",
      "c881830f1a834789883d3ad4763b29fa",
      "4b16017311364333bf5e1e3c44f91217",
      "229e26d05e794db1897b87d6567561aa",
      "0211db61c7414586a65dd70fe97d033e",
      "261ef7c205a9484492d98d573c9e80d6",
      "64e133a0b47d4bea9e3f8222c349df34",
      "2b0777567d8a4c4c943dadec18c413d2",
      "3e43a835f220403a8e5894861b34fbee",
      "2ccaccf397e0468f82b4db01627ab909",
      "e2697883b2254b388914fe57d494df65",
      "6db1e8f6f5584605bd5ab60de2a2e70c",
      "fd5bb530afed412baaf15bebc010cb99",
      "4e8dd092e0d4409cb86e4455d120ea6d",
      "c43990d62e484ea4a5ed5365e35f7225",
      "68e6a8c4d3c74066935c75b65463535c",
      "aaced5208442422586f485b668f46e7d",
      "686beedc0dd74ae9b9bcb4fed6747c9c",
      "5ab8b7f40cc245c087175802fc30e0e0",
      "b8ee353e254f412daf6d42e20e2b76dc",
      "325b8a682588424a901b9ac6d7112e99",
      "657c237aebfe4244a619ed0064d33032",
      "5ee345655ac54256a7a7e3701a040389",
      "a2bc4a8a4dae4b85b05278f86796f78e",
      "fb41acafb8cc466f8584230d94f0c88d",
      "bf9eac39a2434e04b4fedbb951a450c4",
      "ca899b63d5b24c6cb223ba5d4b25f4f7",
      "5cde6853157b47999405ef4218b294ee",
      "61aa98e65bcd4345ac8bcd09b4b1daa5",
      "d50a4a5ca5dc4cfc8ea30f1cc667b584",
      "7dc7a19ffc9f4d8689e81923db66527e",
      "6c121a71493a49fead2a34fe2fb6a3f3",
      "8f6c8608bac94a3e803018e2e358c8b3",
      "8c6b31a96d704f918ce7633b6c2a62bf",
      "3b5534b1bd764552b60a8a30bcc4edd2",
      "ae9986d824cf463c87d288bab4f6ef64",
      "87bd5bdd713b465492a83ecd693ee583",
      "5bcf654e9262468d81aa643116805711",
      "4c116b2cd8ca43c5b62dd3d5ae3dc614",
      "3ab8889d66474cddb4c3137f9bd9c89e",
      "47e570ff705d4587b43330d0bb0be350",
      "ad099c2d12104cf08837bc3d4a639c68",
      "219c87f108a94cdab1958b8579fb00c5",
      "8390a1d68d6842c4a22370084e00fb81",
      "cec9a4d3299742439825d1fed809c017",
      "3891638a4eff433b8aac10266ae3e890",
      "e0b266ea805e4f6cbba12312f92298cc",
      "0f6d880644e6474894843d6f2b767f35",
      "c2d14afc72904f2cb570a9fd73b031b4",
      "a55f1e821d2349dfabcaa4b0cfd0fb0e",
      "ec411a570143457aa2f8761bb53e8b0a",
      "f991c4cac8c04d969356717c2886cd83",
      "cbe1741b40454383bc246823f6fb80d8",
      "ac28efe1919647da8c8f00c10d0ab5c2",
      "1dae5d863ca24350b854c56a8a0fe347",
      "a9bbc8daaf014b4a914b3fa62b9faa94",
      "da822ad8d93f475fa05d78c73928ae8b",
      "90809b8a71004800bce1fad5d7e101d7",
      "ce08e4874ff84c9cbe29c90a15df2949",
      "4101b69f0a3a402eb3df177dab3faa5c",
      "abf1c7f6e2c84c73b0eadde1737ab788",
      "d351d6f6f35e48ae87678c4b7f92afbc",
      "7bbb340f6bc141e5be16620fc8fdff53",
      "ab375cb939ef46a38771b4f5ae63685d",
      "5e2b2abf1b17434daa78c82923e18e2b",
      "916a8896d8704065abcbd3cd7f3f5ac3",
      "1f9c9d009fca4c2ab632c1eceb13405d",
      "13cb18be6add48b6bf5316a63acf93f0",
      "e6d14dd95b6c4da49a71223f9d8dec3f",
      "f17789d368384dcd96e9613127d62098",
      "9ff255c191df44bf9e6b0ddd37078274",
      "58809477166c4e8eb6dca3b590fd0ce4",
      "41a8aa58ea5c4266bc4ee5cd58b679e6",
      "d1536f66495b4bec99857927d89f3e85",
      "7f9745f8a9354006bcf7b15892ab86be",
      "68d18ff95fde445c9eabcbffe1cf8c21",
      "cfaf9756f81e45ef9fb46081f7095dec",
      "b34a6b9666f24bbd95c06d6cffba965b",
      "de7f8465b844496fbefac8ebed946331",
      "fdee8251bb1f44b387f7e8fbb794d5bc",
      "4e990372bd4c41309bf31c60862f2b37",
      "63bcce3270c2453f9ddb5f94add821bf",
      "5183b840caab4270a02e7c16ee75d45d",
      "158263408965425982b321b5157ed761",
      "b632a7714b74419e93d2cd473689bf74",
      "55b7f6ce0fc04eaea6962b6dc3a6dc76",
      "a49251cf55374c5da5a9dec8acbc0214",
      "9142ba400fe94df1bd89d2fdc5d641ac",
      "279571bee5f3464fa507188cb0060810",
      "9c5c3ba748a747f39f6fe9e253095c3f",
      "8d8c683518044bb783329715493018e7",
      "be02e4f44438438dbb092abca4b9066c",
      "8139819b932343b483cc73e7c24a2b8d",
      "3311b637c11e4efc8d064c8a9ca0c2c1",
      "0aeff2bb02b04e50b6241774ece58f95",
      "08c81ea4d9a24c7a92e2e090eecb0af1",
      "59c824c97d4f49f7a6f2c655a265fe23",
      "42308300ea2f418982e2654f3d6e1b79",
      "f5b502cbc00d43428664e1ea1a562e72",
      "d5b0673b12ce45c89b2949c627ecde11",
      "76f3c09f1d394e3297ab1e66af7d9b46",
      "cbff438631a94d2da457115c78ef88b9",
      "2c4be71fba0c492d9c0bbcf615344223",
      "1c026f67bf5e4e0f8df444e3e3d466fc",
      "fb7c78bacf5a482882fbf7ffa2f019f1",
      "03fdaf8f22ce49ccb37c8f82483e80ef",
      "73cd64a30d574c4896ac5fbbea367f88",
      "4919c475eadf40df84260585e249e24d",
      "bc919518cc524ec59827c23908f86b71",
      "dd0a57e3008d46c080be6dc81ecbadf6",
      "ac271637ac4d4b79adf43532beace248",
      "506d725d7c834f81a1b685d6aaa94157",
      "2c0be373be21419f9ca21b8c11a89069",
      "6f9323453f924e67a7c7749b2feaaff7",
      "8e025f19eec24bb994d6be6952bbba41",
      "92b89c0c97a14c93b80d2d2cdb009d88",
      "bf8153e91c4941a785e1d55fdd1fac7a",
      "caec728f10f0431aa2ed305c199d7ade",
      "6d03202eeea343669f337e2c1bb024ac",
      "b6060ad88b634d5ba6cfbbc06784028f",
      "da345c6c7dda48bdbcba3a44ec213acd",
      "05764c167fd84142ac3bdd5acab8b8e1",
      "e2ff9e8780ae4e9ab9c6a132a11568bf",
      "80a0f7e2297440ba98aa4e2a901faf8b",
      "23407b56ae0945d4bc0d59de76cb12e2",
      "573a2d6d4f034aca925423e65059d610",
      "4657a2047f1642b7ac370af79a57c665",
      "f1b8abebe6c54c90a79a73c3e5f1960c",
      "4c93e08b63934fc3b686b5c7b423429c",
      "aa1848f75209478c97943c56afb59123",
      "d9238bd86a7d4ff3a643cea3eebc4d14",
      "46cbdd79ba63479c8e201466be23f17f",
      "b52c01503c6440fca504c6959d1323b0",
      "4798077130a540fca8752d4c416a6a4d",
      "37977bc3770c4b839539a14901da0213",
      "aa1b5d2551ce4c9daf9efe45af03a95c",
      "ddacacd8475f44e390ea6f8650789286",
      "f362ecd8358f4c5a9b5901378ac77c94",
      "e18b72a21eb84ad991a74b2401895df3",
      "6fca3fff2b9f4414b7020659e2dc525c",
      "0ad3ee15a08846edb460d3371118366f",
      "12a9c363aaf54259b9ff7774d22f584b",
      "db7ab22ebd8c4888bcbb9538e01f6390",
      "7953d6e1b1d64155bf1990f0b13b2654",
      "ec9747e885294d4ba09cc94be4c1c014",
      "51abda2836504090bba7d99ec3202fc0",
      "7e81f38c569142c59c60b129a34c8079",
      "2ba3fd837b3048a986c2d6e39c96c9ab",
      "3ceec4f522644a019fcbc5c2eb5c6255",
      "e8b938ff08824a6f996dc1ce024b8f1a",
      "9b030453ff8d48ac9032c9ff752b41a9",
      "301c0bbb961243f99461dabc26f919b5",
      "1c795cae805448af92cd00d8a8d01312",
      "a0eaf4931297421eaf5f01826a5d37cc",
      "74f8a49e01d04811aea4a1cc72fff985",
      "db311b95001c40ff8c56faa001d4ce74",
      "2675dfd6d6a54c1e89e8975ea926c887",
      "a54ce220f7d2412f9e3e637329d6d18b",
      "2390a7446d3e48cbb6256a98be5b8e2d",
      "56b988c53b00459e8a9b98109fc2e555",
      "29a891be45fa45588b177e88f67f8451",
      "bd2cb76560d44011970dcb558749101b",
      "36f1702def0e44c4ab192affb2c922a1",
      "dd3ca7cdf1c24ec49181344b6310170f",
      "1c412eb91f4e4e7c9b1a12e65ccb2d75",
      "102fd863ffd7491a8563251b89b45c9b",
      "03743d0244ed4d80ba343aa629b18370",
      "3714859da99c417d9db5aa088dd546b0",
      "7f4b88358ff34438b39dc00deae0a2e3",
      "da0d9e5dc3cd479bbb34774aa4ccdd56",
      "4b3e50f6828d4d0f8f8ef8d68dd5a6ca",
      "86e5444c33b54bcbb7aad3e6c7f1941b",
      "630d008082be4f6c8b7b465aff2bf0ea",
      "b9cd7744c24d4250a96d5e021723b252",
      "bdbec1176f3f428aa334747a45f63098",
      "84bdc7ac72ec464798bd2626181b0cd7",
      "2e44ca08a45b4976930779be3fb84f98",
      "81d8538558cf4d1bb2bc4fae388459ce",
      "a9e62edede1d4c02b503783a38599da4",
      "ca850bf01aca42109cffeb7e4352b245",
      "e9a086c5d770496986da593c37745e3d",
      "ab3a8c38849347a6b275ade6fae44458",
      "39a4382e098c4ebc809cdc55ae143b1a",
      "e7a8f5fd5de047f4a4e72bbd7ba3ad06",
      "811822b1e2cf4231bb28b59330d0fc09",
      "a4e88747af924cc7bdd4e34ed51f5af0",
      "1d668792b58a4150a6ac9b9cb1717353",
      "b0799a6a75a441cd8d3d04aab26e27e8",
      "aedb7588b4c646b7bf99ad788b38dc48",
      "39822559a7d341479056b229d6f9bd52",
      "ad76e6e5e2964a309a4e652ef730732b",
      "3264dd7c9b4b4f89bb9ced370ff0880f",
      "bb367920395d48a7b6deb83488ce0ed8",
      "d34afde94fc54c999a5a4c0f5b22789c",
      "60875149da184a9d92fec63294abc3f9",
      "1984089feea0443c8fa31376d7e109e9",
      "eb043b85758e4ec8a656be090137f06f",
      "94cdd26b6a9e4d6399e02ca2622d8c75",
      "0bfecffebaca4492be649ce0ba4b7256",
      "3b21e24253d34513af010fd9011e5356",
      "54478fffb845433daf37d7859c4e4311",
      "d8b19fecbafc408e884cc411df666968",
      "29ebe08779934f19a543ce13898a7db5",
      "28b5b3255bc040fbbc7a0f770e245292",
      "119fe9e6e425428784a40df5a5c420d9",
      "4d5feacc9e174dd6bbce920d0a2ac2cc",
      "a6001d9c53fd4fa398aea779a0dc0320",
      "9128d96fca1746c982204f6dcbd3657f",
      "4dde2e273d2b4174b8a96c3722ca916d",
      "df8ee9e6bba54e6fb216c3b564b23313",
      "460a13d8da534155ad870ef56845c46d",
      "d41d22b311b6457b8cbf9b3c10b9d6e0",
      "8e6e3a8451454fd2a86faca44ee977f2",
      "85101493f6d3460692d80c7ba58caf89",
      "611f36f3847f4028bd023bf43f6e2f23",
      "2daa86ceb5e1458584619479812da947",
      "057e17f7a4d446dab8b259ad8ee626c1",
      "78aa6d7eb73a417ab6724c76b7cbb856",
      "43fe74a76fc9484ea5e75f5bda773815",
      "2a23d93bbed74e14b8a115de475e29e8",
      "319556991fa845cbbccf9ccd09e04981",
      "f2c279c2a8bc48e690f17736c4ee0abe",
      "10ee8e0b4eea4d23a0c8fb5b19f3635b",
      "7dbce38f5462483f99323ca19420988b",
      "1443677d6c2b4ed59b1b7e3de798eade",
      "eb36c665732d4ab7bd95b4a5304169c0",
      "3d36dd478696477b87999010980dc9e3",
      "e308ccc736054b8ebb46571a203826a3",
      "4601cf02da214998bce7912688a37634",
      "eef0610abdfb4cb98fe004f0afd52e6a",
      "50d1115d307b4c2aabd8a98a06bd4d25",
      "b74470797e1c4d26ace9e779f7f19fae",
      "00e0bdb4036c4812a8766bb5c2ce60bb",
      "0e31189a46f54cdda26edada7e5b6a75",
      "ef3ff3fb168b4c55b322704b34edbc00",
      "d50fd364a1734c3dba378ca6c31476c9",
      "76dfd8e3c83a4c468fccc0ea0005cc77",
      "7d1a515bb75541eeb2271cafbbdb7d91",
      "600883ad53ef4979b99c5ec1e51ed3d7",
      "1f3e69783e354fdeb83bb68e6771f51d",
      "943b73b3e7534ee585a18759256b26e3",
      "b9ed710871ce414abacd72914e72211e",
      "c6cd25010e3f47b3adaa7194fb6ee3d2",
      "3ca2a368a9484810ac79376c52fe4a1b",
      "aa5d0ba0257a42a08993c987f7060850",
      "d92c729d29e84a01adc1f49431bcdb74",
      "faa801006e2b478c80afffd49b1609b2",
      "27d81ec3f7aa4a26b9d87513352343df",
      "c8b385f7612245c585b1b9e00982fc24",
      "097ce78a471e4be8a80e51036ef67ae1",
      "fa77d21734e246f89f07b0f571537d0e",
      "6cb92a89deb34724b4dd60a717408c36",
      "a32c0e2c0360462da00d0b0fe69a78c4",
      "1f55775033914ef69143e1962cf65d35",
      "6e7f8a19a8fa4ef98084cb439e8ec9d7",
      "d4f6791e06fc42bd90ce9e4221966a1d",
      "94ce252da740469b938c72f8be1ff634",
      "0ffe01a7370f49b99261814270a6a7cd",
      "a3f80b8640884e6db5459aa0fee8f049",
      "8bba61d039c14c5db814d30f19d27c3c",
      "1a8760267dda4299a9e5f6f1f4cbd49d",
      "e650c17cd0f144f1bd4d61f3717ac4f3",
      "2b9afaa760714e94a04ed82a32447f1e",
      "00a10d50dc494b6c9e56bb5734c8ed3b",
      "2ce49a00865246b0ab4f7edf85210c88",
      "33d3b53f24a244408723f592f2f629d9",
      "62be589aed6b47ff852467e005c09498",
      "dbba34c8ec42499f96a139344167a9e3",
      "ee092d1e99404ee8bddcb32db33d2f3b",
      "d79e75c0aa3542c0b9a6ee9236f1b1a2",
      "7d5808b65fa24c50baee124eb3bd6423",
      "58bf606e282042caa57f596560fb7537",
      "45cf8c48b314404681e47df57b9cabd5",
      "afa196d4010f4b639cb9a14719b0d563",
      "d53b3e54c8274b3291d9914ddd11cc43",
      "a9fb7b03b50e44a18bc0ddda49f46091",
      "86c191f65c9b400dbc49de586ed068c7",
      "0f1e87ceabb4485fb9c576b62714a3c9",
      "ce4a2f1f68bb4eb8b96594107160651b",
      "c049cf77b15247b8b6b955b9bf718194",
      "2272352866554f7197483114a8fd9e35",
      "d63e8e6deafd4e03aa0590688fc3c4a0",
      "17cfbb7f5c9749bd8910bfbaefb5ca0e",
      "96c5a9508f144433bafe816e6bc5309b",
      "8a1232d589044bdc92ed1eec85d7bef8",
      "6b3c5ae9b0f64f9090234bc9cd5086f7",
      "cb8cccfe8e1140bfbb2829be1b1eee16",
      "9aac92615d5c49d8a735e766f67be4b0",
      "da250a57fd784471aedad7a11b8179e7",
      "1dabef331ade49778d94faf45331a31c",
      "e6ac2f6a7de24384942b5374e68c2350",
      "5dfde29ff20143fc9e69ff4ffe87bf2c",
      "7a0e6acc801f4b25923157cfde205db2",
      "a0d698b53250426f99c976334ffb3f43",
      "a016d9a2535f4912bce39b4dc9336858",
      "0bdd897d7cee409e8d12c52a5318e2f4",
      "63aef5053fc44478860dafbf4347e13b",
      "655b8288cc0c48f2a5de5611d2aeb206",
      "1182df1de7ca418e80b19912800e6cf2",
      "888a2cb00d254ac9bdf90dfea24c49a3",
      "a818db549de64c8f8bf9888845c4fa97",
      "eefdaec2a00847b0a1769ac48a274ed1",
      "c85209a745ad4ebe90e2d95f1a2640b6",
      "e172c9a187f443348aec212bce4e3e94",
      "31bf26068909448c9e3bebe853aaf3f7",
      "ac734621193b4279b0693ba5a2515794",
      "2766b4bc6b714a38bb3adbae93b7968b",
      "678d290cdd0f4ecf8ea885243d51ec6c",
      "a84d46b683e643438c36b3ebc9d14491",
      "bed611a51c35434a8c51581e6e90045c",
      "b26ef3beb7f7428786f2223f90b42ab7",
      "24654944a8714c11b2eae7fcae9f3eea",
      "de60239a99dd4a04abe73e16e79c2cfa",
      "05f962b1057043cfbf34f66ea79507a0",
      "08d8df5317c04273bda147436ce308ef",
      "b996922d08be428e88f2b6c41902d8ec",
      "9da0df5e999241cea483658ae93127b4",
      "bf8f28d3dfbe4831b2ff99fe38e2a9c0",
      "72473c6fdf73475abf4bf5b59fd6ada3",
      "3d0793e6f900403d9d1239dcd64d110b",
      "107cec530a2b44708baf74585ec710a3",
      "29dee58d94f745c1a3c88985ce55b637",
      "e3c627f8b4914ffdaa87846569ccac4e",
      "afdeda13f0344fb8afa33e629e6421a2",
      "0095c5ed69e44c04bcf8412cc990fe6f",
      "ea659c90be8640eca3e140bc826c01b4",
      "69de180a34c6441fa38ee66a2eb21644",
      "8ab294de7ad24d82907318c550462ef4",
      "f49ca8489f4645ab8364f564c7511612",
      "607fdf5794f14a2a9ce0beb9aca704dc",
      "c7299ed1e3f942d59487b5181989b649",
      "5e84a190531347229e8a7e98b97f3029",
      "b2c7b796947f4837811882d81602a312",
      "1864e37d5d24463cb4240aa0a9c09642",
      "01f32ce6d65e4882a25004e5491001cc",
      "23991b10cae041cebe131a83a1965bbd",
      "956d63ebf0954b7abd429b5b14fb8b41",
      "ef080dcb15c94d32b2dc71260147f4d1",
      "0b37e9603d0c44529f386908729be81e",
      "504dcf4365464f2896df58f43047ca3f",
      "f4ab2e9592ae4580a6150300ec9a0c8d",
      "f421997ee2d84438ba74fba59f00fa00",
      "5f826594c4e3430b993cbcb9589487f4",
      "b18c85f71461415580e15975b399dfe6",
      "62b86dd11b0a45ee8e7926a049734cf4",
      "3131cb960e8e430db406d1e73d4fb588",
      "d2df5bf645dc4870a365a3be27b24676",
      "204942e80c5249c69c5cc53699677e1d",
      "4eeb8cf8894f4b3cbcd9052bd560378c",
      "99dd0a63c01a4a51b02bdeae8c345e3b",
      "db551bd1934346ecaf2e490f3041ba9c",
      "a1e2be93e99b4ca0bee9e68519e9ef3f",
      "18ecd9e3c77642379e78ca1fa3f840f0",
      "685c1ab04d414f8a83548a6de70d06ab",
      "8b98d161af82478c8f19049356c5ed16",
      "9d965a5720a849a2ad9ad9e93df89e7d",
      "cc9942fd8c8743c2b0ca826082e3e6c6",
      "72f67035f4e34136870e4328e6eabf0d",
      "b89e90ac8232428a9eacaeb6a57b7619",
      "e6bcd89bfb8840d3a1f3ed34edc0a99f",
      "0fd19c21daab4ad49b683e542eca5091",
      "5c3dd9f1820a463286379f2df55c014f",
      "f8b4ce45d89f4b9e80c665a5709e6961",
      "874014679e9d4b1ab2f1e0862ddcc563",
      "9eca70b1778442429e43123265f307c1",
      "fe62678d63f949cdb4bdb52f60aac1a9",
      "41652d49856d42eb989627c8b7bc2add",
      "a5bb53fc07bd438bbd0cc23b31214f5a",
      "78e0fc1594b64b19a51cd6cd75c72018",
      "c500c2b388da46a48311b250f7e76934",
      "b94e7726cb9d4351b7f2ff3ead2e5222",
      "1dca1004e03848cd93c2ff020dbcbdbf",
      "805e7f16c68b4588b609164c8894238c",
      "40736918be724752a17a963cc6c62eb9",
      "accb85fc39ed4a63a1fb683c155200f6",
      "e5020744024c41ee89f657ef079a94bf",
      "093c2e7a1daf4ea6a8c35a58c04ae6e4",
      "21fe244924e44fe781ebf10579c384c9",
      "b3840283b4684dcc998e56a0b1eb5a15",
      "89d0899fdf624908be339fc8ce0b0d73",
      "caf433e0c61d4e20aa041e276abb50ee",
      "cedde619bad14e34bb862641197471f6",
      "af6415d901384506a26b1b10ba3b1834",
      "509587d8e4ff475c8df49c714e1b3801",
      "fa5e81c4cc5f42d49a0a51b887347ff9",
      "f7a9065817b944b68620591b898a9f54",
      "67586ff531b74aac88980f56c5dfc50b",
      "0d4964da5c9146369010a5892ce3ef3b",
      "1ae4e0a6bba4458383aa7ec236f0fb67",
      "fabe9dc22d2e4932bb12e71bc80c2224",
      "7ff8851ebdb945dab8ab8bd6860fe0e6",
      "9df879c3011143249c2fd0cab7911ce9",
      "3b5228324e0e4611a1cdd528d4f9e70b",
      "8a046b5faef34583b158167ba3125743",
      "b0e0539fb2b440e788b4bc2c3b12bf40",
      "40b815de652a42c7b927bf07e5251f99",
      "286b6f15cc5d4d31bf43e3eaace331bd",
      "73bd89756efe4b089f46aa721a934ce5",
      "565dc9af26dd45d9a3a93020307295cb",
      "8b5f8af83f3142f5ba10279d62e79118",
      "0c7e41cd595743f69e14bf13fc4409bd",
      "be0fed63b3654d5da39cd8e4b62c595e",
      "d35522fa309643b8be3d0cacdc717684",
      "40283ca9191c48cd8d590166de4cc813",
      "0a026410564a4fa68024a69e6484b372",
      "8f4ce40ba35d4fd08b2376399a3c72c6",
      "5f32be9596c44b449f8a9651de7f2994",
      "285633374e544b30ba8384c8563663c4",
      "0f4045b5911d45bca55993fbbd590bed",
      "f9d5ae830a2c490b9e68a1d4a5b6a97e",
      "0b7f5614607b47a3bb5c50c76fee9533",
      "57f90aee1b2843b8b34b336c47a64c57",
      "147cf8e9787248098c7293bfb1a6300c",
      "8c27f3590b794436b4dc6ce560099842",
      "cf645bc3d72c433ca97a75046cb491ff",
      "7a496522345a45f58ff25e85431ce3b7",
      "7ce65903694d4ab5b330ca460e992297",
      "7d3b1831406046409e16b091f26a10db",
      "4fa5bef767e649a78e6d9a30f0d6e7cc",
      "9a8cda12083446ccbe66a8252522b67d",
      "37400145ec704ca083386f5ce7674df6",
      "ed5bb09154b54bfe8454ebf4c79d9ea4",
      "b5f9471e12b54a4b8872cb4797b72da9",
      "6650acb6991149b688ecd330d2f68557",
      "d1e2472cb8ed47f99de8b71c291dec07",
      "c00b625ceb1e429087a27378a4c51fdc",
      "293cc16e4ad1434795187a233f178edd",
      "e24d218577264e0ea685b25c8a5a39e7",
      "455d41c022e44a7784ac4e1d78b9bc57",
      "0d75ce7be4fc427faab0f0eeba34a384",
      "7fc827204d2d46ef9b85ad6559355e28",
      "25055a879a484cf0bc32dbbfcf299a56",
      "7b29794d0cfb469b909dcaad1cee2f77",
      "120668cf227044a18a2d324c21b080ee",
      "115522f61e6f4f1492fba984dd8d9d7b",
      "ffb8315d442648e0b2af9af890671849",
      "f8c9fd4e2ccb4d5cb0e652a333cc09df",
      "6d148bf132e94a9780ad8845ce4faa90",
      "e784e31953414c31960f0f8df8498cc2",
      "a19a56c48ec342999c0620014875a9ae",
      "5e69a8249e2543d68d6aa76143c25020",
      "3c8249b6d72f42e4afc0b5dbbed39c53",
      "024baba9203742469bc2ae0cdcd3fbc3",
      "5c044de1ac2e41c0bd8066b794e158ac",
      "25b4b06c02de4599bcac10d71a099e09",
      "a2f5867985444ef8b3704cc4bd4af590",
      "494a1b514f1a403bace59e95626eae19",
      "0ba8c3ac37124bc7834ad7e6423d2082",
      "89465b1666244b48add371551d818375",
      "046864643d9144b2ac9b5db634023cf4",
      "2d3e0eab0a8549b7a5877fc1ce0c7e53",
      "f856d6557d604033b30f14283e3f5b5d",
      "365a2ed19bc74bcf952427851fad7bcb",
      "1f76027c16ca4cc4bd9fd4890bf52e7a",
      "853a201b1f01488d8d6fdac44db670d3",
      "d499cbf6f4494129aaa144452781e243",
      "ae306d587ce94addbd09ac0e511a6fea",
      "ef8f865831474c1b87430d0316e8caef",
      "e443835108e34db0af22667b4b40234b",
      "51d35b76f57040b7a115b7ccccc678c7",
      "07fe3a8e6f7d4f20a4f065f01d79aa0d",
      "80760c8b2ed945ad9ad7f70ce70de471",
      "77b83b6b95e44e79bbd11ff30860af1e",
      "0754b085408741c891644778e35be07e",
      "26ef3042e67b49fd9b02a4e2e621b55b",
      "b5bd6de870e440f08a9cde16db9f05fc",
      "45ed47099b284883932938b6bc0f72b4",
      "15bb1d7189684d5f8c352b8d212acfa7",
      "6bc77cc99baa4ced840d59b6e25ac448",
      "7a17ac308a194cac93c515b0e8d98316",
      "89d76d285ec14c5a9983912dc71f69e0",
      "7ccd4c905de94bbfaeb4b492cb2d470f",
      "e0dc4d4b57314347ad2dff00c5e82b1f",
      "d87dcdb99fa54ad1a8fa3c1cf1fa08dd",
      "14896d912fb54af39fad3014b92558ff",
      "40df54c129d845ffaea7ff67a9c64ce1",
      "1e2232c2d6e34d9e8c342052a9f78371",
      "7df2627218b34b3090281f7d8034abaa",
      "a634306d06234959bce28da29ef31a87",
      "10b70728417645e992a0dc105e087beb",
      "cbe0cb0eafae42bf9604d6b8bdccb652",
      "81fb1196aa254c4db7c9b8ba18980c60",
      "974860414e6944409d475ecb00259c28",
      "dd727131c049419688f4b266cd4f86a5",
      "6d3d6fdee7854492a9b6131231fd8e07",
      "0e6913e4758742b9bd73a80f01bdc3d1",
      "0111b87e6e964d558d13b426efd013b4",
      "5e127aa4184942be8bedec371db6d125",
      "d4051eaa1b8f421393a50e8e1b7b4a19",
      "69521a509c07438796de2c18dbe0642a",
      "9f43ec550cf2452f84dbc2c74c798edd",
      "701f689cd13d47dfbab934ffd2442b9f",
      "fa0dc125b9d44f3e8aa8f7792354fb5f",
      "62c26583e7984d3687c289cba35a2274",
      "038c645fff9f48508e8491c97f818202",
      "e0c0a7e84f564fc2992285aa83b52efd",
      "6bb6dbc9b979474a8166df2dbacc9542",
      "9d94ff175faa4c708fcccdb0a66e204a",
      "92ea410a24f247d28a721437cbdf8bf8",
      "5e7226ab3a0c405c8a65a7ad470c25b6",
      "3d5a8bebe91e4d63949b8a0d67afc379",
      "861cfb28f8f64d66a0d6af0bd86d4a2f",
      "09e8a6caef8a43099c98c241eb9fff62",
      "b28dc77c3a5f418ba66a1cf654617880",
      "6972805395254746a9e0b20170b9c986",
      "726d6e07c4fb46d9a2db59d1bc891580",
      "10bfa45a6ee4441d9b3dfbde5e79001a",
      "b54ca487dde346099e95f097c8fb28ab",
      "80646de0e4cf443d97e1c5ac19673cea",
      "c395e6884952490584a282a1ad500a4d",
      "60be074e24274dcbb1713f99ba47daa4",
      "65f4e0981cea4de8a0fd08de791bc15a",
      "8c49080d41ae47c68a8018489cf1b504",
      "071a19a6ddff47d6a2ba0f98540af1bd",
      "77a2025f758d400ab4f1f46b01e357df",
      "84bce3c3af6146f5ad327551e35a9c0a",
      "80f6736723c44982b4f098b82496c2d8",
      "d2720f95d03148e1b4e948651ce04658",
      "6bca14f8de2744cebb03974efdc2193d",
      "a2e12ec1f6b1447cb0696881d36f9d28",
      "d5b2e4a2e4bf49de93394d7022d2d31a",
      "7251432aa2db440eac9f8d1ba5df8d96",
      "d14890b8f0454b709cbf8f710bdef27c",
      "ac3293a0ab594fa6818c9f799291e172",
      "5aef8795d8fe4c9fa4fc1241c23741c6",
      "da367d3ebd6e4ef39846b47708e2301d",
      "578df9d6e93f424ab50da29841fc8d3a",
      "1458f552e0e64a03a1fbfc6dacd97833",
      "7fd57cfe171d4b7a8e38a4b22d5f886a",
      "dd8354f50c8c4c0c937ec740f1656b28",
      "dc88886fe35e4d22a229d8cb54457e4b",
      "79ad634dcf274768afba6d2116a0bbe3",
      "742d8a6967e04e8fb7d9382dd39e0499",
      "61b37897f5c54f9f802ef530641c2a09",
      "1719f58d5af54c128524019df49eced5",
      "d69826703c224e919ec5cf89dd220cba",
      "ebd05d978bda4e358753e2a14d4a070d",
      "913c26c3b6e340328deac18594e70229",
      "ac4f6b7d93894f00bd560cb43ed79a3a",
      "86080c4f29da4794a8ffeb36f0ae0e1a",
      "0f6fd7b19c6e43f281ad7ae5d65d3a2a",
      "23c8eb2c4f814076b380173af0c08b31",
      "eebce90f527c463c80dbcb459fbc52d7",
      "3c7f9ca3091a4524853529dffccd1161",
      "97584c6b5e174763b6d4824f1045fa75",
      "0bb0ceb4f8384a4fa288844e76ee8329",
      "047e52a5680f4890b85e815388831081",
      "3f77767340fc42e69c52ab7b8cced386",
      "8e35bec8d2924b6c8716c2ba4ac2b2b1",
      "f029d08ef47c423db42da223e2d9a7d0",
      "b268bf4244334a0dbfaeab268ecc876a",
      "e46d9a4636fd44c6a9327fa3e43c2e2a",
      "17b7d5a266a647ddb8080531d9759b16",
      "829a0376b1d94b0c9328d82e2c794435",
      "c82c3bbe0b7e464aa6aa085aece07051",
      "c8c426672c0345d1acc88b4f47802ed6",
      "430c6ebe442b4056a9846be806a37232",
      "71e1df0bde7b4e9a8cdd7b9ff706db3a",
      "0f90c9f2d44d4361aaa249a06789ba4b",
      "c619f9c3c2aa45748eef4678c809a709",
      "6cfcc6c3d9a142f399a06e7c46b82f2b",
      "5d78d68180fb413ea51aa48e475a7b10",
      "f9db9b8727644cf0b5f8b2b1645714fd",
      "8bfa0ecd03b948ada5d8979ad57fb527",
      "56a2af2760774c6faf8a728b70969b0b",
      "1eb4b54dfb044d99aed13bae28a9fd60",
      "84adafc147a34edeab17073605f84aad",
      "4ea822e542b04e82adf59a3728c20f4a",
      "aa516b0eafae413ebd5177bd6e8db95e",
      "debf6f39385d4717b8e35ccf62cc26da",
      "fc6dfe6b08cc42e2a3e768bab3689251",
      "10eb4d47b5a746d9a0f17ea2593e2873",
      "40912ad789a149d3be5800b83f62c4a5",
      "12e30d51c60b4c4b882821e774e9d1f5",
      "6a993ad1a9fe49e892f5473e229d3dff",
      "9c15fd1cce9347f786b7424eb0f78b6f",
      "ea14738f674948cdb550f672cfc77f33",
      "53679ffb03ca49c985fa12c58141642e",
      "677e4f14f60a49a3b29be7d91fe93d17",
      "e7b13f2134b9454cb8503384e1d8994c",
      "04c328618cd14919b5b3da5ddbe86f39",
      "db5a9e064984494e9cef790e1e3f6648",
      "09dc2c76a9f647879e9e8033d07ad746",
      "6c1a69ffe056452db60b360baee6afe9",
      "e4e604292deb44999a344b89c100e452",
      "22669b7bdbfe4455a32a2d87e793078a",
      "13b9bd76f8d741f8a1d50cbc60ea8d4a",
      "b6ec8efa6f31463b869d281e343c6a58",
      "aa91a93474d9441daf04f893d6b62e4a",
      "43789dfd7ed14d58b422cc80b50aa3eb",
      "c4fea1a79df3464aaaac03de70d05d68",
      "ebc221a21a5f4775ac8793459886fded",
      "7e6c418807974805a4ddd94beaa3c78d",
      "189d49188063466bb3cd8a24e3e34fa9",
      "3716844fa2aa4951aa256fd8f44f403e",
      "cd1830f3fd7147a6a8b42cda40f00746",
      "bda76a4f76794a538849857d993a06c0",
      "bc6ec1e533e040cfacd84f3a42fd5d8e",
      "ffab1bc87b3147a288e16c46bbef7a9f",
      "acc320a601504f84a242dd3daa8177cd",
      "30cc8b174214435aab9f5c91cb88b1ad",
      "6fc3977e8203497fbbcee4eac743d25d",
      "3bafc325707d48b191a2ae3a82df9a12",
      "d119c5eebd414683a734281125f95697",
      "8ef417091dc6466391cb564dec6e4683",
      "06a2ed022f144706841a890007a59a31",
      "5da7c092364e466a8759465de51bf4c1",
      "d4a2ce795d49449bbf06249984a5477b",
      "c7a21a3a7ddf41f48c90fc763894972a",
      "0bfb547e6ff54eafb795460b2aa90265",
      "3c25d9bd6375429599007943155bb8c8",
      "04c6c307a9594ba79a11561bcb392322",
      "9878e422bc2a47cb94e141fedfbb565b",
      "de26c94a73c84139b33dda3702a8d591",
      "15a27e32c3c444508ad2bb35f482c464",
      "6408100dcc1b4fdb851f1c44761d50c7",
      "acfe502960914b0ab6809d6f3d1a6e00",
      "4896c76990bf445da47d4fb0f764163a",
      "fb2e690d61d644adad44cc95faa2c6b0",
      "f0c11a9c722b4eee8ee37bac355f9261",
      "302956a69a7a458ab265f9043542ca71",
      "28961659c1454d8dafac4b3747bef265",
      "5cbf0ac975cb4b9d9115675c375b7f69",
      "cc5c7aec8b1a4886bd42ebc463b67d1f",
      "05b7e084c3e843f9bb0df65497a4f48a",
      "a221592631744890955cb0e7f5d85bd7",
      "082b6ed66c96466283219a99bae71c37",
      "87f94db4b4f0421cb058d93deb6c1aa2",
      "dda7cc5d99784d5dabbca72040041353",
      "f5fcdecd105443f1ad8e23ba20645a90",
      "ea5da1ec21354ee79f88dca66fa5a994",
      "4986a39987984e9d9ac9bcb78087a429",
      "8f403f09f73c4d348edf8f4c7c5bd996",
      "33459631511a4547bd1b1f0f1a6169d5",
      "81ebe375781c4d4e9700bdaf0f0f0c92",
      "5dd85db6ff3e453aba12a289ed07eb32",
      "3cebca0277a441e29d61b38679cf775f",
      "4e02570569114680936b4a200718c823",
      "7f46f02e04cc45299fc8de33b571a973",
      "192572796ecd43db8b08ac19ec54fb35",
      "18106ef1c4f44515bb5aab2d985f29d7",
      "363911356b7e4bf5ba9d78e290978d0f",
      "8288746cf051444bb4dc15cd67fe37ba",
      "2e6bb4ac1b6745578d0007819cd5a0fa",
      "c241e89cb8464723af5a89dd66ee5395",
      "e17ff136e8f7462b89508b99d388867c",
      "14c80c2b88384aa5800beee2240ff13c",
      "18e0a6475dde422b870660003bdac6be",
      "1983e1e319be478c9b46013816ec0f24",
      "fa0be6578c7242f1b6bb0da4ebe6bec3",
      "32f111e853cb48b595b8f936d8eaa3ac",
      "7521c7128ffd4a538f3825498dfbdfaa",
      "639b763878ad4568b43b16a317819eff",
      "7c159c5a089a43c2a0246e0141f11bea",
      "6b9cbb089827423fbd83cc72c90a4a86",
      "edd47759945a46d39eaac12795da28c6",
      "e914669952ee42398417af82da916c9e",
      "1f7b32cdb9f544968c7e5c9f5a23a471",
      "0c6127df0d5e4a48b8dc243bde469745",
      "b8a40aeaab59461c96f487992bde904f",
      "de8997352a9f4787ae814b94ebd486c1",
      "f3f86d87d60e4822ade19812f7308aa2",
      "d336a310549b4e43881c55d6fefe998c",
      "961590a09a7740a3a445843c6e5d11df",
      "00c96aadda4a4c3f926d95dcd7376a19",
      "08423e7ba69d4e788cd10ddde09653fd",
      "a1f9485f8fa746ca99592ad95de28745",
      "757b7982e74c4f8f8c1bada870afd849",
      "d4c8cb1bfed54a28a3e0a2ca4749e4e3",
      "d85b23e1df7147c3ba5bb8c16c6b0312",
      "2763f75688774a6a94ba5536dd3295db",
      "eea96549ca0344fdae20b803f9ac6518",
      "d2f33d9fe8d24f0e943ebf22bf53d268",
      "027f9229627944cc9a3046df51b5b6c4",
      "ee2042ff7be742b1a786faaadacdf932",
      "017777fd783344f68ef9b8c0e64eb9c4",
      "bc93b0084bb94914bc1d6a994e5a713e",
      "1dbc87b18c8447d6920246af58de7eba",
      "64d73de339204127beb485794c7f3b51",
      "d95c59f09b35465394e6c8a4ebebe497",
      "312178c754d74c95b36004e3cdde8733",
      "aea3e619979b47fb81490a6baacdcb6c",
      "dc91edaf8c7141edac88d664140df282",
      "d6040d86ef8047d1aa4234f1f50e54af",
      "73c343c72877456a9a780fd761ff24c2",
      "6ac70221b3e54779a2d72bab2b6e580c",
      "f217dbaf4ac140ef9b79482324626dce",
      "3cd6c3d1ba5040119447c34298a6ecb7",
      "ffbd4287085945f782cd043deaa89eba",
      "8d153539b5bc480598e0ce5d4f0f2f93",
      "94aa504bf442490fabde1337dad785de",
      "60c36b289a5641a7b5d03243db0b5ddd",
      "3e6593c0207f40c099c963cb5ea3a262",
      "5c8b74bb054343e2be844618cd34019a",
      "a79a043ca2084cf08b5de72eb00670ef",
      "b828e06e17254b40be3336e463cc12a4",
      "3f537b5beccf4336a3b106023690b227",
      "2342234bf9844497b5e40cb57182beed",
      "71c8b5e437a64ac187fbf9d887f65947",
      "fbee5f1a03774542bd95fac12b03380a",
      "ac0c996e16e647c99f3745efd62f3bd1",
      "b7395b52391a431aacef02d575d750cf",
      "900620dbb77142c7a0d365891bce9153",
      "222c25df465145a89cef299f492f83ca",
      "7829ef2ef7ce4c32bd53f7ce795133d8",
      "142ac0dc81564564b3f6dee285b2a0e4",
      "fdabdb4d26f443278b9cc657ddf1d2a8",
      "1c0f9575276642c4b7fc10d6967e1b09",
      "a8da3a693fae4cdebbc6b7b0e544c997",
      "3c48aeddfa77404cb54b6b4ea23c122a",
      "643e76a3f942405d9e482b9396fa0afd",
      "5a636d63fe524bab9789fb12deaee2db",
      "064baec93c3149459d5977cc7edb6714",
      "cdc7dae1e93c4ace8a38119359bc51af",
      "b54e13a1e8554d27abf046f44f8dc371",
      "b5a00e1e398f478f87362425eacbabc0",
      "653a6a080ba04c75b25fc3dd9edff089",
      "bc3891f717aa4f668fde630ac8fc8902",
      "50cfe80ec8c0472ca77afd2894059e2f",
      "d522f2a7c66e4dc5aeb5f93deecb8b06",
      "7d306f153caa47e097334a1f3ac2c406",
      "5bc25a52ddb0404cad867be3d8c8d1de",
      "9b2b1243bb114a188067b97d082750bc",
      "cb6752b0f1744e30b9ed473c9895acb1",
      "f7d1bc4b59194fa290bc949d03b2c4f2",
      "9bbf3f1170ea4c9bb80265d2eabec45d",
      "3154d38e9e8d4911b830822bdb8a97d9",
      "77d372d212914662aa1c71ebe1833c8a",
      "874d7102da4a4eaeac47ab76c031831a",
      "df49e74a60dc4282a7c92161488a2cbc",
      "2c91d6509b0c4ee3908648c512d85899",
      "d5679369baeb4dd7b431fca05f19c9d9",
      "3366f9b59fc741d7b83a821ac3f5faf7",
      "55c5b29b794d49d0ac04c0c96109ad3d",
      "f98f4d7d1d6743e9b51662843dbb3201",
      "13d1edd360354f228c0160327551144b",
      "7ecf894b8adc4b29beae62fdffe62cda",
      "7cad974780744dcc9dadcffb0f961b21",
      "cd10501290e44f88b19613dacd8e28f4",
      "bc6cf5b4c7404cd0b643a1b467d2f458",
      "4b33681cb9704d61bf41ed673ef9dc2a",
      "9bb7a90364614071a2f5ac6e0a03ec39",
      "065ea29abf2e4f919ce6e47dcc071c08",
      "ba37123b09de4a6bbdc802e26b2472ae",
      "f1ad1091b2a947d2a7bcd7a136773ad2",
      "8556b87e77fa484a8849919b1b8b9fb6",
      "1b81ccfae6f840a99c3f537c97f39449",
      "adae3fc03f17405a913d34a4c0b14eac",
      "bc748c1901574678a034dfe17b68f100",
      "83c5ed173d5c41f1bd992762702310dc",
      "2511321863264ec286e9765536702e00",
      "adcff5273add4ad78f49b14f1408941a",
      "ea95fa4472834febb13d11060d318833",
      "673b89dea84945eaaef09278c970e510",
      "69596b133a5e470cabb8a8c6544588dc",
      "029743c3b35848cb8320c5611b547158",
      "3b584550750b43d68cf56a8aa57c513c",
      "9915287be1604001bb102c8ba7663118",
      "caabb413bbaa4186b48ef15ebc8c3836",
      "5559180a4e3e472ea29539137cbeb0a6",
      "30c7e32d8f49485cb47110f048f4e759",
      "5dfcf6e7f10b46dc891d80594a4def5b",
      "6f8a6e8ff12d49149526e04cbf6e6acc",
      "8ec5c13c931d49f69fd93235054a2877",
      "12476e096b4f434d9222061f99bfada5",
      "89a305b612984f998593d8b9717a7e1c",
      "e38d89799ce84693bc6d4f5b2274fd58",
      "b1a33cae870740988b4409dfd3327b71",
      "fb6df08cbde04e7b857007125eeb14a0",
      "61b8113ed9e6400bb60ba699a31ae35e",
      "e2bf0d67bc044e13ba2322e0e7137f4f",
      "c9b671494c554b1998c75057b8033975",
      "af8b4bae30074093b29bceb39cb37668",
      "4bb343ba86d64a3dab2cd0c3121458dc",
      "a60265df427e4017bf38c067d3618131",
      "449a081892014e769ecf9dcb0245b8ed",
      "175e095f391d4520b4932eb6fa6436a7",
      "5c17be7492e24992b5e5e634beb691b7",
      "7e52b84c18f8415faeb05a944f7e8f8a",
      "b8c877d961764f63b9dbaa0f03b3bc75",
      "8cd4b77e568c4f128e692fa02e148146",
      "ecc9f282157d40adb2f6d2ddd1862868",
      "51d478a048144841b231965965b3117e",
      "62d2c11ce1964092b3d4d4c32676a858",
      "1acedbca52ec404c91b9b96dc7d84ff1",
      "8e4a0be4859046a98dc717202cd59778",
      "e1627d42c448423180b1cd61e4125635",
      "912f7eb41a224e22a5357c2f3fd4594e",
      "821e94cb78004296b96406b9c4a24850",
      "cbf8ed3be1824f6786a1eb2eccc7d019",
      "4de1cf2b92fd490792330412f85c626d",
      "861be396a8064cdbaae04a8ff27a5f33",
      "f99c725d51a340148eda12ed7664bdcb",
      "6db9ac4114ca4c829079a8ab7efc5de8",
      "b47fb7275b4e418ebb8315179b8ee427",
      "1c44e2b188ba4f20beaacb95d42d7272",
      "507621c6e060475b8aa3a454a47e3b17",
      "6cfa72ce02fa4941a061a7471b6ab23b",
      "b0a5e1b793874428846681d1b38e4f5e",
      "d71fe4f806974c17a07f60439d1c40dc",
      "2ce507687d87429798d12c15ce2d24c2",
      "ef20f8c622ee47c393edf9287c8e88e3",
      "0e0e9f63bf9a4c3eaf75eb5c5a9008d2",
      "b7155a190ef348ca9b068bd34eee99c8",
      "7d8ff0dcea2d4a1cabcac88dd2c5b998",
      "32b55bac987c4661a9487849ba7f7cfe",
      "5129334e651145f2aa003cc95740ddb0",
      "88fb1178b45b435a86c3a7c4e02dcd12",
      "10d7c6a5f74b410689b20dc4ef5e64a2",
      "35090dd9f96a47aea6dbb2debd226fd6",
      "dbe8d7606f274abe9ee761de3b793cf3",
      "1a30bad7abcc42b59bd88ecaf2d2ca42",
      "86dca5f09b664f70a7b29037edfc4c2a",
      "3f145c309bd947fc884c6413c1588e37",
      "81287edc0c1f4bb9bfbe11cf305867f1",
      "afa6400aed894f43bac561a824497073",
      "40bde29567e44c558ee47eb538b16db9",
      "87d459b51f714f478ee496c7334abcca",
      "49ef92af3df2426083737f8962d3c686",
      "b7327ee2dceb4c9caba2a2622e9f08d6",
      "4a91a6293d934034b62a60b490796e27",
      "d2c7a686a2644136a8191bd029aca212",
      "4a010614e5e944e191f072a09beed795",
      "207fb427dd764fa9aac8f9b29a6f6bec",
      "f04c66ca87ad49398dcdb0c3332be66f",
      "8517e7d6a7c942dfa81d9ccc32acedc9",
      "3479643924e345a2996839bb326ae0c4",
      "30bef050ad694674a90e4d656388cf15",
      "a7a77bb087c54e389e2a5ce66fe81d4c",
      "c989980de9cb4f1286c3522f7934a6d2",
      "c00749def2a64a5198bb310f37be5f93",
      "0804770560b5403d8038a3017c18e602",
      "af03790902944caeb1f24cfcf2a61e0b",
      "8bb04f8c6c28408983f81ef5068c00ae",
      "7e905872351a4315bebb4b66ffef11b6",
      "a32ff1690b9a414998fcf788bc71bd22",
      "296b45a9e5a84c4ba6ded858a0ef17eb",
      "4225a29d726444e29f23f12b10af14b4",
      "e545be81b6de4bec80d37dec0c659c7a",
      "9865903d757d45fc8d55b48e529cc290",
      "9f5faf120c784975a92da0cd06e2cb36",
      "78acf38e09114d21aaf8dc82269ea476",
      "fc9ef8c9b437416ab4425cc5c0e654ab",
      "6a26b2b8a741452588ba3453aca5f173",
      "c5ed9d0ed9cb45959bb2bcac7bb041d7",
      "d9730905a93a42cf8f257ab3ba939e89",
      "c3f44984103e45e089e15c8d4294d7f5",
      "c08e19c8cb2d4406a4b08128c40d1c03",
      "3c21f96f3ffa490c840d79dd7836a6b8",
      "62e265917c85486abebd68090ba12a89",
      "bb3909106ad541af91319dbf25b00636",
      "e265523c1a3845e48837a7085405a767",
      "c33daa983b504bbfa4651406e286a22b",
      "bf7e3a4f77fe495185eba49897cc52ab",
      "f4ae9abdac724a16b852ec6f5fd81d31",
      "3a0159ecbd39433584e6fe857adb1960",
      "4467d2f9beb14535ac5fb9441f3ce52e",
      "8607e71184964a5f96bf90833645ac16",
      "70c88213ea004f8badacd1290ad99a42",
      "5dc8e8b207ae4baebb47ff8b2717eb55",
      "1036d453ee2a4cd99bb48b55a1a6b564",
      "8142b2061a2f4e72b99873fc22c4adb9",
      "746ddaee30a44aaba9f209db41648516",
      "6c47ac0317c8436c8367151c9352aeae",
      "783f5f8e29234134979caf41f5b52d5a",
      "932acdd0ac054db7a7f44ecfd089fc8d",
      "b5168c39941049de8236b0a64ef05c92",
      "901336a1f9b44c3ea91ff48886a5c990",
      "7472c0face614193a75cdcf1752207ff",
      "713c5bc4f349496da1a9c08d31c06b84",
      "d82a323edab74758b492b7c267424283",
      "ed9998b980f7403983186de1ab31f1d1",
      "4f167f09d9274704b0420d3ab2c08b8d",
      "586523fd86434c31b5f0dc0e9ac2f8ed",
      "fa902205145f4a1e9f51196b8391dc58",
      "d7da5eb91e6242acbdc43b22842ca6ce",
      "17bb731f8ce246bba268b0bfcd0f242a",
      "90d847f8ab494568818d12ef7ff031cc",
      "af3c1406762f45d7b498b9a1891e3a0a",
      "f6438d1c69404c67ae544cad791b6538",
      "23985e14848d4627912f540f2614936b",
      "8c42a71a5f804dbeb06fd0e72a9c0c51",
      "c37150ca249e45f49f672363f719b619",
      "df46ab7bdb66411296e9310235ee159d",
      "46907d9c59924b10affef9ac074ee8c9",
      "f806141d2623434c9a67d1b732253c36",
      "79ba041933ec4217956e66c82e4aed3d",
      "0498e950081c43e88d0dce3c5dd17bc0",
      "86bc96a3db05430ebcf30114456f203b",
      "48515b1ab17346a1a71f1b8b6a128e4b",
      "a15709fe82cf41d995cc6dafce02c8da",
      "640778381b7342d099352560b0038978",
      "ccee8011fb884f5880c8a70594ff5272",
      "47ace78285d7404ca7a317a21e568c6c",
      "9ab976ff58054178a89649219bbfdc7d",
      "75ecda24f23e4f8bb482353cd6ee4346",
      "93d7f698d02040d29faa4c071a664719",
      "70277949edbd4ed984a7a508670ce05d",
      "5b81c63aca33482e8319682fe2ef6e92",
      "bbaa0ba2beb44d2fba54560e09ec24f9",
      "afd073891e624db59ef6f401e3aa6ad9",
      "0e0c0b2b0dc1471dae71592f59c7f982",
      "9cb196b35f3f42a4a145bb86bfe00bd2",
      "8021a86ee9d04287a9f88b8800cb9fed",
      "72bac66e8f894b63a9fb92bff9868f68",
      "839e580c030d4866a285e4c4d9a8974a",
      "a2d7d7a42d864e268395b7ee16fd87ca",
      "486cbb13eb78492a92c134db55a86bc9",
      "df311d427b154bc79c1887ce53b3ef0e",
      "b6121bc5f57040c29eabcd51c2d95f0a",
      "1154dfe3bc284132a0b37fd65eab48f5",
      "f019e201f54a434bb99b48c8fa444625",
      "d20571dd6a4a45179881191714cdd591",
      "85962b038df44ca98b2a781ac6f29906",
      "35d36291a86f44b98f5f180c312c042a",
      "cafe37ef7f554d6a9e0ee9e122295dab",
      "84d713c9468a4e4e93a2848c571c691a",
      "79abf70cef1f453a9243b48dd098d6f7",
      "56498602758141f58121316d217b3c08",
      "39d5a7b1ca6241c2b2b4b20512b66f48",
      "69c0a1f673ce41a9999d6675d336a256",
      "edf078f80fa449e4ba2c8b37dbfe33da",
      "a57864de1cb9420dad08e0c1c451e53e",
      "268f18d69a6b4f25a70b27ec77ccd8a3",
      "b67116705aa74745afb54b7ad932b783",
      "03a948732dd74201a4304e5cfe0bd44b",
      "7b97af04a001408dab9ce8b9db0c422b",
      "b734fab1af9545eea244ec60f41c7773",
      "d5de2a87926347b4ab80dd55854232b9",
      "298c661129f0437d9d2daf1cb816256b",
      "4e5c2c8205074cda9793abd881714ec9",
      "8522414086b1499e9cfe5a32a23a618d",
      "49f20111e09c4c93941c453323fa63c2",
      "774c144fc17e47dfbff726ca03426661",
      "8f9ab8344806499184b4829bf3650f5c",
      "acfe31ae62b04447a9a83bbd15a2016d",
      "e020514a39c848ddbf3248448f747a7c",
      "35c7b01481cf4e2a9653ad230c859fb1",
      "94fc4debb0df4498ae8b23f0a2675a7c",
      "34ca1973b81644a9abb035a1e55694d1",
      "d2435c90b32f4a19b4dc7746677274f6",
      "296150e78f204a7dbb4f6d80badff882",
      "ea1b00806ab347ada5b3144a2d56cfb0",
      "d3df2c67aeba4a18ba182caa0ae50b11",
      "a7d04afb78814cada046a131ad43f15f",
      "a5eefbaf5dbb4c7db237a16c72b86e3a",
      "1556525435af45699846dadc9d32f22f",
      "ef5181fcf3354f18833f839c1f8871dc",
      "e90e9972dd604d2abeb5f0e54ca9b837",
      "af9e79387f7a4e68b168009c118d7a47",
      "ae31cbceb0bc4eb79c423151e8ebc509",
      "8d249efb2a50470d91cf25db7f36abce",
      "42b2425d70a0479c8cf8684faa2ab944",
      "b87b44683d7643659c276cac1c270583",
      "ca68a2766bd348e5ba46f1c407cd3edd",
      "a5c4c1d5f13045acb2e7f3abd2a1159c",
      "e66aabe9ae434e16baad11fecc407d59",
      "22669c890bd4456ca3d81a4c9b901a1c",
      "c90dbbf40de943bf9bbf173df063217b",
      "7df76c3db6fb4ca5bf56bbe3f43218c5",
      "f85f7344dbff43b49c7a3c40eaaf66d9",
      "a2ad2055fa18492eb0eb82e532b847e9",
      "df91e443cc4c4ce3a1416e95dfbb19a7",
      "6400fa90d8f944e690d98802d2fc650c",
      "b4ce1831c57a423a9a7e363049534016",
      "9eae6766a5a5401492b53c157cb919b0",
      "b82b549183fb4efc8c75b6c63ef54437",
      "7c4d4304c0964f60b1d2084418f6ef81",
      "0315a41b70ca4e6a8353b03bf7adc465",
      "25cd46dec0e24b1bb9b609813d39b132",
      "1f77114627ec4878870e6ca2da9e494c",
      "7bebb0ad07b740f98ff8e12b3456ff12",
      "57287c23b56a4bd0b7b19db8237b41b9",
      "1fe87d1b813f46c6aa1ab4f3fa17c3cc",
      "4b70c6af42f1494f8011de51691c753c",
      "a64407167ae146d8b4e4a510dbf0852f",
      "91a112820335448680b6ebc2aaf9b8e7",
      "a2a99f6d55bd4915b77c1df1ac3aed3d",
      "27e3b79ae85d4bd6a39a39f16eab5961",
      "9483b663ed3f48ffbf6e6549e5e02ffc",
      "68efb741d6bd43d29d28752530f8a2ae",
      "aba9c5c7ccea4e7aae4bf6af1806129d",
      "5183f33d710b4f5fa79eed36d8214b9e",
      "d3fe62c25ad74563bf8e1c000feead2e",
      "01c577c26773479b9739bfac844ece60",
      "526a895354b14543a09fa6516e459415",
      "6dab5fa674ea4d79b91d7605e3595d15",
      "f920172b63584fbdb61cdfc9556d5df9",
      "7d4c5243c50c41c9a3a462e8b2eec449",
      "2dea15a0d977408ba4c75ca2345b757b",
      "1597a57750ed4c57971039eea3296773",
      "092a1b6f298a473ea8bb1c6c30336077",
      "5e10a1b2275a417e846fa7883e7e5ccd",
      "fcda1b549c6c48749c31e863ced9a301",
      "810c76c57c6041baa3458860d751f648",
      "62a416bd5a5c4e87875295c7467e2790",
      "29ace3d58e2d4e359013e20c8cf121f9",
      "5e66d1903b02446f81d274e91da05e1b",
      "dd28202d114a400ebb1fe2b0c59e2568",
      "7cb3f526b3a5479fb26a3a733ea61524",
      "5eb77b2724fc41c58a82bc23b24c5a68",
      "c4e74271baa8439fa0bc5978140693fa",
      "ae695588b0e344bc887ab7a037e695b6",
      "ad6265e9996042afb39407836ac923ce",
      "a00be71abb394681be3f16de904786c7",
      "94deddd8ba084a65af6e8ca76b944558",
      "88af6a6056fa412eb169b27ce2d06627",
      "e6fb37ee63c040b9b61659e18be87aab",
      "7b3f7b8140294035897b94cbb23ebf60",
      "28379ec2a728489dbe5bc1a7817bc520",
      "6674a8424a2642a788425c5b6848639a",
      "8213bb90138643f592346976d8b86ee5",
      "3e100464d5bc4886bf20d0716775dab0",
      "fd7c6155c302447cb97089323d95932f",
      "b20f41b5227149e497b05410de01de41",
      "b1f741af137240a2973f720aef5ed093",
      "f33d5a7ee2a54f739b0fae950b400998",
      "6f93b1a3c9604ba8a4bca9f413df26e8",
      "dc40a3dcb5aa4c979c6397636af94d30",
      "dd8eaeb5834d4918adc7904c49bd1fd6",
      "c9a95134807d49a3ae13d5f463a5f26f",
      "5d19ea3d2da94d689887129a530bf3c4",
      "707c0da75a904c3e9cc24836b3a59cc8",
      "2e4fd44bfb6b4d54b83b3a24582f7219",
      "60f618a8c86b484f9362b4d46eaa9712",
      "a3b1b81271b449b98873461a04f8f720",
      "bff3dcb6ef32498cbec9b01d42bc2629",
      "5ffac309c2a14dc5bb98ddbbde6924c9",
      "1520581194be46d1b8cfbc86e276dc9a",
      "aa345426ef9f4e74ad98d017e60a8057",
      "a6cb89376a1e4f27bb06b0d268a7e0e2",
      "27f9774c839c4e5181f2432e86cfec06",
      "167cde3f4ab64d38bd6d1b889d0d40ec",
      "d5863dbcbb9b4a3da1ffbfa1a7a792e4",
      "2543c3c3ce8e47859b0cd974f7eb11ce",
      "6dc3ba6199d740dd968978b62b83fe64",
      "332d7c27a9dc44ddb1ba65c19a9165e7",
      "c157470fa86f41119ebf6c8a3af5598e",
      "fc8f253050224ca991744caaf5152cac",
      "4949eaf2352c4c7fab699d31813d639c",
      "2b418e4a4e694f93a6d27fb407f1a3ed",
      "d6e811659f2a45fe8df7d81e741b1fbb",
      "ee420717a537499da426de589f158d45",
      "c95aacbca8fd41b299b661b44569aecf",
      "b269017141a2493aa4be8341ed7bbef6",
      "fce9c20f3caa474da84dcb08ea91edf2",
      "66a4c9aa866b4780b2717b55123e446a",
      "cc441b1547e94c3d8845b3fd16dd885e",
      "d57594833d244ec1b1899779f36cd32d",
      "0e5ddd283bfd4e318d807ed99c7739f2",
      "bbce182f68b142288a03a07c0aaefdac",
      "0254ce0119b544fbaeae56483c933cac",
      "da5d11fd11de479f943555ddfa7ffc81",
      "8387a806ad7942c190bccaf3020ef766",
      "04c2a999519b4a0a9d40248a645b9568",
      "49e62518036d408392879a593aa6c3df",
      "550144daa7df4185bedace1005f99794",
      "8ea74550ab114b609e454d85fe46e20d",
      "2d89f48046e54a598c9f961c2cac4f6b",
      "4e8ee57fd00b40179acf7264ef8fdc7e",
      "a21fd7136f6b4a69b261122d7916f5a3",
      "7e98d5e9547d4c00a24412bad971968d",
      "b83f9e929dda4ae2815b216f9081692a",
      "01ca95a393184702b97766d6e025869e",
      "54f3331b9cd54caba474bee9794853a1",
      "8376b0fa2dae4195bf77dcd8a2204a5b",
      "4eca2f7ec4b34fd5a613bb8f72fc2bb4",
      "1c60bc8837264ae09ae97f0d2b930222",
      "ca47ba1bca7f4258825050ada74addf0",
      "dc04238a5d59417690e21e4f112373b8",
      "0af5ea780c7b487b83f3bb48aaeedb4f",
      "6b6c54e2e5a14d6e9871ed70d6d1c52f",
      "8719f90cb5084dfab6185014bb873c43",
      "aa2608fcc1a943a2a4974614392c5963",
      "b509f1e8bd684a9c9b5cd97f2c7e2712",
      "4669972cba9b4ce987c00afb42822565",
      "9ae287837ef6461c99e7f6f6063bdf06",
      "ebb1fc3ce1564d3f8f0d336230f6adeb",
      "ef752b9f6b5643a3a0fc1e05a11dc656",
      "8c797272528042768770262bfcdddab8",
      "845c82bd6713451d974298e255ff6219",
      "495cf2200eda4eab9923ac5a63dbb72f",
      "33eb4682dc084453afa9ccbc1b1c9a0f",
      "352ca6b04ad346f19bfb3f049f2b49d4",
      "195cabd2cd454b82a4e2809922d47480",
      "5f45c3d38e8d47dd96c7aded1730fde3",
      "a64d73fd6ad54696b2cc33e08effbf41",
      "4ebf310f72fe444099e9cb63c25f5eb5",
      "daf04598a8364ecdbe58de520175fa89",
      "871e799d66cd4f82bdf849a860d5acd2",
      "7f957173298644298aa4f1beb5871f51",
      "bf5bfeb45086422b949fcdf543654826",
      "c0a9ebf39d3546a28d9cd5b1e3f9c320",
      "dd96884ba79c46ea8d5753d239e73415",
      "4af68f10c5a649ce8b97697173b384a3",
      "5e12fe2fd41c4e5ca3b5ac74cd2e2f0a",
      "8d88dafe2a0d49b2ac3efe0c4227f330",
      "e214098b97bb443d868faa456b2fdc16",
      "9da7c66cc9c84166b5a5425e2bdb3757",
      "3f2f64fd44c74aa29fa8dc2821683d90",
      "46732e84673f4c6bbba65aecdc8ed43b",
      "ae6f04af72a341579175c02cf832db6f",
      "1b517e00a8c14d46b7b6b7d0caa36113",
      "2067daf49c6242f79aa370433ecce46f",
      "15f363b3a24541cb8ce466041103db42",
      "684cb7f9a7784748b331c49d0c28d19e",
      "fc5e5dc34b1044dd9ff7bdbd2ca58c73",
      "5264badf387343318234f5285768809e",
      "2ec83952343a48afaf1129ba44e140d0",
      "26d3e70a46e14e988ed4f2adaccef90c",
      "46f04acab31f4cf79cd7c0c227d95a20",
      "408b307c8ee749b3a4ad3162dc2cddb2",
      "6b39267417a84b7db6bebbbcf1394394",
      "6eb6b2ba51a0465596cdc752665e2eb1",
      "969e9e9585914b2399ab2766d1691bcf",
      "655409bc3cef46e0bcd143b97b6651ff",
      "6b00352e6b614189becec67b33c33380",
      "201855d997a746d8ab52b68d0181f923",
      "ad99d0f08d20438fbfd2191e072c8cf5",
      "09252c399f784234bfbd1f112d8c818a",
      "893e5944a69c4e47b7073e20be7c87b6",
      "bcb929cba441443098de75039f2d3cba",
      "8a2fc02f97044b88ab3333bb05521afb",
      "382fcd6bd12240cf932bf0f771c8a87d",
      "7040d46cceda4c9ba0b23a2b0a24815a",
      "eccd1084af1441cc930429376780cf75",
      "191f3d8731f44c928c13b9476fa544e4",
      "cc5e394a011d4199b66dc57958c17e4e",
      "da14e6e8061447579abfdb0d6133b494",
      "c6d71dd2c0ab4837a5437ce445e9e19a",
      "bcb3860367f848aeb3b247317dc2b7c8",
      "2cb1fd3f13bf41f38c0ef1a2fd065c0e",
      "314ff5dec6654d77ae3377aedb1f8b86",
      "89c7818ca5c541a9aff1edee1779f4d0",
      "cec301b487424561b6eec030cfd0f2b6",
      "2fe9e03d4e6b41b5b2085e9614611440",
      "9b4d10705b28493eb8e4271f690ef3ae",
      "66e6d74019c94bfba5095fc4dc5bdc59",
      "25f071afeccb418c89e1024c0e8b68fa",
      "be6133f88f414a4183c26b1f7384641a",
      "99737b2a7e6b403fa76ca596a004bd97",
      "49a87de003b640f18781e627307ca5f6",
      "e3d70ed910524cd998de64507254d0ca",
      "a9e37b7f34654b6fac274c447ce0062d",
      "3b47c82037d1442fadf3d89799a5a001",
      "c07a3a9553784eccbc988f2d9ac62d8c",
      "640b390dee9e47c09d3ece8d99528698",
      "1a4c942d4dcb49de928fb0a6c0de29f2",
      "270932d62afb487abced1f075ecc0b53",
      "bacf44b9cfd34993aa86ae321b67264a",
      "a9ecc70540754d2a827ee8f21bcede1e",
      "d06aa72f7396429e98499bc89662a5fb",
      "34ff84420a2c4b889d8c9781d6e05781",
      "984d05bba71248458a8518a7f79ed675",
      "025bc15545e8413a8c0102aa0d252e8e",
      "1e2a94fee1ae4083bd4321c548c3de6a",
      "3779f6c30ce44b0193ec37d760812e33",
      "5e2f5543a2b347e296c4611e1b8ae26a",
      "9d3e16c6e1ed4a9995ea0cbbda7c95b2",
      "30983582cebe426083fdc6135ab6a1d0",
      "22295a1aaa8b498eb8935b25043be2d8",
      "935cb1ac5fb343f48438dfedb7502e77",
      "dddf53ac7e9449bebd7d7d730394b945",
      "3d4824dbb4b14b29a751464efc126342",
      "6a5faededcfe415598e457e832050299",
      "1b5299f2e48f4353befa5e6a70ee7370",
      "7819b6cc30834311875acb01635fcbde",
      "55d026d4fb1e45b9a783c965835128b6",
      "3dfbdb695abf485e9abc788b811931ed",
      "41d736aaba0b41b9bb70bbea05b6d1ba",
      "54593d9d9f904546b87340fc50e5e753",
      "8859585f8cb9448fa9fc602d8af55342",
      "d5e3fc9de9b04e8fbb646fc7046cc51d",
      "8263d6bb3a5f4280bec4be22de209073",
      "3ac4e9a9b81446d3842ee73c9b259fc9",
      "b7748125097b448e93165df82d306a2b",
      "b51638d607724d4f813c2dfd8d89c50c",
      "41915f87eac04858ae1811e988224ac9",
      "082e9184cb254e578fae32a46af9880d",
      "6414301d1dbd409fbab0ebed8f93d459",
      "71ed4bebfdba4910a314e88fe977be59",
      "4ded9fb736134ad3b9e3252f3ddd2509",
      "29a83a153ce84e5fbc83d6eac207b4fc",
      "d0ed08e9679a49b7a18a8df050601ca2",
      "56322b6835724357b006faba78daf1fa",
      "c9b267e8028142e1988520922c1fa3e7",
      "b11260f5696c484a9552c2eebc6df37f",
      "453d9e8efc1849e7af209789594089af",
      "53e5e255a9b7473eb33576e4b1e150c9",
      "dae5280cdeb44023868fcac1676faf39",
      "2856d79996cf493f962b639c12a89266",
      "c88e33fadc7f45a2b548e22f933892b1",
      "6b22215835bf474b9fa51b6d7eccb518",
      "314ca6efa02646f5a342552a38b1ad9e",
      "c1d5713a1d9347d584367fbb06172c69",
      "c9547c7ed49b47c497e576ef1489269f",
      "47004124b35a4681b02b720417e85495",
      "424567c142c74bc88cec727b96959244",
      "02fcab29e21d4342b610598770ad4304",
      "599cf7456529494999526d4f2d88df26",
      "f2b8803c37074d3d90a170f912e09680",
      "b145b582f34f4e2d9009edeb90b4a82b",
      "c660ddda71924ff4af39323124ec235e",
      "c34fd3afd56047dc9e291765eabf49a6",
      "30bb67bb159d45b183ee4b76344d4fcb",
      "c9752b8678f143f092c67c14cb518762",
      "6a75d971a4e84317ad15ea810df0c77b",
      "6e8f342dcd46414aa951118c730aae7b",
      "f79b883969264251a3ec9570422726bc",
      "b795323f9b644a0b85a6885ff1e7359a",
      "2893909b154f4ebbb7dd5af026b3c903",
      "c3d3961d3c2a4f1ba7f1c9f3bae14d69",
      "f31281ef97fb491db553ff16c7a51f38",
      "6d16580432f647a5adeb2646ee513a2c",
      "46f66abee5ae400ba007024a028316d6",
      "6df2c477285e4ad9be06a82771c2a8af",
      "d235fcea0f4845bfa62b19853a44be06",
      "1849742bf4ff48bc95eba8c4f9d35de4",
      "44be1d09b5b14d698e99fff10efac72a",
      "f1f892b0ddd84e96a15b2ddfd9d852eb",
      "829f8d37e84946d19213e2c26e06ee8a",
      "e4b54fc52b8441a99f89a77c31efad60",
      "7f4f6cb7759740cca0d4e38caa336bb9",
      "f8314d4b7589496c8ebbf66dea773145",
      "a53898745fcd4c72b8fbc3efe327134c",
      "8e6bda5b468a44f09372e26ab34d0b96",
      "3076523215d04c86b433e9e51caf38d3",
      "cf533d95aa244d10b6ef4c5e9001165e",
      "a7018d647eba453782ac5f115f0dfc0e",
      "3dbe2235d81b4841a76dd8dc78bc4816",
      "f3014ee0422e45eea4f53c64e424a11c",
      "b6d0c5788ed346f0a9e209a4316ca967",
      "654104370333431fb875017991f9d252",
      "ea9b46e1711e47239856c47e70f03b15",
      "426a3322856f445984b71ce1b385d275",
      "6ed27f1cef684adbae4bfd2a6d4d0980",
      "d978227f30fb4623a9102a0cef7e7207",
      "ae268a1702774f6b8958a39ae86ecc91",
      "6b69980a03c3436aa47ed23c0e2f8ec1",
      "7cebed17f7424750ae072c40a5641938",
      "bfbd3a86a2084c669b7ad6e1767411ed",
      "6c15767c00d3436d817e7d19f84a0f86",
      "d20623d2405f42d09885a75cf9318faf",
      "c2b306d1c8834fc09a4e922c2e5ff755",
      "4dff9833437244d7b6407eaa5aef7f0b",
      "6000a55d68a94d8db38a46274e431350",
      "c3d136dd84324b41bc87f8c0dc8bb2ac",
      "e03b313084f94b51b3d213cc4a2eea05",
      "763447c925de4f91ab342bcbe8f50129",
      "88f0ff8330a54e19bc7821762af311d1",
      "2863a4a9945a4bd5bd072d4c1649f16a",
      "c56431b9997042bdb1cd9af9ece76f55",
      "879da409416149388b9cb732d4528108",
      "e3e08e629ad64daeafe9c1e3e97830ea",
      "a1ad995a5d47493eb954ce9a0c22356f",
      "14ec002248d94774af63a86685fa0380",
      "a26608948a734088be44565e22248c80",
      "43f7da2b4eb54e20b15619e115575bdd",
      "b76bf982c1fd4194bdcf468435f84acc",
      "9bcd1ca4919e41cf9715b48f02251e05",
      "facd2ef516f84fce8f9780c63456f2ee",
      "1730ed4b719a429397a559c4f65246ca",
      "a642f30f1290432bbaaa444b3c8ac515",
      "b778707483674d6daaca089eb81372c5",
      "b5095a4766e24852a36b73ffb6a2a13a",
      "8e8da714ddbe4bd3881aea1d7d109d65",
      "52df2a6caa4e495db93bc8d5ea9c0fe3",
      "c592c9cca69f4aec9d8624c59618289b",
      "7ccf425495fc46a0bae3ab0f27dc46ef",
      "5b97e5d8588a41f19ee37dbb1c3cb5fd",
      "5a78c8945e2641099603fe511800b023",
      "c33a6bc194c34b33a1d587644be53678",
      "79c3a9f082224b229d07e6ac556a500a",
      "da5e79f0a274435b92824d9e85cff66d",
      "b0cb989579054cada4ea57e092f9230a",
      "0e7c942e857d48fb98aa99cf29fae87b",
      "3eccdb73d787479ebe42bcd6baf03714",
      "54cbd93807b34d9a9e7e73368f5acecf",
      "9dbdfd2a8aed4642916817c18776c28b",
      "efc44bc2506f483c9f8ec203d7a5de9c",
      "97419c19d346436997efa984296d2514",
      "0440a58746c843b5b2b6cbbba8f04982",
      "abbf946e7e8544e6a7281666e7841e43",
      "0033e38b9fa1411bb33cf17e2cab68b1",
      "e8c3daa7deab4b9e8c387bd7b69d824c",
      "e7b8981043dd482298841565c0d75da8",
      "a3b8dd6f2bdd4c7fa761373467fb9cb9",
      "0c0b470df00a4b6ca10e09aaaf43ef41",
      "3722ed5368ac4a6b864d36c7d37d05ed",
      "1e0dd23a8f89456484204f8651a13cde",
      "5aac541855414eeca2d92d04ee26dd84",
      "a38209a2790c4faf9e7bb06f1e1e8334",
      "1d16c670a1fe420c8302bd1168ae698c",
      "a681d0ab1b3b479daa14b3f7390e4b4b",
      "9f29a95fb4b7437fb5bf01ba29ce5a0f",
      "798e2de15feb49b6a78d261dbe85de30",
      "c8d99b64f5f04ef2a96ced8454d75c54",
      "a9c4c99d63f44761a6d8473ac8332f9c",
      "b813e7b04c814a0ca57ca39565e94162",
      "2ed2420188e1468f90ef50f823cc2070",
      "b2a3fee84bad49fb85795c396f40b4d8",
      "01f1c524e0314d61bbb8c6aaadf59909",
      "c490c684fecf472689b769904cb75e19",
      "355e7ae950d24bfc88731400d6142acb",
      "87917812e6c8438ba4b3ba823b5f4ddf",
      "2bab1f782d524b43b054d9f0499a129d",
      "a0f4659b6ac341c6a0a4942f5475d535",
      "6013bd9b6b724138b2838c2823fcc25f",
      "1f671fa84b3d4f2681876fa523b6f8ad",
      "969202429bde4f388f1518bea71c659c",
      "9350e0418d8b42acbfa1f2cbd9cca5bb",
      "69050ae3967a46178e883a5ccedc336e",
      "f4a384d050b44f4c83c203a6b241cd3a",
      "f361a069bc70431d96d0bb67732423c6",
      "8aa0fafdd23d42e58ba5e769146399ff",
      "2bf9fa42b00647e3b0be804785c62f39",
      "cdb9e6613cbd440ba4c2a5575edbfdcf",
      "edea9583a33f4edcb6886406af4e110f",
      "717b2f3ac3d44de18a051321bfa7d20c",
      "ac01aac210a14fbd880c1cde0be1a198",
      "e774f533d9bd48ed890b016b11357720",
      "933fc835d77a42c9ac8caa4e7b0bf9d0",
      "81345e2627d34b9faaffbb2c7d9ed752",
      "2f8014af670e4e95b795155d17b81b54",
      "a2f7489820b243b0a314a550a97fcc82",
      "41b7de0096e341e7a89bd6d32e10176b",
      "214cbc5e08784e42867a8f7c75b08b0d",
      "a0c3f5f99c51468fbcb944741670183b",
      "83df1d822d2d4cd78333ef3b7818af89",
      "eb2ee3819a664889b1d62f5bdf9c85d6",
      "23a8392042ef4ff68841388cef7ca3e1",
      "3d1bba69ba044c538b9be1e9433c6741",
      "b74ba40e547847ffaf90971132a83ab6",
      "92ba6450bf70467f83548e3a5a6bc058",
      "35c23c5e9e5b4327b0c45d23189fd28d",
      "5d80b1b2ecf748e0933881448e3da403",
      "094904062b164ed0ac1d9b58569610aa",
      "58d300d60f954b0e83fbcd0eab3d7d6f",
      "ed6d9c3140f049098aea9acd69f8eb78",
      "561ef570119e45d98609f291c162cb33",
      "45eb8760da8647d0b6baf6d18d9e97ad",
      "23dd4acc3c934c9f97df092a32248cc9",
      "56fe9221df3e435ca18288545e8821f3",
      "6d73f1f3ef5d497fa25010ced2a5a1c1",
      "7cb765afd0f84a4c8bf420a434a7edea",
      "2c56249832eb44b682124c0f9587b52c",
      "dbd847ce24984bbcb687d3481d97d27b",
      "9ac434508e404672b9baac7f417bd054",
      "0f6fe24972c44defa3832fddfa03f4d8",
      "9b1803acb75e4537bca5fd728462bcf5",
      "43cfb032575c4349b9b9ab6f12b18539",
      "295e8f4b092b4315abbd627b46a2ce63",
      "1d6da37ac5ff4c1bb0eaeea24a9dfbd3",
      "dc91c14177a148ab97c96f42de69a35c",
      "48dc189d66f148c1a2d4081d8ddaedfe",
      "c5955138525c4933b07ea7eac209a786",
      "1a8f97a97190455ab1328733fae2a96c",
      "52a0dd796429440b912f31a63fb1335a",
      "1f40ba2cc4294926b7226c92cfc84544",
      "ab2b9ddd5ec94abeb7ee508909e24997",
      "13020c248ed545f8a3389ab43aa694bc",
      "620de4ea783f4d109aaf0add4c1108d8",
      "f2590f1109c54ab7bec882891f7cdb65",
      "7eb7cdc2937341b596291f9d07997535",
      "7a4675ab8f484a329c68fad320ba7880",
      "192b684f3e3d42e4a983d7b03fb548d5",
      "995ba8c452424ca19d60d018af2a151f",
      "a395b7ee1c174292bd580dda6ef1922c",
      "1ce163c329354a0299788410fd8409a8",
      "22879f4959c041b9a679f09e6938a596",
      "13d4d2fd098746f380bc6ab698d881d3",
      "d86877bcb4ae4f19a8a3735c3fbfb485",
      "198541361fe844d99471f5a2eb5181bd",
      "bc5355d0296b432c8bac1090e73a3257",
      "164392a4fe2a487abd35c87eac705781",
      "e8422cd0cbe342ebb9c7968561b48111",
      "39be275e6f6c47f9bf84b3e8cabeb262",
      "e66c2a203da44a6fba38a79ce9db9ad9",
      "ac0f0b139a6541a6a12ff7218bc35acb",
      "d50347cd7ca0424d881f1598e8ae7e9f",
      "07136fa079e6447e9a06aef44da43d33",
      "a795fe527fe34368a983400463d7afdc",
      "612c960e38f34939bbf410c57820382e",
      "bd97724dca5e4c8cae4f2fe2f9b4e4c3",
      "b95f0ff1f89a4710b58f32715b51d0b6",
      "75b664afa51444a6b732d741736cd7f5",
      "def6a2faf4b44461b730c51d88f81d71",
      "1614f77feeb34c35ad4e94639d96e20e",
      "180ff12838fb4a60aa3454ed9ff655c1",
      "b0c975a878ef4fee9840fc87f21c3e6b",
      "408dada939bb4244bc429f9cc0a2dcdc",
      "074061084e724b5aaa1f2f2bedbe2fd0",
      "dd0f05e0e8fa4a06bdf7904feada84e9",
      "b8c77849c6ba41958f55053daf2d56b9",
      "0af7a73b9e364b4b99f846d882bd7d8b",
      "20cac65e775e444f97e5a1869584180b",
      "66f97b224e2844ac9c84ef124df387a4",
      "5c37fb11fec74a07800361e6c3fecb9c",
      "fb80b2af90884308aca22b7dd465b2d7",
      "ae2c5c2d273b48bcb81fc740d0ad3fd2",
      "4bd54d146f2443c3964c4225897c4270",
      "59141eec76084cebb39b13c9f2c6c0e7",
      "efb50fb265a44304a60ca196a8eebad0",
      "4600a30572fd4132b05f3127b11a4670",
      "866975819eb942d2b6a8b7a0d08ded6f",
      "033e3ff254f94fe882923a9cc6a75cf6",
      "99f1cbd07105486a89c940c5a54d5c3c",
      "c7877e76abdc424ea897ef22ec5b5fe3",
      "2db6870dd97a4494b6ffd5ee8fc8f12e",
      "d1eda7fd95354adb93ec0fccce16d252",
      "985ce0aa77f547979c5ad63f7dbbd476",
      "30059ac95c9f49668676865cbe3bac14",
      "d6f2b4360b3a4786a6ece0ae2132fac8",
      "107cbebe09d1441d951d842022d5a096",
      "6f48c61c3dda451ca64999e86a1c51cb",
      "5ac92f2f71e842ee9b29c89346b43b61",
      "543dbd4b5a4448dd8d46daf618365c81",
      "3d69bbfba9764734ad66c9223c08ee40",
      "20a9bc8164644269b7c45a3f7469d444",
      "b47fa666c2074860ac5c08750141c768",
      "b179d576d8ec47db95112fcd952e10a3",
      "d0b19f65d86a47399611e6913442a767",
      "4c66acc2d70a4db18e538237a51ef401",
      "8db37660537f46409329ee01c91bc6c6",
      "45ba577725074d4da047444124cfd198",
      "942f0206b1d0434bab40a73047790547",
      "07c31bd066ab418ca9e30b22d82aa679",
      "7d3b563f8838426e8ff308052b705d7b",
      "36ec83502f7241629abd734666a43fb4",
      "84b6c3e969eb4be9bb01e84c9714f326",
      "8c031b7b71a84a409f734d048ace0102",
      "a065509598844c749be6e45dbb4c7b47",
      "859bc72f092147589cef8a5c65717fc8",
      "363a320c8360462ca55ee10e995fc298",
      "c7709db291c04e9ba975f20fd87bc22c",
      "50f5e11f297e4bbc9b43d3a2a20c8941",
      "f19ce9c40ce24b148bd08266ab39d6f3",
      "f36926925cf04db88be1aa854ef4879e",
      "d8b0b40459124bceb4637a2783f9082f",
      "4c03c0850d23420d9fd8198cbeaa279a",
      "1edf19f97cbd47fe827d99f165002fd2",
      "6bcefdf2915d41a2aec5daca54509453",
      "9370cd0752d94ac9a392e41a24ff2547",
      "dd1a2c14ac5440bea6f287e740a9f5d3",
      "9707611f087c4fb2be8f321638445fbc",
      "d26035b0705e4e1bbe48e21647729b40",
      "6d3ee2be7e304d7a889bc4d77251b457",
      "eac242c2d08f49969f7f5f557004ff65",
      "9307e33138264452955f7e72e3c6e8ad",
      "b9326a25719e471baf0de381fac182e6",
      "b38a2f9354504b6a9769f03bf245c97a",
      "b42a359f53284e2694e51635c6b1a67d",
      "705ffd440e72400e9b034bd05d8f5f04",
      "e0658556cf3f4ce1b9862e8c2feef557",
      "60435e8b1a1c4822b589711ff805b067",
      "a309085d532d4b76ae9c6aa02b8fc4ec",
      "62b8ba4952d047e2b289055a37399376",
      "fb9420dbac614b31a489d85863e52bdf",
      "4525f88c671b492fb6d1f8e81eb0d34b",
      "22b3f2cd5f0d43c3ae87dd71fc178be8",
      "bdafc843af85468eb168235aaffe9d24",
      "8e196ec4bff644f79a4a80eeb596669b",
      "8a4bcaf70fba4370812dbeb57a82e741",
      "6b3c1ec58d5046e6adff6b22fea382ba",
      "dbe7c627b2e64d27b6f6c626b8387e1c",
      "da16fef7f1e84919ae5d95344822ab86",
      "ef49c4e3aeb24742bdc99488bb58e7b4",
      "7625f9b47da4438288c835c152390e8c",
      "c40ff19ecf8044ed86ceafef9bec3e88",
      "6e37e918a86e4f59acb277b1a92d528e",
      "b0ccc7f004794026ae5f625b1280a79d",
      "1301007746d94ce8a5253b58d6fa618f",
      "e7bf77dc5b184d1aa2f63f07eb6cc8ec",
      "af3aabc0cd674ed59c6db3960efa818a",
      "16aaa34885794daab25858c4f096db49",
      "a7c500ffdcb74db9b3814e0da9beae03",
      "839ba574d32444b8be1e228396dade69",
      "682defeae4ac49c9806750e3cf9581bf",
      "68806a610df246b38ab211f2684550d0",
      "6508e455bc4d403e805b2f6ea1fda0bf",
      "35af7c459e8a40a6b9e8ed7a523b99e9",
      "3b42ea9852a3418ba85da0cddb9a65f0",
      "411feaa3c9434378979c29aa99ac86cc",
      "cfc7c7bbf93643c9a9bcf955a3d933aa",
      "1260071882f4405581ad275dbbdf1f04",
      "a1eec40481754390bbe7f13f03f6a4ae",
      "cfa8056194f34f2294c42d1762abb663",
      "9fb8c8f36ec9450c8726bc0627b1c406",
      "536df3fffdc2400ca9af9fff23a9b6ef",
      "8bb977d73563461e8b142b3e700f045e",
      "287145dad7a849eb8db10bcbd327d036",
      "0e065c9cdec94692b14bff997f01ec37",
      "3bcecbd71c9541aa8db16cf012b72410",
      "e7a3949ab5424e33a29ef2dd5368d254",
      "db3249566e5349bc91be35dea36076c1",
      "13deeda54a0d46e3af41f044cb05818b",
      "249bb2697d4c4d6a9a59e79412015347",
      "42c32fd60d844f2087dc207a08f7cfd1",
      "55f4201efb12422ebc153f1e4f491159",
      "f144ff03d3f44bc09a32114f99bf8bf0",
      "8aa11da61b5644aab28d010bad0bedbb",
      "6a573f4ed34e43359eef067b54f70780",
      "0b0eab9ed1b24f9b9b76c5eb6f46c5e5",
      "bacac6a3a5f748e4862907c8545063f2",
      "caa086e9d51b4d0db2655186de6365a7",
      "5ed0a1c93c6d4213938fec604c3d4932",
      "b15e763df9db4324bf8570ad5558431d",
      "6e596fb26927443aa63d4c4360f99e4c",
      "b0004e3bbed34a8e857d9d7bc660345a",
      "c573f05d69984e3f99a27f43a94af671",
      "f35eb0f977ff4a899735afd43cb95127",
      "7d8b4cd75c95405a81bcd20d9515f706",
      "9634a9ed3a6c41f182ad81b57cce9d50",
      "378c4fe93ee44060aaa866827624b4f3",
      "4adeb6e5c00c4c3496918284feb0c109",
      "a3a77b5d9dd74ecd8f303310056961ca",
      "7fc835350be14ef3bd0cffe84e8f9053",
      "6723fc5e1f0e4895abef12869e0accb5",
      "3ee1e57f67a043adbda1901695f08b5f",
      "5d2efd15affe4ba0a021086da8ac36de",
      "16b968c909b741079c592033db88abf8",
      "b1f7d1c9a93c4625bf2c0fc2e351ad14",
      "46127fa42ad34430985a60aacb45a01b",
      "27a7076374ba4e5393ed87abd84c8740",
      "cdd0c663e1d2431984b2107951b07c0f",
      "e2b351aac016499b95c504e0ddf37390",
      "a3186be2fabb476986d43c9a4ddd587e",
      "3a4330ecdf534978bb082169428eb986",
      "fbad90ae92934f13902bd232de9683f4",
      "a1abee23bc1e420baed1e2aaa6874029",
      "5bd5bdbc38774663bdfd28de885d9b24",
      "263cb41d0909416f9c25f3bcb43f07f1",
      "81d885fbc2b84967a344449ab4435c15",
      "bb6bc6912514499681516e2d9fb304cb",
      "e69f836db8e24e528465bc107b2c2176",
      "87a04ac0a097407a94eeb31a1ddfe9dc",
      "9e3afb11689a4191964a870a03910a4b",
      "a9dca42c16d4437a8756d90969f2e0e8",
      "13cba052b6874f44b8d62f591e7b77ad",
      "e912d3a77e2248aa87ded2127c2e666c",
      "bd30de9251ab4f27ba7fd3b49e9143e7",
      "f9334ccf628c4aea95d64f7359718a25",
      "c151c0358d6d4b3f80777ff396780fbd",
      "063680bad9294685843d1e4642c2138c",
      "91a0fdce87d646e392d4f867c7231875",
      "3b462372b4e841f3bd615742ecc7e974",
      "830d044df0b540a1bbc1e1d96eb937bb",
      "69c71be5a2f544359810d1352dbf9d5a",
      "87f43575b592474b99270952e32231cf",
      "f24b0b6d6a654cf6ba5c94d881ad2fb6",
      "d0de6fa29d7e47b297353c9cc8d4e16b",
      "292f88beec01448dbe1b91bad84ed082",
      "db3d0dbc5d9d4f6fad969e2f44deb9a9",
      "1542517058b64e9da72447dbcbb72f83",
      "9c835a0312914699801b36d2659d8b2f",
      "5f6699b4de954e04b5d3fdaab8e69bb8",
      "c0e48db951ae46d68a1141c21bf54aa9",
      "3776798d4c5a45e0865c7f5eb2692d08",
      "2f1604e2604849e99ceaaa665eb91930",
      "6a3f092e152a435c93eb4dfd21d5e253",
      "ff9b6f44783f45eaa53fb8fe2831bbdc",
      "5b40db177ae7483498dd6b732a655117",
      "9aa32d47332c45a7aa9950dcbd16bab4",
      "144a11bc14f040418d8d6a8f96b8ad0b",
      "411b03c49c8442899872dd116528bd4f",
      "2f54fbc3aa1c4e9fab0393fabced9ef5",
      "3693461d45834864809a5445ff28013c",
      "2e05e1b945f74ed79f478845fd0d5eba",
      "a0e5ec254b8e4484a01b7cbb34287224",
      "34fb9646567c41f3953b6c8f28a55f5c",
      "dd6b2fe2e31d403eb19f210026565d7c",
      "1c4ea51e97d94cc69ce554e6e8b2cf9a",
      "79cfd723c43f4aa2b980c08710c502fe",
      "3cf2b9b11f9948d895c592f4ba399701",
      "a184232245fb41eb824b37a0323bebf3",
      "d1bc4294706a4f33bc78fd5e4ab3addb",
      "bca4f2aa0b9b4e3a9bd868257ac7bd50",
      "5c07a11e148849bd982960955da65b0b",
      "13e338d6678f4e7094ad5970ef13771d",
      "2719a419f4f240db8df51f82c4b4a180",
      "403967058896430bb99e30e18665b58e",
      "53d1cda7eff743cd85570ba0e33193e5",
      "298ca4b4fa674315aead019b50f0ec68",
      "fa535e5e9c9249e7b2060ebf82d68193",
      "209c29a4f418430d998f9e80edf399c9",
      "fc4c037998d9449e81043b9bbd9432ba",
      "1fc0919b213543f9a0673066e8eeff0a",
      "8ecbd7ffd1d84ea48f33a2d5d4d2e189",
      "4539757b761c42de9a6af1694d31389b",
      "56542112de844d79b447577f9be168a8",
      "ee1e50b828de4ef3a65bcd592f9ad087",
      "4d398a099ca2499cb0c661a1f886a390",
      "00b7bdbc2ade457da6270255aed94624",
      "88d17fd2f9cd4fc791c657c0269f0951",
      "d4bf9b717fd04d7bb6b45ef6f23f7b01",
      "9406fb5e5cf24fd690f787f73eb0d202",
      "9299b0915f28441aa5d0b9ff264973a4",
      "eca464a390c84345b305faae1cb118b6",
      "6de174dee3ee4dfa9bb482e9aea62646",
      "ec5c1cff36ac4de58317d8d693d0220c",
      "eac1854ea81a46b1b236cf3afcdf453a",
      "d9e2ee7879cc45c78b99b2bafabb46bd",
      "e4695640b1aa4e61be28b624da932b81",
      "93360e24b9994c06874a416191e5f9d6",
      "3c68c27aa71049a4bc631d38bf053f83",
      "da112ecbc1a74a7c8b0fbf9d1a90f264",
      "7eb13a0de4c74a48b65245d70ce43e06",
      "4d8161d4e4624dbead9658277ec608bf",
      "7b2943acbf464a19a0f82f68f0aec51e",
      "3cc3328b6b034a6fa6ac9fd3f1281718",
      "af9ed1dd9d624a91ac3a877550460d4f",
      "0cfab489e1a147dbabd9494b8544d241",
      "7ce90553b12b40c5a592600e8736cb5f",
      "f91257b9f10e41b1a49e90ed9ccb0cbd",
      "072a4da9ac8b4736b49eaf5d9cc24caa",
      "b36a4942c8da411d9a9d8819c715d0ed",
      "4f2196593962452ca8b0256e49b1d3ad",
      "98e763b14e894dabb907108f69333386",
      "9218968bbf5a43c49caefc24f6601f4e",
      "77168d33de02418381f38eeed6f1da9c",
      "c26f798d6bff49d2828c013295a9c560",
      "ba46e69498df43349f3f9c4451c50dc9",
      "2d11ff392df94a9888cba39af33a2396",
      "2be20e0e3bff49efba55ed42a8a9b845",
      "a9283dc338c34546ae9991ad30ac9528",
      "5b0d035419f748bca515beb5449f8a18",
      "9fbe190487994db691263e5fc2f7ca66",
      "6c56d5044bef4e24af6fc927f4b616be",
      "e958bb41c44442ffa893afe721b0f69b",
      "a94ee3b4927e49c98383392ad971fd66",
      "22f04dacd4cb43879b3fc2b0a04f30a6",
      "02c4823d88f84f3094933893c6e03cf7",
      "b9967d0e5c1443da9f7261766caf5222",
      "afb5b919f50d470db80ae7fe6844f07d",
      "ad611d6fe3d647a5a09241d3b50a6f7c",
      "b2fe2742acf24b97b53a361741a671c5",
      "1a68f7a1c6a844fe8de08a8afcfd61b5",
      "eba4ab2f639c4a2ba178484b4ffe2a48",
      "c7ce57164a764886994243003df4f4f8",
      "bee058f938754f9f9d67d1fb992230ec",
      "6abc813d683f48d790ef94051f824b05",
      "daaa51dfb1004d8db346e00ce25b57fa",
      "e8f6ae8b408342729018f511ed5c2f73",
      "c81d35b545d84722a9d2fe9e2369c938",
      "6da1006e0e4b4dc093bf5d0186598309",
      "a5bed227b73c42d0aaa7df07b3bbb4c9",
      "52726741cd64433db0ec3d7323a838b7",
      "82c58f432697451892cee5b870893350",
      "239b4d25a0b845c9b323c7c3830a1d99",
      "fd476999f2e84a91a74d1a640ff54790",
      "c9ad20cf92a348a2b537ba7215f2a12e",
      "e6d331e59c294a3fb3e37a414fbc9879",
      "463b03bc92ca44ec98a2c4c4a67bb239",
      "dba9b3e984e34f06b99673c47122d3fb",
      "eace71b24c57400883d4edf0fea558c1",
      "f79fdd57b1f6405783e88da19353d214",
      "61d295c5e61d4fee911fb35de2a948ef",
      "68d9c8250fb94c1081d7c989f413c7ae",
      "c6781bdf819644a19fa17b933cae0be7",
      "10a69908690f4ed4adc2dda980ca98f6",
      "2fc0a97bd8ad45349a5bfaee6e8a751b",
      "0f28460d43bb45bb86961938bdfd5e93",
      "2f62e84968ff4a4e83693ea27f270843",
      "e95f9820a3084729940d75d2d9c570ec",
      "ad951aa06e4f4927b1779ed033f3b7ef",
      "e51953d45cf54c52835aa04acc59aaef",
      "53b45e398a1247f59bab2198371ce9ac",
      "090795ebb5db4aaab425d3beda9f5180",
      "1593b783388543cebe2261234af31ea1",
      "cfa36297893140db895ccd84da399b74",
      "1211dc535fe4439cafbe80a63db1b9f7",
      "43234cffdd97477696ecdbc69b823880",
      "e5afb30f08a74ce9ac6ea385368ebbed",
      "aa33978bb01e49648e49627ab41af9c3",
      "67cbf07dba2645c3adddd775f7792a20",
      "efc16be0e33e4b55a2597d1a5c4771cb",
      "30d44fe1fc7c4b6c923757c54e9f24ad",
      "f3780249cc3e4f55a7a86c00df25da5b",
      "e25097f0c51a4e8989ba164886901c3e",
      "78aeca92cbbe4e7cbca9adf78d80b629",
      "874e7e93744c441bad37f86b65a1628b",
      "5d31deaad16549838dc2a875c68b3ff2",
      "429dde9b5549489e8b50ea2c0a3b3945",
      "2b8e0668f55b4613872e34914b6850d8",
      "4387cbd190bc4315bf79c16601c562fc",
      "8479a416394f4e479a5cda6065a75946",
      "1e3092c13bc145f6920327e5856d3ec0",
      "eff01f4e100b48b1a1745bd7651f84c8",
      "f4fc5e9337234f0191bee929da4b624e",
      "5120bbbdff9a43d889b8254cb370572e",
      "d527adb35c274c79ba887682448a4ae3",
      "a961b5f49b3f407482432d1fee4ca211",
      "f6d15a1678184fd3b63f12e46cae8a3d",
      "e31a607f0cdf436da55b664009a54910",
      "6c6b534860784cf099c83c0c3f854440",
      "abfad15d29464cbb94d1982e44298b33",
      "ca5a28820d1f4e5e9ec2eb05f0bfd799",
      "1f6fa248024e409486cdf3bf488f703d",
      "8b45464eab334b5b865941e0d23ede6c",
      "3390d39a27724881823f538a44f0d791",
      "ee5afce8df9b49bb85ffd8da2024a705",
      "5b1d84772cbc44f584c1fd79019157f9",
      "8f97905a019a44abbb2ff1a4cb1cd27c",
      "597290107ea84c9785d109c634f0398e",
      "321289e71b784feab4792a2f1c91cc3c",
      "3ee4ee42183c4ed7816fbb2a88cb89d0",
      "cb5f1b9f0c174f68a82789e0c14f0974",
      "027dbf279c754c3da541865e40999a1d",
      "1eb36201e33e489c97d1a2e4894d9d2d",
      "48a38fea7bec490299a17fab355d01b0",
      "8cb5b69afd9d4d00a07f8bb6816a5477",
      "37247dc2e1d74ae0b3badcabf10dd843",
      "f2b37d443ef642599d672eaa65ee2fe6",
      "b4288313639c49bb80906a6d75f79951",
      "b3a8bf57842f4497b71fe89c7dc739e0",
      "be8064007dbd48798550af1c0539f731",
      "7f0ad4d3da1741f79534bfcc8b0e5713",
      "ab0a2759d0d54f9a98ae4529c2c00b33",
      "07a3ad27ff35404cb5bf9080dd7d937a",
      "12abbf0c011040e4a0058c22c8f0f098",
      "ca80817ec292435582e84cfb5317d502",
      "86b6e18acdb448beb256fe7f36858960",
      "c31b837a128b47f39d8332b4190940c4",
      "dd40e7ea70044aa799b3c1b4e145ef6e",
      "4c02efb4be9b4de0953c8d9b9bbe832f",
      "a2d935dff10e46e1a081bd57da5535e5",
      "a53458a695f0495891ffc16e077f213b",
      "b78ff4ad409e4af29da23acf181b401b",
      "aeac33f154e24f41ba919c604c3da9a4",
      "8e485702f9c042c2bc139161c6c7d877",
      "c714b1c244824441abf89089b89ccc21",
      "a2f10b1bb6894de6ab6f366bd8a64c8c",
      "04f7f5e045d34fb18ace6d749a84fa40",
      "26b8ee615b2845119d09199636121adb",
      "b33d1a27900e476cb9a2e5d8600a3286",
      "f8769c356b0048d68aa002ce168ca055",
      "808b2f0c7bcb4666a921c39b7accd6eb",
      "ac28913572fd4823ada704015025f858",
      "e10ee1e970bf4937a4aae8db80920a0e",
      "2ec36d72fb7f4e7284ba73e5e7a39cae",
      "5396f23e580a45d9986be4dbba1975df",
      "f57920b037e446b7a50ab32ed0ee9a96",
      "a67755aa6b8d4fbebbe394c3eb2721d2",
      "fdb6c5855bcd4f75814a7e9c2124efb9",
      "bde37360a439415e8b0d649a708625d6",
      "7ddedf956d674144a982d5ea9e05b9a8",
      "cf0e9683ee5940bb807b196c06d4b253",
      "72b5eb7aa0e445e995dbbad35349ffe3",
      "f9401419e64a4b21b14e42277ad5dbc7",
      "b8b159540a1448d7889f9e66560a83b0",
      "9eae6718795545c5964403fd941d61db",
      "58ec365eea084b51b3af8b4e81182cc5",
      "c45aea99c45c4bc6804d419ac34e7e62",
      "46116b3fd86b4ee78c9150a2578a581b",
      "ff17e0a969204f65aa59d30288d42c0e",
      "0f33b01c698b41d68266fb450b6f51ba",
      "a40a5194a9164eaa9ce5ca816df95824",
      "1f8aa36dc7494c80b6a512f057e37520",
      "c58e433e39ed4deaab86db897161606e",
      "a9f49a27fe654ddeaa2964773ace6722",
      "d66f316c5d404d5eb4c86990c7cfe434",
      "c2af334a11d94d3e8f18889a4d5c6622",
      "7ca25327ec2b495e82d105881410f195",
      "63190a3a12c04c229b944dc11fdd87f8",
      "b590afde53fd4d81b29ea7ae4a8ac14c",
      "87a6f7f7e9b94e47a62751f4ffc55a27",
      "910b3d2b36124269ae5e6d6d716074f5",
      "382dbc4904f2473c9943fc7be6c85e5f",
      "32e381f6d7db4ac0a8c261e1bd651fc4",
      "55408d09f5174eff8aa8c478d6cd15f0",
      "39e41a2b1cda4b4cb3dc4ec71c98138b",
      "922c9fc493524c1ab432731eaf8f4a6f",
      "2c53a94826444fe392127ce5a2aafeb3",
      "a8c3b34d938e4cd2b119e3be7b76d972",
      "ce50de1941c54f468eaeaf80f1bd7dfb",
      "0aa23ec9fbf54f29b4e523547fd1f085",
      "559b2f44998c4a4cbb24d2a65cab1bde",
      "b04bffc962684a7caf18510e01cbed9b",
      "8a390020e732481cafe2e6fc91c45a12",
      "dc032409947a4ce8b29cd8aa92327a44",
      "cafcf5b8eb3b488585ea57c3d37bce7d",
      "e06ad1ac0eb14251946c96bf74e00c2d",
      "5e2e28bbaef94b459a2ecb241a04d89b",
      "2a9ff4453e6c4c57b4d4dd20ae4dc290",
      "4bf6c1d640a64abe8ae144929bc47c2e",
      "1bf442823232459c9761fca11da0d4de",
      "9914af3bfa44472ab6d62e462ff8514e",
      "5992e70c2d1c43698203e6f090ca7824",
      "9db98cc824de46ea8eacd0f3f22348eb",
      "4ccb2bf2a82c438c8789ad17b6db6dc2",
      "4904b69ccea5427e9df5b2d0b0397366",
      "10e8a6d59e754bdda18de387ef1d62e3",
      "d01d58879d1a4000a7ec3038dcc90900",
      "61545cfd2e8043958f3bc3adf566de07",
      "63307346cd8f49999149983f3b404566",
      "a311c161a46945b1bb602a9a108426a2",
      "1066c77aecb7419b8f5915e2b5b70f39",
      "c473a27549d34011ab619e76ada4d079",
      "2c3cf3d240c247f3b3cb7be257deb194",
      "e9adf0a8dac84b88b06a625ab2ee9fd5",
      "28e8a1b1ec0d41839a8b5092a3836057",
      "c61d43aa2a4740ee86a163129a58ff37",
      "6a521d5fb2f74bc3b526bfa26b11bfd7",
      "86d1e0000993403689ab62748f1b3f2a",
      "9d81520e9254458f9e391b88c8c9608e",
      "37e9b749de17414a9b6fd16fc364accd",
      "f88f07c4c03e4a0aaa7686ce46fae035",
      "c65f086b77e74c898c48dc2a59c9fd21",
      "7cdf5b713ff242a1b6fcb1d353047b69",
      "f1435e57503d4698afacfb95fde4b30a",
      "ee25f03f07bc435697e5ef95cfb37292",
      "8bf3ceaba20749dabcb1ac675fe9f26b",
      "554f98d77a164612b127c498b9c3440a",
      "9131f0b3f2db42b9938ac0d155b41f87",
      "570c96c441514c3eaa29c5b36b93e80a",
      "9d23b95f2a4d4c55aa98414d5505afd9",
      "976ed98b6bbd44b595017858a83b21cf",
      "d1c547fb4e1f407a9c23ee66b8ca16d6",
      "1ff737d822cf4e76b835c62a2c470561",
      "4ae7fc9e12b14f5ea4cf53ef60fdbc7f",
      "d263aaec94144bc195f07958a78c5384",
      "a5617c7ca6434b4f945879db1247fd0e",
      "9fdd3f9b7c96458db382fd3e8f1a75c0",
      "9036c9fd0e2d47e991f989ed483a0e85",
      "1186cf9cd48f40dc8f7361bf445887fa",
      "50e299a470a4411e985700307fda0d0e",
      "5eb59c557d6c4546a32a0f04a52649f9",
      "1b17aa583d94411eb9bdc6c7f626e2e9",
      "85bb9737e5ab4ff2a59255be956f75d4",
      "4308361f379440fda9c3b67a461bfc62",
      "5de773ff71ff494699d3d0da54f5d2a9",
      "cdf21dfcd12e4c9e9e37ee6babf25737",
      "4ccfeab9c4f749b9ac71a037d27827f9",
      "b7ec818c229b402daa1da6a0ef4cf7da",
      "2208be1fa74d4ebc972436ec6ddb7960",
      "926aed96e72a463eb1cacfb684d2080f",
      "77ace4f63c7e435e8e051f84a02cf789",
      "713e4f2fa85c4a3a861da4fecf107db4",
      "1cd7b13269a44ee59625ef91e94a37dd",
      "a116da56bd0c407ba3cd6c38464f1770",
      "f6f28fcea219477ebc0130b8ead5e50b",
      "39c77da3ea4d4824ae2cd2937d374dd5",
      "192bfb0f8db8418b9868abb76d6b3b10",
      "1151a534d4a24ea0ae9abb9f8235c3fa",
      "670d630618da4b64baf9e741e41d135c",
      "ea609ed2b18f4fe0b2ce13d5d17d1dce",
      "6b408ec07c02445fb0cf2e9aea43099f",
      "e8032d55b96249b2b54225fd963f9401",
      "c4f65dd34a5a454cbd72b1ba27d74a1f",
      "2bfbb34011274599ba9aceee76c151cf",
      "1ea7b644923744859d437f5dede97a1a",
      "6fae9f0c07554bffb5347618bbb76ad1",
      "a056d66f276145c6bb5a45a8c76f0ec3",
      "fd20a5aec0624ea1a7a023add71defc4",
      "272cb50406894605927ca511d1844aff",
      "8a153e073b90404782114709c566380e",
      "b217e369ecdd4476818c7f998042c836",
      "c5a6dce37eb645f888a9b8d09e334a60",
      "fe5b06a4cf1e44afb3b08adc60ccc336",
      "877c45a4ee6a4aea969727acb27129e9",
      "869ed6378f3349c88d35ebc02064ad3f",
      "f08948e44aa64b569952e765641cc3eb",
      "c8a9fdae022042c3b18058078d71216a",
      "3acc389b93504224a0dd9ebe4d27cc09",
      "2b07d010c77f4b30998e251e36294cdd",
      "98736e7e772f4157931778bda4d57377",
      "1990945a61fa47ff8c4abc64710c5896",
      "c08dcb155ee84cba87ecc0f580bd98db",
      "91e5cfa6643b4f489ba57765770b8468",
      "eeda8b6de7844b7a952e93851e1d93c2",
      "e14865ed8dfd46c6a96c0caa1295252c",
      "3554969ea32e4cacb50cd01110f73d9d",
      "79711a0e5de74c43ad4b27a3bc31c0fd",
      "e968fd630b074c3a84aa08e7b3ad249f",
      "f590d5266f6046889932f8ff4e12b6c1",
      "3c5180a22ea741f1af83207c280cca45",
      "5257fe4a7562448484210aafba0fb6a7",
      "0b97ef54b29a42be8001d607c22826fa",
      "c6cb62a33b65402ab43573e6d01fe52d",
      "31758a61c7cb490da912b44b2e92755a",
      "3d6e89aca83c474b9b113071d1629e16",
      "ad8ef5590a034e8ca4cd5cbda9d55222",
      "7a31b57c0e0b4e19bf2f4ee2544d6838",
      "f48dd3a8f61c443f8371c78ba4b7272b",
      "6ac1836381b847a28325e573734f0331",
      "d241b12778f44004b88f505041301e02",
      "1806568def2e4567947eec37cf3a3907",
      "f2538a42ca564e35b731e954c06baa2c",
      "d5db6516362f4dcbace15c7735db4457",
      "f1d502b0eeac4926a6ae65cf402ac9e6",
      "44744af2c6324c95bc1aa49c9ebf5d2d",
      "82ddecd8637d4bbeb2e37669d4b9554b",
      "a8c52d8d83f54a7db461142c4ca37ca0",
      "e9a1c8ffd220406f92f900f3e2e2770a",
      "4fcc50053fcb47b8b4c7d21b95ddc3af",
      "835d6416da484280ab38a18e31426c51",
      "329b0cedb24648d997c3681e1446a1f5",
      "5c95a6b6817a4be0a756697354f1686e",
      "cce0f1b5f01b40eb810730a77f7bd12e",
      "e01c1f570ac14931b8562eb78d6bb700",
      "eb5478ccbeca44e18e03f25e3a017d62",
      "2fde6d96ac744053b7a82df769aa3940",
      "024a8013dc2d452e8939bf2a00ede59e",
      "50c06f5ce8ee412bace0516dd21e7ed9",
      "ff0664e6ec214b0ba4bcb94dcbe36ec9",
      "8c95daea6354412eb7f028ec2c9368eb",
      "74a6bd22ffbd495f95de4b3c46feb1ee",
      "ad346e5989a944378df7ab37007dc416",
      "a77e128e36994fbebdb4910ca4a44be1",
      "6c14a13a80e74a8eb7ee695ad407f325",
      "168b10f4c4b54714a361fe5a20713856",
      "2a2f92e5593c4f609f5a44b80b7b2dfa",
      "bda6b3e4d35b4a43852861796cd73a79",
      "32ff8dc42a5541eea2e402e9d885ec4b",
      "4a99de706372434ca539f0cdbe99d4fb",
      "f5b1d2a9b44f4481ab367934b32b613e",
      "f73beffaa4954fdba2d90019854a4f4b",
      "68cab8b7feec4d6aab70d9549ef4c3a3",
      "bccea8d4425340b0a58cef51355169ae",
      "e1cb4d7610b54395a3c96263833b7012",
      "a6e80f2a090e4934b8b55c07f1bc9970",
      "ca6e157536914ff8a6ebd2a8346918f2",
      "0892be4306d24b6d960b4e7786631b39",
      "4273d1b453f84ed08fae31f5e0f496af",
      "68a9bc43b4f147d7ac6502df3dd9d6ed",
      "7a5a344da61845d1a86041f30622cf60",
      "c083f103df804a2bb97775b1a3d404ce",
      "74156979cc194247b1a87cafa857277d",
      "3bd7eb7cea2b4cdd999335d4be37416c",
      "d37afd919510479ba79d118e19451c2f",
      "064e37623954437683b63151487788fc",
      "930e7c95adf644b7877b2b32f872ef30",
      "8aebaff2be1047b9bf73169e674fab50",
      "6fed3f2b28574c8fa982a56e8c36b273",
      "53d1a6be33ce4cdbbc9f13c12f4fdc66",
      "2109fed17f3f4cf099046767120e939a",
      "bbef864b813c44eb85461555a38dc6a8",
      "5aa9c73c07894faebd1d7445a6556785",
      "723e11df301f4273895b668a55ca82b6",
      "73ae46a5b5f7452ab7d12f3d636c7373",
      "61bd1dfe33fd4bb1bdfc9e6713a60444",
      "af1dc198bd7e4f3686183330f65f9e1e",
      "444d9f67ae1f48099c4faa655069aa1b",
      "a460758b42b842ca9f64de0586b369e2",
      "b915358059c74c94857f47100f76066e",
      "828b02a5e55a4e119533c0ffb267fe5d",
      "7890193de7de4f8ead50cc1b65e5f90d",
      "27a033fc507d4e2fa6a17aa1e16e2b58",
      "f8d71e5eed374b7a8e06e921a622b529",
      "413c4fcf3caa4fbd817aec09ad17fcab",
      "7414689d5fa440ac93e8e25eca898c4b",
      "87195cef77044a668127f7fa899e8701",
      "1b3c92831afb4f04aa02ecf53300b81a",
      "c4b1ac5723ec4fb7a0bc6cb12bd39b29",
      "568901e3e606454fb828e1fcf533ab66",
      "daa14840866e4ee883668e2c99d917a1",
      "fbdf44885d96455eae9ad450392bc6cf",
      "b2dd3d009c51413f857ee2e46e6c0afd",
      "1e315dc3a0024dbcb6b86647466ce49e",
      "60b68f4a1c5d4698aa6f5b4e52846dfc",
      "be22f929b01f42edaf943384494ed4cc",
      "956aeada9c3f464bad1d0a5a9ef21dbb",
      "520a1e898b774363ae90cc3c5564da5c",
      "9f9c959151d143aaad456a42d72e838e",
      "face022573fa4ab6a74d705205ead0a5",
      "9ed1eeee93594e0b9d8850016d609677",
      "79be2203a6ca45f4ad4f85304069234c",
      "cd6f84f62c714da8a58ce77c1fe2ba99",
      "8d2c4528440b42b18fec53dab1617381",
      "e1eda2167bf54a80b67ad3382306391d",
      "871d590242b54139ba09c87c0cc8e4df",
      "cb728f30e0464a3189c02dea159066fa",
      "3263bdaff34c465989efc73321ddd822",
      "53512486f39840df8a3820c85cb766d4",
      "fca22c06e6e34cd8ad843a9ae53edf6e",
      "1fb4206620024cf78864e54a52edc2ab",
      "b134f9cebe554aa1ae1f8535ad609489",
      "db87934a9f7545c1ad58a03c295d6fbe",
      "330133e4c6ff45768f6848e96f9a6c1a",
      "cfb1eca50c8a48ddbad9b9db58a5bfaf",
      "a899c3986bec4ed9bca834df9c1fc437",
      "9315b3b255874f25b56c5d5e887dbf76",
      "6774e85c5053441caba92046533921ee",
      "eef0fdc5ca63495597b56db6d4c2b90b",
      "0b1e683e8b2040f5b9754e7a99a84058",
      "bb84aafd906b43449a0111ea7a89d970",
      "6555f0376b6f472a81f8d606d5417026",
      "280224b77284474191420f30b5abb61e",
      "290101e1b8384a29934a0e0beda11b0f",
      "82fa7cd1a5494364a8da29922cd2977e",
      "ecdcd888d7264d578524db3f9659c0de",
      "182c5607798b404289e871aa214b90da",
      "10c0465edc7b42d1863b8adbdd61584b",
      "0f01f1e478974f97a8f232a971d56aae",
      "ea146f1457ef4efaa6978b3ca8acf125",
      "1b860541f3b94c18b52465b2e332d7c3",
      "f1297585ee144451aa58e3ef3c326350",
      "21292c930b834ce18714bb5b7eaef7d2",
      "4ebeccbc8f41433b8487c19d8fafe931",
      "6b41b7ec2eaf4c19a1b85bdfe8551cd5",
      "83bb5f1bbd2d4b14be536298e62298ad",
      "46c6c2bf76a44e18ae25ac971679548b",
      "40f2c3381ee5401badeaa9aca231f718",
      "845abb29291e4958a020755019dea051",
      "8abef365a86a44aea909d76a0d726850",
      "21aa9e397c064153b16b26fd9ac9a872",
      "41112630b65d415b9eb6e30d67a85677",
      "7d5413fb536a4fa2add1e0c865b7e321",
      "5d921f91f9294c70a0d788e9b6bd4d54",
      "864e37d1ede949c2880537073ac24f35",
      "216f10e68a504e73a88a6c4678222e88",
      "315b21c81d9848fb81c61fdae55a4ff5",
      "be6dbc2276004e398af0513a77d2ced8",
      "647bd1f6fe934181a465f28ef639db1f",
      "3dc1983cd016479bb73bfd6fdbe0aadf",
      "eb0fedc411f04ac4839555c5e90ac2d5",
      "61c47aa159f647ac8da6637c570b40be",
      "59d084b82aa1407f84d021b7414235ea",
      "0dc4f088a5564ead9ff7b167b194493d",
      "bc96c83fea834729bfe7c5265eb12669",
      "8013dc3c8d4c48d19386832d336cdf68",
      "87dcf719dc6b4af8897f43884f349b7b",
      "7669797206a945ad9ccd74c39a619c03",
      "19f5e89ae95c4d1fb058a91b783824df",
      "7de9027ddc8f4a44b1a800a23d075d09",
      "d030ed4f2fd24b71bb8f6878bbd843af",
      "bc84b54024404d79a532733cb747175b",
      "483480e8bab040d7911d147a42612e3a",
      "9f3e90e289374855b6d45e8704645d88",
      "22681dbbd99d4d0c9d1c6f811d90926f",
      "d9ac5d1f5621475cbd786dde67806e9d",
      "b1d2d109ed0c4abeb6244434e10e5814",
      "5419c32955ce4800bac6350023f0af22",
      "5101efa960404e47afaaad009bace4d3",
      "d504756787bc4d02aba9ac6cfef45afb",
      "58e9d156764744b39a7078fcafea7acc",
      "c3f7a9df517b48789522afaff0c337e1",
      "9b7f2e9eae56423dae0114beac42efeb",
      "12a965df7c06499ea2e18a0385c28a31",
      "3b0f563ede78434d99b9648b8f6f1553",
      "e555223cb28446d6be389d524149c913",
      "0e3b93487eb749a19c08933abe68d24c",
      "bcec4c50b44c433a9ef10d89cd48de67",
      "194323bef3c641fda9129a0e790883d9",
      "ddad3e7c446e445ea9f6d71c250767aa",
      "65332e7044a14b12b97f790305d5a838",
      "c2c3423b11e7474699317f6007ca50bd",
      "4e08f380d8e54fa9891dff83916cc6d7",
      "d6864c246de9470590dabb50d6c398ff",
      "41358452a1fc4dadb47238598cce465c",
      "7ba4527d62c046ce846af475539de2bd",
      "83381a0939194c18b4f96b6962d5fddb",
      "764dd0308a714ccdb58696bbd60ad826",
      "2910ed8c41ee4158bf8a5838d88894ca",
      "75c5ae907652479e9a2a4c74754317d6",
      "fb9b6c02431549e8a1658c2876d2b742",
      "0fc957821d554c6aacdc717baeee46b6",
      "1c76528d8a234ec994090d4591faf97f",
      "fa7d4a1f5696456993ce72fd44fe45a8",
      "43bcd39982f44735a1e2ef260b74851b",
      "59529c3f3cce4df9b63d13e1a1025e28",
      "2a85b08079074305b88031b8746e59e0",
      "845d089e020c43938fb633ab40e069c1",
      "bfac1ef7c488449d83bce4650d6cce12",
      "514e62d77f8047ce8a6c3a47822651cd",
      "ae46107a7e2e4065b29e0d92740359fe",
      "8aeae7e7643e4d6ea05a5bd3c2d09ae6",
      "990a94531edd48a281518e40d2816303",
      "440af7de37ee45e5bf014c5e0fcd21c6",
      "b81f3cb7029c4e85bf476230c2c4e124",
      "58407037b9ec4d24b8db10e5d1ee7cce",
      "66bdd4086e444fce90c6b9a65bbf9321",
      "288c4e19c26a4d46b64842ea64cc9726",
      "58ee2120d3304e908569aa242c1e1d40",
      "f3d23303feb243a9bbce7890f7176851",
      "776d9ecb0aec44db809a312bc8d930a6",
      "f4899a7de49c422598d6d5e86ffb0ff4",
      "5c628212c72c4d059c3615aabadb078f",
      "f155c785a95e4ef18f9272d1c0c89d33",
      "544778ec2e9147d09965eb57f9f99d3b",
      "d9c6c8edbcd6424e9516960ad3cef9fc",
      "1ffdbbd8dd25400eafa8ff1a5bf83468",
      "07d95291673d4220b6478c859b1c35b3",
      "2b2975ba49924fd38908d06597c1e8c8",
      "4743b722cffd43a1b20eb7c912bbb1d4",
      "6bf6b7b597604fc690fb6a289a992fc4",
      "7eba77080c69420ca1a71074fadee99f",
      "3c6d3471b2344f3aad213876b5e412f8",
      "2b5322e36ea0437facc677b4881df107",
      "e3dd93d970c145c1908f4300fa5c16b6",
      "b139d55b31f04b9f9a7baa7a11c8f38e",
      "b4811fdd53c540d3994d409d13766ae5",
      "dfa5c68626654a6e9f4e7c9285da2e1c",
      "8933c130da4444509083463d2b956133",
      "61e49c9d62f743438ff71581334eb5ad",
      "544c655689ff4279a7e796d1da0adeb7",
      "bbdfcbf5717248eabc2627604097dc4b",
      "d1dfcda4d8434a958ec2c8658221512b",
      "d03f9252eeb243069de8e2b68b5e83e6",
      "482c610d23a44996b32d7803b70a7cfa",
      "2967eab1869940edac23770d4db0f514",
      "7c78303c28074a499560e77ed4514bae",
      "8f699fb6e67f43a39e28c6f271f7d07c",
      "d86cded3e219444aa1b1593ea6ae751f",
      "fc525d65a5584082be14469a2a0390e9",
      "3bf56a6dfe6c43978d1fe361530c2253",
      "8522ae9700d1440a8f01f9776959146e",
      "bc7a20d66b41405183469b716c3225a4",
      "88d03bbd0bb34a82ab9a87327e1c5676",
      "a255f35b85374228a03a154b5ab69e00",
      "0b9e1454e17e4792ba69eb29658f6e97",
      "581148e16c1647f9b486503e59adaf9d",
      "2306392baa8742d5bd6f8781c503064e",
      "9b4c021df12f4d8bb5cfec08963c043a",
      "f5936a81361545488b13cd38b7912a50",
      "a07fe76c76b24f6ab296486815c4bf9f",
      "b3cb199078b740a4a0c837af395b608f",
      "8a73d3dbae4648a3b5b1c1312bfd15bb",
      "0fe64db655cf4d1991f83588eefa66ed",
      "20c0ac773be14ca6b688e103bb278cc7",
      "3c54fe6138df465ab7478585f52e66d0",
      "e60979a111ae4f43bfe8064e93fc0918",
      "ecde4d5e61494828a6659bbbf3ec8282",
      "6cdf59bae7a341ef94b47b5a1b6fb30d",
      "092be516b465435293d5d527a543f92b",
      "f3f320ba24bd46d38f8a48a240fa46a6",
      "8b554cf8ac514baa81644412dd265e01",
      "5ba2c631acb64e359396a045e789d633",
      "9941124685f54dcaa85facf3f87fa47a",
      "c9b73ffa859845989dbe9fe1b208ed92",
      "7cdf62e524f742a5bc76feb61a8674c6",
      "6bd08c98f8664e8dbf9ea3b99e501952",
      "128ce3dcf59c4c86844f64cecba674ee",
      "e38b4434d25d4c17b971e519bd254fb4",
      "42ac0dfeb5544c398ac4de240e5c9a52",
      "a230ad79f66b49319b222a5653655876",
      "073e0d260b144ef4a5dc4dc604708007",
      "9f35c5a12ac546c4a7d0930bf23f750c",
      "063ea1371be2479fbdb4fda4e304240f",
      "c6782eed7d3e409eb8572878b57eece0",
      "f4836639ae4a4564b368236a2f1c50dc",
      "0a16338978fd43a0a461fe328918d07c",
      "3c0257de2c7148fcb02366c541c02cf4",
      "d87175e2b5414cf7954d92118341965e",
      "d1851e84478542cdb63c10d91b2c2338",
      "a8c0654446db400c88e58759bbda0aac",
      "0e178c16b29f42ed862e41034eef9043",
      "d93b042d537248d3b5acd6ac47a562fe",
      "d0e9c2b4cc7e404e905dfa2914693a50",
      "f7428b72e23c436b974108221e86d51a",
      "e44ec95c44ec439e8a08bbe0618d4768",
      "6c2443ade521483598bd6923933056f1",
      "d78c5a4192884250915024479bb795a3",
      "a3934ca09100426d85ee0578bc4c867b",
      "75afc3d601194f2eafe59f034443cbf9",
      "f28f3e47cc304f09b6a4cde54ac9cfcb",
      "b366c81291114ac19d23e046c020badd",
      "ceda7da4dba34c0ea8b1f38c93dca557",
      "a10a3ff16466488db9e2423c2f4adc93",
      "a3f7e45ecb3c49bba1bd87c34ca23b42",
      "ae9b9a0a30bc4fd189455860d1cd8cdf",
      "f06c084945f54dae9db4e64a1f71492e",
      "1e3fdd3d896347ed9bdc3268ae07848d",
      "ec01b363a5024b7290171612800e902d",
      "6f2ad6f794374c928d59c3a034f13f59",
      "8aaac9d0ade14c98b0173cc40fd6b15c",
      "332db293b4f8478490ce6782dea1c6d9",
      "f96ac8a723e94eba9f8e2307204c14ad",
      "98e8b19b1794430780de89d2d1df2849",
      "3177c14c91e047bf929d03f3e96a7f72",
      "e6ea1109dc9f413daa637768ae060007",
      "1ee7233c0cb549159ad1ef57f1a35c08",
      "420c9e9898c2428a887c2afd53d44242",
      "6709650af0b344f49deb88ff3c47731f",
      "f12bae21e5274d649a1a56c3ac16b6f1",
      "488eff4274624eee818cc2e511d955a7",
      "de6e0ab7052a4fa6aaaa1bd7104f6861",
      "aba497affee24cd98b3cb513479c8c9e",
      "898e6e42de7f4897b32b4bc075b26e13",
      "eaf6866dc9d54b019280c4aa00ffbdb4",
      "73b22fa5cf3b4b70a1457c66b2288919",
      "620890aade50440697a4123972d99a96",
      "93036cea3f484930a31c052e179f8638",
      "4cb0af9e46bb4e9ca0f17f9797648dc1",
      "07dd046f25544ff28129669859dc6d0b",
      "161f30f86d91494b91a09a5fe1e1db41",
      "52ddc37862c84c18b4a44a80548384de",
      "490f9a43cf664517abee8273b5f7ec1b",
      "a8161362576c4d82b9c368323e340991",
      "745c48214d704dc2a2ede6ed3663611a",
      "1e6e176289094a68a8d3d3c53b52b28c",
      "c25120a9f80b43cdaa7ab12658d17d4b",
      "a1fa3a6226174f608987315f353b9526",
      "b645b30f55fc4d0b80ccba168427217f",
      "ced7b1802e334931917725c219351ac3",
      "9f325657189f4f8e81f75d0745a039a8",
      "d3319b481e8342f78e26b77773310abc",
      "ce92adf261bc4e8aba5abf1245eb8d80",
      "96c37e67ff1646b2865ee9bb0f486fbb",
      "58763e286759418a85d3c1e18e17e6cd",
      "2284531d8b184085b2e16a1ede35d1a4",
      "964df80c596241b79d46a47e4201e7ec",
      "80d1e2eb1bcb4b608bfda3211f5d01be",
      "e05ef26c3043482ca3d68bfa1bb1f538",
      "e05245671d8c4114b523cfb46f7c5f01",
      "999824755b85456ab86c22672d759059",
      "af868b14eae748b2afbb2641dbd42f36",
      "80aac8bfa2f64420ae33ea617782a641",
      "5985d1fcbde44f03b19a2e171bfe9ba8",
      "017487128337457aa0bfdea23900fedb",
      "3921187c058844e4be7c6373dda72f7e",
      "b7a7003fb22348ab96718e86cadcb624",
      "d4a73f8780d145d5ad28526e52e8930f",
      "50d586c9671d417193f6ed57fed6654c",
      "3695d0045b254f41a13e1fb5e0d4b993",
      "77cb3977a46542148fc58d38d3d7b04c",
      "b8214e14020d4e098acf50004be320af",
      "cea869f7dc8a4295b331d9ee5d6f917d",
      "e09b9abaeaf44c7da49ed7670976ea14",
      "1c3a927b68f64bf6abcadc490cc1c339",
      "a8e11ae3a3c34018862a4ac6dab5e348",
      "b9bc29ec4d0a4ee0a9d731c6a2ffcd11",
      "aff06d7d86994aee9f3484262643174e",
      "70a3323bba3a4338b24ad10ba8988c0a",
      "636810f69409485cb9de1ccb47357a21",
      "cab312f94ce342cabe9e73f1149ca3d5",
      "1b280fa49e6b489bb84c6a1f9ee84b4c",
      "d35f60f464dd4af48e3b2e7a6f2a5845",
      "229aa34ee5c24745b9d57d3edceb7356",
      "d91b0ed8d3b24580ba63c450384d1e06",
      "efb62d9e97214f62bd02be90a1d8d7c9",
      "a97abe69a41a4963b37fecbf38a9a4d8",
      "41fecf42ddf148c3945cf87371702b56",
      "c3beb7185afa48b9bbd2d4cc824878cd",
      "d342b411336948a7b3032769eb197d19",
      "e0ead973efd34d20844cade66243541d",
      "675429337376434292c83ed0bf47c33b",
      "db5ee580a0f54fd3862262e29757215f",
      "8e23b7c8864c4872b1d1a182b7f80099",
      "9dfb47f16d4d49038e64713c2a9ce618",
      "4578de18acd94f6f84ff9c74a98ba15c",
      "e6300c3ecc5a4139b70bd9f7af4be758",
      "ff3bfb6df03f496aadff8c5489526c6f",
      "edf9ea411d2a44a1975ef5d66f3d35dd",
      "a14c525788aa4865948668bb4eaee32f",
      "f2ef10becc9245e4b928015a98ca0e4b",
      "a79af7cb04334ea0890932be5ce6dbda",
      "aafa41ca49b747008bde8208fd255458",
      "0d1a247ea04e45059341e9e561940300",
      "fe10a99643ed4e3db1c4beca9310accb",
      "6a63dcd663be42b39ad0ef22331f8cac",
      "0bb8df3767cc4987a2d793c2c82c46bb",
      "b1a317e282c74cc9a078afce95361656",
      "e312e4169bda478c94b9e892c29533b1",
      "aa8aff4d9af2438e8417cbcf852096ff",
      "f2e4b5ff7a0448ce8bbc8b682170ee0b",
      "415c1f68cad3412791c38aa8b93babf8",
      "7708a270dc7e4e28ad591f65ace7c460",
      "cb3113fe85254945a517659e6cc9966e",
      "a97a8d483cd049bca1afc52e644bf049",
      "f06b75a6d1314104a02ecdce4d02d46b",
      "ace8df7a617f45b1a649cf6a02711276",
      "d9b43701c14140bbab5388c4d170088f",
      "8f64b65b0f6242959eb1a1ab548d5206",
      "2119e381b45241f79d53c0120a38af14",
      "5e1760dc377d41cbb63bb6c0cdb4517a",
      "68846d9e6e68443ab7db85eb2e65a0eb",
      "88ecbeb821cd4faba9e648bec5236c54",
      "ea3713bf60aa4d94a3d7cf8ca6597fee",
      "df64aad628e04084a2548e34610f0c6d",
      "a8c5587d9fe74bb099e378c1896e3bfb",
      "a9a5c1b5b98f4fa782c6915b121812d6",
      "a26f1f01cfd5459089cf5f5b6b085716",
      "cc13dd9f931b4920b80b252885c8ad5e",
      "381565389a034e6f8ae0595e4b72d6d7",
      "f7e251c4c1a54111b0fcbfb52d8274be",
      "ecdbec7ac36847009905139529cc9b57",
      "3a4f630d04b64979974c59167634420a",
      "c645e06b52654b18a65cc249efa551e9",
      "5011ccea02cf4226ba1e557b0edffcef",
      "2ff376942c1b41438d26edf2deebe815",
      "8d796aef855949caac1e6e1373cfd6b1",
      "962be4a68dac4df28f47aa1b8ed4ca27",
      "6b30ca87f6064cfaa2b78a148533bfb7",
      "ae09d748682a41a1a723f4b9407b3c10",
      "b228976e7ce04682a9e63b9ce0b70871",
      "da6d99eeb3534b479ef5b0278823906f",
      "037a3ce9c53c41efa3ff9fa35772870d",
      "1aa92b5543df45038b6862c0d47bcaa4",
      "9a66c82b203a4559937186917107e5db",
      "7fd7fdd89e5e477f89391115bead6488",
      "83d1410b5f24476c9845c241a8c7acbf",
      "98182a59ab49493d9a68646447452a68",
      "cd311cf715ab4f1f9a04a557dd169470",
      "4dc5e268f3694fbcab27e120d1ac95d5",
      "c1f0679809ac45149a8e0ee74015c660",
      "92940f083ca2467fbfecd1ec3521cbe2",
      "f85a6123a08e40abbaeba553a2839555",
      "39025845d94a4d50b71e8348e88e12df",
      "e80223e1844f4d84a800e9999cb2b390",
      "5a97fb7d7044451e86f8e0fa4930f4be",
      "d507fbbdac93454683885ed09d579ff1",
      "bed41d56bee343e89eb4b8af1940d41a",
      "055f6d51981644d79705f761254cba54",
      "2abcd25140c54c0d90138ed6c88f9b7e",
      "81aa4f481155401f8834d670cc5b6d1f",
      "d4b6a31d77ef4dec90e87e4c72d1d5a2",
      "9ed45f8e05e54661922934cb1eb9b299",
      "3cbcc84c1ad644c8b27ead80f8ef5631",
      "f1ed9d05618d4efc9b7b3fd3ae358f85",
      "f0228bdf7db544a29a16778c1d63035f",
      "50e33dca5d3c49f5ad4b5e8aebfbbbf5",
      "768581027af949e992faecd4def91168",
      "a64daed349df4e38868d7d1df037c6cd",
      "a1cea6bd13654040b9c233cb12b9cb63",
      "1eb9277941c34ec396f63907129db620",
      "6c167cabe982431eaa8da88664999822",
      "712d07e2e5d14917b5fb5585b5d65d77",
      "e20d76b6cc154be392896ab3e9e7c652",
      "db87c1b952584fb8806438977571776a",
      "b29b9f36891149cda4c81c58ec43ceea",
      "d01e612a0e0c4f779dcfc13d866bca84",
      "2d881ed7bec14d1aa92d35db49a86dc1",
      "b5786781db8440f6a6e85e1e09ac83e4",
      "01e85d79a1904ebabfba955a14526225",
      "c58b2ba0e6834fab8cd4ca1b800dd541",
      "6bffe9a73adb47c986fa23b9f335f824",
      "352b2c2bc7394a76adcf3a51d17ce2d9",
      "05870d304c5f4e388f1d182d822682ff",
      "ebc7176e84254a7a9b18737f1f40b43b",
      "def9b4e9067f4926b637e79c3a6e72f7",
      "361f169bc935470a8416222f17df167b",
      "d133bb333b074e3596f29c53a074c4cc",
      "4ab1a56503b24d8d95f040b13abc8709",
      "c863a82efa8c4b26b89e241cf4dc4cc0",
      "36abc1e843924d13ac89104eeb7ff4f6",
      "416b0c68ff9d4e8c80f0c0992783f818",
      "0ea7edcc9a914095ab4afe1d8f4eca21",
      "64348bde1f7c4a1eacc1100952a70c2f",
      "821845ed67154f1db0fabab87c7ef72b",
      "8709791987774100bd5963a46186e685",
      "d7d4b97f9b1349c9a3f7d4894ff47efa",
      "f74e10229fab45149011be2b96031c48",
      "c2baa081e7a846d8b02a462058064a07",
      "9b33127cf5a94405851cf043b6267f61",
      "b466069003c3434d81499ef102374dbd",
      "c66bdabb0caa4283b12eb3e93d253d52",
      "614dd591555c4fa2b406fe170888a785",
      "be29bbeadacd45959e9b8f2d47c2120c",
      "a19018d3b04d4951b93fe1a6bdcf8c44",
      "f984f0e4e0e54a999fc21b19db2e0d78",
      "1811b32f250346c8bc56f99d7d413710",
      "5e8e9324b2374f3db6c8735781b4cddf",
      "619544390ec34e6f90a6b134f5c0281b",
      "93c9e11319d740469dfb300d8b6c0389",
      "a1fbee4ffadd41da8b4fdce745bb6916",
      "9162acb11f7f4e7db91859bd72a949b5",
      "18b5c003c73b448e80cbd154ae85f805",
      "e8a0f54cb15549c0a8ab1834c7664c91",
      "0ec4200a39f64654b6ec21ee35b27c6f",
      "a06f08f20ca4470da0fe5b93f2a30eee",
      "bab73b542f4a40f78f7f84f46d1bc3d0",
      "9b4d24a08f7e4d43a7f69ecd57387755",
      "34d8abad8be34375b1a607191d5f2fb5",
      "1b6d49bd6bcb4e42b0cea27b11e288ea",
      "07317adf5357499a98b8c0b902e84513",
      "28692b21d4e748d8875c95aaa6bbf7ec",
      "1afd9a1116c245cbb48357e0e0d510fc",
      "d02468520a754bf697c7c1d8574f6af5",
      "773f4a12f7fa495a9868f19b2113afa1",
      "40c376dbd5284a1dad146f4f175b3419",
      "862c4ec1e4554a18847d37b3b54c0f59",
      "721e55e0efef415c80578eede569e03c",
      "c4d23816536048dc95eea4ca5375a57f",
      "4bc3a5ec25e94b7e8aee6ec0bcf3a07f",
      "195f6a6b72864bf89b9c744535971f7d",
      "181f5e6b674d406c912c0c582e762186",
      "8add8c0e77164fcc8086f284c4ad022e",
      "9780548860e54329bb09fe06691084e2",
      "58c82f3e20d24dfb95560d2d43a7089d",
      "527562bbedce4ae6a2bbae3ce308c4da",
      "197699f639824ffcb225c17ab0bf2e12",
      "088d7f2076464bf4a49836f55da5c309",
      "f96b4bd9241446bca13540818b013a05",
      "5b2d19f5c5fd4c83a8b28ca0006b2f45",
      "e04e0548b1794b00bd0ef156710dcd8f",
      "1ecd56e12a0e406293b2dfa15cbb5ade",
      "e467166af1644878b7a846aa15050be6",
      "516c063a74d446feb9802ac6088c945b",
      "2dc991e4fe8d4588b490d9d6c8873f2b",
      "13a9de25e15b496fb56b72abe93771b1",
      "63322b33eec44ec2a4a92ca251c326e2",
      "fc039d9c9b214ecd824d69830682cbe9",
      "1a8344d0dfde4845b56b809dd25f1b07",
      "263b39931af2443ebaf123add68d556e",
      "111dd95edca445a882b4a9a6efbfaaec",
      "0955d19c67c149f38b82dff03af35249",
      "d392730b21c944d98715e47428c779b5",
      "f77ac579ed71402a844a7ed98f9d2009",
      "75b0d9cc03724848ae8cdd1a4b588ca2",
      "bdb988aa61d541ae9c6004b3101cbc28",
      "c8d94676794d45639b63ed7f9212a9ec",
      "04bf851c4ee94270be9d5ff8a617ce86",
      "1808984108ce46c08c7608db969adb69",
      "338fd3f0dfc04562a8de05f5cb06dbd2",
      "e89cdd2b1fa04192b2a5d00ad219a228",
      "f963e92070464913b910a2019e803a93",
      "56404214e317467d90536d0423a20fcb",
      "7a611466a95749248bc0861d0d193752",
      "dea791e3fa3b484e9426fc8610657ad3",
      "728b4ed7811b408482079611a0835fe1",
      "ea43b2e0ee524185a65803c5b988e5fc",
      "0cd119e629854c92a13f38c3bf62f18f",
      "000662b0412e4e088435b6bf6c596e93",
      "b3fa439516cd4eca9286b2789b041088",
      "bf3cf98b9e9a4b099de57c95992ecfe9",
      "06fb686b88054b03963f7f97cd9787d5",
      "3628a86a467f43d2bc1c47aa435926f9",
      "39bcb933a08e46f498423b33bb985bd7",
      "d009fdceb36c497d982845e70d12d1b8",
      "103346fb7d60467486d999f5d88737ac",
      "7d151726871140908903b4427a5a14c5",
      "b7237378802e4f06ada68902d7a8b560",
      "28a7e20084114279a58363a6b946acfb",
      "ed950f78254c4656bb4e18341ec11229",
      "924b6e7bc32f4c4e9c0217fefce0c886",
      "9a037229bdf64b9787a7a62587e41303",
      "a39957534b3d40ce93607352dc554047",
      "0c3b43e1445344a5b2ccfb944389780e",
      "1467eb8c2a8f4ae0bd2e0bff6359884e",
      "e9548711df0e4740b76a0f9cfa2b20f2",
      "b217d0c1d2fc4121a9bb42d2d27b4705",
      "09db03edebe94e09b2af53d3e248f11e",
      "3ec2fdf7afa744ce8c51db0ee82f52db",
      "6c8f19235ecc4d02859cfe6a961eaa8c",
      "09c8bf4fd6a14939a15c98dbee8e5534",
      "e735e1c6e5e14ba1b5a63997f8e4ad31",
      "cbe2025edd714f2fa0697a77dffe4b64",
      "71fa33ab90cc4cfbbbaa7406f283fc16",
      "84ee842000f8488493cdc1bb03438499",
      "def4bbb6ac9a4d6b8337af1051a2fbdd",
      "648dcf1a7c4c4e98b954144935ce2899",
      "2d0db35d3f81434ba67dc355139c5bc4",
      "8a40d406cc1b4fd6b74dd551ec6deef3",
      "6101244ced814a98882c2d4df9fa011c",
      "c740306a23404934bc04cfbf2c17a5d1",
      "835829469ac54469a9b4580508d575f7",
      "482936d52a79417fa9e77fc7ca146311",
      "8aab7aab15c647e7840acd9fbe9fbb0f",
      "1bf61cffed9b48099b408013ca7ebe23",
      "ad1a6cc0fa4a4fa48cb2d34e2bcc8d8b",
      "8b80bb6a4d2a4ca89d143c1487f8d156",
      "91666f149f9141659b4d5f964beaf363",
      "dc9a749bb8f04d7c984a62618b0304da",
      "fbc0748078f348b28613272904b37e0a",
      "440ffe419c7e4624a499660a7dc25228",
      "d0ff42743fa349ccb3b8c660b7ee359b",
      "1b69ea17f05b496e988204d9a1b1053d",
      "643e62beac7a4944ae4778189652eb2d",
      "0ee04c632cf243bcadeeda1b225ce850",
      "de8b79f549e6490e988218ae5a8e7e06",
      "ba0e6cbb23884ff49ff0e48bfd923b95",
      "ce0f0328fe014267a5fd6c4d11b8b7db",
      "425dcf706863450e8f819736a6dfe012",
      "0d42a307ab994843a8afc67822086e3e",
      "959919d51a094211bd6b1fbdf13ed371",
      "77395f9a236e46dfaf88fec5f6d87d41",
      "1aa290e24b0f426f854ddbd344667f96",
      "f594b296f56a46828d59afc628103cde",
      "b465760ef4f84136a000d6e6d4389129",
      "b024c39065f24997aac7a3d0f9ac87ac",
      "27ba1e6ff73347a38b9b11b3c3ff6059",
      "4eb99c34de424400bd15a09ff21c7edb",
      "48f1e94f12a04938b8ce26c692e18d34",
      "2c6049cf3b7146b2a38af0c11ada8b64",
      "d03b377d9e6a4a4994be89283520066f",
      "a2431e7d5d7d4fbeb5ee958f8719fc1a",
      "cadc1d4c2ce3451c91ffc2bc4a4c4263",
      "c9c623431e5c49f185e224ad7ce96731",
      "de94cb418c974c438c66636fa673d471",
      "2ac1db4941bf472f8674fa6d851dc212",
      "cd09a8b68b3547bb901b7c680a7f89ec",
      "c5440ab39b8c488cbc4d7eb38ddf6652",
      "72b71fc5b943479f9911d4c9467cf80e",
      "7922597c2904449c8e25c86a805fff33",
      "7ff049b22f08461fbb0970e46a167721",
      "eeb2b3b0f165448d9072ef85fcc2bc34",
      "900ea67d7e3f4f11a9aed1627044a636",
      "a9188ee1b0674aa0a87bd9278ad1d886",
      "1fdf4e0b86e5473986493ad0b8421474",
      "8a177363bb2f44e9af674dc1a3beb44e",
      "ac628630c7bc49dc98251117d4c21db2",
      "084b11fd50234ebba8d26212493ff18f",
      "be0170722d1b498f8fe095511ed3eb2b",
      "7691e8d499d448a7ada305dbe1ca460f",
      "12471a753f544e7d98b43e0ee0d38f8e",
      "13ea70260f76476cb0e9437ba46cf296",
      "44f1e65f8a3a456fb10c6c4530c76305",
      "3c7b28f4a57a4a38a55b9aa19b4d164f",
      "75eb3743db974b32b78a48d66811dadd",
      "d7aaa7469fe6488b902c0312162fa29f",
      "67489e9172aa4819b911913a12cb582f",
      "4dbc36f7a14547fda3aba81c1a31d18d",
      "c1624bf3b288431e8d7e0893d5278c3e",
      "800d447ab7d149f5a1039ff761fba4fb",
      "fd9c59027f334f4c8b5d9cc8e1129460",
      "e6d2e198192d4f0d8830bcaaafbaaf91",
      "90bfa29f2e7a40f9ad1109b2421b0c15",
      "f54620b404b94ff4a87c33e45ed90883",
      "1be4146f727646bfb360839dac2ee719",
      "f89a72aa01dd4e84858ed514362b412f",
      "99f1158ff1ef445790bd0029d701b6f9",
      "d07cd9cedbc94733ba5df61319c9fbac",
      "0269902f738d4506ae8a8a0cf6dc1e31",
      "07bf7f48a24b444f849a568fe5e815e1",
      "c414b9b14fb54b8f9d26522bd27cb87b",
      "4c70a53c314f47aca247062c4850a46a",
      "0b7164fe672a4cf0a75539dc71fd059a",
      "ba72c1851e904de2b28f275d72cff5c9",
      "14fc6b228cc245b3abbd7d5f24b43a9c",
      "1eebad9b1e284c149c11232bfe11db6b",
      "f7e07de5d5e645d495f52706e0bd9505",
      "b761c96743834e7eb662c293430bcc6e",
      "7a2e583899fb4bcab0cbd2206aa7b9f0",
      "760f72a30f514262a8e6d91dea56ee24",
      "b0489de270264c8b8755fe4e4745ad8f",
      "c9771983e6424559ab30ca5985f84f77",
      "b1df11a8ae964c3b84e40e628349967d",
      "c7cfdf65a40646acb670646b1a1b2d7e",
      "de1e9cae04724eb595d74bcec12f9856",
      "7c0b220830f449d1be65ddf8603c93c6",
      "57b7c6db755e4252bd8ee70a0a4c8a7c",
      "c3cafcd0fb954ad7bcb3eb5497308868",
      "93f4f4c63e424348ae4fecdc6ffdb374",
      "7057983962fd46c186ed3db365d3eb5f",
      "9c4ba7fc988f480885f15153da5fa157",
      "2742b2092497474f9036d30710385c5b",
      "cdf5c471f7074a9e9e00b72a8ebd5c72",
      "f83eb71fcef1496d8959e84e822faac8",
      "fc4dd48cc372451c93393c21b8f1d72d",
      "82fe6e89c8ff447ea5ed0769af96ed18",
      "76496e23f3d64762a47b81409d7eaaf1",
      "a466affe9b5e44ad8caf66c250e20838",
      "7bad9c0eeb114b27a5be509ed9c4a28a",
      "e3d6e790e0da4918b51173c30cf62b41",
      "9f220c6252de44ac8cca2fa5caa7eced",
      "7497d2f5483648cd8d5ebf89a9ee9097",
      "1c84f86e10e14d84acc3dbe7042d51ad",
      "03d35fee20004864a6ee2936b357b6b4",
      "16ab0a5bb7254aa7a24095c340d193c4",
      "64adad0d09a24237aae8c4f351850917",
      "77d25822068c460f9e01294f29cae935",
      "0921f54869f146a29cda42a1e6023f1e",
      "9346b4faf696400e89b849e833630c29",
      "6b3699c3a7734976b4d2ecff98724791",
      "e8ba574304ce417b92676cf19b6a3d69",
      "ac1f9f5073d14bfca4ec443596f987fe",
      "127805b18ff042eea5750fd70f865444",
      "13442d0f50af4824a2b68094ef0c12f1",
      "76e2649ebb8848ec9105b0e35a64c2ee",
      "429d755ead6a4fcea1eef790221f98ef",
      "fd2b26d8178645ffb717c0b3550df6c1",
      "8656bdc71c944898a738d3910e4b13b9",
      "cab60a81b43d4c2193629af43e45de18",
      "046c0ff0488c4fe3b2bacb17eaca18c6",
      "2983c10200214838b8385cacecdc7708",
      "b8f1c1e84bb54b43bbd2fc79fd972f9c",
      "0d491d0d9dec4fbcb4c081804362da29",
      "bfa5e2ace56e49c5a91c99ad0793db57",
      "1c0acedea8b44d9595f786a5eb3914d0",
      "eda989f5d1fc47ef86607e9c2cce8dbe",
      "a894e84dbf0149ec97572752f5fd7083",
      "b3b7717785da4245bac833333e01f7cc",
      "dfd92021c3c44c5681af1f7e96e34c9f",
      "d0a21040a53e4fcfbcc3d6e340b8b04f",
      "7182a0e4efa7451d99b24452e58c9a55",
      "adcadf3fdd5f44fd88b67ddc90349a7d",
      "f5ad9c1f4dbc4caa8f1cd85bf1c9faa8",
      "7753ab7683b844499c2aea88e8274c51",
      "87fd5d6de5bc478fbb7cbbf1211e8ebe",
      "a7d95fb70a0045b292729eec303c1207",
      "135022939f1244ae9ee31644b7b4a354",
      "89db970940864a8da1115bbb4546a08b",
      "dc51716a845748fda2b6cd2949fc23b7",
      "e32c2c3b4ce3412aae7a16ded87526eb",
      "cf0bccf3506b4f3e82f16019a82feac9",
      "0def7c293ee54dde8b66339efe898ca0",
      "eb496e6bac074702acb457c555a57f3b",
      "11eef66c92e6443893955d77ad50dad3",
      "ecd4b9c9895a4cba8503ee9cad7c8b15",
      "61f515eda8a9458b9bcdf14e27e9bd3b",
      "46a0017e46fc419a9529751020db47e5",
      "223992d897c34fefa950708daa539008",
      "29c4274074fc451395bbe30e8d8f98ba",
      "41e8e298aaa241e1a069b11c7ae7ac4e",
      "43faa9c920a14e6dab3a18d00cd9e602",
      "d5e52a0530204f25966af5e0ce27a931",
      "bd561291ed4049a180bf52893b9e855e",
      "1d607a89b0e04faeab2af2c596eef085",
      "5b04a4d1e7334e86ae2b620039063cf3",
      "f70ce9a24eab4f82aa5391c397bdd311",
      "0f92127fd73e49f29032a97419eedf0e",
      "4440d57e15c24651aef67c9fa3bee04d",
      "7e99f445a969406b99c30f80ca2841df",
      "5a2b7935aa2244afb83ce92307a20663",
      "03a31c649ef74193b12721c4aea179e4",
      "e4f75468090440ab88ba137cd498c4a5",
      "c932b2ff78094297a41ed54f24eaedc5",
      "6ac676a91732403086791eed12eb2bda",
      "2b321c442a70492991d4b50e5954411d",
      "e69d0afa65e5425fa1989f2086f45562",
      "e9db7ff2aff24d72b81903900125eb1c",
      "e5158af42b434e518b5697c148fc7de9",
      "6ad7abe743ea40a1acb07550618a7379",
      "c082ab0731e74362b25b630863041006",
      "dd9bec74792e4e67b7b045d6ac35a5fd",
      "c16f0e03fe6c4ce6a0948d0b46a819cc",
      "bd4a7a0c58f649c399c638c12c14ccc1",
      "62548d91fd0d4fd68b78357cc08c2db4",
      "5145d8f8a80740e38cdc62b4e61ff4d5",
      "d577145f2b824680940627cecb4c1aee",
      "b05af170c9aa4a339ccd5a49594dc929",
      "4ef80b3db19d4aa18c5e435d1e0ca27d",
      "146a61c4e1d04123af93f88ce76451da",
      "9a9224191b264fde86840b07d59090cf",
      "0b726758d8c44c65932fb2df57c160eb",
      "b1c0dfba53834eefa2f4df5d73542053",
      "39b0eea9862e40d88a5844852228924c",
      "37b709003dd04272b93ce5e0bf583b55",
      "f28d055a555e4049a1e6177a23d8a9d0",
      "a661fbe5946c454c90d68ca2d0e6a5dd",
      "7dd288577c694cc5b2f1ae85a5c5d1d1",
      "f88a89d828214f13aacf60bc3c585d0a",
      "9c57eb05b6bf499c89c523b2c6d6e78c",
      "31ce2579da9b4af199d8d2a984635437",
      "ce07e3cf13514ce2858f98c3e0621f6f",
      "d70756efeca342b683cd60c877c5737b",
      "fb1b9f58246449c6bbd2e4bd2dd03027",
      "3b16fd92a1604429831b0d0cda79189a",
      "cb9892673d41414e8e2f84daa5580f5b",
      "cf6eeea23d7e41f2abf564d1f239da0b",
      "999211ffed504c209b428c3cac524ead",
      "24d91ca7fc8b4ea083bc681788ad4a9a",
      "a931a78f651d48eb9a8554ab34891b46",
      "3c374aa2bec9498d8dcf55a66d903dda",
      "d71f2c6351da44418af10bd9eefeb989",
      "5408394babec4d538b45cff1a4a89987",
      "bc54920bc24d4841acdf81da17ff3090",
      "bde03140ad774bf98a7c6c10d55e2edc",
      "6a681a9560664c5ca1934bbabdd941c8",
      "d305385c94ff420bbc73fb6d88787170",
      "4556e7bff55c40118a34cd202cbe5811",
      "f1ad35d4eb0c4c05a25dc14ed35988e5",
      "e9285062f9804ac1a534c6eaf6254edd",
      "fdf60a5d799b4568b19037a7443a7369",
      "f2cc1af0c053401880d77493c4375fd6",
      "06eb6b96e3d7443d9bbad2e3d8a70e09",
      "1d75b4b995834c9faad1acd001c21df3",
      "8a900eb806734a32b8e0c0fb7c96fac6",
      "8348237b28624819bfda341325346cd7",
      "1c089f286523406884274870c3044a5a",
      "c27944ec2b1f4d24b0d5b2a21caaf328",
      "87e1c2659f4f47f6860a7a4229a7866c",
      "af19a03008404056b03494f08b26f4e6",
      "d72613ec2032475a8866726995f00491",
      "49d1dff7af60467e948982dd26a967fb",
      "6baa6ca4ea6a415bad18d9420ce042ab",
      "d914c0b23fd94cdcb1ac194e2dd78d8e",
      "10a43b526ce54abe95c1dfc820613ab0",
      "24d787915eda422786d7bddcbaadca34",
      "9bd5425973ab449fa0e516fef2d3b6dd",
      "f5d0dfb4882e45129ae15ec7d773ef7d",
      "d4c00122faf641aaa8fe980dd6de6b39",
      "d7526468387e4dd2a98972ad9688f2be",
      "797f692447b7489f895146f8679665e0",
      "9a8648dc8be14cff90e7ca43542271b0",
      "ccb924dfc151406cac9d407cc9918722",
      "d133a952cd2846e8a90afd0e0dc6c70c",
      "908c08443ba543cd9291c9acf843f9a7",
      "4851e7ae2d824008aefac4cd5988decc",
      "1062fed9efd346e9b4b5a0e6a3c8bfca",
      "c8bff17fd9c94a15a73a4c5066c81ea4",
      "e9f1c8b6e8c045cd81afdd514209f0f5",
      "61f4cf7c09414a1b8b108a5b47ee0739",
      "d3086a71a7e54ab997bcef2f3189f968",
      "dc673606f429428dac504d0b0051253b",
      "7774105e021b42a28d01650faba847e2",
      "f9d2e1f8408045c7afc35ee7eddff884",
      "6f3602dad9044fae9337eb8e0b3dd309",
      "215b1e5657334356838496180c771508",
      "cb003bdb3fdf4847988753e0151c43f3",
      "65c6f2d7e78c4132a5efb15550294c7d",
      "350bf35d81394d56944256adcdd90eae",
      "e012649342fd4614a9abf43de2dbe0d6",
      "415e2c8961c748909743d1bb2eebcd31",
      "ecd215bf8f144f5fbe04ac349399d69c",
      "9c375f66687c44ecab1e1f791d8d3e4b",
      "e9aab004e4be4da8891b6e8ddf5dc895",
      "02422a9aa7404c2799efa5d5b988c8c3",
      "c4d3cef6379c4b25b29556f49d851809",
      "501252747dd14922b6b1dd43d2d65f06",
      "957c1a4d3d824f1089c39a5d05d062ac",
      "030a7ef0fc864aa1a348cacc5e0de25c",
      "30024f7aea2d42f7bbad19eede5f4cb4",
      "50b24f86492f4e0cb881445e3adc0dc1",
      "068dd29f8fbd4d878b4dee983035163d",
      "aaaffdd543884a2a800ee2d8cf37762b",
      "ca0e553ddc2247dbae6bb894da9856b2",
      "a5836a5cd0a843b6bfdb1b51b86b728c",
      "6d51144b1b6d49a4aea3031bb3eacf1c",
      "3c83d15be39a48bfa6ca4dc9f07c8eb7",
      "37e8630b0adf4780a1c3c9ff34279f9a",
      "a9abc8ad42174a26999e334e6506233a",
      "3e00f5ef03ea4a89993a9d92368fb78f",
      "c1343eb707d041a29ab6aaf66e5793ab",
      "8af7e1f481ac4f68ae20966fb0058161",
      "4a2f5a09533549eb8813c677b82c675f",
      "e3088e3f72634e448669ee91b5b0bb9d",
      "81c41ef4dd834359bede14a54ad4b6d5",
      "21cdd425532047bfaaac2cdab59d48bd",
      "14ef27a8cd0d44d2a6799c2c5943020d",
      "308dab34e28140cda1153cc8d17f373b",
      "53294d245a6a4a2ebc5bf36ca0437032",
      "019bc0e8679e4ea5a2067ecd73606312",
      "345a3bf88f1f4760a41397f6f66ddfa6",
      "313d8d7b5a7e444781a129937b4676e2",
      "d32c75b25bc441edaa354f7a04c86a51",
      "adb5226308204dde9bc8e250d3681383",
      "4006f44c6d98446a8d83471b68c632bb",
      "29f263773a5444c9a777343c10aa9a07",
      "71acd15ef9214f228d82e690f844a526",
      "5ab0385ec54644c1991b4d3754f147a2",
      "8e9f77bfba484b4288d5dee42c72dd42",
      "4b484e6c480e4f5692eda704313fc361",
      "398ae56cfb0740e4851ebea9a145ba04",
      "b230f1447fce4187921c8db3ee14a16a",
      "9ffe90894ead4073b45178843e4bc106",
      "4d66d1bc875a4cc5a993be851a7c24b1",
      "6c43e75bb75c4a72b7392d6a4852a94a",
      "bfde92909fa747dabc68302a65f64ffe",
      "e33f1528b9d34bcfa0b72a864de20bc1",
      "648fb63c4f644e5c84acc93a61a92054",
      "6dddaa0d2ea1459391e0ae3e13dea3bf",
      "429438e781b047ef9570582b628f979d",
      "a6f1a2ad0c4b4a98a1736269ff696976",
      "ee2daebe765846afb03a7382c9b73b6f",
      "b73daaeb780f41da9deb26bd04622883",
      "2c8031f52b384b62bb306bb893e7a033",
      "ecf0d8ffa22d489bb0415a1b96f40fae",
      "56e2fd906f7145ae8358af60bd8eadfd",
      "97f8abee3d674fe3aef4d9c30ec36e4a",
      "cd25955158f448fda3f1338e0f6b0010",
      "7b468b561c3e4506a056d3321081ae69",
      "d3e625289d4a4267aa8b156de8c85d0d",
      "2b0c82a792934c9d96872c4911640f4d",
      "995b90fc44144c529d0f2a1e600d5009",
      "74865392573747d8aa572027c0c08d05",
      "dce2532191cb45ffb710af26a3ec570f",
      "a35c721d3a614fcaa29901a866abdc94",
      "bdeed7f7e7ed4a7fb58cd14fdd33d589",
      "c36ca7210fe842fa9dd4936d8b273ebc",
      "c14a2b42f818423dae7647c56a410d79",
      "22e6df4b8eae437491f8d92571decbdc",
      "0ab73157d63c438da80f27bc193a107e",
      "210656bfcf0e42369c3989db83c2e442",
      "130d176a9fab400caa5401fad5c735c0",
      "9d0aeadefd4f43e592680b4e34bade62",
      "1b484a6fa54746d2806c5e2bd74e3c75",
      "40062745212c409f946afc89f9eaf3e6",
      "23f13a6c6b6247f19c297210c46e89dc",
      "357df9793a134a93b3918a1fb86f38e6",
      "43e328f98b034d53b19101a9e68103cb",
      "8d751f47c0a74f9ebaa260b10679f385",
      "a5c4a7e19bfd435abd617d609a2a14f3",
      "057d4361cc4e4126b00be3851738019e",
      "ca26bb8969fd467f94605ec2421c9fbb",
      "4dbb48cafef04fa0a95ee5ceb2ad99bf",
      "df3c97bf6cec482b90b8e4c25a4e7502",
      "671e7f8c906e444ea9baf4dcf79e0ecd",
      "960e3fdfeeb04515b9aa07cc5d5bd886",
      "8a21f53741af4d38973bcc55a77b0d31",
      "c91a64c208544bac8b47860e279ac985",
      "1832fb08ea414bc38700fb2ccbe1d172",
      "cc2777c144104fe793344a3972bd7348",
      "e09d0e452a7f4402b259b02d5c6b7d22",
      "5be645c0bbb249b88cb261278c742605",
      "500d3aac27784f5fb1ae137fdd3287c8",
      "abe0db6a3f214815b147016ed716a524",
      "be6e2bd93db3487eb2937c72bf19c9ab",
      "ad6c82527c0041cd81fd92648473a369",
      "36e6ec194faf4a749137c218475b1268",
      "656bd6eed09d4c13b56f65711b84cc65",
      "d9017f51e7d44a4e958a2d42841f186f",
      "06f51368c32243faac58f64828da196b",
      "45403628b235451c9e9fa090bd4f02d2",
      "3a15312039914b8aa6880305aa00304e",
      "01dd429112c542f8880c1872c20aa8c4",
      "79a16c323768456884d5bb9da54dc280",
      "c30ddc78dd82475bbff81242efa31f2a",
      "55c569b48e7c437f8e8c665a6f1601e7",
      "2da7bf7fc6e648c990a5faf6df2a4f9a",
      "b16afd747fb74a6f8557fe31f3349f66",
      "114614182afb4ef88bc0fea7df7bed9c",
      "3a39c324efac422d8cbe8f38a3f09f09",
      "3ca970fa86f94c7a99979ad9e7a1a0c3",
      "8db9b0502f6b4750aee805ba00c3f242",
      "cef1f8da5aec4690b7cf9cabafc951be",
      "52b388bc813b44dfaec04113e4b4265a",
      "e381790dea7341fea7b125cdde626f38",
      "931c4c6ee7f748a1bf57fe05b51da28d",
      "76b37a93b5c54fdeb4fab6ea37385ad9",
      "fddecec5cca34ede8c25a887277306d4",
      "b1352422980a43d291304137888d5d7f",
      "0740fb7e99b5456692b9e8b624360b03",
      "b73979f9b08c466ebe31786c87254ac4",
      "f934d3108c89481393f770f269db38f4",
      "739623552b684cf2a9e3feb3a4549fc2",
      "09f3089ee3f641c98f4ae668cc69ea81",
      "a9341289a39e4d3ea1f7de8271a9ef81",
      "6dac321e787747d5a4ac5516b695f736",
      "b3b9734423974a2dafa6d5a47d976ae9",
      "229a93850f10447caa4ab04bca829ff9",
      "118735f5a68c44a9aa6d975a3268d1a5",
      "0e0b62e9d46d4d86a96c29450050e8f7",
      "d24a75d73a1445f7874b833ec55fc7ca",
      "fbe590dd6d4a477286eaf5281a43da56",
      "91fcaf5a8c8d47519c3e5246f316fb7b",
      "d436714bfe5a485a82d01fe977856231",
      "c70cf0d1185c43738a3ff6fdb903a73e",
      "b5baa8eb3b364436ae77a184a0a75992",
      "f346f377c629463fa31251e8d21c90f9",
      "93a61c620b014f2bbe5a6c7794f2ddb2",
      "a19c3031e1904365ad2da9aee77237a7",
      "a334a996e77147ea8b5e4405e4462ae2",
      "c3bb873bff1c4b38a44de6239392bb3b",
      "e1d30c0af50e4f34b3d17a43192e9fd1",
      "d0aa157a257f4db9804c617e5db91588",
      "798ea2d25a1b469289426edb1ead7498",
      "9b93a88cf6014e06a6b59a9bf087fdbc",
      "dee1b1ec120a441dbea8caf53cf5529f",
      "ab8b6df2bd57490c898f995a065a4bb4",
      "e1b231e5c1ec4a3cae6f180c32d5c93d",
      "e1aaca2ec5244a5f8e0fba50465c4f56",
      "aa7d08f1a23b4acda38ed1f4e8272929",
      "4c84ce298fec434db90f3dddae916e99",
      "6a9b3b0d1a284d8892ddf5fd41df92af",
      "999e83872c74437aa0b16e511f81c3f3",
      "48638a35f9314fe9b9d8da8dd58be193",
      "f3307488ac8c4d1f9e350ad1004eb56f",
      "e4d26f82af0a491eb7db7f39bd3bb2c9",
      "9a7cefd9604c4b33beec6ac2a7c36b3e",
      "2448c807d9994207b624cb0d9006749e",
      "8beeeadf3c2a4086818cf54c087361b7",
      "483abd9e82a645db80dbd161dc968241",
      "be0bdc6f483048cd8735bca758b63a7a",
      "f5fecb26c88a437e85e21aa8aa502a73",
      "6ba9aaaa1f4844148970405b6e1d0c53",
      "49ca9e1313ab4b8097ff1261340a7bdb",
      "3a5515497e284ee3b12f0c6e33ed3742",
      "c405116fb1d542c5b17183adf709cda7",
      "02808e75fdb94e9fa64a7e24dcd10f3b",
      "6c920b5e440147fabad06ba8a4c2dc15",
      "ea1d4e942e1a41c9a9dee631c5d782ab",
      "d8935578baa74d72b018b6ab58bf54c2",
      "6ad86e6395ff4ece8b8e182144b9a8b9",
      "7f0ccf9439ec47ceb935288da121a123",
      "0a2441c07e8e448c81ecf31b1d008268",
      "c1a29ab6057a4e808f20aadb464f0e8a",
      "78fe3943deee4af19bad3572b48c8da4",
      "2c0b9c416a8946328752dbaf86d1862e",
      "30408d7709524797911725e5107053be",
      "165b604414754ea48d26dbbd1a51188a",
      "5c90ee8c4f6e4cf7abb997629b759541",
      "dac8a257b38747ef8651ecee6c28ef2e",
      "f6e6b488ddf4415e863b819c8770382b",
      "0f5b631f0af143f0ac0c8b055b50e287",
      "95d34ae3fa1d43a6826ebbd200e3d13e",
      "224fd2fceca346d884a17fe58e95f965",
      "679b29e4553c4a3488bd2abbf24a2274",
      "1516ecd88a08489c9b9ec09e70da1a67",
      "108261e55e734273b3c9de6cbe60643f",
      "3a212ed4fd304722a607609e1c0ae1f5",
      "b8c37ebec5744155a5ba5c869864ff0b",
      "aeb270ed492b460dbf79448b173216e4",
      "fa82a85725044d43b38e6b88f2e62a9b",
      "cab3b730ec724fd7829e0ceb76b1a7c4",
      "74d5a79c7c5543569b3791c70bac0a4d",
      "4170aa711a8149c6b840fbb5ac894554",
      "b714b86a5d0d4aa4be7f869547c4c43a",
      "f3d9cd65549e4071af9a506efa7738f3",
      "9fcd83b53a4546be8f41d47d7202cda8",
      "d85f077e64d047eeb289e1d8f3f03def",
      "d63fee4418f64eadbc386b8741daa90e",
      "2feef0c10adb461b9456524cb2010d80",
      "5302f837a2f94d0d832a98ca7294680a",
      "f2c4bba571a44693958e0eae274c3e3b",
      "5d60ed2103e54f8d97f1da547ab151ff",
      "f63ddd1787264527ae5bf82de9500c70",
      "bf88c736241a4c2caee625159961c58e",
      "d8c05f628bb64b95a03fb7d8a9828433",
      "63c921002ec3470e81141117fbb59291",
      "201680125e0743ba9ff18914b99cf726",
      "a8f5e0bb3c1c498ab24e253b37848ded",
      "a6017d22e67f4ba994607e7e4c31a57a",
      "749616e70b2e44188db8707da90986c4",
      "9ac2bd05fc05455a8a283b99a4c638a3",
      "60ee8b404d0145418656c6121e95a5e2",
      "e66006c7624d4b50a345909db5e17a92",
      "2f71a4d958264bc0981268ffd41e19ab",
      "457283ecfff44ba6ad67d8fa25300899",
      "2c67830500b14de6aba38d5ce7b9865c",
      "31d4ea84128344c89f83a0858d8f08e1",
      "edeaf38379a146679714ee4162c360ae",
      "c60d89ae7e464eaeb0da4ca9c7d6473f",
      "a20ededf1efa422a9fc0896a28570071",
      "b0d15b1371d04f19b7e5d71c8114f90e",
      "719010301c1a4bbdaeb3193f4fabd002",
      "170b3d0e051c491a9de60de7301e845f",
      "517db4d6f7954eb1b5d1d801d90b1886",
      "9523afa7c82a4eccb0aa11997337c166",
      "8a6fa9392a154d61b03445f84aad7d73",
      "68e7df79add944f29d352ed0aebcee05",
      "427c6e9f0bf6439d808a5a1cd6a79925",
      "68439b1db8c14fe2a1c4c24fe44a494b",
      "2915ac08cf7a4a009167a610c43b384f",
      "94f0d29e330d426f8565f16df24ead34",
      "fc04a92af69649b4bfb591fa37801747",
      "c4c3c752ea514982a5a979d7f542b76e",
      "cfb6294ec0a749f59bd8b3275cdfaf41",
      "3153b90aa0ed4d889c9539b315aa5f9b",
      "9805b9a240bd4841801a8a68d652f3d0",
      "8f4010a299034c7b8685a34c9a841231",
      "ad9bc1bf27ac450e8fcaa7b5bdf6691e",
      "14461644a644461994d9b079ca37c438",
      "a9e065128d484c1885bb47ecf7e672b8",
      "c0da08071d174bca9e2cb00ddc10c9a0",
      "c9c7518892c649039fd1b10abd83907f",
      "1427c81b7132465da78e7ad1d3139093",
      "ecbd767cca8a4c6b8a1ec3b8648562fe",
      "e44bdf42e9d549979ce67e236f3ede2c",
      "9c0656df68db4815abee19b12811a17c",
      "8b44dc5c2c1949ebac47e62041f4587a",
      "372e5240249744f4966c6b2ac7d23e11",
      "e77e2c54c5e441449fc27761fe9723f8",
      "a76d912228934bffa8ee923f24e34a8b",
      "33fb858562dc41a7af94b9d85c41b2f1",
      "c638d94ccab84abeb04c6a8815d7a58c",
      "bd2c1cb80235458f928ff15c2bf89686",
      "97b90e0de28b4683b6c3797d001676b9",
      "7419f16c61794e59852d6e3cc8d9c4d4",
      "e94c60f011a34def95f681ddd3acfb35",
      "58a97567cdc34c53af3367eaeb8a9114",
      "e578e19ec6a24290a6773674a4e4da25",
      "7819ce5c69054c3dab9fea3effefb69c",
      "724bd9e423c94ffbaeef4c99e4f98825",
      "bd533c96515547789a1e51dc7e6d8de7",
      "4e01fad8b96041dbbd200155be8f3bc3",
      "8eda28c1a98744b49276dbf6c9b122f4",
      "65f82c54811e4ac39aa9d5a4f3940cda",
      "c1c0bb7b900a49c9a1078f4f9fccc8f8",
      "cb07275aaac24b3cb5aabf001189cb70",
      "1c2c676c34104982a07acb809b5a5e24",
      "9e48b03bdc6c44f7bf6182854965b460",
      "e86b7f085e9d4c8f81afbc81155d9e80",
      "1d9777f580de4b62ad7349a3748a6f92",
      "37ddceed219e4501a9e527268c83d53b",
      "aeb52f91856d46459ce835149a68a3c5",
      "a8579c31dce241edb82656717a3f4e10",
      "f67e0700ee99465ea11f11846835c8b3",
      "57faf4db55f64f46b6cce3cdfcd81610",
      "2c0eff5de4234f0fac189e4cbe04fc95",
      "5a2dd7e2cf2044069ae1c7dbf0100681",
      "988a6a283df845f9b3ef6793c1ca47ac",
      "4e95c8fca1f1461f9564704e1ca80eab",
      "023431df4d96418189fa2edf8749e8db",
      "07e91a385ad8425196a9383fff00a272",
      "4879b1df07334b87adf9f3a421751abd",
      "f55d056930f04751b800dacd5d74b81e",
      "781def516d5b4878b6a7a1ad40eee24e",
      "f155c276a91c43ecab4cc24e6ba6f7cb",
      "ea6f7563e50f4dcb86af069fbf927c66",
      "93e6bf61667f4d0a95147b708cf21f64",
      "d2e9b3e47f124b28bae6ec80603e0800",
      "0709b57bbbcf4139badc79d020be7d0d",
      "354c299a33284b968b31481e115e61c8",
      "e3f046ca177441d0ba93bbfc7100bac3",
      "cbdb3d24c5304994925df095ef65f71c",
      "f229baabfd5548edab2aff08ddbd2808",
      "914969e0275d4c1c85c06a2d39f5e436",
      "8e6dbf0763364ad78d44ba4ed5a24e6b",
      "884ba08456044c2d99425d29523ad90f",
      "05b1bd65e34f4e53acb3447945635c29",
      "60d46b0e65344d128ad482efe9b1bf91",
      "1ecd1a7a6ccb4652bb0550894ccfa34a",
      "0d45c203277241b4af743a70d051a6b8",
      "cf4ed3367e3b40b3873477f7c82da3bc",
      "3a45cf81b60f46d7845a0cef861ce51c",
      "9adafd40563a436683230bf015c32a95",
      "356e8821c73745e29ae5ab8c4545471b",
      "5a75d5ca1ae645dcb40a512f7d84a885",
      "3a80e23972aa49839f2f3b2196f8013e",
      "96fb402736804f8a95c214c178a421c4",
      "16cf1d676c9e476398033ca01308d98b",
      "d1082ee700a7462c82d6c30d512d09dc",
      "fa641571557144fc85bb70753e6ede8e",
      "a1b2ada7ca454f44b0da44ce1c96f077",
      "4136a9b320754bf9a3664bda233363b0",
      "c0757e1eb4054ae48fbdb095691ff241",
      "11d500c628e64f7a853787069a5d6cbb",
      "da5f74d53a064452b4d4e60a55004c3e",
      "855744728c4d4d8bb5f0b11b76daff4a",
      "69ecd1347a4f48568162e503c2f996fc",
      "8d48ce8d7327489f8615d01c07af9ffb",
      "d62318f3d6034bc5bb64a5af2fcc5cdb",
      "54d3692679574cf7bb0e47590c70f410",
      "f55c30a42e064962a6c1f0a2c5e78212",
      "f4cd48fcc670480c84d4af30485b0670",
      "3ee559d349cf4953b6c117d1ea8b2ece",
      "fc30b3b31f774e6a894a52c08b982edb",
      "22494d2c513d421eb37a3df35c1f564c",
      "ca6e0f2b5d4b419689968b089e02e92b",
      "01166cc7a6a944a2914792f6a24c3f32",
      "f0020c8cde4c427eb98b17e245236b91",
      "f8b66d489c504af8819258edbfba3d4c",
      "dbd62897c54341328a630f73bb3bf1c1",
      "12b98b4db6654b249e1a519e25867e19",
      "7b2ee0579d274f13915af1b54e12003e",
      "a8917fa9c0ef4306b6a72e15ccb3cb1c",
      "06c6418939264341848ea26c88a28263",
      "c2b322162f394358893d4e117928cd9d",
      "e39e6155257f465fa0d9bf79686b5d4d",
      "c8ee033baf6345238eea6b6b8953c946",
      "c11364f270a04363b573a51e40487436",
      "089503458d774b78acfcd9867deac30e",
      "93f91457f72e4b9eb4f92ff795bea0f6",
      "145b6d7da0a447f399e10a6041429d0f",
      "8c29b73fc0c749d5b7d76873a07b3f20",
      "253f751ba3c84ef48d3c72c271d5db6a",
      "081199765706490999404215e27a6867",
      "a0a768efc6c4451da708ac8b6fe1294c",
      "b1ba117febf74eef970cc242b5af6392",
      "fdf7f5aaf70243f9b9c1272853339ed4",
      "31b6fa1ab7544dd58a65e85322790f20",
      "bf5850c341bb40629a0bf1ebcb7475e2",
      "0d7f7a4032104894a711df869cd0e3e3",
      "9376e85b8a2a4226ac35e4f1ee8a94c9",
      "8d929175205d460e840f905e56256cb8",
      "88d79da81e884b868e720787de8766a3",
      "a7cf85b8c01a417fa254a898978c5fd6",
      "2272378d0c404a589aa3372320d01682",
      "37b69fe2e16a4b75adda9e069dd5764d",
      "166753867bfb4e1b8a1be1a4979cb31c",
      "b2eba69ee07f49058a68b2e89579059d",
      "f005939fffdf43fc8501558f0ff0457b",
      "88fbf4049a954fd0a0b7d5c7000730cf",
      "7d6c42592d414add9b3f7ad9589b0e41",
      "e684d026c1484aa5a2249f48efe98103",
      "03c0a2fa967646b6b6acd5304e8b43f1",
      "e74c33fb31df4ed9a08ee015b533b347",
      "8ceca2b8c3544da18cd3af276f2d6549",
      "23795f13149447939bd20b334d3a7234",
      "225c4df30c2446718088d768cc6d70b7",
      "4be934c24b764fe8abc71260bca281b3",
      "477c640352304ef38dcf2b66ae6d9cbc",
      "1c9e551c093b44f88bae695365418921",
      "54cd91335b6c416292ac40c98c721d35",
      "93c5740d0ba54393902148e46d7d9b84",
      "7fcac7157b0e4afbac8bf6fa18a14b88",
      "d41375260d514e9a8d15a1c94ceebb51",
      "a708facafc9949eda954b77a0dcb9deb",
      "42572b4227a24e8a997d11ef864f665b",
      "08a16a1d69f14e0090a5778ccc505d5a",
      "63a40056a2ce44f3b7494acec675baeb",
      "0ada81f6e54b49e3a6fdc1b9e1cc11fe",
      "1f84a621265b4285bc6b2d6002ad69e7",
      "00df44530f1d4fddaeec665ac74c603f",
      "bedacb8b273b4951b7a378e867f957a0",
      "7f2bfea0b56a44c9b59524c4a080ff10",
      "4653216885b345b39556d96fb49ddc5b",
      "f9968c283dc04692a3516d5aa48dec23",
      "eb0e8152d8e546feb6f8e763b765ddaa",
      "64b053cee04948128385f583e3b543df",
      "0dfab68d6662415e965b371ee158488a",
      "6441a8f0072c4b1fa760d8f5ff0ce3c8",
      "4e0af29a05624037be2624f2f886f5cf",
      "1f82483c21ba48a88bee8f6d62234e04",
      "c1a0e45cdb284c3d932898176ace03c5",
      "e90a2993e575458fbbdb9c65404926e9",
      "f5f194f989784179a0c6996bfd712638",
      "ad2169fcfd6a4e9fb98414a178fc41ec",
      "4124c003b8bd46edbe806a8ac26e212e",
      "8055a38cd81349b4b339568b28aea8ad",
      "1a58ee3c71e54488a73d8dedb6098c0e",
      "897b1f2a16c247fea25b6fcebdfd196a",
      "893123ba989f4ec6b66db774828e05ff",
      "ef42df833d3d489697337147029e31e8",
      "a18abe8700cd460fb5d079de65224439",
      "033ae27e5c8947459717db1e8a41825a",
      "8b8e430f02fb48e8bc977cfc224fa14e",
      "94541f08a71a4a14a5e3c4d0b66db7e5",
      "5e66b3e999dc44dabe76e48468c67625",
      "6ab3c065c0874d98abf5fb93a548152a",
      "75d5acd778724d8c9ce0e624fea26367",
      "81f06b5479d64e7aa6120f6500de1b9a",
      "288f9432edf742e2940a1f93fab23d1a",
      "981b1d12d65f4f38aceb4e6d273a7cd3",
      "7c270f42c2c54a2a99b3e8fed0f521db",
      "b1abff07ced945bd97968c3b292c18aa",
      "f75ea5399b0b4b878f91d9be43182aaf",
      "91a792767f814413867a9fd152e37ca0",
      "890b2660021c47c791bc69567f351dc3",
      "85bde15bdd8a40d882d4fc4ba5286ae1",
      "1a703306de6f44acb57c17099e77695d",
      "eed79260584c40a08f945f2db6692060",
      "9066fdfb9050466e967616442f3ae20b",
      "1a73e525e75e4146966d8242898e0af6",
      "4157d6a5c5ed472996987b4cf95872bd",
      "1b481772ad904c53bbc55a4a5ad8b577",
      "f8e3163e00b544cda229c776eb502be8",
      "218c9abde8434a9aaab5f54c32d6a893",
      "264b76154f794f7998dc397cc56b0438",
      "f8122392ac6f4bd39f9610e3b3fd0d82",
      "671f0f1f52694882bcb456cd1a769089",
      "78e555eb5b954e19a9d10d4a2efd004e",
      "ce62ebb82b6648d8b072eeef67ed419a",
      "b46063a3eeb141859a42b15d5e6f5fca",
      "84a6a4a230e046eda55c8a9a20161970",
      "0efaa36109f446bea8d5f71df30d8ec8",
      "da60df039cb3421fbda3c35905b93779",
      "9992b2f1dd224a698533dd303e8e38d7",
      "535a8ef30b8943aab6f99dfee7b51a8a",
      "d3b57df6a93a49a48a6df56c97683bf8",
      "8f3bc21172fd49edbc29561c5b1ae123",
      "11abee35f8794f4a9545706d2418a64e",
      "34a3c5ec1e7043978f19a341b9d5055c",
      "45b65fd2a90f490a907428294492cc2c",
      "fbc7f07939d54af187ae5021bfef1d95",
      "ae4428146a194146a7aa5eb33694286d",
      "95c437be03104c9b9874b7677319ccff",
      "00d84908d02d440c8c50b814a7abe0fa",
      "c80db96d2bca4068b3896df959899e12",
      "f21b1f23838e4968b7e13552320359f4",
      "9f5125dac4d94f0cae9323b3b38d1139",
      "188ec451704d45dea421262d4231cb78",
      "1192e82ca2e94b8a8a8c88af4214af8e",
      "672e6bdd503a4ac7afc67d236fd7ef46",
      "f8434789149344429d6a5a15002c26e4",
      "eabb5662b59e473eb6fe29d8201a4a3e",
      "23136ae78f27471cac6b986e06be8fce",
      "e4095e280d084139b757c383839ffbfc",
      "15c8d75e269944eba079ad708500f0a4",
      "e81b708e3c81452a9b74393ee459f6a2",
      "e059622da9c34d7b94c2d2f4e3f2a054",
      "a9217083e25c4c02af956e99459cd9fc",
      "de43bf047cc0404badad5cf2012e1c71",
      "44c4f74fd61d4b73a93841427bce6f36",
      "b963ce6bee4c49689c2f1f73c3c78d11",
      "36ebd99a64d54957b1278109bac0ab47",
      "3ddffe39d863496eaaac2c985c3f16cf",
      "138e01f00dca4142bed1c380d87fb0bd",
      "a6103dfc41b04e86a42f551f024e2674",
      "ae7ddab5b4f94c909144662465cbf789",
      "b520e8e6458f492e9ce35f6815f7b344",
      "10feda4f68184afaab17e24d8f9638b8",
      "e810c09e82fd49e99c9d756f70225c4c",
      "fd466fbee20a41ba9ba6c2d83386ebb9",
      "a57a6f1d260640d1a9fe1160529fd00b",
      "fe4cc5b246ef44a988e7a5cda946a6f3",
      "6e9175d26c164af5af41278d043ab809",
      "140a71f887a1481c94d45972e6e8d628",
      "8a6733022e474eb3a592b46d00c5706d",
      "1241c1b0c5a446bdaa87f27e63ad80dc",
      "73610bb05c7942cb9db469d6716bf411",
      "c0ccce83f375467c973034a04b2a3da6",
      "0247c4ff19ea4f818f5addfc03856d6b",
      "db7b784c9ea541069b843311257adac2",
      "4c9c9a380d634fd7ae94170ab25b5310",
      "e4b53a78b42b49669b6f2885d516e55b",
      "16cd68e5f58a4943a7e73e998ff4c462",
      "9c0b548bf7bf4ff8af28b4c0cdb9a06e",
      "cb5475f248544746b6791357101ae774",
      "99f0bbd94dd94237ba4320f3b407365d",
      "2c5475034107449eaac484eb38066b92",
      "93de718be5c14bdbb3a260a78937c25b",
      "214ff90fdd314431b60067dbc794b8ce",
      "4812abc91638494d9793e6fd8cac5999",
      "36d84e717e4d42babfa98ba7f28ce5b3",
      "559216e1363b4d1d96e0403d60f7c06f",
      "1b610432492a44629bf2c26a4488080e",
      "2f4712561e124cdbb7c6dbce60d30a7f",
      "777a47782437424fb83943a1fa2d3da5",
      "69277b80c360408da80cc082cacc6c62",
      "d8f4d13d5d854afb8da9370c812a119d",
      "3d280b9397e6471896b12247db5f754b",
      "1d018701027e4a8b8badd97da07da746",
      "7e7035ee23154aa6a59159cbdf7fd5f1",
      "17f0f5baef16458292fc6a810cf7d984",
      "8bd471d65f5b49f7a2b0f028fc2fc56d",
      "e07ed66fd1c64441a9a08855d7bedbf0",
      "6c2a0e5df5d849baa796a6edcf7bb15f",
      "7ab3c60fedb04513b1139ef9ece63e85",
      "3fddb3f6441941729cc46ff55c37d24e",
      "78298b3af06c425e861e26ba1e958f71",
      "f39aa724d6a14d8a8a5a9f36d110c96e",
      "b5057c306a394a9f8e2b8960f2c00e13",
      "c23f9e88a0b147d1baed4945a833c746",
      "f6aa91e823274422ade811bb9712ec7c",
      "bc5e2d0b29c44e269097acb619a1e618",
      "9f662eb6bbd94b8daaf91c094795ce0e",
      "818cb60288fd4dddab59f3825a782c4a",
      "a7ecd873640147079be2e143766ecbc2",
      "052a364fb659494ab5880bf324c82821",
      "31778eb3a45e4bcda34acf89fc6689eb",
      "9f96b79bf6ee4a15b2560f68d714b59d",
      "42593227ef8e4489acb4ddfe0f52dfa5",
      "205ed94a9d544d6f81828f7b8333f91d",
      "1574ef1337414bda8e6584ac637ac2c2",
      "91b39f794a5446f18ba1a1d9e861b13d",
      "7d1defc3c8d8432c83545c711788754d",
      "5bfb91839f2d4627ad8e49b9cda74454",
      "0085c5a753c141fcb0e6e72ad7c5127a",
      "32fef54852054a08a5bc999a5cd10b23",
      "3bc478a14ec9470b88dfeb0c412f9072",
      "c3901aa928914b2796ffc6087be39f57",
      "e3e3a3f1235942ffa262d745e2013411",
      "6df2b93d280e497089a58ec663ab3733",
      "88d7456a46eb4fe5be90c1c9f828c2ba",
      "75bf099da7194307bcc15f250493444d",
      "350ec4137aa84a808d93006956292b2e",
      "c2009773949b4bcb90a27b2537f086a4",
      "7091a4edb48b407ea62ee3d94bc058fc",
      "7ca04788c0e84a9eab0ae56d358dedd4",
      "615c35d8becb4916b801ffa0750c518b",
      "c158b32bcd624ebea3f1ae0586828e01",
      "5fe816d34908461c88674efbf6563661",
      "909716ae926445e986baac1dd0225325",
      "19b85df5254047abbd8d34b1acb96022",
      "35ceaedcff5b4d8cbba3af5280965306",
      "4d374c5dfa1948718966606be8bbd348",
      "528c5b4c86fc4346bc0b93de53d5e21d",
      "cfa4f40f935743df96a66a27d4701a43",
      "04afd9fb0d2949128ab7f8565cbaf333",
      "3bd02820ee8d4948be7403d3764e6857",
      "4892afa506354a46adf999a3f975b7c8",
      "ac48eda8e5e444da9d7d197f5193d940",
      "2a1dd4103bba4151a0ae8161829ac18d",
      "e7994027fdcd4555b0aa906b6967e466",
      "ae8fa7ee88244a1cbcf9e87cf52a4884",
      "f74205c33d1a408ab300975a6b2f6da8",
      "197aef604fc546f49ba726ea0e5de0ac",
      "19ada06fd9ba4e3aa7aee578a2a0158e",
      "51910c39c9aa44a79135114e31c5e17e",
      "b15f238495784d1186f13c27c67571a4",
      "a31d85896351465bb6220702f803ec97",
      "9649084138ed4e3f91502151a4fbe53a",
      "8bda4ce0720b4733abdb29e7805339df",
      "82babcefe1f74bae8fcd83affd33a453",
      "52fcd532b5624a609c09a727838d7cb1",
      "e88e65c8438846e2a06e45b2c9018afb",
      "74f2b2b31bd9422ba01b7afb8d967ef1",
      "b10764c58c5449719a0c02f0893179d6",
      "9ab22574b6ff4d90a55a9d649d3f1ee9",
      "68f1ac4a02ea435985ec8da2520f9e9c",
      "50241f4f8967443f801bf0eed6bc057f",
      "feb9b631773142e4979a6288837e9916",
      "65a36c380f34484192332839293f0d78",
      "f2fa275e0aa84699bc169822f11d6d25",
      "432be49752004508b0b99b6ff2966ad1",
      "26064816c0ec4776969f4966083ac6ca",
      "30c29badc6964cd79afab9715f878bb7",
      "e9f7a859d0e84b218e8e01d94e96a660",
      "d6e25089b8224ebe8f7579bd9b22dc19",
      "1889a8ffce4f44f0a8bf5f8c02ea1329",
      "f7abebb48533482aab6752bf11a56fcb",
      "d2375c945bf448b188b75bc6cb7ab698",
      "fd84dde541a24bdda9a5e3234136eb7b",
      "3c59981984bb4997a81e02694cb6c32f",
      "09f8578a4152460aa97702972e445f01",
      "bcd91ecba420404a8e61cd3f7b816cb0",
      "786bdce6f9db40418ced58e2d29765bd",
      "dca57853e39d43ba89c50e5011bfdaa6",
      "d6034ed3efc545eb99224fc1dd7fc26c",
      "d6e84d9ff45a4789a7e203b572935ef8",
      "a74915d8948d43619c7d4bd15c4c78b7",
      "b23cd1effe414e689017e3c7e0dd1a36",
      "800ff094b9384f48890d8f19e0db964c",
      "29bf216d92554b2d8cae3a484b869a47",
      "c02ed2cb83254220b0261975234a8a6b",
      "e82fcfd09b684beaad06aa4499e1757b",
      "0f22728990174e658f11b45629efea74",
      "3d8376b451904f05942af897ac475f71",
      "76d2e0809d6b4d0faff2b9519f50a98b",
      "7b6821d1ee4a494dbb659d0d7357bc85",
      "cdf36c8a5f1448a59875fca09212addc",
      "42176d94b4bf4669a046ffa79bbc06ec",
      "c0d66c23d5b9418da2beedb0f6ce94f8",
      "2259bac035b542cda23e23df4f629097",
      "988d4b401dab4a6da08b0849403f119d",
      "5c74cc0a9fa74a26b8a7d8e717ec73ac",
      "b96be83362874a3f969faeb1da6d2389",
      "3dd7aea090c34edd94fc46589857bcd9",
      "559d34e16d1345adabf047f37d93f5a9",
      "73f0cafd8f884c2fb964d039373b2e4f",
      "494b4be5dbcb40db8795c354a30d16c1",
      "2d7f3ed703bc4fbe99b4d579536a19b2",
      "44dc5d6c738a49c7a22bba709c0315d7",
      "dfcca65ca7f94778a11c6ba0cef9784e",
      "1a547a263edc46088fe104fc828fef53",
      "f84077b08c67491190be9fd2918297ee",
      "9de3aa83c116438f83b3cf497f773f72",
      "a98da24586d2461e9b4a9469917044ab",
      "8040753233df471791653478c51d3ebd",
      "ee929601c18b405ab8dd4b0e40a6e663",
      "89d9b767b6de485794d1d0b3e6241ebb",
      "9a241f465c7245aaba14660e835be27a",
      "f3103b78561b422ab4884117c057ebf3",
      "d8321a3296844dd5bc3992359fb063d7",
      "6c0947a6529843e494848d8979168faf",
      "d29aa3b7014c47559bd71a818216a598",
      "92465bf4d38a423798cc82437155145c",
      "dde2f77aa8a64958b6e2d3fca3f95e05",
      "b0a80b2a7f2a40bbbf6c3ccca5a10729",
      "5a66781fe7c04c55973a74315d42ea33",
      "50ffb16f5c234e03bbfd2fc15197399f",
      "284712df72c54e709ede9766ea80ff05",
      "c2e160aeb6224c84896fe957ef46f6da",
      "91e26edca23249b9a556fa4064a3c2f4",
      "cc5ae9805ff846318b69a8f1bf397d9c",
      "82e369aa5bf3482a904e48384fcf3a87",
      "c13afea07db448cb969b2e0c9f64515e",
      "484a5013b2564840b97eeef346232496",
      "2412409dce404045821b30faa6d0c772",
      "5cc43e40dc274fc6808ea8ae4996aa52",
      "6fa978cb679e431e8302fea6f7285ed0",
      "b2587fe1be1040aba30126c0d3059e21",
      "998217ccea92443994d2f075f9410e98",
      "b2918d5de113497da3d62a292d886845",
      "231cbd9a7c4545398ad987c0326e6e2d",
      "ab51eb05de634d98b601a55877a25db9",
      "6a850a542f1d4885a686a5e08db6027d",
      "9286ec7adc67401c94ef71460472451b",
      "79cb883563294c8a9a1e1bd0ff1abdb4",
      "08a8d19df60f4d1ea904aa0f6f7bbf95",
      "291f8ac4a69045b1a63f766c99433820",
      "63b52a49822445a68fd2b3d4ddc30d8a",
      "7b1828bb68d048959a33123848f98d8c",
      "281ef4be39b547d1825a87d8f51eb49b",
      "a8eb591856a3435081834ff6c6ec51a7",
      "13e8f26d5223405696535b47ed829d4a",
      "4d6ba247e9054fa4ba8aae4ab4a6bb3b",
      "af55e15c63c54b2a958aa8ed02855729",
      "ec6294bb9a8e4b75a0f27e08d2c9136b",
      "eadbc379331a454393d55de185935e1a",
      "640008cecc2f436fb683c3e6fb30244d",
      "1c950df330714cae85d5d6a3d1bd06da",
      "6e66d2f463cd4c0c95b51e6b911339c0",
      "8c2e56de3ba34325a440e3d0779962be",
      "e57123441e4849248ec60e2be208706f",
      "4efb775f42414a74a9f0dad9314ebf15",
      "45f632e7e9b5473e8e485997f09263ce",
      "90e4bede65124b1cb01ac9933b1a7efc",
      "5e7c16620a204f50bbeafee88a2e722b",
      "1661bb7c32204aab9a3ca8aea1d37806",
      "9f7b8ca85a284e9a8a911bbb61d426d6",
      "dedcf035913741649b0e861dcc59c3ff",
      "ef732c09a896422bac5c1ec8e2576746",
      "5724d5488f3446a695d974f2a3e0daf2",
      "25aec382ba22453c854643c1193943e9",
      "c60430c93f3b4ace8e65d527a416d1ce",
      "8722405b12404adaad9e4e9dbd6100d3",
      "33a50f3d6ebb436a89bbe6d1c3380098",
      "d2f7ace7197f4b849e61716b75479f4d",
      "c0b9f32e4eb6421aac2e23dfa9c08c31",
      "54a3c0bcc2cd4f04aba0014c8142ca8a",
      "fe489015221546a4b7e229e6eb7c3b50",
      "df15447579c44421bc5f98e076b823a2",
      "968272d8c1c1487f94c0552e8f549c9c",
      "f7fc67ab43164f769d1566900149ad22",
      "df148446663d43d595e455affa762ece",
      "5f57872545854b3899a827ac13a65d5c",
      "59ae2df0a47548089918d1acbbedd564",
      "3d349145c521483cbb66201202f3d669",
      "d649d4bf94c64af3ad49559f548f3657",
      "18035624373647e2a172aed2e078cf4b",
      "3a90169691da497fb4e557f5bb8c548d",
      "a0fe23af505d41f3958de47613a98a2d",
      "b8ee2b6c81e74f449aa0ed747949b76a",
      "130f33cb03134082a9c953cc6610f69c",
      "88729027af034688b222bd73c541c748",
      "e1817b354e404b9590499688d656cc23",
      "59b6624e7f8b490fa2585cc935d14bc5",
      "a528e30cf9374b50805fdf00a9893574",
      "9148d645b6f94cbfb27c1e1e11e65309",
      "b5a444fa97604fa7a1d15aa3e0acb436",
      "100364c81a04469d835cb8ef5cf41efe",
      "df66373c44df405d884373c96a3a6528",
      "2e6d8325c19f43b7aa13e18eb8c405a2",
      "d1b0c9a156b742988d5fc900f35fd6ef",
      "6f9324b2116149ffad5d1050691de502",
      "bf225787dd93423caa2ae0ec2e46c687",
      "ae3404e4afad46b2a7075cdcfaebcb3d",
      "4895a71aad22442a865a6817e65c85e1",
      "95dd0c138b594abcaff0cc6787d7cdb3",
      "8312555e8ece4f5b89862a41409c3431",
      "b29aa74f364347c592da76051bf9a1d7",
      "b35f3bb9e0cd41bc93960088cbd0be60",
      "be48a7eb9f8d46689bbe988eef73830a",
      "c86925bcfa8545afa1e8f3beba2c9aff",
      "d508549667e245ed8f291c5419414231",
      "fef54ba79a654e34b1a4eb09d2f44a26",
      "6420c2abfb2b41ac8f0ea2c91de6ec1d",
      "696fe3e36ee947938a8f0cd5a17b13f6",
      "28a055e7a3c04184bd83ce1e7c2e16a7",
      "9d58cc5ce1e140bc98fc5429d4887bc6",
      "62ce77bd76a74c76a62e7105bc2b729e",
      "50a24d35c2424eb6895b222e87a9eb02",
      "19a5240efece42d1b8aca0cde807dc7a",
      "4cc2561ea64f4b5bbf65f5e631ca8d7b",
      "fe723edc2f9c4605b7abea3d4b66a53b",
      "26ff2a7354584b1ca30228199819849e",
      "46432b31923440deae43fdfc18892ad4",
      "161a580c9102433098dd24626839c210",
      "dc7d150777ca4cd2bbdc6ade05ad4816",
      "81fb0f65fe854ada9037cd6ff80a87cd",
      "37ab27c0abbf44e78db64513d65479e1",
      "a34d7183ef9243d5b2ca3f4226ec0c6b",
      "93b2f30658f34a8d931357dafde8fbfa",
      "bd3c23a2a9364e9a9373217928009011",
      "fbaa11d43f3c486aa24eac92894ac469",
      "3a4d972d08974262a325ba8bdd342b88",
      "fbcdd185127a479b8df9b595c724ba0c",
      "6f28a42cfd3044afac32ee77eb4c5fcb",
      "65f7455090fe47b78e6f009b27c5394c",
      "e4dfff92f5884705bbbf2ef08ef2e495",
      "12acecc1522d447e8125e79d9e8bec11",
      "83c4058865154555a9f3875dcc972cc7",
      "abba40ebd76b493ea344e53d1ecc2bec",
      "a59522e1b19d47d68dcc8153ba06848f",
      "1684318dfd3e47bdbe030db172e6d35a",
      "dfb5066512ef45a4bc151383ec8eef10",
      "c59a0b677da14baa936b19fde5845868",
      "0f9d5e36875f405b870398e03a450b4c",
      "03b1039c79ed4b108935407d7ddde832",
      "2c21ade8fb5a41d0be7616dd6075bf0f",
      "15a9ae69e3f044c4a7985132d6dd3890",
      "4c19a8ed63494776b5fc2ad1b98eb0a7",
      "e2c27c3a11eb4b659b6e3fa192ac90b2",
      "fad173df86984291b5d2a2dfea1f4bf0",
      "8e78f4f42d754251990065d82a2285f4",
      "ea3c42d5a14742c9901022f652fc578e",
      "0987e47acae54758a38572375d9b031f",
      "b1659a00c5914c8fbc07e6f6cc8a1405",
      "73cd72aeda594dccbe5965dbaf01bc2b",
      "3f2c581f6e9c44c6a39cf808bd6c58b1",
      "c7e533b3a8544f049d7ccc7cd18a88b6",
      "e995692c4ce74471b3625b11c2762e1a",
      "001129a13b7d4d188911fcc3fc25ead8",
      "6c8152af50954d6d94e69ea9732a4070",
      "3b0fdc0e2a7a43e78b288072c5b736fd",
      "ab9dbbb771064a1d99e8e49bbad51193",
      "7c53b6c385324c31957695a4e69be148",
      "3e6371c2b8ac4ee1878e4a4d871f34d3",
      "4752f0f15ba94bd28d07037c69389476",
      "439b4351301e44d2a443ea1897f3e197",
      "943989d6d08d4b9cb943164ca66b91df",
      "1b232fc0181b488ca18fe69610c2fff9",
      "0ccd11dc7fa54ad2bddd48827a666709",
      "e42dc2e2f2f447cd8df98e8fd1178306",
      "8432511dbd684b83aeae1be1cda89419",
      "406470beca5645a0b8b2b26a72d1397f",
      "bcbafcbb2ac34c49b0dfb021fccb8778",
      "7fd180b2d009492095095b7b17984ae2",
      "ee4a3ae500fe47c19865000ea78b039e",
      "6924e405cba54c97aed48c42b1312126",
      "d7e33f0d572242c3950e38eaa0f3fd89",
      "3d52a2ced2dd46b08c46eefc922db51c",
      "e697f2f06c0a47bcbac0d06b1677e6e3",
      "511976d753f643d2b2e03d3989d7110a",
      "5ffc19f65c2747f2a2669e370c63ad92",
      "be5f6d88a9554dcdbc783319086bc482",
      "4c520570bce34fdb96d02e8e25bb6593",
      "70e7db732c33447f9b5abd017c6466ba",
      "967632b91fba457d8cb434c6f5a6a65a",
      "0601ef3b77544113b073f11b08f1db0f",
      "47746234c60b4ccc87f00acf56e8068a",
      "67e1fbcf440a40319040439471dc9936",
      "e2ef42752d0f4c1fbf5432d0338600ef",
      "fe2ea12c7ff746d1ab9a1e21eec45ed6",
      "7167f43068b8419c958f080dd4daaf5d",
      "4fe0f431e54b477a913de8fbe07b0f91",
      "757ed1fdc4b94bf2b2db4dbb6430f10a",
      "140c4c65e55a4d049ace2d74f83b1b6e",
      "caf632402e944cfaa590b4bb44fb3434",
      "7be34a246a664da1a49ae9a034f6d0f8",
      "5f39a9c4164d413386ae8a5c2304d9a4",
      "a06cdf8608eb46d492494d70608ef10d",
      "ddd4d73ff25d4e268e03996a33eb59e9",
      "b47cffad201f42cf941668115239347f",
      "1348294fea7b4081ad4401feab76f308",
      "171cd4ef58a64a45abeea0d2da8855a9",
      "376fbf377e384582b39977df3aae5f33",
      "5718573e6cbb4216bf82ee79d2cf6228",
      "672cbf0b5c5c4259b4f279499a73e5af",
      "4a5f9135a77140928ecefe4b0c7f8bfa",
      "116861231aa145f9a6d2a9579d4b52fd",
      "b78a896662f14ddd8c7e8e76131b7430",
      "e7cfd112b1b94f5da28c1c3d140b5210",
      "1ae9968d54824eafb7253ed8847edcac",
      "9b0ab3ea59ac4024967601861a6cecf4",
      "d1a8a72793634012a47a79874129173c",
      "667631fb9ca948a397835b72e6174c26",
      "08cfa875d56f4b9ea205d45abc28177f",
      "4fbdf1eff32646cda0f3ed56c4d73f85",
      "9c29abe62037465bbce3e6d65e2e5bb2",
      "e477f1f8c2014581a2a2a8361b2fe001",
      "204fca3b57694f69954273ea81c0409a",
      "38c35e9b024b42c4822e3e5040fa89c2",
      "338a9b7f12054fdaad324fffb9d87669",
      "04aa12f3b7ea4ea3b81d7d26a47ccc62",
      "a9a4925de1e84293a591dfcf80adcca0",
      "1159d65b48e04732997a8073a0fbdf78",
      "616cc9d52a8e44e4b609867ccd7dee26",
      "f53cd098681146ecb91b55f495024b9f",
      "e85fb938b468454fb091a93cd6de4fe2",
      "7b2bbb8037e249eb8986dd44393ab4fc",
      "6ece7af9216841a890e5305eac2401c2",
      "fc828dff1af04265ad6f623007405a82",
      "c5537514c8c0442a9f397f9a7e1e93e1",
      "3673403930c742c59f4aa0d6253789c3",
      "570a9a3f59c4449d8f04bdfc63f4df4b",
      "d2ff481c7e30466f821810beab8ff255",
      "cb6c634f9b314ca480c4e2c5b8ad5a5c",
      "4d0d56236dde4f6190701364bc387336",
      "eab0ac15c1684b548534c5669b04c985",
      "d5fc919d688c45b3b60ead4c598e304a",
      "94cf6ec594b54a998abccd06954c72de",
      "7edcba8cf0f441bc90d9de0716d94481",
      "1bdb249394ff4cba978913fe637a13be",
      "f5aaab38bf3742e9abdcb7274c6686d8",
      "d0a1e1caf8a54b0f9413f87e1ef42e36",
      "5b93ae60be46491f9ccc2f37399bd4fc",
      "29f12896beff4b0d94da32bdee721f6a",
      "73695cf87fea4276a8a2821785e504ec",
      "0fd7ed8d13ed4fe3a88e6dcaed1c4fdf",
      "9870b28989424b34a85684d38098b54f",
      "eebb18913a5141d989833f460c7c4916",
      "2b26ef351ceb4462a83fdcc8a9e8dc25",
      "b1c2d15c48eb4a299a58454fb74c7935",
      "27cc7c4e69ac4fdd9c56c7ccb7a6a065",
      "36bb687051804e42b98144e10dd25b0e",
      "12d9a04010f948bab20234aac1e0b80a",
      "307e07d748034bbea657eb4c42881c01",
      "d3cd1a6374be4d66a80a6669243669f5",
      "75f4bac881b14062975103258ae3ddb2",
      "d0806e98189d4fe5b66053878dd49434",
      "1d407499408a4eda8cc969f64bd9c89d",
      "0c1ea9014b7c4ca380b2b241c5f1c38e",
      "230e71ecbb644f72b978d459a93f670a",
      "776e2b3ef13e42bd921ea67b70002822",
      "9eef42b0b7934138b811b987582c0692",
      "7cf7c3efc99442e5b306a17d360fce19",
      "aadbb29c22e8495fa6a8d866592475d2",
      "d457d111e39a45ce8242570daafe4663",
      "11ddf43e284042b78a18e59b2357741d",
      "d06355c7c8ac4fd29c20cd731e94740d",
      "b03ae5b3abbd4124a8e341a5aec39270",
      "e5fbc93ed59b4ffd90c658b257daa92c",
      "6cdaf5e29a214622937fb3dc271e730b",
      "ae2574d36d01432a854d5dd075e12f87",
      "fd195ec8110d488288cc82e767b5bd89",
      "6d4d0b2598a64ec1a4092031a3baf64d",
      "ffb6398fa3c24cc59ee9094f1108523d",
      "5c1592e19f5f471e80324cc1246542e3",
      "d3bee3ecbfde4b06857f354bd5d9ead2",
      "7f9a13f51ef24d97a88e09d31d60ea96",
      "6204d0379de04c8ba05f8d9bb5cbf156",
      "ee2b9bfb09384a659288e0d4261aedb6",
      "da76ace4f11f4d989ce271860e661dbd",
      "6018fb072646408aac95a3d7b5468c56",
      "ced30c38e393433a8b884eef72de1607",
      "fd609052b45b4eedbced3cdd45eb34e8",
      "cce75a6d3ed34a4c942979e28824902a",
      "fd29b08f5dc146ec811fcb8f1b8d9c5a",
      "e89449e2b98e46bb9ec8db899f841ce1",
      "39f4e02f12f14608a21138a7b6db8ef7",
      "7ffc3f15a9ce45689b5ddbb45f3420bd",
      "91cdf687ce6044e6b0d650d23b18f964",
      "d4862b30fd2b4eb9bddcc26a597160bf",
      "0f9836cdf97a4c389f1935001eda61e7",
      "64cb631d215b4654ba6a5fb6c083149a",
      "fd417985d3be4ecb9c5ab8a42dcc3922",
      "9550f31df35a44bf89bb07ae0401bdc6",
      "40edfe43ae6c45d7a503170389fdc2db",
      "d5bff3f2a16b43d09f1de7a09c744735",
      "2ca91e70e640487e9703d9082d70df6c",
      "dbf54f8d1faf41a28fa872eeb448361e",
      "df704facec6c4880bf5e7f70930df760",
      "5747039dea4c48778b032bc0b530a1a6",
      "f8b1be653e51430a9eb3e3b38c3e05f4",
      "a384aaddd2484970bd60e908d493276e",
      "e02803120a2141b3a4dbd2dc06dd0910",
      "580e4baebd2c4c6c906a6985055d2e11",
      "e9998803db274afe8e0aa4cf9fafca6d",
      "78380057acac4612bebc8b412219dbf2",
      "b311028246ce4c4781b7f6381a784723",
      "f034a42425ce4883a7be6e1d2a483c30",
      "538f422d056a4f15aa7a50d91d69005f",
      "c8e371a896b6429eba870dc50e5bc0b0",
      "3d8bc6ce3c314061945744db26aab2b0",
      "7179ab73ca154607b4a4b4a5ade737a0",
      "915c196283e440e8b88e08017249a61a",
      "a762deeffc0b4168a1f91196ed1b99c1",
      "03f62c318515417cbaa7abc1665a02eb",
      "68fb83ec00224c12b0b79d45b36d8963",
      "29fbecafb5574e6a9bc8e0c0e4cf84f8",
      "03bb3b8ecf1748c79204c3d7713057ae",
      "7e7837ccd8364f99875497c244b80d16",
      "49bf0c4867d04bb19f9e16e9b8da0ff1",
      "2cd0a9af52864f4d8be5fd9d2c4c2c8a",
      "7a88cbca9e404324865f9189cdce30f0",
      "deced38150d444be8b8080b852714cce",
      "32557e4fb0984dad8f7da3c9aac2b81d",
      "be7d71c04cc644ccb0fd137e28e073d9",
      "60446a5b1208428dbdcbbd08c50e3905",
      "13b1dd9515b847eaa180b448c74c7517",
      "de0596955c18475599ff6c45fa01991a",
      "4c3b9cb4abf44d1bb29d32553b88be1d",
      "fa49809dc900481d813f7413cc677d43",
      "2fb2ab349f1d43719c50b2325874415c",
      "715e62a18cc144c8a0072c3e7d934f16",
      "cb6c524daa704b1382578479244aa0be",
      "50dfea9dd2ae471fbf58be37796ae7a6",
      "54e2e51ec73544038cbf5844e06a05b1",
      "0ac319afd01141739830ee4cfd7fc1e0",
      "3b8371106d094b93b5dfd540d4e993ff",
      "5cd13bd813aa4e59917cfd3d55172bfa",
      "94c1582f6042451abc12d9dff7125049",
      "7c45d5aaa65546c2b2c0c72427667aea",
      "453b5e837473400bbbb2965e77497a1a",
      "41589f96ae9347dbb434ac97973d02de",
      "73637fab92964b20b626a8520d91752c",
      "699477059a8a42e3bef412b35ce58638",
      "3e6636e178fa413e8e3114155c17d7d1",
      "3ef7fe1f6bc548efbd65369906ecec64",
      "faaaa129b35241e8a844a36eb45cf1e2",
      "a10c9c9e4c0541f9979981e17eab4884",
      "33632ad991274aa0b8633a9123fc3567",
      "0809a00b9bae4bdaba1e59347710bd63",
      "8f468c26a89b40de8b8a4f6572dbcfc8",
      "6697b66bddc94ef8a5f03a62c0f2d058",
      "2f6f216c57db48678aa52afdbbd6ca52",
      "806117de5e5346dea78d1c755a9a4e15",
      "c464d58e36894a4b8265799f72b5c040",
      "e45ca96972b249888564a176f00446d9",
      "5e5c9e6a9545490fa50a21cb6b8d8900",
      "942bd9e442714ad38a213c6fd775ee7c",
      "1358af5c02d648fd8fe7a70eff9e4d1f",
      "17867268a7e74160b6e78b1ed1b09700",
      "0498dd7fdfc94b57b613feafa097da77",
      "bbc9516267824aa2b9b133474404e6e0",
      "5b94e8823b314511bd88f3cce0c44c01",
      "71b2128be7444e81b17e122d875e19b1",
      "f8b6cd78c55a4b4282a3359b3b2bf5cb",
      "7d37415a9b2f4ffe88257bf63beb38de",
      "72e6f40439244d1ba4b581304d1f180d",
      "f8e46a73ce184ebfbc408d2a2c9cd6da",
      "56096b75a4a9439f882335d29a638ed1",
      "66af45c6321e4e6285354144803f5cdc",
      "2131bd73fb2a40b993531f6aea4ccca0",
      "5e69d7d2a8ab4a20ad1cec010cb2da33",
      "ca615166a0ed4ca5bb2403e66eed03ef",
      "dcc0eb6d78964696abd9e8f24c0f5837",
      "91a558f75c614d219ceae9f8f7c25461",
      "b6bbcc5788474984abacb8e94db615c9",
      "3d0064b1f4844bb29d03a95e12e8959b",
      "57eb99272e2d4c03abd1fc61f379f80f",
      "03ba3f18513442a48fd2fc5421d1e5b2",
      "87b5d35d180e4f0f92821db1d286b6ae",
      "596d244074be4999b897976edbf61116",
      "8a53119ec90d4c9492c1ee5c730fde87",
      "1542b8f110bf4052abbf3f2a2d843e4a",
      "553a797733a6447b8826b139e47635a0",
      "d5b1e10243ed4472add1801d0f94cbb4",
      "5e4952cfeb1145deb19b0404af11c06c",
      "3a851ed3f8924ad78343e1fa3387d2ce",
      "88ab84af5ff94eeba0e4ccbf7b66d0cc",
      "ec4c9891ba29466ea6b01a60992e0842",
      "e90d2f31ff66401fb0c38541c1cee20c",
      "f6a6b682dc4f4f4d92c9cf5b228123c6",
      "4b5db121975e4d70b23e2843d90d5df0",
      "53d7c99bca0245c6b146c887d7aa383d",
      "e869ea0f1c804d67b77f4378e02c829b",
      "fb141c8a5f28436a9abcd97d2eaca6b1",
      "d14f26e91314497bb3dc92082a16eb14",
      "2e91b424a7234d9eab709974c57407bb",
      "8cbe3d88bd9d462896cd7c03e98bbef3",
      "d29f6258cf6349a3bd48146f68369d29",
      "ec407c5cefdb406cba7f9c77013dd082",
      "1e13b151141e4f5f903cb1ff63a61499",
      "50926ae3e4714dc093713fe76b42cb7a",
      "627dbddf4d61461a97469ac7adbf829b",
      "250e28785354455786e7fd32b271c533",
      "bfc8ac32ca7f4fedb0a15f2dc1ba48df",
      "b3445e1e56db440db1006c9f3ea5cc1d",
      "44dbdd7aa7f441f285fa4739c5f35aa9",
      "a16f2b281230495c81192ac0c9973a1f",
      "9a5e6cdfab874884a467c26ab13ad8a1",
      "acdb9523150240189c187cae77fd4ac6",
      "c0451803f6064ff48a8aea9a9f5244d6",
      "fb8d64be6a40411d955f231ee261ff41",
      "963442b8b83e452aa132c79f668bdff7",
      "bc45c756290a4417a9ab69072a4ca00d",
      "010a4f6eca2442cd9b4a88f90dc230c7",
      "6b0261da4dc749e39fbbfe74e7f5961f",
      "36ee9b71dd764283b20ac9618ac9a7cb",
      "ca6bb69d9550438586e1340bbe343e9c",
      "cfec88f7791d4cd2a6866770c560a9bc",
      "2b0127863706484695f4c3cbeb47a117",
      "fece43867cf64d5fa1af75457ff4b980",
      "df59139a3df74a22a5a55fbfb6fb89f2",
      "85df11f805d24b2fb15b78bfdbd5c403",
      "049f527c5a614a63a3c68c4efd97fc4b",
      "08420466756e4d4b83708c407a1b3355",
      "838641db22ac4000b8477a58edba1ea6",
      "6a37b841639d4f16be6451d4d2e674c2",
      "5a9e49b6b0f94b8b9942c9004a9f084f",
      "048f3fe50fa04bc2ae7f592d9bd2a77c",
      "d07d1255b4c44806aeba9e2ec935619c",
      "a2038c75eba54fe8ab85518dea142000",
      "772dcf6e0e08476bb71b6ac7f2579c34",
      "0f7c4cd53459434ebe6d1e6c51ae837e",
      "b0290b9b09f04af9b51ca6aab44ab4c5",
      "6d0a1a115c7b4e9794ba59ea48fa3be4",
      "235d029a978346ac83aceb1cec4f9610",
      "9ce2dab202064b6e9fb972c72fa5b671",
      "641cdaced5e34d12858eae84388e1ef2",
      "2d7cc844ebab4bbaa512ee911a8e689d",
      "d52c478867a241a49ff8937a31a3a9ff",
      "331d34faa7724e23957929b5f29179d0",
      "86332743d3ca4247ae38701801a11a6a",
      "654f9e4deca644cf9b81800ee1abb018",
      "5710f80d4f6e441284a5211c0722cc8a",
      "986f678c800d446e9aaa23a8d9495439",
      "78fb8343bb784e9eacafe31ae8fcff86",
      "a75ddc01f4d34167a5164e6b895de2fb",
      "97c0ed7a28a2450caa2667083a913dfc",
      "1797da4b1af0439bb4657ead6bc70b64",
      "4f96e59c36dd4cdbba599f7edab317fe",
      "6b353da23e9c40c9b2b5cd28a401f0fa",
      "fcc61c92001c42cd86b996989e232bdf",
      "e7aac6826a0c4e70a8c7f1f3cbabf6a3",
      "8fbb25617c6249418f5dbd45fc2dbb38",
      "4511b8cd1624418fba893dd77df97a06",
      "2fc6124dd225437aa4a05d6c3a28a61a",
      "7d5291a2a6e44d54980fe3bf9ac03720",
      "fd2308b2bfa047e1aceefb4a6626e3d1",
      "f62878a58e594b269ae2b0020647c91d",
      "912d0c11bada4860a89cbc007cd62d5c",
      "d9c0098f23ae4d56a7f41940914c5f16",
      "cda5d8b9c78d402296dc7d54c30f316d",
      "d87b8af9421046f39b14095d1e32ad1f",
      "5f58d96492774d568c5d0ab65f89e334",
      "e61c7ed57e274ad8b0ad1bba5699bfb5",
      "c5887793b5ec4195b234bc32129adc49",
      "10f57e07be964830b6da0071ba2be518",
      "0ac885b87bdf4d2ebdc3e40c8f357698",
      "6425deb17fbd4041b661fe78350c2e9b",
      "352c370fe4d9439e99db7c332b4e5292",
      "268963ff412a495ebd16121f4b088869",
      "7524b35b0a8447aaa0f67ec1960cdd7c",
      "4c11614bd10849519892dd83be2b1ea9",
      "1e7f83049ffe40b884e7fd57e399dfcf",
      "c9c882513a1a452cac2684937e953170",
      "1868b80d99b14d4aad65654b9e0ff5d3",
      "83f9edd12f234169b816f01ca17fb088",
      "30324efc5cda410db780eec932db00cb",
      "5ce5a90efbbe4ba192baef888c1ccde4",
      "680633fb547542eab9ed81e3bab173cd",
      "c0d944f8f8184c82b81a565c9a135ad6",
      "d15edfdda1414f96a27372b338b54baa",
      "429022cac64f4d2e8af159dd2982878d",
      "1458d2f92c174a808447e0430ca3e7da",
      "b1694d098f5b4917bb350e093afb4977",
      "f3dcdc633ca94ee499c3a85fceca76e7",
      "e94a5a4eae9a4c58897800587c8bf41c",
      "cdaa8ef741dc4c7c9a48d67a9a6d94e7",
      "d279ee9d156041ae8f4ea079e4d5e6ea",
      "0e04ed433f9d43b0ba988f8b37e79ddf",
      "6201e94e6dc54b8da50115f023da84f5",
      "78039a8fec26496d8bdc7164537590f5",
      "29b99ab8f73e49b49cb19df30dd4aa58",
      "e6f4574a86f64781864b0e623a08de36",
      "d43dc43ebad14fb19015406382a5e200",
      "c9d155176078434d8cf655057adafd2e",
      "400b74137f9f41eb9cbd7517a793bd2a",
      "7dfec064aa4c47368e886797d68fc124",
      "ced08fbe872b421cae99fcb45bc28fb9",
      "21e6d0cc8b214607b2624bf076490f4c",
      "b465fc1d894446b198f670f2c8accaa7",
      "f76f5341b24c4a9499eee158d8b296aa",
      "2e08df3cbdbb4cc9af9082cc872481f8",
      "f192f05098244d4192c754a69ad5b797",
      "b896e9b5f0ac4a74bc176b8ac8f08120",
      "f8befab23a3b488b800949f66d7f8836",
      "196e71c2dd75479b9b52f48351ffc098",
      "f2f8de680be64e15a7a357adb773dca9",
      "7f07afa068fe4639a180a4018a7479c8",
      "e4054e39d14843de9a2dec6d2bf6c9eb",
      "c2dc4b12b06040028087b2a506738588",
      "fd398721f56d4f03844d55d211181186",
      "43016b4ba3374d9f98a56f78884c7202",
      "f10d108f0cb0444a93086613959a609e",
      "5a1f19f044b3442999bfb699d8ff9fc5",
      "c2c07213ec8945a581b10c48dafcb177",
      "f7d54b202d99441fa22eccbdaa22e0b5",
      "b505c6c4914e4415836697353f2fa3c1",
      "f9de0ffbe6f442938c3a90e32647f449",
      "d112967c8b134bbf898f143210139050",
      "6831f6a3f728454d919964ad18fe3574",
      "7de2b5efd792465c9b8180f8bd2506cc",
      "ab925db283a24b23a36f5f4ff292b55b",
      "51dd159ae187443db0c4ae884c997c93",
      "a2c0fcf4d80848ba9b5dd82214b959c4",
      "ad0a903b35724cd7b51a34015ad6d156",
      "5a81ea2b75334e3bad78d9cd2b11a602",
      "0688fb5e21c946cba957bb5619b7b62a",
      "8a4e1887788141b3ae59f04e3adb3360",
      "5b0516b792e04038b37022ae785d5948",
      "af3d2c42c27b4969a02795f6d8e63f7a",
      "687ae68acf144db7b61f3d5c69e8ad3a",
      "1bd3df9e59ee4d69a0b8c4a6d7a83d65",
      "d2c0239f2d1c4c55ae70e49dcd6608c4",
      "317bcd6b899c412fb92161f535b62d62",
      "a73c2510f6c844c8a4a3f8367bc295c9",
      "c6cdd8a702a54e30897136100a82facb",
      "4abef13c68f341eaa6b002e0c072a65b",
      "abc5e6a797714780a5a9094f1be619f6",
      "0150d248df5f4ff3b4e9dcc35645eb1f",
      "1fb3de3e736247e6ae315005ea0c86a6",
      "ae07588dc5c64e4ebfbf80028db10c9e",
      "15de236c92f24182823f68d658d3c6d1",
      "b9002bc7d2e049269ae477c03f4f1dcb",
      "84243538f21445b8b4f434e1fa6be0e0",
      "0b768a5e6f804240bc2444e466465008",
      "1733d6fdc40243249dfc386c272b9c61",
      "3a90f54841f04475803bf1e029bac77f",
      "21131ad7cb994edfa223083131af971c",
      "fe7343a195c64f6d9961f5e902e9c8cd",
      "c2499cf644514bd1a2905945c532d622",
      "72fdde43f728412bad0637f051dcea79",
      "4676d598c4a943c2915bc305d8be0b31",
      "e6de3045e5294d508c8cd28900a1b7df",
      "352a14f75dc64c508a182221c74d85ed",
      "62d93312aaf5473fb72c68f825624c73",
      "92b0a14475b24c34b480a1ef77c64499",
      "50308fe65ac14514b80725ee50e83074",
      "b6738fb47324493ab3e1bebfae3df41e",
      "df3f6add940b4ace839d44c6db95bd0a",
      "5a239f82f9ad4478ac4d5245f9a9ac9a",
      "b09785c8fdeb46b4a0e68ec7bf356141",
      "a231c16703734a4a9da4eb599d642bad",
      "9cf13995c04349a09dc33e9517c4ce95",
      "0b501fb0ab9c4809963cb2bb4cf5c3e3",
      "2ed43375f08f49caa7f1a59b33a9332d",
      "ac03bc021e9f4eb49526ee83778d5bd6",
      "07981993e30c41c29f80b16bfb7ab5cd",
      "032477dff936462c96c49237d773248a",
      "e496812b552e4761a5355094d6d9460f",
      "8f633318789a4c3797d34ece782f3d75",
      "f7712dc0d9f64bd497aeafb4616df49d",
      "7e1686d90e0e45ea8365d61cccfa5f90",
      "6d424807eb044d42a44ca9de0d3f873b",
      "9378ff0954944f6295990441c1bdba6f",
      "e24f92443d274162857abba427f7b676",
      "835a861c511b4e23b994da3c463b9ad0",
      "23363b4d0da24d7784b859a30bac882e",
      "783eea7fa7954c14acfe76e50b1ab818",
      "224af9ec406a4c6a92dd08aca92dc2e5",
      "d46e1885312e4dab8f3c268a13c75707",
      "e0c6cb03f8664ddfa7214a5d12541b16",
      "d1b52a65f23f41c5b08c6e27b182e6ad",
      "2bcbcaefcfb4438aac9d24c4fa4790dd",
      "8fec5d9bb7294755ac7cb39acf3cf564",
      "61148d63f2144adfb20a573129d63243",
      "5f006dff9de348b7957ed8caf0ba7d2d",
      "61f6ae9e72254f3eaecf391e9c756d45",
      "f5a660188a354027a56d968c7b91393b",
      "029b37b9767a4a2992218fd1255e6d7e",
      "33e379fa34de4557800517ef5a7a2db9",
      "0dc01ef2208440d897a88f427d105177",
      "9e18ecae29f7463aa55c725261858ea9",
      "83a8767cad194799bdde950ab4a291d4",
      "c41676cd39f9450ebf8366ddff88df14",
      "62e714a62f3a4bcaa3192f47e6029a99",
      "6c18ae7b7af04b5092dbd674e110abb0",
      "ccf0818fa6274da9985543b02a58226a",
      "b55f44b89b9042c1949a4a595a9e29c1",
      "541c48d1221945669435f63a393546c5",
      "1850354c5b18447b907ad6be74659e2d",
      "9415ac24af0a48ceb19ce728581ca9e5",
      "4cbc01a9d98543bfb37bd52823022e76",
      "4e4a75aeebca4deaa96ed90ed9597fc0",
      "b32a6d046ab5432dba37234625a16fd4",
      "6f9417d91403432099e51233a5a356f5",
      "2767610e11e5493abc623cb7e3c56885",
      "8001905d431f485ca5e7897a117b1e6f",
      "787723d180b64bbc986ff21062af9dd6",
      "95b4e16dd517480f8f0d2611558bad11",
      "a68175bc1a9346c6877964f8a8edb1cc",
      "9e6ca085fa244422bdf823f9a2b6e4cf",
      "208e12912d604800b4d1ea6d86e0956e",
      "16d75042718b46e78d300eeb9ccf1b6a",
      "6385e5f1954f4fd9ab028ca796b8a585",
      "57a6e128e3ec440c8d5822e824f71620",
      "e6490d0b841441308328aa0948b7a405",
      "e5383186a4d34ad09fbb8bce9548c93d",
      "a1cc4be898d54d25b68aaddce88f8345",
      "83c9833110d349e8b77b94892baae063",
      "d1fd4b5678224cdf8e25d249675be782",
      "65b1a9afa8dc4d74a40cba0b24f79e5f",
      "4916edacbbe54f40bf4e15c6ebb6f56a",
      "099370694ff844e6a904aec4e0856c81",
      "e6fd1b058195480d85c228232fdef895",
      "a89671f766d1482084360d32252c33b3",
      "2d81cd41dfd644e3b4b1499290052498",
      "f292df0f57f74927a386243af7131b1c",
      "432422ff794e414e9ad8556dab8b6d24",
      "ec85c7df02224204a78cdcfd54a1c963",
      "342a1969ef0649c4b4126939e7f34ac4",
      "79272a5d32624ea9ab0e43b73eeec9a8",
      "196cd1c41ff747f881da7dde8202bd9d",
      "996a1eb94fa346ed99325242f83113a2",
      "aa01b906461248ddb008f06d0df2fa4d",
      "d7ff2f0c46374c79820c0c1fdc9d7b93",
      "f616f021d0b34bff8ea1ba7c9b972903",
      "ce7176ba1acb4a999603eb08ea2b35d0",
      "979e5478dfca405f9ddaf7f8e38e36de",
      "26f29e8cf212499c8bae84aaf88c7a86",
      "c42fd781ec33427aab5a6a54fcedf1f6",
      "a16947fcf5ae4ce98504638235d36387",
      "9f26032787714f87a51acbc388f7d6d9",
      "6e232193590049fa8bcfe5d3451d42c6",
      "66973f3c2c234e9398bdb885293b7e5d",
      "e73b34e066c648ab82a94d908cf44b02",
      "7cbcfcd7e0244856a0d933bf11f2bc32",
      "15da3f5195bd4b52973f1413d82d3913",
      "c633a039d9664b37bcc864128dcf60a9",
      "f611ca8951eb4ddb9d14932b6cb9a82b",
      "c6e8e9bd85944008ae1a5d5aaa4f9e87",
      "24e4d23163ab422d87c4447c390d0b00",
      "8768016c3f0b4a7fb6d7b2a7aec75376",
      "36a225bfc47740f1af3b96758fc91b09",
      "8edce39b64694f319227b338fc47750c",
      "f522689bc4c3481da6cd35b378dc4948",
      "4fc69e87fd6940e6b046ad6254dbd5a1",
      "5a44ffdc51d742ddbf47faa55d29dc50",
      "ddfaefd80f72466f87c3a64d637733e6",
      "78e9c221acdf45aa9b75ce7b87b1951e",
      "b780f253cc2b4247b1ec49fe7516631c",
      "cc2ff146138f4073b508217ae40fabda",
      "ea24e77cb21a47efacda95ab1b9eefaa",
      "614daaa6184448a1a65847bc5a475420",
      "4b0581c2f4d34958a4516384c7677709",
      "ca164778128d49e8921adcfc6f94fb0a",
      "2fca44c2a8264e998042f8ded9faeca7",
      "24401e91ea0b4d26a7f4bd64781ba67b",
      "7586aa7f65d143338a4d6077a1606aa3",
      "4c92154db40344a3988c02ad77c5ca9e",
      "6a61cf9979c94bfeaaf5c377bd58f2ca",
      "abd146b4fe6348f9a6aacff1c9e7095d",
      "bbde7283ae3843de8957d359f8b7161e",
      "76fd4170b11048089b340fa652aead3c",
      "cd65cfd91bdc41778b5e91929c904005",
      "5848e5202051490bbbfdc171b50ea587",
      "c83dabeddb944306be51cefe3401d4d3",
      "570dfb6be923495ea011065da679d04e",
      "b40ffe3b8e7746e6b875a5299b7931ea",
      "586729e4d4e241a8aac0ade8214f71aa",
      "e744cdd2ba5e4dca8fd1637b088ff367",
      "dee0f055266c48f59e2d0a731d53bf0f",
      "87361df9c92b4fbab7cd8ba548bc1469",
      "8361e2363e6f45d8bea0a27e36bae2e2",
      "1ba604ef89c7404bb312c538228d82ec",
      "638584b9c12a4124947a2225376fb011",
      "4eaa9adfe743456da5455e265b8962fa",
      "ac189084fb8c44bda61169f2b81f0de4",
      "ea20d46f49724fd59c4a652ee5ec2d4b",
      "562f93ee0136472ab4f878d05fd94c13",
      "4bd55b424708415e9137b1c2ed62830d",
      "2521d9b049cd4d489a41b7e6e3c6af20",
      "7e436046528c4cac92b58744afb5a4f2",
      "08b85c7cc4774f04a0ba1e7d74301d27",
      "e6bc73ef4bc44a588140c950fdc7bb62",
      "fd670bf0e60f40a7820a94cdb45ef37a",
      "c6dff724c6d1469b8e914da022f43823",
      "cd83b780e6ce4e0cba8046495d76422d",
      "2d6d8720946d4224881df986856cf460",
      "de382beeb3944d12962a84d32aff2651",
      "fe0621a6ec6142f69ab5a459bd9cd68e",
      "0faf5778e3b549459f6d21505fb8b9d9",
      "486551e3a8d541a885a00e6f7568e766",
      "a252f1a0f62e46dc9fcdcb68dab5dc7c",
      "f445a324195b4d50b3c203020116fd04",
      "53ce75a1826d4604bd7e967e3c1dd1f8",
      "3585b6f0aeb845388a1b803c9ad6d0b9",
      "509b3eea4c5a453daf79e8077a951b97",
      "1f72842dee8b416392f5aa6ceeef997d",
      "6e1f1ec3c5064675a5e66fe8b2774588",
      "6966df48fb614bd2bac125b6e0baa32b",
      "6db02f7af96c47439394fa5797fcf264",
      "6c01c5b6b8e64552823a7034ed779203",
      "9d1ee7ee1b754e9fbfb0e8684c2a4983",
      "c95e2ef036bb47b485679452e77ca9de",
      "190fe588d1e445fdba3514303530c17d",
      "d58487845fee4f00a206bfd9e06242a5",
      "ae0d2d2946764b119f14d8eb3a2c2bd0",
      "927595be83084e13ba4037f37385dd88",
      "fdd894525cae4aa5b89ba49f3c512941",
      "59c8a72a3fe84ab7afcbd124f96a50cd",
      "e33e950d7c20483497b3b48b2b5d4dcc",
      "1ec36b28710c40358c41182caa50c0fa",
      "e60c5a2cc2674882a7828e8d5c94f565",
      "cf8bcb19fddc4437883819de39e9182d",
      "73f173fe44ae4b299a741f68fe7ca226",
      "78f0a7db7157449eb4558410e0db193f",
      "c5def27a1c564e08952ac075af8ca9ab",
      "30aa082fd7f245fdaf4bce90f9b56b93",
      "02338d9c6e8c46828a9667ef878eeab2",
      "9ccb243829de46538669925b0ce80520",
      "45686060573e4b5db892f8d45b33987d",
      "298d5886f23a4f238e6b71b36e19336d",
      "bdf67d9b2e564c05852eccaee3761337",
      "e5d99af6d0184c65a82ee022e01c20b4",
      "cdc02f58d6224e609c7605ac03ff6a99",
      "3a9586376cf04b24803431cf800a59da",
      "42592d482bde4cc3a88c106e8dba8fb5",
      "bdfe03ba79f240a08b9143c634a7ef70",
      "b8fc0b2aa3464dffb2b4046dc9bec2bc",
      "22d4ea10880949d2ad0210c39bbb76e3",
      "1335ed8a14c543579a27577b633fbd73",
      "4fbbf5a871584762950da316550d6966",
      "41f6e89274a743f79b9308a65b8b12ae",
      "c2096866f39f4acdb9c32c60d7d55c30",
      "7780ff94eb014ecbbc19fa2c9142d9fd",
      "23b55f7cd5794b828eaf2f688a886afc",
      "70c00fa72155485b82f594204031b736",
      "938ca2a3dfd34805b5484228b9e94d1f",
      "c1c0f47440a6428db46bbfe4f2a07ffb",
      "e75224efb63c476fb51efc868dacd942",
      "932fcb679dd945e0832f2b433790fb50",
      "ecbe2fc8c5fc490898fee23558f7042a",
      "828c2a054edd4189bb42e897518ec70a",
      "b9b4b157e90e468ab0f6493977980bc8",
      "b71f9243730b491a8003291c70be2e59",
      "00fcd1e7e3334cd188a9298d3095e497",
      "6bf6c2e701394a5282416dd982f0f875",
      "c2219e6c267d4873b42cfc5b7044d6be",
      "ffaa6ee6d5514e1f805e7c67f002c770",
      "522fb7a5faa24d75817f8bd8974e26db",
      "f25d00f417d9422c913a95e31f639164",
      "2c427982129a44bdac847e3b6e0a1289",
      "8b1776a12f6646c5a42ead3b85ec23d5",
      "bc1feba7a6ce4083882c7bcd169e97ab",
      "9c1109b4d44b4d4fb36ca0795f080283",
      "43a9f966b6224a2f8fffcedbb4a442d4",
      "87b0cd00510f4b27b0edc815a49579fe",
      "d0ddaf3169884b9f8a3683ec0d80665c",
      "742567e637de42e1a12840941ce55bf2",
      "62d18ad36d604cb59502056f0d9911e7",
      "d49006747cb4421a9c7bde85f4000bca",
      "429c604e9ca04a6aa8e80c0d4f92674e",
      "7a79d3e04e884e2eb23d3a59c385a752",
      "559104c6164748a69e917f471101cbd2",
      "e23940bf6d9a47128d302e4c79f7992b",
      "d5670a444ba54a63b48399609f7c0a27",
      "f12a1c0248364ef8aa7656154a48eb30",
      "09da862b0dea4ca79a75664c0dc536dc",
      "67450e208f544cbeae1f3a7afd68cc46",
      "30af327a3fe54f62a697bd0b3a7dbf57",
      "a76dea51035742059ca35ee219681fb7",
      "28f0359a7af2404f8386724a278d6015",
      "8a768bdf982a452e96b8941b19c93b05",
      "a27564db4aa14d26b76ad240b970968f",
      "b3eb419f06274341a5b876fce5b69a5c",
      "b7cb993bc9704a7c8e14a3d0a81622d6",
      "14cb12b2077145f3a5deaa729b657d95",
      "6f188bd06f2a44b089d659d17243a632",
      "48d8862741fb4aa8803679b0e5047ae7",
      "221804d05a36460da06f1997d6a99990",
      "405ec7132f784da383c3ece3beea0a22",
      "5714897b4dff4cb29354d354c64b4654",
      "86814852b087461fbf1774f9e7dc88bc",
      "e2461a02bfeb4005b4df95c815bf3a3b",
      "503ecc7aa5584c86ba1a2beed4a696cc",
      "455f1b8fa3bf44239a3d3f73a46d6aa6",
      "59d4449ec19743eba58fdd8666770aec",
      "503c6e83cc124d27846f37f40c085b97",
      "e8da1648d6224b46a5caabec0026e1b4",
      "e918f9994d554a04a291aace0df0a319",
      "73edc28858284c7daf6bc316e95cadce",
      "ab2905fd94ed441c87f9138c5b6d18ee",
      "8587d5bce98341d7a7644fe36fad1f5b",
      "8c1965eec3f84a90b7f4bdce6a15aa68",
      "e29c05d41ad04cd98b33ddac0eaaeeaa",
      "d8704c5cbbc84202898d9485737168cc",
      "d827ae16621d40d8aafcb9435444b385",
      "cd390960f1bf4f37aceea5d52cb2d717",
      "3f106b96240f4b3ca460cae1f72bbd30",
      "314b5d6674f840fe99cde96cd24a4492",
      "652d72cfb98d4abca8fda73b4858d62b",
      "2dbc3a74f81c414a85a5eec47de096d2",
      "a6c2abc67c1741f19821ce024a244364",
      "4e1271a8b8854a348e2f58ab28206c0b",
      "333b581e834a4e7ea0952173a62b0f0d",
      "b0d4c02b524249078125e5540920b5be",
      "053fdff956c1456eb025eef50fd690c2",
      "73982af64cbd415cbcebb1ca477c073e",
      "bdbc952b1d944db7826879fd95130160",
      "0ae894f155ff48f6801d2dcaea389bde",
      "6eafefe450d34e46a7e7b4c69f6a4e92",
      "d9f138260b56482bab8a3b8cba83b9ee",
      "223e3961b05740288133ab93023b05ae",
      "aed1db06b7174e5fb031c389ee44eda3",
      "3444e737199249f3933740b51b48287d",
      "90637e5bbde34ef0ae90d00b033e2dea",
      "a9bb70aeb65e44ff933d9b17ae47024e",
      "b479e6dc97a74505a61baafe9d51dfee",
      "5f18eab180164f3a98a19753071fee93",
      "71f887e112e44a17bdcfc84cf1978124",
      "c5660b704d0546f29f38091fc47207a6",
      "ff7992e09c014b05ba2bd6399853faae",
      "8508b194e74b4347ad61dbcc272aa89c",
      "04adb69068d347bd9eb97d992ff213af",
      "1d6cff96a69e4379b321aeab6b35a622",
      "23c65fd2fbf7404085ca3ec3beebf678",
      "7a3924a3e87b4ab9a6322e442e8d7b38",
      "97b838f867384bb2a98eaecc6b82571c",
      "2e9d94f6ed614d7384551f40a1c565d5",
      "2a5482c884e9481e89ba1f521e0c46d8",
      "8d023b54df804c88b59810396350ec8a",
      "1cb5df6aac914f6a8daee59515866fd3",
      "cddbfee8205d45f5b5031fea5059ff57",
      "505669446e60443fb6bb066b49303b3a",
      "8a04e99a5d374d3b9564a487f256f305",
      "84748c6d85fa40e680c5b1eb33238d07",
      "8f9ead75f16f4295b8703f846c52a4e5",
      "47d9aa9da63243b7b3b261631cd97cee",
      "2b4667a6cb80406ba1ba06fa7b4b2e15",
      "5eaf4857437040ffbc00f227ce62420e",
      "8e634f89a74b487885b4e32891f06159",
      "b0b5ed1e74a741bbaa2b8d1f3ab29f2f",
      "6d7560979a65442faf60467c34046b21",
      "f85b517e61ba4395ac3dabc32ae38fc6",
      "5d6735997f7b4789bb6b8cc8c92afe15",
      "4598ab56a19e438a97da022bebf5c12a",
      "39dac732499d48c085299fd6c96928c6",
      "1affe0870da343fab3d101277b6c249b",
      "b6a020c4d00142749e69c1265497e6e9",
      "f96b3f6d2b6a4c94a4a398b54400250d",
      "5191fbef6aef4acb836cda02a93d55fe",
      "6ffa5c45bf1f4b429c64864698e2e54c",
      "1d817634f0234f9eb3788ef218ec4f8e",
      "f990dd72d11e4f9aa9d7443fe2a254e5",
      "8f145fccacfd4b0bb19d8aef5d28258a",
      "b43b376ba735495ca779562fa339222e",
      "458a6a2ac49348a99a2615cd8340183d",
      "534753e8101141d5a33f03f6f27d8d57",
      "feedf436fe174062bda50a5afe6445b7",
      "374b4f1be9c74ab29270084854a77dce",
      "7ef2a23fcbb5432ea6252992adea1b92",
      "656da6a6fd4849c3a6e295b03c050a76",
      "ac7d0673d3644a1aa9b4f8f996a62cfe",
      "9d08a82532e344509a82eb2d7bbd2279",
      "e903c601488543f08e2e1041e92a7a48",
      "dead80db67f64ece91a6350eedc794c4",
      "ae357b49209f4f889b92e6c0b2f7dd7d",
      "1d9e27a80aa0480ba67f6e41c1b75d52",
      "eb6a6c615b1543ecbd1d948f3d4ea623",
      "eb257492d5c4492595950e47d5aae2b9",
      "e3e1cccd36e84fceab0c34d1f1054ed0",
      "b7425c2277564d1a95a1a7a595eefced",
      "25e9ff3d63a747f8b7bc65889fa25c1e",
      "39628ea7eae54bc9b6a41b50489a58d4",
      "d1fa16a988d647c7bd5d464ea967e7de",
      "826c0190668a48d399fb9e9188dd9d5f",
      "e840cb004e15462cb9d5ca4b0201f3ad",
      "056bcb5750904122999c53d3df3473d8",
      "cf9fc665d86a4920bad7418f1fbdb4cf",
      "f7ec6b9bb37d4cabbf3658e61db0edf4",
      "6840e71365004443976b3b2267ee1f52",
      "34796770173c4ed8a197dc8fc64ed5a7",
      "fb4f7d60473f4fa7aedfd8de12a78cfb",
      "309bab41b79d4130a21ae7b7d7a4d9ac",
      "eda63c41464e49d69ef64c9b1d201577",
      "d0730422c8824d908d71f297f4a4f2f1",
      "e75349bf22a84a5a93456e5b519c844d",
      "38906760a75e46b991c5decea8fc1c64",
      "163f7d1d2f1d4195945c841c7e2387d3",
      "3c3b69fb37a147979c22ca14eaf21f42",
      "5a095bceba2b49a990aaacadd6713b68",
      "c6c9197d02404241b4ba5e1f090be0f8",
      "cba57b1cfa514c0cb4ed9ce0eb11c07a",
      "b6a364c6342a48b89d3e9359b974d6cf",
      "df3612f875204900b54d803283bfad7b",
      "01d90af935d146d49e940bded9d4b444",
      "9d2fe0b4053c49d9949089977f05be83",
      "2b5f486ca4fc477d8213de7be7f2b5ae",
      "b380447a680e4679992c6b8d3845b08d",
      "2eb6753ba87b4360b9a8bc8828b4eebd",
      "8342989341824a3c865b8939818e0105",
      "79b5050d37ac4bd597e88974b82aa1b3",
      "32eb69d6c7a24fcf9260323ed6c57c07",
      "97fda6596bd84e249dea6a3db04104fa",
      "87c9c74525c44628882d7632ce9a0586",
      "c942f691a48c420099e36023373b66d1",
      "ebc051febc884b7b89b05eda530fb25e",
      "300d130edda44bab8d9c56692ba6b20d",
      "0734def0a292407f8e15cdb5d49a6b9e",
      "417d9ff1d7194251b783f2271ce3463e",
      "07b0c7f1f1994f04ae2ad6275511e57f",
      "872579b4e2e24576be21e4fb491fc228",
      "e35e6f9561734e4b99ad46bebd011707",
      "341d89235af94255aed5c12135a8448e",
      "caf98594c75b479a906942fb3b4e92e7",
      "acae3c6471a04210bc0aa8575ab3de38",
      "66ea4179fc294466ac34855c0d0439e2",
      "42b22f87c7c8492e8cc5e1a5761e9c91",
      "b30d5b930d1142dd810b0e233ee60f16",
      "c9d44081e76a4ceba1cfc049c7450197",
      "223f448b1d474ee6b7f62890359ca9eb",
      "9bbc9d4e113546f095c7f5374fa6012a",
      "d9f9db627639499d9ad969e4153ac1d4",
      "eca14838c64a4afabc186e67fa29d231",
      "9d52e219055c461a8ba1f4603e16c59e",
      "5b302453b49c432b89b9cd8580c72c79",
      "014ed0e47ef3413ba98e9e851a89873f",
      "9bbe5ec39ca0442cab2de0b29de09ccd",
      "308c5b4eb17c4322978d0c96187809ce",
      "e342aa380e324c57842b06bba614edfe",
      "d803768d889a40ac9ad0dc0fa58ba77b",
      "fa955a428d5640129fd7799e79a303ed",
      "6ca427239b3d4b2eb4297ca0fe94fbde",
      "f3f080fb009b438b9187ab2550d032b8",
      "a9148e5092e14215bf6889ee413fb63b",
      "66eb172056cf4f71a30a75a746e8ffa3",
      "5c5d1c4bbb11476aaa37d7d2f76bf9fc",
      "830494d198474d3b8141dd935687cd92",
      "1dd66ddc22e94278bfabd70b2616c114",
      "221caf9851e84f06bb3e023ca34ae45d",
      "569cda0aa13e45e6b78ef34e38a12d4d",
      "1d0ea7c1f6094cb288ed2ae2764bf173",
      "5cb505ebb3c24513ad0664c54b3a58f4",
      "31b5becf3d68482798f7d8a94f4b6113",
      "f0f0fbd0dc33481cabf4fedae75ac679",
      "7b506c11608d45899177947f3c12f9fe",
      "cb9867c3120642a3ad094776efb65f96",
      "9027895da9924afebcea5c6d633bedca",
      "17b0579a56e043669a25145a8d9f31ff",
      "b29a66f210c740978c65e679c5482bad",
      "04a2eb377fd14a339d354f263a336eb8",
      "3a5ac81c47b84ab19ab936787a356e7a",
      "84080bc501ec4d88ba1574a42a6150f7",
      "ceab4cee537747078ab09f27d7590ffb",
      "9c51fad5560346058b0ffceaf71cf4f1",
      "948063e119894e6a9894bd82a7c982b4",
      "0348c842b0574222bd3f6587360f00d6",
      "c90b216a1c3c4deeb1f2a1c9132ce120",
      "f04863007a504e8fbb404a998a213946",
      "25d56a1e64ae4b9cb60de26ef1cec4b0",
      "a287a678154945e9baabddfd57155690",
      "4e639c6a91784a2fbf95deb6efc6b064",
      "d7d981027c204d9586f88ff7ee555a76",
      "dc75da4b9adc4c06b3a2905a7eea9728",
      "f9ed706c98ee46fcb1ce51ec6627c824",
      "fa27a2d0aa654ce7bc991ff48a1cd563",
      "25a107602e0c4abbad54bd3fbf37d7bc",
      "967b5d77261f4749991797bed3f7b6f9",
      "f288cb62f40449c2a206af2f839d0e37",
      "ec3f8a2a638e496b8acc2279607e524e",
      "47571c9cb8a24338bddf31cb8a6a7af3",
      "19012711acad4a0388162cf79b17c196",
      "fe42f4b6134042cf84e2d521e6073bde",
      "e9bee66e47f846a4b1caaa078244c4be",
      "4acf507137384c6a895893cf1d6323d2",
      "85f14465c45047419396bce2565810c4",
      "5954b54241d74874a767b7d1a93c3d59",
      "64060ba97a60467aa67eaf3f66a2c460",
      "9328dcc02b9f432b8fbd1b3f126c21e3",
      "a33425beb7eb4c939fe828f41e8e3724",
      "6f53645f14f143669fc0e5487e064de1",
      "31c2e180d36c450aa0de1a28eb49deec",
      "baf0627b167544bb926f1f5dfc992818",
      "508f8ed6677843b29890c3b7ac434a8b",
      "a48b27c5330b490d92418c6a330dc08a",
      "cc9b8553e5d34638bcdcee8ac6f16d54",
      "352954701d5d4c258b9381747e84f31f",
      "6f3a984f3cb846ffb6ca2e3257623689",
      "6b551ef6115e452688320ab1987a9880",
      "23ad00d49a654c2bae05877b513ae9e3",
      "31af29bbed924a04b4de058bc3720e3e",
      "9a5871fc7ae745dfad81b13c91c9b876",
      "d575a0efdf2f4229a702e8a360461d1e",
      "802ac2a0f32944ff984bce6604e81e3e",
      "62ed4c6be54148d2ab1d198993dcadcf",
      "bf0edc4ddc194e9c9a52b01c23f0b3d7",
      "33d50496f3694e92b04624625ca26ac9",
      "f01abe0a7db74d4b90ec2600302a3e56",
      "3104b742f2c6429a88cef34ea1efcf0c",
      "25894111407e456ebbed4f80fefe975d",
      "2199168ca5374786b19852291b6bfbad",
      "306a37375db54414b8e54826e27be98f",
      "0f6edbbdc55e4cc397ef2c05ec6f0651",
      "67419fba5bb148e2a085f0f4b84c9e1d",
      "54a3ab153177431ca156941969011e33",
      "1cf8e3a2a8f342e4965d11b296c752bd",
      "f02245892ef04030b6f015eaa7321591",
      "9df4064059db46c8a015555470804efe",
      "f55651aac6754ac38d3a5fd2c4217e64",
      "7a86a68c52cb47dcae7ae6ae8190a3dc",
      "a432f122ffe543b6be2c3f0db5ff45ad",
      "8f2af0215d7742d493d53fcf35f8fad8",
      "45f59abe04f5458ab6a7b0c46a54e1a8",
      "17976cc336d14af3acd17c3dd7cbf921",
      "bb37380ccb5f4af6bc35bc6356b3ec93",
      "0967dbd8d2194bad92522f7257f9d938",
      "522b8308fe994292a1c586b36e0092f8",
      "af0110b8877c4584906976c34f2c2325",
      "336afa4b42114eda9f39f684f21aa1c3",
      "4e0e41e955bc4c9ca038487078f21095",
      "0ede26ae88fe44e284978bfd7ba23d1d",
      "bceae0b5e530474da1cb6b26b07bb916",
      "f6279be9479444b29f7ecae0799721ae",
      "789f1af6ee0a47d89583f6938430c299",
      "d3cb96472e85438ab4d2cd527e36891f",
      "ce1704bff6204eae9234c8d8d965dc37",
      "48ce333ad3254366b79800f8428e08aa",
      "58c66a3203be466591cd87b9be3af362",
      "543e89de6a144682a1d5c2d412290f52",
      "982d9d13d7434a4895e34ae9d44af518",
      "f4812b5986154d278e723b97afcb7641",
      "add69e3629fc4c8ca952482f22cdcf62",
      "47067cebd8804414b5e277d0691d5f9f",
      "fde00772df464bcba9408179c79a0f89",
      "b5a04ebd04ff4564a23e117c83737100",
      "0ec668fa0f0344fda85eafbccec00c61",
      "d1d03970e50f4470a1bcf9305ee49b63",
      "56746f3bd1b64031a4ce6e46b3a4ac6e",
      "cc967834099d42389fc4fa01596c72e4",
      "2b7ed84a2fd94d678d4d2ef907801120",
      "c615c32615ad43e2b6ac92442d0cff00",
      "c00567fa870a4d5095a26f9198f41c66",
      "7913497db538402798abe1fbad0253a7",
      "c1aa586b5edd4635b5cb00af85f59027",
      "8f0c56319e42495e83ca4d4281c79539",
      "6257c849528a4a1ba49cca9ccf33f897",
      "f25f54d0a17c46b898168018fe38cdd3",
      "a6f7f9fc73674eb6b0d23078ade00aa6",
      "8e1e38419df540f5aee3034ed6fece90",
      "8cd9e941ac1e433d8297cb2438854f06",
      "572fdfd999214f1a84e34d6a7629ec0a",
      "fd6ae51c8a3640db839b8873f7684372",
      "e795760d92214505b634e01554c8ca6f",
      "361f890efd344d8c8b30a6fbbe65a330",
      "9872f745adba43de9b8103a5b1b638ef",
      "522ba1841c3a4b02ba83f3c77c2259be",
      "8fc7ba5aa9b942efac5064a66d60e767",
      "8b9c1845db5b4e82a6fb3ae69f48d266",
      "1faf8ec06b1b432abc0f170458381a70",
      "4e2e820d1d0e477e8a40cb74af1e6ed1",
      "389645ec235c475b98a91b955306980d",
      "66105f8657a347d6a1be6c5be6e7c528",
      "48c9dd8f7385452fa3929ef41ae43c6e",
      "fb7ac43504294d8abc6d4c00bf8fe55a",
      "6f2442541aab40dcae21d31d1739727c",
      "0b5be047869b4f9686bf10b5cd1445df",
      "a3812d123bbb4d368d52576a35f7ab7f",
      "dd51f120a9144409a642979a62bed3d5",
      "418a5ebfb3af4c6994f71a60e475c663",
      "5b86063525804f6a822d640425bef282",
      "ebde238f83ae4de7a64dc990f6f4b589",
      "3b4e876f5720486792d2bd421af6aec4",
      "060e85752ada4a41a8ca278bd309240f",
      "18f609038b7f4115a2d7ca607cf8f66b",
      "34a3f52d9f5b49a385a014c925d1cf98",
      "f85f2a241d6c4aec8636ba3fc1a3cd18",
      "3d86e892350742a69407f039c21d3975",
      "0fbe19c05d6c4a2d8f56e5e83794241d",
      "a83c601ae82d4898bf83b594f37cf4a5",
      "f297be7dee954e0fb362c2595d934e93",
      "d8b0f601396c4c3aa20df186d57fdf27",
      "b84065de1716493cb5e5d771432fee96",
      "5861f5cb22314e9b9e3234ae46d3e93a",
      "ae29368d139c49ccaf757dc645a878ee",
      "1228018ef2bf49c8bcfcc5b16e1c06b8",
      "b0e88314d54445628df2714582bb145f",
      "be3f5b7607a844659225152f62cd2838",
      "d9d5f717583b4094b0af1fc8d7bb2720",
      "531f7309319949c5a92a8de361fbb68e",
      "c4c0ab70cc1d4fbbb65fc73fb3ed3d5c",
      "3e9c7394f5df42a5b225c711a265b418",
      "515db3733f234b7f8016887fa5af3f01",
      "05409e14550546af97259ab09faf9a72",
      "277c64575def42079995861b31282887",
      "681c3a07ddaf4e469fe7e0d8eee73150",
      "15e338fa1765482094cf1a1c2a31244c",
      "0437cc7fa9974f559744a5deb21a41f3",
      "b06892da0cb0478fb2c409d82131d9f8",
      "20052519270b40d59e0f51dba19d5df1",
      "38955ced02a54d00b37666963eee98f0",
      "855b63cb76784e4692d07b8b32c4c864",
      "7b70e0d6df954088b5013925b4926249",
      "9c97bd96ce2043988b68eb736fd161c7",
      "9433fdbd320e4e8fa375cbb8aad5bb9a",
      "086ce3688271463ea53d5de659392b96",
      "dccd477df13d4d209fc5a592a17dc42f",
      "1a386aef27694111abf4a474592bb62f",
      "071458516ac9474a93a5763ba34bdfd8",
      "3f2c58f9d619482d8a098cb68808bd4c",
      "4c4fa2acd64b405daa810fb95e6a7e7c",
      "dda78f0fb5d64a8e8100bd03ca5756a6",
      "684ab1680e564d3c9a6b9c344f668bfb",
      "3a3f104c5ff947f5b313a194a2bfd10a",
      "92fc886bb64f48d3a97ea342070cbeef",
      "273e72ed82344f1e9e631047e10947d8",
      "0e7b4b9cade24eeb9e2e4bf8fb7c8406",
      "219dcb8fee8d4cd79f3e8898df4399d8",
      "c85b2671a5d7473c9fa83845607fe2d6",
      "42caeba330d749ee9d85e930c466c304",
      "25660a74c06a495383ca8f8b24466986",
      "ed628d9ddd614fbfb3f02dff09f0ff1c",
      "beaa0f2e287a4fe5b083ab6d228049eb",
      "fb709b06fa804eeaa2b56ad259c895b7",
      "e7f994c73f4d436a9ba0af052f150f47",
      "f53a849bc06b43bbb5fbbe1c8a40cdf0",
      "3d525ddf7e5d404bba46fced3be98fb5",
      "6e0fe321998d4da99def6171b3fcc3be",
      "c9ca6dd2462940449d8b7a5cfc34e6f1",
      "7f68089bbeb442c3b2886014309bd730",
      "36d7990a2d7948f4b99743644c7c9ca8",
      "7096bd90d6904f9b8a6cc7a3e3bad554",
      "7ea5db6f225c428d96c41e1b8170ed75",
      "fc92c011ce7048f9bbb258a8a796b16b",
      "f627839780094917b2967c22e097eceb",
      "216a6e1ee072456bbd080228708038af",
      "827b44e1b4714a05afb89bbbf4027ffd",
      "95d42d9fa06b42f88702721d68388965",
      "cdccbaf57e96472a9d4d86a2339d1b69",
      "2b93c4ceaecb4ebbb5cbd2004a195645",
      "1c1af3f99c4848a2a719e3e53fdfa6d6",
      "08ac3c7b9988451d82532888513df16b",
      "b1a6f40891964e14a0add5f626afef9c",
      "b7051ac1f686425ba920255c7004064d",
      "0f0e19e0c80f4409ac74c1538031cdce",
      "4fa3c58c4d654933a6cfcdf951b24d45",
      "97bd6ed8fc3c4720ae3547dc30609dcc",
      "13dba4137f22447587f2d0172bcb3918",
      "711f4a560607426b90cccc8a536db951",
      "640eac5031154bb994b668414998dac0",
      "42e8cd5ef0ce4f67ad9c3abf6ebecb89",
      "306634224b0e4eed908780bd95671e4e",
      "faa67c1e45634ee6aebc5a3df477c503",
      "a85b4ab764654ca7b6b3cc7a67a1f807",
      "a3780ca4ff2448b6abf4eb1c4aef1abc",
      "30a199bf86fa41cca6f80d7cbb507dbd",
      "756dee3b877c411fa06c8fc01c4b6054",
      "abcf16c76927461db440307789a61ba9",
      "76c2e9fff43841aea1d73bc61c3e5058",
      "0b0939fc581745d597cbe180fe676cb4",
      "08289c8f973e4350b11134b65100330d",
      "f790177af7ee45f299e12ecb8148906c",
      "a8a75225791849258e4e50903ded14cb",
      "140b5ef377ee4b75a2312f031e6fdd3e",
      "b9377472c1c14815b828912a41c7e546",
      "5915716c583145a7979af88f7f7145b6",
      "671e31fbb2444cd394fb69d7dccf4e87",
      "2adda9dce41e42d4899cc44c276409ae",
      "c9a736510dd64fb4b0ceb91814b100ea",
      "db83ac852c934f7bb28d946e3f28c80f",
      "4aff88f8565a4997bd1288452048c583",
      "435969d906ff4a628da061ccb7fab478",
      "c13f8179a6db42dfb523d944025b3a49",
      "2dcade02af17441ab45b0a50ac1d4f15",
      "9b7834c658b547b68d1ce0cb1e2e13a4",
      "f81f5f8212754949b150e6bfd52a19cb",
      "3400825ecdb0459a879f683e34e3cf40",
      "9f277bffd39341bfa032ed6f01e1833d",
      "8973101a45404bcbbbb8ba3f1c2a5296",
      "122dd189050d4846b4a12f38ed7248f6",
      "d8f406bced2a4fdfa8c8e511f7851e94",
      "a8ab220f59ef437d9c9940ef2de2fe04",
      "74f42d2aeb4848268c27b5e44ab0752d",
      "1223f441ee5f446fa6958d8d04d76b8c",
      "50bf2507a940496891f84ffe8e082186",
      "e365751debe04e9eb73e0d2b7591b368",
      "6ebc3567df7c45248056ebfeabb2fbc7",
      "fedd4ef006924759a0d64f8a0e00b2e0",
      "1fdd2bbc1d4c4628b355e3a5ab148c7c",
      "7cda442fa7c34e6d9fe63e6be9220878",
      "0d05f3e77672445ab6e29f7b4419a291",
      "19a9bfd00ae14b449cc77bb1af229fba",
      "d73d52475dd84b0e99a1b981ab14e181",
      "41827254985c4515b8df4d22f0b5e10b",
      "c1f14442c903499f8384b775941f9562",
      "b9e83dec66c943cfa89f9f84b170ac95",
      "123046d10fca4825a2a36562f7580cf6",
      "0cb118dcc5354f32a93e817f33ae05b8",
      "0f077a193b2f4f6ca46f592489b98366",
      "e42945a856de40199ee649e5208c69d8",
      "9e9d303c73b346b6a6a97256fd4e409b",
      "21bc5af647f94e57942fda6f0998efc9",
      "93e6a60b2aa64c33a184c4251ea2ad10",
      "18d2c033242148c5adf094321606449a",
      "e1389c80d56f434da5b206a178913ad9",
      "e80bb404c4d646d9bbaf4d3fdb50d0f7",
      "feea9b6cd05b4772849532d60a557206",
      "f6aca2ea969f475bbe19c38a652d67ec",
      "bc7b3440211c4b519a948cf860a7ba3d",
      "c150fa6e2644457ba0c8e0eab2bbeaa7",
      "c00f4e1357c14b4b9884923e2baeaf03",
      "b5313611b4e44fa8886626e30dbb40cd",
      "c3f4d3bccf2c4b0da9ced46ef3aa8d79",
      "f1562dad95db42e2a467568ed4a67939",
      "db6ec79a405c49d49f5c6fa6b9f4a6de",
      "58bbbdbf161f4a47bbb07a2e8699b685",
      "2eba10dff633440badfe87b32bfd3b91",
      "efc33826580344078aa9c7e98c48b346",
      "3e581d5adeb74172b7df64a56d8bd53a",
      "7c5372396c3c4f86b93d113da2b60308",
      "659a9738e51f408aa1495af4bd128370",
      "b3ea8d6b7af44018856ad548a40b31dc",
      "6e85cb812b8944c5b6bf44d560d9bb66",
      "d93945a559f144df86995e8169037ad3",
      "30cad526f5e34ab28f027f5d73d88567",
      "074ff77564a84539b33a3831ea38a150",
      "4cd88759bd144919a619feb91ba45503",
      "a46aa487d5fd48b38443f0653b7bbae2",
      "806be9a9acbe4ef5a78a7a724bfacd27",
      "945c915c767c4b35812c1a07aa7fe09b",
      "9bfc6b1e64be4e9487c4916ece4aebef",
      "68e2828d4ce649a7a7bd1c5233a481d4",
      "7545cd48c6a94f119ff03ec719fadb91",
      "41424284afbb4ec6abaa3256470f1f15",
      "75739e371dce49a8beb90d357e74b3af",
      "a58e2c4b9bf746f183ce86c94800cd24",
      "2951affebd8e40b296df09c42a209d0f",
      "4485321d241c4861b7734132a3a2947d",
      "60fd2c91c1f6427bb9cb4a2eea498120",
      "b22ce4b770bb4a809e934cad014b4505",
      "d01ef869de3c42ada09adc96d15c2600",
      "e7fd4e18899b46f5bc1e548b793162a2",
      "cfdda098c6bb414fbd93016a889bfa45",
      "20ac3858bd624badb84cb7337b3de2ff",
      "3c7301497d724b63b3837fe9caa21b8a",
      "09a82d73b71d428b9aeac53e541698ca",
      "6d03cd4855b441c985c5b880b187156f",
      "5162dfc77ce442e3b8e2fb3a69cbb7b6",
      "a64fc37b7f2540698ea487f5f2c3997d",
      "6fab9167bf9b478f84bfe01522475798",
      "0854bf0e7ef1424eb117c2a475641f0f",
      "40b1c0ce1b0e4bac9440680372444afd",
      "827d928276e048949a86bdaf90b507e8",
      "c845f8a5b9144ddaa4b418febcdb66ae",
      "2cd7bda7ff704e8a8f965c0c02f9a26f",
      "e3b5a4ed68a54785a81ea65fdd0252a7",
      "591797ddc9f343bc8b36fcfdb23a2c89",
      "f06831837e394e44930ed282c97781f3",
      "1c8c3dcdd375474798e1e3e6f4db59da",
      "b04a5315469948aba7c2f418b989605e",
      "6486deaf02bd4abeb4ecb46ad2949221",
      "3bc128e7a3894cc3a18c95bb5ecf9323",
      "55d89a362fa446c491543e6bc253f781",
      "1f9e640342614b93b465e94e92d3e331",
      "e24f89ea575e4212bd9f2a2599fcd6e3",
      "3e33773b59774cf09d944f41b8a7dbca",
      "37671dff0f1b4b07854d94e1ff036918",
      "3bb88d2b38ff46daa35d212107aea2c9",
      "ae439ff22b1f443b86a4c9cf60c9065d",
      "2fc0626125b3493d857edb8a8b74fec3",
      "21e579dadd0245aea41533630f236ef0",
      "30c688d7b82c443484223e475f943a74"
     ]
    },
    "executionInfo": {
     "elapsed": 889308,
     "status": "ok",
     "timestamp": 1751484524362,
     "user": {
      "displayName": "Yulia Yorkshirelove",
      "userId": "10480095246692972307"
     },
     "user_tz": -180
    },
    "id": "os_23z4YCtFW",
    "outputId": "248febc4-aab4-4f86-e826-2f57749b1e5b"
   },
   "outputs": [
    {
     "data": {
      "application/vnd.jupyter.widget-view+json": {
       "model_id": "47723d52b56a4a97ba2ebf270652d1bb",
       "version_major": 2,
       "version_minor": 0
      },
      "text/plain": [
       "Epoch 1:   0%|          | 0/25 [00:00<?, ?it/s]"
      ]
     },
     "metadata": {},
     "output_type": "display_data"
    },
    {
     "name": "stdout",
     "output_type": "stream",
     "text": [
      "Epoch 1 done — avg loss: 3.711635\n"
     ]
    },
    {
     "data": {
      "application/vnd.jupyter.widget-view+json": {
       "model_id": "6c29b8eeb1a54241ac716bd5a7ba2998",
       "version_major": 2,
       "version_minor": 0
      },
      "text/plain": [
       "Epoch 2:   0%|          | 0/25 [00:00<?, ?it/s]"
      ]
     },
     "metadata": {},
     "output_type": "display_data"
    },
    {
     "name": "stdout",
     "output_type": "stream",
     "text": [
      "Epoch 2 done — avg loss: 3.689035\n"
     ]
    },
    {
     "data": {
      "application/vnd.jupyter.widget-view+json": {
       "model_id": "ce5dca60849d4a04a55cd990506055f7",
       "version_major": 2,
       "version_minor": 0
      },
      "text/plain": [
       "Epoch 3:   0%|          | 0/25 [00:00<?, ?it/s]"
      ]
     },
     "metadata": {},
     "output_type": "display_data"
    },
    {
     "name": "stdout",
     "output_type": "stream",
     "text": [
      "Epoch 3 done — avg loss: 3.669818\n"
     ]
    },
    {
     "data": {
      "application/vnd.jupyter.widget-view+json": {
       "model_id": "7747ec41f9b740ae9a36281589d8de1e",
       "version_major": 2,
       "version_minor": 0
      },
      "text/plain": [
       "Epoch 4:   0%|          | 0/25 [00:00<?, ?it/s]"
      ]
     },
     "metadata": {},
     "output_type": "display_data"
    },
    {
     "name": "stdout",
     "output_type": "stream",
     "text": [
      "Epoch 4 done — avg loss: 3.656071\n"
     ]
    },
    {
     "data": {
      "application/vnd.jupyter.widget-view+json": {
       "model_id": "0836f705bb714e259254607b3b96826c",
       "version_major": 2,
       "version_minor": 0
      },
      "text/plain": [
       "Epoch 5:   0%|          | 0/25 [00:00<?, ?it/s]"
      ]
     },
     "metadata": {},
     "output_type": "display_data"
    },
    {
     "name": "stdout",
     "output_type": "stream",
     "text": [
      "Epoch 5 done — avg loss: 3.644554\n"
     ]
    },
    {
     "data": {
      "application/vnd.jupyter.widget-view+json": {
       "model_id": "ec6cab28ac3f44778d5215e928909d03",
       "version_major": 2,
       "version_minor": 0
      },
      "text/plain": [
       "Epoch 6:   0%|          | 0/25 [00:00<?, ?it/s]"
      ]
     },
     "metadata": {},
     "output_type": "display_data"
    },
    {
     "name": "stdout",
     "output_type": "stream",
     "text": [
      "Epoch 6 done — avg loss: 3.634199\n"
     ]
    },
    {
     "data": {
      "application/vnd.jupyter.widget-view+json": {
       "model_id": "e4187d4795924c83bebc7675a5d3a514",
       "version_major": 2,
       "version_minor": 0
      },
      "text/plain": [
       "Epoch 7:   0%|          | 0/25 [00:00<?, ?it/s]"
      ]
     },
     "metadata": {},
     "output_type": "display_data"
    },
    {
     "name": "stdout",
     "output_type": "stream",
     "text": [
      "Epoch 7 done — avg loss: 3.624754\n"
     ]
    },
    {
     "data": {
      "application/vnd.jupyter.widget-view+json": {
       "model_id": "2c9507d4a3c0477abda8ed2ef31dacfe",
       "version_major": 2,
       "version_minor": 0
      },
      "text/plain": [
       "Epoch 8:   0%|          | 0/25 [00:00<?, ?it/s]"
      ]
     },
     "metadata": {},
     "output_type": "display_data"
    },
    {
     "name": "stdout",
     "output_type": "stream",
     "text": [
      "Epoch 8 done — avg loss: 3.616023\n"
     ]
    },
    {
     "data": {
      "application/vnd.jupyter.widget-view+json": {
       "model_id": "b2cb48c483164560bf6ffcb1fe7d0f55",
       "version_major": 2,
       "version_minor": 0
      },
      "text/plain": [
       "Epoch 9:   0%|          | 0/25 [00:00<?, ?it/s]"
      ]
     },
     "metadata": {},
     "output_type": "display_data"
    },
    {
     "name": "stdout",
     "output_type": "stream",
     "text": [
      "Epoch 9 done — avg loss: 3.607551\n"
     ]
    },
    {
     "data": {
      "application/vnd.jupyter.widget-view+json": {
       "model_id": "b971b4ee84184841836259254cba3540",
       "version_major": 2,
       "version_minor": 0
      },
      "text/plain": [
       "Epoch 10:   0%|          | 0/25 [00:00<?, ?it/s]"
      ]
     },
     "metadata": {},
     "output_type": "display_data"
    },
    {
     "name": "stdout",
     "output_type": "stream",
     "text": [
      "Epoch 10 done — avg loss: 3.599690\n"
     ]
    },
    {
     "data": {
      "application/vnd.jupyter.widget-view+json": {
       "model_id": "c9d6b61c38fe4f5c8f6d558cdafcfea6",
       "version_major": 2,
       "version_minor": 0
      },
      "text/plain": [
       "Epoch 11:   0%|          | 0/25 [00:00<?, ?it/s]"
      ]
     },
     "metadata": {},
     "output_type": "display_data"
    },
    {
     "name": "stdout",
     "output_type": "stream",
     "text": [
      "Epoch 11 done — avg loss: 3.592850\n"
     ]
    },
    {
     "data": {
      "application/vnd.jupyter.widget-view+json": {
       "model_id": "498b6f3784e2471893131310d871f35b",
       "version_major": 2,
       "version_minor": 0
      },
      "text/plain": [
       "Epoch 12:   0%|          | 0/25 [00:00<?, ?it/s]"
      ]
     },
     "metadata": {},
     "output_type": "display_data"
    },
    {
     "name": "stdout",
     "output_type": "stream",
     "text": [
      "Epoch 12 done — avg loss: 3.585516\n"
     ]
    },
    {
     "data": {
      "application/vnd.jupyter.widget-view+json": {
       "model_id": "e5993745aa114daea0de6b794a434b2d",
       "version_major": 2,
       "version_minor": 0
      },
      "text/plain": [
       "Epoch 13:   0%|          | 0/25 [00:00<?, ?it/s]"
      ]
     },
     "metadata": {},
     "output_type": "display_data"
    },
    {
     "name": "stdout",
     "output_type": "stream",
     "text": [
      "Epoch 13 done — avg loss: 3.578043\n"
     ]
    },
    {
     "data": {
      "application/vnd.jupyter.widget-view+json": {
       "model_id": "f885552fb15246fea6480dfc3879a879",
       "version_major": 2,
       "version_minor": 0
      },
      "text/plain": [
       "Epoch 14:   0%|          | 0/25 [00:00<?, ?it/s]"
      ]
     },
     "metadata": {},
     "output_type": "display_data"
    },
    {
     "name": "stdout",
     "output_type": "stream",
     "text": [
      "Epoch 14 done — avg loss: 3.571863\n"
     ]
    },
    {
     "data": {
      "application/vnd.jupyter.widget-view+json": {
       "model_id": "5d59b2c27d584af4b35c0ae613c554e5",
       "version_major": 2,
       "version_minor": 0
      },
      "text/plain": [
       "Epoch 15:   0%|          | 0/25 [00:00<?, ?it/s]"
      ]
     },
     "metadata": {},
     "output_type": "display_data"
    },
    {
     "name": "stdout",
     "output_type": "stream",
     "text": [
      "Epoch 15 done — avg loss: 3.566342\n"
     ]
    },
    {
     "data": {
      "application/vnd.jupyter.widget-view+json": {
       "model_id": "7f9bdef89e854d6fa619622eac188d48",
       "version_major": 2,
       "version_minor": 0
      },
      "text/plain": [
       "Epoch 16:   0%|          | 0/25 [00:00<?, ?it/s]"
      ]
     },
     "metadata": {},
     "output_type": "display_data"
    },
    {
     "name": "stdout",
     "output_type": "stream",
     "text": [
      "Epoch 16 done — avg loss: 3.561180\n"
     ]
    },
    {
     "data": {
      "application/vnd.jupyter.widget-view+json": {
       "model_id": "28857d8e460c428896021218a555b1c2",
       "version_major": 2,
       "version_minor": 0
      },
      "text/plain": [
       "Epoch 17:   0%|          | 0/25 [00:00<?, ?it/s]"
      ]
     },
     "metadata": {},
     "output_type": "display_data"
    },
    {
     "name": "stdout",
     "output_type": "stream",
     "text": [
      "Epoch 17 done — avg loss: 3.556479\n"
     ]
    },
    {
     "data": {
      "application/vnd.jupyter.widget-view+json": {
       "model_id": "c20bd3a72fde4c03ac7e4911314e72b5",
       "version_major": 2,
       "version_minor": 0
      },
      "text/plain": [
       "Epoch 18:   0%|          | 0/25 [00:00<?, ?it/s]"
      ]
     },
     "metadata": {},
     "output_type": "display_data"
    },
    {
     "name": "stdout",
     "output_type": "stream",
     "text": [
      "Epoch 18 done — avg loss: 3.551828\n"
     ]
    },
    {
     "data": {
      "application/vnd.jupyter.widget-view+json": {
       "model_id": "84bd2a662f5b461ca18ea76804a600cf",
       "version_major": 2,
       "version_minor": 0
      },
      "text/plain": [
       "Epoch 19:   0%|          | 0/25 [00:00<?, ?it/s]"
      ]
     },
     "metadata": {},
     "output_type": "display_data"
    },
    {
     "name": "stdout",
     "output_type": "stream",
     "text": [
      "Epoch 19 done — avg loss: 3.547446\n"
     ]
    },
    {
     "data": {
      "application/vnd.jupyter.widget-view+json": {
       "model_id": "50fabc8a5bf64642ba015d58b21a3efd",
       "version_major": 2,
       "version_minor": 0
      },
      "text/plain": [
       "Epoch 20:   0%|          | 0/25 [00:00<?, ?it/s]"
      ]
     },
     "metadata": {},
     "output_type": "display_data"
    },
    {
     "name": "stdout",
     "output_type": "stream",
     "text": [
      "Epoch 20 done — avg loss: 3.543259\n"
     ]
    },
    {
     "data": {
      "application/vnd.jupyter.widget-view+json": {
       "model_id": "5dd7435d6d3a460a9936a518a3c74ab6",
       "version_major": 2,
       "version_minor": 0
      },
      "text/plain": [
       "Epoch 21:   0%|          | 0/25 [00:00<?, ?it/s]"
      ]
     },
     "metadata": {},
     "output_type": "display_data"
    },
    {
     "name": "stdout",
     "output_type": "stream",
     "text": [
      "Epoch 21 done — avg loss: 3.539324\n"
     ]
    },
    {
     "data": {
      "application/vnd.jupyter.widget-view+json": {
       "model_id": "6f5007ec38cc41f7a675880d74f2f225",
       "version_major": 2,
       "version_minor": 0
      },
      "text/plain": [
       "Epoch 22:   0%|          | 0/25 [00:00<?, ?it/s]"
      ]
     },
     "metadata": {},
     "output_type": "display_data"
    },
    {
     "name": "stdout",
     "output_type": "stream",
     "text": [
      "Epoch 22 done — avg loss: 3.535346\n"
     ]
    },
    {
     "data": {
      "application/vnd.jupyter.widget-view+json": {
       "model_id": "72dcce8291894835bb69d5fed590a2d7",
       "version_major": 2,
       "version_minor": 0
      },
      "text/plain": [
       "Epoch 23:   0%|          | 0/25 [00:00<?, ?it/s]"
      ]
     },
     "metadata": {},
     "output_type": "display_data"
    },
    {
     "name": "stdout",
     "output_type": "stream",
     "text": [
      "Epoch 23 done — avg loss: 3.531846\n"
     ]
    },
    {
     "data": {
      "application/vnd.jupyter.widget-view+json": {
       "model_id": "3b973361817a4800b2565f95b1f70405",
       "version_major": 2,
       "version_minor": 0
      },
      "text/plain": [
       "Epoch 24:   0%|          | 0/25 [00:00<?, ?it/s]"
      ]
     },
     "metadata": {},
     "output_type": "display_data"
    },
    {
     "name": "stdout",
     "output_type": "stream",
     "text": [
      "Epoch 24 done — avg loss: 3.528566\n"
     ]
    },
    {
     "data": {
      "application/vnd.jupyter.widget-view+json": {
       "model_id": "bf4e778fdd924726b7bf73a3d18d2ae3",
       "version_major": 2,
       "version_minor": 0
      },
      "text/plain": [
       "Epoch 25:   0%|          | 0/25 [00:00<?, ?it/s]"
      ]
     },
     "metadata": {},
     "output_type": "display_data"
    },
    {
     "name": "stdout",
     "output_type": "stream",
     "text": [
      "Epoch 25 done — avg loss: 3.524896\n"
     ]
    },
    {
     "data": {
      "application/vnd.jupyter.widget-view+json": {
       "model_id": "21c131c2162e466a98b6f92c4f49da18",
       "version_major": 2,
       "version_minor": 0
      },
      "text/plain": [
       "Epoch 26:   0%|          | 0/25 [00:00<?, ?it/s]"
      ]
     },
     "metadata": {},
     "output_type": "display_data"
    },
    {
     "name": "stdout",
     "output_type": "stream",
     "text": [
      "Epoch 26 done — avg loss: 3.521603\n"
     ]
    },
    {
     "data": {
      "application/vnd.jupyter.widget-view+json": {
       "model_id": "9e2011b7a8a24a3ca34c1b65c69edd97",
       "version_major": 2,
       "version_minor": 0
      },
      "text/plain": [
       "Epoch 27:   0%|          | 0/25 [00:00<?, ?it/s]"
      ]
     },
     "metadata": {},
     "output_type": "display_data"
    },
    {
     "name": "stdout",
     "output_type": "stream",
     "text": [
      "Epoch 27 done — avg loss: 3.517853\n"
     ]
    },
    {
     "data": {
      "application/vnd.jupyter.widget-view+json": {
       "model_id": "2aa6c5089c2949a681ee5a025f954cf6",
       "version_major": 2,
       "version_minor": 0
      },
      "text/plain": [
       "Epoch 28:   0%|          | 0/25 [00:00<?, ?it/s]"
      ]
     },
     "metadata": {},
     "output_type": "display_data"
    },
    {
     "name": "stdout",
     "output_type": "stream",
     "text": [
      "Epoch 28 done — avg loss: 3.514314\n"
     ]
    },
    {
     "data": {
      "application/vnd.jupyter.widget-view+json": {
       "model_id": "8e80396d92064c9f9c210db8cc39baf8",
       "version_major": 2,
       "version_minor": 0
      },
      "text/plain": [
       "Epoch 29:   0%|          | 0/25 [00:00<?, ?it/s]"
      ]
     },
     "metadata": {},
     "output_type": "display_data"
    },
    {
     "name": "stdout",
     "output_type": "stream",
     "text": [
      "Epoch 29 done — avg loss: 3.511749\n"
     ]
    },
    {
     "data": {
      "application/vnd.jupyter.widget-view+json": {
       "model_id": "3a793c26f5894e79be039128b9aff715",
       "version_major": 2,
       "version_minor": 0
      },
      "text/plain": [
       "Epoch 30:   0%|          | 0/25 [00:00<?, ?it/s]"
      ]
     },
     "metadata": {},
     "output_type": "display_data"
    },
    {
     "name": "stdout",
     "output_type": "stream",
     "text": [
      "Epoch 30 done — avg loss: 3.508548\n"
     ]
    },
    {
     "data": {
      "application/vnd.jupyter.widget-view+json": {
       "model_id": "26ee4a4632bc4eb69cb1b76d6d620ec4",
       "version_major": 2,
       "version_minor": 0
      },
      "text/plain": [
       "Epoch 31:   0%|          | 0/25 [00:00<?, ?it/s]"
      ]
     },
     "metadata": {},
     "output_type": "display_data"
    },
    {
     "name": "stdout",
     "output_type": "stream",
     "text": [
      "Epoch 31 done — avg loss: 3.505361\n"
     ]
    },
    {
     "data": {
      "application/vnd.jupyter.widget-view+json": {
       "model_id": "afb3d3a1274a4017a84d56ed165da5ae",
       "version_major": 2,
       "version_minor": 0
      },
      "text/plain": [
       "Epoch 32:   0%|          | 0/25 [00:00<?, ?it/s]"
      ]
     },
     "metadata": {},
     "output_type": "display_data"
    },
    {
     "name": "stdout",
     "output_type": "stream",
     "text": [
      "Epoch 32 done — avg loss: 3.502728\n"
     ]
    },
    {
     "data": {
      "application/vnd.jupyter.widget-view+json": {
       "model_id": "da1cba79684b49f7aa94dc7cdbe1c330",
       "version_major": 2,
       "version_minor": 0
      },
      "text/plain": [
       "Epoch 33:   0%|          | 0/25 [00:00<?, ?it/s]"
      ]
     },
     "metadata": {},
     "output_type": "display_data"
    },
    {
     "name": "stdout",
     "output_type": "stream",
     "text": [
      "Epoch 33 done — avg loss: 3.500535\n"
     ]
    },
    {
     "data": {
      "application/vnd.jupyter.widget-view+json": {
       "model_id": "1a89fc66daa54989be7983c3509f4492",
       "version_major": 2,
       "version_minor": 0
      },
      "text/plain": [
       "Epoch 34:   0%|          | 0/25 [00:00<?, ?it/s]"
      ]
     },
     "metadata": {},
     "output_type": "display_data"
    },
    {
     "name": "stdout",
     "output_type": "stream",
     "text": [
      "Epoch 34 done — avg loss: 3.497109\n"
     ]
    },
    {
     "data": {
      "application/vnd.jupyter.widget-view+json": {
       "model_id": "af150230e0b4455295c4d19106ab07d0",
       "version_major": 2,
       "version_minor": 0
      },
      "text/plain": [
       "Epoch 35:   0%|          | 0/25 [00:00<?, ?it/s]"
      ]
     },
     "metadata": {},
     "output_type": "display_data"
    },
    {
     "name": "stdout",
     "output_type": "stream",
     "text": [
      "Epoch 35 done — avg loss: 3.494395\n"
     ]
    },
    {
     "data": {
      "application/vnd.jupyter.widget-view+json": {
       "model_id": "ebb06dcf7737420dbd93821622a11b8f",
       "version_major": 2,
       "version_minor": 0
      },
      "text/plain": [
       "Epoch 36:   0%|          | 0/25 [00:00<?, ?it/s]"
      ]
     },
     "metadata": {},
     "output_type": "display_data"
    },
    {
     "name": "stdout",
     "output_type": "stream",
     "text": [
      "Epoch 36 done — avg loss: 3.491515\n"
     ]
    },
    {
     "data": {
      "application/vnd.jupyter.widget-view+json": {
       "model_id": "8240d4d37cd34eb0904b647fda419d84",
       "version_major": 2,
       "version_minor": 0
      },
      "text/plain": [
       "Epoch 37:   0%|          | 0/25 [00:00<?, ?it/s]"
      ]
     },
     "metadata": {},
     "output_type": "display_data"
    },
    {
     "name": "stdout",
     "output_type": "stream",
     "text": [
      "Epoch 37 done — avg loss: 3.488898\n"
     ]
    },
    {
     "data": {
      "application/vnd.jupyter.widget-view+json": {
       "model_id": "2f410ac661704ebea6f0ba14e4d1da8a",
       "version_major": 2,
       "version_minor": 0
      },
      "text/plain": [
       "Epoch 38:   0%|          | 0/25 [00:00<?, ?it/s]"
      ]
     },
     "metadata": {},
     "output_type": "display_data"
    },
    {
     "name": "stdout",
     "output_type": "stream",
     "text": [
      "Epoch 38 done — avg loss: 3.486666\n"
     ]
    },
    {
     "data": {
      "application/vnd.jupyter.widget-view+json": {
       "model_id": "a6cd9db2f58745ed9da3ee4c2b3ccbee",
       "version_major": 2,
       "version_minor": 0
      },
      "text/plain": [
       "Epoch 39:   0%|          | 0/25 [00:00<?, ?it/s]"
      ]
     },
     "metadata": {},
     "output_type": "display_data"
    },
    {
     "name": "stdout",
     "output_type": "stream",
     "text": [
      "Epoch 39 done — avg loss: 3.483963\n"
     ]
    },
    {
     "data": {
      "application/vnd.jupyter.widget-view+json": {
       "model_id": "58724fa90b5f454e96979a0ac7fdf69e",
       "version_major": 2,
       "version_minor": 0
      },
      "text/plain": [
       "Epoch 40:   0%|          | 0/25 [00:00<?, ?it/s]"
      ]
     },
     "metadata": {},
     "output_type": "display_data"
    },
    {
     "name": "stdout",
     "output_type": "stream",
     "text": [
      "Epoch 40 done — avg loss: 3.481093\n"
     ]
    },
    {
     "data": {
      "application/vnd.jupyter.widget-view+json": {
       "model_id": "a1ed614c47b24982b92d2e0b6d2da9c3",
       "version_major": 2,
       "version_minor": 0
      },
      "text/plain": [
       "Epoch 41:   0%|          | 0/25 [00:00<?, ?it/s]"
      ]
     },
     "metadata": {},
     "output_type": "display_data"
    },
    {
     "name": "stdout",
     "output_type": "stream",
     "text": [
      "Epoch 41 done — avg loss: 3.478844\n"
     ]
    },
    {
     "data": {
      "application/vnd.jupyter.widget-view+json": {
       "model_id": "958e61f915f54f1e9d4fb982a646b68a",
       "version_major": 2,
       "version_minor": 0
      },
      "text/plain": [
       "Epoch 42:   0%|          | 0/25 [00:00<?, ?it/s]"
      ]
     },
     "metadata": {},
     "output_type": "display_data"
    },
    {
     "name": "stdout",
     "output_type": "stream",
     "text": [
      "Epoch 42 done — avg loss: 3.476613\n"
     ]
    },
    {
     "data": {
      "application/vnd.jupyter.widget-view+json": {
       "model_id": "390b3bf34f694acf970138e51594f5ae",
       "version_major": 2,
       "version_minor": 0
      },
      "text/plain": [
       "Epoch 43:   0%|          | 0/25 [00:00<?, ?it/s]"
      ]
     },
     "metadata": {},
     "output_type": "display_data"
    },
    {
     "name": "stdout",
     "output_type": "stream",
     "text": [
      "Epoch 43 done — avg loss: 3.474585\n"
     ]
    },
    {
     "data": {
      "application/vnd.jupyter.widget-view+json": {
       "model_id": "1699c440df9f49b5b8611a94fa80860e",
       "version_major": 2,
       "version_minor": 0
      },
      "text/plain": [
       "Epoch 44:   0%|          | 0/25 [00:00<?, ?it/s]"
      ]
     },
     "metadata": {},
     "output_type": "display_data"
    },
    {
     "name": "stdout",
     "output_type": "stream",
     "text": [
      "Epoch 44 done — avg loss: 3.471833\n"
     ]
    },
    {
     "data": {
      "application/vnd.jupyter.widget-view+json": {
       "model_id": "be715961b27749efb763ac6f67f9c38a",
       "version_major": 2,
       "version_minor": 0
      },
      "text/plain": [
       "Epoch 45:   0%|          | 0/25 [00:00<?, ?it/s]"
      ]
     },
     "metadata": {},
     "output_type": "display_data"
    },
    {
     "name": "stdout",
     "output_type": "stream",
     "text": [
      "Epoch 45 done — avg loss: 3.469508\n"
     ]
    },
    {
     "data": {
      "application/vnd.jupyter.widget-view+json": {
       "model_id": "33aaf6e0eecf4bd6835673dc0474af99",
       "version_major": 2,
       "version_minor": 0
      },
      "text/plain": [
       "Epoch 46:   0%|          | 0/25 [00:00<?, ?it/s]"
      ]
     },
     "metadata": {},
     "output_type": "display_data"
    },
    {
     "name": "stdout",
     "output_type": "stream",
     "text": [
      "Epoch 46 done — avg loss: 3.467662\n"
     ]
    },
    {
     "data": {
      "application/vnd.jupyter.widget-view+json": {
       "model_id": "45610dbeca4341369cf6e217d14698ae",
       "version_major": 2,
       "version_minor": 0
      },
      "text/plain": [
       "Epoch 47:   0%|          | 0/25 [00:00<?, ?it/s]"
      ]
     },
     "metadata": {},
     "output_type": "display_data"
    },
    {
     "name": "stdout",
     "output_type": "stream",
     "text": [
      "Epoch 47 done — avg loss: 3.465858\n"
     ]
    },
    {
     "data": {
      "application/vnd.jupyter.widget-view+json": {
       "model_id": "70cdf113ddbf4d21b146426a2163bcc9",
       "version_major": 2,
       "version_minor": 0
      },
      "text/plain": [
       "Epoch 48:   0%|          | 0/25 [00:00<?, ?it/s]"
      ]
     },
     "metadata": {},
     "output_type": "display_data"
    },
    {
     "name": "stdout",
     "output_type": "stream",
     "text": [
      "Epoch 48 done — avg loss: 3.463106\n"
     ]
    },
    {
     "data": {
      "application/vnd.jupyter.widget-view+json": {
       "model_id": "c2f876a76a3a434eaa3fd94cf56c75e8",
       "version_major": 2,
       "version_minor": 0
      },
      "text/plain": [
       "Epoch 49:   0%|          | 0/25 [00:00<?, ?it/s]"
      ]
     },
     "metadata": {},
     "output_type": "display_data"
    },
    {
     "name": "stdout",
     "output_type": "stream",
     "text": [
      "Epoch 49 done — avg loss: 3.460688\n"
     ]
    },
    {
     "data": {
      "application/vnd.jupyter.widget-view+json": {
       "model_id": "aa494709b8d3459aa85638b27a98a360",
       "version_major": 2,
       "version_minor": 0
      },
      "text/plain": [
       "Epoch 50:   0%|          | 0/25 [00:00<?, ?it/s]"
      ]
     },
     "metadata": {},
     "output_type": "display_data"
    },
    {
     "name": "stdout",
     "output_type": "stream",
     "text": [
      "Epoch 50 done — avg loss: 3.459662\n"
     ]
    },
    {
     "data": {
      "application/vnd.jupyter.widget-view+json": {
       "model_id": "19e7f91602e148cf8f4070dfff13c730",
       "version_major": 2,
       "version_minor": 0
      },
      "text/plain": [
       "Epoch 51:   0%|          | 0/25 [00:00<?, ?it/s]"
      ]
     },
     "metadata": {},
     "output_type": "display_data"
    },
    {
     "name": "stdout",
     "output_type": "stream",
     "text": [
      "Epoch 51 done — avg loss: 3.457518\n"
     ]
    },
    {
     "data": {
      "application/vnd.jupyter.widget-view+json": {
       "model_id": "95e652d258c549409f73bd02765b9922",
       "version_major": 2,
       "version_minor": 0
      },
      "text/plain": [
       "Epoch 52:   0%|          | 0/25 [00:00<?, ?it/s]"
      ]
     },
     "metadata": {},
     "output_type": "display_data"
    },
    {
     "name": "stdout",
     "output_type": "stream",
     "text": [
      "Epoch 52 done — avg loss: 3.455393\n"
     ]
    },
    {
     "data": {
      "application/vnd.jupyter.widget-view+json": {
       "model_id": "71477f8e1ee04ee58d2e9dde8d15f049",
       "version_major": 2,
       "version_minor": 0
      },
      "text/plain": [
       "Epoch 53:   0%|          | 0/25 [00:00<?, ?it/s]"
      ]
     },
     "metadata": {},
     "output_type": "display_data"
    },
    {
     "name": "stdout",
     "output_type": "stream",
     "text": [
      "Epoch 53 done — avg loss: 3.453393\n"
     ]
    },
    {
     "data": {
      "application/vnd.jupyter.widget-view+json": {
       "model_id": "4532368bce824827b98582295e83cb52",
       "version_major": 2,
       "version_minor": 0
      },
      "text/plain": [
       "Epoch 54:   0%|          | 0/25 [00:00<?, ?it/s]"
      ]
     },
     "metadata": {},
     "output_type": "display_data"
    },
    {
     "name": "stdout",
     "output_type": "stream",
     "text": [
      "Epoch 54 done — avg loss: 3.451346\n"
     ]
    },
    {
     "data": {
      "application/vnd.jupyter.widget-view+json": {
       "model_id": "365a282d980640f3870ef8fbc091412a",
       "version_major": 2,
       "version_minor": 0
      },
      "text/plain": [
       "Epoch 55:   0%|          | 0/25 [00:00<?, ?it/s]"
      ]
     },
     "metadata": {},
     "output_type": "display_data"
    },
    {
     "name": "stdout",
     "output_type": "stream",
     "text": [
      "Epoch 55 done — avg loss: 3.449045\n"
     ]
    },
    {
     "data": {
      "application/vnd.jupyter.widget-view+json": {
       "model_id": "42c6c38c86384389abb2546a41392d5f",
       "version_major": 2,
       "version_minor": 0
      },
      "text/plain": [
       "Epoch 56:   0%|          | 0/25 [00:00<?, ?it/s]"
      ]
     },
     "metadata": {},
     "output_type": "display_data"
    },
    {
     "name": "stdout",
     "output_type": "stream",
     "text": [
      "Epoch 56 done — avg loss: 3.447389\n"
     ]
    },
    {
     "data": {
      "application/vnd.jupyter.widget-view+json": {
       "model_id": "5296ad89fb33488583e0bfa31ea27678",
       "version_major": 2,
       "version_minor": 0
      },
      "text/plain": [
       "Epoch 57:   0%|          | 0/25 [00:00<?, ?it/s]"
      ]
     },
     "metadata": {},
     "output_type": "display_data"
    },
    {
     "name": "stdout",
     "output_type": "stream",
     "text": [
      "Epoch 57 done — avg loss: 3.446023\n"
     ]
    },
    {
     "data": {
      "application/vnd.jupyter.widget-view+json": {
       "model_id": "4f90ef2dd5454473bf44511fc3193cce",
       "version_major": 2,
       "version_minor": 0
      },
      "text/plain": [
       "Epoch 58:   0%|          | 0/25 [00:00<?, ?it/s]"
      ]
     },
     "metadata": {},
     "output_type": "display_data"
    },
    {
     "name": "stdout",
     "output_type": "stream",
     "text": [
      "Epoch 58 done — avg loss: 3.443752\n"
     ]
    },
    {
     "data": {
      "application/vnd.jupyter.widget-view+json": {
       "model_id": "7e8ee68ded2f4c4a9aa47eb1fd34ed28",
       "version_major": 2,
       "version_minor": 0
      },
      "text/plain": [
       "Epoch 59:   0%|          | 0/25 [00:00<?, ?it/s]"
      ]
     },
     "metadata": {},
     "output_type": "display_data"
    },
    {
     "name": "stdout",
     "output_type": "stream",
     "text": [
      "Epoch 59 done — avg loss: 3.442305\n"
     ]
    },
    {
     "data": {
      "application/vnd.jupyter.widget-view+json": {
       "model_id": "90efb22715ff4d8e9fa449e0f773b6f9",
       "version_major": 2,
       "version_minor": 0
      },
      "text/plain": [
       "Epoch 60:   0%|          | 0/25 [00:00<?, ?it/s]"
      ]
     },
     "metadata": {},
     "output_type": "display_data"
    },
    {
     "name": "stdout",
     "output_type": "stream",
     "text": [
      "Epoch 60 done — avg loss: 3.440682\n"
     ]
    },
    {
     "data": {
      "application/vnd.jupyter.widget-view+json": {
       "model_id": "2ce531f2ce094a5f89a37eb16751f84d",
       "version_major": 2,
       "version_minor": 0
      },
      "text/plain": [
       "Epoch 61:   0%|          | 0/25 [00:00<?, ?it/s]"
      ]
     },
     "metadata": {},
     "output_type": "display_data"
    },
    {
     "name": "stdout",
     "output_type": "stream",
     "text": [
      "Epoch 61 done — avg loss: 3.437802\n"
     ]
    },
    {
     "data": {
      "application/vnd.jupyter.widget-view+json": {
       "model_id": "cf2a01767dff4814be002d15a5875b17",
       "version_major": 2,
       "version_minor": 0
      },
      "text/plain": [
       "Epoch 62:   0%|          | 0/25 [00:00<?, ?it/s]"
      ]
     },
     "metadata": {},
     "output_type": "display_data"
    },
    {
     "name": "stdout",
     "output_type": "stream",
     "text": [
      "Epoch 62 done — avg loss: 3.436414\n"
     ]
    },
    {
     "data": {
      "application/vnd.jupyter.widget-view+json": {
       "model_id": "54cdb669063143638783ec2a008091ba",
       "version_major": 2,
       "version_minor": 0
      },
      "text/plain": [
       "Epoch 63:   0%|          | 0/25 [00:00<?, ?it/s]"
      ]
     },
     "metadata": {},
     "output_type": "display_data"
    },
    {
     "name": "stdout",
     "output_type": "stream",
     "text": [
      "Epoch 63 done — avg loss: 3.434274\n"
     ]
    },
    {
     "data": {
      "application/vnd.jupyter.widget-view+json": {
       "model_id": "61321b2ae2c14f2a9845d4fa9bf29a4a",
       "version_major": 2,
       "version_minor": 0
      },
      "text/plain": [
       "Epoch 64:   0%|          | 0/25 [00:00<?, ?it/s]"
      ]
     },
     "metadata": {},
     "output_type": "display_data"
    },
    {
     "name": "stdout",
     "output_type": "stream",
     "text": [
      "Epoch 64 done — avg loss: 3.432554\n"
     ]
    },
    {
     "data": {
      "application/vnd.jupyter.widget-view+json": {
       "model_id": "7dec1477ebb1423cbb85f88b9a3e278e",
       "version_major": 2,
       "version_minor": 0
      },
      "text/plain": [
       "Epoch 65:   0%|          | 0/25 [00:00<?, ?it/s]"
      ]
     },
     "metadata": {},
     "output_type": "display_data"
    },
    {
     "name": "stdout",
     "output_type": "stream",
     "text": [
      "Epoch 65 done — avg loss: 3.431459\n"
     ]
    },
    {
     "data": {
      "application/vnd.jupyter.widget-view+json": {
       "model_id": "033e0f934f8342edbd57c0d8e26d60eb",
       "version_major": 2,
       "version_minor": 0
      },
      "text/plain": [
       "Epoch 66:   0%|          | 0/25 [00:00<?, ?it/s]"
      ]
     },
     "metadata": {},
     "output_type": "display_data"
    },
    {
     "name": "stdout",
     "output_type": "stream",
     "text": [
      "Epoch 66 done — avg loss: 3.429536\n"
     ]
    },
    {
     "data": {
      "application/vnd.jupyter.widget-view+json": {
       "model_id": "41a4b26b11ea4dae8e9f4f7b5769ab5e",
       "version_major": 2,
       "version_minor": 0
      },
      "text/plain": [
       "Epoch 67:   0%|          | 0/25 [00:00<?, ?it/s]"
      ]
     },
     "metadata": {},
     "output_type": "display_data"
    },
    {
     "name": "stdout",
     "output_type": "stream",
     "text": [
      "Epoch 67 done — avg loss: 3.428312\n"
     ]
    },
    {
     "data": {
      "application/vnd.jupyter.widget-view+json": {
       "model_id": "881dc41598d64170be5c0e9f1be48ec3",
       "version_major": 2,
       "version_minor": 0
      },
      "text/plain": [
       "Epoch 68:   0%|          | 0/25 [00:00<?, ?it/s]"
      ]
     },
     "metadata": {},
     "output_type": "display_data"
    },
    {
     "name": "stdout",
     "output_type": "stream",
     "text": [
      "Epoch 68 done — avg loss: 3.426693\n"
     ]
    },
    {
     "data": {
      "application/vnd.jupyter.widget-view+json": {
       "model_id": "caa8daa7f9b6415ca37f8780e2da0ba7",
       "version_major": 2,
       "version_minor": 0
      },
      "text/plain": [
       "Epoch 69:   0%|          | 0/25 [00:00<?, ?it/s]"
      ]
     },
     "metadata": {},
     "output_type": "display_data"
    },
    {
     "name": "stdout",
     "output_type": "stream",
     "text": [
      "Epoch 69 done — avg loss: 3.424888\n"
     ]
    },
    {
     "data": {
      "application/vnd.jupyter.widget-view+json": {
       "model_id": "5e580ffa2a954f4e9cdb2364955fd53f",
       "version_major": 2,
       "version_minor": 0
      },
      "text/plain": [
       "Epoch 70:   0%|          | 0/25 [00:00<?, ?it/s]"
      ]
     },
     "metadata": {},
     "output_type": "display_data"
    },
    {
     "name": "stdout",
     "output_type": "stream",
     "text": [
      "Epoch 70 done — avg loss: 3.423539\n"
     ]
    },
    {
     "data": {
      "application/vnd.jupyter.widget-view+json": {
       "model_id": "63da68e1b794412e8d1fd487d97a34c8",
       "version_major": 2,
       "version_minor": 0
      },
      "text/plain": [
       "Epoch 71:   0%|          | 0/25 [00:00<?, ?it/s]"
      ]
     },
     "metadata": {},
     "output_type": "display_data"
    },
    {
     "name": "stdout",
     "output_type": "stream",
     "text": [
      "Epoch 71 done — avg loss: 3.421572\n"
     ]
    },
    {
     "data": {
      "application/vnd.jupyter.widget-view+json": {
       "model_id": "c2bba40f7213477bb63d3451a434dac3",
       "version_major": 2,
       "version_minor": 0
      },
      "text/plain": [
       "Epoch 72:   0%|          | 0/25 [00:00<?, ?it/s]"
      ]
     },
     "metadata": {},
     "output_type": "display_data"
    },
    {
     "name": "stdout",
     "output_type": "stream",
     "text": [
      "Epoch 72 done — avg loss: 3.419482\n"
     ]
    },
    {
     "data": {
      "application/vnd.jupyter.widget-view+json": {
       "model_id": "2e7e7732540346e9804e7500fba2c40a",
       "version_major": 2,
       "version_minor": 0
      },
      "text/plain": [
       "Epoch 73:   0%|          | 0/25 [00:00<?, ?it/s]"
      ]
     },
     "metadata": {},
     "output_type": "display_data"
    },
    {
     "name": "stdout",
     "output_type": "stream",
     "text": [
      "Epoch 73 done — avg loss: 3.417476\n"
     ]
    },
    {
     "data": {
      "application/vnd.jupyter.widget-view+json": {
       "model_id": "dc90aefefbc647e88b9df07e97ccb530",
       "version_major": 2,
       "version_minor": 0
      },
      "text/plain": [
       "Epoch 74:   0%|          | 0/25 [00:00<?, ?it/s]"
      ]
     },
     "metadata": {},
     "output_type": "display_data"
    },
    {
     "name": "stdout",
     "output_type": "stream",
     "text": [
      "Epoch 74 done — avg loss: 3.415951\n"
     ]
    },
    {
     "data": {
      "application/vnd.jupyter.widget-view+json": {
       "model_id": "60a4a776dff84c84b18a71d0d8871e1d",
       "version_major": 2,
       "version_minor": 0
      },
      "text/plain": [
       "Epoch 75:   0%|          | 0/25 [00:00<?, ?it/s]"
      ]
     },
     "metadata": {},
     "output_type": "display_data"
    },
    {
     "name": "stdout",
     "output_type": "stream",
     "text": [
      "Epoch 75 done — avg loss: 3.414505\n"
     ]
    },
    {
     "data": {
      "application/vnd.jupyter.widget-view+json": {
       "model_id": "9278a7eea25547a7a78cd6d0764378b0",
       "version_major": 2,
       "version_minor": 0
      },
      "text/plain": [
       "Epoch 76:   0%|          | 0/25 [00:00<?, ?it/s]"
      ]
     },
     "metadata": {},
     "output_type": "display_data"
    },
    {
     "name": "stdout",
     "output_type": "stream",
     "text": [
      "Epoch 76 done — avg loss: 3.413228\n"
     ]
    },
    {
     "data": {
      "application/vnd.jupyter.widget-view+json": {
       "model_id": "948d8d581d7e4002b073adaf37ee4503",
       "version_major": 2,
       "version_minor": 0
      },
      "text/plain": [
       "Epoch 77:   0%|          | 0/25 [00:00<?, ?it/s]"
      ]
     },
     "metadata": {},
     "output_type": "display_data"
    },
    {
     "name": "stdout",
     "output_type": "stream",
     "text": [
      "Epoch 77 done — avg loss: 3.411133\n"
     ]
    },
    {
     "data": {
      "application/vnd.jupyter.widget-view+json": {
       "model_id": "65f3fe05493440e3b51c0e05ad115792",
       "version_major": 2,
       "version_minor": 0
      },
      "text/plain": [
       "Epoch 78:   0%|          | 0/25 [00:00<?, ?it/s]"
      ]
     },
     "metadata": {},
     "output_type": "display_data"
    },
    {
     "name": "stdout",
     "output_type": "stream",
     "text": [
      "Epoch 78 done — avg loss: 3.409313\n"
     ]
    },
    {
     "data": {
      "application/vnd.jupyter.widget-view+json": {
       "model_id": "7c17e9de2b684772a5460bd6ab2f49f0",
       "version_major": 2,
       "version_minor": 0
      },
      "text/plain": [
       "Epoch 79:   0%|          | 0/25 [00:00<?, ?it/s]"
      ]
     },
     "metadata": {},
     "output_type": "display_data"
    },
    {
     "name": "stdout",
     "output_type": "stream",
     "text": [
      "Epoch 79 done — avg loss: 3.407503\n"
     ]
    },
    {
     "data": {
      "application/vnd.jupyter.widget-view+json": {
       "model_id": "500efe6da7964e80a78abd3aa4bd70b4",
       "version_major": 2,
       "version_minor": 0
      },
      "text/plain": [
       "Epoch 80:   0%|          | 0/25 [00:00<?, ?it/s]"
      ]
     },
     "metadata": {},
     "output_type": "display_data"
    },
    {
     "name": "stdout",
     "output_type": "stream",
     "text": [
      "Epoch 80 done — avg loss: 3.405828\n"
     ]
    },
    {
     "data": {
      "application/vnd.jupyter.widget-view+json": {
       "model_id": "8320069ae1d44a7786126e2b38310a09",
       "version_major": 2,
       "version_minor": 0
      },
      "text/plain": [
       "Epoch 81:   0%|          | 0/25 [00:00<?, ?it/s]"
      ]
     },
     "metadata": {},
     "output_type": "display_data"
    },
    {
     "name": "stdout",
     "output_type": "stream",
     "text": [
      "Epoch 81 done — avg loss: 3.404162\n"
     ]
    },
    {
     "data": {
      "application/vnd.jupyter.widget-view+json": {
       "model_id": "ac712eb875fe493fa538af8ed216360a",
       "version_major": 2,
       "version_minor": 0
      },
      "text/plain": [
       "Epoch 82:   0%|          | 0/25 [00:00<?, ?it/s]"
      ]
     },
     "metadata": {},
     "output_type": "display_data"
    },
    {
     "name": "stdout",
     "output_type": "stream",
     "text": [
      "Epoch 82 done — avg loss: 3.402521\n"
     ]
    },
    {
     "data": {
      "application/vnd.jupyter.widget-view+json": {
       "model_id": "3762f08a17ca4a6faff97809e0879d5d",
       "version_major": 2,
       "version_minor": 0
      },
      "text/plain": [
       "Epoch 83:   0%|          | 0/25 [00:00<?, ?it/s]"
      ]
     },
     "metadata": {},
     "output_type": "display_data"
    },
    {
     "name": "stdout",
     "output_type": "stream",
     "text": [
      "Epoch 83 done — avg loss: 3.401173\n"
     ]
    },
    {
     "data": {
      "application/vnd.jupyter.widget-view+json": {
       "model_id": "e27c6543332745309ce74ab2db09e124",
       "version_major": 2,
       "version_minor": 0
      },
      "text/plain": [
       "Epoch 84:   0%|          | 0/25 [00:00<?, ?it/s]"
      ]
     },
     "metadata": {},
     "output_type": "display_data"
    },
    {
     "name": "stdout",
     "output_type": "stream",
     "text": [
      "Epoch 84 done — avg loss: 3.399206\n"
     ]
    },
    {
     "data": {
      "application/vnd.jupyter.widget-view+json": {
       "model_id": "0211db61c7414586a65dd70fe97d033e",
       "version_major": 2,
       "version_minor": 0
      },
      "text/plain": [
       "Epoch 85:   0%|          | 0/25 [00:00<?, ?it/s]"
      ]
     },
     "metadata": {},
     "output_type": "display_data"
    },
    {
     "name": "stdout",
     "output_type": "stream",
     "text": [
      "Epoch 85 done — avg loss: 3.397949\n"
     ]
    },
    {
     "data": {
      "application/vnd.jupyter.widget-view+json": {
       "model_id": "68e6a8c4d3c74066935c75b65463535c",
       "version_major": 2,
       "version_minor": 0
      },
      "text/plain": [
       "Epoch 86:   0%|          | 0/25 [00:00<?, ?it/s]"
      ]
     },
     "metadata": {},
     "output_type": "display_data"
    },
    {
     "name": "stdout",
     "output_type": "stream",
     "text": [
      "Epoch 86 done — avg loss: 3.396091\n"
     ]
    },
    {
     "data": {
      "application/vnd.jupyter.widget-view+json": {
       "model_id": "ca899b63d5b24c6cb223ba5d4b25f4f7",
       "version_major": 2,
       "version_minor": 0
      },
      "text/plain": [
       "Epoch 87:   0%|          | 0/25 [00:00<?, ?it/s]"
      ]
     },
     "metadata": {},
     "output_type": "display_data"
    },
    {
     "name": "stdout",
     "output_type": "stream",
     "text": [
      "Epoch 87 done — avg loss: 3.394416\n"
     ]
    },
    {
     "data": {
      "application/vnd.jupyter.widget-view+json": {
       "model_id": "5bcf654e9262468d81aa643116805711",
       "version_major": 2,
       "version_minor": 0
      },
      "text/plain": [
       "Epoch 88:   0%|          | 0/25 [00:00<?, ?it/s]"
      ]
     },
     "metadata": {},
     "output_type": "display_data"
    },
    {
     "name": "stdout",
     "output_type": "stream",
     "text": [
      "Epoch 88 done — avg loss: 3.393734\n"
     ]
    },
    {
     "data": {
      "application/vnd.jupyter.widget-view+json": {
       "model_id": "c2d14afc72904f2cb570a9fd73b031b4",
       "version_major": 2,
       "version_minor": 0
      },
      "text/plain": [
       "Epoch 89:   0%|          | 0/25 [00:00<?, ?it/s]"
      ]
     },
     "metadata": {},
     "output_type": "display_data"
    },
    {
     "name": "stdout",
     "output_type": "stream",
     "text": [
      "Epoch 89 done — avg loss: 3.391732\n"
     ]
    },
    {
     "data": {
      "application/vnd.jupyter.widget-view+json": {
       "model_id": "4101b69f0a3a402eb3df177dab3faa5c",
       "version_major": 2,
       "version_minor": 0
      },
      "text/plain": [
       "Epoch 90:   0%|          | 0/25 [00:00<?, ?it/s]"
      ]
     },
     "metadata": {},
     "output_type": "display_data"
    },
    {
     "name": "stdout",
     "output_type": "stream",
     "text": [
      "Epoch 90 done — avg loss: 3.390379\n"
     ]
    },
    {
     "data": {
      "application/vnd.jupyter.widget-view+json": {
       "model_id": "9ff255c191df44bf9e6b0ddd37078274",
       "version_major": 2,
       "version_minor": 0
      },
      "text/plain": [
       "Epoch 91:   0%|          | 0/25 [00:00<?, ?it/s]"
      ]
     },
     "metadata": {},
     "output_type": "display_data"
    },
    {
     "name": "stdout",
     "output_type": "stream",
     "text": [
      "Epoch 91 done — avg loss: 3.388674\n"
     ]
    },
    {
     "data": {
      "application/vnd.jupyter.widget-view+json": {
       "model_id": "63bcce3270c2453f9ddb5f94add821bf",
       "version_major": 2,
       "version_minor": 0
      },
      "text/plain": [
       "Epoch 92:   0%|          | 0/25 [00:00<?, ?it/s]"
      ]
     },
     "metadata": {},
     "output_type": "display_data"
    },
    {
     "name": "stdout",
     "output_type": "stream",
     "text": [
      "Epoch 92 done — avg loss: 3.387346\n"
     ]
    },
    {
     "data": {
      "application/vnd.jupyter.widget-view+json": {
       "model_id": "8139819b932343b483cc73e7c24a2b8d",
       "version_major": 2,
       "version_minor": 0
      },
      "text/plain": [
       "Epoch 93:   0%|          | 0/25 [00:00<?, ?it/s]"
      ]
     },
     "metadata": {},
     "output_type": "display_data"
    },
    {
     "name": "stdout",
     "output_type": "stream",
     "text": [
      "Epoch 93 done — avg loss: 3.387124\n"
     ]
    },
    {
     "data": {
      "application/vnd.jupyter.widget-view+json": {
       "model_id": "1c026f67bf5e4e0f8df444e3e3d466fc",
       "version_major": 2,
       "version_minor": 0
      },
      "text/plain": [
       "Epoch 94:   0%|          | 0/25 [00:00<?, ?it/s]"
      ]
     },
     "metadata": {},
     "output_type": "display_data"
    },
    {
     "name": "stdout",
     "output_type": "stream",
     "text": [
      "Epoch 94 done — avg loss: 3.384577\n"
     ]
    },
    {
     "data": {
      "application/vnd.jupyter.widget-view+json": {
       "model_id": "8e025f19eec24bb994d6be6952bbba41",
       "version_major": 2,
       "version_minor": 0
      },
      "text/plain": [
       "Epoch 95:   0%|          | 0/25 [00:00<?, ?it/s]"
      ]
     },
     "metadata": {},
     "output_type": "display_data"
    },
    {
     "name": "stdout",
     "output_type": "stream",
     "text": [
      "Epoch 95 done — avg loss: 3.382421\n"
     ]
    },
    {
     "data": {
      "application/vnd.jupyter.widget-view+json": {
       "model_id": "573a2d6d4f034aca925423e65059d610",
       "version_major": 2,
       "version_minor": 0
      },
      "text/plain": [
       "Epoch 96:   0%|          | 0/25 [00:00<?, ?it/s]"
      ]
     },
     "metadata": {},
     "output_type": "display_data"
    },
    {
     "name": "stdout",
     "output_type": "stream",
     "text": [
      "Epoch 96 done — avg loss: 3.380274\n"
     ]
    },
    {
     "data": {
      "application/vnd.jupyter.widget-view+json": {
       "model_id": "ddacacd8475f44e390ea6f8650789286",
       "version_major": 2,
       "version_minor": 0
      },
      "text/plain": [
       "Epoch 97:   0%|          | 0/25 [00:00<?, ?it/s]"
      ]
     },
     "metadata": {},
     "output_type": "display_data"
    },
    {
     "name": "stdout",
     "output_type": "stream",
     "text": [
      "Epoch 97 done — avg loss: 3.379288\n"
     ]
    },
    {
     "data": {
      "application/vnd.jupyter.widget-view+json": {
       "model_id": "2ba3fd837b3048a986c2d6e39c96c9ab",
       "version_major": 2,
       "version_minor": 0
      },
      "text/plain": [
       "Epoch 98:   0%|          | 0/25 [00:00<?, ?it/s]"
      ]
     },
     "metadata": {},
     "output_type": "display_data"
    },
    {
     "name": "stdout",
     "output_type": "stream",
     "text": [
      "Epoch 98 done — avg loss: 3.377446\n"
     ]
    },
    {
     "data": {
      "application/vnd.jupyter.widget-view+json": {
       "model_id": "2390a7446d3e48cbb6256a98be5b8e2d",
       "version_major": 2,
       "version_minor": 0
      },
      "text/plain": [
       "Epoch 99:   0%|          | 0/25 [00:00<?, ?it/s]"
      ]
     },
     "metadata": {},
     "output_type": "display_data"
    },
    {
     "name": "stdout",
     "output_type": "stream",
     "text": [
      "Epoch 99 done — avg loss: 3.375849\n"
     ]
    },
    {
     "data": {
      "application/vnd.jupyter.widget-view+json": {
       "model_id": "da0d9e5dc3cd479bbb34774aa4ccdd56",
       "version_major": 2,
       "version_minor": 0
      },
      "text/plain": [
       "Epoch 100:   0%|          | 0/25 [00:00<?, ?it/s]"
      ]
     },
     "metadata": {},
     "output_type": "display_data"
    },
    {
     "name": "stdout",
     "output_type": "stream",
     "text": [
      "Epoch 100 done — avg loss: 3.374603\n"
     ]
    },
    {
     "data": {
      "application/vnd.jupyter.widget-view+json": {
       "model_id": "e9a086c5d770496986da593c37745e3d",
       "version_major": 2,
       "version_minor": 0
      },
      "text/plain": [
       "Epoch 101:   0%|          | 0/25 [00:00<?, ?it/s]"
      ]
     },
     "metadata": {},
     "output_type": "display_data"
    },
    {
     "name": "stdout",
     "output_type": "stream",
     "text": [
      "Epoch 101 done — avg loss: 3.373971\n"
     ]
    },
    {
     "data": {
      "application/vnd.jupyter.widget-view+json": {
       "model_id": "3264dd7c9b4b4f89bb9ced370ff0880f",
       "version_major": 2,
       "version_minor": 0
      },
      "text/plain": [
       "Epoch 102:   0%|          | 0/25 [00:00<?, ?it/s]"
      ]
     },
     "metadata": {},
     "output_type": "display_data"
    },
    {
     "name": "stdout",
     "output_type": "stream",
     "text": [
      "Epoch 102 done — avg loss: 3.372269\n"
     ]
    },
    {
     "data": {
      "application/vnd.jupyter.widget-view+json": {
       "model_id": "29ebe08779934f19a543ce13898a7db5",
       "version_major": 2,
       "version_minor": 0
      },
      "text/plain": [
       "Epoch 103:   0%|          | 0/25 [00:00<?, ?it/s]"
      ]
     },
     "metadata": {},
     "output_type": "display_data"
    },
    {
     "name": "stdout",
     "output_type": "stream",
     "text": [
      "Epoch 103 done — avg loss: 3.369988\n"
     ]
    },
    {
     "data": {
      "application/vnd.jupyter.widget-view+json": {
       "model_id": "85101493f6d3460692d80c7ba58caf89",
       "version_major": 2,
       "version_minor": 0
      },
      "text/plain": [
       "Epoch 104:   0%|          | 0/25 [00:00<?, ?it/s]"
      ]
     },
     "metadata": {},
     "output_type": "display_data"
    },
    {
     "name": "stdout",
     "output_type": "stream",
     "text": [
      "Epoch 104 done — avg loss: 3.369295\n"
     ]
    },
    {
     "data": {
      "application/vnd.jupyter.widget-view+json": {
       "model_id": "1443677d6c2b4ed59b1b7e3de798eade",
       "version_major": 2,
       "version_minor": 0
      },
      "text/plain": [
       "Epoch 105:   0%|          | 0/25 [00:00<?, ?it/s]"
      ]
     },
     "metadata": {},
     "output_type": "display_data"
    },
    {
     "name": "stdout",
     "output_type": "stream",
     "text": [
      "Epoch 105 done — avg loss: 3.369060\n"
     ]
    },
    {
     "data": {
      "application/vnd.jupyter.widget-view+json": {
       "model_id": "d50fd364a1734c3dba378ca6c31476c9",
       "version_major": 2,
       "version_minor": 0
      },
      "text/plain": [
       "Epoch 106:   0%|          | 0/25 [00:00<?, ?it/s]"
      ]
     },
     "metadata": {},
     "output_type": "display_data"
    },
    {
     "name": "stdout",
     "output_type": "stream",
     "text": [
      "Epoch 106 done — avg loss: 3.367711\n"
     ]
    },
    {
     "data": {
      "application/vnd.jupyter.widget-view+json": {
       "model_id": "faa801006e2b478c80afffd49b1609b2",
       "version_major": 2,
       "version_minor": 0
      },
      "text/plain": [
       "Epoch 107:   0%|          | 0/25 [00:00<?, ?it/s]"
      ]
     },
     "metadata": {},
     "output_type": "display_data"
    },
    {
     "name": "stdout",
     "output_type": "stream",
     "text": [
      "Epoch 107 done — avg loss: 3.364806\n"
     ]
    },
    {
     "data": {
      "application/vnd.jupyter.widget-view+json": {
       "model_id": "0ffe01a7370f49b99261814270a6a7cd",
       "version_major": 2,
       "version_minor": 0
      },
      "text/plain": [
       "Epoch 108:   0%|          | 0/25 [00:00<?, ?it/s]"
      ]
     },
     "metadata": {},
     "output_type": "display_data"
    },
    {
     "name": "stdout",
     "output_type": "stream",
     "text": [
      "Epoch 108 done — avg loss: 3.363179\n"
     ]
    },
    {
     "data": {
      "application/vnd.jupyter.widget-view+json": {
       "model_id": "ee092d1e99404ee8bddcb32db33d2f3b",
       "version_major": 2,
       "version_minor": 0
      },
      "text/plain": [
       "Epoch 109:   0%|          | 0/25 [00:00<?, ?it/s]"
      ]
     },
     "metadata": {},
     "output_type": "display_data"
    },
    {
     "name": "stdout",
     "output_type": "stream",
     "text": [
      "Epoch 109 done — avg loss: 3.362264\n"
     ]
    },
    {
     "data": {
      "application/vnd.jupyter.widget-view+json": {
       "model_id": "c049cf77b15247b8b6b955b9bf718194",
       "version_major": 2,
       "version_minor": 0
      },
      "text/plain": [
       "Epoch 110:   0%|          | 0/25 [00:00<?, ?it/s]"
      ]
     },
     "metadata": {},
     "output_type": "display_data"
    },
    {
     "name": "stdout",
     "output_type": "stream",
     "text": [
      "Epoch 110 done — avg loss: 3.360340\n"
     ]
    },
    {
     "data": {
      "application/vnd.jupyter.widget-view+json": {
       "model_id": "e6ac2f6a7de24384942b5374e68c2350",
       "version_major": 2,
       "version_minor": 0
      },
      "text/plain": [
       "Epoch 111:   0%|          | 0/25 [00:00<?, ?it/s]"
      ]
     },
     "metadata": {},
     "output_type": "display_data"
    },
    {
     "name": "stdout",
     "output_type": "stream",
     "text": [
      "Epoch 111 done — avg loss: 3.358798\n"
     ]
    },
    {
     "data": {
      "application/vnd.jupyter.widget-view+json": {
       "model_id": "eefdaec2a00847b0a1769ac48a274ed1",
       "version_major": 2,
       "version_minor": 0
      },
      "text/plain": [
       "Epoch 112:   0%|          | 0/25 [00:00<?, ?it/s]"
      ]
     },
     "metadata": {},
     "output_type": "display_data"
    },
    {
     "name": "stdout",
     "output_type": "stream",
     "text": [
      "Epoch 112 done — avg loss: 3.356299\n"
     ]
    },
    {
     "data": {
      "application/vnd.jupyter.widget-view+json": {
       "model_id": "de60239a99dd4a04abe73e16e79c2cfa",
       "version_major": 2,
       "version_minor": 0
      },
      "text/plain": [
       "Epoch 113:   0%|          | 0/25 [00:00<?, ?it/s]"
      ]
     },
     "metadata": {},
     "output_type": "display_data"
    },
    {
     "name": "stdout",
     "output_type": "stream",
     "text": [
      "Epoch 113 done — avg loss: 3.355226\n"
     ]
    },
    {
     "data": {
      "application/vnd.jupyter.widget-view+json": {
       "model_id": "afdeda13f0344fb8afa33e629e6421a2",
       "version_major": 2,
       "version_minor": 0
      },
      "text/plain": [
       "Epoch 114:   0%|          | 0/25 [00:00<?, ?it/s]"
      ]
     },
     "metadata": {},
     "output_type": "display_data"
    },
    {
     "name": "stdout",
     "output_type": "stream",
     "text": [
      "Epoch 114 done — avg loss: 3.353353\n"
     ]
    },
    {
     "data": {
      "application/vnd.jupyter.widget-view+json": {
       "model_id": "01f32ce6d65e4882a25004e5491001cc",
       "version_major": 2,
       "version_minor": 0
      },
      "text/plain": [
       "Epoch 115:   0%|          | 0/25 [00:00<?, ?it/s]"
      ]
     },
     "metadata": {},
     "output_type": "display_data"
    },
    {
     "name": "stdout",
     "output_type": "stream",
     "text": [
      "Epoch 115 done — avg loss: 3.352357\n"
     ]
    },
    {
     "data": {
      "application/vnd.jupyter.widget-view+json": {
       "model_id": "3131cb960e8e430db406d1e73d4fb588",
       "version_major": 2,
       "version_minor": 0
      },
      "text/plain": [
       "Epoch 116:   0%|          | 0/25 [00:00<?, ?it/s]"
      ]
     },
     "metadata": {},
     "output_type": "display_data"
    },
    {
     "name": "stdout",
     "output_type": "stream",
     "text": [
      "Epoch 116 done — avg loss: 3.350439\n"
     ]
    },
    {
     "data": {
      "application/vnd.jupyter.widget-view+json": {
       "model_id": "cc9942fd8c8743c2b0ca826082e3e6c6",
       "version_major": 2,
       "version_minor": 0
      },
      "text/plain": [
       "Epoch 117:   0%|          | 0/25 [00:00<?, ?it/s]"
      ]
     },
     "metadata": {},
     "output_type": "display_data"
    },
    {
     "name": "stdout",
     "output_type": "stream",
     "text": [
      "Epoch 117 done — avg loss: 3.348806\n"
     ]
    },
    {
     "data": {
      "application/vnd.jupyter.widget-view+json": {
       "model_id": "a5bb53fc07bd438bbd0cc23b31214f5a",
       "version_major": 2,
       "version_minor": 0
      },
      "text/plain": [
       "Epoch 118:   0%|          | 0/25 [00:00<?, ?it/s]"
      ]
     },
     "metadata": {},
     "output_type": "display_data"
    },
    {
     "name": "stdout",
     "output_type": "stream",
     "text": [
      "Epoch 118 done — avg loss: 3.347271\n"
     ]
    },
    {
     "data": {
      "application/vnd.jupyter.widget-view+json": {
       "model_id": "b3840283b4684dcc998e56a0b1eb5a15",
       "version_major": 2,
       "version_minor": 0
      },
      "text/plain": [
       "Epoch 119:   0%|          | 0/25 [00:00<?, ?it/s]"
      ]
     },
     "metadata": {},
     "output_type": "display_data"
    },
    {
     "name": "stdout",
     "output_type": "stream",
     "text": [
      "Epoch 119 done — avg loss: 3.346091\n"
     ]
    },
    {
     "data": {
      "application/vnd.jupyter.widget-view+json": {
       "model_id": "fabe9dc22d2e4932bb12e71bc80c2224",
       "version_major": 2,
       "version_minor": 0
      },
      "text/plain": [
       "Epoch 120:   0%|          | 0/25 [00:00<?, ?it/s]"
      ]
     },
     "metadata": {},
     "output_type": "display_data"
    },
    {
     "name": "stdout",
     "output_type": "stream",
     "text": [
      "Epoch 120 done — avg loss: 3.344650\n"
     ]
    },
    {
     "data": {
      "application/vnd.jupyter.widget-view+json": {
       "model_id": "0c7e41cd595743f69e14bf13fc4409bd",
       "version_major": 2,
       "version_minor": 0
      },
      "text/plain": [
       "Epoch 121:   0%|          | 0/25 [00:00<?, ?it/s]"
      ]
     },
     "metadata": {},
     "output_type": "display_data"
    },
    {
     "name": "stdout",
     "output_type": "stream",
     "text": [
      "Epoch 121 done — avg loss: 3.342853\n"
     ]
    },
    {
     "data": {
      "application/vnd.jupyter.widget-view+json": {
       "model_id": "57f90aee1b2843b8b34b336c47a64c57",
       "version_major": 2,
       "version_minor": 0
      },
      "text/plain": [
       "Epoch 122:   0%|          | 0/25 [00:00<?, ?it/s]"
      ]
     },
     "metadata": {},
     "output_type": "display_data"
    },
    {
     "name": "stdout",
     "output_type": "stream",
     "text": [
      "Epoch 122 done — avg loss: 3.341354\n"
     ]
    },
    {
     "data": {
      "application/vnd.jupyter.widget-view+json": {
       "model_id": "b5f9471e12b54a4b8872cb4797b72da9",
       "version_major": 2,
       "version_minor": 0
      },
      "text/plain": [
       "Epoch 123:   0%|          | 0/25 [00:00<?, ?it/s]"
      ]
     },
     "metadata": {},
     "output_type": "display_data"
    },
    {
     "name": "stdout",
     "output_type": "stream",
     "text": [
      "Epoch 123 done — avg loss: 3.340370\n"
     ]
    },
    {
     "data": {
      "application/vnd.jupyter.widget-view+json": {
       "model_id": "120668cf227044a18a2d324c21b080ee",
       "version_major": 2,
       "version_minor": 0
      },
      "text/plain": [
       "Epoch 124:   0%|          | 0/25 [00:00<?, ?it/s]"
      ]
     },
     "metadata": {},
     "output_type": "display_data"
    },
    {
     "name": "stdout",
     "output_type": "stream",
     "text": [
      "Epoch 124 done — avg loss: 3.338834\n"
     ]
    },
    {
     "data": {
      "application/vnd.jupyter.widget-view+json": {
       "model_id": "25b4b06c02de4599bcac10d71a099e09",
       "version_major": 2,
       "version_minor": 0
      },
      "text/plain": [
       "Epoch 125:   0%|          | 0/25 [00:00<?, ?it/s]"
      ]
     },
     "metadata": {},
     "output_type": "display_data"
    },
    {
     "name": "stdout",
     "output_type": "stream",
     "text": [
      "Epoch 125 done — avg loss: 3.336942\n"
     ]
    },
    {
     "data": {
      "application/vnd.jupyter.widget-view+json": {
       "model_id": "d499cbf6f4494129aaa144452781e243",
       "version_major": 2,
       "version_minor": 0
      },
      "text/plain": [
       "Epoch 126:   0%|          | 0/25 [00:00<?, ?it/s]"
      ]
     },
     "metadata": {},
     "output_type": "display_data"
    },
    {
     "name": "stdout",
     "output_type": "stream",
     "text": [
      "Epoch 126 done — avg loss: 3.335399\n"
     ]
    },
    {
     "data": {
      "application/vnd.jupyter.widget-view+json": {
       "model_id": "45ed47099b284883932938b6bc0f72b4",
       "version_major": 2,
       "version_minor": 0
      },
      "text/plain": [
       "Epoch 127:   0%|          | 0/25 [00:00<?, ?it/s]"
      ]
     },
     "metadata": {},
     "output_type": "display_data"
    },
    {
     "name": "stdout",
     "output_type": "stream",
     "text": [
      "Epoch 127 done — avg loss: 3.333555\n"
     ]
    },
    {
     "data": {
      "application/vnd.jupyter.widget-view+json": {
       "model_id": "7df2627218b34b3090281f7d8034abaa",
       "version_major": 2,
       "version_minor": 0
      },
      "text/plain": [
       "Epoch 128:   0%|          | 0/25 [00:00<?, ?it/s]"
      ]
     },
     "metadata": {},
     "output_type": "display_data"
    },
    {
     "name": "stdout",
     "output_type": "stream",
     "text": [
      "Epoch 128 done — avg loss: 3.332201\n"
     ]
    },
    {
     "data": {
      "application/vnd.jupyter.widget-view+json": {
       "model_id": "d4051eaa1b8f421393a50e8e1b7b4a19",
       "version_major": 2,
       "version_minor": 0
      },
      "text/plain": [
       "Epoch 129:   0%|          | 0/25 [00:00<?, ?it/s]"
      ]
     },
     "metadata": {},
     "output_type": "display_data"
    },
    {
     "name": "stdout",
     "output_type": "stream",
     "text": [
      "Epoch 129 done — avg loss: 3.331300\n"
     ]
    },
    {
     "data": {
      "application/vnd.jupyter.widget-view+json": {
       "model_id": "5e7226ab3a0c405c8a65a7ad470c25b6",
       "version_major": 2,
       "version_minor": 0
      },
      "text/plain": [
       "Epoch 130:   0%|          | 0/25 [00:00<?, ?it/s]"
      ]
     },
     "metadata": {},
     "output_type": "display_data"
    },
    {
     "name": "stdout",
     "output_type": "stream",
     "text": [
      "Epoch 130 done — avg loss: 3.330185\n"
     ]
    },
    {
     "data": {
      "application/vnd.jupyter.widget-view+json": {
       "model_id": "60be074e24274dcbb1713f99ba47daa4",
       "version_major": 2,
       "version_minor": 0
      },
      "text/plain": [
       "Epoch 131:   0%|          | 0/25 [00:00<?, ?it/s]"
      ]
     },
     "metadata": {},
     "output_type": "display_data"
    },
    {
     "name": "stdout",
     "output_type": "stream",
     "text": [
      "Epoch 131 done — avg loss: 3.328718\n"
     ]
    },
    {
     "data": {
      "application/vnd.jupyter.widget-view+json": {
       "model_id": "7251432aa2db440eac9f8d1ba5df8d96",
       "version_major": 2,
       "version_minor": 0
      },
      "text/plain": [
       "Epoch 132:   0%|          | 0/25 [00:00<?, ?it/s]"
      ]
     },
     "metadata": {},
     "output_type": "display_data"
    },
    {
     "name": "stdout",
     "output_type": "stream",
     "text": [
      "Epoch 132 done — avg loss: 3.327183\n"
     ]
    },
    {
     "data": {
      "application/vnd.jupyter.widget-view+json": {
       "model_id": "742d8a6967e04e8fb7d9382dd39e0499",
       "version_major": 2,
       "version_minor": 0
      },
      "text/plain": [
       "Epoch 133:   0%|          | 0/25 [00:00<?, ?it/s]"
      ]
     },
     "metadata": {},
     "output_type": "display_data"
    },
    {
     "name": "stdout",
     "output_type": "stream",
     "text": [
      "Epoch 133 done — avg loss: 3.325777\n"
     ]
    },
    {
     "data": {
      "application/vnd.jupyter.widget-view+json": {
       "model_id": "3c7f9ca3091a4524853529dffccd1161",
       "version_major": 2,
       "version_minor": 0
      },
      "text/plain": [
       "Epoch 134:   0%|          | 0/25 [00:00<?, ?it/s]"
      ]
     },
     "metadata": {},
     "output_type": "display_data"
    },
    {
     "name": "stdout",
     "output_type": "stream",
     "text": [
      "Epoch 134 done — avg loss: 3.324565\n"
     ]
    },
    {
     "data": {
      "application/vnd.jupyter.widget-view+json": {
       "model_id": "c82c3bbe0b7e464aa6aa085aece07051",
       "version_major": 2,
       "version_minor": 0
      },
      "text/plain": [
       "Epoch 135:   0%|          | 0/25 [00:00<?, ?it/s]"
      ]
     },
     "metadata": {},
     "output_type": "display_data"
    },
    {
     "name": "stdout",
     "output_type": "stream",
     "text": [
      "Epoch 135 done — avg loss: 3.323273\n"
     ]
    },
    {
     "data": {
      "application/vnd.jupyter.widget-view+json": {
       "model_id": "1eb4b54dfb044d99aed13bae28a9fd60",
       "version_major": 2,
       "version_minor": 0
      },
      "text/plain": [
       "Epoch 136:   0%|          | 0/25 [00:00<?, ?it/s]"
      ]
     },
     "metadata": {},
     "output_type": "display_data"
    },
    {
     "name": "stdout",
     "output_type": "stream",
     "text": [
      "Epoch 136 done — avg loss: 3.320720\n"
     ]
    },
    {
     "data": {
      "application/vnd.jupyter.widget-view+json": {
       "model_id": "ea14738f674948cdb550f672cfc77f33",
       "version_major": 2,
       "version_minor": 0
      },
      "text/plain": [
       "Epoch 137:   0%|          | 0/25 [00:00<?, ?it/s]"
      ]
     },
     "metadata": {},
     "output_type": "display_data"
    },
    {
     "name": "stdout",
     "output_type": "stream",
     "text": [
      "Epoch 137 done — avg loss: 3.319421\n"
     ]
    },
    {
     "data": {
      "application/vnd.jupyter.widget-view+json": {
       "model_id": "b6ec8efa6f31463b869d281e343c6a58",
       "version_major": 2,
       "version_minor": 0
      },
      "text/plain": [
       "Epoch 138:   0%|          | 0/25 [00:00<?, ?it/s]"
      ]
     },
     "metadata": {},
     "output_type": "display_data"
    },
    {
     "name": "stdout",
     "output_type": "stream",
     "text": [
      "Epoch 138 done — avg loss: 3.318984\n"
     ]
    },
    {
     "data": {
      "application/vnd.jupyter.widget-view+json": {
       "model_id": "ffab1bc87b3147a288e16c46bbef7a9f",
       "version_major": 2,
       "version_minor": 0
      },
      "text/plain": [
       "Epoch 139:   0%|          | 0/25 [00:00<?, ?it/s]"
      ]
     },
     "metadata": {},
     "output_type": "display_data"
    },
    {
     "name": "stdout",
     "output_type": "stream",
     "text": [
      "Epoch 139 done — avg loss: 3.316703\n"
     ]
    },
    {
     "data": {
      "application/vnd.jupyter.widget-view+json": {
       "model_id": "0bfb547e6ff54eafb795460b2aa90265",
       "version_major": 2,
       "version_minor": 0
      },
      "text/plain": [
       "Epoch 140:   0%|          | 0/25 [00:00<?, ?it/s]"
      ]
     },
     "metadata": {},
     "output_type": "display_data"
    },
    {
     "name": "stdout",
     "output_type": "stream",
     "text": [
      "Epoch 140 done — avg loss: 3.314581\n"
     ]
    },
    {
     "data": {
      "application/vnd.jupyter.widget-view+json": {
       "model_id": "302956a69a7a458ab265f9043542ca71",
       "version_major": 2,
       "version_minor": 0
      },
      "text/plain": [
       "Epoch 141:   0%|          | 0/25 [00:00<?, ?it/s]"
      ]
     },
     "metadata": {},
     "output_type": "display_data"
    },
    {
     "name": "stdout",
     "output_type": "stream",
     "text": [
      "Epoch 141 done — avg loss: 3.313116\n"
     ]
    },
    {
     "data": {
      "application/vnd.jupyter.widget-view+json": {
       "model_id": "4986a39987984e9d9ac9bcb78087a429",
       "version_major": 2,
       "version_minor": 0
      },
      "text/plain": [
       "Epoch 142:   0%|          | 0/25 [00:00<?, ?it/s]"
      ]
     },
     "metadata": {},
     "output_type": "display_data"
    },
    {
     "name": "stdout",
     "output_type": "stream",
     "text": [
      "Epoch 142 done — avg loss: 3.312120\n"
     ]
    },
    {
     "data": {
      "application/vnd.jupyter.widget-view+json": {
       "model_id": "8288746cf051444bb4dc15cd67fe37ba",
       "version_major": 2,
       "version_minor": 0
      },
      "text/plain": [
       "Epoch 143:   0%|          | 0/25 [00:00<?, ?it/s]"
      ]
     },
     "metadata": {},
     "output_type": "display_data"
    },
    {
     "name": "stdout",
     "output_type": "stream",
     "text": [
      "Epoch 143 done — avg loss: 3.310475\n"
     ]
    },
    {
     "data": {
      "application/vnd.jupyter.widget-view+json": {
       "model_id": "7c159c5a089a43c2a0246e0141f11bea",
       "version_major": 2,
       "version_minor": 0
      },
      "text/plain": [
       "Epoch 144:   0%|          | 0/25 [00:00<?, ?it/s]"
      ]
     },
     "metadata": {},
     "output_type": "display_data"
    },
    {
     "name": "stdout",
     "output_type": "stream",
     "text": [
      "Epoch 144 done — avg loss: 3.309490\n"
     ]
    },
    {
     "data": {
      "application/vnd.jupyter.widget-view+json": {
       "model_id": "00c96aadda4a4c3f926d95dcd7376a19",
       "version_major": 2,
       "version_minor": 0
      },
      "text/plain": [
       "Epoch 145:   0%|          | 0/25 [00:00<?, ?it/s]"
      ]
     },
     "metadata": {},
     "output_type": "display_data"
    },
    {
     "name": "stdout",
     "output_type": "stream",
     "text": [
      "Epoch 145 done — avg loss: 3.307217\n"
     ]
    },
    {
     "data": {
      "application/vnd.jupyter.widget-view+json": {
       "model_id": "017777fd783344f68ef9b8c0e64eb9c4",
       "version_major": 2,
       "version_minor": 0
      },
      "text/plain": [
       "Epoch 146:   0%|          | 0/25 [00:00<?, ?it/s]"
      ]
     },
     "metadata": {},
     "output_type": "display_data"
    },
    {
     "name": "stdout",
     "output_type": "stream",
     "text": [
      "Epoch 146 done — avg loss: 3.305346\n"
     ]
    },
    {
     "data": {
      "application/vnd.jupyter.widget-view+json": {
       "model_id": "f217dbaf4ac140ef9b79482324626dce",
       "version_major": 2,
       "version_minor": 0
      },
      "text/plain": [
       "Epoch 147:   0%|          | 0/25 [00:00<?, ?it/s]"
      ]
     },
     "metadata": {},
     "output_type": "display_data"
    },
    {
     "name": "stdout",
     "output_type": "stream",
     "text": [
      "Epoch 147 done — avg loss: 3.304367\n"
     ]
    },
    {
     "data": {
      "application/vnd.jupyter.widget-view+json": {
       "model_id": "2342234bf9844497b5e40cb57182beed",
       "version_major": 2,
       "version_minor": 0
      },
      "text/plain": [
       "Epoch 148:   0%|          | 0/25 [00:00<?, ?it/s]"
      ]
     },
     "metadata": {},
     "output_type": "display_data"
    },
    {
     "name": "stdout",
     "output_type": "stream",
     "text": [
      "Epoch 148 done — avg loss: 3.302676\n"
     ]
    },
    {
     "data": {
      "application/vnd.jupyter.widget-view+json": {
       "model_id": "a8da3a693fae4cdebbc6b7b0e544c997",
       "version_major": 2,
       "version_minor": 0
      },
      "text/plain": [
       "Epoch 149:   0%|          | 0/25 [00:00<?, ?it/s]"
      ]
     },
     "metadata": {},
     "output_type": "display_data"
    },
    {
     "name": "stdout",
     "output_type": "stream",
     "text": [
      "Epoch 149 done — avg loss: 3.301615\n"
     ]
    },
    {
     "data": {
      "application/vnd.jupyter.widget-view+json": {
       "model_id": "d522f2a7c66e4dc5aeb5f93deecb8b06",
       "version_major": 2,
       "version_minor": 0
      },
      "text/plain": [
       "Epoch 150:   0%|          | 0/25 [00:00<?, ?it/s]"
      ]
     },
     "metadata": {},
     "output_type": "display_data"
    },
    {
     "name": "stdout",
     "output_type": "stream",
     "text": [
      "Epoch 150 done — avg loss: 3.300296\n"
     ]
    },
    {
     "data": {
      "application/vnd.jupyter.widget-view+json": {
       "model_id": "2c91d6509b0c4ee3908648c512d85899",
       "version_major": 2,
       "version_minor": 0
      },
      "text/plain": [
       "Epoch 151:   0%|          | 0/25 [00:00<?, ?it/s]"
      ]
     },
     "metadata": {},
     "output_type": "display_data"
    },
    {
     "name": "stdout",
     "output_type": "stream",
     "text": [
      "Epoch 151 done — avg loss: 3.299426\n"
     ]
    },
    {
     "data": {
      "application/vnd.jupyter.widget-view+json": {
       "model_id": "9bb7a90364614071a2f5ac6e0a03ec39",
       "version_major": 2,
       "version_minor": 0
      },
      "text/plain": [
       "Epoch 152:   0%|          | 0/25 [00:00<?, ?it/s]"
      ]
     },
     "metadata": {},
     "output_type": "display_data"
    },
    {
     "name": "stdout",
     "output_type": "stream",
     "text": [
      "Epoch 152 done — avg loss: 3.297304\n"
     ]
    },
    {
     "data": {
      "application/vnd.jupyter.widget-view+json": {
       "model_id": "ea95fa4472834febb13d11060d318833",
       "version_major": 2,
       "version_minor": 0
      },
      "text/plain": [
       "Epoch 153:   0%|          | 0/25 [00:00<?, ?it/s]"
      ]
     },
     "metadata": {},
     "output_type": "display_data"
    },
    {
     "name": "stdout",
     "output_type": "stream",
     "text": [
      "Epoch 153 done — avg loss: 3.296053\n"
     ]
    },
    {
     "data": {
      "application/vnd.jupyter.widget-view+json": {
       "model_id": "8ec5c13c931d49f69fd93235054a2877",
       "version_major": 2,
       "version_minor": 0
      },
      "text/plain": [
       "Epoch 154:   0%|          | 0/25 [00:00<?, ?it/s]"
      ]
     },
     "metadata": {},
     "output_type": "display_data"
    },
    {
     "name": "stdout",
     "output_type": "stream",
     "text": [
      "Epoch 154 done — avg loss: 3.295010\n"
     ]
    },
    {
     "data": {
      "application/vnd.jupyter.widget-view+json": {
       "model_id": "a60265df427e4017bf38c067d3618131",
       "version_major": 2,
       "version_minor": 0
      },
      "text/plain": [
       "Epoch 155:   0%|          | 0/25 [00:00<?, ?it/s]"
      ]
     },
     "metadata": {},
     "output_type": "display_data"
    },
    {
     "name": "stdout",
     "output_type": "stream",
     "text": [
      "Epoch 155 done — avg loss: 3.293892\n"
     ]
    },
    {
     "data": {
      "application/vnd.jupyter.widget-view+json": {
       "model_id": "8e4a0be4859046a98dc717202cd59778",
       "version_major": 2,
       "version_minor": 0
      },
      "text/plain": [
       "Epoch 156:   0%|          | 0/25 [00:00<?, ?it/s]"
      ]
     },
     "metadata": {},
     "output_type": "display_data"
    },
    {
     "name": "stdout",
     "output_type": "stream",
     "text": [
      "Epoch 156 done — avg loss: 3.292993\n"
     ]
    },
    {
     "data": {
      "application/vnd.jupyter.widget-view+json": {
       "model_id": "507621c6e060475b8aa3a454a47e3b17",
       "version_major": 2,
       "version_minor": 0
      },
      "text/plain": [
       "Epoch 157:   0%|          | 0/25 [00:00<?, ?it/s]"
      ]
     },
     "metadata": {},
     "output_type": "display_data"
    },
    {
     "name": "stdout",
     "output_type": "stream",
     "text": [
      "Epoch 157 done — avg loss: 3.291356\n"
     ]
    },
    {
     "data": {
      "application/vnd.jupyter.widget-view+json": {
       "model_id": "88fb1178b45b435a86c3a7c4e02dcd12",
       "version_major": 2,
       "version_minor": 0
      },
      "text/plain": [
       "Epoch 158:   0%|          | 0/25 [00:00<?, ?it/s]"
      ]
     },
     "metadata": {},
     "output_type": "display_data"
    },
    {
     "name": "stdout",
     "output_type": "stream",
     "text": [
      "Epoch 158 done — avg loss: 3.289569\n"
     ]
    },
    {
     "data": {
      "application/vnd.jupyter.widget-view+json": {
       "model_id": "49ef92af3df2426083737f8962d3c686",
       "version_major": 2,
       "version_minor": 0
      },
      "text/plain": [
       "Epoch 159:   0%|          | 0/25 [00:00<?, ?it/s]"
      ]
     },
     "metadata": {},
     "output_type": "display_data"
    },
    {
     "name": "stdout",
     "output_type": "stream",
     "text": [
      "Epoch 159 done — avg loss: 3.288471\n"
     ]
    },
    {
     "data": {
      "application/vnd.jupyter.widget-view+json": {
       "model_id": "c989980de9cb4f1286c3522f7934a6d2",
       "version_major": 2,
       "version_minor": 0
      },
      "text/plain": [
       "Epoch 160:   0%|          | 0/25 [00:00<?, ?it/s]"
      ]
     },
     "metadata": {},
     "output_type": "display_data"
    },
    {
     "name": "stdout",
     "output_type": "stream",
     "text": [
      "Epoch 160 done — avg loss: 3.287599\n"
     ]
    },
    {
     "data": {
      "application/vnd.jupyter.widget-view+json": {
       "model_id": "9f5faf120c784975a92da0cd06e2cb36",
       "version_major": 2,
       "version_minor": 0
      },
      "text/plain": [
       "Epoch 161:   0%|          | 0/25 [00:00<?, ?it/s]"
      ]
     },
     "metadata": {},
     "output_type": "display_data"
    },
    {
     "name": "stdout",
     "output_type": "stream",
     "text": [
      "Epoch 161 done — avg loss: 3.284871\n"
     ]
    },
    {
     "data": {
      "application/vnd.jupyter.widget-view+json": {
       "model_id": "e265523c1a3845e48837a7085405a767",
       "version_major": 2,
       "version_minor": 0
      },
      "text/plain": [
       "Epoch 162:   0%|          | 0/25 [00:00<?, ?it/s]"
      ]
     },
     "metadata": {},
     "output_type": "display_data"
    },
    {
     "name": "stdout",
     "output_type": "stream",
     "text": [
      "Epoch 162 done — avg loss: 3.282588\n"
     ]
    },
    {
     "data": {
      "application/vnd.jupyter.widget-view+json": {
       "model_id": "746ddaee30a44aaba9f209db41648516",
       "version_major": 2,
       "version_minor": 0
      },
      "text/plain": [
       "Epoch 163:   0%|          | 0/25 [00:00<?, ?it/s]"
      ]
     },
     "metadata": {},
     "output_type": "display_data"
    },
    {
     "name": "stdout",
     "output_type": "stream",
     "text": [
      "Epoch 163 done — avg loss: 3.281489\n"
     ]
    },
    {
     "data": {
      "application/vnd.jupyter.widget-view+json": {
       "model_id": "586523fd86434c31b5f0dc0e9ac2f8ed",
       "version_major": 2,
       "version_minor": 0
      },
      "text/plain": [
       "Epoch 164:   0%|          | 0/25 [00:00<?, ?it/s]"
      ]
     },
     "metadata": {},
     "output_type": "display_data"
    },
    {
     "name": "stdout",
     "output_type": "stream",
     "text": [
      "Epoch 164 done — avg loss: 3.279516\n"
     ]
    },
    {
     "data": {
      "application/vnd.jupyter.widget-view+json": {
       "model_id": "46907d9c59924b10affef9ac074ee8c9",
       "version_major": 2,
       "version_minor": 0
      },
      "text/plain": [
       "Epoch 165:   0%|          | 0/25 [00:00<?, ?it/s]"
      ]
     },
     "metadata": {},
     "output_type": "display_data"
    },
    {
     "name": "stdout",
     "output_type": "stream",
     "text": [
      "Epoch 165 done — avg loss: 3.278209\n"
     ]
    },
    {
     "data": {
      "application/vnd.jupyter.widget-view+json": {
       "model_id": "75ecda24f23e4f8bb482353cd6ee4346",
       "version_major": 2,
       "version_minor": 0
      },
      "text/plain": [
       "Epoch 166:   0%|          | 0/25 [00:00<?, ?it/s]"
      ]
     },
     "metadata": {},
     "output_type": "display_data"
    },
    {
     "name": "stdout",
     "output_type": "stream",
     "text": [
      "Epoch 166 done — avg loss: 3.276704\n"
     ]
    },
    {
     "data": {
      "application/vnd.jupyter.widget-view+json": {
       "model_id": "a2d7d7a42d864e268395b7ee16fd87ca",
       "version_major": 2,
       "version_minor": 0
      },
      "text/plain": [
       "Epoch 167:   0%|          | 0/25 [00:00<?, ?it/s]"
      ]
     },
     "metadata": {},
     "output_type": "display_data"
    },
    {
     "name": "stdout",
     "output_type": "stream",
     "text": [
      "Epoch 167 done — avg loss: 3.275121\n"
     ]
    },
    {
     "data": {
      "application/vnd.jupyter.widget-view+json": {
       "model_id": "79abf70cef1f453a9243b48dd098d6f7",
       "version_major": 2,
       "version_minor": 0
      },
      "text/plain": [
       "Epoch 168:   0%|          | 0/25 [00:00<?, ?it/s]"
      ]
     },
     "metadata": {},
     "output_type": "display_data"
    },
    {
     "name": "stdout",
     "output_type": "stream",
     "text": [
      "Epoch 168 done — avg loss: 3.274157\n"
     ]
    },
    {
     "data": {
      "application/vnd.jupyter.widget-view+json": {
       "model_id": "d5de2a87926347b4ab80dd55854232b9",
       "version_major": 2,
       "version_minor": 0
      },
      "text/plain": [
       "Epoch 169:   0%|          | 0/25 [00:00<?, ?it/s]"
      ]
     },
     "metadata": {},
     "output_type": "display_data"
    },
    {
     "name": "stdout",
     "output_type": "stream",
     "text": [
      "Epoch 169 done — avg loss: 3.272698\n"
     ]
    },
    {
     "data": {
      "application/vnd.jupyter.widget-view+json": {
       "model_id": "34ca1973b81644a9abb035a1e55694d1",
       "version_major": 2,
       "version_minor": 0
      },
      "text/plain": [
       "Epoch 170:   0%|          | 0/25 [00:00<?, ?it/s]"
      ]
     },
     "metadata": {},
     "output_type": "display_data"
    },
    {
     "name": "stdout",
     "output_type": "stream",
     "text": [
      "Epoch 170 done — avg loss: 3.271021\n"
     ]
    },
    {
     "data": {
      "application/vnd.jupyter.widget-view+json": {
       "model_id": "ae31cbceb0bc4eb79c423151e8ebc509",
       "version_major": 2,
       "version_minor": 0
      },
      "text/plain": [
       "Epoch 171:   0%|          | 0/25 [00:00<?, ?it/s]"
      ]
     },
     "metadata": {},
     "output_type": "display_data"
    },
    {
     "name": "stdout",
     "output_type": "stream",
     "text": [
      "Epoch 171 done — avg loss: 3.269436\n"
     ]
    },
    {
     "data": {
      "application/vnd.jupyter.widget-view+json": {
       "model_id": "a2ad2055fa18492eb0eb82e532b847e9",
       "version_major": 2,
       "version_minor": 0
      },
      "text/plain": [
       "Epoch 172:   0%|          | 0/25 [00:00<?, ?it/s]"
      ]
     },
     "metadata": {},
     "output_type": "display_data"
    },
    {
     "name": "stdout",
     "output_type": "stream",
     "text": [
      "Epoch 172 done — avg loss: 3.268119\n"
     ]
    },
    {
     "data": {
      "application/vnd.jupyter.widget-view+json": {
       "model_id": "57287c23b56a4bd0b7b19db8237b41b9",
       "version_major": 2,
       "version_minor": 0
      },
      "text/plain": [
       "Epoch 173:   0%|          | 0/25 [00:00<?, ?it/s]"
      ]
     },
     "metadata": {},
     "output_type": "display_data"
    },
    {
     "name": "stdout",
     "output_type": "stream",
     "text": [
      "Epoch 173 done — avg loss: 3.266211\n"
     ]
    },
    {
     "data": {
      "application/vnd.jupyter.widget-view+json": {
       "model_id": "d3fe62c25ad74563bf8e1c000feead2e",
       "version_major": 2,
       "version_minor": 0
      },
      "text/plain": [
       "Epoch 174:   0%|          | 0/25 [00:00<?, ?it/s]"
      ]
     },
     "metadata": {},
     "output_type": "display_data"
    },
    {
     "name": "stdout",
     "output_type": "stream",
     "text": [
      "Epoch 174 done — avg loss: 3.264868\n"
     ]
    },
    {
     "data": {
      "application/vnd.jupyter.widget-view+json": {
       "model_id": "810c76c57c6041baa3458860d751f648",
       "version_major": 2,
       "version_minor": 0
      },
      "text/plain": [
       "Epoch 175:   0%|          | 0/25 [00:00<?, ?it/s]"
      ]
     },
     "metadata": {},
     "output_type": "display_data"
    },
    {
     "name": "stdout",
     "output_type": "stream",
     "text": [
      "Epoch 175 done — avg loss: 3.263956\n"
     ]
    },
    {
     "data": {
      "application/vnd.jupyter.widget-view+json": {
       "model_id": "94deddd8ba084a65af6e8ca76b944558",
       "version_major": 2,
       "version_minor": 0
      },
      "text/plain": [
       "Epoch 176:   0%|          | 0/25 [00:00<?, ?it/s]"
      ]
     },
     "metadata": {},
     "output_type": "display_data"
    },
    {
     "name": "stdout",
     "output_type": "stream",
     "text": [
      "Epoch 176 done — avg loss: 3.262314\n"
     ]
    },
    {
     "data": {
      "application/vnd.jupyter.widget-view+json": {
       "model_id": "f33d5a7ee2a54f739b0fae950b400998",
       "version_major": 2,
       "version_minor": 0
      },
      "text/plain": [
       "Epoch 177:   0%|          | 0/25 [00:00<?, ?it/s]"
      ]
     },
     "metadata": {},
     "output_type": "display_data"
    },
    {
     "name": "stdout",
     "output_type": "stream",
     "text": [
      "Epoch 177 done — avg loss: 3.260363\n"
     ]
    },
    {
     "data": {
      "application/vnd.jupyter.widget-view+json": {
       "model_id": "5ffac309c2a14dc5bb98ddbbde6924c9",
       "version_major": 2,
       "version_minor": 0
      },
      "text/plain": [
       "Epoch 178:   0%|          | 0/25 [00:00<?, ?it/s]"
      ]
     },
     "metadata": {},
     "output_type": "display_data"
    },
    {
     "name": "stdout",
     "output_type": "stream",
     "text": [
      "Epoch 178 done — avg loss: 3.259719\n"
     ]
    },
    {
     "data": {
      "application/vnd.jupyter.widget-view+json": {
       "model_id": "fc8f253050224ca991744caaf5152cac",
       "version_major": 2,
       "version_minor": 0
      },
      "text/plain": [
       "Epoch 179:   0%|          | 0/25 [00:00<?, ?it/s]"
      ]
     },
     "metadata": {},
     "output_type": "display_data"
    },
    {
     "name": "stdout",
     "output_type": "stream",
     "text": [
      "Epoch 179 done — avg loss: 3.258128\n"
     ]
    },
    {
     "data": {
      "application/vnd.jupyter.widget-view+json": {
       "model_id": "0e5ddd283bfd4e318d807ed99c7739f2",
       "version_major": 2,
       "version_minor": 0
      },
      "text/plain": [
       "Epoch 180:   0%|          | 0/25 [00:00<?, ?it/s]"
      ]
     },
     "metadata": {},
     "output_type": "display_data"
    },
    {
     "name": "stdout",
     "output_type": "stream",
     "text": [
      "Epoch 180 done — avg loss: 3.256347\n"
     ]
    },
    {
     "data": {
      "application/vnd.jupyter.widget-view+json": {
       "model_id": "a21fd7136f6b4a69b261122d7916f5a3",
       "version_major": 2,
       "version_minor": 0
      },
      "text/plain": [
       "Epoch 181:   0%|          | 0/25 [00:00<?, ?it/s]"
      ]
     },
     "metadata": {},
     "output_type": "display_data"
    },
    {
     "name": "stdout",
     "output_type": "stream",
     "text": [
      "Epoch 181 done — avg loss: 3.254897\n"
     ]
    },
    {
     "data": {
      "application/vnd.jupyter.widget-view+json": {
       "model_id": "6b6c54e2e5a14d6e9871ed70d6d1c52f",
       "version_major": 2,
       "version_minor": 0
      },
      "text/plain": [
       "Epoch 182:   0%|          | 0/25 [00:00<?, ?it/s]"
      ]
     },
     "metadata": {},
     "output_type": "display_data"
    },
    {
     "name": "stdout",
     "output_type": "stream",
     "text": [
      "Epoch 182 done — avg loss: 3.253771\n"
     ]
    },
    {
     "data": {
      "application/vnd.jupyter.widget-view+json": {
       "model_id": "33eb4682dc084453afa9ccbc1b1c9a0f",
       "version_major": 2,
       "version_minor": 0
      },
      "text/plain": [
       "Epoch 183:   0%|          | 0/25 [00:00<?, ?it/s]"
      ]
     },
     "metadata": {},
     "output_type": "display_data"
    },
    {
     "name": "stdout",
     "output_type": "stream",
     "text": [
      "Epoch 183 done — avg loss: 3.252405\n"
     ]
    },
    {
     "data": {
      "application/vnd.jupyter.widget-view+json": {
       "model_id": "dd96884ba79c46ea8d5753d239e73415",
       "version_major": 2,
       "version_minor": 0
      },
      "text/plain": [
       "Epoch 184:   0%|          | 0/25 [00:00<?, ?it/s]"
      ]
     },
     "metadata": {},
     "output_type": "display_data"
    },
    {
     "name": "stdout",
     "output_type": "stream",
     "text": [
      "Epoch 184 done — avg loss: 3.250883\n"
     ]
    },
    {
     "data": {
      "application/vnd.jupyter.widget-view+json": {
       "model_id": "15f363b3a24541cb8ce466041103db42",
       "version_major": 2,
       "version_minor": 0
      },
      "text/plain": [
       "Epoch 185:   0%|          | 0/25 [00:00<?, ?it/s]"
      ]
     },
     "metadata": {},
     "output_type": "display_data"
    },
    {
     "name": "stdout",
     "output_type": "stream",
     "text": [
      "Epoch 185 done — avg loss: 3.248790\n"
     ]
    },
    {
     "data": {
      "application/vnd.jupyter.widget-view+json": {
       "model_id": "655409bc3cef46e0bcd143b97b6651ff",
       "version_major": 2,
       "version_minor": 0
      },
      "text/plain": [
       "Epoch 186:   0%|          | 0/25 [00:00<?, ?it/s]"
      ]
     },
     "metadata": {},
     "output_type": "display_data"
    },
    {
     "name": "stdout",
     "output_type": "stream",
     "text": [
      "Epoch 186 done — avg loss: 3.247814\n"
     ]
    },
    {
     "data": {
      "application/vnd.jupyter.widget-view+json": {
       "model_id": "191f3d8731f44c928c13b9476fa544e4",
       "version_major": 2,
       "version_minor": 0
      },
      "text/plain": [
       "Epoch 187:   0%|          | 0/25 [00:00<?, ?it/s]"
      ]
     },
     "metadata": {},
     "output_type": "display_data"
    },
    {
     "name": "stdout",
     "output_type": "stream",
     "text": [
      "Epoch 187 done — avg loss: 3.246651\n"
     ]
    },
    {
     "data": {
      "application/vnd.jupyter.widget-view+json": {
       "model_id": "66e6d74019c94bfba5095fc4dc5bdc59",
       "version_major": 2,
       "version_minor": 0
      },
      "text/plain": [
       "Epoch 188:   0%|          | 0/25 [00:00<?, ?it/s]"
      ]
     },
     "metadata": {},
     "output_type": "display_data"
    },
    {
     "name": "stdout",
     "output_type": "stream",
     "text": [
      "Epoch 188 done — avg loss: 3.244791\n"
     ]
    },
    {
     "data": {
      "application/vnd.jupyter.widget-view+json": {
       "model_id": "270932d62afb487abced1f075ecc0b53",
       "version_major": 2,
       "version_minor": 0
      },
      "text/plain": [
       "Epoch 189:   0%|          | 0/25 [00:00<?, ?it/s]"
      ]
     },
     "metadata": {},
     "output_type": "display_data"
    },
    {
     "name": "stdout",
     "output_type": "stream",
     "text": [
      "Epoch 189 done — avg loss: 3.243567\n"
     ]
    },
    {
     "data": {
      "application/vnd.jupyter.widget-view+json": {
       "model_id": "30983582cebe426083fdc6135ab6a1d0",
       "version_major": 2,
       "version_minor": 0
      },
      "text/plain": [
       "Epoch 190:   0%|          | 0/25 [00:00<?, ?it/s]"
      ]
     },
     "metadata": {},
     "output_type": "display_data"
    },
    {
     "name": "stdout",
     "output_type": "stream",
     "text": [
      "Epoch 190 done — avg loss: 3.242522\n"
     ]
    },
    {
     "data": {
      "application/vnd.jupyter.widget-view+json": {
       "model_id": "54593d9d9f904546b87340fc50e5e753",
       "version_major": 2,
       "version_minor": 0
      },
      "text/plain": [
       "Epoch 191:   0%|          | 0/25 [00:00<?, ?it/s]"
      ]
     },
     "metadata": {},
     "output_type": "display_data"
    },
    {
     "name": "stdout",
     "output_type": "stream",
     "text": [
      "Epoch 191 done — avg loss: 3.241260\n"
     ]
    },
    {
     "data": {
      "application/vnd.jupyter.widget-view+json": {
       "model_id": "4ded9fb736134ad3b9e3252f3ddd2509",
       "version_major": 2,
       "version_minor": 0
      },
      "text/plain": [
       "Epoch 192:   0%|          | 0/25 [00:00<?, ?it/s]"
      ]
     },
     "metadata": {},
     "output_type": "display_data"
    },
    {
     "name": "stdout",
     "output_type": "stream",
     "text": [
      "Epoch 192 done — avg loss: 3.240415\n"
     ]
    },
    {
     "data": {
      "application/vnd.jupyter.widget-view+json": {
       "model_id": "6b22215835bf474b9fa51b6d7eccb518",
       "version_major": 2,
       "version_minor": 0
      },
      "text/plain": [
       "Epoch 193:   0%|          | 0/25 [00:00<?, ?it/s]"
      ]
     },
     "metadata": {},
     "output_type": "display_data"
    },
    {
     "name": "stdout",
     "output_type": "stream",
     "text": [
      "Epoch 193 done — avg loss: 3.238897\n"
     ]
    },
    {
     "data": {
      "application/vnd.jupyter.widget-view+json": {
       "model_id": "c34fd3afd56047dc9e291765eabf49a6",
       "version_major": 2,
       "version_minor": 0
      },
      "text/plain": [
       "Epoch 194:   0%|          | 0/25 [00:00<?, ?it/s]"
      ]
     },
     "metadata": {},
     "output_type": "display_data"
    },
    {
     "name": "stdout",
     "output_type": "stream",
     "text": [
      "Epoch 194 done — avg loss: 3.238559\n"
     ]
    },
    {
     "data": {
      "application/vnd.jupyter.widget-view+json": {
       "model_id": "46f66abee5ae400ba007024a028316d6",
       "version_major": 2,
       "version_minor": 0
      },
      "text/plain": [
       "Epoch 195:   0%|          | 0/25 [00:00<?, ?it/s]"
      ]
     },
     "metadata": {},
     "output_type": "display_data"
    },
    {
     "name": "stdout",
     "output_type": "stream",
     "text": [
      "Epoch 195 done — avg loss: 3.236165\n"
     ]
    },
    {
     "data": {
      "application/vnd.jupyter.widget-view+json": {
       "model_id": "8e6bda5b468a44f09372e26ab34d0b96",
       "version_major": 2,
       "version_minor": 0
      },
      "text/plain": [
       "Epoch 196:   0%|          | 0/25 [00:00<?, ?it/s]"
      ]
     },
     "metadata": {},
     "output_type": "display_data"
    },
    {
     "name": "stdout",
     "output_type": "stream",
     "text": [
      "Epoch 196 done — avg loss: 3.235828\n"
     ]
    },
    {
     "data": {
      "application/vnd.jupyter.widget-view+json": {
       "model_id": "d978227f30fb4623a9102a0cef7e7207",
       "version_major": 2,
       "version_minor": 0
      },
      "text/plain": [
       "Epoch 197:   0%|          | 0/25 [00:00<?, ?it/s]"
      ]
     },
     "metadata": {},
     "output_type": "display_data"
    },
    {
     "name": "stdout",
     "output_type": "stream",
     "text": [
      "Epoch 197 done — avg loss: 3.233862\n"
     ]
    },
    {
     "data": {
      "application/vnd.jupyter.widget-view+json": {
       "model_id": "e03b313084f94b51b3d213cc4a2eea05",
       "version_major": 2,
       "version_minor": 0
      },
      "text/plain": [
       "Epoch 198:   0%|          | 0/25 [00:00<?, ?it/s]"
      ]
     },
     "metadata": {},
     "output_type": "display_data"
    },
    {
     "name": "stdout",
     "output_type": "stream",
     "text": [
      "Epoch 198 done — avg loss: 3.232346\n"
     ]
    },
    {
     "data": {
      "application/vnd.jupyter.widget-view+json": {
       "model_id": "b76bf982c1fd4194bdcf468435f84acc",
       "version_major": 2,
       "version_minor": 0
      },
      "text/plain": [
       "Epoch 199:   0%|          | 0/25 [00:00<?, ?it/s]"
      ]
     },
     "metadata": {},
     "output_type": "display_data"
    },
    {
     "name": "stdout",
     "output_type": "stream",
     "text": [
      "Epoch 199 done — avg loss: 3.231184\n"
     ]
    },
    {
     "data": {
      "application/vnd.jupyter.widget-view+json": {
       "model_id": "5b97e5d8588a41f19ee37dbb1c3cb5fd",
       "version_major": 2,
       "version_minor": 0
      },
      "text/plain": [
       "Epoch 200:   0%|          | 0/25 [00:00<?, ?it/s]"
      ]
     },
     "metadata": {},
     "output_type": "display_data"
    },
    {
     "name": "stdout",
     "output_type": "stream",
     "text": [
      "Epoch 200 done — avg loss: 3.229691\n"
     ]
    },
    {
     "data": {
      "application/vnd.jupyter.widget-view+json": {
       "model_id": "97419c19d346436997efa984296d2514",
       "version_major": 2,
       "version_minor": 0
      },
      "text/plain": [
       "Epoch 201:   0%|          | 0/25 [00:00<?, ?it/s]"
      ]
     },
     "metadata": {},
     "output_type": "display_data"
    },
    {
     "name": "stdout",
     "output_type": "stream",
     "text": [
      "Epoch 201 done — avg loss: 3.228660\n"
     ]
    },
    {
     "data": {
      "application/vnd.jupyter.widget-view+json": {
       "model_id": "a38209a2790c4faf9e7bb06f1e1e8334",
       "version_major": 2,
       "version_minor": 0
      },
      "text/plain": [
       "Epoch 202:   0%|          | 0/25 [00:00<?, ?it/s]"
      ]
     },
     "metadata": {},
     "output_type": "display_data"
    },
    {
     "name": "stdout",
     "output_type": "stream",
     "text": [
      "Epoch 202 done — avg loss: 3.227383\n"
     ]
    },
    {
     "data": {
      "application/vnd.jupyter.widget-view+json": {
       "model_id": "c490c684fecf472689b769904cb75e19",
       "version_major": 2,
       "version_minor": 0
      },
      "text/plain": [
       "Epoch 203:   0%|          | 0/25 [00:00<?, ?it/s]"
      ]
     },
     "metadata": {},
     "output_type": "display_data"
    },
    {
     "name": "stdout",
     "output_type": "stream",
     "text": [
      "Epoch 203 done — avg loss: 3.225668\n"
     ]
    },
    {
     "data": {
      "application/vnd.jupyter.widget-view+json": {
       "model_id": "f361a069bc70431d96d0bb67732423c6",
       "version_major": 2,
       "version_minor": 0
      },
      "text/plain": [
       "Epoch 204:   0%|          | 0/25 [00:00<?, ?it/s]"
      ]
     },
     "metadata": {},
     "output_type": "display_data"
    },
    {
     "name": "stdout",
     "output_type": "stream",
     "text": [
      "Epoch 204 done — avg loss: 3.223757\n"
     ]
    },
    {
     "data": {
      "application/vnd.jupyter.widget-view+json": {
       "model_id": "a2f7489820b243b0a314a550a97fcc82",
       "version_major": 2,
       "version_minor": 0
      },
      "text/plain": [
       "Epoch 205:   0%|          | 0/25 [00:00<?, ?it/s]"
      ]
     },
     "metadata": {},
     "output_type": "display_data"
    },
    {
     "name": "stdout",
     "output_type": "stream",
     "text": [
      "Epoch 205 done — avg loss: 3.222377\n"
     ]
    },
    {
     "data": {
      "application/vnd.jupyter.widget-view+json": {
       "model_id": "5d80b1b2ecf748e0933881448e3da403",
       "version_major": 2,
       "version_minor": 0
      },
      "text/plain": [
       "Epoch 206:   0%|          | 0/25 [00:00<?, ?it/s]"
      ]
     },
     "metadata": {},
     "output_type": "display_data"
    },
    {
     "name": "stdout",
     "output_type": "stream",
     "text": [
      "Epoch 206 done — avg loss: 3.222028\n"
     ]
    },
    {
     "data": {
      "application/vnd.jupyter.widget-view+json": {
       "model_id": "dbd847ce24984bbcb687d3481d97d27b",
       "version_major": 2,
       "version_minor": 0
      },
      "text/plain": [
       "Epoch 207:   0%|          | 0/25 [00:00<?, ?it/s]"
      ]
     },
     "metadata": {},
     "output_type": "display_data"
    },
    {
     "name": "stdout",
     "output_type": "stream",
     "text": [
      "Epoch 207 done — avg loss: 3.220255\n"
     ]
    },
    {
     "data": {
      "application/vnd.jupyter.widget-view+json": {
       "model_id": "52a0dd796429440b912f31a63fb1335a",
       "version_major": 2,
       "version_minor": 0
      },
      "text/plain": [
       "Epoch 208:   0%|          | 0/25 [00:00<?, ?it/s]"
      ]
     },
     "metadata": {},
     "output_type": "display_data"
    },
    {
     "name": "stdout",
     "output_type": "stream",
     "text": [
      "Epoch 208 done — avg loss: 3.218976\n"
     ]
    },
    {
     "data": {
      "application/vnd.jupyter.widget-view+json": {
       "model_id": "1ce163c329354a0299788410fd8409a8",
       "version_major": 2,
       "version_minor": 0
      },
      "text/plain": [
       "Epoch 209:   0%|          | 0/25 [00:00<?, ?it/s]"
      ]
     },
     "metadata": {},
     "output_type": "display_data"
    },
    {
     "name": "stdout",
     "output_type": "stream",
     "text": [
      "Epoch 209 done — avg loss: 3.218843\n"
     ]
    },
    {
     "data": {
      "application/vnd.jupyter.widget-view+json": {
       "model_id": "d50347cd7ca0424d881f1598e8ae7e9f",
       "version_major": 2,
       "version_minor": 0
      },
      "text/plain": [
       "Epoch 210:   0%|          | 0/25 [00:00<?, ?it/s]"
      ]
     },
     "metadata": {},
     "output_type": "display_data"
    },
    {
     "name": "stdout",
     "output_type": "stream",
     "text": [
      "Epoch 210 done — avg loss: 3.216802\n"
     ]
    },
    {
     "data": {
      "application/vnd.jupyter.widget-view+json": {
       "model_id": "408dada939bb4244bc429f9cc0a2dcdc",
       "version_major": 2,
       "version_minor": 0
      },
      "text/plain": [
       "Epoch 211:   0%|          | 0/25 [00:00<?, ?it/s]"
      ]
     },
     "metadata": {},
     "output_type": "display_data"
    },
    {
     "name": "stdout",
     "output_type": "stream",
     "text": [
      "Epoch 211 done — avg loss: 3.215172\n"
     ]
    },
    {
     "data": {
      "application/vnd.jupyter.widget-view+json": {
       "model_id": "59141eec76084cebb39b13c9f2c6c0e7",
       "version_major": 2,
       "version_minor": 0
      },
      "text/plain": [
       "Epoch 212:   0%|          | 0/25 [00:00<?, ?it/s]"
      ]
     },
     "metadata": {},
     "output_type": "display_data"
    },
    {
     "name": "stdout",
     "output_type": "stream",
     "text": [
      "Epoch 212 done — avg loss: 3.213577\n"
     ]
    },
    {
     "data": {
      "application/vnd.jupyter.widget-view+json": {
       "model_id": "d6f2b4360b3a4786a6ece0ae2132fac8",
       "version_major": 2,
       "version_minor": 0
      },
      "text/plain": [
       "Epoch 213:   0%|          | 0/25 [00:00<?, ?it/s]"
      ]
     },
     "metadata": {},
     "output_type": "display_data"
    },
    {
     "name": "stdout",
     "output_type": "stream",
     "text": [
      "Epoch 213 done — avg loss: 3.213063\n"
     ]
    },
    {
     "data": {
      "application/vnd.jupyter.widget-view+json": {
       "model_id": "8db37660537f46409329ee01c91bc6c6",
       "version_major": 2,
       "version_minor": 0
      },
      "text/plain": [
       "Epoch 214:   0%|          | 0/25 [00:00<?, ?it/s]"
      ]
     },
     "metadata": {},
     "output_type": "display_data"
    },
    {
     "name": "stdout",
     "output_type": "stream",
     "text": [
      "Epoch 214 done — avg loss: 3.211557\n"
     ]
    },
    {
     "data": {
      "application/vnd.jupyter.widget-view+json": {
       "model_id": "c7709db291c04e9ba975f20fd87bc22c",
       "version_major": 2,
       "version_minor": 0
      },
      "text/plain": [
       "Epoch 215:   0%|          | 0/25 [00:00<?, ?it/s]"
      ]
     },
     "metadata": {},
     "output_type": "display_data"
    },
    {
     "name": "stdout",
     "output_type": "stream",
     "text": [
      "Epoch 215 done — avg loss: 3.210277\n"
     ]
    },
    {
     "data": {
      "application/vnd.jupyter.widget-view+json": {
       "model_id": "d26035b0705e4e1bbe48e21647729b40",
       "version_major": 2,
       "version_minor": 0
      },
      "text/plain": [
       "Epoch 216:   0%|          | 0/25 [00:00<?, ?it/s]"
      ]
     },
     "metadata": {},
     "output_type": "display_data"
    },
    {
     "name": "stdout",
     "output_type": "stream",
     "text": [
      "Epoch 216 done — avg loss: 3.209689\n"
     ]
    },
    {
     "data": {
      "application/vnd.jupyter.widget-view+json": {
       "model_id": "62b8ba4952d047e2b289055a37399376",
       "version_major": 2,
       "version_minor": 0
      },
      "text/plain": [
       "Epoch 217:   0%|          | 0/25 [00:00<?, ?it/s]"
      ]
     },
     "metadata": {},
     "output_type": "display_data"
    },
    {
     "name": "stdout",
     "output_type": "stream",
     "text": [
      "Epoch 217 done — avg loss: 3.208201\n"
     ]
    },
    {
     "data": {
      "application/vnd.jupyter.widget-view+json": {
       "model_id": "7625f9b47da4438288c835c152390e8c",
       "version_major": 2,
       "version_minor": 0
      },
      "text/plain": [
       "Epoch 218:   0%|          | 0/25 [00:00<?, ?it/s]"
      ]
     },
     "metadata": {},
     "output_type": "display_data"
    },
    {
     "name": "stdout",
     "output_type": "stream",
     "text": [
      "Epoch 218 done — avg loss: 3.207064\n"
     ]
    },
    {
     "data": {
      "application/vnd.jupyter.widget-view+json": {
       "model_id": "68806a610df246b38ab211f2684550d0",
       "version_major": 2,
       "version_minor": 0
      },
      "text/plain": [
       "Epoch 219:   0%|          | 0/25 [00:00<?, ?it/s]"
      ]
     },
     "metadata": {},
     "output_type": "display_data"
    },
    {
     "name": "stdout",
     "output_type": "stream",
     "text": [
      "Epoch 219 done — avg loss: 3.205685\n"
     ]
    },
    {
     "data": {
      "application/vnd.jupyter.widget-view+json": {
       "model_id": "8bb977d73563461e8b142b3e700f045e",
       "version_major": 2,
       "version_minor": 0
      },
      "text/plain": [
       "Epoch 220:   0%|          | 0/25 [00:00<?, ?it/s]"
      ]
     },
     "metadata": {},
     "output_type": "display_data"
    },
    {
     "name": "stdout",
     "output_type": "stream",
     "text": [
      "Epoch 220 done — avg loss: 3.203387\n"
     ]
    },
    {
     "data": {
      "application/vnd.jupyter.widget-view+json": {
       "model_id": "8aa11da61b5644aab28d010bad0bedbb",
       "version_major": 2,
       "version_minor": 0
      },
      "text/plain": [
       "Epoch 221:   0%|          | 0/25 [00:00<?, ?it/s]"
      ]
     },
     "metadata": {},
     "output_type": "display_data"
    },
    {
     "name": "stdout",
     "output_type": "stream",
     "text": [
      "Epoch 221 done — avg loss: 3.202319\n"
     ]
    },
    {
     "data": {
      "application/vnd.jupyter.widget-view+json": {
       "model_id": "7d8b4cd75c95405a81bcd20d9515f706",
       "version_major": 2,
       "version_minor": 0
      },
      "text/plain": [
       "Epoch 222:   0%|          | 0/25 [00:00<?, ?it/s]"
      ]
     },
     "metadata": {},
     "output_type": "display_data"
    },
    {
     "name": "stdout",
     "output_type": "stream",
     "text": [
      "Epoch 222 done — avg loss: 3.201304\n"
     ]
    },
    {
     "data": {
      "application/vnd.jupyter.widget-view+json": {
       "model_id": "46127fa42ad34430985a60aacb45a01b",
       "version_major": 2,
       "version_minor": 0
      },
      "text/plain": [
       "Epoch 223:   0%|          | 0/25 [00:00<?, ?it/s]"
      ]
     },
     "metadata": {},
     "output_type": "display_data"
    },
    {
     "name": "stdout",
     "output_type": "stream",
     "text": [
      "Epoch 223 done — avg loss: 3.200897\n"
     ]
    },
    {
     "data": {
      "application/vnd.jupyter.widget-view+json": {
       "model_id": "bb6bc6912514499681516e2d9fb304cb",
       "version_major": 2,
       "version_minor": 0
      },
      "text/plain": [
       "Epoch 224:   0%|          | 0/25 [00:00<?, ?it/s]"
      ]
     },
     "metadata": {},
     "output_type": "display_data"
    },
    {
     "name": "stdout",
     "output_type": "stream",
     "text": [
      "Epoch 224 done — avg loss: 3.198764\n"
     ]
    },
    {
     "data": {
      "application/vnd.jupyter.widget-view+json": {
       "model_id": "91a0fdce87d646e392d4f867c7231875",
       "version_major": 2,
       "version_minor": 0
      },
      "text/plain": [
       "Epoch 225:   0%|          | 0/25 [00:00<?, ?it/s]"
      ]
     },
     "metadata": {},
     "output_type": "display_data"
    },
    {
     "name": "stdout",
     "output_type": "stream",
     "text": [
      "Epoch 225 done — avg loss: 3.197240\n"
     ]
    },
    {
     "data": {
      "application/vnd.jupyter.widget-view+json": {
       "model_id": "5f6699b4de954e04b5d3fdaab8e69bb8",
       "version_major": 2,
       "version_minor": 0
      },
      "text/plain": [
       "Epoch 226:   0%|          | 0/25 [00:00<?, ?it/s]"
      ]
     },
     "metadata": {},
     "output_type": "display_data"
    },
    {
     "name": "stdout",
     "output_type": "stream",
     "text": [
      "Epoch 226 done — avg loss: 3.196153\n"
     ]
    },
    {
     "data": {
      "application/vnd.jupyter.widget-view+json": {
       "model_id": "3693461d45834864809a5445ff28013c",
       "version_major": 2,
       "version_minor": 0
      },
      "text/plain": [
       "Epoch 227:   0%|          | 0/25 [00:00<?, ?it/s]"
      ]
     },
     "metadata": {},
     "output_type": "display_data"
    },
    {
     "name": "stdout",
     "output_type": "stream",
     "text": [
      "Epoch 227 done — avg loss: 3.194705\n"
     ]
    },
    {
     "data": {
      "application/vnd.jupyter.widget-view+json": {
       "model_id": "5c07a11e148849bd982960955da65b0b",
       "version_major": 2,
       "version_minor": 0
      },
      "text/plain": [
       "Epoch 228:   0%|          | 0/25 [00:00<?, ?it/s]"
      ]
     },
     "metadata": {},
     "output_type": "display_data"
    },
    {
     "name": "stdout",
     "output_type": "stream",
     "text": [
      "Epoch 228 done — avg loss: 3.193952\n"
     ]
    },
    {
     "data": {
      "application/vnd.jupyter.widget-view+json": {
       "model_id": "4539757b761c42de9a6af1694d31389b",
       "version_major": 2,
       "version_minor": 0
      },
      "text/plain": [
       "Epoch 229:   0%|          | 0/25 [00:00<?, ?it/s]"
      ]
     },
     "metadata": {},
     "output_type": "display_data"
    },
    {
     "name": "stdout",
     "output_type": "stream",
     "text": [
      "Epoch 229 done — avg loss: 3.194091\n"
     ]
    },
    {
     "data": {
      "application/vnd.jupyter.widget-view+json": {
       "model_id": "ec5c1cff36ac4de58317d8d693d0220c",
       "version_major": 2,
       "version_minor": 0
      },
      "text/plain": [
       "Epoch 230:   0%|          | 0/25 [00:00<?, ?it/s]"
      ]
     },
     "metadata": {},
     "output_type": "display_data"
    },
    {
     "name": "stdout",
     "output_type": "stream",
     "text": [
      "Epoch 230 done — avg loss: 3.191394\n"
     ]
    },
    {
     "data": {
      "application/vnd.jupyter.widget-view+json": {
       "model_id": "af9ed1dd9d624a91ac3a877550460d4f",
       "version_major": 2,
       "version_minor": 0
      },
      "text/plain": [
       "Epoch 231:   0%|          | 0/25 [00:00<?, ?it/s]"
      ]
     },
     "metadata": {},
     "output_type": "display_data"
    },
    {
     "name": "stdout",
     "output_type": "stream",
     "text": [
      "Epoch 231 done — avg loss: 3.189617\n"
     ]
    },
    {
     "data": {
      "application/vnd.jupyter.widget-view+json": {
       "model_id": "ba46e69498df43349f3f9c4451c50dc9",
       "version_major": 2,
       "version_minor": 0
      },
      "text/plain": [
       "Epoch 232:   0%|          | 0/25 [00:00<?, ?it/s]"
      ]
     },
     "metadata": {},
     "output_type": "display_data"
    },
    {
     "name": "stdout",
     "output_type": "stream",
     "text": [
      "Epoch 232 done — avg loss: 3.189242\n"
     ]
    },
    {
     "data": {
      "application/vnd.jupyter.widget-view+json": {
       "model_id": "b9967d0e5c1443da9f7261766caf5222",
       "version_major": 2,
       "version_minor": 0
      },
      "text/plain": [
       "Epoch 233:   0%|          | 0/25 [00:00<?, ?it/s]"
      ]
     },
     "metadata": {},
     "output_type": "display_data"
    },
    {
     "name": "stdout",
     "output_type": "stream",
     "text": [
      "Epoch 233 done — avg loss: 3.187072\n"
     ]
    },
    {
     "data": {
      "application/vnd.jupyter.widget-view+json": {
       "model_id": "c81d35b545d84722a9d2fe9e2369c938",
       "version_major": 2,
       "version_minor": 0
      },
      "text/plain": [
       "Epoch 234:   0%|          | 0/25 [00:00<?, ?it/s]"
      ]
     },
     "metadata": {},
     "output_type": "display_data"
    },
    {
     "name": "stdout",
     "output_type": "stream",
     "text": [
      "Epoch 234 done — avg loss: 3.186075\n"
     ]
    },
    {
     "data": {
      "application/vnd.jupyter.widget-view+json": {
       "model_id": "eace71b24c57400883d4edf0fea558c1",
       "version_major": 2,
       "version_minor": 0
      },
      "text/plain": [
       "Epoch 235:   0%|          | 0/25 [00:00<?, ?it/s]"
      ]
     },
     "metadata": {},
     "output_type": "display_data"
    },
    {
     "name": "stdout",
     "output_type": "stream",
     "text": [
      "Epoch 235 done — avg loss: 3.185137\n"
     ]
    },
    {
     "data": {
      "application/vnd.jupyter.widget-view+json": {
       "model_id": "e51953d45cf54c52835aa04acc59aaef",
       "version_major": 2,
       "version_minor": 0
      },
      "text/plain": [
       "Epoch 236:   0%|          | 0/25 [00:00<?, ?it/s]"
      ]
     },
     "metadata": {},
     "output_type": "display_data"
    },
    {
     "name": "stdout",
     "output_type": "stream",
     "text": [
      "Epoch 236 done — avg loss: 3.183898\n"
     ]
    },
    {
     "data": {
      "application/vnd.jupyter.widget-view+json": {
       "model_id": "30d44fe1fc7c4b6c923757c54e9f24ad",
       "version_major": 2,
       "version_minor": 0
      },
      "text/plain": [
       "Epoch 237:   0%|          | 0/25 [00:00<?, ?it/s]"
      ]
     },
     "metadata": {},
     "output_type": "display_data"
    },
    {
     "name": "stdout",
     "output_type": "stream",
     "text": [
      "Epoch 237 done — avg loss: 3.182651\n"
     ]
    },
    {
     "data": {
      "application/vnd.jupyter.widget-view+json": {
       "model_id": "eff01f4e100b48b1a1745bd7651f84c8",
       "version_major": 2,
       "version_minor": 0
      },
      "text/plain": [
       "Epoch 238:   0%|          | 0/25 [00:00<?, ?it/s]"
      ]
     },
     "metadata": {},
     "output_type": "display_data"
    },
    {
     "name": "stdout",
     "output_type": "stream",
     "text": [
      "Epoch 238 done — avg loss: 3.181045\n"
     ]
    },
    {
     "data": {
      "application/vnd.jupyter.widget-view+json": {
       "model_id": "8b45464eab334b5b865941e0d23ede6c",
       "version_major": 2,
       "version_minor": 0
      },
      "text/plain": [
       "Epoch 239:   0%|          | 0/25 [00:00<?, ?it/s]"
      ]
     },
     "metadata": {},
     "output_type": "display_data"
    },
    {
     "name": "stdout",
     "output_type": "stream",
     "text": [
      "Epoch 239 done — avg loss: 3.180558\n"
     ]
    },
    {
     "data": {
      "application/vnd.jupyter.widget-view+json": {
       "model_id": "48a38fea7bec490299a17fab355d01b0",
       "version_major": 2,
       "version_minor": 0
      },
      "text/plain": [
       "Epoch 240:   0%|          | 0/25 [00:00<?, ?it/s]"
      ]
     },
     "metadata": {},
     "output_type": "display_data"
    },
    {
     "name": "stdout",
     "output_type": "stream",
     "text": [
      "Epoch 240 done — avg loss: 3.178756\n"
     ]
    },
    {
     "data": {
      "application/vnd.jupyter.widget-view+json": {
       "model_id": "ca80817ec292435582e84cfb5317d502",
       "version_major": 2,
       "version_minor": 0
      },
      "text/plain": [
       "Epoch 241:   0%|          | 0/25 [00:00<?, ?it/s]"
      ]
     },
     "metadata": {},
     "output_type": "display_data"
    },
    {
     "name": "stdout",
     "output_type": "stream",
     "text": [
      "Epoch 241 done — avg loss: 3.177537\n"
     ]
    },
    {
     "data": {
      "application/vnd.jupyter.widget-view+json": {
       "model_id": "a2f10b1bb6894de6ab6f366bd8a64c8c",
       "version_major": 2,
       "version_minor": 0
      },
      "text/plain": [
       "Epoch 242:   0%|          | 0/25 [00:00<?, ?it/s]"
      ]
     },
     "metadata": {},
     "output_type": "display_data"
    },
    {
     "name": "stdout",
     "output_type": "stream",
     "text": [
      "Epoch 242 done — avg loss: 3.176415\n"
     ]
    },
    {
     "data": {
      "application/vnd.jupyter.widget-view+json": {
       "model_id": "a67755aa6b8d4fbebbe394c3eb2721d2",
       "version_major": 2,
       "version_minor": 0
      },
      "text/plain": [
       "Epoch 243:   0%|          | 0/25 [00:00<?, ?it/s]"
      ]
     },
     "metadata": {},
     "output_type": "display_data"
    },
    {
     "name": "stdout",
     "output_type": "stream",
     "text": [
      "Epoch 243 done — avg loss: 3.175791\n"
     ]
    },
    {
     "data": {
      "application/vnd.jupyter.widget-view+json": {
       "model_id": "46116b3fd86b4ee78c9150a2578a581b",
       "version_major": 2,
       "version_minor": 0
      },
      "text/plain": [
       "Epoch 244:   0%|          | 0/25 [00:00<?, ?it/s]"
      ]
     },
     "metadata": {},
     "output_type": "display_data"
    },
    {
     "name": "stdout",
     "output_type": "stream",
     "text": [
      "Epoch 244 done — avg loss: 3.173774\n"
     ]
    },
    {
     "data": {
      "application/vnd.jupyter.widget-view+json": {
       "model_id": "b590afde53fd4d81b29ea7ae4a8ac14c",
       "version_major": 2,
       "version_minor": 0
      },
      "text/plain": [
       "Epoch 245:   0%|          | 0/25 [00:00<?, ?it/s]"
      ]
     },
     "metadata": {},
     "output_type": "display_data"
    },
    {
     "name": "stdout",
     "output_type": "stream",
     "text": [
      "Epoch 245 done — avg loss: 3.173347\n"
     ]
    },
    {
     "data": {
      "application/vnd.jupyter.widget-view+json": {
       "model_id": "0aa23ec9fbf54f29b4e523547fd1f085",
       "version_major": 2,
       "version_minor": 0
      },
      "text/plain": [
       "Epoch 246:   0%|          | 0/25 [00:00<?, ?it/s]"
      ]
     },
     "metadata": {},
     "output_type": "display_data"
    },
    {
     "name": "stdout",
     "output_type": "stream",
     "text": [
      "Epoch 246 done — avg loss: 3.172510\n"
     ]
    },
    {
     "data": {
      "application/vnd.jupyter.widget-view+json": {
       "model_id": "9914af3bfa44472ab6d62e462ff8514e",
       "version_major": 2,
       "version_minor": 0
      },
      "text/plain": [
       "Epoch 247:   0%|          | 0/25 [00:00<?, ?it/s]"
      ]
     },
     "metadata": {},
     "output_type": "display_data"
    },
    {
     "name": "stdout",
     "output_type": "stream",
     "text": [
      "Epoch 247 done — avg loss: 3.170608\n"
     ]
    },
    {
     "data": {
      "application/vnd.jupyter.widget-view+json": {
       "model_id": "c473a27549d34011ab619e76ada4d079",
       "version_major": 2,
       "version_minor": 0
      },
      "text/plain": [
       "Epoch 248:   0%|          | 0/25 [00:00<?, ?it/s]"
      ]
     },
     "metadata": {},
     "output_type": "display_data"
    },
    {
     "name": "stdout",
     "output_type": "stream",
     "text": [
      "Epoch 248 done — avg loss: 3.169100\n"
     ]
    },
    {
     "data": {
      "application/vnd.jupyter.widget-view+json": {
       "model_id": "7cdf5b713ff242a1b6fcb1d353047b69",
       "version_major": 2,
       "version_minor": 0
      },
      "text/plain": [
       "Epoch 249:   0%|          | 0/25 [00:00<?, ?it/s]"
      ]
     },
     "metadata": {},
     "output_type": "display_data"
    },
    {
     "name": "stdout",
     "output_type": "stream",
     "text": [
      "Epoch 249 done — avg loss: 3.167787\n"
     ]
    },
    {
     "data": {
      "application/vnd.jupyter.widget-view+json": {
       "model_id": "4ae7fc9e12b14f5ea4cf53ef60fdbc7f",
       "version_major": 2,
       "version_minor": 0
      },
      "text/plain": [
       "Epoch 250:   0%|          | 0/25 [00:00<?, ?it/s]"
      ]
     },
     "metadata": {},
     "output_type": "display_data"
    },
    {
     "name": "stdout",
     "output_type": "stream",
     "text": [
      "Epoch 250 done — avg loss: 3.165920\n"
     ]
    },
    {
     "data": {
      "application/vnd.jupyter.widget-view+json": {
       "model_id": "5de773ff71ff494699d3d0da54f5d2a9",
       "version_major": 2,
       "version_minor": 0
      },
      "text/plain": [
       "Epoch 251:   0%|          | 0/25 [00:00<?, ?it/s]"
      ]
     },
     "metadata": {},
     "output_type": "display_data"
    },
    {
     "name": "stdout",
     "output_type": "stream",
     "text": [
      "Epoch 251 done — avg loss: 3.165231\n"
     ]
    },
    {
     "data": {
      "application/vnd.jupyter.widget-view+json": {
       "model_id": "39c77da3ea4d4824ae2cd2937d374dd5",
       "version_major": 2,
       "version_minor": 0
      },
      "text/plain": [
       "Epoch 252:   0%|          | 0/25 [00:00<?, ?it/s]"
      ]
     },
     "metadata": {},
     "output_type": "display_data"
    },
    {
     "name": "stdout",
     "output_type": "stream",
     "text": [
      "Epoch 252 done — avg loss: 3.163949\n"
     ]
    },
    {
     "data": {
      "application/vnd.jupyter.widget-view+json": {
       "model_id": "a056d66f276145c6bb5a45a8c76f0ec3",
       "version_major": 2,
       "version_minor": 0
      },
      "text/plain": [
       "Epoch 253:   0%|          | 0/25 [00:00<?, ?it/s]"
      ]
     },
     "metadata": {},
     "output_type": "display_data"
    },
    {
     "name": "stdout",
     "output_type": "stream",
     "text": [
      "Epoch 253 done — avg loss: 3.163002\n"
     ]
    },
    {
     "data": {
      "application/vnd.jupyter.widget-view+json": {
       "model_id": "3acc389b93504224a0dd9ebe4d27cc09",
       "version_major": 2,
       "version_minor": 0
      },
      "text/plain": [
       "Epoch 254:   0%|          | 0/25 [00:00<?, ?it/s]"
      ]
     },
     "metadata": {},
     "output_type": "display_data"
    },
    {
     "name": "stdout",
     "output_type": "stream",
     "text": [
      "Epoch 254 done — avg loss: 3.162606\n"
     ]
    },
    {
     "data": {
      "application/vnd.jupyter.widget-view+json": {
       "model_id": "f590d5266f6046889932f8ff4e12b6c1",
       "version_major": 2,
       "version_minor": 0
      },
      "text/plain": [
       "Epoch 255:   0%|          | 0/25 [00:00<?, ?it/s]"
      ]
     },
     "metadata": {},
     "output_type": "display_data"
    },
    {
     "name": "stdout",
     "output_type": "stream",
     "text": [
      "Epoch 255 done — avg loss: 3.161143\n"
     ]
    },
    {
     "data": {
      "application/vnd.jupyter.widget-view+json": {
       "model_id": "d241b12778f44004b88f505041301e02",
       "version_major": 2,
       "version_minor": 0
      },
      "text/plain": [
       "Epoch 256:   0%|          | 0/25 [00:00<?, ?it/s]"
      ]
     },
     "metadata": {},
     "output_type": "display_data"
    },
    {
     "name": "stdout",
     "output_type": "stream",
     "text": [
      "Epoch 256 done — avg loss: 3.159012\n"
     ]
    },
    {
     "data": {
      "application/vnd.jupyter.widget-view+json": {
       "model_id": "329b0cedb24648d997c3681e1446a1f5",
       "version_major": 2,
       "version_minor": 0
      },
      "text/plain": [
       "Epoch 257:   0%|          | 0/25 [00:00<?, ?it/s]"
      ]
     },
     "metadata": {},
     "output_type": "display_data"
    },
    {
     "name": "stdout",
     "output_type": "stream",
     "text": [
      "Epoch 257 done — avg loss: 3.157597\n"
     ]
    },
    {
     "data": {
      "application/vnd.jupyter.widget-view+json": {
       "model_id": "ad346e5989a944378df7ab37007dc416",
       "version_major": 2,
       "version_minor": 0
      },
      "text/plain": [
       "Epoch 258:   0%|          | 0/25 [00:00<?, ?it/s]"
      ]
     },
     "metadata": {},
     "output_type": "display_data"
    },
    {
     "name": "stdout",
     "output_type": "stream",
     "text": [
      "Epoch 258 done — avg loss: 3.157469\n"
     ]
    },
    {
     "data": {
      "application/vnd.jupyter.widget-view+json": {
       "model_id": "bccea8d4425340b0a58cef51355169ae",
       "version_major": 2,
       "version_minor": 0
      },
      "text/plain": [
       "Epoch 259:   0%|          | 0/25 [00:00<?, ?it/s]"
      ]
     },
     "metadata": {},
     "output_type": "display_data"
    },
    {
     "name": "stdout",
     "output_type": "stream",
     "text": [
      "Epoch 259 done — avg loss: 3.156246\n"
     ]
    },
    {
     "data": {
      "application/vnd.jupyter.widget-view+json": {
       "model_id": "d37afd919510479ba79d118e19451c2f",
       "version_major": 2,
       "version_minor": 0
      },
      "text/plain": [
       "Epoch 260:   0%|          | 0/25 [00:00<?, ?it/s]"
      ]
     },
     "metadata": {},
     "output_type": "display_data"
    },
    {
     "name": "stdout",
     "output_type": "stream",
     "text": [
      "Epoch 260 done — avg loss: 3.155362\n"
     ]
    },
    {
     "data": {
      "application/vnd.jupyter.widget-view+json": {
       "model_id": "61bd1dfe33fd4bb1bdfc9e6713a60444",
       "version_major": 2,
       "version_minor": 0
      },
      "text/plain": [
       "Epoch 261:   0%|          | 0/25 [00:00<?, ?it/s]"
      ]
     },
     "metadata": {},
     "output_type": "display_data"
    },
    {
     "name": "stdout",
     "output_type": "stream",
     "text": [
      "Epoch 261 done — avg loss: 3.154689\n"
     ]
    },
    {
     "data": {
      "application/vnd.jupyter.widget-view+json": {
       "model_id": "87195cef77044a668127f7fa899e8701",
       "version_major": 2,
       "version_minor": 0
      },
      "text/plain": [
       "Epoch 262:   0%|          | 0/25 [00:00<?, ?it/s]"
      ]
     },
     "metadata": {},
     "output_type": "display_data"
    },
    {
     "name": "stdout",
     "output_type": "stream",
     "text": [
      "Epoch 262 done — avg loss: 3.152189\n"
     ]
    },
    {
     "data": {
      "application/vnd.jupyter.widget-view+json": {
       "model_id": "520a1e898b774363ae90cc3c5564da5c",
       "version_major": 2,
       "version_minor": 0
      },
      "text/plain": [
       "Epoch 263:   0%|          | 0/25 [00:00<?, ?it/s]"
      ]
     },
     "metadata": {},
     "output_type": "display_data"
    },
    {
     "name": "stdout",
     "output_type": "stream",
     "text": [
      "Epoch 263 done — avg loss: 3.151712\n"
     ]
    },
    {
     "data": {
      "application/vnd.jupyter.widget-view+json": {
       "model_id": "53512486f39840df8a3820c85cb766d4",
       "version_major": 2,
       "version_minor": 0
      },
      "text/plain": [
       "Epoch 264:   0%|          | 0/25 [00:00<?, ?it/s]"
      ]
     },
     "metadata": {},
     "output_type": "display_data"
    },
    {
     "name": "stdout",
     "output_type": "stream",
     "text": [
      "Epoch 264 done — avg loss: 3.149659\n"
     ]
    },
    {
     "data": {
      "application/vnd.jupyter.widget-view+json": {
       "model_id": "0b1e683e8b2040f5b9754e7a99a84058",
       "version_major": 2,
       "version_minor": 0
      },
      "text/plain": [
       "Epoch 265:   0%|          | 0/25 [00:00<?, ?it/s]"
      ]
     },
     "metadata": {},
     "output_type": "display_data"
    },
    {
     "name": "stdout",
     "output_type": "stream",
     "text": [
      "Epoch 265 done — avg loss: 3.149054\n"
     ]
    },
    {
     "data": {
      "application/vnd.jupyter.widget-view+json": {
       "model_id": "1b860541f3b94c18b52465b2e332d7c3",
       "version_major": 2,
       "version_minor": 0
      },
      "text/plain": [
       "Epoch 266:   0%|          | 0/25 [00:00<?, ?it/s]"
      ]
     },
     "metadata": {},
     "output_type": "display_data"
    },
    {
     "name": "stdout",
     "output_type": "stream",
     "text": [
      "Epoch 266 done — avg loss: 3.148749\n"
     ]
    },
    {
     "data": {
      "application/vnd.jupyter.widget-view+json": {
       "model_id": "41112630b65d415b9eb6e30d67a85677",
       "version_major": 2,
       "version_minor": 0
      },
      "text/plain": [
       "Epoch 267:   0%|          | 0/25 [00:00<?, ?it/s]"
      ]
     },
     "metadata": {},
     "output_type": "display_data"
    },
    {
     "name": "stdout",
     "output_type": "stream",
     "text": [
      "Epoch 267 done — avg loss: 3.148539\n"
     ]
    },
    {
     "data": {
      "application/vnd.jupyter.widget-view+json": {
       "model_id": "59d084b82aa1407f84d021b7414235ea",
       "version_major": 2,
       "version_minor": 0
      },
      "text/plain": [
       "Epoch 268:   0%|          | 0/25 [00:00<?, ?it/s]"
      ]
     },
     "metadata": {},
     "output_type": "display_data"
    },
    {
     "name": "stdout",
     "output_type": "stream",
     "text": [
      "Epoch 268 done — avg loss: 3.146359\n"
     ]
    },
    {
     "data": {
      "application/vnd.jupyter.widget-view+json": {
       "model_id": "9f3e90e289374855b6d45e8704645d88",
       "version_major": 2,
       "version_minor": 0
      },
      "text/plain": [
       "Epoch 269:   0%|          | 0/25 [00:00<?, ?it/s]"
      ]
     },
     "metadata": {},
     "output_type": "display_data"
    },
    {
     "name": "stdout",
     "output_type": "stream",
     "text": [
      "Epoch 269 done — avg loss: 3.145393\n"
     ]
    },
    {
     "data": {
      "application/vnd.jupyter.widget-view+json": {
       "model_id": "3b0f563ede78434d99b9648b8f6f1553",
       "version_major": 2,
       "version_minor": 0
      },
      "text/plain": [
       "Epoch 270:   0%|          | 0/25 [00:00<?, ?it/s]"
      ]
     },
     "metadata": {},
     "output_type": "display_data"
    },
    {
     "name": "stdout",
     "output_type": "stream",
     "text": [
      "Epoch 270 done — avg loss: 3.143277\n"
     ]
    },
    {
     "data": {
      "application/vnd.jupyter.widget-view+json": {
       "model_id": "7ba4527d62c046ce846af475539de2bd",
       "version_major": 2,
       "version_minor": 0
      },
      "text/plain": [
       "Epoch 271:   0%|          | 0/25 [00:00<?, ?it/s]"
      ]
     },
     "metadata": {},
     "output_type": "display_data"
    },
    {
     "name": "stdout",
     "output_type": "stream",
     "text": [
      "Epoch 271 done — avg loss: 3.141403\n"
     ]
    },
    {
     "data": {
      "application/vnd.jupyter.widget-view+json": {
       "model_id": "2a85b08079074305b88031b8746e59e0",
       "version_major": 2,
       "version_minor": 0
      },
      "text/plain": [
       "Epoch 272:   0%|          | 0/25 [00:00<?, ?it/s]"
      ]
     },
     "metadata": {},
     "output_type": "display_data"
    },
    {
     "name": "stdout",
     "output_type": "stream",
     "text": [
      "Epoch 272 done — avg loss: 3.141143\n"
     ]
    },
    {
     "data": {
      "application/vnd.jupyter.widget-view+json": {
       "model_id": "288c4e19c26a4d46b64842ea64cc9726",
       "version_major": 2,
       "version_minor": 0
      },
      "text/plain": [
       "Epoch 273:   0%|          | 0/25 [00:00<?, ?it/s]"
      ]
     },
     "metadata": {},
     "output_type": "display_data"
    },
    {
     "name": "stdout",
     "output_type": "stream",
     "text": [
      "Epoch 273 done — avg loss: 3.140070\n"
     ]
    },
    {
     "data": {
      "application/vnd.jupyter.widget-view+json": {
       "model_id": "2b2975ba49924fd38908d06597c1e8c8",
       "version_major": 2,
       "version_minor": 0
      },
      "text/plain": [
       "Epoch 274:   0%|          | 0/25 [00:00<?, ?it/s]"
      ]
     },
     "metadata": {},
     "output_type": "display_data"
    },
    {
     "name": "stdout",
     "output_type": "stream",
     "text": [
      "Epoch 274 done — avg loss: 3.138491\n"
     ]
    },
    {
     "data": {
      "application/vnd.jupyter.widget-view+json": {
       "model_id": "61e49c9d62f743438ff71581334eb5ad",
       "version_major": 2,
       "version_minor": 0
      },
      "text/plain": [
       "Epoch 275:   0%|          | 0/25 [00:00<?, ?it/s]"
      ]
     },
     "metadata": {},
     "output_type": "display_data"
    },
    {
     "name": "stdout",
     "output_type": "stream",
     "text": [
      "Epoch 275 done — avg loss: 3.138437\n"
     ]
    },
    {
     "data": {
      "application/vnd.jupyter.widget-view+json": {
       "model_id": "3bf56a6dfe6c43978d1fe361530c2253",
       "version_major": 2,
       "version_minor": 0
      },
      "text/plain": [
       "Epoch 276:   0%|          | 0/25 [00:00<?, ?it/s]"
      ]
     },
     "metadata": {},
     "output_type": "display_data"
    },
    {
     "name": "stdout",
     "output_type": "stream",
     "text": [
      "Epoch 276 done — avg loss: 3.137374\n"
     ]
    },
    {
     "data": {
      "application/vnd.jupyter.widget-view+json": {
       "model_id": "b3cb199078b740a4a0c837af395b608f",
       "version_major": 2,
       "version_minor": 0
      },
      "text/plain": [
       "Epoch 277:   0%|          | 0/25 [00:00<?, ?it/s]"
      ]
     },
     "metadata": {},
     "output_type": "display_data"
    },
    {
     "name": "stdout",
     "output_type": "stream",
     "text": [
      "Epoch 277 done — avg loss: 3.135266\n"
     ]
    },
    {
     "data": {
      "application/vnd.jupyter.widget-view+json": {
       "model_id": "5ba2c631acb64e359396a045e789d633",
       "version_major": 2,
       "version_minor": 0
      },
      "text/plain": [
       "Epoch 278:   0%|          | 0/25 [00:00<?, ?it/s]"
      ]
     },
     "metadata": {},
     "output_type": "display_data"
    },
    {
     "name": "stdout",
     "output_type": "stream",
     "text": [
      "Epoch 278 done — avg loss: 3.135942\n"
     ]
    },
    {
     "data": {
      "application/vnd.jupyter.widget-view+json": {
       "model_id": "063ea1371be2479fbdb4fda4e304240f",
       "version_major": 2,
       "version_minor": 0
      },
      "text/plain": [
       "Epoch 279:   0%|          | 0/25 [00:00<?, ?it/s]"
      ]
     },
     "metadata": {},
     "output_type": "display_data"
    },
    {
     "name": "stdout",
     "output_type": "stream",
     "text": [
      "Epoch 279 done — avg loss: 3.133139\n"
     ]
    },
    {
     "data": {
      "application/vnd.jupyter.widget-view+json": {
       "model_id": "f7428b72e23c436b974108221e86d51a",
       "version_major": 2,
       "version_minor": 0
      },
      "text/plain": [
       "Epoch 280:   0%|          | 0/25 [00:00<?, ?it/s]"
      ]
     },
     "metadata": {},
     "output_type": "display_data"
    },
    {
     "name": "stdout",
     "output_type": "stream",
     "text": [
      "Epoch 280 done — avg loss: 3.132055\n"
     ]
    },
    {
     "data": {
      "application/vnd.jupyter.widget-view+json": {
       "model_id": "ae9b9a0a30bc4fd189455860d1cd8cdf",
       "version_major": 2,
       "version_minor": 0
      },
      "text/plain": [
       "Epoch 281:   0%|          | 0/25 [00:00<?, ?it/s]"
      ]
     },
     "metadata": {},
     "output_type": "display_data"
    },
    {
     "name": "stdout",
     "output_type": "stream",
     "text": [
      "Epoch 281 done — avg loss: 3.131417\n"
     ]
    },
    {
     "data": {
      "application/vnd.jupyter.widget-view+json": {
       "model_id": "1ee7233c0cb549159ad1ef57f1a35c08",
       "version_major": 2,
       "version_minor": 0
      },
      "text/plain": [
       "Epoch 282:   0%|          | 0/25 [00:00<?, ?it/s]"
      ]
     },
     "metadata": {},
     "output_type": "display_data"
    },
    {
     "name": "stdout",
     "output_type": "stream",
     "text": [
      "Epoch 282 done — avg loss: 3.129847\n"
     ]
    },
    {
     "data": {
      "application/vnd.jupyter.widget-view+json": {
       "model_id": "93036cea3f484930a31c052e179f8638",
       "version_major": 2,
       "version_minor": 0
      },
      "text/plain": [
       "Epoch 283:   0%|          | 0/25 [00:00<?, ?it/s]"
      ]
     },
     "metadata": {},
     "output_type": "display_data"
    },
    {
     "name": "stdout",
     "output_type": "stream",
     "text": [
      "Epoch 283 done — avg loss: 3.127915\n"
     ]
    },
    {
     "data": {
      "application/vnd.jupyter.widget-view+json": {
       "model_id": "b645b30f55fc4d0b80ccba168427217f",
       "version_major": 2,
       "version_minor": 0
      },
      "text/plain": [
       "Epoch 284:   0%|          | 0/25 [00:00<?, ?it/s]"
      ]
     },
     "metadata": {},
     "output_type": "display_data"
    },
    {
     "name": "stdout",
     "output_type": "stream",
     "text": [
      "Epoch 284 done — avg loss: 3.127322\n"
     ]
    },
    {
     "data": {
      "application/vnd.jupyter.widget-view+json": {
       "model_id": "e05245671d8c4114b523cfb46f7c5f01",
       "version_major": 2,
       "version_minor": 0
      },
      "text/plain": [
       "Epoch 285:   0%|          | 0/25 [00:00<?, ?it/s]"
      ]
     },
     "metadata": {},
     "output_type": "display_data"
    },
    {
     "name": "stdout",
     "output_type": "stream",
     "text": [
      "Epoch 285 done — avg loss: 3.125762\n"
     ]
    },
    {
     "data": {
      "application/vnd.jupyter.widget-view+json": {
       "model_id": "77cb3977a46542148fc58d38d3d7b04c",
       "version_major": 2,
       "version_minor": 0
      },
      "text/plain": [
       "Epoch 286:   0%|          | 0/25 [00:00<?, ?it/s]"
      ]
     },
     "metadata": {},
     "output_type": "display_data"
    },
    {
     "name": "stdout",
     "output_type": "stream",
     "text": [
      "Epoch 286 done — avg loss: 3.125052\n"
     ]
    },
    {
     "data": {
      "application/vnd.jupyter.widget-view+json": {
       "model_id": "1b280fa49e6b489bb84c6a1f9ee84b4c",
       "version_major": 2,
       "version_minor": 0
      },
      "text/plain": [
       "Epoch 287:   0%|          | 0/25 [00:00<?, ?it/s]"
      ]
     },
     "metadata": {},
     "output_type": "display_data"
    },
    {
     "name": "stdout",
     "output_type": "stream",
     "text": [
      "Epoch 287 done — avg loss: 3.123180\n"
     ]
    },
    {
     "data": {
      "application/vnd.jupyter.widget-view+json": {
       "model_id": "db5ee580a0f54fd3862262e29757215f",
       "version_major": 2,
       "version_minor": 0
      },
      "text/plain": [
       "Epoch 288:   0%|          | 0/25 [00:00<?, ?it/s]"
      ]
     },
     "metadata": {},
     "output_type": "display_data"
    },
    {
     "name": "stdout",
     "output_type": "stream",
     "text": [
      "Epoch 288 done — avg loss: 3.122818\n"
     ]
    },
    {
     "data": {
      "application/vnd.jupyter.widget-view+json": {
       "model_id": "0d1a247ea04e45059341e9e561940300",
       "version_major": 2,
       "version_minor": 0
      },
      "text/plain": [
       "Epoch 289:   0%|          | 0/25 [00:00<?, ?it/s]"
      ]
     },
     "metadata": {},
     "output_type": "display_data"
    },
    {
     "name": "stdout",
     "output_type": "stream",
     "text": [
      "Epoch 289 done — avg loss: 3.121871\n"
     ]
    },
    {
     "data": {
      "application/vnd.jupyter.widget-view+json": {
       "model_id": "a97a8d483cd049bca1afc52e644bf049",
       "version_major": 2,
       "version_minor": 0
      },
      "text/plain": [
       "Epoch 290:   0%|          | 0/25 [00:00<?, ?it/s]"
      ]
     },
     "metadata": {},
     "output_type": "display_data"
    },
    {
     "name": "stdout",
     "output_type": "stream",
     "text": [
      "Epoch 290 done — avg loss: 3.120476\n"
     ]
    },
    {
     "data": {
      "application/vnd.jupyter.widget-view+json": {
       "model_id": "a8c5587d9fe74bb099e378c1896e3bfb",
       "version_major": 2,
       "version_minor": 0
      },
      "text/plain": [
       "Epoch 291:   0%|          | 0/25 [00:00<?, ?it/s]"
      ]
     },
     "metadata": {},
     "output_type": "display_data"
    },
    {
     "name": "stdout",
     "output_type": "stream",
     "text": [
      "Epoch 291 done — avg loss: 3.120170\n"
     ]
    },
    {
     "data": {
      "application/vnd.jupyter.widget-view+json": {
       "model_id": "8d796aef855949caac1e6e1373cfd6b1",
       "version_major": 2,
       "version_minor": 0
      },
      "text/plain": [
       "Epoch 292:   0%|          | 0/25 [00:00<?, ?it/s]"
      ]
     },
     "metadata": {},
     "output_type": "display_data"
    },
    {
     "name": "stdout",
     "output_type": "stream",
     "text": [
      "Epoch 292 done — avg loss: 3.118889\n"
     ]
    },
    {
     "data": {
      "application/vnd.jupyter.widget-view+json": {
       "model_id": "98182a59ab49493d9a68646447452a68",
       "version_major": 2,
       "version_minor": 0
      },
      "text/plain": [
       "Epoch 293:   0%|          | 0/25 [00:00<?, ?it/s]"
      ]
     },
     "metadata": {},
     "output_type": "display_data"
    },
    {
     "name": "stdout",
     "output_type": "stream",
     "text": [
      "Epoch 293 done — avg loss: 3.117864\n"
     ]
    },
    {
     "data": {
      "application/vnd.jupyter.widget-view+json": {
       "model_id": "055f6d51981644d79705f761254cba54",
       "version_major": 2,
       "version_minor": 0
      },
      "text/plain": [
       "Epoch 294:   0%|          | 0/25 [00:00<?, ?it/s]"
      ]
     },
     "metadata": {},
     "output_type": "display_data"
    },
    {
     "name": "stdout",
     "output_type": "stream",
     "text": [
      "Epoch 294 done — avg loss: 3.116067\n"
     ]
    },
    {
     "data": {
      "application/vnd.jupyter.widget-view+json": {
       "model_id": "a1cea6bd13654040b9c233cb12b9cb63",
       "version_major": 2,
       "version_minor": 0
      },
      "text/plain": [
       "Epoch 295:   0%|          | 0/25 [00:00<?, ?it/s]"
      ]
     },
     "metadata": {},
     "output_type": "display_data"
    },
    {
     "name": "stdout",
     "output_type": "stream",
     "text": [
      "Epoch 295 done — avg loss: 3.114903\n"
     ]
    },
    {
     "data": {
      "application/vnd.jupyter.widget-view+json": {
       "model_id": "c58b2ba0e6834fab8cd4ca1b800dd541",
       "version_major": 2,
       "version_minor": 0
      },
      "text/plain": [
       "Epoch 296:   0%|          | 0/25 [00:00<?, ?it/s]"
      ]
     },
     "metadata": {},
     "output_type": "display_data"
    },
    {
     "name": "stdout",
     "output_type": "stream",
     "text": [
      "Epoch 296 done — avg loss: 3.114414\n"
     ]
    },
    {
     "data": {
      "application/vnd.jupyter.widget-view+json": {
       "model_id": "416b0c68ff9d4e8c80f0c0992783f818",
       "version_major": 2,
       "version_minor": 0
      },
      "text/plain": [
       "Epoch 297:   0%|          | 0/25 [00:00<?, ?it/s]"
      ]
     },
     "metadata": {},
     "output_type": "display_data"
    },
    {
     "name": "stdout",
     "output_type": "stream",
     "text": [
      "Epoch 297 done — avg loss: 3.112078\n"
     ]
    },
    {
     "data": {
      "application/vnd.jupyter.widget-view+json": {
       "model_id": "614dd591555c4fa2b406fe170888a785",
       "version_major": 2,
       "version_minor": 0
      },
      "text/plain": [
       "Epoch 298:   0%|          | 0/25 [00:00<?, ?it/s]"
      ]
     },
     "metadata": {},
     "output_type": "display_data"
    },
    {
     "name": "stdout",
     "output_type": "stream",
     "text": [
      "Epoch 298 done — avg loss: 3.110643\n"
     ]
    },
    {
     "data": {
      "application/vnd.jupyter.widget-view+json": {
       "model_id": "e8a0f54cb15549c0a8ab1834c7664c91",
       "version_major": 2,
       "version_minor": 0
      },
      "text/plain": [
       "Epoch 299:   0%|          | 0/25 [00:00<?, ?it/s]"
      ]
     },
     "metadata": {},
     "output_type": "display_data"
    },
    {
     "name": "stdout",
     "output_type": "stream",
     "text": [
      "Epoch 299 done — avg loss: 3.110008\n"
     ]
    },
    {
     "data": {
      "application/vnd.jupyter.widget-view+json": {
       "model_id": "773f4a12f7fa495a9868f19b2113afa1",
       "version_major": 2,
       "version_minor": 0
      },
      "text/plain": [
       "Epoch 300:   0%|          | 0/25 [00:00<?, ?it/s]"
      ]
     },
     "metadata": {},
     "output_type": "display_data"
    },
    {
     "name": "stdout",
     "output_type": "stream",
     "text": [
      "Epoch 300 done — avg loss: 3.108469\n"
     ]
    },
    {
     "data": {
      "application/vnd.jupyter.widget-view+json": {
       "model_id": "527562bbedce4ae6a2bbae3ce308c4da",
       "version_major": 2,
       "version_minor": 0
      },
      "text/plain": [
       "Epoch 301:   0%|          | 0/25 [00:00<?, ?it/s]"
      ]
     },
     "metadata": {},
     "output_type": "display_data"
    },
    {
     "name": "stdout",
     "output_type": "stream",
     "text": [
      "Epoch 301 done — avg loss: 3.108195\n"
     ]
    },
    {
     "data": {
      "application/vnd.jupyter.widget-view+json": {
       "model_id": "63322b33eec44ec2a4a92ca251c326e2",
       "version_major": 2,
       "version_minor": 0
      },
      "text/plain": [
       "Epoch 302:   0%|          | 0/25 [00:00<?, ?it/s]"
      ]
     },
     "metadata": {},
     "output_type": "display_data"
    },
    {
     "name": "stdout",
     "output_type": "stream",
     "text": [
      "Epoch 302 done — avg loss: 3.107998\n"
     ]
    },
    {
     "data": {
      "application/vnd.jupyter.widget-view+json": {
       "model_id": "04bf851c4ee94270be9d5ff8a617ce86",
       "version_major": 2,
       "version_minor": 0
      },
      "text/plain": [
       "Epoch 303:   0%|          | 0/25 [00:00<?, ?it/s]"
      ]
     },
     "metadata": {},
     "output_type": "display_data"
    },
    {
     "name": "stdout",
     "output_type": "stream",
     "text": [
      "Epoch 303 done — avg loss: 3.105351\n"
     ]
    },
    {
     "data": {
      "application/vnd.jupyter.widget-view+json": {
       "model_id": "000662b0412e4e088435b6bf6c596e93",
       "version_major": 2,
       "version_minor": 0
      },
      "text/plain": [
       "Epoch 304:   0%|          | 0/25 [00:00<?, ?it/s]"
      ]
     },
     "metadata": {},
     "output_type": "display_data"
    },
    {
     "name": "stdout",
     "output_type": "stream",
     "text": [
      "Epoch 304 done — avg loss: 3.104635\n"
     ]
    },
    {
     "data": {
      "application/vnd.jupyter.widget-view+json": {
       "model_id": "ed950f78254c4656bb4e18341ec11229",
       "version_major": 2,
       "version_minor": 0
      },
      "text/plain": [
       "Epoch 305:   0%|          | 0/25 [00:00<?, ?it/s]"
      ]
     },
     "metadata": {},
     "output_type": "display_data"
    },
    {
     "name": "stdout",
     "output_type": "stream",
     "text": [
      "Epoch 305 done — avg loss: 3.103151\n"
     ]
    },
    {
     "data": {
      "application/vnd.jupyter.widget-view+json": {
       "model_id": "09c8bf4fd6a14939a15c98dbee8e5534",
       "version_major": 2,
       "version_minor": 0
      },
      "text/plain": [
       "Epoch 306:   0%|          | 0/25 [00:00<?, ?it/s]"
      ]
     },
     "metadata": {},
     "output_type": "display_data"
    },
    {
     "name": "stdout",
     "output_type": "stream",
     "text": [
      "Epoch 306 done — avg loss: 3.102011\n"
     ]
    },
    {
     "data": {
      "application/vnd.jupyter.widget-view+json": {
       "model_id": "835829469ac54469a9b4580508d575f7",
       "version_major": 2,
       "version_minor": 0
      },
      "text/plain": [
       "Epoch 307:   0%|          | 0/25 [00:00<?, ?it/s]"
      ]
     },
     "metadata": {},
     "output_type": "display_data"
    },
    {
     "name": "stdout",
     "output_type": "stream",
     "text": [
      "Epoch 307 done — avg loss: 3.101728\n"
     ]
    },
    {
     "data": {
      "application/vnd.jupyter.widget-view+json": {
       "model_id": "1b69ea17f05b496e988204d9a1b1053d",
       "version_major": 2,
       "version_minor": 0
      },
      "text/plain": [
       "Epoch 308:   0%|          | 0/25 [00:00<?, ?it/s]"
      ]
     },
     "metadata": {},
     "output_type": "display_data"
    },
    {
     "name": "stdout",
     "output_type": "stream",
     "text": [
      "Epoch 308 done — avg loss: 3.100751\n"
     ]
    },
    {
     "data": {
      "application/vnd.jupyter.widget-view+json": {
       "model_id": "f594b296f56a46828d59afc628103cde",
       "version_major": 2,
       "version_minor": 0
      },
      "text/plain": [
       "Epoch 309:   0%|          | 0/25 [00:00<?, ?it/s]"
      ]
     },
     "metadata": {},
     "output_type": "display_data"
    },
    {
     "name": "stdout",
     "output_type": "stream",
     "text": [
      "Epoch 309 done — avg loss: 3.099647\n"
     ]
    },
    {
     "data": {
      "application/vnd.jupyter.widget-view+json": {
       "model_id": "de94cb418c974c438c66636fa673d471",
       "version_major": 2,
       "version_minor": 0
      },
      "text/plain": [
       "Epoch 310:   0%|          | 0/25 [00:00<?, ?it/s]"
      ]
     },
     "metadata": {},
     "output_type": "display_data"
    },
    {
     "name": "stdout",
     "output_type": "stream",
     "text": [
      "Epoch 310 done — avg loss: 3.098393\n"
     ]
    },
    {
     "data": {
      "application/vnd.jupyter.widget-view+json": {
       "model_id": "8a177363bb2f44e9af674dc1a3beb44e",
       "version_major": 2,
       "version_minor": 0
      },
      "text/plain": [
       "Epoch 311:   0%|          | 0/25 [00:00<?, ?it/s]"
      ]
     },
     "metadata": {},
     "output_type": "display_data"
    },
    {
     "name": "stdout",
     "output_type": "stream",
     "text": [
      "Epoch 311 done — avg loss: 3.096580\n"
     ]
    },
    {
     "data": {
      "application/vnd.jupyter.widget-view+json": {
       "model_id": "67489e9172aa4819b911913a12cb582f",
       "version_major": 2,
       "version_minor": 0
      },
      "text/plain": [
       "Epoch 312:   0%|          | 0/25 [00:00<?, ?it/s]"
      ]
     },
     "metadata": {},
     "output_type": "display_data"
    },
    {
     "name": "stdout",
     "output_type": "stream",
     "text": [
      "Epoch 312 done — avg loss: 3.096940\n"
     ]
    },
    {
     "data": {
      "application/vnd.jupyter.widget-view+json": {
       "model_id": "d07cd9cedbc94733ba5df61319c9fbac",
       "version_major": 2,
       "version_minor": 0
      },
      "text/plain": [
       "Epoch 313:   0%|          | 0/25 [00:00<?, ?it/s]"
      ]
     },
     "metadata": {},
     "output_type": "display_data"
    },
    {
     "name": "stdout",
     "output_type": "stream",
     "text": [
      "Epoch 313 done — avg loss: 3.094855\n"
     ]
    },
    {
     "data": {
      "application/vnd.jupyter.widget-view+json": {
       "model_id": "7a2e583899fb4bcab0cbd2206aa7b9f0",
       "version_major": 2,
       "version_minor": 0
      },
      "text/plain": [
       "Epoch 314:   0%|          | 0/25 [00:00<?, ?it/s]"
      ]
     },
     "metadata": {},
     "output_type": "display_data"
    },
    {
     "name": "stdout",
     "output_type": "stream",
     "text": [
      "Epoch 314 done — avg loss: 3.093839\n"
     ]
    },
    {
     "data": {
      "application/vnd.jupyter.widget-view+json": {
       "model_id": "7057983962fd46c186ed3db365d3eb5f",
       "version_major": 2,
       "version_minor": 0
      },
      "text/plain": [
       "Epoch 315:   0%|          | 0/25 [00:00<?, ?it/s]"
      ]
     },
     "metadata": {},
     "output_type": "display_data"
    },
    {
     "name": "stdout",
     "output_type": "stream",
     "text": [
      "Epoch 315 done — avg loss: 3.092260\n"
     ]
    },
    {
     "data": {
      "application/vnd.jupyter.widget-view+json": {
       "model_id": "9f220c6252de44ac8cca2fa5caa7eced",
       "version_major": 2,
       "version_minor": 0
      },
      "text/plain": [
       "Epoch 316:   0%|          | 0/25 [00:00<?, ?it/s]"
      ]
     },
     "metadata": {},
     "output_type": "display_data"
    },
    {
     "name": "stdout",
     "output_type": "stream",
     "text": [
      "Epoch 316 done — avg loss: 3.091560\n"
     ]
    },
    {
     "data": {
      "application/vnd.jupyter.widget-view+json": {
       "model_id": "ac1f9f5073d14bfca4ec443596f987fe",
       "version_major": 2,
       "version_minor": 0
      },
      "text/plain": [
       "Epoch 317:   0%|          | 0/25 [00:00<?, ?it/s]"
      ]
     },
     "metadata": {},
     "output_type": "display_data"
    },
    {
     "name": "stdout",
     "output_type": "stream",
     "text": [
      "Epoch 317 done — avg loss: 3.090356\n"
     ]
    },
    {
     "data": {
      "application/vnd.jupyter.widget-view+json": {
       "model_id": "0d491d0d9dec4fbcb4c081804362da29",
       "version_major": 2,
       "version_minor": 0
      },
      "text/plain": [
       "Epoch 318:   0%|          | 0/25 [00:00<?, ?it/s]"
      ]
     },
     "metadata": {},
     "output_type": "display_data"
    },
    {
     "name": "stdout",
     "output_type": "stream",
     "text": [
      "Epoch 318 done — avg loss: 3.090605\n"
     ]
    },
    {
     "data": {
      "application/vnd.jupyter.widget-view+json": {
       "model_id": "7753ab7683b844499c2aea88e8274c51",
       "version_major": 2,
       "version_minor": 0
      },
      "text/plain": [
       "Epoch 319:   0%|          | 0/25 [00:00<?, ?it/s]"
      ]
     },
     "metadata": {},
     "output_type": "display_data"
    },
    {
     "name": "stdout",
     "output_type": "stream",
     "text": [
      "Epoch 319 done — avg loss: 3.088177\n"
     ]
    },
    {
     "data": {
      "application/vnd.jupyter.widget-view+json": {
       "model_id": "ecd4b9c9895a4cba8503ee9cad7c8b15",
       "version_major": 2,
       "version_minor": 0
      },
      "text/plain": [
       "Epoch 320:   0%|          | 0/25 [00:00<?, ?it/s]"
      ]
     },
     "metadata": {},
     "output_type": "display_data"
    },
    {
     "name": "stdout",
     "output_type": "stream",
     "text": [
      "Epoch 320 done — avg loss: 3.087912\n"
     ]
    },
    {
     "data": {
      "application/vnd.jupyter.widget-view+json": {
       "model_id": "f70ce9a24eab4f82aa5391c397bdd311",
       "version_major": 2,
       "version_minor": 0
      },
      "text/plain": [
       "Epoch 321:   0%|          | 0/25 [00:00<?, ?it/s]"
      ]
     },
     "metadata": {},
     "output_type": "display_data"
    },
    {
     "name": "stdout",
     "output_type": "stream",
     "text": [
      "Epoch 321 done — avg loss: 3.086094\n"
     ]
    },
    {
     "data": {
      "application/vnd.jupyter.widget-view+json": {
       "model_id": "e9db7ff2aff24d72b81903900125eb1c",
       "version_major": 2,
       "version_minor": 0
      },
      "text/plain": [
       "Epoch 322:   0%|          | 0/25 [00:00<?, ?it/s]"
      ]
     },
     "metadata": {},
     "output_type": "display_data"
    },
    {
     "name": "stdout",
     "output_type": "stream",
     "text": [
      "Epoch 322 done — avg loss: 3.085033\n"
     ]
    },
    {
     "data": {
      "application/vnd.jupyter.widget-view+json": {
       "model_id": "4ef80b3db19d4aa18c5e435d1e0ca27d",
       "version_major": 2,
       "version_minor": 0
      },
      "text/plain": [
       "Epoch 323:   0%|          | 0/25 [00:00<?, ?it/s]"
      ]
     },
     "metadata": {},
     "output_type": "display_data"
    },
    {
     "name": "stdout",
     "output_type": "stream",
     "text": [
      "Epoch 323 done — avg loss: 3.084272\n"
     ]
    },
    {
     "data": {
      "application/vnd.jupyter.widget-view+json": {
       "model_id": "9c57eb05b6bf499c89c523b2c6d6e78c",
       "version_major": 2,
       "version_minor": 0
      },
      "text/plain": [
       "Epoch 324:   0%|          | 0/25 [00:00<?, ?it/s]"
      ]
     },
     "metadata": {},
     "output_type": "display_data"
    },
    {
     "name": "stdout",
     "output_type": "stream",
     "text": [
      "Epoch 324 done — avg loss: 3.083304\n"
     ]
    },
    {
     "data": {
      "application/vnd.jupyter.widget-view+json": {
       "model_id": "3c374aa2bec9498d8dcf55a66d903dda",
       "version_major": 2,
       "version_minor": 0
      },
      "text/plain": [
       "Epoch 325:   0%|          | 0/25 [00:00<?, ?it/s]"
      ]
     },
     "metadata": {},
     "output_type": "display_data"
    },
    {
     "name": "stdout",
     "output_type": "stream",
     "text": [
      "Epoch 325 done — avg loss: 3.083291\n"
     ]
    },
    {
     "data": {
      "application/vnd.jupyter.widget-view+json": {
       "model_id": "f2cc1af0c053401880d77493c4375fd6",
       "version_major": 2,
       "version_minor": 0
      },
      "text/plain": [
       "Epoch 326:   0%|          | 0/25 [00:00<?, ?it/s]"
      ]
     },
     "metadata": {},
     "output_type": "display_data"
    },
    {
     "name": "stdout",
     "output_type": "stream",
     "text": [
      "Epoch 326 done — avg loss: 3.081849\n"
     ]
    },
    {
     "data": {
      "application/vnd.jupyter.widget-view+json": {
       "model_id": "6baa6ca4ea6a415bad18d9420ce042ab",
       "version_major": 2,
       "version_minor": 0
      },
      "text/plain": [
       "Epoch 327:   0%|          | 0/25 [00:00<?, ?it/s]"
      ]
     },
     "metadata": {},
     "output_type": "display_data"
    },
    {
     "name": "stdout",
     "output_type": "stream",
     "text": [
      "Epoch 327 done — avg loss: 3.080368\n"
     ]
    },
    {
     "data": {
      "application/vnd.jupyter.widget-view+json": {
       "model_id": "d133a952cd2846e8a90afd0e0dc6c70c",
       "version_major": 2,
       "version_minor": 0
      },
      "text/plain": [
       "Epoch 328:   0%|          | 0/25 [00:00<?, ?it/s]"
      ]
     },
     "metadata": {},
     "output_type": "display_data"
    },
    {
     "name": "stdout",
     "output_type": "stream",
     "text": [
      "Epoch 328 done — avg loss: 3.079067\n"
     ]
    },
    {
     "data": {
      "application/vnd.jupyter.widget-view+json": {
       "model_id": "6f3602dad9044fae9337eb8e0b3dd309",
       "version_major": 2,
       "version_minor": 0
      },
      "text/plain": [
       "Epoch 329:   0%|          | 0/25 [00:00<?, ?it/s]"
      ]
     },
     "metadata": {},
     "output_type": "display_data"
    },
    {
     "name": "stdout",
     "output_type": "stream",
     "text": [
      "Epoch 329 done — avg loss: 3.077543\n"
     ]
    },
    {
     "data": {
      "application/vnd.jupyter.widget-view+json": {
       "model_id": "c4d3cef6379c4b25b29556f49d851809",
       "version_major": 2,
       "version_minor": 0
      },
      "text/plain": [
       "Epoch 330:   0%|          | 0/25 [00:00<?, ?it/s]"
      ]
     },
     "metadata": {},
     "output_type": "display_data"
    },
    {
     "name": "stdout",
     "output_type": "stream",
     "text": [
      "Epoch 330 done — avg loss: 3.076868\n"
     ]
    },
    {
     "data": {
      "application/vnd.jupyter.widget-view+json": {
       "model_id": "3c83d15be39a48bfa6ca4dc9f07c8eb7",
       "version_major": 2,
       "version_minor": 0
      },
      "text/plain": [
       "Epoch 331:   0%|          | 0/25 [00:00<?, ?it/s]"
      ]
     },
     "metadata": {},
     "output_type": "display_data"
    },
    {
     "name": "stdout",
     "output_type": "stream",
     "text": [
      "Epoch 331 done — avg loss: 3.076002\n"
     ]
    },
    {
     "data": {
      "application/vnd.jupyter.widget-view+json": {
       "model_id": "308dab34e28140cda1153cc8d17f373b",
       "version_major": 2,
       "version_minor": 0
      },
      "text/plain": [
       "Epoch 332:   0%|          | 0/25 [00:00<?, ?it/s]"
      ]
     },
     "metadata": {},
     "output_type": "display_data"
    },
    {
     "name": "stdout",
     "output_type": "stream",
     "text": [
      "Epoch 332 done — avg loss: 3.074175\n"
     ]
    },
    {
     "data": {
      "application/vnd.jupyter.widget-view+json": {
       "model_id": "8e9f77bfba484b4288d5dee42c72dd42",
       "version_major": 2,
       "version_minor": 0
      },
      "text/plain": [
       "Epoch 333:   0%|          | 0/25 [00:00<?, ?it/s]"
      ]
     },
     "metadata": {},
     "output_type": "display_data"
    },
    {
     "name": "stdout",
     "output_type": "stream",
     "text": [
      "Epoch 333 done — avg loss: 3.073041\n"
     ]
    },
    {
     "data": {
      "application/vnd.jupyter.widget-view+json": {
       "model_id": "429438e781b047ef9570582b628f979d",
       "version_major": 2,
       "version_minor": 0
      },
      "text/plain": [
       "Epoch 334:   0%|          | 0/25 [00:00<?, ?it/s]"
      ]
     },
     "metadata": {},
     "output_type": "display_data"
    },
    {
     "name": "stdout",
     "output_type": "stream",
     "text": [
      "Epoch 334 done — avg loss: 3.073240\n"
     ]
    },
    {
     "data": {
      "application/vnd.jupyter.widget-view+json": {
       "model_id": "2b0c82a792934c9d96872c4911640f4d",
       "version_major": 2,
       "version_minor": 0
      },
      "text/plain": [
       "Epoch 335:   0%|          | 0/25 [00:00<?, ?it/s]"
      ]
     },
     "metadata": {},
     "output_type": "display_data"
    },
    {
     "name": "stdout",
     "output_type": "stream",
     "text": [
      "Epoch 335 done — avg loss: 3.071042\n"
     ]
    },
    {
     "data": {
      "application/vnd.jupyter.widget-view+json": {
       "model_id": "130d176a9fab400caa5401fad5c735c0",
       "version_major": 2,
       "version_minor": 0
      },
      "text/plain": [
       "Epoch 336:   0%|          | 0/25 [00:00<?, ?it/s]"
      ]
     },
     "metadata": {},
     "output_type": "display_data"
    },
    {
     "name": "stdout",
     "output_type": "stream",
     "text": [
      "Epoch 336 done — avg loss: 3.070342\n"
     ]
    },
    {
     "data": {
      "application/vnd.jupyter.widget-view+json": {
       "model_id": "4dbb48cafef04fa0a95ee5ceb2ad99bf",
       "version_major": 2,
       "version_minor": 0
      },
      "text/plain": [
       "Epoch 337:   0%|          | 0/25 [00:00<?, ?it/s]"
      ]
     },
     "metadata": {},
     "output_type": "display_data"
    },
    {
     "name": "stdout",
     "output_type": "stream",
     "text": [
      "Epoch 337 done — avg loss: 3.068340\n"
     ]
    },
    {
     "data": {
      "application/vnd.jupyter.widget-view+json": {
       "model_id": "abe0db6a3f214815b147016ed716a524",
       "version_major": 2,
       "version_minor": 0
      },
      "text/plain": [
       "Epoch 338:   0%|          | 0/25 [00:00<?, ?it/s]"
      ]
     },
     "metadata": {},
     "output_type": "display_data"
    },
    {
     "name": "stdout",
     "output_type": "stream",
     "text": [
      "Epoch 338 done — avg loss: 3.068562\n"
     ]
    },
    {
     "data": {
      "application/vnd.jupyter.widget-view+json": {
       "model_id": "c30ddc78dd82475bbff81242efa31f2a",
       "version_major": 2,
       "version_minor": 0
      },
      "text/plain": [
       "Epoch 339:   0%|          | 0/25 [00:00<?, ?it/s]"
      ]
     },
     "metadata": {},
     "output_type": "display_data"
    },
    {
     "name": "stdout",
     "output_type": "stream",
     "text": [
      "Epoch 339 done — avg loss: 3.067042\n"
     ]
    },
    {
     "data": {
      "application/vnd.jupyter.widget-view+json": {
       "model_id": "931c4c6ee7f748a1bf57fe05b51da28d",
       "version_major": 2,
       "version_minor": 0
      },
      "text/plain": [
       "Epoch 340:   0%|          | 0/25 [00:00<?, ?it/s]"
      ]
     },
     "metadata": {},
     "output_type": "display_data"
    },
    {
     "name": "stdout",
     "output_type": "stream",
     "text": [
      "Epoch 340 done — avg loss: 3.065935\n"
     ]
    },
    {
     "data": {
      "application/vnd.jupyter.widget-view+json": {
       "model_id": "b3b9734423974a2dafa6d5a47d976ae9",
       "version_major": 2,
       "version_minor": 0
      },
      "text/plain": [
       "Epoch 341:   0%|          | 0/25 [00:00<?, ?it/s]"
      ]
     },
     "metadata": {},
     "output_type": "display_data"
    },
    {
     "name": "stdout",
     "output_type": "stream",
     "text": [
      "Epoch 341 done — avg loss: 3.066555\n"
     ]
    },
    {
     "data": {
      "application/vnd.jupyter.widget-view+json": {
       "model_id": "93a61c620b014f2bbe5a6c7794f2ddb2",
       "version_major": 2,
       "version_minor": 0
      },
      "text/plain": [
       "Epoch 342:   0%|          | 0/25 [00:00<?, ?it/s]"
      ]
     },
     "metadata": {},
     "output_type": "display_data"
    },
    {
     "name": "stdout",
     "output_type": "stream",
     "text": [
      "Epoch 342 done — avg loss: 3.064944\n"
     ]
    },
    {
     "data": {
      "application/vnd.jupyter.widget-view+json": {
       "model_id": "e1aaca2ec5244a5f8e0fba50465c4f56",
       "version_major": 2,
       "version_minor": 0
      },
      "text/plain": [
       "Epoch 343:   0%|          | 0/25 [00:00<?, ?it/s]"
      ]
     },
     "metadata": {},
     "output_type": "display_data"
    },
    {
     "name": "stdout",
     "output_type": "stream",
     "text": [
      "Epoch 343 done — avg loss: 3.063414\n"
     ]
    },
    {
     "data": {
      "application/vnd.jupyter.widget-view+json": {
       "model_id": "483abd9e82a645db80dbd161dc968241",
       "version_major": 2,
       "version_minor": 0
      },
      "text/plain": [
       "Epoch 344:   0%|          | 0/25 [00:00<?, ?it/s]"
      ]
     },
     "metadata": {},
     "output_type": "display_data"
    },
    {
     "name": "stdout",
     "output_type": "stream",
     "text": [
      "Epoch 344 done — avg loss: 3.061913\n"
     ]
    },
    {
     "data": {
      "application/vnd.jupyter.widget-view+json": {
       "model_id": "6ad86e6395ff4ece8b8e182144b9a8b9",
       "version_major": 2,
       "version_minor": 0
      },
      "text/plain": [
       "Epoch 345:   0%|          | 0/25 [00:00<?, ?it/s]"
      ]
     },
     "metadata": {},
     "output_type": "display_data"
    },
    {
     "name": "stdout",
     "output_type": "stream",
     "text": [
      "Epoch 345 done — avg loss: 3.060290\n"
     ]
    },
    {
     "data": {
      "application/vnd.jupyter.widget-view+json": {
       "model_id": "0f5b631f0af143f0ac0c8b055b50e287",
       "version_major": 2,
       "version_minor": 0
      },
      "text/plain": [
       "Epoch 346:   0%|          | 0/25 [00:00<?, ?it/s]"
      ]
     },
     "metadata": {},
     "output_type": "display_data"
    },
    {
     "name": "stdout",
     "output_type": "stream",
     "text": [
      "Epoch 346 done — avg loss: 3.059946\n"
     ]
    },
    {
     "data": {
      "application/vnd.jupyter.widget-view+json": {
       "model_id": "74d5a79c7c5543569b3791c70bac0a4d",
       "version_major": 2,
       "version_minor": 0
      },
      "text/plain": [
       "Epoch 347:   0%|          | 0/25 [00:00<?, ?it/s]"
      ]
     },
     "metadata": {},
     "output_type": "display_data"
    },
    {
     "name": "stdout",
     "output_type": "stream",
     "text": [
      "Epoch 347 done — avg loss: 3.058956\n"
     ]
    },
    {
     "data": {
      "application/vnd.jupyter.widget-view+json": {
       "model_id": "f63ddd1787264527ae5bf82de9500c70",
       "version_major": 2,
       "version_minor": 0
      },
      "text/plain": [
       "Epoch 348:   0%|          | 0/25 [00:00<?, ?it/s]"
      ]
     },
     "metadata": {},
     "output_type": "display_data"
    },
    {
     "name": "stdout",
     "output_type": "stream",
     "text": [
      "Epoch 348 done — avg loss: 3.058074\n"
     ]
    },
    {
     "data": {
      "application/vnd.jupyter.widget-view+json": {
       "model_id": "2f71a4d958264bc0981268ffd41e19ab",
       "version_major": 2,
       "version_minor": 0
      },
      "text/plain": [
       "Epoch 349:   0%|          | 0/25 [00:00<?, ?it/s]"
      ]
     },
     "metadata": {},
     "output_type": "display_data"
    },
    {
     "name": "stdout",
     "output_type": "stream",
     "text": [
      "Epoch 349 done — avg loss: 3.056681\n"
     ]
    },
    {
     "data": {
      "application/vnd.jupyter.widget-view+json": {
       "model_id": "9523afa7c82a4eccb0aa11997337c166",
       "version_major": 2,
       "version_minor": 0
      },
      "text/plain": [
       "Epoch 350:   0%|          | 0/25 [00:00<?, ?it/s]"
      ]
     },
     "metadata": {},
     "output_type": "display_data"
    },
    {
     "name": "stdout",
     "output_type": "stream",
     "text": [
      "Epoch 350 done — avg loss: 3.055030\n"
     ]
    },
    {
     "data": {
      "application/vnd.jupyter.widget-view+json": {
       "model_id": "9805b9a240bd4841801a8a68d652f3d0",
       "version_major": 2,
       "version_minor": 0
      },
      "text/plain": [
       "Epoch 351:   0%|          | 0/25 [00:00<?, ?it/s]"
      ]
     },
     "metadata": {},
     "output_type": "display_data"
    },
    {
     "name": "stdout",
     "output_type": "stream",
     "text": [
      "Epoch 351 done — avg loss: 3.054712\n"
     ]
    },
    {
     "data": {
      "application/vnd.jupyter.widget-view+json": {
       "model_id": "8b44dc5c2c1949ebac47e62041f4587a",
       "version_major": 2,
       "version_minor": 0
      },
      "text/plain": [
       "Epoch 352:   0%|          | 0/25 [00:00<?, ?it/s]"
      ]
     },
     "metadata": {},
     "output_type": "display_data"
    },
    {
     "name": "stdout",
     "output_type": "stream",
     "text": [
      "Epoch 352 done — avg loss: 3.053022\n"
     ]
    },
    {
     "data": {
      "application/vnd.jupyter.widget-view+json": {
       "model_id": "e578e19ec6a24290a6773674a4e4da25",
       "version_major": 2,
       "version_minor": 0
      },
      "text/plain": [
       "Epoch 353:   0%|          | 0/25 [00:00<?, ?it/s]"
      ]
     },
     "metadata": {},
     "output_type": "display_data"
    },
    {
     "name": "stdout",
     "output_type": "stream",
     "text": [
      "Epoch 353 done — avg loss: 3.053579\n"
     ]
    },
    {
     "data": {
      "application/vnd.jupyter.widget-view+json": {
       "model_id": "e86b7f085e9d4c8f81afbc81155d9e80",
       "version_major": 2,
       "version_minor": 0
      },
      "text/plain": [
       "Epoch 354:   0%|          | 0/25 [00:00<?, ?it/s]"
      ]
     },
     "metadata": {},
     "output_type": "display_data"
    },
    {
     "name": "stdout",
     "output_type": "stream",
     "text": [
      "Epoch 354 done — avg loss: 3.052693\n"
     ]
    },
    {
     "data": {
      "application/vnd.jupyter.widget-view+json": {
       "model_id": "023431df4d96418189fa2edf8749e8db",
       "version_major": 2,
       "version_minor": 0
      },
      "text/plain": [
       "Epoch 355:   0%|          | 0/25 [00:00<?, ?it/s]"
      ]
     },
     "metadata": {},
     "output_type": "display_data"
    },
    {
     "name": "stdout",
     "output_type": "stream",
     "text": [
      "Epoch 355 done — avg loss: 3.050701\n"
     ]
    },
    {
     "data": {
      "application/vnd.jupyter.widget-view+json": {
       "model_id": "e3f046ca177441d0ba93bbfc7100bac3",
       "version_major": 2,
       "version_minor": 0
      },
      "text/plain": [
       "Epoch 356:   0%|          | 0/25 [00:00<?, ?it/s]"
      ]
     },
     "metadata": {},
     "output_type": "display_data"
    },
    {
     "name": "stdout",
     "output_type": "stream",
     "text": [
      "Epoch 356 done — avg loss: 3.048823\n"
     ]
    },
    {
     "data": {
      "application/vnd.jupyter.widget-view+json": {
       "model_id": "3a45cf81b60f46d7845a0cef861ce51c",
       "version_major": 2,
       "version_minor": 0
      },
      "text/plain": [
       "Epoch 357:   0%|          | 0/25 [00:00<?, ?it/s]"
      ]
     },
     "metadata": {},
     "output_type": "display_data"
    },
    {
     "name": "stdout",
     "output_type": "stream",
     "text": [
      "Epoch 357 done — avg loss: 3.048566\n"
     ]
    },
    {
     "data": {
      "application/vnd.jupyter.widget-view+json": {
       "model_id": "c0757e1eb4054ae48fbdb095691ff241",
       "version_major": 2,
       "version_minor": 0
      },
      "text/plain": [
       "Epoch 358:   0%|          | 0/25 [00:00<?, ?it/s]"
      ]
     },
     "metadata": {},
     "output_type": "display_data"
    },
    {
     "name": "stdout",
     "output_type": "stream",
     "text": [
      "Epoch 358 done — avg loss: 3.047347\n"
     ]
    },
    {
     "data": {
      "application/vnd.jupyter.widget-view+json": {
       "model_id": "fc30b3b31f774e6a894a52c08b982edb",
       "version_major": 2,
       "version_minor": 0
      },
      "text/plain": [
       "Epoch 359:   0%|          | 0/25 [00:00<?, ?it/s]"
      ]
     },
     "metadata": {},
     "output_type": "display_data"
    },
    {
     "name": "stdout",
     "output_type": "stream",
     "text": [
      "Epoch 359 done — avg loss: 3.045789\n"
     ]
    },
    {
     "data": {
      "application/vnd.jupyter.widget-view+json": {
       "model_id": "c2b322162f394358893d4e117928cd9d",
       "version_major": 2,
       "version_minor": 0
      },
      "text/plain": [
       "Epoch 360:   0%|          | 0/25 [00:00<?, ?it/s]"
      ]
     },
     "metadata": {},
     "output_type": "display_data"
    },
    {
     "name": "stdout",
     "output_type": "stream",
     "text": [
      "Epoch 360 done — avg loss: 3.046084\n"
     ]
    },
    {
     "data": {
      "application/vnd.jupyter.widget-view+json": {
       "model_id": "b1ba117febf74eef970cc242b5af6392",
       "version_major": 2,
       "version_minor": 0
      },
      "text/plain": [
       "Epoch 361:   0%|          | 0/25 [00:00<?, ?it/s]"
      ]
     },
     "metadata": {},
     "output_type": "display_data"
    },
    {
     "name": "stdout",
     "output_type": "stream",
     "text": [
      "Epoch 361 done — avg loss: 3.044635\n"
     ]
    },
    {
     "data": {
      "application/vnd.jupyter.widget-view+json": {
       "model_id": "166753867bfb4e1b8a1be1a4979cb31c",
       "version_major": 2,
       "version_minor": 0
      },
      "text/plain": [
       "Epoch 362:   0%|          | 0/25 [00:00<?, ?it/s]"
      ]
     },
     "metadata": {},
     "output_type": "display_data"
    },
    {
     "name": "stdout",
     "output_type": "stream",
     "text": [
      "Epoch 362 done — avg loss: 3.044850\n"
     ]
    },
    {
     "data": {
      "application/vnd.jupyter.widget-view+json": {
       "model_id": "4be934c24b764fe8abc71260bca281b3",
       "version_major": 2,
       "version_minor": 0
      },
      "text/plain": [
       "Epoch 363:   0%|          | 0/25 [00:00<?, ?it/s]"
      ]
     },
     "metadata": {},
     "output_type": "display_data"
    },
    {
     "name": "stdout",
     "output_type": "stream",
     "text": [
      "Epoch 363 done — avg loss: 3.044724\n"
     ]
    },
    {
     "data": {
      "application/vnd.jupyter.widget-view+json": {
       "model_id": "0ada81f6e54b49e3a6fdc1b9e1cc11fe",
       "version_major": 2,
       "version_minor": 0
      },
      "text/plain": [
       "Epoch 364:   0%|          | 0/25 [00:00<?, ?it/s]"
      ]
     },
     "metadata": {},
     "output_type": "display_data"
    },
    {
     "name": "stdout",
     "output_type": "stream",
     "text": [
      "Epoch 364 done — avg loss: 3.042828\n"
     ]
    },
    {
     "data": {
      "application/vnd.jupyter.widget-view+json": {
       "model_id": "4e0af29a05624037be2624f2f886f5cf",
       "version_major": 2,
       "version_minor": 0
      },
      "text/plain": [
       "Epoch 365:   0%|          | 0/25 [00:00<?, ?it/s]"
      ]
     },
     "metadata": {},
     "output_type": "display_data"
    },
    {
     "name": "stdout",
     "output_type": "stream",
     "text": [
      "Epoch 365 done — avg loss: 3.041286\n"
     ]
    },
    {
     "data": {
      "application/vnd.jupyter.widget-view+json": {
       "model_id": "ef42df833d3d489697337147029e31e8",
       "version_major": 2,
       "version_minor": 0
      },
      "text/plain": [
       "Epoch 366:   0%|          | 0/25 [00:00<?, ?it/s]"
      ]
     },
     "metadata": {},
     "output_type": "display_data"
    },
    {
     "name": "stdout",
     "output_type": "stream",
     "text": [
      "Epoch 366 done — avg loss: 3.040064\n"
     ]
    },
    {
     "data": {
      "application/vnd.jupyter.widget-view+json": {
       "model_id": "7c270f42c2c54a2a99b3e8fed0f521db",
       "version_major": 2,
       "version_minor": 0
      },
      "text/plain": [
       "Epoch 367:   0%|          | 0/25 [00:00<?, ?it/s]"
      ]
     },
     "metadata": {},
     "output_type": "display_data"
    },
    {
     "name": "stdout",
     "output_type": "stream",
     "text": [
      "Epoch 367 done — avg loss: 3.037515\n"
     ]
    },
    {
     "data": {
      "application/vnd.jupyter.widget-view+json": {
       "model_id": "1b481772ad904c53bbc55a4a5ad8b577",
       "version_major": 2,
       "version_minor": 0
      },
      "text/plain": [
       "Epoch 368:   0%|          | 0/25 [00:00<?, ?it/s]"
      ]
     },
     "metadata": {},
     "output_type": "display_data"
    },
    {
     "name": "stdout",
     "output_type": "stream",
     "text": [
      "Epoch 368 done — avg loss: 3.036250\n"
     ]
    },
    {
     "data": {
      "application/vnd.jupyter.widget-view+json": {
       "model_id": "da60df039cb3421fbda3c35905b93779",
       "version_major": 2,
       "version_minor": 0
      },
      "text/plain": [
       "Epoch 369:   0%|          | 0/25 [00:00<?, ?it/s]"
      ]
     },
     "metadata": {},
     "output_type": "display_data"
    },
    {
     "name": "stdout",
     "output_type": "stream",
     "text": [
      "Epoch 369 done — avg loss: 3.035875\n"
     ]
    },
    {
     "data": {
      "application/vnd.jupyter.widget-view+json": {
       "model_id": "00d84908d02d440c8c50b814a7abe0fa",
       "version_major": 2,
       "version_minor": 0
      },
      "text/plain": [
       "Epoch 370:   0%|          | 0/25 [00:00<?, ?it/s]"
      ]
     },
     "metadata": {},
     "output_type": "display_data"
    },
    {
     "name": "stdout",
     "output_type": "stream",
     "text": [
      "Epoch 370 done — avg loss: 3.034681\n"
     ]
    },
    {
     "data": {
      "application/vnd.jupyter.widget-view+json": {
       "model_id": "15c8d75e269944eba079ad708500f0a4",
       "version_major": 2,
       "version_minor": 0
      },
      "text/plain": [
       "Epoch 371:   0%|          | 0/25 [00:00<?, ?it/s]"
      ]
     },
     "metadata": {},
     "output_type": "display_data"
    },
    {
     "name": "stdout",
     "output_type": "stream",
     "text": [
      "Epoch 371 done — avg loss: 3.034660\n"
     ]
    },
    {
     "data": {
      "application/vnd.jupyter.widget-view+json": {
       "model_id": "ae7ddab5b4f94c909144662465cbf789",
       "version_major": 2,
       "version_minor": 0
      },
      "text/plain": [
       "Epoch 372:   0%|          | 0/25 [00:00<?, ?it/s]"
      ]
     },
     "metadata": {},
     "output_type": "display_data"
    },
    {
     "name": "stdout",
     "output_type": "stream",
     "text": [
      "Epoch 372 done — avg loss: 3.033091\n"
     ]
    },
    {
     "data": {
      "application/vnd.jupyter.widget-view+json": {
       "model_id": "73610bb05c7942cb9db469d6716bf411",
       "version_major": 2,
       "version_minor": 0
      },
      "text/plain": [
       "Epoch 373:   0%|          | 0/25 [00:00<?, ?it/s]"
      ]
     },
     "metadata": {},
     "output_type": "display_data"
    },
    {
     "name": "stdout",
     "output_type": "stream",
     "text": [
      "Epoch 373 done — avg loss: 3.030871\n"
     ]
    },
    {
     "data": {
      "application/vnd.jupyter.widget-view+json": {
       "model_id": "93de718be5c14bdbb3a260a78937c25b",
       "version_major": 2,
       "version_minor": 0
      },
      "text/plain": [
       "Epoch 374:   0%|          | 0/25 [00:00<?, ?it/s]"
      ]
     },
     "metadata": {},
     "output_type": "display_data"
    },
    {
     "name": "stdout",
     "output_type": "stream",
     "text": [
      "Epoch 374 done — avg loss: 3.030520\n"
     ]
    },
    {
     "data": {
      "application/vnd.jupyter.widget-view+json": {
       "model_id": "1d018701027e4a8b8badd97da07da746",
       "version_major": 2,
       "version_minor": 0
      },
      "text/plain": [
       "Epoch 375:   0%|          | 0/25 [00:00<?, ?it/s]"
      ]
     },
     "metadata": {},
     "output_type": "display_data"
    },
    {
     "name": "stdout",
     "output_type": "stream",
     "text": [
      "Epoch 375 done — avg loss: 3.028877\n"
     ]
    },
    {
     "data": {
      "application/vnd.jupyter.widget-view+json": {
       "model_id": "c23f9e88a0b147d1baed4945a833c746",
       "version_major": 2,
       "version_minor": 0
      },
      "text/plain": [
       "Epoch 376:   0%|          | 0/25 [00:00<?, ?it/s]"
      ]
     },
     "metadata": {},
     "output_type": "display_data"
    },
    {
     "name": "stdout",
     "output_type": "stream",
     "text": [
      "Epoch 376 done — avg loss: 3.028219\n"
     ]
    },
    {
     "data": {
      "application/vnd.jupyter.widget-view+json": {
       "model_id": "1574ef1337414bda8e6584ac637ac2c2",
       "version_major": 2,
       "version_minor": 0
      },
      "text/plain": [
       "Epoch 377:   0%|          | 0/25 [00:00<?, ?it/s]"
      ]
     },
     "metadata": {},
     "output_type": "display_data"
    },
    {
     "name": "stdout",
     "output_type": "stream",
     "text": [
      "Epoch 377 done — avg loss: 3.026867\n"
     ]
    },
    {
     "data": {
      "application/vnd.jupyter.widget-view+json": {
       "model_id": "75bf099da7194307bcc15f250493444d",
       "version_major": 2,
       "version_minor": 0
      },
      "text/plain": [
       "Epoch 378:   0%|          | 0/25 [00:00<?, ?it/s]"
      ]
     },
     "metadata": {},
     "output_type": "display_data"
    },
    {
     "name": "stdout",
     "output_type": "stream",
     "text": [
      "Epoch 378 done — avg loss: 3.026477\n"
     ]
    },
    {
     "data": {
      "application/vnd.jupyter.widget-view+json": {
       "model_id": "4d374c5dfa1948718966606be8bbd348",
       "version_major": 2,
       "version_minor": 0
      },
      "text/plain": [
       "Epoch 379:   0%|          | 0/25 [00:00<?, ?it/s]"
      ]
     },
     "metadata": {},
     "output_type": "display_data"
    },
    {
     "name": "stdout",
     "output_type": "stream",
     "text": [
      "Epoch 379 done — avg loss: 3.025259\n"
     ]
    },
    {
     "data": {
      "application/vnd.jupyter.widget-view+json": {
       "model_id": "197aef604fc546f49ba726ea0e5de0ac",
       "version_major": 2,
       "version_minor": 0
      },
      "text/plain": [
       "Epoch 380:   0%|          | 0/25 [00:00<?, ?it/s]"
      ]
     },
     "metadata": {},
     "output_type": "display_data"
    },
    {
     "name": "stdout",
     "output_type": "stream",
     "text": [
      "Epoch 380 done — avg loss: 3.024719\n"
     ]
    },
    {
     "data": {
      "application/vnd.jupyter.widget-view+json": {
       "model_id": "b10764c58c5449719a0c02f0893179d6",
       "version_major": 2,
       "version_minor": 0
      },
      "text/plain": [
       "Epoch 381:   0%|          | 0/25 [00:00<?, ?it/s]"
      ]
     },
     "metadata": {},
     "output_type": "display_data"
    },
    {
     "name": "stdout",
     "output_type": "stream",
     "text": [
      "Epoch 381 done — avg loss: 3.024208\n"
     ]
    },
    {
     "data": {
      "application/vnd.jupyter.widget-view+json": {
       "model_id": "d6e25089b8224ebe8f7579bd9b22dc19",
       "version_major": 2,
       "version_minor": 0
      },
      "text/plain": [
       "Epoch 382:   0%|          | 0/25 [00:00<?, ?it/s]"
      ]
     },
     "metadata": {},
     "output_type": "display_data"
    },
    {
     "name": "stdout",
     "output_type": "stream",
     "text": [
      "Epoch 382 done — avg loss: 3.022426\n"
     ]
    },
    {
     "data": {
      "application/vnd.jupyter.widget-view+json": {
       "model_id": "d6e84d9ff45a4789a7e203b572935ef8",
       "version_major": 2,
       "version_minor": 0
      },
      "text/plain": [
       "Epoch 383:   0%|          | 0/25 [00:00<?, ?it/s]"
      ]
     },
     "metadata": {},
     "output_type": "display_data"
    },
    {
     "name": "stdout",
     "output_type": "stream",
     "text": [
      "Epoch 383 done — avg loss: 3.021179\n"
     ]
    },
    {
     "data": {
      "application/vnd.jupyter.widget-view+json": {
       "model_id": "cdf36c8a5f1448a59875fca09212addc",
       "version_major": 2,
       "version_minor": 0
      },
      "text/plain": [
       "Epoch 384:   0%|          | 0/25 [00:00<?, ?it/s]"
      ]
     },
     "metadata": {},
     "output_type": "display_data"
    },
    {
     "name": "stdout",
     "output_type": "stream",
     "text": [
      "Epoch 384 done — avg loss: 3.019611\n"
     ]
    },
    {
     "data": {
      "application/vnd.jupyter.widget-view+json": {
       "model_id": "2d7f3ed703bc4fbe99b4d579536a19b2",
       "version_major": 2,
       "version_minor": 0
      },
      "text/plain": [
       "Epoch 385:   0%|          | 0/25 [00:00<?, ?it/s]"
      ]
     },
     "metadata": {},
     "output_type": "display_data"
    },
    {
     "name": "stdout",
     "output_type": "stream",
     "text": [
      "Epoch 385 done — avg loss: 3.018150\n"
     ]
    },
    {
     "data": {
      "application/vnd.jupyter.widget-view+json": {
       "model_id": "f3103b78561b422ab4884117c057ebf3",
       "version_major": 2,
       "version_minor": 0
      },
      "text/plain": [
       "Epoch 386:   0%|          | 0/25 [00:00<?, ?it/s]"
      ]
     },
     "metadata": {},
     "output_type": "display_data"
    },
    {
     "name": "stdout",
     "output_type": "stream",
     "text": [
      "Epoch 386 done — avg loss: 3.018166\n"
     ]
    },
    {
     "data": {
      "application/vnd.jupyter.widget-view+json": {
       "model_id": "91e26edca23249b9a556fa4064a3c2f4",
       "version_major": 2,
       "version_minor": 0
      },
      "text/plain": [
       "Epoch 387:   0%|          | 0/25 [00:00<?, ?it/s]"
      ]
     },
     "metadata": {},
     "output_type": "display_data"
    },
    {
     "name": "stdout",
     "output_type": "stream",
     "text": [
      "Epoch 387 done — avg loss: 3.017401\n"
     ]
    },
    {
     "data": {
      "application/vnd.jupyter.widget-view+json": {
       "model_id": "231cbd9a7c4545398ad987c0326e6e2d",
       "version_major": 2,
       "version_minor": 0
      },
      "text/plain": [
       "Epoch 388:   0%|          | 0/25 [00:00<?, ?it/s]"
      ]
     },
     "metadata": {},
     "output_type": "display_data"
    },
    {
     "name": "stdout",
     "output_type": "stream",
     "text": [
      "Epoch 388 done — avg loss: 3.015292\n"
     ]
    },
    {
     "data": {
      "application/vnd.jupyter.widget-view+json": {
       "model_id": "13e8f26d5223405696535b47ed829d4a",
       "version_major": 2,
       "version_minor": 0
      },
      "text/plain": [
       "Epoch 389:   0%|          | 0/25 [00:00<?, ?it/s]"
      ]
     },
     "metadata": {},
     "output_type": "display_data"
    },
    {
     "name": "stdout",
     "output_type": "stream",
     "text": [
      "Epoch 389 done — avg loss: 3.015462\n"
     ]
    },
    {
     "data": {
      "application/vnd.jupyter.widget-view+json": {
       "model_id": "45f632e7e9b5473e8e485997f09263ce",
       "version_major": 2,
       "version_minor": 0
      },
      "text/plain": [
       "Epoch 390:   0%|          | 0/25 [00:00<?, ?it/s]"
      ]
     },
     "metadata": {},
     "output_type": "display_data"
    },
    {
     "name": "stdout",
     "output_type": "stream",
     "text": [
      "Epoch 390 done — avg loss: 3.015189\n"
     ]
    },
    {
     "data": {
      "application/vnd.jupyter.widget-view+json": {
       "model_id": "33a50f3d6ebb436a89bbe6d1c3380098",
       "version_major": 2,
       "version_minor": 0
      },
      "text/plain": [
       "Epoch 391:   0%|          | 0/25 [00:00<?, ?it/s]"
      ]
     },
     "metadata": {},
     "output_type": "display_data"
    },
    {
     "name": "stdout",
     "output_type": "stream",
     "text": [
      "Epoch 391 done — avg loss: 3.013525\n"
     ]
    },
    {
     "data": {
      "application/vnd.jupyter.widget-view+json": {
       "model_id": "3d349145c521483cbb66201202f3d669",
       "version_major": 2,
       "version_minor": 0
      },
      "text/plain": [
       "Epoch 392:   0%|          | 0/25 [00:00<?, ?it/s]"
      ]
     },
     "metadata": {},
     "output_type": "display_data"
    },
    {
     "name": "stdout",
     "output_type": "stream",
     "text": [
      "Epoch 392 done — avg loss: 3.012099\n"
     ]
    },
    {
     "data": {
      "application/vnd.jupyter.widget-view+json": {
       "model_id": "9148d645b6f94cbfb27c1e1e11e65309",
       "version_major": 2,
       "version_minor": 0
      },
      "text/plain": [
       "Epoch 393:   0%|          | 0/25 [00:00<?, ?it/s]"
      ]
     },
     "metadata": {},
     "output_type": "display_data"
    },
    {
     "name": "stdout",
     "output_type": "stream",
     "text": [
      "Epoch 393 done — avg loss: 3.011201\n"
     ]
    },
    {
     "data": {
      "application/vnd.jupyter.widget-view+json": {
       "model_id": "8312555e8ece4f5b89862a41409c3431",
       "version_major": 2,
       "version_minor": 0
      },
      "text/plain": [
       "Epoch 394:   0%|          | 0/25 [00:00<?, ?it/s]"
      ]
     },
     "metadata": {},
     "output_type": "display_data"
    },
    {
     "name": "stdout",
     "output_type": "stream",
     "text": [
      "Epoch 394 done — avg loss: 3.010381\n"
     ]
    },
    {
     "data": {
      "application/vnd.jupyter.widget-view+json": {
       "model_id": "62ce77bd76a74c76a62e7105bc2b729e",
       "version_major": 2,
       "version_minor": 0
      },
      "text/plain": [
       "Epoch 395:   0%|          | 0/25 [00:00<?, ?it/s]"
      ]
     },
     "metadata": {},
     "output_type": "display_data"
    },
    {
     "name": "stdout",
     "output_type": "stream",
     "text": [
      "Epoch 395 done — avg loss: 3.010268\n"
     ]
    },
    {
     "data": {
      "application/vnd.jupyter.widget-view+json": {
       "model_id": "a34d7183ef9243d5b2ca3f4226ec0c6b",
       "version_major": 2,
       "version_minor": 0
      },
      "text/plain": [
       "Epoch 396:   0%|          | 0/25 [00:00<?, ?it/s]"
      ]
     },
     "metadata": {},
     "output_type": "display_data"
    },
    {
     "name": "stdout",
     "output_type": "stream",
     "text": [
      "Epoch 396 done — avg loss: 3.007785\n"
     ]
    },
    {
     "data": {
      "application/vnd.jupyter.widget-view+json": {
       "model_id": "abba40ebd76b493ea344e53d1ecc2bec",
       "version_major": 2,
       "version_minor": 0
      },
      "text/plain": [
       "Epoch 397:   0%|          | 0/25 [00:00<?, ?it/s]"
      ]
     },
     "metadata": {},
     "output_type": "display_data"
    },
    {
     "name": "stdout",
     "output_type": "stream",
     "text": [
      "Epoch 397 done — avg loss: 3.008175\n"
     ]
    },
    {
     "data": {
      "application/vnd.jupyter.widget-view+json": {
       "model_id": "fad173df86984291b5d2a2dfea1f4bf0",
       "version_major": 2,
       "version_minor": 0
      },
      "text/plain": [
       "Epoch 398:   0%|          | 0/25 [00:00<?, ?it/s]"
      ]
     },
     "metadata": {},
     "output_type": "display_data"
    },
    {
     "name": "stdout",
     "output_type": "stream",
     "text": [
      "Epoch 398 done — avg loss: 3.006482\n"
     ]
    },
    {
     "data": {
      "application/vnd.jupyter.widget-view+json": {
       "model_id": "3b0fdc0e2a7a43e78b288072c5b736fd",
       "version_major": 2,
       "version_minor": 0
      },
      "text/plain": [
       "Epoch 399:   0%|          | 0/25 [00:00<?, ?it/s]"
      ]
     },
     "metadata": {},
     "output_type": "display_data"
    },
    {
     "name": "stdout",
     "output_type": "stream",
     "text": [
      "Epoch 399 done — avg loss: 3.005304\n"
     ]
    },
    {
     "data": {
      "application/vnd.jupyter.widget-view+json": {
       "model_id": "406470beca5645a0b8b2b26a72d1397f",
       "version_major": 2,
       "version_minor": 0
      },
      "text/plain": [
       "Epoch 400:   0%|          | 0/25 [00:00<?, ?it/s]"
      ]
     },
     "metadata": {},
     "output_type": "display_data"
    },
    {
     "name": "stdout",
     "output_type": "stream",
     "text": [
      "Epoch 400 done — avg loss: 3.004260\n"
     ]
    },
    {
     "data": {
      "application/vnd.jupyter.widget-view+json": {
       "model_id": "4c520570bce34fdb96d02e8e25bb6593",
       "version_major": 2,
       "version_minor": 0
      },
      "text/plain": [
       "Epoch 401:   0%|          | 0/25 [00:00<?, ?it/s]"
      ]
     },
     "metadata": {},
     "output_type": "display_data"
    },
    {
     "name": "stdout",
     "output_type": "stream",
     "text": [
      "Epoch 401 done — avg loss: 3.003347\n"
     ]
    },
    {
     "data": {
      "application/vnd.jupyter.widget-view+json": {
       "model_id": "140c4c65e55a4d049ace2d74f83b1b6e",
       "version_major": 2,
       "version_minor": 0
      },
      "text/plain": [
       "Epoch 402:   0%|          | 0/25 [00:00<?, ?it/s]"
      ]
     },
     "metadata": {},
     "output_type": "display_data"
    },
    {
     "name": "stdout",
     "output_type": "stream",
     "text": [
      "Epoch 402 done — avg loss: 3.002289\n"
     ]
    },
    {
     "data": {
      "application/vnd.jupyter.widget-view+json": {
       "model_id": "672cbf0b5c5c4259b4f279499a73e5af",
       "version_major": 2,
       "version_minor": 0
      },
      "text/plain": [
       "Epoch 403:   0%|          | 0/25 [00:00<?, ?it/s]"
      ]
     },
     "metadata": {},
     "output_type": "display_data"
    },
    {
     "name": "stdout",
     "output_type": "stream",
     "text": [
      "Epoch 403 done — avg loss: 3.002950\n"
     ]
    },
    {
     "data": {
      "application/vnd.jupyter.widget-view+json": {
       "model_id": "9c29abe62037465bbce3e6d65e2e5bb2",
       "version_major": 2,
       "version_minor": 0
      },
      "text/plain": [
       "Epoch 404:   0%|          | 0/25 [00:00<?, ?it/s]"
      ]
     },
     "metadata": {},
     "output_type": "display_data"
    },
    {
     "name": "stdout",
     "output_type": "stream",
     "text": [
      "Epoch 404 done — avg loss: 3.002168\n"
     ]
    },
    {
     "data": {
      "application/vnd.jupyter.widget-view+json": {
       "model_id": "7b2bbb8037e249eb8986dd44393ab4fc",
       "version_major": 2,
       "version_minor": 0
      },
      "text/plain": [
       "Epoch 405:   0%|          | 0/25 [00:00<?, ?it/s]"
      ]
     },
     "metadata": {},
     "output_type": "display_data"
    },
    {
     "name": "stdout",
     "output_type": "stream",
     "text": [
      "Epoch 405 done — avg loss: 3.000070\n"
     ]
    },
    {
     "data": {
      "application/vnd.jupyter.widget-view+json": {
       "model_id": "94cf6ec594b54a998abccd06954c72de",
       "version_major": 2,
       "version_minor": 0
      },
      "text/plain": [
       "Epoch 406:   0%|          | 0/25 [00:00<?, ?it/s]"
      ]
     },
     "metadata": {},
     "output_type": "display_data"
    },
    {
     "name": "stdout",
     "output_type": "stream",
     "text": [
      "Epoch 406 done — avg loss: 2.999519\n"
     ]
    },
    {
     "data": {
      "application/vnd.jupyter.widget-view+json": {
       "model_id": "2b26ef351ceb4462a83fdcc8a9e8dc25",
       "version_major": 2,
       "version_minor": 0
      },
      "text/plain": [
       "Epoch 407:   0%|          | 0/25 [00:00<?, ?it/s]"
      ]
     },
     "metadata": {},
     "output_type": "display_data"
    },
    {
     "name": "stdout",
     "output_type": "stream",
     "text": [
      "Epoch 407 done — avg loss: 2.998518\n"
     ]
    },
    {
     "data": {
      "application/vnd.jupyter.widget-view+json": {
       "model_id": "230e71ecbb644f72b978d459a93f670a",
       "version_major": 2,
       "version_minor": 0
      },
      "text/plain": [
       "Epoch 408:   0%|          | 0/25 [00:00<?, ?it/s]"
      ]
     },
     "metadata": {},
     "output_type": "display_data"
    },
    {
     "name": "stdout",
     "output_type": "stream",
     "text": [
      "Epoch 408 done — avg loss: 2.998282\n"
     ]
    },
    {
     "data": {
      "application/vnd.jupyter.widget-view+json": {
       "model_id": "ae2574d36d01432a854d5dd075e12f87",
       "version_major": 2,
       "version_minor": 0
      },
      "text/plain": [
       "Epoch 409:   0%|          | 0/25 [00:00<?, ?it/s]"
      ]
     },
     "metadata": {},
     "output_type": "display_data"
    },
    {
     "name": "stdout",
     "output_type": "stream",
     "text": [
      "Epoch 409 done — avg loss: 2.997416\n"
     ]
    },
    {
     "data": {
      "application/vnd.jupyter.widget-view+json": {
       "model_id": "ced30c38e393433a8b884eef72de1607",
       "version_major": 2,
       "version_minor": 0
      },
      "text/plain": [
       "Epoch 410:   0%|          | 0/25 [00:00<?, ?it/s]"
      ]
     },
     "metadata": {},
     "output_type": "display_data"
    },
    {
     "name": "stdout",
     "output_type": "stream",
     "text": [
      "Epoch 410 done — avg loss: 2.996216\n"
     ]
    },
    {
     "data": {
      "application/vnd.jupyter.widget-view+json": {
       "model_id": "fd417985d3be4ecb9c5ab8a42dcc3922",
       "version_major": 2,
       "version_minor": 0
      },
      "text/plain": [
       "Epoch 411:   0%|          | 0/25 [00:00<?, ?it/s]"
      ]
     },
     "metadata": {},
     "output_type": "display_data"
    },
    {
     "name": "stdout",
     "output_type": "stream",
     "text": [
      "Epoch 411 done — avg loss: 2.995234\n"
     ]
    },
    {
     "data": {
      "application/vnd.jupyter.widget-view+json": {
       "model_id": "580e4baebd2c4c6c906a6985055d2e11",
       "version_major": 2,
       "version_minor": 0
      },
      "text/plain": [
       "Epoch 412:   0%|          | 0/25 [00:00<?, ?it/s]"
      ]
     },
     "metadata": {},
     "output_type": "display_data"
    },
    {
     "name": "stdout",
     "output_type": "stream",
     "text": [
      "Epoch 412 done — avg loss: 2.993697\n"
     ]
    },
    {
     "data": {
      "application/vnd.jupyter.widget-view+json": {
       "model_id": "03f62c318515417cbaa7abc1665a02eb",
       "version_major": 2,
       "version_minor": 0
      },
      "text/plain": [
       "Epoch 413:   0%|          | 0/25 [00:00<?, ?it/s]"
      ]
     },
     "metadata": {},
     "output_type": "display_data"
    },
    {
     "name": "stdout",
     "output_type": "stream",
     "text": [
      "Epoch 413 done — avg loss: 2.992283\n"
     ]
    },
    {
     "data": {
      "application/vnd.jupyter.widget-view+json": {
       "model_id": "60446a5b1208428dbdcbbd08c50e3905",
       "version_major": 2,
       "version_minor": 0
      },
      "text/plain": [
       "Epoch 414:   0%|          | 0/25 [00:00<?, ?it/s]"
      ]
     },
     "metadata": {},
     "output_type": "display_data"
    },
    {
     "name": "stdout",
     "output_type": "stream",
     "text": [
      "Epoch 414 done — avg loss: 2.990817\n"
     ]
    },
    {
     "data": {
      "application/vnd.jupyter.widget-view+json": {
       "model_id": "3b8371106d094b93b5dfd540d4e993ff",
       "version_major": 2,
       "version_minor": 0
      },
      "text/plain": [
       "Epoch 415:   0%|          | 0/25 [00:00<?, ?it/s]"
      ]
     },
     "metadata": {},
     "output_type": "display_data"
    },
    {
     "name": "stdout",
     "output_type": "stream",
     "text": [
      "Epoch 415 done — avg loss: 2.990707\n"
     ]
    },
    {
     "data": {
      "application/vnd.jupyter.widget-view+json": {
       "model_id": "a10c9c9e4c0541f9979981e17eab4884",
       "version_major": 2,
       "version_minor": 0
      },
      "text/plain": [
       "Epoch 416:   0%|          | 0/25 [00:00<?, ?it/s]"
      ]
     },
     "metadata": {},
     "output_type": "display_data"
    },
    {
     "name": "stdout",
     "output_type": "stream",
     "text": [
      "Epoch 416 done — avg loss: 2.989237\n"
     ]
    },
    {
     "data": {
      "application/vnd.jupyter.widget-view+json": {
       "model_id": "1358af5c02d648fd8fe7a70eff9e4d1f",
       "version_major": 2,
       "version_minor": 0
      },
      "text/plain": [
       "Epoch 417:   0%|          | 0/25 [00:00<?, ?it/s]"
      ]
     },
     "metadata": {},
     "output_type": "display_data"
    },
    {
     "name": "stdout",
     "output_type": "stream",
     "text": [
      "Epoch 417 done — avg loss: 2.987589\n"
     ]
    },
    {
     "data": {
      "application/vnd.jupyter.widget-view+json": {
       "model_id": "66af45c6321e4e6285354144803f5cdc",
       "version_major": 2,
       "version_minor": 0
      },
      "text/plain": [
       "Epoch 418:   0%|          | 0/25 [00:00<?, ?it/s]"
      ]
     },
     "metadata": {},
     "output_type": "display_data"
    },
    {
     "name": "stdout",
     "output_type": "stream",
     "text": [
      "Epoch 418 done — avg loss: 2.987403\n"
     ]
    },
    {
     "data": {
      "application/vnd.jupyter.widget-view+json": {
       "model_id": "596d244074be4999b897976edbf61116",
       "version_major": 2,
       "version_minor": 0
      },
      "text/plain": [
       "Epoch 419:   0%|          | 0/25 [00:00<?, ?it/s]"
      ]
     },
     "metadata": {},
     "output_type": "display_data"
    },
    {
     "name": "stdout",
     "output_type": "stream",
     "text": [
      "Epoch 419 done — avg loss: 2.986354\n"
     ]
    },
    {
     "data": {
      "application/vnd.jupyter.widget-view+json": {
       "model_id": "4b5db121975e4d70b23e2843d90d5df0",
       "version_major": 2,
       "version_minor": 0
      },
      "text/plain": [
       "Epoch 420:   0%|          | 0/25 [00:00<?, ?it/s]"
      ]
     },
     "metadata": {},
     "output_type": "display_data"
    },
    {
     "name": "stdout",
     "output_type": "stream",
     "text": [
      "Epoch 420 done — avg loss: 2.984959\n"
     ]
    },
    {
     "data": {
      "application/vnd.jupyter.widget-view+json": {
       "model_id": "627dbddf4d61461a97469ac7adbf829b",
       "version_major": 2,
       "version_minor": 0
      },
      "text/plain": [
       "Epoch 421:   0%|          | 0/25 [00:00<?, ?it/s]"
      ]
     },
     "metadata": {},
     "output_type": "display_data"
    },
    {
     "name": "stdout",
     "output_type": "stream",
     "text": [
      "Epoch 421 done — avg loss: 2.986196\n"
     ]
    },
    {
     "data": {
      "application/vnd.jupyter.widget-view+json": {
       "model_id": "bc45c756290a4417a9ab69072a4ca00d",
       "version_major": 2,
       "version_minor": 0
      },
      "text/plain": [
       "Epoch 422:   0%|          | 0/25 [00:00<?, ?it/s]"
      ]
     },
     "metadata": {},
     "output_type": "display_data"
    },
    {
     "name": "stdout",
     "output_type": "stream",
     "text": [
      "Epoch 422 done — avg loss: 2.985226\n"
     ]
    },
    {
     "data": {
      "application/vnd.jupyter.widget-view+json": {
       "model_id": "08420466756e4d4b83708c407a1b3355",
       "version_major": 2,
       "version_minor": 0
      },
      "text/plain": [
       "Epoch 423:   0%|          | 0/25 [00:00<?, ?it/s]"
      ]
     },
     "metadata": {},
     "output_type": "display_data"
    },
    {
     "name": "stdout",
     "output_type": "stream",
     "text": [
      "Epoch 423 done — avg loss: 2.983755\n"
     ]
    },
    {
     "data": {
      "application/vnd.jupyter.widget-view+json": {
       "model_id": "235d029a978346ac83aceb1cec4f9610",
       "version_major": 2,
       "version_minor": 0
      },
      "text/plain": [
       "Epoch 424:   0%|          | 0/25 [00:00<?, ?it/s]"
      ]
     },
     "metadata": {},
     "output_type": "display_data"
    },
    {
     "name": "stdout",
     "output_type": "stream",
     "text": [
      "Epoch 424 done — avg loss: 2.982939\n"
     ]
    },
    {
     "data": {
      "application/vnd.jupyter.widget-view+json": {
       "model_id": "a75ddc01f4d34167a5164e6b895de2fb",
       "version_major": 2,
       "version_minor": 0
      },
      "text/plain": [
       "Epoch 425:   0%|          | 0/25 [00:00<?, ?it/s]"
      ]
     },
     "metadata": {},
     "output_type": "display_data"
    },
    {
     "name": "stdout",
     "output_type": "stream",
     "text": [
      "Epoch 425 done — avg loss: 2.981385\n"
     ]
    },
    {
     "data": {
      "application/vnd.jupyter.widget-view+json": {
       "model_id": "fd2308b2bfa047e1aceefb4a6626e3d1",
       "version_major": 2,
       "version_minor": 0
      },
      "text/plain": [
       "Epoch 426:   0%|          | 0/25 [00:00<?, ?it/s]"
      ]
     },
     "metadata": {},
     "output_type": "display_data"
    },
    {
     "name": "stdout",
     "output_type": "stream",
     "text": [
      "Epoch 426 done — avg loss: 2.980004\n"
     ]
    },
    {
     "data": {
      "application/vnd.jupyter.widget-view+json": {
       "model_id": "6425deb17fbd4041b661fe78350c2e9b",
       "version_major": 2,
       "version_minor": 0
      },
      "text/plain": [
       "Epoch 427:   0%|          | 0/25 [00:00<?, ?it/s]"
      ]
     },
     "metadata": {},
     "output_type": "display_data"
    },
    {
     "name": "stdout",
     "output_type": "stream",
     "text": [
      "Epoch 427 done — avg loss: 2.977922\n"
     ]
    },
    {
     "data": {
      "application/vnd.jupyter.widget-view+json": {
       "model_id": "680633fb547542eab9ed81e3bab173cd",
       "version_major": 2,
       "version_minor": 0
      },
      "text/plain": [
       "Epoch 428:   0%|          | 0/25 [00:00<?, ?it/s]"
      ]
     },
     "metadata": {},
     "output_type": "display_data"
    },
    {
     "name": "stdout",
     "output_type": "stream",
     "text": [
      "Epoch 428 done — avg loss: 2.977324\n"
     ]
    },
    {
     "data": {
      "application/vnd.jupyter.widget-view+json": {
       "model_id": "6201e94e6dc54b8da50115f023da84f5",
       "version_major": 2,
       "version_minor": 0
      },
      "text/plain": [
       "Epoch 429:   0%|          | 0/25 [00:00<?, ?it/s]"
      ]
     },
     "metadata": {},
     "output_type": "display_data"
    },
    {
     "name": "stdout",
     "output_type": "stream",
     "text": [
      "Epoch 429 done — avg loss: 2.976598\n"
     ]
    },
    {
     "data": {
      "application/vnd.jupyter.widget-view+json": {
       "model_id": "f76f5341b24c4a9499eee158d8b296aa",
       "version_major": 2,
       "version_minor": 0
      },
      "text/plain": [
       "Epoch 430:   0%|          | 0/25 [00:00<?, ?it/s]"
      ]
     },
     "metadata": {},
     "output_type": "display_data"
    },
    {
     "name": "stdout",
     "output_type": "stream",
     "text": [
      "Epoch 430 done — avg loss: 2.975720\n"
     ]
    },
    {
     "data": {
      "application/vnd.jupyter.widget-view+json": {
       "model_id": "43016b4ba3374d9f98a56f78884c7202",
       "version_major": 2,
       "version_minor": 0
      },
      "text/plain": [
       "Epoch 431:   0%|          | 0/25 [00:00<?, ?it/s]"
      ]
     },
     "metadata": {},
     "output_type": "display_data"
    },
    {
     "name": "stdout",
     "output_type": "stream",
     "text": [
      "Epoch 431 done — avg loss: 2.974483\n"
     ]
    },
    {
     "data": {
      "application/vnd.jupyter.widget-view+json": {
       "model_id": "51dd159ae187443db0c4ae884c997c93",
       "version_major": 2,
       "version_minor": 0
      },
      "text/plain": [
       "Epoch 432:   0%|          | 0/25 [00:00<?, ?it/s]"
      ]
     },
     "metadata": {},
     "output_type": "display_data"
    },
    {
     "name": "stdout",
     "output_type": "stream",
     "text": [
      "Epoch 432 done — avg loss: 2.973538\n"
     ]
    },
    {
     "data": {
      "application/vnd.jupyter.widget-view+json": {
       "model_id": "317bcd6b899c412fb92161f535b62d62",
       "version_major": 2,
       "version_minor": 0
      },
      "text/plain": [
       "Epoch 433:   0%|          | 0/25 [00:00<?, ?it/s]"
      ]
     },
     "metadata": {},
     "output_type": "display_data"
    },
    {
     "name": "stdout",
     "output_type": "stream",
     "text": [
      "Epoch 433 done — avg loss: 2.973712\n"
     ]
    },
    {
     "data": {
      "application/vnd.jupyter.widget-view+json": {
       "model_id": "0b768a5e6f804240bc2444e466465008",
       "version_major": 2,
       "version_minor": 0
      },
      "text/plain": [
       "Epoch 434:   0%|          | 0/25 [00:00<?, ?it/s]"
      ]
     },
     "metadata": {},
     "output_type": "display_data"
    },
    {
     "name": "stdout",
     "output_type": "stream",
     "text": [
      "Epoch 434 done — avg loss: 2.974606\n"
     ]
    },
    {
     "data": {
      "application/vnd.jupyter.widget-view+json": {
       "model_id": "92b0a14475b24c34b480a1ef77c64499",
       "version_major": 2,
       "version_minor": 0
      },
      "text/plain": [
       "Epoch 435:   0%|          | 0/25 [00:00<?, ?it/s]"
      ]
     },
     "metadata": {},
     "output_type": "display_data"
    },
    {
     "name": "stdout",
     "output_type": "stream",
     "text": [
      "Epoch 435 done — avg loss: 2.972614\n"
     ]
    },
    {
     "data": {
      "application/vnd.jupyter.widget-view+json": {
       "model_id": "07981993e30c41c29f80b16bfb7ab5cd",
       "version_major": 2,
       "version_minor": 0
      },
      "text/plain": [
       "Epoch 436:   0%|          | 0/25 [00:00<?, ?it/s]"
      ]
     },
     "metadata": {},
     "output_type": "display_data"
    },
    {
     "name": "stdout",
     "output_type": "stream",
     "text": [
      "Epoch 436 done — avg loss: 2.970096\n"
     ]
    },
    {
     "data": {
      "application/vnd.jupyter.widget-view+json": {
       "model_id": "783eea7fa7954c14acfe76e50b1ab818",
       "version_major": 2,
       "version_minor": 0
      },
      "text/plain": [
       "Epoch 437:   0%|          | 0/25 [00:00<?, ?it/s]"
      ]
     },
     "metadata": {},
     "output_type": "display_data"
    },
    {
     "name": "stdout",
     "output_type": "stream",
     "text": [
      "Epoch 437 done — avg loss: 2.969031\n"
     ]
    },
    {
     "data": {
      "application/vnd.jupyter.widget-view+json": {
       "model_id": "029b37b9767a4a2992218fd1255e6d7e",
       "version_major": 2,
       "version_minor": 0
      },
      "text/plain": [
       "Epoch 438:   0%|          | 0/25 [00:00<?, ?it/s]"
      ]
     },
     "metadata": {},
     "output_type": "display_data"
    },
    {
     "name": "stdout",
     "output_type": "stream",
     "text": [
      "Epoch 438 done — avg loss: 2.968378\n"
     ]
    },
    {
     "data": {
      "application/vnd.jupyter.widget-view+json": {
       "model_id": "1850354c5b18447b907ad6be74659e2d",
       "version_major": 2,
       "version_minor": 0
      },
      "text/plain": [
       "Epoch 439:   0%|          | 0/25 [00:00<?, ?it/s]"
      ]
     },
     "metadata": {},
     "output_type": "display_data"
    },
    {
     "name": "stdout",
     "output_type": "stream",
     "text": [
      "Epoch 439 done — avg loss: 2.967564\n"
     ]
    },
    {
     "data": {
      "application/vnd.jupyter.widget-view+json": {
       "model_id": "9e6ca085fa244422bdf823f9a2b6e4cf",
       "version_major": 2,
       "version_minor": 0
      },
      "text/plain": [
       "Epoch 440:   0%|          | 0/25 [00:00<?, ?it/s]"
      ]
     },
     "metadata": {},
     "output_type": "display_data"
    },
    {
     "name": "stdout",
     "output_type": "stream",
     "text": [
      "Epoch 440 done — avg loss: 2.966463\n"
     ]
    },
    {
     "data": {
      "application/vnd.jupyter.widget-view+json": {
       "model_id": "4916edacbbe54f40bf4e15c6ebb6f56a",
       "version_major": 2,
       "version_minor": 0
      },
      "text/plain": [
       "Epoch 441:   0%|          | 0/25 [00:00<?, ?it/s]"
      ]
     },
     "metadata": {},
     "output_type": "display_data"
    },
    {
     "name": "stdout",
     "output_type": "stream",
     "text": [
      "Epoch 441 done — avg loss: 2.967072\n"
     ]
    },
    {
     "data": {
      "application/vnd.jupyter.widget-view+json": {
       "model_id": "996a1eb94fa346ed99325242f83113a2",
       "version_major": 2,
       "version_minor": 0
      },
      "text/plain": [
       "Epoch 442:   0%|          | 0/25 [00:00<?, ?it/s]"
      ]
     },
     "metadata": {},
     "output_type": "display_data"
    },
    {
     "name": "stdout",
     "output_type": "stream",
     "text": [
      "Epoch 442 done — avg loss: 2.966604\n"
     ]
    },
    {
     "data": {
      "application/vnd.jupyter.widget-view+json": {
       "model_id": "66973f3c2c234e9398bdb885293b7e5d",
       "version_major": 2,
       "version_minor": 0
      },
      "text/plain": [
       "Epoch 443:   0%|          | 0/25 [00:00<?, ?it/s]"
      ]
     },
     "metadata": {},
     "output_type": "display_data"
    },
    {
     "name": "stdout",
     "output_type": "stream",
     "text": [
      "Epoch 443 done — avg loss: 2.965075\n"
     ]
    },
    {
     "data": {
      "application/vnd.jupyter.widget-view+json": {
       "model_id": "f522689bc4c3481da6cd35b378dc4948",
       "version_major": 2,
       "version_minor": 0
      },
      "text/plain": [
       "Epoch 444:   0%|          | 0/25 [00:00<?, ?it/s]"
      ]
     },
     "metadata": {},
     "output_type": "display_data"
    },
    {
     "name": "stdout",
     "output_type": "stream",
     "text": [
      "Epoch 444 done — avg loss: 2.964273\n"
     ]
    },
    {
     "data": {
      "application/vnd.jupyter.widget-view+json": {
       "model_id": "2fca44c2a8264e998042f8ded9faeca7",
       "version_major": 2,
       "version_minor": 0
      },
      "text/plain": [
       "Epoch 445:   0%|          | 0/25 [00:00<?, ?it/s]"
      ]
     },
     "metadata": {},
     "output_type": "display_data"
    },
    {
     "name": "stdout",
     "output_type": "stream",
     "text": [
      "Epoch 445 done — avg loss: 2.962218\n"
     ]
    },
    {
     "data": {
      "application/vnd.jupyter.widget-view+json": {
       "model_id": "570dfb6be923495ea011065da679d04e",
       "version_major": 2,
       "version_minor": 0
      },
      "text/plain": [
       "Epoch 446:   0%|          | 0/25 [00:00<?, ?it/s]"
      ]
     },
     "metadata": {},
     "output_type": "display_data"
    },
    {
     "name": "stdout",
     "output_type": "stream",
     "text": [
      "Epoch 446 done — avg loss: 2.961466\n"
     ]
    },
    {
     "data": {
      "application/vnd.jupyter.widget-view+json": {
       "model_id": "ea20d46f49724fd59c4a652ee5ec2d4b",
       "version_major": 2,
       "version_minor": 0
      },
      "text/plain": [
       "Epoch 447:   0%|          | 0/25 [00:00<?, ?it/s]"
      ]
     },
     "metadata": {},
     "output_type": "display_data"
    },
    {
     "name": "stdout",
     "output_type": "stream",
     "text": [
      "Epoch 447 done — avg loss: 2.961590\n"
     ]
    },
    {
     "data": {
      "application/vnd.jupyter.widget-view+json": {
       "model_id": "de382beeb3944d12962a84d32aff2651",
       "version_major": 2,
       "version_minor": 0
      },
      "text/plain": [
       "Epoch 448:   0%|          | 0/25 [00:00<?, ?it/s]"
      ]
     },
     "metadata": {},
     "output_type": "display_data"
    },
    {
     "name": "stdout",
     "output_type": "stream",
     "text": [
      "Epoch 448 done — avg loss: 2.959467\n"
     ]
    },
    {
     "data": {
      "application/vnd.jupyter.widget-view+json": {
       "model_id": "6966df48fb614bd2bac125b6e0baa32b",
       "version_major": 2,
       "version_minor": 0
      },
      "text/plain": [
       "Epoch 449:   0%|          | 0/25 [00:00<?, ?it/s]"
      ]
     },
     "metadata": {},
     "output_type": "display_data"
    },
    {
     "name": "stdout",
     "output_type": "stream",
     "text": [
      "Epoch 449 done — avg loss: 2.957792\n"
     ]
    },
    {
     "data": {
      "application/vnd.jupyter.widget-view+json": {
       "model_id": "e33e950d7c20483497b3b48b2b5d4dcc",
       "version_major": 2,
       "version_minor": 0
      },
      "text/plain": [
       "Epoch 450:   0%|          | 0/25 [00:00<?, ?it/s]"
      ]
     },
     "metadata": {},
     "output_type": "display_data"
    },
    {
     "name": "stdout",
     "output_type": "stream",
     "text": [
      "Epoch 450 done — avg loss: 2.956870\n"
     ]
    },
    {
     "data": {
      "application/vnd.jupyter.widget-view+json": {
       "model_id": "298d5886f23a4f238e6b71b36e19336d",
       "version_major": 2,
       "version_minor": 0
      },
      "text/plain": [
       "Epoch 451:   0%|          | 0/25 [00:00<?, ?it/s]"
      ]
     },
     "metadata": {},
     "output_type": "display_data"
    },
    {
     "name": "stdout",
     "output_type": "stream",
     "text": [
      "Epoch 451 done — avg loss: 2.956835\n"
     ]
    },
    {
     "data": {
      "application/vnd.jupyter.widget-view+json": {
       "model_id": "41f6e89274a743f79b9308a65b8b12ae",
       "version_major": 2,
       "version_minor": 0
      },
      "text/plain": [
       "Epoch 452:   0%|          | 0/25 [00:00<?, ?it/s]"
      ]
     },
     "metadata": {},
     "output_type": "display_data"
    },
    {
     "name": "stdout",
     "output_type": "stream",
     "text": [
      "Epoch 452 done — avg loss: 2.955552\n"
     ]
    },
    {
     "data": {
      "application/vnd.jupyter.widget-view+json": {
       "model_id": "b9b4b157e90e468ab0f6493977980bc8",
       "version_major": 2,
       "version_minor": 0
      },
      "text/plain": [
       "Epoch 453:   0%|          | 0/25 [00:00<?, ?it/s]"
      ]
     },
     "metadata": {},
     "output_type": "display_data"
    },
    {
     "name": "stdout",
     "output_type": "stream",
     "text": [
      "Epoch 453 done — avg loss: 2.955098\n"
     ]
    },
    {
     "data": {
      "application/vnd.jupyter.widget-view+json": {
       "model_id": "9c1109b4d44b4d4fb36ca0795f080283",
       "version_major": 2,
       "version_minor": 0
      },
      "text/plain": [
       "Epoch 454:   0%|          | 0/25 [00:00<?, ?it/s]"
      ]
     },
     "metadata": {},
     "output_type": "display_data"
    },
    {
     "name": "stdout",
     "output_type": "stream",
     "text": [
      "Epoch 454 done — avg loss: 2.954520\n"
     ]
    },
    {
     "data": {
      "application/vnd.jupyter.widget-view+json": {
       "model_id": "d5670a444ba54a63b48399609f7c0a27",
       "version_major": 2,
       "version_minor": 0
      },
      "text/plain": [
       "Epoch 455:   0%|          | 0/25 [00:00<?, ?it/s]"
      ]
     },
     "metadata": {},
     "output_type": "display_data"
    },
    {
     "name": "stdout",
     "output_type": "stream",
     "text": [
      "Epoch 455 done — avg loss: 2.953125\n"
     ]
    },
    {
     "data": {
      "application/vnd.jupyter.widget-view+json": {
       "model_id": "14cb12b2077145f3a5deaa729b657d95",
       "version_major": 2,
       "version_minor": 0
      },
      "text/plain": [
       "Epoch 456:   0%|          | 0/25 [00:00<?, ?it/s]"
      ]
     },
     "metadata": {},
     "output_type": "display_data"
    },
    {
     "name": "stdout",
     "output_type": "stream",
     "text": [
      "Epoch 456 done — avg loss: 2.952632\n"
     ]
    },
    {
     "data": {
      "application/vnd.jupyter.widget-view+json": {
       "model_id": "503c6e83cc124d27846f37f40c085b97",
       "version_major": 2,
       "version_minor": 0
      },
      "text/plain": [
       "Epoch 457:   0%|          | 0/25 [00:00<?, ?it/s]"
      ]
     },
     "metadata": {},
     "output_type": "display_data"
    },
    {
     "name": "stdout",
     "output_type": "stream",
     "text": [
      "Epoch 457 done — avg loss: 2.953328\n"
     ]
    },
    {
     "data": {
      "application/vnd.jupyter.widget-view+json": {
       "model_id": "3f106b96240f4b3ca460cae1f72bbd30",
       "version_major": 2,
       "version_minor": 0
      },
      "text/plain": [
       "Epoch 458:   0%|          | 0/25 [00:00<?, ?it/s]"
      ]
     },
     "metadata": {},
     "output_type": "display_data"
    },
    {
     "name": "stdout",
     "output_type": "stream",
     "text": [
      "Epoch 458 done — avg loss: 2.950524\n"
     ]
    },
    {
     "data": {
      "application/vnd.jupyter.widget-view+json": {
       "model_id": "0ae894f155ff48f6801d2dcaea389bde",
       "version_major": 2,
       "version_minor": 0
      },
      "text/plain": [
       "Epoch 459:   0%|          | 0/25 [00:00<?, ?it/s]"
      ]
     },
     "metadata": {},
     "output_type": "display_data"
    },
    {
     "name": "stdout",
     "output_type": "stream",
     "text": [
      "Epoch 459 done — avg loss: 2.949933\n"
     ]
    },
    {
     "data": {
      "application/vnd.jupyter.widget-view+json": {
       "model_id": "c5660b704d0546f29f38091fc47207a6",
       "version_major": 2,
       "version_minor": 0
      },
      "text/plain": [
       "Epoch 460:   0%|          | 0/25 [00:00<?, ?it/s]"
      ]
     },
     "metadata": {},
     "output_type": "display_data"
    },
    {
     "name": "stdout",
     "output_type": "stream",
     "text": [
      "Epoch 460 done — avg loss: 2.949744\n"
     ]
    },
    {
     "data": {
      "application/vnd.jupyter.widget-view+json": {
       "model_id": "1cb5df6aac914f6a8daee59515866fd3",
       "version_major": 2,
       "version_minor": 0
      },
      "text/plain": [
       "Epoch 461:   0%|          | 0/25 [00:00<?, ?it/s]"
      ]
     },
     "metadata": {},
     "output_type": "display_data"
    },
    {
     "name": "stdout",
     "output_type": "stream",
     "text": [
      "Epoch 461 done — avg loss: 2.948663\n"
     ]
    },
    {
     "data": {
      "application/vnd.jupyter.widget-view+json": {
       "model_id": "6d7560979a65442faf60467c34046b21",
       "version_major": 2,
       "version_minor": 0
      },
      "text/plain": [
       "Epoch 462:   0%|          | 0/25 [00:00<?, ?it/s]"
      ]
     },
     "metadata": {},
     "output_type": "display_data"
    },
    {
     "name": "stdout",
     "output_type": "stream",
     "text": [
      "Epoch 462 done — avg loss: 2.948362\n"
     ]
    },
    {
     "data": {
      "application/vnd.jupyter.widget-view+json": {
       "model_id": "f990dd72d11e4f9aa9d7443fe2a254e5",
       "version_major": 2,
       "version_minor": 0
      },
      "text/plain": [
       "Epoch 463:   0%|          | 0/25 [00:00<?, ?it/s]"
      ]
     },
     "metadata": {},
     "output_type": "display_data"
    },
    {
     "name": "stdout",
     "output_type": "stream",
     "text": [
      "Epoch 463 done — avg loss: 2.948243\n"
     ]
    },
    {
     "data": {
      "application/vnd.jupyter.widget-view+json": {
       "model_id": "e903c601488543f08e2e1041e92a7a48",
       "version_major": 2,
       "version_minor": 0
      },
      "text/plain": [
       "Epoch 464:   0%|          | 0/25 [00:00<?, ?it/s]"
      ]
     },
     "metadata": {},
     "output_type": "display_data"
    },
    {
     "name": "stdout",
     "output_type": "stream",
     "text": [
      "Epoch 464 done — avg loss: 2.946515\n"
     ]
    },
    {
     "data": {
      "application/vnd.jupyter.widget-view+json": {
       "model_id": "826c0190668a48d399fb9e9188dd9d5f",
       "version_major": 2,
       "version_minor": 0
      },
      "text/plain": [
       "Epoch 465:   0%|          | 0/25 [00:00<?, ?it/s]"
      ]
     },
     "metadata": {},
     "output_type": "display_data"
    },
    {
     "name": "stdout",
     "output_type": "stream",
     "text": [
      "Epoch 465 done — avg loss: 2.945023\n"
     ]
    },
    {
     "data": {
      "application/vnd.jupyter.widget-view+json": {
       "model_id": "e75349bf22a84a5a93456e5b519c844d",
       "version_major": 2,
       "version_minor": 0
      },
      "text/plain": [
       "Epoch 466:   0%|          | 0/25 [00:00<?, ?it/s]"
      ]
     },
     "metadata": {},
     "output_type": "display_data"
    },
    {
     "name": "stdout",
     "output_type": "stream",
     "text": [
      "Epoch 466 done — avg loss: 2.945486\n"
     ]
    },
    {
     "data": {
      "application/vnd.jupyter.widget-view+json": {
       "model_id": "2b5f486ca4fc477d8213de7be7f2b5ae",
       "version_major": 2,
       "version_minor": 0
      },
      "text/plain": [
       "Epoch 467:   0%|          | 0/25 [00:00<?, ?it/s]"
      ]
     },
     "metadata": {},
     "output_type": "display_data"
    },
    {
     "name": "stdout",
     "output_type": "stream",
     "text": [
      "Epoch 467 done — avg loss: 2.943032\n"
     ]
    },
    {
     "data": {
      "application/vnd.jupyter.widget-view+json": {
       "model_id": "0734def0a292407f8e15cdb5d49a6b9e",
       "version_major": 2,
       "version_minor": 0
      },
      "text/plain": [
       "Epoch 468:   0%|          | 0/25 [00:00<?, ?it/s]"
      ]
     },
     "metadata": {},
     "output_type": "display_data"
    },
    {
     "name": "stdout",
     "output_type": "stream",
     "text": [
      "Epoch 468 done — avg loss: 2.941715\n"
     ]
    },
    {
     "data": {
      "application/vnd.jupyter.widget-view+json": {
       "model_id": "c9d44081e76a4ceba1cfc049c7450197",
       "version_major": 2,
       "version_minor": 0
      },
      "text/plain": [
       "Epoch 469:   0%|          | 0/25 [00:00<?, ?it/s]"
      ]
     },
     "metadata": {},
     "output_type": "display_data"
    },
    {
     "name": "stdout",
     "output_type": "stream",
     "text": [
      "Epoch 469 done — avg loss: 2.941524\n"
     ]
    },
    {
     "data": {
      "application/vnd.jupyter.widget-view+json": {
       "model_id": "d803768d889a40ac9ad0dc0fa58ba77b",
       "version_major": 2,
       "version_minor": 0
      },
      "text/plain": [
       "Epoch 470:   0%|          | 0/25 [00:00<?, ?it/s]"
      ]
     },
     "metadata": {},
     "output_type": "display_data"
    },
    {
     "name": "stdout",
     "output_type": "stream",
     "text": [
      "Epoch 470 done — avg loss: 2.939568\n"
     ]
    },
    {
     "data": {
      "application/vnd.jupyter.widget-view+json": {
       "model_id": "1d0ea7c1f6094cb288ed2ae2764bf173",
       "version_major": 2,
       "version_minor": 0
      },
      "text/plain": [
       "Epoch 471:   0%|          | 0/25 [00:00<?, ?it/s]"
      ]
     },
     "metadata": {},
     "output_type": "display_data"
    },
    {
     "name": "stdout",
     "output_type": "stream",
     "text": [
      "Epoch 471 done — avg loss: 2.940370\n"
     ]
    },
    {
     "data": {
      "application/vnd.jupyter.widget-view+json": {
       "model_id": "84080bc501ec4d88ba1574a42a6150f7",
       "version_major": 2,
       "version_minor": 0
      },
      "text/plain": [
       "Epoch 472:   0%|          | 0/25 [00:00<?, ?it/s]"
      ]
     },
     "metadata": {},
     "output_type": "display_data"
    },
    {
     "name": "stdout",
     "output_type": "stream",
     "text": [
      "Epoch 472 done — avg loss: 2.939514\n"
     ]
    },
    {
     "data": {
      "application/vnd.jupyter.widget-view+json": {
       "model_id": "dc75da4b9adc4c06b3a2905a7eea9728",
       "version_major": 2,
       "version_minor": 0
      },
      "text/plain": [
       "Epoch 473:   0%|          | 0/25 [00:00<?, ?it/s]"
      ]
     },
     "metadata": {},
     "output_type": "display_data"
    },
    {
     "name": "stdout",
     "output_type": "stream",
     "text": [
      "Epoch 473 done — avg loss: 2.936993\n"
     ]
    },
    {
     "data": {
      "application/vnd.jupyter.widget-view+json": {
       "model_id": "4acf507137384c6a895893cf1d6323d2",
       "version_major": 2,
       "version_minor": 0
      },
      "text/plain": [
       "Epoch 474:   0%|          | 0/25 [00:00<?, ?it/s]"
      ]
     },
     "metadata": {},
     "output_type": "display_data"
    },
    {
     "name": "stdout",
     "output_type": "stream",
     "text": [
      "Epoch 474 done — avg loss: 2.936579\n"
     ]
    },
    {
     "data": {
      "application/vnd.jupyter.widget-view+json": {
       "model_id": "cc9b8553e5d34638bcdcee8ac6f16d54",
       "version_major": 2,
       "version_minor": 0
      },
      "text/plain": [
       "Epoch 475:   0%|          | 0/25 [00:00<?, ?it/s]"
      ]
     },
     "metadata": {},
     "output_type": "display_data"
    },
    {
     "name": "stdout",
     "output_type": "stream",
     "text": [
      "Epoch 475 done — avg loss: 2.935234\n"
     ]
    },
    {
     "data": {
      "application/vnd.jupyter.widget-view+json": {
       "model_id": "33d50496f3694e92b04624625ca26ac9",
       "version_major": 2,
       "version_minor": 0
      },
      "text/plain": [
       "Epoch 476:   0%|          | 0/25 [00:00<?, ?it/s]"
      ]
     },
     "metadata": {},
     "output_type": "display_data"
    },
    {
     "name": "stdout",
     "output_type": "stream",
     "text": [
      "Epoch 476 done — avg loss: 2.935046\n"
     ]
    },
    {
     "data": {
      "application/vnd.jupyter.widget-view+json": {
       "model_id": "9df4064059db46c8a015555470804efe",
       "version_major": 2,
       "version_minor": 0
      },
      "text/plain": [
       "Epoch 477:   0%|          | 0/25 [00:00<?, ?it/s]"
      ]
     },
     "metadata": {},
     "output_type": "display_data"
    },
    {
     "name": "stdout",
     "output_type": "stream",
     "text": [
      "Epoch 477 done — avg loss: 2.934475\n"
     ]
    },
    {
     "data": {
      "application/vnd.jupyter.widget-view+json": {
       "model_id": "336afa4b42114eda9f39f684f21aa1c3",
       "version_major": 2,
       "version_minor": 0
      },
      "text/plain": [
       "Epoch 478:   0%|          | 0/25 [00:00<?, ?it/s]"
      ]
     },
     "metadata": {},
     "output_type": "display_data"
    },
    {
     "name": "stdout",
     "output_type": "stream",
     "text": [
      "Epoch 478 done — avg loss: 2.934572\n"
     ]
    },
    {
     "data": {
      "application/vnd.jupyter.widget-view+json": {
       "model_id": "982d9d13d7434a4895e34ae9d44af518",
       "version_major": 2,
       "version_minor": 0
      },
      "text/plain": [
       "Epoch 479:   0%|          | 0/25 [00:00<?, ?it/s]"
      ]
     },
     "metadata": {},
     "output_type": "display_data"
    },
    {
     "name": "stdout",
     "output_type": "stream",
     "text": [
      "Epoch 479 done — avg loss: 2.934329\n"
     ]
    },
    {
     "data": {
      "application/vnd.jupyter.widget-view+json": {
       "model_id": "c615c32615ad43e2b6ac92442d0cff00",
       "version_major": 2,
       "version_minor": 0
      },
      "text/plain": [
       "Epoch 480:   0%|          | 0/25 [00:00<?, ?it/s]"
      ]
     },
     "metadata": {},
     "output_type": "display_data"
    },
    {
     "name": "stdout",
     "output_type": "stream",
     "text": [
      "Epoch 480 done — avg loss: 2.931834\n"
     ]
    },
    {
     "data": {
      "application/vnd.jupyter.widget-view+json": {
       "model_id": "fd6ae51c8a3640db839b8873f7684372",
       "version_major": 2,
       "version_minor": 0
      },
      "text/plain": [
       "Epoch 481:   0%|          | 0/25 [00:00<?, ?it/s]"
      ]
     },
     "metadata": {},
     "output_type": "display_data"
    },
    {
     "name": "stdout",
     "output_type": "stream",
     "text": [
      "Epoch 481 done — avg loss: 2.930770\n"
     ]
    },
    {
     "data": {
      "application/vnd.jupyter.widget-view+json": {
       "model_id": "48c9dd8f7385452fa3929ef41ae43c6e",
       "version_major": 2,
       "version_minor": 0
      },
      "text/plain": [
       "Epoch 482:   0%|          | 0/25 [00:00<?, ?it/s]"
      ]
     },
     "metadata": {},
     "output_type": "display_data"
    },
    {
     "name": "stdout",
     "output_type": "stream",
     "text": [
      "Epoch 482 done — avg loss: 2.931122\n"
     ]
    },
    {
     "data": {
      "application/vnd.jupyter.widget-view+json": {
       "model_id": "18f609038b7f4115a2d7ca607cf8f66b",
       "version_major": 2,
       "version_minor": 0
      },
      "text/plain": [
       "Epoch 483:   0%|          | 0/25 [00:00<?, ?it/s]"
      ]
     },
     "metadata": {},
     "output_type": "display_data"
    },
    {
     "name": "stdout",
     "output_type": "stream",
     "text": [
      "Epoch 483 done — avg loss: 2.929389\n"
     ]
    },
    {
     "data": {
      "application/vnd.jupyter.widget-view+json": {
       "model_id": "1228018ef2bf49c8bcfcc5b16e1c06b8",
       "version_major": 2,
       "version_minor": 0
      },
      "text/plain": [
       "Epoch 484:   0%|          | 0/25 [00:00<?, ?it/s]"
      ]
     },
     "metadata": {},
     "output_type": "display_data"
    },
    {
     "name": "stdout",
     "output_type": "stream",
     "text": [
      "Epoch 484 done — avg loss: 2.927483\n"
     ]
    },
    {
     "data": {
      "application/vnd.jupyter.widget-view+json": {
       "model_id": "15e338fa1765482094cf1a1c2a31244c",
       "version_major": 2,
       "version_minor": 0
      },
      "text/plain": [
       "Epoch 485:   0%|          | 0/25 [00:00<?, ?it/s]"
      ]
     },
     "metadata": {},
     "output_type": "display_data"
    },
    {
     "name": "stdout",
     "output_type": "stream",
     "text": [
      "Epoch 485 done — avg loss: 2.928388\n"
     ]
    },
    {
     "data": {
      "application/vnd.jupyter.widget-view+json": {
       "model_id": "1a386aef27694111abf4a474592bb62f",
       "version_major": 2,
       "version_minor": 0
      },
      "text/plain": [
       "Epoch 486:   0%|          | 0/25 [00:00<?, ?it/s]"
      ]
     },
     "metadata": {},
     "output_type": "display_data"
    },
    {
     "name": "stdout",
     "output_type": "stream",
     "text": [
      "Epoch 486 done — avg loss: 2.928127\n"
     ]
    },
    {
     "data": {
      "application/vnd.jupyter.widget-view+json": {
       "model_id": "c85b2671a5d7473c9fa83845607fe2d6",
       "version_major": 2,
       "version_minor": 0
      },
      "text/plain": [
       "Epoch 487:   0%|          | 0/25 [00:00<?, ?it/s]"
      ]
     },
     "metadata": {},
     "output_type": "display_data"
    },
    {
     "name": "stdout",
     "output_type": "stream",
     "text": [
      "Epoch 487 done — avg loss: 2.926511\n"
     ]
    },
    {
     "data": {
      "application/vnd.jupyter.widget-view+json": {
       "model_id": "7f68089bbeb442c3b2886014309bd730",
       "version_major": 2,
       "version_minor": 0
      },
      "text/plain": [
       "Epoch 488:   0%|          | 0/25 [00:00<?, ?it/s]"
      ]
     },
     "metadata": {},
     "output_type": "display_data"
    },
    {
     "name": "stdout",
     "output_type": "stream",
     "text": [
      "Epoch 488 done — avg loss: 2.924089\n"
     ]
    },
    {
     "data": {
      "application/vnd.jupyter.widget-view+json": {
       "model_id": "1c1af3f99c4848a2a719e3e53fdfa6d6",
       "version_major": 2,
       "version_minor": 0
      },
      "text/plain": [
       "Epoch 489:   0%|          | 0/25 [00:00<?, ?it/s]"
      ]
     },
     "metadata": {},
     "output_type": "display_data"
    },
    {
     "name": "stdout",
     "output_type": "stream",
     "text": [
      "Epoch 489 done — avg loss: 2.923913\n"
     ]
    },
    {
     "data": {
      "application/vnd.jupyter.widget-view+json": {
       "model_id": "306634224b0e4eed908780bd95671e4e",
       "version_major": 2,
       "version_minor": 0
      },
      "text/plain": [
       "Epoch 490:   0%|          | 0/25 [00:00<?, ?it/s]"
      ]
     },
     "metadata": {},
     "output_type": "display_data"
    },
    {
     "name": "stdout",
     "output_type": "stream",
     "text": [
      "Epoch 490 done — avg loss: 2.923037\n"
     ]
    },
    {
     "data": {
      "application/vnd.jupyter.widget-view+json": {
       "model_id": "a8a75225791849258e4e50903ded14cb",
       "version_major": 2,
       "version_minor": 0
      },
      "text/plain": [
       "Epoch 491:   0%|          | 0/25 [00:00<?, ?it/s]"
      ]
     },
     "metadata": {},
     "output_type": "display_data"
    },
    {
     "name": "stdout",
     "output_type": "stream",
     "text": [
      "Epoch 491 done — avg loss: 2.922260\n"
     ]
    },
    {
     "data": {
      "application/vnd.jupyter.widget-view+json": {
       "model_id": "2dcade02af17441ab45b0a50ac1d4f15",
       "version_major": 2,
       "version_minor": 0
      },
      "text/plain": [
       "Epoch 492:   0%|          | 0/25 [00:00<?, ?it/s]"
      ]
     },
     "metadata": {},
     "output_type": "display_data"
    },
    {
     "name": "stdout",
     "output_type": "stream",
     "text": [
      "Epoch 492 done — avg loss: 2.922034\n"
     ]
    },
    {
     "data": {
      "application/vnd.jupyter.widget-view+json": {
       "model_id": "50bf2507a940496891f84ffe8e082186",
       "version_major": 2,
       "version_minor": 0
      },
      "text/plain": [
       "Epoch 493:   0%|          | 0/25 [00:00<?, ?it/s]"
      ]
     },
     "metadata": {},
     "output_type": "display_data"
    },
    {
     "name": "stdout",
     "output_type": "stream",
     "text": [
      "Epoch 493 done — avg loss: 2.922146\n"
     ]
    },
    {
     "data": {
      "application/vnd.jupyter.widget-view+json": {
       "model_id": "b9e83dec66c943cfa89f9f84b170ac95",
       "version_major": 2,
       "version_minor": 0
      },
      "text/plain": [
       "Epoch 494:   0%|          | 0/25 [00:00<?, ?it/s]"
      ]
     },
     "metadata": {},
     "output_type": "display_data"
    },
    {
     "name": "stdout",
     "output_type": "stream",
     "text": [
      "Epoch 494 done — avg loss: 2.920044\n"
     ]
    },
    {
     "data": {
      "application/vnd.jupyter.widget-view+json": {
       "model_id": "feea9b6cd05b4772849532d60a557206",
       "version_major": 2,
       "version_minor": 0
      },
      "text/plain": [
       "Epoch 495:   0%|          | 0/25 [00:00<?, ?it/s]"
      ]
     },
     "metadata": {},
     "output_type": "display_data"
    },
    {
     "name": "stdout",
     "output_type": "stream",
     "text": [
      "Epoch 495 done — avg loss: 2.919173\n"
     ]
    },
    {
     "data": {
      "application/vnd.jupyter.widget-view+json": {
       "model_id": "efc33826580344078aa9c7e98c48b346",
       "version_major": 2,
       "version_minor": 0
      },
      "text/plain": [
       "Epoch 496:   0%|          | 0/25 [00:00<?, ?it/s]"
      ]
     },
     "metadata": {},
     "output_type": "display_data"
    },
    {
     "name": "stdout",
     "output_type": "stream",
     "text": [
      "Epoch 496 done — avg loss: 2.917941\n"
     ]
    },
    {
     "data": {
      "application/vnd.jupyter.widget-view+json": {
       "model_id": "806be9a9acbe4ef5a78a7a724bfacd27",
       "version_major": 2,
       "version_minor": 0
      },
      "text/plain": [
       "Epoch 497:   0%|          | 0/25 [00:00<?, ?it/s]"
      ]
     },
     "metadata": {},
     "output_type": "display_data"
    },
    {
     "name": "stdout",
     "output_type": "stream",
     "text": [
      "Epoch 497 done — avg loss: 2.917628\n"
     ]
    },
    {
     "data": {
      "application/vnd.jupyter.widget-view+json": {
       "model_id": "b22ce4b770bb4a809e934cad014b4505",
       "version_major": 2,
       "version_minor": 0
      },
      "text/plain": [
       "Epoch 498:   0%|          | 0/25 [00:00<?, ?it/s]"
      ]
     },
     "metadata": {},
     "output_type": "display_data"
    },
    {
     "name": "stdout",
     "output_type": "stream",
     "text": [
      "Epoch 498 done — avg loss: 2.915981\n"
     ]
    },
    {
     "data": {
      "application/vnd.jupyter.widget-view+json": {
       "model_id": "0854bf0e7ef1424eb117c2a475641f0f",
       "version_major": 2,
       "version_minor": 0
      },
      "text/plain": [
       "Epoch 499:   0%|          | 0/25 [00:00<?, ?it/s]"
      ]
     },
     "metadata": {},
     "output_type": "display_data"
    },
    {
     "name": "stdout",
     "output_type": "stream",
     "text": [
      "Epoch 499 done — avg loss: 2.915011\n"
     ]
    },
    {
     "data": {
      "application/vnd.jupyter.widget-view+json": {
       "model_id": "3bc128e7a3894cc3a18c95bb5ecf9323",
       "version_major": 2,
       "version_minor": 0
      },
      "text/plain": [
       "Epoch 500:   0%|          | 0/25 [00:00<?, ?it/s]"
      ]
     },
     "metadata": {},
     "output_type": "display_data"
    },
    {
     "name": "stdout",
     "output_type": "stream",
     "text": [
      "Epoch 500 done — avg loss: 2.914692\n"
     ]
    }
   ],
   "source": [
    "train_soft_prompt(loader, model, soft_prompt, optimizer, 500)"
   ]
  },
  {
   "cell_type": "code",
   "execution_count": null,
   "metadata": {
    "id": "CrSaOBvfC4Er"
   },
   "outputs": [],
   "source": [
    "model.eval();"
   ]
  },
  {
   "cell_type": "code",
   "execution_count": null,
   "metadata": {
    "colab": {
     "base_uri": "https://localhost:8080/",
     "height": 66,
     "referenced_widgets": [
      "d01062176e45433cb7f95af904ca2d01",
      "353c0c3eb7de4f029c732e12daa4b5ee",
      "b23b1c2b604948ceb940b51ba4b0809b",
      "ec0e898e2d894dbd85533684dc3a52bc",
      "7dacbca24a074ea7ba766e25d1886033",
      "8053c8119a934545a431361ae3e5b490",
      "176db8464c7d49c8aee5ab408071c3da",
      "3ee64b668ccb495089d9eaf6446720ce",
      "d3292cb4d0ca4820aacb4da0982dbdce",
      "9dcd3daff3e94e2f8491186d84ba6046",
      "01e6b2f0b05442ffbad45abe0ac791c6",
      "4f6d2e30dda64832a33df20aef428504",
      "35217881e1ed4c7084b9ae7704b6876f",
      "56c2954e58f041149cff05ded147a8e1",
      "414439badf9545a8841068a0e57306e9",
      "f3c02e1c106b4637bed863648e03841d",
      "7f2fd30d09084e4e949d7d33f06f8fe1",
      "1948c307e5324f9a92089842d863bd9d",
      "6319dd375a664774be1f1330d4105d91",
      "7df0675781bf4be591937389a514bf73",
      "1d4045386da441a68b403bae39168c20",
      "f99e4036e625454ea3c4a442a8fcb5ab",
      "17ee66c2cfc94fc6ab958e90a0791491",
      "0c3c7b446be641f9a4177ac80d498b5f",
      "173f8b71c570481a80409c08f70a6583",
      "7c10e62cae4448d9953f6bd45634b0b0",
      "cbdfa5b315f94d59857ab24cb1f49eee",
      "d4f07ad04f3947e9b80fb498743f1041",
      "ac3f8d7028114c14b3374b55a7266d5c",
      "b2d3e8894cb14ebdac83adc3bb298d85",
      "035b743c52134e1aa1f4ae9e15a1bd87",
      "237be8447a9c4d978f5c24186f2f98dc",
      "110c7b46c18541fc8b12c588a526592d",
      "4adedb6c8948495399b3de2320261a19",
      "455a72681b394872bc9bad064bc745fc",
      "a19ae620873a475a98efbfe2bc152ddd",
      "9bfaf50b65b34a17ac9fc2f5c0c7db88",
      "ca151e3a03f74003a1ec3aaf4a4d5050",
      "4c884bbd5999465da6362b7668a05e68",
      "b3acf36e438c4a33a7741747ef2f9dda",
      "c8464951a89f434884f5b9312f45bc00",
      "f0992c56692b426188a1ea3f1312d6cc",
      "7d0ece8ffb6045ef83cac95380b74117",
      "c3185d9b7acc46059035bcf7c68de97a",
      "113ebdfe0583424aae23b1344fbf6229",
      "83cac9601fb24b0186dee5726165a031",
      "ed2b263b27684b309ec3ad600e3e67d8",
      "71bb8de5e3fb449d8f66e7c2c813ed36",
      "c4a847c0e5704e68b4904fa2471a22c5",
      "a0643b4d89b3437ca7ada6af6410e6d3",
      "84de42a3d6b24e738a609222a6a05b84",
      "5c83ccc77a8f4b09a7a5942be762ee04",
      "f4036b696da049169adb2ce3deacde24",
      "582409d7b22944bb85fbdbb0fff6adfd",
      "b8c41ad1f38c45e5bb1150e0d7e46b5d",
      "ddb08d3fc33d4757ae0280f7b4f486cd",
      "346f58bdf3264ea18897efdc85e22526",
      "c781141b01344a5499d20b12f047dd66",
      "edb2b36850754d0b89cab0f0de6c8e44",
      "186dd64f66b245618fb556fd50d06b98",
      "3ac90df8fc9542858c0f76d10b652165",
      "054054fdb7744ebd8097384c35c2342a",
      "19d01e8979e54149be4061c33016b39a",
      "9f0cd5ae47374206abe0ad571de29ab5",
      "0d983ef72dc548edbd0531e3f62689b8",
      "d6826bc51230409792fc11e770fee66f",
      "eec835459de24470b964c2f6062c79cc",
      "68e15d4bd6984ac49c215b659bfeb63f",
      "113e6aefea0f44c994f66e02fd513eec",
      "f0a023c951664b15869de00b984d5fce",
      "b42eacd2ece84f23888cbcb3fd3ed9d8",
      "8f25b6bac1a74408b0f64c14773575bf",
      "eeea76fe37834104bf20304b16b5b31c",
      "e4e97f2383244960b845c81113dccef4",
      "d91f53451ec648daace3b6fc3799c328",
      "ac2a090b29db4762b43ec8af8298dcc7",
      "e7de31a01bbf449e85050c5c200e067c",
      "0d3e0377f0f9401196aefddf5a552472",
      "6ec89017f4a24af990a9f16f1d020063",
      "c3a364f4a0af474c8ab333cde8e2e93d",
      "226dbf082dfd4c5e896903d74d75cd6b",
      "14d6158ef3ce4102b1ac19f2e693ddb8",
      "93bb5dde2edc4704a595c3d58e7ed483",
      "d3d096002df14091a22d7633a40aa1c8",
      "f622e3f8640e40e58b8851747dcd7495",
      "e5bc3081fc0d4a42817331319c6fba71",
      "5547bf5b33ea45adb6adbca1c1eb7f03",
      "bf33ea72e709458da544ea6b61265ae7",
      "23f465184c144d948b32b72dc5b8b7d4",
      "4ff19e76275149d6ab52279a1d7f2c37",
      "521829adce1c469280212c909a601790",
      "e1934ed72e2244eba9f71d182d8623e2",
      "48efde1cd62f4cedb04ae8082a8b5ac2",
      "42704b524215462c8de879f6f9241508",
      "5f2f9b1ca17e4ac0bf51b15c8298e9f6",
      "6ac101962ccc4da08c7ac529df8dd37a",
      "13cb70f5640b4df7962ef35027fc76b5",
      "82811b0c2b6c4a64a9dc9e24e08430da",
      "557af16b13e24c27a144cbfdb6c02453",
      "9aaf7a4fa0bf40bea4e59e02df77ae20",
      "496f7e227f814fdcb01c2f69dc5ce05c",
      "d4315ce746e642dd8f383e1a4aa2eca9",
      "cbc87103a55140aeb503b2212d989cc3",
      "52970345b9834b7a94e270ae2f4d5cd8",
      "af92e7859e484ec7a28ed6153be2c96b",
      "15a2df97efca4079af82b149247bcea3",
      "64231353c649456e957a69d4fe658d55",
      "013ba55864f64e40bcb5f48cca9f0337",
      "a69e509b0b6e448c82d5f0145ade615b",
      "862dbecfecf84b8fa14948fcb33530bb",
      "bc9f7da28e9240ca9d8fbc29d4100be9",
      "0ad9e62678c346af96678d6e62631c05",
      "5e3b855eb13f44478876f469198daa8f",
      "2177442f56a747548a39535c09389d49",
      "26d48599e7244bdaa669db09d207c641",
      "0302e04fbfbf413b8065b35c1091ef84",
      "a586f529eefb498e8fb756da2a786dfa",
      "b1a1f9d7bb914e9888cd9b84fc929025",
      "f6f1ea9505ef44ea96dad3431be2b953",
      "c4e13596075b4f3596c5e364b0f8b161",
      "9c3a5f20428f40e3912900e25d48d3dc",
      "e267f79bd04349ad84b59dcbd36d8fc2",
      "8ea6884c2ead4e70854e4bb0bcffa746",
      "637018001fb54ab89181b235a0622972",
      "3f4579a405754d3f8c1fb53c2c8e291a",
      "a119e858c1b343deac631b8cec88e1db",
      "023fa54579ad437c9af616c3ecd4715d",
      "149eb7ec0ab44cb5bf686cf458811551",
      "e1293843fbc5474aabccaf73020b28d4",
      "c34feca3666240b9818b3a649c352c7d",
      "a34e773184a04d8ea47d96085d4001dd",
      "a8fe6060b51b4903ba3b7731039109f1",
      "ccb49092285d44b08600377c7000d71a",
      "b0c79887582c4f3aa6e27f2691c89a64",
      "ac417ca2fbc147d087c64e449ccb13d0",
      "01a77059580f45cb8679fca1f89e99ef",
      "751f218494c14450a7de247a09652156",
      "0fb4d128c0aa45a9875db74b721ccb1b",
      "d59cffbd526e4ddb94f459c37aa1a8d4",
      "a21e9fa45f3a4c6aaa9c99faa7de5255",
      "9102a88ae99d46ddba07ef0bd298ffb8",
      "fef5db8ac4db45fb883358c5a31bd9ac",
      "0e32863418114864a127ffdbbc2e5612",
      "df0b323b46da4fb5ab19fa6c1715fb46",
      "26b92bc9c51a4487a5491e0410b7c8c1",
      "cf138f24e3b543b19c865f32723551e2",
      "ff2842ab2e724d079bc9767d80143d25",
      "a4803c788cb448edb429f365d7756830",
      "1be0b6186096478b9de99364d5800a0b",
      "89594cca1e9c454296caf70f24e07f51",
      "d208a0ade20d466d85e2af3faad9a20c",
      "c91d9272a35e4e99ba1c9f793b7811ae",
      "2efdcf3d3797456a8b2416f72f66aac4",
      "f362006856c54ef1b4b72381273d9781",
      "bfa09e1185f54da0838c9af56acc1b64",
      "0bdf4e00fe5c4567b1b313a7a5df7244",
      "8cb6c1864ccd4cb9990d729071d69bcf",
      "ecf2ebc7c2e14cc0ab6a45d309a107dc",
      "9994324191004e9d9f10a2a4b63c3270",
      "a6d6a600138145f7ab2551460c5543ef",
      "f32173189ae04258b26b441dce93cb2e",
      "3d021aba250f4e55ab1dde3bc4b6d8b2",
      "7aa4f68c4fad41158293d274aa3d5162",
      "8ee35f56bb7f4a219642a8c85ae36fa1",
      "11fe48577ada4364b85ef2820741b5b8",
      "74e0dd6785a3442e894ef3b0a2ce44cb",
      "3b1135bbf97b4356a1056a5855039f16",
      "65733154aa3c4fa59383fdf828615681",
      "8d919d80688f4b42abf5cc536a244658",
      "4f022eae1e7d48e1b1ee70b77361792c",
      "ee6eb86431774a169f048c3db5405d20",
      "27cda562a7fa4a50bb603be72f675d43",
      "0c61acf7176e4f1297014761df662801",
      "98cab7df97594317b0eee08b8d9802cd",
      "9c3491241d874da790847ad06cade6fe",
      "ec94adfee64d4395a821504c62ca78a4",
      "5ae2f026946b4d059295b1aab7f466ae",
      "ac0c1a689db842ffac5f40d7abb23d8f",
      "6612694ff2ab48b9baa7af8486507901",
      "3553a9623c2a4761bb32c9902a3e0d21",
      "1e708c4473da411c9f502a51796ae149",
      "60481846a20f40c0a31eb2a8f479ac6a",
      "06fdef8252c74d29b41eedbf92249288",
      "6f22b49a5dba4df4b560f4127bc68a2b",
      "d36ab45561044c4790baf8150de416fa",
      "ef6a86ea04c14402b73ba10169630769",
      "99208a7e32f04ca8b51a93cc3e359435",
      "8b13c395ddc34151acb5357ff817b4ef",
      "24fe916b2d484a8dbbdb23b78b9df0e3",
      "b30c4c4164d14fc1ba5c6e426db018b7",
      "a7c61462bda6496b96a8f4ec5f6df1f8",
      "6b5b8f12f88b44e18cfaba3d07a3741d",
      "717fcacafe57421584dd3578ef36eb98",
      "b3cbbbb788e948a9bd2ded6fc168422a",
      "882433aa6e5c4463a08503c08b6246c2",
      "e68456259d6a4209a6c2f8ce0d2c4dfa",
      "9f70d0c050a04bb5b3eacbbb1a114a8e",
      "44f2a45152f64d268a6161465da51dff",
      "a041103e757a4158bc9bec025b01d999",
      "9f2c6d6b16334f3eb49cd340b2931115",
      "fead2842841d4283ab948a3ee1608a41",
      "a6dd5b3c95d44f8ea3540b7165319e2d",
      "985eddcb22364abfb1b07843856086b2",
      "ed87cd923651406a9d793a3aee84f379",
      "547bd4abcf6c42b9a1647f03cb53cd01",
      "480975cfb2c24c8aa09cc09d674af7b6",
      "82d61af6c1fc401c94eadf1632cf5353",
      "23698266250c4b29a520ccd206ea9138",
      "22995951e40d4999a5ad9e6be8b175fc",
      "792fc298a0174357a9bf21f2c9400759",
      "472fdb1e273845f6b140533c10077f55",
      "35d91ed3c6e84716a8056cba154d602d",
      "f8d394d20e5642a4ada6ddbc661ef678",
      "e0b13026faca4f84942a2396b3d2fddb",
      "a071edc0532b4c44aaf1387fe6eb0531",
      "98019bdd194843a48b0f0f254c60b45f",
      "578108e479b74b60be942762d8aa7379",
      "2d522d6c738540a187a175fbfc371325",
      "de210b596edd4ffcb21af91529ad85c0",
      "1fb1a0a11741413595b2f781a9689ffe",
      "3a6e8d9742154f8e974a67eaf03348f2",
      "b9b15f6eac0a4a86b286d7e5b96395b4",
      "f29118b3ba9547c5aab91a70bc019186",
      "6aee7492b93a4071bb7be393d6c356bb",
      "5bfcada6b036464fa239953f1d7fe653",
      "7a58c379570a48a6a01fc6f87a9679bc",
      "c2cdf24311374de8a2a2a385c1e3741d",
      "fb0e1963fc3141118d042d75df283acd",
      "43c2958dce074a26ab0e5a0cb310809f",
      "7e1bec33546248d087f1a5ea4f54730e",
      "76f47ec5f72240aaac63fd8405e8be5f",
      "a9514406631e495dbab1a90a5a11d1b2",
      "cfdde55ee5ef42b0939ce9f8affd3e51",
      "ce198dc633034e20bd5c82342204cbbf",
      "9e6fdeb37346420a91b80c5ace8e93cf",
      "f1a00d19da34402fae4851264cb067c9",
      "69cddbfec3e04153b9370cc2369641dc",
      "16cd328d4b0a42c79ebac5e7a26f9ba9",
      "d412127abc864fe7928719ce16075038",
      "02e71fe82f194177bb1fb941ba028ed8",
      "f2d28bc5fe4548c0b8711d2d55e42921",
      "4c16410cdb11488cb6094289816598af",
      "5ffcea4f505c46d5b15734eae79a8a44",
      "5ad4bab00a074135865b62310968e67a",
      "414aa0d684554dc399770e2ed4999df8",
      "3a05d0c5babe47dd97e036d06cc8ecab",
      "0228d0fcca3f445f9839696bd6dc2857",
      "86d61afd45c1428580f4db036d3888ec",
      "6e465143bf104be0ad6b3d4fd15183a1",
      "acb2c3d97c034a069509df1489df786b",
      "3c3a414e2ee54eddb303b6067d5053c5",
      "bbcd4adee0a04ca6b2e11a429fd00faa",
      "1ce1830c1f7c40f68424d0bab1db45d0",
      "9bfc44212d514b898a457bbb4e0c8fb8",
      "6e24d0c1c0224653af4668770902dc2c",
      "61c0552d0df34ea6b39e052cd6d3aaf1",
      "2739be4877b542dd9a2d6463277a387f",
      "db716bb7e6294209913b6a05ffe07800",
      "d5d615d932da4bf590ee373c1177ca89",
      "7df6211432124b9db3f5a86d9cbdfeba",
      "8374608e0ae84af195f47d573cf8445a",
      "92cb9192249540118dc14f1df2272076",
      "692759d3d1744deab164f886dd1b82d0",
      "4681a86c9eb54b3ebdf76fdc5f7c186b",
      "c57a6b854b3640a988182a790481f7d4",
      "5da7f7b82ac943ef94f332df6441aae4",
      "4fcd76056c35453ba78b9dde8aa4f7fb",
      "953bb91c04dd42a093c48c0395e684a3",
      "48303b9d99c248cd8d4109c75b688234",
      "b0a0459acd4347c38e2b34929361c74d",
      "e6e8952c933240f7a4650a19af81eba6",
      "3245ea8e8d974738aceee7dd88db55ea",
      "52b68e85f72540fe8fea1a0039bb6b92",
      "f317b8d8199944688d3ba7e680520383",
      "4c112a0171264073b32743e8dac88eb9",
      "cb1acae250434eb59f6a71a002d1c979",
      "69b2c3cc0ea448c198a2d46f461f87bf",
      "5f7ed7c4c3744e0894c83f66d04256fe",
      "0462ed5f11c44e199e365cb802aa3d08",
      "fe7507950b174f05aa3c34e376ba0176",
      "7c148a78941e4a549d4581f2174ab833",
      "a396fd9b7ee34beaacf9fbd953750f2f",
      "d61f1814929d4eb987a5aa86a1921a25",
      "d148b4d8cf424be09949646c854ea062",
      "7f0991a7af4b48e2b400b42736c27472",
      "8cf5307e09754418a34e4b95c25578fe"
     ]
    },
    "executionInfo": {
     "elapsed": 217490,
     "status": "ok",
     "timestamp": 1751484852251,
     "user": {
      "displayName": "Yulia Yorkshirelove",
      "userId": "10480095246692972307"
     },
     "user_tz": -180
    },
    "id": "c5nxpuXlx0jQ",
    "outputId": "d85c7149-9043-4f33-8097-9c7e2d7bfeaa"
   },
   "outputs": [
    {
     "data": {
      "application/vnd.jupyter.widget-view+json": {
       "model_id": "d01062176e45433cb7f95af904ca2d01",
       "version_major": 2,
       "version_minor": 0
      },
      "text/plain": [
       "Encoding chunks:   0%|          | 0/25 [00:00<?, ?it/s]"
      ]
     },
     "metadata": {},
     "output_type": "display_data"
    },
    {
     "data": {
      "application/vnd.jupyter.widget-view+json": {
       "model_id": "4f6d2e30dda64832a33df20aef428504",
       "version_major": 2,
       "version_minor": 0
      },
      "text/plain": [
       "  Tokens in chunk:   0%|          | 0/668 [00:00<?, ?it/s]"
      ]
     },
     "metadata": {},
     "output_type": "display_data"
    },
    {
     "data": {
      "application/vnd.jupyter.widget-view+json": {
       "model_id": "17ee66c2cfc94fc6ab958e90a0791491",
       "version_major": 2,
       "version_minor": 0
      },
      "text/plain": [
       "  Tokens in chunk:   0%|          | 0/732 [00:00<?, ?it/s]"
      ]
     },
     "metadata": {},
     "output_type": "display_data"
    },
    {
     "data": {
      "application/vnd.jupyter.widget-view+json": {
       "model_id": "4adedb6c8948495399b3de2320261a19",
       "version_major": 2,
       "version_minor": 0
      },
      "text/plain": [
       "  Tokens in chunk:   0%|          | 0/572 [00:00<?, ?it/s]"
      ]
     },
     "metadata": {},
     "output_type": "display_data"
    },
    {
     "data": {
      "application/vnd.jupyter.widget-view+json": {
       "model_id": "113ebdfe0583424aae23b1344fbf6229",
       "version_major": 2,
       "version_minor": 0
      },
      "text/plain": [
       "  Tokens in chunk:   0%|          | 0/589 [00:00<?, ?it/s]"
      ]
     },
     "metadata": {},
     "output_type": "display_data"
    },
    {
     "data": {
      "application/vnd.jupyter.widget-view+json": {
       "model_id": "ddb08d3fc33d4757ae0280f7b4f486cd",
       "version_major": 2,
       "version_minor": 0
      },
      "text/plain": [
       "  Tokens in chunk:   0%|          | 0/577 [00:00<?, ?it/s]"
      ]
     },
     "metadata": {},
     "output_type": "display_data"
    },
    {
     "data": {
      "application/vnd.jupyter.widget-view+json": {
       "model_id": "eec835459de24470b964c2f6062c79cc",
       "version_major": 2,
       "version_minor": 0
      },
      "text/plain": [
       "  Tokens in chunk:   0%|          | 0/546 [00:00<?, ?it/s]"
      ]
     },
     "metadata": {},
     "output_type": "display_data"
    },
    {
     "data": {
      "application/vnd.jupyter.widget-view+json": {
       "model_id": "0d3e0377f0f9401196aefddf5a552472",
       "version_major": 2,
       "version_minor": 0
      },
      "text/plain": [
       "  Tokens in chunk:   0%|          | 0/453 [00:00<?, ?it/s]"
      ]
     },
     "metadata": {},
     "output_type": "display_data"
    },
    {
     "data": {
      "application/vnd.jupyter.widget-view+json": {
       "model_id": "23f465184c144d948b32b72dc5b8b7d4",
       "version_major": 2,
       "version_minor": 0
      },
      "text/plain": [
       "  Tokens in chunk:   0%|          | 0/505 [00:00<?, ?it/s]"
      ]
     },
     "metadata": {},
     "output_type": "display_data"
    },
    {
     "data": {
      "application/vnd.jupyter.widget-view+json": {
       "model_id": "9aaf7a4fa0bf40bea4e59e02df77ae20",
       "version_major": 2,
       "version_minor": 0
      },
      "text/plain": [
       "  Tokens in chunk:   0%|          | 0/453 [00:00<?, ?it/s]"
      ]
     },
     "metadata": {},
     "output_type": "display_data"
    },
    {
     "data": {
      "application/vnd.jupyter.widget-view+json": {
       "model_id": "bc9f7da28e9240ca9d8fbc29d4100be9",
       "version_major": 2,
       "version_minor": 0
      },
      "text/plain": [
       "  Tokens in chunk:   0%|          | 0/568 [00:00<?, ?it/s]"
      ]
     },
     "metadata": {},
     "output_type": "display_data"
    },
    {
     "data": {
      "application/vnd.jupyter.widget-view+json": {
       "model_id": "e267f79bd04349ad84b59dcbd36d8fc2",
       "version_major": 2,
       "version_minor": 0
      },
      "text/plain": [
       "  Tokens in chunk:   0%|          | 0/500 [00:00<?, ?it/s]"
      ]
     },
     "metadata": {},
     "output_type": "display_data"
    },
    {
     "data": {
      "application/vnd.jupyter.widget-view+json": {
       "model_id": "ccb49092285d44b08600377c7000d71a",
       "version_major": 2,
       "version_minor": 0
      },
      "text/plain": [
       "  Tokens in chunk:   0%|          | 0/511 [00:00<?, ?it/s]"
      ]
     },
     "metadata": {},
     "output_type": "display_data"
    },
    {
     "data": {
      "application/vnd.jupyter.widget-view+json": {
       "model_id": "df0b323b46da4fb5ab19fa6c1715fb46",
       "version_major": 2,
       "version_minor": 0
      },
      "text/plain": [
       "  Tokens in chunk:   0%|          | 0/487 [00:00<?, ?it/s]"
      ]
     },
     "metadata": {},
     "output_type": "display_data"
    },
    {
     "data": {
      "application/vnd.jupyter.widget-view+json": {
       "model_id": "bfa09e1185f54da0838c9af56acc1b64",
       "version_major": 2,
       "version_minor": 0
      },
      "text/plain": [
       "  Tokens in chunk:   0%|          | 0/456 [00:00<?, ?it/s]"
      ]
     },
     "metadata": {},
     "output_type": "display_data"
    },
    {
     "data": {
      "application/vnd.jupyter.widget-view+json": {
       "model_id": "74e0dd6785a3442e894ef3b0a2ce44cb",
       "version_major": 2,
       "version_minor": 0
      },
      "text/plain": [
       "  Tokens in chunk:   0%|          | 0/465 [00:00<?, ?it/s]"
      ]
     },
     "metadata": {},
     "output_type": "display_data"
    },
    {
     "data": {
      "application/vnd.jupyter.widget-view+json": {
       "model_id": "5ae2f026946b4d059295b1aab7f466ae",
       "version_major": 2,
       "version_minor": 0
      },
      "text/plain": [
       "  Tokens in chunk:   0%|          | 0/514 [00:00<?, ?it/s]"
      ]
     },
     "metadata": {},
     "output_type": "display_data"
    },
    {
     "data": {
      "application/vnd.jupyter.widget-view+json": {
       "model_id": "8b13c395ddc34151acb5357ff817b4ef",
       "version_major": 2,
       "version_minor": 0
      },
      "text/plain": [
       "  Tokens in chunk:   0%|          | 0/426 [00:00<?, ?it/s]"
      ]
     },
     "metadata": {},
     "output_type": "display_data"
    },
    {
     "data": {
      "application/vnd.jupyter.widget-view+json": {
       "model_id": "a041103e757a4158bc9bec025b01d999",
       "version_major": 2,
       "version_minor": 0
      },
      "text/plain": [
       "  Tokens in chunk:   0%|          | 0/537 [00:00<?, ?it/s]"
      ]
     },
     "metadata": {},
     "output_type": "display_data"
    },
    {
     "data": {
      "application/vnd.jupyter.widget-view+json": {
       "model_id": "792fc298a0174357a9bf21f2c9400759",
       "version_major": 2,
       "version_minor": 0
      },
      "text/plain": [
       "  Tokens in chunk:   0%|          | 0/494 [00:00<?, ?it/s]"
      ]
     },
     "metadata": {},
     "output_type": "display_data"
    },
    {
     "data": {
      "application/vnd.jupyter.widget-view+json": {
       "model_id": "3a6e8d9742154f8e974a67eaf03348f2",
       "version_major": 2,
       "version_minor": 0
      },
      "text/plain": [
       "  Tokens in chunk:   0%|          | 0/600 [00:00<?, ?it/s]"
      ]
     },
     "metadata": {},
     "output_type": "display_data"
    },
    {
     "data": {
      "application/vnd.jupyter.widget-view+json": {
       "model_id": "a9514406631e495dbab1a90a5a11d1b2",
       "version_major": 2,
       "version_minor": 0
      },
      "text/plain": [
       "  Tokens in chunk:   0%|          | 0/473 [00:00<?, ?it/s]"
      ]
     },
     "metadata": {},
     "output_type": "display_data"
    },
    {
     "data": {
      "application/vnd.jupyter.widget-view+json": {
       "model_id": "5ffcea4f505c46d5b15734eae79a8a44",
       "version_major": 2,
       "version_minor": 0
      },
      "text/plain": [
       "  Tokens in chunk:   0%|          | 0/494 [00:00<?, ?it/s]"
      ]
     },
     "metadata": {},
     "output_type": "display_data"
    },
    {
     "data": {
      "application/vnd.jupyter.widget-view+json": {
       "model_id": "9bfc44212d514b898a457bbb4e0c8fb8",
       "version_major": 2,
       "version_minor": 0
      },
      "text/plain": [
       "  Tokens in chunk:   0%|          | 0/495 [00:00<?, ?it/s]"
      ]
     },
     "metadata": {},
     "output_type": "display_data"
    },
    {
     "data": {
      "application/vnd.jupyter.widget-view+json": {
       "model_id": "c57a6b854b3640a988182a790481f7d4",
       "version_major": 2,
       "version_minor": 0
      },
      "text/plain": [
       "  Tokens in chunk:   0%|          | 0/442 [00:00<?, ?it/s]"
      ]
     },
     "metadata": {},
     "output_type": "display_data"
    },
    {
     "data": {
      "application/vnd.jupyter.widget-view+json": {
       "model_id": "cb1acae250434eb59f6a71a002d1c979",
       "version_major": 2,
       "version_minor": 0
      },
      "text/plain": [
       "  Tokens in chunk:   0%|          | 0/452 [00:00<?, ?it/s]"
      ]
     },
     "metadata": {},
     "output_type": "display_data"
    },
    {
     "name": "stdout",
     "output_type": "stream",
     "text": [
      "Encoding done in 217.47s\n"
     ]
    }
   ],
   "source": [
    "chunk_data = encode_with_soft_prompt(\n",
    "    dataset, model, soft_prompt)"
   ]
  },
  {
   "cell_type": "code",
   "execution_count": null,
   "metadata": {
    "colab": {
     "base_uri": "https://localhost:8080/",
     "height": 66,
     "referenced_widgets": [
      "b42f3fda9bd64b678d2243de2d80cf40",
      "9c6c25b9c20741709f0c22a74a420959",
      "8708134f19a4490181dd5cd4db7dea9d",
      "60329984802b4d2a9cf707bfda189907",
      "bd59da7d531740258e2ecf71bcaf5b33",
      "67cc7e0546364068b2bc4dc4b4ac5933",
      "a578e1d062c24a09a8d4f041d1c5b399",
      "30ce272fbc5d445992e27efd6ac2e958",
      "8c20bba3d7d644cb9c928b65990a32d1",
      "a664f52bf0904395b2918208600c62e9",
      "b2b545962ff8477db7095e810d442fec",
      "7b47a0445ad54d9cbdcc33654bcd3e94",
      "d64b5faae85148348a33201a7c2e0316",
      "e255e5775149472397d486a1ab84963f",
      "bc78a60577184243b8bf77712d8674b1",
      "09a370bb2a2e4ea4b0cfddde170a9920",
      "3e38cab6e43d4fcabe5a0b2101a3fbb0",
      "217d09b1ba8a412490af01ccbfd13b41",
      "ee541aa3d6d642caaee629b5a2b856f9",
      "27feccc774fb40498517d54e0e6a04f1",
      "2abb1613263343eba2534f5a2aa87292",
      "9bf98e0ec0be48b6a139b90804a5be7c",
      "3bb3d1256c3f4c86a471acfe8729b7f9",
      "05cafc5ecaee4cdbb56f83976105d547",
      "cd21112cece24b5ea685ed6ff607dc0d",
      "25ff9715a7094b929622e31813a6ac19",
      "3e52242bc0e14916850b1b8d3ce76caa",
      "188490fdd07641a89be0cbabab66ade8",
      "defcc452c08643dc8c0c5f9ede758103",
      "278faeac046f437a8ba5ce3bfa67a1a2",
      "42b93a4a66ef41b9a827ef5ceefd895c",
      "a0aaab8384874e3394e42acbf46f8589",
      "8b67474de9f74854a8066fba71738c15",
      "15d86a1a6145420a969b553a46f941dd",
      "fed3b0e29c3349ff844f617e65709924",
      "ddd581b18c1d466286dd7f4fd23b1ca4",
      "f99d7057ba4346b085e6a6ea7d96fa4e",
      "917385d855194e7c9e91ddca0fc50458",
      "dc288c5d3f2a42f48ada95c1b0dd33ca",
      "4954407a65d648779c5f280ce43a77c0",
      "7bb8bb094d4d4d60a54f406cb7aaac8e",
      "bce501bac1ae4f388298eb0ff7c6e1e7",
      "01adc7d44b9b4a5d91bb9a3ff7a6cb49",
      "094ad7b75962460b9163c2b373e2577e",
      "a156bd92f34b4fda9fdc13a48923e66c",
      "1b228cd4a3c442969bca10c4d5bf6cf2",
      "d4d4bbc4a9a64c399b1e269331eac622",
      "b94a1f6809f24609be31f1415d24dbf2",
      "bffab73cf31843f580ca2cd0feedb336",
      "10776cab8ab0400c9087db63aec8a6b5",
      "c57ed09041df495fabc9836dbb6e1d47",
      "6013aa0daf924a1eb56295ca711761d8",
      "f5bbd4e3907142a2af64b1e6df9eb5c9",
      "a33f5a3a34874a27a94c2c99c76ceaee",
      "dbaaab9954f441ae9c233cb833d35d19",
      "7995f1a03c7e42e7a7498053fe5c8b60",
      "0d57cc27026b4b8b8d4343308950d2c9",
      "2acaf14a1fdc49e5bbf184ffc0302615",
      "e60fd993c3b64d7689d4e775ba49e97a",
      "f66504d818b74a8aaf350ceee4af389c",
      "a0a9aaf07faa4e9fb58fd6fb3daba983",
      "5812455eaa4c4269982b7149c0619a17",
      "3f2d3d53c5c84e5b8d80192e9f66e12d",
      "440f0267e94340ae84cc7068c5ac82f2",
      "a0c1bd5585cd46888a0732bc347afb65",
      "0256fd6fb20147b6b121f89a803d4bd4",
      "af538b3727bb43a798669390bbe78063",
      "ceaa3735959640078f27b0309ffcbb5d",
      "145d3763890347f08db426b17c3adace",
      "f9af50daa16a45ea8df1d17eb792133b",
      "f56d6347ee334f5db59a96f851702f61",
      "2e0a08c64aa54d3f8b915e2e3a22b38e",
      "70a4c6f2f4114806967db1af5bf5d623",
      "19aa6cef49f64142a40383dd1bd5f893",
      "272e3b6a4bde43d6b09ec86a33493bca",
      "466a16e5aae343d38de8dfdae5dcc56a",
      "405292993da14008881d22bd0b03e869",
      "482967b861f34a2e86f4be793f1a5142",
      "5507b01decd44cda9356c64320b5586d",
      "d3613fdcb9bb4a0882c5bfd5399ba47b",
      "e696eaa8ed40496faba0093d2f5f96d8",
      "2542e79ae8384df2a7dff661df9fef71",
      "42100cbb9e3b4d5ca6f49c66ad1c2cfe",
      "d87516065564416bbb4099163444d8bb",
      "f3b9bbd83eb443938469015cdf5695e2",
      "92e9c136c93f4d5bb14380020d679183",
      "f473995ab0bd4963afd24820afd9a16c",
      "c0b9b47da6da46a38c1aea284823f0f9",
      "2327e416651d468ea092ac56494035dc",
      "1a41c2aa76d94c0782d6797ebb45f092",
      "3c8db9ea1b2f4eafb34f01029a7a7e96",
      "5b9d3c0beb4e42208c0780c1edb0e842",
      "db0838b145d84bb4b517bae3e42985f0",
      "ea46956fb7dc4d628108579d76787081",
      "a6b669f97e9348a0af7487696572e328",
      "03a98426710b49a4bcb72c3e8141e597",
      "b6e3e70a2ed942d2b23723b6bda6c769",
      "f967d7894ea24cc886a9cb8d07022975",
      "0c5c15be191f4886915fef0a431f0ce4",
      "651df35ca2264e9ab68927cf79a45717",
      "c6f5042bb1ff4c2facd0fa36ae569527",
      "cbc37f94ed394b64841edf9a1672a6e0",
      "74f95b0c2dad4e0f9c62e01f38994c21",
      "4bbd565ff8d94ae38b5c7c5299cf6630",
      "7686eba905be49d888ded056c2fe0401",
      "b746a93f3225498481079c5af11e43f0",
      "586595f63880420db11504752ac44fae",
      "f0fb85082f29433cab1d7abbe3dc2f08",
      "dd0e5207ee96461f86d0d4b2ee6d0d2e",
      "08021ae3a15b404b8bd6c45de9836ac8",
      "92932c16d18742649936881be4908e46",
      "2956ea7aab5b4685841951d81010b164",
      "a9a68faf4fcf4f118731b80431b21aad",
      "8071f1c8d0c940d1a9b8551b504d3a6f",
      "4008888b0f0042d5839f250ca1976e57",
      "8cddd61fab0048149a5d88dd939daf9b",
      "983f20d4125540c2ae11df0985f00dc7",
      "4941e23b3bb74a1798d590b94c9e6249",
      "c40911d50c2d43d7a1b2f791ad4f0a23",
      "7dc23febf69f44cc952820b787eb4152",
      "686b2f3e203041e0b50178d80a46b9ac",
      "3503c0d634f44585a4cef413e494b93f",
      "7fd41240f542444885a21332862fa979",
      "81e653d5099b4be59161d915648ed353",
      "00e2a1eecaa7404fa4482b1a7ac61006",
      "4b472626f8d4471db4dea6b75ad6fe59",
      "d65d83261a444bd1a8ae80dc162930f4",
      "1b8db00115e34fb1b9d85602435d1301",
      "6de9ed93a79343ff9d7a65d6eec67c4d",
      "3a34916fabef48dc89c80243ba8aa4b9",
      "d53a34b602584965a74466ee63da6f79",
      "736aff9b3a1b430b8031daf75e6911fc",
      "9174624183004a848832c7f81c71f348",
      "77de375c42c049d4a2217f3a533ede7e",
      "ac2695e258ae4b3fbe76d53bcafa71a6",
      "5a515b220eee418c80063939851cc0b4",
      "476f38ed120e4e65b7a5880b8addc92d",
      "c1218337c36142a48f788f865056e1b8",
      "2310bd551c334f22b6a850edd5e86583",
      "7f01f9975e524d3b8f4d17e0d68acbbd",
      "75bd2d896c9849848afd7827edd351e1",
      "3d6cc0fc9edd439fa499ab02864101ad",
      "2e7f9445a09241d7bccf4ecb0003292a",
      "6c6f47461d62474ea1b7ee15b5be2e22",
      "903f39a54cf54ed8964add7c1e44f616",
      "a2e4e2aa526748fb8e64299bac42f5dc",
      "ad248bbc617449a989c07e771f186924",
      "ddef25bb729049c0839c8f959b8d4960",
      "4bf577303f6b44d4a74a4f7a5c2546e4",
      "e4c64adac49c4e1da6b85a915b876744",
      "f011ddf1340a41799f7202d94042ab9f",
      "b49e1642d6b844929137b3ffdc0b3533",
      "fb9814597f4346c79ef8275d0c86dab7",
      "3cc26be8313544b4a35a79a26a287abd",
      "5f8f0b54cb27442481042e2e03d93800",
      "e05a673572d340e4acd2732cf4922570",
      "bd4fe2237aa44a72af0c46fa44917f51",
      "b851920a682340f6bee27d8b4ec90173",
      "736a3edfc98540f89b821199a0630b91",
      "87449c102cd34b378fd5dda7f6ffaeee",
      "ac916582e52441f98efd58951b83c9cb",
      "24239d931a7247d2b7a42d1a1c8cf149",
      "9a6704ba829f4d2b9b774f11b2e03e75",
      "78184c77589f412aa4a7840b68fb857c",
      "a4f9ec986922425b9571e55bebb418ad",
      "acd4523d17cd4418b85446dee4314c78",
      "48ed4805a12c4400ab3fbd423eee378f",
      "23a9eda613104cf7ac3cd951139641b7",
      "e831cfbdd092477a8b43a3075d4638fb",
      "28170005d1ba4a8cb98c00fb2c507fb8",
      "7b266f7affe84c16a2310c5e0ce125c0",
      "28f6743a3da54a059c5760c1b67eeb13",
      "88df96545e8e4a4dbe76b89f4dbb7761",
      "2dab8e75ddbc4a29aa36a72e20c4ce69",
      "f74f5d469bee4071ba96c05272e9a5e7",
      "ea0d2d0177f74314a36fc3bbccd4880b",
      "1310c7b7f96d44bf9d12959011bbe98a",
      "bfc0649273f34a9f94bf3107bae490b7",
      "e3b3dfd5fa6243248c95002ac066a7a5",
      "b0741d1cbf2a4dffb7ff94ac8056dd7e",
      "7be372a001494c5dae1e0ffc60c39724",
      "b651a089247448d8b766de065986a4f1",
      "49d9b7970233452eb5527fd323fefef9",
      "e587e133016c4bb2a9e4f5dd01a9b22c",
      "2482c5e03f864a9491020d5107cf0c74",
      "77cfb46d0b5049b3aec82d20c86a61ff",
      "0ec9c4f4d3f2470cbfa920eabba6dd95",
      "b5293095af834e5089c11cfa9a32f10a",
      "ddc84f73cfc84e63a3404047e7f80c5d",
      "e55a9be016d54984801568a35e710654",
      "fa22bab3e0434298b7e39499d56b7778",
      "85021300e36a48d88d3e304276fed8ad",
      "ccfe9d02521b4ad7929550921da37392",
      "80ee7565bb824ed0948dfd09bccefff3",
      "75591af2bc194fe188f280d341dbf363",
      "da3d648ec66a4612aa0b789193b25b04",
      "8133d16b3aff4ac093e32af03adcc621",
      "3911425a4f8f4555a06602dae17ceb29",
      "febb21baedf94e458a3b810cb3b2a19b",
      "e967081c78a84e79866c81a14dee32c6",
      "73d54f97578845d3b4dd011b41339a82",
      "66bf6964d5fa4ab9896775057e1549d7",
      "2ed2b0adf2b24ecab92f027d5f1436d2",
      "bd78e86c7874427d9c734ab96f16bbab",
      "3fcaed51530145b58d8256e3c2d953d4",
      "16a87129443b4c2e9201faafa61b14cf",
      "2db1ed304cf744c883815edf97ce0837",
      "029fc482afaa4af2b01a40c0717e257f",
      "5ba9264d1504445ca6128db2199c06aa",
      "907914c79f214bcbae14f4381d35eb9e",
      "c374cb8d0fbe4b0d915f166eb799d506",
      "36b09644746a48be884486a955be45f8",
      "423897e4b2134163a0046bbe08b0e4a6",
      "d363f5f97f9844099f70e193151dac67",
      "3f2e4f96aeb3413f995c849c0e91458b",
      "85d7bc42485f4d738cd0c68c066b056a",
      "a74ae57bbb3046f0a353f9888a684cf5",
      "d536e6b456c34e22afe5a8a15253afe6",
      "19829c360efa4180a7bfaf4a12d038e6",
      "19f1b0722e244e979f1d13829749bc72",
      "780e0c8fd25f4ac5b62d22a10eeb6ca0",
      "16e0331235f04ca4b8a496132573921a",
      "7daf85a39a20407b8f10f961c77f6bf2",
      "bbab88fe1e0f4b9eb6a3ee5b409af2f6",
      "e91d8ec8a627448598fd943a6b339581",
      "7bb2c85a4fa542369a39fd7c66133732",
      "486b158e714f41af86d5c75e86a1d307",
      "d5e9e3630dee4705830f2ae508ee43a6",
      "87f0dfeb870e4132bc86c0977be4c37c",
      "c5248d3c9eec490d846091c190e00cc9",
      "fb56b423987045b89bcaebc02c91d86c",
      "2e0a2cf3d6ed45ff871e643600d5951e",
      "099e69cd953b41b887165e84f9835881",
      "305a2cd6733f4801b2ba815d57c7840b",
      "e537a600efc44dbcaace52cf1a8fd132",
      "7b6c050e59ca4f8e88fe568d17fad32d",
      "decedab947684df1a3bdbc8065a7aabd",
      "db004df4b0554e0a9615f29932acd8db",
      "679769b1306748c1b48693f072aefcbc",
      "ba48d12706654a179aedc48467719266",
      "e408d700c0aa4922b4ba4a29f8c275f9",
      "2870694c99644ab598560f44091be0cf",
      "bd55d1dd7bcf4383a2569234bc3d62db",
      "1b265bddfbaf414fbfdbff10c330f100",
      "17ed9dff3d7747e89eb69fd051d3275a",
      "50e03032b8574fbe8a31612f8b77d202",
      "6f225818d1fe417db0617f994c512529",
      "0660f3bb1f234a8d8a4837ddcbcdd6b9",
      "97aa4c8ebd3c45d0b9ef24614aabeef7",
      "a16308b6b7464ea9858e19ba61b0608d",
      "7a3c7351bf68411198f792c4751f1d50",
      "cbb888b433de45e4abbdf3ee3e25e4a9",
      "956cc678141446169092650fabd3427d",
      "872f31b3c1724266acfaab0871c58410",
      "00380809637b4c8eb932f717ca7ca126",
      "e80250c3c66c408fb8133f2df7cf2a04",
      "801128eceda245d88c306b3db5e6fbcd",
      "b12bf3373b774d11af875f831d4b4075",
      "8305d69657cf4461bda644023df74ac9",
      "370cab3dca7e43e083d503861d0f71ad",
      "cbaf50fb0e41493b986835ba0fa1a315",
      "97e0be0d8b694661a5af0d203c80e1ae",
      "adb544fd4bc746e48bbf3470238be317",
      "2bb36866a5d24f6a86729d3e3baf995e",
      "6f0e001763e14d789e294168a754c824",
      "609ef5a65737493e98789d03db9fd4f4",
      "b0468acca24f47b3a9b1455d861def15",
      "86e895e7630843fd946c5f6ad828d815",
      "c56b94cb04274325a077fbb7047c3c3c",
      "57f279c3fab3498a9da12717cc1cef7c",
      "45d9788d7fdc49e49e02e68c6110941d",
      "ed337c165658462c8ee8483ed559f3bc",
      "742f78cb354a435e928f21b3bcf02882",
      "172f589612594fe39c85415400547c48",
      "7723f6a4b7354d6d8d50809d9a255fb8",
      "0c200f8d5e8d455485f94f268614015f",
      "3190cb87ddf744c294a47af09d375160",
      "b9a4aa777a1a4b0f857ea5090839a123",
      "64b2cd93fcd54924a9d809c726333be1",
      "e934020e1a624771a4af86291dbfe8ba",
      "ea37805d47ae4609b7125cfbd3cd7eeb",
      "cac9878650444e838fcaca1aacf2fa9b",
      "9cb61971b61c456fa36008bd384e3516",
      "1c3b6011826743ba9a20a2ae77effc9a",
      "4a91d72d5cc24bb1bc9a9d4758bbb066",
      "13a0dd9ec0344625b698b53dd528ab3e"
     ]
    },
    "executionInfo": {
     "elapsed": 200083,
     "status": "ok",
     "timestamp": 1751485052337,
     "user": {
      "displayName": "Yulia Yorkshirelove",
      "userId": "10480095246692972307"
     },
     "user_tz": -180
    },
    "id": "pYpb-JIqAGdH",
    "outputId": "b08680e5-1d29-43b1-a837-24f56faecb60"
   },
   "outputs": [
    {
     "data": {
      "application/vnd.jupyter.widget-view+json": {
       "model_id": "b42f3fda9bd64b678d2243de2d80cf40",
       "version_major": 2,
       "version_minor": 0
      },
      "text/plain": [
       "Decoding chunks:   0%|          | 0/25 [00:00<?, ?it/s]"
      ]
     },
     "metadata": {},
     "output_type": "display_data"
    },
    {
     "data": {
      "application/vnd.jupyter.widget-view+json": {
       "model_id": "7b47a0445ad54d9cbdcc33654bcd3e94",
       "version_major": 2,
       "version_minor": 0
      },
      "text/plain": [
       "  Tokens in chunk:   0%|          | 0/668 [00:00<?, ?it/s]"
      ]
     },
     "metadata": {},
     "output_type": "display_data"
    },
    {
     "data": {
      "application/vnd.jupyter.widget-view+json": {
       "model_id": "3bb3d1256c3f4c86a471acfe8729b7f9",
       "version_major": 2,
       "version_minor": 0
      },
      "text/plain": [
       "  Tokens in chunk:   0%|          | 0/732 [00:00<?, ?it/s]"
      ]
     },
     "metadata": {},
     "output_type": "display_data"
    },
    {
     "data": {
      "application/vnd.jupyter.widget-view+json": {
       "model_id": "15d86a1a6145420a969b553a46f941dd",
       "version_major": 2,
       "version_minor": 0
      },
      "text/plain": [
       "  Tokens in chunk:   0%|          | 0/572 [00:00<?, ?it/s]"
      ]
     },
     "metadata": {},
     "output_type": "display_data"
    },
    {
     "data": {
      "application/vnd.jupyter.widget-view+json": {
       "model_id": "a156bd92f34b4fda9fdc13a48923e66c",
       "version_major": 2,
       "version_minor": 0
      },
      "text/plain": [
       "  Tokens in chunk:   0%|          | 0/589 [00:00<?, ?it/s]"
      ]
     },
     "metadata": {},
     "output_type": "display_data"
    },
    {
     "data": {
      "application/vnd.jupyter.widget-view+json": {
       "model_id": "7995f1a03c7e42e7a7498053fe5c8b60",
       "version_major": 2,
       "version_minor": 0
      },
      "text/plain": [
       "  Tokens in chunk:   0%|          | 0/577 [00:00<?, ?it/s]"
      ]
     },
     "metadata": {},
     "output_type": "display_data"
    },
    {
     "data": {
      "application/vnd.jupyter.widget-view+json": {
       "model_id": "af538b3727bb43a798669390bbe78063",
       "version_major": 2,
       "version_minor": 0
      },
      "text/plain": [
       "  Tokens in chunk:   0%|          | 0/546 [00:00<?, ?it/s]"
      ]
     },
     "metadata": {},
     "output_type": "display_data"
    },
    {
     "data": {
      "application/vnd.jupyter.widget-view+json": {
       "model_id": "482967b861f34a2e86f4be793f1a5142",
       "version_major": 2,
       "version_minor": 0
      },
      "text/plain": [
       "  Tokens in chunk:   0%|          | 0/453 [00:00<?, ?it/s]"
      ]
     },
     "metadata": {},
     "output_type": "display_data"
    },
    {
     "data": {
      "application/vnd.jupyter.widget-view+json": {
       "model_id": "2327e416651d468ea092ac56494035dc",
       "version_major": 2,
       "version_minor": 0
      },
      "text/plain": [
       "  Tokens in chunk:   0%|          | 0/505 [00:00<?, ?it/s]"
      ]
     },
     "metadata": {},
     "output_type": "display_data"
    },
    {
     "data": {
      "application/vnd.jupyter.widget-view+json": {
       "model_id": "651df35ca2264e9ab68927cf79a45717",
       "version_major": 2,
       "version_minor": 0
      },
      "text/plain": [
       "  Tokens in chunk:   0%|          | 0/453 [00:00<?, ?it/s]"
      ]
     },
     "metadata": {},
     "output_type": "display_data"
    },
    {
     "data": {
      "application/vnd.jupyter.widget-view+json": {
       "model_id": "92932c16d18742649936881be4908e46",
       "version_major": 2,
       "version_minor": 0
      },
      "text/plain": [
       "  Tokens in chunk:   0%|          | 0/568 [00:00<?, ?it/s]"
      ]
     },
     "metadata": {},
     "output_type": "display_data"
    },
    {
     "data": {
      "application/vnd.jupyter.widget-view+json": {
       "model_id": "3503c0d634f44585a4cef413e494b93f",
       "version_major": 2,
       "version_minor": 0
      },
      "text/plain": [
       "  Tokens in chunk:   0%|          | 0/500 [00:00<?, ?it/s]"
      ]
     },
     "metadata": {},
     "output_type": "display_data"
    },
    {
     "data": {
      "application/vnd.jupyter.widget-view+json": {
       "model_id": "9174624183004a848832c7f81c71f348",
       "version_major": 2,
       "version_minor": 0
      },
      "text/plain": [
       "  Tokens in chunk:   0%|          | 0/511 [00:00<?, ?it/s]"
      ]
     },
     "metadata": {},
     "output_type": "display_data"
    },
    {
     "data": {
      "application/vnd.jupyter.widget-view+json": {
       "model_id": "6c6f47461d62474ea1b7ee15b5be2e22",
       "version_major": 2,
       "version_minor": 0
      },
      "text/plain": [
       "  Tokens in chunk:   0%|          | 0/487 [00:00<?, ?it/s]"
      ]
     },
     "metadata": {},
     "output_type": "display_data"
    },
    {
     "data": {
      "application/vnd.jupyter.widget-view+json": {
       "model_id": "5f8f0b54cb27442481042e2e03d93800",
       "version_major": 2,
       "version_minor": 0
      },
      "text/plain": [
       "  Tokens in chunk:   0%|          | 0/456 [00:00<?, ?it/s]"
      ]
     },
     "metadata": {},
     "output_type": "display_data"
    },
    {
     "data": {
      "application/vnd.jupyter.widget-view+json": {
       "model_id": "acd4523d17cd4418b85446dee4314c78",
       "version_major": 2,
       "version_minor": 0
      },
      "text/plain": [
       "  Tokens in chunk:   0%|          | 0/465 [00:00<?, ?it/s]"
      ]
     },
     "metadata": {},
     "output_type": "display_data"
    },
    {
     "data": {
      "application/vnd.jupyter.widget-view+json": {
       "model_id": "1310c7b7f96d44bf9d12959011bbe98a",
       "version_major": 2,
       "version_minor": 0
      },
      "text/plain": [
       "  Tokens in chunk:   0%|          | 0/514 [00:00<?, ?it/s]"
      ]
     },
     "metadata": {},
     "output_type": "display_data"
    },
    {
     "data": {
      "application/vnd.jupyter.widget-view+json": {
       "model_id": "b5293095af834e5089c11cfa9a32f10a",
       "version_major": 2,
       "version_minor": 0
      },
      "text/plain": [
       "  Tokens in chunk:   0%|          | 0/426 [00:00<?, ?it/s]"
      ]
     },
     "metadata": {},
     "output_type": "display_data"
    },
    {
     "data": {
      "application/vnd.jupyter.widget-view+json": {
       "model_id": "febb21baedf94e458a3b810cb3b2a19b",
       "version_major": 2,
       "version_minor": 0
      },
      "text/plain": [
       "  Tokens in chunk:   0%|          | 0/537 [00:00<?, ?it/s]"
      ]
     },
     "metadata": {},
     "output_type": "display_data"
    },
    {
     "data": {
      "application/vnd.jupyter.widget-view+json": {
       "model_id": "907914c79f214bcbae14f4381d35eb9e",
       "version_major": 2,
       "version_minor": 0
      },
      "text/plain": [
       "  Tokens in chunk:   0%|          | 0/494 [00:00<?, ?it/s]"
      ]
     },
     "metadata": {},
     "output_type": "display_data"
    },
    {
     "data": {
      "application/vnd.jupyter.widget-view+json": {
       "model_id": "780e0c8fd25f4ac5b62d22a10eeb6ca0",
       "version_major": 2,
       "version_minor": 0
      },
      "text/plain": [
       "  Tokens in chunk:   0%|          | 0/600 [00:00<?, ?it/s]"
      ]
     },
     "metadata": {},
     "output_type": "display_data"
    },
    {
     "data": {
      "application/vnd.jupyter.widget-view+json": {
       "model_id": "2e0a2cf3d6ed45ff871e643600d5951e",
       "version_major": 2,
       "version_minor": 0
      },
      "text/plain": [
       "  Tokens in chunk:   0%|          | 0/473 [00:00<?, ?it/s]"
      ]
     },
     "metadata": {},
     "output_type": "display_data"
    },
    {
     "data": {
      "application/vnd.jupyter.widget-view+json": {
       "model_id": "bd55d1dd7bcf4383a2569234bc3d62db",
       "version_major": 2,
       "version_minor": 0
      },
      "text/plain": [
       "  Tokens in chunk:   0%|          | 0/494 [00:00<?, ?it/s]"
      ]
     },
     "metadata": {},
     "output_type": "display_data"
    },
    {
     "data": {
      "application/vnd.jupyter.widget-view+json": {
       "model_id": "872f31b3c1724266acfaab0871c58410",
       "version_major": 2,
       "version_minor": 0
      },
      "text/plain": [
       "  Tokens in chunk:   0%|          | 0/495 [00:00<?, ?it/s]"
      ]
     },
     "metadata": {},
     "output_type": "display_data"
    },
    {
     "data": {
      "application/vnd.jupyter.widget-view+json": {
       "model_id": "6f0e001763e14d789e294168a754c824",
       "version_major": 2,
       "version_minor": 0
      },
      "text/plain": [
       "  Tokens in chunk:   0%|          | 0/442 [00:00<?, ?it/s]"
      ]
     },
     "metadata": {},
     "output_type": "display_data"
    },
    {
     "data": {
      "application/vnd.jupyter.widget-view+json": {
       "model_id": "0c200f8d5e8d455485f94f268614015f",
       "version_major": 2,
       "version_minor": 0
      },
      "text/plain": [
       "  Tokens in chunk:   0%|          | 0/452 [00:00<?, ?it/s]"
      ]
     },
     "metadata": {},
     "output_type": "display_data"
    },
    {
     "name": "stdout",
     "output_type": "stream",
     "text": [
      "Decoding done in 200.10s\n"
     ]
    }
   ],
   "source": [
    "all_rec = decode_with_soft_prompt(\n",
    "    chunk_data, model, soft_prompt)"
   ]
  },
  {
   "cell_type": "code",
   "execution_count": null,
   "metadata": {
    "id": "BEZTtrLqC5_p"
   },
   "outputs": [],
   "source": [
    "orig_ids = sum((entry['ids'].tolist() for entry in chunk_data), [])\n",
    "encoded_output = sum([entry['bits'] for entry in chunk_data], [])"
   ]
  },
  {
   "cell_type": "code",
   "execution_count": null,
   "metadata": {
    "colab": {
     "base_uri": "https://localhost:8080/"
    },
    "executionInfo": {
     "elapsed": 4,
     "status": "ok",
     "timestamp": 1751485052344,
     "user": {
      "displayName": "Yulia Yorkshirelove",
      "userId": "10480095246692972307"
     },
     "user_tz": -180
    },
    "id": "la_9hETCC6Hn",
    "outputId": "25cb9f02-44aa-4494-e024-b564c112fff5"
   },
   "outputs": [
    {
     "name": "stdout",
     "output_type": "stream",
     "text": [
      "✅  Совпадают полностью!\n"
     ]
    }
   ],
   "source": [
    "compare_sequences(orig_ids, all_rec)"
   ]
  },
  {
   "cell_type": "code",
   "execution_count": null,
   "metadata": {
    "colab": {
     "base_uri": "https://localhost:8080/"
    },
    "executionInfo": {
     "elapsed": 46,
     "status": "ok",
     "timestamp": 1751485052391,
     "user": {
      "displayName": "Yulia Yorkshirelove",
      "userId": "10480095246692972307"
     },
     "user_tz": -180
    },
    "id": "Gd5KPbTBC6O3",
    "outputId": "fe44958e-63b4-4319-a39b-c38bab208cfa"
   },
   "outputs": [
    {
     "name": "stdout",
     "output_type": "stream",
     "text": [
      "Исходный размер:   400000 бит\n",
      "Размер после сжатия: 54256 бит\n",
      "Коэффициент сжатия: 0.1356\n"
     ]
    }
   ],
   "source": [
    "compression_stats(data, encoded_output)"
   ]
  },
  {
   "cell_type": "markdown",
   "metadata": {
    "id": "ZKXhbja5ljtd"
   },
   "source": [
    "### 100 эпох обучения"
   ]
  },
  {
   "cell_type": "code",
   "execution_count": null,
   "metadata": {
    "id": "vaPpBMJXltJa"
   },
   "outputs": [],
   "source": [
    "dataset, loader = create_data_loader(tokenizer, chunk_size=2000, max_bytes=50000)"
   ]
  },
  {
   "cell_type": "code",
   "execution_count": null,
   "metadata": {
    "id": "dcDSLeVQnvFe"
   },
   "outputs": [],
   "source": [
    "soft_prompt = create_soft_prompt(200, model)"
   ]
  },
  {
   "cell_type": "code",
   "execution_count": null,
   "metadata": {
    "id": "jhYKZ1_UnzDh"
   },
   "outputs": [],
   "source": [
    "model.train()\n",
    "optimizer = torch.optim.Adam([soft_prompt], lr=5e-4)"
   ]
  },
  {
   "cell_type": "code",
   "execution_count": null,
   "metadata": {
    "colab": {
     "base_uri": "https://localhost:8080/",
     "height": 1000,
     "referenced_widgets": [
      "24ccc06f3daf4e8ea98724395d66ce9e",
      "5b9f4f7476ed413da6a137c9a9db4cd3",
      "939552f85c9a4ee6a1accea7643ca5c6",
      "d0514b8fc04d4d4a9ca7389741d47305",
      "031fd5c46ae64387b5be6c4b216d522b",
      "0affd677735741289b55437232c8536d",
      "a9e5d8a8371d4f948c69a152ab5f9ce7",
      "c74eb03bfd6b4cb6a2efb32b4addafa8",
      "a7130103dc9049ef83f76f9f60919570",
      "1cad011c51cb414b9b28a7bce55f8fe2",
      "f9be3fb96861468a802d87279bd85ff5",
      "c8866bddd700438f9c68ddfde7571bd4",
      "10d8302fae184d4c8b7f3b69d9f14e51",
      "f5082ef8be5948c3990380d4801f6ae3",
      "b9945fd05eb84bcdb583b41c308a1024",
      "cf5039825b64496f88a1ec955f837500",
      "a2b9216715ee4e8ab628e7bd74743cc1",
      "06752661dfed405485993ead99f935b4",
      "c5e912e8b40b4bd385ace12831067cc6",
      "7d51eaff0ee646f9a015cc0a7b79b168",
      "40f4dff55eaa4e00bfe5ddf650430163",
      "17df3e30ce634d0aa539a0b8eed661ec",
      "1cedfdbc230040c0b7713392d96c01bd",
      "2762961131574e6394a4c517c2eed59a",
      "9a6bb0dd4d9f4826a2586a2cdae9d5f4",
      "6916edcaee7d47fda96994d2a67dcf98",
      "5d04361115d946af8634443bce3ed591",
      "958330a32b0c4233bde6032841d6a07e",
      "790b947718f14c658e629cf3f5371579",
      "b35221eebb364438be855a6a42d1b9e8",
      "97c812cb476349cdb26e884f40f64f0a",
      "d0674250bf7d46488ad1a9b9c2cb9730",
      "c8dea654d773444fb1a5568eda212e75",
      "93b1802df8c84221b1dc4e3972eee7a1",
      "3f354d56663e4e31be7e7d80b17553f1",
      "d13ef1be8257475ba114fb9d5245a036",
      "cfac991ac1e1485f8d60972a730eaf06",
      "98337b75703f444fba61ad8f5f3e38f2",
      "ed027029544749619acf1d840559342a",
      "7b109b68cbe249d9a5811e6b702877ed",
      "9544ec12b6e6477090a6b07113c30109",
      "c5e8a6044a8f48ea9660776159f87d53",
      "758273ec2d8540759c29f30506422d89",
      "15dd6413de134d0ebc2c058d81bd9839",
      "efc6e81b9ace4b8796b28837e9d321a2",
      "53917368de2442e6ac9e8ef60ef47f74",
      "76761ef6623349ed988aaf6a7c496fe1",
      "1f6550a699c94c1685aa9f3f44a1a046",
      "686404ef18404364b2a4f4a28c77535d",
      "17fe6215efff4921aad67fc44ca85ae0",
      "a95756461efa4c4abe4c626574325e5a",
      "7a40be2717d74645aad7e11ada4a8937",
      "574843c9a7b942769288d6bfd452c787",
      "c9511ab13f9946718a97793344e8dd53",
      "217db4f2b7104c62b701cad977ec7736",
      "bb124920989c4fdcbe437705939fd563",
      "abfc5a0a896e41d8b39c5811126a01ff",
      "849d2f07f8d14eafa826cbd9760d9061",
      "6ade6a26b9a841f4b6fb3ae78be69d91",
      "40074aeafe2c4750a50046b78d45bc35",
      "b16e2c09d6ea4c95bee0cc0b2de87039",
      "5cc580a98a304ae0bb7cc55ff58739f3",
      "01b14b73a0d6491b9200fe41a7e899e8",
      "5b7d43b1c22c4ec284fd5a37e03be15d",
      "affd23f69cc94f95987c642b6a1ad461",
      "21192ec320244561ba09cf9a69672c4c",
      "46149b618cdb4bc28a3c04cd200431e4",
      "d03c2b8f488d497898d9a1f8e25429be",
      "ed3abbe0d3584d4daa2619efb1f2745a",
      "b0cf8460e2444c53888dd62458a68f92",
      "869ebbd4e8b64897ba94fb3340f32ba2",
      "6e42b59fb5224d74b2cc061be3ae8cdd",
      "891edefd3c0147ff9439520fd8ececb0",
      "17768a9914ff4d76a2403546fc6ccd85",
      "201a91e1e1d847d0b8fe13589290dd83",
      "41026cc1aaa042bdadba0c777db461fb",
      "a929e9bb9d5e48f1b226b247b762a6c1",
      "b5b220e0f38545b4a446997554d23378",
      "5144a37b8cfa4cdca4ea97cb4fc6ac54",
      "00006cfcfc384443b4445ba4a990709a",
      "d33f60566f6d45ef9a9ed95eada7f989",
      "f29c2ad1845641fd83b8adb521959475",
      "6265e054d3c049b7951b2eae67c54d13",
      "378e75b8a8904b559eba742af86ae074",
      "343d234a81164987b8584aafa5e18bed",
      "6f6a06e35dc0473eb269c5722df08538",
      "6be3694a97e346d398b256e14e6b26b7",
      "8fba909d9d664f47a035c7df6293c08c",
      "e6a8ab869f5b49edb12b485af1d959ce",
      "e9168fab01b84a1cb915409f5d6d1c7a",
      "b0a64ee37dab4bb1a4cbceb864beb047",
      "9c6b048e1c664bd3858cfdf932dc7b6f",
      "aabc9c5c4dd248b9a2ae5fa5fd95ead1",
      "bed4a9bf00c642e5b2fcee38dbf6bf77",
      "b6f503f6fd1944f4a3c09be5652d1092",
      "263da579124a432b9409d892f5ab536d",
      "7edf8ad0f2584bc7bd5c6081b328d682",
      "74fb40a9b198498b80e470745e73dc03",
      "e846e4f1960e48cb8f1cee9a270e8b2d",
      "1c75f7e5b89446df95ceb996a1f54a8e",
      "2cdd637210784481a3bea4df28ad2da6",
      "905f515c87c249d281cb70f69397fe98",
      "d80e5b9b2f7d4d81a3bf1cd5f15df883",
      "22ac6099099747eb967085731c051728",
      "2797a5b8dd09418abfb1edaddf24ab2c",
      "6b3054d8132448eeb5fdaeaded1d2275",
      "18eba41a704d4f39af02dc2eeb3063ad",
      "8a477977203845ef8907caf02b4b2225",
      "ac85f732ce92484e87fcee3222aabf5d",
      "28ce3904928f49e2bb8019d4408b9268",
      "47142cb4edd340888c326aa5a888452e",
      "ed053ce216084bc5968f9ba453ed6764",
      "a53e2e126e4b4438b725659a3c569441",
      "5ea041a7190142a2824d52323a009695",
      "1d2753aef4e24811aaf83e385a5ce189",
      "ec02668bdf924cd492579d88d7e357c3",
      "5e59c6352bac40f78d77a1cd41b4b850",
      "5e67a6dbcd574c6c9f5ffa59fa570ab7",
      "19e32aec710f4481a3be012421af7278",
      "0c83f4f21f0344fd9790d88986dee117",
      "143462b54c444ff7b876d388da5d2a5a",
      "3e4bfa52fbd344619de96586230b761b",
      "a0645148a4654cc1b60c7dc44a5e1942",
      "b257254ebb5a4947be6c6fad1d6a5bdc",
      "3cdecbca16c344cca9ff813aae872b6a",
      "d33511a9386a4fa99bb668736472222a",
      "c142f0c9d71045689b706f6217db22dc",
      "63d829e5baf1485d85602ca321c20700",
      "e875a922c08b457db374da5ca2473e12",
      "a8ec14a5d86847238b67277325d60f0f",
      "fc1e0653130245109cedaa22081e1121",
      "fb03adc265a44c9892ae1ad7ebedd9fa",
      "962566cf53664f4db30e96fe598d661e",
      "6a6f76af17c242a89f3490f026c0dcf7",
      "943f5d5441e24d5fa400305f89755f67",
      "5be41766974f44509579a6afbcf561ba",
      "4def6353b7574279ad158d20b48b3487",
      "7fd723d4b1bd4c4f8b8de2b70180a4ed",
      "14649399cecb4019ac54e9206c4d09dd",
      "1aa14f65868044ec9d64ae54597d5665",
      "09c0ad3086be4d62acc89da5192ca7b4",
      "4557714b08e847b88f220337c198cbef",
      "07d35f77c0ea44fc83bfd812a1ec19ef",
      "08c4604dc26247a4baf6bd11ea858f85",
      "e0c689acbd4f499db95679015d18d144",
      "0db1dcb1c0e241cf841a6f05db6de803",
      "1392cf71e99340a9b877a6ebf0b13547",
      "83ba7daf7ebc4f028cd9b3d8acaf794f",
      "09d315d061274161b0c10577976a17d2",
      "a015011c429b4847af187b72092a06df",
      "3ac696d2090e41b3b0b6c67abfeafc41",
      "20ba59a7dfb146b68b58a2a7723f3e44",
      "43c664de00ee49c5b5d68d33317542f7",
      "b3d49e107fc5442f82a140483e3a9782",
      "5dec7aa416b749889b2825a57f036f0a",
      "9e40601f6d6246979e7c248c631285da",
      "b599ef014b29490a8e009185467c4a12",
      "63af648baf2f4000a8cc9e5218e1f1c4",
      "926dee639b764526871a177aa714da4a",
      "2cba380248404e92b46058332fe66a7a",
      "fc155932dca4465fb22b1481464f2728",
      "8deecf773ad74ff8b443a613cf6e8027",
      "2862003a59d14209bd4b525138d9fe72",
      "c2dd9bb632444990951a47955376cef8",
      "f8b9137cddaf426ebeb535b1cfe3815c",
      "85412ea215e64374878057e9832cf02a",
      "085a0cb3fbb04ef08fa5adbd18dc88a3",
      "db9d77b725c146aa887dbcaeea8a8a7e",
      "e995b150eb094736a5bf53e3df3c6068",
      "58f09f6eb9cc4aac9017438bb360a108",
      "bbacafe7ac3748f1a904362eeb0c77d8",
      "95285a6c94ff4fcca1dec539babc8643",
      "0f348e2dce734b56b9ba07bc707fac92",
      "a4b87f52456c47ada5079606412c44ff",
      "969594abe4ca4e84a80bdfceb77a4a23",
      "274a32f1c52b4fbb9f2346d949a72508",
      "50c06697ca3c4ea5a06aab8b064ad69a",
      "d874dfdf3be04c9cb32fab7e8375c942",
      "812bf11f38864d6481a0b23b9c777432",
      "ed7f987877a64bc7bd0ef462b87841bd",
      "8e80e6ae5b214212b8bf078c5664fd8e",
      "ac6073c4eee74290b15a9a64a6ec832c",
      "1f4b1eee8d31425ca667bf6714f31827",
      "c163fbeb04204810902dceaa116901d8",
      "2292005064c549cb9feb67cc5029fc73",
      "9723bf88267a4913901acdd8455c38eb",
      "70330a405f3a472d9ef36acf60065230",
      "83a758071dbf46659e14c1e47b58af71",
      "15dceb8de2f3493ba0af866bac58b528",
      "36fdde552175465a9d8cc2f54ef6d24a",
      "e0ac98ac263147d5a62141ef0a6843de",
      "4bb35461ccb0472885e60556675b392b",
      "c10aad2f86c64542b094ff2f44a265b6",
      "c7e47b92808e4a7a897dcdce967e360e",
      "f5918fa1d2c64dc4af6fcad3566b446e",
      "82958b54bc104c899a9b0a30c1e1edaa",
      "a59d3a518c2e4d1bbab8f1f5aac448d0",
      "d492c7b9cc96421db996293d87ee5317",
      "d2d9ee0ea96b4dd38c1329182412e7d2",
      "e6ec9e9b0fdf46558bc7d9658d2fafc4",
      "c9f62445b6a64313888fea9284082033",
      "4795a48f80344f488ed48f53531ef652",
      "c49315eb85ef4413913c0fe89d5b6738",
      "2b16fa7ea46d4e14a379597f2cfa2cad",
      "91cd2cc6277a41b2bc8e87cd201fca1f",
      "3fa4460707b541ba915b0b777a6d80d5",
      "11de8155866e440e9f980c703122d320",
      "0f5c8d0931db40518091adf1d0b42d8c",
      "221a1d7d73824e4f961b558542dccd6a",
      "73969ea5216e42e296af3f790e6a7c92",
      "e14091085a70491f80890f4a9a92df49",
      "c9b6158a1cad49ae89b253e98c1f3000",
      "397ae61a88a044229dddde197a473499",
      "4efa70a982af40de81239c1a31da1e28",
      "8733985dab474284b7dd16a1ead9c7b1",
      "0cc68d46153544f9a03ec240fd489551",
      "1ef46c76a02148e4bc307c7610c00b6c",
      "e39a52827c544ec0a26cdc983ca1d9f2",
      "52c2bac6a98543fb8cb1e024e352f595",
      "e712f60f19e546688617aa1d91e6027f",
      "34873c117ca444ff8c5e8904685959f7",
      "6c82d03efc0e4200aeeefbf7cdcbf205",
      "2fa15137785046358d48c7267f36533e",
      "24eeae3e33ac4daaae353de345e0e6e1",
      "e0fc3c45327f42e3bb0755cd86ace902",
      "500c59fc0a5145f68abe5edd3f3695d8",
      "d53de92c01aa4fb09648eccaf7efb638",
      "4d8087436f33429cb9db2ce67610fdd0",
      "556e41245fd94067b9295277880719cd",
      "e028f73a49ea4cf093ca0791399133b3",
      "8912317cd9334a4f8ce350c89cc6803a",
      "6e3d75e13e5e4616b6c37f255152a8d6",
      "f52500e04383499da356c4cd658b31b6",
      "3a3d10761c8347c893253bc96f1ad0e3",
      "1b9812c892514c94bfb4c2b17ba544a4",
      "2df4c32c65954c148ae1feb424fb5514",
      "77ca79010492425b8d3e2772d04589ba",
      "81d6c5fca930435e949f5cd42746cb55",
      "2d3a922fe8e7427c8b90e38a8610b6d1",
      "3deb3ce8a2d64f359b84e0cf09538c3c",
      "889110e1422242109c695f4f6875ba79",
      "b462bb083b414928b806014dcfed5876",
      "fb81966ac9a14510a87a1672b8c72781",
      "47adc4bbda37463aafe8827c98d6463f",
      "6467b46d501d41afab7f3e4508f6e0cf",
      "909995fa5705410e9eeaccb58467bdf8",
      "c033edb1ae2e4875998949c70aafbc6f",
      "a59b965d27c746b38f887872ca555e3c",
      "a36acc4ecf344e0eb0789a93ff5e4c15",
      "5488f0ec619d47f697fe1803e7bfa701",
      "05ab362c9b594c82805f0c1e2a45b4a9",
      "1905123e9cd34cd5b46dab2d602dd590",
      "5e56974a8be749aaa5696ac13388c90d",
      "9a52c63415034d00a925f4d09e2f2411",
      "77484489bcb04ed8834023f38d52e65e",
      "ed5f41e0f96948868626ef3a06f40e39",
      "962fd1d3ee434699be210c73d7dce069",
      "caa79b5eb6f34b2eaaf7721fbe367003",
      "4d359a3e8fb44aa2ba1638b549c5cf5b",
      "8f8944f350104ac883e53f2aacdc3abb",
      "d2f55fb63a3546fb9e3ca42e16a02900",
      "15360acaa657420d98cbf58177b2546e",
      "33c08003ba99460c896154abe2071634",
      "f9621469d28249ea985c4d5e809cf719",
      "b664315d6c3d449182d6051e6ada5a16",
      "c1c8df37100546859e241e9bdedcfdf9",
      "1bb1580e077845d1a0324c7d585b5d2c",
      "8994f4adc07e42e3886eae9d0983342b",
      "640a992025584ed7b46cf15397ec30fd",
      "686dfc3b6ce541f88d50a44400cadc7e",
      "ba062bdbe0334183b9692dcfe4eb1a7e",
      "65f82bd8c6084fdcb36df62c3bd2046b",
      "2471fe5437d24f5193222de4fa1993bd",
      "eeabc349b78f4ea19eec5fc0f2afe6e8",
      "3e09550076214b0aa75001a1862d4a46",
      "71a33b1873d54392adbd0e1c94d0fbbf",
      "39150b9ede8246f6b2635e103cdfc9e0",
      "4c5a0d7f742047778be6c372eab29c37",
      "c87b92df11044646a3dab5e3aedee471",
      "065fe81f8f954d1d85ce65173e165b4a",
      "7aba74eef294468497e7d9ed8059cd4c",
      "3db24267bcaf4bdb9da320a927a4a83e",
      "76d45cb01989421db643f2931520de0e",
      "2aa62eb1a90446e9a89f09a54f2ae34e",
      "59453b62be664cea9de16c8ba06877c4",
      "459a149ae42d4c1f81fe6082cc5d143a",
      "1529598c7de04587aaa8ac5b92125069",
      "632be3537d0c4ddf80ed870d596d0043",
      "ead58c01622444a09cf1e25cb0268496",
      "4948a8b2310544e79607a430f6fa62fb",
      "144980bb22394271b60d7443a0b09c9d",
      "af2cad42f5ea45d29fee561f9f6b0296",
      "16ea13b1f57a4b8199985efded72e895",
      "db363b62dd0a4cf2b27c4d57bd362bda",
      "8d888b8d1f0a4c51a0e40466e4426d87",
      "14d64d8b48c34ac88b855c9419374fd0",
      "15b093f8e9ee4458aad03c76c1cbeba4",
      "9b13004b269948259220e392bcb7481d",
      "e65bdb0b3d6e482ea1eebc331002509e",
      "989741e14abd46a09f6685b8dc3b2675",
      "7acc58e6c6204559aadb4daed32cb02b",
      "82ecd5bc33b84a2e8f1f7c3749a70b36",
      "c333772ee0494a6da780ba7717e48926",
      "5ad5054d5daf4dc7ae2d5d7b09448699",
      "77d64bfc0930408d9a59eaa2232f7e7f",
      "12c88a4224d549189d0594461261a5ac",
      "d501848465ef40d98a97a2c5d9811e6b",
      "a1d02b3a19e94bad97cd3bdaa0ead7a8",
      "eca0020f5853402aabe012b5e775231c",
      "efe31e87203349c09499535537d33232",
      "cbf4538b91c84f648de35ab173e12358",
      "73e6d8f0fc394575a447f19391bdf5a6",
      "f319133c1cd94119a7ded4eb436ef898",
      "d41a3210b01d4e42a8bdb3988b7abc47",
      "95b550b05ec6423f94846df0bee66c5c",
      "be3df4d56c0043e48cd3d834812c3017",
      "2773f0fb343140e8849785c19fd3fe71",
      "bf6f55ab9f5a4a0bbc1025891781b2e2",
      "2624bffd9a7a43a4904a3cdbf993a4c4",
      "73b03cc8b274476996d7410eb078ec0e",
      "174a4d9575ac4184b3d6dc43a052b8bf",
      "3d2b8c35bbb94978a43a6cc00de599d9",
      "14f5610a4fbe4e48b9b7c3d6614e0762",
      "7ebb2ff5570e4dd799945d0723ff184d",
      "3b84166fa6294207912ec126a34970e1",
      "69c9a98ee6cf4ad8b3abd982f7d79eda",
      "373a883b92fd43d99f0f554a2efb3623",
      "77334ba0027248d6834f132895c45deb",
      "7869b7d494e94120a52d30c6b71b6b4a",
      "ada29e461905487ea4e812c70fc116b5",
      "3af6ff0d0813482fba92b34768f842d3",
      "2b4f21d66752497abed81602f48efb6e",
      "61ad899625a9433cbd3eac4cdb1c6fe6",
      "e48c45233bf449b3bd069deb180f4c17",
      "c4d00f9bf5cb4be89258d14a871fd4a2",
      "a79be16402db41be85e921a56dc8e44b",
      "f64b13c5215d47e48f50194afa0489e4",
      "c851596eb1554818948561d8b82af326",
      "f5c460d260464cea8f92aa6a435b49b8",
      "59c5a34116e14d69b2e8e0a0dafd404d",
      "328b1dedc65044e197d9f7f6981772da",
      "6192dec154444edca089baafdb0af4b1",
      "9f11f6fb38ba4a598469a08bfaefbee4",
      "fa0bcd683f934dc5bd90edc858722bf6",
      "12c3d3bab73c4507a732c0735c9f760f",
      "be2780bfe675406ca6cadadc4cc89b36",
      "62c0a382b8ef4df887e5604a0df1f559",
      "21bfa1383a0f4fdc861ba0928c0d362f",
      "c4f317797a634e8eb09ca39e41930ad0",
      "94fe7660b1d54e098208739ebb613547",
      "b3d77ae8054545ff85f32a858ecb537a",
      "aab6b7779d724b61af2e8421a1859dfa",
      "e7f3b2a1df4f4069866774b5f7925b37",
      "90418a52741c435781f763bf41cff462",
      "0f0efe5e980346e3a7d1522187f50643",
      "7072c3dedda84c928fc0bddfa9279d66",
      "9575d64d41e64a8ca0493d81bb36c9bf",
      "124b2e87e474485ea1935a91f8a7aa0c",
      "8741a9dee86c42ea8461155249fc0943",
      "9636ee4b6c7f4c5f990ddbb24280d598",
      "65fad41d37014470b970bfc9826f62e2",
      "10052e4019cd4cb8b7704dc440891263",
      "b03dc97f0874482caf61182494126f61",
      "dcd9d59e3d9d438b959d97fef0963bfb",
      "70cd309333a24529b79223dea1e39008",
      "bd365a14b662411f8f381b8963d12657",
      "e20e1d33fd0b43728a2a56bde159ba8e",
      "75bc9055848548a6a42dd9b89ffde8ae",
      "f23d774d2a27438a907fd7560daaa157",
      "d28bacf42f1345fbb6c1a7fd9725f8fe",
      "0eb35d8516ce4a6ebe94bcdab0d04aac",
      "a2f417e24e7d49bf8a3c369c0230aec1",
      "05d19b1728c24d15a3b87ea8fa207c85",
      "ffc626638f8f44cbb171f4aa6fae46f9",
      "f3779e3120d94f269fa58177ad0af37e",
      "2de3ac87461b45dc92150d52054799f1",
      "07c744b8189246ce9ff6f004f9c86427",
      "d209ec02bfaf43a3b4ff33d301c5e07a",
      "588b87d6ba154da7abb8dc84aaa5af47",
      "455eabfaa87646c4a68e90c9f3418e69",
      "c2bb1294d3ba4617baebcab168ac18ff",
      "3f2fbd8b5dd2464abf4c7cf457c2360e",
      "84471ab56ae84e73b8e1871c5f06fcaf",
      "964f8176b709453e8d972c2b4458f47a",
      "26b4eb75a3cb43bb89a5ef9df6c48a92",
      "3f6bbdfc314b4decb2fa7c399ff7c986",
      "393691cdd27340a79f95ece2c0c3bb0e",
      "896f380410e548579ffc39cfb14c483e",
      "1a6ce1da47da4dc8b88eb40c72e82902",
      "4293a19b36d14290ab0e8081cca45d9e",
      "c2923f12904d4e6b8c9ef6914bfc7b1c",
      "5932a43092d947cb8149b41111078e3f",
      "1b21f6d99c3642eaa57a4dbc24922d07",
      "98a138de4c4d449cbdc6ccbc7d2c9e37",
      "ffc0b5bde42141f98a24470d8e350d71",
      "eff86958344e460dbdb851a94f4255a5",
      "fcd26e9547a1465b9bd9152d8f633a60",
      "b381cc0b3daa461da28596d58b830f8a",
      "67da6f2727e2430eac5de6d2619340b4",
      "0ff5f60410234d8ca4ff2ec4c3fb4ab2",
      "35ae2279b27c4ec49c4eb0479eadd68b",
      "65f3bd5c4a3c42b9a91ea707c7b81fec",
      "fdd6b75e6053405bb3e38ba1d5e02f8b",
      "a8af67941d364187bedee4fccad13aa7",
      "e8fbfb75829d43c0aa125d2e64329ce7",
      "51b85ed50ebe4d339029a944b6365f20",
      "3567445a6eda474ab20d96e12d413ffe",
      "e7cdc9e426c04f9b810f5f6478fb7eab",
      "8cd9dd68680b4ebe9329a6c68794871e",
      "d05fe60c99924432b16722378284a799",
      "9bebfda0cd0b4d97a985528e1444f783",
      "314f72dd229f49beafb4c3f40ef8b1b2",
      "d273f7a03bdb4015bbecbc2c83b06a07",
      "e25cf0216394432387ddfefba2817ce7",
      "cab840f481ef405bb6ff022c00dfbc1f",
      "e0b7122d0750406fb8f9f831b3bfcf29",
      "4421fed9940a440f8204cfd4535712a3",
      "6a873cedea044675b56a0a0289565d62",
      "b598dd6912aa4fe1b41bf669fdd54e4f",
      "515b2890835045439bac3fba894aaaac",
      "2d99ebe9bff14285afb000819e695f33",
      "47ea2bacf91b4453a2fafb974279b08c",
      "c5a5054760254278b0a1da3516695cb5",
      "f4ef4cfe0c314c0ba2d9a575b57f4dab",
      "880b3036f3bc44428086934eaddcf974",
      "27132a3521bf499f90063b59f722357e",
      "f7f1fea2eeb9499391944d04f1b65bcc",
      "83cae7ed31e74b0c83aaee0b615992ca",
      "b6374b7d1e00470f94fab293d471d343",
      "5524c518a8b0485c9cb470dee949319a",
      "98981a2c355a4791a71d9375070eed98",
      "313f54fa282b4a4d848d922dddcc7a19",
      "b4bdb4bb183240f9b155698a2214ae41",
      "ef82d0015498471f91d4990b2f7a2810",
      "b27c609259be422db0d5aa0927d7aad1",
      "a15ebeb8d0f64fb1aca7da6ce46927dc",
      "0dbd22348d4544a88bbd1aaf67102c9e",
      "5c8b4dfdd98149adb30d7b7fcf43488a",
      "c06605d6dd7d4303b04d85a113156fde",
      "7bb7d44fe153413fa0ab5d7e95cf013d",
      "1cb7a7ddcbe9435e94b27f99a58fbe6c",
      "f8a1b6a7c3054fb5bec24e408f0aeac4",
      "c4ede1ea9a9244128c879c8ed1e0e2d9",
      "82cbacc4177748699ccf406bb83cb52e",
      "1f91113c85f9427f8c546606a0d8706a",
      "98e116fd43a64852a001ca9a8b8d5688",
      "7e9fa53b9ffc4f26ac6bbed45197ff28",
      "27ebeac33c22411a9c989506b40037cd",
      "7eed69a6475747b8af46b02018222e59",
      "f4ef4c062b324f54a08621fcc1bd641c",
      "47f7b44cea4249d2b1a4fdd95e42d4df",
      "fa617a8882904cedac5defcd772d6cd3",
      "1cb6a883c6bf4c5cbdbd805c2e4ece8c",
      "5ff0597ee299428dbfaa56cb079b914e",
      "3bc9905fd9854d53a40db197370aa298",
      "1a00e2436f1b460381ad8289650b6a67",
      "6c48d690a8c64843aa2c503977ea0f59",
      "985ff1557ab94fd791fccea082f80929",
      "9d50db4ccf324fe788eda57c8a5c1f7f",
      "9a5f28efc9c940b1a93151d25874ae03",
      "1fccdc26d1a54d3d8c850927d7a1af7b",
      "a05c848234b94d9583ae1832cfa4e8c4",
      "4cbc58377c244dd2bdee9c066ac79e58",
      "aa7834777347440fbc5336ed4edaba7b",
      "f92adea74ea24d1ea4df8dd8bc096c33",
      "53f8774accf64c9dbf8b303dccb6d891",
      "16bb89f528204b30adc3bda5c7598460",
      "26817e4bc12d4da48bb36d7a5546314c",
      "49dc9de4d1fc4b4ea79a0517e49a784d",
      "468e5ab413734d6685b5ce8ded5c688b",
      "84945a688c134ee793759ba5139243ca",
      "76bf2869b02749b9bd56744e230f68cf",
      "066a3273b3a14b87994ae77cb58e5b45",
      "a4d537947f3b4d90b7eb72e41c103ac0",
      "9345709012694656b65b59038277b8f9",
      "9cb313696b9a42119901fbe205751ecf",
      "2d2d7f0c22c148c59bec2d164b4fe7e6",
      "0dff8fff47db48b1bd7c6daaf2b54894",
      "37714f47282b49b6b69338c142f444cf",
      "57fdeebdf25b448bb8a323b4dcb3c36b",
      "e5c71a940aca4326a96f1201f566eac8",
      "32fc2d67e86345bd88594bf17066eb69",
      "768c084e9b3a4d42a409de61add97452",
      "d17ef7de9bd448669952ca393c2ec9e9",
      "a888742dc31b4a9ea51741a719d19bee",
      "e8ba622e37e4466598521578a01111c1",
      "4ffc578a39274b34972c5c17aac4615f",
      "00872ef45b52439dacb1f161a8499f24",
      "133f0e0929f944d4bdcd5ddbaaf0a15e",
      "161e7b3b55524b33b85afe07ba481d8c",
      "c181695d6ba74942a9b7d8379e6b5ba4",
      "86598bde00e24f05ab27553ee5fd7eb0",
      "e4a8c873887d467d9827ec9a8ca4c051",
      "4e4ee26b95f84de5b985c9f591a10eae",
      "8751114896184749a8f3d6656b6be6c3",
      "04d1aeaa74d74187b08039ab3ba9f3d7",
      "501a7301056346c3a922008e9132a3b1",
      "cc94951a15304a06819e438501a13666",
      "1d35a3929f48413a8d4056bb34b2b30f",
      "726768ad36e24c4bb354d8cb1d7f4e2c",
      "19944993124f409391df293b87a7f2bf",
      "949a0e1294474aada24df88bbea9e374",
      "52b018f0912a4b91af45518793a73395",
      "d59dc817db174307a1054b6a0a230016",
      "286e2470a5f0476cba7d3a33aa2d387e",
      "833029d93f2a4b69838e7b2e597ad4ef",
      "15fa325c3ec84570bc17e399ade49853",
      "1cc1591a207b4ed48ac7abae5939ab3d",
      "5b2b0df147864868b7d52e4420121388",
      "8889965a429841ff83a430c190cb3937",
      "438a14f5e924407684a3255947052cfb",
      "bc5fe52cd48f45bc93989a3c880e92ea",
      "fb99066954be45eaa09a8ee9885320bf",
      "07661a9da25a4f5aa1ee12883367cb71",
      "ed76fc9408024da893fffcb5887d0223",
      "7309376f00544a69b297536018cc72fb",
      "4f2e97aa338b498b932da8af52827000",
      "b0cb68ef1957494b9b158d766b73ecc4",
      "dcc87a4a15a7415080acae6b5df90c83",
      "caedc3ced6d6443cb21726c4002a8d0c",
      "407b3cd7d7bb40ab8f06b46f58a51051",
      "f74f99cf46b9450e91598dba3814089a",
      "55233cd772574d16b69122c9dd663304",
      "6e16451a304045558452b07aee981925",
      "82eccfb8c7ae4be0abf5cee3276bada5",
      "8e36b3eea3ae40d6b85e1a9a9c398898",
      "1c8ff4e0a65543faa09287133a97df89",
      "2b16083ea7d84b76bcfce525931e93b9",
      "6e7895f2293a401aae338228f84f8030",
      "5b815358dda04433a0315fee7e928496",
      "2888dc85f4fc4a12b595c002aa74400b",
      "fcf348a0c4a445cfa52038a16d00f926",
      "1dcef95e861a4af68ca7e845354e705e",
      "372c7da6cd7243f89d481ffceb9412f0",
      "9833b1f903a041ccbf992a1c08ca7c67",
      "1a961d4bb2dc445290ff1967ba0000d2",
      "4b18e23429514986b4599f1d9fa7fef3",
      "e910e73647a34a25a9fa428707b1ea80",
      "e9fa91d52a1848bd9a820b96dbf8bb98",
      "a3ca8b1c697a49babcc75d749a939cdd",
      "238ef0ae81ae4bb090a79be1a5cde159",
      "ea62942121ad4d418703a29e8068228f",
      "e21f9e9237fd46c6925e94152f57eb06",
      "bd9c451844164ace9f40aca459336e69",
      "93431970cedc41599fa6eef1206f7221",
      "02f11683a6564db7927180bae664ab53",
      "34bd1c035f4d4c849c533e26c05080fc",
      "d69c62e396594b7bba163f7768bdc1b1",
      "e17bad5f4c1146a8a8170d68be28f1fb",
      "bdc06268a7d24d259a2a717f89d39c13",
      "57bc4cf8c30f435c9ebba050357da048",
      "47d8655f99b342afba110749c5347a45",
      "73ab34985355424882b3d5ac185f0368",
      "c19482b0ee8e45ebb4c48edd3cc0298f",
      "6d3dc6501ecb44cf971042333e1b4be5",
      "872e6e2db1ca428aa29d45bcbf37d4a3",
      "4b2e0fd4d91d4083a0cd206a118c76b3",
      "6f115814f4704c56901f65d701ac2f6f",
      "13b58893576a4740948cd6667f491fa9",
      "47feba60bcf949b693228bccdd2c8c6f",
      "4bcb85b5053e46d0a2318872b7e0d1e6",
      "9f7bdd071abd462d8d5c0fc2ee0609bb",
      "0dba29a39054485cabf28795d039f8b2",
      "b8368502a38c416798d2745440c7d71b",
      "2016bb6c3dab4907bcc868a345dcfb1c",
      "a3323d05890b4f2c8e93491dd6340a07",
      "d8127f24e8474472b25cf96ccda11a09",
      "111cfedbf0c24a07b3fb3458f872b543",
      "b479945f1faf402ea9aa1e094764c2ac",
      "a210a98125764cfb8cef83585dae47ee",
      "99b139d42f67493480334c99404703c2",
      "e3bfde340c3744b6abcd5dd510fcd341",
      "4b0d602b1b904adcbdeda8b01223d915",
      "9e84e96cbab140998ef1119f3d6fcc99",
      "67624b5f95fe4fd6ba2f876e40f917f7",
      "5ee5fbf9f0014798b84936ef63d325d9",
      "58f5177ab2164536ac943dcc5923150f",
      "ed4cbb0d7b3344a5a6b4d1937191933c",
      "f349d153db6c43829352674bd66402e2",
      "dc9f97a7013c4137bac4d7ba0bf66669",
      "4cbcea18ca8647efb75b99eb72c59c93",
      "858fe131aa404b7fb28024795eb77be5",
      "e5eddd47a2894bab8b99d52ef55831be",
      "d6e745937a3b4a29b064a0cafe7493b5",
      "2a393cb06c0546088f1800090e80f918",
      "37326405f6f34bb8ae4043ae07061a42",
      "fdeae7e58fb547e9ad0fd36e151f7258",
      "1a4b5594cb284381bd0a63c67cff056c",
      "1f89a266c9d845f184ca74e8631721dd",
      "26afcbaf1b4b440e901983f95b18a8c5",
      "d2a31f2cd71d4ed0b4e496173c72b63d",
      "320858a2e2344e8cbe70154efc14291e",
      "6586bc9c3f594583a3539b7fbf23a914",
      "f4979756cfc145f0870cc814a2aab3b0",
      "4137ca8d97e94f3aa032e01a37b7678f",
      "11c0daf7dd1849bf82c382975728d07e",
      "60b93752dad14596aafc88d773ebba6a",
      "56ec7e907dd04f50bae41f38f2344f1a",
      "64e314ea77564b1cb5ee077ab770fd1c",
      "3338f1dbf93a43f0933e78086fb405d2",
      "ee35670e84d941e0bf56e51d26f613c2",
      "d9bb887fd46445e5ad0365a825ed726f",
      "9899a9f1ba9a4bb2bc68ea649f659e96",
      "f46fd11f8bca4a6096847b268f598258",
      "86083f1b13be4684aff8a27d10094c15",
      "e96521b5f4554960923694ef1994137e",
      "d77f790a2cf84bfab1380c6bf4176238",
      "4c3a458affa34c10a440136342cfb352",
      "ea437c8fc0c4453fa03c85b3e163c91c",
      "06107e242c4e40f2a1dc6421a70206f0",
      "c193965d545043c290a9e4cc7170c6e1",
      "1a809de3e61640809ea067e5ee8a6531",
      "7a4e316101324fb8a28d8399c741260f",
      "cda7bd8a40044b609f933c6f51c5a698",
      "e72757137dd34a3e8d799bd8f17ae490",
      "7d6143cad19d455680004ed4b54d21c1",
      "17f3ff09a5df4f81a79ee2701ca56b5c",
      "8c434cc3c9c04731b1bb7b1291b712aa",
      "56c3923159d64363a6c315df11708a17",
      "b7f2886fbf634f0b9ef4ce71f31b8b90",
      "1e5b679e02814e7a9b4e259324242213",
      "a57598582ed4475ab4dbc467635def36",
      "ee37b6fc0ba64612b72df1f89ac07a9b",
      "1b0d5f0b5f5f4111854a61fde41953c5",
      "63c6e7f9539545438924e8f05372c7ef",
      "dd46d2794f3746c0addb784124530973",
      "9e5bfd17e82041eca91446c3cd98c5f4",
      "e9f52ed81f574400a79ae7c37198847e",
      "21880c330de7453b8ac68f3d05b26e39",
      "c0cf1e08aef644c7beac0cffe429683a",
      "5007a34e5f814da397a44585c4601506",
      "3bfb95bd54a24eb0946b0c60c066d1ed",
      "8030655d6a8847c6bdba9a3adda4ffa8",
      "080ba5dae576427c83a3a1ea63afc8d1",
      "c9758b6ff5c241beaa4bcaa9728a0e24",
      "9c0cd67be44044c7b811ebe7d43ea9cc",
      "6ace587f544844888768b6fe1a3990d6",
      "f649ba3a50e84c89bc6e95386c48de5d",
      "652b99af32af48ed86d7b15f43e29148",
      "4312636213bd4dbbadc1a2c6a0dfb402",
      "b0ed27496d704037b2ab6e9f5c3b843b",
      "17a1ae3953fc4228936e6e32a688bf38",
      "43bbc1984782411596e4205f35408053",
      "00ebaa98505544978b694350169e03d8",
      "bba6f54cb5194991ae83e46ef6791de4",
      "0f616deefac2444bbb49c643a5e28793",
      "a1a9896f80c542d48fb60e18718e7666",
      "ebabdc0b9328460b8bb24934fb757115",
      "101ebb3afacd404293e0f3258d342d12",
      "ef9d93f87acc440dbfdbbcfc88ff6df6",
      "c0dbaff94a7e42ab966592c1052d6a25",
      "5c7c6bf717e74b0b8dd8304a35020765",
      "35d16b47fada483eba382f8bf51b1da9",
      "f14aaa56529f47329553162842af9250",
      "ff5e97fa8aa64538a08322d00c4ee8be",
      "f90d0c8e52c9466eb7fa52a64297678d",
      "a725fe82acae41cfb68706e3cd46b973",
      "5599bd7a34f8448193b4a6ea5ee80221",
      "3bd5d71bf73e46d19c2579eb2f3baef0",
      "14b882332beb481dbc2df94ad16a8313",
      "3e660218b96f45419c40deed0417bbcc",
      "9b496e5403d0490c90babdb321d21931",
      "20856fa6ca224482ad61a65b4f124613",
      "478df64f57264a778fbcd2721734c3cc",
      "e44ba79b53d14a5e9ef55ed90988e415",
      "0da9c3a2693f45e6b8395ccfc1f42078",
      "999dfbc2872846cd86db222979968a79",
      "c1b7be2a47e8417aa76cc060cd0ebf6f",
      "0808dea53e184124ac7d212373cd887d",
      "27135311b1e14cb5b28ab21617a76d1d",
      "1e037951e0bf41e6800dddb96ccd9618",
      "e6a8a89360b84603bd86d84eb76e3b9c",
      "d5de839f74b944f09d62e3f600baa5bd",
      "7cddfee83a0a4512b5570221e8daf243",
      "aadd2bd3fcfb4710918ea3faaf9e10f3",
      "ef629c059d4f40e599be601ebc215488",
      "5c8b66cc6b05403e9b3d9976d6167eac",
      "75f3994887154ad48b777d991aea3e6d",
      "4935aa742eaa45e0bebd194dde9125b1",
      "29b8508abc144b7d9663478499a039b5",
      "c53120c2d70a445194771a07b4c36258",
      "93d4f76e35bf46e9bddd92e14053654d",
      "e08f070d4eaa4b369b8ca277c929feca",
      "e6e49bd9300b40b79dc4410b23d96840",
      "975241de0bd549f7b3886b5c66a96d06",
      "efa05c96c1ee4a19982b1404ab7fd67e",
      "bab733b360684d89b148e787f896df1c",
      "4c3102195536485fbfd0d526c7ce955e",
      "1411184c004f4812af4d323a1e276951",
      "d3212cc3070a4693be7e32f5151f5551",
      "c0450692f0a94cc9994297578746b502",
      "4928b941f56c41708d06ffe394580b84",
      "19fc328271604ceab92c18a3f39b0b9c",
      "238ae702fb8048c6845e5028180d22c3",
      "e80bdf6f4bbb4577afda1726b3a6b427",
      "dbac80cdd5f34609a14e2e9eca644a60",
      "3a89bc7d54714b27809b64bf3a9b2bd6",
      "ee6a12308375423ab9ed93832fc7606d",
      "8ab400e98b0845579d20229295f14b35",
      "6787be8b9a93431f80087718284fa61b",
      "fbb93ccbc0f0442f9f4fb1accecb7e9f",
      "0e4827d92de14389aa338c07ee33c006",
      "83b2408704364b878bba5386db76b95a",
      "c0577b40a74f43cab54dafa31b2238af",
      "b0a110d6ba1f4b4b95c28895ac3d34e1",
      "3500375f54774ea3bdd07fef3f6112b0",
      "c65f3be975b94a618affe465adf76587",
      "fa27f918b796450c984534e1f73e7a6a",
      "20ef2e6d2182432f9b447ae2fd78f291",
      "b30bda29819544df905dcb0917b98d9e",
      "a95aee647e0f4b03b2fa5c063fa3b56a",
      "c903b41853eb47169b3e3d27e92f5253",
      "c9048453697a464fb5ab107f41910ee2",
      "f5aa2b2f931143c4a0994f3d618903fa",
      "0a5d87f506ca44a18e93536ce18e1bc8",
      "9935a354426f4a399c919bc195bec2c5",
      "4e1ebf48ceba4da888a6bba1aa1ca643",
      "a900dda89a554a52af60b7c2d3ebb0f2",
      "c23033656e424f8fbe67ef8b5c45cc10",
      "1d38e8768b1643e19353e6a8d7f47bb8",
      "51bcea2c86264ca690181c20bb8b0053",
      "9b06b51bf3664c4b96be76c6008b0de8",
      "488aca384eda459385c7205c8a9283ef",
      "928247304b824b979a6f900e3f5a61ec",
      "6d1864ac1d344d31ab05abd855a82cc2",
      "4b1fb70da93444b5a752b51337aa392c",
      "d6f152e776da45a6a04a4773e359e41c",
      "4636e8a824d4448c8b1c8456bf12c38f",
      "bc5885f0a61f46e78742643bee404821",
      "c88811a124b445bc81bfad5db82da460",
      "91a90fb2525049bf80c5669839e9bb0b",
      "4112ffd3e9ff4dda8f4fb3c76dda070d",
      "a2c48b2448604af5b2290c945f2c7f4d",
      "1939c15d790b4e87af39fccef3f08ea1",
      "c40d5e113c9c4106acfffaa6cd0b387f",
      "4d80cadf4c174e0297524b0c6c9d8fca",
      "916956938c7844d3a79e9875241285e1",
      "21c1caeb540d4c3ea4bff4cd02f8e89b",
      "7c36cc7056904ea2a3d592e060293ccc",
      "de67537538e04456afd5279fc7577784",
      "3d780c298b2b4155a9f7ec4cca01659d",
      "f1496833e139496a83dd689b214356bf",
      "6b25f929d39f49f398872bfe064c4487",
      "3511a1f37bbb4cdabacd81ca3953ae7a",
      "210e2d4bfde2423c98071bd167eb392e",
      "0e10129349fb4023b288a4d7fae6c435",
      "11b7d334926a4a7f8ff1041f9e05459b",
      "f11f64ae8c5a4ab3b5bb1918a6984986",
      "a2b34fccd9dc415781fcfac0a8ab7dd5",
      "574125342d3c494db0d5f33369017ad5",
      "511d415179764cf48d46796ad632e027",
      "80a9e0e78c694dc2a973944ab709c653",
      "5083ca67b4e9407ebeb71fb4835dcfbc",
      "ee67e4458c244cc9ae6c6513521c6a1d",
      "64d84bba282c4938abb58a4926a0176e",
      "9e52b60f34f74f139e6c847e63b0409d",
      "5d49c4fcac864d71984bf997f2420350",
      "86d7c38946b84f9fb005bc26b44489f9",
      "ffbef1fd902045d7b3ce9e46b2d13ed3",
      "2fee1c9392ed42f9b914809c9f3e434b",
      "b9879fb5e7e64b1884d32cd30e459f7b",
      "613178a44420445791137a6f7d96a72d",
      "14ad555a56e54a76a0e3df3c7fe9f733",
      "d69382ce3b8b40b2beb3d9da5707d954",
      "4b61f9191468436a90ab9608a46c6053",
      "f9d677dcf59c4ec89e6f5a3a35dce8ee",
      "8a3c93d1eb5e475ca41c2cb273ffdb5a",
      "7e18c906f9074ddc8f4e91ccbc1215da",
      "8a94cd6b7dd74edb9b969731e6e5560d",
      "1bc28009063e4f62b9ebca8fe61da3b5",
      "fba600859a6f49adb99b050944233376",
      "d86335e4aec54b0db843354d547756b4",
      "a9082d1f9b144479bc04455d60bf1fab",
      "f872136ec6114d539f23b1817be96be2",
      "2476d75eb8ef4fdf83f15960a803f66b",
      "067adcf6c9754438818da91a53689a96",
      "e35a1185dd1a45338c7a368d4303cd20",
      "850819874f9d494aa27f66394b8e0680",
      "66b11d255bd8498cae7cace677d67448",
      "9b89e31a585f49fd8abc6a28a8136c4d",
      "e41088b798ab44168e86887d0c1ed04c",
      "1785745e683342cd8e266281c4244ce9",
      "cc54e9fc61ed4d55bbdc9fa8d7ea61de",
      "5332cb91a59449bf932ff86f16c48af6",
      "3f35e79f299942f382a1ac794abd29ca",
      "0e3d0ca7ffe943a6a270b292d23002df",
      "2a7a7bfffd734bbd8f3b2aaf8273bdfc",
      "fce606e0455b4bdcbd56bc84538c206c",
      "523ec53385eb4bcd91dcfcce2211d8f9",
      "5370ae2b04714fcda25e3b5bca5f33d7",
      "eb3c3864196c45babd8a930330eb50dd",
      "be2b12e45c7a44eb83d2f95b9a0eaed4",
      "daec873b40d14510ad7b2d24a9327e6e",
      "4ee6276996634f188a8169407983ba02",
      "b15a345417014d239f2f2c7365723d02",
      "fdcace2833ce4547b0bbfe2d613b0bf4",
      "653ee983e966473c9ee7cf4b902a8512",
      "1837f46a9c1f4c5e9984eb3e7deb4b52",
      "db6f279d6c7f4855907374e632378123",
      "22e7277482bb4097a45577232933fa35",
      "c62f586c907a4c48b1a5994214343cd4",
      "14007f8c16f148cea76ce8a9119dea74",
      "440b071cb557451e9f4984c40078af8e",
      "70f734fdc9734c39b6500e04bdc8cba0",
      "eb93b5420ac5447788431e9fb4765438",
      "3aab02695b674ba28ee9513506d708b7",
      "1deead12e70f42db8d17b1ffca8a945f",
      "7eb99e648a14413caf4153777ee7562a",
      "206ebba3e0b649a6b2c17597841eb99f",
      "175786864add473088be4683a8050924",
      "59193aff65f44c39b6826f9a7cbfc57e",
      "cb3870b6de4b4abe93da3eeff26215d8",
      "1d52420cdf0541119865a232a895c015",
      "924538d7a43e43848a9fcbd547aa650d",
      "245cfdd11d064b4a90883edc4035c4f6",
      "3907760966d24beea79d9d0e9345ac58",
      "bc6a6471a98848c5958ec808d8fb0972",
      "fbb683ac282b4e29a8ab9795d23ba5b8",
      "1c25d48fb0fc4187af6cfeef2fef1caa",
      "4a97af71c82a425db1770a9c3314c7fe",
      "47204d79d2524c42800927253f517da5",
      "8de5bc7589394455941b4cc7c6166ae0",
      "b41732686f684e9fb5ffa11c3323db39",
      "dca088536b194c61a6c160a4a84063d1",
      "66da891cd2684241aafb6207b5d3cf2c",
      "eb007ab63a2c41aea3b8698f3454b16a",
      "793063a088be4fcfbbf6026d57e9de54",
      "624c3cd37c8f4a93bade7ebf38ea1b8c",
      "4c2d8a8c561a4e93aadbda7db5cc506e",
      "a6e21965c2ea48f09fd3fc5817569188",
      "796a63772ef54c358a9dcb219aeb446f",
      "c1c83610d7294f569b9c37cce738419f",
      "59e282eae4d341b1be52d34ec049c113",
      "c67417a5fb7a4ac3a7a39157853dee73",
      "d437059d3d484c7daf75f294e8e37a1c",
      "a03fe4612701437d89a48edaa81a9308",
      "9be8d49f5feb4b96a3bf3222c38fb1ec",
      "3b76b804776a4f79b659a1cfc7d68a58",
      "f98134eb68474658ba582826f265c0f6",
      "32c0923af545431c94e02032c6cfa9b2",
      "cb927b5897904fe1a0a7d2c7d88c7dcf",
      "317c7d98403249d6871ab29e2c550b38",
      "bbffea67096f4b61a9b5418501fff2e7",
      "aa175d8b65ed4ecdbf5479f412fd8278",
      "f7d4afc20a1743aa808f936a373bc6ec",
      "e18ce65af9d942caa1e2b5e88fe25bda",
      "04d51319567740a5a9f5b4f26eeb3275",
      "c5f10539df8b4bdb9ddfded26f6aca29",
      "945376ea3f724a21b3912ad962709f9b",
      "5a9740ac1a2b403dac79741c5a9fb8a1",
      "20a7e150f53c407fa34117b1bbb6b30f",
      "1b1f7add24fa4d33944cad9252cc0756",
      "2c31c7ddd24a4491a7cedbe781a94d3d",
      "0f319ad4977f4767bbdffd8d30891b2e",
      "618cf311265445589989eb5572c89fd5",
      "fd231a3473664af3a7c0f082ea02bb1f",
      "82a23b38521e4c738505f267ead478a0",
      "f54b9c787342489f99e34a099f6751d2",
      "6235db37fee741edac42e8773421d135",
      "d0968bf541454539afc859de70407722",
      "af9f4770f4c24543912ba47c77aa29a2",
      "c8d7fe95ef6147ca882b676f5eec627f",
      "77ccd69286954f408a8daffe6ab3adc1",
      "a5c871ba4305492b9cb97e1134559644",
      "805d3645d04447b0930eb28912ee44c1",
      "124b162cc5494050bfc514450037958c",
      "b07494a6389e4bdb90aea12b63df8e42",
      "73941b399af04e37b7a568b9716d7a9d",
      "d84ada8df2c049b6a22792c20f262651",
      "d817474f33814bb59ab304a69dfb2b93",
      "0959615b866d45648a57753913c70d6b",
      "382324f8592640108c6611698e35fe16",
      "e73ba9819c6c4562b31f87115928498c",
      "9402681b7bff4974b2e08db1bcda0eb0",
      "7b30b83da97c4686b286edb16834890f",
      "af13cc799721429a8dfe42f72aa9b372",
      "492965ef5c7743608d62b4c924f8a00f",
      "1f177e0b60cc444dad19465183834b0f",
      "b1b6bedeaafb42c380f24451b1a3ee31",
      "e3b2bd09d2374dd7bac54b852c9ab2b6",
      "d06796808d3c43e6a39343aec08957c9",
      "448905f6f45548b0b3a8fe62e9f50533",
      "6b5a31c47da54f63bf61efa51336d2b5",
      "ab3ef378c1f74cb9ac74daf4ccb55829",
      "623a1da72d564020b15bf0602c5b0c18",
      "47f8d7bc5e38469b919b114c90e04990",
      "43fd5a30421f42be917583b515999cb9",
      "dcc6ee55d6b14b1580dcb8fd1c0c7d4c",
      "50bbe04b88fb4a5c88e694f116ffcafd",
      "fa418feaa7a74f7dab6ad4e06c0bf2c0",
      "205e7753b7624f81b8c0fbee97f710ab",
      "d6abccfb136f41188d9883bb7fa09534",
      "6653529f63234de2b4765a6149e4ca8b",
      "93db5633a4474773b295263bd10f0a5a",
      "7e7cef3a3803456997d48b0eabaf4a28",
      "3088a27d8a084b92b2ee046b75c45cbd",
      "8e3d6d3bf05a45d7be1419b7f0315f6e",
      "51baba6c500e478ab77d5f3b49b19be6",
      "fad72af3a79345838ec7bf5b48212b0a",
      "f05470c713a84363971234281a61facc",
      "7d58a42b0ff7445d9a48a94143a60c46",
      "6b6ca34579ff45cda050d1beec86c271",
      "ec0599dabfcb42c294ecbe78583f8a57",
      "f48d670854c74669b4e2ef60a956d5d5",
      "53b132e89c5c46b1be4f631e455e5a68",
      "bbab6311fe9041278b0e80b1493a823d",
      "5dd97b61b88643c29e57f3d4dd42ef0b",
      "131b4f252957406bbacb3e8047b7b1a2",
      "d328311531f44f2ba6c6cac34e594f72",
      "61accb94b96b4142a42dc4342651e322",
      "be141d349048486e868098d3f4cbac06",
      "c9ecf591f05b4b07a22b8da9f4bb9913",
      "b0b4e7a0f4ae4511885e829eb2b02b9c",
      "859dbb8b1b774d06ab06a20a11884980",
      "f2b3cc35b1154787a82258a1b6a98f47",
      "72331be270b04253a5eacf9061f61ea9",
      "cc07841d86f247909161928617db9a52",
      "e74eb8bd56f74cd3ac56847c3d3dadf0",
      "e6ded9328bf14bfab6af632149b13808",
      "28eef73ba539474589cd18c4456e497a",
      "ac636faf9ed140f291b47e768af44c8a",
      "480f24f6a09647b79ee7093454645e34",
      "550bb9ef929c441db21f2efbc6d9ae3d",
      "5995211a4d8b466381e4c1f5c29222a7",
      "756da8e41b014851a345ad2c6ad80f65",
      "f6d5d13742b04c4cbcb10480af02687f",
      "3108693ddddd4d908b59255093b8d5ff",
      "648f49ed9ed140eca9e0d004ea64e10d",
      "7a3765e96ec149f387a64dc50855823c",
      "8c4ad798034d4ae3a9fa722c5fd43c3f",
      "44337e17022f44e8810f40a4c860d895",
      "50baa0c1f9b9452a8413eec29997d8d2",
      "bb17e5736dbb45009bdc92763c1ade51",
      "3a593647376d442cb0c909047d42dd1d",
      "2b3cc5a58d4f482887cb48601521b290",
      "597cdc77ae3043dbb2124248b6d97642",
      "eda526fb1f6f4f088339b5626948de50",
      "4cb2270ed66845d8b7de678122944d73",
      "1c2382fb212046c3b23563b8eb07c3bf",
      "02e55e3468e54cbc9a45d948943c3a40",
      "b418d19b85624baba67de2bc44caf763",
      "e8023a983cc6440c8636f039f48001c7",
      "c01fb053ebcd4a59924e0a9667de11e5",
      "336e27f80c9b47a2873a03dc28306681",
      "fde26239c0924101a82ee8424e942877",
      "33cdb02026dc4d9f88eee25292abdacf",
      "4181fd6bc47c48f6aefb178a13c6958e",
      "466a080d3b704d88abfe000266c34321",
      "e00f8cf204394e91bc5c5af853f135bd",
      "16f5371be9bc41818cb4035fbc7f768c",
      "554f9a4fac484107beaca72f45d72212",
      "838f0ddab6bf41d3b75ffd7ad053e3ea",
      "befcdb87ef6b4f23a60fcf94ff63dca4",
      "16c2ef1cfaf74423a3ff5e8178a4c215",
      "1d51ed2b953842c2983862dd842e19c9",
      "697299cd956e46a4a632ffd0859fdc9c",
      "772e7281d7724d88b2903bf06ad79b05",
      "f73595adfea74f1abeee1b68de723d62",
      "c16582f25a924d6fbd73ef43261e2b36",
      "98db96c75e174106a4f08961d3ff9644",
      "2f42976bd45649ea96c506c155f9e3a4",
      "fd6cb0bb2fd549688d82cb1adc308933",
      "01823ee6adde4f689037d7e32613c911",
      "96177148fe3142f6917632278953c6af",
      "e2e702e94c464e1bbaaa176bbb369421",
      "5be68d8012bf477f8b27d1f30f79186d",
      "4bd44abc538142d9b91747c237c909ec",
      "b7014b90122e4d4ca9545cc2a751ddd6",
      "9c7b33dec1f94bbb98e29080c3189ebd",
      "cae7a136f1ba40b48f36b2581ae59636",
      "c5bbbb17cca741efb5d79292d9ae7c46",
      "325c48b7df2945df984e5656c04648d2",
      "31dd01a94b7f426da01aca6bfcec9063",
      "bcb8eff37bd5486bab838e49441d73ca",
      "81ab624772fd452ebbc2cfd2ba0d3f99",
      "978973b0a84a4af7989f64dbde026656",
      "11734ae7d8d04c4793cfff47b6fa393f",
      "ac292966dad04aeaaf145c6fd066273f",
      "39cd9819db8d4c2eb1131c30920f9af3",
      "e6ee3e209f204d9e8344430222a280ae",
      "31509da149ae4fbf811c1cdebaf5f7e8",
      "379a66829fd141ca888cccedfa2cdbb0",
      "0cc27e838d404391b728e89147139dba",
      "b2c99199cb4447b594488ecdacc45f10",
      "ddfe9d4c14a4447c9f5f12f87ad8b4f6",
      "33dc474fc7b14dc3b73d24ee25b37241",
      "97b1ef425b07430098b41e08937a87a8",
      "98536f40d0484d0ea82b63a0c4169c10",
      "b7bbaf16fdbc417296f75458426a1624",
      "c62ef4c8a92b4709922ddc0874dcc8b4",
      "aeb018cdd2ea416aaaafc7018a8204cd",
      "d0450da3f1b4444e9da408b97864976e",
      "a505d2af9c8e411186d04256e827b1da",
      "3f0c2a722cac4d65a61017e41e72b1a0",
      "e4a814eba57140489972de2af9e7f57b",
      "d8ca4154ced549f8911f0311994de811",
      "9f60e833529c45e4bf78df1721f06c02",
      "844a981f8c8045a69e5ec1f6bd7db2f4",
      "31304d619ac84a6b81985e934155c03d",
      "c23b73c8af0d4b0c814e43eb6e52ee4a",
      "4e604710b8e1446e8c3f714002ac23cd",
      "ad890b94dc554e168453f5a714931a66",
      "a8bbf978caeb4654b3768e1dd7ee0e5d",
      "9ac6b9a5bcf442a4804e972f729fe90a",
      "349653d653ea4d3794a5e52d76058485",
      "3852c11abfaf42d791fb1a599938df43",
      "97ce066a9f7f4ec4ba4660acd5b04bb3",
      "fd4d7d06ae1544a7a7def95ec810ad89",
      "d35637e9987e4da38b5fd2da9208ca78",
      "09d09b04910146d0a01de4c67a008a89",
      "3ec157a828c94201a1300d4e32585409",
      "899a993a33e84954a80ffddfcad43fa8",
      "a82d28841cab4d238a18cf870d24493e",
      "a580b3c284b745ae8155c5f9a0b99d6a",
      "afc27c4a017f451c9663854ea5fa731c",
      "5ad98a3a15dd42ea83973b45e50adfc4",
      "6909ecc8a5674198bb90fd437609a82f",
      "72d3f66d33f241d29c3f1191cba23db3",
      "53bc79136ce0471e87cbad462d3478a4",
      "beea8240b7834aa783265fb80dfa5691",
      "859be87d31384132b2f0c334a01e788e",
      "9f539ec82769482389118131260ab907",
      "b66fe61c57ff43c6ac236c1fa3d347c3",
      "8521526f981247b8aa30ce0b5c4545a7",
      "18998d8da6524397b8c93916f9716d36",
      "343045a6db6b4bfdac54c7558e0dfce9",
      "3e28c657c9ef40ed9b86ab2e79e189ad",
      "f3354c9310b1480fa286983338998528",
      "5958767093e949398addfa80acad7a91",
      "0345894b874b4b68a024b84416a6ecdd",
      "ab1aaeb7a484431c875e91a5ef2ae457",
      "f431195e8dfa4479981d68ebe5e54b6a",
      "40764eb3d9664674bd672724a85f5b82",
      "808189a8ac194ac59dc0d7b399a7dd1a",
      "b2b3e5f4f72442e4b3f71f238fc89f92",
      "31aa83acc8864896b5132faa6e31c9a3",
      "04f6d7f4a51e4cf4a28193b4be49b583",
      "2c9a125ab6d747aa90a8a900e331fc13",
      "bf5adf1e7e934ee28fa3943f37375b48",
      "7b47aadca412491cb006e599cc788c5c",
      "d1eb0f061cfb4e35ad84012405af6d5b",
      "5d090d65c84f479881e253e6acd39c1b",
      "daaa002319e6442dbefaf053856a532f",
      "2e73ce10a95b4a89886ede0ec82208e0",
      "a26fc092769d42b0a5f8d5916278faea",
      "54c2cb9aaeb4441d9282d180adbef316",
      "1d553a80327e4c51bbc528b1ba3352a5",
      "3ae7b3aba48e450588ce1b1351ff2594",
      "8c621411476e49d580733e2d8b19f085",
      "0bf72281d89a47b8a1e4fb0fc918d81c",
      "d68e5dc7053d4b9fb8b9f2e5c4a22798",
      "39c1b0a75e9545a9aefc4b1f536a6fee",
      "5a35e1fa4c4c4697baa6068391c93e4c",
      "3ebecc9ade564517a7ef045df0ed43f0",
      "70bbed3a94444f57b8a1cf4572ff0fd5",
      "032a7bbb68054a79aa7e9d7272b0f2a9",
      "077656ca56c6403ebe38e1b3d5f56782",
      "3b65e9e383144bc9b1f43adecfcc37f9",
      "7893c5b750d64275b765375e5d212966",
      "d59934327edd4cc9b32084aa69b25a28",
      "86527abb854146cc902cd26c09c3ba04",
      "33f252f16d094f1387452abb0da4c87b",
      "43e38883179f43febff22ec31fa33751",
      "4fcaea5df9bf4fb59c926d2179eb3c04",
      "6e5eccb3189e4050b7eaf453c5c8fa0a",
      "666650df56f44645ad69a86b8d436776",
      "f98a033156f64e64ad3780d0c2d1a1c9",
      "8732c6c1d9e2425a848166e601c7102b",
      "c9571cfa1967458eb751845764be73da",
      "4ad713b64bd14405b473a87efd337892",
      "726a30aa986f4442b12a8f8ca38ba9b9",
      "f839c764623f468a809b47366a7e0e03",
      "dd70a52a71b84b7eb8c11da00ca0eae6",
      "ba021ed3ef154aabaab64360143cea18",
      "47d4f786e0444fd18d38d962cf1be49f",
      "83207832372a4eec811b3ab478df98c4",
      "8488a5750f1841898c5f6a1f1e6921e5",
      "0f0126636cef428f9642d2cf7e68e781",
      "ed8d5c186d7148f3bb8a304a4f113f6c",
      "1d30d8400df94dd2bf5222d98fa83f02",
      "95e663d527134cd88bf59cf6310e94d2",
      "bd79205ee6364235909312025a61a2e3",
      "f454908c989c43b29f36525440ccf992",
      "afb2e251e9944979820b1a8f2f9c3371",
      "fa56e24e3bd7410c93f5bf3dab642cb8",
      "592ec1835af54c9fbd8e4b2cc16fb1ce",
      "90524b5c415348f7bf176fd933da3230",
      "31ee23c3e77243efa3b4e174a478d422",
      "fb04ec02bf494ead920194fd4b892a8f",
      "54b640fad8634a0fb2af3967cd5e28fd",
      "b40d839c81cb4aed8bf3dc05c022fff0",
      "aa9ecc2dec6f4f7680180818eb71eaf4",
      "b266bfa84da642498395f0bd1e48ea78",
      "d356d1f67be8455680b8de4114748600",
      "25c953dd6b41420d93ab47557ad78ccd",
      "332f55553db74055ac8c9a868f914f55",
      "b29c1c13c2ba4c3f8159d62d2147165e",
      "b97a4969b6294cc9a488ac943876e590",
      "86e732b0465949159f352f0b83b06c16",
      "2c0573e843df4a5aacec4cb5742fdd36"
     ]
    },
    "executionInfo": {
     "elapsed": 176495,
     "status": "ok",
     "timestamp": 1751486511782,
     "user": {
      "displayName": "Yulia Yorkshirelove",
      "userId": "10480095246692972307"
     },
     "user_tz": -180
    },
    "id": "Bz6Yz1Z2nzMh",
    "outputId": "a8da8136-17f5-4c78-eacc-6c954e23d859"
   },
   "outputs": [
    {
     "data": {
      "application/vnd.jupyter.widget-view+json": {
       "model_id": "24ccc06f3daf4e8ea98724395d66ce9e",
       "version_major": 2,
       "version_minor": 0
      },
      "text/plain": [
       "Epoch 1:   0%|          | 0/25 [00:00<?, ?it/s]"
      ]
     },
     "metadata": {},
     "output_type": "display_data"
    },
    {
     "name": "stdout",
     "output_type": "stream",
     "text": [
      "Epoch 1 done — avg loss: 3.684460\n"
     ]
    },
    {
     "data": {
      "application/vnd.jupyter.widget-view+json": {
       "model_id": "c8866bddd700438f9c68ddfde7571bd4",
       "version_major": 2,
       "version_minor": 0
      },
      "text/plain": [
       "Epoch 2:   0%|          | 0/25 [00:00<?, ?it/s]"
      ]
     },
     "metadata": {},
     "output_type": "display_data"
    },
    {
     "name": "stdout",
     "output_type": "stream",
     "text": [
      "Epoch 2 done — avg loss: 3.669685\n"
     ]
    },
    {
     "data": {
      "application/vnd.jupyter.widget-view+json": {
       "model_id": "1cedfdbc230040c0b7713392d96c01bd",
       "version_major": 2,
       "version_minor": 0
      },
      "text/plain": [
       "Epoch 3:   0%|          | 0/25 [00:00<?, ?it/s]"
      ]
     },
     "metadata": {},
     "output_type": "display_data"
    },
    {
     "name": "stdout",
     "output_type": "stream",
     "text": [
      "Epoch 3 done — avg loss: 3.657713\n"
     ]
    },
    {
     "data": {
      "application/vnd.jupyter.widget-view+json": {
       "model_id": "93b1802df8c84221b1dc4e3972eee7a1",
       "version_major": 2,
       "version_minor": 0
      },
      "text/plain": [
       "Epoch 4:   0%|          | 0/25 [00:00<?, ?it/s]"
      ]
     },
     "metadata": {},
     "output_type": "display_data"
    },
    {
     "name": "stdout",
     "output_type": "stream",
     "text": [
      "Epoch 4 done — avg loss: 3.646687\n"
     ]
    },
    {
     "data": {
      "application/vnd.jupyter.widget-view+json": {
       "model_id": "efc6e81b9ace4b8796b28837e9d321a2",
       "version_major": 2,
       "version_minor": 0
      },
      "text/plain": [
       "Epoch 5:   0%|          | 0/25 [00:00<?, ?it/s]"
      ]
     },
     "metadata": {},
     "output_type": "display_data"
    },
    {
     "name": "stdout",
     "output_type": "stream",
     "text": [
      "Epoch 5 done — avg loss: 3.636851\n"
     ]
    },
    {
     "data": {
      "application/vnd.jupyter.widget-view+json": {
       "model_id": "bb124920989c4fdcbe437705939fd563",
       "version_major": 2,
       "version_minor": 0
      },
      "text/plain": [
       "Epoch 6:   0%|          | 0/25 [00:00<?, ?it/s]"
      ]
     },
     "metadata": {},
     "output_type": "display_data"
    },
    {
     "name": "stdout",
     "output_type": "stream",
     "text": [
      "Epoch 6 done — avg loss: 3.627662\n"
     ]
    },
    {
     "data": {
      "application/vnd.jupyter.widget-view+json": {
       "model_id": "46149b618cdb4bc28a3c04cd200431e4",
       "version_major": 2,
       "version_minor": 0
      },
      "text/plain": [
       "Epoch 7:   0%|          | 0/25 [00:00<?, ?it/s]"
      ]
     },
     "metadata": {},
     "output_type": "display_data"
    },
    {
     "name": "stdout",
     "output_type": "stream",
     "text": [
      "Epoch 7 done — avg loss: 3.618940\n"
     ]
    },
    {
     "data": {
      "application/vnd.jupyter.widget-view+json": {
       "model_id": "b5b220e0f38545b4a446997554d23378",
       "version_major": 2,
       "version_minor": 0
      },
      "text/plain": [
       "Epoch 8:   0%|          | 0/25 [00:00<?, ?it/s]"
      ]
     },
     "metadata": {},
     "output_type": "display_data"
    },
    {
     "name": "stdout",
     "output_type": "stream",
     "text": [
      "Epoch 8 done — avg loss: 3.611479\n"
     ]
    },
    {
     "data": {
      "application/vnd.jupyter.widget-view+json": {
       "model_id": "e6a8ab869f5b49edb12b485af1d959ce",
       "version_major": 2,
       "version_minor": 0
      },
      "text/plain": [
       "Epoch 9:   0%|          | 0/25 [00:00<?, ?it/s]"
      ]
     },
     "metadata": {},
     "output_type": "display_data"
    },
    {
     "name": "stdout",
     "output_type": "stream",
     "text": [
      "Epoch 9 done — avg loss: 3.604457\n"
     ]
    },
    {
     "data": {
      "application/vnd.jupyter.widget-view+json": {
       "model_id": "1c75f7e5b89446df95ceb996a1f54a8e",
       "version_major": 2,
       "version_minor": 0
      },
      "text/plain": [
       "Epoch 10:   0%|          | 0/25 [00:00<?, ?it/s]"
      ]
     },
     "metadata": {},
     "output_type": "display_data"
    },
    {
     "name": "stdout",
     "output_type": "stream",
     "text": [
      "Epoch 10 done — avg loss: 3.598027\n"
     ]
    },
    {
     "data": {
      "application/vnd.jupyter.widget-view+json": {
       "model_id": "47142cb4edd340888c326aa5a888452e",
       "version_major": 2,
       "version_minor": 0
      },
      "text/plain": [
       "Epoch 11:   0%|          | 0/25 [00:00<?, ?it/s]"
      ]
     },
     "metadata": {},
     "output_type": "display_data"
    },
    {
     "name": "stdout",
     "output_type": "stream",
     "text": [
      "Epoch 11 done — avg loss: 3.591756\n"
     ]
    },
    {
     "data": {
      "application/vnd.jupyter.widget-view+json": {
       "model_id": "3e4bfa52fbd344619de96586230b761b",
       "version_major": 2,
       "version_minor": 0
      },
      "text/plain": [
       "Epoch 12:   0%|          | 0/25 [00:00<?, ?it/s]"
      ]
     },
     "metadata": {},
     "output_type": "display_data"
    },
    {
     "name": "stdout",
     "output_type": "stream",
     "text": [
      "Epoch 12 done — avg loss: 3.585716\n"
     ]
    },
    {
     "data": {
      "application/vnd.jupyter.widget-view+json": {
       "model_id": "962566cf53664f4db30e96fe598d661e",
       "version_major": 2,
       "version_minor": 0
      },
      "text/plain": [
       "Epoch 13:   0%|          | 0/25 [00:00<?, ?it/s]"
      ]
     },
     "metadata": {},
     "output_type": "display_data"
    },
    {
     "name": "stdout",
     "output_type": "stream",
     "text": [
      "Epoch 13 done — avg loss: 3.579705\n"
     ]
    },
    {
     "data": {
      "application/vnd.jupyter.widget-view+json": {
       "model_id": "08c4604dc26247a4baf6bd11ea858f85",
       "version_major": 2,
       "version_minor": 0
      },
      "text/plain": [
       "Epoch 14:   0%|          | 0/25 [00:00<?, ?it/s]"
      ]
     },
     "metadata": {},
     "output_type": "display_data"
    },
    {
     "name": "stdout",
     "output_type": "stream",
     "text": [
      "Epoch 14 done — avg loss: 3.574540\n"
     ]
    },
    {
     "data": {
      "application/vnd.jupyter.widget-view+json": {
       "model_id": "5dec7aa416b749889b2825a57f036f0a",
       "version_major": 2,
       "version_minor": 0
      },
      "text/plain": [
       "Epoch 15:   0%|          | 0/25 [00:00<?, ?it/s]"
      ]
     },
     "metadata": {},
     "output_type": "display_data"
    },
    {
     "name": "stdout",
     "output_type": "stream",
     "text": [
      "Epoch 15 done — avg loss: 3.569151\n"
     ]
    },
    {
     "data": {
      "application/vnd.jupyter.widget-view+json": {
       "model_id": "85412ea215e64374878057e9832cf02a",
       "version_major": 2,
       "version_minor": 0
      },
      "text/plain": [
       "Epoch 16:   0%|          | 0/25 [00:00<?, ?it/s]"
      ]
     },
     "metadata": {},
     "output_type": "display_data"
    },
    {
     "name": "stdout",
     "output_type": "stream",
     "text": [
      "Epoch 16 done — avg loss: 3.563954\n"
     ]
    },
    {
     "data": {
      "application/vnd.jupyter.widget-view+json": {
       "model_id": "50c06697ca3c4ea5a06aab8b064ad69a",
       "version_major": 2,
       "version_minor": 0
      },
      "text/plain": [
       "Epoch 17:   0%|          | 0/25 [00:00<?, ?it/s]"
      ]
     },
     "metadata": {},
     "output_type": "display_data"
    },
    {
     "name": "stdout",
     "output_type": "stream",
     "text": [
      "Epoch 17 done — avg loss: 3.559332\n"
     ]
    },
    {
     "data": {
      "application/vnd.jupyter.widget-view+json": {
       "model_id": "83a758071dbf46659e14c1e47b58af71",
       "version_major": 2,
       "version_minor": 0
      },
      "text/plain": [
       "Epoch 18:   0%|          | 0/25 [00:00<?, ?it/s]"
      ]
     },
     "metadata": {},
     "output_type": "display_data"
    },
    {
     "name": "stdout",
     "output_type": "stream",
     "text": [
      "Epoch 18 done — avg loss: 3.554615\n"
     ]
    },
    {
     "data": {
      "application/vnd.jupyter.widget-view+json": {
       "model_id": "d2d9ee0ea96b4dd38c1329182412e7d2",
       "version_major": 2,
       "version_minor": 0
      },
      "text/plain": [
       "Epoch 19:   0%|          | 0/25 [00:00<?, ?it/s]"
      ]
     },
     "metadata": {},
     "output_type": "display_data"
    },
    {
     "name": "stdout",
     "output_type": "stream",
     "text": [
      "Epoch 19 done — avg loss: 3.550216\n"
     ]
    },
    {
     "data": {
      "application/vnd.jupyter.widget-view+json": {
       "model_id": "73969ea5216e42e296af3f790e6a7c92",
       "version_major": 2,
       "version_minor": 0
      },
      "text/plain": [
       "Epoch 20:   0%|          | 0/25 [00:00<?, ?it/s]"
      ]
     },
     "metadata": {},
     "output_type": "display_data"
    },
    {
     "name": "stdout",
     "output_type": "stream",
     "text": [
      "Epoch 20 done — avg loss: 3.545719\n"
     ]
    },
    {
     "data": {
      "application/vnd.jupyter.widget-view+json": {
       "model_id": "34873c117ca444ff8c5e8904685959f7",
       "version_major": 2,
       "version_minor": 0
      },
      "text/plain": [
       "Epoch 21:   0%|          | 0/25 [00:00<?, ?it/s]"
      ]
     },
     "metadata": {},
     "output_type": "display_data"
    },
    {
     "name": "stdout",
     "output_type": "stream",
     "text": [
      "Epoch 21 done — avg loss: 3.541339\n"
     ]
    },
    {
     "data": {
      "application/vnd.jupyter.widget-view+json": {
       "model_id": "6e3d75e13e5e4616b6c37f255152a8d6",
       "version_major": 2,
       "version_minor": 0
      },
      "text/plain": [
       "Epoch 22:   0%|          | 0/25 [00:00<?, ?it/s]"
      ]
     },
     "metadata": {},
     "output_type": "display_data"
    },
    {
     "name": "stdout",
     "output_type": "stream",
     "text": [
      "Epoch 22 done — avg loss: 3.536806\n"
     ]
    },
    {
     "data": {
      "application/vnd.jupyter.widget-view+json": {
       "model_id": "fb81966ac9a14510a87a1672b8c72781",
       "version_major": 2,
       "version_minor": 0
      },
      "text/plain": [
       "Epoch 23:   0%|          | 0/25 [00:00<?, ?it/s]"
      ]
     },
     "metadata": {},
     "output_type": "display_data"
    },
    {
     "name": "stdout",
     "output_type": "stream",
     "text": [
      "Epoch 23 done — avg loss: 3.533169\n"
     ]
    },
    {
     "data": {
      "application/vnd.jupyter.widget-view+json": {
       "model_id": "9a52c63415034d00a925f4d09e2f2411",
       "version_major": 2,
       "version_minor": 0
      },
      "text/plain": [
       "Epoch 24:   0%|          | 0/25 [00:00<?, ?it/s]"
      ]
     },
     "metadata": {},
     "output_type": "display_data"
    },
    {
     "name": "stdout",
     "output_type": "stream",
     "text": [
      "Epoch 24 done — avg loss: 3.529127\n"
     ]
    },
    {
     "data": {
      "application/vnd.jupyter.widget-view+json": {
       "model_id": "b664315d6c3d449182d6051e6ada5a16",
       "version_major": 2,
       "version_minor": 0
      },
      "text/plain": [
       "Epoch 25:   0%|          | 0/25 [00:00<?, ?it/s]"
      ]
     },
     "metadata": {},
     "output_type": "display_data"
    },
    {
     "name": "stdout",
     "output_type": "stream",
     "text": [
      "Epoch 25 done — avg loss: 3.525066\n"
     ]
    },
    {
     "data": {
      "application/vnd.jupyter.widget-view+json": {
       "model_id": "71a33b1873d54392adbd0e1c94d0fbbf",
       "version_major": 2,
       "version_minor": 0
      },
      "text/plain": [
       "Epoch 26:   0%|          | 0/25 [00:00<?, ?it/s]"
      ]
     },
     "metadata": {},
     "output_type": "display_data"
    },
    {
     "name": "stdout",
     "output_type": "stream",
     "text": [
      "Epoch 26 done — avg loss: 3.521486\n"
     ]
    },
    {
     "data": {
      "application/vnd.jupyter.widget-view+json": {
       "model_id": "1529598c7de04587aaa8ac5b92125069",
       "version_major": 2,
       "version_minor": 0
      },
      "text/plain": [
       "Epoch 27:   0%|          | 0/25 [00:00<?, ?it/s]"
      ]
     },
     "metadata": {},
     "output_type": "display_data"
    },
    {
     "name": "stdout",
     "output_type": "stream",
     "text": [
      "Epoch 27 done — avg loss: 3.517454\n"
     ]
    },
    {
     "data": {
      "application/vnd.jupyter.widget-view+json": {
       "model_id": "9b13004b269948259220e392bcb7481d",
       "version_major": 2,
       "version_minor": 0
      },
      "text/plain": [
       "Epoch 28:   0%|          | 0/25 [00:00<?, ?it/s]"
      ]
     },
     "metadata": {},
     "output_type": "display_data"
    },
    {
     "name": "stdout",
     "output_type": "stream",
     "text": [
      "Epoch 28 done — avg loss: 3.513973\n"
     ]
    },
    {
     "data": {
      "application/vnd.jupyter.widget-view+json": {
       "model_id": "eca0020f5853402aabe012b5e775231c",
       "version_major": 2,
       "version_minor": 0
      },
      "text/plain": [
       "Epoch 29:   0%|          | 0/25 [00:00<?, ?it/s]"
      ]
     },
     "metadata": {},
     "output_type": "display_data"
    },
    {
     "name": "stdout",
     "output_type": "stream",
     "text": [
      "Epoch 29 done — avg loss: 3.510627\n"
     ]
    },
    {
     "data": {
      "application/vnd.jupyter.widget-view+json": {
       "model_id": "73b03cc8b274476996d7410eb078ec0e",
       "version_major": 2,
       "version_minor": 0
      },
      "text/plain": [
       "Epoch 30:   0%|          | 0/25 [00:00<?, ?it/s]"
      ]
     },
     "metadata": {},
     "output_type": "display_data"
    },
    {
     "name": "stdout",
     "output_type": "stream",
     "text": [
      "Epoch 30 done — avg loss: 3.507068\n"
     ]
    },
    {
     "data": {
      "application/vnd.jupyter.widget-view+json": {
       "model_id": "3af6ff0d0813482fba92b34768f842d3",
       "version_major": 2,
       "version_minor": 0
      },
      "text/plain": [
       "Epoch 31:   0%|          | 0/25 [00:00<?, ?it/s]"
      ]
     },
     "metadata": {},
     "output_type": "display_data"
    },
    {
     "name": "stdout",
     "output_type": "stream",
     "text": [
      "Epoch 31 done — avg loss: 3.503801\n"
     ]
    },
    {
     "data": {
      "application/vnd.jupyter.widget-view+json": {
       "model_id": "6192dec154444edca089baafdb0af4b1",
       "version_major": 2,
       "version_minor": 0
      },
      "text/plain": [
       "Epoch 32:   0%|          | 0/25 [00:00<?, ?it/s]"
      ]
     },
     "metadata": {},
     "output_type": "display_data"
    },
    {
     "name": "stdout",
     "output_type": "stream",
     "text": [
      "Epoch 32 done — avg loss: 3.500651\n"
     ]
    },
    {
     "data": {
      "application/vnd.jupyter.widget-view+json": {
       "model_id": "e7f3b2a1df4f4069866774b5f7925b37",
       "version_major": 2,
       "version_minor": 0
      },
      "text/plain": [
       "Epoch 33:   0%|          | 0/25 [00:00<?, ?it/s]"
      ]
     },
     "metadata": {},
     "output_type": "display_data"
    },
    {
     "name": "stdout",
     "output_type": "stream",
     "text": [
      "Epoch 33 done — avg loss: 3.497624\n"
     ]
    },
    {
     "data": {
      "application/vnd.jupyter.widget-view+json": {
       "model_id": "dcd9d59e3d9d438b959d97fef0963bfb",
       "version_major": 2,
       "version_minor": 0
      },
      "text/plain": [
       "Epoch 34:   0%|          | 0/25 [00:00<?, ?it/s]"
      ]
     },
     "metadata": {},
     "output_type": "display_data"
    },
    {
     "name": "stdout",
     "output_type": "stream",
     "text": [
      "Epoch 34 done — avg loss: 3.494686\n"
     ]
    },
    {
     "data": {
      "application/vnd.jupyter.widget-view+json": {
       "model_id": "f3779e3120d94f269fa58177ad0af37e",
       "version_major": 2,
       "version_minor": 0
      },
      "text/plain": [
       "Epoch 35:   0%|          | 0/25 [00:00<?, ?it/s]"
      ]
     },
     "metadata": {},
     "output_type": "display_data"
    },
    {
     "name": "stdout",
     "output_type": "stream",
     "text": [
      "Epoch 35 done — avg loss: 3.491310\n"
     ]
    },
    {
     "data": {
      "application/vnd.jupyter.widget-view+json": {
       "model_id": "3f6bbdfc314b4decb2fa7c399ff7c986",
       "version_major": 2,
       "version_minor": 0
      },
      "text/plain": [
       "Epoch 36:   0%|          | 0/25 [00:00<?, ?it/s]"
      ]
     },
     "metadata": {},
     "output_type": "display_data"
    },
    {
     "name": "stdout",
     "output_type": "stream",
     "text": [
      "Epoch 36 done — avg loss: 3.488552\n"
     ]
    },
    {
     "data": {
      "application/vnd.jupyter.widget-view+json": {
       "model_id": "fcd26e9547a1465b9bd9152d8f633a60",
       "version_major": 2,
       "version_minor": 0
      },
      "text/plain": [
       "Epoch 37:   0%|          | 0/25 [00:00<?, ?it/s]"
      ]
     },
     "metadata": {},
     "output_type": "display_data"
    },
    {
     "name": "stdout",
     "output_type": "stream",
     "text": [
      "Epoch 37 done — avg loss: 3.485822\n"
     ]
    },
    {
     "data": {
      "application/vnd.jupyter.widget-view+json": {
       "model_id": "e7cdc9e426c04f9b810f5f6478fb7eab",
       "version_major": 2,
       "version_minor": 0
      },
      "text/plain": [
       "Epoch 38:   0%|          | 0/25 [00:00<?, ?it/s]"
      ]
     },
     "metadata": {},
     "output_type": "display_data"
    },
    {
     "name": "stdout",
     "output_type": "stream",
     "text": [
      "Epoch 38 done — avg loss: 3.483820\n"
     ]
    },
    {
     "data": {
      "application/vnd.jupyter.widget-view+json": {
       "model_id": "b598dd6912aa4fe1b41bf669fdd54e4f",
       "version_major": 2,
       "version_minor": 0
      },
      "text/plain": [
       "Epoch 39:   0%|          | 0/25 [00:00<?, ?it/s]"
      ]
     },
     "metadata": {},
     "output_type": "display_data"
    },
    {
     "name": "stdout",
     "output_type": "stream",
     "text": [
      "Epoch 39 done — avg loss: 3.481296\n"
     ]
    },
    {
     "data": {
      "application/vnd.jupyter.widget-view+json": {
       "model_id": "5524c518a8b0485c9cb470dee949319a",
       "version_major": 2,
       "version_minor": 0
      },
      "text/plain": [
       "Epoch 40:   0%|          | 0/25 [00:00<?, ?it/s]"
      ]
     },
     "metadata": {},
     "output_type": "display_data"
    },
    {
     "name": "stdout",
     "output_type": "stream",
     "text": [
      "Epoch 40 done — avg loss: 3.478790\n"
     ]
    },
    {
     "data": {
      "application/vnd.jupyter.widget-view+json": {
       "model_id": "1cb7a7ddcbe9435e94b27f99a58fbe6c",
       "version_major": 2,
       "version_minor": 0
      },
      "text/plain": [
       "Epoch 41:   0%|          | 0/25 [00:00<?, ?it/s]"
      ]
     },
     "metadata": {},
     "output_type": "display_data"
    },
    {
     "name": "stdout",
     "output_type": "stream",
     "text": [
      "Epoch 41 done — avg loss: 3.475467\n"
     ]
    },
    {
     "data": {
      "application/vnd.jupyter.widget-view+json": {
       "model_id": "fa617a8882904cedac5defcd772d6cd3",
       "version_major": 2,
       "version_minor": 0
      },
      "text/plain": [
       "Epoch 42:   0%|          | 0/25 [00:00<?, ?it/s]"
      ]
     },
     "metadata": {},
     "output_type": "display_data"
    },
    {
     "name": "stdout",
     "output_type": "stream",
     "text": [
      "Epoch 42 done — avg loss: 3.472717\n"
     ]
    },
    {
     "data": {
      "application/vnd.jupyter.widget-view+json": {
       "model_id": "4cbc58377c244dd2bdee9c066ac79e58",
       "version_major": 2,
       "version_minor": 0
      },
      "text/plain": [
       "Epoch 43:   0%|          | 0/25 [00:00<?, ?it/s]"
      ]
     },
     "metadata": {},
     "output_type": "display_data"
    },
    {
     "name": "stdout",
     "output_type": "stream",
     "text": [
      "Epoch 43 done — avg loss: 3.470477\n"
     ]
    },
    {
     "data": {
      "application/vnd.jupyter.widget-view+json": {
       "model_id": "a4d537947f3b4d90b7eb72e41c103ac0",
       "version_major": 2,
       "version_minor": 0
      },
      "text/plain": [
       "Epoch 44:   0%|          | 0/25 [00:00<?, ?it/s]"
      ]
     },
     "metadata": {},
     "output_type": "display_data"
    },
    {
     "name": "stdout",
     "output_type": "stream",
     "text": [
      "Epoch 44 done — avg loss: 3.468314\n"
     ]
    },
    {
     "data": {
      "application/vnd.jupyter.widget-view+json": {
       "model_id": "a888742dc31b4a9ea51741a719d19bee",
       "version_major": 2,
       "version_minor": 0
      },
      "text/plain": [
       "Epoch 45:   0%|          | 0/25 [00:00<?, ?it/s]"
      ]
     },
     "metadata": {},
     "output_type": "display_data"
    },
    {
     "name": "stdout",
     "output_type": "stream",
     "text": [
      "Epoch 45 done — avg loss: 3.466685\n"
     ]
    },
    {
     "data": {
      "application/vnd.jupyter.widget-view+json": {
       "model_id": "04d1aeaa74d74187b08039ab3ba9f3d7",
       "version_major": 2,
       "version_minor": 0
      },
      "text/plain": [
       "Epoch 46:   0%|          | 0/25 [00:00<?, ?it/s]"
      ]
     },
     "metadata": {},
     "output_type": "display_data"
    },
    {
     "name": "stdout",
     "output_type": "stream",
     "text": [
      "Epoch 46 done — avg loss: 3.464330\n"
     ]
    },
    {
     "data": {
      "application/vnd.jupyter.widget-view+json": {
       "model_id": "15fa325c3ec84570bc17e399ade49853",
       "version_major": 2,
       "version_minor": 0
      },
      "text/plain": [
       "Epoch 47:   0%|          | 0/25 [00:00<?, ?it/s]"
      ]
     },
     "metadata": {},
     "output_type": "display_data"
    },
    {
     "name": "stdout",
     "output_type": "stream",
     "text": [
      "Epoch 47 done — avg loss: 3.461662\n"
     ]
    },
    {
     "data": {
      "application/vnd.jupyter.widget-view+json": {
       "model_id": "b0cb68ef1957494b9b158d766b73ecc4",
       "version_major": 2,
       "version_minor": 0
      },
      "text/plain": [
       "Epoch 48:   0%|          | 0/25 [00:00<?, ?it/s]"
      ]
     },
     "metadata": {},
     "output_type": "display_data"
    },
    {
     "name": "stdout",
     "output_type": "stream",
     "text": [
      "Epoch 48 done — avg loss: 3.459222\n"
     ]
    },
    {
     "data": {
      "application/vnd.jupyter.widget-view+json": {
       "model_id": "6e7895f2293a401aae338228f84f8030",
       "version_major": 2,
       "version_minor": 0
      },
      "text/plain": [
       "Epoch 49:   0%|          | 0/25 [00:00<?, ?it/s]"
      ]
     },
     "metadata": {},
     "output_type": "display_data"
    },
    {
     "name": "stdout",
     "output_type": "stream",
     "text": [
      "Epoch 49 done — avg loss: 3.456907\n"
     ]
    },
    {
     "data": {
      "application/vnd.jupyter.widget-view+json": {
       "model_id": "a3ca8b1c697a49babcc75d749a939cdd",
       "version_major": 2,
       "version_minor": 0
      },
      "text/plain": [
       "Epoch 50:   0%|          | 0/25 [00:00<?, ?it/s]"
      ]
     },
     "metadata": {},
     "output_type": "display_data"
    },
    {
     "name": "stdout",
     "output_type": "stream",
     "text": [
      "Epoch 50 done — avg loss: 3.454901\n"
     ]
    },
    {
     "data": {
      "application/vnd.jupyter.widget-view+json": {
       "model_id": "57bc4cf8c30f435c9ebba050357da048",
       "version_major": 2,
       "version_minor": 0
      },
      "text/plain": [
       "Epoch 51:   0%|          | 0/25 [00:00<?, ?it/s]"
      ]
     },
     "metadata": {},
     "output_type": "display_data"
    },
    {
     "name": "stdout",
     "output_type": "stream",
     "text": [
      "Epoch 51 done — avg loss: 3.452752\n"
     ]
    },
    {
     "data": {
      "application/vnd.jupyter.widget-view+json": {
       "model_id": "9f7bdd071abd462d8d5c0fc2ee0609bb",
       "version_major": 2,
       "version_minor": 0
      },
      "text/plain": [
       "Epoch 52:   0%|          | 0/25 [00:00<?, ?it/s]"
      ]
     },
     "metadata": {},
     "output_type": "display_data"
    },
    {
     "name": "stdout",
     "output_type": "stream",
     "text": [
      "Epoch 52 done — avg loss: 3.450718\n"
     ]
    },
    {
     "data": {
      "application/vnd.jupyter.widget-view+json": {
       "model_id": "4b0d602b1b904adcbdeda8b01223d915",
       "version_major": 2,
       "version_minor": 0
      },
      "text/plain": [
       "Epoch 53:   0%|          | 0/25 [00:00<?, ?it/s]"
      ]
     },
     "metadata": {},
     "output_type": "display_data"
    },
    {
     "name": "stdout",
     "output_type": "stream",
     "text": [
      "Epoch 53 done — avg loss: 3.449061\n"
     ]
    },
    {
     "data": {
      "application/vnd.jupyter.widget-view+json": {
       "model_id": "d6e745937a3b4a29b064a0cafe7493b5",
       "version_major": 2,
       "version_minor": 0
      },
      "text/plain": [
       "Epoch 54:   0%|          | 0/25 [00:00<?, ?it/s]"
      ]
     },
     "metadata": {},
     "output_type": "display_data"
    },
    {
     "name": "stdout",
     "output_type": "stream",
     "text": [
      "Epoch 54 done — avg loss: 3.447294\n"
     ]
    },
    {
     "data": {
      "application/vnd.jupyter.widget-view+json": {
       "model_id": "4137ca8d97e94f3aa032e01a37b7678f",
       "version_major": 2,
       "version_minor": 0
      },
      "text/plain": [
       "Epoch 55:   0%|          | 0/25 [00:00<?, ?it/s]"
      ]
     },
     "metadata": {},
     "output_type": "display_data"
    },
    {
     "name": "stdout",
     "output_type": "stream",
     "text": [
      "Epoch 55 done — avg loss: 3.445389\n"
     ]
    },
    {
     "data": {
      "application/vnd.jupyter.widget-view+json": {
       "model_id": "e96521b5f4554960923694ef1994137e",
       "version_major": 2,
       "version_minor": 0
      },
      "text/plain": [
       "Epoch 56:   0%|          | 0/25 [00:00<?, ?it/s]"
      ]
     },
     "metadata": {},
     "output_type": "display_data"
    },
    {
     "name": "stdout",
     "output_type": "stream",
     "text": [
      "Epoch 56 done — avg loss: 3.443580\n"
     ]
    },
    {
     "data": {
      "application/vnd.jupyter.widget-view+json": {
       "model_id": "17f3ff09a5df4f81a79ee2701ca56b5c",
       "version_major": 2,
       "version_minor": 0
      },
      "text/plain": [
       "Epoch 57:   0%|          | 0/25 [00:00<?, ?it/s]"
      ]
     },
     "metadata": {},
     "output_type": "display_data"
    },
    {
     "name": "stdout",
     "output_type": "stream",
     "text": [
      "Epoch 57 done — avg loss: 3.441349\n"
     ]
    },
    {
     "data": {
      "application/vnd.jupyter.widget-view+json": {
       "model_id": "e9f52ed81f574400a79ae7c37198847e",
       "version_major": 2,
       "version_minor": 0
      },
      "text/plain": [
       "Epoch 58:   0%|          | 0/25 [00:00<?, ?it/s]"
      ]
     },
     "metadata": {},
     "output_type": "display_data"
    },
    {
     "name": "stdout",
     "output_type": "stream",
     "text": [
      "Epoch 58 done — avg loss: 3.439132\n"
     ]
    },
    {
     "data": {
      "application/vnd.jupyter.widget-view+json": {
       "model_id": "652b99af32af48ed86d7b15f43e29148",
       "version_major": 2,
       "version_minor": 0
      },
      "text/plain": [
       "Epoch 59:   0%|          | 0/25 [00:00<?, ?it/s]"
      ]
     },
     "metadata": {},
     "output_type": "display_data"
    },
    {
     "name": "stdout",
     "output_type": "stream",
     "text": [
      "Epoch 59 done — avg loss: 3.437415\n"
     ]
    },
    {
     "data": {
      "application/vnd.jupyter.widget-view+json": {
       "model_id": "ef9d93f87acc440dbfdbbcfc88ff6df6",
       "version_major": 2,
       "version_minor": 0
      },
      "text/plain": [
       "Epoch 60:   0%|          | 0/25 [00:00<?, ?it/s]"
      ]
     },
     "metadata": {},
     "output_type": "display_data"
    },
    {
     "name": "stdout",
     "output_type": "stream",
     "text": [
      "Epoch 60 done — avg loss: 3.435336\n"
     ]
    },
    {
     "data": {
      "application/vnd.jupyter.widget-view+json": {
       "model_id": "3e660218b96f45419c40deed0417bbcc",
       "version_major": 2,
       "version_minor": 0
      },
      "text/plain": [
       "Epoch 61:   0%|          | 0/25 [00:00<?, ?it/s]"
      ]
     },
     "metadata": {},
     "output_type": "display_data"
    },
    {
     "name": "stdout",
     "output_type": "stream",
     "text": [
      "Epoch 61 done — avg loss: 3.433556\n"
     ]
    },
    {
     "data": {
      "application/vnd.jupyter.widget-view+json": {
       "model_id": "e6a8a89360b84603bd86d84eb76e3b9c",
       "version_major": 2,
       "version_minor": 0
      },
      "text/plain": [
       "Epoch 62:   0%|          | 0/25 [00:00<?, ?it/s]"
      ]
     },
     "metadata": {},
     "output_type": "display_data"
    },
    {
     "name": "stdout",
     "output_type": "stream",
     "text": [
      "Epoch 62 done — avg loss: 3.431819\n"
     ]
    },
    {
     "data": {
      "application/vnd.jupyter.widget-view+json": {
       "model_id": "e08f070d4eaa4b369b8ca277c929feca",
       "version_major": 2,
       "version_minor": 0
      },
      "text/plain": [
       "Epoch 63:   0%|          | 0/25 [00:00<?, ?it/s]"
      ]
     },
     "metadata": {},
     "output_type": "display_data"
    },
    {
     "name": "stdout",
     "output_type": "stream",
     "text": [
      "Epoch 63 done — avg loss: 3.429807\n"
     ]
    },
    {
     "data": {
      "application/vnd.jupyter.widget-view+json": {
       "model_id": "238ae702fb8048c6845e5028180d22c3",
       "version_major": 2,
       "version_minor": 0
      },
      "text/plain": [
       "Epoch 64:   0%|          | 0/25 [00:00<?, ?it/s]"
      ]
     },
     "metadata": {},
     "output_type": "display_data"
    },
    {
     "name": "stdout",
     "output_type": "stream",
     "text": [
      "Epoch 64 done — avg loss: 3.428225\n"
     ]
    },
    {
     "data": {
      "application/vnd.jupyter.widget-view+json": {
       "model_id": "b0a110d6ba1f4b4b95c28895ac3d34e1",
       "version_major": 2,
       "version_minor": 0
      },
      "text/plain": [
       "Epoch 65:   0%|          | 0/25 [00:00<?, ?it/s]"
      ]
     },
     "metadata": {},
     "output_type": "display_data"
    },
    {
     "name": "stdout",
     "output_type": "stream",
     "text": [
      "Epoch 65 done — avg loss: 3.426935\n"
     ]
    },
    {
     "data": {
      "application/vnd.jupyter.widget-view+json": {
       "model_id": "9935a354426f4a399c919bc195bec2c5",
       "version_major": 2,
       "version_minor": 0
      },
      "text/plain": [
       "Epoch 66:   0%|          | 0/25 [00:00<?, ?it/s]"
      ]
     },
     "metadata": {},
     "output_type": "display_data"
    },
    {
     "name": "stdout",
     "output_type": "stream",
     "text": [
      "Epoch 66 done — avg loss: 3.425465\n"
     ]
    },
    {
     "data": {
      "application/vnd.jupyter.widget-view+json": {
       "model_id": "d6f152e776da45a6a04a4773e359e41c",
       "version_major": 2,
       "version_minor": 0
      },
      "text/plain": [
       "Epoch 67:   0%|          | 0/25 [00:00<?, ?it/s]"
      ]
     },
     "metadata": {},
     "output_type": "display_data"
    },
    {
     "name": "stdout",
     "output_type": "stream",
     "text": [
      "Epoch 67 done — avg loss: 3.423425\n"
     ]
    },
    {
     "data": {
      "application/vnd.jupyter.widget-view+json": {
       "model_id": "21c1caeb540d4c3ea4bff4cd02f8e89b",
       "version_major": 2,
       "version_minor": 0
      },
      "text/plain": [
       "Epoch 68:   0%|          | 0/25 [00:00<?, ?it/s]"
      ]
     },
     "metadata": {},
     "output_type": "display_data"
    },
    {
     "name": "stdout",
     "output_type": "stream",
     "text": [
      "Epoch 68 done — avg loss: 3.421976\n"
     ]
    },
    {
     "data": {
      "application/vnd.jupyter.widget-view+json": {
       "model_id": "a2b34fccd9dc415781fcfac0a8ab7dd5",
       "version_major": 2,
       "version_minor": 0
      },
      "text/plain": [
       "Epoch 69:   0%|          | 0/25 [00:00<?, ?it/s]"
      ]
     },
     "metadata": {},
     "output_type": "display_data"
    },
    {
     "name": "stdout",
     "output_type": "stream",
     "text": [
      "Epoch 69 done — avg loss: 3.419745\n"
     ]
    },
    {
     "data": {
      "application/vnd.jupyter.widget-view+json": {
       "model_id": "2fee1c9392ed42f9b914809c9f3e434b",
       "version_major": 2,
       "version_minor": 0
      },
      "text/plain": [
       "Epoch 70:   0%|          | 0/25 [00:00<?, ?it/s]"
      ]
     },
     "metadata": {},
     "output_type": "display_data"
    },
    {
     "name": "stdout",
     "output_type": "stream",
     "text": [
      "Epoch 70 done — avg loss: 3.418121\n"
     ]
    },
    {
     "data": {
      "application/vnd.jupyter.widget-view+json": {
       "model_id": "fba600859a6f49adb99b050944233376",
       "version_major": 2,
       "version_minor": 0
      },
      "text/plain": [
       "Epoch 71:   0%|          | 0/25 [00:00<?, ?it/s]"
      ]
     },
     "metadata": {},
     "output_type": "display_data"
    },
    {
     "name": "stdout",
     "output_type": "stream",
     "text": [
      "Epoch 71 done — avg loss: 3.416483\n"
     ]
    },
    {
     "data": {
      "application/vnd.jupyter.widget-view+json": {
       "model_id": "1785745e683342cd8e266281c4244ce9",
       "version_major": 2,
       "version_minor": 0
      },
      "text/plain": [
       "Epoch 72:   0%|          | 0/25 [00:00<?, ?it/s]"
      ]
     },
     "metadata": {},
     "output_type": "display_data"
    },
    {
     "name": "stdout",
     "output_type": "stream",
     "text": [
      "Epoch 72 done — avg loss: 3.415014\n"
     ]
    },
    {
     "data": {
      "application/vnd.jupyter.widget-view+json": {
       "model_id": "daec873b40d14510ad7b2d24a9327e6e",
       "version_major": 2,
       "version_minor": 0
      },
      "text/plain": [
       "Epoch 73:   0%|          | 0/25 [00:00<?, ?it/s]"
      ]
     },
     "metadata": {},
     "output_type": "display_data"
    },
    {
     "name": "stdout",
     "output_type": "stream",
     "text": [
      "Epoch 73 done — avg loss: 3.412728\n"
     ]
    },
    {
     "data": {
      "application/vnd.jupyter.widget-view+json": {
       "model_id": "70f734fdc9734c39b6500e04bdc8cba0",
       "version_major": 2,
       "version_minor": 0
      },
      "text/plain": [
       "Epoch 74:   0%|          | 0/25 [00:00<?, ?it/s]"
      ]
     },
     "metadata": {},
     "output_type": "display_data"
    },
    {
     "name": "stdout",
     "output_type": "stream",
     "text": [
      "Epoch 74 done — avg loss: 3.410738\n"
     ]
    },
    {
     "data": {
      "application/vnd.jupyter.widget-view+json": {
       "model_id": "245cfdd11d064b4a90883edc4035c4f6",
       "version_major": 2,
       "version_minor": 0
      },
      "text/plain": [
       "Epoch 75:   0%|          | 0/25 [00:00<?, ?it/s]"
      ]
     },
     "metadata": {},
     "output_type": "display_data"
    },
    {
     "name": "stdout",
     "output_type": "stream",
     "text": [
      "Epoch 75 done — avg loss: 3.409286\n"
     ]
    },
    {
     "data": {
      "application/vnd.jupyter.widget-view+json": {
       "model_id": "eb007ab63a2c41aea3b8698f3454b16a",
       "version_major": 2,
       "version_minor": 0
      },
      "text/plain": [
       "Epoch 76:   0%|          | 0/25 [00:00<?, ?it/s]"
      ]
     },
     "metadata": {},
     "output_type": "display_data"
    },
    {
     "name": "stdout",
     "output_type": "stream",
     "text": [
      "Epoch 76 done — avg loss: 3.407229\n"
     ]
    },
    {
     "data": {
      "application/vnd.jupyter.widget-view+json": {
       "model_id": "9be8d49f5feb4b96a3bf3222c38fb1ec",
       "version_major": 2,
       "version_minor": 0
      },
      "text/plain": [
       "Epoch 77:   0%|          | 0/25 [00:00<?, ?it/s]"
      ]
     },
     "metadata": {},
     "output_type": "display_data"
    },
    {
     "name": "stdout",
     "output_type": "stream",
     "text": [
      "Epoch 77 done — avg loss: 3.406057\n"
     ]
    },
    {
     "data": {
      "application/vnd.jupyter.widget-view+json": {
       "model_id": "c5f10539df8b4bdb9ddfded26f6aca29",
       "version_major": 2,
       "version_minor": 0
      },
      "text/plain": [
       "Epoch 78:   0%|          | 0/25 [00:00<?, ?it/s]"
      ]
     },
     "metadata": {},
     "output_type": "display_data"
    },
    {
     "name": "stdout",
     "output_type": "stream",
     "text": [
      "Epoch 78 done — avg loss: 3.404347\n"
     ]
    },
    {
     "data": {
      "application/vnd.jupyter.widget-view+json": {
       "model_id": "6235db37fee741edac42e8773421d135",
       "version_major": 2,
       "version_minor": 0
      },
      "text/plain": [
       "Epoch 79:   0%|          | 0/25 [00:00<?, ?it/s]"
      ]
     },
     "metadata": {},
     "output_type": "display_data"
    },
    {
     "name": "stdout",
     "output_type": "stream",
     "text": [
      "Epoch 79 done — avg loss: 3.402555\n"
     ]
    },
    {
     "data": {
      "application/vnd.jupyter.widget-view+json": {
       "model_id": "d817474f33814bb59ab304a69dfb2b93",
       "version_major": 2,
       "version_minor": 0
      },
      "text/plain": [
       "Epoch 80:   0%|          | 0/25 [00:00<?, ?it/s]"
      ]
     },
     "metadata": {},
     "output_type": "display_data"
    },
    {
     "name": "stdout",
     "output_type": "stream",
     "text": [
      "Epoch 80 done — avg loss: 3.401524\n"
     ]
    },
    {
     "data": {
      "application/vnd.jupyter.widget-view+json": {
       "model_id": "d06796808d3c43e6a39343aec08957c9",
       "version_major": 2,
       "version_minor": 0
      },
      "text/plain": [
       "Epoch 81:   0%|          | 0/25 [00:00<?, ?it/s]"
      ]
     },
     "metadata": {},
     "output_type": "display_data"
    },
    {
     "name": "stdout",
     "output_type": "stream",
     "text": [
      "Epoch 81 done — avg loss: 3.399893\n"
     ]
    },
    {
     "data": {
      "application/vnd.jupyter.widget-view+json": {
       "model_id": "d6abccfb136f41188d9883bb7fa09534",
       "version_major": 2,
       "version_minor": 0
      },
      "text/plain": [
       "Epoch 82:   0%|          | 0/25 [00:00<?, ?it/s]"
      ]
     },
     "metadata": {},
     "output_type": "display_data"
    },
    {
     "name": "stdout",
     "output_type": "stream",
     "text": [
      "Epoch 82 done — avg loss: 3.398504\n"
     ]
    },
    {
     "data": {
      "application/vnd.jupyter.widget-view+json": {
       "model_id": "ec0599dabfcb42c294ecbe78583f8a57",
       "version_major": 2,
       "version_minor": 0
      },
      "text/plain": [
       "Epoch 83:   0%|          | 0/25 [00:00<?, ?it/s]"
      ]
     },
     "metadata": {},
     "output_type": "display_data"
    },
    {
     "name": "stdout",
     "output_type": "stream",
     "text": [
      "Epoch 83 done — avg loss: 3.396343\n"
     ]
    },
    {
     "data": {
      "application/vnd.jupyter.widget-view+json": {
       "model_id": "859dbb8b1b774d06ab06a20a11884980",
       "version_major": 2,
       "version_minor": 0
      },
      "text/plain": [
       "Epoch 84:   0%|          | 0/25 [00:00<?, ?it/s]"
      ]
     },
     "metadata": {},
     "output_type": "display_data"
    },
    {
     "name": "stdout",
     "output_type": "stream",
     "text": [
      "Epoch 84 done — avg loss: 3.394281\n"
     ]
    },
    {
     "data": {
      "application/vnd.jupyter.widget-view+json": {
       "model_id": "756da8e41b014851a345ad2c6ad80f65",
       "version_major": 2,
       "version_minor": 0
      },
      "text/plain": [
       "Epoch 85:   0%|          | 0/25 [00:00<?, ?it/s]"
      ]
     },
     "metadata": {},
     "output_type": "display_data"
    },
    {
     "name": "stdout",
     "output_type": "stream",
     "text": [
      "Epoch 85 done — avg loss: 3.392721\n"
     ]
    },
    {
     "data": {
      "application/vnd.jupyter.widget-view+json": {
       "model_id": "597cdc77ae3043dbb2124248b6d97642",
       "version_major": 2,
       "version_minor": 0
      },
      "text/plain": [
       "Epoch 86:   0%|          | 0/25 [00:00<?, ?it/s]"
      ]
     },
     "metadata": {},
     "output_type": "display_data"
    },
    {
     "name": "stdout",
     "output_type": "stream",
     "text": [
      "Epoch 86 done — avg loss: 3.391344\n"
     ]
    },
    {
     "data": {
      "application/vnd.jupyter.widget-view+json": {
       "model_id": "4181fd6bc47c48f6aefb178a13c6958e",
       "version_major": 2,
       "version_minor": 0
      },
      "text/plain": [
       "Epoch 87:   0%|          | 0/25 [00:00<?, ?it/s]"
      ]
     },
     "metadata": {},
     "output_type": "display_data"
    },
    {
     "name": "stdout",
     "output_type": "stream",
     "text": [
      "Epoch 87 done — avg loss: 3.389900\n"
     ]
    },
    {
     "data": {
      "application/vnd.jupyter.widget-view+json": {
       "model_id": "f73595adfea74f1abeee1b68de723d62",
       "version_major": 2,
       "version_minor": 0
      },
      "text/plain": [
       "Epoch 88:   0%|          | 0/25 [00:00<?, ?it/s]"
      ]
     },
     "metadata": {},
     "output_type": "display_data"
    },
    {
     "name": "stdout",
     "output_type": "stream",
     "text": [
      "Epoch 88 done — avg loss: 3.388667\n"
     ]
    },
    {
     "data": {
      "application/vnd.jupyter.widget-view+json": {
       "model_id": "9c7b33dec1f94bbb98e29080c3189ebd",
       "version_major": 2,
       "version_minor": 0
      },
      "text/plain": [
       "Epoch 89:   0%|          | 0/25 [00:00<?, ?it/s]"
      ]
     },
     "metadata": {},
     "output_type": "display_data"
    },
    {
     "name": "stdout",
     "output_type": "stream",
     "text": [
      "Epoch 89 done — avg loss: 3.387566\n"
     ]
    },
    {
     "data": {
      "application/vnd.jupyter.widget-view+json": {
       "model_id": "e6ee3e209f204d9e8344430222a280ae",
       "version_major": 2,
       "version_minor": 0
      },
      "text/plain": [
       "Epoch 90:   0%|          | 0/25 [00:00<?, ?it/s]"
      ]
     },
     "metadata": {},
     "output_type": "display_data"
    },
    {
     "name": "stdout",
     "output_type": "stream",
     "text": [
      "Epoch 90 done — avg loss: 3.386124\n"
     ]
    },
    {
     "data": {
      "application/vnd.jupyter.widget-view+json": {
       "model_id": "aeb018cdd2ea416aaaafc7018a8204cd",
       "version_major": 2,
       "version_minor": 0
      },
      "text/plain": [
       "Epoch 91:   0%|          | 0/25 [00:00<?, ?it/s]"
      ]
     },
     "metadata": {},
     "output_type": "display_data"
    },
    {
     "name": "stdout",
     "output_type": "stream",
     "text": [
      "Epoch 91 done — avg loss: 3.384131\n"
     ]
    },
    {
     "data": {
      "application/vnd.jupyter.widget-view+json": {
       "model_id": "ad890b94dc554e168453f5a714931a66",
       "version_major": 2,
       "version_minor": 0
      },
      "text/plain": [
       "Epoch 92:   0%|          | 0/25 [00:00<?, ?it/s]"
      ]
     },
     "metadata": {},
     "output_type": "display_data"
    },
    {
     "name": "stdout",
     "output_type": "stream",
     "text": [
      "Epoch 92 done — avg loss: 3.382702\n"
     ]
    },
    {
     "data": {
      "application/vnd.jupyter.widget-view+json": {
       "model_id": "a82d28841cab4d238a18cf870d24493e",
       "version_major": 2,
       "version_minor": 0
      },
      "text/plain": [
       "Epoch 93:   0%|          | 0/25 [00:00<?, ?it/s]"
      ]
     },
     "metadata": {},
     "output_type": "display_data"
    },
    {
     "name": "stdout",
     "output_type": "stream",
     "text": [
      "Epoch 93 done — avg loss: 3.380780\n"
     ]
    },
    {
     "data": {
      "application/vnd.jupyter.widget-view+json": {
       "model_id": "8521526f981247b8aa30ce0b5c4545a7",
       "version_major": 2,
       "version_minor": 0
      },
      "text/plain": [
       "Epoch 94:   0%|          | 0/25 [00:00<?, ?it/s]"
      ]
     },
     "metadata": {},
     "output_type": "display_data"
    },
    {
     "name": "stdout",
     "output_type": "stream",
     "text": [
      "Epoch 94 done — avg loss: 3.378911\n"
     ]
    },
    {
     "data": {
      "application/vnd.jupyter.widget-view+json": {
       "model_id": "b2b3e5f4f72442e4b3f71f238fc89f92",
       "version_major": 2,
       "version_minor": 0
      },
      "text/plain": [
       "Epoch 95:   0%|          | 0/25 [00:00<?, ?it/s]"
      ]
     },
     "metadata": {},
     "output_type": "display_data"
    },
    {
     "name": "stdout",
     "output_type": "stream",
     "text": [
      "Epoch 95 done — avg loss: 3.377382\n"
     ]
    },
    {
     "data": {
      "application/vnd.jupyter.widget-view+json": {
       "model_id": "54c2cb9aaeb4441d9282d180adbef316",
       "version_major": 2,
       "version_minor": 0
      },
      "text/plain": [
       "Epoch 96:   0%|          | 0/25 [00:00<?, ?it/s]"
      ]
     },
     "metadata": {},
     "output_type": "display_data"
    },
    {
     "name": "stdout",
     "output_type": "stream",
     "text": [
      "Epoch 96 done — avg loss: 3.375954\n"
     ]
    },
    {
     "data": {
      "application/vnd.jupyter.widget-view+json": {
       "model_id": "077656ca56c6403ebe38e1b3d5f56782",
       "version_major": 2,
       "version_minor": 0
      },
      "text/plain": [
       "Epoch 97:   0%|          | 0/25 [00:00<?, ?it/s]"
      ]
     },
     "metadata": {},
     "output_type": "display_data"
    },
    {
     "name": "stdout",
     "output_type": "stream",
     "text": [
      "Epoch 97 done — avg loss: 3.374703\n"
     ]
    },
    {
     "data": {
      "application/vnd.jupyter.widget-view+json": {
       "model_id": "8732c6c1d9e2425a848166e601c7102b",
       "version_major": 2,
       "version_minor": 0
      },
      "text/plain": [
       "Epoch 98:   0%|          | 0/25 [00:00<?, ?it/s]"
      ]
     },
     "metadata": {},
     "output_type": "display_data"
    },
    {
     "name": "stdout",
     "output_type": "stream",
     "text": [
      "Epoch 98 done — avg loss: 3.372458\n"
     ]
    },
    {
     "data": {
      "application/vnd.jupyter.widget-view+json": {
       "model_id": "ed8d5c186d7148f3bb8a304a4f113f6c",
       "version_major": 2,
       "version_minor": 0
      },
      "text/plain": [
       "Epoch 99:   0%|          | 0/25 [00:00<?, ?it/s]"
      ]
     },
     "metadata": {},
     "output_type": "display_data"
    },
    {
     "name": "stdout",
     "output_type": "stream",
     "text": [
      "Epoch 99 done — avg loss: 3.371199\n"
     ]
    },
    {
     "data": {
      "application/vnd.jupyter.widget-view+json": {
       "model_id": "54b640fad8634a0fb2af3967cd5e28fd",
       "version_major": 2,
       "version_minor": 0
      },
      "text/plain": [
       "Epoch 100:   0%|          | 0/25 [00:00<?, ?it/s]"
      ]
     },
     "metadata": {},
     "output_type": "display_data"
    },
    {
     "name": "stdout",
     "output_type": "stream",
     "text": [
      "Epoch 100 done — avg loss: 3.370519\n"
     ]
    }
   ],
   "source": [
    "train_soft_prompt(loader, model, soft_prompt, optimizer, 100)"
   ]
  },
  {
   "cell_type": "code",
   "execution_count": null,
   "metadata": {
    "id": "HlDgT3oQoOPF"
   },
   "outputs": [],
   "source": [
    "model.eval();"
   ]
  },
  {
   "cell_type": "code",
   "execution_count": null,
   "metadata": {
    "colab": {
     "base_uri": "https://localhost:8080/",
     "height": 66,
     "referenced_widgets": [
      "7bee4dc10f5640d88e189c393447574a",
      "9264bf31b7b842d3a1f906948bf196e2",
      "4e254a4f004f4438b815af5df12c1d1b",
      "3b4c26512d434eaa8e86ff9beee0051a",
      "117fbacc41ea4f7c80339f62bd1c3a96",
      "c56c8a1858124eeea149bf83ccfb6c43",
      "1a137bb6ac0c40e390ed659b697c3c50",
      "f5026909491742e9bbe03f14a5e80bd4",
      "dba0336937cc42d7a7322b8a07156984",
      "a702801b1ed145a5b93f3c1fb5aa5e82",
      "70110a0b8fab4cdeb5ef20ffdff98678",
      "9d0614bef1524f8a85c26813dc33046b",
      "b602e7ec2e5d481b9ba9d259ce1f9705",
      "1de2ba8b803c4e9d8d42720ed0be3dba",
      "b58e68a0cf064770b6e11753d532c08f",
      "d3f1d803c9224a068d62c3d6001f4853",
      "754987d0eda346a48c0ebad5d2de648f",
      "120ab07b20df485e8df38ca5f6b0e2e8",
      "77cb909605ae4f62aef5576427744a3d",
      "528805491f194d12ac6aec77a73a309d",
      "1f32abae8d324539815a692f4e9fab60",
      "901725a6ae214b249fa050fe4fe86054",
      "8258ef481eb442c2955395b0bb12eae3",
      "04012ae508334a62850aae59b3e65f8a",
      "53c2332421b948cb860da1a8f2b8799c",
      "5ae987d3a4dd49a382156ba2c3b4c1df",
      "5140f40427584b25a8e65b6799b8e401",
      "c0e8b744fb4c4989816e6ca993c01721",
      "49d89efc76614856ab3c5b16c18bf882",
      "ff175f997d0a47cfbf4d1f5c05062114",
      "88c4bffa99be4d2eb318b90db1df1fc0",
      "2433710ed0d74e039d6b45fa607da638",
      "8e0ae7837cf940de98d02e8b59836217",
      "b4c300dcb1cb48f791935732629a0dca",
      "90f5e385b56d40949b7c2af2cfed0100",
      "f593c3ee4d084bc9984c952e7d05906a",
      "1f3bdd14f95e4b679e026b75c436df98",
      "0a91e72f4b2c494e84257bda152eeda7",
      "9b2bb75965f847bfa787000a83518dd6",
      "32a2bd97ebcd420584614369fb92d59c",
      "2b7b2a71ac9a40d89de97d9e8e4b65b6",
      "c0bde0e0bd424ec6978f7cd7e401ecca",
      "a39d7e538765497c9a8dbce30663f81b",
      "9ad98c97d87b46799c7354d4282d144e",
      "72b6e741d31047cda1e19f62c7a523e8",
      "dcc3be87f99442daafd467ef434bd50c",
      "962568d232824e48aa84b6914808022f",
      "edb987d1d6a64112890f01ad3b191c0d",
      "26798e558aba4ff292a1b29a75ac352b",
      "a27d14e6bab44a2b8ee9ececf428a9b1",
      "002349455dcb47bf9f99ae46f5022082",
      "0c3468e3cb7149518994a465cee3f730",
      "2a6dc71bbdbd4f8ca0b21810b51ceb2a",
      "9a05f7d30d88429b9554541b1e53c466",
      "8fd52c2a49334ec6ab975905ab28cdb9",
      "24f2b9cfed7b45bbb4c937125a385430",
      "ee2d1c368c5647408a5275fced722f50",
      "dec244c51a1c4e49b9321a3b85855d67",
      "45e4fab4beb8449a91bef7d48dd1c3c9",
      "ba2d4010f8ab4bb7981f70d2c60a0f90",
      "d590015bfc57471283bae9a89bc9b6a8",
      "21edf75fa1b846558bea9df5ce96cf29",
      "8cfc1937367f407daaa05e186adcef3b",
      "bd328680bc37470f8ef59954da19f1d4",
      "d171d12226084c1cb0ad44f2e283cd21",
      "7a6ae86d3aee4bb290de1c817ffcf1ec",
      "4d18c90bb42645168a28f13db544a837",
      "281389bb95a34f82bd691ab5f0fd25ef",
      "87f4932ce81b469a9bfc91742d46d369",
      "686527201d9346eebbb6834e71908d01",
      "8ecc80af312c44be80d24a4b64c2ebdf",
      "2535bcb365394c709163ddd07eff74ee",
      "af03a4501eb247e4a423f2eb8d3d0bfb",
      "0715466415b04138b656451d5d766e06",
      "872a11ca347b495f8b85d9cf3d9f2045",
      "dca232ef954143c79ddba5528847c249",
      "d3e444a017624412b3db34c0710b8902",
      "912a518d52f34c1c82bf5a86a6ce996e",
      "1b44c1da65cb4c77aadc84951c96670a",
      "edbf4166a3cf44238b97e966afbe7355",
      "17ee1e688d494589b342625a2a2c89ab",
      "cba5159a8222405eac1a8a99f0c0a904",
      "a3836597f5e24fa6bd59dc85ef169e4c",
      "ec467d1095d445489efea6a5b9c55f45",
      "ea52520602ae47069eaac46fc2256071",
      "8ba0bb26b0984f2f9ba72d44b5c28612",
      "c18b1469bb1f4a328f5be22059d84576",
      "3f961113c8b64f30a762f3e849bfb64e",
      "e759a87cb5a04f2489b96126340d07e7",
      "80e01a0a4ba3457a81ba7becd02c222b",
      "6e18e6b220ea4ba4b91457329f4964a0",
      "e5761f5eb85c47fe98d616e41d873b33",
      "440c23a6800a435283302d7322d0fc73",
      "dcd857eb1a8d44888de4bc82438e3d2e",
      "c23528983d684235b6c69bb2fe5a70ac",
      "bfc46d55064946e69faa31f0058cb702",
      "6d17b163d12445ba9120a38f6011098f",
      "a5ade9d74bc144f8a7141c99ae687162",
      "3a24cf1d5dda4f4783d6bda73a8159ea",
      "43bdbc76c2b941f0993d674d2cb864cb",
      "14922453b6024bcf9521b8a70039921b",
      "c7a78f1730e5419c81366ad126fdba6c",
      "975a5a150d5c4ac08ee6d09a0406b223",
      "ae8dc992042b4b69be711caf6aa663db",
      "e6184fa1e4614b9280a4e5108104f73c",
      "20fe9565cf67446e849db88d1dc94226",
      "a3630adb619e44dc8afc8bb0e1d2858a",
      "5d69ed1dcecd41ecb97f27f72edd62af",
      "7751baf3cee147609ae3465bf547a730",
      "a486bdf90d9f4f6fa8f496ac0ab08686",
      "048c4517439b41ddaf29c3edd5152fa2",
      "eeab9753862d4e8bb301acc3b3f992fe",
      "2ff0effebc0d4d02a2b52224c283f126",
      "769fd74fdf794dc3a856c3b39f7dad7c",
      "9b1f8f466a09497b8e476f41de98ca6e",
      "93de097a6a76428db352ad1c0087a23c",
      "021379241b15420b99d2d761e4635293",
      "d17442de3ecb4b00a4194ed3b8649f6b",
      "f429830d6bbf448c93d9bf88d34c3c7d",
      "75e8bed0b435423cb1b88bc68aa26341",
      "af0c35ed53ec41b2a45fde321f6fb2a4",
      "2ebc0965e41545c2840d2c143063f2a5",
      "a1060129bc364fe38d5ddcdb6533b29a",
      "adbd1833f4494d46ad0a1502381516b1",
      "22a5b23a51bf4c82bfef108c14fb1c73",
      "c36cc709ad3c42f0b17f35efe85c75ba",
      "14ba35674e2a493ea7efcf19507484a5",
      "472a629190464c0fa0d89317856b667d",
      "6d0026fc671243d6b24250ef2bdef755",
      "8bebed4d29cc42129fd353ccfd4e663a",
      "e76826fc512c46bf94738382c7aa2d99",
      "84ff660640fd4001a448f0f1eb331a71",
      "2debfa526ccb4763a61ab41b8193d6e2",
      "b60b05dcebbf4228a5c320ab4a9ee591",
      "7dad9b58ac614a3b8f03a32d972705fe",
      "b48ce94db0c942a28343beb707cfd831",
      "5716bc8857674104abd4659e4ac6d48c",
      "3a9a52f9a4d04332a3e33f97e67ad42f",
      "a5a398eb79ad42a8955c1249b180e5db",
      "c34329209fbf4656a6f9619b0e8d0141",
      "135a6834dc0d4567bcf5003e004f0061",
      "81c82e5b2f824772a4520bc22ef8e598",
      "2890918c649a4b4a85736b6da955e9b9",
      "0f9d1d3fb6424eceb82bc02f6376eadb",
      "54818f47da474320a4900e4f7b32f38f",
      "ffcfc73982c44a42b21c6f8ef273d8d1",
      "4723599ebba042e298cbf0d69a7b14de",
      "5c7ad121c5c741ab9c1304b46db58fca",
      "d741c8b319a84ef6953c1a92afece912",
      "3af4854c5eb548a991235400f2331f99",
      "c00222bd463f450d9c0f8ca6524d7223",
      "dc0b296896b44d1983965291d0700ddb",
      "d5ab1afe67824bb0b774f64660664cc6",
      "39b5c2de908a4b36baabb328ee989064",
      "b3c0d339d3204ef3b7b163791f2ea4af",
      "54b0935f329241d3ae4470ebd375e8cd",
      "6f8cc549d0c948a58192d2daadc073c6",
      "d0566cac132c4780a2d3b95fa77d9ad7",
      "ad0df86cc4ec4719bf079f06b411ed08",
      "5774a94cadd34f4a8ce6730101e5838d",
      "72aaa608c8644f83b16f6ef1215c11a6",
      "f8d76520bec54ce8b525f447341c4819",
      "df784515006d489fa13cfffe86ae0a90",
      "388fe986b4524f788a8a1e7374e1ffab",
      "3aa7ea1002e942ecad2b37bab575ab04",
      "a9453eb768aa434ba8c0dd578c64e49a",
      "8fe4b64ec16c400b8ef3bb1ae649b14c",
      "5b8d1ab2dd0b406997db08ac10c70dd3",
      "55303d36f60f47879a95ed5e5572e341",
      "cd1adbb816194aa6b12d87fba91fd4b2",
      "0a4d1cee43db4e318efd5691041a7adf",
      "a2289dabc8d04ff4ab8ccc9499b82dd7",
      "cdb6661073f54889b6163c782dcbcb42",
      "0c19cd302b8a4ab198532b40011d653a",
      "c455c1a50231492ea9d64f7579d4c391",
      "2e9c0cec2a3342438c50a231d5f4025e",
      "ed21a183ab694be8bf9eb8562f3ba661",
      "5676234840f54374abd950c240b384e9",
      "76dc668167d6431b90424a839c8f0a34",
      "6751ef59ee93400da91f1b1e69d3f743",
      "02fe8faeb5204a87a84c94625eab813b",
      "e6638c41da7343968476925cdd0e3955",
      "d72619965a494894bee32facccbbd73c",
      "d055a739995644319360c141d2f19d1b",
      "2a277dfa7d1e4f5f973d056321d35f06",
      "5ac29b8ec8e04fb1a5f4004d84b5e4d6",
      "d090ce8c8b0241a5be6d95cc27c37742",
      "127ce091f56848bfa03a83ace5334a45",
      "52d67466ac5847e3a9bf955a575f0d92",
      "156fbf30743641f5b25f30373ee6b4e8",
      "2c780661eeda4365a59dc53202ef2b42",
      "4a42e23afba74a80bacb4c18b874a338",
      "ac665d1b0fe1405294eed0e44350c2db",
      "c5bb9218c1df47498953d9df317d98d3",
      "201122f1928a48edb896fa9e03a51600",
      "fd873693d92f450b8edfb9b232322e63",
      "fbf575c8488340918ae2655acfacec9a",
      "8493a92209c5452db04b7739334c4dbe",
      "1cff0e4372d64f96af1b9c1a763db893",
      "165a0c04292d499e8ed4ba87bf752755",
      "23204cec545c4ce69d49effde52a33c7",
      "0665f57a25c24b389d70963f4a74a5dd",
      "dda8dbd6cc184f738d04f1d244d174ef",
      "7cfe8c7ffde74b6da1be8644880b2709",
      "f8cb2689ae4a42c8a5584b9393209b99",
      "cd4cb8ab4e3e42fba8511bd9872b38ad",
      "fb732aa28a484168b4fb6e1084cdc913",
      "571be4e47441411da3fcbf90e6e0ab24",
      "871c22828daf47acb9789890f4a44459",
      "f00d731cd80244b9be6685eac424ce92",
      "e818ca8c4c1d430093d2b6a34ae2cc3e",
      "11f8fe9b6eff47e8a74f2246a3daf75f",
      "6f3e3c9473a34ba48ff307e66ea3f456",
      "94419e72553f48bba314c6fc0f201d8d",
      "67550b33420344ea95f2f3118ef31e00",
      "bfda56d9adb74a139765bc529724942b",
      "a153ccb5309448648a56e0d6a4cd2372",
      "2f9de846641449fb872b09365d115b55",
      "dca70f5370924d6fa6bf4603fc82269d",
      "ad9ec076940a47d3946a7116663e048e",
      "9526f8489dff42b1bfce6a5135bd7820",
      "7e6d15a349fc4abf8e6883a41ca46fc6",
      "6fee7d06fc014f3b8b628d8bc43aac11",
      "c433aa810621460099f9d276f5c65e09",
      "e0c326fa3e0f4308bb373eab4be7bdae",
      "008916a5b567477a9ba5fe73ce1ed743",
      "55df48728ae140c6b0b55fec56dca238",
      "70df1ac339db494286a97f2b044c8d45",
      "05ceaa8e93564772a35100899b3fb89c",
      "3eb1e81ec6354ac8b49f63042b6fb6e3",
      "469aaa661fde42ce9c027de88e85d796",
      "4b13b849308046ceb68e62b6d351e9db",
      "a4b8929b4b3c465ab9971ddb5c86e412",
      "e4cb64ff69b541129fb716242192c657",
      "4dbf479b0e8541ed90a991f895093a9f",
      "909a1e75685e451ca639ab80ef94b54a",
      "d068feff53774d2fbb7612e720ece6e1",
      "fd45149d1e9a4b9d9bd483452263d5b5",
      "112b412df7284953a0a3b9cfc1144477",
      "c7b0a96462ca435ca21c3407bdd9be0e",
      "cfb37fd95b5b4e96a21dd325f9c7d1e2",
      "d4446e6f16a346a680a4705cc6bd1c95",
      "690e57cf843e4998bf57cdb764a13391",
      "132b8c2ecab442acbe0a5e9559893332",
      "9bce6a208c1e42438f73c09fc87dd6c6",
      "0f19857638a74570acc2241a0e7a2f20",
      "4e53257506b5463bb71c11f43e3dd122",
      "5d1c855122d3493fb9e551f8b02fdb45",
      "240537a857ca41fe8a1a81180443cba7",
      "694bedffbd79402aa0000f79192a6331",
      "b9da614ca6dd4c389ed66735ca83e09e",
      "3c2d1cbff60d47578bc1b30495f4be22",
      "b5ddfe5c63df481cae94898556d08781",
      "250ea900fba2422ea558fbd481cee39f",
      "902de22d38f84145bcaf701d5dbf718d",
      "22d01dc753b64c708a44cc14137b69d9",
      "a8a6492fffca4cf3988c6e0fc0252dbf",
      "973f12006df447949cfcceff2c983d29",
      "af370fea51d140cebec60040ee5c7d57",
      "9984a4e47a1c424295d41bbc837d7602",
      "41dd4b62360a417a85b62aad5221618e",
      "25ed327dbce44a249924ef74e3522495",
      "e0b51a86bca54b2f926585deaacfaaf1",
      "f1b0fadb69d94ebcbbc1ad07761416c1",
      "caf6f595f45f4982bb0d3eef1eb08e4f",
      "ffa8386a41da44efac93a6a4820f6bb8",
      "4c75a225a2554a938ab5813660c17179",
      "fdfa149541df445ea080ece7d1fb93f2",
      "d36d736269e6435db9f2a319ee822fb7",
      "5a47b947c2c8401195fa41253415a880",
      "e16a9adbe0fb463e9758efe83c17ee10",
      "5ce3dcc876b74c8e8b4e3ac566a5a417",
      "d2ea1dd97f0b4d39a3633ba539c7dd48",
      "549fa291a02a445cb08166506bf97575",
      "12d7f341c80f4e6b86ed65fd69c9ce8f",
      "01aa7bfe026f411e820ec21d9b572dce",
      "dccf18e6f3514a1dbbbefdcb5d3440de",
      "21892c3b9de843ff89f103202864e8b2",
      "0f70054689dc43529a97420f598e63bb",
      "160f5eaa13b34da1a671b146c610f444",
      "328810b23c9f4282bd6a6f4b90895607",
      "9f6fd343a319474b9bfb3700263857c2",
      "2b998e04e8804a059ea7fa8266471108",
      "63e38a953cb74946b6d6cb8712ed969d",
      "b3f7cd967cf4415ab7ede605813baac1",
      "d43b88ff2c8c475abecacdbc7ff06baf"
     ]
    },
    "executionInfo": {
     "elapsed": 194453,
     "status": "ok",
     "timestamp": 1751486706244,
     "user": {
      "displayName": "Yulia Yorkshirelove",
      "userId": "10480095246692972307"
     },
     "user_tz": -180
    },
    "id": "4ytLK3zMoUd7",
    "outputId": "64ffd20e-0259-495b-c031-a2515b93c743"
   },
   "outputs": [
    {
     "data": {
      "application/vnd.jupyter.widget-view+json": {
       "model_id": "7bee4dc10f5640d88e189c393447574a",
       "version_major": 2,
       "version_minor": 0
      },
      "text/plain": [
       "Encoding chunks:   0%|          | 0/25 [00:00<?, ?it/s]"
      ]
     },
     "metadata": {},
     "output_type": "display_data"
    },
    {
     "data": {
      "application/vnd.jupyter.widget-view+json": {
       "model_id": "9d0614bef1524f8a85c26813dc33046b",
       "version_major": 2,
       "version_minor": 0
      },
      "text/plain": [
       "  Tokens in chunk:   0%|          | 0/668 [00:00<?, ?it/s]"
      ]
     },
     "metadata": {},
     "output_type": "display_data"
    },
    {
     "data": {
      "application/vnd.jupyter.widget-view+json": {
       "model_id": "8258ef481eb442c2955395b0bb12eae3",
       "version_major": 2,
       "version_minor": 0
      },
      "text/plain": [
       "  Tokens in chunk:   0%|          | 0/732 [00:00<?, ?it/s]"
      ]
     },
     "metadata": {},
     "output_type": "display_data"
    },
    {
     "data": {
      "application/vnd.jupyter.widget-view+json": {
       "model_id": "b4c300dcb1cb48f791935732629a0dca",
       "version_major": 2,
       "version_minor": 0
      },
      "text/plain": [
       "  Tokens in chunk:   0%|          | 0/572 [00:00<?, ?it/s]"
      ]
     },
     "metadata": {},
     "output_type": "display_data"
    },
    {
     "data": {
      "application/vnd.jupyter.widget-view+json": {
       "model_id": "72b6e741d31047cda1e19f62c7a523e8",
       "version_major": 2,
       "version_minor": 0
      },
      "text/plain": [
       "  Tokens in chunk:   0%|          | 0/589 [00:00<?, ?it/s]"
      ]
     },
     "metadata": {},
     "output_type": "display_data"
    },
    {
     "data": {
      "application/vnd.jupyter.widget-view+json": {
       "model_id": "24f2b9cfed7b45bbb4c937125a385430",
       "version_major": 2,
       "version_minor": 0
      },
      "text/plain": [
       "  Tokens in chunk:   0%|          | 0/577 [00:00<?, ?it/s]"
      ]
     },
     "metadata": {},
     "output_type": "display_data"
    },
    {
     "data": {
      "application/vnd.jupyter.widget-view+json": {
       "model_id": "4d18c90bb42645168a28f13db544a837",
       "version_major": 2,
       "version_minor": 0
      },
      "text/plain": [
       "  Tokens in chunk:   0%|          | 0/546 [00:00<?, ?it/s]"
      ]
     },
     "metadata": {},
     "output_type": "display_data"
    },
    {
     "data": {
      "application/vnd.jupyter.widget-view+json": {
       "model_id": "912a518d52f34c1c82bf5a86a6ce996e",
       "version_major": 2,
       "version_minor": 0
      },
      "text/plain": [
       "  Tokens in chunk:   0%|          | 0/453 [00:00<?, ?it/s]"
      ]
     },
     "metadata": {},
     "output_type": "display_data"
    },
    {
     "data": {
      "application/vnd.jupyter.widget-view+json": {
       "model_id": "e759a87cb5a04f2489b96126340d07e7",
       "version_major": 2,
       "version_minor": 0
      },
      "text/plain": [
       "  Tokens in chunk:   0%|          | 0/505 [00:00<?, ?it/s]"
      ]
     },
     "metadata": {},
     "output_type": "display_data"
    },
    {
     "data": {
      "application/vnd.jupyter.widget-view+json": {
       "model_id": "43bdbc76c2b941f0993d674d2cb864cb",
       "version_major": 2,
       "version_minor": 0
      },
      "text/plain": [
       "  Tokens in chunk:   0%|          | 0/453 [00:00<?, ?it/s]"
      ]
     },
     "metadata": {},
     "output_type": "display_data"
    },
    {
     "data": {
      "application/vnd.jupyter.widget-view+json": {
       "model_id": "048c4517439b41ddaf29c3edd5152fa2",
       "version_major": 2,
       "version_minor": 0
      },
      "text/plain": [
       "  Tokens in chunk:   0%|          | 0/568 [00:00<?, ?it/s]"
      ]
     },
     "metadata": {},
     "output_type": "display_data"
    },
    {
     "data": {
      "application/vnd.jupyter.widget-view+json": {
       "model_id": "2ebc0965e41545c2840d2c143063f2a5",
       "version_major": 2,
       "version_minor": 0
      },
      "text/plain": [
       "  Tokens in chunk:   0%|          | 0/500 [00:00<?, ?it/s]"
      ]
     },
     "metadata": {},
     "output_type": "display_data"
    },
    {
     "data": {
      "application/vnd.jupyter.widget-view+json": {
       "model_id": "2debfa526ccb4763a61ab41b8193d6e2",
       "version_major": 2,
       "version_minor": 0
      },
      "text/plain": [
       "  Tokens in chunk:   0%|          | 0/511 [00:00<?, ?it/s]"
      ]
     },
     "metadata": {},
     "output_type": "display_data"
    },
    {
     "data": {
      "application/vnd.jupyter.widget-view+json": {
       "model_id": "0f9d1d3fb6424eceb82bc02f6376eadb",
       "version_major": 2,
       "version_minor": 0
      },
      "text/plain": [
       "  Tokens in chunk:   0%|          | 0/487 [00:00<?, ?it/s]"
      ]
     },
     "metadata": {},
     "output_type": "display_data"
    },
    {
     "data": {
      "application/vnd.jupyter.widget-view+json": {
       "model_id": "b3c0d339d3204ef3b7b163791f2ea4af",
       "version_major": 2,
       "version_minor": 0
      },
      "text/plain": [
       "  Tokens in chunk:   0%|          | 0/456 [00:00<?, ?it/s]"
      ]
     },
     "metadata": {},
     "output_type": "display_data"
    },
    {
     "data": {
      "application/vnd.jupyter.widget-view+json": {
       "model_id": "a9453eb768aa434ba8c0dd578c64e49a",
       "version_major": 2,
       "version_minor": 0
      },
      "text/plain": [
       "  Tokens in chunk:   0%|          | 0/465 [00:00<?, ?it/s]"
      ]
     },
     "metadata": {},
     "output_type": "display_data"
    },
    {
     "data": {
      "application/vnd.jupyter.widget-view+json": {
       "model_id": "ed21a183ab694be8bf9eb8562f3ba661",
       "version_major": 2,
       "version_minor": 0
      },
      "text/plain": [
       "  Tokens in chunk:   0%|          | 0/514 [00:00<?, ?it/s]"
      ]
     },
     "metadata": {},
     "output_type": "display_data"
    },
    {
     "data": {
      "application/vnd.jupyter.widget-view+json": {
       "model_id": "127ce091f56848bfa03a83ace5334a45",
       "version_major": 2,
       "version_minor": 0
      },
      "text/plain": [
       "  Tokens in chunk:   0%|          | 0/426 [00:00<?, ?it/s]"
      ]
     },
     "metadata": {},
     "output_type": "display_data"
    },
    {
     "data": {
      "application/vnd.jupyter.widget-view+json": {
       "model_id": "1cff0e4372d64f96af1b9c1a763db893",
       "version_major": 2,
       "version_minor": 0
      },
      "text/plain": [
       "  Tokens in chunk:   0%|          | 0/537 [00:00<?, ?it/s]"
      ]
     },
     "metadata": {},
     "output_type": "display_data"
    },
    {
     "data": {
      "application/vnd.jupyter.widget-view+json": {
       "model_id": "f00d731cd80244b9be6685eac424ce92",
       "version_major": 2,
       "version_minor": 0
      },
      "text/plain": [
       "  Tokens in chunk:   0%|          | 0/494 [00:00<?, ?it/s]"
      ]
     },
     "metadata": {},
     "output_type": "display_data"
    },
    {
     "data": {
      "application/vnd.jupyter.widget-view+json": {
       "model_id": "9526f8489dff42b1bfce6a5135bd7820",
       "version_major": 2,
       "version_minor": 0
      },
      "text/plain": [
       "  Tokens in chunk:   0%|          | 0/600 [00:00<?, ?it/s]"
      ]
     },
     "metadata": {},
     "output_type": "display_data"
    },
    {
     "data": {
      "application/vnd.jupyter.widget-view+json": {
       "model_id": "4b13b849308046ceb68e62b6d351e9db",
       "version_major": 2,
       "version_minor": 0
      },
      "text/plain": [
       "  Tokens in chunk:   0%|          | 0/473 [00:00<?, ?it/s]"
      ]
     },
     "metadata": {},
     "output_type": "display_data"
    },
    {
     "data": {
      "application/vnd.jupyter.widget-view+json": {
       "model_id": "690e57cf843e4998bf57cdb764a13391",
       "version_major": 2,
       "version_minor": 0
      },
      "text/plain": [
       "  Tokens in chunk:   0%|          | 0/494 [00:00<?, ?it/s]"
      ]
     },
     "metadata": {},
     "output_type": "display_data"
    },
    {
     "data": {
      "application/vnd.jupyter.widget-view+json": {
       "model_id": "250ea900fba2422ea558fbd481cee39f",
       "version_major": 2,
       "version_minor": 0
      },
      "text/plain": [
       "  Tokens in chunk:   0%|          | 0/495 [00:00<?, ?it/s]"
      ]
     },
     "metadata": {},
     "output_type": "display_data"
    },
    {
     "data": {
      "application/vnd.jupyter.widget-view+json": {
       "model_id": "caf6f595f45f4982bb0d3eef1eb08e4f",
       "version_major": 2,
       "version_minor": 0
      },
      "text/plain": [
       "  Tokens in chunk:   0%|          | 0/442 [00:00<?, ?it/s]"
      ]
     },
     "metadata": {},
     "output_type": "display_data"
    },
    {
     "data": {
      "application/vnd.jupyter.widget-view+json": {
       "model_id": "01aa7bfe026f411e820ec21d9b572dce",
       "version_major": 2,
       "version_minor": 0
      },
      "text/plain": [
       "  Tokens in chunk:   0%|          | 0/452 [00:00<?, ?it/s]"
      ]
     },
     "metadata": {},
     "output_type": "display_data"
    },
    {
     "name": "stdout",
     "output_type": "stream",
     "text": [
      "Encoding done in 194.38s\n"
     ]
    }
   ],
   "source": [
    "chunk_data = encode_with_soft_prompt(\n",
    "    dataset, model, soft_prompt)"
   ]
  },
  {
   "cell_type": "code",
   "execution_count": null,
   "metadata": {
    "colab": {
     "base_uri": "https://localhost:8080/",
     "height": 66,
     "referenced_widgets": [
      "4a5181014c95439fa1052ef2eddabf40",
      "688aa6f1138947199f6643ab3f581418",
      "acb117b410e048d59ec6c2f025a91b69",
      "efee9d08bade44eb8e5aa3a4c074ace0",
      "eb183a06cbdc4702bb390263f2aa8bfb",
      "c5cae79fa23140acb9d5979b9387daba",
      "efdc6f2b90bf493eba778ad727314981",
      "da32e2518b2b45f8b8ecb6da551a5ff8",
      "1247d0af10644bfead4085bbc1ee801c",
      "db402cfbe67341029c7d1986831f5d0f",
      "e77157ee0bfd468d890df979b3979960",
      "bafff330aafc4761973545d678a711f6",
      "5c7153647d6c4a22aaa30d4d19f63e3d",
      "fbd2915957914736bd5b1fb3bc5cf730",
      "3e76d261ae9b48359ec970f61ddeec4c",
      "cac87cf3d4b54d038aaa4c9a827b14ec",
      "839a6a83a7ca41c6b9d67a692dad8a8a",
      "a4b58d1802d24183a8bd6a141ec30cdc",
      "9c246534d0894b4b9bca44c0eda52d10",
      "4fbd3feaf2e340bfa2fe47a4454a2375",
      "10c11faac07f4174b6f9b4b6c62678d0",
      "349057939d1a4c81bfe39ad65c7d074b",
      "3f1f94ef83294ee5b52013d9d1a4b261",
      "bdd41f68f3fb4676b478771055786ce2",
      "6fb94217e0444f7693a17db6146f0f38",
      "17165d52a6674b808b5ee7fcc17c3c2a",
      "8ce504d0a2cb477290b88de68bea9daf",
      "30c0870bfc9e4615ab7e7a0f4711f5c9",
      "fb8693d0c97245a0bfdd2827553323a1",
      "65f54edc350f470fa8248503d9975c4d",
      "5c81d22e5a2b4a93be9b99ea1b890769",
      "fd0baf9b9b174b8b9152f63d1771e17a",
      "48fbf9f15f8247d7bae7b60cef292f28",
      "58a7dbaa07c84f8da4482f209cb1cfbc",
      "06040ecfa1da4052996ec87757af0add",
      "6e78b26969ab40bba52438490e2a205d",
      "4c636b5dc35846109d7eed99bc7e6592",
      "506612b160394a058b49ee767c3030a4",
      "1861463676ff4f5785a2f4d8ed062731",
      "defa452dff644076ae5bcc4ddf33f617",
      "6798cfaac59b4e29880cd8b1db516cdd",
      "61cd9e0e6bda494da8de235def86656c",
      "a631dcc43b2e4bb18270b0c7b17d9cb9",
      "6ab35b5439b14a6394f05917b351f26d",
      "f92bf2ea77a745f1aa1c072c3d438b2d",
      "cf7dbe3e6d4740f59bb04dcf961ca984",
      "7caf3fa65ec945b386adb0924bca76f9",
      "7864ae7c2db743bfaac662a47c26b637",
      "e3ae744ccd9941cca220992713c2749a",
      "3bcd8db6ac474662bc45fc7e5411a355",
      "6c74216ce0324856a0f6f2e3f77ac3c5",
      "09e65f927310437ea1575039ab783b5c",
      "da4161ad9fbf4e4985008751618d9363",
      "3fb5d238bdfc4d749e24645db7f98eef",
      "576d59fcaa24443398a20c73d09b0f0f",
      "ec90a6ba835f477386fd640855488133",
      "fda03f75367244e384374c52028824d1",
      "3ff0228b8e494316af2390473bba4889",
      "613abf2b00d44461ba6d21a1677ac562",
      "0cfee75026824cfbb1739f662d58a1bb",
      "1b38447eea5b40e5891c79cfe5cd05fb",
      "61a476a588ab4dfd98c5e019bc2d4bf0",
      "dc5dc894d860416eaca624a023999c1d",
      "27fbf9b8dad64020aa1a9759852caaa5",
      "934b899133744689a2bd1c7fcf2826ce",
      "4aa1b46d63e643d48f113c3c4541e039",
      "895feed756584c54b0da003c25332da3",
      "66050afbcfd0498fbdc7458f831f0826",
      "4001212207dc492da60c24151e4d7d0b",
      "2ead35db6e29477db54812491d34f6c4",
      "06094897c24e49d29b61f0f2b345f23a",
      "68b7f096a6d148618a6af2f9dad16e46",
      "4fb92ff4c711478e850b9c441575fa17",
      "164cfa72b2564ad3a74414053c1f9cdf",
      "162e5e9e9eb84bb587ca381958bab392",
      "52672c3fa7fc4042a8f1e4d1b683dab5",
      "d0d97cdb3f5547ea945c1e5d7a1ddb95",
      "3924ab957a0d48d58385149352c4e030",
      "e9a18311a8cf46bf9d9238c04c6f4063",
      "0733ab22de5141e09b6b23c789d414f1",
      "f4673f8a47c44758903b6780df6c55a0",
      "b063fbc88f514de9ac96dbfabf23f5cb",
      "69503741c1094f69b71c7f1d93b8aa9c",
      "63d0be7f529b48c88c70b603db667b4b",
      "82cc9b5e208a4a3d9f62488d0fc91b6a",
      "5f2e01a742ec4c57ba88bb0a5adedc5b",
      "40ddee3409d24c8a9d483fbb0fe70f2c",
      "019b40c01a8e4a09a72fe35fecdb5a01",
      "dcc7b302f54648fca20741287cfe4993",
      "fd10d4c5244c410a90b807f29fb6859f",
      "6073fb081b9740ea9c21e0b209b607c9",
      "eba2e57cca6e447f8ea985749c748ce5",
      "0d0a0d7893614b8a9f7bd354e63ed3ce",
      "f7d5dae03ee04ec79771c66e88db924d",
      "6d31fe9da3f64ac3b1c0c168ea482f44",
      "a2d16926e9d0459a8bfa5e7830b59822",
      "102ce4a8322b4e16926805df54053a20",
      "7ece999e3fc2428ca8b901a8e80c0e1e",
      "2ea6a2442e63466da43c6ae9aa3d188c",
      "a3a143b8303f4b8baaf9b3067239be29",
      "4b1497a118e34adabb66b8adcae4a03c",
      "9754c4790f524bcd9b06810c91105cf4",
      "64f062be28164bc785928e41da9abfae",
      "5ff6ed0d03bc490c8826569e62679882",
      "0fdfdff65d83496c90a970a150e2e0d3",
      "842de3f0f9714fa5a6a5711f99c61305",
      "68bb2b0c1e72446b935366452b12be33",
      "915ad3de6e9c4915aea993cda8b02569",
      "9a581f29627745588f9f823270a2bb5e",
      "a8517a9c1c5844fb9d3c5bb25ac6524e",
      "8144fa0cbf5a41e398eb7da10cec32c5",
      "2a1309958462466ca39dbdb95d4a931a",
      "99aec344615c47f6a5da326ffcf04fef",
      "a8892cf5018840a9b4e8e5b6141b7bc8",
      "42a744a40a864e4aa5f2dfd4a6140614",
      "d75288a1c35b441eaaebba5d8f01154a",
      "1d27d28bc8c64e3cb0a15867bf9dc46f",
      "f6ff0c24bcf844a5aa86ecc4b5310da0",
      "2ed9d7c9f3db42e5b582093644b94690",
      "7f3519d4a40643c2be07594460cb308b",
      "cc2f1ca9122a4b328e216d3fc4ab140e",
      "9c1cc56c54f94eecbf65a28b8a0abe3a",
      "510714fec97a42b99f0e19b5799ce533",
      "d5238f0f3f224b98b666d65029e202cc",
      "e02e38a94f67453f8c997e26d23f166f",
      "aee82d97214f48a49b1adfa0e731ce15",
      "275e7cf21c8c48d5b656ce02c6f38b29",
      "43c9e5ea5e69494ba5676b32afc9555c",
      "946800d2a5c24df086afaa84d2ea2c16",
      "88717414e5f5445cad222845cb239844",
      "2f5762df976e4556bb12c4b167d5eaec",
      "fb5a4fb0e2fa497bb8257306f17886de",
      "7b46860940e0419f914ade3275912658",
      "08ee7fa0ff474274a8ffe9d274dbf900",
      "c60606588a0341af87aa4fb851d4282d",
      "9ff5b7d8b35b484c8a5024c6de9d445d",
      "56087e5365bd428abc4357d600290edd",
      "0120fb951d654c4db86e300f66ab2733",
      "e0d459fe7cc94c1c8de5b8e0def6258e",
      "da25360178da45518351a88af529e299",
      "014b43f4a1dc41f2ab810dbfa1d200e7",
      "e657e9230878441aaef5a4f35cedad62",
      "ef89f7dcd0244a239a32cad9a1669b58",
      "0a1de1d2749f43629ad367543c936022",
      "3da0279aa50d4c22823ba0f07b826500",
      "f7efe86e01ec4ec386a74de29cd61c06",
      "849c27615c37467ebb2f994c238ce65f",
      "ef1eaa05fdb243d794dd279925e0986a",
      "40441938c1904028974799217f10e653",
      "8fc0914365da4bf18e759d432852fe85",
      "fb87dc2c67724c549219387c92f05c7e",
      "de67044610984e1ea071f0a155edf12c",
      "00f9d93a29c342f0b7e456e94c86da4f",
      "d169346d49114cbc8b0f386460e989f7",
      "886218cb609a49ad9459055083f79321",
      "e34e51b73fa2444dbc060897801dc86a",
      "288c2ffe2e334dfeba9141405d255155",
      "6d1da763f570493ab463459c40590be7",
      "520aee1595a6483f8e34c0c9e799a698",
      "4aa7e00414774b978d869ee7ec55f15c",
      "1dc8f533afc843b6b8f6db10f6d244c2",
      "50bc9a8b4d1942c5aab39f06b9f84620",
      "6515ef514f7e4e849046d692992ba33a",
      "38147a026664429eaf29bbfbd500cebd",
      "15772257823840e6b77677a56c44aa03",
      "610bc75a52174e719f1b4bc9e96917c0",
      "234d7efb5a75467dbd5bb175fb524a19",
      "3cfadec7754045a5bed88308217f4d28",
      "eea14452e1824d90a0e0736a8a10139e",
      "7b3ad891a8054303b08d37fa8d531fd0",
      "7321da04bac643e6bab785201d709be9",
      "6ad1033487a64de08c4f5fb008d65017",
      "ad4a96b70c3b4b4faaa3979a1b29c6b9",
      "b3f1f404d9624061ab1fc896e501d2de",
      "ccac5384d1ad41e48d8d22423e76805f",
      "d5ea8e24bc814ab580cf9357f0cddb1a",
      "54af5918b2c44cdfa78bf9149dc3ca9e",
      "7721d39f78ce4409a6c64bba4a6a1238",
      "d47be785adb04a40bd5e4a4094278f10",
      "006b364133c74342944217e8a533d143",
      "7a6b8868533d40f1b305d00422b35048",
      "15f3130651624e17a960d8128c8d9fc1",
      "8985f5e39acc4a94b52760460b8ca494",
      "0d2f6f8db4f44910bc77cc85d1cebbcf",
      "0829f6cdad2c4c5bae2b36075e936967",
      "0314fb5038f14c6791ada20b22e01e45",
      "1db3614d72ec4cae94ab39409fa12046",
      "1d83a79152a64c04816b535668d071c5",
      "2d5a3cc4f9e44eb6a0294cbb58670c81",
      "19cd1282505740b99b9db8f1d9d3ad02",
      "e88b38285bf24b65a3e44c9fcd03fa9a",
      "5d93c41fd4c045169c53ae608336ee9e",
      "a65c35b51e8341fdb1b5bbe1aaa8cf4a",
      "f70f287ee6954ba5a24685d49ab810fa",
      "f11f3fbe9ed4442797ec1071b4218d25",
      "1c96f4fb309f44acbc078a890e5a4105",
      "44e5fe80a39348aa8073563d39ea8b54",
      "63788630cd8048ce90492fe5a757ebe7",
      "f07775f94c484305b983f5ea634f7a6d",
      "dd1525a24d9e427aa1e86725005c8114",
      "bc8e310087684462b3d6b64f7c367e5c",
      "449232d19c6d44a1a62f28cfd476b10e",
      "6f8d93e4521544de93cfc4a6b17e2ebc",
      "ac875b97d77d445e965af2df5ceb6f98",
      "4f62846dc0be4fbeba87e8092b993f7d",
      "eae99b59649f4410a62f77f4476b3d89",
      "24c952cc202543b5a281be49c3c69e74",
      "84a2d855b47748bab7be197310bb45fa",
      "10d528411083447da54473c562a0e2d0",
      "d66651447d024a909a487130c8a0780a",
      "cb1217f2057c496daf16a17bc882b4b8",
      "5282349e4be94de6a67d3b6649fba165",
      "e9925bcf1efd4a36aa98be4751d5f47f",
      "eefe0b9451da44faaf2fd77e8768f0bc",
      "b1da8b4c7ec642219c693ffd28fd5208",
      "1e454635537344a5a22e262f0d80bce6",
      "db390030ea694f23b82976bfa7fae535",
      "4e1b1f4212b54ef19b7fb91cbeed4ebd",
      "6afe2627a3a147d48df81186a77af539",
      "5013bfb273254b57a43bc415803e302e",
      "84ea3ee57af8441e94eb43c696a3d9d2",
      "c2fb3b9cc9194da293bd6c195a4e5514",
      "8fae61d8c2c64a5da346590c21cdc704",
      "3a1e120f792249a8999507a107068d99",
      "06d31caf9b4f44db88a3318b888f7cbd",
      "0d5db975fdc7480f8ceb8e016ebe19a9",
      "140ed849e55e4f5683e0fe5117b6410d",
      "218f1298e45d469f88cfb4c78b4579a3",
      "bea3908592b54981bebf1e4ff1c8f9d5",
      "3d1c6fc6b728415b8ded53de3c62f0b2",
      "7df01dcf765247e8a715b3a7bc82df5d",
      "221e28f3536c4e3aae5e17b06269820d",
      "1e3e81a7d9cf465facc7778f253f599b",
      "48fe2e288889430aa53b93eb661dfd20",
      "e9aa86910fc04ea2af31a31ff376232e",
      "2cdd2b1c54db4c8e9d3b8d5485a366d0",
      "df8899c65496404c94396445a12d0771",
      "6df54ea8172f4897b700029624cb557c",
      "310ece557eea4fd485eb96e88f8fc40a",
      "bf517729866b40879aca10889f481ccf",
      "8d7e3195fa6f42608d0eec25df9ef4a4",
      "81d8211760b94a0aa259ad1dd22b5697",
      "f464fce5a76a4170a770566f8930e418",
      "4d88c73876b342bb845d88f0773f6ab9",
      "7b67e88d7c10418d8165823cba863b1d",
      "32212d6a936048198a4995d70b89ca8c",
      "0db3e01d7036459c83f9125458dc0f21",
      "07c39a37445f4b69a51ce84a94212fad",
      "36de47c6ee26465f9f329acbec72f095",
      "10a4accc9c7f4f14afc99068472ebb60",
      "9f611e6965de48d68e427715c5686441",
      "e09258eec64942c985f16985d5f2bb6e",
      "7f8a15c7893f4303be38a434b9104064",
      "42c70b550b714e29b3440b8bcb187cc1",
      "ca5c2ec9805e4887b2fff27c903c6e48",
      "e92568e106c04bfa8cf14abb80149a6e",
      "f4dbee14317d447b8778d00d650693b5",
      "d640d0b4336840a1a1d2f47205d8e613",
      "199d31fa33fe47b2879e68e85b31cb9c",
      "6707026c3c18449fb4799eb64181ce08",
      "2050af3ce4814ca895fd38112568e68b",
      "b2a5d0ee76eb4a75900c57a36ffeed84",
      "1cf038a2654e44b2b369972a69cee1b6",
      "80b51ee940374accac70ddc3e90ca8e5",
      "5e3125c96c1e4a0e921c50c371d95d21",
      "b1a67a0130b7402fa03ede3091d81dd2",
      "3052e27fc7fa4963bbf90e6cdbc4e8a5",
      "5c4b33b1005a487588dfde275cc376b6",
      "59c3b7ebb2974eb9ba6aa3110bdfe7cb",
      "0d24cd1ee5a24d099a95cf5cf4ef62b0",
      "eb341c8a009240c6b20d3235f0ba5940",
      "d1c752c3c10349808cff5e72f100ad1c",
      "53008cccb3e14362858baf56d7e560dc",
      "3248e5d650c34e2b8667b7a4f9c134ac",
      "7841e0ac5ef149549d8bb0b1d3dbe9eb",
      "4e949d4e43e2417692b83fec8f243fb6",
      "f36bfeeee7c244109009aace4970e025",
      "788cb0c8c6d74b55b80adcc6a4ec90a9",
      "aea4143c5f9e4048a1ee547f522c7801",
      "93980e610beb4115a34c32c195477698",
      "e709b2a657f44d1ebcdd107517981bd3",
      "f7693e756feb4bc9b4db622c405b8393",
      "c9faef9f530e42ab993b8e4c82a786a0",
      "a5328feaf5b749a691488d720c943eb8",
      "ec06d7b91ee34af882ed71ca8b5042e1",
      "dc433e4fee7a47ddb6464fcfa0538e93"
     ]
    },
    "executionInfo": {
     "elapsed": 195642,
     "status": "ok",
     "timestamp": 1751486901889,
     "user": {
      "displayName": "Yulia Yorkshirelove",
      "userId": "10480095246692972307"
     },
     "user_tz": -180
    },
    "id": "Y-kNn6PIoUlH",
    "outputId": "9879f2b7-5944-4c7a-f51b-783d2b84f4a1"
   },
   "outputs": [
    {
     "data": {
      "application/vnd.jupyter.widget-view+json": {
       "model_id": "4a5181014c95439fa1052ef2eddabf40",
       "version_major": 2,
       "version_minor": 0
      },
      "text/plain": [
       "Decoding chunks:   0%|          | 0/25 [00:00<?, ?it/s]"
      ]
     },
     "metadata": {},
     "output_type": "display_data"
    },
    {
     "data": {
      "application/vnd.jupyter.widget-view+json": {
       "model_id": "bafff330aafc4761973545d678a711f6",
       "version_major": 2,
       "version_minor": 0
      },
      "text/plain": [
       "  Tokens in chunk:   0%|          | 0/668 [00:00<?, ?it/s]"
      ]
     },
     "metadata": {},
     "output_type": "display_data"
    },
    {
     "data": {
      "application/vnd.jupyter.widget-view+json": {
       "model_id": "3f1f94ef83294ee5b52013d9d1a4b261",
       "version_major": 2,
       "version_minor": 0
      },
      "text/plain": [
       "  Tokens in chunk:   0%|          | 0/732 [00:00<?, ?it/s]"
      ]
     },
     "metadata": {},
     "output_type": "display_data"
    },
    {
     "data": {
      "application/vnd.jupyter.widget-view+json": {
       "model_id": "58a7dbaa07c84f8da4482f209cb1cfbc",
       "version_major": 2,
       "version_minor": 0
      },
      "text/plain": [
       "  Tokens in chunk:   0%|          | 0/572 [00:00<?, ?it/s]"
      ]
     },
     "metadata": {},
     "output_type": "display_data"
    },
    {
     "data": {
      "application/vnd.jupyter.widget-view+json": {
       "model_id": "f92bf2ea77a745f1aa1c072c3d438b2d",
       "version_major": 2,
       "version_minor": 0
      },
      "text/plain": [
       "  Tokens in chunk:   0%|          | 0/589 [00:00<?, ?it/s]"
      ]
     },
     "metadata": {},
     "output_type": "display_data"
    },
    {
     "data": {
      "application/vnd.jupyter.widget-view+json": {
       "model_id": "ec90a6ba835f477386fd640855488133",
       "version_major": 2,
       "version_minor": 0
      },
      "text/plain": [
       "  Tokens in chunk:   0%|          | 0/577 [00:00<?, ?it/s]"
      ]
     },
     "metadata": {},
     "output_type": "display_data"
    },
    {
     "data": {
      "application/vnd.jupyter.widget-view+json": {
       "model_id": "895feed756584c54b0da003c25332da3",
       "version_major": 2,
       "version_minor": 0
      },
      "text/plain": [
       "  Tokens in chunk:   0%|          | 0/546 [00:00<?, ?it/s]"
      ]
     },
     "metadata": {},
     "output_type": "display_data"
    },
    {
     "data": {
      "application/vnd.jupyter.widget-view+json": {
       "model_id": "3924ab957a0d48d58385149352c4e030",
       "version_major": 2,
       "version_minor": 0
      },
      "text/plain": [
       "  Tokens in chunk:   0%|          | 0/453 [00:00<?, ?it/s]"
      ]
     },
     "metadata": {},
     "output_type": "display_data"
    },
    {
     "data": {
      "application/vnd.jupyter.widget-view+json": {
       "model_id": "dcc7b302f54648fca20741287cfe4993",
       "version_major": 2,
       "version_minor": 0
      },
      "text/plain": [
       "  Tokens in chunk:   0%|          | 0/505 [00:00<?, ?it/s]"
      ]
     },
     "metadata": {},
     "output_type": "display_data"
    },
    {
     "data": {
      "application/vnd.jupyter.widget-view+json": {
       "model_id": "a3a143b8303f4b8baaf9b3067239be29",
       "version_major": 2,
       "version_minor": 0
      },
      "text/plain": [
       "  Tokens in chunk:   0%|          | 0/453 [00:00<?, ?it/s]"
      ]
     },
     "metadata": {},
     "output_type": "display_data"
    },
    {
     "data": {
      "application/vnd.jupyter.widget-view+json": {
       "model_id": "8144fa0cbf5a41e398eb7da10cec32c5",
       "version_major": 2,
       "version_minor": 0
      },
      "text/plain": [
       "  Tokens in chunk:   0%|          | 0/568 [00:00<?, ?it/s]"
      ]
     },
     "metadata": {},
     "output_type": "display_data"
    },
    {
     "data": {
      "application/vnd.jupyter.widget-view+json": {
       "model_id": "9c1cc56c54f94eecbf65a28b8a0abe3a",
       "version_major": 2,
       "version_minor": 0
      },
      "text/plain": [
       "  Tokens in chunk:   0%|          | 0/500 [00:00<?, ?it/s]"
      ]
     },
     "metadata": {},
     "output_type": "display_data"
    },
    {
     "data": {
      "application/vnd.jupyter.widget-view+json": {
       "model_id": "7b46860940e0419f914ade3275912658",
       "version_major": 2,
       "version_minor": 0
      },
      "text/plain": [
       "  Tokens in chunk:   0%|          | 0/511 [00:00<?, ?it/s]"
      ]
     },
     "metadata": {},
     "output_type": "display_data"
    },
    {
     "data": {
      "application/vnd.jupyter.widget-view+json": {
       "model_id": "0a1de1d2749f43629ad367543c936022",
       "version_major": 2,
       "version_minor": 0
      },
      "text/plain": [
       "  Tokens in chunk:   0%|          | 0/487 [00:00<?, ?it/s]"
      ]
     },
     "metadata": {},
     "output_type": "display_data"
    },
    {
     "data": {
      "application/vnd.jupyter.widget-view+json": {
       "model_id": "886218cb609a49ad9459055083f79321",
       "version_major": 2,
       "version_minor": 0
      },
      "text/plain": [
       "  Tokens in chunk:   0%|          | 0/456 [00:00<?, ?it/s]"
      ]
     },
     "metadata": {},
     "output_type": "display_data"
    },
    {
     "data": {
      "application/vnd.jupyter.widget-view+json": {
       "model_id": "610bc75a52174e719f1b4bc9e96917c0",
       "version_major": 2,
       "version_minor": 0
      },
      "text/plain": [
       "  Tokens in chunk:   0%|          | 0/465 [00:00<?, ?it/s]"
      ]
     },
     "metadata": {},
     "output_type": "display_data"
    },
    {
     "data": {
      "application/vnd.jupyter.widget-view+json": {
       "model_id": "54af5918b2c44cdfa78bf9149dc3ca9e",
       "version_major": 2,
       "version_minor": 0
      },
      "text/plain": [
       "  Tokens in chunk:   0%|          | 0/514 [00:00<?, ?it/s]"
      ]
     },
     "metadata": {},
     "output_type": "display_data"
    },
    {
     "data": {
      "application/vnd.jupyter.widget-view+json": {
       "model_id": "1d83a79152a64c04816b535668d071c5",
       "version_major": 2,
       "version_minor": 0
      },
      "text/plain": [
       "  Tokens in chunk:   0%|          | 0/426 [00:00<?, ?it/s]"
      ]
     },
     "metadata": {},
     "output_type": "display_data"
    },
    {
     "data": {
      "application/vnd.jupyter.widget-view+json": {
       "model_id": "f07775f94c484305b983f5ea634f7a6d",
       "version_major": 2,
       "version_minor": 0
      },
      "text/plain": [
       "  Tokens in chunk:   0%|          | 0/537 [00:00<?, ?it/s]"
      ]
     },
     "metadata": {},
     "output_type": "display_data"
    },
    {
     "data": {
      "application/vnd.jupyter.widget-view+json": {
       "model_id": "d66651447d024a909a487130c8a0780a",
       "version_major": 2,
       "version_minor": 0
      },
      "text/plain": [
       "  Tokens in chunk:   0%|          | 0/494 [00:00<?, ?it/s]"
      ]
     },
     "metadata": {},
     "output_type": "display_data"
    },
    {
     "data": {
      "application/vnd.jupyter.widget-view+json": {
       "model_id": "84ea3ee57af8441e94eb43c696a3d9d2",
       "version_major": 2,
       "version_minor": 0
      },
      "text/plain": [
       "  Tokens in chunk:   0%|          | 0/600 [00:00<?, ?it/s]"
      ]
     },
     "metadata": {},
     "output_type": "display_data"
    },
    {
     "data": {
      "application/vnd.jupyter.widget-view+json": {
       "model_id": "221e28f3536c4e3aae5e17b06269820d",
       "version_major": 2,
       "version_minor": 0
      },
      "text/plain": [
       "  Tokens in chunk:   0%|          | 0/473 [00:00<?, ?it/s]"
      ]
     },
     "metadata": {},
     "output_type": "display_data"
    },
    {
     "data": {
      "application/vnd.jupyter.widget-view+json": {
       "model_id": "f464fce5a76a4170a770566f8930e418",
       "version_major": 2,
       "version_minor": 0
      },
      "text/plain": [
       "  Tokens in chunk:   0%|          | 0/494 [00:00<?, ?it/s]"
      ]
     },
     "metadata": {},
     "output_type": "display_data"
    },
    {
     "data": {
      "application/vnd.jupyter.widget-view+json": {
       "model_id": "42c70b550b714e29b3440b8bcb187cc1",
       "version_major": 2,
       "version_minor": 0
      },
      "text/plain": [
       "  Tokens in chunk:   0%|          | 0/495 [00:00<?, ?it/s]"
      ]
     },
     "metadata": {},
     "output_type": "display_data"
    },
    {
     "data": {
      "application/vnd.jupyter.widget-view+json": {
       "model_id": "5e3125c96c1e4a0e921c50c371d95d21",
       "version_major": 2,
       "version_minor": 0
      },
      "text/plain": [
       "  Tokens in chunk:   0%|          | 0/442 [00:00<?, ?it/s]"
      ]
     },
     "metadata": {},
     "output_type": "display_data"
    },
    {
     "data": {
      "application/vnd.jupyter.widget-view+json": {
       "model_id": "4e949d4e43e2417692b83fec8f243fb6",
       "version_major": 2,
       "version_minor": 0
      },
      "text/plain": [
       "  Tokens in chunk:   0%|          | 0/452 [00:00<?, ?it/s]"
      ]
     },
     "metadata": {},
     "output_type": "display_data"
    },
    {
     "name": "stdout",
     "output_type": "stream",
     "text": [
      "Decoding done in 195.70s\n"
     ]
    }
   ],
   "source": [
    "all_rec = decode_with_soft_prompt(\n",
    "    chunk_data, model, soft_prompt)"
   ]
  },
  {
   "cell_type": "code",
   "execution_count": null,
   "metadata": {
    "id": "3T3x8VcXoXQG"
   },
   "outputs": [],
   "source": [
    "orig_ids = sum((entry['ids'].tolist() for entry in chunk_data), [])\n",
    "encoded_output = sum([entry['bits'] for entry in chunk_data], [])"
   ]
  },
  {
   "cell_type": "code",
   "execution_count": null,
   "metadata": {
    "colab": {
     "base_uri": "https://localhost:8080/"
    },
    "executionInfo": {
     "elapsed": 5,
     "status": "ok",
     "timestamp": 1751486901906,
     "user": {
      "displayName": "Yulia Yorkshirelove",
      "userId": "10480095246692972307"
     },
     "user_tz": -180
    },
    "id": "tPEoDfBzobj5",
    "outputId": "c51b0094-3ebf-4d9d-e2df-76812d6b4f1e"
   },
   "outputs": [
    {
     "name": "stdout",
     "output_type": "stream",
     "text": [
      "✅  Совпадают полностью!\n"
     ]
    }
   ],
   "source": [
    "compare_sequences(orig_ids, all_rec)"
   ]
  },
  {
   "cell_type": "code",
   "execution_count": null,
   "metadata": {
    "colab": {
     "base_uri": "https://localhost:8080/"
    },
    "executionInfo": {
     "elapsed": 3,
     "status": "ok",
     "timestamp": 1751486901910,
     "user": {
      "displayName": "Yulia Yorkshirelove",
      "userId": "10480095246692972307"
     },
     "user_tz": -180
    },
    "id": "w9XhAFKlobqp",
    "outputId": "3d192e7f-2129-46d9-938e-1dbe560051ec"
   },
   "outputs": [
    {
     "name": "stdout",
     "output_type": "stream",
     "text": [
      "Исходный размер:   400000 бит\n",
      "Размер после сжатия: 62589 бит\n",
      "Коэффициент сжатия: 0.1565\n"
     ]
    }
   ],
   "source": [
    "compression_stats(data, encoded_output)"
   ]
  }
 ],
 "metadata": {
  "accelerator": "GPU",
  "colab": {
   "authorship_tag": "ABX9TyN1w8xywODtkkPnr6cIebLC",
   "gpuType": "T4",
   "provenance": []
  },
  "kernelspec": {
   "display_name": "Python 3",
   "name": "python3"
  },
  "language_info": {
   "name": "python"
  }
 },
 "nbformat": 4,
 "nbformat_minor": 0
}
